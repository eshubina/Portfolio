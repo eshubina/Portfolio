{
 "cells": [
  {
   "cell_type": "markdown",
   "metadata": {},
   "source": [
    "### Сборный проект - 1: Исследование компьютерных игр"
   ]
  },
  {
   "cell_type": "markdown",
   "metadata": {},
   "source": [
    "#### Цель проекта\n",
    "Выявить закономерности, определяющие успешность компьютерной игры."
   ]
  },
  {
   "cell_type": "markdown",
   "metadata": {},
   "source": [
    "#### Описание проекта\n",
    "Вы работаете в интернет-магазине «Стримчик», который продаёт по всему миру компьютерные игры. Из открытых источников доступны исторические данные о продажах игр, оценки пользователей и экспертов, жанры и платформы (например, Xbox или PlayStation). \n",
    "\n",
    "Вам нужно выявить определяющие успешность игры закономерности. Это позволит сделать ставку на потенциально популярный продукт и спланировать рекламные кампании.\n",
    "\n",
    "Перед вами данные до 2016 года. Представим, что сейчас декабрь 2016 г., и вы планируете кампанию на 2017-й. Нужно отработать принцип работы с данными. Неважно, прогнозируете ли вы продажи на 2017 год по данным 2016-го или же 2027-й — по данным 2026 года.\n",
    "\n",
    "В наборе данных попадается аббревиатура ESRB (Entertainment Software Rating Board) — это ассоциация, определяющая возрастной рейтинг компьютерных игр. ESRB оценивает игровой контент и присваивает ему подходящую возрастную категорию, например, «Для взрослых», «Для детей младшего возраста» или «Для подростков»."
   ]
  },
  {
   "cell_type": "markdown",
   "metadata": {},
   "source": [
    "#### Описание данных\n",
    "- Name — название игры\n",
    "- Platform — платформа\n",
    "- Year_of_Release — год выпуска\n",
    "- Genre — жанр игры\n",
    "- NA_sales — продажи в Северной Америке (миллионы проданных копий)\n",
    "- EU_sales — продажи в Европе (миллионы проданных копий)\n",
    "- JP_sales — продажи в Японии (миллионы проданных копий)\n",
    "- Other_sales — продажи в других странах (миллионы проданных копий)\n",
    "- Critic_Score — оценка критиков (максимум 100)\n",
    "- User_Score — оценка пользователей (максимум 10)\n",
    "- Rating — рейтинг от организации ESRB (англ. Entertainment Software Rating Board). Эта ассоциация определяет рейтинг компьютерных игр и присваивает им подходящую возрастную категорию.\n",
    "\n",
    "Данные за 2016 год могут быть неполными."
   ]
  },
  {
   "cell_type": "markdown",
   "metadata": {},
   "source": [
    "### Обзор данных"
   ]
  },
  {
   "cell_type": "code",
   "execution_count": 1,
   "metadata": {},
   "outputs": [],
   "source": [
    "import pandas as pd\n",
    "import matplotlib.pyplot as plt\n",
    "import numpy as np\n",
    "from scipy import stats\n",
    "import seaborn as sns\n",
    "#импортируем библиотеки"
   ]
  },
  {
   "cell_type": "code",
   "execution_count": 2,
   "metadata": {},
   "outputs": [],
   "source": [
    "games = pd.read_csv('/datasets/games.csv')\n",
    "#прочитаем csv-файл"
   ]
  },
  {
   "cell_type": "code",
   "execution_count": 3,
   "metadata": {},
   "outputs": [
    {
     "data": {
      "text/html": [
       "<div>\n",
       "<style scoped>\n",
       "    .dataframe tbody tr th:only-of-type {\n",
       "        vertical-align: middle;\n",
       "    }\n",
       "\n",
       "    .dataframe tbody tr th {\n",
       "        vertical-align: top;\n",
       "    }\n",
       "\n",
       "    .dataframe thead th {\n",
       "        text-align: right;\n",
       "    }\n",
       "</style>\n",
       "<table border=\"1\" class=\"dataframe\">\n",
       "  <thead>\n",
       "    <tr style=\"text-align: right;\">\n",
       "      <th></th>\n",
       "      <th>Name</th>\n",
       "      <th>Platform</th>\n",
       "      <th>Year_of_Release</th>\n",
       "      <th>Genre</th>\n",
       "      <th>NA_sales</th>\n",
       "      <th>EU_sales</th>\n",
       "      <th>JP_sales</th>\n",
       "      <th>Other_sales</th>\n",
       "      <th>Critic_Score</th>\n",
       "      <th>User_Score</th>\n",
       "      <th>Rating</th>\n",
       "    </tr>\n",
       "  </thead>\n",
       "  <tbody>\n",
       "    <tr>\n",
       "      <th>0</th>\n",
       "      <td>Wii Sports</td>\n",
       "      <td>Wii</td>\n",
       "      <td>2006.0</td>\n",
       "      <td>Sports</td>\n",
       "      <td>41.36</td>\n",
       "      <td>28.96</td>\n",
       "      <td>3.77</td>\n",
       "      <td>8.45</td>\n",
       "      <td>76.0</td>\n",
       "      <td>8</td>\n",
       "      <td>E</td>\n",
       "    </tr>\n",
       "    <tr>\n",
       "      <th>1</th>\n",
       "      <td>Super Mario Bros.</td>\n",
       "      <td>NES</td>\n",
       "      <td>1985.0</td>\n",
       "      <td>Platform</td>\n",
       "      <td>29.08</td>\n",
       "      <td>3.58</td>\n",
       "      <td>6.81</td>\n",
       "      <td>0.77</td>\n",
       "      <td>NaN</td>\n",
       "      <td>NaN</td>\n",
       "      <td>NaN</td>\n",
       "    </tr>\n",
       "    <tr>\n",
       "      <th>2</th>\n",
       "      <td>Mario Kart Wii</td>\n",
       "      <td>Wii</td>\n",
       "      <td>2008.0</td>\n",
       "      <td>Racing</td>\n",
       "      <td>15.68</td>\n",
       "      <td>12.76</td>\n",
       "      <td>3.79</td>\n",
       "      <td>3.29</td>\n",
       "      <td>82.0</td>\n",
       "      <td>8.3</td>\n",
       "      <td>E</td>\n",
       "    </tr>\n",
       "    <tr>\n",
       "      <th>3</th>\n",
       "      <td>Wii Sports Resort</td>\n",
       "      <td>Wii</td>\n",
       "      <td>2009.0</td>\n",
       "      <td>Sports</td>\n",
       "      <td>15.61</td>\n",
       "      <td>10.93</td>\n",
       "      <td>3.28</td>\n",
       "      <td>2.95</td>\n",
       "      <td>80.0</td>\n",
       "      <td>8</td>\n",
       "      <td>E</td>\n",
       "    </tr>\n",
       "    <tr>\n",
       "      <th>4</th>\n",
       "      <td>Pokemon Red/Pokemon Blue</td>\n",
       "      <td>GB</td>\n",
       "      <td>1996.0</td>\n",
       "      <td>Role-Playing</td>\n",
       "      <td>11.27</td>\n",
       "      <td>8.89</td>\n",
       "      <td>10.22</td>\n",
       "      <td>1.00</td>\n",
       "      <td>NaN</td>\n",
       "      <td>NaN</td>\n",
       "      <td>NaN</td>\n",
       "    </tr>\n",
       "    <tr>\n",
       "      <th>5</th>\n",
       "      <td>Tetris</td>\n",
       "      <td>GB</td>\n",
       "      <td>1989.0</td>\n",
       "      <td>Puzzle</td>\n",
       "      <td>23.20</td>\n",
       "      <td>2.26</td>\n",
       "      <td>4.22</td>\n",
       "      <td>0.58</td>\n",
       "      <td>NaN</td>\n",
       "      <td>NaN</td>\n",
       "      <td>NaN</td>\n",
       "    </tr>\n",
       "    <tr>\n",
       "      <th>6</th>\n",
       "      <td>New Super Mario Bros.</td>\n",
       "      <td>DS</td>\n",
       "      <td>2006.0</td>\n",
       "      <td>Platform</td>\n",
       "      <td>11.28</td>\n",
       "      <td>9.14</td>\n",
       "      <td>6.50</td>\n",
       "      <td>2.88</td>\n",
       "      <td>89.0</td>\n",
       "      <td>8.5</td>\n",
       "      <td>E</td>\n",
       "    </tr>\n",
       "    <tr>\n",
       "      <th>7</th>\n",
       "      <td>Wii Play</td>\n",
       "      <td>Wii</td>\n",
       "      <td>2006.0</td>\n",
       "      <td>Misc</td>\n",
       "      <td>13.96</td>\n",
       "      <td>9.18</td>\n",
       "      <td>2.93</td>\n",
       "      <td>2.84</td>\n",
       "      <td>58.0</td>\n",
       "      <td>6.6</td>\n",
       "      <td>E</td>\n",
       "    </tr>\n",
       "    <tr>\n",
       "      <th>8</th>\n",
       "      <td>New Super Mario Bros. Wii</td>\n",
       "      <td>Wii</td>\n",
       "      <td>2009.0</td>\n",
       "      <td>Platform</td>\n",
       "      <td>14.44</td>\n",
       "      <td>6.94</td>\n",
       "      <td>4.70</td>\n",
       "      <td>2.24</td>\n",
       "      <td>87.0</td>\n",
       "      <td>8.4</td>\n",
       "      <td>E</td>\n",
       "    </tr>\n",
       "    <tr>\n",
       "      <th>9</th>\n",
       "      <td>Duck Hunt</td>\n",
       "      <td>NES</td>\n",
       "      <td>1984.0</td>\n",
       "      <td>Shooter</td>\n",
       "      <td>26.93</td>\n",
       "      <td>0.63</td>\n",
       "      <td>0.28</td>\n",
       "      <td>0.47</td>\n",
       "      <td>NaN</td>\n",
       "      <td>NaN</td>\n",
       "      <td>NaN</td>\n",
       "    </tr>\n",
       "  </tbody>\n",
       "</table>\n",
       "</div>"
      ],
      "text/plain": [
       "                        Name Platform  Year_of_Release         Genre  \\\n",
       "0                 Wii Sports      Wii           2006.0        Sports   \n",
       "1          Super Mario Bros.      NES           1985.0      Platform   \n",
       "2             Mario Kart Wii      Wii           2008.0        Racing   \n",
       "3          Wii Sports Resort      Wii           2009.0        Sports   \n",
       "4   Pokemon Red/Pokemon Blue       GB           1996.0  Role-Playing   \n",
       "5                     Tetris       GB           1989.0        Puzzle   \n",
       "6      New Super Mario Bros.       DS           2006.0      Platform   \n",
       "7                   Wii Play      Wii           2006.0          Misc   \n",
       "8  New Super Mario Bros. Wii      Wii           2009.0      Platform   \n",
       "9                  Duck Hunt      NES           1984.0       Shooter   \n",
       "\n",
       "   NA_sales  EU_sales  JP_sales  Other_sales  Critic_Score User_Score Rating  \n",
       "0     41.36     28.96      3.77         8.45          76.0          8      E  \n",
       "1     29.08      3.58      6.81         0.77           NaN        NaN    NaN  \n",
       "2     15.68     12.76      3.79         3.29          82.0        8.3      E  \n",
       "3     15.61     10.93      3.28         2.95          80.0          8      E  \n",
       "4     11.27      8.89     10.22         1.00           NaN        NaN    NaN  \n",
       "5     23.20      2.26      4.22         0.58           NaN        NaN    NaN  \n",
       "6     11.28      9.14      6.50         2.88          89.0        8.5      E  \n",
       "7     13.96      9.18      2.93         2.84          58.0        6.6      E  \n",
       "8     14.44      6.94      4.70         2.24          87.0        8.4      E  \n",
       "9     26.93      0.63      0.28         0.47           NaN        NaN    NaN  "
      ]
     },
     "execution_count": 3,
     "metadata": {},
     "output_type": "execute_result"
    }
   ],
   "source": [
    "games.head(10) #посмотрим первые строки"
   ]
  },
  {
   "cell_type": "code",
   "execution_count": 4,
   "metadata": {},
   "outputs": [
    {
     "name": "stdout",
     "output_type": "stream",
     "text": [
      "<class 'pandas.core.frame.DataFrame'>\n",
      "RangeIndex: 16715 entries, 0 to 16714\n",
      "Data columns (total 11 columns):\n",
      " #   Column           Non-Null Count  Dtype  \n",
      "---  ------           --------------  -----  \n",
      " 0   Name             16713 non-null  object \n",
      " 1   Platform         16715 non-null  object \n",
      " 2   Year_of_Release  16446 non-null  float64\n",
      " 3   Genre            16713 non-null  object \n",
      " 4   NA_sales         16715 non-null  float64\n",
      " 5   EU_sales         16715 non-null  float64\n",
      " 6   JP_sales         16715 non-null  float64\n",
      " 7   Other_sales      16715 non-null  float64\n",
      " 8   Critic_Score     8137 non-null   float64\n",
      " 9   User_Score       10014 non-null  object \n",
      " 10  Rating           9949 non-null   object \n",
      "dtypes: float64(6), object(5)\n",
      "memory usage: 1.4+ MB\n"
     ]
    }
   ],
   "source": [
    "games.info() #общая информация"
   ]
  },
  {
   "cell_type": "markdown",
   "metadata": {},
   "source": [
    "В таблице 11 столбцов, необходимо названия привести к snake_case, поменять тип данных в 3, 9 и 10. \n",
    "В данных есть пропуски, потому что различается количество значений. "
   ]
  },
  {
   "cell_type": "markdown",
   "metadata": {},
   "source": [
    "### Подготовка данных"
   ]
  },
  {
   "cell_type": "code",
   "execution_count": 5,
   "metadata": {},
   "outputs": [
    {
     "data": {
      "text/plain": [
       "Index(['Name', 'Platform', 'Year_of_Release', 'Genre', 'NA_sales', 'EU_sales',\n",
       "       'JP_sales', 'Other_sales', 'Critic_Score', 'User_Score', 'Rating'],\n",
       "      dtype='object')"
      ]
     },
     "execution_count": 5,
     "metadata": {},
     "output_type": "execute_result"
    }
   ],
   "source": [
    "games.columns #перечень названий столбцов"
   ]
  },
  {
   "cell_type": "code",
   "execution_count": 6,
   "metadata": {},
   "outputs": [],
   "source": [
    "games.columns = games.columns.str.lower() #приведем названия столбцов к нижнему регистру"
   ]
  },
  {
   "cell_type": "code",
   "execution_count": 7,
   "metadata": {},
   "outputs": [
    {
     "data": {
      "text/plain": [
       "name                  2\n",
       "platform              0\n",
       "year_of_release     269\n",
       "genre                 2\n",
       "na_sales              0\n",
       "eu_sales              0\n",
       "jp_sales              0\n",
       "other_sales           0\n",
       "critic_score       8578\n",
       "user_score         6701\n",
       "rating             6766\n",
       "dtype: int64"
      ]
     },
     "execution_count": 7,
     "metadata": {},
     "output_type": "execute_result"
    }
   ],
   "source": [
    "games.isna().sum() #посмотрим пропуски"
   ]
  },
  {
   "cell_type": "code",
   "execution_count": 8,
   "metadata": {},
   "outputs": [
    {
     "data": {
      "text/plain": [
       "name                0.0\n",
       "platform            0.0\n",
       "year_of_release     2.0\n",
       "genre               0.0\n",
       "na_sales            0.0\n",
       "eu_sales            0.0\n",
       "jp_sales            0.0\n",
       "other_sales         0.0\n",
       "critic_score       51.0\n",
       "user_score         40.0\n",
       "rating             40.0\n",
       "dtype: float64"
      ]
     },
     "execution_count": 8,
     "metadata": {},
     "output_type": "execute_result"
    }
   ],
   "source": [
    "games.isna().mean().round(2) * 100 #пропуски в процентном соотношении"
   ]
  },
  {
   "cell_type": "markdown",
   "metadata": {},
   "source": [
    "Видим пропуски значений в названии, оценках и рейтинге. \n",
    "Удалим строки без названия игры, их всего 2, на общий анализ не повлияют, скорее всего человеческий фактор.\n",
    "\n",
    "Пропуски значений в столбце года выхода оставим, заполнение средним или медианным значением не даст информативности. \n",
    "\n",
    "Отсутствие значений в оценках критиков и пользователей оставим, игру могли не оценивать, либо произошла ошибка при хранении или выгрузке данных. Сообщим коллегам.\n",
    "\n",
    "Возможно, пропуски в последнем столбце связаны с тем, что организация ESRB была основана в 1994 году, поэтому отсутствуют данные по играм, которые вышли раньше."
   ]
  },
  {
   "cell_type": "code",
   "execution_count": 9,
   "metadata": {},
   "outputs": [],
   "source": [
    "games = games.dropna(subset=['name']) #удалим строки, в которых отсутствует название игры"
   ]
  },
  {
   "cell_type": "code",
   "execution_count": 10,
   "metadata": {},
   "outputs": [
    {
     "data": {
      "text/plain": [
       "0"
      ]
     },
     "execution_count": 10,
     "metadata": {},
     "output_type": "execute_result"
    }
   ],
   "source": [
    "games.duplicated().sum() #посмотрим дубликаты"
   ]
  },
  {
   "cell_type": "code",
   "execution_count": 11,
   "metadata": {},
   "outputs": [],
   "source": [
    "duplicated_rows = games[games.duplicated(['name', 'platform', 'year_of_release'])]\n",
    "#посмотрим неявные дубликаты"
   ]
  },
  {
   "cell_type": "code",
   "execution_count": 12,
   "metadata": {},
   "outputs": [
    {
     "data": {
      "text/html": [
       "<div>\n",
       "<style scoped>\n",
       "    .dataframe tbody tr th:only-of-type {\n",
       "        vertical-align: middle;\n",
       "    }\n",
       "\n",
       "    .dataframe tbody tr th {\n",
       "        vertical-align: top;\n",
       "    }\n",
       "\n",
       "    .dataframe thead th {\n",
       "        text-align: right;\n",
       "    }\n",
       "</style>\n",
       "<table border=\"1\" class=\"dataframe\">\n",
       "  <thead>\n",
       "    <tr style=\"text-align: right;\">\n",
       "      <th></th>\n",
       "      <th>name</th>\n",
       "      <th>platform</th>\n",
       "      <th>year_of_release</th>\n",
       "      <th>genre</th>\n",
       "      <th>na_sales</th>\n",
       "      <th>eu_sales</th>\n",
       "      <th>jp_sales</th>\n",
       "      <th>other_sales</th>\n",
       "      <th>critic_score</th>\n",
       "      <th>user_score</th>\n",
       "      <th>rating</th>\n",
       "    </tr>\n",
       "  </thead>\n",
       "  <tbody>\n",
       "    <tr>\n",
       "      <th>16230</th>\n",
       "      <td>Madden NFL 13</td>\n",
       "      <td>PS3</td>\n",
       "      <td>2012.0</td>\n",
       "      <td>Sports</td>\n",
       "      <td>0.0</td>\n",
       "      <td>0.01</td>\n",
       "      <td>0.0</td>\n",
       "      <td>0.0</td>\n",
       "      <td>83.0</td>\n",
       "      <td>5.5</td>\n",
       "      <td>E</td>\n",
       "    </tr>\n",
       "  </tbody>\n",
       "</table>\n",
       "</div>"
      ],
      "text/plain": [
       "                name platform  year_of_release   genre  na_sales  eu_sales  \\\n",
       "16230  Madden NFL 13      PS3           2012.0  Sports       0.0      0.01   \n",
       "\n",
       "       jp_sales  other_sales  critic_score user_score rating  \n",
       "16230       0.0          0.0          83.0        5.5      E  "
      ]
     },
     "execution_count": 12,
     "metadata": {},
     "output_type": "execute_result"
    }
   ],
   "source": [
    "duplicated_rows.drop_duplicates(keep=False) #удалим неявные дубликаты"
   ]
  },
  {
   "cell_type": "code",
   "execution_count": 13,
   "metadata": {},
   "outputs": [
    {
     "data": {
      "text/plain": [
       "array([76., nan, 82., 80., 89., 58., 87., 91., 61., 97., 95., 77., 88.,\n",
       "       83., 94., 93., 85., 86., 98., 96., 90., 84., 73., 74., 78., 92.,\n",
       "       71., 72., 68., 62., 49., 67., 81., 66., 56., 79., 70., 59., 64.,\n",
       "       75., 60., 63., 69., 50., 25., 42., 44., 55., 48., 57., 29., 47.,\n",
       "       65., 54., 20., 53., 37., 38., 33., 52., 30., 32., 43., 45., 51.,\n",
       "       40., 46., 39., 34., 35., 41., 36., 28., 31., 27., 26., 19., 23.,\n",
       "       24., 21., 17., 22., 13.])"
      ]
     },
     "execution_count": 13,
     "metadata": {},
     "output_type": "execute_result"
    }
   ],
   "source": [
    "games.critic_score.unique() #посмотрим оценки критиков"
   ]
  },
  {
   "cell_type": "code",
   "execution_count": 14,
   "metadata": {},
   "outputs": [
    {
     "data": {
      "text/plain": [
       "array(['8', nan, '8.3', '8.5', '6.6', '8.4', '8.6', '7.7', '6.3', '7.4',\n",
       "       '8.2', '9', '7.9', '8.1', '8.7', '7.1', '3.4', '5.3', '4.8', '3.2',\n",
       "       '8.9', '6.4', '7.8', '7.5', '2.6', '7.2', '9.2', '7', '7.3', '4.3',\n",
       "       '7.6', '5.7', '5', '9.1', '6.5', 'tbd', '8.8', '6.9', '9.4', '6.8',\n",
       "       '6.1', '6.7', '5.4', '4', '4.9', '4.5', '9.3', '6.2', '4.2', '6',\n",
       "       '3.7', '4.1', '5.8', '5.6', '5.5', '4.4', '4.6', '5.9', '3.9',\n",
       "       '3.1', '2.9', '5.2', '3.3', '4.7', '5.1', '3.5', '2.5', '1.9', '3',\n",
       "       '2.7', '2.2', '2', '9.5', '2.1', '3.6', '2.8', '1.8', '3.8', '0',\n",
       "       '1.6', '9.6', '2.4', '1.7', '1.1', '0.3', '1.5', '0.7', '1.2',\n",
       "       '2.3', '0.5', '1.3', '0.2', '0.6', '1.4', '0.9', '1', '9.7'],\n",
       "      dtype=object)"
      ]
     },
     "execution_count": 14,
     "metadata": {},
     "output_type": "execute_result"
    }
   ],
   "source": [
    "games.user_score.unique() \n",
    "#посмотрим оценки пользователей, ожидался тип float, \n",
    "#в нашем случае object из-за \"tbd\" (to be determined = будет определено)"
   ]
  },
  {
   "cell_type": "code",
   "execution_count": 15,
   "metadata": {},
   "outputs": [],
   "source": [
    "games['user_score'] = games['user_score'].replace('tbd', 'nan').astype(float) \n",
    "#заменим 'tbd', заполним пропуски, приведем к вещественному"
   ]
  },
  {
   "cell_type": "code",
   "execution_count": 16,
   "metadata": {},
   "outputs": [
    {
     "data": {
      "text/plain": [
       "array([8. , nan, 8.3, 8.5, 6.6, 8.4, 8.6, 7.7, 6.3, 7.4, 8.2, 9. , 7.9,\n",
       "       8.1, 8.7, 7.1, 3.4, 5.3, 4.8, 3.2, 8.9, 6.4, 7.8, 7.5, 2.6, 7.2,\n",
       "       9.2, 7. , 7.3, 4.3, 7.6, 5.7, 5. , 9.1, 6.5, 8.8, 6.9, 9.4, 6.8,\n",
       "       6.1, 6.7, 5.4, 4. , 4.9, 4.5, 9.3, 6.2, 4.2, 6. , 3.7, 4.1, 5.8,\n",
       "       5.6, 5.5, 4.4, 4.6, 5.9, 3.9, 3.1, 2.9, 5.2, 3.3, 4.7, 5.1, 3.5,\n",
       "       2.5, 1.9, 3. , 2.7, 2.2, 2. , 9.5, 2.1, 3.6, 2.8, 1.8, 3.8, 0. ,\n",
       "       1.6, 9.6, 2.4, 1.7, 1.1, 0.3, 1.5, 0.7, 1.2, 2.3, 0.5, 1.3, 0.2,\n",
       "       0.6, 1.4, 0.9, 1. , 9.7])"
      ]
     },
     "execution_count": 16,
     "metadata": {},
     "output_type": "execute_result"
    }
   ],
   "source": [
    "games['user_score'].unique() #проверим на пустые значения"
   ]
  },
  {
   "cell_type": "code",
   "execution_count": 17,
   "metadata": {},
   "outputs": [],
   "source": [
    "games['year_of_release'] = games['year_of_release'].fillna(0).astype(int) \n",
    "#заполним пропуски 0, поменяем значения года выхода игры на целочисленные"
   ]
  },
  {
   "cell_type": "code",
   "execution_count": 18,
   "metadata": {},
   "outputs": [
    {
     "name": "stdout",
     "output_type": "stream",
     "text": [
      "<class 'pandas.core.frame.DataFrame'>\n",
      "Int64Index: 16713 entries, 0 to 16714\n",
      "Data columns (total 11 columns):\n",
      " #   Column           Non-Null Count  Dtype  \n",
      "---  ------           --------------  -----  \n",
      " 0   name             16713 non-null  object \n",
      " 1   platform         16713 non-null  object \n",
      " 2   year_of_release  16713 non-null  int64  \n",
      " 3   genre            16713 non-null  object \n",
      " 4   na_sales         16713 non-null  float64\n",
      " 5   eu_sales         16713 non-null  float64\n",
      " 6   jp_sales         16713 non-null  float64\n",
      " 7   other_sales      16713 non-null  float64\n",
      " 8   critic_score     8137 non-null   float64\n",
      " 9   user_score       7590 non-null   float64\n",
      " 10  rating           9949 non-null   object \n",
      "dtypes: float64(6), int64(1), object(4)\n",
      "memory usage: 1.5+ MB\n"
     ]
    }
   ],
   "source": [
    "games.info() #проверим внесенные измения"
   ]
  },
  {
   "cell_type": "code",
   "execution_count": 19,
   "metadata": {},
   "outputs": [
    {
     "data": {
      "text/plain": [
       "array(['E', nan, 'M', 'T', 'E10+', 'K-A', 'AO', 'EC', 'RP'], dtype=object)"
      ]
     },
     "execution_count": 19,
     "metadata": {},
     "output_type": "execute_result"
    }
   ],
   "source": [
    "games.rating.unique() #посмотрим значение в столбце рейтинга от организации ESRB"
   ]
  },
  {
   "cell_type": "markdown",
   "metadata": {},
   "source": [
    "По данным из Википедии:\n",
    "\n",
    "- «EC» («Early childhood») — «Для детей младшего возраста»: игра подходит для детей от 3 лет\n",
    "\n",
    "- «E» («Everyone») — «Для всех»: содержание вполне подходит для всех возрастов (ранее с 6 лет), первоначально \"K-A\" (\"Kids to Adults\")\n",
    "\n",
    "- «E10+» («Everyone 10 and older») — «Для всех от 10 лет и старше». Рейтинг был принят ESRB 2 марта 2005 года.\n",
    "\n",
    "- «T» («Teen») — «Подросткам»: игра подходит для лиц от 13 лет.\n",
    "\n",
    "- «M» («Mature») — «Для взрослых»: материалы игры не подходят для лиц младше 17 лет. \n",
    "\n",
    "- «AO» («Adults Only 18+») — «Только для взрослых».\n",
    "\n",
    "- «RP» («Rating Pending») — «Рейтинг ожидается»: Продукт был отправлен в ESRB и ожидает присвоения рейтинга. Данный логотип используется только на рекламных презентациях и в демо-версиях игр до официальной даты выпуска в продажу.\n",
    "\n",
    "\n",
    "Рейтинг \"К-А\" можем перезаписать на \"Е\", так как это один и тот же возрастной ценз."
   ]
  },
  {
   "cell_type": "code",
   "execution_count": 20,
   "metadata": {},
   "outputs": [],
   "source": [
    "games['rating'] = games['rating'].replace('K-A','E') #произведем замену"
   ]
  },
  {
   "cell_type": "code",
   "execution_count": 21,
   "metadata": {},
   "outputs": [],
   "source": [
    "games['rating'] = games['rating'].fillna('unknown') #заполним пропуски на unknown"
   ]
  },
  {
   "cell_type": "code",
   "execution_count": 22,
   "metadata": {},
   "outputs": [
    {
     "data": {
      "text/plain": [
       "array(['E', 'unknown', 'M', 'T', 'E10+', 'AO', 'EC', 'RP'], dtype=object)"
      ]
     },
     "execution_count": 22,
     "metadata": {},
     "output_type": "execute_result"
    }
   ],
   "source": [
    "games.rating.unique() #проверим"
   ]
  },
  {
   "cell_type": "code",
   "execution_count": 23,
   "metadata": {},
   "outputs": [],
   "source": [
    "games['total_sales'] = games[['na_sales', 'eu_sales', 'jp_sales', 'other_sales']].sum(axis=1)\n",
    "#посчитаем суммарные продажи по всех регионах и запишем в отдельный столбец"
   ]
  },
  {
   "cell_type": "code",
   "execution_count": 24,
   "metadata": {},
   "outputs": [
    {
     "data": {
      "text/html": [
       "<div>\n",
       "<style scoped>\n",
       "    .dataframe tbody tr th:only-of-type {\n",
       "        vertical-align: middle;\n",
       "    }\n",
       "\n",
       "    .dataframe tbody tr th {\n",
       "        vertical-align: top;\n",
       "    }\n",
       "\n",
       "    .dataframe thead th {\n",
       "        text-align: right;\n",
       "    }\n",
       "</style>\n",
       "<table border=\"1\" class=\"dataframe\">\n",
       "  <thead>\n",
       "    <tr style=\"text-align: right;\">\n",
       "      <th></th>\n",
       "      <th>name</th>\n",
       "      <th>platform</th>\n",
       "      <th>year_of_release</th>\n",
       "      <th>genre</th>\n",
       "      <th>na_sales</th>\n",
       "      <th>eu_sales</th>\n",
       "      <th>jp_sales</th>\n",
       "      <th>other_sales</th>\n",
       "      <th>critic_score</th>\n",
       "      <th>user_score</th>\n",
       "      <th>rating</th>\n",
       "      <th>total_sales</th>\n",
       "    </tr>\n",
       "  </thead>\n",
       "  <tbody>\n",
       "    <tr>\n",
       "      <th>0</th>\n",
       "      <td>Wii Sports</td>\n",
       "      <td>Wii</td>\n",
       "      <td>2006</td>\n",
       "      <td>Sports</td>\n",
       "      <td>41.36</td>\n",
       "      <td>28.96</td>\n",
       "      <td>3.77</td>\n",
       "      <td>8.45</td>\n",
       "      <td>76.0</td>\n",
       "      <td>8.0</td>\n",
       "      <td>E</td>\n",
       "      <td>82.54</td>\n",
       "    </tr>\n",
       "    <tr>\n",
       "      <th>1</th>\n",
       "      <td>Super Mario Bros.</td>\n",
       "      <td>NES</td>\n",
       "      <td>1985</td>\n",
       "      <td>Platform</td>\n",
       "      <td>29.08</td>\n",
       "      <td>3.58</td>\n",
       "      <td>6.81</td>\n",
       "      <td>0.77</td>\n",
       "      <td>NaN</td>\n",
       "      <td>NaN</td>\n",
       "      <td>unknown</td>\n",
       "      <td>40.24</td>\n",
       "    </tr>\n",
       "    <tr>\n",
       "      <th>2</th>\n",
       "      <td>Mario Kart Wii</td>\n",
       "      <td>Wii</td>\n",
       "      <td>2008</td>\n",
       "      <td>Racing</td>\n",
       "      <td>15.68</td>\n",
       "      <td>12.76</td>\n",
       "      <td>3.79</td>\n",
       "      <td>3.29</td>\n",
       "      <td>82.0</td>\n",
       "      <td>8.3</td>\n",
       "      <td>E</td>\n",
       "      <td>35.52</td>\n",
       "    </tr>\n",
       "    <tr>\n",
       "      <th>3</th>\n",
       "      <td>Wii Sports Resort</td>\n",
       "      <td>Wii</td>\n",
       "      <td>2009</td>\n",
       "      <td>Sports</td>\n",
       "      <td>15.61</td>\n",
       "      <td>10.93</td>\n",
       "      <td>3.28</td>\n",
       "      <td>2.95</td>\n",
       "      <td>80.0</td>\n",
       "      <td>8.0</td>\n",
       "      <td>E</td>\n",
       "      <td>32.77</td>\n",
       "    </tr>\n",
       "    <tr>\n",
       "      <th>4</th>\n",
       "      <td>Pokemon Red/Pokemon Blue</td>\n",
       "      <td>GB</td>\n",
       "      <td>1996</td>\n",
       "      <td>Role-Playing</td>\n",
       "      <td>11.27</td>\n",
       "      <td>8.89</td>\n",
       "      <td>10.22</td>\n",
       "      <td>1.00</td>\n",
       "      <td>NaN</td>\n",
       "      <td>NaN</td>\n",
       "      <td>unknown</td>\n",
       "      <td>31.38</td>\n",
       "    </tr>\n",
       "    <tr>\n",
       "      <th>5</th>\n",
       "      <td>Tetris</td>\n",
       "      <td>GB</td>\n",
       "      <td>1989</td>\n",
       "      <td>Puzzle</td>\n",
       "      <td>23.20</td>\n",
       "      <td>2.26</td>\n",
       "      <td>4.22</td>\n",
       "      <td>0.58</td>\n",
       "      <td>NaN</td>\n",
       "      <td>NaN</td>\n",
       "      <td>unknown</td>\n",
       "      <td>30.26</td>\n",
       "    </tr>\n",
       "    <tr>\n",
       "      <th>6</th>\n",
       "      <td>New Super Mario Bros.</td>\n",
       "      <td>DS</td>\n",
       "      <td>2006</td>\n",
       "      <td>Platform</td>\n",
       "      <td>11.28</td>\n",
       "      <td>9.14</td>\n",
       "      <td>6.50</td>\n",
       "      <td>2.88</td>\n",
       "      <td>89.0</td>\n",
       "      <td>8.5</td>\n",
       "      <td>E</td>\n",
       "      <td>29.80</td>\n",
       "    </tr>\n",
       "    <tr>\n",
       "      <th>7</th>\n",
       "      <td>Wii Play</td>\n",
       "      <td>Wii</td>\n",
       "      <td>2006</td>\n",
       "      <td>Misc</td>\n",
       "      <td>13.96</td>\n",
       "      <td>9.18</td>\n",
       "      <td>2.93</td>\n",
       "      <td>2.84</td>\n",
       "      <td>58.0</td>\n",
       "      <td>6.6</td>\n",
       "      <td>E</td>\n",
       "      <td>28.91</td>\n",
       "    </tr>\n",
       "    <tr>\n",
       "      <th>8</th>\n",
       "      <td>New Super Mario Bros. Wii</td>\n",
       "      <td>Wii</td>\n",
       "      <td>2009</td>\n",
       "      <td>Platform</td>\n",
       "      <td>14.44</td>\n",
       "      <td>6.94</td>\n",
       "      <td>4.70</td>\n",
       "      <td>2.24</td>\n",
       "      <td>87.0</td>\n",
       "      <td>8.4</td>\n",
       "      <td>E</td>\n",
       "      <td>28.32</td>\n",
       "    </tr>\n",
       "    <tr>\n",
       "      <th>9</th>\n",
       "      <td>Duck Hunt</td>\n",
       "      <td>NES</td>\n",
       "      <td>1984</td>\n",
       "      <td>Shooter</td>\n",
       "      <td>26.93</td>\n",
       "      <td>0.63</td>\n",
       "      <td>0.28</td>\n",
       "      <td>0.47</td>\n",
       "      <td>NaN</td>\n",
       "      <td>NaN</td>\n",
       "      <td>unknown</td>\n",
       "      <td>28.31</td>\n",
       "    </tr>\n",
       "  </tbody>\n",
       "</table>\n",
       "</div>"
      ],
      "text/plain": [
       "                        name platform  year_of_release         genre  \\\n",
       "0                 Wii Sports      Wii             2006        Sports   \n",
       "1          Super Mario Bros.      NES             1985      Platform   \n",
       "2             Mario Kart Wii      Wii             2008        Racing   \n",
       "3          Wii Sports Resort      Wii             2009        Sports   \n",
       "4   Pokemon Red/Pokemon Blue       GB             1996  Role-Playing   \n",
       "5                     Tetris       GB             1989        Puzzle   \n",
       "6      New Super Mario Bros.       DS             2006      Platform   \n",
       "7                   Wii Play      Wii             2006          Misc   \n",
       "8  New Super Mario Bros. Wii      Wii             2009      Platform   \n",
       "9                  Duck Hunt      NES             1984       Shooter   \n",
       "\n",
       "   na_sales  eu_sales  jp_sales  other_sales  critic_score  user_score  \\\n",
       "0     41.36     28.96      3.77         8.45          76.0         8.0   \n",
       "1     29.08      3.58      6.81         0.77           NaN         NaN   \n",
       "2     15.68     12.76      3.79         3.29          82.0         8.3   \n",
       "3     15.61     10.93      3.28         2.95          80.0         8.0   \n",
       "4     11.27      8.89     10.22         1.00           NaN         NaN   \n",
       "5     23.20      2.26      4.22         0.58           NaN         NaN   \n",
       "6     11.28      9.14      6.50         2.88          89.0         8.5   \n",
       "7     13.96      9.18      2.93         2.84          58.0         6.6   \n",
       "8     14.44      6.94      4.70         2.24          87.0         8.4   \n",
       "9     26.93      0.63      0.28         0.47           NaN         NaN   \n",
       "\n",
       "    rating  total_sales  \n",
       "0        E        82.54  \n",
       "1  unknown        40.24  \n",
       "2        E        35.52  \n",
       "3        E        32.77  \n",
       "4  unknown        31.38  \n",
       "5  unknown        30.26  \n",
       "6        E        29.80  \n",
       "7        E        28.91  \n",
       "8        E        28.32  \n",
       "9  unknown        28.31  "
      ]
     },
     "execution_count": 24,
     "metadata": {},
     "output_type": "execute_result"
    }
   ],
   "source": [
    "games.head(10) #проверим добавление столбца"
   ]
  },
  {
   "cell_type": "markdown",
   "metadata": {},
   "source": [
    "<div style=\"border:solid steelblue 2px; padding: 10px; border-radius: 5px\">\n",
    " Удалили строки без названия игры, их всего 2, на общий анализ не повлияют, скорее всего человеческий фактор. \n",
    "Провели проверку на дубликаты.\n",
    "\n",
    "Заменили тип данных на целочисленный в столбцах оценки критиков и год выхода.\n",
    "Значение в оценке пользователей заменили на дробные числа, tbd заменили на пустые значения.\n",
    "\n",
    "Пропуски значений в столбце года выхода оставим, заполнение средним или медианным значением не даст информативности. Отсутствие значений в оценках критиков и пользователей оставим, игру могли не оценивать, либо произошла ошибка при хранении или выгрузке данных. Сообщим коллегам.\n",
    "\n",
    "Возможно, пропуски в последнем столбце связаны с тем, что организация ESRB была основана в 1994 году, поэтому отсутствуют данные по играм, которые вышли раньше. Заполнили эти пропуски значением \"Unknown\". Сделали расшифровку по данным, объединили 2 группы в 1 (раннее и новое название для одной возрастной группы).\n",
    "\n",
    "Добавили столбец с общими продажами по каждой игре."
   ]
  },
  {
   "cell_type": "markdown",
   "metadata": {},
   "source": [
    "### Исследовательский анализ данных"
   ]
  },
  {
   "cell_type": "markdown",
   "metadata": {},
   "source": [
    "**Год выхода**"
   ]
  },
  {
   "cell_type": "code",
   "execution_count": 25,
   "metadata": {
    "scrolled": true
   },
   "outputs": [
    {
     "data": {
      "text/plain": [
       "2008    1427\n",
       "2009    1426\n",
       "2010    1255\n",
       "2007    1197\n",
       "2011    1136\n",
       "2006    1006\n",
       "2005     939\n",
       "2002     829\n",
       "2003     775\n",
       "2004     762\n",
       "2012     653\n",
       "2015     606\n",
       "2014     581\n",
       "2013     544\n",
       "2016     502\n",
       "2001     482\n",
       "1998     379\n",
       "2000     350\n",
       "1999     338\n",
       "1997     289\n",
       "0        269\n",
       "1996     263\n",
       "1995     219\n",
       "1994     121\n",
       "1993      60\n",
       "1981      46\n",
       "1992      43\n",
       "1991      41\n",
       "1982      36\n",
       "1986      21\n",
       "1983      17\n",
       "1989      17\n",
       "1987      16\n",
       "1990      16\n",
       "1988      15\n",
       "1984      14\n",
       "1985      14\n",
       "1980       9\n",
       "Name: year_of_release, dtype: int64"
      ]
     },
     "execution_count": 25,
     "metadata": {},
     "output_type": "execute_result"
    }
   ],
   "source": [
    "games['year_of_release'].value_counts() #посмотрим количество игр в каждый год"
   ]
  },
  {
   "cell_type": "code",
   "execution_count": 26,
   "metadata": {},
   "outputs": [
    {
     "data": {
      "image/png": "[encoded data removed]",
      "text/plain": [
       "<Figure size 864x504 with 1 Axes>"
      ]
     },
     "metadata": {
      "needs_background": "light"
     },
     "output_type": "display_data"
    }
   ],
   "source": [
    "games.groupby('year_of_release')['name'].count().plot(kind = 'bar', figsize = (12,7),\n",
    "                                                        title='Количество компьютерных игр по годам')\n",
    "plt.xlabel('Год выхода')\n",
    "plt.ylabel('Количество игр')\n",
    "plt.show() #построим диаграмму"
   ]
  },
  {
   "cell_type": "markdown",
   "metadata": {},
   "source": [
    "На графике видим рост с 1997 года, больше всего игр выходило в 2008 и 2009 годах.<br> \n",
    "После идет плавное снижение, в 2011  падение более чем в 2 раза от пика."
   ]
  },
  {
   "cell_type": "code",
   "execution_count": 27,
   "metadata": {},
   "outputs": [],
   "source": [
    "games_actual = games[games['year_of_release'] >= 1997] #рассмотрим период с 1997 года"
   ]
  },
  {
   "cell_type": "markdown",
   "metadata": {},
   "source": [
    "**Продажи по платформам**"
   ]
  },
  {
   "cell_type": "code",
   "execution_count": 28,
   "metadata": {},
   "outputs": [],
   "source": [
    "platform_sales = (games\n",
    "                  .pivot_table(index='platform',values = 'total_sales',aggfunc = sum)\n",
    "                  .sort_values(by='total_sales', ascending=False)\n",
    "                  .head(10)\n",
    "                 )\n",
    "#создадим сводную таблицу по общим продажам"
   ]
  },
  {
   "cell_type": "code",
   "execution_count": 29,
   "metadata": {},
   "outputs": [
    {
     "data": {
      "text/html": [
       "<div>\n",
       "<style scoped>\n",
       "    .dataframe tbody tr th:only-of-type {\n",
       "        vertical-align: middle;\n",
       "    }\n",
       "\n",
       "    .dataframe tbody tr th {\n",
       "        vertical-align: top;\n",
       "    }\n",
       "\n",
       "    .dataframe thead th {\n",
       "        text-align: right;\n",
       "    }\n",
       "</style>\n",
       "<table border=\"1\" class=\"dataframe\">\n",
       "  <thead>\n",
       "    <tr style=\"text-align: right;\">\n",
       "      <th></th>\n",
       "      <th>total_sales</th>\n",
       "    </tr>\n",
       "    <tr>\n",
       "      <th>platform</th>\n",
       "      <th></th>\n",
       "    </tr>\n",
       "  </thead>\n",
       "  <tbody>\n",
       "    <tr>\n",
       "      <th>PS2</th>\n",
       "      <td>1255.77</td>\n",
       "    </tr>\n",
       "    <tr>\n",
       "      <th>X360</th>\n",
       "      <td>971.42</td>\n",
       "    </tr>\n",
       "    <tr>\n",
       "      <th>PS3</th>\n",
       "      <td>939.65</td>\n",
       "    </tr>\n",
       "    <tr>\n",
       "      <th>Wii</th>\n",
       "      <td>907.51</td>\n",
       "    </tr>\n",
       "    <tr>\n",
       "      <th>DS</th>\n",
       "      <td>806.12</td>\n",
       "    </tr>\n",
       "    <tr>\n",
       "      <th>PS</th>\n",
       "      <td>730.86</td>\n",
       "    </tr>\n",
       "    <tr>\n",
       "      <th>GBA</th>\n",
       "      <td>317.85</td>\n",
       "    </tr>\n",
       "    <tr>\n",
       "      <th>PS4</th>\n",
       "      <td>314.14</td>\n",
       "    </tr>\n",
       "    <tr>\n",
       "      <th>PSP</th>\n",
       "      <td>294.05</td>\n",
       "    </tr>\n",
       "    <tr>\n",
       "      <th>PC</th>\n",
       "      <td>259.52</td>\n",
       "    </tr>\n",
       "  </tbody>\n",
       "</table>\n",
       "</div>"
      ],
      "text/plain": [
       "          total_sales\n",
       "platform             \n",
       "PS2           1255.77\n",
       "X360           971.42\n",
       "PS3            939.65\n",
       "Wii            907.51\n",
       "DS             806.12\n",
       "PS             730.86\n",
       "GBA            317.85\n",
       "PS4            314.14\n",
       "PSP            294.05\n",
       "PC             259.52"
      ]
     },
     "execution_count": 29,
     "metadata": {},
     "output_type": "execute_result"
    }
   ],
   "source": [
    "platform_sales"
   ]
  },
  {
   "cell_type": "markdown",
   "metadata": {},
   "source": [
    "Видим явного лидера по продажам - PS2, посмотрим как менялись продажи в зависимости от года. Рассмотрим данные с PS, здесь заметен рост, последние 4 платформы из нашего списка учитывать не будем (сравнительно небольшие продажи)."
   ]
  },
  {
   "cell_type": "code",
   "execution_count": 30,
   "metadata": {},
   "outputs": [],
   "source": [
    "leader_platforms = ['PS2', 'X360', 'PS3', 'Wii', 'DS', 'PS']"
   ]
  },
  {
   "cell_type": "code",
   "execution_count": 31,
   "metadata": {},
   "outputs": [],
   "source": [
    "leader_platforms_year = (games_actual\n",
    "                      .loc[games['platform'].isin(leader_platforms)]\n",
    "                      .pivot_table(index=['platform', 'year_of_release'], values='total_sales', aggfunc='sum')\n",
    "                      .reset_index()\n",
    "                 )"
   ]
  },
  {
   "cell_type": "code",
   "execution_count": 32,
   "metadata": {},
   "outputs": [
    {
     "data": {
      "image/png": "[encoded data removed]",
      "text/plain": [
       "<Figure size 864x360 with 1 Axes>"
      ]
     },
     "metadata": {
      "needs_background": "light"
     },
     "output_type": "display_data"
    }
   ],
   "source": [
    "leader_platforms_year.plot(x='platform', y='year_of_release', \n",
    "            kind ='scatter', alpha = 1, figsize=(12,5),\n",
    "        title='Распределение лидирующих платформ по годам')\n",
    "plt.xlabel('Платформа')\n",
    "plt.ylabel('Годы')\n",
    "plt.show() #построим диаграмму рассеивания "
   ]
  },
  {
   "cell_type": "markdown",
   "metadata": {},
   "source": [
    "***В среднем срок жизни платформы около 10 лет, небольшой срок PS объясним пришедшей ей на смену PS2.***"
   ]
  },
  {
   "cell_type": "markdown",
   "metadata": {},
   "source": [
    "----"
   ]
  },
  {
   "cell_type": "markdown",
   "metadata": {},
   "source": [
    "**Для прогноза на 2017 год возьмем данные за последние 2-3 года.**"
   ]
  },
  {
   "cell_type": "code",
   "execution_count": 33,
   "metadata": {},
   "outputs": [],
   "source": [
    "actual_period=(games\n",
    "               .query('year_of_release>=2013')\n",
    "               .sort_values(by='total_sales', ascending=False)\n",
    "              )#отсортируем данные за последние 2-3 года"
   ]
  },
  {
   "cell_type": "code",
   "execution_count": 34,
   "metadata": {
    "scrolled": true
   },
   "outputs": [
    {
     "data": {
      "text/html": [
       "<div>\n",
       "<style scoped>\n",
       "    .dataframe tbody tr th:only-of-type {\n",
       "        vertical-align: middle;\n",
       "    }\n",
       "\n",
       "    .dataframe tbody tr th {\n",
       "        vertical-align: top;\n",
       "    }\n",
       "\n",
       "    .dataframe thead th {\n",
       "        text-align: right;\n",
       "    }\n",
       "</style>\n",
       "<table border=\"1\" class=\"dataframe\">\n",
       "  <thead>\n",
       "    <tr style=\"text-align: right;\">\n",
       "      <th></th>\n",
       "      <th>name</th>\n",
       "      <th>platform</th>\n",
       "      <th>year_of_release</th>\n",
       "      <th>genre</th>\n",
       "      <th>na_sales</th>\n",
       "      <th>eu_sales</th>\n",
       "      <th>jp_sales</th>\n",
       "      <th>other_sales</th>\n",
       "      <th>critic_score</th>\n",
       "      <th>user_score</th>\n",
       "      <th>rating</th>\n",
       "      <th>total_sales</th>\n",
       "    </tr>\n",
       "  </thead>\n",
       "  <tbody>\n",
       "    <tr>\n",
       "      <th>16</th>\n",
       "      <td>Grand Theft Auto V</td>\n",
       "      <td>PS3</td>\n",
       "      <td>2013</td>\n",
       "      <td>Action</td>\n",
       "      <td>7.02</td>\n",
       "      <td>9.09</td>\n",
       "      <td>0.98</td>\n",
       "      <td>3.96</td>\n",
       "      <td>97.0</td>\n",
       "      <td>8.2</td>\n",
       "      <td>M</td>\n",
       "      <td>21.05</td>\n",
       "    </tr>\n",
       "    <tr>\n",
       "      <th>23</th>\n",
       "      <td>Grand Theft Auto V</td>\n",
       "      <td>X360</td>\n",
       "      <td>2013</td>\n",
       "      <td>Action</td>\n",
       "      <td>9.66</td>\n",
       "      <td>5.14</td>\n",
       "      <td>0.06</td>\n",
       "      <td>1.41</td>\n",
       "      <td>97.0</td>\n",
       "      <td>8.1</td>\n",
       "      <td>M</td>\n",
       "      <td>16.27</td>\n",
       "    </tr>\n",
       "    <tr>\n",
       "      <th>31</th>\n",
       "      <td>Call of Duty: Black Ops 3</td>\n",
       "      <td>PS4</td>\n",
       "      <td>2015</td>\n",
       "      <td>Shooter</td>\n",
       "      <td>6.03</td>\n",
       "      <td>5.86</td>\n",
       "      <td>0.36</td>\n",
       "      <td>2.38</td>\n",
       "      <td>NaN</td>\n",
       "      <td>NaN</td>\n",
       "      <td>unknown</td>\n",
       "      <td>14.63</td>\n",
       "    </tr>\n",
       "    <tr>\n",
       "      <th>33</th>\n",
       "      <td>Pokemon X/Pokemon Y</td>\n",
       "      <td>3DS</td>\n",
       "      <td>2013</td>\n",
       "      <td>Role-Playing</td>\n",
       "      <td>5.28</td>\n",
       "      <td>4.19</td>\n",
       "      <td>4.35</td>\n",
       "      <td>0.78</td>\n",
       "      <td>NaN</td>\n",
       "      <td>NaN</td>\n",
       "      <td>unknown</td>\n",
       "      <td>14.60</td>\n",
       "    </tr>\n",
       "    <tr>\n",
       "      <th>42</th>\n",
       "      <td>Grand Theft Auto V</td>\n",
       "      <td>PS4</td>\n",
       "      <td>2014</td>\n",
       "      <td>Action</td>\n",
       "      <td>3.96</td>\n",
       "      <td>6.31</td>\n",
       "      <td>0.38</td>\n",
       "      <td>1.97</td>\n",
       "      <td>97.0</td>\n",
       "      <td>8.3</td>\n",
       "      <td>M</td>\n",
       "      <td>12.62</td>\n",
       "    </tr>\n",
       "    <tr>\n",
       "      <th>...</th>\n",
       "      <td>...</td>\n",
       "      <td>...</td>\n",
       "      <td>...</td>\n",
       "      <td>...</td>\n",
       "      <td>...</td>\n",
       "      <td>...</td>\n",
       "      <td>...</td>\n",
       "      <td>...</td>\n",
       "      <td>...</td>\n",
       "      <td>...</td>\n",
       "      <td>...</td>\n",
       "      <td>...</td>\n",
       "    </tr>\n",
       "    <tr>\n",
       "      <th>16264</th>\n",
       "      <td>Worms: WMD</td>\n",
       "      <td>XOne</td>\n",
       "      <td>2016</td>\n",
       "      <td>Action</td>\n",
       "      <td>0.01</td>\n",
       "      <td>0.00</td>\n",
       "      <td>0.00</td>\n",
       "      <td>0.00</td>\n",
       "      <td>75.0</td>\n",
       "      <td>8.1</td>\n",
       "      <td>E10+</td>\n",
       "      <td>0.01</td>\n",
       "    </tr>\n",
       "    <tr>\n",
       "      <th>16267</th>\n",
       "      <td>The Book of Unwritten Tales 2</td>\n",
       "      <td>WiiU</td>\n",
       "      <td>2016</td>\n",
       "      <td>Adventure</td>\n",
       "      <td>0.00</td>\n",
       "      <td>0.01</td>\n",
       "      <td>0.00</td>\n",
       "      <td>0.00</td>\n",
       "      <td>NaN</td>\n",
       "      <td>NaN</td>\n",
       "      <td>T</td>\n",
       "      <td>0.01</td>\n",
       "    </tr>\n",
       "    <tr>\n",
       "      <th>16270</th>\n",
       "      <td>Hyakka Yakou</td>\n",
       "      <td>PSV</td>\n",
       "      <td>2015</td>\n",
       "      <td>Action</td>\n",
       "      <td>0.00</td>\n",
       "      <td>0.00</td>\n",
       "      <td>0.01</td>\n",
       "      <td>0.00</td>\n",
       "      <td>NaN</td>\n",
       "      <td>NaN</td>\n",
       "      <td>unknown</td>\n",
       "      <td>0.01</td>\n",
       "    </tr>\n",
       "    <tr>\n",
       "      <th>16273</th>\n",
       "      <td>Doki-Doki Universe</td>\n",
       "      <td>PSV</td>\n",
       "      <td>2013</td>\n",
       "      <td>Adventure</td>\n",
       "      <td>0.00</td>\n",
       "      <td>0.01</td>\n",
       "      <td>0.00</td>\n",
       "      <td>0.00</td>\n",
       "      <td>66.0</td>\n",
       "      <td>5.7</td>\n",
       "      <td>E10+</td>\n",
       "      <td>0.01</td>\n",
       "    </tr>\n",
       "    <tr>\n",
       "      <th>16714</th>\n",
       "      <td>Winning Post 8 2016</td>\n",
       "      <td>PSV</td>\n",
       "      <td>2016</td>\n",
       "      <td>Simulation</td>\n",
       "      <td>0.00</td>\n",
       "      <td>0.00</td>\n",
       "      <td>0.01</td>\n",
       "      <td>0.00</td>\n",
       "      <td>NaN</td>\n",
       "      <td>NaN</td>\n",
       "      <td>unknown</td>\n",
       "      <td>0.01</td>\n",
       "    </tr>\n",
       "  </tbody>\n",
       "</table>\n",
       "<p>2233 rows × 12 columns</p>\n",
       "</div>"
      ],
      "text/plain": [
       "                                name platform  year_of_release         genre  \\\n",
       "16                Grand Theft Auto V      PS3             2013        Action   \n",
       "23                Grand Theft Auto V     X360             2013        Action   \n",
       "31         Call of Duty: Black Ops 3      PS4             2015       Shooter   \n",
       "33               Pokemon X/Pokemon Y      3DS             2013  Role-Playing   \n",
       "42                Grand Theft Auto V      PS4             2014        Action   \n",
       "...                              ...      ...              ...           ...   \n",
       "16264                     Worms: WMD     XOne             2016        Action   \n",
       "16267  The Book of Unwritten Tales 2     WiiU             2016     Adventure   \n",
       "16270                   Hyakka Yakou      PSV             2015        Action   \n",
       "16273             Doki-Doki Universe      PSV             2013     Adventure   \n",
       "16714            Winning Post 8 2016      PSV             2016    Simulation   \n",
       "\n",
       "       na_sales  eu_sales  jp_sales  other_sales  critic_score  user_score  \\\n",
       "16         7.02      9.09      0.98         3.96          97.0         8.2   \n",
       "23         9.66      5.14      0.06         1.41          97.0         8.1   \n",
       "31         6.03      5.86      0.36         2.38           NaN         NaN   \n",
       "33         5.28      4.19      4.35         0.78           NaN         NaN   \n",
       "42         3.96      6.31      0.38         1.97          97.0         8.3   \n",
       "...         ...       ...       ...          ...           ...         ...   \n",
       "16264      0.01      0.00      0.00         0.00          75.0         8.1   \n",
       "16267      0.00      0.01      0.00         0.00           NaN         NaN   \n",
       "16270      0.00      0.00      0.01         0.00           NaN         NaN   \n",
       "16273      0.00      0.01      0.00         0.00          66.0         5.7   \n",
       "16714      0.00      0.00      0.01         0.00           NaN         NaN   \n",
       "\n",
       "        rating  total_sales  \n",
       "16           M        21.05  \n",
       "23           M        16.27  \n",
       "31     unknown        14.63  \n",
       "33     unknown        14.60  \n",
       "42           M        12.62  \n",
       "...        ...          ...  \n",
       "16264     E10+         0.01  \n",
       "16267        T         0.01  \n",
       "16270  unknown         0.01  \n",
       "16273     E10+         0.01  \n",
       "16714  unknown         0.01  \n",
       "\n",
       "[2233 rows x 12 columns]"
      ]
     },
     "execution_count": 34,
     "metadata": {},
     "output_type": "execute_result"
    }
   ],
   "source": [
    "actual_period #посмотрим результат"
   ]
  },
  {
   "cell_type": "code",
   "execution_count": 35,
   "metadata": {},
   "outputs": [
    {
     "data": {
      "text/html": [
       "<div>\n",
       "<style scoped>\n",
       "    .dataframe tbody tr th:only-of-type {\n",
       "        vertical-align: middle;\n",
       "    }\n",
       "\n",
       "    .dataframe tbody tr th {\n",
       "        vertical-align: top;\n",
       "    }\n",
       "\n",
       "    .dataframe thead th {\n",
       "        text-align: right;\n",
       "    }\n",
       "</style>\n",
       "<table border=\"1\" class=\"dataframe\">\n",
       "  <thead>\n",
       "    <tr style=\"text-align: right;\">\n",
       "      <th></th>\n",
       "      <th>total_sales</th>\n",
       "    </tr>\n",
       "    <tr>\n",
       "      <th>platform</th>\n",
       "      <th></th>\n",
       "    </tr>\n",
       "  </thead>\n",
       "  <tbody>\n",
       "    <tr>\n",
       "      <th>PS4</th>\n",
       "      <td>314.14</td>\n",
       "    </tr>\n",
       "    <tr>\n",
       "      <th>PS3</th>\n",
       "      <td>181.43</td>\n",
       "    </tr>\n",
       "    <tr>\n",
       "      <th>XOne</th>\n",
       "      <td>159.32</td>\n",
       "    </tr>\n",
       "    <tr>\n",
       "      <th>3DS</th>\n",
       "      <td>143.25</td>\n",
       "    </tr>\n",
       "    <tr>\n",
       "      <th>X360</th>\n",
       "      <td>136.80</td>\n",
       "    </tr>\n",
       "    <tr>\n",
       "      <th>WiiU</th>\n",
       "      <td>64.63</td>\n",
       "    </tr>\n",
       "    <tr>\n",
       "      <th>PC</th>\n",
       "      <td>39.43</td>\n",
       "    </tr>\n",
       "    <tr>\n",
       "      <th>PSV</th>\n",
       "      <td>32.99</td>\n",
       "    </tr>\n",
       "    <tr>\n",
       "      <th>Wii</th>\n",
       "      <td>13.66</td>\n",
       "    </tr>\n",
       "    <tr>\n",
       "      <th>PSP</th>\n",
       "      <td>3.50</td>\n",
       "    </tr>\n",
       "    <tr>\n",
       "      <th>DS</th>\n",
       "      <td>1.54</td>\n",
       "    </tr>\n",
       "  </tbody>\n",
       "</table>\n",
       "</div>"
      ],
      "text/plain": [
       "          total_sales\n",
       "platform             \n",
       "PS4            314.14\n",
       "PS3            181.43\n",
       "XOne           159.32\n",
       "3DS            143.25\n",
       "X360           136.80\n",
       "WiiU            64.63\n",
       "PC              39.43\n",
       "PSV             32.99\n",
       "Wii             13.66\n",
       "PSP              3.50\n",
       "DS               1.54"
      ]
     },
     "execution_count": 35,
     "metadata": {},
     "output_type": "execute_result"
    }
   ],
   "source": [
    "actual_period.pivot_table(index = 'platform', values = 'total_sales', aggfunc = 'sum') \\\n",
    "            .sort_values(by='total_sales', ascending =False) \n",
    "#построим сводную таблицу по общим продажам каждой платформы"
   ]
  },
  {
   "cell_type": "code",
   "execution_count": 36,
   "metadata": {},
   "outputs": [
    {
     "data": {
      "image/png": "[encoded data removed]",
      "text/plain": [
       "<Figure size 864x432 with 1 Axes>"
      ]
     },
     "metadata": {
      "needs_background": "light"
     },
     "output_type": "display_data"
    }
   ],
   "source": [
    "top_platforms = (actual_period\n",
    "                 .pivot_table(index='year_of_release', columns = 'platform', values='total_sales', aggfunc='sum')\n",
    "                 .plot(grid=True, figsize=(12, 6))\n",
    "                )\n",
    "plt.title('Распределение продаж по платформам и годам')\n",
    "plt.xlabel('Годы')\n",
    "plt.ylabel('Миллионы проданных копий')\n",
    "plt.show() #построим график по годам"
   ]
  },
  {
   "cell_type": "markdown",
   "metadata": {},
   "source": [
    "На графике видим тенденцию к снижению продаж по всем платформам, в 2016 году можем рассматривать PS4, XOne и 3DS, как потенциально прибыльные."
   ]
  },
  {
   "cell_type": "markdown",
   "metadata": {},
   "source": [
    "----"
   ]
  },
  {
   "cell_type": "markdown",
   "metadata": {},
   "source": [
    "***Построим график «ящик с усами» по глобальным продажам игр в разбивке по платформам.***"
   ]
  },
  {
   "cell_type": "code",
   "execution_count": 37,
   "metadata": {},
   "outputs": [
    {
     "data": {
      "text/plain": [
       "[(0.0, 2.0)]"
      ]
     },
     "execution_count": 37,
     "metadata": {},
     "output_type": "execute_result"
    },
    {
     "data": {
      "image/png": "[encoded data removed]",
      "text/plain": [
       "<Figure size 1080x576 with 1 Axes>"
      ]
     },
     "metadata": {
      "needs_background": "light"
     },
     "output_type": "display_data"
    }
   ],
   "source": [
    "plt.figure(figsize=(15,8))\n",
    "ax = sns.boxplot(data=actual_period,x='platform',y='total_sales')\n",
    "plt.title('Глобальные продажи по платформам')\n",
    "plt.xlabel('Платформа')\n",
    "plt.ylabel('Общие продажи')\n",
    "ax.set(ylim=(0,2))"
   ]
  },
  {
   "cell_type": "markdown",
   "metadata": {},
   "source": [
    "Среднее сильно отличается от медианы. Видим множество выбросов, возможно, некоторых игры игроки особенно ждали.\n",
    "Лидер X360, далее Wii, похожие результаты у PS4 и XOne, замыкает рейтинг топ-5 платформа WiiU."
   ]
  },
  {
   "cell_type": "markdown",
   "metadata": {},
   "source": [
    "***Посмотрим, как влияют на продажи внутри платформы PS4 отзывы пользователей и критиков.***"
   ]
  },
  {
   "cell_type": "code",
   "execution_count": 38,
   "metadata": {},
   "outputs": [],
   "source": [
    "actual_PS4 = actual_period.query('platform==\"PS4\"')"
   ]
  },
  {
   "cell_type": "markdown",
   "metadata": {},
   "source": [
    "Построим диаграмму рассеяния и посчитаем корреляцию между отзывами и продажами."
   ]
  },
  {
   "cell_type": "code",
   "execution_count": 39,
   "metadata": {},
   "outputs": [
    {
     "data": {
      "image/png": "[encoded data removed]",
      "text/plain": [
       "<Figure size 576x360 with 1 Axes>"
      ]
     },
     "metadata": {
      "needs_background": "light"
     },
     "output_type": "display_data"
    }
   ],
   "source": [
    "actual_PS4.plot(x='critic_score', y='total_sales', \n",
    "            kind ='scatter', alpha = 0.5, figsize=(8,5),\n",
    "        title='Диаграмма рассеивания зависимости продаж PS4 и отзывов критиков')\n",
    "plt.xlabel('Отзывы критиков')\n",
    "plt.ylabel('Продажи')\n",
    "plt.show() #построим диаграмму рассеивания "
   ]
  },
  {
   "cell_type": "code",
   "execution_count": 40,
   "metadata": {},
   "outputs": [
    {
     "name": "stdout",
     "output_type": "stream",
     "text": [
      "Корреляция между продажами PS4 и отзывами критиков: 0.406567902061781\n"
     ]
    }
   ],
   "source": [
    "print('Корреляция между продажами PS4 и отзывами критиков:',actual_PS4['total_sales'].corr(actual_PS4['critic_score'])) "
   ]
  },
  {
   "cell_type": "code",
   "execution_count": 41,
   "metadata": {},
   "outputs": [
    {
     "data": {
      "image/png": "[encoded data removed]",
      "text/plain": [
       "<Figure size 576x360 with 1 Axes>"
      ]
     },
     "metadata": {
      "needs_background": "light"
     },
     "output_type": "display_data"
    }
   ],
   "source": [
    "actual_PS4.plot(x='user_score', y='total_sales', \n",
    "            kind ='scatter', alpha = 0.5, figsize=(8,5),\n",
    "        title='Диаграмма рассеивания зависимости продаж PS4 и отзывов пользователей')\n",
    "plt.xlabel('Отзывы пользователей')\n",
    "plt.ylabel('Продажи')\n",
    "plt.show() #построим диаграмму рассеивания "
   ]
  },
  {
   "cell_type": "code",
   "execution_count": 42,
   "metadata": {},
   "outputs": [
    {
     "name": "stdout",
     "output_type": "stream",
     "text": [
      "Корреляция между продажами PS4 и отзывами пользователей: -0.03195711020455638\n"
     ]
    }
   ],
   "source": [
    "print('Корреляция между продажами PS4 и отзывами пользователей:', actual_PS4['total_sales'].corr(actual_PS4['user_score']))"
   ]
  },
  {
   "cell_type": "markdown",
   "metadata": {},
   "source": [
    "Есть средняя положительная 0.4 корреляция между продажами PS4 и отзывами критиков, слабоотрицательная -0.03 между продажами PS4 и отзывами пользователей.\n",
    "Таким образом нет связи между отзывами пользователей и продажами PS4, отзывы критиков имеют большее значение."
   ]
  },
  {
   "cell_type": "markdown",
   "metadata": {},
   "source": [
    "***Посмотрим влияние отзывов пользователей и критиков на продажи платформ X360, XOne и PS3.***"
   ]
  },
  {
   "cell_type": "code",
   "execution_count": 43,
   "metadata": {},
   "outputs": [],
   "source": [
    "actual_X360 = actual_period.query('platform==\"X360\"')\n",
    "actual_XOne = actual_period.query('platform==\"XOne\"')\n",
    "actual_PS3 = actual_period.query('platform==\"PS3\"') "
   ]
  },
  {
   "cell_type": "code",
   "execution_count": 44,
   "metadata": {},
   "outputs": [
    {
     "data": {
      "image/png": "[encoded data removed]",
      "text/plain": [
       "<Figure size 360x216 with 1 Axes>"
      ]
     },
     "metadata": {
      "needs_background": "light"
     },
     "output_type": "display_data"
    },
    {
     "data": {
      "image/png": "[encoded data removed]",
      "text/plain": [
       "<Figure size 360x216 with 1 Axes>"
      ]
     },
     "metadata": {
      "needs_background": "light"
     },
     "output_type": "display_data"
    },
    {
     "data": {
      "image/png": "[encoded data removed]",
      "text/plain": [
       "<Figure size 360x216 with 1 Axes>"
      ]
     },
     "metadata": {
      "needs_background": "light"
     },
     "output_type": "display_data"
    }
   ],
   "source": [
    "actual_X360.plot(x='critic_score', y='total_sales', \n",
    "            kind ='scatter', alpha = 0.5, figsize=(5,3),\n",
    "        title='Диаграмма рассеивания зависимости продаж X360 и отзывов критиков')\n",
    "plt.xlabel('Отзывы критиков')\n",
    "plt.ylabel('Продажи')\n",
    "plt.show() #построим диаграмму рассеивания \n",
    "\n",
    "actual_XOne.plot(x='critic_score', y='total_sales', \n",
    "            kind ='scatter', alpha = 0.5, figsize=(5,3),\n",
    "        title='Диаграмма рассеивания зависимости продаж XOne и отзывов критиков')\n",
    "plt.xlabel('Отзывы критиков')\n",
    "plt.ylabel('Продажи')\n",
    "plt.show() #построим диаграмму рассеивания \n",
    "\n",
    "actual_PS3.plot(x='critic_score', y='total_sales', \n",
    "            kind ='scatter', alpha = 0.5, figsize=(5,3),\n",
    "        title='Диаграмма рассеивания зависимости продаж PS3 и отзывов критиков')\n",
    "plt.xlabel('Отзывы критиков')\n",
    "plt.ylabel('Продажи')\n",
    "plt.show() #построим диаграмму рассеивания "
   ]
  },
  {
   "cell_type": "code",
   "execution_count": 45,
   "metadata": {},
   "outputs": [
    {
     "name": "stdout",
     "output_type": "stream",
     "text": [
      "Корреляция между продажами X360 и отзывами критиков: 0.35034454602286635\n"
     ]
    }
   ],
   "source": [
    "print('Корреляция между продажами X360 и отзывами критиков:', actual_X360['total_sales'].corr(actual_X360['critic_score'])) \n"
   ]
  },
  {
   "cell_type": "code",
   "execution_count": 46,
   "metadata": {},
   "outputs": [
    {
     "name": "stdout",
     "output_type": "stream",
     "text": [
      "Корреляция между продажами XOne и отзывами критиков: 0.4169983280084017\n"
     ]
    }
   ],
   "source": [
    "print('Корреляция между продажами XOne и отзывами критиков:', actual_XOne['total_sales'].corr(actual_XOne['critic_score'])) "
   ]
  },
  {
   "cell_type": "code",
   "execution_count": 47,
   "metadata": {},
   "outputs": [
    {
     "name": "stdout",
     "output_type": "stream",
     "text": [
      "Корреляция между продажами PS3 и отзывами критиков: 0.33428533933719196\n"
     ]
    }
   ],
   "source": [
    "print('Корреляция между продажами PS3 и отзывами критиков:',actual_PS3['total_sales'].corr(actual_PS3['critic_score']))"
   ]
  },
  {
   "cell_type": "markdown",
   "metadata": {},
   "source": [
    "Корреляция между продажами платформ X360, XOne, PS3 и отзывами критиков средняя положительная. <br>\n",
    "Заметнее у XOne, чуть меньше X360 и PS3."
   ]
  },
  {
   "cell_type": "code",
   "execution_count": 48,
   "metadata": {},
   "outputs": [
    {
     "data": {
      "image/png": "[encoded data removed]",
      "text/plain": [
       "<Figure size 360x216 with 1 Axes>"
      ]
     },
     "metadata": {
      "needs_background": "light"
     },
     "output_type": "display_data"
    },
    {
     "data": {
      "image/png": "[encoded data removed]",
      "text/plain": [
       "<Figure size 360x216 with 1 Axes>"
      ]
     },
     "metadata": {
      "needs_background": "light"
     },
     "output_type": "display_data"
    },
    {
     "data": {
      "image/png": "[encoded data removed]",
      "text/plain": [
       "<Figure size 360x216 with 1 Axes>"
      ]
     },
     "metadata": {
      "needs_background": "light"
     },
     "output_type": "display_data"
    }
   ],
   "source": [
    "actual_X360.plot(x='user_score', y='total_sales', \n",
    "            kind ='scatter', alpha = 0.5, figsize=(5,3),\n",
    "        title='Диаграмма рассеивания зависимости продаж X360 и отзывов пользователей')\n",
    "plt.xlabel('Отзывы пользователей')\n",
    "plt.ylabel('Продажи')\n",
    "plt.show() #построим диаграмму рассеивания \n",
    "\n",
    "actual_XOne.plot(x='user_score', y='total_sales', \n",
    "            kind ='scatter', alpha = 0.5, figsize=(5,3),\n",
    "        title='Диаграмма рассеивания зависимости продаж XOne и отзывов пользователей')\n",
    "plt.xlabel('Отзывы пользователей')\n",
    "plt.ylabel('Продажи')\n",
    "plt.show() #построим диаграмму рассеивания \n",
    "\n",
    "actual_PS3.plot(x='user_score', y='total_sales', \n",
    "            kind ='scatter', alpha = 0.5, figsize=(5,3),\n",
    "        title='Диаграмма рассеивания зависимости продаж PS3 и отзывов пользователей')\n",
    "plt.xlabel('Отзывы пользователей')\n",
    "plt.ylabel('Продажи')\n",
    "plt.show() #построим диаграмму рассеивания "
   ]
  },
  {
   "cell_type": "code",
   "execution_count": 49,
   "metadata": {},
   "outputs": [
    {
     "name": "stdout",
     "output_type": "stream",
     "text": [
      "Корреляция между продажами X360 и отзывами пользователей: -0.011742185147181347\n"
     ]
    }
   ],
   "source": [
    "print('Корреляция между продажами X360 и отзывами пользователей:', actual_X360['total_sales'].corr(actual_X360['user_score'])) "
   ]
  },
  {
   "cell_type": "code",
   "execution_count": 50,
   "metadata": {},
   "outputs": [
    {
     "name": "stdout",
     "output_type": "stream",
     "text": [
      "Корреляция между продажами XOne и отзывами пользователей: -0.0689250532827941\n"
     ]
    }
   ],
   "source": [
    "print('Корреляция между продажами XOne и отзывами пользователей:', actual_XOne['total_sales'].corr(actual_XOne['user_score'])) "
   ]
  },
  {
   "cell_type": "code",
   "execution_count": 51,
   "metadata": {},
   "outputs": [
    {
     "name": "stdout",
     "output_type": "stream",
     "text": [
      "Корреляция между продажами PS3 и отзывами пользователей: 0.002394402735756699\n"
     ]
    }
   ],
   "source": [
    "print('Корреляция между продажами PS3 и отзывами пользователей:', actual_PS3['total_sales'].corr(actual_PS3['user_score'])) "
   ]
  },
  {
   "cell_type": "markdown",
   "metadata": {},
   "source": [
    "Корреляция между продажами платформ X360, XOne, PS3 и отзывами пользователей слабая отрицательная."
   ]
  },
  {
   "cell_type": "markdown",
   "metadata": {},
   "source": [
    "----"
   ]
  },
  {
   "cell_type": "markdown",
   "metadata": {},
   "source": [
    "<div style=\"border:solid steelblue 2px; padding: 10px; border-radius: 5px\"> \n",
    "Проанализировали влияние отзывов критиков и пользователей на продажи игр на платформах XOne, X360 и PS3.\n",
    "    \n",
    "Корреляция между продажами платформ и отзывами пользователей слабая отрицательная, из чего можем сказать, что отзывы пользователей на продажи не влияют.\n",
    "    \n",
    "Корреляция между продажами платформ X360, XOne, PS3 и отзывами критиков средняя положительная. Отметим большее влияние на платформу XOne."
   ]
  },
  {
   "cell_type": "markdown",
   "metadata": {},
   "source": [
    "----"
   ]
  },
  {
   "cell_type": "markdown",
   "metadata": {},
   "source": [
    "***Игры по жанрам*** "
   ]
  },
  {
   "cell_type": "markdown",
   "metadata": {},
   "source": [
    "Посмотрим на общее распределение игр по жанрам"
   ]
  },
  {
   "cell_type": "code",
   "execution_count": 52,
   "metadata": {},
   "outputs": [
    {
     "data": {
      "text/plain": [
       "array(['Action', 'Adventure', 'Fighting', 'Misc', 'Platform', 'Puzzle',\n",
       "       'Racing', 'Role-Playing', 'Shooter', 'Simulation', 'Sports',\n",
       "       'Strategy'], dtype=object)"
      ]
     },
     "execution_count": 52,
     "metadata": {},
     "output_type": "execute_result"
    }
   ],
   "source": [
    "games['genre'].sort_values(ascending = True).unique() #посмотрим название жанров"
   ]
  },
  {
   "cell_type": "markdown",
   "metadata": {},
   "source": [
    "*Описание жанров*\n",
    "\n",
    "Action - Имеет акцент на борьбе, включает в себя прохождение определённых уровней для достижения битвы с боссами <br>\n",
    "Adventure - Делает упор на головоломки без высокой активности <br>\n",
    "Fighting - Основное внимание уделяется бою один на один <br>\n",
    "Misc - Мультижанровый, разное <br>\n",
    "Platform - Основное внимание уделяется прыжкам или сложностям навигации, часто включают в себя элементы игр-экшенов <br>\n",
    "Puzzle - Сосредоточена на решение абстрактных головоломок <br>\n",
    "Racing - Соревнованиями по времени между персонажами или транспортными средствами <br>\n",
    "Role-playing - Сосредоточена на решении проблем, взаимодействии с неигровыми персонажами, участии в боях, статистическом развитии персонажа <br>\n",
    "Shooter - основой игрового процесса  является сражение с использованием оружия <br>\n",
    "Simulation - Имитирующее определённые направления деятельности <br>\n",
    "Sports - Отражают соревнования по существующим видам спорта <br>\n",
    "Strategy - С акцентом на тактические управление ресурсами и территорией против оппонента"
   ]
  },
  {
   "cell_type": "code",
   "execution_count": 53,
   "metadata": {},
   "outputs": [
    {
     "data": {
      "image/png": "[encoded data removed]",
      "text/plain": [
       "<Figure size 864x432 with 1 Axes>"
      ]
     },
     "metadata": {
      "needs_background": "light"
     },
     "output_type": "display_data"
    }
   ],
   "source": [
    "ax = games['genre'].value_counts().plot.bar(figsize=(12,6),title = 'Соотношение игр по жанрам')\n",
    "plt.xlabel('Жанры')\n",
    "plt.ylabel('Количество игр')\n",
    "plt.show() #построим столбчатую диаграмму"
   ]
  },
  {
   "cell_type": "code",
   "execution_count": 54,
   "metadata": {},
   "outputs": [
    {
     "data": {
      "text/plain": [
       "Action          20.2%\n",
       "Sports          14.0%\n",
       "Misc            10.5%\n",
       "Role-Playing     9.0%\n",
       "Shooter          7.9%\n",
       "Adventure        7.8%\n",
       "Racing           7.5%\n",
       "Platform         5.3%\n",
       "Simulation       5.2%\n",
       "Fighting         5.1%\n",
       "Strategy         4.1%\n",
       "Puzzle           3.5%\n",
       "Name: genre, dtype: object"
      ]
     },
     "execution_count": 54,
     "metadata": {},
     "output_type": "execute_result"
    }
   ],
   "source": [
    "games['genre'].value_counts(normalize=True).mul(100).round(1).astype(str) + '%' #процентное соотношение игр"
   ]
  },
  {
   "cell_type": "markdown",
   "metadata": {},
   "source": [
    "Пятую часть от общего количества (из 12 представленных жанров) занимают игры жанра Action. На втором месте жанр Sports, на третьем Misc. Puzzle занимает всего 3%."
   ]
  },
  {
   "cell_type": "markdown",
   "metadata": {},
   "source": [
    "***Продажи в зависимости от жанра***"
   ]
  },
  {
   "cell_type": "code",
   "execution_count": 55,
   "metadata": {},
   "outputs": [
    {
     "data": {
      "text/html": [
       "<div>\n",
       "<style scoped>\n",
       "    .dataframe tbody tr th:only-of-type {\n",
       "        vertical-align: middle;\n",
       "    }\n",
       "\n",
       "    .dataframe tbody tr th {\n",
       "        vertical-align: top;\n",
       "    }\n",
       "\n",
       "    .dataframe thead th {\n",
       "        text-align: right;\n",
       "    }\n",
       "</style>\n",
       "<table border=\"1\" class=\"dataframe\">\n",
       "  <thead>\n",
       "    <tr style=\"text-align: right;\">\n",
       "      <th></th>\n",
       "      <th>total_sales</th>\n",
       "    </tr>\n",
       "    <tr>\n",
       "      <th>genre</th>\n",
       "      <th></th>\n",
       "    </tr>\n",
       "  </thead>\n",
       "  <tbody>\n",
       "    <tr>\n",
       "      <th>Platform</th>\n",
       "      <td>0.932173</td>\n",
       "    </tr>\n",
       "    <tr>\n",
       "      <th>Shooter</th>\n",
       "      <td>0.795503</td>\n",
       "    </tr>\n",
       "    <tr>\n",
       "      <th>Role-Playing</th>\n",
       "      <td>0.623872</td>\n",
       "    </tr>\n",
       "    <tr>\n",
       "      <th>Racing</th>\n",
       "      <td>0.583403</td>\n",
       "    </tr>\n",
       "    <tr>\n",
       "      <th>Sports</th>\n",
       "      <td>0.566980</td>\n",
       "    </tr>\n",
       "    <tr>\n",
       "      <th>Fighting</th>\n",
       "      <td>0.527126</td>\n",
       "    </tr>\n",
       "    <tr>\n",
       "      <th>Action</th>\n",
       "      <td>0.517711</td>\n",
       "    </tr>\n",
       "    <tr>\n",
       "      <th>Misc</th>\n",
       "      <td>0.458577</td>\n",
       "    </tr>\n",
       "    <tr>\n",
       "      <th>Simulation</th>\n",
       "      <td>0.446701</td>\n",
       "    </tr>\n",
       "    <tr>\n",
       "      <th>Puzzle</th>\n",
       "      <td>0.418224</td>\n",
       "    </tr>\n",
       "    <tr>\n",
       "      <th>Strategy</th>\n",
       "      <td>0.255095</td>\n",
       "    </tr>\n",
       "    <tr>\n",
       "      <th>Adventure</th>\n",
       "      <td>0.182341</td>\n",
       "    </tr>\n",
       "  </tbody>\n",
       "</table>\n",
       "</div>"
      ],
      "text/plain": [
       "              total_sales\n",
       "genre                    \n",
       "Platform         0.932173\n",
       "Shooter          0.795503\n",
       "Role-Playing     0.623872\n",
       "Racing           0.583403\n",
       "Sports           0.566980\n",
       "Fighting         0.527126\n",
       "Action           0.517711\n",
       "Misc             0.458577\n",
       "Simulation       0.446701\n",
       "Puzzle           0.418224\n",
       "Strategy         0.255095\n",
       "Adventure        0.182341"
      ]
     },
     "execution_count": 55,
     "metadata": {},
     "output_type": "execute_result"
    }
   ],
   "source": [
    "genre_total = games.pivot_table(index='genre', values='total_sales', aggfunc='mean')\n",
    "genre_total.sort_values('total_sales', ascending=False) #сводная таблица по жанрам и общим продажам"
   ]
  },
  {
   "cell_type": "markdown",
   "metadata": {},
   "source": [
    "Возглавляют продажи игр с жанрами Platform, Shooter и Role-playing. Наименьшие продажи у жанров Puzzle, Strategy и Adventure."
   ]
  },
  {
   "cell_type": "markdown",
   "metadata": {},
   "source": [
    "Удивительно, больше всего продаж у жанра Platform, в то время как количество игр чуть более 5% от общего числа. <br>\n",
    "Второе место у Shooter, составляет 8% от общего количества компьютерных игр. <br>\n",
    "Лидер по количеству игр в жанре Action занимает в продажах 7 место из 12."
   ]
  },
  {
   "cell_type": "code",
   "execution_count": 88,
   "metadata": {},
   "outputs": [
    {
     "data": {
      "image/png": "[encoded data removed]",
      "text/plain": [
       "<Figure size 864x360 with 1 Axes>"
      ]
     },
     "metadata": {
      "needs_background": "light"
     },
     "output_type": "display_data"
    }
   ],
   "source": [
    "actual_period.groupby('genre')['total_sales'].mean().sort_values().plot(\n",
    "    kind = 'barh', title = 'Средние продажи по жанрам',\n",
    "    xlabel = 'Продажи',\n",
    "    ylabel = 'Жанры',\n",
    "    figsize = (12, 5))\n",
    "plt.show()"
   ]
  },
  {
   "cell_type": "markdown",
   "metadata": {},
   "source": [
    "----"
   ]
  },
  {
   "cell_type": "markdown",
   "metadata": {},
   "source": [
    "#### Портрет пользователя региона"
   ]
  },
  {
   "cell_type": "markdown",
   "metadata": {},
   "source": [
    "**Популярные платформы**"
   ]
  },
  {
   "cell_type": "code",
   "execution_count": 56,
   "metadata": {},
   "outputs": [
    {
     "data": {
      "text/html": [
       "<div>\n",
       "<style scoped>\n",
       "    .dataframe tbody tr th:only-of-type {\n",
       "        vertical-align: middle;\n",
       "    }\n",
       "\n",
       "    .dataframe tbody tr th {\n",
       "        vertical-align: top;\n",
       "    }\n",
       "\n",
       "    .dataframe thead th {\n",
       "        text-align: right;\n",
       "    }\n",
       "</style>\n",
       "<table border=\"1\" class=\"dataframe\">\n",
       "  <thead>\n",
       "    <tr style=\"text-align: right;\">\n",
       "      <th></th>\n",
       "      <th>eu_sales</th>\n",
       "      <th>jp_sales</th>\n",
       "      <th>na_sales</th>\n",
       "      <th>total_sales</th>\n",
       "    </tr>\n",
       "    <tr>\n",
       "      <th>platform</th>\n",
       "      <th></th>\n",
       "      <th></th>\n",
       "      <th></th>\n",
       "      <th></th>\n",
       "    </tr>\n",
       "  </thead>\n",
       "  <tbody>\n",
       "    <tr>\n",
       "      <th>3DS</th>\n",
       "      <td>30.96</td>\n",
       "      <td>67.81</td>\n",
       "      <td>38.20</td>\n",
       "      <td>143.25</td>\n",
       "    </tr>\n",
       "    <tr>\n",
       "      <th>DS</th>\n",
       "      <td>0.85</td>\n",
       "      <td>0.00</td>\n",
       "      <td>0.57</td>\n",
       "      <td>1.54</td>\n",
       "    </tr>\n",
       "    <tr>\n",
       "      <th>PC</th>\n",
       "      <td>25.36</td>\n",
       "      <td>0.00</td>\n",
       "      <td>11.11</td>\n",
       "      <td>39.43</td>\n",
       "    </tr>\n",
       "    <tr>\n",
       "      <th>PS3</th>\n",
       "      <td>67.81</td>\n",
       "      <td>23.35</td>\n",
       "      <td>63.50</td>\n",
       "      <td>181.43</td>\n",
       "    </tr>\n",
       "    <tr>\n",
       "      <th>PS4</th>\n",
       "      <td>141.09</td>\n",
       "      <td>15.96</td>\n",
       "      <td>108.74</td>\n",
       "      <td>314.14</td>\n",
       "    </tr>\n",
       "    <tr>\n",
       "      <th>PSP</th>\n",
       "      <td>0.17</td>\n",
       "      <td>3.29</td>\n",
       "      <td>0.00</td>\n",
       "      <td>3.50</td>\n",
       "    </tr>\n",
       "    <tr>\n",
       "      <th>PSV</th>\n",
       "      <td>6.10</td>\n",
       "      <td>18.59</td>\n",
       "      <td>5.04</td>\n",
       "      <td>32.99</td>\n",
       "    </tr>\n",
       "    <tr>\n",
       "      <th>Wii</th>\n",
       "      <td>5.93</td>\n",
       "      <td>0.05</td>\n",
       "      <td>6.56</td>\n",
       "      <td>13.66</td>\n",
       "    </tr>\n",
       "    <tr>\n",
       "      <th>WiiU</th>\n",
       "      <td>19.85</td>\n",
       "      <td>10.88</td>\n",
       "      <td>29.21</td>\n",
       "      <td>64.63</td>\n",
       "    </tr>\n",
       "    <tr>\n",
       "      <th>X360</th>\n",
       "      <td>42.52</td>\n",
       "      <td>0.51</td>\n",
       "      <td>81.66</td>\n",
       "      <td>136.80</td>\n",
       "    </tr>\n",
       "    <tr>\n",
       "      <th>XOne</th>\n",
       "      <td>51.59</td>\n",
       "      <td>0.34</td>\n",
       "      <td>93.12</td>\n",
       "      <td>159.32</td>\n",
       "    </tr>\n",
       "  </tbody>\n",
       "</table>\n",
       "</div>"
      ],
      "text/plain": [
       "          eu_sales  jp_sales  na_sales  total_sales\n",
       "platform                                           \n",
       "3DS          30.96     67.81     38.20       143.25\n",
       "DS            0.85      0.00      0.57         1.54\n",
       "PC           25.36      0.00     11.11        39.43\n",
       "PS3          67.81     23.35     63.50       181.43\n",
       "PS4         141.09     15.96    108.74       314.14\n",
       "PSP           0.17      3.29      0.00         3.50\n",
       "PSV           6.10     18.59      5.04        32.99\n",
       "Wii           5.93      0.05      6.56        13.66\n",
       "WiiU         19.85     10.88     29.21        64.63\n",
       "X360         42.52      0.51     81.66       136.80\n",
       "XOne         51.59      0.34     93.12       159.32"
      ]
     },
     "execution_count": 56,
     "metadata": {},
     "output_type": "execute_result"
    }
   ],
   "source": [
    "sales_region = actual_period.pivot_table(index = 'platform' , \n",
    "                                 values = ['na_sales','eu_sales','jp_sales','total_sales'], aggfunc = 'sum')\n",
    "sales_region #создадим сводную таблицу продаж платформ по регионам"
   ]
  },
  {
   "cell_type": "code",
   "execution_count": 57,
   "metadata": {},
   "outputs": [
    {
     "data": {
      "text/html": [
       "<div>\n",
       "<style scoped>\n",
       "    .dataframe tbody tr th:only-of-type {\n",
       "        vertical-align: middle;\n",
       "    }\n",
       "\n",
       "    .dataframe tbody tr th {\n",
       "        vertical-align: top;\n",
       "    }\n",
       "\n",
       "    .dataframe thead th {\n",
       "        text-align: right;\n",
       "    }\n",
       "</style>\n",
       "<table border=\"1\" class=\"dataframe\">\n",
       "  <thead>\n",
       "    <tr style=\"text-align: right;\">\n",
       "      <th></th>\n",
       "      <th>na_sales</th>\n",
       "    </tr>\n",
       "    <tr>\n",
       "      <th>platform</th>\n",
       "      <th></th>\n",
       "    </tr>\n",
       "  </thead>\n",
       "  <tbody>\n",
       "    <tr>\n",
       "      <th>PS4</th>\n",
       "      <td>108.74</td>\n",
       "    </tr>\n",
       "    <tr>\n",
       "      <th>XOne</th>\n",
       "      <td>93.12</td>\n",
       "    </tr>\n",
       "    <tr>\n",
       "      <th>X360</th>\n",
       "      <td>81.66</td>\n",
       "    </tr>\n",
       "    <tr>\n",
       "      <th>PS3</th>\n",
       "      <td>63.50</td>\n",
       "    </tr>\n",
       "    <tr>\n",
       "      <th>3DS</th>\n",
       "      <td>38.20</td>\n",
       "    </tr>\n",
       "  </tbody>\n",
       "</table>\n",
       "</div>"
      ],
      "text/plain": [
       "          na_sales\n",
       "platform          \n",
       "PS4         108.74\n",
       "XOne         93.12\n",
       "X360         81.66\n",
       "PS3          63.50\n",
       "3DS          38.20"
      ]
     },
     "execution_count": 57,
     "metadata": {},
     "output_type": "execute_result"
    }
   ],
   "source": [
    "na_sales = actual_period.pivot_table(index = 'platform' , values = 'na_sales', aggfunc = 'sum')\n",
    "na = na_sales.sort_values('na_sales', ascending=False).head()\n",
    "na\n",
    "#ТОП-5 платформ продаж в Северной Америке (миллионы проданных копий)"
   ]
  },
  {
   "cell_type": "code",
   "execution_count": 58,
   "metadata": {},
   "outputs": [
    {
     "data": {
      "image/png": "[encoded data removed]",
      "text/plain": [
       "<Figure size 432x288 with 1 Axes>"
      ]
     },
     "metadata": {
      "needs_background": "light"
     },
     "output_type": "display_data"
    }
   ],
   "source": [
    "na.plot(kind = 'bar', title='Продажи платформ в Северной Америке')\n",
    "plt.xlabel('Платформа')\n",
    "plt.ylabel('Миллионы проданных копий')\n",
    "plt.show() #построим диаграмму"
   ]
  },
  {
   "cell_type": "code",
   "execution_count": 59,
   "metadata": {},
   "outputs": [
    {
     "data": {
      "text/html": [
       "<div>\n",
       "<style scoped>\n",
       "    .dataframe tbody tr th:only-of-type {\n",
       "        vertical-align: middle;\n",
       "    }\n",
       "\n",
       "    .dataframe tbody tr th {\n",
       "        vertical-align: top;\n",
       "    }\n",
       "\n",
       "    .dataframe thead th {\n",
       "        text-align: right;\n",
       "    }\n",
       "</style>\n",
       "<table border=\"1\" class=\"dataframe\">\n",
       "  <thead>\n",
       "    <tr style=\"text-align: right;\">\n",
       "      <th></th>\n",
       "      <th>eu_sales</th>\n",
       "    </tr>\n",
       "    <tr>\n",
       "      <th>platform</th>\n",
       "      <th></th>\n",
       "    </tr>\n",
       "  </thead>\n",
       "  <tbody>\n",
       "    <tr>\n",
       "      <th>PS4</th>\n",
       "      <td>141.09</td>\n",
       "    </tr>\n",
       "    <tr>\n",
       "      <th>PS3</th>\n",
       "      <td>67.81</td>\n",
       "    </tr>\n",
       "    <tr>\n",
       "      <th>XOne</th>\n",
       "      <td>51.59</td>\n",
       "    </tr>\n",
       "    <tr>\n",
       "      <th>X360</th>\n",
       "      <td>42.52</td>\n",
       "    </tr>\n",
       "    <tr>\n",
       "      <th>3DS</th>\n",
       "      <td>30.96</td>\n",
       "    </tr>\n",
       "  </tbody>\n",
       "</table>\n",
       "</div>"
      ],
      "text/plain": [
       "          eu_sales\n",
       "platform          \n",
       "PS4         141.09\n",
       "PS3          67.81\n",
       "XOne         51.59\n",
       "X360         42.52\n",
       "3DS          30.96"
      ]
     },
     "execution_count": 59,
     "metadata": {},
     "output_type": "execute_result"
    }
   ],
   "source": [
    "eu_sales = actual_period.pivot_table(index = 'platform' , values = 'eu_sales', aggfunc = 'sum')\n",
    "eu = eu_sales.sort_values('eu_sales', ascending=False).head()\n",
    "eu\n",
    "#ТОП-5 платформ продаж в Европе (миллионы проданных копий)"
   ]
  },
  {
   "cell_type": "code",
   "execution_count": 60,
   "metadata": {},
   "outputs": [
    {
     "data": {
      "image/png": "[encoded data removed]",
      "text/plain": [
       "<Figure size 432x288 with 1 Axes>"
      ]
     },
     "metadata": {
      "needs_background": "light"
     },
     "output_type": "display_data"
    }
   ],
   "source": [
    "eu.plot(kind = 'bar', title='Продажи платформ в Европе')\n",
    "plt.xlabel('Платформа')\n",
    "plt.ylabel('Миллионы проданных копий')\n",
    "plt.show() #построим диаграмму"
   ]
  },
  {
   "cell_type": "code",
   "execution_count": 61,
   "metadata": {},
   "outputs": [
    {
     "data": {
      "text/html": [
       "<div>\n",
       "<style scoped>\n",
       "    .dataframe tbody tr th:only-of-type {\n",
       "        vertical-align: middle;\n",
       "    }\n",
       "\n",
       "    .dataframe tbody tr th {\n",
       "        vertical-align: top;\n",
       "    }\n",
       "\n",
       "    .dataframe thead th {\n",
       "        text-align: right;\n",
       "    }\n",
       "</style>\n",
       "<table border=\"1\" class=\"dataframe\">\n",
       "  <thead>\n",
       "    <tr style=\"text-align: right;\">\n",
       "      <th></th>\n",
       "      <th>jp_sales</th>\n",
       "    </tr>\n",
       "    <tr>\n",
       "      <th>platform</th>\n",
       "      <th></th>\n",
       "    </tr>\n",
       "  </thead>\n",
       "  <tbody>\n",
       "    <tr>\n",
       "      <th>3DS</th>\n",
       "      <td>67.81</td>\n",
       "    </tr>\n",
       "    <tr>\n",
       "      <th>PS3</th>\n",
       "      <td>23.35</td>\n",
       "    </tr>\n",
       "    <tr>\n",
       "      <th>PSV</th>\n",
       "      <td>18.59</td>\n",
       "    </tr>\n",
       "    <tr>\n",
       "      <th>PS4</th>\n",
       "      <td>15.96</td>\n",
       "    </tr>\n",
       "    <tr>\n",
       "      <th>WiiU</th>\n",
       "      <td>10.88</td>\n",
       "    </tr>\n",
       "  </tbody>\n",
       "</table>\n",
       "</div>"
      ],
      "text/plain": [
       "          jp_sales\n",
       "platform          \n",
       "3DS          67.81\n",
       "PS3          23.35\n",
       "PSV          18.59\n",
       "PS4          15.96\n",
       "WiiU         10.88"
      ]
     },
     "execution_count": 61,
     "metadata": {},
     "output_type": "execute_result"
    }
   ],
   "source": [
    "jp_sales = actual_period.pivot_table(index = 'platform' , values = 'jp_sales', aggfunc = 'sum')\n",
    "jp = jp_sales.sort_values('jp_sales', ascending=False).head()\n",
    "jp\n",
    "#ТОП-5 платформ продаж в Японии (миллионы проданных копий)"
   ]
  },
  {
   "cell_type": "code",
   "execution_count": 62,
   "metadata": {},
   "outputs": [
    {
     "data": {
      "image/png": "[encoded data removed]",
      "text/plain": [
       "<Figure size 432x288 with 1 Axes>"
      ]
     },
     "metadata": {
      "needs_background": "light"
     },
     "output_type": "display_data"
    }
   ],
   "source": [
    "jp.plot(kind = 'bar', title='Продажи платформ в Японии')\n",
    "plt.xlabel('Платформа')\n",
    "plt.ylabel('Миллионы проданных копий')\n",
    "plt.show() #построим диаграмму"
   ]
  },
  {
   "cell_type": "markdown",
   "metadata": {},
   "source": [
    "<div style=\"border:solid steelblue 2px; padding: 10px; border-radius: 5px\"> \n",
    "Рассмотрим ТОП-5 платформ<br> \n",
    "\n",
    "Во всех регионах входит платформы PS4, PS3 и 3DS.\n",
    "\n",
    "В Северной Америке и Европе на 1 месте PS4, на 5 3DS. Рынки похожи, также присутствуют в обоих регионах в топ платформ XOne, X360 и PS3.\n",
    "\n",
    "Япония существенно отличается: 1 место занимает 3DS (это 5 строка на предыдущих рассмотренных), платформа PSV на 3 месте и на 5 WiiU (эти платформы не встречались в ТОП-5 Северной Америки и Европы), на 4 месте знакомая PS4."
   ]
  },
  {
   "cell_type": "markdown",
   "metadata": {},
   "source": [
    "----"
   ]
  },
  {
   "cell_type": "markdown",
   "metadata": {},
   "source": [
    "**Популярные жанры**"
   ]
  },
  {
   "cell_type": "code",
   "execution_count": 63,
   "metadata": {},
   "outputs": [
    {
     "data": {
      "text/html": [
       "<div>\n",
       "<style scoped>\n",
       "    .dataframe tbody tr th:only-of-type {\n",
       "        vertical-align: middle;\n",
       "    }\n",
       "\n",
       "    .dataframe tbody tr th {\n",
       "        vertical-align: top;\n",
       "    }\n",
       "\n",
       "    .dataframe thead th {\n",
       "        text-align: right;\n",
       "    }\n",
       "</style>\n",
       "<table border=\"1\" class=\"dataframe\">\n",
       "  <thead>\n",
       "    <tr style=\"text-align: right;\">\n",
       "      <th></th>\n",
       "      <th>eu_sales</th>\n",
       "      <th>jp_sales</th>\n",
       "      <th>na_sales</th>\n",
       "      <th>total_sales</th>\n",
       "    </tr>\n",
       "    <tr>\n",
       "      <th>genre</th>\n",
       "      <th></th>\n",
       "      <th></th>\n",
       "      <th></th>\n",
       "      <th></th>\n",
       "    </tr>\n",
       "  </thead>\n",
       "  <tbody>\n",
       "    <tr>\n",
       "      <th>Action</th>\n",
       "      <td>118.13</td>\n",
       "      <td>40.49</td>\n",
       "      <td>126.05</td>\n",
       "      <td>321.87</td>\n",
       "    </tr>\n",
       "    <tr>\n",
       "      <th>Adventure</th>\n",
       "      <td>8.25</td>\n",
       "      <td>5.82</td>\n",
       "      <td>7.14</td>\n",
       "      <td>23.64</td>\n",
       "    </tr>\n",
       "    <tr>\n",
       "      <th>Fighting</th>\n",
       "      <td>8.55</td>\n",
       "      <td>7.65</td>\n",
       "      <td>15.55</td>\n",
       "      <td>35.31</td>\n",
       "    </tr>\n",
       "    <tr>\n",
       "      <th>Misc</th>\n",
       "      <td>20.04</td>\n",
       "      <td>9.20</td>\n",
       "      <td>27.49</td>\n",
       "      <td>62.82</td>\n",
       "    </tr>\n",
       "    <tr>\n",
       "      <th>Platform</th>\n",
       "      <td>15.58</td>\n",
       "      <td>4.79</td>\n",
       "      <td>18.14</td>\n",
       "      <td>42.63</td>\n",
       "    </tr>\n",
       "    <tr>\n",
       "      <th>Puzzle</th>\n",
       "      <td>1.00</td>\n",
       "      <td>1.18</td>\n",
       "      <td>0.83</td>\n",
       "      <td>3.17</td>\n",
       "    </tr>\n",
       "    <tr>\n",
       "      <th>Racing</th>\n",
       "      <td>20.19</td>\n",
       "      <td>2.30</td>\n",
       "      <td>12.96</td>\n",
       "      <td>39.89</td>\n",
       "    </tr>\n",
       "    <tr>\n",
       "      <th>Role-Playing</th>\n",
       "      <td>36.97</td>\n",
       "      <td>51.04</td>\n",
       "      <td>46.40</td>\n",
       "      <td>145.89</td>\n",
       "    </tr>\n",
       "    <tr>\n",
       "      <th>Shooter</th>\n",
       "      <td>87.86</td>\n",
       "      <td>6.61</td>\n",
       "      <td>109.74</td>\n",
       "      <td>232.98</td>\n",
       "    </tr>\n",
       "    <tr>\n",
       "      <th>Simulation</th>\n",
       "      <td>10.92</td>\n",
       "      <td>4.52</td>\n",
       "      <td>4.86</td>\n",
       "      <td>21.76</td>\n",
       "    </tr>\n",
       "    <tr>\n",
       "      <th>Sports</th>\n",
       "      <td>60.52</td>\n",
       "      <td>5.41</td>\n",
       "      <td>65.27</td>\n",
       "      <td>150.65</td>\n",
       "    </tr>\n",
       "    <tr>\n",
       "      <th>Strategy</th>\n",
       "      <td>4.22</td>\n",
       "      <td>1.77</td>\n",
       "      <td>3.28</td>\n",
       "      <td>10.08</td>\n",
       "    </tr>\n",
       "  </tbody>\n",
       "</table>\n",
       "</div>"
      ],
      "text/plain": [
       "              eu_sales  jp_sales  na_sales  total_sales\n",
       "genre                                                  \n",
       "Action          118.13     40.49    126.05       321.87\n",
       "Adventure         8.25      5.82      7.14        23.64\n",
       "Fighting          8.55      7.65     15.55        35.31\n",
       "Misc             20.04      9.20     27.49        62.82\n",
       "Platform         15.58      4.79     18.14        42.63\n",
       "Puzzle            1.00      1.18      0.83         3.17\n",
       "Racing           20.19      2.30     12.96        39.89\n",
       "Role-Playing     36.97     51.04     46.40       145.89\n",
       "Shooter          87.86      6.61    109.74       232.98\n",
       "Simulation       10.92      4.52      4.86        21.76\n",
       "Sports           60.52      5.41     65.27       150.65\n",
       "Strategy          4.22      1.77      3.28        10.08"
      ]
     },
     "execution_count": 63,
     "metadata": {},
     "output_type": "execute_result"
    }
   ],
   "source": [
    "sales_genre = actual_period.pivot_table(index = 'genre' , \n",
    "                                 values = ['na_sales','eu_sales','jp_sales','total_sales'], aggfunc = 'sum')\n",
    "sales_genre #создадим сводную таблицу продаж по жанрам в регионах"
   ]
  },
  {
   "cell_type": "code",
   "execution_count": 64,
   "metadata": {},
   "outputs": [
    {
     "data": {
      "text/html": [
       "<div>\n",
       "<style scoped>\n",
       "    .dataframe tbody tr th:only-of-type {\n",
       "        vertical-align: middle;\n",
       "    }\n",
       "\n",
       "    .dataframe tbody tr th {\n",
       "        vertical-align: top;\n",
       "    }\n",
       "\n",
       "    .dataframe thead th {\n",
       "        text-align: right;\n",
       "    }\n",
       "</style>\n",
       "<table border=\"1\" class=\"dataframe\">\n",
       "  <thead>\n",
       "    <tr style=\"text-align: right;\">\n",
       "      <th></th>\n",
       "      <th>na_sales</th>\n",
       "    </tr>\n",
       "    <tr>\n",
       "      <th>genre</th>\n",
       "      <th></th>\n",
       "    </tr>\n",
       "  </thead>\n",
       "  <tbody>\n",
       "    <tr>\n",
       "      <th>Action</th>\n",
       "      <td>126.05</td>\n",
       "    </tr>\n",
       "    <tr>\n",
       "      <th>Shooter</th>\n",
       "      <td>109.74</td>\n",
       "    </tr>\n",
       "    <tr>\n",
       "      <th>Sports</th>\n",
       "      <td>65.27</td>\n",
       "    </tr>\n",
       "    <tr>\n",
       "      <th>Role-Playing</th>\n",
       "      <td>46.40</td>\n",
       "    </tr>\n",
       "    <tr>\n",
       "      <th>Misc</th>\n",
       "      <td>27.49</td>\n",
       "    </tr>\n",
       "  </tbody>\n",
       "</table>\n",
       "</div>"
      ],
      "text/plain": [
       "              na_sales\n",
       "genre                 \n",
       "Action          126.05\n",
       "Shooter         109.74\n",
       "Sports           65.27\n",
       "Role-Playing     46.40\n",
       "Misc             27.49"
      ]
     },
     "execution_count": 64,
     "metadata": {},
     "output_type": "execute_result"
    }
   ],
   "source": [
    "na_genres = actual_period.pivot_table(index = 'genre' , values = 'na_sales', aggfunc = 'sum')\n",
    "na = na_genres.sort_values('na_sales', ascending=False).head()\n",
    "na\n",
    "#ТОП-5 жанров в Северной Америке (миллионы проданных копий)"
   ]
  },
  {
   "cell_type": "code",
   "execution_count": 65,
   "metadata": {},
   "outputs": [
    {
     "data": {
      "image/png": "[encoded data removed]",
      "text/plain": [
       "<Figure size 432x288 with 1 Axes>"
      ]
     },
     "metadata": {
      "needs_background": "light"
     },
     "output_type": "display_data"
    }
   ],
   "source": [
    "na.plot(kind = 'bar', title='Продажи игр по жанрам в Северной Америке')\n",
    "plt.xlabel('Жанр')\n",
    "plt.ylabel('Миллионы проданных копий')\n",
    "plt.show() #построим диаграмму"
   ]
  },
  {
   "cell_type": "code",
   "execution_count": 66,
   "metadata": {},
   "outputs": [
    {
     "data": {
      "text/html": [
       "<div>\n",
       "<style scoped>\n",
       "    .dataframe tbody tr th:only-of-type {\n",
       "        vertical-align: middle;\n",
       "    }\n",
       "\n",
       "    .dataframe tbody tr th {\n",
       "        vertical-align: top;\n",
       "    }\n",
       "\n",
       "    .dataframe thead th {\n",
       "        text-align: right;\n",
       "    }\n",
       "</style>\n",
       "<table border=\"1\" class=\"dataframe\">\n",
       "  <thead>\n",
       "    <tr style=\"text-align: right;\">\n",
       "      <th></th>\n",
       "      <th>eu_sales</th>\n",
       "    </tr>\n",
       "    <tr>\n",
       "      <th>genre</th>\n",
       "      <th></th>\n",
       "    </tr>\n",
       "  </thead>\n",
       "  <tbody>\n",
       "    <tr>\n",
       "      <th>Action</th>\n",
       "      <td>118.13</td>\n",
       "    </tr>\n",
       "    <tr>\n",
       "      <th>Shooter</th>\n",
       "      <td>87.86</td>\n",
       "    </tr>\n",
       "    <tr>\n",
       "      <th>Sports</th>\n",
       "      <td>60.52</td>\n",
       "    </tr>\n",
       "    <tr>\n",
       "      <th>Role-Playing</th>\n",
       "      <td>36.97</td>\n",
       "    </tr>\n",
       "    <tr>\n",
       "      <th>Racing</th>\n",
       "      <td>20.19</td>\n",
       "    </tr>\n",
       "  </tbody>\n",
       "</table>\n",
       "</div>"
      ],
      "text/plain": [
       "              eu_sales\n",
       "genre                 \n",
       "Action          118.13\n",
       "Shooter          87.86\n",
       "Sports           60.52\n",
       "Role-Playing     36.97\n",
       "Racing           20.19"
      ]
     },
     "execution_count": 66,
     "metadata": {},
     "output_type": "execute_result"
    }
   ],
   "source": [
    "eu_genres = actual_period.pivot_table(index = 'genre' , values = 'eu_sales', aggfunc = 'sum')\n",
    "eu = eu_genres.sort_values('eu_sales', ascending=False).head()\n",
    "eu\n",
    "#ТОП-5 жанров в Европе (миллионы проданных копий)"
   ]
  },
  {
   "cell_type": "code",
   "execution_count": 67,
   "metadata": {},
   "outputs": [
    {
     "data": {
      "image/png": "[encoded data removed]",
      "text/plain": [
       "<Figure size 432x288 with 1 Axes>"
      ]
     },
     "metadata": {
      "needs_background": "light"
     },
     "output_type": "display_data"
    }
   ],
   "source": [
    "eu.plot(kind = 'bar', title='Продажи игр по жанрам в Европе')\n",
    "plt.xlabel('Жанр')\n",
    "plt.ylabel('Миллионы проданных копий')\n",
    "plt.show() #построим диаграмму"
   ]
  },
  {
   "cell_type": "code",
   "execution_count": 68,
   "metadata": {},
   "outputs": [
    {
     "data": {
      "text/html": [
       "<div>\n",
       "<style scoped>\n",
       "    .dataframe tbody tr th:only-of-type {\n",
       "        vertical-align: middle;\n",
       "    }\n",
       "\n",
       "    .dataframe tbody tr th {\n",
       "        vertical-align: top;\n",
       "    }\n",
       "\n",
       "    .dataframe thead th {\n",
       "        text-align: right;\n",
       "    }\n",
       "</style>\n",
       "<table border=\"1\" class=\"dataframe\">\n",
       "  <thead>\n",
       "    <tr style=\"text-align: right;\">\n",
       "      <th></th>\n",
       "      <th>jp_sales</th>\n",
       "    </tr>\n",
       "    <tr>\n",
       "      <th>genre</th>\n",
       "      <th></th>\n",
       "    </tr>\n",
       "  </thead>\n",
       "  <tbody>\n",
       "    <tr>\n",
       "      <th>Role-Playing</th>\n",
       "      <td>51.04</td>\n",
       "    </tr>\n",
       "    <tr>\n",
       "      <th>Action</th>\n",
       "      <td>40.49</td>\n",
       "    </tr>\n",
       "    <tr>\n",
       "      <th>Misc</th>\n",
       "      <td>9.20</td>\n",
       "    </tr>\n",
       "    <tr>\n",
       "      <th>Fighting</th>\n",
       "      <td>7.65</td>\n",
       "    </tr>\n",
       "    <tr>\n",
       "      <th>Shooter</th>\n",
       "      <td>6.61</td>\n",
       "    </tr>\n",
       "  </tbody>\n",
       "</table>\n",
       "</div>"
      ],
      "text/plain": [
       "              jp_sales\n",
       "genre                 \n",
       "Role-Playing     51.04\n",
       "Action           40.49\n",
       "Misc              9.20\n",
       "Fighting          7.65\n",
       "Shooter           6.61"
      ]
     },
     "execution_count": 68,
     "metadata": {},
     "output_type": "execute_result"
    }
   ],
   "source": [
    "jp_genres = actual_period.pivot_table(index = 'genre' , values = 'jp_sales', aggfunc = 'sum')\n",
    "jp = jp_genres.sort_values('jp_sales', ascending=False).head()\n",
    "jp\n",
    "#ТОП-5 жанров в Японии (миллионы проданных копий)"
   ]
  },
  {
   "cell_type": "code",
   "execution_count": 69,
   "metadata": {},
   "outputs": [
    {
     "data": {
      "image/png": "[encoded data removed]",
      "text/plain": [
       "<Figure size 432x288 with 1 Axes>"
      ]
     },
     "metadata": {
      "needs_background": "light"
     },
     "output_type": "display_data"
    }
   ],
   "source": [
    "jp.plot(kind = 'bar', title='Продажи игр по жанрам в Японии')\n",
    "plt.xlabel('Жанр')\n",
    "plt.ylabel('Миллионы проданных копий')\n",
    "plt.show() #построим диаграмму"
   ]
  },
  {
   "cell_type": "markdown",
   "metadata": {},
   "source": [
    "<div style=\"border:solid steelblue 2px; padding: 10px; border-radius: 5px\"> \n",
    "Рассмотрим ТОП-5 жанров.<br>\n",
    "\n",
    "Северная Америка: Action, Shooter, Sports, Role-playing, Misc. <br>\n",
    "Европа: Action, Shooter, Sports, Role-playing, Racing. <br>\n",
    "Япония: Role-playing, Action, Misc, Fighting, Shooter.\n",
    "\n",
    "    \n",
    "Очень похожи предпочтения пользователей Северной Америки и Европы. \n",
    "Отличаются только 5 строки в рейтинге, Misc и Racing соответственно.\n",
    "\n",
    "В Японии рейтинг жанров возглавляет Role-Playing (4 место в предыдущих регионах),на 4 месте жанр Fighting, который не встречался в топ-5 Северной Америки и Европы. "
   ]
  },
  {
   "cell_type": "markdown",
   "metadata": {},
   "source": [
    "----"
   ]
  },
  {
   "cell_type": "markdown",
   "metadata": {},
   "source": [
    "**Влияние рейтинга ESBR**"
   ]
  },
  {
   "cell_type": "code",
   "execution_count": 70,
   "metadata": {},
   "outputs": [
    {
     "data": {
      "text/html": [
       "<div>\n",
       "<style scoped>\n",
       "    .dataframe tbody tr th:only-of-type {\n",
       "        vertical-align: middle;\n",
       "    }\n",
       "\n",
       "    .dataframe tbody tr th {\n",
       "        vertical-align: top;\n",
       "    }\n",
       "\n",
       "    .dataframe thead th {\n",
       "        text-align: right;\n",
       "    }\n",
       "</style>\n",
       "<table border=\"1\" class=\"dataframe\">\n",
       "  <thead>\n",
       "    <tr style=\"text-align: right;\">\n",
       "      <th></th>\n",
       "      <th>na_sales</th>\n",
       "      <th>eu_sales</th>\n",
       "      <th>jp_sales</th>\n",
       "    </tr>\n",
       "    <tr>\n",
       "      <th>rating</th>\n",
       "      <th></th>\n",
       "      <th></th>\n",
       "      <th></th>\n",
       "    </tr>\n",
       "  </thead>\n",
       "  <tbody>\n",
       "    <tr>\n",
       "      <th>AO</th>\n",
       "      <td>1.26</td>\n",
       "      <td>0.61</td>\n",
       "      <td>0.00</td>\n",
       "    </tr>\n",
       "    <tr>\n",
       "      <th>E</th>\n",
       "      <td>1295.55</td>\n",
       "      <td>710.52</td>\n",
       "      <td>199.57</td>\n",
       "    </tr>\n",
       "    <tr>\n",
       "      <th>E10+</th>\n",
       "      <td>353.32</td>\n",
       "      <td>188.52</td>\n",
       "      <td>40.20</td>\n",
       "    </tr>\n",
       "    <tr>\n",
       "      <th>EC</th>\n",
       "      <td>1.53</td>\n",
       "      <td>0.11</td>\n",
       "      <td>0.00</td>\n",
       "    </tr>\n",
       "    <tr>\n",
       "      <th>M</th>\n",
       "      <td>748.48</td>\n",
       "      <td>483.97</td>\n",
       "      <td>64.24</td>\n",
       "    </tr>\n",
       "    <tr>\n",
       "      <th>RP</th>\n",
       "      <td>0.00</td>\n",
       "      <td>0.08</td>\n",
       "      <td>0.00</td>\n",
       "    </tr>\n",
       "    <tr>\n",
       "      <th>T</th>\n",
       "      <td>759.75</td>\n",
       "      <td>427.03</td>\n",
       "      <td>151.40</td>\n",
       "    </tr>\n",
       "    <tr>\n",
       "      <th>unknown</th>\n",
       "      <td>1240.68</td>\n",
       "      <td>613.30</td>\n",
       "      <td>841.93</td>\n",
       "    </tr>\n",
       "  </tbody>\n",
       "</table>\n",
       "</div>"
      ],
      "text/plain": [
       "         na_sales  eu_sales  jp_sales\n",
       "rating                               \n",
       "AO           1.26      0.61      0.00\n",
       "E         1295.55    710.52    199.57\n",
       "E10+       353.32    188.52     40.20\n",
       "EC           1.53      0.11      0.00\n",
       "M          748.48    483.97     64.24\n",
       "RP           0.00      0.08      0.00\n",
       "T          759.75    427.03    151.40\n",
       "unknown   1240.68    613.30    841.93"
      ]
     },
     "execution_count": 70,
     "metadata": {},
     "output_type": "execute_result"
    }
   ],
   "source": [
    "rating_sales = games.pivot_table(index='rating', values=['na_sales','eu_sales','jp_sales'], aggfunc='sum')\n",
    "rating_sales = rating_sales[['na_sales', 'eu_sales', 'jp_sales']]\n",
    "rating_sales #сводная таблица по рейтингам и продажам"
   ]
  },
  {
   "cell_type": "code",
   "execution_count": 71,
   "metadata": {},
   "outputs": [
    {
     "data": {
      "text/html": [
       "<div>\n",
       "<style scoped>\n",
       "    .dataframe tbody tr th:only-of-type {\n",
       "        vertical-align: middle;\n",
       "    }\n",
       "\n",
       "    .dataframe tbody tr th {\n",
       "        vertical-align: top;\n",
       "    }\n",
       "\n",
       "    .dataframe thead th {\n",
       "        text-align: right;\n",
       "    }\n",
       "</style>\n",
       "<table border=\"1\" class=\"dataframe\">\n",
       "  <thead>\n",
       "    <tr style=\"text-align: right;\">\n",
       "      <th></th>\n",
       "      <th>na_sales</th>\n",
       "    </tr>\n",
       "    <tr>\n",
       "      <th>rating</th>\n",
       "      <th></th>\n",
       "    </tr>\n",
       "  </thead>\n",
       "  <tbody>\n",
       "    <tr>\n",
       "      <th>E</th>\n",
       "      <td>1295.55</td>\n",
       "    </tr>\n",
       "    <tr>\n",
       "      <th>unknown</th>\n",
       "      <td>1240.68</td>\n",
       "    </tr>\n",
       "    <tr>\n",
       "      <th>T</th>\n",
       "      <td>759.75</td>\n",
       "    </tr>\n",
       "    <tr>\n",
       "      <th>M</th>\n",
       "      <td>748.48</td>\n",
       "    </tr>\n",
       "    <tr>\n",
       "      <th>E10+</th>\n",
       "      <td>353.32</td>\n",
       "    </tr>\n",
       "  </tbody>\n",
       "</table>\n",
       "</div>"
      ],
      "text/plain": [
       "         na_sales\n",
       "rating           \n",
       "E         1295.55\n",
       "unknown   1240.68\n",
       "T          759.75\n",
       "M          748.48\n",
       "E10+       353.32"
      ]
     },
     "execution_count": 71,
     "metadata": {},
     "output_type": "execute_result"
    }
   ],
   "source": [
    "na_rating_sales = rating_sales.pivot_table(index = 'rating', values = 'na_sales', aggfunc='sum')\n",
    "na = na_rating_sales.sort_values('na_sales', ascending=False).head()\n",
    "na #влияние рейтинга ESBR на продажи в Северной Америке (миллионы проданных копий)"
   ]
  },
  {
   "cell_type": "code",
   "execution_count": 72,
   "metadata": {},
   "outputs": [
    {
     "data": {
      "image/png": "[encoded data removed]",
      "text/plain": [
       "<Figure size 720x360 with 1 Axes>"
      ]
     },
     "metadata": {
      "needs_background": "light"
     },
     "output_type": "display_data"
    }
   ],
   "source": [
    "na.plot(kind = 'bar', y = 'na_sales', grid = True, figsize = (10, 5),\\\n",
    "                    title = 'Влияние рейтинга ESBR на продажи в Cеверной Америке')\n",
    "plt.xlabel('Рейтинг')\n",
    "plt.ylabel('Миллионы проданных копий')\n",
    "plt.show() #построим диаграмму"
   ]
  },
  {
   "cell_type": "code",
   "execution_count": 73,
   "metadata": {},
   "outputs": [
    {
     "data": {
      "text/html": [
       "<div>\n",
       "<style scoped>\n",
       "    .dataframe tbody tr th:only-of-type {\n",
       "        vertical-align: middle;\n",
       "    }\n",
       "\n",
       "    .dataframe tbody tr th {\n",
       "        vertical-align: top;\n",
       "    }\n",
       "\n",
       "    .dataframe thead th {\n",
       "        text-align: right;\n",
       "    }\n",
       "</style>\n",
       "<table border=\"1\" class=\"dataframe\">\n",
       "  <thead>\n",
       "    <tr style=\"text-align: right;\">\n",
       "      <th></th>\n",
       "      <th>eu_sales</th>\n",
       "    </tr>\n",
       "    <tr>\n",
       "      <th>rating</th>\n",
       "      <th></th>\n",
       "    </tr>\n",
       "  </thead>\n",
       "  <tbody>\n",
       "    <tr>\n",
       "      <th>E</th>\n",
       "      <td>710.52</td>\n",
       "    </tr>\n",
       "    <tr>\n",
       "      <th>unknown</th>\n",
       "      <td>613.30</td>\n",
       "    </tr>\n",
       "    <tr>\n",
       "      <th>M</th>\n",
       "      <td>483.97</td>\n",
       "    </tr>\n",
       "    <tr>\n",
       "      <th>T</th>\n",
       "      <td>427.03</td>\n",
       "    </tr>\n",
       "    <tr>\n",
       "      <th>E10+</th>\n",
       "      <td>188.52</td>\n",
       "    </tr>\n",
       "  </tbody>\n",
       "</table>\n",
       "</div>"
      ],
      "text/plain": [
       "         eu_sales\n",
       "rating           \n",
       "E          710.52\n",
       "unknown    613.30\n",
       "M          483.97\n",
       "T          427.03\n",
       "E10+       188.52"
      ]
     },
     "execution_count": 73,
     "metadata": {},
     "output_type": "execute_result"
    }
   ],
   "source": [
    "eu_rating_sales = rating_sales.pivot_table(index = 'rating', values = 'eu_sales', aggfunc='sum')\n",
    "eu = eu_rating_sales.sort_values('eu_sales', ascending=False).head()\n",
    "eu #влияние рейтинга ESBR на продажи в Европе (миллионы проданных копий)"
   ]
  },
  {
   "cell_type": "code",
   "execution_count": 74,
   "metadata": {},
   "outputs": [
    {
     "data": {
      "image/png": "[encoded data removed]",
      "text/plain": [
       "<Figure size 720x360 with 1 Axes>"
      ]
     },
     "metadata": {
      "needs_background": "light"
     },
     "output_type": "display_data"
    }
   ],
   "source": [
    "eu.plot(kind = 'bar', y = 'eu_sales', grid = True, figsize = (10, 5),\\\n",
    "                    title = 'Влияние рейтинга ESBR на продажи в Европе')\n",
    "plt.xlabel('Рейтинг')\n",
    "plt.ylabel('Миллионы проданных копий')\n",
    "plt.show() #построим диаграмму"
   ]
  },
  {
   "cell_type": "code",
   "execution_count": 75,
   "metadata": {},
   "outputs": [
    {
     "data": {
      "text/html": [
       "<div>\n",
       "<style scoped>\n",
       "    .dataframe tbody tr th:only-of-type {\n",
       "        vertical-align: middle;\n",
       "    }\n",
       "\n",
       "    .dataframe tbody tr th {\n",
       "        vertical-align: top;\n",
       "    }\n",
       "\n",
       "    .dataframe thead th {\n",
       "        text-align: right;\n",
       "    }\n",
       "</style>\n",
       "<table border=\"1\" class=\"dataframe\">\n",
       "  <thead>\n",
       "    <tr style=\"text-align: right;\">\n",
       "      <th></th>\n",
       "      <th>jp_sales</th>\n",
       "    </tr>\n",
       "    <tr>\n",
       "      <th>rating</th>\n",
       "      <th></th>\n",
       "    </tr>\n",
       "  </thead>\n",
       "  <tbody>\n",
       "    <tr>\n",
       "      <th>unknown</th>\n",
       "      <td>841.93</td>\n",
       "    </tr>\n",
       "    <tr>\n",
       "      <th>E</th>\n",
       "      <td>199.57</td>\n",
       "    </tr>\n",
       "    <tr>\n",
       "      <th>T</th>\n",
       "      <td>151.40</td>\n",
       "    </tr>\n",
       "    <tr>\n",
       "      <th>M</th>\n",
       "      <td>64.24</td>\n",
       "    </tr>\n",
       "    <tr>\n",
       "      <th>E10+</th>\n",
       "      <td>40.20</td>\n",
       "    </tr>\n",
       "  </tbody>\n",
       "</table>\n",
       "</div>"
      ],
      "text/plain": [
       "         jp_sales\n",
       "rating           \n",
       "unknown    841.93\n",
       "E          199.57\n",
       "T          151.40\n",
       "M           64.24\n",
       "E10+        40.20"
      ]
     },
     "execution_count": 75,
     "metadata": {},
     "output_type": "execute_result"
    }
   ],
   "source": [
    "jp_rating_sales = rating_sales.pivot_table(index = 'rating', values = 'jp_sales', aggfunc='sum')\n",
    "jp = jp_rating_sales.sort_values('jp_sales', ascending=False).head()\n",
    "jp #влияние рейтинга ESBR на продажи в Японии (миллионы проданных копий)"
   ]
  },
  {
   "cell_type": "code",
   "execution_count": 76,
   "metadata": {},
   "outputs": [
    {
     "data": {
      "image/png": "[encoded data removed]",
      "text/plain": [
       "<Figure size 720x360 with 1 Axes>"
      ]
     },
     "metadata": {
      "needs_background": "light"
     },
     "output_type": "display_data"
    }
   ],
   "source": [
    "jp.plot(kind = 'bar', y = 'jp_sales', grid = True, figsize = (10, 5),\\\n",
    "                    title = 'Влияние рейтинга ESBR на продажи в Японии')\n",
    "plt.xlabel('Рейтинг')\n",
    "plt.ylabel('Миллионы проданных копий')\n",
    "plt.show() #построим диаграмму"
   ]
  },
  {
   "cell_type": "markdown",
   "metadata": {},
   "source": [
    "Продублируем расшифровку рейтинга:\n",
    "- «E» («Everyone») — «Для всех»: содержание вполне подходит для всех возрастов (ранее с 6 лет)\n",
    "- «E10+» («Everyone 10 and older») — «Для всех от 10 лет и старше»\n",
    "- «T» («Teen») — «Подросткам»: игра подходит для лиц от 13 лет\n",
    "- «M» («Mature») — «Для взрослых»: материалы игры не подходят для лиц младше 17 лет\n",
    "- «Unknown» — игры без рейтинга"
   ]
  },
  {
   "cell_type": "markdown",
   "metadata": {},
   "source": [
    "Рейтинги по убыванию для каждого региона:\n",
    "\n",
    "- Северная Америка: E, unknown, T, M, E10+\n",
    "\n",
    "- Европа: E, unknown, M, T, E10+\n",
    "\n",
    "- Япония: unknown, E, T, M, E10+ "
   ]
  },
  {
   "cell_type": "markdown",
   "metadata": {},
   "source": [
    "<div style=\"border:solid steelblue 2px; padding: 10px; border-radius: 5px\"> \n",
    "Можем отметить схожесть регионов: <br>\n",
    "- игры для лиц от 10 лет и старше на последнем месте <br>\n",
    "- игры для взрослых и подростков с разной вариативностью на 3 и 4 местах\n",
    "    \n",
    "1 и 2 места в Северной Америке и Европе занимают игры для всех и без рейтинга.<br> \n",
    "В Японии самые популярные с существенным отрывом игры без рейтинга, на 2 месте игры для всех. "
   ]
  },
  {
   "cell_type": "markdown",
   "metadata": {},
   "source": [
    "### Проверка гипотез"
   ]
  },
  {
   "cell_type": "markdown",
   "metadata": {},
   "source": [
    "**№1**   \n",
    "Средние пользовательские рейтинги платформ XboxOne и PC одинаковые\n",
    "\n",
    "H_0: Средние пользовательские рейтинги платформ XboxOne и PC равны\n",
    "\n",
    "H_1: Средние пользовательские рейтинги платформ XboxOne и PC различаются"
   ]
  },
  {
   "cell_type": "code",
   "execution_count": 77,
   "metadata": {},
   "outputs": [],
   "source": [
    "xone = actual_period.loc[actual_period['platform'] == \"XOne\",'user_score'].dropna()\n",
    "pc = actual_period.loc[actual_period['platform'] == \"PC\",'user_score'].dropna()\n",
    "#выберем нужные платформы"
   ]
  },
  {
   "cell_type": "code",
   "execution_count": 78,
   "metadata": {},
   "outputs": [
    {
     "name": "stdout",
     "output_type": "stream",
     "text": [
      "p-значение: 0.9299367079819425\n",
      "Отвергаем нулевую гипотезу\n"
     ]
    }
   ],
   "source": [
    "alpha = 0.05 \n",
    "\n",
    "results = stats.ttest_ind(xone, pc, alternative='less')\n",
    "\n",
    "print('p-значение:', results.pvalue)\n",
    "\n",
    "if (results.pvalue > alpha):\n",
    "    print(\"Отвергаем нулевую гипотезу\")\n",
    "else:\n",
    "    print(\"Не получилось отвергнуть нулевую гипотезу\")"
   ]
  },
  {
   "cell_type": "code",
   "execution_count": 79,
   "metadata": {},
   "outputs": [
    {
     "name": "stdout",
     "output_type": "stream",
     "text": [
      "Средний пользовательский рейтинг платформы XboxOne: 6.52\n"
     ]
    }
   ],
   "source": [
    "print('Средний пользовательский рейтинг платформы XboxOne:', xone.mean().round(2))"
   ]
  },
  {
   "cell_type": "code",
   "execution_count": 80,
   "metadata": {},
   "outputs": [
    {
     "name": "stdout",
     "output_type": "stream",
     "text": [
      "Средний пользовательский рейтинг платформы PC: 6.27\n"
     ]
    }
   ],
   "source": [
    "print('Средний пользовательский рейтинг платформы PC:', pc.mean().round(2))"
   ]
  },
  {
   "cell_type": "markdown",
   "metadata": {},
   "source": [
    "По имеющимся данным отвергаем нулевую гипотезу, средние пользовательские рейтинги платформ XboxOne и PC различаются, хотя и близки по значению."
   ]
  },
  {
   "cell_type": "markdown",
   "metadata": {},
   "source": [
    "**№2**<br>\n",
    "Средние пользовательские рейтинги жанров Action (англ. «действие», экшен-игры) и Sports (англ. «спортивные соревнования») разные <br>\n",
    "\n",
    "H_0: Средние пользовательские рейтинги жанров Action и Sports равны<br>\n",
    "\n",
    "H_1: Средние пользовательские рейтинги жанров Action и Sports различаются"
   ]
  },
  {
   "cell_type": "code",
   "execution_count": 81,
   "metadata": {},
   "outputs": [],
   "source": [
    "action = actual_period.loc[actual_period['genre'] == \"Action\",'user_score'].dropna()\n",
    "sports = actual_period.loc[actual_period['genre'] == \"Sports\",'user_score'].dropna()\n",
    "#выберем интересующие жанры"
   ]
  },
  {
   "cell_type": "code",
   "execution_count": 82,
   "metadata": {},
   "outputs": [
    {
     "name": "stdout",
     "output_type": "stream",
     "text": [
      "p-значение: 1.0517832389140023e-27\n",
      "Отвергаем нулевую гипотезу\n"
     ]
    }
   ],
   "source": [
    "alpha = 0.05 \n",
    "\n",
    "results = stats.ttest_ind(action, sports)\n",
    "\n",
    "print('p-значение:', results.pvalue)\n",
    "\n",
    "if (results.pvalue < alpha):\n",
    "    print(\"Отвергаем нулевую гипотезу\")\n",
    "else:\n",
    "    print(\"Не получилось отвергнуть нулевую гипотезу\") "
   ]
  },
  {
   "cell_type": "code",
   "execution_count": 83,
   "metadata": {},
   "outputs": [
    {
     "name": "stdout",
     "output_type": "stream",
     "text": [
      "Средний пользовательский рейтинг жанра Action: 6.84\n"
     ]
    }
   ],
   "source": [
    "print('Средний пользовательский рейтинг жанра Action:', action.mean().round(2))"
   ]
  },
  {
   "cell_type": "code",
   "execution_count": 84,
   "metadata": {},
   "outputs": [
    {
     "name": "stdout",
     "output_type": "stream",
     "text": [
      "Средний пользовательский рейтинг жанра Sports: 5.24\n"
     ]
    }
   ],
   "source": [
    "print('Средний пользовательский рейтинг жанра Sports:', sports.mean().round(2))"
   ]
  },
  {
   "cell_type": "markdown",
   "metadata": {},
   "source": [
    "Отвергли нулевую теорию - средние пользовательские рейтинги жанров Action (англ. «действие», экшен-игры) и Sports (англ. «спортивные соревнования») разные, рейтинг жанра Аction выше."
   ]
  },
  {
   "cell_type": "markdown",
   "metadata": {},
   "source": [
    "### Общий вывод"
   ]
  },
  {
   "cell_type": "markdown",
   "metadata": {},
   "source": [
    "<div class=\"alert-info\" style=\"padding: 20px; border-radius: 10px\"> \n",
    "При подготовке данных привели названия столбцов к нижнему регистру.\n",
    "    \n",
    "Видим пропуски значений в названии, оценках и рейтинге. \n",
    "    \n",
    "Удалим строки без названия игры, их всего 2, на общий анализ не повлияют, скорее всего человеческий фактор. Провели проверку на дубликаты.\n",
    "    \n",
    "Пропуски значений в столбце года выхода заполним 0, заполнение средним или медианным значением не даст информативности, заменили тип на целочисленные.\n",
    "    \n",
    "Отсутствие значений в оценках критиков и пользователей оставим, игру могли не оценивать, либо произошла ошибка при хранении или выгрузке данных. Сообщим коллегам.\n",
    "    \n",
    "Возможно, пропуски в последнем столбце связаны с тем, что организация ESRB была основана в 1994 году, поэтому отсутствуют данные по играм, которые вышли раньше.\n",
    "Добавили столбец с общими продажами.\n",
    "<dev>"
   ]
  },
  {
   "cell_type": "markdown",
   "metadata": {},
   "source": [
    "<div class=\"alert-info\" style=\"padding: 20px; border-radius: 10px\"> \n",
    "Рост компьютерных игр заметен с 1997 года, <b>больше всего игр выходили в 2008 и 2009 годах.</b>\n",
    "После этого периода идет плавное снижение, в 2011 падение более чем в 2 раза от пиковых значений. <br>\n",
    "\n",
    "\n",
    "Среди платформ <b>явный лидер PS2</b> продажи 1255.77 млн.$, далее следуют X360, PS3, Wii, DS, PS. \n",
    "В среднем срок жизни платформы около 10 лет, далее устаревает и на смену приходят новые. <br> \n",
    "\n",
    "\n",
    "Для прогноза на 2017 взяли данные за последние 2-3 года, наблюдаем снижение продаж по всем платформам с 2015. \n",
    "В 2016 году можем рассматривать PS4, XOne и 3DS, как потенциально прибыльные.\n",
    "На «ящике с усами» множество выбросов, возможно, некоторых игры игроки особенно ждали. Лидер X360, далее Wii, похожие результаты у PS4 и XOne, замыкает рейтинг топ-5 платформа WiiU.<br>\n",
    "\n",
    "<b>Отзывы</b> пользователей на продажи не влияют. Корреляция между продажами платформ X360, XOne, PS3 и отзывами критиков средняя положительная. Отметим большее влияние на платформу XOne.<br>\n",
    "\n",
    "Среди <b>жанров</b> компьютерных игр пятую часть от общего количества (из 12 представленных жанров) занимают игры жанра Action. На втором месте жанр Sports, на третьем Misc. Puzzle занимает всего 3%. \n",
    "Возглавляют продажи игр с жанрами Platform, Shooter и Role-playing. Наименьшие продажи у жанров Puzzle, Strategy и Adventure.\n",
    "Удивительно, больше всего продаж у жанра Platform, в то время как количество игр чуть более 5% от общего числа.\n",
    "Второе место у Shooter, составляет 8% от общего количества компьютерных игр.\n",
    "Лидер по количеству игр в жанре Action занимает в продажах 7 место из 12.<br>\n",
    "\n",
    "\n",
    "<b>ТОП-5 платформ.</b>\n",
    "Во всех регионах входит платформы PS4, PS3 и 3DS.\n",
    "В Северной Америке и Европе на 1 месте PS4, на 5 3DS. Рынки похожи, также присутствуют в обоих регионах в топ платформ XOne, X360 и PS3.\n",
    "Япония существенно отличается: 1 место занимает 3DS (это 5 строка на предыдущих рассмотренных), платформа PSV на 3 месте и на 5 WiiU (эти платформы не встречались в ТОП-5 Северной Америки и Европы), на 4 месте знакомая PS4.<br>\n",
    "\n",
    "\n",
    "<b>ТОП-5 жанров.</b>\n",
    "Северная Америка: Action, Shooter, Sports, Role-playing, Misc. <br>\n",
    "Европа: Action, Shooter, Sports, Role-playing, Racing. <br>\n",
    "Япония: Role-playing, Action, Misc, Fighting, Shooter.\n",
    "\n",
    "Очень похожи предпочтения пользователей Северной Америки и Европы. \n",
    "Отличаются только 5 строки в рейтинге, Misc и Racing соответственно.\n",
    "\n",
    "В Японии рейтинг жанров возглавляет Role-Playing (4 место в предыдущих регионах),на 4 месте жанр Fighting, который не встречался в топ-5 Северной Америки и Европы.\n",
    "\n",
    "\n",
    "Рассмотрев <b>рейтинг ESBR</b> выделили 5 основных, по убыванию для каждого региона:<br>\n",
    "- Северная Америка: E, unknown, T, M, E10+\n",
    "- Европа: E, unknown, M, T, E10+\n",
    "- Япония: unknown, E, T, M, E10+<br>\n",
    "\n",
    "Можем отметить схожесть регионов: <br>\n",
    "- игры для лиц от 10 лет и старше на последнем месте <br>\n",
    "- игры для взрослых и подростков с разной вариативностью на 3 и 4 местах\n",
    "    \n",
    "1 и 2 места в Северной Америке и Европе занимают игры для всех и без рейтинга.\n",
    "В Японии самые популярные с существенным отрывом игры без рейтинга, на 2 месте игры для всех.<dev>"
   ]
  },
  {
   "cell_type": "markdown",
   "metadata": {},
   "source": [
    "<div class=\"alert-info\" style=\"padding: 20px; border-radius: 10px\"> \n",
    "<b>Гипотезы</b> <br>\n",
    "Отвергли гипотезу №1 о том, что  средние пользовательские рейтинги платформ XboxOne и PC равны.\n",
    "Они различаются, хотя и близки по значению.\n",
    "    \n",
    "Отвергли гипотезу №2 о том, что средние пользовательские рейтинги жанров Action (англ. «действие», экшен-игры) и Sports (англ. «спортивные соревнования») равны. Они различаются, а точнее рейтинг жанра Action выше.<dev>\n",
    "\n"
   ]
  },
  {
   "cell_type": "markdown",
   "metadata": {},
   "source": [
    "<div class=\"alert-info\" style=\"padding: 20px; border-radius: 10px\"> \n",
    "В 2017 году <b>потенциально прибыльными</b> будут игры:\n",
    "    \n",
    "- на платформах PS4, XOne, X360, PS3 и 3DS\n",
    "- в жанрах Action, Sports, Shooter, Misc и Role-Playing\n",
    "- для возрастных всех возрастных групп, подростков и взрослых <dev>"
   ]
  },
  {
   "cell_type": "markdown",
   "metadata": {},
   "source": [
    "<div class=\"alert-info\" style=\"padding: 20px; border-radius: 10px\"> \n",
    "<b>Рекомендации для магазина компьютерных игр для регионов</b>\n",
    "\n",
    "Северная Америка:\n",
    "- платформы PS4, XOne, X360, PS3, 3DS\n",
    "- жанры Action, Shooter, Sports, Role-playing, Misc\n",
    "- возрастной рейтинг E, T, M, E10+\n",
    "\n",
    "    \n",
    "Европа:\n",
    "- платформы PS4, PS3, XOne, X360, 3DS\n",
    "- жанры Action, Shooter, Sports, Role-playing, Racing\n",
    "- возрастной рейтинг E, M, T, E10+ \n",
    "    \n",
    "\n",
    "Япония:\n",
    "- платформы 3DS, PS3, PSV, PS4, WiiU\n",
    "- жанры Role-playing, Action, Misc, Fighting, Shooter\n",
    "- возрастной рейтинг E, T, M, E10+\n",
    "<dev>"
   ]
  }
 ],
 "metadata": {
  "ExecuteTimeLog": [
   {
    "duration": 4,
    "start_time": "2024-02-02T08:32:31.425Z"
   },
   {
    "duration": 8,
    "start_time": "2024-02-02T08:53:30.295Z"
   },
   {
    "duration": 1411,
    "start_time": "2024-02-02T09:30:26.685Z"
   },
   {
    "duration": 180,
    "start_time": "2024-02-02T09:31:49.920Z"
   },
   {
    "duration": 16,
    "start_time": "2024-02-02T09:32:18.046Z"
   },
   {
    "duration": 14,
    "start_time": "2024-02-02T09:32:57.839Z"
   },
   {
    "duration": 19,
    "start_time": "2024-02-02T09:52:26.977Z"
   },
   {
    "duration": 17,
    "start_time": "2024-02-02T09:52:41.063Z"
   },
   {
    "duration": 52,
    "start_time": "2024-02-02T10:02:29.564Z"
   },
   {
    "duration": 16,
    "start_time": "2024-02-02T10:02:30.283Z"
   },
   {
    "duration": 14,
    "start_time": "2024-02-02T10:02:30.856Z"
   },
   {
    "duration": 135,
    "start_time": "2024-02-02T10:15:40.708Z"
   },
   {
    "duration": 1422,
    "start_time": "2024-02-02T10:15:55.681Z"
   },
   {
    "duration": 8,
    "start_time": "2024-02-02T10:16:42.236Z"
   },
   {
    "duration": 10,
    "start_time": "2024-02-02T10:18:16.283Z"
   },
   {
    "duration": 4,
    "start_time": "2024-02-02T10:19:47.475Z"
   },
   {
    "duration": 4,
    "start_time": "2024-02-02T10:20:47.126Z"
   },
   {
    "duration": 3,
    "start_time": "2024-02-02T10:22:03.112Z"
   },
   {
    "duration": 16,
    "start_time": "2024-02-02T10:30:37.118Z"
   },
   {
    "duration": 4,
    "start_time": "2024-02-02T10:31:01.002Z"
   },
   {
    "duration": 1386,
    "start_time": "2024-02-02T10:31:27.158Z"
   },
   {
    "duration": 0,
    "start_time": "2024-02-02T10:31:28.545Z"
   },
   {
    "duration": 15,
    "start_time": "2024-02-02T10:32:13.457Z"
   },
   {
    "duration": 10,
    "start_time": "2024-02-02T10:34:49.301Z"
   },
   {
    "duration": 15,
    "start_time": "2024-02-02T10:37:32.000Z"
   },
   {
    "duration": 3,
    "start_time": "2024-02-02T10:57:39.566Z"
   },
   {
    "duration": 1434,
    "start_time": "2024-02-02T10:57:43.235Z"
   },
   {
    "duration": 9,
    "start_time": "2024-02-02T11:02:39.285Z"
   },
   {
    "duration": 15,
    "start_time": "2024-02-02T11:02:42.045Z"
   },
   {
    "duration": 4,
    "start_time": "2024-02-02T11:02:47.027Z"
   },
   {
    "duration": 1417,
    "start_time": "2024-02-02T11:03:04.405Z"
   },
   {
    "duration": 3,
    "start_time": "2024-02-02T11:09:51.965Z"
   },
   {
    "duration": 4,
    "start_time": "2024-02-02T11:11:24.083Z"
   },
   {
    "duration": 5,
    "start_time": "2024-02-02T11:11:51.296Z"
   },
   {
    "duration": 5,
    "start_time": "2024-02-02T11:14:37.953Z"
   },
   {
    "duration": 5,
    "start_time": "2024-02-02T11:14:47.802Z"
   },
   {
    "duration": 5,
    "start_time": "2024-02-02T11:14:54.351Z"
   },
   {
    "duration": 15,
    "start_time": "2024-02-02T11:16:28.246Z"
   },
   {
    "duration": 4,
    "start_time": "2024-02-02T11:17:20.784Z"
   },
   {
    "duration": 4,
    "start_time": "2024-02-02T11:18:20.754Z"
   },
   {
    "duration": 1063,
    "start_time": "2024-02-02T11:18:49.767Z"
   },
   {
    "duration": 5,
    "start_time": "2024-02-02T11:20:46.412Z"
   },
   {
    "duration": 6,
    "start_time": "2024-02-02T11:24:09.542Z"
   },
   {
    "duration": 5,
    "start_time": "2024-02-02T11:27:27.274Z"
   },
   {
    "duration": 5,
    "start_time": "2024-02-02T11:29:54.121Z"
   },
   {
    "duration": 86,
    "start_time": "2024-02-02T11:30:23.761Z"
   },
   {
    "duration": 84,
    "start_time": "2024-02-02T11:30:29.461Z"
   },
   {
    "duration": 4,
    "start_time": "2024-02-02T11:30:35.143Z"
   },
   {
    "duration": 4,
    "start_time": "2024-02-02T11:30:40.179Z"
   },
   {
    "duration": 3,
    "start_time": "2024-02-02T11:31:23.709Z"
   },
   {
    "duration": 4,
    "start_time": "2024-02-02T11:33:59.342Z"
   },
   {
    "duration": 3,
    "start_time": "2024-02-02T11:34:08.583Z"
   },
   {
    "duration": 3,
    "start_time": "2024-02-02T11:34:25.194Z"
   },
   {
    "duration": 5,
    "start_time": "2024-02-02T11:39:08.070Z"
   },
   {
    "duration": 4,
    "start_time": "2024-02-02T11:39:51.450Z"
   },
   {
    "duration": 6,
    "start_time": "2024-02-02T11:39:54.956Z"
   },
   {
    "duration": 13,
    "start_time": "2024-02-02T11:41:50.197Z"
   },
   {
    "duration": 108,
    "start_time": "2024-02-02T11:43:00.926Z"
   },
   {
    "duration": 86,
    "start_time": "2024-02-02T11:43:05.257Z"
   },
   {
    "duration": 9,
    "start_time": "2024-02-02T11:43:11.097Z"
   },
   {
    "duration": 1334,
    "start_time": "2024-02-02T11:43:18.836Z"
   },
   {
    "duration": 1355,
    "start_time": "2024-02-02T11:43:45.795Z"
   },
   {
    "duration": 8,
    "start_time": "2024-02-02T11:45:00.192Z"
   },
   {
    "duration": 6,
    "start_time": "2024-02-02T11:45:22.216Z"
   },
   {
    "duration": 4,
    "start_time": "2024-02-02T11:49:17.059Z"
   },
   {
    "duration": 1446,
    "start_time": "2024-02-02T11:49:35.589Z"
   },
   {
    "duration": 1113,
    "start_time": "2024-02-02T11:50:07.101Z"
   },
   {
    "duration": 52,
    "start_time": "2024-02-02T11:50:08.216Z"
   },
   {
    "duration": 18,
    "start_time": "2024-02-02T11:50:08.270Z"
   },
   {
    "duration": 22,
    "start_time": "2024-02-02T11:50:08.289Z"
   },
   {
    "duration": 8,
    "start_time": "2024-02-02T11:50:08.313Z"
   },
   {
    "duration": 40,
    "start_time": "2024-02-02T11:50:08.322Z"
   },
   {
    "duration": 35,
    "start_time": "2024-02-02T11:50:08.363Z"
   },
   {
    "duration": 36,
    "start_time": "2024-02-02T11:50:08.399Z"
   },
   {
    "duration": 46,
    "start_time": "2024-02-02T11:50:08.437Z"
   },
   {
    "duration": 5,
    "start_time": "2024-02-02T11:50:08.485Z"
   },
   {
    "duration": 17,
    "start_time": "2024-02-02T11:50:08.491Z"
   },
   {
    "duration": 135,
    "start_time": "2024-02-02T11:50:08.509Z"
   },
   {
    "duration": 0,
    "start_time": "2024-02-02T11:50:08.646Z"
   },
   {
    "duration": 0,
    "start_time": "2024-02-02T11:50:08.647Z"
   },
   {
    "duration": 12,
    "start_time": "2024-02-02T11:50:33.274Z"
   },
   {
    "duration": 13,
    "start_time": "2024-02-02T11:50:47.328Z"
   },
   {
    "duration": 5,
    "start_time": "2024-02-02T11:50:59.260Z"
   },
   {
    "duration": 3,
    "start_time": "2024-02-02T11:52:03.230Z"
   },
   {
    "duration": 1489,
    "start_time": "2024-02-02T11:52:29.889Z"
   },
   {
    "duration": 3,
    "start_time": "2024-02-02T11:52:42.235Z"
   },
   {
    "duration": 4,
    "start_time": "2024-02-02T11:52:49.594Z"
   },
   {
    "duration": 1406,
    "start_time": "2024-02-02T11:52:57.401Z"
   },
   {
    "duration": 1360,
    "start_time": "2024-02-02T11:53:27.106Z"
   },
   {
    "duration": 1380,
    "start_time": "2024-02-02T11:55:42.261Z"
   },
   {
    "duration": 3,
    "start_time": "2024-02-02T11:56:31.894Z"
   },
   {
    "duration": 3,
    "start_time": "2024-02-02T11:56:40.075Z"
   },
   {
    "duration": 12,
    "start_time": "2024-02-02T11:57:46.836Z"
   },
   {
    "duration": 3,
    "start_time": "2024-02-02T11:58:11.647Z"
   },
   {
    "duration": 12,
    "start_time": "2024-02-02T11:58:27.555Z"
   },
   {
    "duration": 4,
    "start_time": "2024-02-02T11:58:53.502Z"
   },
   {
    "duration": 4,
    "start_time": "2024-02-02T11:59:12.962Z"
   },
   {
    "duration": 3,
    "start_time": "2024-02-02T11:59:16.940Z"
   },
   {
    "duration": 3,
    "start_time": "2024-02-02T12:00:13.252Z"
   },
   {
    "duration": 3,
    "start_time": "2024-02-02T12:00:56.073Z"
   },
   {
    "duration": 3,
    "start_time": "2024-02-02T12:00:56.715Z"
   },
   {
    "duration": 3,
    "start_time": "2024-02-02T12:00:57.225Z"
   },
   {
    "duration": 85,
    "start_time": "2024-02-02T12:01:38.522Z"
   },
   {
    "duration": 4,
    "start_time": "2024-02-02T12:01:38.972Z"
   },
   {
    "duration": 4,
    "start_time": "2024-02-02T12:01:45.419Z"
   },
   {
    "duration": 3,
    "start_time": "2024-02-02T12:01:46.090Z"
   },
   {
    "duration": 14,
    "start_time": "2024-02-02T12:02:39.669Z"
   },
   {
    "duration": 3,
    "start_time": "2024-02-02T12:03:00.802Z"
   },
   {
    "duration": 3,
    "start_time": "2024-02-02T12:03:08.666Z"
   },
   {
    "duration": 3,
    "start_time": "2024-02-02T12:03:09.728Z"
   },
   {
    "duration": 13,
    "start_time": "2024-02-02T12:03:10.448Z"
   },
   {
    "duration": 3,
    "start_time": "2024-02-02T12:03:17.080Z"
   },
   {
    "duration": 3,
    "start_time": "2024-02-02T12:03:18.181Z"
   },
   {
    "duration": 13,
    "start_time": "2024-02-02T12:03:19.124Z"
   },
   {
    "duration": 3,
    "start_time": "2024-02-02T12:04:07.784Z"
   },
   {
    "duration": 3,
    "start_time": "2024-02-02T12:04:08.605Z"
   },
   {
    "duration": 3,
    "start_time": "2024-02-02T12:04:09.137Z"
   },
   {
    "duration": 4,
    "start_time": "2024-02-02T12:04:22.130Z"
   },
   {
    "duration": 13,
    "start_time": "2024-02-02T12:04:36.412Z"
   },
   {
    "duration": 14,
    "start_time": "2024-02-02T12:05:04.099Z"
   },
   {
    "duration": 8,
    "start_time": "2024-02-02T12:12:31.938Z"
   },
   {
    "duration": 7,
    "start_time": "2024-02-02T12:12:38.419Z"
   },
   {
    "duration": 7,
    "start_time": "2024-02-02T12:14:32.598Z"
   },
   {
    "duration": 7,
    "start_time": "2024-02-02T12:14:40.530Z"
   },
   {
    "duration": 1164,
    "start_time": "2024-02-02T12:15:00.326Z"
   },
   {
    "duration": 54,
    "start_time": "2024-02-02T12:15:01.492Z"
   },
   {
    "duration": 44,
    "start_time": "2024-02-02T12:15:01.547Z"
   },
   {
    "duration": 53,
    "start_time": "2024-02-02T12:15:01.593Z"
   },
   {
    "duration": 60,
    "start_time": "2024-02-02T12:15:01.648Z"
   },
   {
    "duration": 179,
    "start_time": "2024-02-02T12:15:01.710Z"
   },
   {
    "duration": 157,
    "start_time": "2024-02-02T12:15:01.890Z"
   },
   {
    "duration": 69,
    "start_time": "2024-02-02T12:15:02.048Z"
   },
   {
    "duration": 47,
    "start_time": "2024-02-02T12:15:02.119Z"
   },
   {
    "duration": 98,
    "start_time": "2024-02-02T12:15:02.168Z"
   },
   {
    "duration": 169,
    "start_time": "2024-02-02T12:15:02.268Z"
   },
   {
    "duration": 192,
    "start_time": "2024-02-02T12:15:02.439Z"
   },
   {
    "duration": 0,
    "start_time": "2024-02-02T12:15:02.632Z"
   },
   {
    "duration": 0,
    "start_time": "2024-02-02T12:15:02.634Z"
   },
   {
    "duration": 0,
    "start_time": "2024-02-02T12:15:02.635Z"
   },
   {
    "duration": 0,
    "start_time": "2024-02-02T12:15:02.636Z"
   },
   {
    "duration": 7,
    "start_time": "2024-02-02T12:15:17.895Z"
   },
   {
    "duration": 3,
    "start_time": "2024-02-02T12:18:09.390Z"
   },
   {
    "duration": 18,
    "start_time": "2024-02-02T12:18:29.052Z"
   },
   {
    "duration": 25,
    "start_time": "2024-02-02T12:18:32.990Z"
   },
   {
    "duration": 5,
    "start_time": "2024-02-02T12:19:55.398Z"
   },
   {
    "duration": 15,
    "start_time": "2024-02-02T12:19:56.500Z"
   },
   {
    "duration": 14,
    "start_time": "2024-02-02T12:19:56.909Z"
   },
   {
    "duration": 11,
    "start_time": "2024-02-02T12:20:05.118Z"
   },
   {
    "duration": 13,
    "start_time": "2024-02-02T12:20:05.928Z"
   },
   {
    "duration": 12,
    "start_time": "2024-02-02T12:20:06.666Z"
   },
   {
    "duration": 13,
    "start_time": "2024-02-02T12:20:35.626Z"
   },
   {
    "duration": 12,
    "start_time": "2024-02-02T12:20:46.454Z"
   },
   {
    "duration": 4,
    "start_time": "2024-02-02T12:20:59.087Z"
   },
   {
    "duration": 5,
    "start_time": "2024-02-02T12:21:12.193Z"
   },
   {
    "duration": 3,
    "start_time": "2024-02-02T12:21:48.680Z"
   },
   {
    "duration": 1277,
    "start_time": "2024-02-03T13:00:48.503Z"
   },
   {
    "duration": 190,
    "start_time": "2024-02-03T13:00:49.782Z"
   },
   {
    "duration": 18,
    "start_time": "2024-02-03T13:00:49.973Z"
   },
   {
    "duration": 14,
    "start_time": "2024-02-03T13:00:49.993Z"
   },
   {
    "duration": 34,
    "start_time": "2024-02-03T13:00:50.009Z"
   },
   {
    "duration": 10,
    "start_time": "2024-02-03T13:00:50.044Z"
   },
   {
    "duration": 12,
    "start_time": "2024-02-03T13:00:50.056Z"
   },
   {
    "duration": 8,
    "start_time": "2024-02-03T13:00:50.070Z"
   },
   {
    "duration": 21,
    "start_time": "2024-02-03T13:00:50.079Z"
   },
   {
    "duration": 5,
    "start_time": "2024-02-03T13:00:50.102Z"
   },
   {
    "duration": 7,
    "start_time": "2024-02-03T13:00:50.108Z"
   },
   {
    "duration": 13,
    "start_time": "2024-02-03T13:00:50.116Z"
   },
   {
    "duration": 6,
    "start_time": "2024-02-03T13:00:50.130Z"
   },
   {
    "duration": 17,
    "start_time": "2024-02-03T13:00:50.138Z"
   },
   {
    "duration": 20,
    "start_time": "2024-02-03T13:00:50.156Z"
   },
   {
    "duration": 5,
    "start_time": "2024-02-03T13:29:02.983Z"
   },
   {
    "duration": 4,
    "start_time": "2024-02-03T13:29:28.903Z"
   },
   {
    "duration": 4,
    "start_time": "2024-02-03T13:37:09.618Z"
   },
   {
    "duration": 4,
    "start_time": "2024-02-03T13:46:53.016Z"
   },
   {
    "duration": 4,
    "start_time": "2024-02-03T13:47:10.711Z"
   },
   {
    "duration": 95,
    "start_time": "2024-02-03T13:47:35.096Z"
   },
   {
    "duration": 8,
    "start_time": "2024-02-03T13:47:44.577Z"
   },
   {
    "duration": 5,
    "start_time": "2024-02-03T13:47:56.325Z"
   },
   {
    "duration": 5,
    "start_time": "2024-02-03T13:48:37.842Z"
   },
   {
    "duration": 8,
    "start_time": "2024-02-03T13:48:57.997Z"
   },
   {
    "duration": 9,
    "start_time": "2024-02-03T13:49:04.599Z"
   },
   {
    "duration": 5,
    "start_time": "2024-02-03T13:49:11.587Z"
   },
   {
    "duration": 3,
    "start_time": "2024-02-03T14:00:00.938Z"
   },
   {
    "duration": 3,
    "start_time": "2024-02-03T14:00:17.358Z"
   },
   {
    "duration": 3,
    "start_time": "2024-02-03T14:00:20.168Z"
   },
   {
    "duration": 3,
    "start_time": "2024-02-03T14:00:20.683Z"
   },
   {
    "duration": 15,
    "start_time": "2024-02-03T14:00:21.474Z"
   },
   {
    "duration": 1365,
    "start_time": "2024-02-03T14:06:17.891Z"
   },
   {
    "duration": 1365,
    "start_time": "2024-02-03T14:06:23.841Z"
   },
   {
    "duration": 1330,
    "start_time": "2024-02-03T14:06:41.505Z"
   },
   {
    "duration": 8,
    "start_time": "2024-02-03T14:07:15.965Z"
   },
   {
    "duration": 5,
    "start_time": "2024-02-03T14:07:35.124Z"
   },
   {
    "duration": 6,
    "start_time": "2024-02-03T14:07:40.058Z"
   },
   {
    "duration": 6,
    "start_time": "2024-02-03T14:12:56.219Z"
   },
   {
    "duration": 16,
    "start_time": "2024-02-03T14:14:02.989Z"
   },
   {
    "duration": 6,
    "start_time": "2024-02-03T14:14:38.707Z"
   },
   {
    "duration": 16,
    "start_time": "2024-02-03T14:14:40.161Z"
   },
   {
    "duration": 4,
    "start_time": "2024-02-03T14:17:07.296Z"
   },
   {
    "duration": 5,
    "start_time": "2024-02-03T14:17:07.534Z"
   },
   {
    "duration": 6,
    "start_time": "2024-02-03T14:17:07.762Z"
   },
   {
    "duration": 15,
    "start_time": "2024-02-03T14:17:07.964Z"
   },
   {
    "duration": 12,
    "start_time": "2024-02-03T14:21:18.196Z"
   },
   {
    "duration": 20,
    "start_time": "2024-02-03T14:21:29.480Z"
   },
   {
    "duration": 85,
    "start_time": "2024-02-03T14:22:52.503Z"
   },
   {
    "duration": 24,
    "start_time": "2024-02-03T14:23:33.260Z"
   },
   {
    "duration": 299,
    "start_time": "2024-02-03T14:27:39.389Z"
   },
   {
    "duration": 311,
    "start_time": "2024-02-03T14:28:07.860Z"
   },
   {
    "duration": 304,
    "start_time": "2024-02-03T14:29:55.504Z"
   },
   {
    "duration": 307,
    "start_time": "2024-02-03T14:30:12.247Z"
   },
   {
    "duration": 445,
    "start_time": "2024-02-03T14:30:34.769Z"
   },
   {
    "duration": 84,
    "start_time": "2024-02-03T14:33:36.469Z"
   },
   {
    "duration": 148,
    "start_time": "2024-02-03T14:36:24.110Z"
   },
   {
    "duration": 241,
    "start_time": "2024-02-03T14:36:31.369Z"
   },
   {
    "duration": 142,
    "start_time": "2024-02-03T14:36:36.247Z"
   },
   {
    "duration": 1160,
    "start_time": "2024-02-03T14:38:41.427Z"
   },
   {
    "duration": 54,
    "start_time": "2024-02-03T14:38:42.589Z"
   },
   {
    "duration": 20,
    "start_time": "2024-02-03T14:38:42.644Z"
   },
   {
    "duration": 17,
    "start_time": "2024-02-03T14:38:42.665Z"
   },
   {
    "duration": 4,
    "start_time": "2024-02-03T14:38:42.684Z"
   },
   {
    "duration": 3,
    "start_time": "2024-02-03T14:38:42.690Z"
   },
   {
    "duration": 11,
    "start_time": "2024-02-03T14:38:42.694Z"
   },
   {
    "duration": 9,
    "start_time": "2024-02-03T14:38:42.706Z"
   },
   {
    "duration": 27,
    "start_time": "2024-02-03T14:38:42.716Z"
   },
   {
    "duration": 5,
    "start_time": "2024-02-03T14:38:42.745Z"
   },
   {
    "duration": 6,
    "start_time": "2024-02-03T14:38:42.752Z"
   },
   {
    "duration": 32,
    "start_time": "2024-02-03T14:38:42.760Z"
   },
   {
    "duration": 21,
    "start_time": "2024-02-03T14:38:42.794Z"
   },
   {
    "duration": 7,
    "start_time": "2024-02-03T14:38:42.818Z"
   },
   {
    "duration": 9,
    "start_time": "2024-02-03T14:38:42.827Z"
   },
   {
    "duration": 15,
    "start_time": "2024-02-03T14:38:42.837Z"
   },
   {
    "duration": 4,
    "start_time": "2024-02-03T14:38:42.854Z"
   },
   {
    "duration": 12,
    "start_time": "2024-02-03T14:38:42.859Z"
   },
   {
    "duration": 26,
    "start_time": "2024-02-03T14:38:42.872Z"
   },
   {
    "duration": 21,
    "start_time": "2024-02-03T14:38:42.899Z"
   },
   {
    "duration": 15,
    "start_time": "2024-02-03T14:38:42.921Z"
   },
   {
    "duration": 20,
    "start_time": "2024-02-03T14:38:42.937Z"
   },
   {
    "duration": 343,
    "start_time": "2024-02-03T14:38:42.959Z"
   },
   {
    "duration": 105,
    "start_time": "2024-02-03T14:38:43.304Z"
   },
   {
    "duration": 145,
    "start_time": "2024-02-03T14:40:15.726Z"
   },
   {
    "duration": 298,
    "start_time": "2024-02-03T14:42:22.676Z"
   },
   {
    "duration": 227,
    "start_time": "2024-02-03T14:42:32.689Z"
   },
   {
    "duration": 240,
    "start_time": "2024-02-03T14:42:48.006Z"
   },
   {
    "duration": 127,
    "start_time": "2024-02-03T14:47:42.029Z"
   },
   {
    "duration": 12,
    "start_time": "2024-02-03T14:48:30.520Z"
   },
   {
    "duration": 18,
    "start_time": "2024-02-03T14:48:37.270Z"
   },
   {
    "duration": 4,
    "start_time": "2024-02-03T14:48:43.141Z"
   },
   {
    "duration": 9,
    "start_time": "2024-02-03T14:48:48.889Z"
   },
   {
    "duration": 7,
    "start_time": "2024-02-03T14:48:52.080Z"
   },
   {
    "duration": 7,
    "start_time": "2024-02-03T14:49:28.559Z"
   },
   {
    "duration": 1318,
    "start_time": "2024-02-03T14:59:40.658Z"
   },
   {
    "duration": 348,
    "start_time": "2024-02-03T14:59:50.966Z"
   },
   {
    "duration": 85,
    "start_time": "2024-02-03T15:02:29.704Z"
   },
   {
    "duration": 8,
    "start_time": "2024-02-03T15:02:38.856Z"
   },
   {
    "duration": 8,
    "start_time": "2024-02-03T15:02:52.494Z"
   },
   {
    "duration": 369,
    "start_time": "2024-02-03T15:07:48.199Z"
   },
   {
    "duration": 8,
    "start_time": "2024-02-03T15:11:51.793Z"
   },
   {
    "duration": 268,
    "start_time": "2024-02-03T15:12:00.297Z"
   },
   {
    "duration": 15,
    "start_time": "2024-02-03T15:12:16.408Z"
   },
   {
    "duration": 5,
    "start_time": "2024-02-03T15:14:48.562Z"
   },
   {
    "duration": 159,
    "start_time": "2024-02-03T15:16:27.411Z"
   },
   {
    "duration": 9,
    "start_time": "2024-02-03T15:18:27.538Z"
   },
   {
    "duration": 4,
    "start_time": "2024-02-03T15:18:37.645Z"
   },
   {
    "duration": 9,
    "start_time": "2024-02-03T15:18:43.483Z"
   },
   {
    "duration": 13,
    "start_time": "2024-02-03T15:19:52.511Z"
   },
   {
    "duration": 8,
    "start_time": "2024-02-03T15:19:58.477Z"
   },
   {
    "duration": 6,
    "start_time": "2024-02-03T15:21:01.455Z"
   },
   {
    "duration": 5,
    "start_time": "2024-02-03T15:21:05.163Z"
   },
   {
    "duration": 15,
    "start_time": "2024-02-03T15:21:11.954Z"
   },
   {
    "duration": 84,
    "start_time": "2024-02-03T15:23:21.887Z"
   },
   {
    "duration": 83,
    "start_time": "2024-02-03T15:23:32.549Z"
   },
   {
    "duration": 89,
    "start_time": "2024-02-03T15:23:48.883Z"
   },
   {
    "duration": 89,
    "start_time": "2024-02-03T15:24:00.797Z"
   },
   {
    "duration": 89,
    "start_time": "2024-02-03T15:24:13.429Z"
   },
   {
    "duration": 85,
    "start_time": "2024-02-03T15:24:21.860Z"
   },
   {
    "duration": 9,
    "start_time": "2024-02-03T15:24:54.960Z"
   },
   {
    "duration": 8,
    "start_time": "2024-02-03T15:25:05.075Z"
   },
   {
    "duration": 5,
    "start_time": "2024-02-03T15:25:14.015Z"
   },
   {
    "duration": 5,
    "start_time": "2024-02-03T15:25:17.469Z"
   },
   {
    "duration": 5,
    "start_time": "2024-02-03T15:25:47.400Z"
   },
   {
    "duration": 5,
    "start_time": "2024-02-03T15:25:51.960Z"
   },
   {
    "duration": 5,
    "start_time": "2024-02-03T15:25:59.246Z"
   },
   {
    "duration": 5,
    "start_time": "2024-02-03T15:26:00.776Z"
   },
   {
    "duration": 5,
    "start_time": "2024-02-03T15:29:47.584Z"
   },
   {
    "duration": 12,
    "start_time": "2024-02-03T15:37:32.837Z"
   },
   {
    "duration": 4,
    "start_time": "2024-02-03T15:38:05.596Z"
   },
   {
    "duration": 4,
    "start_time": "2024-02-03T15:38:11.830Z"
   },
   {
    "duration": 8,
    "start_time": "2024-02-03T15:40:35.384Z"
   },
   {
    "duration": 11,
    "start_time": "2024-02-03T15:40:56.421Z"
   },
   {
    "duration": 7,
    "start_time": "2024-02-03T15:42:43.921Z"
   },
   {
    "duration": 8,
    "start_time": "2024-02-03T15:42:48.399Z"
   },
   {
    "duration": 89,
    "start_time": "2024-02-03T15:48:50.506Z"
   },
   {
    "duration": 32,
    "start_time": "2024-02-03T15:49:07.464Z"
   },
   {
    "duration": 1186,
    "start_time": "2024-02-03T15:49:24.745Z"
   },
   {
    "duration": 1175,
    "start_time": "2024-02-03T15:49:32.923Z"
   },
   {
    "duration": 14,
    "start_time": "2024-02-03T15:49:46.743Z"
   },
   {
    "duration": 36,
    "start_time": "2024-02-03T15:50:54.955Z"
   },
   {
    "duration": 17,
    "start_time": "2024-02-03T15:51:24.569Z"
   },
   {
    "duration": 1279,
    "start_time": "2024-02-03T15:51:43.453Z"
   },
   {
    "duration": 12,
    "start_time": "2024-02-03T15:51:53.338Z"
   },
   {
    "duration": 14,
    "start_time": "2024-02-03T15:52:06.950Z"
   },
   {
    "duration": 79,
    "start_time": "2024-02-03T16:00:41.066Z"
   },
   {
    "duration": 89,
    "start_time": "2024-02-03T16:00:44.817Z"
   },
   {
    "duration": 84,
    "start_time": "2024-02-03T16:01:09.644Z"
   },
   {
    "duration": 1335,
    "start_time": "2024-02-03T16:01:19.577Z"
   },
   {
    "duration": 15,
    "start_time": "2024-02-03T16:01:40.872Z"
   },
   {
    "duration": 10,
    "start_time": "2024-02-03T16:01:42.284Z"
   },
   {
    "duration": 9,
    "start_time": "2024-02-03T16:02:50.451Z"
   },
   {
    "duration": 21,
    "start_time": "2024-02-03T16:03:17.202Z"
   },
   {
    "duration": 9,
    "start_time": "2024-02-03T16:03:17.508Z"
   },
   {
    "duration": 11,
    "start_time": "2024-02-03T16:03:43.254Z"
   },
   {
    "duration": 10,
    "start_time": "2024-02-03T16:04:39.176Z"
   },
   {
    "duration": 9,
    "start_time": "2024-02-03T16:05:00.235Z"
   },
   {
    "duration": 10,
    "start_time": "2024-02-03T16:05:05.225Z"
   },
   {
    "duration": 92,
    "start_time": "2024-02-03T16:10:12.306Z"
   },
   {
    "duration": 9,
    "start_time": "2024-02-03T16:10:27.467Z"
   },
   {
    "duration": 10,
    "start_time": "2024-02-03T16:11:03.093Z"
   },
   {
    "duration": 10,
    "start_time": "2024-02-03T16:11:24.473Z"
   },
   {
    "duration": 9,
    "start_time": "2024-02-03T16:11:59.463Z"
   },
   {
    "duration": 8,
    "start_time": "2024-02-03T16:12:21.853Z"
   },
   {
    "duration": 1154,
    "start_time": "2024-02-03T16:12:30.137Z"
   },
   {
    "duration": 54,
    "start_time": "2024-02-03T16:12:31.293Z"
   },
   {
    "duration": 17,
    "start_time": "2024-02-03T16:12:31.349Z"
   },
   {
    "duration": 41,
    "start_time": "2024-02-03T16:12:31.367Z"
   },
   {
    "duration": 44,
    "start_time": "2024-02-03T16:12:31.410Z"
   },
   {
    "duration": 44,
    "start_time": "2024-02-03T16:12:31.455Z"
   },
   {
    "duration": 32,
    "start_time": "2024-02-03T16:12:31.500Z"
   },
   {
    "duration": 45,
    "start_time": "2024-02-03T16:12:31.533Z"
   },
   {
    "duration": 48,
    "start_time": "2024-02-03T16:12:31.579Z"
   },
   {
    "duration": 24,
    "start_time": "2024-02-03T16:12:31.629Z"
   },
   {
    "duration": 80,
    "start_time": "2024-02-03T16:12:31.654Z"
   },
   {
    "duration": 112,
    "start_time": "2024-02-03T16:12:31.736Z"
   },
   {
    "duration": 80,
    "start_time": "2024-02-03T16:12:31.849Z"
   },
   {
    "duration": 57,
    "start_time": "2024-02-03T16:12:31.931Z"
   },
   {
    "duration": 23,
    "start_time": "2024-02-03T16:12:31.990Z"
   },
   {
    "duration": 71,
    "start_time": "2024-02-03T16:12:32.014Z"
   },
   {
    "duration": 14,
    "start_time": "2024-02-03T16:12:32.087Z"
   },
   {
    "duration": 46,
    "start_time": "2024-02-03T16:12:32.102Z"
   },
   {
    "duration": 52,
    "start_time": "2024-02-03T16:12:32.149Z"
   },
   {
    "duration": 48,
    "start_time": "2024-02-03T16:12:32.202Z"
   },
   {
    "duration": 41,
    "start_time": "2024-02-03T16:12:32.252Z"
   },
   {
    "duration": 41,
    "start_time": "2024-02-03T16:12:32.295Z"
   },
   {
    "duration": 336,
    "start_time": "2024-02-03T16:12:32.337Z"
   },
   {
    "duration": 21,
    "start_time": "2024-02-03T16:12:32.674Z"
   },
   {
    "duration": 8,
    "start_time": "2024-02-03T16:12:32.696Z"
   },
   {
    "duration": 102,
    "start_time": "2024-02-03T16:12:32.705Z"
   },
   {
    "duration": 0,
    "start_time": "2024-02-03T16:12:32.808Z"
   },
   {
    "duration": 0,
    "start_time": "2024-02-03T16:12:32.809Z"
   },
   {
    "duration": 8,
    "start_time": "2024-02-03T16:12:49.842Z"
   },
   {
    "duration": 12,
    "start_time": "2024-02-03T16:12:54.148Z"
   },
   {
    "duration": 10,
    "start_time": "2024-02-03T16:16:07.486Z"
   },
   {
    "duration": 9,
    "start_time": "2024-02-03T16:16:16.210Z"
   },
   {
    "duration": 7,
    "start_time": "2024-02-03T16:16:20.683Z"
   },
   {
    "duration": 316,
    "start_time": "2024-02-03T16:16:41.253Z"
   },
   {
    "duration": 9,
    "start_time": "2024-02-03T16:16:47.061Z"
   },
   {
    "duration": 8,
    "start_time": "2024-02-03T16:17:34.974Z"
   },
   {
    "duration": 7,
    "start_time": "2024-02-03T16:18:14.572Z"
   },
   {
    "duration": 83,
    "start_time": "2024-02-03T16:18:34.060Z"
   },
   {
    "duration": 11,
    "start_time": "2024-02-03T16:18:56.354Z"
   },
   {
    "duration": 11,
    "start_time": "2024-02-03T16:19:05.256Z"
   },
   {
    "duration": 7,
    "start_time": "2024-02-03T16:19:54.563Z"
   },
   {
    "duration": 81,
    "start_time": "2024-02-03T16:21:19.853Z"
   },
   {
    "duration": 83,
    "start_time": "2024-02-03T16:21:28.116Z"
   },
   {
    "duration": 92,
    "start_time": "2024-02-03T16:22:04.577Z"
   },
   {
    "duration": 11,
    "start_time": "2024-02-03T16:22:18.383Z"
   },
   {
    "duration": 85,
    "start_time": "2024-02-03T16:24:49.592Z"
   },
   {
    "duration": 78,
    "start_time": "2024-02-03T16:25:16.774Z"
   },
   {
    "duration": 9,
    "start_time": "2024-02-03T16:25:29.257Z"
   },
   {
    "duration": 102,
    "start_time": "2024-02-03T16:26:05.163Z"
   },
   {
    "duration": 10,
    "start_time": "2024-02-03T16:26:14.480Z"
   },
   {
    "duration": 7,
    "start_time": "2024-02-03T16:26:35.795Z"
   },
   {
    "duration": 7,
    "start_time": "2024-02-03T16:26:54.422Z"
   },
   {
    "duration": 10,
    "start_time": "2024-02-03T16:29:37.895Z"
   },
   {
    "duration": 9,
    "start_time": "2024-02-03T16:29:45.194Z"
   },
   {
    "duration": 10,
    "start_time": "2024-02-03T16:29:48.587Z"
   },
   {
    "duration": 116,
    "start_time": "2024-02-03T16:30:17.008Z"
   },
   {
    "duration": 9,
    "start_time": "2024-02-03T16:30:22.868Z"
   },
   {
    "duration": 847,
    "start_time": "2024-02-03T16:30:46.628Z"
   },
   {
    "duration": 9,
    "start_time": "2024-02-03T16:32:04.980Z"
   },
   {
    "duration": 9,
    "start_time": "2024-02-03T16:32:46.242Z"
   },
   {
    "duration": 7,
    "start_time": "2024-02-03T16:32:48.118Z"
   },
   {
    "duration": 114,
    "start_time": "2024-02-03T16:34:24.628Z"
   },
   {
    "duration": 10,
    "start_time": "2024-02-03T16:38:32.400Z"
   },
   {
    "duration": 80,
    "start_time": "2024-02-03T16:38:56.888Z"
   },
   {
    "duration": 201,
    "start_time": "2024-02-03T16:40:27.778Z"
   },
   {
    "duration": 87,
    "start_time": "2024-02-03T16:41:14.149Z"
   },
   {
    "duration": 84,
    "start_time": "2024-02-03T16:41:20.321Z"
   },
   {
    "duration": 89,
    "start_time": "2024-02-03T16:41:25.867Z"
   },
   {
    "duration": 94,
    "start_time": "2024-02-03T16:41:36.856Z"
   },
   {
    "duration": 88,
    "start_time": "2024-02-03T16:41:46.464Z"
   },
   {
    "duration": 91,
    "start_time": "2024-02-03T16:41:53.168Z"
   },
   {
    "duration": 87,
    "start_time": "2024-02-03T16:42:01.762Z"
   },
   {
    "duration": 79,
    "start_time": "2024-02-03T16:42:20.272Z"
   },
   {
    "duration": 110,
    "start_time": "2024-02-03T16:42:35.481Z"
   },
   {
    "duration": 171,
    "start_time": "2024-02-03T16:42:41.557Z"
   },
   {
    "duration": 205,
    "start_time": "2024-02-03T16:42:47.839Z"
   },
   {
    "duration": 81,
    "start_time": "2024-02-03T16:42:52.507Z"
   },
   {
    "duration": 2646,
    "start_time": "2024-02-03T16:45:15.720Z"
   },
   {
    "duration": 93,
    "start_time": "2024-02-03T16:46:19.756Z"
   },
   {
    "duration": 82,
    "start_time": "2024-02-03T16:46:26.986Z"
   },
   {
    "duration": 9,
    "start_time": "2024-02-03T16:46:32.788Z"
   },
   {
    "duration": 2242,
    "start_time": "2024-02-03T16:46:40.150Z"
   },
   {
    "duration": 0,
    "start_time": "2024-02-03T16:46:42.394Z"
   },
   {
    "duration": 8,
    "start_time": "2024-02-03T16:47:02.349Z"
   },
   {
    "duration": 9,
    "start_time": "2024-02-03T16:47:44.340Z"
   },
   {
    "duration": 93,
    "start_time": "2024-02-03T16:48:20.067Z"
   },
   {
    "duration": 14,
    "start_time": "2024-02-03T16:49:02.242Z"
   },
   {
    "duration": 89,
    "start_time": "2024-02-03T16:49:49.695Z"
   },
   {
    "duration": 77,
    "start_time": "2024-02-03T16:49:59.147Z"
   },
   {
    "duration": 94,
    "start_time": "2024-02-03T16:50:23.171Z"
   },
   {
    "duration": 13,
    "start_time": "2024-02-03T16:53:09.123Z"
   },
   {
    "duration": 9,
    "start_time": "2024-02-03T16:53:34.127Z"
   },
   {
    "duration": 24,
    "start_time": "2024-02-03T16:53:45.182Z"
   },
   {
    "duration": 15,
    "start_time": "2024-02-03T16:55:10.030Z"
   },
   {
    "duration": 15,
    "start_time": "2024-02-03T16:55:14.800Z"
   },
   {
    "duration": 15,
    "start_time": "2024-02-03T16:55:31.508Z"
   },
   {
    "duration": 105,
    "start_time": "2024-02-03T16:57:30.165Z"
   },
   {
    "duration": 177,
    "start_time": "2024-02-03T16:57:42.521Z"
   },
   {
    "duration": 79,
    "start_time": "2024-02-03T16:58:08.802Z"
   },
   {
    "duration": 87,
    "start_time": "2024-02-03T16:58:19.212Z"
   },
   {
    "duration": 86,
    "start_time": "2024-02-03T16:58:50.772Z"
   },
   {
    "duration": 83,
    "start_time": "2024-02-03T16:59:05.428Z"
   },
   {
    "duration": 82,
    "start_time": "2024-02-03T16:59:28.970Z"
   },
   {
    "duration": 110,
    "start_time": "2024-02-03T16:59:56.813Z"
   },
   {
    "duration": 93,
    "start_time": "2024-02-03T17:00:02.309Z"
   },
   {
    "duration": 85,
    "start_time": "2024-02-03T17:00:09.069Z"
   },
   {
    "duration": 86,
    "start_time": "2024-02-03T17:00:42.598Z"
   },
   {
    "duration": 12,
    "start_time": "2024-02-03T17:02:43.740Z"
   },
   {
    "duration": 9,
    "start_time": "2024-02-03T17:02:47.080Z"
   },
   {
    "duration": 89,
    "start_time": "2024-02-03T17:03:52.376Z"
   },
   {
    "duration": 82,
    "start_time": "2024-02-03T17:04:03.266Z"
   },
   {
    "duration": 93,
    "start_time": "2024-02-03T17:04:12.494Z"
   },
   {
    "duration": 88,
    "start_time": "2024-02-03T17:04:24.081Z"
   },
   {
    "duration": 83,
    "start_time": "2024-02-03T17:06:01.905Z"
   },
   {
    "duration": 79,
    "start_time": "2024-02-03T17:06:56.044Z"
   },
   {
    "duration": 76,
    "start_time": "2024-02-03T17:07:02.384Z"
   },
   {
    "duration": 88,
    "start_time": "2024-02-03T17:07:51.341Z"
   },
   {
    "duration": 88,
    "start_time": "2024-02-03T17:07:55.751Z"
   },
   {
    "duration": 90,
    "start_time": "2024-02-03T17:08:11.132Z"
   },
   {
    "duration": 87,
    "start_time": "2024-02-03T17:08:18.458Z"
   },
   {
    "duration": 14,
    "start_time": "2024-02-03T17:08:34.916Z"
   },
   {
    "duration": 20,
    "start_time": "2024-02-03T17:09:18.774Z"
   },
   {
    "duration": 134,
    "start_time": "2024-02-03T17:09:41.812Z"
   },
   {
    "duration": 10,
    "start_time": "2024-02-03T17:10:10.675Z"
   },
   {
    "duration": 7,
    "start_time": "2024-02-03T17:10:14.901Z"
   },
   {
    "duration": 10,
    "start_time": "2024-02-03T17:11:00.240Z"
   },
   {
    "duration": 13,
    "start_time": "2024-02-03T17:11:55.107Z"
   },
   {
    "duration": 14,
    "start_time": "2024-02-03T17:11:56.356Z"
   },
   {
    "duration": 14,
    "start_time": "2024-02-03T18:29:17.223Z"
   },
   {
    "duration": 11,
    "start_time": "2024-02-03T18:29:24.837Z"
   },
   {
    "duration": 7,
    "start_time": "2024-02-03T18:29:25.476Z"
   },
   {
    "duration": 1306,
    "start_time": "2024-02-03T18:31:37.267Z"
   },
   {
    "duration": 87,
    "start_time": "2024-02-03T18:31:59.437Z"
   },
   {
    "duration": 16,
    "start_time": "2024-02-03T18:32:28.618Z"
   },
   {
    "duration": 14,
    "start_time": "2024-02-03T18:33:07.261Z"
   },
   {
    "duration": 13,
    "start_time": "2024-02-03T18:33:30.720Z"
   },
   {
    "duration": 15,
    "start_time": "2024-02-03T18:33:49.584Z"
   },
   {
    "duration": 12,
    "start_time": "2024-02-03T18:33:57.788Z"
   },
   {
    "duration": 9,
    "start_time": "2024-02-03T18:34:06.276Z"
   },
   {
    "duration": 9,
    "start_time": "2024-02-03T18:34:06.798Z"
   },
   {
    "duration": 13,
    "start_time": "2024-02-03T18:35:08.097Z"
   },
   {
    "duration": 7,
    "start_time": "2024-02-03T18:35:09.772Z"
   },
   {
    "duration": 13,
    "start_time": "2024-02-03T18:36:11.409Z"
   },
   {
    "duration": 7,
    "start_time": "2024-02-03T18:36:12.447Z"
   },
   {
    "duration": 10,
    "start_time": "2024-02-03T18:36:40.955Z"
   },
   {
    "duration": 7,
    "start_time": "2024-02-03T18:36:42.313Z"
   },
   {
    "duration": 10,
    "start_time": "2024-02-03T18:48:09.456Z"
   },
   {
    "duration": 7,
    "start_time": "2024-02-03T18:48:10.248Z"
   },
   {
    "duration": 103,
    "start_time": "2024-02-03T18:52:47.248Z"
   },
   {
    "duration": 92,
    "start_time": "2024-02-03T18:53:27.720Z"
   },
   {
    "duration": 2716,
    "start_time": "2024-02-03T18:53:38.399Z"
   },
   {
    "duration": 90,
    "start_time": "2024-02-03T18:55:12.584Z"
   },
   {
    "duration": 86,
    "start_time": "2024-02-03T18:55:26.323Z"
   },
   {
    "duration": 90,
    "start_time": "2024-02-03T18:55:49.722Z"
   },
   {
    "duration": 87,
    "start_time": "2024-02-03T18:55:57.959Z"
   },
   {
    "duration": 11,
    "start_time": "2024-02-03T18:56:15.956Z"
   },
   {
    "duration": 15,
    "start_time": "2024-02-03T18:56:26.202Z"
   },
   {
    "duration": 16,
    "start_time": "2024-02-03T18:57:56.010Z"
   },
   {
    "duration": 17,
    "start_time": "2024-02-03T18:59:44.014Z"
   },
   {
    "duration": 14,
    "start_time": "2024-02-03T18:59:59.797Z"
   },
   {
    "duration": 3,
    "start_time": "2024-02-03T19:00:19.868Z"
   },
   {
    "duration": 107,
    "start_time": "2024-02-03T19:01:19.722Z"
   },
   {
    "duration": 20,
    "start_time": "2024-02-03T19:01:23.507Z"
   },
   {
    "duration": 16,
    "start_time": "2024-02-03T19:01:44.585Z"
   },
   {
    "duration": 9,
    "start_time": "2024-02-03T19:01:47.773Z"
   },
   {
    "duration": 13,
    "start_time": "2024-02-03T19:02:00.161Z"
   },
   {
    "duration": 19,
    "start_time": "2024-02-03T19:02:19.363Z"
   },
   {
    "duration": 9,
    "start_time": "2024-02-03T19:02:38.174Z"
   },
   {
    "duration": 4,
    "start_time": "2024-02-03T19:02:47.211Z"
   },
   {
    "duration": 1107,
    "start_time": "2024-02-03T19:03:40.571Z"
   },
   {
    "duration": 18,
    "start_time": "2024-02-03T19:03:58.090Z"
   },
   {
    "duration": 0,
    "start_time": "2024-02-04T09:07:32.196Z"
   },
   {
    "duration": 0,
    "start_time": "2024-02-04T09:07:32.197Z"
   },
   {
    "duration": 0,
    "start_time": "2024-02-04T09:07:32.199Z"
   },
   {
    "duration": 0,
    "start_time": "2024-02-04T09:07:32.201Z"
   },
   {
    "duration": 0,
    "start_time": "2024-02-04T09:07:34.582Z"
   },
   {
    "duration": 2,
    "start_time": "2024-02-04T09:12:47.198Z"
   },
   {
    "duration": 52,
    "start_time": "2024-02-04T09:12:47.202Z"
   },
   {
    "duration": 16,
    "start_time": "2024-02-04T09:12:47.256Z"
   },
   {
    "duration": 36,
    "start_time": "2024-02-04T09:12:47.273Z"
   },
   {
    "duration": 39,
    "start_time": "2024-02-04T09:12:47.310Z"
   },
   {
    "duration": 12,
    "start_time": "2024-02-04T09:12:47.350Z"
   },
   {
    "duration": 0,
    "start_time": "2024-02-04T09:12:48.338Z"
   },
   {
    "duration": 0,
    "start_time": "2024-02-04T09:12:48.339Z"
   },
   {
    "duration": 0,
    "start_time": "2024-02-04T09:12:48.340Z"
   },
   {
    "duration": 0,
    "start_time": "2024-02-04T09:12:48.341Z"
   },
   {
    "duration": 0,
    "start_time": "2024-02-04T09:12:48.345Z"
   },
   {
    "duration": 0,
    "start_time": "2024-02-04T09:12:48.346Z"
   },
   {
    "duration": 0,
    "start_time": "2024-02-04T09:12:48.347Z"
   },
   {
    "duration": 0,
    "start_time": "2024-02-04T09:12:48.347Z"
   },
   {
    "duration": 0,
    "start_time": "2024-02-04T09:12:48.348Z"
   },
   {
    "duration": 0,
    "start_time": "2024-02-04T09:12:48.349Z"
   },
   {
    "duration": 0,
    "start_time": "2024-02-04T09:12:48.350Z"
   },
   {
    "duration": 0,
    "start_time": "2024-02-04T09:12:48.351Z"
   },
   {
    "duration": 0,
    "start_time": "2024-02-04T09:12:48.352Z"
   },
   {
    "duration": 0,
    "start_time": "2024-02-04T09:12:48.353Z"
   },
   {
    "duration": 0,
    "start_time": "2024-02-04T09:12:48.354Z"
   },
   {
    "duration": 0,
    "start_time": "2024-02-04T09:12:48.355Z"
   },
   {
    "duration": 0,
    "start_time": "2024-02-04T09:12:48.356Z"
   },
   {
    "duration": 0,
    "start_time": "2024-02-04T09:12:48.356Z"
   },
   {
    "duration": 0,
    "start_time": "2024-02-04T09:12:48.357Z"
   },
   {
    "duration": 0,
    "start_time": "2024-02-04T09:12:48.358Z"
   },
   {
    "duration": 0,
    "start_time": "2024-02-04T09:12:48.359Z"
   },
   {
    "duration": 0,
    "start_time": "2024-02-04T09:12:48.360Z"
   },
   {
    "duration": 0,
    "start_time": "2024-02-04T09:12:48.360Z"
   },
   {
    "duration": 0,
    "start_time": "2024-02-04T09:12:48.361Z"
   },
   {
    "duration": 0,
    "start_time": "2024-02-04T09:12:48.362Z"
   },
   {
    "duration": 0,
    "start_time": "2024-02-04T09:12:48.363Z"
   },
   {
    "duration": 0,
    "start_time": "2024-02-04T09:12:48.364Z"
   },
   {
    "duration": 1044,
    "start_time": "2024-02-04T09:17:03.069Z"
   },
   {
    "duration": 53,
    "start_time": "2024-02-04T09:17:04.114Z"
   },
   {
    "duration": 16,
    "start_time": "2024-02-04T09:17:04.169Z"
   },
   {
    "duration": 36,
    "start_time": "2024-02-04T09:17:04.187Z"
   },
   {
    "duration": 4,
    "start_time": "2024-02-04T09:17:04.224Z"
   },
   {
    "duration": 31,
    "start_time": "2024-02-04T09:17:04.230Z"
   },
   {
    "duration": 2,
    "start_time": "2024-02-04T09:17:04.290Z"
   },
   {
    "duration": 52,
    "start_time": "2024-02-04T09:17:04.294Z"
   },
   {
    "duration": 15,
    "start_time": "2024-02-04T09:17:04.347Z"
   },
   {
    "duration": 30,
    "start_time": "2024-02-04T09:17:04.364Z"
   },
   {
    "duration": 20,
    "start_time": "2024-02-04T09:17:04.396Z"
   },
   {
    "duration": 23,
    "start_time": "2024-02-04T09:17:04.417Z"
   },
   {
    "duration": 36,
    "start_time": "2024-02-04T09:17:04.441Z"
   },
   {
    "duration": 90,
    "start_time": "2024-02-04T09:17:04.478Z"
   },
   {
    "duration": 207,
    "start_time": "2024-02-04T09:17:04.570Z"
   },
   {
    "duration": 80,
    "start_time": "2024-02-04T09:17:04.779Z"
   },
   {
    "duration": 45,
    "start_time": "2024-02-04T09:17:04.860Z"
   },
   {
    "duration": 53,
    "start_time": "2024-02-04T09:17:04.906Z"
   },
   {
    "duration": 20,
    "start_time": "2024-02-04T09:17:04.960Z"
   },
   {
    "duration": 38,
    "start_time": "2024-02-04T09:17:04.982Z"
   },
   {
    "duration": 22,
    "start_time": "2024-02-04T09:17:05.112Z"
   },
   {
    "duration": 31,
    "start_time": "2024-02-04T09:17:05.135Z"
   },
   {
    "duration": 26,
    "start_time": "2024-02-04T09:17:05.168Z"
   },
   {
    "duration": 15,
    "start_time": "2024-02-04T09:17:05.196Z"
   },
   {
    "duration": 27,
    "start_time": "2024-02-04T09:17:05.212Z"
   },
   {
    "duration": 44,
    "start_time": "2024-02-04T09:17:05.240Z"
   },
   {
    "duration": 322,
    "start_time": "2024-02-04T09:17:05.286Z"
   },
   {
    "duration": 9,
    "start_time": "2024-02-04T09:17:05.610Z"
   },
   {
    "duration": 42,
    "start_time": "2024-02-04T09:17:05.620Z"
   },
   {
    "duration": 133,
    "start_time": "2024-02-04T09:17:05.663Z"
   },
   {
    "duration": 0,
    "start_time": "2024-02-04T09:17:05.798Z"
   },
   {
    "duration": 3,
    "start_time": "2024-02-04T09:20:03.582Z"
   },
   {
    "duration": 53,
    "start_time": "2024-02-04T09:20:03.587Z"
   },
   {
    "duration": 3,
    "start_time": "2024-02-04T09:21:38.428Z"
   },
   {
    "duration": 51,
    "start_time": "2024-02-04T09:21:39.075Z"
   },
   {
    "duration": 14,
    "start_time": "2024-02-04T09:21:40.207Z"
   },
   {
    "duration": 13,
    "start_time": "2024-02-04T09:21:40.873Z"
   },
   {
    "duration": 3,
    "start_time": "2024-02-04T09:21:42.987Z"
   },
   {
    "duration": 3,
    "start_time": "2024-02-04T09:21:43.777Z"
   },
   {
    "duration": 8,
    "start_time": "2024-02-04T09:21:44.341Z"
   },
   {
    "duration": 7,
    "start_time": "2024-02-04T09:21:45.453Z"
   },
   {
    "duration": 15,
    "start_time": "2024-02-04T09:21:45.959Z"
   },
   {
    "duration": 4,
    "start_time": "2024-02-04T09:21:46.189Z"
   },
   {
    "duration": 5,
    "start_time": "2024-02-04T09:21:46.659Z"
   },
   {
    "duration": 5,
    "start_time": "2024-02-04T09:21:46.916Z"
   },
   {
    "duration": 5,
    "start_time": "2024-02-04T09:21:47.181Z"
   },
   {
    "duration": 5,
    "start_time": "2024-02-04T09:21:47.681Z"
   },
   {
    "duration": 3,
    "start_time": "2024-02-04T09:21:47.935Z"
   },
   {
    "duration": 12,
    "start_time": "2024-02-04T09:21:48.167Z"
   },
   {
    "duration": 5,
    "start_time": "2024-02-04T09:21:48.420Z"
   },
   {
    "duration": 4,
    "start_time": "2024-02-04T09:21:49.243Z"
   },
   {
    "duration": 5,
    "start_time": "2024-02-04T09:21:49.753Z"
   },
   {
    "duration": 6,
    "start_time": "2024-02-04T09:21:50.203Z"
   },
   {
    "duration": 14,
    "start_time": "2024-02-04T09:21:50.902Z"
   },
   {
    "duration": 18,
    "start_time": "2024-02-04T09:21:53.274Z"
   },
   {
    "duration": 306,
    "start_time": "2024-02-04T09:21:54.429Z"
   },
   {
    "duration": 9,
    "start_time": "2024-02-04T09:21:56.671Z"
   },
   {
    "duration": 7,
    "start_time": "2024-02-04T09:22:31.134Z"
   },
   {
    "duration": 43,
    "start_time": "2024-02-04T09:24:13.724Z"
   },
   {
    "duration": 598,
    "start_time": "2024-02-04T09:24:30.086Z"
   },
   {
    "duration": 592,
    "start_time": "2024-02-04T09:28:47.973Z"
   },
   {
    "duration": 42,
    "start_time": "2024-02-04T09:31:12.740Z"
   },
   {
    "duration": 36,
    "start_time": "2024-02-04T09:31:21.450Z"
   },
   {
    "duration": 584,
    "start_time": "2024-02-04T09:32:21.244Z"
   },
   {
    "duration": 567,
    "start_time": "2024-02-04T09:33:04.270Z"
   },
   {
    "duration": 69,
    "start_time": "2024-02-04T09:34:30.590Z"
   },
   {
    "duration": 558,
    "start_time": "2024-02-04T09:34:35.346Z"
   },
   {
    "duration": 30,
    "start_time": "2024-02-04T09:35:13.487Z"
   },
   {
    "duration": 735,
    "start_time": "2024-02-04T09:36:12.108Z"
   },
   {
    "duration": 875,
    "start_time": "2024-02-04T09:39:42.579Z"
   },
   {
    "duration": 2,
    "start_time": "2024-02-04T09:42:25.022Z"
   },
   {
    "duration": 10,
    "start_time": "2024-02-04T09:56:36.860Z"
   },
   {
    "duration": 1320,
    "start_time": "2024-02-04T09:56:45.601Z"
   },
   {
    "duration": 2,
    "start_time": "2024-02-04T09:57:13.606Z"
   },
   {
    "duration": 9,
    "start_time": "2024-02-04T10:00:01.483Z"
   },
   {
    "duration": 8,
    "start_time": "2024-02-04T10:00:08.209Z"
   },
   {
    "duration": 8,
    "start_time": "2024-02-04T10:02:26.498Z"
   },
   {
    "duration": 1201,
    "start_time": "2024-02-04T10:03:04.642Z"
   },
   {
    "duration": 613,
    "start_time": "2024-02-04T10:09:33.295Z"
   },
   {
    "duration": 636,
    "start_time": "2024-02-04T10:10:17.537Z"
   },
   {
    "duration": 7,
    "start_time": "2024-02-04T10:14:07.046Z"
   },
   {
    "duration": 7,
    "start_time": "2024-02-04T10:14:18.071Z"
   },
   {
    "duration": 12,
    "start_time": "2024-02-04T10:14:58.563Z"
   },
   {
    "duration": 12,
    "start_time": "2024-02-04T10:15:51.471Z"
   },
   {
    "duration": 11,
    "start_time": "2024-02-04T10:16:19.131Z"
   },
   {
    "duration": 102,
    "start_time": "2024-02-04T10:17:40.882Z"
   },
   {
    "duration": 84,
    "start_time": "2024-02-04T10:17:47.544Z"
   },
   {
    "duration": 80,
    "start_time": "2024-02-04T10:17:53.506Z"
   },
   {
    "duration": 7,
    "start_time": "2024-02-04T10:17:57.417Z"
   },
   {
    "duration": 105,
    "start_time": "2024-02-04T10:30:32.142Z"
   },
   {
    "duration": 77,
    "start_time": "2024-02-04T10:30:58.510Z"
   },
   {
    "duration": 75,
    "start_time": "2024-02-04T10:31:15.735Z"
   },
   {
    "duration": 71,
    "start_time": "2024-02-04T10:31:25.374Z"
   },
   {
    "duration": 67,
    "start_time": "2024-02-04T10:32:11.623Z"
   },
   {
    "duration": 70,
    "start_time": "2024-02-04T10:32:47.405Z"
   },
   {
    "duration": 63,
    "start_time": "2024-02-04T10:33:34.769Z"
   },
   {
    "duration": 75,
    "start_time": "2024-02-04T10:34:08.375Z"
   },
   {
    "duration": 72,
    "start_time": "2024-02-04T10:34:19.344Z"
   },
   {
    "duration": 11,
    "start_time": "2024-02-04T10:34:40.497Z"
   },
   {
    "duration": 12,
    "start_time": "2024-02-04T10:34:45.438Z"
   },
   {
    "duration": 6,
    "start_time": "2024-02-04T10:34:46.379Z"
   },
   {
    "duration": 67,
    "start_time": "2024-02-04T10:35:38.061Z"
   },
   {
    "duration": 173,
    "start_time": "2024-02-04T10:38:23.225Z"
   },
   {
    "duration": 78,
    "start_time": "2024-02-04T10:38:46.811Z"
   },
   {
    "duration": 66,
    "start_time": "2024-02-04T10:39:24.455Z"
   },
   {
    "duration": 67,
    "start_time": "2024-02-04T10:39:32.876Z"
   },
   {
    "duration": 99,
    "start_time": "2024-02-04T10:45:01.683Z"
   },
   {
    "duration": 69,
    "start_time": "2024-02-04T10:45:09.878Z"
   },
   {
    "duration": 77,
    "start_time": "2024-02-04T10:45:26.001Z"
   },
   {
    "duration": 87,
    "start_time": "2024-02-04T10:45:38.713Z"
   },
   {
    "duration": 1054,
    "start_time": "2024-02-04T10:45:49.174Z"
   },
   {
    "duration": 54,
    "start_time": "2024-02-04T10:45:50.230Z"
   },
   {
    "duration": 43,
    "start_time": "2024-02-04T10:45:50.286Z"
   },
   {
    "duration": 95,
    "start_time": "2024-02-04T10:45:50.331Z"
   },
   {
    "duration": 39,
    "start_time": "2024-02-04T10:45:50.428Z"
   },
   {
    "duration": 53,
    "start_time": "2024-02-04T10:45:50.468Z"
   },
   {
    "duration": 24,
    "start_time": "2024-02-04T10:45:50.523Z"
   },
   {
    "duration": 17,
    "start_time": "2024-02-04T10:45:50.549Z"
   },
   {
    "duration": 34,
    "start_time": "2024-02-04T10:45:50.567Z"
   },
   {
    "duration": 5,
    "start_time": "2024-02-04T10:45:50.602Z"
   },
   {
    "duration": 19,
    "start_time": "2024-02-04T10:45:50.609Z"
   },
   {
    "duration": 31,
    "start_time": "2024-02-04T10:45:50.630Z"
   },
   {
    "duration": 11,
    "start_time": "2024-02-04T10:45:50.663Z"
   },
   {
    "duration": 5,
    "start_time": "2024-02-04T10:45:50.677Z"
   },
   {
    "duration": 19,
    "start_time": "2024-02-04T10:45:50.684Z"
   },
   {
    "duration": 24,
    "start_time": "2024-02-04T10:45:50.704Z"
   },
   {
    "duration": 15,
    "start_time": "2024-02-04T10:45:50.730Z"
   },
   {
    "duration": 11,
    "start_time": "2024-02-04T10:45:50.747Z"
   },
   {
    "duration": 10,
    "start_time": "2024-02-04T10:45:50.760Z"
   },
   {
    "duration": 9,
    "start_time": "2024-02-04T10:45:50.772Z"
   },
   {
    "duration": 21,
    "start_time": "2024-02-04T10:45:50.782Z"
   },
   {
    "duration": 17,
    "start_time": "2024-02-04T10:45:50.805Z"
   },
   {
    "duration": 381,
    "start_time": "2024-02-04T10:45:50.823Z"
   },
   {
    "duration": 80,
    "start_time": "2024-02-04T10:45:51.205Z"
   },
   {
    "duration": 0,
    "start_time": "2024-02-04T10:45:51.287Z"
   },
   {
    "duration": 0,
    "start_time": "2024-02-04T10:45:51.288Z"
   },
   {
    "duration": 13,
    "start_time": "2024-02-04T10:46:14.038Z"
   },
   {
    "duration": 12,
    "start_time": "2024-02-04T10:46:17.044Z"
   },
   {
    "duration": 9,
    "start_time": "2024-02-04T10:46:42.363Z"
   },
   {
    "duration": 8,
    "start_time": "2024-02-04T10:46:52.567Z"
   },
   {
    "duration": 11,
    "start_time": "2024-02-04T10:48:02.431Z"
   },
   {
    "duration": 8,
    "start_time": "2024-02-04T10:48:43.408Z"
   },
   {
    "duration": 7,
    "start_time": "2024-02-04T10:48:47.776Z"
   },
   {
    "duration": 10,
    "start_time": "2024-02-04T10:51:18.355Z"
   },
   {
    "duration": 7,
    "start_time": "2024-02-04T10:51:19.921Z"
   },
   {
    "duration": 96,
    "start_time": "2024-02-04T10:51:39.443Z"
   },
   {
    "duration": 11,
    "start_time": "2024-02-04T10:51:44.714Z"
   },
   {
    "duration": 9,
    "start_time": "2024-02-04T10:52:17.020Z"
   },
   {
    "duration": 7,
    "start_time": "2024-02-04T10:52:23.405Z"
   },
   {
    "duration": 816,
    "start_time": "2024-02-04T10:53:08.578Z"
   },
   {
    "duration": 8,
    "start_time": "2024-02-04T10:54:50.846Z"
   },
   {
    "duration": 85,
    "start_time": "2024-02-04T10:55:40.430Z"
   },
   {
    "duration": 14,
    "start_time": "2024-02-04T10:55:54.704Z"
   },
   {
    "duration": 12,
    "start_time": "2024-02-04T10:56:53.839Z"
   },
   {
    "duration": 10,
    "start_time": "2024-02-04T10:56:55.848Z"
   },
   {
    "duration": 6,
    "start_time": "2024-02-04T10:57:15.558Z"
   },
   {
    "duration": 8,
    "start_time": "2024-02-04T10:57:25.276Z"
   },
   {
    "duration": 11,
    "start_time": "2024-02-04T10:57:34.216Z"
   },
   {
    "duration": 11,
    "start_time": "2024-02-04T10:57:35.464Z"
   },
   {
    "duration": 13,
    "start_time": "2024-02-04T10:57:55.841Z"
   },
   {
    "duration": 6,
    "start_time": "2024-02-04T10:57:56.871Z"
   },
   {
    "duration": 9,
    "start_time": "2024-02-04T10:58:23.867Z"
   },
   {
    "duration": 6,
    "start_time": "2024-02-04T10:58:24.800Z"
   },
   {
    "duration": 72,
    "start_time": "2024-02-04T10:59:36.169Z"
   },
   {
    "duration": 69,
    "start_time": "2024-02-04T10:59:57.524Z"
   },
   {
    "duration": 122,
    "start_time": "2024-02-04T11:00:12.200Z"
   },
   {
    "duration": 73,
    "start_time": "2024-02-04T11:00:18.350Z"
   },
   {
    "duration": 81,
    "start_time": "2024-02-04T11:01:26.870Z"
   },
   {
    "duration": 8,
    "start_time": "2024-02-04T11:03:15.845Z"
   },
   {
    "duration": 8,
    "start_time": "2024-02-04T11:03:30.855Z"
   },
   {
    "duration": 7,
    "start_time": "2024-02-04T11:05:32.879Z"
   },
   {
    "duration": 3,
    "start_time": "2024-02-04T11:12:02.762Z"
   },
   {
    "duration": 2,
    "start_time": "2024-02-04T11:12:35.003Z"
   },
   {
    "duration": 13,
    "start_time": "2024-02-04T11:14:04.609Z"
   },
   {
    "duration": 2,
    "start_time": "2024-02-04T11:14:30.929Z"
   },
   {
    "duration": 12,
    "start_time": "2024-02-04T11:14:33.670Z"
   },
   {
    "duration": 11,
    "start_time": "2024-02-04T11:14:57.147Z"
   },
   {
    "duration": 83,
    "start_time": "2024-02-04T11:18:43.379Z"
   },
   {
    "duration": 79,
    "start_time": "2024-02-04T11:19:22.696Z"
   },
   {
    "duration": 97,
    "start_time": "2024-02-04T11:19:53.699Z"
   },
   {
    "duration": 82,
    "start_time": "2024-02-04T11:20:01.701Z"
   },
   {
    "duration": 80,
    "start_time": "2024-02-04T11:20:07.159Z"
   },
   {
    "duration": 93,
    "start_time": "2024-02-04T11:21:08.551Z"
   },
   {
    "duration": 20,
    "start_time": "2024-02-04T11:21:15.899Z"
   },
   {
    "duration": 74,
    "start_time": "2024-02-04T11:21:32.016Z"
   },
   {
    "duration": 16,
    "start_time": "2024-02-04T11:22:09.257Z"
   },
   {
    "duration": 8,
    "start_time": "2024-02-04T11:29:58.009Z"
   },
   {
    "duration": 7,
    "start_time": "2024-02-04T11:30:10.225Z"
   },
   {
    "duration": 6,
    "start_time": "2024-02-04T11:30:19.587Z"
   },
   {
    "duration": 56,
    "start_time": "2024-02-04T11:35:28.927Z"
   },
   {
    "duration": 158547,
    "start_time": "2024-02-04T11:38:36.678Z"
   },
   {
    "duration": 13,
    "start_time": "2024-02-04T11:41:33.152Z"
   },
   {
    "duration": 12,
    "start_time": "2024-02-04T11:41:49.825Z"
   },
   {
    "duration": 13,
    "start_time": "2024-02-04T11:42:17.431Z"
   },
   {
    "duration": 13,
    "start_time": "2024-02-04T11:42:29.035Z"
   },
   {
    "duration": 10,
    "start_time": "2024-02-04T11:49:18.330Z"
   },
   {
    "duration": 9,
    "start_time": "2024-02-04T11:49:24.462Z"
   },
   {
    "duration": 12,
    "start_time": "2024-02-04T11:50:04.996Z"
   },
   {
    "duration": 91,
    "start_time": "2024-02-04T11:50:37.905Z"
   },
   {
    "duration": 73,
    "start_time": "2024-02-04T11:50:49.967Z"
   },
   {
    "duration": 12,
    "start_time": "2024-02-04T11:50:54.451Z"
   },
   {
    "duration": 2,
    "start_time": "2024-02-04T11:51:43.775Z"
   },
   {
    "duration": 1095,
    "start_time": "2024-02-04T11:56:01.893Z"
   },
   {
    "duration": 1101,
    "start_time": "2024-02-04T11:56:18.183Z"
   },
   {
    "duration": 1203,
    "start_time": "2024-02-04T11:56:32.391Z"
   },
   {
    "duration": 136,
    "start_time": "2024-02-04T11:56:45.734Z"
   },
   {
    "duration": 8,
    "start_time": "2024-02-04T11:57:55.121Z"
   },
   {
    "duration": 8,
    "start_time": "2024-02-04T11:58:03.447Z"
   },
   {
    "duration": 7,
    "start_time": "2024-02-04T12:01:38.725Z"
   },
   {
    "duration": 337,
    "start_time": "2024-02-04T12:01:53.884Z"
   },
   {
    "duration": 1042,
    "start_time": "2024-02-04T12:04:04.882Z"
   },
   {
    "duration": 52,
    "start_time": "2024-02-04T12:04:05.926Z"
   },
   {
    "duration": 17,
    "start_time": "2024-02-04T12:04:05.979Z"
   },
   {
    "duration": 39,
    "start_time": "2024-02-04T12:04:05.998Z"
   },
   {
    "duration": 23,
    "start_time": "2024-02-04T12:04:06.039Z"
   },
   {
    "duration": 36,
    "start_time": "2024-02-04T12:04:06.063Z"
   },
   {
    "duration": 40,
    "start_time": "2024-02-04T12:04:06.100Z"
   },
   {
    "duration": 24,
    "start_time": "2024-02-04T12:04:06.141Z"
   },
   {
    "duration": 31,
    "start_time": "2024-02-04T12:04:06.166Z"
   },
   {
    "duration": 13,
    "start_time": "2024-02-04T12:04:06.199Z"
   },
   {
    "duration": 16,
    "start_time": "2024-02-04T12:04:06.213Z"
   },
   {
    "duration": 33,
    "start_time": "2024-02-04T12:04:06.230Z"
   },
   {
    "duration": 19,
    "start_time": "2024-02-04T12:04:06.264Z"
   },
   {
    "duration": 46,
    "start_time": "2024-02-04T12:04:06.285Z"
   },
   {
    "duration": 28,
    "start_time": "2024-02-04T12:04:06.332Z"
   },
   {
    "duration": 48,
    "start_time": "2024-02-04T12:04:06.362Z"
   },
   {
    "duration": 21,
    "start_time": "2024-02-04T12:04:06.412Z"
   },
   {
    "duration": 18,
    "start_time": "2024-02-04T12:04:06.435Z"
   },
   {
    "duration": 15,
    "start_time": "2024-02-04T12:04:06.454Z"
   },
   {
    "duration": 33,
    "start_time": "2024-02-04T12:04:06.470Z"
   },
   {
    "duration": 32,
    "start_time": "2024-02-04T12:04:06.504Z"
   },
   {
    "duration": 35,
    "start_time": "2024-02-04T12:04:06.537Z"
   },
   {
    "duration": 310,
    "start_time": "2024-02-04T12:04:06.573Z"
   },
   {
    "duration": 12,
    "start_time": "2024-02-04T12:04:06.884Z"
   },
   {
    "duration": 16,
    "start_time": "2024-02-04T12:04:06.897Z"
   },
   {
    "duration": 35,
    "start_time": "2024-02-04T12:04:06.914Z"
   },
   {
    "duration": 110,
    "start_time": "2024-02-04T12:04:06.950Z"
   },
   {
    "duration": 0,
    "start_time": "2024-02-04T12:04:07.062Z"
   },
   {
    "duration": 6,
    "start_time": "2024-02-04T12:04:37.033Z"
   },
   {
    "duration": 6,
    "start_time": "2024-02-04T12:04:38.709Z"
   },
   {
    "duration": 1166,
    "start_time": "2024-02-04T12:13:55.146Z"
   },
   {
    "duration": 1175,
    "start_time": "2024-02-04T12:14:13.402Z"
   },
   {
    "duration": 78,
    "start_time": "2024-02-04T12:26:10.383Z"
   },
   {
    "duration": 94,
    "start_time": "2024-02-04T12:26:16.685Z"
   },
   {
    "duration": 68,
    "start_time": "2024-02-04T12:26:26.617Z"
   },
   {
    "duration": 12,
    "start_time": "2024-02-04T12:27:48.297Z"
   },
   {
    "duration": 1127,
    "start_time": "2024-02-04T12:27:57.037Z"
   },
   {
    "duration": 93,
    "start_time": "2024-02-04T12:32:02.075Z"
   },
   {
    "duration": 7,
    "start_time": "2024-02-04T12:32:08.056Z"
   },
   {
    "duration": 7,
    "start_time": "2024-02-04T12:32:17.998Z"
   },
   {
    "duration": 1270,
    "start_time": "2024-02-04T12:34:29.613Z"
   },
   {
    "duration": 1132,
    "start_time": "2024-02-04T12:35:17.976Z"
   },
   {
    "duration": 14,
    "start_time": "2024-02-04T12:35:41.665Z"
   },
   {
    "duration": 6,
    "start_time": "2024-02-04T12:35:42.774Z"
   },
   {
    "duration": 1353,
    "start_time": "2024-02-04T12:35:45.643Z"
   },
   {
    "duration": 3,
    "start_time": "2024-02-04T12:36:39.140Z"
   },
   {
    "duration": 14,
    "start_time": "2024-02-04T12:41:26.187Z"
   },
   {
    "duration": 14,
    "start_time": "2024-02-04T12:48:59.600Z"
   },
   {
    "duration": 6,
    "start_time": "2024-02-04T12:53:49.488Z"
   },
   {
    "duration": 9,
    "start_time": "2024-02-04T12:58:25.605Z"
   },
   {
    "duration": 14,
    "start_time": "2024-02-04T12:58:36.150Z"
   },
   {
    "duration": 21,
    "start_time": "2024-02-04T12:59:18.442Z"
   },
   {
    "duration": 8,
    "start_time": "2024-02-04T13:05:12.707Z"
   },
   {
    "duration": 12,
    "start_time": "2024-02-04T13:05:18.675Z"
   },
   {
    "duration": 12,
    "start_time": "2024-02-04T13:05:28.174Z"
   },
   {
    "duration": 9,
    "start_time": "2024-02-04T13:06:43.875Z"
   },
   {
    "duration": 140,
    "start_time": "2024-02-04T13:07:16.496Z"
   },
   {
    "duration": 140,
    "start_time": "2024-02-04T13:07:23.959Z"
   },
   {
    "duration": 1377,
    "start_time": "2024-02-04T13:07:45.573Z"
   },
   {
    "duration": 1189,
    "start_time": "2024-02-04T13:08:54.463Z"
   },
   {
    "duration": 1267,
    "start_time": "2024-02-04T13:09:21.274Z"
   },
   {
    "duration": 136,
    "start_time": "2024-02-04T13:10:51.978Z"
   },
   {
    "duration": 203,
    "start_time": "2024-02-04T13:11:24.038Z"
   },
   {
    "duration": 18,
    "start_time": "2024-02-04T13:14:46.253Z"
   },
   {
    "duration": 74,
    "start_time": "2024-02-04T13:15:01.550Z"
   },
   {
    "duration": 18,
    "start_time": "2024-02-04T13:15:11.392Z"
   },
   {
    "duration": 8,
    "start_time": "2024-02-04T13:15:43.521Z"
   },
   {
    "duration": 7,
    "start_time": "2024-02-04T13:15:53.818Z"
   },
   {
    "duration": 4,
    "start_time": "2024-02-04T13:18:23.643Z"
   },
   {
    "duration": 9,
    "start_time": "2024-02-04T13:18:40.796Z"
   },
   {
    "duration": 7,
    "start_time": "2024-02-04T13:18:41.461Z"
   },
   {
    "duration": 2,
    "start_time": "2024-02-04T13:18:44.982Z"
   },
   {
    "duration": 13,
    "start_time": "2024-02-04T13:18:45.863Z"
   },
   {
    "duration": 156,
    "start_time": "2024-02-04T13:18:47.025Z"
   },
   {
    "duration": 13,
    "start_time": "2024-02-04T13:19:17.982Z"
   },
   {
    "duration": 139,
    "start_time": "2024-02-04T13:19:19.554Z"
   },
   {
    "duration": 143,
    "start_time": "2024-02-04T13:19:27.480Z"
   },
   {
    "duration": 163,
    "start_time": "2024-02-04T13:19:39.316Z"
   },
   {
    "duration": 157,
    "start_time": "2024-02-04T13:19:46.870Z"
   },
   {
    "duration": 140,
    "start_time": "2024-02-04T13:20:09.858Z"
   },
   {
    "duration": 169,
    "start_time": "2024-02-04T13:20:19.420Z"
   },
   {
    "duration": 185,
    "start_time": "2024-02-04T13:20:25.808Z"
   },
   {
    "duration": 169,
    "start_time": "2024-02-04T13:20:30.802Z"
   },
   {
    "duration": 842,
    "start_time": "2024-02-04T13:20:39.310Z"
   },
   {
    "duration": 221,
    "start_time": "2024-02-04T13:20:51.958Z"
   },
   {
    "duration": 141,
    "start_time": "2024-02-04T13:21:04.357Z"
   },
   {
    "duration": 136,
    "start_time": "2024-02-04T13:21:10.183Z"
   },
   {
    "duration": 98,
    "start_time": "2024-02-04T13:21:40.488Z"
   },
   {
    "duration": 169,
    "start_time": "2024-02-04T13:21:47.594Z"
   },
   {
    "duration": 130,
    "start_time": "2024-02-04T13:22:03.986Z"
   },
   {
    "duration": 133,
    "start_time": "2024-02-04T13:24:49.210Z"
   },
   {
    "duration": 5,
    "start_time": "2024-02-04T13:33:39.911Z"
   },
   {
    "duration": 25,
    "start_time": "2024-02-04T13:34:27.925Z"
   },
   {
    "duration": 26,
    "start_time": "2024-02-04T13:36:01.007Z"
   },
   {
    "duration": 5,
    "start_time": "2024-02-04T13:38:12.858Z"
   },
   {
    "duration": 4,
    "start_time": "2024-02-04T13:44:28.063Z"
   },
   {
    "duration": 11,
    "start_time": "2024-02-04T13:44:43.277Z"
   },
   {
    "duration": 12,
    "start_time": "2024-02-04T13:44:49.531Z"
   },
   {
    "duration": 12,
    "start_time": "2024-02-04T13:45:30.682Z"
   },
   {
    "duration": 82,
    "start_time": "2024-02-04T13:48:16.001Z"
   },
   {
    "duration": 1127,
    "start_time": "2024-02-04T13:48:38.938Z"
   },
   {
    "duration": 1260,
    "start_time": "2024-02-04T13:48:45.019Z"
   },
   {
    "duration": 62,
    "start_time": "2024-02-04T13:49:02.588Z"
   },
   {
    "duration": 1272,
    "start_time": "2024-02-04T13:49:47.050Z"
   },
   {
    "duration": 1068,
    "start_time": "2024-02-04T13:49:57.776Z"
   },
   {
    "duration": 1226,
    "start_time": "2024-02-04T13:50:28.161Z"
   },
   {
    "duration": 1185,
    "start_time": "2024-02-04T13:51:03.556Z"
   },
   {
    "duration": 70,
    "start_time": "2024-02-04T13:52:20.618Z"
   },
   {
    "duration": 8,
    "start_time": "2024-02-04T13:52:31.389Z"
   },
   {
    "duration": 10,
    "start_time": "2024-02-04T13:52:47.131Z"
   },
   {
    "duration": 8,
    "start_time": "2024-02-04T13:53:07.559Z"
   },
   {
    "duration": 7,
    "start_time": "2024-02-04T13:54:57.128Z"
   },
   {
    "duration": 4,
    "start_time": "2024-02-04T13:55:32.576Z"
   },
   {
    "duration": 13,
    "start_time": "2024-02-04T13:55:35.220Z"
   },
   {
    "duration": 8,
    "start_time": "2024-02-04T14:06:04.483Z"
   },
   {
    "duration": 9,
    "start_time": "2024-02-04T14:06:22.568Z"
   },
   {
    "duration": 4,
    "start_time": "2024-02-04T14:06:32.978Z"
   },
   {
    "duration": 1215,
    "start_time": "2024-02-04T14:10:27.086Z"
   },
   {
    "duration": 1206,
    "start_time": "2024-02-04T14:10:49.103Z"
   },
   {
    "duration": 7,
    "start_time": "2024-02-04T14:11:02.781Z"
   },
   {
    "duration": 6,
    "start_time": "2024-02-04T14:11:15.508Z"
   },
   {
    "duration": 7,
    "start_time": "2024-02-04T14:12:43.530Z"
   },
   {
    "duration": 8,
    "start_time": "2024-02-04T14:12:49.060Z"
   },
   {
    "duration": 76,
    "start_time": "2024-02-04T14:13:33.796Z"
   },
   {
    "duration": 75,
    "start_time": "2024-02-04T14:13:43.489Z"
   },
   {
    "duration": 66,
    "start_time": "2024-02-04T14:15:48.447Z"
   },
   {
    "duration": 4,
    "start_time": "2024-02-04T14:16:57.974Z"
   },
   {
    "duration": 1192,
    "start_time": "2024-02-04T14:17:13.155Z"
   },
   {
    "duration": 65,
    "start_time": "2024-02-04T14:17:42.644Z"
   },
   {
    "duration": 9,
    "start_time": "2024-02-04T14:18:18.827Z"
   },
   {
    "duration": 4,
    "start_time": "2024-02-04T14:18:35.476Z"
   },
   {
    "duration": 13,
    "start_time": "2024-02-04T14:18:37.676Z"
   },
   {
    "duration": 8,
    "start_time": "2024-02-04T14:19:05.841Z"
   },
   {
    "duration": 83,
    "start_time": "2024-02-04T14:20:47.423Z"
   },
   {
    "duration": 8,
    "start_time": "2024-02-04T14:20:51.574Z"
   },
   {
    "duration": 8,
    "start_time": "2024-02-04T14:21:28.848Z"
   },
   {
    "duration": 7,
    "start_time": "2024-02-04T14:22:24.995Z"
   },
   {
    "duration": 4,
    "start_time": "2024-02-04T14:23:56.455Z"
   },
   {
    "duration": 1080,
    "start_time": "2024-02-04T14:24:25.414Z"
   },
   {
    "duration": 3,
    "start_time": "2024-02-04T14:24:52.717Z"
   },
   {
    "duration": 7,
    "start_time": "2024-02-04T14:25:03.495Z"
   },
   {
    "duration": 66,
    "start_time": "2024-02-04T14:25:24.894Z"
   },
   {
    "duration": 70,
    "start_time": "2024-02-04T14:25:29.738Z"
   },
   {
    "duration": 7,
    "start_time": "2024-02-04T14:25:40.852Z"
   },
   {
    "duration": 7,
    "start_time": "2024-02-04T14:26:11.379Z"
   },
   {
    "duration": 20,
    "start_time": "2024-02-04T14:27:14.528Z"
   },
   {
    "duration": 65,
    "start_time": "2024-02-04T14:33:54.918Z"
   },
   {
    "duration": 11,
    "start_time": "2024-02-04T14:42:43.677Z"
   },
   {
    "duration": 19,
    "start_time": "2024-02-04T14:43:02.650Z"
   },
   {
    "duration": 5,
    "start_time": "2024-02-04T14:43:16.670Z"
   },
   {
    "duration": 66,
    "start_time": "2024-02-04T14:43:54.131Z"
   },
   {
    "duration": 6,
    "start_time": "2024-02-04T14:46:54.385Z"
   },
   {
    "duration": 9,
    "start_time": "2024-02-04T14:47:10.044Z"
   },
   {
    "duration": 78,
    "start_time": "2024-02-04T14:47:36.729Z"
   },
   {
    "duration": 9,
    "start_time": "2024-02-04T14:48:08.427Z"
   },
   {
    "duration": 9,
    "start_time": "2024-02-04T14:48:34.658Z"
   },
   {
    "duration": 8,
    "start_time": "2024-02-04T14:50:35.720Z"
   },
   {
    "duration": 3,
    "start_time": "2024-02-04T14:50:59.094Z"
   },
   {
    "duration": 3,
    "start_time": "2024-02-04T14:51:12.924Z"
   },
   {
    "duration": 14,
    "start_time": "2024-02-04T14:51:16.718Z"
   },
   {
    "duration": 4,
    "start_time": "2024-02-04T14:51:23.630Z"
   },
   {
    "duration": 14,
    "start_time": "2024-02-04T14:51:25.630Z"
   },
   {
    "duration": 4,
    "start_time": "2024-02-04T14:52:01.519Z"
   },
   {
    "duration": 4,
    "start_time": "2024-02-04T14:52:02.375Z"
   },
   {
    "duration": 4,
    "start_time": "2024-02-04T14:53:16.691Z"
   },
   {
    "duration": 66,
    "start_time": "2024-02-04T14:53:54.508Z"
   },
   {
    "duration": 4,
    "start_time": "2024-02-04T14:53:59.964Z"
   },
   {
    "duration": 3,
    "start_time": "2024-02-04T14:54:10.061Z"
   },
   {
    "duration": 9,
    "start_time": "2024-02-04T14:55:19.975Z"
   },
   {
    "duration": 8,
    "start_time": "2024-02-04T14:55:29.425Z"
   },
   {
    "duration": 4,
    "start_time": "2024-02-04T14:55:43.516Z"
   },
   {
    "duration": 4,
    "start_time": "2024-02-04T14:57:07.069Z"
   },
   {
    "duration": 3,
    "start_time": "2024-02-04T14:57:18.786Z"
   },
   {
    "duration": 3,
    "start_time": "2024-02-04T14:57:21.566Z"
   },
   {
    "duration": 3,
    "start_time": "2024-02-04T14:57:23.178Z"
   },
   {
    "duration": 10,
    "start_time": "2024-02-04T14:59:08.632Z"
   },
   {
    "duration": 4,
    "start_time": "2024-02-04T14:59:17.148Z"
   },
   {
    "duration": 7,
    "start_time": "2024-02-04T14:59:28.267Z"
   },
   {
    "duration": 3,
    "start_time": "2024-02-04T14:59:32.445Z"
   },
   {
    "duration": 7,
    "start_time": "2024-02-04T15:03:33.349Z"
   },
   {
    "duration": 19,
    "start_time": "2024-02-04T15:03:43.063Z"
   },
   {
    "duration": 5,
    "start_time": "2024-02-04T15:05:14.777Z"
   },
   {
    "duration": 5,
    "start_time": "2024-02-04T15:05:36.466Z"
   },
   {
    "duration": 75,
    "start_time": "2024-02-04T15:07:59.077Z"
   },
   {
    "duration": 7,
    "start_time": "2024-02-04T15:08:03.537Z"
   },
   {
    "duration": 4,
    "start_time": "2024-02-04T15:08:06.223Z"
   },
   {
    "duration": 8,
    "start_time": "2024-02-04T15:08:14.638Z"
   },
   {
    "duration": 7,
    "start_time": "2024-02-04T15:08:21.782Z"
   },
   {
    "duration": 19,
    "start_time": "2024-02-04T15:08:31.077Z"
   },
   {
    "duration": 5,
    "start_time": "2024-02-04T15:09:04.533Z"
   },
   {
    "duration": 18,
    "start_time": "2024-02-04T15:09:05.499Z"
   },
   {
    "duration": 9,
    "start_time": "2024-02-04T15:10:13.968Z"
   },
   {
    "duration": 9,
    "start_time": "2024-02-04T15:10:14.942Z"
   },
   {
    "duration": 11,
    "start_time": "2024-02-04T15:12:41.667Z"
   },
   {
    "duration": 15,
    "start_time": "2024-02-04T15:12:49.842Z"
   },
   {
    "duration": 9,
    "start_time": "2024-02-04T15:12:50.408Z"
   },
   {
    "duration": 6,
    "start_time": "2024-02-04T15:13:04.027Z"
   },
   {
    "duration": 6,
    "start_time": "2024-02-04T15:13:06.075Z"
   },
   {
    "duration": 14,
    "start_time": "2024-02-04T15:13:06.932Z"
   },
   {
    "duration": 20,
    "start_time": "2024-02-04T15:14:42.976Z"
   },
   {
    "duration": 19,
    "start_time": "2024-02-04T15:15:41.176Z"
   },
   {
    "duration": 6,
    "start_time": "2024-02-04T15:16:14.691Z"
   },
   {
    "duration": 19,
    "start_time": "2024-02-04T15:16:15.610Z"
   },
   {
    "duration": 7,
    "start_time": "2024-02-04T15:17:40.839Z"
   },
   {
    "duration": 19,
    "start_time": "2024-02-04T15:17:41.521Z"
   },
   {
    "duration": 9,
    "start_time": "2024-02-04T15:19:50.731Z"
   },
   {
    "duration": 8,
    "start_time": "2024-02-04T15:20:22.572Z"
   },
   {
    "duration": 9,
    "start_time": "2024-02-04T15:20:32.379Z"
   },
   {
    "duration": 7,
    "start_time": "2024-02-04T15:20:39.070Z"
   },
   {
    "duration": 12,
    "start_time": "2024-02-04T15:21:05.935Z"
   },
   {
    "duration": 7,
    "start_time": "2024-02-04T15:23:08.628Z"
   },
   {
    "duration": 29,
    "start_time": "2024-02-04T15:23:10.323Z"
   },
   {
    "duration": 8,
    "start_time": "2024-02-04T15:23:28.078Z"
   },
   {
    "duration": 8,
    "start_time": "2024-02-04T15:23:35.170Z"
   },
   {
    "duration": 8,
    "start_time": "2024-02-04T15:23:41.750Z"
   },
   {
    "duration": 9,
    "start_time": "2024-02-04T15:23:46.194Z"
   },
   {
    "duration": 7,
    "start_time": "2024-02-04T15:26:42.087Z"
   },
   {
    "duration": 5,
    "start_time": "2024-02-04T15:27:05.903Z"
   },
   {
    "duration": 7,
    "start_time": "2024-02-04T15:27:17.993Z"
   },
   {
    "duration": 4,
    "start_time": "2024-02-04T15:27:25.574Z"
   },
   {
    "duration": 11,
    "start_time": "2024-02-04T15:27:33.239Z"
   },
   {
    "duration": 12,
    "start_time": "2024-02-04T15:38:57.970Z"
   },
   {
    "duration": 14,
    "start_time": "2024-02-04T15:39:09.868Z"
   },
   {
    "duration": 11,
    "start_time": "2024-02-04T15:39:22.237Z"
   },
   {
    "duration": 7,
    "start_time": "2024-02-04T15:39:26.397Z"
   },
   {
    "duration": 8,
    "start_time": "2024-02-04T15:39:32.386Z"
   },
   {
    "duration": 10,
    "start_time": "2024-02-04T15:39:39.648Z"
   },
   {
    "duration": 17,
    "start_time": "2024-02-04T15:40:01.505Z"
   },
   {
    "duration": 16,
    "start_time": "2024-02-04T15:40:15.090Z"
   },
   {
    "duration": 17,
    "start_time": "2024-02-04T15:40:20.398Z"
   },
   {
    "duration": 13,
    "start_time": "2024-02-04T15:43:07.997Z"
   },
   {
    "duration": 19,
    "start_time": "2024-02-04T16:24:04.024Z"
   },
   {
    "duration": 13,
    "start_time": "2024-02-04T16:25:43.712Z"
   },
   {
    "duration": 12,
    "start_time": "2024-02-04T16:25:58.838Z"
   },
   {
    "duration": 81,
    "start_time": "2024-02-04T16:34:28.705Z"
   },
   {
    "duration": 21,
    "start_time": "2024-02-04T16:34:42.027Z"
   },
   {
    "duration": 13,
    "start_time": "2024-02-04T16:35:14.617Z"
   },
   {
    "duration": 72,
    "start_time": "2024-02-04T16:41:35.251Z"
   },
   {
    "duration": 11,
    "start_time": "2024-02-04T16:42:56.133Z"
   },
   {
    "duration": 9,
    "start_time": "2024-02-04T16:43:11.268Z"
   },
   {
    "duration": 18,
    "start_time": "2024-02-04T16:43:40.626Z"
   },
   {
    "duration": 72,
    "start_time": "2024-02-04T16:46:14.824Z"
   },
   {
    "duration": 72,
    "start_time": "2024-02-04T16:47:03.335Z"
   },
   {
    "duration": 253,
    "start_time": "2024-02-04T16:48:40.567Z"
   },
   {
    "duration": 6,
    "start_time": "2024-02-04T16:50:55.986Z"
   },
   {
    "duration": 281,
    "start_time": "2024-02-04T16:51:00.495Z"
   },
   {
    "duration": 19,
    "start_time": "2024-02-04T16:53:21.963Z"
   },
   {
    "duration": 265,
    "start_time": "2024-02-04T16:57:04.128Z"
   },
   {
    "duration": 17,
    "start_time": "2024-02-04T17:07:48.155Z"
   },
   {
    "duration": 12,
    "start_time": "2024-02-04T17:08:16.764Z"
   },
   {
    "duration": 13,
    "start_time": "2024-02-04T17:08:27.592Z"
   },
   {
    "duration": 63,
    "start_time": "2024-02-04T17:08:54.207Z"
   },
   {
    "duration": 12,
    "start_time": "2024-02-04T17:09:58.157Z"
   },
   {
    "duration": 8,
    "start_time": "2024-02-04T17:14:54.162Z"
   },
   {
    "duration": 9,
    "start_time": "2024-02-04T17:15:07.138Z"
   },
   {
    "duration": 9,
    "start_time": "2024-02-04T17:15:24.283Z"
   },
   {
    "duration": 85,
    "start_time": "2024-02-04T17:22:05.444Z"
   },
   {
    "duration": 92,
    "start_time": "2024-02-04T17:22:27.986Z"
   },
   {
    "duration": 73,
    "start_time": "2024-02-04T17:22:33.804Z"
   },
   {
    "duration": 16,
    "start_time": "2024-02-04T17:26:58.642Z"
   },
   {
    "duration": 8,
    "start_time": "2024-02-04T17:28:55.631Z"
   },
   {
    "duration": 8,
    "start_time": "2024-02-04T17:29:28.204Z"
   },
   {
    "duration": 9,
    "start_time": "2024-02-04T17:29:40.696Z"
   },
   {
    "duration": 12,
    "start_time": "2024-02-04T17:32:35.949Z"
   },
   {
    "duration": 9,
    "start_time": "2024-02-04T17:34:33.848Z"
   },
   {
    "duration": 9,
    "start_time": "2024-02-04T17:35:10.175Z"
   },
   {
    "duration": 8,
    "start_time": "2024-02-04T17:35:24.001Z"
   },
   {
    "duration": 9,
    "start_time": "2024-02-04T17:35:47.910Z"
   },
   {
    "duration": 9,
    "start_time": "2024-02-04T17:44:14.316Z"
   },
   {
    "duration": 9,
    "start_time": "2024-02-04T17:44:36.805Z"
   },
   {
    "duration": 10,
    "start_time": "2024-02-04T17:45:09.573Z"
   },
   {
    "duration": 9,
    "start_time": "2024-02-04T17:45:31.030Z"
   },
   {
    "duration": 8,
    "start_time": "2024-02-04T17:45:37.445Z"
   },
   {
    "duration": 75,
    "start_time": "2024-02-04T17:50:20.902Z"
   },
   {
    "duration": 78,
    "start_time": "2024-02-04T17:50:29.383Z"
   },
   {
    "duration": 185,
    "start_time": "2024-02-04T17:55:33.364Z"
   },
   {
    "duration": 13,
    "start_time": "2024-02-04T17:58:39.392Z"
   },
   {
    "duration": 250,
    "start_time": "2024-02-04T17:59:09.346Z"
   },
   {
    "duration": 14,
    "start_time": "2024-02-04T18:00:02.354Z"
   },
   {
    "duration": 90,
    "start_time": "2024-02-04T18:01:54.931Z"
   },
   {
    "duration": 77,
    "start_time": "2024-02-04T18:02:07.219Z"
   },
   {
    "duration": 14,
    "start_time": "2024-02-04T18:02:33.764Z"
   },
   {
    "duration": 14,
    "start_time": "2024-02-04T18:02:49.104Z"
   },
   {
    "duration": 14,
    "start_time": "2024-02-04T18:02:53.610Z"
   },
   {
    "duration": 14,
    "start_time": "2024-02-04T18:03:28.677Z"
   },
   {
    "duration": 15,
    "start_time": "2024-02-04T18:03:48.403Z"
   },
   {
    "duration": 14,
    "start_time": "2024-02-04T18:03:55.871Z"
   },
   {
    "duration": 18,
    "start_time": "2024-02-04T18:04:07.519Z"
   },
   {
    "duration": 15,
    "start_time": "2024-02-04T18:06:00.434Z"
   },
   {
    "duration": 14,
    "start_time": "2024-02-04T18:06:03.910Z"
   },
   {
    "duration": 147,
    "start_time": "2024-02-04T18:08:55.666Z"
   },
   {
    "duration": 132,
    "start_time": "2024-02-04T18:09:12.057Z"
   },
   {
    "duration": 139,
    "start_time": "2024-02-04T18:09:23.513Z"
   },
   {
    "duration": 127,
    "start_time": "2024-02-04T18:09:34.341Z"
   },
   {
    "duration": 145,
    "start_time": "2024-02-04T18:09:46.034Z"
   },
   {
    "duration": 147,
    "start_time": "2024-02-04T18:10:00.812Z"
   },
   {
    "duration": 286,
    "start_time": "2024-02-04T18:27:18.560Z"
   },
   {
    "duration": 254,
    "start_time": "2024-02-04T18:27:26.824Z"
   },
   {
    "duration": 223,
    "start_time": "2024-02-04T18:27:34.882Z"
   },
   {
    "duration": 68,
    "start_time": "2024-02-04T18:27:39.850Z"
   },
   {
    "duration": 77,
    "start_time": "2024-02-04T18:27:44.013Z"
   },
   {
    "duration": 75,
    "start_time": "2024-02-04T18:27:52.009Z"
   },
   {
    "duration": 218,
    "start_time": "2024-02-04T18:27:59.689Z"
   },
   {
    "duration": 241,
    "start_time": "2024-02-04T18:29:08.081Z"
   },
   {
    "duration": 318,
    "start_time": "2024-02-04T18:29:15.751Z"
   },
   {
    "duration": 220,
    "start_time": "2024-02-04T18:34:14.978Z"
   },
   {
    "duration": 229,
    "start_time": "2024-02-04T18:35:06.520Z"
   },
   {
    "duration": 70,
    "start_time": "2024-02-04T18:36:24.029Z"
   },
   {
    "duration": 228,
    "start_time": "2024-02-04T18:36:31.888Z"
   },
   {
    "duration": 216,
    "start_time": "2024-02-04T18:36:44.830Z"
   },
   {
    "duration": 230,
    "start_time": "2024-02-04T18:36:59.696Z"
   },
   {
    "duration": 306,
    "start_time": "2024-02-04T18:38:40.200Z"
   },
   {
    "duration": 1245,
    "start_time": "2024-02-04T18:51:43.722Z"
   },
   {
    "duration": 16,
    "start_time": "2024-02-04T18:55:52.069Z"
   },
   {
    "duration": 8,
    "start_time": "2024-02-04T18:56:00.665Z"
   },
   {
    "duration": 1246,
    "start_time": "2024-02-04T18:58:58.030Z"
   },
   {
    "duration": 1269,
    "start_time": "2024-02-04T19:00:16.969Z"
   },
   {
    "duration": 139,
    "start_time": "2024-02-04T19:00:43.423Z"
   },
   {
    "duration": 214,
    "start_time": "2024-02-04T19:00:51.018Z"
   },
   {
    "duration": 143,
    "start_time": "2024-02-04T19:01:30.306Z"
   },
   {
    "duration": 124,
    "start_time": "2024-02-04T19:01:40.912Z"
   },
   {
    "duration": 122,
    "start_time": "2024-02-04T19:02:06.813Z"
   },
   {
    "duration": 115,
    "start_time": "2024-02-04T19:02:30.123Z"
   },
   {
    "duration": 9,
    "start_time": "2024-02-04T19:03:29.390Z"
   },
   {
    "duration": 1125,
    "start_time": "2024-02-04T19:06:29.177Z"
   },
   {
    "duration": 1162,
    "start_time": "2024-02-04T19:06:37.314Z"
   },
   {
    "duration": 1291,
    "start_time": "2024-02-04T19:06:45.258Z"
   },
   {
    "duration": 130,
    "start_time": "2024-02-04T19:07:54.651Z"
   },
   {
    "duration": 143,
    "start_time": "2024-02-04T19:08:05.142Z"
   },
   {
    "duration": 134,
    "start_time": "2024-02-04T19:09:06.651Z"
   },
   {
    "duration": 10,
    "start_time": "2024-02-04T19:11:34.262Z"
   },
   {
    "duration": 10,
    "start_time": "2024-02-04T19:12:06.672Z"
   },
   {
    "duration": 5,
    "start_time": "2024-02-04T19:12:27.902Z"
   },
   {
    "duration": 6,
    "start_time": "2024-02-04T19:19:28.908Z"
   },
   {
    "duration": 123,
    "start_time": "2024-02-04T19:19:41.974Z"
   },
   {
    "duration": 133,
    "start_time": "2024-02-04T19:19:48.964Z"
   },
   {
    "duration": 4,
    "start_time": "2024-02-04T19:21:08.694Z"
   },
   {
    "duration": 4,
    "start_time": "2024-02-04T19:21:26.280Z"
   },
   {
    "duration": 2,
    "start_time": "2024-02-04T19:24:26.479Z"
   },
   {
    "duration": 5,
    "start_time": "2024-02-04T19:25:59.312Z"
   },
   {
    "duration": 115,
    "start_time": "2024-02-04T19:26:03.119Z"
   },
   {
    "duration": 4,
    "start_time": "2024-02-04T19:26:14.843Z"
   },
   {
    "duration": 126,
    "start_time": "2024-02-04T19:26:16.370Z"
   },
   {
    "duration": 4,
    "start_time": "2024-02-04T19:26:18.079Z"
   },
   {
    "duration": 135,
    "start_time": "2024-02-04T19:26:20.731Z"
   },
   {
    "duration": 5,
    "start_time": "2024-02-04T19:26:21.753Z"
   },
   {
    "duration": 117,
    "start_time": "2024-02-04T19:27:24.335Z"
   },
   {
    "duration": 128,
    "start_time": "2024-02-04T19:27:59.876Z"
   },
   {
    "duration": 5,
    "start_time": "2024-02-04T19:28:00.237Z"
   },
   {
    "duration": 238,
    "start_time": "2024-02-04T19:28:00.979Z"
   },
   {
    "duration": 5,
    "start_time": "2024-02-04T19:28:01.251Z"
   },
   {
    "duration": 115,
    "start_time": "2024-02-04T19:28:02.083Z"
   },
   {
    "duration": 121,
    "start_time": "2024-02-04T19:28:02.301Z"
   },
   {
    "duration": 51,
    "start_time": "2024-02-05T13:15:02.643Z"
   },
   {
    "duration": 1263,
    "start_time": "2024-02-05T13:15:21.482Z"
   },
   {
    "duration": 95,
    "start_time": "2024-02-05T13:15:22.747Z"
   },
   {
    "duration": 20,
    "start_time": "2024-02-05T13:15:22.843Z"
   },
   {
    "duration": 13,
    "start_time": "2024-02-05T13:15:22.864Z"
   },
   {
    "duration": 4,
    "start_time": "2024-02-05T13:15:22.879Z"
   },
   {
    "duration": 8,
    "start_time": "2024-02-05T13:15:22.884Z"
   },
   {
    "duration": 11,
    "start_time": "2024-02-05T13:15:22.893Z"
   },
   {
    "duration": 8,
    "start_time": "2024-02-05T13:15:22.905Z"
   },
   {
    "duration": 39,
    "start_time": "2024-02-05T13:15:22.914Z"
   },
   {
    "duration": 5,
    "start_time": "2024-02-05T13:15:22.955Z"
   },
   {
    "duration": 6,
    "start_time": "2024-02-05T13:15:22.961Z"
   },
   {
    "duration": 11,
    "start_time": "2024-02-05T13:15:22.968Z"
   },
   {
    "duration": 7,
    "start_time": "2024-02-05T13:15:22.980Z"
   },
   {
    "duration": 3,
    "start_time": "2024-02-05T13:15:22.990Z"
   },
   {
    "duration": 8,
    "start_time": "2024-02-05T13:15:22.994Z"
   },
   {
    "duration": 14,
    "start_time": "2024-02-05T13:15:23.003Z"
   },
   {
    "duration": 5,
    "start_time": "2024-02-05T13:15:23.045Z"
   },
   {
    "duration": 4,
    "start_time": "2024-02-05T13:15:23.052Z"
   },
   {
    "duration": 6,
    "start_time": "2024-02-05T13:15:23.057Z"
   },
   {
    "duration": 18,
    "start_time": "2024-02-05T13:15:23.065Z"
   },
   {
    "duration": 14,
    "start_time": "2024-02-05T13:15:23.085Z"
   },
   {
    "duration": 14,
    "start_time": "2024-02-05T13:15:23.100Z"
   },
   {
    "duration": 347,
    "start_time": "2024-02-05T13:15:23.116Z"
   },
   {
    "duration": 5,
    "start_time": "2024-02-05T13:15:23.465Z"
   },
   {
    "duration": 115,
    "start_time": "2024-02-05T13:15:23.471Z"
   },
   {
    "duration": 0,
    "start_time": "2024-02-05T13:15:23.588Z"
   },
   {
    "duration": 0,
    "start_time": "2024-02-05T13:15:23.589Z"
   },
   {
    "duration": 0,
    "start_time": "2024-02-05T13:15:23.590Z"
   },
   {
    "duration": 0,
    "start_time": "2024-02-05T13:15:23.592Z"
   },
   {
    "duration": 0,
    "start_time": "2024-02-05T13:15:23.593Z"
   },
   {
    "duration": 1,
    "start_time": "2024-02-05T13:15:23.594Z"
   },
   {
    "duration": 0,
    "start_time": "2024-02-05T13:15:23.596Z"
   },
   {
    "duration": 0,
    "start_time": "2024-02-05T13:15:23.597Z"
   },
   {
    "duration": 0,
    "start_time": "2024-02-05T13:15:23.598Z"
   },
   {
    "duration": 0,
    "start_time": "2024-02-05T13:15:23.600Z"
   },
   {
    "duration": 0,
    "start_time": "2024-02-05T13:15:23.601Z"
   },
   {
    "duration": 0,
    "start_time": "2024-02-05T13:15:23.602Z"
   },
   {
    "duration": 0,
    "start_time": "2024-02-05T13:15:23.603Z"
   },
   {
    "duration": 0,
    "start_time": "2024-02-05T13:15:23.605Z"
   },
   {
    "duration": 0,
    "start_time": "2024-02-05T13:15:23.606Z"
   },
   {
    "duration": 0,
    "start_time": "2024-02-05T13:15:23.608Z"
   },
   {
    "duration": 85,
    "start_time": "2024-02-05T13:15:49.037Z"
   },
   {
    "duration": 96,
    "start_time": "2024-02-05T13:15:50.218Z"
   },
   {
    "duration": 11,
    "start_time": "2024-02-05T13:16:09.981Z"
   },
   {
    "duration": 7,
    "start_time": "2024-02-05T13:16:11.712Z"
   },
   {
    "duration": 1227,
    "start_time": "2024-02-05T13:16:18.332Z"
   },
   {
    "duration": 56,
    "start_time": "2024-02-05T13:16:19.562Z"
   },
   {
    "duration": 19,
    "start_time": "2024-02-05T13:16:19.619Z"
   },
   {
    "duration": 29,
    "start_time": "2024-02-05T13:16:19.639Z"
   },
   {
    "duration": 4,
    "start_time": "2024-02-05T13:16:19.670Z"
   },
   {
    "duration": 19,
    "start_time": "2024-02-05T13:16:19.675Z"
   },
   {
    "duration": 11,
    "start_time": "2024-02-05T13:16:19.696Z"
   },
   {
    "duration": 21,
    "start_time": "2024-02-05T13:16:19.708Z"
   },
   {
    "duration": 18,
    "start_time": "2024-02-05T13:16:19.730Z"
   },
   {
    "duration": 5,
    "start_time": "2024-02-05T13:16:19.750Z"
   },
   {
    "duration": 9,
    "start_time": "2024-02-05T13:16:19.756Z"
   },
   {
    "duration": 25,
    "start_time": "2024-02-05T13:16:19.766Z"
   },
   {
    "duration": 6,
    "start_time": "2024-02-05T13:16:19.792Z"
   },
   {
    "duration": 13,
    "start_time": "2024-02-05T13:16:19.800Z"
   },
   {
    "duration": 10,
    "start_time": "2024-02-05T13:16:19.814Z"
   },
   {
    "duration": 28,
    "start_time": "2024-02-05T13:16:19.826Z"
   },
   {
    "duration": 5,
    "start_time": "2024-02-05T13:16:19.856Z"
   },
   {
    "duration": 5,
    "start_time": "2024-02-05T13:16:19.862Z"
   },
   {
    "duration": 16,
    "start_time": "2024-02-05T13:16:19.868Z"
   },
   {
    "duration": 12,
    "start_time": "2024-02-05T13:16:19.885Z"
   },
   {
    "duration": 16,
    "start_time": "2024-02-05T13:16:19.899Z"
   },
   {
    "duration": 7,
    "start_time": "2024-02-05T13:16:19.917Z"
   },
   {
    "duration": 337,
    "start_time": "2024-02-05T13:16:19.946Z"
   },
   {
    "duration": 5,
    "start_time": "2024-02-05T13:16:20.285Z"
   },
   {
    "duration": 11,
    "start_time": "2024-02-05T13:16:20.292Z"
   },
   {
    "duration": 15,
    "start_time": "2024-02-05T13:16:20.304Z"
   },
   {
    "duration": 5,
    "start_time": "2024-02-05T13:16:20.320Z"
   },
   {
    "duration": 31,
    "start_time": "2024-02-05T13:16:20.326Z"
   },
   {
    "duration": 158,
    "start_time": "2024-02-05T13:16:20.358Z"
   },
   {
    "duration": 7,
    "start_time": "2024-02-05T13:16:20.518Z"
   },
   {
    "duration": 43,
    "start_time": "2024-02-05T13:16:20.527Z"
   },
   {
    "duration": 42,
    "start_time": "2024-02-05T13:16:20.572Z"
   },
   {
    "duration": 324,
    "start_time": "2024-02-05T13:16:20.615Z"
   },
   {
    "duration": 253,
    "start_time": "2024-02-05T13:16:20.940Z"
   },
   {
    "duration": 5,
    "start_time": "2024-02-05T13:16:21.194Z"
   },
   {
    "duration": 149,
    "start_time": "2024-02-05T13:16:21.201Z"
   },
   {
    "duration": 5,
    "start_time": "2024-02-05T13:16:21.351Z"
   },
   {
    "duration": 223,
    "start_time": "2024-02-05T13:16:21.357Z"
   },
   {
    "duration": 5,
    "start_time": "2024-02-05T13:16:21.581Z"
   },
   {
    "duration": 145,
    "start_time": "2024-02-05T13:16:21.588Z"
   },
   {
    "duration": 145,
    "start_time": "2024-02-05T13:16:21.736Z"
   },
   {
    "duration": 125,
    "start_time": "2024-02-05T13:27:47.479Z"
   },
   {
    "duration": 7,
    "start_time": "2024-02-05T13:28:21.268Z"
   },
   {
    "duration": 5,
    "start_time": "2024-02-05T13:29:19.729Z"
   },
   {
    "duration": 5,
    "start_time": "2024-02-05T13:29:49.934Z"
   },
   {
    "duration": 8,
    "start_time": "2024-02-05T13:41:20.436Z"
   },
   {
    "duration": 96,
    "start_time": "2024-02-05T13:41:33.084Z"
   },
   {
    "duration": 5,
    "start_time": "2024-02-05T13:41:45.788Z"
   },
   {
    "duration": 9,
    "start_time": "2024-02-05T13:42:52.785Z"
   },
   {
    "duration": 8,
    "start_time": "2024-02-05T13:46:23.375Z"
   },
   {
    "duration": 9,
    "start_time": "2024-02-05T13:46:33.655Z"
   },
   {
    "duration": 171,
    "start_time": "2024-02-05T13:47:05.950Z"
   },
   {
    "duration": 74,
    "start_time": "2024-02-05T13:47:38.317Z"
   },
   {
    "duration": 223,
    "start_time": "2024-02-05T13:47:47.581Z"
   },
   {
    "duration": 82,
    "start_time": "2024-02-05T13:48:00.703Z"
   },
   {
    "duration": 210,
    "start_time": "2024-02-05T13:48:10.293Z"
   },
   {
    "duration": 166,
    "start_time": "2024-02-05T13:48:20.503Z"
   },
   {
    "duration": 15,
    "start_time": "2024-02-05T13:49:23.245Z"
   },
   {
    "duration": 14,
    "start_time": "2024-02-05T13:50:00.104Z"
   },
   {
    "duration": 15,
    "start_time": "2024-02-05T13:51:54.679Z"
   },
   {
    "duration": 89,
    "start_time": "2024-02-05T13:52:22.085Z"
   },
   {
    "duration": 5,
    "start_time": "2024-02-05T13:52:25.227Z"
   },
   {
    "duration": 15,
    "start_time": "2024-02-05T13:53:11.654Z"
   },
   {
    "duration": 9,
    "start_time": "2024-02-05T13:53:53.445Z"
   },
   {
    "duration": 13,
    "start_time": "2024-02-05T13:54:33.959Z"
   },
   {
    "duration": 17,
    "start_time": "2024-02-05T13:54:49.180Z"
   },
   {
    "duration": 8,
    "start_time": "2024-02-05T13:58:29.843Z"
   },
   {
    "duration": 16,
    "start_time": "2024-02-05T13:58:38.879Z"
   },
   {
    "duration": 170,
    "start_time": "2024-02-05T14:01:20.393Z"
   },
   {
    "duration": 81,
    "start_time": "2024-02-05T14:30:52.253Z"
   },
   {
    "duration": 93,
    "start_time": "2024-02-05T14:32:01.632Z"
   },
   {
    "duration": 78,
    "start_time": "2024-02-05T14:32:08.060Z"
   },
   {
    "duration": 13,
    "start_time": "2024-02-05T14:38:18.300Z"
   },
   {
    "duration": 67,
    "start_time": "2024-02-05T14:40:56.578Z"
   },
   {
    "duration": 12,
    "start_time": "2024-02-05T14:47:47.239Z"
   },
   {
    "duration": 9,
    "start_time": "2024-02-05T14:48:03.398Z"
   },
   {
    "duration": 20,
    "start_time": "2024-02-05T14:53:08.948Z"
   },
   {
    "duration": 20,
    "start_time": "2024-02-05T14:53:53.844Z"
   },
   {
    "duration": 20,
    "start_time": "2024-02-05T14:54:06.116Z"
   },
   {
    "duration": 15,
    "start_time": "2024-02-05T14:55:34.005Z"
   },
   {
    "duration": 8,
    "start_time": "2024-02-05T14:56:26.001Z"
   },
   {
    "duration": 9,
    "start_time": "2024-02-05T14:57:12.180Z"
   },
   {
    "duration": 8,
    "start_time": "2024-02-05T14:57:33.347Z"
   },
   {
    "duration": 9,
    "start_time": "2024-02-05T15:00:37.944Z"
   },
   {
    "duration": 78,
    "start_time": "2024-02-05T15:18:06.071Z"
   },
   {
    "duration": 21,
    "start_time": "2024-02-05T15:18:27.217Z"
   },
   {
    "duration": 9,
    "start_time": "2024-02-05T15:18:40.222Z"
   },
   {
    "duration": 18,
    "start_time": "2024-02-05T15:18:45.734Z"
   },
   {
    "duration": 11,
    "start_time": "2024-02-05T15:21:12.531Z"
   },
   {
    "duration": 214,
    "start_time": "2024-02-05T15:21:21.286Z"
   },
   {
    "duration": 10,
    "start_time": "2024-02-05T15:21:47.450Z"
   },
   {
    "duration": 82,
    "start_time": "2024-02-05T15:22:03.036Z"
   },
   {
    "duration": 336,
    "start_time": "2024-02-05T15:22:15.377Z"
   },
   {
    "duration": 211,
    "start_time": "2024-02-05T15:23:03.750Z"
   },
   {
    "duration": 214,
    "start_time": "2024-02-05T15:23:08.898Z"
   },
   {
    "duration": 9,
    "start_time": "2024-02-05T15:23:35.884Z"
   },
   {
    "duration": 88,
    "start_time": "2024-02-05T15:23:44.784Z"
   },
   {
    "duration": 10,
    "start_time": "2024-02-05T15:23:52.398Z"
   },
   {
    "duration": 215,
    "start_time": "2024-02-05T15:24:19.947Z"
   },
   {
    "duration": 280,
    "start_time": "2024-02-05T15:25:39.854Z"
   },
   {
    "duration": 248,
    "start_time": "2024-02-05T15:25:51.685Z"
   },
   {
    "duration": 226,
    "start_time": "2024-02-05T15:25:59.265Z"
   },
   {
    "duration": 296,
    "start_time": "2024-02-05T15:27:13.704Z"
   },
   {
    "duration": 227,
    "start_time": "2024-02-05T15:27:42.597Z"
   },
   {
    "duration": 3,
    "start_time": "2024-02-05T15:30:36.062Z"
   },
   {
    "duration": 238,
    "start_time": "2024-02-05T15:30:40.147Z"
   },
   {
    "duration": 234,
    "start_time": "2024-02-05T15:31:10.416Z"
   },
   {
    "duration": 238,
    "start_time": "2024-02-05T15:32:05.045Z"
   },
   {
    "duration": 234,
    "start_time": "2024-02-05T15:32:31.938Z"
   },
   {
    "duration": 22,
    "start_time": "2024-02-05T15:34:57.122Z"
   },
   {
    "duration": 18,
    "start_time": "2024-02-05T15:35:31.947Z"
   },
   {
    "duration": 9,
    "start_time": "2024-02-05T15:36:20.670Z"
   },
   {
    "duration": 9,
    "start_time": "2024-02-05T15:36:30.596Z"
   },
   {
    "duration": 9,
    "start_time": "2024-02-05T15:37:22.699Z"
   },
   {
    "duration": 9,
    "start_time": "2024-02-05T15:37:55.154Z"
   },
   {
    "duration": 221,
    "start_time": "2024-02-05T15:40:43.999Z"
   },
   {
    "duration": 182,
    "start_time": "2024-02-05T15:41:11.895Z"
   },
   {
    "duration": 8,
    "start_time": "2024-02-05T15:41:36.424Z"
   },
   {
    "duration": 155,
    "start_time": "2024-02-05T15:41:41.229Z"
   },
   {
    "duration": 244,
    "start_time": "2024-02-05T15:43:07.749Z"
   },
   {
    "duration": 235,
    "start_time": "2024-02-05T15:43:16.642Z"
   },
   {
    "duration": 224,
    "start_time": "2024-02-05T15:43:22.526Z"
   },
   {
    "duration": 135,
    "start_time": "2024-02-05T15:44:02.831Z"
   },
   {
    "duration": 10,
    "start_time": "2024-02-05T15:44:53.922Z"
   },
   {
    "duration": 146,
    "start_time": "2024-02-05T15:45:31.675Z"
   },
   {
    "duration": 13,
    "start_time": "2024-02-05T15:46:07.155Z"
   },
   {
    "duration": 155,
    "start_time": "2024-02-05T15:46:37.205Z"
   },
   {
    "duration": 111,
    "start_time": "2024-02-05T16:15:22.967Z"
   },
   {
    "duration": 5,
    "start_time": "2024-02-05T16:24:13.558Z"
   },
   {
    "duration": 8,
    "start_time": "2024-02-05T16:24:20.070Z"
   },
   {
    "duration": 11,
    "start_time": "2024-02-05T16:25:11.353Z"
   },
   {
    "duration": 7,
    "start_time": "2024-02-05T16:25:56.004Z"
   },
   {
    "duration": 11,
    "start_time": "2024-02-05T16:26:07.737Z"
   },
   {
    "duration": 6,
    "start_time": "2024-02-05T16:26:15.231Z"
   },
   {
    "duration": 7,
    "start_time": "2024-02-05T16:27:50.320Z"
   },
   {
    "duration": 1436,
    "start_time": "2024-02-05T16:29:42.907Z"
   },
   {
    "duration": 8,
    "start_time": "2024-02-05T16:32:45.355Z"
   },
   {
    "duration": 16,
    "start_time": "2024-02-05T16:38:25.832Z"
   },
   {
    "duration": 15,
    "start_time": "2024-02-05T16:38:32.159Z"
   },
   {
    "duration": 1206,
    "start_time": "2024-02-05T16:40:14.281Z"
   },
   {
    "duration": 9,
    "start_time": "2024-02-05T16:40:34.261Z"
   },
   {
    "duration": 100,
    "start_time": "2024-02-05T16:41:52.667Z"
   },
   {
    "duration": 15,
    "start_time": "2024-02-05T16:42:02.923Z"
   },
   {
    "duration": 15,
    "start_time": "2024-02-05T16:42:07.795Z"
   },
   {
    "duration": 14,
    "start_time": "2024-02-05T16:42:12.026Z"
   },
   {
    "duration": 13,
    "start_time": "2024-02-05T16:45:07.872Z"
   },
   {
    "duration": 15,
    "start_time": "2024-02-05T16:45:16.029Z"
   },
   {
    "duration": 8,
    "start_time": "2024-02-05T16:46:12.414Z"
   },
   {
    "duration": 96,
    "start_time": "2024-02-05T16:50:57.275Z"
   },
   {
    "duration": 6,
    "start_time": "2024-02-05T16:51:01.378Z"
   },
   {
    "duration": 7,
    "start_time": "2024-02-05T16:51:20.514Z"
   },
   {
    "duration": 1154,
    "start_time": "2024-02-05T16:52:36.202Z"
   },
   {
    "duration": 118,
    "start_time": "2024-02-05T16:53:05.012Z"
   },
   {
    "duration": 9,
    "start_time": "2024-02-05T16:53:48.698Z"
   },
   {
    "duration": 123,
    "start_time": "2024-02-05T16:54:08.258Z"
   },
   {
    "duration": 117,
    "start_time": "2024-02-05T16:54:13.608Z"
   },
   {
    "duration": 110,
    "start_time": "2024-02-05T16:54:20.970Z"
   },
   {
    "duration": 17,
    "start_time": "2024-02-05T16:56:30.099Z"
   },
   {
    "duration": 19,
    "start_time": "2024-02-05T16:58:21.682Z"
   },
   {
    "duration": 1180,
    "start_time": "2024-02-05T16:59:19.896Z"
   },
   {
    "duration": 8,
    "start_time": "2024-02-05T16:59:42.099Z"
   },
   {
    "duration": 9,
    "start_time": "2024-02-05T16:59:47.667Z"
   },
   {
    "duration": 117,
    "start_time": "2024-02-05T16:59:59.305Z"
   },
   {
    "duration": 379,
    "start_time": "2024-02-05T17:01:12.368Z"
   },
   {
    "duration": 12,
    "start_time": "2024-02-05T17:02:04.175Z"
   },
   {
    "duration": 21,
    "start_time": "2024-02-05T17:02:15.228Z"
   },
   {
    "duration": 63,
    "start_time": "2024-02-05T17:08:45.355Z"
   },
   {
    "duration": 72,
    "start_time": "2024-02-05T17:08:59.187Z"
   },
   {
    "duration": 79,
    "start_time": "2024-02-05T17:09:27.132Z"
   },
   {
    "duration": 74,
    "start_time": "2024-02-05T17:09:31.426Z"
   },
   {
    "duration": 84,
    "start_time": "2024-02-05T17:09:40.418Z"
   },
   {
    "duration": 1304,
    "start_time": "2024-02-05T17:12:12.952Z"
   },
   {
    "duration": 1261,
    "start_time": "2024-02-05T17:12:31.260Z"
   },
   {
    "duration": 3,
    "start_time": "2024-02-05T17:12:42.182Z"
   },
   {
    "duration": 90,
    "start_time": "2024-02-05T17:18:26.469Z"
   },
   {
    "duration": 88,
    "start_time": "2024-02-05T17:18:30.931Z"
   },
   {
    "duration": 147,
    "start_time": "2024-02-05T17:18:38.973Z"
   },
   {
    "duration": 146,
    "start_time": "2024-02-05T17:19:00.350Z"
   },
   {
    "duration": 151,
    "start_time": "2024-02-05T17:19:07.188Z"
   },
   {
    "duration": 154,
    "start_time": "2024-02-05T17:21:38.052Z"
   },
   {
    "duration": 153,
    "start_time": "2024-02-05T17:21:57.099Z"
   },
   {
    "duration": 181,
    "start_time": "2024-02-05T17:23:21.784Z"
   },
   {
    "duration": 257,
    "start_time": "2024-02-05T17:24:37.307Z"
   },
   {
    "duration": 187,
    "start_time": "2024-02-05T17:27:17.783Z"
   },
   {
    "duration": 4,
    "start_time": "2024-02-05T17:45:28.974Z"
   },
   {
    "duration": 6,
    "start_time": "2024-02-05T18:05:03.188Z"
   },
   {
    "duration": 5,
    "start_time": "2024-02-05T18:06:06.384Z"
   },
   {
    "duration": 4,
    "start_time": "2024-02-05T18:07:03.011Z"
   },
   {
    "duration": 9,
    "start_time": "2024-02-05T18:07:18.962Z"
   },
   {
    "duration": 9,
    "start_time": "2024-02-05T18:07:41.082Z"
   },
   {
    "duration": 995,
    "start_time": "2024-02-05T18:07:50.290Z"
   },
   {
    "duration": 1118,
    "start_time": "2024-02-05T18:11:15.427Z"
   },
   {
    "duration": 926,
    "start_time": "2024-02-05T18:11:46.066Z"
   },
   {
    "duration": 1077,
    "start_time": "2024-02-05T18:13:24.342Z"
   },
   {
    "duration": 8,
    "start_time": "2024-02-05T18:13:41.333Z"
   },
   {
    "duration": 4,
    "start_time": "2024-02-05T18:13:45.909Z"
   },
   {
    "duration": 8,
    "start_time": "2024-02-05T18:14:30.223Z"
   },
   {
    "duration": 856,
    "start_time": "2024-02-05T18:17:37.420Z"
   },
   {
    "duration": 3,
    "start_time": "2024-02-05T18:17:54.200Z"
   },
   {
    "duration": 4,
    "start_time": "2024-02-05T18:18:11.304Z"
   },
   {
    "duration": 94,
    "start_time": "2024-02-05T18:20:38.184Z"
   },
   {
    "duration": 7,
    "start_time": "2024-02-05T18:32:09.125Z"
   },
   {
    "duration": 22,
    "start_time": "2024-02-05T18:32:36.616Z"
   },
   {
    "duration": 12,
    "start_time": "2024-02-05T18:34:09.792Z"
   },
   {
    "duration": 647,
    "start_time": "2024-02-05T18:34:52.757Z"
   },
   {
    "duration": 5,
    "start_time": "2024-02-05T18:37:48.814Z"
   },
   {
    "duration": 12,
    "start_time": "2024-02-05T18:37:49.255Z"
   },
   {
    "duration": 6,
    "start_time": "2024-02-05T18:37:58.725Z"
   },
   {
    "duration": 13,
    "start_time": "2024-02-05T18:38:01.975Z"
   },
   {
    "duration": 6,
    "start_time": "2024-02-05T18:38:24.246Z"
   },
   {
    "duration": 14,
    "start_time": "2024-02-05T18:38:27.859Z"
   },
   {
    "duration": 12,
    "start_time": "2024-02-05T18:38:43.227Z"
   },
   {
    "duration": 7,
    "start_time": "2024-02-05T18:40:08.755Z"
   },
   {
    "duration": 12,
    "start_time": "2024-02-05T18:40:12.933Z"
   },
   {
    "duration": 12,
    "start_time": "2024-02-05T18:41:13.920Z"
   },
   {
    "duration": 13,
    "start_time": "2024-02-05T18:42:15.703Z"
   },
   {
    "duration": 11,
    "start_time": "2024-02-05T18:42:39.018Z"
   },
   {
    "duration": 4,
    "start_time": "2024-02-05T18:45:39.572Z"
   },
   {
    "duration": 6,
    "start_time": "2024-02-05T18:45:39.762Z"
   },
   {
    "duration": 13,
    "start_time": "2024-02-05T18:45:55.805Z"
   },
   {
    "duration": 4,
    "start_time": "2024-02-05T18:46:01.581Z"
   },
   {
    "duration": 5,
    "start_time": "2024-02-05T18:46:04.156Z"
   },
   {
    "duration": 4,
    "start_time": "2024-02-05T18:46:45.353Z"
   },
   {
    "duration": 5,
    "start_time": "2024-02-05T18:48:10.563Z"
   },
   {
    "duration": 12,
    "start_time": "2024-02-05T18:51:17.251Z"
   },
   {
    "duration": 588,
    "start_time": "2024-02-05T18:54:25.236Z"
   },
   {
    "duration": 6,
    "start_time": "2024-02-05T18:54:47.026Z"
   },
   {
    "duration": 66,
    "start_time": "2024-02-05T18:54:51.330Z"
   },
   {
    "duration": 12,
    "start_time": "2024-02-05T18:54:55.190Z"
   },
   {
    "duration": 12,
    "start_time": "2024-02-05T18:56:07.641Z"
   },
   {
    "duration": 12,
    "start_time": "2024-02-05T18:56:44.069Z"
   },
   {
    "duration": 5,
    "start_time": "2024-02-05T18:59:23.440Z"
   },
   {
    "duration": 12,
    "start_time": "2024-02-05T19:00:02.659Z"
   },
   {
    "duration": 10,
    "start_time": "2024-02-05T19:02:56.643Z"
   },
   {
    "duration": 11,
    "start_time": "2024-02-05T19:03:16.871Z"
   },
   {
    "duration": 6,
    "start_time": "2024-02-05T19:04:07.578Z"
   },
   {
    "duration": 13,
    "start_time": "2024-02-05T19:04:09.474Z"
   },
   {
    "duration": 6,
    "start_time": "2024-02-05T19:04:44.261Z"
   },
   {
    "duration": 13,
    "start_time": "2024-02-05T19:04:45.711Z"
   },
   {
    "duration": 7,
    "start_time": "2024-02-05T19:05:49.990Z"
   },
   {
    "duration": 10,
    "start_time": "2024-02-05T19:07:24.286Z"
   },
   {
    "duration": 1041,
    "start_time": "2024-02-05T19:07:29.903Z"
   },
   {
    "duration": 5,
    "start_time": "2024-02-05T19:07:42.710Z"
   },
   {
    "duration": 5,
    "start_time": "2024-02-05T19:08:18.756Z"
   },
   {
    "duration": 627,
    "start_time": "2024-02-05T19:09:28.001Z"
   },
   {
    "duration": 6,
    "start_time": "2024-02-05T19:09:52.983Z"
   },
   {
    "duration": 13,
    "start_time": "2024-02-05T19:10:03.502Z"
   },
   {
    "duration": 4,
    "start_time": "2024-02-05T19:10:19.420Z"
   },
   {
    "duration": 3,
    "start_time": "2024-02-05T19:10:21.586Z"
   },
   {
    "duration": 3,
    "start_time": "2024-02-05T19:10:22.436Z"
   },
   {
    "duration": 3,
    "start_time": "2024-02-05T19:10:50.551Z"
   },
   {
    "duration": 3,
    "start_time": "2024-02-05T19:10:56.659Z"
   },
   {
    "duration": 3,
    "start_time": "2024-02-05T19:11:07.105Z"
   },
   {
    "duration": 4,
    "start_time": "2024-02-05T19:12:03.631Z"
   },
   {
    "duration": 13,
    "start_time": "2024-02-05T19:12:19.547Z"
   },
   {
    "duration": 7,
    "start_time": "2024-02-05T19:12:58.571Z"
   },
   {
    "duration": 39,
    "start_time": "2024-02-05T19:13:02.257Z"
   },
   {
    "duration": 38,
    "start_time": "2024-02-05T19:15:04.300Z"
   },
   {
    "duration": 4,
    "start_time": "2024-02-05T19:16:54.935Z"
   },
   {
    "duration": 4,
    "start_time": "2024-02-05T19:17:27.394Z"
   },
   {
    "duration": 9,
    "start_time": "2024-02-05T19:21:01.576Z"
   },
   {
    "duration": 652,
    "start_time": "2024-02-05T19:22:10.247Z"
   },
   {
    "duration": 6,
    "start_time": "2024-02-05T19:22:27.565Z"
   },
   {
    "duration": 27,
    "start_time": "2024-02-05T19:24:08.488Z"
   },
   {
    "duration": 9,
    "start_time": "2024-02-05T19:24:16.165Z"
   },
   {
    "duration": 7,
    "start_time": "2024-02-05T19:24:34.723Z"
   },
   {
    "duration": 5,
    "start_time": "2024-02-05T19:24:38.941Z"
   },
   {
    "duration": 4,
    "start_time": "2024-02-05T19:25:25.151Z"
   },
   {
    "duration": 10,
    "start_time": "2024-02-05T19:25:31.046Z"
   },
   {
    "duration": 4,
    "start_time": "2024-02-05T19:25:33.058Z"
   },
   {
    "duration": 10,
    "start_time": "2024-02-05T19:26:11.293Z"
   },
   {
    "duration": 6,
    "start_time": "2024-02-05T19:26:20.949Z"
   },
   {
    "duration": 14,
    "start_time": "2024-02-05T19:26:21.777Z"
   },
   {
    "duration": 13,
    "start_time": "2024-02-05T19:26:32.218Z"
   },
   {
    "duration": 6,
    "start_time": "2024-02-05T19:27:02.764Z"
   },
   {
    "duration": 13,
    "start_time": "2024-02-05T19:27:04.392Z"
   },
   {
    "duration": 99,
    "start_time": "2024-02-05T19:29:04.973Z"
   },
   {
    "duration": 6,
    "start_time": "2024-02-05T19:30:16.671Z"
   },
   {
    "duration": 14,
    "start_time": "2024-02-05T19:30:17.687Z"
   },
   {
    "duration": 5,
    "start_time": "2024-02-05T19:37:02.455Z"
   },
   {
    "duration": 890,
    "start_time": "2024-02-05T19:37:11.331Z"
   },
   {
    "duration": 898,
    "start_time": "2024-02-05T19:37:23.204Z"
   },
   {
    "duration": 924,
    "start_time": "2024-02-05T19:37:31.206Z"
   },
   {
    "duration": 5,
    "start_time": "2024-02-05T19:37:41.308Z"
   },
   {
    "duration": 35,
    "start_time": "2024-02-05T19:40:04.370Z"
   },
   {
    "duration": 75,
    "start_time": "2024-02-05T19:41:04.665Z"
   },
   {
    "duration": 74,
    "start_time": "2024-02-05T19:41:09.402Z"
   },
   {
    "duration": 35,
    "start_time": "2024-02-05T19:41:16.522Z"
   },
   {
    "duration": 64,
    "start_time": "2024-02-05T19:42:10.481Z"
   },
   {
    "duration": 1099,
    "start_time": "2024-02-05T19:42:26.419Z"
   },
   {
    "duration": 52,
    "start_time": "2024-02-05T19:42:27.520Z"
   },
   {
    "duration": 18,
    "start_time": "2024-02-05T19:42:27.573Z"
   },
   {
    "duration": 20,
    "start_time": "2024-02-05T19:42:27.593Z"
   },
   {
    "duration": 12,
    "start_time": "2024-02-05T19:42:27.614Z"
   },
   {
    "duration": 18,
    "start_time": "2024-02-05T19:42:27.627Z"
   },
   {
    "duration": 30,
    "start_time": "2024-02-05T19:42:27.647Z"
   },
   {
    "duration": 34,
    "start_time": "2024-02-05T19:42:27.678Z"
   },
   {
    "duration": 25,
    "start_time": "2024-02-05T19:42:27.714Z"
   },
   {
    "duration": 5,
    "start_time": "2024-02-05T19:42:27.742Z"
   },
   {
    "duration": 6,
    "start_time": "2024-02-05T19:42:27.748Z"
   },
   {
    "duration": 5,
    "start_time": "2024-02-05T19:42:27.756Z"
   },
   {
    "duration": 4,
    "start_time": "2024-02-05T19:42:27.763Z"
   },
   {
    "duration": 14,
    "start_time": "2024-02-05T19:42:27.768Z"
   },
   {
    "duration": 7,
    "start_time": "2024-02-05T19:42:27.783Z"
   },
   {
    "duration": 13,
    "start_time": "2024-02-05T19:42:27.791Z"
   },
   {
    "duration": 4,
    "start_time": "2024-02-05T19:42:27.805Z"
   },
   {
    "duration": 13,
    "start_time": "2024-02-05T19:42:27.811Z"
   },
   {
    "duration": 5,
    "start_time": "2024-02-05T19:42:27.825Z"
   },
   {
    "duration": 17,
    "start_time": "2024-02-05T19:42:27.831Z"
   },
   {
    "duration": 17,
    "start_time": "2024-02-05T19:42:27.849Z"
   },
   {
    "duration": 4,
    "start_time": "2024-02-05T19:42:27.867Z"
   },
   {
    "duration": 318,
    "start_time": "2024-02-05T19:42:27.872Z"
   },
   {
    "duration": 6,
    "start_time": "2024-02-05T19:42:28.191Z"
   },
   {
    "duration": 12,
    "start_time": "2024-02-05T19:42:28.198Z"
   },
   {
    "duration": 8,
    "start_time": "2024-02-05T19:42:28.212Z"
   },
   {
    "duration": 24,
    "start_time": "2024-02-05T19:42:28.222Z"
   },
   {
    "duration": 20,
    "start_time": "2024-02-05T19:42:28.250Z"
   },
   {
    "duration": 131,
    "start_time": "2024-02-05T19:42:28.272Z"
   },
   {
    "duration": 7,
    "start_time": "2024-02-05T19:42:28.405Z"
   },
   {
    "duration": 32,
    "start_time": "2024-02-05T19:42:28.413Z"
   },
   {
    "duration": 11,
    "start_time": "2024-02-05T19:42:28.447Z"
   },
   {
    "duration": 309,
    "start_time": "2024-02-05T19:42:28.459Z"
   },
   {
    "duration": 228,
    "start_time": "2024-02-05T19:42:28.769Z"
   },
   {
    "duration": 5,
    "start_time": "2024-02-05T19:42:28.998Z"
   },
   {
    "duration": 137,
    "start_time": "2024-02-05T19:42:29.004Z"
   },
   {
    "duration": 5,
    "start_time": "2024-02-05T19:42:29.142Z"
   },
   {
    "duration": 197,
    "start_time": "2024-02-05T19:42:29.148Z"
   },
   {
    "duration": 5,
    "start_time": "2024-02-05T19:42:29.346Z"
   },
   {
    "duration": 131,
    "start_time": "2024-02-05T19:42:29.352Z"
   },
   {
    "duration": 4,
    "start_time": "2024-02-05T19:42:29.485Z"
   },
   {
    "duration": 129,
    "start_time": "2024-02-05T19:42:29.491Z"
   },
   {
    "duration": 5,
    "start_time": "2024-02-05T19:42:29.621Z"
   },
   {
    "duration": 24,
    "start_time": "2024-02-05T19:42:29.627Z"
   },
   {
    "duration": 158,
    "start_time": "2024-02-05T19:42:29.652Z"
   },
   {
    "duration": 13,
    "start_time": "2024-02-05T19:42:29.811Z"
   },
   {
    "duration": 29,
    "start_time": "2024-02-05T19:42:29.825Z"
   },
   {
    "duration": 8,
    "start_time": "2024-02-05T19:42:29.855Z"
   },
   {
    "duration": 231,
    "start_time": "2024-02-05T19:42:29.864Z"
   },
   {
    "duration": 9,
    "start_time": "2024-02-05T19:42:30.096Z"
   },
   {
    "duration": 244,
    "start_time": "2024-02-05T19:42:30.106Z"
   },
   {
    "duration": 9,
    "start_time": "2024-02-05T19:42:30.351Z"
   },
   {
    "duration": 294,
    "start_time": "2024-02-05T19:42:30.361Z"
   },
   {
    "duration": 17,
    "start_time": "2024-02-05T19:42:30.656Z"
   },
   {
    "duration": 39,
    "start_time": "2024-02-05T19:42:30.675Z"
   },
   {
    "duration": 343,
    "start_time": "2024-02-05T19:42:30.716Z"
   },
   {
    "duration": 9,
    "start_time": "2024-02-05T19:42:31.061Z"
   },
   {
    "duration": 238,
    "start_time": "2024-02-05T19:42:31.072Z"
   },
   {
    "duration": 10,
    "start_time": "2024-02-05T19:42:31.312Z"
   },
   {
    "duration": 187,
    "start_time": "2024-02-05T19:42:31.323Z"
   },
   {
    "duration": 16,
    "start_time": "2024-02-05T19:42:31.512Z"
   },
   {
    "duration": 277,
    "start_time": "2024-02-05T19:42:31.529Z"
   },
   {
    "duration": 7,
    "start_time": "2024-02-05T19:42:31.807Z"
   },
   {
    "duration": 242,
    "start_time": "2024-02-05T19:42:31.815Z"
   },
   {
    "duration": 0,
    "start_time": "2024-02-05T19:42:32.058Z"
   },
   {
    "duration": 0,
    "start_time": "2024-02-05T19:42:32.059Z"
   },
   {
    "duration": 0,
    "start_time": "2024-02-05T19:42:32.060Z"
   },
   {
    "duration": 0,
    "start_time": "2024-02-05T19:42:32.061Z"
   },
   {
    "duration": 5,
    "start_time": "2024-02-05T19:43:25.168Z"
   },
   {
    "duration": 4,
    "start_time": "2024-02-05T19:43:30.457Z"
   },
   {
    "duration": 3,
    "start_time": "2024-02-05T19:43:31.316Z"
   },
   {
    "duration": 972,
    "start_time": "2024-02-05T19:44:10.010Z"
   },
   {
    "duration": 5,
    "start_time": "2024-02-05T19:44:21.655Z"
   },
   {
    "duration": 94,
    "start_time": "2024-02-05T19:44:58.412Z"
   },
   {
    "duration": 86,
    "start_time": "2024-02-05T19:45:08.606Z"
   },
   {
    "duration": 8,
    "start_time": "2024-02-05T19:45:15.358Z"
   },
   {
    "duration": 4,
    "start_time": "2024-02-05T19:46:12.721Z"
   },
   {
    "duration": 69,
    "start_time": "2024-02-05T19:48:13.054Z"
   },
   {
    "duration": 76,
    "start_time": "2024-02-05T19:48:27.480Z"
   },
   {
    "duration": 78,
    "start_time": "2024-02-05T19:48:52.701Z"
   },
   {
    "duration": 9,
    "start_time": "2024-02-05T19:48:56.999Z"
   },
   {
    "duration": 8,
    "start_time": "2024-02-05T19:51:04.060Z"
   },
   {
    "duration": 91,
    "start_time": "2024-02-05T19:51:22.876Z"
   },
   {
    "duration": 63,
    "start_time": "2024-02-05T19:51:49.196Z"
   },
   {
    "duration": 109,
    "start_time": "2024-02-05T19:53:23.083Z"
   },
   {
    "duration": 73,
    "start_time": "2024-02-05T19:53:26.626Z"
   },
   {
    "duration": 75,
    "start_time": "2024-02-05T19:53:43.593Z"
   },
   {
    "duration": 66,
    "start_time": "2024-02-05T19:53:51.803Z"
   },
   {
    "duration": 71,
    "start_time": "2024-02-05T19:54:01.515Z"
   },
   {
    "duration": 72,
    "start_time": "2024-02-05T19:54:07.539Z"
   },
   {
    "duration": 4,
    "start_time": "2024-02-05T19:54:19.917Z"
   },
   {
    "duration": 6,
    "start_time": "2024-02-05T19:54:27.851Z"
   },
   {
    "duration": 6,
    "start_time": "2024-02-05T19:54:41.107Z"
   },
   {
    "duration": 6,
    "start_time": "2024-02-05T19:55:23.515Z"
   },
   {
    "duration": 14,
    "start_time": "2024-02-05T19:57:16.695Z"
   },
   {
    "duration": 14,
    "start_time": "2024-02-05T19:58:03.698Z"
   },
   {
    "duration": 872,
    "start_time": "2024-02-05T19:58:43.329Z"
   },
   {
    "duration": 20,
    "start_time": "2024-02-05T19:58:54.940Z"
   },
   {
    "duration": 12,
    "start_time": "2024-02-05T19:59:08.364Z"
   },
   {
    "duration": 848,
    "start_time": "2024-02-05T20:02:59.677Z"
   },
   {
    "duration": 988,
    "start_time": "2024-02-05T20:03:08.709Z"
   },
   {
    "duration": 845,
    "start_time": "2024-02-05T20:03:23.198Z"
   },
   {
    "duration": 1186,
    "start_time": "2024-02-05T20:03:46.852Z"
   },
   {
    "duration": 55,
    "start_time": "2024-02-05T20:03:48.040Z"
   },
   {
    "duration": 18,
    "start_time": "2024-02-05T20:03:48.097Z"
   },
   {
    "duration": 26,
    "start_time": "2024-02-05T20:03:48.117Z"
   },
   {
    "duration": 14,
    "start_time": "2024-02-05T20:03:48.146Z"
   },
   {
    "duration": 33,
    "start_time": "2024-02-05T20:03:48.161Z"
   },
   {
    "duration": 32,
    "start_time": "2024-02-05T20:03:48.196Z"
   },
   {
    "duration": 30,
    "start_time": "2024-02-05T20:03:48.229Z"
   },
   {
    "duration": 30,
    "start_time": "2024-02-05T20:03:48.260Z"
   },
   {
    "duration": 4,
    "start_time": "2024-02-05T20:03:48.292Z"
   },
   {
    "duration": 7,
    "start_time": "2024-02-05T20:03:48.298Z"
   },
   {
    "duration": 40,
    "start_time": "2024-02-05T20:03:48.307Z"
   },
   {
    "duration": 35,
    "start_time": "2024-02-05T20:03:48.350Z"
   },
   {
    "duration": 17,
    "start_time": "2024-02-05T20:03:48.388Z"
   },
   {
    "duration": 20,
    "start_time": "2024-02-05T20:03:48.406Z"
   },
   {
    "duration": 40,
    "start_time": "2024-02-05T20:03:48.427Z"
   },
   {
    "duration": 4,
    "start_time": "2024-02-05T20:03:48.469Z"
   },
   {
    "duration": 11,
    "start_time": "2024-02-05T20:03:48.475Z"
   },
   {
    "duration": 16,
    "start_time": "2024-02-05T20:03:48.487Z"
   },
   {
    "duration": 41,
    "start_time": "2024-02-05T20:03:48.504Z"
   },
   {
    "duration": 36,
    "start_time": "2024-02-05T20:03:48.547Z"
   },
   {
    "duration": 13,
    "start_time": "2024-02-05T20:03:48.585Z"
   },
   {
    "duration": 374,
    "start_time": "2024-02-05T20:03:48.600Z"
   },
   {
    "duration": 6,
    "start_time": "2024-02-05T20:03:48.976Z"
   },
   {
    "duration": 36,
    "start_time": "2024-02-05T20:03:48.983Z"
   },
   {
    "duration": 6,
    "start_time": "2024-02-05T20:03:49.020Z"
   },
   {
    "duration": 3,
    "start_time": "2024-02-05T20:03:49.027Z"
   },
   {
    "duration": 15,
    "start_time": "2024-02-05T20:03:49.031Z"
   },
   {
    "duration": 146,
    "start_time": "2024-02-05T20:03:49.048Z"
   },
   {
    "duration": 6,
    "start_time": "2024-02-05T20:03:49.196Z"
   },
   {
    "duration": 34,
    "start_time": "2024-02-05T20:03:49.203Z"
   },
   {
    "duration": 26,
    "start_time": "2024-02-05T20:03:49.238Z"
   },
   {
    "duration": 316,
    "start_time": "2024-02-05T20:03:49.266Z"
   },
   {
    "duration": 245,
    "start_time": "2024-02-05T20:03:49.584Z"
   },
   {
    "duration": 5,
    "start_time": "2024-02-05T20:03:49.830Z"
   },
   {
    "duration": 146,
    "start_time": "2024-02-05T20:03:49.836Z"
   },
   {
    "duration": 6,
    "start_time": "2024-02-05T20:03:49.983Z"
   },
   {
    "duration": 236,
    "start_time": "2024-02-05T20:03:49.990Z"
   },
   {
    "duration": 4,
    "start_time": "2024-02-05T20:03:50.227Z"
   },
   {
    "duration": 149,
    "start_time": "2024-02-05T20:03:50.232Z"
   },
   {
    "duration": 4,
    "start_time": "2024-02-05T20:03:50.384Z"
   },
   {
    "duration": 135,
    "start_time": "2024-02-05T20:03:50.389Z"
   },
   {
    "duration": 4,
    "start_time": "2024-02-05T20:03:50.525Z"
   },
   {
    "duration": 28,
    "start_time": "2024-02-05T20:03:50.530Z"
   },
   {
    "duration": 166,
    "start_time": "2024-02-05T20:03:50.559Z"
   },
   {
    "duration": 12,
    "start_time": "2024-02-05T20:03:50.726Z"
   },
   {
    "duration": 28,
    "start_time": "2024-02-05T20:03:50.744Z"
   },
   {
    "duration": 11,
    "start_time": "2024-02-05T20:03:50.774Z"
   },
   {
    "duration": 271,
    "start_time": "2024-02-05T20:03:50.786Z"
   },
   {
    "duration": 8,
    "start_time": "2024-02-05T20:03:51.059Z"
   },
   {
    "duration": 247,
    "start_time": "2024-02-05T20:03:51.069Z"
   },
   {
    "duration": 11,
    "start_time": "2024-02-05T20:03:51.318Z"
   },
   {
    "duration": 276,
    "start_time": "2024-02-05T20:03:51.330Z"
   },
   {
    "duration": 16,
    "start_time": "2024-02-05T20:03:51.607Z"
   },
   {
    "duration": 21,
    "start_time": "2024-02-05T20:03:51.624Z"
   },
   {
    "duration": 151,
    "start_time": "2024-02-05T20:03:51.647Z"
   },
   {
    "duration": 8,
    "start_time": "2024-02-05T20:03:51.799Z"
   },
   {
    "duration": 245,
    "start_time": "2024-02-05T20:03:51.808Z"
   },
   {
    "duration": 11,
    "start_time": "2024-02-05T20:03:52.055Z"
   },
   {
    "duration": 171,
    "start_time": "2024-02-05T20:03:52.067Z"
   },
   {
    "duration": 24,
    "start_time": "2024-02-05T20:03:52.239Z"
   },
   {
    "duration": 218,
    "start_time": "2024-02-05T20:03:52.265Z"
   },
   {
    "duration": 5,
    "start_time": "2024-02-05T20:03:52.485Z"
   },
   {
    "duration": 112,
    "start_time": "2024-02-05T20:03:52.491Z"
   },
   {
    "duration": 0,
    "start_time": "2024-02-05T20:03:52.604Z"
   },
   {
    "duration": 0,
    "start_time": "2024-02-05T20:03:52.606Z"
   },
   {
    "duration": 0,
    "start_time": "2024-02-05T20:03:52.607Z"
   },
   {
    "duration": 12,
    "start_time": "2024-02-05T20:04:22.024Z"
   },
   {
    "duration": 6,
    "start_time": "2024-02-05T20:05:14.477Z"
   },
   {
    "duration": 4,
    "start_time": "2024-02-05T20:05:23.180Z"
   },
   {
    "duration": 4,
    "start_time": "2024-02-05T20:05:27.796Z"
   },
   {
    "duration": 43,
    "start_time": "2024-02-05T20:15:46.099Z"
   },
   {
    "duration": 7,
    "start_time": "2024-02-05T20:16:29.154Z"
   },
   {
    "duration": 7,
    "start_time": "2024-02-05T20:17:26.868Z"
   },
   {
    "duration": 7,
    "start_time": "2024-02-05T20:20:15.281Z"
   },
   {
    "duration": 8,
    "start_time": "2024-02-05T20:20:43.422Z"
   },
   {
    "duration": 7,
    "start_time": "2024-02-05T20:21:20.726Z"
   },
   {
    "duration": 1018,
    "start_time": "2024-02-05T20:21:31.091Z"
   },
   {
    "duration": 52,
    "start_time": "2024-02-05T20:21:32.111Z"
   },
   {
    "duration": 145,
    "start_time": "2024-02-05T20:21:32.164Z"
   },
   {
    "duration": 80,
    "start_time": "2024-02-05T20:21:32.311Z"
   },
   {
    "duration": 25,
    "start_time": "2024-02-05T20:21:32.393Z"
   },
   {
    "duration": 15,
    "start_time": "2024-02-05T20:21:32.419Z"
   },
   {
    "duration": 53,
    "start_time": "2024-02-05T20:21:32.435Z"
   },
   {
    "duration": 56,
    "start_time": "2024-02-05T20:21:32.489Z"
   },
   {
    "duration": 43,
    "start_time": "2024-02-05T20:21:32.546Z"
   },
   {
    "duration": 37,
    "start_time": "2024-02-05T20:21:32.590Z"
   },
   {
    "duration": 11,
    "start_time": "2024-02-05T20:21:32.629Z"
   },
   {
    "duration": 19,
    "start_time": "2024-02-05T20:21:32.641Z"
   },
   {
    "duration": 9,
    "start_time": "2024-02-05T20:21:32.662Z"
   },
   {
    "duration": 26,
    "start_time": "2024-02-05T20:21:32.673Z"
   },
   {
    "duration": 20,
    "start_time": "2024-02-05T20:21:32.700Z"
   },
   {
    "duration": 19,
    "start_time": "2024-02-05T20:21:32.721Z"
   },
   {
    "duration": 12,
    "start_time": "2024-02-05T20:21:32.741Z"
   },
   {
    "duration": 10,
    "start_time": "2024-02-05T20:21:32.754Z"
   },
   {
    "duration": 19,
    "start_time": "2024-02-05T20:21:32.765Z"
   },
   {
    "duration": 22,
    "start_time": "2024-02-05T20:21:32.785Z"
   },
   {
    "duration": 22,
    "start_time": "2024-02-05T20:21:32.808Z"
   },
   {
    "duration": 19,
    "start_time": "2024-02-05T20:21:32.831Z"
   },
   {
    "duration": 320,
    "start_time": "2024-02-05T20:21:32.851Z"
   },
   {
    "duration": 6,
    "start_time": "2024-02-05T20:21:33.173Z"
   },
   {
    "duration": 10,
    "start_time": "2024-02-05T20:21:33.181Z"
   },
   {
    "duration": 10,
    "start_time": "2024-02-05T20:21:33.192Z"
   },
   {
    "duration": 11,
    "start_time": "2024-02-05T20:21:33.203Z"
   },
   {
    "duration": 28,
    "start_time": "2024-02-05T20:21:33.215Z"
   },
   {
    "duration": 151,
    "start_time": "2024-02-05T20:21:33.244Z"
   },
   {
    "duration": 6,
    "start_time": "2024-02-05T20:21:33.397Z"
   },
   {
    "duration": 23,
    "start_time": "2024-02-05T20:21:33.405Z"
   },
   {
    "duration": 20,
    "start_time": "2024-02-05T20:21:33.430Z"
   },
   {
    "duration": 283,
    "start_time": "2024-02-05T20:21:33.451Z"
   },
   {
    "duration": 237,
    "start_time": "2024-02-05T20:21:33.736Z"
   },
   {
    "duration": 6,
    "start_time": "2024-02-05T20:21:33.975Z"
   },
   {
    "duration": 133,
    "start_time": "2024-02-05T20:21:33.983Z"
   },
   {
    "duration": 5,
    "start_time": "2024-02-05T20:21:34.117Z"
   },
   {
    "duration": 206,
    "start_time": "2024-02-05T20:21:34.123Z"
   },
   {
    "duration": 4,
    "start_time": "2024-02-05T20:21:34.330Z"
   },
   {
    "duration": 127,
    "start_time": "2024-02-05T20:21:34.336Z"
   },
   {
    "duration": 4,
    "start_time": "2024-02-05T20:21:34.467Z"
   },
   {
    "duration": 126,
    "start_time": "2024-02-05T20:21:34.472Z"
   },
   {
    "duration": 4,
    "start_time": "2024-02-05T20:21:34.600Z"
   },
   {
    "duration": 25,
    "start_time": "2024-02-05T20:21:34.605Z"
   },
   {
    "duration": 157,
    "start_time": "2024-02-05T20:21:34.631Z"
   },
   {
    "duration": 13,
    "start_time": "2024-02-05T20:21:34.789Z"
   },
   {
    "duration": 19,
    "start_time": "2024-02-05T20:21:34.803Z"
   },
   {
    "duration": 24,
    "start_time": "2024-02-05T20:21:34.823Z"
   },
   {
    "duration": 243,
    "start_time": "2024-02-05T20:21:34.848Z"
   },
   {
    "duration": 8,
    "start_time": "2024-02-05T20:21:35.092Z"
   },
   {
    "duration": 239,
    "start_time": "2024-02-05T20:21:35.101Z"
   },
   {
    "duration": 8,
    "start_time": "2024-02-05T20:21:35.344Z"
   },
   {
    "duration": 238,
    "start_time": "2024-02-05T20:21:35.354Z"
   },
   {
    "duration": 16,
    "start_time": "2024-02-05T20:21:35.593Z"
   },
   {
    "duration": 9,
    "start_time": "2024-02-05T20:21:35.610Z"
   },
   {
    "duration": 152,
    "start_time": "2024-02-05T20:21:35.620Z"
   },
   {
    "duration": 9,
    "start_time": "2024-02-05T20:21:35.773Z"
   },
   {
    "duration": 206,
    "start_time": "2024-02-05T20:21:35.783Z"
   },
   {
    "duration": 9,
    "start_time": "2024-02-05T20:21:35.990Z"
   },
   {
    "duration": 163,
    "start_time": "2024-02-05T20:21:36.001Z"
   },
   {
    "duration": 29,
    "start_time": "2024-02-05T20:21:36.166Z"
   },
   {
    "duration": 202,
    "start_time": "2024-02-05T20:21:36.197Z"
   },
   {
    "duration": 92,
    "start_time": "2024-02-05T20:21:36.401Z"
   },
   {
    "duration": 0,
    "start_time": "2024-02-05T20:21:36.495Z"
   },
   {
    "duration": 0,
    "start_time": "2024-02-05T20:21:36.496Z"
   },
   {
    "duration": 0,
    "start_time": "2024-02-05T20:21:36.496Z"
   },
   {
    "duration": 0,
    "start_time": "2024-02-05T20:21:36.497Z"
   },
   {
    "duration": 810,
    "start_time": "2024-02-05T20:22:36.246Z"
   },
   {
    "duration": 867,
    "start_time": "2024-02-05T20:22:54.193Z"
   },
   {
    "duration": 6,
    "start_time": "2024-02-05T20:23:34.960Z"
   },
   {
    "duration": 7,
    "start_time": "2024-02-05T20:23:39.478Z"
   },
   {
    "duration": 6,
    "start_time": "2024-02-05T20:23:42.394Z"
   },
   {
    "duration": 7,
    "start_time": "2024-02-05T20:23:44.946Z"
   },
   {
    "duration": 8,
    "start_time": "2024-02-05T20:23:52.391Z"
   },
   {
    "duration": 8,
    "start_time": "2024-02-05T20:23:57.342Z"
   },
   {
    "duration": 7,
    "start_time": "2024-02-05T20:23:58.065Z"
   },
   {
    "duration": 900,
    "start_time": "2024-02-05T20:24:19.121Z"
   },
   {
    "duration": 4,
    "start_time": "2024-02-05T20:25:11.786Z"
   },
   {
    "duration": 8,
    "start_time": "2024-02-05T20:25:23.161Z"
   },
   {
    "duration": 10,
    "start_time": "2024-02-05T20:27:32.097Z"
   },
   {
    "duration": 9,
    "start_time": "2024-02-05T20:28:19.003Z"
   },
   {
    "duration": 16,
    "start_time": "2024-02-05T20:28:24.745Z"
   },
   {
    "duration": 7,
    "start_time": "2024-02-05T20:28:34.699Z"
   },
   {
    "duration": 7,
    "start_time": "2024-02-05T20:28:44.539Z"
   },
   {
    "duration": 6,
    "start_time": "2024-02-05T20:29:26.890Z"
   },
   {
    "duration": 8,
    "start_time": "2024-02-05T20:31:08.055Z"
   },
   {
    "duration": 13,
    "start_time": "2024-02-05T20:31:57.130Z"
   },
   {
    "duration": 9,
    "start_time": "2024-02-05T20:33:12.734Z"
   },
   {
    "duration": 8,
    "start_time": "2024-02-05T20:33:28.303Z"
   },
   {
    "duration": 13,
    "start_time": "2024-02-05T20:33:34.257Z"
   },
   {
    "duration": 8,
    "start_time": "2024-02-05T20:34:48.180Z"
   },
   {
    "duration": 9,
    "start_time": "2024-02-05T20:34:57.190Z"
   },
   {
    "duration": 9,
    "start_time": "2024-02-05T20:35:15.563Z"
   },
   {
    "duration": 7,
    "start_time": "2024-02-05T20:35:25.953Z"
   },
   {
    "duration": 8,
    "start_time": "2024-02-05T20:35:50.504Z"
   },
   {
    "duration": 13,
    "start_time": "2024-02-05T20:35:56.312Z"
   },
   {
    "duration": 8,
    "start_time": "2024-02-05T20:36:43.802Z"
   },
   {
    "duration": 7,
    "start_time": "2024-02-05T20:36:51.849Z"
   },
   {
    "duration": 7,
    "start_time": "2024-02-05T20:37:22.034Z"
   },
   {
    "duration": 9,
    "start_time": "2024-02-05T20:37:29.941Z"
   },
   {
    "duration": 8,
    "start_time": "2024-02-05T20:37:38.368Z"
   },
   {
    "duration": 9,
    "start_time": "2024-02-05T20:37:44.312Z"
   },
   {
    "duration": 6,
    "start_time": "2024-02-05T20:37:51.684Z"
   },
   {
    "duration": 6,
    "start_time": "2024-02-05T20:37:54.769Z"
   },
   {
    "duration": 14,
    "start_time": "2024-02-05T20:40:06.909Z"
   },
   {
    "duration": 10,
    "start_time": "2024-02-05T20:41:13.309Z"
   },
   {
    "duration": 1076,
    "start_time": "2024-02-05T20:41:21.770Z"
   },
   {
    "duration": 4,
    "start_time": "2024-02-05T20:41:33.645Z"
   },
   {
    "duration": 13,
    "start_time": "2024-02-05T20:42:28.988Z"
   },
   {
    "duration": 6,
    "start_time": "2024-02-05T20:42:38.403Z"
   },
   {
    "duration": 13,
    "start_time": "2024-02-05T20:42:43.748Z"
   },
   {
    "duration": 4,
    "start_time": "2024-02-05T20:43:21.130Z"
   },
   {
    "duration": 12,
    "start_time": "2024-02-05T20:44:03.100Z"
   },
   {
    "duration": 979,
    "start_time": "2024-02-05T20:46:22.402Z"
   },
   {
    "duration": 1137,
    "start_time": "2024-02-05T20:46:28.856Z"
   },
   {
    "duration": 3,
    "start_time": "2024-02-05T20:46:43.505Z"
   },
   {
    "duration": 800,
    "start_time": "2024-02-05T20:46:46.683Z"
   },
   {
    "duration": 4,
    "start_time": "2024-02-05T20:46:51.981Z"
   },
   {
    "duration": 6,
    "start_time": "2024-02-05T20:47:18.565Z"
   },
   {
    "duration": 14,
    "start_time": "2024-02-05T20:47:22.501Z"
   },
   {
    "duration": 12,
    "start_time": "2024-02-05T20:49:25.496Z"
   },
   {
    "duration": 7,
    "start_time": "2024-02-05T20:50:39.565Z"
   },
   {
    "duration": 638,
    "start_time": "2024-02-05T20:51:19.722Z"
   },
   {
    "duration": 585,
    "start_time": "2024-02-05T20:53:31.559Z"
   },
   {
    "duration": 5,
    "start_time": "2024-02-05T20:53:56.803Z"
   },
   {
    "duration": 15,
    "start_time": "2024-02-05T20:54:04.422Z"
   },
   {
    "duration": 13,
    "start_time": "2024-02-05T20:54:32.408Z"
   },
   {
    "duration": 12,
    "start_time": "2024-02-05T20:54:41.983Z"
   },
   {
    "duration": 7,
    "start_time": "2024-02-05T20:54:51.555Z"
   },
   {
    "duration": 6,
    "start_time": "2024-02-05T20:54:56.235Z"
   },
   {
    "duration": 3,
    "start_time": "2024-02-05T20:55:22.194Z"
   },
   {
    "duration": 65,
    "start_time": "2024-02-05T20:55:32.926Z"
   },
   {
    "duration": 5,
    "start_time": "2024-02-05T20:55:37.219Z"
   },
   {
    "duration": 13,
    "start_time": "2024-02-05T20:55:49.114Z"
   },
   {
    "duration": 1218,
    "start_time": "2024-02-05T20:58:43.970Z"
   },
   {
    "duration": 7,
    "start_time": "2024-02-05T20:58:55.461Z"
   },
   {
    "duration": 4,
    "start_time": "2024-02-05T20:59:16.893Z"
   },
   {
    "duration": 5,
    "start_time": "2024-02-05T20:59:38.923Z"
   },
   {
    "duration": 5,
    "start_time": "2024-02-05T21:00:00.332Z"
   },
   {
    "duration": 7,
    "start_time": "2024-02-05T21:00:28.312Z"
   },
   {
    "duration": 6,
    "start_time": "2024-02-05T21:00:35.097Z"
   },
   {
    "duration": 5,
    "start_time": "2024-02-05T21:00:43.008Z"
   },
   {
    "duration": 4,
    "start_time": "2024-02-05T21:00:57.285Z"
   },
   {
    "duration": 4,
    "start_time": "2024-02-05T21:01:03.179Z"
   },
   {
    "duration": 5,
    "start_time": "2024-02-05T21:02:02.830Z"
   },
   {
    "duration": 5,
    "start_time": "2024-02-05T21:03:10.862Z"
   },
   {
    "duration": 6,
    "start_time": "2024-02-05T21:03:13.240Z"
   },
   {
    "duration": 5,
    "start_time": "2024-02-05T21:03:21.619Z"
   },
   {
    "duration": 7,
    "start_time": "2024-02-05T21:03:27.660Z"
   },
   {
    "duration": 14,
    "start_time": "2024-02-05T21:03:28.554Z"
   },
   {
    "duration": 6,
    "start_time": "2024-02-05T21:03:34.864Z"
   },
   {
    "duration": 6,
    "start_time": "2024-02-05T21:03:41.672Z"
   },
   {
    "duration": 13,
    "start_time": "2024-02-05T21:03:45.896Z"
   },
   {
    "duration": 5,
    "start_time": "2024-02-05T21:03:53.407Z"
   },
   {
    "duration": 6,
    "start_time": "2024-02-05T21:05:04.302Z"
   },
   {
    "duration": 13,
    "start_time": "2024-02-05T21:05:05.716Z"
   },
   {
    "duration": 6,
    "start_time": "2024-02-05T21:07:04.593Z"
   },
   {
    "duration": 1190,
    "start_time": "2024-02-05T21:07:20.860Z"
   },
   {
    "duration": 55,
    "start_time": "2024-02-05T21:07:22.054Z"
   },
   {
    "duration": 18,
    "start_time": "2024-02-05T21:07:22.111Z"
   },
   {
    "duration": 14,
    "start_time": "2024-02-05T21:07:22.130Z"
   },
   {
    "duration": 5,
    "start_time": "2024-02-05T21:07:22.147Z"
   },
   {
    "duration": 20,
    "start_time": "2024-02-05T21:07:22.154Z"
   },
   {
    "duration": 16,
    "start_time": "2024-02-05T21:07:22.176Z"
   },
   {
    "duration": 30,
    "start_time": "2024-02-05T21:07:22.193Z"
   },
   {
    "duration": 40,
    "start_time": "2024-02-05T21:07:22.225Z"
   },
   {
    "duration": 4,
    "start_time": "2024-02-05T21:07:22.267Z"
   },
   {
    "duration": 26,
    "start_time": "2024-02-05T21:07:22.273Z"
   },
   {
    "duration": 20,
    "start_time": "2024-02-05T21:07:22.300Z"
   },
   {
    "duration": 6,
    "start_time": "2024-02-05T21:07:22.321Z"
   },
   {
    "duration": 4,
    "start_time": "2024-02-05T21:07:22.330Z"
   },
   {
    "duration": 8,
    "start_time": "2024-02-05T21:07:22.335Z"
   },
   {
    "duration": 19,
    "start_time": "2024-02-05T21:07:22.345Z"
   },
   {
    "duration": 4,
    "start_time": "2024-02-05T21:07:22.366Z"
   },
   {
    "duration": 11,
    "start_time": "2024-02-05T21:07:22.372Z"
   },
   {
    "duration": 22,
    "start_time": "2024-02-05T21:07:22.385Z"
   },
   {
    "duration": 19,
    "start_time": "2024-02-05T21:07:22.408Z"
   },
   {
    "duration": 26,
    "start_time": "2024-02-05T21:07:22.429Z"
   },
   {
    "duration": 13,
    "start_time": "2024-02-05T21:07:22.456Z"
   },
   {
    "duration": 366,
    "start_time": "2024-02-05T21:07:22.470Z"
   },
   {
    "duration": 13,
    "start_time": "2024-02-05T21:07:22.838Z"
   },
   {
    "duration": 30,
    "start_time": "2024-02-05T21:07:22.853Z"
   },
   {
    "duration": 28,
    "start_time": "2024-02-05T21:07:22.884Z"
   },
   {
    "duration": 7,
    "start_time": "2024-02-05T21:07:22.914Z"
   },
   {
    "duration": 22,
    "start_time": "2024-02-05T21:07:22.922Z"
   },
   {
    "duration": 154,
    "start_time": "2024-02-05T21:07:22.946Z"
   },
   {
    "duration": 7,
    "start_time": "2024-02-05T21:07:23.101Z"
   },
   {
    "duration": 34,
    "start_time": "2024-02-05T21:07:23.109Z"
   },
   {
    "duration": 31,
    "start_time": "2024-02-05T21:07:23.144Z"
   },
   {
    "duration": 325,
    "start_time": "2024-02-05T21:07:23.177Z"
   },
   {
    "duration": 262,
    "start_time": "2024-02-05T21:07:23.504Z"
   },
   {
    "duration": 5,
    "start_time": "2024-02-05T21:07:23.767Z"
   },
   {
    "duration": 174,
    "start_time": "2024-02-05T21:07:23.774Z"
   },
   {
    "duration": 7,
    "start_time": "2024-02-05T21:07:23.950Z"
   },
   {
    "duration": 246,
    "start_time": "2024-02-05T21:07:23.959Z"
   },
   {
    "duration": 4,
    "start_time": "2024-02-05T21:07:24.207Z"
   },
   {
    "duration": 145,
    "start_time": "2024-02-05T21:07:24.212Z"
   },
   {
    "duration": 5,
    "start_time": "2024-02-05T21:07:24.362Z"
   },
   {
    "duration": 148,
    "start_time": "2024-02-05T21:07:24.368Z"
   },
   {
    "duration": 5,
    "start_time": "2024-02-05T21:07:24.517Z"
   },
   {
    "duration": 70,
    "start_time": "2024-02-05T21:07:24.523Z"
   },
   {
    "duration": 183,
    "start_time": "2024-02-05T21:07:24.594Z"
   },
   {
    "duration": 14,
    "start_time": "2024-02-05T21:07:24.778Z"
   },
   {
    "duration": 20,
    "start_time": "2024-02-05T21:07:24.793Z"
   },
   {
    "duration": 8,
    "start_time": "2024-02-05T21:07:24.814Z"
   },
   {
    "duration": 276,
    "start_time": "2024-02-05T21:07:24.823Z"
   },
   {
    "duration": 10,
    "start_time": "2024-02-05T21:07:25.100Z"
   },
   {
    "duration": 275,
    "start_time": "2024-02-05T21:07:25.111Z"
   },
   {
    "duration": 10,
    "start_time": "2024-02-05T21:07:25.387Z"
   },
   {
    "duration": 268,
    "start_time": "2024-02-05T21:07:25.398Z"
   },
   {
    "duration": 17,
    "start_time": "2024-02-05T21:07:25.668Z"
   },
   {
    "duration": 9,
    "start_time": "2024-02-05T21:07:25.686Z"
   },
   {
    "duration": 169,
    "start_time": "2024-02-05T21:07:25.696Z"
   },
   {
    "duration": 9,
    "start_time": "2024-02-05T21:07:25.866Z"
   },
   {
    "duration": 249,
    "start_time": "2024-02-05T21:07:25.876Z"
   },
   {
    "duration": 10,
    "start_time": "2024-02-05T21:07:26.127Z"
   },
   {
    "duration": 172,
    "start_time": "2024-02-05T21:07:26.146Z"
   },
   {
    "duration": 16,
    "start_time": "2024-02-05T21:07:26.319Z"
   },
   {
    "duration": 223,
    "start_time": "2024-02-05T21:07:26.346Z"
   },
   {
    "duration": 5,
    "start_time": "2024-02-05T21:07:26.571Z"
   },
   {
    "duration": 115,
    "start_time": "2024-02-05T21:07:26.577Z"
   },
   {
    "duration": 0,
    "start_time": "2024-02-05T21:07:26.693Z"
   },
   {
    "duration": 0,
    "start_time": "2024-02-05T21:07:26.694Z"
   },
   {
    "duration": 0,
    "start_time": "2024-02-05T21:07:26.695Z"
   },
   {
    "duration": 0,
    "start_time": "2024-02-05T21:07:26.696Z"
   },
   {
    "duration": 0,
    "start_time": "2024-02-05T21:07:26.697Z"
   },
   {
    "duration": 0,
    "start_time": "2024-02-05T21:07:26.698Z"
   },
   {
    "duration": 6,
    "start_time": "2024-02-05T21:09:18.035Z"
   },
   {
    "duration": 13,
    "start_time": "2024-02-05T21:09:35.657Z"
   },
   {
    "duration": 6,
    "start_time": "2024-02-05T21:09:39.617Z"
   },
   {
    "duration": 7,
    "start_time": "2024-02-05T21:09:43.364Z"
   },
   {
    "duration": 6,
    "start_time": "2024-02-05T21:09:50.441Z"
   },
   {
    "duration": 6,
    "start_time": "2024-02-05T21:09:55.793Z"
   },
   {
    "duration": 9,
    "start_time": "2024-02-05T21:09:58.353Z"
   },
   {
    "duration": 16,
    "start_time": "2024-02-05T21:10:08.226Z"
   },
   {
    "duration": 6,
    "start_time": "2024-02-05T21:10:22.333Z"
   },
   {
    "duration": 12,
    "start_time": "2024-02-05T21:10:29.576Z"
   },
   {
    "duration": 7,
    "start_time": "2024-02-05T21:10:52.832Z"
   },
   {
    "duration": 18,
    "start_time": "2024-02-05T21:10:53.544Z"
   },
   {
    "duration": 5,
    "start_time": "2024-02-05T21:10:57.328Z"
   },
   {
    "duration": 4,
    "start_time": "2024-02-05T21:10:58.264Z"
   },
   {
    "duration": 4,
    "start_time": "2024-02-05T21:11:12.713Z"
   },
   {
    "duration": 3,
    "start_time": "2024-02-05T21:11:23.599Z"
   },
   {
    "duration": 6,
    "start_time": "2024-02-05T21:11:33.339Z"
   },
   {
    "duration": 12,
    "start_time": "2024-02-05T21:11:37.797Z"
   },
   {
    "duration": 5,
    "start_time": "2024-02-05T21:12:39.166Z"
   },
   {
    "duration": 4,
    "start_time": "2024-02-05T21:13:13.207Z"
   },
   {
    "duration": 5,
    "start_time": "2024-02-05T21:13:14.721Z"
   },
   {
    "duration": 3,
    "start_time": "2024-02-05T21:13:44.112Z"
   },
   {
    "duration": 4,
    "start_time": "2024-02-05T21:13:45.802Z"
   },
   {
    "duration": 4,
    "start_time": "2024-02-05T21:14:28.486Z"
   },
   {
    "duration": 6,
    "start_time": "2024-02-05T21:14:29.491Z"
   },
   {
    "duration": 7,
    "start_time": "2024-02-05T21:15:26.419Z"
   },
   {
    "duration": 12,
    "start_time": "2024-02-05T21:15:32.833Z"
   },
   {
    "duration": 3,
    "start_time": "2024-02-05T21:15:38.891Z"
   },
   {
    "duration": 3,
    "start_time": "2024-02-05T21:16:13.770Z"
   },
   {
    "duration": 5,
    "start_time": "2024-02-05T21:16:14.766Z"
   },
   {
    "duration": 3,
    "start_time": "2024-02-05T21:17:25.067Z"
   },
   {
    "duration": 5,
    "start_time": "2024-02-05T21:17:27.798Z"
   },
   {
    "duration": 3,
    "start_time": "2024-02-05T21:17:47.079Z"
   },
   {
    "duration": 5,
    "start_time": "2024-02-05T21:17:47.993Z"
   },
   {
    "duration": 7,
    "start_time": "2024-02-05T21:18:04.306Z"
   },
   {
    "duration": 3,
    "start_time": "2024-02-05T21:18:18.868Z"
   },
   {
    "duration": 5,
    "start_time": "2024-02-05T21:18:20.916Z"
   },
   {
    "duration": 13,
    "start_time": "2024-02-05T21:18:48.471Z"
   },
   {
    "duration": 13,
    "start_time": "2024-02-05T21:19:11.761Z"
   },
   {
    "duration": 3,
    "start_time": "2024-02-05T21:19:42.274Z"
   },
   {
    "duration": 5,
    "start_time": "2024-02-05T21:19:44.008Z"
   },
   {
    "duration": 3,
    "start_time": "2024-02-05T21:19:51.019Z"
   },
   {
    "duration": 1048,
    "start_time": "2024-02-05T21:20:11.086Z"
   },
   {
    "duration": 52,
    "start_time": "2024-02-05T21:20:12.136Z"
   },
   {
    "duration": 18,
    "start_time": "2024-02-05T21:20:12.190Z"
   },
   {
    "duration": 16,
    "start_time": "2024-02-05T21:20:12.210Z"
   },
   {
    "duration": 29,
    "start_time": "2024-02-05T21:20:12.228Z"
   },
   {
    "duration": 5,
    "start_time": "2024-02-05T21:20:12.259Z"
   },
   {
    "duration": 39,
    "start_time": "2024-02-05T21:20:12.265Z"
   },
   {
    "duration": 7,
    "start_time": "2024-02-05T21:20:12.305Z"
   },
   {
    "duration": 25,
    "start_time": "2024-02-05T21:20:12.313Z"
   },
   {
    "duration": 9,
    "start_time": "2024-02-05T21:20:12.341Z"
   },
   {
    "duration": 10,
    "start_time": "2024-02-05T21:20:12.352Z"
   },
   {
    "duration": 9,
    "start_time": "2024-02-05T21:20:12.363Z"
   },
   {
    "duration": 11,
    "start_time": "2024-02-05T21:20:12.373Z"
   },
   {
    "duration": 5,
    "start_time": "2024-02-05T21:20:12.385Z"
   },
   {
    "duration": 5,
    "start_time": "2024-02-05T21:20:12.391Z"
   },
   {
    "duration": 34,
    "start_time": "2024-02-05T21:20:12.398Z"
   },
   {
    "duration": 4,
    "start_time": "2024-02-05T21:20:12.434Z"
   },
   {
    "duration": 4,
    "start_time": "2024-02-05T21:20:12.439Z"
   },
   {
    "duration": 7,
    "start_time": "2024-02-05T21:20:12.445Z"
   },
   {
    "duration": 15,
    "start_time": "2024-02-05T21:20:12.453Z"
   },
   {
    "duration": 17,
    "start_time": "2024-02-05T21:20:12.469Z"
   },
   {
    "duration": 7,
    "start_time": "2024-02-05T21:20:12.487Z"
   },
   {
    "duration": 10,
    "start_time": "2024-02-05T21:20:12.495Z"
   },
   {
    "duration": 334,
    "start_time": "2024-02-05T21:20:12.506Z"
   },
   {
    "duration": 9,
    "start_time": "2024-02-05T21:20:12.844Z"
   },
   {
    "duration": 104,
    "start_time": "2024-02-05T21:20:12.855Z"
   },
   {
    "duration": 35,
    "start_time": "2024-02-05T21:20:12.960Z"
   },
   {
    "duration": 19,
    "start_time": "2024-02-05T21:20:12.998Z"
   },
   {
    "duration": 38,
    "start_time": "2024-02-05T21:20:13.018Z"
   },
   {
    "duration": 142,
    "start_time": "2024-02-05T21:20:13.058Z"
   },
   {
    "duration": 6,
    "start_time": "2024-02-05T21:20:13.202Z"
   },
   {
    "duration": 33,
    "start_time": "2024-02-05T21:20:13.210Z"
   },
   {
    "duration": 48,
    "start_time": "2024-02-05T21:20:13.244Z"
   },
   {
    "duration": 356,
    "start_time": "2024-02-05T21:20:13.294Z"
   },
   {
    "duration": 248,
    "start_time": "2024-02-05T21:20:13.652Z"
   },
   {
    "duration": 4,
    "start_time": "2024-02-05T21:20:13.902Z"
   },
   {
    "duration": 254,
    "start_time": "2024-02-05T21:20:13.907Z"
   },
   {
    "duration": 5,
    "start_time": "2024-02-05T21:20:14.163Z"
   },
   {
    "duration": 220,
    "start_time": "2024-02-05T21:20:14.169Z"
   },
   {
    "duration": 4,
    "start_time": "2024-02-05T21:20:14.391Z"
   },
   {
    "duration": 135,
    "start_time": "2024-02-05T21:20:14.397Z"
   },
   {
    "duration": 12,
    "start_time": "2024-02-05T21:20:14.533Z"
   },
   {
    "duration": 133,
    "start_time": "2024-02-05T21:20:14.547Z"
   },
   {
    "duration": 4,
    "start_time": "2024-02-05T21:20:14.681Z"
   },
   {
    "duration": 21,
    "start_time": "2024-02-05T21:20:14.686Z"
   },
   {
    "duration": 163,
    "start_time": "2024-02-05T21:20:14.708Z"
   },
   {
    "duration": 12,
    "start_time": "2024-02-05T21:20:14.873Z"
   },
   {
    "duration": 21,
    "start_time": "2024-02-05T21:20:14.886Z"
   },
   {
    "duration": 7,
    "start_time": "2024-02-05T21:20:14.908Z"
   },
   {
    "duration": 260,
    "start_time": "2024-02-05T21:20:14.916Z"
   },
   {
    "duration": 9,
    "start_time": "2024-02-05T21:20:15.177Z"
   },
   {
    "duration": 339,
    "start_time": "2024-02-05T21:20:15.187Z"
   },
   {
    "duration": 9,
    "start_time": "2024-02-05T21:20:15.528Z"
   },
   {
    "duration": 248,
    "start_time": "2024-02-05T21:20:15.546Z"
   },
   {
    "duration": 17,
    "start_time": "2024-02-05T21:20:15.796Z"
   },
   {
    "duration": 9,
    "start_time": "2024-02-05T21:20:15.814Z"
   },
   {
    "duration": 163,
    "start_time": "2024-02-05T21:20:15.824Z"
   },
   {
    "duration": 9,
    "start_time": "2024-02-05T21:20:15.989Z"
   },
   {
    "duration": 221,
    "start_time": "2024-02-05T21:20:15.999Z"
   },
   {
    "duration": 9,
    "start_time": "2024-02-05T21:20:16.221Z"
   },
   {
    "duration": 162,
    "start_time": "2024-02-05T21:20:16.231Z"
   },
   {
    "duration": 16,
    "start_time": "2024-02-05T21:20:16.394Z"
   },
   {
    "duration": 223,
    "start_time": "2024-02-05T21:20:16.411Z"
   },
   {
    "duration": 10,
    "start_time": "2024-02-05T21:20:16.636Z"
   },
   {
    "duration": 103,
    "start_time": "2024-02-05T21:20:16.648Z"
   },
   {
    "duration": 0,
    "start_time": "2024-02-05T21:20:16.753Z"
   },
   {
    "duration": 0,
    "start_time": "2024-02-05T21:20:16.754Z"
   },
   {
    "duration": 0,
    "start_time": "2024-02-05T21:20:16.755Z"
   },
   {
    "duration": 0,
    "start_time": "2024-02-05T21:20:16.757Z"
   },
   {
    "duration": 0,
    "start_time": "2024-02-05T21:20:16.758Z"
   },
   {
    "duration": 0,
    "start_time": "2024-02-05T21:20:16.759Z"
   },
   {
    "duration": 4,
    "start_time": "2024-02-05T21:26:15.837Z"
   },
   {
    "duration": 4,
    "start_time": "2024-02-05T21:26:16.527Z"
   },
   {
    "duration": 6,
    "start_time": "2024-02-05T21:26:23.333Z"
   },
   {
    "duration": 13,
    "start_time": "2024-02-05T21:26:24.107Z"
   },
   {
    "duration": 3,
    "start_time": "2024-02-05T21:26:27.831Z"
   },
   {
    "duration": 3,
    "start_time": "2024-02-05T21:26:28.365Z"
   },
   {
    "duration": 9,
    "start_time": "2024-02-05T22:11:20.685Z"
   },
   {
    "duration": 13,
    "start_time": "2024-02-05T22:11:22.910Z"
   },
   {
    "duration": 4,
    "start_time": "2024-02-05T22:14:29.969Z"
   },
   {
    "duration": 85,
    "start_time": "2024-02-05T22:15:17.628Z"
   },
   {
    "duration": 1053,
    "start_time": "2024-02-05T22:17:09.584Z"
   },
   {
    "duration": 91,
    "start_time": "2024-02-05T22:17:10.639Z"
   },
   {
    "duration": 17,
    "start_time": "2024-02-05T22:17:10.731Z"
   },
   {
    "duration": 17,
    "start_time": "2024-02-05T22:17:10.750Z"
   },
   {
    "duration": 3,
    "start_time": "2024-02-05T22:17:10.769Z"
   },
   {
    "duration": 30,
    "start_time": "2024-02-05T22:17:10.774Z"
   },
   {
    "duration": 28,
    "start_time": "2024-02-05T22:17:10.805Z"
   },
   {
    "duration": 35,
    "start_time": "2024-02-05T22:17:10.834Z"
   },
   {
    "duration": 40,
    "start_time": "2024-02-05T22:17:10.871Z"
   },
   {
    "duration": 11,
    "start_time": "2024-02-05T22:17:10.912Z"
   },
   {
    "duration": 60,
    "start_time": "2024-02-05T22:17:10.924Z"
   },
   {
    "duration": 24,
    "start_time": "2024-02-05T22:17:10.986Z"
   },
   {
    "duration": 23,
    "start_time": "2024-02-05T22:17:11.011Z"
   },
   {
    "duration": 27,
    "start_time": "2024-02-05T22:17:11.036Z"
   },
   {
    "duration": 12,
    "start_time": "2024-02-05T22:17:11.064Z"
   },
   {
    "duration": 23,
    "start_time": "2024-02-05T22:17:11.077Z"
   },
   {
    "duration": 26,
    "start_time": "2024-02-05T22:17:11.101Z"
   },
   {
    "duration": 23,
    "start_time": "2024-02-05T22:17:11.128Z"
   },
   {
    "duration": 25,
    "start_time": "2024-02-05T22:17:11.153Z"
   },
   {
    "duration": 13,
    "start_time": "2024-02-05T22:17:11.179Z"
   },
   {
    "duration": 29,
    "start_time": "2024-02-05T22:17:11.193Z"
   },
   {
    "duration": 28,
    "start_time": "2024-02-05T22:17:11.223Z"
   },
   {
    "duration": 33,
    "start_time": "2024-02-05T22:17:11.252Z"
   },
   {
    "duration": 336,
    "start_time": "2024-02-05T22:17:11.286Z"
   },
   {
    "duration": 6,
    "start_time": "2024-02-05T22:17:11.623Z"
   },
   {
    "duration": 28,
    "start_time": "2024-02-05T22:17:11.630Z"
   },
   {
    "duration": 20,
    "start_time": "2024-02-05T22:17:11.659Z"
   },
   {
    "duration": 15,
    "start_time": "2024-02-05T22:17:11.681Z"
   },
   {
    "duration": 35,
    "start_time": "2024-02-05T22:17:11.698Z"
   },
   {
    "duration": 138,
    "start_time": "2024-02-05T22:17:11.735Z"
   },
   {
    "duration": 6,
    "start_time": "2024-02-05T22:17:11.874Z"
   },
   {
    "duration": 43,
    "start_time": "2024-02-05T22:17:11.882Z"
   },
   {
    "duration": 30,
    "start_time": "2024-02-05T22:17:11.926Z"
   },
   {
    "duration": 308,
    "start_time": "2024-02-05T22:17:11.958Z"
   },
   {
    "duration": 233,
    "start_time": "2024-02-05T22:17:12.268Z"
   },
   {
    "duration": 5,
    "start_time": "2024-02-05T22:17:12.503Z"
   },
   {
    "duration": 143,
    "start_time": "2024-02-05T22:17:12.509Z"
   },
   {
    "duration": 5,
    "start_time": "2024-02-05T22:17:12.653Z"
   },
   {
    "duration": 207,
    "start_time": "2024-02-05T22:17:12.659Z"
   },
   {
    "duration": 4,
    "start_time": "2024-02-05T22:17:12.868Z"
   },
   {
    "duration": 141,
    "start_time": "2024-02-05T22:17:12.876Z"
   },
   {
    "duration": 4,
    "start_time": "2024-02-05T22:17:13.019Z"
   },
   {
    "duration": 136,
    "start_time": "2024-02-05T22:17:13.025Z"
   },
   {
    "duration": 5,
    "start_time": "2024-02-05T22:17:13.162Z"
   },
   {
    "duration": 30,
    "start_time": "2024-02-05T22:17:13.168Z"
   },
   {
    "duration": 163,
    "start_time": "2024-02-05T22:17:13.200Z"
   },
   {
    "duration": 14,
    "start_time": "2024-02-05T22:17:13.365Z"
   },
   {
    "duration": 20,
    "start_time": "2024-02-05T22:17:13.381Z"
   },
   {
    "duration": 9,
    "start_time": "2024-02-05T22:17:13.403Z"
   },
   {
    "duration": 254,
    "start_time": "2024-02-05T22:17:13.413Z"
   },
   {
    "duration": 9,
    "start_time": "2024-02-05T22:17:13.669Z"
   },
   {
    "duration": 239,
    "start_time": "2024-02-05T22:17:13.679Z"
   },
   {
    "duration": 10,
    "start_time": "2024-02-05T22:17:13.919Z"
   },
   {
    "duration": 237,
    "start_time": "2024-02-05T22:17:13.945Z"
   },
   {
    "duration": 17,
    "start_time": "2024-02-05T22:17:14.184Z"
   },
   {
    "duration": 9,
    "start_time": "2024-02-05T22:17:14.202Z"
   },
   {
    "duration": 160,
    "start_time": "2024-02-05T22:17:14.212Z"
   },
   {
    "duration": 9,
    "start_time": "2024-02-05T22:17:14.374Z"
   },
   {
    "duration": 226,
    "start_time": "2024-02-05T22:17:14.384Z"
   },
   {
    "duration": 9,
    "start_time": "2024-02-05T22:17:14.611Z"
   },
   {
    "duration": 155,
    "start_time": "2024-02-05T22:17:14.621Z"
   },
   {
    "duration": 15,
    "start_time": "2024-02-05T22:17:14.778Z"
   },
   {
    "duration": 205,
    "start_time": "2024-02-05T22:17:14.794Z"
   },
   {
    "duration": 47,
    "start_time": "2024-02-05T22:17:42.638Z"
   },
   {
    "duration": 1056,
    "start_time": "2024-02-05T22:17:50.803Z"
   },
   {
    "duration": 93,
    "start_time": "2024-02-05T22:17:51.861Z"
   },
   {
    "duration": 17,
    "start_time": "2024-02-05T22:17:51.955Z"
   },
   {
    "duration": 38,
    "start_time": "2024-02-05T22:17:51.974Z"
   },
   {
    "duration": 44,
    "start_time": "2024-02-05T22:17:52.014Z"
   },
   {
    "duration": 58,
    "start_time": "2024-02-05T22:17:52.060Z"
   },
   {
    "duration": 65,
    "start_time": "2024-02-05T22:17:52.120Z"
   },
   {
    "duration": 41,
    "start_time": "2024-02-05T22:17:52.186Z"
   },
   {
    "duration": 40,
    "start_time": "2024-02-05T22:17:52.229Z"
   },
   {
    "duration": 25,
    "start_time": "2024-02-05T22:17:52.271Z"
   },
   {
    "duration": 55,
    "start_time": "2024-02-05T22:17:52.297Z"
   },
   {
    "duration": 55,
    "start_time": "2024-02-05T22:17:52.354Z"
   },
   {
    "duration": 38,
    "start_time": "2024-02-05T22:17:52.411Z"
   },
   {
    "duration": 43,
    "start_time": "2024-02-05T22:17:52.451Z"
   },
   {
    "duration": 33,
    "start_time": "2024-02-05T22:17:52.495Z"
   },
   {
    "duration": 27,
    "start_time": "2024-02-05T22:17:52.530Z"
   },
   {
    "duration": 8,
    "start_time": "2024-02-05T22:17:52.559Z"
   },
   {
    "duration": 23,
    "start_time": "2024-02-05T22:17:52.569Z"
   },
   {
    "duration": 34,
    "start_time": "2024-02-05T22:17:52.593Z"
   },
   {
    "duration": 25,
    "start_time": "2024-02-05T22:17:52.629Z"
   },
   {
    "duration": 33,
    "start_time": "2024-02-05T22:17:52.655Z"
   },
   {
    "duration": 33,
    "start_time": "2024-02-05T22:17:52.690Z"
   },
   {
    "duration": 25,
    "start_time": "2024-02-05T22:17:52.724Z"
   },
   {
    "duration": 329,
    "start_time": "2024-02-05T22:17:52.751Z"
   },
   {
    "duration": 6,
    "start_time": "2024-02-05T22:17:53.081Z"
   },
   {
    "duration": 40,
    "start_time": "2024-02-05T22:17:53.089Z"
   },
   {
    "duration": 30,
    "start_time": "2024-02-05T22:17:53.130Z"
   },
   {
    "duration": 24,
    "start_time": "2024-02-05T22:17:53.163Z"
   },
   {
    "duration": 37,
    "start_time": "2024-02-05T22:17:53.188Z"
   },
   {
    "duration": 145,
    "start_time": "2024-02-05T22:17:53.227Z"
   },
   {
    "duration": 6,
    "start_time": "2024-02-05T22:17:53.373Z"
   },
   {
    "duration": 52,
    "start_time": "2024-02-05T22:17:53.381Z"
   },
   {
    "duration": 20,
    "start_time": "2024-02-05T22:17:53.434Z"
   },
   {
    "duration": 306,
    "start_time": "2024-02-05T22:17:53.456Z"
   },
   {
    "duration": 223,
    "start_time": "2024-02-05T22:17:53.764Z"
   },
   {
    "duration": 5,
    "start_time": "2024-02-05T22:17:53.988Z"
   },
   {
    "duration": 145,
    "start_time": "2024-02-05T22:17:53.994Z"
   },
   {
    "duration": 5,
    "start_time": "2024-02-05T22:17:54.144Z"
   },
   {
    "duration": 208,
    "start_time": "2024-02-05T22:17:54.150Z"
   },
   {
    "duration": 4,
    "start_time": "2024-02-05T22:17:54.360Z"
   },
   {
    "duration": 153,
    "start_time": "2024-02-05T22:17:54.365Z"
   },
   {
    "duration": 5,
    "start_time": "2024-02-05T22:17:54.520Z"
   },
   {
    "duration": 143,
    "start_time": "2024-02-05T22:17:54.527Z"
   },
   {
    "duration": 6,
    "start_time": "2024-02-05T22:17:54.672Z"
   },
   {
    "duration": 29,
    "start_time": "2024-02-05T22:17:54.679Z"
   },
   {
    "duration": 175,
    "start_time": "2024-02-05T22:17:54.710Z"
   },
   {
    "duration": 14,
    "start_time": "2024-02-05T22:17:54.887Z"
   },
   {
    "duration": 21,
    "start_time": "2024-02-05T22:17:54.903Z"
   },
   {
    "duration": 47,
    "start_time": "2024-02-05T22:17:54.925Z"
   },
   {
    "duration": 243,
    "start_time": "2024-02-05T22:17:54.973Z"
   },
   {
    "duration": 9,
    "start_time": "2024-02-05T22:17:55.217Z"
   },
   {
    "duration": 289,
    "start_time": "2024-02-05T22:17:55.227Z"
   },
   {
    "duration": 9,
    "start_time": "2024-02-05T22:17:55.517Z"
   },
   {
    "duration": 265,
    "start_time": "2024-02-05T22:17:55.527Z"
   },
   {
    "duration": 16,
    "start_time": "2024-02-05T22:17:55.794Z"
   },
   {
    "duration": 42,
    "start_time": "2024-02-05T22:17:55.812Z"
   },
   {
    "duration": 197,
    "start_time": "2024-02-05T22:17:55.855Z"
   },
   {
    "duration": 10,
    "start_time": "2024-02-05T22:17:56.053Z"
   },
   {
    "duration": 229,
    "start_time": "2024-02-05T22:17:56.064Z"
   },
   {
    "duration": 9,
    "start_time": "2024-02-05T22:17:56.295Z"
   },
   {
    "duration": 186,
    "start_time": "2024-02-05T22:17:56.305Z"
   },
   {
    "duration": 15,
    "start_time": "2024-02-05T22:17:56.492Z"
   },
   {
    "duration": 51,
    "start_time": "2024-02-05T22:20:53.839Z"
   },
   {
    "duration": 6,
    "start_time": "2024-02-05T22:21:09.075Z"
   },
   {
    "duration": 5,
    "start_time": "2024-02-05T22:21:13.166Z"
   },
   {
    "duration": 1030,
    "start_time": "2024-02-05T22:21:21.285Z"
   },
   {
    "duration": 92,
    "start_time": "2024-02-05T22:21:22.316Z"
   },
   {
    "duration": 17,
    "start_time": "2024-02-05T22:21:22.409Z"
   },
   {
    "duration": 15,
    "start_time": "2024-02-05T22:21:22.428Z"
   },
   {
    "duration": 6,
    "start_time": "2024-02-05T22:21:22.445Z"
   },
   {
    "duration": 5,
    "start_time": "2024-02-05T22:21:22.453Z"
   },
   {
    "duration": 29,
    "start_time": "2024-02-05T22:21:22.459Z"
   },
   {
    "duration": 22,
    "start_time": "2024-02-05T22:21:22.490Z"
   },
   {
    "duration": 21,
    "start_time": "2024-02-05T22:21:22.513Z"
   },
   {
    "duration": 4,
    "start_time": "2024-02-05T22:21:22.537Z"
   },
   {
    "duration": 24,
    "start_time": "2024-02-05T22:21:22.542Z"
   },
   {
    "duration": 11,
    "start_time": "2024-02-05T22:21:22.568Z"
   },
   {
    "duration": 12,
    "start_time": "2024-02-05T22:21:22.580Z"
   },
   {
    "duration": 9,
    "start_time": "2024-02-05T22:21:22.594Z"
   },
   {
    "duration": 12,
    "start_time": "2024-02-05T22:21:22.604Z"
   },
   {
    "duration": 37,
    "start_time": "2024-02-05T22:21:22.618Z"
   },
   {
    "duration": 5,
    "start_time": "2024-02-05T22:21:22.656Z"
   },
   {
    "duration": 4,
    "start_time": "2024-02-05T22:21:22.662Z"
   },
   {
    "duration": 22,
    "start_time": "2024-02-05T22:21:22.667Z"
   },
   {
    "duration": 9,
    "start_time": "2024-02-05T22:21:22.690Z"
   },
   {
    "duration": 13,
    "start_time": "2024-02-05T22:21:22.700Z"
   },
   {
    "duration": 7,
    "start_time": "2024-02-05T22:21:22.714Z"
   },
   {
    "duration": 300,
    "start_time": "2024-02-05T22:21:22.722Z"
   },
   {
    "duration": 5,
    "start_time": "2024-02-05T22:21:23.024Z"
   },
   {
    "duration": 21,
    "start_time": "2024-02-05T22:21:23.030Z"
   },
   {
    "duration": 6,
    "start_time": "2024-02-05T22:21:23.052Z"
   },
   {
    "duration": 5,
    "start_time": "2024-02-05T22:21:23.059Z"
   },
   {
    "duration": 15,
    "start_time": "2024-02-05T22:21:23.067Z"
   },
   {
    "duration": 141,
    "start_time": "2024-02-05T22:21:23.083Z"
   },
   {
    "duration": 6,
    "start_time": "2024-02-05T22:21:23.225Z"
   },
   {
    "duration": 30,
    "start_time": "2024-02-05T22:21:23.232Z"
   },
   {
    "duration": 11,
    "start_time": "2024-02-05T22:21:23.264Z"
   },
   {
    "duration": 302,
    "start_time": "2024-02-05T22:21:23.276Z"
   },
   {
    "duration": 237,
    "start_time": "2024-02-05T22:21:23.580Z"
   },
   {
    "duration": 5,
    "start_time": "2024-02-05T22:21:23.819Z"
   },
   {
    "duration": 139,
    "start_time": "2024-02-05T22:21:23.825Z"
   },
   {
    "duration": 5,
    "start_time": "2024-02-05T22:21:23.965Z"
   },
   {
    "duration": 146,
    "start_time": "2024-02-05T22:21:23.972Z"
   },
   {
    "duration": 5,
    "start_time": "2024-02-05T22:21:24.120Z"
   },
   {
    "duration": 183,
    "start_time": "2024-02-05T22:21:24.126Z"
   },
   {
    "duration": 4,
    "start_time": "2024-02-05T22:21:24.311Z"
   },
   {
    "duration": 132,
    "start_time": "2024-02-05T22:21:24.317Z"
   },
   {
    "duration": 4,
    "start_time": "2024-02-05T22:21:24.450Z"
   },
   {
    "duration": 15,
    "start_time": "2024-02-05T22:21:24.455Z"
   },
   {
    "duration": 189,
    "start_time": "2024-02-05T22:21:24.471Z"
   },
   {
    "duration": 19,
    "start_time": "2024-02-05T22:21:24.662Z"
   },
   {
    "duration": 38,
    "start_time": "2024-02-05T22:21:24.683Z"
   },
   {
    "duration": 28,
    "start_time": "2024-02-05T22:21:24.722Z"
   },
   {
    "duration": 230,
    "start_time": "2024-02-05T22:21:24.751Z"
   },
   {
    "duration": 8,
    "start_time": "2024-02-05T22:21:24.983Z"
   },
   {
    "duration": 239,
    "start_time": "2024-02-05T22:21:24.992Z"
   },
   {
    "duration": 13,
    "start_time": "2024-02-05T22:21:25.232Z"
   },
   {
    "duration": 246,
    "start_time": "2024-02-05T22:21:25.246Z"
   },
   {
    "duration": 16,
    "start_time": "2024-02-05T22:21:25.493Z"
   },
   {
    "duration": 30,
    "start_time": "2024-02-05T22:21:25.511Z"
   },
   {
    "duration": 151,
    "start_time": "2024-02-05T22:21:25.542Z"
   },
   {
    "duration": 9,
    "start_time": "2024-02-05T22:21:25.694Z"
   },
   {
    "duration": 142,
    "start_time": "2024-02-05T22:21:25.704Z"
   },
   {
    "duration": 9,
    "start_time": "2024-02-05T22:21:25.847Z"
   },
   {
    "duration": 251,
    "start_time": "2024-02-05T22:21:25.857Z"
   },
   {
    "duration": 14,
    "start_time": "2024-02-05T22:21:26.109Z"
   },
   {
    "duration": 199,
    "start_time": "2024-02-05T22:21:26.124Z"
   },
   {
    "duration": 44,
    "start_time": "2024-02-05T22:26:29.104Z"
   },
   {
    "duration": 5,
    "start_time": "2024-02-05T22:26:32.362Z"
   },
   {
    "duration": 1042,
    "start_time": "2024-02-05T22:26:46.184Z"
   },
   {
    "duration": 92,
    "start_time": "2024-02-05T22:26:51.322Z"
   },
   {
    "duration": 18,
    "start_time": "2024-02-05T22:26:51.718Z"
   },
   {
    "duration": 13,
    "start_time": "2024-02-05T22:26:51.990Z"
   },
   {
    "duration": 3,
    "start_time": "2024-02-05T22:26:52.894Z"
   },
   {
    "duration": 3,
    "start_time": "2024-02-05T22:26:53.161Z"
   },
   {
    "duration": 9,
    "start_time": "2024-02-05T22:26:53.458Z"
   },
   {
    "duration": 7,
    "start_time": "2024-02-05T22:26:54.212Z"
   },
   {
    "duration": 15,
    "start_time": "2024-02-05T22:26:54.440Z"
   },
   {
    "duration": 5,
    "start_time": "2024-02-05T22:26:54.858Z"
   },
   {
    "duration": 4,
    "start_time": "2024-02-05T22:26:55.202Z"
   },
   {
    "duration": 6,
    "start_time": "2024-02-05T22:26:55.479Z"
   },
   {
    "duration": 5,
    "start_time": "2024-02-05T22:26:55.748Z"
   },
   {
    "duration": 4,
    "start_time": "2024-02-05T22:26:56.016Z"
   },
   {
    "duration": 4,
    "start_time": "2024-02-05T22:26:56.320Z"
   },
   {
    "duration": 11,
    "start_time": "2024-02-05T22:26:56.605Z"
   },
   {
    "duration": 4,
    "start_time": "2024-02-05T22:26:56.876Z"
   },
   {
    "duration": 4,
    "start_time": "2024-02-05T22:26:57.494Z"
   },
   {
    "duration": 4,
    "start_time": "2024-02-05T22:26:57.774Z"
   },
   {
    "duration": 5,
    "start_time": "2024-02-05T22:26:58.086Z"
   },
   {
    "duration": 14,
    "start_time": "2024-02-05T22:26:58.372Z"
   },
   {
    "duration": 5,
    "start_time": "2024-02-05T22:26:59.540Z"
   },
   {
    "duration": 337,
    "start_time": "2024-02-05T22:26:59.769Z"
   },
   {
    "duration": 6,
    "start_time": "2024-02-05T22:27:00.336Z"
   },
   {
    "duration": 10,
    "start_time": "2024-02-05T22:27:00.854Z"
   },
   {
    "duration": 7,
    "start_time": "2024-02-05T22:27:01.096Z"
   },
   {
    "duration": 2,
    "start_time": "2024-02-05T22:27:01.673Z"
   },
   {
    "duration": 13,
    "start_time": "2024-02-05T22:27:01.917Z"
   },
   {
    "duration": 127,
    "start_time": "2024-02-05T22:27:02.161Z"
   },
   {
    "duration": 6,
    "start_time": "2024-02-05T22:27:03.249Z"
   },
   {
    "duration": 20,
    "start_time": "2024-02-05T22:27:03.704Z"
   },
   {
    "duration": 12,
    "start_time": "2024-02-05T22:27:04.130Z"
   },
   {
    "duration": 285,
    "start_time": "2024-02-05T22:27:04.461Z"
   },
   {
    "duration": 229,
    "start_time": "2024-02-05T22:27:06.000Z"
   },
   {
    "duration": 6,
    "start_time": "2024-02-05T22:27:07.156Z"
   },
   {
    "duration": 125,
    "start_time": "2024-02-05T22:27:07.800Z"
   },
   {
    "duration": 4,
    "start_time": "2024-02-05T22:27:08.099Z"
   },
   {
    "duration": 135,
    "start_time": "2024-02-05T22:27:08.805Z"
   },
   {
    "duration": 4,
    "start_time": "2024-02-05T22:27:09.135Z"
   },
   {
    "duration": 166,
    "start_time": "2024-02-05T22:27:10.076Z"
   },
   {
    "duration": 4,
    "start_time": "2024-02-05T22:27:10.363Z"
   },
   {
    "duration": 121,
    "start_time": "2024-02-05T22:27:10.662Z"
   },
   {
    "duration": 5,
    "start_time": "2024-02-05T22:27:11.000Z"
   },
   {
    "duration": 16,
    "start_time": "2024-02-05T22:27:12.896Z"
   },
   {
    "duration": 151,
    "start_time": "2024-02-05T22:27:13.673Z"
   },
   {
    "duration": 13,
    "start_time": "2024-02-05T22:27:28.463Z"
   },
   {
    "duration": 19,
    "start_time": "2024-02-05T22:27:31.267Z"
   },
   {
    "duration": 8,
    "start_time": "2024-02-05T22:27:31.583Z"
   },
   {
    "duration": 219,
    "start_time": "2024-02-05T22:27:31.861Z"
   },
   {
    "duration": 9,
    "start_time": "2024-02-05T22:27:32.977Z"
   },
   {
    "duration": 232,
    "start_time": "2024-02-05T22:27:33.451Z"
   },
   {
    "duration": 9,
    "start_time": "2024-02-05T22:27:33.859Z"
   },
   {
    "duration": 246,
    "start_time": "2024-02-05T22:27:34.439Z"
   },
   {
    "duration": 16,
    "start_time": "2024-02-05T22:27:35.837Z"
   },
   {
    "duration": 9,
    "start_time": "2024-02-05T22:27:36.103Z"
   },
   {
    "duration": 136,
    "start_time": "2024-02-05T22:27:36.464Z"
   },
   {
    "duration": 8,
    "start_time": "2024-02-05T22:27:36.765Z"
   },
   {
    "duration": 143,
    "start_time": "2024-02-05T22:27:37.053Z"
   },
   {
    "duration": 9,
    "start_time": "2024-02-05T22:27:37.335Z"
   },
   {
    "duration": 227,
    "start_time": "2024-02-05T22:27:37.619Z"
   },
   {
    "duration": 16,
    "start_time": "2024-02-05T22:27:38.753Z"
   },
   {
    "duration": 191,
    "start_time": "2024-02-05T22:27:39.095Z"
   },
   {
    "duration": 42,
    "start_time": "2024-02-05T22:27:57.296Z"
   },
   {
    "duration": 1539,
    "start_time": "2024-02-06T07:29:32.484Z"
   },
   {
    "duration": 112,
    "start_time": "2024-02-06T07:29:34.026Z"
   },
   {
    "duration": 29,
    "start_time": "2024-02-06T07:29:34.141Z"
   },
   {
    "duration": 15,
    "start_time": "2024-02-06T07:29:34.172Z"
   },
   {
    "duration": 11,
    "start_time": "2024-02-06T07:29:34.190Z"
   },
   {
    "duration": 54,
    "start_time": "2024-02-06T07:29:34.203Z"
   },
   {
    "duration": 37,
    "start_time": "2024-02-06T07:29:34.259Z"
   },
   {
    "duration": 22,
    "start_time": "2024-02-06T07:29:34.298Z"
   },
   {
    "duration": 34,
    "start_time": "2024-02-06T07:29:34.323Z"
   },
   {
    "duration": 5,
    "start_time": "2024-02-06T07:29:34.359Z"
   },
   {
    "duration": 30,
    "start_time": "2024-02-06T07:29:34.366Z"
   },
   {
    "duration": 17,
    "start_time": "2024-02-06T07:29:34.399Z"
   },
   {
    "duration": 19,
    "start_time": "2024-02-06T07:29:34.418Z"
   },
   {
    "duration": 24,
    "start_time": "2024-02-06T07:29:34.440Z"
   },
   {
    "duration": 8,
    "start_time": "2024-02-06T07:29:34.466Z"
   },
   {
    "duration": 28,
    "start_time": "2024-02-06T07:29:34.475Z"
   },
   {
    "duration": 6,
    "start_time": "2024-02-06T07:29:34.505Z"
   },
   {
    "duration": 13,
    "start_time": "2024-02-06T07:29:34.512Z"
   },
   {
    "duration": 10,
    "start_time": "2024-02-06T07:29:34.527Z"
   },
   {
    "duration": 17,
    "start_time": "2024-02-06T07:29:34.538Z"
   },
   {
    "duration": 20,
    "start_time": "2024-02-06T07:29:34.556Z"
   },
   {
    "duration": 22,
    "start_time": "2024-02-06T07:29:34.577Z"
   },
   {
    "duration": 410,
    "start_time": "2024-02-06T07:29:34.601Z"
   },
   {
    "duration": 7,
    "start_time": "2024-02-06T07:29:35.013Z"
   },
   {
    "duration": 21,
    "start_time": "2024-02-06T07:29:35.023Z"
   },
   {
    "duration": 27,
    "start_time": "2024-02-06T07:29:35.045Z"
   },
   {
    "duration": 42,
    "start_time": "2024-02-06T07:29:35.074Z"
   },
   {
    "duration": 45,
    "start_time": "2024-02-06T07:29:35.118Z"
   },
   {
    "duration": 157,
    "start_time": "2024-02-06T07:29:35.165Z"
   },
   {
    "duration": 9,
    "start_time": "2024-02-06T07:29:35.323Z"
   },
   {
    "duration": 33,
    "start_time": "2024-02-06T07:29:35.334Z"
   },
   {
    "duration": 15,
    "start_time": "2024-02-06T07:29:35.368Z"
   },
   {
    "duration": 362,
    "start_time": "2024-02-06T07:29:35.385Z"
   },
   {
    "duration": 313,
    "start_time": "2024-02-06T07:29:35.749Z"
   },
   {
    "duration": 5,
    "start_time": "2024-02-06T07:29:36.065Z"
   },
   {
    "duration": 152,
    "start_time": "2024-02-06T07:29:36.072Z"
   },
   {
    "duration": 5,
    "start_time": "2024-02-06T07:29:36.225Z"
   },
   {
    "duration": 232,
    "start_time": "2024-02-06T07:29:36.231Z"
   },
   {
    "duration": 5,
    "start_time": "2024-02-06T07:29:36.465Z"
   },
   {
    "duration": 158,
    "start_time": "2024-02-06T07:29:36.472Z"
   },
   {
    "duration": 6,
    "start_time": "2024-02-06T07:29:36.634Z"
   },
   {
    "duration": 176,
    "start_time": "2024-02-06T07:29:36.642Z"
   },
   {
    "duration": 5,
    "start_time": "2024-02-06T07:29:36.819Z"
   },
   {
    "duration": 27,
    "start_time": "2024-02-06T07:29:36.825Z"
   },
   {
    "duration": 193,
    "start_time": "2024-02-06T07:29:36.853Z"
   },
   {
    "duration": 21,
    "start_time": "2024-02-06T07:29:37.048Z"
   },
   {
    "duration": 23,
    "start_time": "2024-02-06T07:29:37.071Z"
   },
   {
    "duration": 9,
    "start_time": "2024-02-06T07:29:37.096Z"
   },
   {
    "duration": 272,
    "start_time": "2024-02-06T07:29:37.107Z"
   },
   {
    "duration": 10,
    "start_time": "2024-02-06T07:29:37.381Z"
   },
   {
    "duration": 278,
    "start_time": "2024-02-06T07:29:37.393Z"
   },
   {
    "duration": 11,
    "start_time": "2024-02-06T07:29:37.672Z"
   },
   {
    "duration": 268,
    "start_time": "2024-02-06T07:29:37.686Z"
   },
   {
    "duration": 25,
    "start_time": "2024-02-06T07:29:37.956Z"
   },
   {
    "duration": 13,
    "start_time": "2024-02-06T07:29:37.990Z"
   },
   {
    "duration": 174,
    "start_time": "2024-02-06T07:29:38.005Z"
   },
   {
    "duration": 10,
    "start_time": "2024-02-06T07:29:38.181Z"
   },
   {
    "duration": 270,
    "start_time": "2024-02-06T07:29:38.193Z"
   },
   {
    "duration": 9,
    "start_time": "2024-02-06T07:29:38.466Z"
   },
   {
    "duration": 171,
    "start_time": "2024-02-06T07:29:38.477Z"
   },
   {
    "duration": 41,
    "start_time": "2024-02-06T07:29:38.650Z"
   },
   {
    "duration": 217,
    "start_time": "2024-02-06T07:29:38.692Z"
   },
   {
    "duration": 68,
    "start_time": "2024-02-06T07:31:50.862Z"
   },
   {
    "duration": 1129,
    "start_time": "2024-02-06T07:31:59.175Z"
   },
   {
    "duration": 95,
    "start_time": "2024-02-06T07:32:00.306Z"
   },
   {
    "duration": 18,
    "start_time": "2024-02-06T07:32:00.403Z"
   },
   {
    "duration": 33,
    "start_time": "2024-02-06T07:32:00.423Z"
   },
   {
    "duration": 25,
    "start_time": "2024-02-06T07:32:00.458Z"
   },
   {
    "duration": 22,
    "start_time": "2024-02-06T07:32:00.485Z"
   },
   {
    "duration": 79,
    "start_time": "2024-02-06T07:32:00.508Z"
   },
   {
    "duration": 28,
    "start_time": "2024-02-06T07:32:00.589Z"
   },
   {
    "duration": 41,
    "start_time": "2024-02-06T07:32:00.619Z"
   },
   {
    "duration": 21,
    "start_time": "2024-02-06T07:32:00.661Z"
   },
   {
    "duration": 52,
    "start_time": "2024-02-06T07:32:00.683Z"
   },
   {
    "duration": 34,
    "start_time": "2024-02-06T07:32:00.737Z"
   },
   {
    "duration": 62,
    "start_time": "2024-02-06T07:32:00.773Z"
   },
   {
    "duration": 39,
    "start_time": "2024-02-06T07:32:00.838Z"
   },
   {
    "duration": 44,
    "start_time": "2024-02-06T07:32:00.879Z"
   },
   {
    "duration": 70,
    "start_time": "2024-02-06T07:32:00.925Z"
   },
   {
    "duration": 26,
    "start_time": "2024-02-06T07:32:00.996Z"
   },
   {
    "duration": 45,
    "start_time": "2024-02-06T07:32:01.024Z"
   },
   {
    "duration": 58,
    "start_time": "2024-02-06T07:32:01.070Z"
   },
   {
    "duration": 32,
    "start_time": "2024-02-06T07:32:01.130Z"
   },
   {
    "duration": 34,
    "start_time": "2024-02-06T07:32:01.163Z"
   },
   {
    "duration": 39,
    "start_time": "2024-02-06T07:32:01.198Z"
   },
   {
    "duration": 356,
    "start_time": "2024-02-06T07:32:01.239Z"
   },
   {
    "duration": 6,
    "start_time": "2024-02-06T07:32:01.596Z"
   },
   {
    "duration": 42,
    "start_time": "2024-02-06T07:32:01.604Z"
   },
   {
    "duration": 22,
    "start_time": "2024-02-06T07:32:01.648Z"
   },
   {
    "duration": 22,
    "start_time": "2024-02-06T07:32:01.671Z"
   },
   {
    "duration": 43,
    "start_time": "2024-02-06T07:32:01.694Z"
   },
   {
    "duration": 159,
    "start_time": "2024-02-06T07:32:01.738Z"
   },
   {
    "duration": 7,
    "start_time": "2024-02-06T07:32:01.898Z"
   },
   {
    "duration": 47,
    "start_time": "2024-02-06T07:32:01.906Z"
   },
   {
    "duration": 19,
    "start_time": "2024-02-06T07:32:01.954Z"
   },
   {
    "duration": 345,
    "start_time": "2024-02-06T07:32:01.974Z"
   },
   {
    "duration": 255,
    "start_time": "2024-02-06T07:32:02.321Z"
   },
   {
    "duration": 5,
    "start_time": "2024-02-06T07:32:02.578Z"
   },
   {
    "duration": 177,
    "start_time": "2024-02-06T07:32:02.584Z"
   },
   {
    "duration": 7,
    "start_time": "2024-02-06T07:32:02.762Z"
   },
   {
    "duration": 226,
    "start_time": "2024-02-06T07:32:02.771Z"
   },
   {
    "duration": 5,
    "start_time": "2024-02-06T07:32:02.999Z"
   },
   {
    "duration": 144,
    "start_time": "2024-02-06T07:32:03.006Z"
   },
   {
    "duration": 11,
    "start_time": "2024-02-06T07:32:03.154Z"
   },
   {
    "duration": 143,
    "start_time": "2024-02-06T07:32:03.167Z"
   },
   {
    "duration": 6,
    "start_time": "2024-02-06T07:32:03.312Z"
   },
   {
    "duration": 14,
    "start_time": "2024-02-06T07:32:03.319Z"
   },
   {
    "duration": 190,
    "start_time": "2024-02-06T07:32:03.335Z"
   },
   {
    "duration": 14,
    "start_time": "2024-02-06T07:32:03.527Z"
   },
   {
    "duration": 37,
    "start_time": "2024-02-06T07:32:03.542Z"
   },
   {
    "duration": 10,
    "start_time": "2024-02-06T07:32:03.581Z"
   },
   {
    "duration": 258,
    "start_time": "2024-02-06T07:32:03.592Z"
   },
   {
    "duration": 15,
    "start_time": "2024-02-06T07:32:03.852Z"
   },
   {
    "duration": 270,
    "start_time": "2024-02-06T07:32:03.869Z"
   },
   {
    "duration": 10,
    "start_time": "2024-02-06T07:32:04.141Z"
   },
   {
    "duration": 281,
    "start_time": "2024-02-06T07:32:04.153Z"
   },
   {
    "duration": 29,
    "start_time": "2024-02-06T07:32:04.436Z"
   },
   {
    "duration": 10,
    "start_time": "2024-02-06T07:32:04.467Z"
   },
   {
    "duration": 167,
    "start_time": "2024-02-06T07:32:04.479Z"
   },
   {
    "duration": 17,
    "start_time": "2024-02-06T07:32:04.648Z"
   },
   {
    "duration": 248,
    "start_time": "2024-02-06T07:32:04.667Z"
   },
   {
    "duration": 9,
    "start_time": "2024-02-06T07:32:04.916Z"
   },
   {
    "duration": 174,
    "start_time": "2024-02-06T07:32:04.927Z"
   },
   {
    "duration": 16,
    "start_time": "2024-02-06T07:32:05.103Z"
   },
   {
    "duration": 217,
    "start_time": "2024-02-06T07:32:05.121Z"
   },
   {
    "duration": 1171,
    "start_time": "2024-02-06T08:43:09.884Z"
   },
   {
    "duration": 95,
    "start_time": "2024-02-06T08:43:12.067Z"
   },
   {
    "duration": 19,
    "start_time": "2024-02-06T08:43:13.097Z"
   },
   {
    "duration": 14,
    "start_time": "2024-02-06T08:43:14.341Z"
   },
   {
    "duration": 4,
    "start_time": "2024-02-06T08:43:16.421Z"
   },
   {
    "duration": 4,
    "start_time": "2024-02-06T08:43:17.240Z"
   },
   {
    "duration": 9,
    "start_time": "2024-02-06T08:43:18.185Z"
   },
   {
    "duration": 8,
    "start_time": "2024-02-06T08:43:19.557Z"
   },
   {
    "duration": 16,
    "start_time": "2024-02-06T08:43:20.101Z"
   },
   {
    "duration": 5,
    "start_time": "2024-02-06T08:43:20.661Z"
   },
   {
    "duration": 5,
    "start_time": "2024-02-06T08:43:21.277Z"
   },
   {
    "duration": 6,
    "start_time": "2024-02-06T08:43:21.876Z"
   },
   {
    "duration": 5,
    "start_time": "2024-02-06T08:43:22.533Z"
   },
   {
    "duration": 4,
    "start_time": "2024-02-06T08:43:23.791Z"
   },
   {
    "duration": 3,
    "start_time": "2024-02-06T08:43:24.339Z"
   },
   {
    "duration": 13,
    "start_time": "2024-02-06T08:43:24.903Z"
   },
   {
    "duration": 5,
    "start_time": "2024-02-06T08:43:25.559Z"
   },
   {
    "duration": 4,
    "start_time": "2024-02-06T08:43:26.813Z"
   },
   {
    "duration": 5,
    "start_time": "2024-02-06T08:43:27.317Z"
   },
   {
    "duration": 5,
    "start_time": "2024-02-06T08:43:27.844Z"
   },
   {
    "duration": 15,
    "start_time": "2024-02-06T08:43:28.489Z"
   },
   {
    "duration": 5,
    "start_time": "2024-02-06T08:43:31.129Z"
   },
   {
    "duration": 343,
    "start_time": "2024-02-06T08:43:32.439Z"
   },
   {
    "duration": 7,
    "start_time": "2024-02-06T08:43:33.813Z"
   },
   {
    "duration": 11,
    "start_time": "2024-02-06T08:43:35.336Z"
   },
   {
    "duration": 8,
    "start_time": "2024-02-06T08:43:36.070Z"
   },
   {
    "duration": 3,
    "start_time": "2024-02-06T08:43:37.671Z"
   },
   {
    "duration": 13,
    "start_time": "2024-02-06T08:43:38.200Z"
   },
   {
    "duration": 145,
    "start_time": "2024-02-06T08:43:38.823Z"
   },
   {
    "duration": 8,
    "start_time": "2024-02-06T08:43:45.212Z"
   },
   {
    "duration": 29,
    "start_time": "2024-02-06T08:43:45.889Z"
   },
   {
    "duration": 13,
    "start_time": "2024-02-06T08:43:46.925Z"
   },
   {
    "duration": 312,
    "start_time": "2024-02-06T08:43:47.675Z"
   },
   {
    "duration": 251,
    "start_time": "2024-02-06T08:43:52.166Z"
   },
   {
    "duration": 5,
    "start_time": "2024-02-06T08:43:54.622Z"
   },
   {
    "duration": 135,
    "start_time": "2024-02-06T08:43:56.214Z"
   },
   {
    "duration": 5,
    "start_time": "2024-02-06T08:43:56.994Z"
   },
   {
    "duration": 142,
    "start_time": "2024-02-06T08:43:58.476Z"
   },
   {
    "duration": 5,
    "start_time": "2024-02-06T08:43:59.218Z"
   },
   {
    "duration": 207,
    "start_time": "2024-02-06T08:44:08.707Z"
   },
   {
    "duration": 6,
    "start_time": "2024-02-06T08:44:09.654Z"
   },
   {
    "duration": 130,
    "start_time": "2024-02-06T08:44:10.736Z"
   },
   {
    "duration": 5,
    "start_time": "2024-02-06T08:44:11.458Z"
   },
   {
    "duration": 14,
    "start_time": "2024-02-06T08:44:14.556Z"
   },
   {
    "duration": 194,
    "start_time": "2024-02-06T08:44:15.846Z"
   },
   {
    "duration": 14,
    "start_time": "2024-02-06T08:44:21.750Z"
   },
   {
    "duration": 20,
    "start_time": "2024-02-06T08:44:25.125Z"
   },
   {
    "duration": 9,
    "start_time": "2024-02-06T08:44:25.731Z"
   },
   {
    "duration": 253,
    "start_time": "2024-02-06T08:44:26.515Z"
   },
   {
    "duration": 10,
    "start_time": "2024-02-06T08:44:27.477Z"
   },
   {
    "duration": 280,
    "start_time": "2024-02-06T08:44:28.661Z"
   },
   {
    "duration": 9,
    "start_time": "2024-02-06T08:44:29.603Z"
   },
   {
    "duration": 244,
    "start_time": "2024-02-06T08:44:30.697Z"
   },
   {
    "duration": 18,
    "start_time": "2024-02-06T08:44:33.767Z"
   },
   {
    "duration": 9,
    "start_time": "2024-02-06T08:44:34.375Z"
   },
   {
    "duration": 152,
    "start_time": "2024-02-06T08:44:35.468Z"
   },
   {
    "duration": 10,
    "start_time": "2024-02-06T08:44:36.261Z"
   },
   {
    "duration": 150,
    "start_time": "2024-02-06T08:44:37.030Z"
   },
   {
    "duration": 10,
    "start_time": "2024-02-06T08:44:37.894Z"
   },
   {
    "duration": 237,
    "start_time": "2024-02-06T08:44:38.664Z"
   },
   {
    "duration": 17,
    "start_time": "2024-02-06T08:44:41.887Z"
   },
   {
    "duration": 207,
    "start_time": "2024-02-06T08:44:42.893Z"
   },
   {
    "duration": 47,
    "start_time": "2024-02-06T08:45:14.024Z"
   },
   {
    "duration": 6,
    "start_time": "2024-02-06T08:59:21.148Z"
   },
   {
    "duration": 6,
    "start_time": "2024-02-06T08:59:29.163Z"
   },
   {
    "duration": 1120,
    "start_time": "2024-02-06T08:59:52.692Z"
   },
   {
    "duration": 93,
    "start_time": "2024-02-06T08:59:55.096Z"
   },
   {
    "duration": 18,
    "start_time": "2024-02-06T08:59:55.472Z"
   },
   {
    "duration": 14,
    "start_time": "2024-02-06T08:59:55.857Z"
   },
   {
    "duration": 4,
    "start_time": "2024-02-06T08:59:57.093Z"
   },
   {
    "duration": 4,
    "start_time": "2024-02-06T08:59:57.471Z"
   },
   {
    "duration": 9,
    "start_time": "2024-02-06T08:59:57.892Z"
   },
   {
    "duration": 9,
    "start_time": "2024-02-06T08:59:58.628Z"
   },
   {
    "duration": 17,
    "start_time": "2024-02-06T08:59:58.969Z"
   },
   {
    "duration": 6,
    "start_time": "2024-02-06T08:59:59.300Z"
   },
   {
    "duration": 5,
    "start_time": "2024-02-06T08:59:59.660Z"
   },
   {
    "duration": 6,
    "start_time": "2024-02-06T08:59:59.985Z"
   },
   {
    "duration": 5,
    "start_time": "2024-02-06T09:00:00.342Z"
   },
   {
    "duration": 4,
    "start_time": "2024-02-06T09:00:00.660Z"
   },
   {
    "duration": 4,
    "start_time": "2024-02-06T09:00:00.982Z"
   },
   {
    "duration": 14,
    "start_time": "2024-02-06T09:00:01.300Z"
   },
   {
    "duration": 5,
    "start_time": "2024-02-06T09:00:01.601Z"
   },
   {
    "duration": 4,
    "start_time": "2024-02-06T09:00:02.190Z"
   },
   {
    "duration": 7,
    "start_time": "2024-02-06T09:00:02.446Z"
   },
   {
    "duration": 7,
    "start_time": "2024-02-06T09:00:02.674Z"
   },
   {
    "duration": 16,
    "start_time": "2024-02-06T09:00:02.958Z"
   },
   {
    "duration": 6,
    "start_time": "2024-02-06T09:00:03.956Z"
   },
   {
    "duration": 343,
    "start_time": "2024-02-06T09:00:04.131Z"
   },
   {
    "duration": 6,
    "start_time": "2024-02-06T09:00:04.553Z"
   },
   {
    "duration": 9,
    "start_time": "2024-02-06T09:00:04.981Z"
   },
   {
    "duration": 7,
    "start_time": "2024-02-06T09:00:05.190Z"
   },
   {
    "duration": 3,
    "start_time": "2024-02-06T09:00:05.624Z"
   },
   {
    "duration": 18,
    "start_time": "2024-02-06T09:00:05.861Z"
   },
   {
    "duration": 144,
    "start_time": "2024-02-06T09:00:06.085Z"
   },
   {
    "duration": 6,
    "start_time": "2024-02-06T09:00:07.311Z"
   },
   {
    "duration": 21,
    "start_time": "2024-02-06T09:00:07.687Z"
   },
   {
    "duration": 14,
    "start_time": "2024-02-06T09:00:07.978Z"
   },
   {
    "duration": 332,
    "start_time": "2024-02-06T09:00:08.297Z"
   },
   {
    "duration": 245,
    "start_time": "2024-02-06T09:00:10.171Z"
   },
   {
    "duration": 5,
    "start_time": "2024-02-06T09:00:11.549Z"
   },
   {
    "duration": 136,
    "start_time": "2024-02-06T09:00:12.317Z"
   },
   {
    "duration": 5,
    "start_time": "2024-02-06T09:00:12.663Z"
   },
   {
    "duration": 160,
    "start_time": "2024-02-06T09:00:13.323Z"
   },
   {
    "duration": 4,
    "start_time": "2024-02-06T09:00:13.655Z"
   },
   {
    "duration": 197,
    "start_time": "2024-02-06T09:00:14.645Z"
   },
   {
    "duration": 5,
    "start_time": "2024-02-06T09:00:14.973Z"
   },
   {
    "duration": 128,
    "start_time": "2024-02-06T09:00:15.332Z"
   },
   {
    "duration": 5,
    "start_time": "2024-02-06T09:00:15.647Z"
   },
   {
    "duration": 17,
    "start_time": "2024-02-06T09:00:17.262Z"
   },
   {
    "duration": 182,
    "start_time": "2024-02-06T09:00:17.971Z"
   },
   {
    "duration": 14,
    "start_time": "2024-02-06T09:00:19.165Z"
   },
   {
    "duration": 21,
    "start_time": "2024-02-06T09:00:22.279Z"
   },
   {
    "duration": 10,
    "start_time": "2024-02-06T09:00:23.567Z"
   },
   {
    "duration": 256,
    "start_time": "2024-02-06T09:00:24.025Z"
   },
   {
    "duration": 10,
    "start_time": "2024-02-06T09:00:24.605Z"
   },
   {
    "duration": 271,
    "start_time": "2024-02-06T09:00:25.637Z"
   },
   {
    "duration": 9,
    "start_time": "2024-02-06T09:00:26.138Z"
   },
   {
    "duration": 254,
    "start_time": "2024-02-06T09:00:28.755Z"
   },
   {
    "duration": 17,
    "start_time": "2024-02-06T09:00:30.875Z"
   },
   {
    "duration": 10,
    "start_time": "2024-02-06T09:00:31.635Z"
   },
   {
    "duration": 155,
    "start_time": "2024-02-06T09:00:32.261Z"
   },
   {
    "duration": 10,
    "start_time": "2024-02-06T09:00:32.857Z"
   },
   {
    "duration": 154,
    "start_time": "2024-02-06T09:00:33.461Z"
   },
   {
    "duration": 10,
    "start_time": "2024-02-06T09:00:34.029Z"
   },
   {
    "duration": 270,
    "start_time": "2024-02-06T09:00:34.547Z"
   },
   {
    "duration": 19,
    "start_time": "2024-02-06T09:00:36.641Z"
   },
   {
    "duration": 224,
    "start_time": "2024-02-06T09:00:37.237Z"
   },
   {
    "duration": 1082,
    "start_time": "2024-02-06T09:12:58.902Z"
   },
   {
    "duration": 98,
    "start_time": "2024-02-06T09:12:59.986Z"
   },
   {
    "duration": 19,
    "start_time": "2024-02-06T09:13:00.086Z"
   },
   {
    "duration": 69,
    "start_time": "2024-02-06T09:13:00.107Z"
   },
   {
    "duration": 201,
    "start_time": "2024-02-06T09:13:00.178Z"
   },
   {
    "duration": 106,
    "start_time": "2024-02-06T09:13:00.380Z"
   },
   {
    "duration": 144,
    "start_time": "2024-02-06T09:13:00.487Z"
   },
   {
    "duration": 99,
    "start_time": "2024-02-06T09:13:00.633Z"
   },
   {
    "duration": 67,
    "start_time": "2024-02-06T09:13:00.734Z"
   },
   {
    "duration": 74,
    "start_time": "2024-02-06T09:13:00.802Z"
   },
   {
    "duration": 66,
    "start_time": "2024-02-06T09:13:00.877Z"
   },
   {
    "duration": 50,
    "start_time": "2024-02-06T09:13:00.944Z"
   },
   {
    "duration": 52,
    "start_time": "2024-02-06T09:13:00.996Z"
   },
   {
    "duration": 70,
    "start_time": "2024-02-06T09:13:01.051Z"
   },
   {
    "duration": 70,
    "start_time": "2024-02-06T09:13:01.122Z"
   },
   {
    "duration": 57,
    "start_time": "2024-02-06T09:13:01.194Z"
   },
   {
    "duration": 48,
    "start_time": "2024-02-06T09:13:01.252Z"
   },
   {
    "duration": 52,
    "start_time": "2024-02-06T09:13:01.302Z"
   },
   {
    "duration": 47,
    "start_time": "2024-02-06T09:13:01.356Z"
   },
   {
    "duration": 29,
    "start_time": "2024-02-06T09:13:01.405Z"
   },
   {
    "duration": 77,
    "start_time": "2024-02-06T09:13:01.436Z"
   },
   {
    "duration": 38,
    "start_time": "2024-02-06T09:13:01.515Z"
   },
   {
    "duration": 383,
    "start_time": "2024-02-06T09:13:01.554Z"
   },
   {
    "duration": 6,
    "start_time": "2024-02-06T09:13:01.939Z"
   },
   {
    "duration": 90,
    "start_time": "2024-02-06T09:13:01.946Z"
   },
   {
    "duration": 78,
    "start_time": "2024-02-06T09:13:02.038Z"
   },
   {
    "duration": 62,
    "start_time": "2024-02-06T09:13:02.118Z"
   },
   {
    "duration": 42,
    "start_time": "2024-02-06T09:13:02.182Z"
   },
   {
    "duration": 198,
    "start_time": "2024-02-06T09:13:02.226Z"
   },
   {
    "duration": 8,
    "start_time": "2024-02-06T09:13:02.425Z"
   },
   {
    "duration": 72,
    "start_time": "2024-02-06T09:13:02.435Z"
   },
   {
    "duration": 40,
    "start_time": "2024-02-06T09:13:02.509Z"
   },
   {
    "duration": 341,
    "start_time": "2024-02-06T09:13:02.550Z"
   },
   {
    "duration": 252,
    "start_time": "2024-02-06T09:13:02.892Z"
   },
   {
    "duration": 5,
    "start_time": "2024-02-06T09:13:03.146Z"
   },
   {
    "duration": 161,
    "start_time": "2024-02-06T09:13:03.152Z"
   },
   {
    "duration": 6,
    "start_time": "2024-02-06T09:13:03.314Z"
   },
   {
    "duration": 318,
    "start_time": "2024-02-06T09:13:03.321Z"
   },
   {
    "duration": 6,
    "start_time": "2024-02-06T09:13:03.641Z"
   },
   {
    "duration": 156,
    "start_time": "2024-02-06T09:13:03.648Z"
   },
   {
    "duration": 5,
    "start_time": "2024-02-06T09:13:03.808Z"
   },
   {
    "duration": 168,
    "start_time": "2024-02-06T09:13:03.815Z"
   },
   {
    "duration": 6,
    "start_time": "2024-02-06T09:13:03.985Z"
   },
   {
    "duration": 30,
    "start_time": "2024-02-06T09:13:03.993Z"
   },
   {
    "duration": 209,
    "start_time": "2024-02-06T09:13:04.024Z"
   },
   {
    "duration": 14,
    "start_time": "2024-02-06T09:13:04.235Z"
   },
   {
    "duration": 208,
    "start_time": "2024-02-06T09:13:04.251Z"
   },
   {
    "duration": 28,
    "start_time": "2024-02-06T09:13:04.461Z"
   },
   {
    "duration": 299,
    "start_time": "2024-02-06T09:13:04.491Z"
   },
   {
    "duration": 10,
    "start_time": "2024-02-06T09:13:04.792Z"
   },
   {
    "duration": 352,
    "start_time": "2024-02-06T09:13:04.804Z"
   },
   {
    "duration": 16,
    "start_time": "2024-02-06T09:13:05.157Z"
   },
   {
    "duration": 251,
    "start_time": "2024-02-06T09:13:05.175Z"
   },
   {
    "duration": 18,
    "start_time": "2024-02-06T09:13:05.428Z"
   },
   {
    "duration": 22,
    "start_time": "2024-02-06T09:13:05.447Z"
   },
   {
    "duration": 170,
    "start_time": "2024-02-06T09:13:05.471Z"
   },
   {
    "duration": 9,
    "start_time": "2024-02-06T09:13:05.643Z"
   },
   {
    "duration": 266,
    "start_time": "2024-02-06T09:13:05.654Z"
   },
   {
    "duration": 12,
    "start_time": "2024-02-06T09:13:05.921Z"
   },
   {
    "duration": 179,
    "start_time": "2024-02-06T09:13:05.934Z"
   },
   {
    "duration": 16,
    "start_time": "2024-02-06T09:13:06.114Z"
   },
   {
    "duration": 242,
    "start_time": "2024-02-06T09:13:06.132Z"
   },
   {
    "duration": 1211,
    "start_time": "2024-02-06T09:14:38.771Z"
   },
   {
    "duration": 94,
    "start_time": "2024-02-06T09:14:39.984Z"
   },
   {
    "duration": 21,
    "start_time": "2024-02-06T09:14:40.080Z"
   },
   {
    "duration": 14,
    "start_time": "2024-02-06T09:14:40.893Z"
   },
   {
    "duration": 5,
    "start_time": "2024-02-06T09:14:42.378Z"
   },
   {
    "duration": 4,
    "start_time": "2024-02-06T09:14:42.812Z"
   },
   {
    "duration": 14,
    "start_time": "2024-02-06T09:14:43.267Z"
   },
   {
    "duration": 9,
    "start_time": "2024-02-06T09:14:44.037Z"
   },
   {
    "duration": 18,
    "start_time": "2024-02-06T09:14:44.475Z"
   },
   {
    "duration": 5,
    "start_time": "2024-02-06T09:14:44.917Z"
   },
   {
    "duration": 5,
    "start_time": "2024-02-06T09:14:45.391Z"
   },
   {
    "duration": 6,
    "start_time": "2024-02-06T09:14:45.797Z"
   },
   {
    "duration": 5,
    "start_time": "2024-02-06T09:14:46.217Z"
   },
   {
    "duration": 4,
    "start_time": "2024-02-06T09:14:46.595Z"
   },
   {
    "duration": 4,
    "start_time": "2024-02-06T09:14:47.074Z"
   },
   {
    "duration": 14,
    "start_time": "2024-02-06T09:14:47.479Z"
   },
   {
    "duration": 5,
    "start_time": "2024-02-06T09:14:47.897Z"
   },
   {
    "duration": 4,
    "start_time": "2024-02-06T09:14:48.765Z"
   },
   {
    "duration": 4,
    "start_time": "2024-02-06T09:14:49.175Z"
   },
   {
    "duration": 6,
    "start_time": "2024-02-06T09:14:49.633Z"
   },
   {
    "duration": 15,
    "start_time": "2024-02-06T09:14:50.256Z"
   },
   {
    "duration": 7,
    "start_time": "2024-02-06T09:14:52.148Z"
   },
   {
    "duration": 362,
    "start_time": "2024-02-06T09:14:52.586Z"
   },
   {
    "duration": 7,
    "start_time": "2024-02-06T09:14:53.658Z"
   },
   {
    "duration": 11,
    "start_time": "2024-02-06T09:14:54.528Z"
   },
   {
    "duration": 7,
    "start_time": "2024-02-06T09:14:55.496Z"
   },
   {
    "duration": 3,
    "start_time": "2024-02-06T09:14:56.132Z"
   },
   {
    "duration": 14,
    "start_time": "2024-02-06T09:14:56.614Z"
   },
   {
    "duration": 151,
    "start_time": "2024-02-06T09:15:00.713Z"
   },
   {
    "duration": 9,
    "start_time": "2024-02-06T09:15:04.243Z"
   },
   {
    "duration": 22,
    "start_time": "2024-02-06T09:15:05.223Z"
   },
   {
    "duration": 14,
    "start_time": "2024-02-06T09:15:11.239Z"
   },
   {
    "duration": 353,
    "start_time": "2024-02-06T09:15:12.162Z"
   },
   {
    "duration": 294,
    "start_time": "2024-02-06T09:15:16.662Z"
   },
   {
    "duration": 5,
    "start_time": "2024-02-06T09:15:18.730Z"
   },
   {
    "duration": 153,
    "start_time": "2024-02-06T09:15:19.996Z"
   },
   {
    "duration": 5,
    "start_time": "2024-02-06T09:15:20.734Z"
   },
   {
    "duration": 147,
    "start_time": "2024-02-06T09:15:21.846Z"
   },
   {
    "duration": 5,
    "start_time": "2024-02-06T09:15:22.556Z"
   },
   {
    "duration": 199,
    "start_time": "2024-02-06T09:15:24.260Z"
   },
   {
    "duration": 5,
    "start_time": "2024-02-06T09:15:25.034Z"
   },
   {
    "duration": 132,
    "start_time": "2024-02-06T09:15:25.692Z"
   },
   {
    "duration": 6,
    "start_time": "2024-02-06T09:15:26.392Z"
   },
   {
    "duration": 14,
    "start_time": "2024-02-06T09:15:28.897Z"
   },
   {
    "duration": 166,
    "start_time": "2024-02-06T09:15:30.112Z"
   },
   {
    "duration": 18,
    "start_time": "2024-02-06T09:15:32.108Z"
   },
   {
    "duration": 21,
    "start_time": "2024-02-06T09:15:35.083Z"
   },
   {
    "duration": 10,
    "start_time": "2024-02-06T09:15:35.820Z"
   },
   {
    "duration": 259,
    "start_time": "2024-02-06T09:15:36.422Z"
   },
   {
    "duration": 11,
    "start_time": "2024-02-06T09:15:37.164Z"
   },
   {
    "duration": 242,
    "start_time": "2024-02-06T09:15:38.119Z"
   },
   {
    "duration": 9,
    "start_time": "2024-02-06T09:15:38.940Z"
   },
   {
    "duration": 250,
    "start_time": "2024-02-06T09:15:39.850Z"
   },
   {
    "duration": 24,
    "start_time": "2024-02-06T09:15:42.694Z"
   },
   {
    "duration": 10,
    "start_time": "2024-02-06T09:15:43.274Z"
   },
   {
    "duration": 159,
    "start_time": "2024-02-06T09:15:43.848Z"
   },
   {
    "duration": 10,
    "start_time": "2024-02-06T09:15:44.680Z"
   },
   {
    "duration": 163,
    "start_time": "2024-02-06T09:15:45.491Z"
   },
   {
    "duration": 9,
    "start_time": "2024-02-06T09:15:46.281Z"
   },
   {
    "duration": 280,
    "start_time": "2024-02-06T09:15:46.887Z"
   },
   {
    "duration": 16,
    "start_time": "2024-02-06T09:15:49.563Z"
   },
   {
    "duration": 204,
    "start_time": "2024-02-06T09:15:50.117Z"
   },
   {
    "duration": 48,
    "start_time": "2024-02-06T09:16:19.574Z"
   },
   {
    "duration": 6,
    "start_time": "2024-02-06T09:16:39.144Z"
   },
   {
    "duration": 1057,
    "start_time": "2024-02-06T09:25:08.863Z"
   },
   {
    "duration": 6,
    "start_time": "2024-02-06T09:25:26.315Z"
   },
   {
    "duration": 1193,
    "start_time": "2024-02-06T09:25:45.367Z"
   },
   {
    "duration": 93,
    "start_time": "2024-02-06T09:25:46.563Z"
   },
   {
    "duration": 22,
    "start_time": "2024-02-06T09:25:46.658Z"
   },
   {
    "duration": 14,
    "start_time": "2024-02-06T09:25:46.682Z"
   },
   {
    "duration": 4,
    "start_time": "2024-02-06T09:25:46.699Z"
   },
   {
    "duration": 5,
    "start_time": "2024-02-06T09:25:46.704Z"
   },
   {
    "duration": 9,
    "start_time": "2024-02-06T09:25:46.711Z"
   },
   {
    "duration": 14,
    "start_time": "2024-02-06T09:25:46.722Z"
   },
   {
    "duration": 37,
    "start_time": "2024-02-06T09:25:46.738Z"
   },
   {
    "duration": 6,
    "start_time": "2024-02-06T09:25:46.776Z"
   },
   {
    "duration": 8,
    "start_time": "2024-02-06T09:25:46.784Z"
   },
   {
    "duration": 9,
    "start_time": "2024-02-06T09:25:46.794Z"
   },
   {
    "duration": 7,
    "start_time": "2024-02-06T09:25:46.804Z"
   },
   {
    "duration": 4,
    "start_time": "2024-02-06T09:25:46.814Z"
   },
   {
    "duration": 5,
    "start_time": "2024-02-06T09:25:46.819Z"
   },
   {
    "duration": 47,
    "start_time": "2024-02-06T09:25:46.825Z"
   },
   {
    "duration": 8,
    "start_time": "2024-02-06T09:25:46.873Z"
   },
   {
    "duration": 28,
    "start_time": "2024-02-06T09:25:46.882Z"
   },
   {
    "duration": 7,
    "start_time": "2024-02-06T09:25:46.912Z"
   },
   {
    "duration": 10,
    "start_time": "2024-02-06T09:25:46.920Z"
   },
   {
    "duration": 20,
    "start_time": "2024-02-06T09:25:46.931Z"
   },
   {
    "duration": 13,
    "start_time": "2024-02-06T09:25:46.952Z"
   },
   {
    "duration": 359,
    "start_time": "2024-02-06T09:25:46.966Z"
   },
   {
    "duration": 6,
    "start_time": "2024-02-06T09:25:47.327Z"
   },
   {
    "duration": 35,
    "start_time": "2024-02-06T09:25:47.335Z"
   },
   {
    "duration": 6,
    "start_time": "2024-02-06T09:25:47.372Z"
   },
   {
    "duration": 13,
    "start_time": "2024-02-06T09:25:47.379Z"
   },
   {
    "duration": 18,
    "start_time": "2024-02-06T09:25:47.393Z"
   },
   {
    "duration": 146,
    "start_time": "2024-02-06T09:25:47.412Z"
   },
   {
    "duration": 11,
    "start_time": "2024-02-06T09:25:47.559Z"
   },
   {
    "duration": 49,
    "start_time": "2024-02-06T09:25:47.571Z"
   },
   {
    "duration": 13,
    "start_time": "2024-02-06T09:25:47.621Z"
   },
   {
    "duration": 304,
    "start_time": "2024-02-06T09:25:47.635Z"
   },
   {
    "duration": 263,
    "start_time": "2024-02-06T09:25:47.941Z"
   },
   {
    "duration": 5,
    "start_time": "2024-02-06T09:25:48.205Z"
   },
   {
    "duration": 155,
    "start_time": "2024-02-06T09:25:48.212Z"
   },
   {
    "duration": 5,
    "start_time": "2024-02-06T09:25:48.369Z"
   },
   {
    "duration": 218,
    "start_time": "2024-02-06T09:25:48.376Z"
   },
   {
    "duration": 6,
    "start_time": "2024-02-06T09:25:48.595Z"
   },
   {
    "duration": 147,
    "start_time": "2024-02-06T09:25:48.602Z"
   },
   {
    "duration": 13,
    "start_time": "2024-02-06T09:25:48.754Z"
   },
   {
    "duration": 140,
    "start_time": "2024-02-06T09:25:48.770Z"
   },
   {
    "duration": 6,
    "start_time": "2024-02-06T09:25:48.912Z"
   },
   {
    "duration": 48,
    "start_time": "2024-02-06T09:25:48.919Z"
   },
   {
    "duration": 183,
    "start_time": "2024-02-06T09:25:48.969Z"
   },
   {
    "duration": 21,
    "start_time": "2024-02-06T09:25:49.155Z"
   },
   {
    "duration": 24,
    "start_time": "2024-02-06T09:25:49.178Z"
   },
   {
    "duration": 9,
    "start_time": "2024-02-06T09:25:49.204Z"
   },
   {
    "duration": 269,
    "start_time": "2024-02-06T09:25:49.215Z"
   },
   {
    "duration": 13,
    "start_time": "2024-02-06T09:25:49.486Z"
   },
   {
    "duration": 272,
    "start_time": "2024-02-06T09:25:49.502Z"
   },
   {
    "duration": 10,
    "start_time": "2024-02-06T09:25:49.775Z"
   },
   {
    "duration": 270,
    "start_time": "2024-02-06T09:25:49.786Z"
   },
   {
    "duration": 22,
    "start_time": "2024-02-06T09:25:50.058Z"
   },
   {
    "duration": 12,
    "start_time": "2024-02-06T09:25:50.082Z"
   },
   {
    "duration": 163,
    "start_time": "2024-02-06T09:25:50.096Z"
   },
   {
    "duration": 13,
    "start_time": "2024-02-06T09:25:50.261Z"
   },
   {
    "duration": 266,
    "start_time": "2024-02-06T09:25:50.276Z"
   },
   {
    "duration": 10,
    "start_time": "2024-02-06T09:25:50.544Z"
   },
   {
    "duration": 229,
    "start_time": "2024-02-06T09:25:50.566Z"
   },
   {
    "duration": 17,
    "start_time": "2024-02-06T09:25:50.796Z"
   },
   {
    "duration": 236,
    "start_time": "2024-02-06T09:25:50.814Z"
   },
   {
    "duration": 101,
    "start_time": "2024-02-06T09:25:51.051Z"
   },
   {
    "duration": 0,
    "start_time": "2024-02-06T09:25:51.154Z"
   },
   {
    "duration": 0,
    "start_time": "2024-02-06T09:25:51.155Z"
   },
   {
    "duration": 0,
    "start_time": "2024-02-06T09:25:51.156Z"
   },
   {
    "duration": 0,
    "start_time": "2024-02-06T09:25:51.157Z"
   },
   {
    "duration": 0,
    "start_time": "2024-02-06T09:25:51.157Z"
   },
   {
    "duration": 0,
    "start_time": "2024-02-06T09:25:51.159Z"
   },
   {
    "duration": 0,
    "start_time": "2024-02-06T09:25:51.160Z"
   },
   {
    "duration": 5,
    "start_time": "2024-02-06T09:26:30.306Z"
   },
   {
    "duration": 80,
    "start_time": "2024-02-06T09:26:37.606Z"
   },
   {
    "duration": 111,
    "start_time": "2024-02-06T09:26:44.762Z"
   },
   {
    "duration": 5,
    "start_time": "2024-02-06T09:26:58.150Z"
   },
   {
    "duration": 92,
    "start_time": "2024-02-06T09:26:59.124Z"
   },
   {
    "duration": 126,
    "start_time": "2024-02-06T09:27:52.728Z"
   },
   {
    "duration": 93,
    "start_time": "2024-02-06T09:28:00.194Z"
   },
   {
    "duration": 5,
    "start_time": "2024-02-06T09:28:25.938Z"
   },
   {
    "duration": 5,
    "start_time": "2024-02-06T09:28:27.858Z"
   },
   {
    "duration": 15,
    "start_time": "2024-02-06T09:28:29.075Z"
   },
   {
    "duration": 5,
    "start_time": "2024-02-06T09:29:22.695Z"
   },
   {
    "duration": 5,
    "start_time": "2024-02-06T09:29:23.291Z"
   },
   {
    "duration": 14,
    "start_time": "2024-02-06T09:29:24.113Z"
   },
   {
    "duration": 5,
    "start_time": "2024-02-06T09:30:12.189Z"
   },
   {
    "duration": 1096,
    "start_time": "2024-02-06T09:30:16.588Z"
   },
   {
    "duration": 0,
    "start_time": "2024-02-06T09:30:17.685Z"
   },
   {
    "duration": 4,
    "start_time": "2024-02-06T09:30:42.011Z"
   },
   {
    "duration": 970,
    "start_time": "2024-02-06T09:30:43.025Z"
   },
   {
    "duration": 3,
    "start_time": "2024-02-06T09:30:48.207Z"
   },
   {
    "duration": 1133,
    "start_time": "2024-02-06T09:31:44.602Z"
   },
   {
    "duration": 5,
    "start_time": "2024-02-06T09:32:04.510Z"
   },
   {
    "duration": 5,
    "start_time": "2024-02-06T09:32:51.734Z"
   },
   {
    "duration": 4,
    "start_time": "2024-02-06T09:32:52.184Z"
   },
   {
    "duration": 4,
    "start_time": "2024-02-06T09:32:53.034Z"
   },
   {
    "duration": 8,
    "start_time": "2024-02-06T09:34:37.426Z"
   },
   {
    "duration": 17,
    "start_time": "2024-02-06T09:34:42.016Z"
   },
   {
    "duration": 10,
    "start_time": "2024-02-06T09:35:59.195Z"
   },
   {
    "duration": 5,
    "start_time": "2024-02-06T09:36:04.742Z"
   },
   {
    "duration": 14,
    "start_time": "2024-02-06T09:36:29.608Z"
   },
   {
    "duration": 9,
    "start_time": "2024-02-06T09:37:00.385Z"
   },
   {
    "duration": 3,
    "start_time": "2024-02-06T09:37:22.066Z"
   },
   {
    "duration": 16,
    "start_time": "2024-02-06T09:38:14.105Z"
   },
   {
    "duration": 5,
    "start_time": "2024-02-06T09:40:40.733Z"
   },
   {
    "duration": 6,
    "start_time": "2024-02-06T09:40:54.696Z"
   },
   {
    "duration": 14,
    "start_time": "2024-02-06T09:40:56.307Z"
   },
   {
    "duration": 10,
    "start_time": "2024-02-06T09:41:07.428Z"
   },
   {
    "duration": 7,
    "start_time": "2024-02-06T09:41:09.095Z"
   },
   {
    "duration": 4,
    "start_time": "2024-02-06T09:41:32.439Z"
   },
   {
    "duration": 4,
    "start_time": "2024-02-06T09:41:34.863Z"
   },
   {
    "duration": 14,
    "start_time": "2024-02-06T09:41:56.541Z"
   },
   {
    "duration": 9,
    "start_time": "2024-02-06T09:42:05.880Z"
   },
   {
    "duration": 16,
    "start_time": "2024-02-06T09:42:06.624Z"
   },
   {
    "duration": 4,
    "start_time": "2024-02-06T09:42:12.836Z"
   },
   {
    "duration": 4,
    "start_time": "2024-02-06T09:42:13.228Z"
   },
   {
    "duration": 4,
    "start_time": "2024-02-06T09:44:07.898Z"
   },
   {
    "duration": 5,
    "start_time": "2024-02-06T09:44:10.135Z"
   },
   {
    "duration": 4,
    "start_time": "2024-02-06T09:44:24.688Z"
   },
   {
    "duration": 17,
    "start_time": "2024-02-06T09:44:39.074Z"
   },
   {
    "duration": 4,
    "start_time": "2024-02-06T09:46:41.188Z"
   },
   {
    "duration": 4,
    "start_time": "2024-02-06T09:47:03.862Z"
   },
   {
    "duration": 15,
    "start_time": "2024-02-06T09:47:21.585Z"
   },
   {
    "duration": 15,
    "start_time": "2024-02-06T09:47:24.603Z"
   },
   {
    "duration": 82,
    "start_time": "2024-02-06T09:48:39.213Z"
   },
   {
    "duration": 65,
    "start_time": "2024-02-06T09:48:55.539Z"
   },
   {
    "duration": 74,
    "start_time": "2024-02-06T09:49:01.491Z"
   },
   {
    "duration": 5,
    "start_time": "2024-02-06T09:49:16.890Z"
   },
   {
    "duration": 5,
    "start_time": "2024-02-06T09:49:27.586Z"
   },
   {
    "duration": 14,
    "start_time": "2024-02-06T09:49:40.970Z"
   },
   {
    "duration": 85,
    "start_time": "2024-02-06T10:10:49.061Z"
   },
   {
    "duration": 3,
    "start_time": "2024-02-06T10:10:53.039Z"
   },
   {
    "duration": 4,
    "start_time": "2024-02-06T10:11:27.460Z"
   },
   {
    "duration": 6,
    "start_time": "2024-02-06T10:11:29.479Z"
   },
   {
    "duration": 5,
    "start_time": "2024-02-06T10:11:55.708Z"
   },
   {
    "duration": 4,
    "start_time": "2024-02-06T10:11:56.598Z"
   },
   {
    "duration": 14,
    "start_time": "2024-02-06T10:11:57.628Z"
   },
   {
    "duration": 13,
    "start_time": "2024-02-06T10:12:11.378Z"
   },
   {
    "duration": 4,
    "start_time": "2024-02-06T10:12:18.530Z"
   },
   {
    "duration": 4,
    "start_time": "2024-02-06T10:12:19.450Z"
   },
   {
    "duration": 6,
    "start_time": "2024-02-06T10:12:22.757Z"
   },
   {
    "duration": 14,
    "start_time": "2024-02-06T10:12:23.939Z"
   },
   {
    "duration": 7,
    "start_time": "2024-02-06T10:13:40.038Z"
   },
   {
    "duration": 13,
    "start_time": "2024-02-06T10:13:41.005Z"
   },
   {
    "duration": 21,
    "start_time": "2024-02-06T10:20:52.497Z"
   },
   {
    "duration": 14,
    "start_time": "2024-02-06T10:22:59.152Z"
   },
   {
    "duration": 9,
    "start_time": "2024-02-06T10:23:16.335Z"
   },
   {
    "duration": 9,
    "start_time": "2024-02-06T10:23:22.925Z"
   },
   {
    "duration": 9,
    "start_time": "2024-02-06T10:23:34.191Z"
   },
   {
    "duration": 9,
    "start_time": "2024-02-06T10:23:38.913Z"
   },
   {
    "duration": 5,
    "start_time": "2024-02-06T10:23:46.243Z"
   },
   {
    "duration": 4,
    "start_time": "2024-02-06T10:23:47.024Z"
   },
   {
    "duration": 14,
    "start_time": "2024-02-06T10:23:47.961Z"
   },
   {
    "duration": 20,
    "start_time": "2024-02-06T10:24:07.109Z"
   },
   {
    "duration": 3,
    "start_time": "2024-02-06T10:24:29.519Z"
   },
   {
    "duration": 1243,
    "start_time": "2024-02-06T10:24:44.452Z"
   },
   {
    "duration": 58,
    "start_time": "2024-02-06T10:24:45.697Z"
   },
   {
    "duration": 19,
    "start_time": "2024-02-06T10:24:45.756Z"
   },
   {
    "duration": 57,
    "start_time": "2024-02-06T10:24:45.776Z"
   },
   {
    "duration": 16,
    "start_time": "2024-02-06T10:24:45.836Z"
   },
   {
    "duration": 9,
    "start_time": "2024-02-06T10:24:45.854Z"
   },
   {
    "duration": 29,
    "start_time": "2024-02-06T10:24:45.865Z"
   },
   {
    "duration": 41,
    "start_time": "2024-02-06T10:24:45.897Z"
   },
   {
    "duration": 36,
    "start_time": "2024-02-06T10:24:45.940Z"
   },
   {
    "duration": 8,
    "start_time": "2024-02-06T10:24:45.978Z"
   },
   {
    "duration": 32,
    "start_time": "2024-02-06T10:24:45.988Z"
   },
   {
    "duration": 24,
    "start_time": "2024-02-06T10:24:46.022Z"
   },
   {
    "duration": 7,
    "start_time": "2024-02-06T10:24:46.047Z"
   },
   {
    "duration": 18,
    "start_time": "2024-02-06T10:24:46.057Z"
   },
   {
    "duration": 34,
    "start_time": "2024-02-06T10:24:46.076Z"
   },
   {
    "duration": 22,
    "start_time": "2024-02-06T10:24:46.112Z"
   },
   {
    "duration": 26,
    "start_time": "2024-02-06T10:24:46.136Z"
   },
   {
    "duration": 52,
    "start_time": "2024-02-06T10:24:46.164Z"
   },
   {
    "duration": 20,
    "start_time": "2024-02-06T10:24:46.217Z"
   },
   {
    "duration": 36,
    "start_time": "2024-02-06T10:24:46.239Z"
   },
   {
    "duration": 37,
    "start_time": "2024-02-06T10:24:46.277Z"
   },
   {
    "duration": 16,
    "start_time": "2024-02-06T10:24:46.316Z"
   },
   {
    "duration": 373,
    "start_time": "2024-02-06T10:24:46.334Z"
   },
   {
    "duration": 6,
    "start_time": "2024-02-06T10:24:46.709Z"
   },
   {
    "duration": 17,
    "start_time": "2024-02-06T10:24:46.717Z"
   },
   {
    "duration": 17,
    "start_time": "2024-02-06T10:24:46.736Z"
   },
   {
    "duration": 15,
    "start_time": "2024-02-06T10:24:46.766Z"
   },
   {
    "duration": 30,
    "start_time": "2024-02-06T10:24:46.782Z"
   },
   {
    "duration": 159,
    "start_time": "2024-02-06T10:24:46.814Z"
   },
   {
    "duration": 8,
    "start_time": "2024-02-06T10:24:46.975Z"
   },
   {
    "duration": 27,
    "start_time": "2024-02-06T10:24:46.984Z"
   },
   {
    "duration": 17,
    "start_time": "2024-02-06T10:24:47.013Z"
   },
   {
    "duration": 314,
    "start_time": "2024-02-06T10:24:47.031Z"
   },
   {
    "duration": 267,
    "start_time": "2024-02-06T10:24:47.346Z"
   },
   {
    "duration": 5,
    "start_time": "2024-02-06T10:24:47.615Z"
   },
   {
    "duration": 155,
    "start_time": "2024-02-06T10:24:47.622Z"
   },
   {
    "duration": 6,
    "start_time": "2024-02-06T10:24:47.779Z"
   },
   {
    "duration": 230,
    "start_time": "2024-02-06T10:24:47.787Z"
   },
   {
    "duration": 5,
    "start_time": "2024-02-06T10:24:48.018Z"
   },
   {
    "duration": 146,
    "start_time": "2024-02-06T10:24:48.025Z"
   },
   {
    "duration": 6,
    "start_time": "2024-02-06T10:24:48.177Z"
   },
   {
    "duration": 167,
    "start_time": "2024-02-06T10:24:48.185Z"
   },
   {
    "duration": 12,
    "start_time": "2024-02-06T10:24:48.354Z"
   },
   {
    "duration": 18,
    "start_time": "2024-02-06T10:24:48.367Z"
   },
   {
    "duration": 181,
    "start_time": "2024-02-06T10:24:48.387Z"
   },
   {
    "duration": 15,
    "start_time": "2024-02-06T10:24:48.570Z"
   },
   {
    "duration": 22,
    "start_time": "2024-02-06T10:24:48.586Z"
   },
   {
    "duration": 9,
    "start_time": "2024-02-06T10:24:48.610Z"
   },
   {
    "duration": 297,
    "start_time": "2024-02-06T10:24:48.620Z"
   },
   {
    "duration": 10,
    "start_time": "2024-02-06T10:24:48.918Z"
   },
   {
    "duration": 261,
    "start_time": "2024-02-06T10:24:48.929Z"
   },
   {
    "duration": 10,
    "start_time": "2024-02-06T10:24:49.191Z"
   },
   {
    "duration": 265,
    "start_time": "2024-02-06T10:24:49.202Z"
   },
   {
    "duration": 25,
    "start_time": "2024-02-06T10:24:49.469Z"
   },
   {
    "duration": 10,
    "start_time": "2024-02-06T10:24:49.495Z"
   },
   {
    "duration": 182,
    "start_time": "2024-02-06T10:24:49.506Z"
   },
   {
    "duration": 10,
    "start_time": "2024-02-06T10:24:49.690Z"
   },
   {
    "duration": 249,
    "start_time": "2024-02-06T10:24:49.702Z"
   },
   {
    "duration": 13,
    "start_time": "2024-02-06T10:24:49.953Z"
   },
   {
    "duration": 166,
    "start_time": "2024-02-06T10:24:49.968Z"
   },
   {
    "duration": 16,
    "start_time": "2024-02-06T10:24:50.136Z"
   },
   {
    "duration": 211,
    "start_time": "2024-02-06T10:24:50.154Z"
   },
   {
    "duration": 4,
    "start_time": "2024-02-06T10:24:50.367Z"
   },
   {
    "duration": 10,
    "start_time": "2024-02-06T10:24:50.372Z"
   },
   {
    "duration": 104,
    "start_time": "2024-02-06T10:24:50.384Z"
   },
   {
    "duration": 0,
    "start_time": "2024-02-06T10:24:50.490Z"
   },
   {
    "duration": 0,
    "start_time": "2024-02-06T10:24:50.490Z"
   },
   {
    "duration": 1,
    "start_time": "2024-02-06T10:24:50.491Z"
   },
   {
    "duration": 0,
    "start_time": "2024-02-06T10:24:50.493Z"
   },
   {
    "duration": 0,
    "start_time": "2024-02-06T10:24:50.493Z"
   },
   {
    "duration": 0,
    "start_time": "2024-02-06T10:24:50.495Z"
   },
   {
    "duration": 13,
    "start_time": "2024-02-06T10:25:04.552Z"
   },
   {
    "duration": 10,
    "start_time": "2024-02-06T10:33:09.684Z"
   },
   {
    "duration": 8,
    "start_time": "2024-02-06T10:33:23.437Z"
   },
   {
    "duration": 6,
    "start_time": "2024-02-06T10:33:46.405Z"
   },
   {
    "duration": 7,
    "start_time": "2024-02-06T10:33:47.207Z"
   },
   {
    "duration": 5,
    "start_time": "2024-02-06T10:34:17.784Z"
   },
   {
    "duration": 12,
    "start_time": "2024-02-06T10:34:28.560Z"
   },
   {
    "duration": 1017,
    "start_time": "2024-02-06T10:35:43.965Z"
   },
   {
    "duration": 3,
    "start_time": "2024-02-06T10:41:30.481Z"
   },
   {
    "duration": 6,
    "start_time": "2024-02-06T10:41:51.441Z"
   },
   {
    "duration": 13,
    "start_time": "2024-02-06T10:42:14.250Z"
   },
   {
    "duration": 7,
    "start_time": "2024-02-06T10:43:59.276Z"
   },
   {
    "duration": 5,
    "start_time": "2024-02-06T10:44:00.966Z"
   },
   {
    "duration": 8,
    "start_time": "2024-02-06T10:44:24.018Z"
   },
   {
    "duration": 7,
    "start_time": "2024-02-06T10:44:24.698Z"
   },
   {
    "duration": 4,
    "start_time": "2024-02-06T10:44:48.908Z"
   },
   {
    "duration": 4,
    "start_time": "2024-02-06T10:44:49.300Z"
   },
   {
    "duration": 9,
    "start_time": "2024-02-06T10:46:40.587Z"
   },
   {
    "duration": 4,
    "start_time": "2024-02-06T10:46:42.081Z"
   },
   {
    "duration": 4,
    "start_time": "2024-02-06T10:47:24.252Z"
   },
   {
    "duration": 1131,
    "start_time": "2024-02-06T10:47:41.456Z"
   },
   {
    "duration": 0,
    "start_time": "2024-02-06T10:47:42.589Z"
   },
   {
    "duration": 1490,
    "start_time": "2024-02-06T10:48:13.755Z"
   },
   {
    "duration": 1224,
    "start_time": "2024-02-06T10:48:45.275Z"
   },
   {
    "duration": 4,
    "start_time": "2024-02-06T10:48:48.001Z"
   },
   {
    "duration": 4,
    "start_time": "2024-02-06T10:48:53.551Z"
   },
   {
    "duration": 9,
    "start_time": "2024-02-06T10:49:12.174Z"
   },
   {
    "duration": 5,
    "start_time": "2024-02-06T10:49:16.950Z"
   },
   {
    "duration": 7,
    "start_time": "2024-02-06T10:49:32.824Z"
   },
   {
    "duration": 5,
    "start_time": "2024-02-06T10:49:34.106Z"
   },
   {
    "duration": 5,
    "start_time": "2024-02-06T10:49:44.818Z"
   },
   {
    "duration": 10,
    "start_time": "2024-02-06T10:53:41.170Z"
   },
   {
    "duration": 9,
    "start_time": "2024-02-06T10:53:53.538Z"
   },
   {
    "duration": 8,
    "start_time": "2024-02-06T10:54:02.392Z"
   },
   {
    "duration": 4,
    "start_time": "2024-02-06T10:54:04.056Z"
   },
   {
    "duration": 5,
    "start_time": "2024-02-06T10:55:03.207Z"
   },
   {
    "duration": 6,
    "start_time": "2024-02-06T10:55:04.423Z"
   },
   {
    "duration": 8,
    "start_time": "2024-02-06T10:55:20.808Z"
   },
   {
    "duration": 3,
    "start_time": "2024-02-06T10:55:26.028Z"
   },
   {
    "duration": 5,
    "start_time": "2024-02-06T10:55:28.978Z"
   },
   {
    "duration": 8,
    "start_time": "2024-02-06T10:55:53.600Z"
   },
   {
    "duration": 22,
    "start_time": "2024-02-06T10:55:55.016Z"
   },
   {
    "duration": 14,
    "start_time": "2024-02-06T10:56:01.121Z"
   },
   {
    "duration": 9,
    "start_time": "2024-02-06T10:56:16.259Z"
   },
   {
    "duration": 6,
    "start_time": "2024-02-06T10:56:17.080Z"
   },
   {
    "duration": 5,
    "start_time": "2024-02-06T10:56:56.240Z"
   },
   {
    "duration": 8,
    "start_time": "2024-02-06T10:57:08.932Z"
   },
   {
    "duration": 5,
    "start_time": "2024-02-06T10:57:09.946Z"
   },
   {
    "duration": 7,
    "start_time": "2024-02-06T10:58:52.522Z"
   },
   {
    "duration": 5,
    "start_time": "2024-02-06T10:58:53.239Z"
   },
   {
    "duration": 5,
    "start_time": "2024-02-06T11:02:03.728Z"
   },
   {
    "duration": 4,
    "start_time": "2024-02-06T11:02:04.999Z"
   },
   {
    "duration": 881,
    "start_time": "2024-02-06T11:02:18.869Z"
   },
   {
    "duration": 4,
    "start_time": "2024-02-06T11:02:30.513Z"
   },
   {
    "duration": 833,
    "start_time": "2024-02-06T11:02:31.914Z"
   },
   {
    "duration": 3,
    "start_time": "2024-02-06T11:02:37.654Z"
   },
   {
    "duration": 4,
    "start_time": "2024-02-06T11:03:11.611Z"
   },
   {
    "duration": 4,
    "start_time": "2024-02-06T11:03:13.252Z"
   },
   {
    "duration": 3,
    "start_time": "2024-02-06T11:03:13.900Z"
   },
   {
    "duration": 5,
    "start_time": "2024-02-06T11:03:29.390Z"
   },
   {
    "duration": 4,
    "start_time": "2024-02-06T11:03:30.191Z"
   },
   {
    "duration": 5,
    "start_time": "2024-02-06T11:03:41.147Z"
   },
   {
    "duration": 5,
    "start_time": "2024-02-06T11:03:41.857Z"
   },
   {
    "duration": 4,
    "start_time": "2024-02-06T11:03:43.943Z"
   },
   {
    "duration": 4,
    "start_time": "2024-02-06T11:03:44.604Z"
   },
   {
    "duration": 860,
    "start_time": "2024-02-06T11:03:56.607Z"
   },
   {
    "duration": 3,
    "start_time": "2024-02-06T11:04:07.419Z"
   },
   {
    "duration": 87,
    "start_time": "2024-02-06T11:04:18.184Z"
   },
   {
    "duration": 95,
    "start_time": "2024-02-06T11:04:28.723Z"
   },
   {
    "duration": 4,
    "start_time": "2024-02-06T11:04:35.828Z"
   },
   {
    "duration": 4,
    "start_time": "2024-02-06T11:04:51.934Z"
   },
   {
    "duration": 8,
    "start_time": "2024-02-06T11:05:11.255Z"
   },
   {
    "duration": 5,
    "start_time": "2024-02-06T11:05:12.355Z"
   },
   {
    "duration": 5,
    "start_time": "2024-02-06T11:05:38.728Z"
   },
   {
    "duration": 12,
    "start_time": "2024-02-06T11:05:44.143Z"
   },
   {
    "duration": 5,
    "start_time": "2024-02-06T11:05:54.255Z"
   },
   {
    "duration": 5,
    "start_time": "2024-02-06T11:07:21.724Z"
   },
   {
    "duration": 13,
    "start_time": "2024-02-06T11:07:34.174Z"
   },
   {
    "duration": 9,
    "start_time": "2024-02-06T11:07:43.875Z"
   },
   {
    "duration": 11,
    "start_time": "2024-02-06T11:07:45.059Z"
   },
   {
    "duration": 5,
    "start_time": "2024-02-06T11:07:50.872Z"
   },
   {
    "duration": 5,
    "start_time": "2024-02-06T11:08:02.471Z"
   },
   {
    "duration": 5,
    "start_time": "2024-02-06T11:08:10.423Z"
   },
   {
    "duration": 5,
    "start_time": "2024-02-06T11:09:12.918Z"
   },
   {
    "duration": 5,
    "start_time": "2024-02-06T11:09:13.893Z"
   },
   {
    "duration": 5,
    "start_time": "2024-02-06T11:09:39.650Z"
   },
   {
    "duration": 5,
    "start_time": "2024-02-06T11:09:51.823Z"
   },
   {
    "duration": 879,
    "start_time": "2024-02-06T11:10:07.610Z"
   },
   {
    "duration": 4,
    "start_time": "2024-02-06T11:10:20.064Z"
   },
   {
    "duration": 843,
    "start_time": "2024-02-06T11:10:21.832Z"
   },
   {
    "duration": 4,
    "start_time": "2024-02-06T11:10:29.496Z"
   },
   {
    "duration": 83,
    "start_time": "2024-02-06T11:14:17.922Z"
   },
   {
    "duration": 85,
    "start_time": "2024-02-06T11:14:24.345Z"
   },
   {
    "duration": 87,
    "start_time": "2024-02-06T11:14:29.442Z"
   },
   {
    "duration": 112,
    "start_time": "2024-02-06T11:15:08.021Z"
   },
   {
    "duration": 89,
    "start_time": "2024-02-06T11:15:27.261Z"
   },
   {
    "duration": 1182,
    "start_time": "2024-02-06T11:46:41.793Z"
   },
   {
    "duration": 56,
    "start_time": "2024-02-06T11:46:42.977Z"
   },
   {
    "duration": 20,
    "start_time": "2024-02-06T11:46:43.034Z"
   },
   {
    "duration": 14,
    "start_time": "2024-02-06T11:46:43.056Z"
   },
   {
    "duration": 4,
    "start_time": "2024-02-06T11:46:43.072Z"
   },
   {
    "duration": 4,
    "start_time": "2024-02-06T11:46:43.078Z"
   },
   {
    "duration": 10,
    "start_time": "2024-02-06T11:46:43.083Z"
   },
   {
    "duration": 8,
    "start_time": "2024-02-06T11:46:43.095Z"
   },
   {
    "duration": 16,
    "start_time": "2024-02-06T11:46:43.105Z"
   },
   {
    "duration": 4,
    "start_time": "2024-02-06T11:46:43.123Z"
   },
   {
    "duration": 42,
    "start_time": "2024-02-06T11:46:43.129Z"
   },
   {
    "duration": 9,
    "start_time": "2024-02-06T11:46:43.173Z"
   },
   {
    "duration": 4,
    "start_time": "2024-02-06T11:46:43.184Z"
   },
   {
    "duration": 10,
    "start_time": "2024-02-06T11:46:43.191Z"
   },
   {
    "duration": 4,
    "start_time": "2024-02-06T11:46:43.202Z"
   },
   {
    "duration": 13,
    "start_time": "2024-02-06T11:46:43.208Z"
   },
   {
    "duration": 5,
    "start_time": "2024-02-06T11:46:43.222Z"
   },
   {
    "duration": 5,
    "start_time": "2024-02-06T11:46:43.228Z"
   },
   {
    "duration": 12,
    "start_time": "2024-02-06T11:46:43.234Z"
   },
   {
    "duration": 5,
    "start_time": "2024-02-06T11:46:43.266Z"
   },
   {
    "duration": 16,
    "start_time": "2024-02-06T11:46:43.273Z"
   },
   {
    "duration": 11,
    "start_time": "2024-02-06T11:46:43.291Z"
   },
   {
    "duration": 377,
    "start_time": "2024-02-06T11:46:43.303Z"
   },
   {
    "duration": 6,
    "start_time": "2024-02-06T11:46:43.682Z"
   },
   {
    "duration": 10,
    "start_time": "2024-02-06T11:46:43.689Z"
   },
   {
    "duration": 31,
    "start_time": "2024-02-06T11:46:43.701Z"
   },
   {
    "duration": 10,
    "start_time": "2024-02-06T11:46:43.733Z"
   },
   {
    "duration": 25,
    "start_time": "2024-02-06T11:46:43.744Z"
   },
   {
    "duration": 150,
    "start_time": "2024-02-06T11:46:43.770Z"
   },
   {
    "duration": 7,
    "start_time": "2024-02-06T11:46:43.921Z"
   },
   {
    "duration": 29,
    "start_time": "2024-02-06T11:46:43.930Z"
   },
   {
    "duration": 14,
    "start_time": "2024-02-06T11:46:43.966Z"
   },
   {
    "duration": 302,
    "start_time": "2024-02-06T11:46:43.981Z"
   },
   {
    "duration": 254,
    "start_time": "2024-02-06T11:46:44.285Z"
   },
   {
    "duration": 5,
    "start_time": "2024-02-06T11:46:44.540Z"
   },
   {
    "duration": 167,
    "start_time": "2024-02-06T11:46:44.547Z"
   },
   {
    "duration": 6,
    "start_time": "2024-02-06T11:46:44.715Z"
   },
   {
    "duration": 233,
    "start_time": "2024-02-06T11:46:44.722Z"
   },
   {
    "duration": 9,
    "start_time": "2024-02-06T11:46:44.957Z"
   },
   {
    "duration": 148,
    "start_time": "2024-02-06T11:46:44.968Z"
   },
   {
    "duration": 4,
    "start_time": "2024-02-06T11:46:45.121Z"
   },
   {
    "duration": 152,
    "start_time": "2024-02-06T11:46:45.127Z"
   },
   {
    "duration": 5,
    "start_time": "2024-02-06T11:46:45.280Z"
   },
   {
    "duration": 34,
    "start_time": "2024-02-06T11:46:45.287Z"
   },
   {
    "duration": 186,
    "start_time": "2024-02-06T11:46:45.322Z"
   },
   {
    "duration": 14,
    "start_time": "2024-02-06T11:46:45.510Z"
   },
   {
    "duration": 21,
    "start_time": "2024-02-06T11:46:45.526Z"
   },
   {
    "duration": 10,
    "start_time": "2024-02-06T11:46:45.566Z"
   },
   {
    "duration": 266,
    "start_time": "2024-02-06T11:46:45.577Z"
   },
   {
    "duration": 10,
    "start_time": "2024-02-06T11:46:45.845Z"
   },
   {
    "duration": 302,
    "start_time": "2024-02-06T11:46:45.856Z"
   },
   {
    "duration": 17,
    "start_time": "2024-02-06T11:46:46.160Z"
   },
   {
    "duration": 278,
    "start_time": "2024-02-06T11:46:46.179Z"
   },
   {
    "duration": 19,
    "start_time": "2024-02-06T11:46:46.465Z"
   },
   {
    "duration": 10,
    "start_time": "2024-02-06T11:46:46.485Z"
   },
   {
    "duration": 182,
    "start_time": "2024-02-06T11:46:46.497Z"
   },
   {
    "duration": 10,
    "start_time": "2024-02-06T11:46:46.681Z"
   },
   {
    "duration": 256,
    "start_time": "2024-02-06T11:46:46.693Z"
   },
   {
    "duration": 17,
    "start_time": "2024-02-06T11:46:46.951Z"
   },
   {
    "duration": 178,
    "start_time": "2024-02-06T11:46:46.969Z"
   },
   {
    "duration": 19,
    "start_time": "2024-02-06T11:46:47.149Z"
   },
   {
    "duration": 221,
    "start_time": "2024-02-06T11:46:47.170Z"
   },
   {
    "duration": 5,
    "start_time": "2024-02-06T11:46:47.393Z"
   },
   {
    "duration": 18,
    "start_time": "2024-02-06T11:46:47.400Z"
   },
   {
    "duration": 14,
    "start_time": "2024-02-06T11:46:47.420Z"
   },
   {
    "duration": 9,
    "start_time": "2024-02-06T11:46:47.436Z"
   },
   {
    "duration": 6,
    "start_time": "2024-02-06T11:46:47.446Z"
   },
   {
    "duration": 13,
    "start_time": "2024-02-06T11:46:47.453Z"
   },
   {
    "duration": 3,
    "start_time": "2024-02-06T11:46:47.468Z"
   },
   {
    "duration": 6,
    "start_time": "2024-02-06T11:46:47.473Z"
   },
   {
    "duration": 1222,
    "start_time": "2024-02-06T14:22:15.188Z"
   },
   {
    "duration": 101,
    "start_time": "2024-02-06T14:22:16.413Z"
   },
   {
    "duration": 21,
    "start_time": "2024-02-06T14:22:16.515Z"
   },
   {
    "duration": 27,
    "start_time": "2024-02-06T14:22:16.538Z"
   },
   {
    "duration": 30,
    "start_time": "2024-02-06T14:22:16.567Z"
   },
   {
    "duration": 12,
    "start_time": "2024-02-06T14:22:16.599Z"
   },
   {
    "duration": 18,
    "start_time": "2024-02-06T14:22:16.613Z"
   },
   {
    "duration": 11,
    "start_time": "2024-02-06T14:22:16.633Z"
   },
   {
    "duration": 19,
    "start_time": "2024-02-06T14:22:16.646Z"
   },
   {
    "duration": 6,
    "start_time": "2024-02-06T14:22:16.669Z"
   },
   {
    "duration": 13,
    "start_time": "2024-02-06T14:22:16.676Z"
   },
   {
    "duration": 10,
    "start_time": "2024-02-06T14:22:16.691Z"
   },
   {
    "duration": 9,
    "start_time": "2024-02-06T14:22:16.702Z"
   },
   {
    "duration": 8,
    "start_time": "2024-02-06T14:22:16.712Z"
   },
   {
    "duration": 4,
    "start_time": "2024-02-06T14:22:16.722Z"
   },
   {
    "duration": 38,
    "start_time": "2024-02-06T14:22:16.728Z"
   },
   {
    "duration": 5,
    "start_time": "2024-02-06T14:22:16.768Z"
   },
   {
    "duration": 10,
    "start_time": "2024-02-06T14:22:16.775Z"
   },
   {
    "duration": 19,
    "start_time": "2024-02-06T14:22:16.787Z"
   },
   {
    "duration": 6,
    "start_time": "2024-02-06T14:22:16.808Z"
   },
   {
    "duration": 18,
    "start_time": "2024-02-06T14:22:16.816Z"
   },
   {
    "duration": 32,
    "start_time": "2024-02-06T14:22:16.835Z"
   },
   {
    "duration": 404,
    "start_time": "2024-02-06T14:22:16.869Z"
   },
   {
    "duration": 7,
    "start_time": "2024-02-06T14:22:17.274Z"
   },
   {
    "duration": 19,
    "start_time": "2024-02-06T14:22:17.282Z"
   },
   {
    "duration": 7,
    "start_time": "2024-02-06T14:22:17.303Z"
   },
   {
    "duration": 4,
    "start_time": "2024-02-06T14:22:17.312Z"
   },
   {
    "duration": 38,
    "start_time": "2024-02-06T14:22:17.321Z"
   },
   {
    "duration": 183,
    "start_time": "2024-02-06T14:22:17.361Z"
   },
   {
    "duration": 16,
    "start_time": "2024-02-06T14:22:17.546Z"
   },
   {
    "duration": 37,
    "start_time": "2024-02-06T14:22:17.563Z"
   },
   {
    "duration": 15,
    "start_time": "2024-02-06T14:22:17.601Z"
   },
   {
    "duration": 371,
    "start_time": "2024-02-06T14:22:17.617Z"
   },
   {
    "duration": 284,
    "start_time": "2024-02-06T14:22:17.989Z"
   },
   {
    "duration": 5,
    "start_time": "2024-02-06T14:22:18.275Z"
   },
   {
    "duration": 169,
    "start_time": "2024-02-06T14:22:18.282Z"
   },
   {
    "duration": 8,
    "start_time": "2024-02-06T14:22:18.453Z"
   },
   {
    "duration": 179,
    "start_time": "2024-02-06T14:22:18.463Z"
   },
   {
    "duration": 6,
    "start_time": "2024-02-06T14:22:18.644Z"
   },
   {
    "duration": 249,
    "start_time": "2024-02-06T14:22:18.659Z"
   },
   {
    "duration": 5,
    "start_time": "2024-02-06T14:22:18.910Z"
   },
   {
    "duration": 172,
    "start_time": "2024-02-06T14:22:18.917Z"
   },
   {
    "duration": 5,
    "start_time": "2024-02-06T14:22:19.091Z"
   },
   {
    "duration": 15,
    "start_time": "2024-02-06T14:22:19.098Z"
   },
   {
    "duration": 212,
    "start_time": "2024-02-06T14:22:19.115Z"
   },
   {
    "duration": 17,
    "start_time": "2024-02-06T14:22:19.328Z"
   },
   {
    "duration": 35,
    "start_time": "2024-02-06T14:22:19.346Z"
   },
   {
    "duration": 10,
    "start_time": "2024-02-06T14:22:19.383Z"
   },
   {
    "duration": 297,
    "start_time": "2024-02-06T14:22:19.394Z"
   },
   {
    "duration": 12,
    "start_time": "2024-02-06T14:22:19.693Z"
   },
   {
    "duration": 297,
    "start_time": "2024-02-06T14:22:19.707Z"
   },
   {
    "duration": 11,
    "start_time": "2024-02-06T14:22:20.007Z"
   },
   {
    "duration": 299,
    "start_time": "2024-02-06T14:22:20.020Z"
   },
   {
    "duration": 20,
    "start_time": "2024-02-06T14:22:20.320Z"
   },
   {
    "duration": 23,
    "start_time": "2024-02-06T14:22:20.342Z"
   },
   {
    "duration": 189,
    "start_time": "2024-02-06T14:22:20.366Z"
   },
   {
    "duration": 10,
    "start_time": "2024-02-06T14:22:20.558Z"
   },
   {
    "duration": 181,
    "start_time": "2024-02-06T14:22:20.569Z"
   },
   {
    "duration": 16,
    "start_time": "2024-02-06T14:22:20.751Z"
   },
   {
    "duration": 269,
    "start_time": "2024-02-06T14:22:20.768Z"
   },
   {
    "duration": 31,
    "start_time": "2024-02-06T14:22:21.040Z"
   },
   {
    "duration": 254,
    "start_time": "2024-02-06T14:22:21.073Z"
   },
   {
    "duration": 6,
    "start_time": "2024-02-06T14:22:21.329Z"
   },
   {
    "duration": 11,
    "start_time": "2024-02-06T14:22:21.337Z"
   },
   {
    "duration": 7,
    "start_time": "2024-02-06T14:22:21.359Z"
   },
   {
    "duration": 6,
    "start_time": "2024-02-06T14:22:21.368Z"
   },
   {
    "duration": 6,
    "start_time": "2024-02-06T14:22:21.375Z"
   },
   {
    "duration": 7,
    "start_time": "2024-02-06T14:22:21.383Z"
   },
   {
    "duration": 9,
    "start_time": "2024-02-06T14:22:21.391Z"
   },
   {
    "duration": 22,
    "start_time": "2024-02-06T14:22:21.402Z"
   },
   {
    "duration": 71,
    "start_time": "2024-02-06T14:28:18.500Z"
   },
   {
    "duration": 73,
    "start_time": "2024-02-06T14:28:59.438Z"
   },
   {
    "duration": 67,
    "start_time": "2024-02-06T14:44:01.408Z"
   },
   {
    "duration": 65,
    "start_time": "2024-02-06T19:04:42.827Z"
   },
   {
    "duration": 1406,
    "start_time": "2024-02-06T19:04:59.309Z"
   },
   {
    "duration": 192,
    "start_time": "2024-02-06T19:05:00.718Z"
   },
   {
    "duration": 22,
    "start_time": "2024-02-06T19:05:00.912Z"
   },
   {
    "duration": 29,
    "start_time": "2024-02-06T19:05:00.936Z"
   },
   {
    "duration": 32,
    "start_time": "2024-02-06T19:05:00.967Z"
   },
   {
    "duration": 34,
    "start_time": "2024-02-06T19:05:01.001Z"
   },
   {
    "duration": 54,
    "start_time": "2024-02-06T19:05:01.036Z"
   },
   {
    "duration": 37,
    "start_time": "2024-02-06T19:05:01.092Z"
   },
   {
    "duration": 56,
    "start_time": "2024-02-06T19:05:01.131Z"
   },
   {
    "duration": 15,
    "start_time": "2024-02-06T19:05:01.190Z"
   },
   {
    "duration": 41,
    "start_time": "2024-02-06T19:05:01.206Z"
   },
   {
    "duration": 31,
    "start_time": "2024-02-06T19:05:01.248Z"
   },
   {
    "duration": 51,
    "start_time": "2024-02-06T19:05:01.280Z"
   },
   {
    "duration": 55,
    "start_time": "2024-02-06T19:05:01.333Z"
   },
   {
    "duration": 49,
    "start_time": "2024-02-06T19:05:01.390Z"
   },
   {
    "duration": 73,
    "start_time": "2024-02-06T19:05:01.441Z"
   },
   {
    "duration": 58,
    "start_time": "2024-02-06T19:05:01.515Z"
   },
   {
    "duration": 61,
    "start_time": "2024-02-06T19:05:01.575Z"
   },
   {
    "duration": 45,
    "start_time": "2024-02-06T19:05:01.638Z"
   },
   {
    "duration": 58,
    "start_time": "2024-02-06T19:05:01.684Z"
   },
   {
    "duration": 35,
    "start_time": "2024-02-06T19:05:01.743Z"
   },
   {
    "duration": 59,
    "start_time": "2024-02-06T19:05:01.780Z"
   },
   {
    "duration": 30,
    "start_time": "2024-02-06T19:05:01.841Z"
   },
   {
    "duration": 393,
    "start_time": "2024-02-06T19:05:01.873Z"
   },
   {
    "duration": 8,
    "start_time": "2024-02-06T19:05:02.268Z"
   },
   {
    "duration": 51,
    "start_time": "2024-02-06T19:05:02.278Z"
   },
   {
    "duration": 20,
    "start_time": "2024-02-06T19:05:02.330Z"
   },
   {
    "duration": 16,
    "start_time": "2024-02-06T19:05:02.354Z"
   },
   {
    "duration": 34,
    "start_time": "2024-02-06T19:05:02.371Z"
   },
   {
    "duration": 212,
    "start_time": "2024-02-06T19:05:02.407Z"
   },
   {
    "duration": 7,
    "start_time": "2024-02-06T19:05:02.621Z"
   },
   {
    "duration": 28,
    "start_time": "2024-02-06T19:05:02.629Z"
   },
   {
    "duration": 35,
    "start_time": "2024-02-06T19:05:02.659Z"
   },
   {
    "duration": 316,
    "start_time": "2024-02-06T19:05:02.696Z"
   },
   {
    "duration": 278,
    "start_time": "2024-02-06T19:05:03.014Z"
   },
   {
    "duration": 5,
    "start_time": "2024-02-06T19:05:03.293Z"
   },
   {
    "duration": 175,
    "start_time": "2024-02-06T19:05:03.300Z"
   },
   {
    "duration": 7,
    "start_time": "2024-02-06T19:05:03.477Z"
   },
   {
    "duration": 249,
    "start_time": "2024-02-06T19:05:03.486Z"
   },
   {
    "duration": 5,
    "start_time": "2024-02-06T19:05:03.737Z"
   },
   {
    "duration": 150,
    "start_time": "2024-02-06T19:05:03.743Z"
   },
   {
    "duration": 4,
    "start_time": "2024-02-06T19:05:03.895Z"
   },
   {
    "duration": 159,
    "start_time": "2024-02-06T19:05:03.901Z"
   },
   {
    "duration": 11,
    "start_time": "2024-02-06T19:05:04.062Z"
   },
   {
    "duration": 21,
    "start_time": "2024-02-06T19:05:04.075Z"
   },
   {
    "duration": 201,
    "start_time": "2024-02-06T19:05:04.098Z"
   },
   {
    "duration": 15,
    "start_time": "2024-02-06T19:05:04.301Z"
   },
   {
    "duration": 21,
    "start_time": "2024-02-06T19:05:04.317Z"
   },
   {
    "duration": 35,
    "start_time": "2024-02-06T19:05:04.339Z"
   },
   {
    "duration": 275,
    "start_time": "2024-02-06T19:05:04.376Z"
   },
   {
    "duration": 10,
    "start_time": "2024-02-06T19:05:04.653Z"
   },
   {
    "duration": 310,
    "start_time": "2024-02-06T19:05:04.664Z"
   },
   {
    "duration": 10,
    "start_time": "2024-02-06T19:05:04.976Z"
   },
   {
    "duration": 279,
    "start_time": "2024-02-06T19:05:04.987Z"
   },
   {
    "duration": 19,
    "start_time": "2024-02-06T19:05:05.272Z"
   },
   {
    "duration": 10,
    "start_time": "2024-02-06T19:05:05.293Z"
   },
   {
    "duration": 184,
    "start_time": "2024-02-06T19:05:05.304Z"
   },
   {
    "duration": 10,
    "start_time": "2024-02-06T19:05:05.490Z"
   },
   {
    "duration": 263,
    "start_time": "2024-02-06T19:05:05.501Z"
   },
   {
    "duration": 15,
    "start_time": "2024-02-06T19:05:05.765Z"
   },
   {
    "duration": 188,
    "start_time": "2024-02-06T19:05:05.781Z"
   },
   {
    "duration": 17,
    "start_time": "2024-02-06T19:05:05.971Z"
   },
   {
    "duration": 259,
    "start_time": "2024-02-06T19:05:05.990Z"
   },
   {
    "duration": 5,
    "start_time": "2024-02-06T19:05:06.250Z"
   },
   {
    "duration": 5,
    "start_time": "2024-02-06T19:05:06.272Z"
   },
   {
    "duration": 10,
    "start_time": "2024-02-06T19:05:06.278Z"
   },
   {
    "duration": 7,
    "start_time": "2024-02-06T19:05:06.289Z"
   },
   {
    "duration": 6,
    "start_time": "2024-02-06T19:05:06.297Z"
   },
   {
    "duration": 6,
    "start_time": "2024-02-06T19:05:06.304Z"
   },
   {
    "duration": 12,
    "start_time": "2024-02-06T19:05:06.312Z"
   },
   {
    "duration": 7,
    "start_time": "2024-02-06T19:05:06.326Z"
   },
   {
    "duration": 81,
    "start_time": "2024-02-06T19:08:20.450Z"
   },
   {
    "duration": 4,
    "start_time": "2024-02-06T19:08:34.677Z"
   },
   {
    "duration": 81,
    "start_time": "2024-02-06T19:13:08.044Z"
   },
   {
    "duration": 5,
    "start_time": "2024-02-06T19:13:52.119Z"
   },
   {
    "duration": 107,
    "start_time": "2024-02-06T19:16:57.225Z"
   },
   {
    "duration": 4,
    "start_time": "2024-02-06T19:17:13.937Z"
   },
   {
    "duration": 5,
    "start_time": "2024-02-06T19:18:54.173Z"
   },
   {
    "duration": 5,
    "start_time": "2024-02-06T19:18:56.626Z"
   },
   {
    "duration": 9,
    "start_time": "2024-02-06T19:19:10.428Z"
   },
   {
    "duration": 4,
    "start_time": "2024-02-06T19:19:18.859Z"
   },
   {
    "duration": 5,
    "start_time": "2024-02-06T19:19:22.544Z"
   },
   {
    "duration": 4,
    "start_time": "2024-02-06T19:22:50.761Z"
   },
   {
    "duration": 79,
    "start_time": "2024-02-06T19:24:36.718Z"
   },
   {
    "duration": 5,
    "start_time": "2024-02-06T19:24:42.108Z"
   },
   {
    "duration": 5,
    "start_time": "2024-02-06T19:25:57.790Z"
   },
   {
    "duration": 96,
    "start_time": "2024-02-06T19:26:34.062Z"
   },
   {
    "duration": 3,
    "start_time": "2024-02-06T19:31:03.059Z"
   },
   {
    "duration": 3,
    "start_time": "2024-02-06T19:31:03.881Z"
   },
   {
    "duration": 12,
    "start_time": "2024-02-06T19:33:02.964Z"
   },
   {
    "duration": 4,
    "start_time": "2024-02-06T19:33:26.412Z"
   },
   {
    "duration": 1219,
    "start_time": "2024-02-06T19:38:10.665Z"
   },
   {
    "duration": 58,
    "start_time": "2024-02-06T19:38:14.378Z"
   },
   {
    "duration": 21,
    "start_time": "2024-02-06T19:38:15.027Z"
   },
   {
    "duration": 15,
    "start_time": "2024-02-06T19:38:15.615Z"
   },
   {
    "duration": 4,
    "start_time": "2024-02-06T19:38:19.115Z"
   },
   {
    "duration": 3,
    "start_time": "2024-02-06T19:38:19.912Z"
   },
   {
    "duration": 11,
    "start_time": "2024-02-06T19:38:20.507Z"
   },
   {
    "duration": 8,
    "start_time": "2024-02-06T19:38:22.737Z"
   },
   {
    "duration": 18,
    "start_time": "2024-02-06T19:38:23.245Z"
   },
   {
    "duration": 4,
    "start_time": "2024-02-06T19:38:27.138Z"
   },
   {
    "duration": 5,
    "start_time": "2024-02-06T19:38:27.916Z"
   },
   {
    "duration": 7,
    "start_time": "2024-02-06T19:38:28.560Z"
   },
   {
    "duration": 5,
    "start_time": "2024-02-06T19:38:40.906Z"
   },
   {
    "duration": 4,
    "start_time": "2024-02-06T19:38:41.482Z"
   },
   {
    "duration": 4,
    "start_time": "2024-02-06T19:38:44.265Z"
   },
   {
    "duration": 15,
    "start_time": "2024-02-06T19:38:45.212Z"
   },
   {
    "duration": 5,
    "start_time": "2024-02-06T19:38:46.096Z"
   },
   {
    "duration": 4,
    "start_time": "2024-02-06T19:38:48.462Z"
   },
   {
    "duration": 4,
    "start_time": "2024-02-06T19:38:48.898Z"
   },
   {
    "duration": 5,
    "start_time": "2024-02-06T19:38:49.312Z"
   },
   {
    "duration": 4,
    "start_time": "2024-02-06T19:38:52.166Z"
   },
   {
    "duration": 6,
    "start_time": "2024-02-06T19:38:52.622Z"
   },
   {
    "duration": 16,
    "start_time": "2024-02-06T19:38:53.156Z"
   },
   {
    "duration": 12,
    "start_time": "2024-02-06T19:39:04.309Z"
   },
   {
    "duration": 1150,
    "start_time": "2024-02-06T19:48:55.829Z"
   },
   {
    "duration": 58,
    "start_time": "2024-02-06T19:48:56.981Z"
   },
   {
    "duration": 22,
    "start_time": "2024-02-06T19:48:57.041Z"
   },
   {
    "duration": 17,
    "start_time": "2024-02-06T19:48:57.064Z"
   },
   {
    "duration": 5,
    "start_time": "2024-02-06T19:48:57.083Z"
   },
   {
    "duration": 4,
    "start_time": "2024-02-06T19:48:57.090Z"
   },
   {
    "duration": 17,
    "start_time": "2024-02-06T19:48:57.095Z"
   },
   {
    "duration": 8,
    "start_time": "2024-02-06T19:48:57.114Z"
   },
   {
    "duration": 57,
    "start_time": "2024-02-06T19:48:57.123Z"
   },
   {
    "duration": 5,
    "start_time": "2024-02-06T19:48:57.182Z"
   },
   {
    "duration": 7,
    "start_time": "2024-02-06T19:48:57.188Z"
   },
   {
    "duration": 6,
    "start_time": "2024-02-06T19:48:57.197Z"
   },
   {
    "duration": 5,
    "start_time": "2024-02-06T19:48:57.205Z"
   },
   {
    "duration": 3,
    "start_time": "2024-02-06T19:48:57.213Z"
   },
   {
    "duration": 3,
    "start_time": "2024-02-06T19:48:57.218Z"
   },
   {
    "duration": 59,
    "start_time": "2024-02-06T19:48:57.223Z"
   },
   {
    "duration": 5,
    "start_time": "2024-02-06T19:48:57.283Z"
   },
   {
    "duration": 5,
    "start_time": "2024-02-06T19:48:57.289Z"
   },
   {
    "duration": 6,
    "start_time": "2024-02-06T19:48:57.296Z"
   },
   {
    "duration": 4,
    "start_time": "2024-02-06T19:48:57.304Z"
   },
   {
    "duration": 5,
    "start_time": "2024-02-06T19:48:57.310Z"
   },
   {
    "duration": 7,
    "start_time": "2024-02-06T19:48:57.317Z"
   },
   {
    "duration": 53,
    "start_time": "2024-02-06T19:48:57.325Z"
   },
   {
    "duration": 8,
    "start_time": "2024-02-06T19:48:57.379Z"
   },
   {
    "duration": 87,
    "start_time": "2024-02-06T19:48:57.388Z"
   },
   {
    "duration": 0,
    "start_time": "2024-02-06T19:48:57.477Z"
   },
   {
    "duration": 0,
    "start_time": "2024-02-06T19:48:57.478Z"
   },
   {
    "duration": 0,
    "start_time": "2024-02-06T19:48:57.479Z"
   },
   {
    "duration": 0,
    "start_time": "2024-02-06T19:48:57.481Z"
   },
   {
    "duration": 0,
    "start_time": "2024-02-06T19:48:57.482Z"
   },
   {
    "duration": 0,
    "start_time": "2024-02-06T19:48:57.483Z"
   },
   {
    "duration": 1,
    "start_time": "2024-02-06T19:48:57.484Z"
   },
   {
    "duration": 0,
    "start_time": "2024-02-06T19:48:57.485Z"
   },
   {
    "duration": 0,
    "start_time": "2024-02-06T19:48:57.487Z"
   },
   {
    "duration": 0,
    "start_time": "2024-02-06T19:48:57.487Z"
   },
   {
    "duration": 0,
    "start_time": "2024-02-06T19:48:57.488Z"
   },
   {
    "duration": 0,
    "start_time": "2024-02-06T19:48:57.489Z"
   },
   {
    "duration": 0,
    "start_time": "2024-02-06T19:48:57.490Z"
   },
   {
    "duration": 0,
    "start_time": "2024-02-06T19:48:57.491Z"
   },
   {
    "duration": 0,
    "start_time": "2024-02-06T19:48:57.492Z"
   },
   {
    "duration": 0,
    "start_time": "2024-02-06T19:48:57.493Z"
   },
   {
    "duration": 1,
    "start_time": "2024-02-06T19:48:57.494Z"
   },
   {
    "duration": 0,
    "start_time": "2024-02-06T19:48:57.496Z"
   },
   {
    "duration": 0,
    "start_time": "2024-02-06T19:48:57.497Z"
   },
   {
    "duration": 0,
    "start_time": "2024-02-06T19:48:57.498Z"
   },
   {
    "duration": 0,
    "start_time": "2024-02-06T19:48:57.499Z"
   },
   {
    "duration": 0,
    "start_time": "2024-02-06T19:48:57.500Z"
   },
   {
    "duration": 0,
    "start_time": "2024-02-06T19:48:57.501Z"
   },
   {
    "duration": 0,
    "start_time": "2024-02-06T19:48:57.502Z"
   },
   {
    "duration": 0,
    "start_time": "2024-02-06T19:48:57.503Z"
   },
   {
    "duration": 0,
    "start_time": "2024-02-06T19:48:57.504Z"
   },
   {
    "duration": 0,
    "start_time": "2024-02-06T19:48:57.505Z"
   },
   {
    "duration": 0,
    "start_time": "2024-02-06T19:48:57.506Z"
   },
   {
    "duration": 0,
    "start_time": "2024-02-06T19:48:57.507Z"
   },
   {
    "duration": 0,
    "start_time": "2024-02-06T19:48:57.508Z"
   },
   {
    "duration": 0,
    "start_time": "2024-02-06T19:48:57.509Z"
   },
   {
    "duration": 0,
    "start_time": "2024-02-06T19:48:57.511Z"
   },
   {
    "duration": 0,
    "start_time": "2024-02-06T19:48:57.512Z"
   },
   {
    "duration": 0,
    "start_time": "2024-02-06T19:48:57.513Z"
   },
   {
    "duration": 0,
    "start_time": "2024-02-06T19:48:57.514Z"
   },
   {
    "duration": 0,
    "start_time": "2024-02-06T19:48:57.573Z"
   },
   {
    "duration": 0,
    "start_time": "2024-02-06T19:48:57.574Z"
   },
   {
    "duration": 1,
    "start_time": "2024-02-06T19:48:57.575Z"
   },
   {
    "duration": 0,
    "start_time": "2024-02-06T19:48:57.577Z"
   },
   {
    "duration": 0,
    "start_time": "2024-02-06T19:48:57.578Z"
   },
   {
    "duration": 0,
    "start_time": "2024-02-06T19:48:57.579Z"
   },
   {
    "duration": 0,
    "start_time": "2024-02-06T19:48:57.580Z"
   },
   {
    "duration": 0,
    "start_time": "2024-02-06T19:48:57.581Z"
   },
   {
    "duration": 0,
    "start_time": "2024-02-06T19:48:57.582Z"
   },
   {
    "duration": 0,
    "start_time": "2024-02-06T19:48:57.583Z"
   },
   {
    "duration": 0,
    "start_time": "2024-02-06T19:48:57.584Z"
   },
   {
    "duration": 0,
    "start_time": "2024-02-06T19:48:57.585Z"
   },
   {
    "duration": 7,
    "start_time": "2024-02-06T19:50:10.045Z"
   },
   {
    "duration": 15,
    "start_time": "2024-02-06T19:50:21.294Z"
   },
   {
    "duration": 123,
    "start_time": "2024-02-06T19:51:16.972Z"
   },
   {
    "duration": 5,
    "start_time": "2024-02-06T19:51:40.594Z"
   },
   {
    "duration": 5,
    "start_time": "2024-02-06T19:52:16.157Z"
   },
   {
    "duration": 5,
    "start_time": "2024-02-06T19:52:24.001Z"
   },
   {
    "duration": 5,
    "start_time": "2024-02-06T19:52:24.392Z"
   },
   {
    "duration": 5,
    "start_time": "2024-02-06T19:52:25.113Z"
   },
   {
    "duration": 16,
    "start_time": "2024-02-06T19:52:26.047Z"
   },
   {
    "duration": 5,
    "start_time": "2024-02-06T19:52:28.540Z"
   },
   {
    "duration": 98,
    "start_time": "2024-02-06T19:52:29.133Z"
   },
   {
    "duration": 88,
    "start_time": "2024-02-06T19:52:43.442Z"
   },
   {
    "duration": 211,
    "start_time": "2024-02-06T20:08:50.759Z"
   },
   {
    "duration": 159,
    "start_time": "2024-02-06T20:08:58.875Z"
   },
   {
    "duration": 82,
    "start_time": "2024-02-06T20:09:07.357Z"
   },
   {
    "duration": 208,
    "start_time": "2024-02-06T20:09:10.932Z"
   },
   {
    "duration": 85,
    "start_time": "2024-02-06T20:09:30.698Z"
   },
   {
    "duration": 154,
    "start_time": "2024-02-06T20:09:35.950Z"
   },
   {
    "duration": 51,
    "start_time": "2024-02-07T07:25:33.557Z"
   },
   {
    "duration": 7,
    "start_time": "2024-02-07T07:25:49.690Z"
   },
   {
    "duration": 1403,
    "start_time": "2024-02-07T07:25:57.774Z"
   },
   {
    "duration": 96,
    "start_time": "2024-02-07T07:25:59.180Z"
   },
   {
    "duration": 23,
    "start_time": "2024-02-07T07:25:59.278Z"
   },
   {
    "duration": 46,
    "start_time": "2024-02-07T07:25:59.302Z"
   },
   {
    "duration": 14,
    "start_time": "2024-02-07T07:25:59.351Z"
   },
   {
    "duration": 37,
    "start_time": "2024-02-07T07:25:59.367Z"
   },
   {
    "duration": 38,
    "start_time": "2024-02-07T07:25:59.405Z"
   },
   {
    "duration": 25,
    "start_time": "2024-02-07T07:25:59.445Z"
   },
   {
    "duration": 25,
    "start_time": "2024-02-07T07:25:59.472Z"
   },
   {
    "duration": 22,
    "start_time": "2024-02-07T07:25:59.499Z"
   },
   {
    "duration": 25,
    "start_time": "2024-02-07T07:25:59.523Z"
   },
   {
    "duration": 8,
    "start_time": "2024-02-07T07:25:59.550Z"
   },
   {
    "duration": 7,
    "start_time": "2024-02-07T07:25:59.560Z"
   },
   {
    "duration": 5,
    "start_time": "2024-02-07T07:25:59.571Z"
   },
   {
    "duration": 10,
    "start_time": "2024-02-07T07:25:59.577Z"
   },
   {
    "duration": 10,
    "start_time": "2024-02-07T07:25:59.589Z"
   },
   {
    "duration": 4,
    "start_time": "2024-02-07T07:25:59.624Z"
   },
   {
    "duration": 9,
    "start_time": "2024-02-07T07:25:59.630Z"
   },
   {
    "duration": 15,
    "start_time": "2024-02-07T07:25:59.641Z"
   },
   {
    "duration": 5,
    "start_time": "2024-02-07T07:25:59.658Z"
   },
   {
    "duration": 4,
    "start_time": "2024-02-07T07:25:59.665Z"
   },
   {
    "duration": 5,
    "start_time": "2024-02-07T07:25:59.671Z"
   },
   {
    "duration": 6,
    "start_time": "2024-02-07T07:25:59.677Z"
   },
   {
    "duration": 40,
    "start_time": "2024-02-07T07:25:59.684Z"
   },
   {
    "duration": 6,
    "start_time": "2024-02-07T07:25:59.726Z"
   },
   {
    "duration": 17,
    "start_time": "2024-02-07T07:25:59.733Z"
   },
   {
    "duration": 7,
    "start_time": "2024-02-07T07:25:59.752Z"
   },
   {
    "duration": 287,
    "start_time": "2024-02-07T07:25:59.761Z"
   },
   {
    "duration": 0,
    "start_time": "2024-02-07T07:26:00.051Z"
   },
   {
    "duration": 0,
    "start_time": "2024-02-07T07:26:00.052Z"
   },
   {
    "duration": 0,
    "start_time": "2024-02-07T07:26:00.054Z"
   },
   {
    "duration": 0,
    "start_time": "2024-02-07T07:26:00.055Z"
   },
   {
    "duration": 0,
    "start_time": "2024-02-07T07:26:00.056Z"
   },
   {
    "duration": 0,
    "start_time": "2024-02-07T07:26:00.057Z"
   },
   {
    "duration": 0,
    "start_time": "2024-02-07T07:26:00.059Z"
   },
   {
    "duration": 0,
    "start_time": "2024-02-07T07:26:00.060Z"
   },
   {
    "duration": 0,
    "start_time": "2024-02-07T07:26:00.061Z"
   },
   {
    "duration": 0,
    "start_time": "2024-02-07T07:26:00.062Z"
   },
   {
    "duration": 0,
    "start_time": "2024-02-07T07:26:00.063Z"
   },
   {
    "duration": 0,
    "start_time": "2024-02-07T07:26:00.064Z"
   },
   {
    "duration": 0,
    "start_time": "2024-02-07T07:26:00.065Z"
   },
   {
    "duration": 0,
    "start_time": "2024-02-07T07:26:00.066Z"
   },
   {
    "duration": 0,
    "start_time": "2024-02-07T07:26:00.068Z"
   },
   {
    "duration": 0,
    "start_time": "2024-02-07T07:26:00.069Z"
   },
   {
    "duration": 0,
    "start_time": "2024-02-07T07:26:00.070Z"
   },
   {
    "duration": 0,
    "start_time": "2024-02-07T07:26:00.071Z"
   },
   {
    "duration": 0,
    "start_time": "2024-02-07T07:26:00.072Z"
   },
   {
    "duration": 0,
    "start_time": "2024-02-07T07:26:00.073Z"
   },
   {
    "duration": 0,
    "start_time": "2024-02-07T07:26:00.074Z"
   },
   {
    "duration": 0,
    "start_time": "2024-02-07T07:26:00.075Z"
   },
   {
    "duration": 0,
    "start_time": "2024-02-07T07:26:00.076Z"
   },
   {
    "duration": 0,
    "start_time": "2024-02-07T07:26:00.123Z"
   },
   {
    "duration": 0,
    "start_time": "2024-02-07T07:26:00.124Z"
   },
   {
    "duration": 0,
    "start_time": "2024-02-07T07:26:00.126Z"
   },
   {
    "duration": 0,
    "start_time": "2024-02-07T07:26:00.127Z"
   },
   {
    "duration": 0,
    "start_time": "2024-02-07T07:26:00.128Z"
   },
   {
    "duration": 0,
    "start_time": "2024-02-07T07:26:00.130Z"
   },
   {
    "duration": 0,
    "start_time": "2024-02-07T07:26:00.131Z"
   },
   {
    "duration": 0,
    "start_time": "2024-02-07T07:26:00.132Z"
   },
   {
    "duration": 0,
    "start_time": "2024-02-07T07:26:00.133Z"
   },
   {
    "duration": 0,
    "start_time": "2024-02-07T07:26:00.134Z"
   },
   {
    "duration": 0,
    "start_time": "2024-02-07T07:26:00.135Z"
   },
   {
    "duration": 0,
    "start_time": "2024-02-07T07:26:00.136Z"
   },
   {
    "duration": 0,
    "start_time": "2024-02-07T07:26:00.138Z"
   },
   {
    "duration": 0,
    "start_time": "2024-02-07T07:26:00.139Z"
   },
   {
    "duration": 0,
    "start_time": "2024-02-07T07:26:00.140Z"
   },
   {
    "duration": 0,
    "start_time": "2024-02-07T07:26:00.141Z"
   },
   {
    "duration": 0,
    "start_time": "2024-02-07T07:26:00.142Z"
   },
   {
    "duration": 0,
    "start_time": "2024-02-07T07:26:00.143Z"
   },
   {
    "duration": 0,
    "start_time": "2024-02-07T07:26:00.144Z"
   },
   {
    "duration": 0,
    "start_time": "2024-02-07T07:26:00.145Z"
   },
   {
    "duration": 0,
    "start_time": "2024-02-07T07:26:00.146Z"
   },
   {
    "duration": 0,
    "start_time": "2024-02-07T07:26:00.147Z"
   },
   {
    "duration": 0,
    "start_time": "2024-02-07T07:26:00.148Z"
   },
   {
    "duration": 0,
    "start_time": "2024-02-07T07:26:00.149Z"
   },
   {
    "duration": 1163,
    "start_time": "2024-02-07T07:29:49.356Z"
   },
   {
    "duration": 986,
    "start_time": "2024-02-07T07:30:22.518Z"
   },
   {
    "duration": 9,
    "start_time": "2024-02-07T07:30:33.327Z"
   },
   {
    "duration": 8,
    "start_time": "2024-02-07T07:30:41.913Z"
   },
   {
    "duration": 635,
    "start_time": "2024-02-07T07:30:57.223Z"
   },
   {
    "duration": 8,
    "start_time": "2024-02-07T07:31:29.558Z"
   },
   {
    "duration": 86,
    "start_time": "2024-02-07T07:31:37.519Z"
   },
   {
    "duration": 1248,
    "start_time": "2024-02-07T14:08:59.493Z"
   },
   {
    "duration": 94,
    "start_time": "2024-02-07T14:09:00.744Z"
   },
   {
    "duration": 20,
    "start_time": "2024-02-07T14:09:00.839Z"
   },
   {
    "duration": 47,
    "start_time": "2024-02-07T14:09:00.861Z"
   },
   {
    "duration": 26,
    "start_time": "2024-02-07T14:09:00.909Z"
   },
   {
    "duration": 50,
    "start_time": "2024-02-07T14:09:00.936Z"
   },
   {
    "duration": 31,
    "start_time": "2024-02-07T14:09:00.988Z"
   },
   {
    "duration": 67,
    "start_time": "2024-02-07T14:09:01.021Z"
   },
   {
    "duration": 55,
    "start_time": "2024-02-07T14:09:01.090Z"
   },
   {
    "duration": 20,
    "start_time": "2024-02-07T14:09:01.147Z"
   },
   {
    "duration": 50,
    "start_time": "2024-02-07T14:09:01.169Z"
   },
   {
    "duration": 31,
    "start_time": "2024-02-07T14:09:01.220Z"
   },
   {
    "duration": 27,
    "start_time": "2024-02-07T14:09:01.253Z"
   },
   {
    "duration": 35,
    "start_time": "2024-02-07T14:09:01.281Z"
   },
   {
    "duration": 34,
    "start_time": "2024-02-07T14:09:01.317Z"
   },
   {
    "duration": 59,
    "start_time": "2024-02-07T14:09:01.353Z"
   },
   {
    "duration": 43,
    "start_time": "2024-02-07T14:09:01.414Z"
   },
   {
    "duration": 55,
    "start_time": "2024-02-07T14:09:01.458Z"
   },
   {
    "duration": 50,
    "start_time": "2024-02-07T14:09:01.514Z"
   },
   {
    "duration": 32,
    "start_time": "2024-02-07T14:09:01.565Z"
   },
   {
    "duration": 47,
    "start_time": "2024-02-07T14:09:01.598Z"
   },
   {
    "duration": 207,
    "start_time": "2024-02-07T14:09:01.646Z"
   },
   {
    "duration": 464,
    "start_time": "2024-02-07T14:09:01.854Z"
   },
   {
    "duration": 476,
    "start_time": "2024-02-07T14:09:02.320Z"
   },
   {
    "duration": 328,
    "start_time": "2024-02-07T14:09:02.798Z"
   },
   {
    "duration": 0,
    "start_time": "2024-02-07T14:09:03.128Z"
   },
   {
    "duration": 0,
    "start_time": "2024-02-07T14:09:03.129Z"
   },
   {
    "duration": 0,
    "start_time": "2024-02-07T14:09:03.130Z"
   },
   {
    "duration": 0,
    "start_time": "2024-02-07T14:09:03.131Z"
   },
   {
    "duration": 0,
    "start_time": "2024-02-07T14:09:03.132Z"
   },
   {
    "duration": 0,
    "start_time": "2024-02-07T14:09:03.133Z"
   },
   {
    "duration": 0,
    "start_time": "2024-02-07T14:09:03.145Z"
   },
   {
    "duration": 0,
    "start_time": "2024-02-07T14:09:03.146Z"
   },
   {
    "duration": 0,
    "start_time": "2024-02-07T14:09:03.146Z"
   },
   {
    "duration": 0,
    "start_time": "2024-02-07T14:09:03.147Z"
   },
   {
    "duration": 0,
    "start_time": "2024-02-07T14:09:03.148Z"
   },
   {
    "duration": 0,
    "start_time": "2024-02-07T14:09:03.149Z"
   },
   {
    "duration": 0,
    "start_time": "2024-02-07T14:09:03.150Z"
   },
   {
    "duration": 0,
    "start_time": "2024-02-07T14:09:03.150Z"
   },
   {
    "duration": 0,
    "start_time": "2024-02-07T14:09:03.151Z"
   },
   {
    "duration": 0,
    "start_time": "2024-02-07T14:09:03.152Z"
   },
   {
    "duration": 0,
    "start_time": "2024-02-07T14:09:03.153Z"
   },
   {
    "duration": 0,
    "start_time": "2024-02-07T14:09:03.153Z"
   },
   {
    "duration": 0,
    "start_time": "2024-02-07T14:09:03.154Z"
   },
   {
    "duration": 0,
    "start_time": "2024-02-07T14:09:03.155Z"
   },
   {
    "duration": 0,
    "start_time": "2024-02-07T14:09:03.156Z"
   },
   {
    "duration": 0,
    "start_time": "2024-02-07T14:09:03.156Z"
   },
   {
    "duration": 0,
    "start_time": "2024-02-07T14:09:03.157Z"
   },
   {
    "duration": 0,
    "start_time": "2024-02-07T14:09:03.158Z"
   },
   {
    "duration": 0,
    "start_time": "2024-02-07T14:09:03.159Z"
   },
   {
    "duration": 0,
    "start_time": "2024-02-07T14:09:03.160Z"
   },
   {
    "duration": 0,
    "start_time": "2024-02-07T14:09:03.161Z"
   },
   {
    "duration": 0,
    "start_time": "2024-02-07T14:09:03.162Z"
   },
   {
    "duration": 0,
    "start_time": "2024-02-07T14:09:03.163Z"
   },
   {
    "duration": 0,
    "start_time": "2024-02-07T14:09:03.164Z"
   },
   {
    "duration": 0,
    "start_time": "2024-02-07T14:09:03.165Z"
   },
   {
    "duration": 0,
    "start_time": "2024-02-07T14:09:03.166Z"
   },
   {
    "duration": 0,
    "start_time": "2024-02-07T14:09:03.167Z"
   },
   {
    "duration": 0,
    "start_time": "2024-02-07T14:09:03.168Z"
   },
   {
    "duration": 0,
    "start_time": "2024-02-07T14:09:03.169Z"
   },
   {
    "duration": 0,
    "start_time": "2024-02-07T14:09:03.170Z"
   },
   {
    "duration": 0,
    "start_time": "2024-02-07T14:09:03.171Z"
   },
   {
    "duration": 0,
    "start_time": "2024-02-07T14:09:03.172Z"
   },
   {
    "duration": 0,
    "start_time": "2024-02-07T14:09:03.174Z"
   },
   {
    "duration": 0,
    "start_time": "2024-02-07T14:09:03.175Z"
   },
   {
    "duration": 0,
    "start_time": "2024-02-07T14:09:03.175Z"
   },
   {
    "duration": 0,
    "start_time": "2024-02-07T14:09:03.176Z"
   },
   {
    "duration": 0,
    "start_time": "2024-02-07T14:09:03.177Z"
   },
   {
    "duration": 0,
    "start_time": "2024-02-07T14:09:03.178Z"
   },
   {
    "duration": 0,
    "start_time": "2024-02-07T14:09:03.179Z"
   },
   {
    "duration": 0,
    "start_time": "2024-02-07T14:09:03.180Z"
   },
   {
    "duration": 0,
    "start_time": "2024-02-07T14:09:03.181Z"
   },
   {
    "duration": 10,
    "start_time": "2024-02-07T14:14:33.090Z"
   },
   {
    "duration": 15,
    "start_time": "2024-02-07T14:14:42.148Z"
   },
   {
    "duration": 14,
    "start_time": "2024-02-07T14:20:24.154Z"
   },
   {
    "duration": 18,
    "start_time": "2024-02-07T14:20:40.033Z"
   },
   {
    "duration": 8,
    "start_time": "2024-02-07T14:21:21.190Z"
   },
   {
    "duration": 13,
    "start_time": "2024-02-07T14:21:29.383Z"
   },
   {
    "duration": 1070,
    "start_time": "2024-02-07T14:22:33.346Z"
   },
   {
    "duration": 51,
    "start_time": "2024-02-07T14:22:34.418Z"
   },
   {
    "duration": 17,
    "start_time": "2024-02-07T14:22:34.470Z"
   },
   {
    "duration": 12,
    "start_time": "2024-02-07T14:22:34.488Z"
   },
   {
    "duration": 7,
    "start_time": "2024-02-07T14:22:34.502Z"
   },
   {
    "duration": 20,
    "start_time": "2024-02-07T14:22:34.510Z"
   },
   {
    "duration": 24,
    "start_time": "2024-02-07T14:22:34.531Z"
   },
   {
    "duration": 19,
    "start_time": "2024-02-07T14:22:34.556Z"
   },
   {
    "duration": 31,
    "start_time": "2024-02-07T14:22:34.576Z"
   },
   {
    "duration": 31,
    "start_time": "2024-02-07T14:22:34.608Z"
   },
   {
    "duration": 41,
    "start_time": "2024-02-07T14:22:34.640Z"
   },
   {
    "duration": 27,
    "start_time": "2024-02-07T14:22:34.682Z"
   },
   {
    "duration": 24,
    "start_time": "2024-02-07T14:22:34.710Z"
   },
   {
    "duration": 25,
    "start_time": "2024-02-07T14:22:34.736Z"
   },
   {
    "duration": 27,
    "start_time": "2024-02-07T14:22:34.762Z"
   },
   {
    "duration": 19,
    "start_time": "2024-02-07T14:22:34.791Z"
   },
   {
    "duration": 17,
    "start_time": "2024-02-07T14:22:34.811Z"
   },
   {
    "duration": 17,
    "start_time": "2024-02-07T14:22:34.829Z"
   },
   {
    "duration": 14,
    "start_time": "2024-02-07T14:22:34.848Z"
   },
   {
    "duration": 6,
    "start_time": "2024-02-07T14:22:34.863Z"
   },
   {
    "duration": 22,
    "start_time": "2024-02-07T14:22:34.870Z"
   },
   {
    "duration": 9,
    "start_time": "2024-02-07T14:22:34.893Z"
   },
   {
    "duration": 12,
    "start_time": "2024-02-07T14:22:34.903Z"
   },
   {
    "duration": 17,
    "start_time": "2024-02-07T14:22:34.916Z"
   },
   {
    "duration": 26,
    "start_time": "2024-02-07T14:22:34.935Z"
   },
   {
    "duration": 14,
    "start_time": "2024-02-07T14:22:34.962Z"
   },
   {
    "duration": 244,
    "start_time": "2024-02-07T14:22:34.977Z"
   },
   {
    "duration": 0,
    "start_time": "2024-02-07T14:22:35.224Z"
   },
   {
    "duration": 0,
    "start_time": "2024-02-07T14:22:35.225Z"
   },
   {
    "duration": 0,
    "start_time": "2024-02-07T14:22:35.226Z"
   },
   {
    "duration": 0,
    "start_time": "2024-02-07T14:22:35.228Z"
   },
   {
    "duration": 0,
    "start_time": "2024-02-07T14:22:35.229Z"
   },
   {
    "duration": 0,
    "start_time": "2024-02-07T14:22:35.230Z"
   },
   {
    "duration": 0,
    "start_time": "2024-02-07T14:22:35.245Z"
   },
   {
    "duration": 0,
    "start_time": "2024-02-07T14:22:35.246Z"
   },
   {
    "duration": 0,
    "start_time": "2024-02-07T14:22:35.247Z"
   },
   {
    "duration": 0,
    "start_time": "2024-02-07T14:22:35.248Z"
   },
   {
    "duration": 0,
    "start_time": "2024-02-07T14:22:35.249Z"
   },
   {
    "duration": 0,
    "start_time": "2024-02-07T14:22:35.250Z"
   },
   {
    "duration": 0,
    "start_time": "2024-02-07T14:22:35.251Z"
   },
   {
    "duration": 0,
    "start_time": "2024-02-07T14:22:35.251Z"
   },
   {
    "duration": 0,
    "start_time": "2024-02-07T14:22:35.252Z"
   },
   {
    "duration": 0,
    "start_time": "2024-02-07T14:22:35.253Z"
   },
   {
    "duration": 0,
    "start_time": "2024-02-07T14:22:35.254Z"
   },
   {
    "duration": 0,
    "start_time": "2024-02-07T14:22:35.255Z"
   },
   {
    "duration": 0,
    "start_time": "2024-02-07T14:22:35.256Z"
   },
   {
    "duration": 0,
    "start_time": "2024-02-07T14:22:35.257Z"
   },
   {
    "duration": 0,
    "start_time": "2024-02-07T14:22:35.258Z"
   },
   {
    "duration": 0,
    "start_time": "2024-02-07T14:22:35.259Z"
   },
   {
    "duration": 0,
    "start_time": "2024-02-07T14:22:35.260Z"
   },
   {
    "duration": 0,
    "start_time": "2024-02-07T14:22:35.261Z"
   },
   {
    "duration": 1,
    "start_time": "2024-02-07T14:22:35.261Z"
   },
   {
    "duration": 0,
    "start_time": "2024-02-07T14:22:35.262Z"
   },
   {
    "duration": 0,
    "start_time": "2024-02-07T14:22:35.263Z"
   },
   {
    "duration": 0,
    "start_time": "2024-02-07T14:22:35.264Z"
   },
   {
    "duration": 0,
    "start_time": "2024-02-07T14:22:35.265Z"
   },
   {
    "duration": 0,
    "start_time": "2024-02-07T14:22:35.266Z"
   },
   {
    "duration": 0,
    "start_time": "2024-02-07T14:22:35.267Z"
   },
   {
    "duration": 0,
    "start_time": "2024-02-07T14:22:35.268Z"
   },
   {
    "duration": 0,
    "start_time": "2024-02-07T14:22:35.269Z"
   },
   {
    "duration": 0,
    "start_time": "2024-02-07T14:22:35.270Z"
   },
   {
    "duration": 0,
    "start_time": "2024-02-07T14:22:35.271Z"
   },
   {
    "duration": 0,
    "start_time": "2024-02-07T14:22:35.272Z"
   },
   {
    "duration": 0,
    "start_time": "2024-02-07T14:22:35.272Z"
   },
   {
    "duration": 0,
    "start_time": "2024-02-07T14:22:35.274Z"
   },
   {
    "duration": 0,
    "start_time": "2024-02-07T14:22:35.274Z"
   },
   {
    "duration": 0,
    "start_time": "2024-02-07T14:22:35.275Z"
   },
   {
    "duration": 0,
    "start_time": "2024-02-07T14:22:35.276Z"
   },
   {
    "duration": 0,
    "start_time": "2024-02-07T14:22:35.277Z"
   },
   {
    "duration": 0,
    "start_time": "2024-02-07T14:22:35.278Z"
   },
   {
    "duration": 1,
    "start_time": "2024-02-07T14:22:35.278Z"
   },
   {
    "duration": 0,
    "start_time": "2024-02-07T14:22:35.280Z"
   },
   {
    "duration": 0,
    "start_time": "2024-02-07T14:22:35.281Z"
   },
   {
    "duration": 0,
    "start_time": "2024-02-07T14:22:35.281Z"
   },
   {
    "duration": 5,
    "start_time": "2024-02-07T14:23:37.687Z"
   },
   {
    "duration": 93,
    "start_time": "2024-02-07T14:25:06.941Z"
   },
   {
    "duration": 5,
    "start_time": "2024-02-07T14:26:43.019Z"
   },
   {
    "duration": 3,
    "start_time": "2024-02-07T14:27:26.492Z"
   },
   {
    "duration": 5,
    "start_time": "2024-02-07T14:27:28.224Z"
   },
   {
    "duration": 3,
    "start_time": "2024-02-07T14:27:38.720Z"
   },
   {
    "duration": 5,
    "start_time": "2024-02-07T14:27:40.021Z"
   },
   {
    "duration": 4,
    "start_time": "2024-02-07T14:28:56.334Z"
   },
   {
    "duration": 13,
    "start_time": "2024-02-07T14:28:56.858Z"
   },
   {
    "duration": 4,
    "start_time": "2024-02-07T14:28:57.721Z"
   },
   {
    "duration": 3,
    "start_time": "2024-02-07T14:28:59.475Z"
   },
   {
    "duration": 4,
    "start_time": "2024-02-07T14:29:00.083Z"
   },
   {
    "duration": 4,
    "start_time": "2024-02-07T14:29:08.651Z"
   },
   {
    "duration": 4,
    "start_time": "2024-02-07T14:29:26.579Z"
   },
   {
    "duration": 4,
    "start_time": "2024-02-07T14:32:33.436Z"
   },
   {
    "duration": 5,
    "start_time": "2024-02-07T14:32:33.931Z"
   },
   {
    "duration": 5,
    "start_time": "2024-02-07T14:32:34.294Z"
   },
   {
    "duration": 14,
    "start_time": "2024-02-07T14:32:34.905Z"
   },
   {
    "duration": 5,
    "start_time": "2024-02-07T14:32:40.068Z"
   },
   {
    "duration": 126,
    "start_time": "2024-02-07T14:38:47.252Z"
   },
   {
    "duration": 207,
    "start_time": "2024-02-07T14:40:44.781Z"
   },
   {
    "duration": 201,
    "start_time": "2024-02-07T14:42:38.930Z"
   },
   {
    "duration": 208,
    "start_time": "2024-02-07T14:43:44.683Z"
   },
   {
    "duration": 204,
    "start_time": "2024-02-07T14:43:51.994Z"
   },
   {
    "duration": 121,
    "start_time": "2024-02-07T14:44:07.296Z"
   },
   {
    "duration": 162,
    "start_time": "2024-02-07T15:51:11.255Z"
   },
   {
    "duration": 255,
    "start_time": "2024-02-07T15:54:34.162Z"
   },
   {
    "duration": 123,
    "start_time": "2024-02-07T15:55:10.736Z"
   },
   {
    "duration": 123,
    "start_time": "2024-02-07T15:55:14.759Z"
   },
   {
    "duration": 1036,
    "start_time": "2024-02-07T15:57:41.184Z"
   },
   {
    "duration": 53,
    "start_time": "2024-02-07T15:57:42.221Z"
   },
   {
    "duration": 18,
    "start_time": "2024-02-07T15:57:42.276Z"
   },
   {
    "duration": 12,
    "start_time": "2024-02-07T15:57:42.296Z"
   },
   {
    "duration": 4,
    "start_time": "2024-02-07T15:57:42.310Z"
   },
   {
    "duration": 21,
    "start_time": "2024-02-07T15:57:42.315Z"
   },
   {
    "duration": 20,
    "start_time": "2024-02-07T15:57:42.337Z"
   },
   {
    "duration": 35,
    "start_time": "2024-02-07T15:57:42.359Z"
   },
   {
    "duration": 28,
    "start_time": "2024-02-07T15:57:42.395Z"
   },
   {
    "duration": 21,
    "start_time": "2024-02-07T15:57:42.424Z"
   },
   {
    "duration": 56,
    "start_time": "2024-02-07T15:57:42.446Z"
   },
   {
    "duration": 21,
    "start_time": "2024-02-07T15:57:42.503Z"
   },
   {
    "duration": 17,
    "start_time": "2024-02-07T15:57:42.525Z"
   },
   {
    "duration": 48,
    "start_time": "2024-02-07T15:57:42.545Z"
   },
   {
    "duration": 22,
    "start_time": "2024-02-07T15:57:42.595Z"
   },
   {
    "duration": 41,
    "start_time": "2024-02-07T15:57:42.618Z"
   },
   {
    "duration": 26,
    "start_time": "2024-02-07T15:57:42.661Z"
   },
   {
    "duration": 4,
    "start_time": "2024-02-07T15:57:42.688Z"
   },
   {
    "duration": 21,
    "start_time": "2024-02-07T15:57:42.693Z"
   },
   {
    "duration": 17,
    "start_time": "2024-02-07T15:57:42.716Z"
   },
   {
    "duration": 9,
    "start_time": "2024-02-07T15:57:42.734Z"
   },
   {
    "duration": 16,
    "start_time": "2024-02-07T15:57:42.744Z"
   },
   {
    "duration": 10,
    "start_time": "2024-02-07T15:57:42.762Z"
   },
   {
    "duration": 15,
    "start_time": "2024-02-07T15:57:42.773Z"
   },
   {
    "duration": 22,
    "start_time": "2024-02-07T15:57:42.789Z"
   },
   {
    "duration": 16,
    "start_time": "2024-02-07T16:00:44.798Z"
   },
   {
    "duration": 8,
    "start_time": "2024-02-07T16:00:44.815Z"
   },
   {
    "duration": 5,
    "start_time": "2024-02-07T16:00:44.824Z"
   },
   {
    "duration": 21,
    "start_time": "2024-02-07T16:00:44.830Z"
   },
   {
    "duration": 150,
    "start_time": "2024-02-07T16:00:44.853Z"
   },
   {
    "duration": 8,
    "start_time": "2024-02-07T16:00:45.004Z"
   },
   {
    "duration": 44,
    "start_time": "2024-02-07T16:00:45.014Z"
   },
   {
    "duration": 34,
    "start_time": "2024-02-07T16:00:45.060Z"
   },
   {
    "duration": 306,
    "start_time": "2024-02-07T16:00:45.096Z"
   },
   {
    "duration": 257,
    "start_time": "2024-02-07T16:00:45.403Z"
   },
   {
    "duration": 5,
    "start_time": "2024-02-07T16:00:45.661Z"
   },
   {
    "duration": 154,
    "start_time": "2024-02-07T16:00:45.667Z"
   },
   {
    "duration": 4,
    "start_time": "2024-02-07T16:00:45.822Z"
   },
   {
    "duration": 155,
    "start_time": "2024-02-07T16:00:45.830Z"
   },
   {
    "duration": 4,
    "start_time": "2024-02-07T16:00:45.987Z"
   },
   {
    "duration": 133,
    "start_time": "2024-02-07T16:00:45.992Z"
   },
   {
    "duration": 5,
    "start_time": "2024-02-07T16:00:46.127Z"
   },
   {
    "duration": 138,
    "start_time": "2024-02-07T16:00:46.133Z"
   },
   {
    "duration": 5,
    "start_time": "2024-02-07T16:00:46.272Z"
   },
   {
    "duration": 16,
    "start_time": "2024-02-07T16:00:46.278Z"
   },
   {
    "duration": 179,
    "start_time": "2024-02-07T16:00:46.295Z"
   },
   {
    "duration": 13,
    "start_time": "2024-02-07T16:00:46.475Z"
   },
   {
    "duration": 18,
    "start_time": "2024-02-07T16:00:46.490Z"
   },
   {
    "duration": 7,
    "start_time": "2024-02-07T16:00:46.510Z"
   },
   {
    "duration": 264,
    "start_time": "2024-02-07T16:00:46.519Z"
   },
   {
    "duration": 9,
    "start_time": "2024-02-07T16:00:46.784Z"
   },
   {
    "duration": 244,
    "start_time": "2024-02-07T16:00:46.794Z"
   },
   {
    "duration": 13,
    "start_time": "2024-02-07T16:00:47.039Z"
   },
   {
    "duration": 277,
    "start_time": "2024-02-07T16:00:47.053Z"
   },
   {
    "duration": 20,
    "start_time": "2024-02-07T16:00:47.331Z"
   },
   {
    "duration": 8,
    "start_time": "2024-02-07T16:00:47.352Z"
   },
   {
    "duration": 154,
    "start_time": "2024-02-07T16:00:47.362Z"
   },
   {
    "duration": 10,
    "start_time": "2024-02-07T16:00:47.517Z"
   },
   {
    "duration": 208,
    "start_time": "2024-02-07T16:00:47.528Z"
   },
   {
    "duration": 13,
    "start_time": "2024-02-07T16:00:47.737Z"
   },
   {
    "duration": 222,
    "start_time": "2024-02-07T16:00:47.752Z"
   },
   {
    "duration": 15,
    "start_time": "2024-02-07T16:00:47.976Z"
   },
   {
    "duration": 216,
    "start_time": "2024-02-07T16:00:47.992Z"
   },
   {
    "duration": 5,
    "start_time": "2024-02-07T16:00:48.209Z"
   },
   {
    "duration": 20,
    "start_time": "2024-02-07T16:00:48.216Z"
   },
   {
    "duration": 10,
    "start_time": "2024-02-07T16:00:48.238Z"
   },
   {
    "duration": 5,
    "start_time": "2024-02-07T16:00:48.250Z"
   },
   {
    "duration": 6,
    "start_time": "2024-02-07T16:00:48.256Z"
   },
   {
    "duration": 6,
    "start_time": "2024-02-07T16:00:48.263Z"
   },
   {
    "duration": 28,
    "start_time": "2024-02-07T16:00:48.270Z"
   },
   {
    "duration": 6,
    "start_time": "2024-02-07T16:00:48.299Z"
   },
   {
    "duration": 1015,
    "start_time": "2024-02-07T16:06:05.109Z"
   },
   {
    "duration": 53,
    "start_time": "2024-02-07T16:06:06.125Z"
   },
   {
    "duration": 17,
    "start_time": "2024-02-07T16:06:06.180Z"
   },
   {
    "duration": 20,
    "start_time": "2024-02-07T16:06:06.199Z"
   },
   {
    "duration": 3,
    "start_time": "2024-02-07T16:06:06.221Z"
   },
   {
    "duration": 7,
    "start_time": "2024-02-07T16:06:06.225Z"
   },
   {
    "duration": 29,
    "start_time": "2024-02-07T16:06:06.234Z"
   },
   {
    "duration": 23,
    "start_time": "2024-02-07T16:06:06.265Z"
   },
   {
    "duration": 30,
    "start_time": "2024-02-07T16:06:06.290Z"
   },
   {
    "duration": 8,
    "start_time": "2024-02-07T16:06:06.323Z"
   },
   {
    "duration": 50,
    "start_time": "2024-02-07T16:06:06.333Z"
   },
   {
    "duration": 12,
    "start_time": "2024-02-07T16:06:06.384Z"
   },
   {
    "duration": 16,
    "start_time": "2024-02-07T16:06:06.398Z"
   },
   {
    "duration": 13,
    "start_time": "2024-02-07T16:06:06.415Z"
   },
   {
    "duration": 21,
    "start_time": "2024-02-07T16:06:06.429Z"
   },
   {
    "duration": 31,
    "start_time": "2024-02-07T16:06:06.451Z"
   },
   {
    "duration": 26,
    "start_time": "2024-02-07T16:06:06.483Z"
   },
   {
    "duration": 6,
    "start_time": "2024-02-07T16:06:06.510Z"
   },
   {
    "duration": 15,
    "start_time": "2024-02-07T16:06:06.517Z"
   },
   {
    "duration": 5,
    "start_time": "2024-02-07T16:06:06.533Z"
   },
   {
    "duration": 4,
    "start_time": "2024-02-07T16:06:06.540Z"
   },
   {
    "duration": 34,
    "start_time": "2024-02-07T16:06:06.546Z"
   },
   {
    "duration": 5,
    "start_time": "2024-02-07T16:06:06.582Z"
   },
   {
    "duration": 15,
    "start_time": "2024-02-07T16:06:06.588Z"
   },
   {
    "duration": 16,
    "start_time": "2024-02-07T16:06:06.605Z"
   },
   {
    "duration": 88,
    "start_time": "2024-02-07T16:06:06.622Z"
   },
   {
    "duration": 0,
    "start_time": "2024-02-07T16:06:06.712Z"
   },
   {
    "duration": 0,
    "start_time": "2024-02-07T16:06:06.714Z"
   },
   {
    "duration": 0,
    "start_time": "2024-02-07T16:06:06.715Z"
   },
   {
    "duration": 0,
    "start_time": "2024-02-07T16:06:06.716Z"
   },
   {
    "duration": 0,
    "start_time": "2024-02-07T16:06:06.717Z"
   },
   {
    "duration": 0,
    "start_time": "2024-02-07T16:06:06.718Z"
   },
   {
    "duration": 0,
    "start_time": "2024-02-07T16:06:06.719Z"
   },
   {
    "duration": 0,
    "start_time": "2024-02-07T16:06:06.720Z"
   },
   {
    "duration": 0,
    "start_time": "2024-02-07T16:06:06.722Z"
   },
   {
    "duration": 0,
    "start_time": "2024-02-07T16:06:06.723Z"
   },
   {
    "duration": 0,
    "start_time": "2024-02-07T16:06:06.724Z"
   },
   {
    "duration": 0,
    "start_time": "2024-02-07T16:06:06.725Z"
   },
   {
    "duration": 1,
    "start_time": "2024-02-07T16:06:06.744Z"
   },
   {
    "duration": 0,
    "start_time": "2024-02-07T16:06:06.746Z"
   },
   {
    "duration": 0,
    "start_time": "2024-02-07T16:06:06.747Z"
   },
   {
    "duration": 0,
    "start_time": "2024-02-07T16:06:06.748Z"
   },
   {
    "duration": 0,
    "start_time": "2024-02-07T16:06:06.749Z"
   },
   {
    "duration": 0,
    "start_time": "2024-02-07T16:06:06.749Z"
   },
   {
    "duration": 0,
    "start_time": "2024-02-07T16:06:06.750Z"
   },
   {
    "duration": 0,
    "start_time": "2024-02-07T16:06:06.751Z"
   },
   {
    "duration": 0,
    "start_time": "2024-02-07T16:06:06.752Z"
   },
   {
    "duration": 0,
    "start_time": "2024-02-07T16:06:06.753Z"
   },
   {
    "duration": 0,
    "start_time": "2024-02-07T16:06:06.754Z"
   },
   {
    "duration": 0,
    "start_time": "2024-02-07T16:06:06.755Z"
   },
   {
    "duration": 0,
    "start_time": "2024-02-07T16:06:06.756Z"
   },
   {
    "duration": 0,
    "start_time": "2024-02-07T16:06:06.756Z"
   },
   {
    "duration": 0,
    "start_time": "2024-02-07T16:06:06.757Z"
   },
   {
    "duration": 0,
    "start_time": "2024-02-07T16:06:06.758Z"
   },
   {
    "duration": 0,
    "start_time": "2024-02-07T16:06:06.759Z"
   },
   {
    "duration": 0,
    "start_time": "2024-02-07T16:06:06.760Z"
   },
   {
    "duration": 0,
    "start_time": "2024-02-07T16:06:06.761Z"
   },
   {
    "duration": 0,
    "start_time": "2024-02-07T16:06:06.762Z"
   },
   {
    "duration": 0,
    "start_time": "2024-02-07T16:06:06.763Z"
   },
   {
    "duration": 0,
    "start_time": "2024-02-07T16:06:06.764Z"
   },
   {
    "duration": 0,
    "start_time": "2024-02-07T16:06:06.765Z"
   },
   {
    "duration": 0,
    "start_time": "2024-02-07T16:06:06.766Z"
   },
   {
    "duration": 0,
    "start_time": "2024-02-07T16:06:06.767Z"
   },
   {
    "duration": 0,
    "start_time": "2024-02-07T16:06:06.768Z"
   },
   {
    "duration": 0,
    "start_time": "2024-02-07T16:06:06.769Z"
   },
   {
    "duration": 0,
    "start_time": "2024-02-07T16:06:06.770Z"
   },
   {
    "duration": 0,
    "start_time": "2024-02-07T16:06:06.771Z"
   },
   {
    "duration": 0,
    "start_time": "2024-02-07T16:06:06.772Z"
   },
   {
    "duration": 0,
    "start_time": "2024-02-07T16:06:06.773Z"
   },
   {
    "duration": 0,
    "start_time": "2024-02-07T16:06:06.774Z"
   },
   {
    "duration": 0,
    "start_time": "2024-02-07T16:06:06.774Z"
   },
   {
    "duration": 0,
    "start_time": "2024-02-07T16:06:06.775Z"
   },
   {
    "duration": 0,
    "start_time": "2024-02-07T16:06:06.776Z"
   },
   {
    "duration": 4,
    "start_time": "2024-02-07T16:06:27.624Z"
   },
   {
    "duration": 8,
    "start_time": "2024-02-07T16:06:38.874Z"
   },
   {
    "duration": 8,
    "start_time": "2024-02-07T16:06:54.643Z"
   },
   {
    "duration": 10,
    "start_time": "2024-02-07T16:08:28.527Z"
   },
   {
    "duration": 7,
    "start_time": "2024-02-07T16:08:29.531Z"
   },
   {
    "duration": 2,
    "start_time": "2024-02-07T16:08:37.363Z"
   },
   {
    "duration": 8,
    "start_time": "2024-02-07T16:08:37.819Z"
   },
   {
    "duration": 8,
    "start_time": "2024-02-07T16:08:39.965Z"
   },
   {
    "duration": 91,
    "start_time": "2024-02-07T16:12:27.099Z"
   },
   {
    "duration": 157,
    "start_time": "2024-02-07T16:12:36.481Z"
   },
   {
    "duration": 2,
    "start_time": "2024-02-07T16:14:25.728Z"
   },
   {
    "duration": 12,
    "start_time": "2024-02-07T16:14:27.977Z"
   },
   {
    "duration": 4,
    "start_time": "2024-02-07T16:14:30.736Z"
   },
   {
    "duration": 4,
    "start_time": "2024-02-07T16:14:31.639Z"
   },
   {
    "duration": 3,
    "start_time": "2024-02-07T16:14:31.990Z"
   },
   {
    "duration": 5,
    "start_time": "2024-02-07T16:14:32.933Z"
   },
   {
    "duration": 5,
    "start_time": "2024-02-07T16:14:33.207Z"
   },
   {
    "duration": 5,
    "start_time": "2024-02-07T16:14:33.455Z"
   },
   {
    "duration": 15,
    "start_time": "2024-02-07T16:14:33.664Z"
   },
   {
    "duration": 5,
    "start_time": "2024-02-07T16:14:36.570Z"
   },
   {
    "duration": 137,
    "start_time": "2024-02-07T16:14:38.878Z"
   },
   {
    "duration": 232,
    "start_time": "2024-02-07T16:16:53.848Z"
   },
   {
    "duration": 190,
    "start_time": "2024-02-07T16:17:18.720Z"
   },
   {
    "duration": 259,
    "start_time": "2024-02-07T16:19:59.085Z"
   },
   {
    "duration": 5,
    "start_time": "2024-02-07T16:20:05.766Z"
   },
   {
    "duration": 66,
    "start_time": "2024-02-07T16:26:04.698Z"
   },
   {
    "duration": 64,
    "start_time": "2024-02-07T16:26:31.513Z"
   },
   {
    "duration": 9,
    "start_time": "2024-02-07T16:26:39.825Z"
   },
   {
    "duration": 10,
    "start_time": "2024-02-07T16:26:47.301Z"
   },
   {
    "duration": 64,
    "start_time": "2024-02-07T16:26:54.127Z"
   },
   {
    "duration": 8,
    "start_time": "2024-02-07T16:27:01.609Z"
   },
   {
    "duration": 9,
    "start_time": "2024-02-07T16:27:11.950Z"
   },
   {
    "duration": 8,
    "start_time": "2024-02-07T16:27:28.634Z"
   },
   {
    "duration": 8,
    "start_time": "2024-02-07T16:27:30.150Z"
   },
   {
    "duration": 29,
    "start_time": "2024-02-07T16:31:59.149Z"
   },
   {
    "duration": 340,
    "start_time": "2024-02-07T16:32:17.405Z"
   },
   {
    "duration": 10,
    "start_time": "2024-02-07T16:34:07.300Z"
   },
   {
    "duration": 255,
    "start_time": "2024-02-07T16:34:11.834Z"
   },
   {
    "duration": 256,
    "start_time": "2024-02-07T16:34:24.029Z"
   },
   {
    "duration": 4,
    "start_time": "2024-02-07T16:34:50.095Z"
   },
   {
    "duration": 14,
    "start_time": "2024-02-07T16:34:55.603Z"
   },
   {
    "duration": 137,
    "start_time": "2024-02-07T16:34:57.365Z"
   },
   {
    "duration": 7,
    "start_time": "2024-02-07T16:36:51.265Z"
   },
   {
    "duration": 9,
    "start_time": "2024-02-07T16:36:51.607Z"
   },
   {
    "duration": 6,
    "start_time": "2024-02-07T16:36:57.434Z"
   },
   {
    "duration": 19,
    "start_time": "2024-02-07T16:36:59.198Z"
   },
   {
    "duration": 12,
    "start_time": "2024-02-07T16:37:00.150Z"
   },
   {
    "duration": 282,
    "start_time": "2024-02-07T16:37:01.600Z"
   },
   {
    "duration": 61,
    "start_time": "2024-02-07T16:39:50.056Z"
   },
   {
    "duration": 252,
    "start_time": "2024-02-07T16:40:37.445Z"
   },
   {
    "duration": 88,
    "start_time": "2024-02-07T16:42:33.282Z"
   },
   {
    "duration": 71,
    "start_time": "2024-02-07T16:43:11.221Z"
   },
   {
    "duration": 76,
    "start_time": "2024-02-07T16:43:18.272Z"
   },
   {
    "duration": 73,
    "start_time": "2024-02-07T16:43:23.449Z"
   },
   {
    "duration": 79,
    "start_time": "2024-02-07T16:43:35.697Z"
   },
   {
    "duration": 68,
    "start_time": "2024-02-07T16:45:55.337Z"
   },
   {
    "duration": 273,
    "start_time": "2024-02-07T16:46:16.289Z"
   },
   {
    "duration": 62,
    "start_time": "2024-02-07T16:48:23.057Z"
   },
   {
    "duration": 74,
    "start_time": "2024-02-07T16:48:34.078Z"
   },
   {
    "duration": 85,
    "start_time": "2024-02-07T16:48:42.704Z"
   },
   {
    "duration": 71,
    "start_time": "2024-02-07T16:48:55.891Z"
   },
   {
    "duration": 68,
    "start_time": "2024-02-07T16:49:28.050Z"
   },
   {
    "duration": 68,
    "start_time": "2024-02-07T16:49:47.137Z"
   },
   {
    "duration": 131,
    "start_time": "2024-02-07T16:49:50.798Z"
   },
   {
    "duration": 197,
    "start_time": "2024-02-07T16:49:54.755Z"
   },
   {
    "duration": 246,
    "start_time": "2024-02-07T16:50:05.664Z"
   },
   {
    "duration": 320,
    "start_time": "2024-02-07T16:52:32.829Z"
   },
   {
    "duration": 19,
    "start_time": "2024-02-07T16:52:57.409Z"
   },
   {
    "duration": 13,
    "start_time": "2024-02-07T16:53:00.383Z"
   },
   {
    "duration": 281,
    "start_time": "2024-02-07T16:53:00.651Z"
   },
   {
    "duration": 83,
    "start_time": "2024-02-07T16:53:12.932Z"
   },
   {
    "duration": 217,
    "start_time": "2024-02-07T16:53:54.516Z"
   },
   {
    "duration": 243,
    "start_time": "2024-02-07T16:54:00.746Z"
   },
   {
    "duration": 222,
    "start_time": "2024-02-07T17:17:26.952Z"
   },
   {
    "duration": 291,
    "start_time": "2024-02-07T17:17:32.449Z"
   },
   {
    "duration": 268,
    "start_time": "2024-02-07T17:17:47.529Z"
   },
   {
    "duration": 242,
    "start_time": "2024-02-07T17:17:58.277Z"
   },
   {
    "duration": 252,
    "start_time": "2024-02-07T17:19:22.913Z"
   },
   {
    "duration": 241,
    "start_time": "2024-02-07T17:19:39.768Z"
   },
   {
    "duration": 251,
    "start_time": "2024-02-07T17:19:49.368Z"
   },
   {
    "duration": 5,
    "start_time": "2024-02-07T17:20:33.391Z"
   },
   {
    "duration": 220,
    "start_time": "2024-02-07T17:20:34.387Z"
   },
   {
    "duration": 6,
    "start_time": "2024-02-07T17:20:34.932Z"
   },
   {
    "duration": 133,
    "start_time": "2024-02-07T17:20:37.851Z"
   },
   {
    "duration": 5,
    "start_time": "2024-02-07T17:20:41.454Z"
   },
   {
    "duration": 98,
    "start_time": "2024-02-07T17:26:37.723Z"
   },
   {
    "duration": 131,
    "start_time": "2024-02-07T17:29:39.189Z"
   },
   {
    "duration": 5,
    "start_time": "2024-02-07T17:30:08.881Z"
   },
   {
    "duration": 114,
    "start_time": "2024-02-07T17:30:09.814Z"
   },
   {
    "duration": 4,
    "start_time": "2024-02-07T17:30:11.086Z"
   },
   {
    "duration": 5,
    "start_time": "2024-02-07T17:36:09.211Z"
   },
   {
    "duration": 140,
    "start_time": "2024-02-07T17:36:10.110Z"
   },
   {
    "duration": 8,
    "start_time": "2024-02-07T17:39:25.867Z"
   },
   {
    "duration": 426,
    "start_time": "2024-02-07T17:40:47.686Z"
   },
   {
    "duration": 405,
    "start_time": "2024-02-07T17:41:13.095Z"
   },
   {
    "duration": 8,
    "start_time": "2024-02-07T17:41:54.009Z"
   },
   {
    "duration": 8,
    "start_time": "2024-02-07T17:44:54.450Z"
   },
   {
    "duration": 417,
    "start_time": "2024-02-07T17:44:55.748Z"
   },
   {
    "duration": 6,
    "start_time": "2024-02-07T17:47:18.299Z"
   },
   {
    "duration": 193,
    "start_time": "2024-02-07T17:50:02.411Z"
   },
   {
    "duration": 4,
    "start_time": "2024-02-07T17:50:28.502Z"
   },
   {
    "duration": 70,
    "start_time": "2024-02-07T17:50:52.783Z"
   },
   {
    "duration": 4,
    "start_time": "2024-02-07T17:51:05.085Z"
   },
   {
    "duration": 3,
    "start_time": "2024-02-07T17:51:39.510Z"
   },
   {
    "duration": 8,
    "start_time": "2024-02-07T17:52:37.787Z"
   },
   {
    "duration": 451,
    "start_time": "2024-02-07T17:52:53.376Z"
   },
   {
    "duration": 4,
    "start_time": "2024-02-07T17:53:27.651Z"
   },
   {
    "duration": 365,
    "start_time": "2024-02-07T17:59:47.258Z"
   },
   {
    "duration": 4,
    "start_time": "2024-02-07T18:02:13.159Z"
   },
   {
    "duration": 4,
    "start_time": "2024-02-07T18:02:13.959Z"
   },
   {
    "duration": 4,
    "start_time": "2024-02-07T18:02:14.755Z"
   },
   {
    "duration": 143,
    "start_time": "2024-02-07T18:05:13.280Z"
   },
   {
    "duration": 5,
    "start_time": "2024-02-07T18:17:01.327Z"
   },
   {
    "duration": 12,
    "start_time": "2024-02-07T18:20:18.585Z"
   },
   {
    "duration": 170,
    "start_time": "2024-02-07T18:20:27.404Z"
   },
   {
    "duration": 139,
    "start_time": "2024-02-07T18:22:54.118Z"
   },
   {
    "duration": 142,
    "start_time": "2024-02-07T18:24:52.808Z"
   },
   {
    "duration": 166,
    "start_time": "2024-02-07T18:26:19.488Z"
   },
   {
    "duration": 175,
    "start_time": "2024-02-07T18:27:33.379Z"
   },
   {
    "duration": 68,
    "start_time": "2024-02-07T18:28:16.007Z"
   },
   {
    "duration": 181,
    "start_time": "2024-02-07T18:28:57.123Z"
   },
   {
    "duration": 9,
    "start_time": "2024-02-07T18:31:13.364Z"
   },
   {
    "duration": 68,
    "start_time": "2024-02-07T18:32:54.361Z"
   },
   {
    "duration": 66,
    "start_time": "2024-02-07T18:32:58.219Z"
   },
   {
    "duration": 8,
    "start_time": "2024-02-07T18:35:35.476Z"
   },
   {
    "duration": 9,
    "start_time": "2024-02-07T18:35:54.922Z"
   },
   {
    "duration": 14,
    "start_time": "2024-02-07T18:37:01.938Z"
   },
   {
    "duration": 5,
    "start_time": "2024-02-07T18:38:12.696Z"
   },
   {
    "duration": 54,
    "start_time": "2024-02-07T18:38:31.630Z"
   },
   {
    "duration": 5,
    "start_time": "2024-02-07T18:38:40.261Z"
   },
   {
    "duration": 9,
    "start_time": "2024-02-07T18:38:49.254Z"
   },
   {
    "duration": 21,
    "start_time": "2024-02-07T18:47:38.034Z"
   },
   {
    "duration": 9,
    "start_time": "2024-02-07T18:47:38.677Z"
   },
   {
    "duration": 337,
    "start_time": "2024-02-07T18:47:39.458Z"
   },
   {
    "duration": 9,
    "start_time": "2024-02-07T18:47:41.171Z"
   },
   {
    "duration": 241,
    "start_time": "2024-02-07T18:47:41.634Z"
   },
   {
    "duration": 8,
    "start_time": "2024-02-07T18:47:42.109Z"
   },
   {
    "duration": 246,
    "start_time": "2024-02-07T18:47:42.917Z"
   },
   {
    "duration": 16,
    "start_time": "2024-02-07T18:47:45.003Z"
   },
   {
    "duration": 9,
    "start_time": "2024-02-07T18:47:45.585Z"
   },
   {
    "duration": 135,
    "start_time": "2024-02-07T18:47:46.195Z"
   },
   {
    "duration": 11,
    "start_time": "2024-02-07T18:47:47.457Z"
   },
   {
    "duration": 148,
    "start_time": "2024-02-07T18:47:47.911Z"
   },
   {
    "duration": 9,
    "start_time": "2024-02-07T18:47:48.393Z"
   },
   {
    "duration": 153,
    "start_time": "2024-02-07T18:47:49.235Z"
   },
   {
    "duration": 16,
    "start_time": "2024-02-07T18:47:51.245Z"
   },
   {
    "duration": 201,
    "start_time": "2024-02-07T18:47:51.927Z"
   },
   {
    "duration": 174,
    "start_time": "2024-02-07T18:49:53.147Z"
   },
   {
    "duration": 13,
    "start_time": "2024-02-07T18:50:30.404Z"
   },
   {
    "duration": 117,
    "start_time": "2024-02-07T18:51:05.730Z"
   },
   {
    "duration": 16,
    "start_time": "2024-02-07T18:54:33.287Z"
   },
   {
    "duration": 9,
    "start_time": "2024-02-07T18:54:38.514Z"
   },
   {
    "duration": 216,
    "start_time": "2024-02-07T18:54:50.136Z"
   },
   {
    "duration": 103,
    "start_time": "2024-02-07T18:55:04.848Z"
   },
   {
    "duration": 70,
    "start_time": "2024-02-07T18:56:25.502Z"
   },
   {
    "duration": 9,
    "start_time": "2024-02-07T18:56:55.849Z"
   },
   {
    "duration": 124,
    "start_time": "2024-02-07T18:57:06.951Z"
   },
   {
    "duration": 9,
    "start_time": "2024-02-07T18:57:13.691Z"
   },
   {
    "duration": 111,
    "start_time": "2024-02-07T18:57:20.863Z"
   },
   {
    "duration": 9,
    "start_time": "2024-02-07T18:58:44.826Z"
   },
   {
    "duration": 9,
    "start_time": "2024-02-07T18:58:51.243Z"
   },
   {
    "duration": 10,
    "start_time": "2024-02-07T18:59:08.039Z"
   },
   {
    "duration": 109,
    "start_time": "2024-02-07T18:59:20.142Z"
   },
   {
    "duration": 218,
    "start_time": "2024-02-07T18:59:27.508Z"
   },
   {
    "duration": 8,
    "start_time": "2024-02-07T18:59:43.053Z"
   },
   {
    "duration": 107,
    "start_time": "2024-02-07T18:59:53.497Z"
   },
   {
    "duration": 106,
    "start_time": "2024-02-07T19:00:00.401Z"
   },
   {
    "duration": 113,
    "start_time": "2024-02-07T19:02:00.908Z"
   },
   {
    "duration": 14,
    "start_time": "2024-02-07T19:02:13.928Z"
   },
   {
    "duration": 10,
    "start_time": "2024-02-07T19:02:24.648Z"
   },
   {
    "duration": 14,
    "start_time": "2024-02-07T19:02:33.638Z"
   },
   {
    "duration": 109,
    "start_time": "2024-02-07T19:02:38.693Z"
   },
   {
    "duration": 4,
    "start_time": "2024-02-07T19:02:58.523Z"
   },
   {
    "duration": 10,
    "start_time": "2024-02-07T19:03:04.765Z"
   },
   {
    "duration": 4,
    "start_time": "2024-02-07T19:11:43.919Z"
   },
   {
    "duration": 8,
    "start_time": "2024-02-07T19:11:52.381Z"
   },
   {
    "duration": 10,
    "start_time": "2024-02-07T19:12:00.934Z"
   },
   {
    "duration": 89,
    "start_time": "2024-02-07T19:12:25.788Z"
   },
   {
    "duration": 74,
    "start_time": "2024-02-07T19:12:34.588Z"
   },
   {
    "duration": 70,
    "start_time": "2024-02-07T19:13:06.475Z"
   },
   {
    "duration": 90,
    "start_time": "2024-02-07T19:13:11.629Z"
   },
   {
    "duration": 68,
    "start_time": "2024-02-07T19:14:11.043Z"
   },
   {
    "duration": 72,
    "start_time": "2024-02-07T19:14:22.402Z"
   },
   {
    "duration": 75,
    "start_time": "2024-02-07T19:14:26.949Z"
   },
   {
    "duration": 99,
    "start_time": "2024-02-07T19:14:44.517Z"
   },
   {
    "duration": 69,
    "start_time": "2024-02-07T19:14:48.467Z"
   },
   {
    "duration": 81,
    "start_time": "2024-02-07T19:15:01.825Z"
   },
   {
    "duration": 10,
    "start_time": "2024-02-07T19:15:49.647Z"
   },
   {
    "duration": 112,
    "start_time": "2024-02-07T19:16:04.251Z"
   },
   {
    "duration": 8,
    "start_time": "2024-02-07T19:18:10.138Z"
   },
   {
    "duration": 11,
    "start_time": "2024-02-07T19:18:28.493Z"
   },
   {
    "duration": 13,
    "start_time": "2024-02-07T19:19:03.636Z"
   },
   {
    "duration": 75,
    "start_time": "2024-02-07T19:19:21.129Z"
   },
   {
    "duration": 7,
    "start_time": "2024-02-07T19:19:27.978Z"
   },
   {
    "duration": 15,
    "start_time": "2024-02-07T19:19:35.443Z"
   },
   {
    "duration": 8,
    "start_time": "2024-02-07T19:20:09.005Z"
   },
   {
    "duration": 8,
    "start_time": "2024-02-07T19:20:13.690Z"
   },
   {
    "duration": 12,
    "start_time": "2024-02-07T19:20:19.619Z"
   },
   {
    "duration": 12,
    "start_time": "2024-02-07T19:20:33.769Z"
   },
   {
    "duration": 13,
    "start_time": "2024-02-07T19:21:04.064Z"
   },
   {
    "duration": 12,
    "start_time": "2024-02-07T19:21:15.590Z"
   },
   {
    "duration": 12,
    "start_time": "2024-02-07T19:21:21.579Z"
   },
   {
    "duration": 18,
    "start_time": "2024-02-07T19:22:02.677Z"
   },
   {
    "duration": 13,
    "start_time": "2024-02-07T19:22:15.532Z"
   },
   {
    "duration": 12,
    "start_time": "2024-02-07T19:22:23.772Z"
   },
   {
    "duration": 14,
    "start_time": "2024-02-07T19:22:31.372Z"
   },
   {
    "duration": 14,
    "start_time": "2024-02-07T19:22:43.728Z"
   },
   {
    "duration": 76,
    "start_time": "2024-02-07T19:22:50.402Z"
   },
   {
    "duration": 69,
    "start_time": "2024-02-07T19:23:05.167Z"
   },
   {
    "duration": 13,
    "start_time": "2024-02-07T19:23:17.718Z"
   },
   {
    "duration": 12,
    "start_time": "2024-02-07T19:23:29.383Z"
   },
   {
    "duration": 12,
    "start_time": "2024-02-07T19:24:28.335Z"
   },
   {
    "duration": 13,
    "start_time": "2024-02-07T19:24:34.527Z"
   },
   {
    "duration": 9,
    "start_time": "2024-02-07T19:25:06.468Z"
   },
   {
    "duration": 14,
    "start_time": "2024-02-07T19:25:17.158Z"
   },
   {
    "duration": 112,
    "start_time": "2024-02-07T19:25:34.062Z"
   },
   {
    "duration": 12,
    "start_time": "2024-02-07T19:26:59.835Z"
   },
   {
    "duration": 117,
    "start_time": "2024-02-07T19:27:38.424Z"
   },
   {
    "duration": 13,
    "start_time": "2024-02-07T19:31:23.457Z"
   },
   {
    "duration": 8,
    "start_time": "2024-02-07T19:31:56.148Z"
   },
   {
    "duration": 128,
    "start_time": "2024-02-07T19:32:02.040Z"
   },
   {
    "duration": 115,
    "start_time": "2024-02-07T19:47:03.765Z"
   },
   {
    "duration": 15,
    "start_time": "2024-02-07T19:47:27.617Z"
   },
   {
    "duration": 12,
    "start_time": "2024-02-07T19:48:42.546Z"
   },
   {
    "duration": 129,
    "start_time": "2024-02-07T19:49:46.249Z"
   },
   {
    "duration": 79,
    "start_time": "2024-02-07T19:53:02.799Z"
   },
   {
    "duration": 79,
    "start_time": "2024-02-07T19:54:00.041Z"
   },
   {
    "duration": 14,
    "start_time": "2024-02-07T19:55:36.221Z"
   },
   {
    "duration": 15,
    "start_time": "2024-02-07T19:56:59.925Z"
   },
   {
    "duration": 12,
    "start_time": "2024-02-07T19:57:10.645Z"
   },
   {
    "duration": 131,
    "start_time": "2024-02-07T19:57:13.615Z"
   },
   {
    "duration": 14,
    "start_time": "2024-02-07T19:57:23.353Z"
   },
   {
    "duration": 12,
    "start_time": "2024-02-07T19:57:31.392Z"
   },
   {
    "duration": 12,
    "start_time": "2024-02-07T19:57:43.514Z"
   },
   {
    "duration": 121,
    "start_time": "2024-02-07T19:58:14.501Z"
   },
   {
    "duration": 132,
    "start_time": "2024-02-07T19:59:54.686Z"
   },
   {
    "duration": 128,
    "start_time": "2024-02-07T20:00:08.149Z"
   },
   {
    "duration": 118,
    "start_time": "2024-02-07T20:00:15.650Z"
   },
   {
    "duration": 131,
    "start_time": "2024-02-07T20:00:26.612Z"
   },
   {
    "duration": 122,
    "start_time": "2024-02-07T20:00:29.806Z"
   },
   {
    "duration": 12,
    "start_time": "2024-02-07T20:01:03.946Z"
   },
   {
    "duration": 238,
    "start_time": "2024-02-07T20:01:13.407Z"
   },
   {
    "duration": 123,
    "start_time": "2024-02-07T20:01:36.131Z"
   },
   {
    "duration": 122,
    "start_time": "2024-02-07T20:02:21.220Z"
   },
   {
    "duration": 15,
    "start_time": "2024-02-07T20:11:45.339Z"
   },
   {
    "duration": 9,
    "start_time": "2024-02-07T20:18:32.849Z"
   },
   {
    "duration": 12,
    "start_time": "2024-02-07T20:18:42.795Z"
   },
   {
    "duration": 141,
    "start_time": "2024-02-07T20:18:46.554Z"
   },
   {
    "duration": 136,
    "start_time": "2024-02-07T20:18:56.496Z"
   },
   {
    "duration": 9,
    "start_time": "2024-02-07T20:20:33.578Z"
   },
   {
    "duration": 8,
    "start_time": "2024-02-07T20:21:19.631Z"
   },
   {
    "duration": 125,
    "start_time": "2024-02-07T20:21:37.725Z"
   },
   {
    "duration": 11,
    "start_time": "2024-02-07T20:23:22.036Z"
   },
   {
    "duration": 146,
    "start_time": "2024-02-07T20:23:23.626Z"
   },
   {
    "duration": 17,
    "start_time": "2024-02-07T20:24:57.474Z"
   },
   {
    "duration": 11,
    "start_time": "2024-02-07T20:25:05.038Z"
   },
   {
    "duration": 11,
    "start_time": "2024-02-07T20:25:13.172Z"
   },
   {
    "duration": 133,
    "start_time": "2024-02-07T20:25:50.293Z"
   },
   {
    "duration": 138,
    "start_time": "2024-02-07T20:26:25.624Z"
   },
   {
    "duration": 5,
    "start_time": "2024-02-07T20:47:53.896Z"
   },
   {
    "duration": 4,
    "start_time": "2024-02-07T20:47:54.767Z"
   },
   {
    "duration": 3,
    "start_time": "2024-02-07T20:47:55.685Z"
   },
   {
    "duration": 3,
    "start_time": "2024-02-07T20:47:56.461Z"
   },
   {
    "duration": 64,
    "start_time": "2024-02-07T20:49:53.535Z"
   },
   {
    "duration": 9,
    "start_time": "2024-02-07T20:50:30.364Z"
   },
   {
    "duration": 5,
    "start_time": "2024-02-07T20:50:36.426Z"
   },
   {
    "duration": 5,
    "start_time": "2024-02-07T20:50:37.192Z"
   },
   {
    "duration": 78,
    "start_time": "2024-02-07T20:50:52.451Z"
   },
   {
    "duration": 3,
    "start_time": "2024-02-07T20:51:00.403Z"
   },
   {
    "duration": 3,
    "start_time": "2024-02-07T20:51:00.835Z"
   },
   {
    "duration": 1112,
    "start_time": "2024-02-07T21:06:34.615Z"
   },
   {
    "duration": 53,
    "start_time": "2024-02-07T21:06:35.728Z"
   },
   {
    "duration": 17,
    "start_time": "2024-02-07T21:06:35.783Z"
   },
   {
    "duration": 27,
    "start_time": "2024-02-07T21:06:35.802Z"
   },
   {
    "duration": 9,
    "start_time": "2024-02-07T21:06:35.830Z"
   },
   {
    "duration": 3,
    "start_time": "2024-02-07T21:06:35.840Z"
   },
   {
    "duration": 10,
    "start_time": "2024-02-07T21:06:35.844Z"
   },
   {
    "duration": 10,
    "start_time": "2024-02-07T21:06:35.855Z"
   },
   {
    "duration": 20,
    "start_time": "2024-02-07T21:06:35.866Z"
   },
   {
    "duration": 7,
    "start_time": "2024-02-07T21:06:35.888Z"
   },
   {
    "duration": 12,
    "start_time": "2024-02-07T21:06:35.896Z"
   },
   {
    "duration": 19,
    "start_time": "2024-02-07T21:06:35.910Z"
   },
   {
    "duration": 10,
    "start_time": "2024-02-07T21:06:35.931Z"
   },
   {
    "duration": 21,
    "start_time": "2024-02-07T21:06:35.945Z"
   },
   {
    "duration": 5,
    "start_time": "2024-02-07T21:06:35.967Z"
   },
   {
    "duration": 100,
    "start_time": "2024-02-07T21:06:35.974Z"
   },
   {
    "duration": 0,
    "start_time": "2024-02-07T21:06:36.077Z"
   },
   {
    "duration": 0,
    "start_time": "2024-02-07T21:06:36.078Z"
   },
   {
    "duration": 0,
    "start_time": "2024-02-07T21:06:36.079Z"
   },
   {
    "duration": 0,
    "start_time": "2024-02-07T21:06:36.080Z"
   },
   {
    "duration": 0,
    "start_time": "2024-02-07T21:06:36.081Z"
   },
   {
    "duration": 0,
    "start_time": "2024-02-07T21:06:36.082Z"
   },
   {
    "duration": 0,
    "start_time": "2024-02-07T21:06:36.083Z"
   },
   {
    "duration": 0,
    "start_time": "2024-02-07T21:06:36.083Z"
   },
   {
    "duration": 0,
    "start_time": "2024-02-07T21:06:36.084Z"
   },
   {
    "duration": 0,
    "start_time": "2024-02-07T21:06:36.085Z"
   },
   {
    "duration": 0,
    "start_time": "2024-02-07T21:06:36.086Z"
   },
   {
    "duration": 0,
    "start_time": "2024-02-07T21:06:36.087Z"
   },
   {
    "duration": 0,
    "start_time": "2024-02-07T21:06:36.087Z"
   },
   {
    "duration": 0,
    "start_time": "2024-02-07T21:06:36.088Z"
   },
   {
    "duration": 0,
    "start_time": "2024-02-07T21:06:36.089Z"
   },
   {
    "duration": 0,
    "start_time": "2024-02-07T21:06:36.090Z"
   },
   {
    "duration": 0,
    "start_time": "2024-02-07T21:06:36.091Z"
   },
   {
    "duration": 0,
    "start_time": "2024-02-07T21:06:36.092Z"
   },
   {
    "duration": 0,
    "start_time": "2024-02-07T21:06:36.092Z"
   },
   {
    "duration": 0,
    "start_time": "2024-02-07T21:06:36.093Z"
   },
   {
    "duration": 0,
    "start_time": "2024-02-07T21:06:36.094Z"
   },
   {
    "duration": 0,
    "start_time": "2024-02-07T21:06:36.094Z"
   },
   {
    "duration": 0,
    "start_time": "2024-02-07T21:06:36.095Z"
   },
   {
    "duration": 0,
    "start_time": "2024-02-07T21:06:36.096Z"
   },
   {
    "duration": 0,
    "start_time": "2024-02-07T21:06:36.097Z"
   },
   {
    "duration": 0,
    "start_time": "2024-02-07T21:06:36.098Z"
   },
   {
    "duration": 0,
    "start_time": "2024-02-07T21:06:36.098Z"
   },
   {
    "duration": 0,
    "start_time": "2024-02-07T21:06:36.099Z"
   },
   {
    "duration": 0,
    "start_time": "2024-02-07T21:06:36.100Z"
   },
   {
    "duration": 0,
    "start_time": "2024-02-07T21:06:36.101Z"
   },
   {
    "duration": 0,
    "start_time": "2024-02-07T21:06:36.102Z"
   },
   {
    "duration": 0,
    "start_time": "2024-02-07T21:06:36.103Z"
   },
   {
    "duration": 0,
    "start_time": "2024-02-07T21:06:36.103Z"
   },
   {
    "duration": 0,
    "start_time": "2024-02-07T21:06:36.104Z"
   },
   {
    "duration": 0,
    "start_time": "2024-02-07T21:06:36.105Z"
   },
   {
    "duration": 0,
    "start_time": "2024-02-07T21:06:36.106Z"
   },
   {
    "duration": 0,
    "start_time": "2024-02-07T21:06:36.145Z"
   },
   {
    "duration": 0,
    "start_time": "2024-02-07T21:06:36.146Z"
   },
   {
    "duration": 0,
    "start_time": "2024-02-07T21:06:36.147Z"
   },
   {
    "duration": 0,
    "start_time": "2024-02-07T21:06:36.148Z"
   },
   {
    "duration": 0,
    "start_time": "2024-02-07T21:06:36.149Z"
   },
   {
    "duration": 0,
    "start_time": "2024-02-07T21:06:36.150Z"
   },
   {
    "duration": 0,
    "start_time": "2024-02-07T21:06:36.151Z"
   },
   {
    "duration": 0,
    "start_time": "2024-02-07T21:06:36.152Z"
   },
   {
    "duration": 0,
    "start_time": "2024-02-07T21:06:36.153Z"
   },
   {
    "duration": 0,
    "start_time": "2024-02-07T21:06:36.154Z"
   },
   {
    "duration": 0,
    "start_time": "2024-02-07T21:06:36.155Z"
   },
   {
    "duration": 0,
    "start_time": "2024-02-07T21:06:36.156Z"
   },
   {
    "duration": 0,
    "start_time": "2024-02-07T21:06:36.157Z"
   },
   {
    "duration": 0,
    "start_time": "2024-02-07T21:06:36.157Z"
   },
   {
    "duration": 0,
    "start_time": "2024-02-07T21:06:36.159Z"
   },
   {
    "duration": 0,
    "start_time": "2024-02-07T21:06:36.160Z"
   },
   {
    "duration": 0,
    "start_time": "2024-02-07T21:06:36.161Z"
   },
   {
    "duration": 0,
    "start_time": "2024-02-07T21:06:36.162Z"
   },
   {
    "duration": 0,
    "start_time": "2024-02-07T21:06:36.163Z"
   },
   {
    "duration": 1,
    "start_time": "2024-02-07T21:06:36.163Z"
   },
   {
    "duration": 0,
    "start_time": "2024-02-07T21:06:36.164Z"
   },
   {
    "duration": 0,
    "start_time": "2024-02-07T21:06:36.165Z"
   },
   {
    "duration": 0,
    "start_time": "2024-02-07T21:06:36.167Z"
   },
   {
    "duration": 0,
    "start_time": "2024-02-07T21:06:36.167Z"
   },
   {
    "duration": 0,
    "start_time": "2024-02-07T21:06:36.168Z"
   },
   {
    "duration": 0,
    "start_time": "2024-02-07T21:06:36.169Z"
   },
   {
    "duration": 0,
    "start_time": "2024-02-07T21:06:36.170Z"
   },
   {
    "duration": 0,
    "start_time": "2024-02-07T21:06:36.172Z"
   },
   {
    "duration": 0,
    "start_time": "2024-02-07T21:06:36.173Z"
   },
   {
    "duration": 0,
    "start_time": "2024-02-07T21:06:36.174Z"
   },
   {
    "duration": 0,
    "start_time": "2024-02-07T21:06:36.175Z"
   },
   {
    "duration": 0,
    "start_time": "2024-02-07T21:06:36.176Z"
   },
   {
    "duration": 3,
    "start_time": "2024-02-07T21:09:15.315Z"
   },
   {
    "duration": 3,
    "start_time": "2024-02-07T21:09:49.761Z"
   },
   {
    "duration": 13,
    "start_time": "2024-02-07T21:09:53.408Z"
   },
   {
    "duration": 5,
    "start_time": "2024-02-07T21:09:59.056Z"
   },
   {
    "duration": 4,
    "start_time": "2024-02-07T21:11:25.100Z"
   },
   {
    "duration": 4,
    "start_time": "2024-02-07T21:11:28.222Z"
   },
   {
    "duration": 3,
    "start_time": "2024-02-07T21:11:39.373Z"
   },
   {
    "duration": 4,
    "start_time": "2024-02-07T21:11:51.501Z"
   },
   {
    "duration": 4,
    "start_time": "2024-02-07T21:11:53.387Z"
   },
   {
    "duration": 5,
    "start_time": "2024-02-07T21:11:53.852Z"
   },
   {
    "duration": 6,
    "start_time": "2024-02-07T21:11:54.651Z"
   },
   {
    "duration": 15,
    "start_time": "2024-02-07T21:12:57.116Z"
   },
   {
    "duration": 4,
    "start_time": "2024-02-07T21:13:06.895Z"
   },
   {
    "duration": 4,
    "start_time": "2024-02-07T21:13:09.159Z"
   },
   {
    "duration": 4,
    "start_time": "2024-02-07T21:13:33.438Z"
   },
   {
    "duration": 6,
    "start_time": "2024-02-07T21:13:40.029Z"
   },
   {
    "duration": 14,
    "start_time": "2024-02-07T21:13:42.324Z"
   },
   {
    "duration": 5,
    "start_time": "2024-02-07T21:13:54.750Z"
   },
   {
    "duration": 281,
    "start_time": "2024-02-07T21:14:00.676Z"
   },
   {
    "duration": 5,
    "start_time": "2024-02-07T21:16:03.411Z"
   },
   {
    "duration": 5,
    "start_time": "2024-02-07T21:16:10.241Z"
   },
   {
    "duration": 10,
    "start_time": "2024-02-07T21:16:18.168Z"
   },
   {
    "duration": 7,
    "start_time": "2024-02-07T21:16:19.339Z"
   },
   {
    "duration": 3,
    "start_time": "2024-02-07T21:16:21.780Z"
   },
   {
    "duration": 13,
    "start_time": "2024-02-07T21:16:23.716Z"
   },
   {
    "duration": 128,
    "start_time": "2024-02-07T21:16:28.896Z"
   },
   {
    "duration": 6,
    "start_time": "2024-02-07T21:16:42.337Z"
   },
   {
    "duration": 19,
    "start_time": "2024-02-07T21:16:51.132Z"
   },
   {
    "duration": 12,
    "start_time": "2024-02-07T21:16:54.237Z"
   },
   {
    "duration": 12,
    "start_time": "2024-02-07T21:17:10.211Z"
   },
   {
    "duration": 12,
    "start_time": "2024-02-07T21:17:26.331Z"
   },
   {
    "duration": 275,
    "start_time": "2024-02-07T21:17:34.611Z"
   },
   {
    "duration": 248,
    "start_time": "2024-02-07T21:17:43.687Z"
   },
   {
    "duration": 263,
    "start_time": "2024-02-07T21:17:54.248Z"
   },
   {
    "duration": 253,
    "start_time": "2024-02-07T21:17:58.823Z"
   },
   {
    "duration": 245,
    "start_time": "2024-02-07T21:18:13.368Z"
   },
   {
    "duration": 311,
    "start_time": "2024-02-07T21:18:20.845Z"
   },
   {
    "duration": 241,
    "start_time": "2024-02-07T21:19:25.069Z"
   },
   {
    "duration": 5,
    "start_time": "2024-02-07T21:19:58.261Z"
   },
   {
    "duration": 131,
    "start_time": "2024-02-07T21:20:00.561Z"
   },
   {
    "duration": 5,
    "start_time": "2024-02-07T21:20:04.795Z"
   },
   {
    "duration": 128,
    "start_time": "2024-02-07T21:20:07.064Z"
   },
   {
    "duration": 4,
    "start_time": "2024-02-07T21:20:15.422Z"
   },
   {
    "duration": 7,
    "start_time": "2024-02-07T21:20:20.106Z"
   },
   {
    "duration": 373,
    "start_time": "2024-02-07T21:20:21.126Z"
   },
   {
    "duration": 4,
    "start_time": "2024-02-07T21:20:28.330Z"
   },
   {
    "duration": 4,
    "start_time": "2024-02-07T21:20:29.154Z"
   },
   {
    "duration": 4,
    "start_time": "2024-02-07T21:20:29.830Z"
   },
   {
    "duration": 131,
    "start_time": "2024-02-07T21:21:05.493Z"
   },
   {
    "duration": 4,
    "start_time": "2024-02-07T21:21:14.595Z"
   },
   {
    "duration": 128,
    "start_time": "2024-02-07T21:21:25.977Z"
   },
   {
    "duration": 4,
    "start_time": "2024-02-07T21:21:59.110Z"
   },
   {
    "duration": 11,
    "start_time": "2024-02-07T21:22:24.877Z"
   },
   {
    "duration": 436,
    "start_time": "2024-02-07T21:22:26.926Z"
   },
   {
    "duration": 4,
    "start_time": "2024-02-07T21:22:30.372Z"
   },
   {
    "duration": 4,
    "start_time": "2024-02-07T21:22:32.735Z"
   },
   {
    "duration": 5,
    "start_time": "2024-02-07T21:22:34.015Z"
   },
   {
    "duration": 342,
    "start_time": "2024-02-07T21:22:44.562Z"
   },
   {
    "duration": 3,
    "start_time": "2024-02-07T21:22:54.522Z"
   },
   {
    "duration": 4,
    "start_time": "2024-02-07T21:22:55.697Z"
   },
   {
    "duration": 4,
    "start_time": "2024-02-07T21:22:57.289Z"
   },
   {
    "duration": 12,
    "start_time": "2024-02-07T21:23:39.785Z"
   },
   {
    "duration": 177,
    "start_time": "2024-02-07T21:23:46.957Z"
   },
   {
    "duration": 7,
    "start_time": "2024-02-07T21:23:56.071Z"
   },
   {
    "duration": 392,
    "start_time": "2024-02-07T21:25:02.707Z"
   },
   {
    "duration": 398,
    "start_time": "2024-02-07T21:25:20.209Z"
   },
   {
    "duration": 9,
    "start_time": "2024-02-07T21:26:04.180Z"
   },
   {
    "duration": 9,
    "start_time": "2024-02-07T21:26:34.024Z"
   },
   {
    "duration": 3,
    "start_time": "2024-02-07T21:29:10.541Z"
   },
   {
    "duration": 9,
    "start_time": "2024-02-07T21:29:20.888Z"
   },
   {
    "duration": 77,
    "start_time": "2024-02-07T21:30:27.377Z"
   },
   {
    "duration": 9,
    "start_time": "2024-02-07T21:30:31.854Z"
   },
   {
    "duration": 9,
    "start_time": "2024-02-07T21:30:38.149Z"
   },
   {
    "duration": 7,
    "start_time": "2024-02-07T21:30:50.945Z"
   },
   {
    "duration": 10,
    "start_time": "2024-02-07T21:30:58.259Z"
   },
   {
    "duration": 9,
    "start_time": "2024-02-07T21:31:21.032Z"
   },
   {
    "duration": 1037,
    "start_time": "2024-02-07T21:32:11.593Z"
   },
   {
    "duration": 53,
    "start_time": "2024-02-07T21:32:12.632Z"
   },
   {
    "duration": 19,
    "start_time": "2024-02-07T21:32:12.687Z"
   },
   {
    "duration": 14,
    "start_time": "2024-02-07T21:32:12.707Z"
   },
   {
    "duration": 4,
    "start_time": "2024-02-07T21:32:12.723Z"
   },
   {
    "duration": 5,
    "start_time": "2024-02-07T21:32:12.728Z"
   },
   {
    "duration": 16,
    "start_time": "2024-02-07T21:32:12.735Z"
   },
   {
    "duration": 10,
    "start_time": "2024-02-07T21:32:12.753Z"
   },
   {
    "duration": 7,
    "start_time": "2024-02-07T21:32:12.764Z"
   },
   {
    "duration": 17,
    "start_time": "2024-02-07T21:32:12.773Z"
   },
   {
    "duration": 6,
    "start_time": "2024-02-07T21:32:12.792Z"
   },
   {
    "duration": 12,
    "start_time": "2024-02-07T21:32:12.799Z"
   },
   {
    "duration": 33,
    "start_time": "2024-02-07T21:32:12.812Z"
   },
   {
    "duration": 4,
    "start_time": "2024-02-07T21:32:12.848Z"
   },
   {
    "duration": 8,
    "start_time": "2024-02-07T21:32:12.854Z"
   },
   {
    "duration": 12,
    "start_time": "2024-02-07T21:32:12.864Z"
   },
   {
    "duration": 9,
    "start_time": "2024-02-07T21:32:12.877Z"
   },
   {
    "duration": 14,
    "start_time": "2024-02-07T21:32:12.887Z"
   },
   {
    "duration": 6,
    "start_time": "2024-02-07T21:32:12.903Z"
   },
   {
    "duration": 16,
    "start_time": "2024-02-07T21:32:12.911Z"
   },
   {
    "duration": 11,
    "start_time": "2024-02-07T21:32:12.928Z"
   },
   {
    "duration": 47,
    "start_time": "2024-02-07T21:32:12.940Z"
   },
   {
    "duration": 19,
    "start_time": "2024-02-07T21:32:12.989Z"
   },
   {
    "duration": 25,
    "start_time": "2024-02-07T21:32:13.010Z"
   },
   {
    "duration": 7,
    "start_time": "2024-02-07T21:32:13.037Z"
   },
   {
    "duration": 278,
    "start_time": "2024-02-07T21:32:13.046Z"
   },
   {
    "duration": 6,
    "start_time": "2024-02-07T21:32:13.325Z"
   },
   {
    "duration": 18,
    "start_time": "2024-02-07T21:32:13.332Z"
   },
   {
    "duration": 14,
    "start_time": "2024-02-07T21:32:13.351Z"
   },
   {
    "duration": 4,
    "start_time": "2024-02-07T21:32:13.366Z"
   },
   {
    "duration": 18,
    "start_time": "2024-02-07T21:32:13.371Z"
   },
   {
    "duration": 140,
    "start_time": "2024-02-07T21:32:13.391Z"
   },
   {
    "duration": 14,
    "start_time": "2024-02-07T21:32:13.533Z"
   },
   {
    "duration": 27,
    "start_time": "2024-02-07T21:32:13.548Z"
   },
   {
    "duration": 14,
    "start_time": "2024-02-07T21:32:13.577Z"
   },
   {
    "duration": 274,
    "start_time": "2024-02-07T21:32:13.592Z"
   },
   {
    "duration": 249,
    "start_time": "2024-02-07T21:32:13.868Z"
   },
   {
    "duration": 5,
    "start_time": "2024-02-07T21:32:14.119Z"
   },
   {
    "duration": 141,
    "start_time": "2024-02-07T21:32:14.126Z"
   },
   {
    "duration": 4,
    "start_time": "2024-02-07T21:32:14.269Z"
   },
   {
    "duration": 145,
    "start_time": "2024-02-07T21:32:14.278Z"
   },
   {
    "duration": 4,
    "start_time": "2024-02-07T21:32:14.425Z"
   },
   {
    "duration": 18,
    "start_time": "2024-02-07T21:32:14.430Z"
   },
   {
    "duration": 430,
    "start_time": "2024-02-07T21:32:14.450Z"
   },
   {
    "duration": 3,
    "start_time": "2024-02-07T21:32:14.882Z"
   },
   {
    "duration": 7,
    "start_time": "2024-02-07T21:32:14.887Z"
   },
   {
    "duration": 13,
    "start_time": "2024-02-07T21:32:14.895Z"
   },
   {
    "duration": 369,
    "start_time": "2024-02-07T21:32:14.909Z"
   },
   {
    "duration": 4,
    "start_time": "2024-02-07T21:32:15.279Z"
   },
   {
    "duration": 9,
    "start_time": "2024-02-07T21:32:15.285Z"
   },
   {
    "duration": 19,
    "start_time": "2024-02-07T21:32:15.295Z"
   },
   {
    "duration": 29,
    "start_time": "2024-02-07T21:32:15.315Z"
   },
   {
    "duration": 186,
    "start_time": "2024-02-07T21:32:15.346Z"
   },
   {
    "duration": 7,
    "start_time": "2024-02-07T21:32:15.534Z"
   },
   {
    "duration": 13,
    "start_time": "2024-02-07T21:32:15.544Z"
   },
   {
    "duration": 19,
    "start_time": "2024-02-07T21:32:15.558Z"
   },
   {
    "duration": 11,
    "start_time": "2024-02-07T21:32:15.578Z"
   },
   {
    "duration": 132,
    "start_time": "2024-02-07T21:32:15.590Z"
   },
   {
    "duration": 11,
    "start_time": "2024-02-07T21:32:15.724Z"
   },
   {
    "duration": 120,
    "start_time": "2024-02-07T21:32:15.744Z"
   },
   {
    "duration": 11,
    "start_time": "2024-02-07T21:32:15.865Z"
   },
   {
    "duration": 156,
    "start_time": "2024-02-07T21:32:15.878Z"
   },
   {
    "duration": 23,
    "start_time": "2024-02-07T21:32:16.036Z"
   },
   {
    "duration": 12,
    "start_time": "2024-02-07T21:32:16.060Z"
   },
   {
    "duration": 132,
    "start_time": "2024-02-07T21:32:16.073Z"
   },
   {
    "duration": 12,
    "start_time": "2024-02-07T21:32:16.206Z"
   },
   {
    "duration": 130,
    "start_time": "2024-02-07T21:32:16.220Z"
   },
   {
    "duration": 11,
    "start_time": "2024-02-07T21:32:16.351Z"
   },
   {
    "duration": 198,
    "start_time": "2024-02-07T21:32:16.364Z"
   },
   {
    "duration": 14,
    "start_time": "2024-02-07T21:32:16.564Z"
   },
   {
    "duration": 19,
    "start_time": "2024-02-07T21:32:16.579Z"
   },
   {
    "duration": 154,
    "start_time": "2024-02-07T21:32:16.599Z"
   },
   {
    "duration": 11,
    "start_time": "2024-02-07T21:32:16.754Z"
   },
   {
    "duration": 149,
    "start_time": "2024-02-07T21:32:16.766Z"
   },
   {
    "duration": 11,
    "start_time": "2024-02-07T21:32:16.916Z"
   },
   {
    "duration": 151,
    "start_time": "2024-02-07T21:32:16.928Z"
   },
   {
    "duration": 5,
    "start_time": "2024-02-07T21:32:17.081Z"
   },
   {
    "duration": 12,
    "start_time": "2024-02-07T21:32:17.087Z"
   },
   {
    "duration": 4,
    "start_time": "2024-02-07T21:32:17.100Z"
   },
   {
    "duration": 3,
    "start_time": "2024-02-07T21:32:17.106Z"
   },
   {
    "duration": 7,
    "start_time": "2024-02-07T21:32:17.111Z"
   },
   {
    "duration": 4,
    "start_time": "2024-02-07T21:32:17.119Z"
   },
   {
    "duration": 23,
    "start_time": "2024-02-07T21:32:17.125Z"
   },
   {
    "duration": 17,
    "start_time": "2024-02-07T21:32:17.149Z"
   },
   {
    "duration": 99,
    "start_time": "2024-02-07T21:33:33.297Z"
   },
   {
    "duration": 11,
    "start_time": "2024-02-07T21:34:45.795Z"
   },
   {
    "duration": 13,
    "start_time": "2024-02-07T21:35:26.044Z"
   },
   {
    "duration": 5,
    "start_time": "2024-02-07T21:36:18.609Z"
   },
   {
    "duration": 3,
    "start_time": "2024-02-07T21:36:34.334Z"
   },
   {
    "duration": 5,
    "start_time": "2024-02-07T21:36:37.264Z"
   },
   {
    "duration": 92,
    "start_time": "2024-02-07T21:37:03.361Z"
   },
   {
    "duration": 4,
    "start_time": "2024-02-07T21:37:22.841Z"
   },
   {
    "duration": 4,
    "start_time": "2024-02-07T21:37:26.031Z"
   },
   {
    "duration": 4,
    "start_time": "2024-02-07T21:37:49.407Z"
   },
   {
    "duration": 5,
    "start_time": "2024-02-07T21:38:01.735Z"
   },
   {
    "duration": 5,
    "start_time": "2024-02-07T21:38:04.021Z"
   },
   {
    "duration": 15,
    "start_time": "2024-02-07T21:38:08.496Z"
   },
   {
    "duration": 1074,
    "start_time": "2024-02-07T21:38:17.248Z"
   },
   {
    "duration": 52,
    "start_time": "2024-02-07T21:38:18.324Z"
   },
   {
    "duration": 19,
    "start_time": "2024-02-07T21:38:18.377Z"
   },
   {
    "duration": 14,
    "start_time": "2024-02-07T21:38:18.398Z"
   },
   {
    "duration": 4,
    "start_time": "2024-02-07T21:38:18.414Z"
   },
   {
    "duration": 9,
    "start_time": "2024-02-07T21:38:18.419Z"
   },
   {
    "duration": 9,
    "start_time": "2024-02-07T21:38:18.444Z"
   },
   {
    "duration": 28,
    "start_time": "2024-02-07T21:38:18.455Z"
   },
   {
    "duration": 17,
    "start_time": "2024-02-07T21:38:18.485Z"
   },
   {
    "duration": 26,
    "start_time": "2024-02-07T21:38:18.503Z"
   },
   {
    "duration": 8,
    "start_time": "2024-02-07T21:38:18.530Z"
   },
   {
    "duration": 19,
    "start_time": "2024-02-07T21:38:18.539Z"
   },
   {
    "duration": 5,
    "start_time": "2024-02-07T21:38:18.560Z"
   },
   {
    "duration": 4,
    "start_time": "2024-02-07T21:38:18.568Z"
   },
   {
    "duration": 8,
    "start_time": "2024-02-07T21:38:18.573Z"
   },
   {
    "duration": 5,
    "start_time": "2024-02-07T21:38:18.582Z"
   },
   {
    "duration": 7,
    "start_time": "2024-02-07T21:38:18.588Z"
   },
   {
    "duration": 16,
    "start_time": "2024-02-07T21:38:18.596Z"
   },
   {
    "duration": 13,
    "start_time": "2024-02-07T21:38:18.613Z"
   },
   {
    "duration": 7,
    "start_time": "2024-02-07T21:38:18.627Z"
   },
   {
    "duration": 3,
    "start_time": "2024-02-07T21:38:18.645Z"
   },
   {
    "duration": 19,
    "start_time": "2024-02-07T21:38:18.649Z"
   },
   {
    "duration": 5,
    "start_time": "2024-02-07T21:38:18.669Z"
   },
   {
    "duration": 27,
    "start_time": "2024-02-07T21:38:18.675Z"
   },
   {
    "duration": 16,
    "start_time": "2024-02-07T21:38:18.703Z"
   },
   {
    "duration": 263,
    "start_time": "2024-02-07T21:38:18.721Z"
   },
   {
    "duration": 5,
    "start_time": "2024-02-07T21:38:18.985Z"
   },
   {
    "duration": 9,
    "start_time": "2024-02-07T21:38:18.992Z"
   },
   {
    "duration": 6,
    "start_time": "2024-02-07T21:38:19.002Z"
   },
   {
    "duration": 11,
    "start_time": "2024-02-07T21:38:19.009Z"
   },
   {
    "duration": 29,
    "start_time": "2024-02-07T21:38:19.021Z"
   },
   {
    "duration": 135,
    "start_time": "2024-02-07T21:38:19.051Z"
   },
   {
    "duration": 7,
    "start_time": "2024-02-07T21:38:19.187Z"
   },
   {
    "duration": 35,
    "start_time": "2024-02-07T21:38:19.196Z"
   },
   {
    "duration": 13,
    "start_time": "2024-02-07T21:38:19.232Z"
   },
   {
    "duration": 271,
    "start_time": "2024-02-07T21:38:19.247Z"
   },
   {
    "duration": 242,
    "start_time": "2024-02-07T21:38:19.519Z"
   },
   {
    "duration": 5,
    "start_time": "2024-02-07T21:38:19.762Z"
   },
   {
    "duration": 147,
    "start_time": "2024-02-07T21:38:19.769Z"
   },
   {
    "duration": 4,
    "start_time": "2024-02-07T21:38:19.918Z"
   },
   {
    "duration": 139,
    "start_time": "2024-02-07T21:38:19.927Z"
   },
   {
    "duration": 3,
    "start_time": "2024-02-07T21:38:20.068Z"
   },
   {
    "duration": 22,
    "start_time": "2024-02-07T21:38:20.073Z"
   },
   {
    "duration": 430,
    "start_time": "2024-02-07T21:38:20.096Z"
   },
   {
    "duration": 3,
    "start_time": "2024-02-07T21:38:20.528Z"
   },
   {
    "duration": 14,
    "start_time": "2024-02-07T21:38:20.533Z"
   },
   {
    "duration": 4,
    "start_time": "2024-02-07T21:38:20.548Z"
   },
   {
    "duration": 356,
    "start_time": "2024-02-07T21:38:20.553Z"
   },
   {
    "duration": 3,
    "start_time": "2024-02-07T21:38:20.911Z"
   },
   {
    "duration": 17,
    "start_time": "2024-02-07T21:38:20.916Z"
   },
   {
    "duration": 10,
    "start_time": "2024-02-07T21:38:20.934Z"
   },
   {
    "duration": 19,
    "start_time": "2024-02-07T21:38:20.945Z"
   },
   {
    "duration": 183,
    "start_time": "2024-02-07T21:38:20.966Z"
   },
   {
    "duration": 6,
    "start_time": "2024-02-07T21:38:21.151Z"
   },
   {
    "duration": 21,
    "start_time": "2024-02-07T21:38:21.159Z"
   },
   {
    "duration": 28,
    "start_time": "2024-02-07T21:38:21.181Z"
   },
   {
    "duration": 12,
    "start_time": "2024-02-07T21:38:21.210Z"
   },
   {
    "duration": 143,
    "start_time": "2024-02-07T21:38:21.223Z"
   },
   {
    "duration": 13,
    "start_time": "2024-02-07T21:38:21.367Z"
   },
   {
    "duration": 167,
    "start_time": "2024-02-07T21:38:21.381Z"
   },
   {
    "duration": 12,
    "start_time": "2024-02-07T21:38:21.549Z"
   },
   {
    "duration": 135,
    "start_time": "2024-02-07T21:38:21.562Z"
   },
   {
    "duration": 14,
    "start_time": "2024-02-07T21:38:21.698Z"
   },
   {
    "duration": 22,
    "start_time": "2024-02-07T21:38:21.713Z"
   },
   {
    "duration": 169,
    "start_time": "2024-02-07T21:38:21.737Z"
   },
   {
    "duration": 12,
    "start_time": "2024-02-07T21:38:21.907Z"
   },
   {
    "duration": 133,
    "start_time": "2024-02-07T21:38:21.920Z"
   },
   {
    "duration": 12,
    "start_time": "2024-02-07T21:38:22.055Z"
   },
   {
    "duration": 220,
    "start_time": "2024-02-07T21:38:22.069Z"
   },
   {
    "duration": 14,
    "start_time": "2024-02-07T21:38:22.290Z"
   },
   {
    "duration": 16,
    "start_time": "2024-02-07T21:38:22.305Z"
   },
   {
    "duration": 140,
    "start_time": "2024-02-07T21:38:22.322Z"
   },
   {
    "duration": 12,
    "start_time": "2024-02-07T21:38:22.463Z"
   },
   {
    "duration": 185,
    "start_time": "2024-02-07T21:38:22.476Z"
   },
   {
    "duration": 11,
    "start_time": "2024-02-07T21:38:22.662Z"
   },
   {
    "duration": 148,
    "start_time": "2024-02-07T21:38:22.674Z"
   },
   {
    "duration": 4,
    "start_time": "2024-02-07T21:38:22.824Z"
   },
   {
    "duration": 16,
    "start_time": "2024-02-07T21:38:22.829Z"
   },
   {
    "duration": 8,
    "start_time": "2024-02-07T21:38:22.846Z"
   },
   {
    "duration": 7,
    "start_time": "2024-02-07T21:38:22.856Z"
   },
   {
    "duration": 16,
    "start_time": "2024-02-07T21:38:22.865Z"
   },
   {
    "duration": 13,
    "start_time": "2024-02-07T21:38:22.882Z"
   },
   {
    "duration": 7,
    "start_time": "2024-02-07T21:38:22.897Z"
   },
   {
    "duration": 6,
    "start_time": "2024-02-07T21:38:22.906Z"
   },
   {
    "duration": 276,
    "start_time": "2024-02-07T21:42:06.079Z"
   },
   {
    "duration": 289,
    "start_time": "2024-02-07T21:42:18.194Z"
   },
   {
    "duration": 248,
    "start_time": "2024-02-07T21:43:12.475Z"
   },
   {
    "duration": 246,
    "start_time": "2024-02-07T21:43:18.191Z"
   },
   {
    "duration": 176,
    "start_time": "2024-02-07T21:45:17.572Z"
   },
   {
    "duration": 69,
    "start_time": "2024-02-07T22:32:55.201Z"
   },
   {
    "duration": 63,
    "start_time": "2024-02-07T22:36:30.921Z"
   },
   {
    "duration": 1195,
    "start_time": "2024-02-07T22:36:56.658Z"
   },
   {
    "duration": 58,
    "start_time": "2024-02-07T22:36:57.855Z"
   },
   {
    "duration": 18,
    "start_time": "2024-02-07T22:36:57.914Z"
   },
   {
    "duration": 22,
    "start_time": "2024-02-07T22:36:57.933Z"
   },
   {
    "duration": 4,
    "start_time": "2024-02-07T22:36:57.956Z"
   },
   {
    "duration": 33,
    "start_time": "2024-02-07T22:36:57.961Z"
   },
   {
    "duration": 15,
    "start_time": "2024-02-07T22:36:57.995Z"
   },
   {
    "duration": 14,
    "start_time": "2024-02-07T22:36:58.011Z"
   },
   {
    "duration": 15,
    "start_time": "2024-02-07T22:36:58.026Z"
   },
   {
    "duration": 24,
    "start_time": "2024-02-07T22:36:58.044Z"
   },
   {
    "duration": 12,
    "start_time": "2024-02-07T22:36:58.070Z"
   },
   {
    "duration": 33,
    "start_time": "2024-02-07T22:36:58.083Z"
   },
   {
    "duration": 12,
    "start_time": "2024-02-07T22:36:58.118Z"
   },
   {
    "duration": 10,
    "start_time": "2024-02-07T22:36:58.131Z"
   },
   {
    "duration": 20,
    "start_time": "2024-02-07T22:36:58.142Z"
   },
   {
    "duration": 22,
    "start_time": "2024-02-07T22:36:58.163Z"
   },
   {
    "duration": 4,
    "start_time": "2024-02-07T22:36:58.186Z"
   },
   {
    "duration": 17,
    "start_time": "2024-02-07T22:36:58.191Z"
   },
   {
    "duration": 8,
    "start_time": "2024-02-07T22:36:58.209Z"
   },
   {
    "duration": 26,
    "start_time": "2024-02-07T22:36:58.219Z"
   },
   {
    "duration": 27,
    "start_time": "2024-02-07T22:36:58.247Z"
   },
   {
    "duration": 9,
    "start_time": "2024-02-07T22:36:58.275Z"
   },
   {
    "duration": 37,
    "start_time": "2024-02-07T22:36:58.285Z"
   },
   {
    "duration": 25,
    "start_time": "2024-02-07T22:36:58.323Z"
   },
   {
    "duration": 14,
    "start_time": "2024-02-07T22:36:58.350Z"
   },
   {
    "duration": 323,
    "start_time": "2024-02-07T22:36:58.365Z"
   },
   {
    "duration": 6,
    "start_time": "2024-02-07T22:36:58.689Z"
   },
   {
    "duration": 12,
    "start_time": "2024-02-07T22:36:58.699Z"
   },
   {
    "duration": 6,
    "start_time": "2024-02-07T22:36:58.712Z"
   },
   {
    "duration": 19,
    "start_time": "2024-02-07T22:36:58.719Z"
   },
   {
    "duration": 18,
    "start_time": "2024-02-07T22:36:58.739Z"
   },
   {
    "duration": 145,
    "start_time": "2024-02-07T22:36:58.758Z"
   },
   {
    "duration": 7,
    "start_time": "2024-02-07T22:36:58.904Z"
   },
   {
    "duration": 38,
    "start_time": "2024-02-07T22:36:58.912Z"
   },
   {
    "duration": 12,
    "start_time": "2024-02-07T22:36:58.951Z"
   },
   {
    "duration": 297,
    "start_time": "2024-02-07T22:36:58.965Z"
   },
   {
    "duration": 265,
    "start_time": "2024-02-07T22:36:59.264Z"
   },
   {
    "duration": 5,
    "start_time": "2024-02-07T22:36:59.530Z"
   },
   {
    "duration": 142,
    "start_time": "2024-02-07T22:36:59.536Z"
   },
   {
    "duration": 4,
    "start_time": "2024-02-07T22:36:59.680Z"
   },
   {
    "duration": 145,
    "start_time": "2024-02-07T22:36:59.686Z"
   },
   {
    "duration": 4,
    "start_time": "2024-02-07T22:36:59.833Z"
   },
   {
    "duration": 11,
    "start_time": "2024-02-07T22:36:59.845Z"
   },
   {
    "duration": 453,
    "start_time": "2024-02-07T22:36:59.857Z"
   },
   {
    "duration": 4,
    "start_time": "2024-02-07T22:37:00.311Z"
   },
   {
    "duration": 67,
    "start_time": "2024-02-07T22:37:00.317Z"
   },
   {
    "duration": 33,
    "start_time": "2024-02-07T22:37:00.385Z"
   },
   {
    "duration": 395,
    "start_time": "2024-02-07T22:37:00.419Z"
   },
   {
    "duration": 4,
    "start_time": "2024-02-07T22:37:00.815Z"
   },
   {
    "duration": 197,
    "start_time": "2024-02-07T22:37:00.821Z"
   },
   {
    "duration": 48,
    "start_time": "2024-02-07T22:37:01.020Z"
   },
   {
    "duration": 49,
    "start_time": "2024-02-07T22:37:01.070Z"
   },
   {
    "duration": 217,
    "start_time": "2024-02-07T22:37:01.120Z"
   },
   {
    "duration": 8,
    "start_time": "2024-02-07T22:37:01.344Z"
   },
   {
    "duration": 44,
    "start_time": "2024-02-07T22:37:01.353Z"
   },
   {
    "duration": 50,
    "start_time": "2024-02-07T22:37:01.399Z"
   },
   {
    "duration": 32,
    "start_time": "2024-02-07T22:37:01.450Z"
   },
   {
    "duration": 158,
    "start_time": "2024-02-07T22:37:01.484Z"
   },
   {
    "duration": 13,
    "start_time": "2024-02-07T22:37:01.645Z"
   },
   {
    "duration": 181,
    "start_time": "2024-02-07T22:37:01.659Z"
   },
   {
    "duration": 12,
    "start_time": "2024-02-07T22:37:01.844Z"
   },
   {
    "duration": 154,
    "start_time": "2024-02-07T22:37:01.857Z"
   },
   {
    "duration": 16,
    "start_time": "2024-02-07T22:37:02.012Z"
   },
   {
    "duration": 54,
    "start_time": "2024-02-07T22:37:02.029Z"
   },
   {
    "duration": 161,
    "start_time": "2024-02-07T22:37:02.084Z"
   },
   {
    "duration": 13,
    "start_time": "2024-02-07T22:37:02.246Z"
   },
   {
    "duration": 159,
    "start_time": "2024-02-07T22:37:02.260Z"
   },
   {
    "duration": 13,
    "start_time": "2024-02-07T22:37:02.420Z"
   },
   {
    "duration": 211,
    "start_time": "2024-02-07T22:37:02.445Z"
   },
   {
    "duration": 16,
    "start_time": "2024-02-07T22:37:02.658Z"
   },
   {
    "duration": 44,
    "start_time": "2024-02-07T22:37:02.675Z"
   },
   {
    "duration": 176,
    "start_time": "2024-02-07T22:37:02.720Z"
   },
   {
    "duration": 11,
    "start_time": "2024-02-07T22:37:02.898Z"
   },
   {
    "duration": 178,
    "start_time": "2024-02-07T22:37:02.910Z"
   },
   {
    "duration": 11,
    "start_time": "2024-02-07T22:37:03.090Z"
   },
   {
    "duration": 251,
    "start_time": "2024-02-07T22:37:03.103Z"
   },
   {
    "duration": 82,
    "start_time": "2024-02-07T22:37:03.356Z"
   },
   {
    "duration": 81,
    "start_time": "2024-02-07T22:37:03.440Z"
   },
   {
    "duration": 282,
    "start_time": "2024-02-07T22:37:03.522Z"
   },
   {
    "duration": 113,
    "start_time": "2024-02-07T22:37:03.805Z"
   },
   {
    "duration": 18,
    "start_time": "2024-02-07T22:37:03.919Z"
   },
   {
    "duration": 333,
    "start_time": "2024-02-07T22:37:03.942Z"
   },
   {
    "duration": 276,
    "start_time": "2024-02-07T22:37:04.277Z"
   },
   {
    "duration": 82,
    "start_time": "2024-02-07T22:37:04.554Z"
   },
   {
    "duration": 1115,
    "start_time": "2024-02-08T08:30:52.915Z"
   },
   {
    "duration": 54,
    "start_time": "2024-02-08T08:30:54.032Z"
   },
   {
    "duration": 18,
    "start_time": "2024-02-08T08:30:54.087Z"
   },
   {
    "duration": 15,
    "start_time": "2024-02-08T08:30:54.107Z"
   },
   {
    "duration": 6,
    "start_time": "2024-02-08T08:30:54.123Z"
   },
   {
    "duration": 4,
    "start_time": "2024-02-08T08:30:54.130Z"
   },
   {
    "duration": 16,
    "start_time": "2024-02-08T08:30:54.135Z"
   },
   {
    "duration": 23,
    "start_time": "2024-02-08T08:30:54.152Z"
   },
   {
    "duration": 6,
    "start_time": "2024-02-08T08:30:54.177Z"
   },
   {
    "duration": 27,
    "start_time": "2024-02-08T08:30:54.186Z"
   },
   {
    "duration": 8,
    "start_time": "2024-02-08T08:30:54.215Z"
   },
   {
    "duration": 20,
    "start_time": "2024-02-08T08:30:54.225Z"
   },
   {
    "duration": 6,
    "start_time": "2024-02-08T08:30:54.246Z"
   },
   {
    "duration": 7,
    "start_time": "2024-02-08T08:30:54.253Z"
   },
   {
    "duration": 10,
    "start_time": "2024-02-08T08:30:54.261Z"
   },
   {
    "duration": 12,
    "start_time": "2024-02-08T08:30:54.272Z"
   },
   {
    "duration": 15,
    "start_time": "2024-02-08T08:30:54.286Z"
   },
   {
    "duration": 20,
    "start_time": "2024-02-08T08:30:54.302Z"
   },
   {
    "duration": 8,
    "start_time": "2024-02-08T08:30:54.323Z"
   },
   {
    "duration": 6,
    "start_time": "2024-02-08T08:30:54.332Z"
   },
   {
    "duration": 11,
    "start_time": "2024-02-08T08:30:54.339Z"
   },
   {
    "duration": 7,
    "start_time": "2024-02-08T08:30:54.351Z"
   },
   {
    "duration": 11,
    "start_time": "2024-02-08T08:30:54.359Z"
   },
   {
    "duration": 23,
    "start_time": "2024-02-08T08:30:54.371Z"
   },
   {
    "duration": 15,
    "start_time": "2024-02-08T08:30:54.395Z"
   },
   {
    "duration": 314,
    "start_time": "2024-02-08T08:30:54.411Z"
   },
   {
    "duration": 5,
    "start_time": "2024-02-08T08:30:54.727Z"
   },
   {
    "duration": 17,
    "start_time": "2024-02-08T08:30:54.744Z"
   },
   {
    "duration": 13,
    "start_time": "2024-02-08T08:30:54.762Z"
   },
   {
    "duration": 26,
    "start_time": "2024-02-08T08:30:54.777Z"
   },
   {
    "duration": 45,
    "start_time": "2024-02-08T08:30:54.804Z"
   },
   {
    "duration": 147,
    "start_time": "2024-02-08T08:30:54.851Z"
   },
   {
    "duration": 8,
    "start_time": "2024-02-08T08:30:55.000Z"
   },
   {
    "duration": 24,
    "start_time": "2024-02-08T08:30:55.009Z"
   },
   {
    "duration": 13,
    "start_time": "2024-02-08T08:30:55.044Z"
   },
   {
    "duration": 294,
    "start_time": "2024-02-08T08:30:55.059Z"
   },
   {
    "duration": 281,
    "start_time": "2024-02-08T08:30:55.355Z"
   },
   {
    "duration": 13,
    "start_time": "2024-02-08T08:30:55.637Z"
   },
   {
    "duration": 162,
    "start_time": "2024-02-08T08:30:55.651Z"
   },
   {
    "duration": 4,
    "start_time": "2024-02-08T08:30:55.815Z"
   },
   {
    "duration": 175,
    "start_time": "2024-02-08T08:30:55.821Z"
   },
   {
    "duration": 4,
    "start_time": "2024-02-08T08:30:55.998Z"
   },
   {
    "duration": 10,
    "start_time": "2024-02-08T08:30:56.004Z"
   },
   {
    "duration": 453,
    "start_time": "2024-02-08T08:30:56.016Z"
   },
   {
    "duration": 4,
    "start_time": "2024-02-08T08:30:56.471Z"
   },
   {
    "duration": 27,
    "start_time": "2024-02-08T08:30:56.476Z"
   },
   {
    "duration": 46,
    "start_time": "2024-02-08T08:30:56.505Z"
   },
   {
    "duration": 407,
    "start_time": "2024-02-08T08:30:56.552Z"
   },
   {
    "duration": 4,
    "start_time": "2024-02-08T08:30:56.961Z"
   },
   {
    "duration": 9,
    "start_time": "2024-02-08T08:30:56.967Z"
   },
   {
    "duration": 17,
    "start_time": "2024-02-08T08:30:56.977Z"
   },
   {
    "duration": 14,
    "start_time": "2024-02-08T08:30:56.996Z"
   },
   {
    "duration": 195,
    "start_time": "2024-02-08T08:30:57.012Z"
   },
   {
    "duration": 10,
    "start_time": "2024-02-08T08:30:57.209Z"
   },
   {
    "duration": 42,
    "start_time": "2024-02-08T08:30:57.221Z"
   },
   {
    "duration": 16,
    "start_time": "2024-02-08T08:30:57.264Z"
   },
   {
    "duration": 12,
    "start_time": "2024-02-08T08:30:57.282Z"
   },
   {
    "duration": 135,
    "start_time": "2024-02-08T08:30:57.295Z"
   },
   {
    "duration": 18,
    "start_time": "2024-02-08T08:30:57.431Z"
   },
   {
    "duration": 148,
    "start_time": "2024-02-08T08:30:57.451Z"
   },
   {
    "duration": 13,
    "start_time": "2024-02-08T08:30:57.600Z"
   },
   {
    "duration": 159,
    "start_time": "2024-02-08T08:30:57.614Z"
   },
   {
    "duration": 15,
    "start_time": "2024-02-08T08:30:57.775Z"
   },
   {
    "duration": 16,
    "start_time": "2024-02-08T08:30:57.792Z"
   },
   {
    "duration": 143,
    "start_time": "2024-02-08T08:30:57.809Z"
   },
   {
    "duration": 12,
    "start_time": "2024-02-08T08:30:57.953Z"
   },
   {
    "duration": 138,
    "start_time": "2024-02-08T08:30:57.966Z"
   },
   {
    "duration": 13,
    "start_time": "2024-02-08T08:30:58.105Z"
   },
   {
    "duration": 229,
    "start_time": "2024-02-08T08:30:58.119Z"
   },
   {
    "duration": 15,
    "start_time": "2024-02-08T08:30:58.350Z"
   },
   {
    "duration": 11,
    "start_time": "2024-02-08T08:30:58.367Z"
   },
   {
    "duration": 165,
    "start_time": "2024-02-08T08:30:58.379Z"
   },
   {
    "duration": 10,
    "start_time": "2024-02-08T08:30:58.546Z"
   },
   {
    "duration": 165,
    "start_time": "2024-02-08T08:30:58.557Z"
   },
   {
    "duration": 12,
    "start_time": "2024-02-08T08:30:58.723Z"
   },
   {
    "duration": 167,
    "start_time": "2024-02-08T08:30:58.736Z"
   },
   {
    "duration": 5,
    "start_time": "2024-02-08T08:30:58.904Z"
   },
   {
    "duration": 18,
    "start_time": "2024-02-08T08:30:58.910Z"
   },
   {
    "duration": 9,
    "start_time": "2024-02-08T08:30:58.929Z"
   },
   {
    "duration": 10,
    "start_time": "2024-02-08T08:30:58.940Z"
   },
   {
    "duration": 13,
    "start_time": "2024-02-08T08:30:58.951Z"
   },
   {
    "duration": 9,
    "start_time": "2024-02-08T08:30:58.969Z"
   },
   {
    "duration": 19,
    "start_time": "2024-02-08T08:30:58.979Z"
   },
   {
    "duration": 8,
    "start_time": "2024-02-08T08:30:58.999Z"
   },
   {
    "duration": 6,
    "start_time": "2024-02-08T08:40:11.095Z"
   },
   {
    "duration": 7,
    "start_time": "2024-02-08T08:40:26.565Z"
   },
   {
    "duration": 155,
    "start_time": "2024-02-08T08:41:47.284Z"
   },
   {
    "duration": 160,
    "start_time": "2024-02-08T08:41:51.661Z"
   }
  ],
  "kernelspec": {
   "display_name": "Python 3 (ipykernel)",
   "language": "python",
   "name": "python3"
  },
  "language_info": {
   "codemirror_mode": {
    "name": "ipython",
    "version": 3
   },
   "file_extension": ".py",
   "mimetype": "text/x-python",
   "name": "python",
   "nbconvert_exporter": "python",
   "pygments_lexer": "ipython3",
   "version": "3.11.5"
  },
  "toc": {
   "base_numbering": 1,
   "nav_menu": {},
   "number_sections": true,
   "sideBar": true,
   "skip_h1_title": true,
   "title_cell": "Table of Contents",
   "title_sidebar": "Contents",
   "toc_cell": false,
   "toc_position": {
    "height": "calc(100% - 180px)",
    "left": "10px",
    "top": "150px",
    "width": "165px"
   },
   "toc_section_display": true,
   "toc_window_display": true
  }
 },
 "nbformat": 4,
 "nbformat_minor": 2
}
