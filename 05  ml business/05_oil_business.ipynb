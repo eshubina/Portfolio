{
 "cells": [
  {
   "cell_type": "markdown",
   "metadata": {},
   "source": [
    "# Выбор локации для скважины"
   ]
  },
  {
   "cell_type": "markdown",
   "metadata": {},
   "source": [
    "**Описание проекта:**\n",
    "\n",
    "Цель: найти регион, в котором бурить новую скважину добывающей компании «ГлавРосГосНефть».\n",
    "\n",
    "Имеем пробы нефти в трёх регионах: в каждом 10 000 месторождений, где измерили качество нефти и объём её запасов. Построим модель машинного обучения, которая поможет определить регион, где добыча принесёт наибольшую прибыль. Проанализируем возможную прибыль и риски техникой *Bootstrap.*\n",
    "\n",
    "Шаги для выбора локации:\n",
    "\n",
    "- В избранном регионе ищут месторождения, для каждого определяют значения признаков;\n",
    "- Строят модель и оценивают объём запасов;\n",
    "- Выбирают месторождения с самым высокими оценками значений. Количество месторождений зависит от бюджета компании и стоимости разработки одной скважины;\n",
    "- Прибыль равна суммарной прибыли отобранных месторождений."
   ]
  },
  {
   "cell_type": "markdown",
   "metadata": {},
   "source": [
    "**Описание данных:**\n",
    "\n",
    " - id — уникальный идентификатор скважины;\n",
    " - f0, f1, f2 — три признака точек (неважно, что они означают, но сами признаки значимы);\n",
    " - product — объём запасов в скважине (тыс. баррелей).\n"
   ]
  },
  {
   "cell_type": "markdown",
   "metadata": {},
   "source": [
    "## Загрузка и подготовка данных"
   ]
  },
  {
   "cell_type": "code",
   "execution_count": 1,
   "metadata": {},
   "outputs": [
    {
     "data": {
      "text/html": [
       "<style>.container { width:90% !important; }</style>"
      ],
      "text/plain": [
       "<IPython.core.display.HTML object>"
      ]
     },
     "metadata": {},
     "output_type": "display_data"
    }
   ],
   "source": [
    "import pandas as pd #импорт библиотек\n",
    "import numpy as np\n",
    "import matplotlib.pyplot as plt\n",
    "import seaborn as sns\n",
    "\n",
    "from sklearn.linear_model import LinearRegression\n",
    "from sklearn.model_selection import train_test_split\n",
    "from sklearn.metrics import mean_squared_error\n",
    "from numpy.random import RandomState\n",
    "\n",
    "from IPython.core.display import display, HTML\n",
    "display(HTML(\"<style>.container { width:90% !important; }</style>\"))"
   ]
  },
  {
   "cell_type": "code",
   "execution_count": 2,
   "metadata": {},
   "outputs": [],
   "source": [
    "region_1 = pd.read_csv('/datasets/geo_data_0.csv')\n",
    "region_2 = pd.read_csv('/datasets/geo_data_1.csv')\n",
    "region_3 = pd.read_csv('/datasets/geo_data_2.csv') #прочитаем файлы"
   ]
  },
  {
   "cell_type": "code",
   "execution_count": 3,
   "metadata": {},
   "outputs": [],
   "source": [
    "regions = (region_1, region_2, region_3)"
   ]
  },
  {
   "cell_type": "markdown",
   "metadata": {},
   "source": [
    "Посмотрим основные статистические характеристики данных каждого региона по числовому признаку"
   ]
  },
  {
   "cell_type": "code",
   "execution_count": 4,
   "metadata": {},
   "outputs": [],
   "source": [
    "def discover(data):\n",
    "    display(data.describe()) #общие данные\n",
    "    display(f'Количество пропусков:{data.isna().sum()}')\n",
    "    display(f'Количество дубликатов:{data.duplicated().sum()}')"
   ]
  },
  {
   "cell_type": "code",
   "execution_count": 5,
   "metadata": {},
   "outputs": [
    {
     "name": "stdout",
     "output_type": "stream",
     "text": [
      "Первый регион\n"
     ]
    },
    {
     "data": {
      "text/html": [
       "<div>\n",
       "<style scoped>\n",
       "    .dataframe tbody tr th:only-of-type {\n",
       "        vertical-align: middle;\n",
       "    }\n",
       "\n",
       "    .dataframe tbody tr th {\n",
       "        vertical-align: top;\n",
       "    }\n",
       "\n",
       "    .dataframe thead th {\n",
       "        text-align: right;\n",
       "    }\n",
       "</style>\n",
       "<table border=\"1\" class=\"dataframe\">\n",
       "  <thead>\n",
       "    <tr style=\"text-align: right;\">\n",
       "      <th></th>\n",
       "      <th>f0</th>\n",
       "      <th>f1</th>\n",
       "      <th>f2</th>\n",
       "      <th>product</th>\n",
       "    </tr>\n",
       "  </thead>\n",
       "  <tbody>\n",
       "    <tr>\n",
       "      <th>count</th>\n",
       "      <td>100000.000000</td>\n",
       "      <td>100000.000000</td>\n",
       "      <td>100000.000000</td>\n",
       "      <td>100000.000000</td>\n",
       "    </tr>\n",
       "    <tr>\n",
       "      <th>mean</th>\n",
       "      <td>0.500419</td>\n",
       "      <td>0.250143</td>\n",
       "      <td>2.502647</td>\n",
       "      <td>92.500000</td>\n",
       "    </tr>\n",
       "    <tr>\n",
       "      <th>std</th>\n",
       "      <td>0.871832</td>\n",
       "      <td>0.504433</td>\n",
       "      <td>3.248248</td>\n",
       "      <td>44.288691</td>\n",
       "    </tr>\n",
       "    <tr>\n",
       "      <th>min</th>\n",
       "      <td>-1.408605</td>\n",
       "      <td>-0.848218</td>\n",
       "      <td>-12.088328</td>\n",
       "      <td>0.000000</td>\n",
       "    </tr>\n",
       "    <tr>\n",
       "      <th>25%</th>\n",
       "      <td>-0.072580</td>\n",
       "      <td>-0.200881</td>\n",
       "      <td>0.287748</td>\n",
       "      <td>56.497507</td>\n",
       "    </tr>\n",
       "    <tr>\n",
       "      <th>50%</th>\n",
       "      <td>0.502360</td>\n",
       "      <td>0.250252</td>\n",
       "      <td>2.515969</td>\n",
       "      <td>91.849972</td>\n",
       "    </tr>\n",
       "    <tr>\n",
       "      <th>75%</th>\n",
       "      <td>1.073581</td>\n",
       "      <td>0.700646</td>\n",
       "      <td>4.715088</td>\n",
       "      <td>128.564089</td>\n",
       "    </tr>\n",
       "    <tr>\n",
       "      <th>max</th>\n",
       "      <td>2.362331</td>\n",
       "      <td>1.343769</td>\n",
       "      <td>16.003790</td>\n",
       "      <td>185.364347</td>\n",
       "    </tr>\n",
       "  </tbody>\n",
       "</table>\n",
       "</div>"
      ],
      "text/plain": [
       "                  f0             f1             f2        product\n",
       "count  100000.000000  100000.000000  100000.000000  100000.000000\n",
       "mean        0.500419       0.250143       2.502647      92.500000\n",
       "std         0.871832       0.504433       3.248248      44.288691\n",
       "min        -1.408605      -0.848218     -12.088328       0.000000\n",
       "25%        -0.072580      -0.200881       0.287748      56.497507\n",
       "50%         0.502360       0.250252       2.515969      91.849972\n",
       "75%         1.073581       0.700646       4.715088     128.564089\n",
       "max         2.362331       1.343769      16.003790     185.364347"
      ]
     },
     "metadata": {},
     "output_type": "display_data"
    },
    {
     "data": {
      "text/plain": [
       "'Количество пропусков:id         0\\nf0         0\\nf1         0\\nf2         0\\nproduct    0\\ndtype: int64'"
      ]
     },
     "metadata": {},
     "output_type": "display_data"
    },
    {
     "data": {
      "text/plain": [
       "'Количество дубликатов:0'"
      ]
     },
     "metadata": {},
     "output_type": "display_data"
    }
   ],
   "source": [
    "print('Первый регион')\n",
    "discover(region_1)"
   ]
  },
  {
   "cell_type": "code",
   "execution_count": 6,
   "metadata": {},
   "outputs": [
    {
     "name": "stdout",
     "output_type": "stream",
     "text": [
      "Второй регион\n"
     ]
    },
    {
     "data": {
      "text/html": [
       "<div>\n",
       "<style scoped>\n",
       "    .dataframe tbody tr th:only-of-type {\n",
       "        vertical-align: middle;\n",
       "    }\n",
       "\n",
       "    .dataframe tbody tr th {\n",
       "        vertical-align: top;\n",
       "    }\n",
       "\n",
       "    .dataframe thead th {\n",
       "        text-align: right;\n",
       "    }\n",
       "</style>\n",
       "<table border=\"1\" class=\"dataframe\">\n",
       "  <thead>\n",
       "    <tr style=\"text-align: right;\">\n",
       "      <th></th>\n",
       "      <th>f0</th>\n",
       "      <th>f1</th>\n",
       "      <th>f2</th>\n",
       "      <th>product</th>\n",
       "    </tr>\n",
       "  </thead>\n",
       "  <tbody>\n",
       "    <tr>\n",
       "      <th>count</th>\n",
       "      <td>100000.000000</td>\n",
       "      <td>100000.000000</td>\n",
       "      <td>100000.000000</td>\n",
       "      <td>100000.000000</td>\n",
       "    </tr>\n",
       "    <tr>\n",
       "      <th>mean</th>\n",
       "      <td>1.141296</td>\n",
       "      <td>-4.796579</td>\n",
       "      <td>2.494541</td>\n",
       "      <td>68.825000</td>\n",
       "    </tr>\n",
       "    <tr>\n",
       "      <th>std</th>\n",
       "      <td>8.965932</td>\n",
       "      <td>5.119872</td>\n",
       "      <td>1.703572</td>\n",
       "      <td>45.944423</td>\n",
       "    </tr>\n",
       "    <tr>\n",
       "      <th>min</th>\n",
       "      <td>-31.609576</td>\n",
       "      <td>-26.358598</td>\n",
       "      <td>-0.018144</td>\n",
       "      <td>0.000000</td>\n",
       "    </tr>\n",
       "    <tr>\n",
       "      <th>25%</th>\n",
       "      <td>-6.298551</td>\n",
       "      <td>-8.267985</td>\n",
       "      <td>1.000021</td>\n",
       "      <td>26.953261</td>\n",
       "    </tr>\n",
       "    <tr>\n",
       "      <th>50%</th>\n",
       "      <td>1.153055</td>\n",
       "      <td>-4.813172</td>\n",
       "      <td>2.011479</td>\n",
       "      <td>57.085625</td>\n",
       "    </tr>\n",
       "    <tr>\n",
       "      <th>75%</th>\n",
       "      <td>8.621015</td>\n",
       "      <td>-1.332816</td>\n",
       "      <td>3.999904</td>\n",
       "      <td>107.813044</td>\n",
       "    </tr>\n",
       "    <tr>\n",
       "      <th>max</th>\n",
       "      <td>29.421755</td>\n",
       "      <td>18.734063</td>\n",
       "      <td>5.019721</td>\n",
       "      <td>137.945408</td>\n",
       "    </tr>\n",
       "  </tbody>\n",
       "</table>\n",
       "</div>"
      ],
      "text/plain": [
       "                  f0             f1             f2        product\n",
       "count  100000.000000  100000.000000  100000.000000  100000.000000\n",
       "mean        1.141296      -4.796579       2.494541      68.825000\n",
       "std         8.965932       5.119872       1.703572      45.944423\n",
       "min       -31.609576     -26.358598      -0.018144       0.000000\n",
       "25%        -6.298551      -8.267985       1.000021      26.953261\n",
       "50%         1.153055      -4.813172       2.011479      57.085625\n",
       "75%         8.621015      -1.332816       3.999904     107.813044\n",
       "max        29.421755      18.734063       5.019721     137.945408"
      ]
     },
     "metadata": {},
     "output_type": "display_data"
    },
    {
     "data": {
      "text/plain": [
       "'Количество пропусков:id         0\\nf0         0\\nf1         0\\nf2         0\\nproduct    0\\ndtype: int64'"
      ]
     },
     "metadata": {},
     "output_type": "display_data"
    },
    {
     "data": {
      "text/plain": [
       "'Количество дубликатов:0'"
      ]
     },
     "metadata": {},
     "output_type": "display_data"
    }
   ],
   "source": [
    "print('Второй регион')\n",
    "discover(region_2)"
   ]
  },
  {
   "cell_type": "code",
   "execution_count": 7,
   "metadata": {},
   "outputs": [
    {
     "name": "stdout",
     "output_type": "stream",
     "text": [
      "Третий регион\n"
     ]
    },
    {
     "data": {
      "text/html": [
       "<div>\n",
       "<style scoped>\n",
       "    .dataframe tbody tr th:only-of-type {\n",
       "        vertical-align: middle;\n",
       "    }\n",
       "\n",
       "    .dataframe tbody tr th {\n",
       "        vertical-align: top;\n",
       "    }\n",
       "\n",
       "    .dataframe thead th {\n",
       "        text-align: right;\n",
       "    }\n",
       "</style>\n",
       "<table border=\"1\" class=\"dataframe\">\n",
       "  <thead>\n",
       "    <tr style=\"text-align: right;\">\n",
       "      <th></th>\n",
       "      <th>f0</th>\n",
       "      <th>f1</th>\n",
       "      <th>f2</th>\n",
       "      <th>product</th>\n",
       "    </tr>\n",
       "  </thead>\n",
       "  <tbody>\n",
       "    <tr>\n",
       "      <th>count</th>\n",
       "      <td>100000.000000</td>\n",
       "      <td>100000.000000</td>\n",
       "      <td>100000.000000</td>\n",
       "      <td>100000.000000</td>\n",
       "    </tr>\n",
       "    <tr>\n",
       "      <th>mean</th>\n",
       "      <td>0.002023</td>\n",
       "      <td>-0.002081</td>\n",
       "      <td>2.495128</td>\n",
       "      <td>95.000000</td>\n",
       "    </tr>\n",
       "    <tr>\n",
       "      <th>std</th>\n",
       "      <td>1.732045</td>\n",
       "      <td>1.730417</td>\n",
       "      <td>3.473445</td>\n",
       "      <td>44.749921</td>\n",
       "    </tr>\n",
       "    <tr>\n",
       "      <th>min</th>\n",
       "      <td>-8.760004</td>\n",
       "      <td>-7.084020</td>\n",
       "      <td>-11.970335</td>\n",
       "      <td>0.000000</td>\n",
       "    </tr>\n",
       "    <tr>\n",
       "      <th>25%</th>\n",
       "      <td>-1.162288</td>\n",
       "      <td>-1.174820</td>\n",
       "      <td>0.130359</td>\n",
       "      <td>59.450441</td>\n",
       "    </tr>\n",
       "    <tr>\n",
       "      <th>50%</th>\n",
       "      <td>0.009424</td>\n",
       "      <td>-0.009482</td>\n",
       "      <td>2.484236</td>\n",
       "      <td>94.925613</td>\n",
       "    </tr>\n",
       "    <tr>\n",
       "      <th>75%</th>\n",
       "      <td>1.158535</td>\n",
       "      <td>1.163678</td>\n",
       "      <td>4.858794</td>\n",
       "      <td>130.595027</td>\n",
       "    </tr>\n",
       "    <tr>\n",
       "      <th>max</th>\n",
       "      <td>7.238262</td>\n",
       "      <td>7.844801</td>\n",
       "      <td>16.739402</td>\n",
       "      <td>190.029838</td>\n",
       "    </tr>\n",
       "  </tbody>\n",
       "</table>\n",
       "</div>"
      ],
      "text/plain": [
       "                  f0             f1             f2        product\n",
       "count  100000.000000  100000.000000  100000.000000  100000.000000\n",
       "mean        0.002023      -0.002081       2.495128      95.000000\n",
       "std         1.732045       1.730417       3.473445      44.749921\n",
       "min        -8.760004      -7.084020     -11.970335       0.000000\n",
       "25%        -1.162288      -1.174820       0.130359      59.450441\n",
       "50%         0.009424      -0.009482       2.484236      94.925613\n",
       "75%         1.158535       1.163678       4.858794     130.595027\n",
       "max         7.238262       7.844801      16.739402     190.029838"
      ]
     },
     "metadata": {},
     "output_type": "display_data"
    },
    {
     "data": {
      "text/plain": [
       "'Количество пропусков:id         0\\nf0         0\\nf1         0\\nf2         0\\nproduct    0\\ndtype: int64'"
      ]
     },
     "metadata": {},
     "output_type": "display_data"
    },
    {
     "data": {
      "text/plain": [
       "'Количество дубликатов:0'"
      ]
     },
     "metadata": {},
     "output_type": "display_data"
    }
   ],
   "source": [
    "print('Третий регион')\n",
    "discover(region_3)"
   ]
  },
  {
   "cell_type": "code",
   "execution_count": 8,
   "metadata": {},
   "outputs": [
    {
     "name": "stdout",
     "output_type": "stream",
     "text": [
      "['txEyH' '2acmU' '409Wp' ... '3rnvd' '7kl59' '1CWhH']\n",
      "['kBEdx' '62mP7' 'vyE1P' ... '09gWa' 'rqwUm' 'relB0']\n",
      "['fwXo0' 'WJtFt' 'ovLUW' ... 'tKPY3' 'nmxp2' 'V9kWn']\n"
     ]
    }
   ],
   "source": [
    "for data in regions:\n",
    "        unique = data['id'].unique()\n",
    "        print(unique) #проверим на уникальность первый столбец"
   ]
  },
  {
   "cell_type": "code",
   "execution_count": 9,
   "metadata": {},
   "outputs": [],
   "source": [
    "for data in regions:\n",
    "    data.drop('id', axis=1, inplace=True) #удалим эту колонку"
   ]
  },
  {
   "cell_type": "markdown",
   "metadata": {},
   "source": [
    "Посмотрим выбросы по признакам в датасетах"
   ]
  },
  {
   "cell_type": "code",
   "execution_count": 10,
   "metadata": {},
   "outputs": [
    {
     "data": {
      "image/png": "[encoded data removed]",
      "text/plain": [
       "<Figure size 720x216 with 1 Axes>"
      ]
     },
     "metadata": {
      "needs_background": "light"
     },
     "output_type": "display_data"
    }
   ],
   "source": [
    "plt.figure(figsize=(10,3))\n",
    "sns.boxplot(data=[region_1.f0, region_2.f0, region_3.f0], orient='h', palette='CMRmap')\n",
    "plt.title('\"Ящики с усами\" для признака f0')\n",
    "plt.show()"
   ]
  },
  {
   "cell_type": "code",
   "execution_count": 11,
   "metadata": {},
   "outputs": [
    {
     "data": {
      "image/png": "[encoded data removed]",
      "text/plain": [
       "<Figure size 720x216 with 1 Axes>"
      ]
     },
     "metadata": {
      "needs_background": "light"
     },
     "output_type": "display_data"
    }
   ],
   "source": [
    "plt.figure(figsize=(10,3))\n",
    "sns.boxplot(data=[region_1.f1, region_2.f1, region_3.f1], orient='h', palette='CMRmap')\n",
    "plt.title('\"Ящики с усами\" для признака f1')\n",
    "plt.show()"
   ]
  },
  {
   "cell_type": "code",
   "execution_count": 12,
   "metadata": {},
   "outputs": [
    {
     "data": {
      "image/png": "[encoded data removed]",
      "text/plain": [
       "<Figure size 720x216 with 1 Axes>"
      ]
     },
     "metadata": {
      "needs_background": "light"
     },
     "output_type": "display_data"
    }
   ],
   "source": [
    "plt.figure(figsize=(10,3))\n",
    "sns.boxplot(data=[region_1.f2, region_2.f2, region_3.f2], orient='h', palette='CMRmap')\n",
    "plt.title('\"Ящики с усами\" для признака f2')\n",
    "plt.show()"
   ]
  },
  {
   "cell_type": "code",
   "execution_count": 13,
   "metadata": {},
   "outputs": [
    {
     "name": "stdout",
     "output_type": "stream",
     "text": [
      "Распределение признаков в первом регионе\n"
     ]
    },
    {
     "data": {
      "image/png": "[encoded data removed]",
      "text/plain": [
       "<Figure size 1080x504 with 4 Axes>"
      ]
     },
     "metadata": {
      "needs_background": "light"
     },
     "output_type": "display_data"
    }
   ],
   "source": [
    "region_1.hist(figsize=(15, 7), bins=70, color='lightblue')\n",
    "print('Распределение признаков в первом регионе')"
   ]
  },
  {
   "cell_type": "code",
   "execution_count": 14,
   "metadata": {},
   "outputs": [
    {
     "name": "stdout",
     "output_type": "stream",
     "text": [
      "Распределение признаков во втором регионе\n"
     ]
    },
    {
     "data": {
      "image/png": "[encoded data removed]",
      "text/plain": [
       "<Figure size 1080x504 with 4 Axes>"
      ]
     },
     "metadata": {
      "needs_background": "light"
     },
     "output_type": "display_data"
    }
   ],
   "source": [
    "region_2.hist(figsize=(15, 7), bins=70, color='lightblue')\n",
    "print('Распределение признаков во втором регионе')"
   ]
  },
  {
   "cell_type": "code",
   "execution_count": 15,
   "metadata": {},
   "outputs": [
    {
     "name": "stdout",
     "output_type": "stream",
     "text": [
      "Распределение признаков в третьем регионе\n"
     ]
    },
    {
     "data": {
      "image/png": "[encoded data removed]",
      "text/plain": [
       "<Figure size 1080x504 with 4 Axes>"
      ]
     },
     "metadata": {
      "needs_background": "light"
     },
     "output_type": "display_data"
    }
   ],
   "source": [
    "region_3.hist(figsize=(15, 7), bins=70, color='lightblue')\n",
    "print('Распределение признаков в третьем регионе')"
   ]
  },
  {
   "cell_type": "markdown",
   "metadata": {},
   "source": [
    "Пропуски и дубликаты в данных отсутстуют, замена типа данных не потребовалась. В синтетических данных присутствуют выбросы, они важны, корректировать не будем."
   ]
  },
  {
   "cell_type": "markdown",
   "metadata": {},
   "source": [
    "## Обучение и проверка модели"
   ]
  },
  {
   "cell_type": "code",
   "execution_count": 16,
   "metadata": {},
   "outputs": [],
   "source": [
    "state = np.random.RandomState(12345) #зафиксируем random_state"
   ]
  },
  {
   "cell_type": "markdown",
   "metadata": {},
   "source": [
    "Для каждого региона подготовим основные показатели"
   ]
  },
  {
   "cell_type": "code",
   "execution_count": 17,
   "metadata": {},
   "outputs": [],
   "source": [
    "def lr_model(region):\n",
    "    features = region.drop(['product'], axis=1) #признаки\n",
    "    target = region['product'] #целевой признак\n",
    "    \n",
    "    features_train, features_valid, target_train, target_valid = train_test_split(\n",
    "    features, target, test_size=0.25, random_state=state) #отделим 25% данных для валидационной выборки\n",
    "    \n",
    "    model = LinearRegression() #инициализируем модель LinearRegression\n",
    "    model.fit(features_train, target_train) #обучим модель на тренировочной выборке\n",
    "    predicted = pd.Series(model.predict(features_valid), index=features_valid.index) #получим предсказания модели на валидационной выборке\n",
    "    \n",
    "    print('Средний запас предсказанного сырья:', predicted.mean().round(3),'(тыс. баррелей).')\n",
    "    print('RMSE модели линейной регрессии:', round(mean_squared_error(target_valid, predicted)**0.5, 3))\n",
    "    \n",
    "    return target_valid, predicted"
   ]
  },
  {
   "cell_type": "code",
   "execution_count": 18,
   "metadata": {},
   "outputs": [
    {
     "name": "stdout",
     "output_type": "stream",
     "text": [
      "Первый регион\n",
      "Средний запас предсказанного сырья: 92.593 (тыс. баррелей).\n",
      "RMSE модели линейной регрессии: 37.579\n",
      "\n",
      "Второй регион\n",
      "Средний запас предсказанного сырья: 68.77 (тыс. баррелей).\n",
      "RMSE модели линейной регрессии: 0.89\n",
      "\n",
      "Третий регион\n",
      "Средний запас предсказанного сырья: 95.088 (тыс. баррелей).\n",
      "RMSE модели линейной регрессии: 39.958\n",
      "\n"
     ]
    }
   ],
   "source": [
    "print('Первый регион')\n",
    "target_valid_1, predicted_1 = lr_model(region_1)\n",
    "print()\n",
    "print('Второй регион')\n",
    "target_valid_2, predicted_2 = lr_model(region_2)\n",
    "print()\n",
    "print('Третий регион')\n",
    "target_valid_3, predicted_3 = lr_model(region_3)\n",
    "print()\n",
    "#показатели для каждого региона"
   ]
  },
  {
   "cell_type": "markdown",
   "metadata": {},
   "source": [
    "После обучения и проверки модели лучший показатель метрики оценки качества модели во 2 регионе.\n",
    "Данные по 1 и 3 регионам показывают большой разброс, предсказания на валидационных выборках не отображают реальные запасы."
   ]
  },
  {
   "cell_type": "markdown",
   "metadata": {},
   "source": [
    "## Подготовка к расчёту прибыли"
   ]
  },
  {
   "cell_type": "markdown",
   "metadata": {},
   "source": [
    "Сохраним  ключевые значения в отдельных переменных"
   ]
  },
  {
   "cell_type": "code",
   "execution_count": 19,
   "metadata": {},
   "outputs": [],
   "source": [
    "AREAS = 500 #количество исследуемых точек\n",
    "BEST_AREAS = 200 #количество лучших точек для разработки, отобранных с помощью машинного обучения\n",
    "BUDGET = 10000000000 #бюджет на разработку скважин в регионе \n",
    "INCOME = 450000 #доход с каждой единицы продукта (рублей за 1 тыс. баррелей)\n",
    "BOOTSTRAP = 1000 #количество выборок для bootstrap"
   ]
  },
  {
   "cell_type": "markdown",
   "metadata": {},
   "source": [
    "Рассчитаем достаточный объём сырья для безубыточной разработки новой скважины"
   ]
  },
  {
   "cell_type": "code",
   "execution_count": 20,
   "metadata": {},
   "outputs": [
    {
     "name": "stdout",
     "output_type": "stream",
     "text": [
      "Достаточный объём сырья для безубыточной разработки новой скважины 111.111 (тыс. баррелей).\n"
     ]
    }
   ],
   "source": [
    "break_even_amount = BUDGET / BEST_AREAS / INCOME\n",
    "print('Достаточный объём сырья для безубыточной разработки новой скважины', round(break_even_amount,3), '(тыс. баррелей).')"
   ]
  },
  {
   "cell_type": "code",
   "execution_count": 21,
   "metadata": {},
   "outputs": [
    {
     "name": "stdout",
     "output_type": "stream",
     "text": [
      "Средний запас в каждом регионе\n",
      "№1: 92.5 (тыс. баррелей).\n",
      "№2: 68.825 (тыс. баррелей).\n",
      "№3: 95.0 (тыс. баррелей).\n"
     ]
    }
   ],
   "source": [
    "print('Средний запас в каждом регионе')\n",
    "print('№1:',round(region_1['product'].mean(),3), '(тыс. баррелей).')\n",
    "print('№2:',round(region_2['product'].mean(),3), '(тыс. баррелей).')\n",
    "print('№3:',round(region_3['product'].mean(),3), '(тыс. баррелей).')"
   ]
  },
  {
   "cell_type": "markdown",
   "metadata": {},
   "source": [
    "Средний запас сырья во всех 3 регионах меньше достаточного объема для разработки новой скважины."
   ]
  },
  {
   "cell_type": "markdown",
   "metadata": {},
   "source": [
    "## Расчёт прибыли и рисков"
   ]
  },
  {
   "cell_type": "code",
   "execution_count": 22,
   "metadata": {},
   "outputs": [],
   "source": [
    "def revenue(target, predicted, count):\n",
    "    pred_sorted = predicted.sort_values(ascending=False)\n",
    "    selected = target[pred_sorted.index][:count]\n",
    "    return INCOME * selected.sum() - BUDGET"
   ]
  },
  {
   "cell_type": "code",
   "execution_count": 23,
   "metadata": {},
   "outputs": [],
   "source": [
    "def profit_risk(target, predicted):\n",
    "    target = target.reset_index(drop=True)\n",
    "    predicted = predicted.reset_index(drop=True)\n",
    "    benefit = []\n",
    "    risk = []\n",
    "    for i in range(BOOTSTRAP):\n",
    "        target_subsample = target.sample(AREAS, replace = True, random_state = state)\n",
    "        pred_subsample = predicted[target_subsample.index]\n",
    "        profit= revenue(target_subsample, pred_subsample, BEST_AREAS)\n",
    "        benefit.append(profit)\n",
    "\n",
    "    \n",
    "    benefit = pd.Series(benefit)\n",
    "    risk = (benefit < 0).mean()\n",
    "    \n",
    "    benefit.hist(figsize=(12, 5), bins=50, color='lightblue')\n",
    "    plt.grid(True)\n",
    "    plt.axvline(benefit.quantile(0.025), color='blue')\n",
    "    plt.axvline(benefit.quantile(0.975), color='green')\n",
    "    plt.legend(['Доверительный 95% интервал от', 'Доверительный 95% интервал до', 'Распределение прибыли'])\n",
    "    plt.xlabel('Прибыль, руб.')\n",
    "    plt.ylabel('Количество из 200 скважин')\n",
    "    plt.show()\n",
    "    \n",
    "    print('Средняя прибыль',round(benefit.mean()), 'млн.')\n",
    "    print('Доверительный интервал от', round(benefit.quantile(0.025)), 'до', round(benefit.quantile(0.975)))\n",
    "    print('Риск убытка',risk * 100,'%')\n",
    "    \n",
    "#функция для расчета методом boostrap по 1000 выборкам, отобрали лучшие 200 скважин из случайных 500"
   ]
  },
  {
   "cell_type": "code",
   "execution_count": 24,
   "metadata": {},
   "outputs": [
    {
     "name": "stdout",
     "output_type": "stream",
     "text": [
      "Первый регион\n"
     ]
    },
    {
     "data": {
      "image/png": "[encoded data removed]",
      "text/plain": [
       "<Figure size 864x360 with 1 Axes>"
      ]
     },
     "metadata": {
      "needs_background": "light"
     },
     "output_type": "display_data"
    },
    {
     "name": "stdout",
     "output_type": "stream",
     "text": [
      "Средняя прибыль 423897238 млн.\n",
      "Доверительный интервал от -76187814 до 957846532\n",
      "Риск убытка 4.8 %\n"
     ]
    }
   ],
   "source": [
    "print('Первый регион')\n",
    "profit_risk(target_valid_1, predicted_1)"
   ]
  },
  {
   "cell_type": "code",
   "execution_count": 25,
   "metadata": {},
   "outputs": [
    {
     "name": "stdout",
     "output_type": "stream",
     "text": [
      "Второй регион\n"
     ]
    },
    {
     "data": {
      "image/png": "[encoded data removed]",
      "text/plain": [
       "<Figure size 864x360 with 1 Axes>"
      ]
     },
     "metadata": {
      "needs_background": "light"
     },
     "output_type": "display_data"
    },
    {
     "name": "stdout",
     "output_type": "stream",
     "text": [
      "Средняя прибыль 513256699 млн.\n",
      "Доверительный интервал от 108066895 до 928574439\n",
      "Риск убытка 0.6 %\n"
     ]
    }
   ],
   "source": [
    "print('Второй регион')\n",
    "profit_risk(target_valid_2, predicted_2)"
   ]
  },
  {
   "cell_type": "code",
   "execution_count": 26,
   "metadata": {},
   "outputs": [
    {
     "name": "stdout",
     "output_type": "stream",
     "text": [
      "Третий регион\n"
     ]
    },
    {
     "data": {
      "image/png": "[encoded data removed]",
      "text/plain": [
       "<Figure size 864x360 with 1 Axes>"
      ]
     },
     "metadata": {
      "needs_background": "light"
     },
     "output_type": "display_data"
    },
    {
     "name": "stdout",
     "output_type": "stream",
     "text": [
      "Средняя прибыль 381120360 млн.\n",
      "Доверительный интервал от -142800630 до 893380566\n",
      "Риск убытка 7.3999999999999995 %\n"
     ]
    }
   ],
   "source": [
    "print('Третий регион')\n",
    "profit_risk(target_valid_3, predicted_3)"
   ]
  },
  {
   "cell_type": "markdown",
   "metadata": {},
   "source": [
    "Для метода boostrap по 1000 выборкам, отобрали лучшие 200 скважин из случайных 500.\n",
    "По всем показателям для бурения новой скважины выбираем 2 регион с наибольшей средней прибылью и наименьшим процентом риска убытка."
   ]
  },
  {
   "cell_type": "markdown",
   "metadata": {},
   "source": [
    "<div class=\"alert-info\" style=\"padding: 20px; border-radius: 10px\">\n",
    "<b>Вывод</b>\n",
    "    \n",
    "При подготовке данных пропуски и дубликаты в данных отсутствовали, замена типа данных не потребовалась. В синтетических данных присутствуют выбросы, они важны, корректировать не будем.\n",
    "    \n",
    "После обучения и проверки модели лучший показатель метрики оценки качества модели во 2 регионе.Данные по 1 и 3 регионам показывают большой разброс, предсказания на валидационных выборках не отображают реальные запасы.\n",
    "    \n",
    "Первый регион<br>\n",
    "Средний запас предсказанного сырья: 92.593 (тыс. баррелей).<br>\n",
    "RMSE модели линейной регрессии: 37.579<br>\n",
    "\n",
    "Второй регион<br>\n",
    "Средний запас предсказанного сырья: 68.77 (тыс. баррелей).<br>\n",
    "RMSE модели линейной регрессии: 0.89<br>\n",
    "    \n",
    "Третий регион<br>\n",
    "Средний запас предсказанного сырья: 95.088 (тыс. баррелей).<br>\n",
    "RMSE модели линейной регрессии: 39.958<br>\n",
    "    \n",
    "    \n",
    "Достаточный объём сырья для безубыточной разработки новой скважины 111.111 (тыс. баррелей) <br>\n",
    "Реальный средний запас в каждом регионе<br>\n",
    "№1: 92.5 (тыс. баррелей).<br>\n",
    "№2: 68.825 (тыс. баррелей).<br>\n",
    "№3: 95.0 (тыс. баррелей).<br>\n",
    "Средний запас сырья во всех 3 регионах меньше достаточного объема для разработки новой скважины.\n",
    "    \n",
    "    \n",
    "    \n",
    "Для метода boostrap по 1000 выборкам, отобрали лучшие 200 скважин из случайных 500. \n",
    "    \n",
    "- Первый регион <br>\n",
    "Средняя прибыль 423897238 млн.<br>\n",
    "Доверительный интевал от -76187814 до 957846532<br>\n",
    "Риск убытка 4.8 %<br>\n",
    "    \n",
    "    \n",
    "- Второй регион<br>\n",
    "Средняя прибыль 513256699 млн.<br>\n",
    "Доверительный интевал от 108066895 до 928574439<br>\n",
    "Риск убытка 0.6 %<br>\n",
    "    \n",
    "    \n",
    "- Третий регион<br>\n",
    "Средняя прибыль 381120360 млн.<br>\n",
    "Доверительный интевал от -142800630 до 893380566<br>\n",
    "Риск убытка 7.4 %<br>\n",
    "\n",
    "    \n",
    "По всем показателям для бурения новой скважины выбираем 2 регион с наибольшей средней прибылью и наименьшим процентом риска убытка."
   ]
  }
 ],
 "metadata": {
  "ExecuteTimeLog": [
   {
    "duration": 419,
    "start_time": "2024-03-01T13:51:57.576Z"
   },
   {
    "duration": 76,
    "start_time": "2024-03-01T13:52:35.030Z"
   },
   {
    "duration": 64,
    "start_time": "2024-03-01T13:52:38.245Z"
   },
   {
    "duration": 7,
    "start_time": "2024-03-01T13:52:49.007Z"
   },
   {
    "duration": 88,
    "start_time": "2024-03-01T13:52:52.998Z"
   },
   {
    "duration": 401,
    "start_time": "2024-03-01T13:53:02.852Z"
   },
   {
    "duration": 589,
    "start_time": "2024-03-01T13:53:32.289Z"
   },
   {
    "duration": 17,
    "start_time": "2024-03-01T13:54:11.322Z"
   },
   {
    "duration": 10,
    "start_time": "2024-03-01T13:54:38.152Z"
   },
   {
    "duration": 10,
    "start_time": "2024-03-01T13:54:39.913Z"
   },
   {
    "duration": 10,
    "start_time": "2024-03-01T13:54:40.337Z"
   },
   {
    "duration": 16,
    "start_time": "2024-03-01T13:55:04.663Z"
   },
   {
    "duration": 16,
    "start_time": "2024-03-01T13:55:13.759Z"
   },
   {
    "duration": 16,
    "start_time": "2024-03-01T13:55:21.587Z"
   },
   {
    "duration": 46,
    "start_time": "2024-03-01T13:55:45.143Z"
   },
   {
    "duration": 37,
    "start_time": "2024-03-01T13:56:01.131Z"
   },
   {
    "duration": 36,
    "start_time": "2024-03-01T13:56:09.223Z"
   },
   {
    "duration": 9,
    "start_time": "2024-03-01T13:56:59.080Z"
   },
   {
    "duration": 15,
    "start_time": "2024-03-01T13:57:04.526Z"
   },
   {
    "duration": 9,
    "start_time": "2024-03-01T13:57:09.969Z"
   },
   {
    "duration": 9,
    "start_time": "2024-03-01T13:57:17.368Z"
   },
   {
    "duration": 12,
    "start_time": "2024-03-01T13:59:51.439Z"
   },
   {
    "duration": 43,
    "start_time": "2024-03-01T14:27:31.445Z"
   },
   {
    "duration": 39,
    "start_time": "2024-03-01T14:27:57.545Z"
   },
   {
    "duration": 38,
    "start_time": "2024-03-01T14:29:20.971Z"
   },
   {
    "duration": 36,
    "start_time": "2024-03-01T14:29:26.600Z"
   },
   {
    "duration": 37,
    "start_time": "2024-03-01T14:29:52.340Z"
   },
   {
    "duration": 132,
    "start_time": "2024-03-01T14:32:36.182Z"
   },
   {
    "duration": 129,
    "start_time": "2024-03-01T14:33:30.469Z"
   },
   {
    "duration": 126,
    "start_time": "2024-03-01T14:33:35.883Z"
   },
   {
    "duration": 12,
    "start_time": "2024-03-01T14:34:32.211Z"
   },
   {
    "duration": 10,
    "start_time": "2024-03-01T14:45:07.780Z"
   },
   {
    "duration": 465,
    "start_time": "2024-03-01T14:45:30.627Z"
   },
   {
    "duration": 21,
    "start_time": "2024-03-01T14:45:34.027Z"
   },
   {
    "duration": 531,
    "start_time": "2024-03-01T14:46:07.747Z"
   },
   {
    "duration": 54,
    "start_time": "2024-03-01T14:46:11.912Z"
   },
   {
    "duration": 2,
    "start_time": "2024-03-01T14:48:47.606Z"
   },
   {
    "duration": 417,
    "start_time": "2024-03-01T14:49:12.324Z"
   },
   {
    "duration": 399,
    "start_time": "2024-03-01T14:50:16.290Z"
   },
   {
    "duration": 433,
    "start_time": "2024-03-01T14:51:24.689Z"
   },
   {
    "duration": 72,
    "start_time": "2024-03-01T14:52:22.939Z"
   },
   {
    "duration": 76,
    "start_time": "2024-03-01T14:52:30.131Z"
   },
   {
    "duration": 37,
    "start_time": "2024-03-01T14:53:44.695Z"
   },
   {
    "duration": 34,
    "start_time": "2024-03-01T14:53:52.899Z"
   },
   {
    "duration": 34,
    "start_time": "2024-03-01T14:54:02.333Z"
   },
   {
    "duration": 4,
    "start_time": "2024-03-01T15:02:19.995Z"
   },
   {
    "duration": 5,
    "start_time": "2024-03-01T15:02:26.418Z"
   },
   {
    "duration": 7,
    "start_time": "2024-03-01T15:02:55.807Z"
   },
   {
    "duration": 67,
    "start_time": "2024-03-01T15:04:14.110Z"
   },
   {
    "duration": 7,
    "start_time": "2024-03-01T15:04:19.430Z"
   },
   {
    "duration": 6,
    "start_time": "2024-03-01T15:05:09.718Z"
   },
   {
    "duration": 7,
    "start_time": "2024-03-01T15:05:26.042Z"
   },
   {
    "duration": 46,
    "start_time": "2024-03-01T15:08:59.137Z"
   },
   {
    "duration": 36,
    "start_time": "2024-03-01T15:09:10.523Z"
   },
   {
    "duration": 80,
    "start_time": "2024-03-01T15:09:30.472Z"
   },
   {
    "duration": 635,
    "start_time": "2024-03-01T15:14:44.732Z"
   },
   {
    "duration": 385,
    "start_time": "2024-03-01T15:14:57.345Z"
   },
   {
    "duration": 407,
    "start_time": "2024-03-01T15:15:11.365Z"
   },
   {
    "duration": 319,
    "start_time": "2024-03-01T15:15:15.065Z"
   },
   {
    "duration": 367,
    "start_time": "2024-03-01T15:15:19.689Z"
   },
   {
    "duration": 332,
    "start_time": "2024-03-01T15:16:19.518Z"
   },
   {
    "duration": 3,
    "start_time": "2024-03-01T15:19:43.966Z"
   },
   {
    "duration": 4,
    "start_time": "2024-03-01T15:19:46.436Z"
   },
   {
    "duration": 50,
    "start_time": "2024-03-01T15:29:15.457Z"
   },
   {
    "duration": 25,
    "start_time": "2024-03-01T15:29:47.088Z"
   },
   {
    "duration": 17,
    "start_time": "2024-03-01T15:29:51.714Z"
   },
   {
    "duration": 16,
    "start_time": "2024-03-01T15:30:01.757Z"
   },
   {
    "duration": 71,
    "start_time": "2024-03-01T15:57:24.914Z"
   },
   {
    "duration": 368,
    "start_time": "2024-03-01T16:08:36.968Z"
   },
   {
    "duration": 7,
    "start_time": "2024-03-01T16:18:58.940Z"
   },
   {
    "duration": 7,
    "start_time": "2024-03-01T16:19:06.230Z"
   },
   {
    "duration": 6,
    "start_time": "2024-03-01T16:19:09.836Z"
   },
   {
    "duration": 6,
    "start_time": "2024-03-01T16:19:23.809Z"
   },
   {
    "duration": 7,
    "start_time": "2024-03-01T16:19:32.019Z"
   },
   {
    "duration": 16,
    "start_time": "2024-03-01T16:20:09.766Z"
   },
   {
    "duration": 38,
    "start_time": "2024-03-01T16:20:11.900Z"
   },
   {
    "duration": 45,
    "start_time": "2024-03-01T16:20:18.130Z"
   },
   {
    "duration": 34,
    "start_time": "2024-03-01T16:20:19.044Z"
   },
   {
    "duration": 127,
    "start_time": "2024-03-01T16:20:19.662Z"
   },
   {
    "duration": 431,
    "start_time": "2024-03-01T16:20:21.053Z"
   },
   {
    "duration": 404,
    "start_time": "2024-03-01T16:20:21.486Z"
   },
   {
    "duration": 421,
    "start_time": "2024-03-01T16:20:22.824Z"
   },
   {
    "duration": 7,
    "start_time": "2024-03-01T16:20:24.144Z"
   },
   {
    "duration": 28,
    "start_time": "2024-03-01T16:27:47.634Z"
   },
   {
    "duration": 10,
    "start_time": "2024-03-01T16:28:04.521Z"
   },
   {
    "duration": 5,
    "start_time": "2024-03-01T16:39:31.186Z"
   },
   {
    "duration": 10,
    "start_time": "2024-03-01T16:41:14.034Z"
   },
   {
    "duration": 35,
    "start_time": "2024-03-01T16:54:54.109Z"
   },
   {
    "duration": 61,
    "start_time": "2024-03-01T16:55:06.061Z"
   },
   {
    "duration": 24,
    "start_time": "2024-03-01T16:55:21.253Z"
   },
   {
    "duration": 24,
    "start_time": "2024-03-01T16:55:50.765Z"
   },
   {
    "duration": 15,
    "start_time": "2024-03-01T16:58:23.990Z"
   },
   {
    "duration": 28,
    "start_time": "2024-03-01T16:58:43.190Z"
   },
   {
    "duration": 18,
    "start_time": "2024-03-01T17:00:28.976Z"
   },
   {
    "duration": 28,
    "start_time": "2024-03-01T17:00:43.864Z"
   },
   {
    "duration": 27,
    "start_time": "2024-03-01T17:01:08.864Z"
   },
   {
    "duration": 1492,
    "start_time": "2024-03-03T15:37:13.216Z"
   },
   {
    "duration": 771,
    "start_time": "2024-03-03T15:37:14.710Z"
   },
   {
    "duration": 99,
    "start_time": "2024-03-03T15:37:15.483Z"
   },
   {
    "duration": 0,
    "start_time": "2024-03-03T15:37:15.585Z"
   },
   {
    "duration": 0,
    "start_time": "2024-03-03T15:37:15.586Z"
   },
   {
    "duration": 0,
    "start_time": "2024-03-03T15:37:15.588Z"
   },
   {
    "duration": 0,
    "start_time": "2024-03-03T15:37:15.589Z"
   },
   {
    "duration": 0,
    "start_time": "2024-03-03T15:37:15.591Z"
   },
   {
    "duration": 0,
    "start_time": "2024-03-03T15:37:15.592Z"
   },
   {
    "duration": 0,
    "start_time": "2024-03-03T15:37:15.593Z"
   },
   {
    "duration": 0,
    "start_time": "2024-03-03T15:37:15.595Z"
   },
   {
    "duration": 0,
    "start_time": "2024-03-03T15:37:15.597Z"
   },
   {
    "duration": 0,
    "start_time": "2024-03-03T15:37:15.615Z"
   },
   {
    "duration": 0,
    "start_time": "2024-03-03T15:37:15.616Z"
   },
   {
    "duration": 0,
    "start_time": "2024-03-03T15:37:15.618Z"
   },
   {
    "duration": 1340,
    "start_time": "2024-03-03T15:37:40.961Z"
   },
   {
    "duration": 394,
    "start_time": "2024-03-03T15:37:42.303Z"
   },
   {
    "duration": 102,
    "start_time": "2024-03-03T15:37:42.698Z"
   },
   {
    "duration": 0,
    "start_time": "2024-03-03T15:37:42.802Z"
   },
   {
    "duration": 0,
    "start_time": "2024-03-03T15:37:42.803Z"
   },
   {
    "duration": 0,
    "start_time": "2024-03-03T15:37:42.804Z"
   },
   {
    "duration": 0,
    "start_time": "2024-03-03T15:37:42.805Z"
   },
   {
    "duration": 0,
    "start_time": "2024-03-03T15:37:42.814Z"
   },
   {
    "duration": 0,
    "start_time": "2024-03-03T15:37:42.816Z"
   },
   {
    "duration": 0,
    "start_time": "2024-03-03T15:37:42.817Z"
   },
   {
    "duration": 0,
    "start_time": "2024-03-03T15:37:42.818Z"
   },
   {
    "duration": 0,
    "start_time": "2024-03-03T15:37:42.820Z"
   },
   {
    "duration": 0,
    "start_time": "2024-03-03T15:37:42.833Z"
   },
   {
    "duration": 0,
    "start_time": "2024-03-03T15:37:42.835Z"
   },
   {
    "duration": 0,
    "start_time": "2024-03-03T15:37:42.836Z"
   },
   {
    "duration": 8,
    "start_time": "2024-03-03T15:37:53.873Z"
   },
   {
    "duration": 38,
    "start_time": "2024-03-03T15:38:04.533Z"
   },
   {
    "duration": 1309,
    "start_time": "2024-03-03T15:38:14.028Z"
   },
   {
    "duration": 402,
    "start_time": "2024-03-03T15:38:15.339Z"
   },
   {
    "duration": 49,
    "start_time": "2024-03-03T15:38:15.742Z"
   },
   {
    "duration": 27,
    "start_time": "2024-03-03T15:38:15.792Z"
   },
   {
    "duration": 40,
    "start_time": "2024-03-03T15:38:15.822Z"
   },
   {
    "duration": 34,
    "start_time": "2024-03-03T15:38:15.864Z"
   },
   {
    "duration": 35,
    "start_time": "2024-03-03T15:38:15.915Z"
   },
   {
    "duration": 125,
    "start_time": "2024-03-03T15:38:15.952Z"
   },
   {
    "duration": 412,
    "start_time": "2024-03-03T15:38:16.078Z"
   },
   {
    "duration": 412,
    "start_time": "2024-03-03T15:38:16.491Z"
   },
   {
    "duration": 400,
    "start_time": "2024-03-03T15:38:16.904Z"
   },
   {
    "duration": 110,
    "start_time": "2024-03-03T15:38:17.305Z"
   },
   {
    "duration": 0,
    "start_time": "2024-03-03T15:38:17.417Z"
   },
   {
    "duration": 1,
    "start_time": "2024-03-03T15:38:17.417Z"
   },
   {
    "duration": 0,
    "start_time": "2024-03-03T15:38:17.419Z"
   },
   {
    "duration": 1312,
    "start_time": "2024-03-03T15:38:54.900Z"
   },
   {
    "duration": 398,
    "start_time": "2024-03-03T15:38:56.214Z"
   },
   {
    "duration": 38,
    "start_time": "2024-03-03T15:38:56.613Z"
   },
   {
    "duration": 14,
    "start_time": "2024-03-03T15:38:56.653Z"
   },
   {
    "duration": 63,
    "start_time": "2024-03-03T15:38:56.669Z"
   },
   {
    "duration": 38,
    "start_time": "2024-03-03T15:38:56.733Z"
   },
   {
    "duration": 52,
    "start_time": "2024-03-03T15:38:56.772Z"
   },
   {
    "duration": 130,
    "start_time": "2024-03-03T15:38:56.826Z"
   },
   {
    "duration": 410,
    "start_time": "2024-03-03T15:38:56.958Z"
   },
   {
    "duration": 391,
    "start_time": "2024-03-03T15:38:57.370Z"
   },
   {
    "duration": 455,
    "start_time": "2024-03-03T15:38:57.762Z"
   },
   {
    "duration": 6,
    "start_time": "2024-03-03T15:38:58.218Z"
   },
   {
    "duration": 274,
    "start_time": "2024-03-03T15:38:58.225Z"
   },
   {
    "duration": 0,
    "start_time": "2024-03-03T15:38:58.501Z"
   },
   {
    "duration": 0,
    "start_time": "2024-03-03T15:38:58.502Z"
   },
   {
    "duration": 24,
    "start_time": "2024-03-03T15:51:36.436Z"
   },
   {
    "duration": 38,
    "start_time": "2024-03-03T15:51:38.145Z"
   },
   {
    "duration": 108,
    "start_time": "2024-03-03T15:51:39.507Z"
   },
   {
    "duration": 3,
    "start_time": "2024-03-03T15:56:50.143Z"
   },
   {
    "duration": 10,
    "start_time": "2024-03-03T16:16:26.019Z"
   },
   {
    "duration": 5,
    "start_time": "2024-03-03T16:16:37.370Z"
   },
   {
    "duration": 159,
    "start_time": "2024-03-03T16:17:03.981Z"
   },
   {
    "duration": 113,
    "start_time": "2024-03-03T16:17:24.523Z"
   },
   {
    "duration": 122,
    "start_time": "2024-03-03T16:17:47.602Z"
   },
   {
    "duration": 23,
    "start_time": "2024-03-03T16:18:18.991Z"
   },
   {
    "duration": 36,
    "start_time": "2024-03-03T16:18:32.496Z"
   },
   {
    "duration": 7,
    "start_time": "2024-03-03T16:18:52.039Z"
   },
   {
    "duration": 8,
    "start_time": "2024-03-03T16:18:59.305Z"
   },
   {
    "duration": 6,
    "start_time": "2024-03-03T16:19:06.388Z"
   },
   {
    "duration": 23,
    "start_time": "2024-03-03T16:19:50.073Z"
   },
   {
    "duration": 23,
    "start_time": "2024-03-03T16:19:50.570Z"
   },
   {
    "duration": 31,
    "start_time": "2024-03-03T16:19:51.122Z"
   },
   {
    "duration": 27,
    "start_time": "2024-03-03T16:20:14.474Z"
   },
   {
    "duration": 24,
    "start_time": "2024-03-03T16:20:14.934Z"
   },
   {
    "duration": 41,
    "start_time": "2024-03-03T16:20:22.168Z"
   },
   {
    "duration": 111,
    "start_time": "2024-03-03T16:20:26.810Z"
   },
   {
    "duration": 4,
    "start_time": "2024-03-03T16:29:00.556Z"
   },
   {
    "duration": 5,
    "start_time": "2024-03-03T16:29:55.039Z"
   },
   {
    "duration": 4,
    "start_time": "2024-03-03T16:34:56.481Z"
   },
   {
    "duration": 5,
    "start_time": "2024-03-03T16:38:39.164Z"
   },
   {
    "duration": 4,
    "start_time": "2024-03-03T16:38:50.988Z"
   },
   {
    "duration": 73,
    "start_time": "2024-03-03T16:39:04.660Z"
   },
   {
    "duration": 104,
    "start_time": "2024-03-03T16:39:47.311Z"
   },
   {
    "duration": 248,
    "start_time": "2024-03-03T16:40:07.476Z"
   },
   {
    "duration": 91,
    "start_time": "2024-03-03T16:40:30.926Z"
   },
   {
    "duration": 327,
    "start_time": "2024-03-03T16:41:05.794Z"
   },
   {
    "duration": 69,
    "start_time": "2024-03-03T16:41:18.410Z"
   },
   {
    "duration": 348,
    "start_time": "2024-03-03T16:41:26.671Z"
   },
   {
    "duration": 8,
    "start_time": "2024-03-03T16:43:02.188Z"
   },
   {
    "duration": 6,
    "start_time": "2024-03-03T16:43:04.090Z"
   },
   {
    "duration": 6,
    "start_time": "2024-03-03T16:43:05.406Z"
   },
   {
    "duration": 3,
    "start_time": "2024-03-03T16:46:25.905Z"
   },
   {
    "duration": 4,
    "start_time": "2024-03-03T16:47:44.002Z"
   },
   {
    "duration": 1312,
    "start_time": "2024-03-03T16:48:57.491Z"
   },
   {
    "duration": 388,
    "start_time": "2024-03-03T16:48:58.804Z"
   },
   {
    "duration": 36,
    "start_time": "2024-03-03T16:48:59.193Z"
   },
   {
    "duration": 15,
    "start_time": "2024-03-03T16:48:59.230Z"
   },
   {
    "duration": 38,
    "start_time": "2024-03-03T16:48:59.246Z"
   },
   {
    "duration": 55,
    "start_time": "2024-03-03T16:48:59.285Z"
   },
   {
    "duration": 31,
    "start_time": "2024-03-03T16:48:59.342Z"
   },
   {
    "duration": 123,
    "start_time": "2024-03-03T16:48:59.375Z"
   },
   {
    "duration": 404,
    "start_time": "2024-03-03T16:48:59.499Z"
   },
   {
    "duration": 394,
    "start_time": "2024-03-03T16:48:59.905Z"
   },
   {
    "duration": 403,
    "start_time": "2024-03-03T16:49:00.301Z"
   },
   {
    "duration": 6,
    "start_time": "2024-03-03T16:49:00.714Z"
   },
   {
    "duration": 59,
    "start_time": "2024-03-03T16:49:00.722Z"
   },
   {
    "duration": 433,
    "start_time": "2024-03-03T16:49:00.784Z"
   },
   {
    "duration": 95,
    "start_time": "2024-03-03T16:49:01.220Z"
   },
   {
    "duration": 4,
    "start_time": "2024-03-03T16:49:01.317Z"
   },
   {
    "duration": 94,
    "start_time": "2024-03-03T16:49:01.323Z"
   },
   {
    "duration": 6,
    "start_time": "2024-03-03T16:50:40.580Z"
   },
   {
    "duration": 36,
    "start_time": "2024-03-03T16:52:09.564Z"
   },
   {
    "duration": 16,
    "start_time": "2024-03-03T16:52:10.118Z"
   },
   {
    "duration": 34,
    "start_time": "2024-03-03T16:52:11.605Z"
   },
   {
    "duration": 36,
    "start_time": "2024-03-03T16:52:12.871Z"
   },
   {
    "duration": 36,
    "start_time": "2024-03-03T16:52:13.373Z"
   },
   {
    "duration": 126,
    "start_time": "2024-03-03T16:52:13.818Z"
   },
   {
    "duration": 396,
    "start_time": "2024-03-03T16:52:15.968Z"
   },
   {
    "duration": 410,
    "start_time": "2024-03-03T16:52:17.814Z"
   },
   {
    "duration": 477,
    "start_time": "2024-03-03T16:52:19.021Z"
   },
   {
    "duration": 7,
    "start_time": "2024-03-03T16:52:29.523Z"
   },
   {
    "duration": 4,
    "start_time": "2024-03-03T16:52:50.368Z"
   },
   {
    "duration": 300,
    "start_time": "2024-03-03T16:52:51.823Z"
   },
   {
    "duration": 7,
    "start_time": "2024-03-03T16:53:34.003Z"
   },
   {
    "duration": 310,
    "start_time": "2024-03-03T16:55:28.314Z"
   },
   {
    "duration": 23,
    "start_time": "2024-03-03T16:55:59.177Z"
   },
   {
    "duration": 37,
    "start_time": "2024-03-03T16:57:26.533Z"
   },
   {
    "duration": 88,
    "start_time": "2024-03-03T16:57:58.526Z"
   },
   {
    "duration": 26,
    "start_time": "2024-03-03T16:58:21.568Z"
   },
   {
    "duration": 26,
    "start_time": "2024-03-03T16:59:15.105Z"
   },
   {
    "duration": 29,
    "start_time": "2024-03-03T17:00:19.773Z"
   },
   {
    "duration": 32,
    "start_time": "2024-03-03T17:00:27.782Z"
   },
   {
    "duration": 93,
    "start_time": "2024-03-03T17:02:39.823Z"
   },
   {
    "duration": 27,
    "start_time": "2024-03-03T17:02:42.600Z"
   },
   {
    "duration": 28,
    "start_time": "2024-03-03T17:03:07.933Z"
   },
   {
    "duration": 23,
    "start_time": "2024-03-03T17:03:14.965Z"
   },
   {
    "duration": 23,
    "start_time": "2024-03-03T17:03:17.312Z"
   },
   {
    "duration": 1699,
    "start_time": "2024-03-04T06:34:21.287Z"
   },
   {
    "duration": 1663,
    "start_time": "2024-03-04T06:34:22.988Z"
   },
   {
    "duration": 41,
    "start_time": "2024-03-04T06:34:24.653Z"
   },
   {
    "duration": 17,
    "start_time": "2024-03-04T06:34:24.696Z"
   },
   {
    "duration": 44,
    "start_time": "2024-03-04T06:34:24.715Z"
   },
   {
    "duration": 39,
    "start_time": "2024-03-04T06:34:24.781Z"
   },
   {
    "duration": 36,
    "start_time": "2024-03-04T06:34:24.822Z"
   },
   {
    "duration": 157,
    "start_time": "2024-03-04T06:34:24.860Z"
   },
   {
    "duration": 501,
    "start_time": "2024-03-04T06:34:25.019Z"
   },
   {
    "duration": 447,
    "start_time": "2024-03-04T06:34:25.522Z"
   },
   {
    "duration": 457,
    "start_time": "2024-03-04T06:34:25.980Z"
   },
   {
    "duration": 8,
    "start_time": "2024-03-04T06:34:26.438Z"
   },
   {
    "duration": 105,
    "start_time": "2024-03-04T06:34:26.447Z"
   },
   {
    "duration": 151,
    "start_time": "2024-03-04T06:34:26.556Z"
   },
   {
    "duration": 190,
    "start_time": "2024-03-04T06:34:26.709Z"
   },
   {
    "duration": 7,
    "start_time": "2024-03-04T06:42:16.618Z"
   },
   {
    "duration": 4,
    "start_time": "2024-03-04T08:31:51.943Z"
   },
   {
    "duration": 3,
    "start_time": "2024-03-04T08:32:08.321Z"
   },
   {
    "duration": 4,
    "start_time": "2024-03-04T08:37:01.772Z"
   },
   {
    "duration": 2,
    "start_time": "2024-03-04T08:37:26.769Z"
   },
   {
    "duration": 4,
    "start_time": "2024-03-04T08:37:31.379Z"
   },
   {
    "duration": 5,
    "start_time": "2024-03-04T08:52:43.972Z"
   },
   {
    "duration": 282,
    "start_time": "2024-03-04T08:56:26.301Z"
   },
   {
    "duration": 1491,
    "start_time": "2024-03-04T08:57:25.789Z"
   },
   {
    "duration": 467,
    "start_time": "2024-03-04T08:57:27.282Z"
   },
   {
    "duration": 51,
    "start_time": "2024-03-04T08:57:27.753Z"
   },
   {
    "duration": 15,
    "start_time": "2024-03-04T08:57:27.806Z"
   },
   {
    "duration": 63,
    "start_time": "2024-03-04T08:57:27.822Z"
   },
   {
    "duration": 46,
    "start_time": "2024-03-04T08:57:27.887Z"
   },
   {
    "duration": 57,
    "start_time": "2024-03-04T08:57:27.935Z"
   },
   {
    "duration": 137,
    "start_time": "2024-03-04T08:57:27.994Z"
   },
   {
    "duration": 458,
    "start_time": "2024-03-04T08:57:28.133Z"
   },
   {
    "duration": 467,
    "start_time": "2024-03-04T08:57:28.593Z"
   },
   {
    "duration": 471,
    "start_time": "2024-03-04T08:57:29.062Z"
   },
   {
    "duration": 6,
    "start_time": "2024-03-04T08:57:29.534Z"
   },
   {
    "duration": 5,
    "start_time": "2024-03-04T08:57:29.542Z"
   },
   {
    "duration": 319,
    "start_time": "2024-03-04T08:57:29.549Z"
   },
   {
    "duration": 0,
    "start_time": "2024-03-04T08:57:29.879Z"
   },
   {
    "duration": 0,
    "start_time": "2024-03-04T08:57:29.881Z"
   },
   {
    "duration": 0,
    "start_time": "2024-03-04T08:57:29.882Z"
   },
   {
    "duration": 5,
    "start_time": "2024-03-04T08:59:48.554Z"
   },
   {
    "duration": 332,
    "start_time": "2024-03-04T08:59:50.058Z"
   },
   {
    "duration": 4,
    "start_time": "2024-03-04T09:02:02.843Z"
   },
   {
    "duration": 4,
    "start_time": "2024-03-04T09:02:48.468Z"
   },
   {
    "duration": 5,
    "start_time": "2024-03-04T09:03:05.390Z"
   },
   {
    "duration": 94,
    "start_time": "2024-03-04T09:03:23.895Z"
   },
   {
    "duration": 11,
    "start_time": "2024-03-04T09:04:16.839Z"
   },
   {
    "duration": 8,
    "start_time": "2024-03-04T09:05:03.622Z"
   },
   {
    "duration": 7,
    "start_time": "2024-03-04T09:05:48.493Z"
   },
   {
    "duration": 6,
    "start_time": "2024-03-04T09:05:59.751Z"
   },
   {
    "duration": 862,
    "start_time": "2024-03-04T09:07:08.030Z"
   },
   {
    "duration": 7,
    "start_time": "2024-03-04T09:08:58.846Z"
   },
   {
    "duration": 8,
    "start_time": "2024-03-04T09:10:19.367Z"
   },
   {
    "duration": 3,
    "start_time": "2024-03-04T09:11:20.236Z"
   },
   {
    "duration": 12,
    "start_time": "2024-03-04T09:18:12.430Z"
   },
   {
    "duration": 9,
    "start_time": "2024-03-04T09:18:24.711Z"
   },
   {
    "duration": 10,
    "start_time": "2024-03-04T09:18:45.164Z"
   },
   {
    "duration": 9,
    "start_time": "2024-03-04T09:19:31.600Z"
   },
   {
    "duration": 9,
    "start_time": "2024-03-04T09:19:35.908Z"
   },
   {
    "duration": 9,
    "start_time": "2024-03-04T09:22:01.084Z"
   },
   {
    "duration": 3,
    "start_time": "2024-03-04T09:29:56.298Z"
   },
   {
    "duration": 4,
    "start_time": "2024-03-04T09:30:51.374Z"
   },
   {
    "duration": 4,
    "start_time": "2024-03-04T09:34:39.070Z"
   },
   {
    "duration": 3,
    "start_time": "2024-03-04T09:37:53.613Z"
   },
   {
    "duration": 3,
    "start_time": "2024-03-04T09:39:49.338Z"
   },
   {
    "duration": 4,
    "start_time": "2024-03-04T09:39:51.667Z"
   },
   {
    "duration": 2,
    "start_time": "2024-03-04T09:42:21.133Z"
   },
   {
    "duration": 4,
    "start_time": "2024-03-04T09:42:24.893Z"
   },
   {
    "duration": 10,
    "start_time": "2024-03-04T09:43:14.542Z"
   },
   {
    "duration": 9,
    "start_time": "2024-03-04T09:43:18.230Z"
   },
   {
    "duration": 9,
    "start_time": "2024-03-04T09:43:25.582Z"
   },
   {
    "duration": 3,
    "start_time": "2024-03-04T09:43:31.101Z"
   },
   {
    "duration": 99,
    "start_time": "2024-03-04T09:48:10.201Z"
   },
   {
    "duration": 11,
    "start_time": "2024-03-04T09:49:06.720Z"
   },
   {
    "duration": 3,
    "start_time": "2024-03-04T09:49:13.114Z"
   },
   {
    "duration": 4,
    "start_time": "2024-03-04T09:54:45.720Z"
   },
   {
    "duration": 99,
    "start_time": "2024-03-04T10:22:50.710Z"
   },
   {
    "duration": 4,
    "start_time": "2024-03-04T10:38:04.614Z"
   },
   {
    "duration": 4,
    "start_time": "2024-03-04T10:38:13.982Z"
   },
   {
    "duration": 4,
    "start_time": "2024-03-04T10:41:38.980Z"
   },
   {
    "duration": 4,
    "start_time": "2024-03-04T10:41:49.332Z"
   },
   {
    "duration": 125,
    "start_time": "2024-03-04T12:03:37.945Z"
   },
   {
    "duration": 14,
    "start_time": "2024-03-04T12:51:40.918Z"
   },
   {
    "duration": 9,
    "start_time": "2024-03-04T12:52:09.392Z"
   },
   {
    "duration": 10,
    "start_time": "2024-03-04T12:52:13.631Z"
   },
   {
    "duration": 5,
    "start_time": "2024-03-04T12:52:23.892Z"
   },
   {
    "duration": 5,
    "start_time": "2024-03-04T12:52:38.950Z"
   },
   {
    "duration": 6,
    "start_time": "2024-03-04T12:53:00.052Z"
   },
   {
    "duration": 4,
    "start_time": "2024-03-04T12:54:17.617Z"
   },
   {
    "duration": 4,
    "start_time": "2024-03-04T12:55:14.962Z"
   },
   {
    "duration": 8,
    "start_time": "2024-03-04T13:06:50.776Z"
   },
   {
    "duration": 6,
    "start_time": "2024-03-04T13:07:20.679Z"
   },
   {
    "duration": 94,
    "start_time": "2024-03-04T13:08:47.035Z"
   },
   {
    "duration": 7,
    "start_time": "2024-03-04T13:08:53.017Z"
   },
   {
    "duration": 7,
    "start_time": "2024-03-04T13:15:57.824Z"
   },
   {
    "duration": 5,
    "start_time": "2024-03-04T13:17:24.694Z"
   },
   {
    "duration": 7,
    "start_time": "2024-03-04T13:17:36.972Z"
   },
   {
    "duration": 6,
    "start_time": "2024-03-04T13:17:41.670Z"
   },
   {
    "duration": 11,
    "start_time": "2024-03-04T13:18:17.503Z"
   },
   {
    "duration": 4,
    "start_time": "2024-03-04T13:18:28.919Z"
   },
   {
    "duration": 4,
    "start_time": "2024-03-04T13:41:42.759Z"
   },
   {
    "duration": 4,
    "start_time": "2024-03-04T14:25:48.910Z"
   },
   {
    "duration": 5,
    "start_time": "2024-03-04T14:39:35.833Z"
   },
   {
    "duration": 398,
    "start_time": "2024-03-04T14:39:37.184Z"
   },
   {
    "duration": 6,
    "start_time": "2024-03-04T14:39:38.852Z"
   },
   {
    "duration": 3,
    "start_time": "2024-03-04T14:45:32.636Z"
   },
   {
    "duration": 4,
    "start_time": "2024-03-04T14:50:18.999Z"
   },
   {
    "duration": 3,
    "start_time": "2024-03-04T14:50:43.130Z"
   },
   {
    "duration": 1461,
    "start_time": "2024-03-04T15:21:22.982Z"
   },
   {
    "duration": 448,
    "start_time": "2024-03-04T15:21:24.445Z"
   },
   {
    "duration": 44,
    "start_time": "2024-03-04T15:21:24.894Z"
   },
   {
    "duration": 18,
    "start_time": "2024-03-04T15:21:24.939Z"
   },
   {
    "duration": 61,
    "start_time": "2024-03-04T15:21:24.960Z"
   },
   {
    "duration": 59,
    "start_time": "2024-03-04T15:21:25.023Z"
   },
   {
    "duration": 39,
    "start_time": "2024-03-04T15:21:25.083Z"
   },
   {
    "duration": 156,
    "start_time": "2024-03-04T15:21:25.124Z"
   },
   {
    "duration": 4,
    "start_time": "2024-03-04T15:21:25.282Z"
   },
   {
    "duration": 394,
    "start_time": "2024-03-04T15:21:25.288Z"
   },
   {
    "duration": 97,
    "start_time": "2024-03-04T15:21:25.685Z"
   },
   {
    "duration": 14,
    "start_time": "2024-03-04T15:21:25.785Z"
   },
   {
    "duration": 47,
    "start_time": "2024-03-04T15:21:25.801Z"
   },
   {
    "duration": 31,
    "start_time": "2024-03-04T15:21:25.851Z"
   },
   {
    "duration": 45,
    "start_time": "2024-03-04T15:21:25.884Z"
   },
   {
    "duration": 150,
    "start_time": "2024-03-04T15:21:25.931Z"
   },
   {
    "duration": 37,
    "start_time": "2024-03-04T15:21:58.316Z"
   },
   {
    "duration": 4,
    "start_time": "2024-03-04T15:22:14.467Z"
   },
   {
    "duration": 9,
    "start_time": "2024-03-04T15:22:21.943Z"
   },
   {
    "duration": 5,
    "start_time": "2024-03-04T15:22:28.325Z"
   },
   {
    "duration": 6,
    "start_time": "2024-03-04T15:22:30.753Z"
   },
   {
    "duration": 1630,
    "start_time": "2024-03-05T06:50:17.037Z"
   },
   {
    "duration": 805,
    "start_time": "2024-03-05T06:50:18.669Z"
   },
   {
    "duration": 41,
    "start_time": "2024-03-05T06:50:19.476Z"
   },
   {
    "duration": 17,
    "start_time": "2024-03-05T06:50:19.519Z"
   },
   {
    "duration": 44,
    "start_time": "2024-03-05T06:50:19.538Z"
   },
   {
    "duration": 61,
    "start_time": "2024-03-05T06:50:19.584Z"
   },
   {
    "duration": 36,
    "start_time": "2024-03-05T06:50:19.647Z"
   },
   {
    "duration": 168,
    "start_time": "2024-03-05T06:50:19.685Z"
   },
   {
    "duration": 5,
    "start_time": "2024-03-05T06:50:19.854Z"
   },
   {
    "duration": 367,
    "start_time": "2024-03-05T06:50:19.861Z"
   },
   {
    "duration": 94,
    "start_time": "2024-03-05T06:50:20.231Z"
   },
   {
    "duration": 101,
    "start_time": "2024-03-05T06:50:20.328Z"
   },
   {
    "duration": 33,
    "start_time": "2024-03-05T06:50:20.430Z"
   },
   {
    "duration": 9,
    "start_time": "2024-03-05T06:50:20.466Z"
   },
   {
    "duration": 4,
    "start_time": "2024-03-05T06:50:20.477Z"
   },
   {
    "duration": 112,
    "start_time": "2024-03-05T06:50:20.482Z"
   },
   {
    "duration": 484,
    "start_time": "2024-03-05T07:25:03.388Z"
   },
   {
    "duration": 1126,
    "start_time": "2024-03-05T07:25:22.767Z"
   },
   {
    "duration": 1171,
    "start_time": "2024-03-05T07:25:36.706Z"
   },
   {
    "duration": 515,
    "start_time": "2024-03-05T07:25:42.910Z"
   },
   {
    "duration": 472,
    "start_time": "2024-03-05T07:26:00.609Z"
   },
   {
    "duration": 474,
    "start_time": "2024-03-05T07:26:03.688Z"
   },
   {
    "duration": 13,
    "start_time": "2024-03-05T07:26:41.334Z"
   },
   {
    "duration": 90,
    "start_time": "2024-03-05T07:26:47.195Z"
   },
   {
    "duration": 452,
    "start_time": "2024-03-05T07:26:54.216Z"
   },
   {
    "duration": 5,
    "start_time": "2024-03-05T07:52:45.973Z"
   },
   {
    "duration": 17,
    "start_time": "2024-03-05T08:10:25.495Z"
   },
   {
    "duration": 112,
    "start_time": "2024-03-05T08:27:21.640Z"
   },
   {
    "duration": 68,
    "start_time": "2024-03-05T08:27:33.285Z"
   },
   {
    "duration": 3,
    "start_time": "2024-03-05T08:27:43.412Z"
   },
   {
    "duration": 4,
    "start_time": "2024-03-05T08:28:11.876Z"
   },
   {
    "duration": 3,
    "start_time": "2024-03-05T08:32:18.114Z"
   },
   {
    "duration": 21,
    "start_time": "2024-03-05T09:13:35.593Z"
   },
   {
    "duration": 10,
    "start_time": "2024-03-05T09:14:42.840Z"
   },
   {
    "duration": 9,
    "start_time": "2024-03-05T09:15:13.751Z"
   },
   {
    "duration": 9,
    "start_time": "2024-03-05T09:15:26.735Z"
   },
   {
    "duration": 86,
    "start_time": "2024-03-05T09:17:48.452Z"
   },
   {
    "duration": 4,
    "start_time": "2024-03-05T09:52:27.891Z"
   },
   {
    "duration": 3,
    "start_time": "2024-03-05T09:54:36.362Z"
   },
   {
    "duration": 18,
    "start_time": "2024-03-05T09:55:06.992Z"
   },
   {
    "duration": 12,
    "start_time": "2024-03-05T09:55:37.807Z"
   },
   {
    "duration": 76,
    "start_time": "2024-03-05T09:56:38.580Z"
   },
   {
    "duration": 5,
    "start_time": "2024-03-05T09:56:54.122Z"
   },
   {
    "duration": 5,
    "start_time": "2024-03-05T10:10:44.623Z"
   },
   {
    "duration": 4,
    "start_time": "2024-03-05T10:54:43.991Z"
   },
   {
    "duration": 14,
    "start_time": "2024-03-05T11:03:58.594Z"
   },
   {
    "duration": 89,
    "start_time": "2024-03-05T11:04:16.010Z"
   },
   {
    "duration": 5,
    "start_time": "2024-03-05T11:04:25.288Z"
   },
   {
    "duration": 10,
    "start_time": "2024-03-05T11:04:26.686Z"
   },
   {
    "duration": 10,
    "start_time": "2024-03-05T11:06:59.622Z"
   },
   {
    "duration": 16,
    "start_time": "2024-03-05T11:07:56.881Z"
   },
   {
    "duration": 5,
    "start_time": "2024-03-05T11:07:58.565Z"
   },
   {
    "duration": 14,
    "start_time": "2024-03-05T11:07:59.491Z"
   },
   {
    "duration": 4,
    "start_time": "2024-03-05T11:08:27.858Z"
   },
   {
    "duration": 14,
    "start_time": "2024-03-05T11:08:28.900Z"
   },
   {
    "duration": 5,
    "start_time": "2024-03-05T11:20:33.929Z"
   },
   {
    "duration": 2,
    "start_time": "2024-03-05T11:21:13.991Z"
   },
   {
    "duration": 90,
    "start_time": "2024-03-05T11:22:13.757Z"
   },
   {
    "duration": 74,
    "start_time": "2024-03-05T11:22:33.069Z"
   },
   {
    "duration": 75,
    "start_time": "2024-03-05T11:22:56.361Z"
   },
   {
    "duration": 84,
    "start_time": "2024-03-05T11:23:27.035Z"
   },
   {
    "duration": 5,
    "start_time": "2024-03-05T11:23:51.081Z"
   },
   {
    "duration": 6,
    "start_time": "2024-03-05T11:25:27.621Z"
   },
   {
    "duration": 10,
    "start_time": "2024-03-05T11:30:25.203Z"
   },
   {
    "duration": 5,
    "start_time": "2024-03-05T11:30:41.853Z"
   },
   {
    "duration": 15,
    "start_time": "2024-03-05T11:30:42.614Z"
   },
   {
    "duration": 5,
    "start_time": "2024-03-05T11:31:04.350Z"
   },
   {
    "duration": 14,
    "start_time": "2024-03-05T11:31:13.805Z"
   },
   {
    "duration": 15,
    "start_time": "2024-03-05T11:31:47.888Z"
   },
   {
    "duration": 9,
    "start_time": "2024-03-05T11:35:27.173Z"
   },
   {
    "duration": 3,
    "start_time": "2024-03-05T11:36:51.169Z"
   },
   {
    "duration": 3,
    "start_time": "2024-03-05T11:37:53.422Z"
   },
   {
    "duration": 5,
    "start_time": "2024-03-05T11:37:54.897Z"
   },
   {
    "duration": 5,
    "start_time": "2024-03-05T11:37:56.762Z"
   },
   {
    "duration": 16,
    "start_time": "2024-03-05T11:38:00.372Z"
   },
   {
    "duration": 10,
    "start_time": "2024-03-05T11:40:43.045Z"
   },
   {
    "duration": 13,
    "start_time": "2024-03-05T11:40:48.096Z"
   },
   {
    "duration": 3,
    "start_time": "2024-03-05T11:41:37.645Z"
   },
   {
    "duration": 13,
    "start_time": "2024-03-05T11:41:39.345Z"
   },
   {
    "duration": 5,
    "start_time": "2024-03-05T11:41:47.561Z"
   },
   {
    "duration": 15,
    "start_time": "2024-03-05T11:42:13.119Z"
   },
   {
    "duration": 5,
    "start_time": "2024-03-05T11:44:26.715Z"
   },
   {
    "duration": 3,
    "start_time": "2024-03-05T11:46:42.886Z"
   },
   {
    "duration": 3,
    "start_time": "2024-03-05T11:48:58.541Z"
   },
   {
    "duration": 14,
    "start_time": "2024-03-05T11:49:00.927Z"
   },
   {
    "duration": 2,
    "start_time": "2024-03-05T11:49:13.397Z"
   },
   {
    "duration": 5,
    "start_time": "2024-03-05T11:49:14.307Z"
   },
   {
    "duration": 4,
    "start_time": "2024-03-05T11:49:21.209Z"
   },
   {
    "duration": 5,
    "start_time": "2024-03-05T11:49:23.350Z"
   },
   {
    "duration": 18,
    "start_time": "2024-03-05T11:49:38.632Z"
   },
   {
    "duration": 5,
    "start_time": "2024-03-05T11:51:10.005Z"
   },
   {
    "duration": 20,
    "start_time": "2024-03-05T11:51:14.004Z"
   },
   {
    "duration": 5,
    "start_time": "2024-03-05T11:56:14.083Z"
   },
   {
    "duration": 5,
    "start_time": "2024-03-05T12:20:09.423Z"
   },
   {
    "duration": 3,
    "start_time": "2024-03-05T12:20:11.216Z"
   },
   {
    "duration": 6,
    "start_time": "2024-03-05T12:20:12.208Z"
   },
   {
    "duration": 10,
    "start_time": "2024-03-05T12:20:16.628Z"
   },
   {
    "duration": 4,
    "start_time": "2024-03-05T12:20:42.801Z"
   },
   {
    "duration": 21,
    "start_time": "2024-03-05T12:20:43.659Z"
   },
   {
    "duration": 4,
    "start_time": "2024-03-05T12:21:32.979Z"
   },
   {
    "duration": 20,
    "start_time": "2024-03-05T12:21:35.080Z"
   },
   {
    "duration": 7,
    "start_time": "2024-03-05T12:22:26.839Z"
   },
   {
    "duration": 21,
    "start_time": "2024-03-05T12:22:27.969Z"
   },
   {
    "duration": 3,
    "start_time": "2024-03-05T12:27:32.573Z"
   },
   {
    "duration": 6,
    "start_time": "2024-03-05T12:33:05.540Z"
   },
   {
    "duration": 5,
    "start_time": "2024-03-05T12:34:56.311Z"
   },
   {
    "duration": 9,
    "start_time": "2024-03-05T12:35:36.056Z"
   },
   {
    "duration": 80,
    "start_time": "2024-03-05T12:37:22.527Z"
   },
   {
    "duration": 96,
    "start_time": "2024-03-05T12:37:30.008Z"
   },
   {
    "duration": 13,
    "start_time": "2024-03-05T12:37:42.946Z"
   },
   {
    "duration": 13,
    "start_time": "2024-03-05T12:38:09.595Z"
   },
   {
    "duration": 14,
    "start_time": "2024-03-05T12:38:28.103Z"
   },
   {
    "duration": 3,
    "start_time": "2024-03-05T12:43:43.546Z"
   },
   {
    "duration": 5,
    "start_time": "2024-03-05T12:46:11.784Z"
   },
   {
    "duration": 5,
    "start_time": "2024-03-05T12:46:25.576Z"
   },
   {
    "duration": 6,
    "start_time": "2024-03-05T12:52:53.790Z"
   },
   {
    "duration": 13,
    "start_time": "2024-03-05T12:55:10.392Z"
   },
   {
    "duration": 6,
    "start_time": "2024-03-05T12:55:19.191Z"
   },
   {
    "duration": 19,
    "start_time": "2024-03-05T12:55:20.117Z"
   },
   {
    "duration": 6,
    "start_time": "2024-03-05T12:55:37.941Z"
   },
   {
    "duration": 19,
    "start_time": "2024-03-05T12:55:39.039Z"
   },
   {
    "duration": 3,
    "start_time": "2024-03-05T12:58:17.238Z"
   },
   {
    "duration": 3,
    "start_time": "2024-03-05T12:58:42.576Z"
   },
   {
    "duration": 14,
    "start_time": "2024-03-05T13:03:58.021Z"
   },
   {
    "duration": 3,
    "start_time": "2024-03-05T13:04:31.448Z"
   },
   {
    "duration": 13,
    "start_time": "2024-03-05T13:04:33.134Z"
   },
   {
    "duration": 1473,
    "start_time": "2024-03-05T13:07:43.417Z"
   },
   {
    "duration": 440,
    "start_time": "2024-03-05T13:07:44.892Z"
   },
   {
    "duration": 40,
    "start_time": "2024-03-05T13:07:45.334Z"
   },
   {
    "duration": 16,
    "start_time": "2024-03-05T13:07:45.376Z"
   },
   {
    "duration": 63,
    "start_time": "2024-03-05T13:07:45.395Z"
   },
   {
    "duration": 39,
    "start_time": "2024-03-05T13:07:45.460Z"
   },
   {
    "duration": 52,
    "start_time": "2024-03-05T13:07:45.501Z"
   },
   {
    "duration": 148,
    "start_time": "2024-03-05T13:07:45.555Z"
   },
   {
    "duration": 504,
    "start_time": "2024-03-05T13:07:45.705Z"
   },
   {
    "duration": 448,
    "start_time": "2024-03-05T13:07:46.210Z"
   },
   {
    "duration": 450,
    "start_time": "2024-03-05T13:07:46.659Z"
   },
   {
    "duration": 5,
    "start_time": "2024-03-05T13:07:47.111Z"
   },
   {
    "duration": 402,
    "start_time": "2024-03-05T13:07:47.123Z"
   },
   {
    "duration": 96,
    "start_time": "2024-03-05T13:07:47.529Z"
   },
   {
    "duration": 11,
    "start_time": "2024-03-05T13:07:47.627Z"
   },
   {
    "duration": 7,
    "start_time": "2024-03-05T13:07:47.640Z"
   },
   {
    "duration": 8,
    "start_time": "2024-03-05T13:07:47.649Z"
   },
   {
    "duration": 12,
    "start_time": "2024-03-05T13:07:47.659Z"
   },
   {
    "duration": 126,
    "start_time": "2024-03-05T13:07:47.673Z"
   },
   {
    "duration": 0,
    "start_time": "2024-03-05T13:07:47.801Z"
   },
   {
    "duration": 0,
    "start_time": "2024-03-05T13:07:47.802Z"
   },
   {
    "duration": 0,
    "start_time": "2024-03-05T13:07:47.804Z"
   },
   {
    "duration": 9,
    "start_time": "2024-03-05T13:08:34.082Z"
   },
   {
    "duration": 4,
    "start_time": "2024-03-05T13:08:42.428Z"
   },
   {
    "duration": 6,
    "start_time": "2024-03-05T13:10:53.118Z"
   },
   {
    "duration": 4,
    "start_time": "2024-03-05T13:10:56.127Z"
   },
   {
    "duration": 6,
    "start_time": "2024-03-05T13:10:57.324Z"
   },
   {
    "duration": 10,
    "start_time": "2024-03-05T13:11:04.326Z"
   },
   {
    "duration": 14,
    "start_time": "2024-03-05T13:11:13.670Z"
   },
   {
    "duration": 8,
    "start_time": "2024-03-05T13:12:06.893Z"
   },
   {
    "duration": 13,
    "start_time": "2024-03-05T13:12:10.378Z"
   },
   {
    "duration": 6,
    "start_time": "2024-03-05T13:13:34.546Z"
   },
   {
    "duration": 13,
    "start_time": "2024-03-05T13:13:39.278Z"
   },
   {
    "duration": 83,
    "start_time": "2024-03-05T13:16:22.681Z"
   },
   {
    "duration": 3,
    "start_time": "2024-03-05T13:16:28.186Z"
   },
   {
    "duration": 3,
    "start_time": "2024-03-05T13:21:51.903Z"
   },
   {
    "duration": 13,
    "start_time": "2024-03-05T13:24:04.362Z"
   },
   {
    "duration": 12,
    "start_time": "2024-03-05T13:24:30.320Z"
   },
   {
    "duration": 13,
    "start_time": "2024-03-05T13:24:59.758Z"
   },
   {
    "duration": 5,
    "start_time": "2024-03-05T13:50:39.519Z"
   },
   {
    "duration": 82,
    "start_time": "2024-03-05T13:54:53.630Z"
   },
   {
    "duration": 86,
    "start_time": "2024-03-05T13:55:10.294Z"
   },
   {
    "duration": 4,
    "start_time": "2024-03-05T13:55:15.784Z"
   },
   {
    "duration": 5,
    "start_time": "2024-03-05T13:57:30.337Z"
   },
   {
    "duration": 14,
    "start_time": "2024-03-05T13:59:12.658Z"
   },
   {
    "duration": 4,
    "start_time": "2024-03-05T14:02:45.676Z"
   },
   {
    "duration": 4,
    "start_time": "2024-03-05T14:03:02.458Z"
   },
   {
    "duration": 15,
    "start_time": "2024-03-05T14:03:03.061Z"
   },
   {
    "duration": 3,
    "start_time": "2024-03-05T14:03:56.323Z"
   },
   {
    "duration": 12,
    "start_time": "2024-03-05T14:03:57.270Z"
   },
   {
    "duration": 3,
    "start_time": "2024-03-05T14:08:48.616Z"
   },
   {
    "duration": 6,
    "start_time": "2024-03-05T14:12:10.910Z"
   },
   {
    "duration": 10,
    "start_time": "2024-03-05T14:13:32.078Z"
   },
   {
    "duration": 14,
    "start_time": "2024-03-05T14:13:39.511Z"
   },
   {
    "duration": 5,
    "start_time": "2024-03-05T14:13:51.340Z"
   },
   {
    "duration": 13,
    "start_time": "2024-03-05T14:13:52.695Z"
   },
   {
    "duration": 5,
    "start_time": "2024-03-05T14:15:08.454Z"
   },
   {
    "duration": 13,
    "start_time": "2024-03-05T14:15:09.707Z"
   },
   {
    "duration": 5,
    "start_time": "2024-03-05T14:15:25.478Z"
   },
   {
    "duration": 19,
    "start_time": "2024-03-05T14:15:26.539Z"
   },
   {
    "duration": 93,
    "start_time": "2024-03-05T14:15:36.187Z"
   },
   {
    "duration": 7,
    "start_time": "2024-03-05T14:15:48.572Z"
   },
   {
    "duration": 15,
    "start_time": "2024-03-05T14:15:50.654Z"
   },
   {
    "duration": 5,
    "start_time": "2024-03-05T14:19:01.233Z"
   },
   {
    "duration": 3,
    "start_time": "2024-03-05T14:20:55.462Z"
   },
   {
    "duration": 5,
    "start_time": "2024-03-05T14:23:16.400Z"
   },
   {
    "duration": 5,
    "start_time": "2024-03-05T14:23:43.013Z"
   },
   {
    "duration": 11,
    "start_time": "2024-03-05T14:25:45.589Z"
   },
   {
    "duration": 4,
    "start_time": "2024-03-05T14:26:06.776Z"
   },
   {
    "duration": 18,
    "start_time": "2024-03-05T14:26:07.580Z"
   },
   {
    "duration": 5,
    "start_time": "2024-03-05T14:26:16.700Z"
   },
   {
    "duration": 13,
    "start_time": "2024-03-05T14:26:17.866Z"
   },
   {
    "duration": 6,
    "start_time": "2024-03-05T14:31:43.096Z"
   },
   {
    "duration": 14,
    "start_time": "2024-03-05T14:31:46.298Z"
   },
   {
    "duration": 5,
    "start_time": "2024-03-05T14:32:24.426Z"
   },
   {
    "duration": 12,
    "start_time": "2024-03-05T14:32:26.199Z"
   },
   {
    "duration": 4,
    "start_time": "2024-03-05T14:32:47.955Z"
   },
   {
    "duration": 13,
    "start_time": "2024-03-05T14:32:50.315Z"
   },
   {
    "duration": 2,
    "start_time": "2024-03-05T14:33:32.112Z"
   },
   {
    "duration": 6,
    "start_time": "2024-03-05T14:36:03.322Z"
   },
   {
    "duration": 4,
    "start_time": "2024-03-05T14:36:52.003Z"
   },
   {
    "duration": 9,
    "start_time": "2024-03-05T14:38:03.542Z"
   },
   {
    "duration": 3,
    "start_time": "2024-03-05T14:38:15.880Z"
   },
   {
    "duration": 14,
    "start_time": "2024-03-05T14:38:16.554Z"
   },
   {
    "duration": 5,
    "start_time": "2024-03-05T14:40:54.295Z"
   },
   {
    "duration": 2,
    "start_time": "2024-03-05T14:40:55.860Z"
   },
   {
    "duration": 14,
    "start_time": "2024-03-05T14:40:56.939Z"
   },
   {
    "duration": 5,
    "start_time": "2024-03-05T14:41:09.317Z"
   },
   {
    "duration": 3,
    "start_time": "2024-03-05T14:41:11.060Z"
   },
   {
    "duration": 13,
    "start_time": "2024-03-05T14:41:11.664Z"
   },
   {
    "duration": 6,
    "start_time": "2024-03-05T14:41:44.845Z"
   },
   {
    "duration": 2,
    "start_time": "2024-03-05T14:41:45.683Z"
   },
   {
    "duration": 17,
    "start_time": "2024-03-05T14:41:46.321Z"
   },
   {
    "duration": 73,
    "start_time": "2024-03-05T14:42:24.903Z"
   },
   {
    "duration": 1441,
    "start_time": "2024-03-05T14:42:36.349Z"
   },
   {
    "duration": 451,
    "start_time": "2024-03-05T14:42:37.792Z"
   },
   {
    "duration": 41,
    "start_time": "2024-03-05T14:42:38.245Z"
   },
   {
    "duration": 16,
    "start_time": "2024-03-05T14:42:38.287Z"
   },
   {
    "duration": 45,
    "start_time": "2024-03-05T14:42:38.323Z"
   },
   {
    "duration": 55,
    "start_time": "2024-03-05T14:42:38.369Z"
   },
   {
    "duration": 38,
    "start_time": "2024-03-05T14:42:38.425Z"
   },
   {
    "duration": 144,
    "start_time": "2024-03-05T14:42:38.465Z"
   },
   {
    "duration": 473,
    "start_time": "2024-03-05T14:42:38.611Z"
   },
   {
    "duration": 446,
    "start_time": "2024-03-05T14:42:39.085Z"
   },
   {
    "duration": 454,
    "start_time": "2024-03-05T14:42:39.532Z"
   },
   {
    "duration": 68,
    "start_time": "2024-03-05T14:42:39.988Z"
   },
   {
    "duration": 0,
    "start_time": "2024-03-05T14:42:40.058Z"
   },
   {
    "duration": 0,
    "start_time": "2024-03-05T14:42:40.059Z"
   },
   {
    "duration": 0,
    "start_time": "2024-03-05T14:42:40.060Z"
   },
   {
    "duration": 0,
    "start_time": "2024-03-05T14:42:40.061Z"
   },
   {
    "duration": 0,
    "start_time": "2024-03-05T14:42:40.062Z"
   },
   {
    "duration": 0,
    "start_time": "2024-03-05T14:42:40.063Z"
   },
   {
    "duration": 0,
    "start_time": "2024-03-05T14:42:40.063Z"
   },
   {
    "duration": 0,
    "start_time": "2024-03-05T14:42:40.065Z"
   },
   {
    "duration": 0,
    "start_time": "2024-03-05T14:42:40.066Z"
   },
   {
    "duration": 0,
    "start_time": "2024-03-05T14:42:40.067Z"
   },
   {
    "duration": 5,
    "start_time": "2024-03-05T14:42:55.827Z"
   },
   {
    "duration": 299,
    "start_time": "2024-03-05T14:42:58.436Z"
   },
   {
    "duration": 7,
    "start_time": "2024-03-05T14:42:59.971Z"
   },
   {
    "duration": 3,
    "start_time": "2024-03-05T14:43:06.632Z"
   },
   {
    "duration": 4,
    "start_time": "2024-03-05T14:43:09.752Z"
   },
   {
    "duration": 7,
    "start_time": "2024-03-05T14:43:10.902Z"
   },
   {
    "duration": 3,
    "start_time": "2024-03-05T14:43:15.745Z"
   },
   {
    "duration": 4,
    "start_time": "2024-03-05T14:43:16.612Z"
   },
   {
    "duration": 5,
    "start_time": "2024-03-05T14:43:17.985Z"
   },
   {
    "duration": 3,
    "start_time": "2024-03-05T14:43:19.829Z"
   },
   {
    "duration": 112,
    "start_time": "2024-03-05T14:43:20.837Z"
   },
   {
    "duration": 3,
    "start_time": "2024-03-05T14:45:00.389Z"
   },
   {
    "duration": 4,
    "start_time": "2024-03-05T14:45:01.645Z"
   },
   {
    "duration": 6,
    "start_time": "2024-03-05T14:45:02.705Z"
   },
   {
    "duration": 3,
    "start_time": "2024-03-05T14:45:14.206Z"
   },
   {
    "duration": 3,
    "start_time": "2024-03-05T14:49:53.732Z"
   },
   {
    "duration": 3,
    "start_time": "2024-03-05T14:49:54.351Z"
   },
   {
    "duration": 3,
    "start_time": "2024-03-05T14:50:54.303Z"
   },
   {
    "duration": 4,
    "start_time": "2024-03-05T14:50:54.787Z"
   },
   {
    "duration": 4,
    "start_time": "2024-03-05T14:54:54.212Z"
   },
   {
    "duration": 75,
    "start_time": "2024-03-05T14:54:54.853Z"
   },
   {
    "duration": 5,
    "start_time": "2024-03-05T14:54:59.501Z"
   },
   {
    "duration": 15,
    "start_time": "2024-03-05T14:55:02.277Z"
   },
   {
    "duration": 5,
    "start_time": "2024-03-05T14:55:47.229Z"
   },
   {
    "duration": 14,
    "start_time": "2024-03-05T14:55:48.202Z"
   },
   {
    "duration": 4,
    "start_time": "2024-03-05T14:56:09.894Z"
   },
   {
    "duration": 13,
    "start_time": "2024-03-05T14:56:11.385Z"
   },
   {
    "duration": 4,
    "start_time": "2024-03-05T14:56:16.844Z"
   },
   {
    "duration": 12,
    "start_time": "2024-03-05T14:56:17.777Z"
   },
   {
    "duration": 100,
    "start_time": "2024-03-05T14:57:44.923Z"
   },
   {
    "duration": 8,
    "start_time": "2024-03-05T14:57:50.609Z"
   },
   {
    "duration": 2,
    "start_time": "2024-03-05T14:59:25.151Z"
   },
   {
    "duration": 3,
    "start_time": "2024-03-05T15:00:41.687Z"
   },
   {
    "duration": 3,
    "start_time": "2024-03-05T15:00:43.123Z"
   },
   {
    "duration": 5,
    "start_time": "2024-03-05T15:01:03.582Z"
   },
   {
    "duration": 19,
    "start_time": "2024-03-05T15:01:30.354Z"
   },
   {
    "duration": 5,
    "start_time": "2024-03-05T15:02:43.099Z"
   },
   {
    "duration": 3,
    "start_time": "2024-03-05T15:02:45.901Z"
   },
   {
    "duration": 13,
    "start_time": "2024-03-05T15:02:46.530Z"
   },
   {
    "duration": 4,
    "start_time": "2024-03-05T15:02:57.065Z"
   },
   {
    "duration": 2,
    "start_time": "2024-03-05T15:02:58.112Z"
   },
   {
    "duration": 14,
    "start_time": "2024-03-05T15:02:58.748Z"
   },
   {
    "duration": 4,
    "start_time": "2024-03-05T15:06:20.977Z"
   },
   {
    "duration": 3,
    "start_time": "2024-03-05T15:06:24.873Z"
   },
   {
    "duration": 3,
    "start_time": "2024-03-05T15:06:26.405Z"
   },
   {
    "duration": 5,
    "start_time": "2024-03-05T15:06:27.091Z"
   },
   {
    "duration": 3,
    "start_time": "2024-03-05T15:06:27.866Z"
   },
   {
    "duration": 13,
    "start_time": "2024-03-05T15:06:28.705Z"
   },
   {
    "duration": 12,
    "start_time": "2024-03-05T15:08:21.418Z"
   },
   {
    "duration": 5,
    "start_time": "2024-03-05T15:08:34.511Z"
   },
   {
    "duration": 3,
    "start_time": "2024-03-05T15:08:36.334Z"
   },
   {
    "duration": 3,
    "start_time": "2024-03-05T15:08:36.753Z"
   },
   {
    "duration": 4,
    "start_time": "2024-03-05T15:08:37.151Z"
   },
   {
    "duration": 3,
    "start_time": "2024-03-05T15:08:37.662Z"
   },
   {
    "duration": 6,
    "start_time": "2024-03-05T15:08:38.500Z"
   },
   {
    "duration": 22,
    "start_time": "2024-03-05T15:08:44.042Z"
   },
   {
    "duration": 5,
    "start_time": "2024-03-05T15:09:55.212Z"
   },
   {
    "duration": 3,
    "start_time": "2024-03-05T15:09:55.951Z"
   },
   {
    "duration": 21,
    "start_time": "2024-03-05T15:09:56.811Z"
   },
   {
    "duration": 166,
    "start_time": "2024-03-05T15:12:09.589Z"
   },
   {
    "duration": 120,
    "start_time": "2024-03-05T15:12:17.529Z"
   },
   {
    "duration": 88,
    "start_time": "2024-03-05T15:12:27.736Z"
   },
   {
    "duration": 104,
    "start_time": "2024-03-05T15:12:50.730Z"
   },
   {
    "duration": 5,
    "start_time": "2024-03-05T15:13:01.692Z"
   },
   {
    "duration": 6,
    "start_time": "2024-03-05T15:13:07.537Z"
   },
   {
    "duration": 5,
    "start_time": "2024-03-05T15:13:40.008Z"
   },
   {
    "duration": 5,
    "start_time": "2024-03-05T15:15:16.241Z"
   },
   {
    "duration": 1473,
    "start_time": "2024-03-05T17:10:51.330Z"
   },
   {
    "duration": 751,
    "start_time": "2024-03-05T17:10:52.805Z"
   },
   {
    "duration": 36,
    "start_time": "2024-03-05T17:10:53.557Z"
   },
   {
    "duration": 14,
    "start_time": "2024-03-05T17:10:53.595Z"
   },
   {
    "duration": 42,
    "start_time": "2024-03-05T17:10:53.611Z"
   },
   {
    "duration": 31,
    "start_time": "2024-03-05T17:10:53.655Z"
   },
   {
    "duration": 32,
    "start_time": "2024-03-05T17:10:53.687Z"
   },
   {
    "duration": 136,
    "start_time": "2024-03-05T17:10:53.721Z"
   },
   {
    "duration": 394,
    "start_time": "2024-03-05T17:10:53.858Z"
   },
   {
    "duration": 369,
    "start_time": "2024-03-05T17:10:54.253Z"
   },
   {
    "duration": 412,
    "start_time": "2024-03-05T17:10:54.624Z"
   },
   {
    "duration": 9,
    "start_time": "2024-03-05T17:10:55.039Z"
   },
   {
    "duration": 304,
    "start_time": "2024-03-05T17:10:55.049Z"
   },
   {
    "duration": 85,
    "start_time": "2024-03-05T17:10:55.360Z"
   },
   {
    "duration": 5,
    "start_time": "2024-03-05T17:10:55.449Z"
   },
   {
    "duration": 89,
    "start_time": "2024-03-05T17:10:55.456Z"
   },
   {
    "duration": 9,
    "start_time": "2024-03-05T17:10:55.547Z"
   },
   {
    "duration": 3,
    "start_time": "2024-03-05T17:10:55.557Z"
   },
   {
    "duration": 5,
    "start_time": "2024-03-05T17:10:55.561Z"
   },
   {
    "duration": 13,
    "start_time": "2024-03-05T17:10:55.567Z"
   },
   {
    "duration": 5,
    "start_time": "2024-03-05T17:10:55.581Z"
   },
   {
    "duration": 10,
    "start_time": "2024-03-05T17:10:55.587Z"
   },
   {
    "duration": 4,
    "start_time": "2024-03-05T17:13:37.434Z"
   },
   {
    "duration": 95,
    "start_time": "2024-03-05T17:16:09.762Z"
   },
   {
    "duration": 9,
    "start_time": "2024-03-05T17:16:47.001Z"
   },
   {
    "duration": 4,
    "start_time": "2024-03-05T17:20:22.783Z"
   },
   {
    "duration": 2,
    "start_time": "2024-03-05T17:20:24.740Z"
   },
   {
    "duration": 4,
    "start_time": "2024-03-05T17:20:26.760Z"
   },
   {
    "duration": 3,
    "start_time": "2024-03-05T17:21:29.711Z"
   },
   {
    "duration": 18,
    "start_time": "2024-03-05T17:51:45.771Z"
   },
   {
    "duration": 10,
    "start_time": "2024-03-05T17:54:02.253Z"
   },
   {
    "duration": 14,
    "start_time": "2024-03-05T17:54:48.148Z"
   },
   {
    "duration": 11,
    "start_time": "2024-03-05T17:56:04.115Z"
   },
   {
    "duration": 10,
    "start_time": "2024-03-05T17:56:17.283Z"
   },
   {
    "duration": 139,
    "start_time": "2024-03-05T18:00:02.153Z"
   },
   {
    "duration": 80,
    "start_time": "2024-03-05T18:00:09.601Z"
   },
   {
    "duration": 5,
    "start_time": "2024-03-05T18:00:30.071Z"
   },
   {
    "duration": 18,
    "start_time": "2024-03-05T18:01:16.849Z"
   },
   {
    "duration": 1744,
    "start_time": "2024-03-06T06:38:13.973Z"
   },
   {
    "duration": 1710,
    "start_time": "2024-03-06T06:38:15.719Z"
   },
   {
    "duration": 39,
    "start_time": "2024-03-06T06:38:17.431Z"
   },
   {
    "duration": 15,
    "start_time": "2024-03-06T06:38:17.472Z"
   },
   {
    "duration": 49,
    "start_time": "2024-03-06T06:38:17.489Z"
   },
   {
    "duration": 45,
    "start_time": "2024-03-06T06:38:17.540Z"
   },
   {
    "duration": 35,
    "start_time": "2024-03-06T06:38:17.586Z"
   },
   {
    "duration": 150,
    "start_time": "2024-03-06T06:38:17.622Z"
   },
   {
    "duration": 455,
    "start_time": "2024-03-06T06:38:17.780Z"
   },
   {
    "duration": 446,
    "start_time": "2024-03-06T06:38:18.236Z"
   },
   {
    "duration": 475,
    "start_time": "2024-03-06T06:38:18.683Z"
   },
   {
    "duration": 4,
    "start_time": "2024-03-06T06:38:19.160Z"
   },
   {
    "duration": 416,
    "start_time": "2024-03-06T06:38:19.166Z"
   },
   {
    "duration": 99,
    "start_time": "2024-03-06T06:38:19.586Z"
   },
   {
    "duration": 31,
    "start_time": "2024-03-06T06:38:19.781Z"
   },
   {
    "duration": 48,
    "start_time": "2024-03-06T06:38:19.814Z"
   },
   {
    "duration": 22,
    "start_time": "2024-03-06T06:38:19.863Z"
   },
   {
    "duration": 23,
    "start_time": "2024-03-06T06:38:19.886Z"
   },
   {
    "duration": 84,
    "start_time": "2024-03-06T06:38:19.911Z"
   },
   {
    "duration": 106,
    "start_time": "2024-03-06T06:45:22.229Z"
   },
   {
    "duration": 10,
    "start_time": "2024-03-06T06:45:55.685Z"
   },
   {
    "duration": 13,
    "start_time": "2024-03-06T06:46:17.752Z"
   },
   {
    "duration": 13,
    "start_time": "2024-03-06T06:46:32.965Z"
   },
   {
    "duration": 14,
    "start_time": "2024-03-06T06:46:52.059Z"
   },
   {
    "duration": 5,
    "start_time": "2024-03-06T06:47:01.520Z"
   },
   {
    "duration": 12,
    "start_time": "2024-03-06T06:48:16.646Z"
   },
   {
    "duration": 1507,
    "start_time": "2024-03-06T06:48:40.551Z"
   },
   {
    "duration": 469,
    "start_time": "2024-03-06T06:48:42.061Z"
   },
   {
    "duration": 55,
    "start_time": "2024-03-06T06:48:42.532Z"
   },
   {
    "duration": 17,
    "start_time": "2024-03-06T06:48:42.589Z"
   },
   {
    "duration": 48,
    "start_time": "2024-03-06T06:48:42.608Z"
   },
   {
    "duration": 57,
    "start_time": "2024-03-06T06:48:42.657Z"
   },
   {
    "duration": 39,
    "start_time": "2024-03-06T06:48:42.716Z"
   },
   {
    "duration": 155,
    "start_time": "2024-03-06T06:48:42.756Z"
   },
   {
    "duration": 454,
    "start_time": "2024-03-06T06:48:42.913Z"
   },
   {
    "duration": 455,
    "start_time": "2024-03-06T06:48:43.369Z"
   },
   {
    "duration": 455,
    "start_time": "2024-03-06T06:48:43.825Z"
   },
   {
    "duration": 123,
    "start_time": "2024-03-06T06:48:44.282Z"
   },
   {
    "duration": 0,
    "start_time": "2024-03-06T06:48:44.407Z"
   },
   {
    "duration": 0,
    "start_time": "2024-03-06T06:48:44.408Z"
   },
   {
    "duration": 0,
    "start_time": "2024-03-06T06:48:44.409Z"
   },
   {
    "duration": 0,
    "start_time": "2024-03-06T06:48:44.410Z"
   },
   {
    "duration": 0,
    "start_time": "2024-03-06T06:48:44.411Z"
   },
   {
    "duration": 0,
    "start_time": "2024-03-06T06:48:44.413Z"
   },
   {
    "duration": 0,
    "start_time": "2024-03-06T06:48:44.414Z"
   },
   {
    "duration": 11,
    "start_time": "2024-03-06T06:48:58.080Z"
   },
   {
    "duration": 13,
    "start_time": "2024-03-06T06:49:07.608Z"
   },
   {
    "duration": 5,
    "start_time": "2024-03-06T06:49:21.111Z"
   },
   {
    "duration": 330,
    "start_time": "2024-03-06T06:49:24.964Z"
   },
   {
    "duration": 7,
    "start_time": "2024-03-06T06:49:26.161Z"
   },
   {
    "duration": 3,
    "start_time": "2024-03-06T06:49:29.522Z"
   },
   {
    "duration": 4,
    "start_time": "2024-03-06T06:49:30.800Z"
   },
   {
    "duration": 8,
    "start_time": "2024-03-06T06:49:31.315Z"
   },
   {
    "duration": 3,
    "start_time": "2024-03-06T06:49:33.424Z"
   },
   {
    "duration": 6,
    "start_time": "2024-03-06T06:49:33.889Z"
   },
   {
    "duration": 6,
    "start_time": "2024-03-06T06:51:14.873Z"
   },
   {
    "duration": 12,
    "start_time": "2024-03-06T06:54:26.696Z"
   },
   {
    "duration": 113,
    "start_time": "2024-03-06T06:54:41.822Z"
   },
   {
    "duration": 5,
    "start_time": "2024-03-06T06:54:48.935Z"
   },
   {
    "duration": 10,
    "start_time": "2024-03-06T06:54:49.962Z"
   },
   {
    "duration": 107,
    "start_time": "2024-03-06T06:55:48.355Z"
   },
   {
    "duration": 10,
    "start_time": "2024-03-06T06:55:52.145Z"
   },
   {
    "duration": 18,
    "start_time": "2024-03-06T06:55:58.701Z"
   },
   {
    "duration": 5,
    "start_time": "2024-03-06T06:56:47.299Z"
   },
   {
    "duration": 56,
    "start_time": "2024-03-06T06:56:49.028Z"
   },
   {
    "duration": 5,
    "start_time": "2024-03-06T06:57:08.646Z"
   },
   {
    "duration": 363,
    "start_time": "2024-03-06T06:57:09.220Z"
   },
   {
    "duration": 8,
    "start_time": "2024-03-06T06:57:10.235Z"
   },
   {
    "duration": 4,
    "start_time": "2024-03-06T06:57:12.787Z"
   },
   {
    "duration": 3,
    "start_time": "2024-03-06T06:57:13.617Z"
   },
   {
    "duration": 6,
    "start_time": "2024-03-06T06:57:14.143Z"
   },
   {
    "duration": 4,
    "start_time": "2024-03-06T06:59:32.564Z"
   },
   {
    "duration": 4,
    "start_time": "2024-03-06T06:59:33.329Z"
   },
   {
    "duration": 11,
    "start_time": "2024-03-06T06:59:34.264Z"
   },
   {
    "duration": 374,
    "start_time": "2024-03-06T07:03:23.308Z"
   },
   {
    "duration": 8,
    "start_time": "2024-03-06T07:03:25.450Z"
   },
   {
    "duration": 5,
    "start_time": "2024-03-06T07:03:32.000Z"
   },
   {
    "duration": 3,
    "start_time": "2024-03-06T07:03:32.962Z"
   },
   {
    "duration": 8,
    "start_time": "2024-03-06T07:03:33.518Z"
   },
   {
    "duration": 3,
    "start_time": "2024-03-06T07:03:36.448Z"
   },
   {
    "duration": 3,
    "start_time": "2024-03-06T07:04:03.807Z"
   },
   {
    "duration": 3,
    "start_time": "2024-03-06T07:04:05.111Z"
   },
   {
    "duration": 4,
    "start_time": "2024-03-06T07:04:07.683Z"
   },
   {
    "duration": 5,
    "start_time": "2024-03-06T07:04:20.588Z"
   },
   {
    "duration": 17,
    "start_time": "2024-03-06T07:04:27.310Z"
   },
   {
    "duration": 16,
    "start_time": "2024-03-06T07:05:50.036Z"
   },
   {
    "duration": 4,
    "start_time": "2024-03-06T07:06:28.880Z"
   },
   {
    "duration": 3,
    "start_time": "2024-03-06T07:06:29.348Z"
   },
   {
    "duration": 4,
    "start_time": "2024-03-06T07:06:29.689Z"
   },
   {
    "duration": 5,
    "start_time": "2024-03-06T07:06:30.223Z"
   },
   {
    "duration": 15,
    "start_time": "2024-03-06T07:06:31.541Z"
   },
   {
    "duration": 3,
    "start_time": "2024-03-06T07:07:29.316Z"
   },
   {
    "duration": 3,
    "start_time": "2024-03-06T07:07:30.190Z"
   },
   {
    "duration": 5,
    "start_time": "2024-03-06T07:07:30.584Z"
   },
   {
    "duration": 4,
    "start_time": "2024-03-06T07:07:31.151Z"
   },
   {
    "duration": 3,
    "start_time": "2024-03-06T07:09:35.059Z"
   },
   {
    "duration": 3,
    "start_time": "2024-03-06T07:09:35.719Z"
   },
   {
    "duration": 4,
    "start_time": "2024-03-06T07:09:36.081Z"
   },
   {
    "duration": 5,
    "start_time": "2024-03-06T07:09:36.457Z"
   },
   {
    "duration": 17,
    "start_time": "2024-03-06T07:09:37.204Z"
   },
   {
    "duration": 10,
    "start_time": "2024-03-06T07:10:34.256Z"
   },
   {
    "duration": 12,
    "start_time": "2024-03-06T07:10:44.594Z"
   },
   {
    "duration": 15,
    "start_time": "2024-03-06T07:10:48.957Z"
   },
   {
    "duration": 3,
    "start_time": "2024-03-06T07:11:44.564Z"
   },
   {
    "duration": 4,
    "start_time": "2024-03-06T07:11:44.944Z"
   },
   {
    "duration": 3,
    "start_time": "2024-03-06T07:11:45.260Z"
   },
   {
    "duration": 5,
    "start_time": "2024-03-06T07:11:45.684Z"
   },
   {
    "duration": 10,
    "start_time": "2024-03-06T07:13:56.432Z"
   },
   {
    "duration": 15,
    "start_time": "2024-03-06T07:14:11.381Z"
   },
   {
    "duration": 5,
    "start_time": "2024-03-06T07:14:50.447Z"
   },
   {
    "duration": 3,
    "start_time": "2024-03-06T07:14:53.758Z"
   },
   {
    "duration": 3,
    "start_time": "2024-03-06T07:14:54.230Z"
   },
   {
    "duration": 4,
    "start_time": "2024-03-06T07:14:54.582Z"
   },
   {
    "duration": 5,
    "start_time": "2024-03-06T07:14:55.176Z"
   },
   {
    "duration": 23,
    "start_time": "2024-03-06T07:14:56.148Z"
   },
   {
    "duration": 5,
    "start_time": "2024-03-06T07:16:10.366Z"
   },
   {
    "duration": 3,
    "start_time": "2024-03-06T07:24:13.398Z"
   },
   {
    "duration": 3,
    "start_time": "2024-03-06T07:26:32.439Z"
   },
   {
    "duration": 3,
    "start_time": "2024-03-06T07:26:34.279Z"
   },
   {
    "duration": 132,
    "start_time": "2024-03-06T07:26:35.163Z"
   },
   {
    "duration": 109,
    "start_time": "2024-03-06T07:28:29.550Z"
   },
   {
    "duration": 111,
    "start_time": "2024-03-06T07:28:51.186Z"
   },
   {
    "duration": 101,
    "start_time": "2024-03-06T07:29:12.477Z"
   },
   {
    "duration": 12,
    "start_time": "2024-03-06T07:29:23.456Z"
   },
   {
    "duration": 4,
    "start_time": "2024-03-06T07:31:11.429Z"
   },
   {
    "duration": 4,
    "start_time": "2024-03-06T07:31:12.508Z"
   },
   {
    "duration": 9,
    "start_time": "2024-03-06T07:31:13.851Z"
   },
   {
    "duration": 5,
    "start_time": "2024-03-06T07:34:40.518Z"
   },
   {
    "duration": 5,
    "start_time": "2024-03-06T07:34:49.301Z"
   },
   {
    "duration": 6,
    "start_time": "2024-03-06T07:35:02.553Z"
   },
   {
    "duration": 407,
    "start_time": "2024-03-06T07:35:03.177Z"
   },
   {
    "duration": 8,
    "start_time": "2024-03-06T07:35:03.781Z"
   },
   {
    "duration": 3,
    "start_time": "2024-03-06T07:35:07.397Z"
   },
   {
    "duration": 3,
    "start_time": "2024-03-06T07:35:08.687Z"
   },
   {
    "duration": 7,
    "start_time": "2024-03-06T07:35:09.479Z"
   },
   {
    "duration": 3,
    "start_time": "2024-03-06T07:35:12.715Z"
   },
   {
    "duration": 5,
    "start_time": "2024-03-06T07:35:13.493Z"
   },
   {
    "duration": 5,
    "start_time": "2024-03-06T07:37:42.533Z"
   },
   {
    "duration": 3,
    "start_time": "2024-03-06T07:39:03.413Z"
   },
   {
    "duration": 108,
    "start_time": "2024-03-06T07:41:56.863Z"
   },
   {
    "duration": 5,
    "start_time": "2024-03-06T07:42:04.300Z"
   },
   {
    "duration": 3,
    "start_time": "2024-03-06T07:42:06.484Z"
   },
   {
    "duration": 11,
    "start_time": "2024-03-06T07:42:07.080Z"
   },
   {
    "duration": 13,
    "start_time": "2024-03-06T07:42:15.698Z"
   },
   {
    "duration": 5,
    "start_time": "2024-03-06T07:42:30.431Z"
   },
   {
    "duration": 2,
    "start_time": "2024-03-06T07:42:31.147Z"
   },
   {
    "duration": 15,
    "start_time": "2024-03-06T07:42:31.559Z"
   },
   {
    "duration": 3,
    "start_time": "2024-03-06T07:42:55.066Z"
   },
   {
    "duration": 6,
    "start_time": "2024-03-06T07:42:55.724Z"
   },
   {
    "duration": 3,
    "start_time": "2024-03-06T07:42:56.189Z"
   },
   {
    "duration": 16,
    "start_time": "2024-03-06T07:42:56.737Z"
   },
   {
    "duration": 1710,
    "start_time": "2024-03-06T17:36:01.917Z"
   },
   {
    "duration": 1806,
    "start_time": "2024-03-06T17:36:03.631Z"
   },
   {
    "duration": 52,
    "start_time": "2024-03-06T17:36:05.440Z"
   },
   {
    "duration": 16,
    "start_time": "2024-03-06T17:36:05.494Z"
   },
   {
    "duration": 99,
    "start_time": "2024-03-06T17:36:05.512Z"
   },
   {
    "duration": 51,
    "start_time": "2024-03-06T17:36:05.614Z"
   },
   {
    "duration": 47,
    "start_time": "2024-03-06T17:36:05.667Z"
   },
   {
    "duration": 126,
    "start_time": "2024-03-06T17:36:05.715Z"
   },
   {
    "duration": 498,
    "start_time": "2024-03-06T17:36:05.842Z"
   },
   {
    "duration": 480,
    "start_time": "2024-03-06T17:36:06.342Z"
   },
   {
    "duration": 504,
    "start_time": "2024-03-06T17:36:06.824Z"
   },
   {
    "duration": 5,
    "start_time": "2024-03-06T17:36:07.330Z"
   },
   {
    "duration": 539,
    "start_time": "2024-03-06T17:36:07.337Z"
   },
   {
    "duration": 95,
    "start_time": "2024-03-06T17:36:07.882Z"
   },
   {
    "duration": 36,
    "start_time": "2024-03-06T17:36:07.979Z"
   },
   {
    "duration": 32,
    "start_time": "2024-03-06T17:36:08.017Z"
   },
   {
    "duration": 98,
    "start_time": "2024-03-06T17:36:08.052Z"
   },
   {
    "duration": 69,
    "start_time": "2024-03-06T17:36:08.153Z"
   },
   {
    "duration": 77,
    "start_time": "2024-03-06T17:36:08.225Z"
   },
   {
    "duration": 56,
    "start_time": "2024-03-06T17:36:08.306Z"
   },
   {
    "duration": 184,
    "start_time": "2024-03-06T17:36:08.364Z"
   },
   {
    "duration": 6,
    "start_time": "2024-03-06T17:36:57.689Z"
   },
   {
    "duration": 3,
    "start_time": "2024-03-06T17:37:01.014Z"
   },
   {
    "duration": 14,
    "start_time": "2024-03-06T17:37:01.625Z"
   },
   {
    "duration": 4,
    "start_time": "2024-03-06T17:37:17.872Z"
   },
   {
    "duration": 6,
    "start_time": "2024-03-06T17:37:20.573Z"
   },
   {
    "duration": 3,
    "start_time": "2024-03-06T17:37:22.003Z"
   },
   {
    "duration": 26,
    "start_time": "2024-03-06T17:37:23.870Z"
   },
   {
    "duration": 18,
    "start_time": "2024-03-06T17:39:58.831Z"
   },
   {
    "duration": 1425,
    "start_time": "2024-03-06T17:43:51.500Z"
   },
   {
    "duration": 419,
    "start_time": "2024-03-06T17:43:52.928Z"
   },
   {
    "duration": 45,
    "start_time": "2024-03-06T17:43:53.350Z"
   },
   {
    "duration": 17,
    "start_time": "2024-03-06T17:43:53.397Z"
   },
   {
    "duration": 59,
    "start_time": "2024-03-06T17:43:53.415Z"
   },
   {
    "duration": 40,
    "start_time": "2024-03-06T17:43:53.475Z"
   },
   {
    "duration": 35,
    "start_time": "2024-03-06T17:43:53.517Z"
   },
   {
    "duration": 160,
    "start_time": "2024-03-06T17:43:53.554Z"
   },
   {
    "duration": 468,
    "start_time": "2024-03-06T17:43:53.716Z"
   },
   {
    "duration": 428,
    "start_time": "2024-03-06T17:43:54.185Z"
   },
   {
    "duration": 433,
    "start_time": "2024-03-06T17:43:54.615Z"
   },
   {
    "duration": 5,
    "start_time": "2024-03-06T17:43:55.049Z"
   },
   {
    "duration": 420,
    "start_time": "2024-03-06T17:43:55.056Z"
   },
   {
    "duration": 97,
    "start_time": "2024-03-06T17:43:55.479Z"
   },
   {
    "duration": 10,
    "start_time": "2024-03-06T17:43:55.578Z"
   },
   {
    "duration": 11,
    "start_time": "2024-03-06T17:43:55.590Z"
   },
   {
    "duration": 75,
    "start_time": "2024-03-06T17:43:55.603Z"
   },
   {
    "duration": 3,
    "start_time": "2024-03-06T17:43:55.680Z"
   },
   {
    "duration": 124,
    "start_time": "2024-03-06T17:43:55.684Z"
   },
   {
    "duration": 0,
    "start_time": "2024-03-06T17:43:55.809Z"
   },
   {
    "duration": 0,
    "start_time": "2024-03-06T17:43:55.810Z"
   },
   {
    "duration": 0,
    "start_time": "2024-03-06T17:43:55.811Z"
   },
   {
    "duration": 6,
    "start_time": "2024-03-06T17:44:11.819Z"
   },
   {
    "duration": 3,
    "start_time": "2024-03-06T17:44:13.213Z"
   },
   {
    "duration": 24,
    "start_time": "2024-03-06T17:44:14.157Z"
   },
   {
    "duration": 5,
    "start_time": "2024-03-06T17:48:48.136Z"
   },
   {
    "duration": 3,
    "start_time": "2024-03-06T17:48:49.011Z"
   },
   {
    "duration": 21,
    "start_time": "2024-03-06T17:48:50.661Z"
   },
   {
    "duration": 19,
    "start_time": "2024-03-06T17:51:00.573Z"
   },
   {
    "duration": 20,
    "start_time": "2024-03-06T17:53:07.961Z"
   },
   {
    "duration": 4,
    "start_time": "2024-03-06T17:55:41.855Z"
   },
   {
    "duration": 6,
    "start_time": "2024-03-06T17:55:42.553Z"
   },
   {
    "duration": 17,
    "start_time": "2024-03-06T17:55:43.517Z"
   },
   {
    "duration": 3,
    "start_time": "2024-03-06T17:56:21.903Z"
   },
   {
    "duration": 5,
    "start_time": "2024-03-06T17:56:22.698Z"
   },
   {
    "duration": 20,
    "start_time": "2024-03-06T17:56:23.446Z"
   },
   {
    "duration": 4,
    "start_time": "2024-03-06T17:56:38.084Z"
   },
   {
    "duration": 5,
    "start_time": "2024-03-06T17:56:38.744Z"
   },
   {
    "duration": 13,
    "start_time": "2024-03-06T17:56:39.675Z"
   },
   {
    "duration": 3,
    "start_time": "2024-03-06T17:57:08.797Z"
   },
   {
    "duration": 5,
    "start_time": "2024-03-06T17:57:09.306Z"
   },
   {
    "duration": 13,
    "start_time": "2024-03-06T17:57:10.405Z"
   },
   {
    "duration": 6,
    "start_time": "2024-03-06T17:57:38.253Z"
   },
   {
    "duration": 3,
    "start_time": "2024-03-06T17:57:47.387Z"
   },
   {
    "duration": 8,
    "start_time": "2024-03-06T17:57:48.256Z"
   },
   {
    "duration": 25,
    "start_time": "2024-03-06T17:57:49.065Z"
   },
   {
    "duration": 4,
    "start_time": "2024-03-06T17:58:55.719Z"
   },
   {
    "duration": 4,
    "start_time": "2024-03-06T17:59:04.827Z"
   },
   {
    "duration": 1434,
    "start_time": "2024-03-06T17:59:19.493Z"
   },
   {
    "duration": 451,
    "start_time": "2024-03-06T17:59:20.929Z"
   },
   {
    "duration": 39,
    "start_time": "2024-03-06T17:59:21.382Z"
   },
   {
    "duration": 17,
    "start_time": "2024-03-06T17:59:21.422Z"
   },
   {
    "duration": 63,
    "start_time": "2024-03-06T17:59:21.441Z"
   },
   {
    "duration": 39,
    "start_time": "2024-03-06T17:59:21.506Z"
   },
   {
    "duration": 57,
    "start_time": "2024-03-06T17:59:21.546Z"
   },
   {
    "duration": 126,
    "start_time": "2024-03-06T17:59:21.604Z"
   },
   {
    "duration": 489,
    "start_time": "2024-03-06T17:59:21.732Z"
   },
   {
    "duration": 476,
    "start_time": "2024-03-06T17:59:22.222Z"
   },
   {
    "duration": 461,
    "start_time": "2024-03-06T17:59:22.700Z"
   },
   {
    "duration": 4,
    "start_time": "2024-03-06T17:59:23.163Z"
   },
   {
    "duration": 318,
    "start_time": "2024-03-06T17:59:23.168Z"
   },
   {
    "duration": 10,
    "start_time": "2024-03-06T17:59:23.575Z"
   },
   {
    "duration": 87,
    "start_time": "2024-03-06T17:59:23.587Z"
   },
   {
    "duration": 7,
    "start_time": "2024-03-06T17:59:23.676Z"
   },
   {
    "duration": 8,
    "start_time": "2024-03-06T17:59:23.685Z"
   },
   {
    "duration": 4,
    "start_time": "2024-03-06T17:59:23.695Z"
   },
   {
    "duration": 7,
    "start_time": "2024-03-06T17:59:23.701Z"
   },
   {
    "duration": 154,
    "start_time": "2024-03-06T17:59:23.710Z"
   },
   {
    "duration": 98,
    "start_time": "2024-03-06T18:02:00.150Z"
   },
   {
    "duration": 13,
    "start_time": "2024-03-06T18:02:28.018Z"
   },
   {
    "duration": 136,
    "start_time": "2024-03-06T18:04:20.874Z"
   },
   {
    "duration": 1471,
    "start_time": "2024-03-06T18:55:32.596Z"
   },
   {
    "duration": 439,
    "start_time": "2024-03-06T18:55:34.069Z"
   },
   {
    "duration": 38,
    "start_time": "2024-03-06T18:55:34.509Z"
   },
   {
    "duration": 24,
    "start_time": "2024-03-06T18:55:34.549Z"
   },
   {
    "duration": 42,
    "start_time": "2024-03-06T18:55:34.575Z"
   },
   {
    "duration": 44,
    "start_time": "2024-03-06T18:55:34.618Z"
   },
   {
    "duration": 34,
    "start_time": "2024-03-06T18:55:34.673Z"
   },
   {
    "duration": 135,
    "start_time": "2024-03-06T18:55:34.709Z"
   },
   {
    "duration": 459,
    "start_time": "2024-03-06T18:55:34.846Z"
   },
   {
    "duration": 436,
    "start_time": "2024-03-06T18:55:35.307Z"
   },
   {
    "duration": 453,
    "start_time": "2024-03-06T18:55:35.745Z"
   },
   {
    "duration": 5,
    "start_time": "2024-03-06T18:55:36.200Z"
   },
   {
    "duration": 279,
    "start_time": "2024-03-06T18:55:36.207Z"
   },
   {
    "duration": 10,
    "start_time": "2024-03-06T18:55:36.577Z"
   },
   {
    "duration": 17,
    "start_time": "2024-03-06T18:55:36.673Z"
   },
   {
    "duration": 11,
    "start_time": "2024-03-06T18:55:36.691Z"
   },
   {
    "duration": 16,
    "start_time": "2024-03-06T18:55:36.703Z"
   },
   {
    "duration": 94,
    "start_time": "2024-03-06T18:55:36.721Z"
   },
   {
    "duration": 4,
    "start_time": "2024-03-06T18:55:47.253Z"
   },
   {
    "duration": 4,
    "start_time": "2024-03-06T18:56:00.761Z"
   },
   {
    "duration": 5,
    "start_time": "2024-03-06T19:03:40.210Z"
   },
   {
    "duration": 108,
    "start_time": "2024-03-06T19:04:36.649Z"
   },
   {
    "duration": 5,
    "start_time": "2024-03-06T19:04:47.997Z"
   },
   {
    "duration": 22,
    "start_time": "2024-03-06T19:04:48.664Z"
   },
   {
    "duration": 1414,
    "start_time": "2024-03-06T19:07:32.811Z"
   },
   {
    "duration": 421,
    "start_time": "2024-03-06T19:07:34.227Z"
   },
   {
    "duration": 44,
    "start_time": "2024-03-06T19:07:34.649Z"
   },
   {
    "duration": 16,
    "start_time": "2024-03-06T19:07:34.695Z"
   },
   {
    "duration": 63,
    "start_time": "2024-03-06T19:07:34.714Z"
   },
   {
    "duration": 39,
    "start_time": "2024-03-06T19:07:34.779Z"
   },
   {
    "duration": 39,
    "start_time": "2024-03-06T19:07:34.819Z"
   },
   {
    "duration": 155,
    "start_time": "2024-03-06T19:07:34.872Z"
   },
   {
    "duration": 456,
    "start_time": "2024-03-06T19:07:35.028Z"
   },
   {
    "duration": 437,
    "start_time": "2024-03-06T19:07:35.486Z"
   },
   {
    "duration": 470,
    "start_time": "2024-03-06T19:07:35.925Z"
   },
   {
    "duration": 5,
    "start_time": "2024-03-06T19:07:36.396Z"
   },
   {
    "duration": 381,
    "start_time": "2024-03-06T19:07:36.402Z"
   },
   {
    "duration": 94,
    "start_time": "2024-03-06T19:07:36.787Z"
   },
   {
    "duration": 19,
    "start_time": "2024-03-06T19:07:36.973Z"
   },
   {
    "duration": 42,
    "start_time": "2024-03-06T19:07:36.993Z"
   },
   {
    "duration": 21,
    "start_time": "2024-03-06T19:07:37.037Z"
   },
   {
    "duration": 30,
    "start_time": "2024-03-06T19:07:37.060Z"
   },
   {
    "duration": 51,
    "start_time": "2024-03-06T19:07:37.092Z"
   },
   {
    "duration": 143,
    "start_time": "2024-03-06T19:07:37.144Z"
   },
   {
    "duration": 102,
    "start_time": "2024-03-06T19:18:18.572Z"
   },
   {
    "duration": 6,
    "start_time": "2024-03-06T19:18:25.083Z"
   },
   {
    "duration": 21,
    "start_time": "2024-03-06T19:18:32.983Z"
   },
   {
    "duration": 6,
    "start_time": "2024-03-06T19:19:33.466Z"
   },
   {
    "duration": 6,
    "start_time": "2024-03-06T19:19:50.990Z"
   },
   {
    "duration": 25,
    "start_time": "2024-03-06T19:19:51.664Z"
   },
   {
    "duration": 24,
    "start_time": "2024-03-06T19:21:21.379Z"
   },
   {
    "duration": 4,
    "start_time": "2024-03-06T19:24:27.687Z"
   },
   {
    "duration": 1612,
    "start_time": "2024-03-07T06:16:10.778Z"
   },
   {
    "duration": 1613,
    "start_time": "2024-03-07T06:16:12.392Z"
   },
   {
    "duration": 39,
    "start_time": "2024-03-07T06:16:14.006Z"
   },
   {
    "duration": 22,
    "start_time": "2024-03-07T06:16:14.047Z"
   },
   {
    "duration": 45,
    "start_time": "2024-03-07T06:16:14.072Z"
   },
   {
    "duration": 38,
    "start_time": "2024-03-07T06:16:14.118Z"
   },
   {
    "duration": 34,
    "start_time": "2024-03-07T06:16:14.170Z"
   },
   {
    "duration": 147,
    "start_time": "2024-03-07T06:16:14.206Z"
   },
   {
    "duration": 478,
    "start_time": "2024-03-07T06:16:14.355Z"
   },
   {
    "duration": 399,
    "start_time": "2024-03-07T06:16:14.835Z"
   },
   {
    "duration": 436,
    "start_time": "2024-03-07T06:16:15.235Z"
   },
   {
    "duration": 4,
    "start_time": "2024-03-07T06:16:15.673Z"
   },
   {
    "duration": 298,
    "start_time": "2024-03-07T06:16:15.679Z"
   },
   {
    "duration": 93,
    "start_time": "2024-03-07T06:16:15.980Z"
   },
   {
    "duration": 95,
    "start_time": "2024-03-07T06:16:16.075Z"
   },
   {
    "duration": 15,
    "start_time": "2024-03-07T06:16:16.172Z"
   },
   {
    "duration": 10,
    "start_time": "2024-03-07T06:16:16.189Z"
   },
   {
    "duration": 27,
    "start_time": "2024-03-07T06:16:16.200Z"
   },
   {
    "duration": 12,
    "start_time": "2024-03-07T06:16:16.229Z"
   },
   {
    "duration": 114,
    "start_time": "2024-03-07T06:16:16.242Z"
   },
   {
    "duration": 4,
    "start_time": "2024-03-07T06:16:43.291Z"
   },
   {
    "duration": 375,
    "start_time": "2024-03-07T06:16:48.198Z"
   },
   {
    "duration": 98,
    "start_time": "2024-03-07T06:16:48.575Z"
   },
   {
    "duration": 2,
    "start_time": "2024-03-07T06:16:52.541Z"
   },
   {
    "duration": 4,
    "start_time": "2024-03-07T06:16:53.465Z"
   },
   {
    "duration": 7,
    "start_time": "2024-03-07T06:16:53.937Z"
   },
   {
    "duration": 4,
    "start_time": "2024-03-07T06:24:53.150Z"
   },
   {
    "duration": 5,
    "start_time": "2024-03-07T06:27:19.879Z"
   },
   {
    "duration": 6,
    "start_time": "2024-03-07T06:34:42.435Z"
   },
   {
    "duration": 5,
    "start_time": "2024-03-07T06:40:07.765Z"
   },
   {
    "duration": 114,
    "start_time": "2024-03-07T06:42:06.812Z"
   },
   {
    "duration": 4,
    "start_time": "2024-03-07T06:42:12.658Z"
   },
   {
    "duration": 4,
    "start_time": "2024-03-07T06:43:07.395Z"
   },
   {
    "duration": 5,
    "start_time": "2024-03-07T06:43:07.635Z"
   },
   {
    "duration": 96,
    "start_time": "2024-03-07T06:44:04.493Z"
   },
   {
    "duration": 4,
    "start_time": "2024-03-07T06:44:12.756Z"
   },
   {
    "duration": 4,
    "start_time": "2024-03-07T06:45:53.384Z"
   },
   {
    "duration": 22,
    "start_time": "2024-03-07T06:46:19.553Z"
   },
   {
    "duration": 3,
    "start_time": "2024-03-07T06:48:34.086Z"
   },
   {
    "duration": 424,
    "start_time": "2024-03-07T06:48:37.705Z"
   },
   {
    "duration": 39,
    "start_time": "2024-03-07T06:48:38.154Z"
   },
   {
    "duration": 14,
    "start_time": "2024-03-07T06:48:38.694Z"
   },
   {
    "duration": 37,
    "start_time": "2024-03-07T06:48:39.443Z"
   },
   {
    "duration": 34,
    "start_time": "2024-03-07T06:48:39.687Z"
   },
   {
    "duration": 35,
    "start_time": "2024-03-07T06:48:40.197Z"
   },
   {
    "duration": 114,
    "start_time": "2024-03-07T06:48:40.475Z"
   },
   {
    "duration": 410,
    "start_time": "2024-03-07T06:48:41.830Z"
   },
   {
    "duration": 405,
    "start_time": "2024-03-07T06:48:42.299Z"
   },
   {
    "duration": 502,
    "start_time": "2024-03-07T06:48:42.889Z"
   },
   {
    "duration": 4,
    "start_time": "2024-03-07T06:52:03.836Z"
   },
   {
    "duration": 9,
    "start_time": "2024-03-07T06:53:56.221Z"
   },
   {
    "duration": 3,
    "start_time": "2024-03-07T06:58:01.472Z"
   },
   {
    "duration": 9,
    "start_time": "2024-03-07T06:58:01.966Z"
   },
   {
    "duration": 4,
    "start_time": "2024-03-07T07:01:00.259Z"
   },
   {
    "duration": 368,
    "start_time": "2024-03-07T07:01:01.902Z"
   },
   {
    "duration": 6,
    "start_time": "2024-03-07T07:01:04.658Z"
   },
   {
    "duration": 9,
    "start_time": "2024-03-07T07:03:12.329Z"
   },
   {
    "duration": 8,
    "start_time": "2024-03-07T07:03:46.749Z"
   },
   {
    "duration": 5,
    "start_time": "2024-03-07T07:08:28.338Z"
   },
   {
    "duration": 4,
    "start_time": "2024-03-07T07:08:35.497Z"
   },
   {
    "duration": 9,
    "start_time": "2024-03-07T07:08:36.532Z"
   },
   {
    "duration": 375,
    "start_time": "2024-03-07T07:08:42.502Z"
   },
   {
    "duration": 6,
    "start_time": "2024-03-07T07:08:43.666Z"
   },
   {
    "duration": 3,
    "start_time": "2024-03-07T07:08:53.418Z"
   },
   {
    "duration": 3,
    "start_time": "2024-03-07T07:08:54.790Z"
   },
   {
    "duration": 7,
    "start_time": "2024-03-07T07:08:55.530Z"
   },
   {
    "duration": 105,
    "start_time": "2024-03-07T07:10:50.896Z"
   },
   {
    "duration": 10,
    "start_time": "2024-03-07T07:11:04.833Z"
   },
   {
    "duration": 5,
    "start_time": "2024-03-07T07:14:15.711Z"
   },
   {
    "duration": 6,
    "start_time": "2024-03-07T07:14:24.278Z"
   },
   {
    "duration": 5,
    "start_time": "2024-03-07T07:15:39.876Z"
   },
   {
    "duration": 104,
    "start_time": "2024-03-07T07:15:40.867Z"
   },
   {
    "duration": 1413,
    "start_time": "2024-03-07T07:16:09.589Z"
   },
   {
    "duration": 406,
    "start_time": "2024-03-07T07:16:11.004Z"
   },
   {
    "duration": 39,
    "start_time": "2024-03-07T07:16:11.411Z"
   },
   {
    "duration": 25,
    "start_time": "2024-03-07T07:16:11.452Z"
   },
   {
    "duration": 45,
    "start_time": "2024-03-07T07:16:11.480Z"
   },
   {
    "duration": 54,
    "start_time": "2024-03-07T07:16:11.527Z"
   },
   {
    "duration": 35,
    "start_time": "2024-03-07T07:16:11.583Z"
   },
   {
    "duration": 137,
    "start_time": "2024-03-07T07:16:11.620Z"
   },
   {
    "duration": 436,
    "start_time": "2024-03-07T07:16:11.758Z"
   },
   {
    "duration": 426,
    "start_time": "2024-03-07T07:16:12.195Z"
   },
   {
    "duration": 437,
    "start_time": "2024-03-07T07:16:12.622Z"
   },
   {
    "duration": 8,
    "start_time": "2024-03-07T07:16:13.061Z"
   },
   {
    "duration": 281,
    "start_time": "2024-03-07T07:16:13.071Z"
   },
   {
    "duration": 0,
    "start_time": "2024-03-07T07:16:13.354Z"
   },
   {
    "duration": 1,
    "start_time": "2024-03-07T07:16:13.355Z"
   },
   {
    "duration": 0,
    "start_time": "2024-03-07T07:16:13.370Z"
   },
   {
    "duration": 0,
    "start_time": "2024-03-07T07:16:13.371Z"
   },
   {
    "duration": 0,
    "start_time": "2024-03-07T07:16:13.372Z"
   },
   {
    "duration": 0,
    "start_time": "2024-03-07T07:16:13.373Z"
   },
   {
    "duration": 0,
    "start_time": "2024-03-07T07:16:13.374Z"
   },
   {
    "duration": 4,
    "start_time": "2024-03-07T07:20:16.732Z"
   },
   {
    "duration": 375,
    "start_time": "2024-03-07T07:20:17.507Z"
   },
   {
    "duration": 350,
    "start_time": "2024-03-07T07:20:30.932Z"
   },
   {
    "duration": 7,
    "start_time": "2024-03-07T07:21:18.159Z"
   },
   {
    "duration": 3,
    "start_time": "2024-03-07T07:21:30.187Z"
   },
   {
    "duration": 3,
    "start_time": "2024-03-07T07:21:31.977Z"
   },
   {
    "duration": 7,
    "start_time": "2024-03-07T07:21:32.966Z"
   },
   {
    "duration": 11,
    "start_time": "2024-03-07T07:21:45.281Z"
   },
   {
    "duration": 107,
    "start_time": "2024-03-07T07:22:23.558Z"
   },
   {
    "duration": 100,
    "start_time": "2024-03-07T07:22:32.784Z"
   },
   {
    "duration": 4,
    "start_time": "2024-03-07T07:22:41.036Z"
   },
   {
    "duration": 102,
    "start_time": "2024-03-07T07:22:48.178Z"
   },
   {
    "duration": 149,
    "start_time": "2024-03-07T07:23:38.755Z"
   },
   {
    "duration": 98,
    "start_time": "2024-03-07T07:23:45.489Z"
   },
   {
    "duration": 4,
    "start_time": "2024-03-07T07:23:50.397Z"
   },
   {
    "duration": 3,
    "start_time": "2024-03-07T07:24:24.867Z"
   },
   {
    "duration": 7,
    "start_time": "2024-03-07T07:24:30.319Z"
   },
   {
    "duration": 6,
    "start_time": "2024-03-07T07:24:56.216Z"
   },
   {
    "duration": 7,
    "start_time": "2024-03-07T07:25:23.977Z"
   },
   {
    "duration": 3,
    "start_time": "2024-03-07T07:25:31.546Z"
   },
   {
    "duration": 6,
    "start_time": "2024-03-07T07:25:32.134Z"
   },
   {
    "duration": 9,
    "start_time": "2024-03-07T07:25:33.285Z"
   },
   {
    "duration": 8,
    "start_time": "2024-03-07T07:25:47.012Z"
   },
   {
    "duration": 6,
    "start_time": "2024-03-07T07:26:02.545Z"
   },
   {
    "duration": 6,
    "start_time": "2024-03-07T07:29:15.521Z"
   },
   {
    "duration": 6,
    "start_time": "2024-03-07T07:29:25.755Z"
   },
   {
    "duration": 9,
    "start_time": "2024-03-07T07:29:26.976Z"
   },
   {
    "duration": 6,
    "start_time": "2024-03-07T07:29:33.409Z"
   },
   {
    "duration": 12,
    "start_time": "2024-03-07T07:29:34.791Z"
   },
   {
    "duration": 5,
    "start_time": "2024-03-07T07:29:56.220Z"
   },
   {
    "duration": 14,
    "start_time": "2024-03-07T07:29:57.657Z"
   },
   {
    "duration": 4,
    "start_time": "2024-03-07T07:32:07.410Z"
   },
   {
    "duration": 3,
    "start_time": "2024-03-07T07:35:05.013Z"
   },
   {
    "duration": 83,
    "start_time": "2024-03-07T07:36:21.790Z"
   },
   {
    "duration": 4,
    "start_time": "2024-03-07T07:36:39.855Z"
   },
   {
    "duration": 259,
    "start_time": "2024-03-07T07:36:40.621Z"
   },
   {
    "duration": 7,
    "start_time": "2024-03-07T07:36:47.487Z"
   },
   {
    "duration": 3,
    "start_time": "2024-03-07T07:36:57.613Z"
   },
   {
    "duration": 4,
    "start_time": "2024-03-07T07:36:58.092Z"
   },
   {
    "duration": 12,
    "start_time": "2024-03-07T07:37:31.045Z"
   },
   {
    "duration": 3,
    "start_time": "2024-03-07T07:37:48.296Z"
   },
   {
    "duration": 4,
    "start_time": "2024-03-07T07:39:07.722Z"
   },
   {
    "duration": 3,
    "start_time": "2024-03-07T07:39:09.300Z"
   },
   {
    "duration": 13,
    "start_time": "2024-03-07T07:39:09.768Z"
   },
   {
    "duration": 13,
    "start_time": "2024-03-07T07:40:36.340Z"
   },
   {
    "duration": 4,
    "start_time": "2024-03-07T07:41:39.835Z"
   },
   {
    "duration": 433,
    "start_time": "2024-03-07T07:41:50.644Z"
   },
   {
    "duration": 7,
    "start_time": "2024-03-07T07:42:02.143Z"
   },
   {
    "duration": 3,
    "start_time": "2024-03-07T07:42:09.147Z"
   },
   {
    "duration": 3,
    "start_time": "2024-03-07T07:42:10.261Z"
   },
   {
    "duration": 7,
    "start_time": "2024-03-07T07:42:11.607Z"
   },
   {
    "duration": 3,
    "start_time": "2024-03-07T07:42:25.241Z"
   },
   {
    "duration": 4,
    "start_time": "2024-03-07T07:42:31.237Z"
   },
   {
    "duration": 4,
    "start_time": "2024-03-07T07:42:37.531Z"
   },
   {
    "duration": 3,
    "start_time": "2024-03-07T07:42:45.200Z"
   },
   {
    "duration": 4,
    "start_time": "2024-03-07T07:42:47.430Z"
   },
   {
    "duration": 13,
    "start_time": "2024-03-07T07:42:57.512Z"
   },
   {
    "duration": 3,
    "start_time": "2024-03-07T07:45:58.497Z"
   },
   {
    "duration": 10,
    "start_time": "2024-03-07T07:47:19.201Z"
   },
   {
    "duration": 3,
    "start_time": "2024-03-07T07:47:27.607Z"
   },
   {
    "duration": 3,
    "start_time": "2024-03-07T07:47:28.187Z"
   },
   {
    "duration": 3,
    "start_time": "2024-03-07T07:47:42.562Z"
   },
   {
    "duration": 4,
    "start_time": "2024-03-07T07:47:43.237Z"
   },
   {
    "duration": 4,
    "start_time": "2024-03-07T07:51:14.518Z"
   },
   {
    "duration": 13,
    "start_time": "2024-03-07T07:51:16.090Z"
   },
   {
    "duration": 3,
    "start_time": "2024-03-07T07:51:39.632Z"
   },
   {
    "duration": 4,
    "start_time": "2024-03-07T07:51:40.437Z"
   },
   {
    "duration": 4,
    "start_time": "2024-03-07T07:51:41.707Z"
   },
   {
    "duration": 17,
    "start_time": "2024-03-07T07:51:42.735Z"
   },
   {
    "duration": 4,
    "start_time": "2024-03-07T07:58:59.103Z"
   },
   {
    "duration": 13,
    "start_time": "2024-03-07T08:01:40.657Z"
   },
   {
    "duration": 3,
    "start_time": "2024-03-07T08:02:07.699Z"
   },
   {
    "duration": 3,
    "start_time": "2024-03-07T08:02:24.488Z"
   },
   {
    "duration": 5,
    "start_time": "2024-03-07T08:02:32.930Z"
   },
   {
    "duration": 14,
    "start_time": "2024-03-07T08:02:33.562Z"
   },
   {
    "duration": 4,
    "start_time": "2024-03-07T08:03:35.311Z"
   },
   {
    "duration": 15,
    "start_time": "2024-03-07T08:03:36.261Z"
   },
   {
    "duration": 4,
    "start_time": "2024-03-07T08:04:14.248Z"
   },
   {
    "duration": 5,
    "start_time": "2024-03-07T08:04:14.726Z"
   },
   {
    "duration": 17,
    "start_time": "2024-03-07T08:04:15.145Z"
   },
   {
    "duration": 3,
    "start_time": "2024-03-07T08:04:32.377Z"
   },
   {
    "duration": 4,
    "start_time": "2024-03-07T08:04:32.896Z"
   },
   {
    "duration": 26,
    "start_time": "2024-03-07T08:04:33.375Z"
   },
   {
    "duration": 5,
    "start_time": "2024-03-07T08:06:39.032Z"
   },
   {
    "duration": 14,
    "start_time": "2024-03-07T08:06:39.900Z"
   },
   {
    "duration": 128,
    "start_time": "2024-03-07T08:07:07.989Z"
   },
   {
    "duration": 11,
    "start_time": "2024-03-07T08:07:29.280Z"
   },
   {
    "duration": 3,
    "start_time": "2024-03-07T08:08:12.737Z"
   },
   {
    "duration": 11,
    "start_time": "2024-03-07T08:09:07.462Z"
   },
   {
    "duration": 16,
    "start_time": "2024-03-07T08:12:07.777Z"
   },
   {
    "duration": 16,
    "start_time": "2024-03-07T08:12:14.264Z"
   },
   {
    "duration": 15,
    "start_time": "2024-03-07T08:12:37.369Z"
   },
   {
    "duration": 109,
    "start_time": "2024-03-07T08:13:08.051Z"
   },
   {
    "duration": 11,
    "start_time": "2024-03-07T08:14:44.954Z"
   },
   {
    "duration": 45,
    "start_time": "2024-03-07T08:14:47.656Z"
   },
   {
    "duration": 9,
    "start_time": "2024-03-07T08:14:56.676Z"
   },
   {
    "duration": 44,
    "start_time": "2024-03-07T08:15:42.997Z"
   },
   {
    "duration": 115,
    "start_time": "2024-03-07T08:16:14.914Z"
   },
   {
    "duration": 8,
    "start_time": "2024-03-07T08:20:06.586Z"
   },
   {
    "duration": 9,
    "start_time": "2024-03-07T08:20:43.267Z"
   },
   {
    "duration": 361,
    "start_time": "2024-03-07T08:20:52.477Z"
   },
   {
    "duration": 353,
    "start_time": "2024-03-07T08:21:14.633Z"
   },
   {
    "duration": 24,
    "start_time": "2024-03-07T08:22:03.687Z"
   },
   {
    "duration": 24,
    "start_time": "2024-03-07T08:22:20.429Z"
   },
   {
    "duration": 115,
    "start_time": "2024-03-07T08:22:26.559Z"
   },
   {
    "duration": 92,
    "start_time": "2024-03-07T08:24:29.696Z"
   },
   {
    "duration": 1454,
    "start_time": "2024-03-07T08:24:54.278Z"
   },
   {
    "duration": 410,
    "start_time": "2024-03-07T08:24:55.734Z"
   },
   {
    "duration": 47,
    "start_time": "2024-03-07T08:24:56.146Z"
   },
   {
    "duration": 36,
    "start_time": "2024-03-07T08:24:56.194Z"
   },
   {
    "duration": 49,
    "start_time": "2024-03-07T08:24:56.234Z"
   },
   {
    "duration": 23,
    "start_time": "2024-03-07T08:24:56.285Z"
   },
   {
    "duration": 139,
    "start_time": "2024-03-07T08:24:56.309Z"
   },
   {
    "duration": 438,
    "start_time": "2024-03-07T08:24:56.450Z"
   },
   {
    "duration": 422,
    "start_time": "2024-03-07T08:24:56.890Z"
   },
   {
    "duration": 435,
    "start_time": "2024-03-07T08:24:57.314Z"
   },
   {
    "duration": 4,
    "start_time": "2024-03-07T08:24:57.751Z"
   },
   {
    "duration": 514,
    "start_time": "2024-03-07T08:24:57.756Z"
   },
   {
    "duration": 99,
    "start_time": "2024-03-07T08:24:58.272Z"
   },
   {
    "duration": 2,
    "start_time": "2024-03-07T08:24:58.374Z"
   },
   {
    "duration": 6,
    "start_time": "2024-03-07T08:24:58.378Z"
   },
   {
    "duration": 8,
    "start_time": "2024-03-07T08:24:58.385Z"
   },
   {
    "duration": 4,
    "start_time": "2024-03-07T08:24:58.395Z"
   },
   {
    "duration": 5,
    "start_time": "2024-03-07T08:24:58.400Z"
   },
   {
    "duration": 4,
    "start_time": "2024-03-07T08:24:58.406Z"
   },
   {
    "duration": 150,
    "start_time": "2024-03-07T08:24:58.412Z"
   },
   {
    "duration": 0,
    "start_time": "2024-03-07T08:24:58.563Z"
   },
   {
    "duration": 8,
    "start_time": "2024-03-07T08:26:56.881Z"
   },
   {
    "duration": 3,
    "start_time": "2024-03-07T08:31:42.163Z"
   },
   {
    "duration": 4,
    "start_time": "2024-03-07T08:32:29.116Z"
   },
   {
    "duration": 11,
    "start_time": "2024-03-07T08:32:36.772Z"
   },
   {
    "duration": 11,
    "start_time": "2024-03-07T08:33:11.027Z"
   },
   {
    "duration": 1765,
    "start_time": "2024-03-07T08:38:46.967Z"
   },
   {
    "duration": 414,
    "start_time": "2024-03-07T08:39:17.817Z"
   },
   {
    "duration": 4,
    "start_time": "2024-03-07T08:44:09.401Z"
   },
   {
    "duration": 108,
    "start_time": "2024-03-07T08:44:46.644Z"
   },
   {
    "duration": 4,
    "start_time": "2024-03-07T08:44:53.132Z"
   },
   {
    "duration": 9,
    "start_time": "2024-03-07T08:45:29.007Z"
   },
   {
    "duration": 10,
    "start_time": "2024-03-07T08:45:36.612Z"
   },
   {
    "duration": 3,
    "start_time": "2024-03-07T08:45:47.020Z"
   },
   {
    "duration": 15,
    "start_time": "2024-03-07T08:45:47.845Z"
   },
   {
    "duration": 104,
    "start_time": "2024-03-07T08:49:39.031Z"
   },
   {
    "duration": 3,
    "start_time": "2024-03-07T08:50:07.725Z"
   },
   {
    "duration": 16,
    "start_time": "2024-03-07T08:50:16.694Z"
   },
   {
    "duration": 1390,
    "start_time": "2024-03-07T08:50:35.209Z"
   },
   {
    "duration": 410,
    "start_time": "2024-03-07T08:50:36.601Z"
   },
   {
    "duration": 43,
    "start_time": "2024-03-07T08:50:37.012Z"
   },
   {
    "duration": 40,
    "start_time": "2024-03-07T08:50:37.056Z"
   },
   {
    "duration": 35,
    "start_time": "2024-03-07T08:50:37.098Z"
   },
   {
    "duration": 37,
    "start_time": "2024-03-07T08:50:37.135Z"
   },
   {
    "duration": 135,
    "start_time": "2024-03-07T08:50:37.173Z"
   },
   {
    "duration": 441,
    "start_time": "2024-03-07T08:50:37.311Z"
   },
   {
    "duration": 434,
    "start_time": "2024-03-07T08:50:37.754Z"
   },
   {
    "duration": 439,
    "start_time": "2024-03-07T08:50:38.190Z"
   },
   {
    "duration": 5,
    "start_time": "2024-03-07T08:50:38.630Z"
   },
   {
    "duration": 439,
    "start_time": "2024-03-07T08:50:38.636Z"
   },
   {
    "duration": 96,
    "start_time": "2024-03-07T08:50:39.078Z"
   },
   {
    "duration": 91,
    "start_time": "2024-03-07T08:50:39.179Z"
   },
   {
    "duration": 12,
    "start_time": "2024-03-07T08:50:39.272Z"
   },
   {
    "duration": 7,
    "start_time": "2024-03-07T08:50:39.286Z"
   },
   {
    "duration": 4,
    "start_time": "2024-03-07T08:50:39.295Z"
   },
   {
    "duration": 127,
    "start_time": "2024-03-07T08:50:39.301Z"
   },
   {
    "duration": 0,
    "start_time": "2024-03-07T08:50:39.430Z"
   },
   {
    "duration": 0,
    "start_time": "2024-03-07T08:50:39.432Z"
   },
   {
    "duration": 0,
    "start_time": "2024-03-07T08:50:39.433Z"
   },
   {
    "duration": 4,
    "start_time": "2024-03-07T08:53:39.508Z"
   },
   {
    "duration": 13,
    "start_time": "2024-03-07T08:53:40.444Z"
   },
   {
    "duration": 3,
    "start_time": "2024-03-07T08:53:50.810Z"
   },
   {
    "duration": 11,
    "start_time": "2024-03-07T08:53:51.405Z"
   },
   {
    "duration": 3,
    "start_time": "2024-03-07T08:56:43.254Z"
   },
   {
    "duration": 12,
    "start_time": "2024-03-07T08:56:44.084Z"
   },
   {
    "duration": 20,
    "start_time": "2024-03-07T08:57:58.737Z"
   },
   {
    "duration": 10,
    "start_time": "2024-03-07T08:58:38.833Z"
   },
   {
    "duration": 4,
    "start_time": "2024-03-07T09:06:54.891Z"
   },
   {
    "duration": 5,
    "start_time": "2024-03-07T09:07:15.060Z"
   },
   {
    "duration": 350,
    "start_time": "2024-03-07T09:07:15.927Z"
   },
   {
    "duration": 8,
    "start_time": "2024-03-07T09:07:16.828Z"
   },
   {
    "duration": 4,
    "start_time": "2024-03-07T09:07:35.968Z"
   },
   {
    "duration": 8,
    "start_time": "2024-03-07T09:07:45.851Z"
   },
   {
    "duration": 6,
    "start_time": "2024-03-07T09:09:45.349Z"
   },
   {
    "duration": 323,
    "start_time": "2024-03-07T09:10:04.861Z"
   },
   {
    "duration": 5,
    "start_time": "2024-03-07T09:10:33.028Z"
   },
   {
    "duration": 172,
    "start_time": "2024-03-07T09:10:33.699Z"
   },
   {
    "duration": 107,
    "start_time": "2024-03-07T09:11:15.374Z"
   },
   {
    "duration": 107,
    "start_time": "2024-03-07T09:12:11.022Z"
   },
   {
    "duration": 5,
    "start_time": "2024-03-07T09:12:15.071Z"
   },
   {
    "duration": 84,
    "start_time": "2024-03-07T09:12:17.888Z"
   },
   {
    "duration": 5,
    "start_time": "2024-03-07T09:12:37.427Z"
   },
   {
    "duration": 359,
    "start_time": "2024-03-07T09:12:38.922Z"
   },
   {
    "duration": 434,
    "start_time": "2024-03-07T09:13:18.246Z"
   },
   {
    "duration": 383,
    "start_time": "2024-03-07T09:13:26.903Z"
   },
   {
    "duration": 410,
    "start_time": "2024-03-07T09:14:00.274Z"
   },
   {
    "duration": 5,
    "start_time": "2024-03-07T09:15:23.239Z"
   },
   {
    "duration": 516,
    "start_time": "2024-03-07T09:15:24.154Z"
   },
   {
    "duration": 5,
    "start_time": "2024-03-07T09:15:32.689Z"
   },
   {
    "duration": 363,
    "start_time": "2024-03-07T09:15:39.218Z"
   },
   {
    "duration": 5,
    "start_time": "2024-03-07T09:15:52.227Z"
   },
   {
    "duration": 402,
    "start_time": "2024-03-07T09:15:53.277Z"
   },
   {
    "duration": 4,
    "start_time": "2024-03-07T09:16:06.156Z"
   },
   {
    "duration": 426,
    "start_time": "2024-03-07T09:16:07.149Z"
   },
   {
    "duration": 5,
    "start_time": "2024-03-07T09:16:43.099Z"
   },
   {
    "duration": 378,
    "start_time": "2024-03-07T09:16:43.804Z"
   },
   {
    "duration": 4,
    "start_time": "2024-03-07T09:16:51.907Z"
   },
   {
    "duration": 431,
    "start_time": "2024-03-07T09:16:52.757Z"
   },
   {
    "duration": 5,
    "start_time": "2024-03-07T09:17:49.424Z"
   },
   {
    "duration": 366,
    "start_time": "2024-03-07T09:17:50.118Z"
   },
   {
    "duration": 4,
    "start_time": "2024-03-07T09:20:36.444Z"
   },
   {
    "duration": 4,
    "start_time": "2024-03-07T09:25:06.469Z"
   },
   {
    "duration": 3,
    "start_time": "2024-03-07T09:32:45.165Z"
   },
   {
    "duration": 15,
    "start_time": "2024-03-07T09:32:46.056Z"
   },
   {
    "duration": 4,
    "start_time": "2024-03-07T09:33:19.259Z"
   },
   {
    "duration": 14,
    "start_time": "2024-03-07T09:33:19.941Z"
   },
   {
    "duration": 3,
    "start_time": "2024-03-07T09:33:48.510Z"
   },
   {
    "duration": 12,
    "start_time": "2024-03-07T09:33:49.646Z"
   },
   {
    "duration": 4,
    "start_time": "2024-03-07T09:35:08.625Z"
   },
   {
    "duration": 14,
    "start_time": "2024-03-07T09:35:09.352Z"
   },
   {
    "duration": 3,
    "start_time": "2024-03-07T09:35:51.177Z"
   },
   {
    "duration": 4,
    "start_time": "2024-03-07T09:36:01.131Z"
   },
   {
    "duration": 13,
    "start_time": "2024-03-07T09:36:01.923Z"
   },
   {
    "duration": 13,
    "start_time": "2024-03-07T09:36:10.527Z"
   },
   {
    "duration": 3,
    "start_time": "2024-03-07T09:38:43.397Z"
   },
   {
    "duration": 6,
    "start_time": "2024-03-07T09:39:29.706Z"
   },
   {
    "duration": 10,
    "start_time": "2024-03-07T09:44:12.314Z"
   },
   {
    "duration": 5,
    "start_time": "2024-03-07T09:46:05.949Z"
   },
   {
    "duration": 11,
    "start_time": "2024-03-07T09:46:20.543Z"
   },
   {
    "duration": 11,
    "start_time": "2024-03-07T09:46:47.500Z"
   },
   {
    "duration": 10,
    "start_time": "2024-03-07T09:46:52.780Z"
   },
   {
    "duration": 11,
    "start_time": "2024-03-07T09:47:35.365Z"
   },
   {
    "duration": 6,
    "start_time": "2024-03-07T09:47:45.426Z"
   },
   {
    "duration": 10,
    "start_time": "2024-03-07T09:48:27.064Z"
   },
   {
    "duration": 4,
    "start_time": "2024-03-07T09:49:19.643Z"
   },
   {
    "duration": 13,
    "start_time": "2024-03-07T09:49:20.364Z"
   },
   {
    "duration": 3,
    "start_time": "2024-03-07T09:49:32.110Z"
   },
   {
    "duration": 8,
    "start_time": "2024-03-07T09:49:32.808Z"
   },
   {
    "duration": 3,
    "start_time": "2024-03-07T09:51:59.548Z"
   },
   {
    "duration": 3,
    "start_time": "2024-03-07T09:59:44.737Z"
   },
   {
    "duration": 12,
    "start_time": "2024-03-07T09:59:45.525Z"
   },
   {
    "duration": 11,
    "start_time": "2024-03-07T09:59:55.304Z"
   },
   {
    "duration": 13,
    "start_time": "2024-03-07T10:04:29.833Z"
   },
   {
    "duration": 13,
    "start_time": "2024-03-07T10:06:03.925Z"
   },
   {
    "duration": 11,
    "start_time": "2024-03-07T10:06:13.777Z"
   },
   {
    "duration": 10,
    "start_time": "2024-03-07T10:07:11.589Z"
   },
   {
    "duration": 10,
    "start_time": "2024-03-07T10:07:26.625Z"
   },
   {
    "duration": 1443,
    "start_time": "2024-03-07T10:07:35.555Z"
   },
   {
    "duration": 408,
    "start_time": "2024-03-07T10:07:37.001Z"
   },
   {
    "duration": 47,
    "start_time": "2024-03-07T10:07:37.410Z"
   },
   {
    "duration": 44,
    "start_time": "2024-03-07T10:07:37.458Z"
   },
   {
    "duration": 35,
    "start_time": "2024-03-07T10:07:37.504Z"
   },
   {
    "duration": 46,
    "start_time": "2024-03-07T10:07:37.541Z"
   },
   {
    "duration": 130,
    "start_time": "2024-03-07T10:07:37.588Z"
   },
   {
    "duration": 441,
    "start_time": "2024-03-07T10:07:37.720Z"
   },
   {
    "duration": 416,
    "start_time": "2024-03-07T10:07:38.162Z"
   },
   {
    "duration": 429,
    "start_time": "2024-03-07T10:07:38.580Z"
   },
   {
    "duration": 116,
    "start_time": "2024-03-07T10:07:39.011Z"
   },
   {
    "duration": 0,
    "start_time": "2024-03-07T10:07:39.129Z"
   },
   {
    "duration": 0,
    "start_time": "2024-03-07T10:07:39.130Z"
   },
   {
    "duration": 0,
    "start_time": "2024-03-07T10:07:39.132Z"
   },
   {
    "duration": 0,
    "start_time": "2024-03-07T10:07:39.133Z"
   },
   {
    "duration": 0,
    "start_time": "2024-03-07T10:07:39.135Z"
   },
   {
    "duration": 0,
    "start_time": "2024-03-07T10:07:39.136Z"
   },
   {
    "duration": 0,
    "start_time": "2024-03-07T10:07:39.137Z"
   },
   {
    "duration": 0,
    "start_time": "2024-03-07T10:07:39.138Z"
   },
   {
    "duration": 152,
    "start_time": "2024-03-07T10:11:48.861Z"
   },
   {
    "duration": 106,
    "start_time": "2024-03-07T10:11:58.123Z"
   },
   {
    "duration": 106,
    "start_time": "2024-03-07T10:12:14.828Z"
   },
   {
    "duration": 9,
    "start_time": "2024-03-07T10:14:26.280Z"
   },
   {
    "duration": 5,
    "start_time": "2024-03-07T10:14:40.845Z"
   },
   {
    "duration": 427,
    "start_time": "2024-03-07T10:14:41.748Z"
   },
   {
    "duration": 3,
    "start_time": "2024-03-07T10:14:45.666Z"
   },
   {
    "duration": 3,
    "start_time": "2024-03-07T10:14:46.819Z"
   },
   {
    "duration": 8,
    "start_time": "2024-03-07T10:14:47.438Z"
   },
   {
    "duration": 3,
    "start_time": "2024-03-07T10:18:32.284Z"
   },
   {
    "duration": 3,
    "start_time": "2024-03-07T10:18:49.998Z"
   },
   {
    "duration": 6,
    "start_time": "2024-03-07T10:19:17.826Z"
   },
   {
    "duration": 5,
    "start_time": "2024-03-07T10:20:54.674Z"
   },
   {
    "duration": 6,
    "start_time": "2024-03-07T10:20:55.267Z"
   },
   {
    "duration": 5,
    "start_time": "2024-03-07T10:27:24.851Z"
   },
   {
    "duration": 3,
    "start_time": "2024-03-07T10:27:54.314Z"
   },
   {
    "duration": 14,
    "start_time": "2024-03-07T10:28:29.641Z"
   },
   {
    "duration": 5,
    "start_time": "2024-03-07T10:30:07.017Z"
   },
   {
    "duration": 2,
    "start_time": "2024-03-07T10:30:08.962Z"
   },
   {
    "duration": 12,
    "start_time": "2024-03-07T10:30:09.892Z"
   },
   {
    "duration": 3,
    "start_time": "2024-03-07T10:31:09.014Z"
   },
   {
    "duration": 4,
    "start_time": "2024-03-07T10:31:10.832Z"
   },
   {
    "duration": 3,
    "start_time": "2024-03-07T10:32:04.935Z"
   },
   {
    "duration": 5,
    "start_time": "2024-03-07T10:32:06.255Z"
   },
   {
    "duration": 3,
    "start_time": "2024-03-07T10:32:06.919Z"
   },
   {
    "duration": 12,
    "start_time": "2024-03-07T10:32:07.503Z"
   },
   {
    "duration": 4,
    "start_time": "2024-03-07T10:40:53.730Z"
   },
   {
    "duration": 5,
    "start_time": "2024-03-07T10:40:55.249Z"
   },
   {
    "duration": 2,
    "start_time": "2024-03-07T10:40:56.168Z"
   },
   {
    "duration": 44,
    "start_time": "2024-03-07T10:40:57.216Z"
   },
   {
    "duration": 4,
    "start_time": "2024-03-07T10:41:16.726Z"
   },
   {
    "duration": 3,
    "start_time": "2024-03-07T10:41:20.682Z"
   },
   {
    "duration": 6,
    "start_time": "2024-03-07T10:41:21.903Z"
   },
   {
    "duration": 3,
    "start_time": "2024-03-07T10:41:24.758Z"
   },
   {
    "duration": 3,
    "start_time": "2024-03-07T10:42:58.355Z"
   },
   {
    "duration": 3,
    "start_time": "2024-03-07T10:44:01.847Z"
   },
   {
    "duration": 3,
    "start_time": "2024-03-07T10:44:24.059Z"
   },
   {
    "duration": 100,
    "start_time": "2024-03-07T10:47:33.770Z"
   },
   {
    "duration": 5,
    "start_time": "2024-03-07T10:47:42.090Z"
   },
   {
    "duration": 15,
    "start_time": "2024-03-07T10:48:05.534Z"
   },
   {
    "duration": 5,
    "start_time": "2024-03-07T10:48:55.348Z"
   },
   {
    "duration": 1370,
    "start_time": "2024-03-07T10:48:56.440Z"
   },
   {
    "duration": 5,
    "start_time": "2024-03-07T10:49:18.042Z"
   },
   {
    "duration": 5,
    "start_time": "2024-03-07T10:49:33.265Z"
   },
   {
    "duration": 1309,
    "start_time": "2024-03-07T10:49:34.032Z"
   },
   {
    "duration": 1348,
    "start_time": "2024-03-07T10:49:51.852Z"
   },
   {
    "duration": 1340,
    "start_time": "2024-03-07T10:50:04.285Z"
   },
   {
    "duration": 5,
    "start_time": "2024-03-07T10:56:03.131Z"
   },
   {
    "duration": 8,
    "start_time": "2024-03-07T10:56:03.744Z"
   },
   {
    "duration": 1394,
    "start_time": "2024-03-07T10:56:04.747Z"
   },
   {
    "duration": 1355,
    "start_time": "2024-03-07T10:56:06.144Z"
   },
   {
    "duration": 1358,
    "start_time": "2024-03-07T10:56:07.501Z"
   },
   {
    "duration": 1420,
    "start_time": "2024-03-07T10:56:38.963Z"
   },
   {
    "duration": 1409,
    "start_time": "2024-03-07T10:57:02.086Z"
   },
   {
    "duration": 1379,
    "start_time": "2024-03-07T10:57:19.117Z"
   },
   {
    "duration": 5,
    "start_time": "2024-03-07T11:04:28.999Z"
   },
   {
    "duration": 5,
    "start_time": "2024-03-07T11:04:33.797Z"
   },
   {
    "duration": 6,
    "start_time": "2024-03-07T11:37:54.164Z"
   },
   {
    "duration": 1426,
    "start_time": "2024-03-07T11:37:57.337Z"
   },
   {
    "duration": 1385,
    "start_time": "2024-03-07T11:37:59.702Z"
   },
   {
    "duration": 1329,
    "start_time": "2024-03-07T11:38:02.042Z"
   },
   {
    "duration": 3,
    "start_time": "2024-03-07T11:44:42.769Z"
   },
   {
    "duration": 6,
    "start_time": "2024-03-07T11:54:14.203Z"
   },
   {
    "duration": 5,
    "start_time": "2024-03-07T11:54:20.559Z"
   },
   {
    "duration": 5,
    "start_time": "2024-03-07T11:59:10.663Z"
   },
   {
    "duration": 1368,
    "start_time": "2024-03-07T11:59:11.416Z"
   },
   {
    "duration": 5,
    "start_time": "2024-03-07T11:59:19.712Z"
   },
   {
    "duration": 1392,
    "start_time": "2024-03-07T11:59:24.373Z"
   },
   {
    "duration": 1323,
    "start_time": "2024-03-07T11:59:31.319Z"
   },
   {
    "duration": 1366,
    "start_time": "2024-03-07T11:59:34.747Z"
   },
   {
    "duration": 6,
    "start_time": "2024-03-07T12:03:00.193Z"
   },
   {
    "duration": 1335,
    "start_time": "2024-03-07T12:03:01.551Z"
   },
   {
    "duration": 1359,
    "start_time": "2024-03-07T12:03:06.821Z"
   },
   {
    "duration": 1330,
    "start_time": "2024-03-07T12:03:08.182Z"
   },
   {
    "duration": 106,
    "start_time": "2024-03-07T12:03:52.076Z"
   },
   {
    "duration": 5,
    "start_time": "2024-03-07T12:04:08.961Z"
   },
   {
    "duration": 1373,
    "start_time": "2024-03-07T12:04:11.054Z"
   },
   {
    "duration": 1359,
    "start_time": "2024-03-07T12:04:16.660Z"
   },
   {
    "duration": 1381,
    "start_time": "2024-03-07T12:04:19.103Z"
   },
   {
    "duration": 1438,
    "start_time": "2024-03-07T12:07:53.946Z"
   },
   {
    "duration": 422,
    "start_time": "2024-03-07T12:07:55.386Z"
   },
   {
    "duration": 43,
    "start_time": "2024-03-07T12:07:55.810Z"
   },
   {
    "duration": 42,
    "start_time": "2024-03-07T12:07:55.854Z"
   },
   {
    "duration": 34,
    "start_time": "2024-03-07T12:07:55.899Z"
   },
   {
    "duration": 45,
    "start_time": "2024-03-07T12:07:55.935Z"
   },
   {
    "duration": 135,
    "start_time": "2024-03-07T12:07:55.982Z"
   },
   {
    "duration": 432,
    "start_time": "2024-03-07T12:07:56.118Z"
   },
   {
    "duration": 450,
    "start_time": "2024-03-07T12:07:56.552Z"
   },
   {
    "duration": 489,
    "start_time": "2024-03-07T12:07:57.003Z"
   },
   {
    "duration": 5,
    "start_time": "2024-03-07T12:07:57.493Z"
   },
   {
    "duration": 374,
    "start_time": "2024-03-07T12:07:57.500Z"
   },
   {
    "duration": 95,
    "start_time": "2024-03-07T12:07:57.876Z"
   },
   {
    "duration": 94,
    "start_time": "2024-03-07T12:07:57.976Z"
   },
   {
    "duration": 7,
    "start_time": "2024-03-07T12:07:58.072Z"
   },
   {
    "duration": 5,
    "start_time": "2024-03-07T12:07:58.080Z"
   },
   {
    "duration": 13,
    "start_time": "2024-03-07T12:07:58.087Z"
   },
   {
    "duration": 1364,
    "start_time": "2024-03-07T12:07:58.101Z"
   },
   {
    "duration": 1428,
    "start_time": "2024-03-07T12:07:59.467Z"
   },
   {
    "duration": 1352,
    "start_time": "2024-03-07T12:08:00.897Z"
   },
   {
    "duration": 78,
    "start_time": "2024-03-08T08:16:02.582Z"
   },
   {
    "duration": 1782,
    "start_time": "2024-03-08T14:36:40.143Z"
   },
   {
    "duration": 929,
    "start_time": "2024-03-08T14:36:41.927Z"
   },
   {
    "duration": 4,
    "start_time": "2024-03-08T14:36:42.858Z"
   },
   {
    "duration": 69,
    "start_time": "2024-03-08T14:36:42.864Z"
   },
   {
    "duration": 53,
    "start_time": "2024-03-08T14:36:42.935Z"
   },
   {
    "duration": 45,
    "start_time": "2024-03-08T14:36:42.991Z"
   },
   {
    "duration": 24,
    "start_time": "2024-03-08T14:36:43.037Z"
   },
   {
    "duration": 203,
    "start_time": "2024-03-08T14:36:43.063Z"
   },
   {
    "duration": 547,
    "start_time": "2024-03-08T14:36:43.268Z"
   },
   {
    "duration": 540,
    "start_time": "2024-03-08T14:36:43.817Z"
   },
   {
    "duration": 556,
    "start_time": "2024-03-08T14:36:44.358Z"
   },
   {
    "duration": 4,
    "start_time": "2024-03-08T14:36:44.915Z"
   },
   {
    "duration": 5,
    "start_time": "2024-03-08T14:36:44.920Z"
   },
   {
    "duration": 395,
    "start_time": "2024-03-08T14:36:44.928Z"
   },
   {
    "duration": 68,
    "start_time": "2024-03-08T14:36:45.325Z"
   },
   {
    "duration": 103,
    "start_time": "2024-03-08T14:36:45.401Z"
   },
   {
    "duration": 17,
    "start_time": "2024-03-08T14:36:45.507Z"
   },
   {
    "duration": 19,
    "start_time": "2024-03-08T14:36:45.525Z"
   },
   {
    "duration": 14,
    "start_time": "2024-03-08T14:36:45.546Z"
   },
   {
    "duration": 1667,
    "start_time": "2024-03-08T14:36:45.561Z"
   },
   {
    "duration": 1598,
    "start_time": "2024-03-08T14:36:47.229Z"
   },
   {
    "duration": 1620,
    "start_time": "2024-03-08T14:36:48.829Z"
   },
   {
    "duration": 138,
    "start_time": "2024-03-08T14:38:51.981Z"
   },
   {
    "duration": 10,
    "start_time": "2024-03-08T14:41:06.834Z"
   },
   {
    "duration": 2,
    "start_time": "2024-03-08T14:41:19.272Z"
   },
   {
    "duration": 9,
    "start_time": "2024-03-08T14:41:19.772Z"
   },
   {
    "duration": 9,
    "start_time": "2024-03-08T14:42:10.747Z"
   },
   {
    "duration": 3,
    "start_time": "2024-03-08T14:42:44.810Z"
   },
   {
    "duration": 94,
    "start_time": "2024-03-08T14:42:45.389Z"
   },
   {
    "duration": 10,
    "start_time": "2024-03-08T14:49:04.237Z"
   },
   {
    "duration": 3,
    "start_time": "2024-03-08T14:51:16.390Z"
   },
   {
    "duration": 22,
    "start_time": "2024-03-08T14:51:16.880Z"
   },
   {
    "duration": 9,
    "start_time": "2024-03-08T14:51:45.310Z"
   },
   {
    "duration": 9,
    "start_time": "2024-03-08T14:58:55.245Z"
   },
   {
    "duration": 16,
    "start_time": "2024-03-08T15:03:20.880Z"
   },
   {
    "duration": 9,
    "start_time": "2024-03-08T15:03:26.869Z"
   },
   {
    "duration": 4,
    "start_time": "2024-03-08T15:04:50.583Z"
   },
   {
    "duration": 146,
    "start_time": "2024-03-08T15:05:55.466Z"
   },
   {
    "duration": 32,
    "start_time": "2024-03-08T15:06:06.762Z"
   },
   {
    "duration": 9,
    "start_time": "2024-03-08T15:07:04.560Z"
   },
   {
    "duration": 55,
    "start_time": "2024-03-08T15:07:31.045Z"
   },
   {
    "duration": 87,
    "start_time": "2024-03-08T15:08:42.276Z"
   },
   {
    "duration": 94,
    "start_time": "2024-03-08T15:08:52.675Z"
   },
   {
    "duration": 97,
    "start_time": "2024-03-08T15:09:29.699Z"
   },
   {
    "duration": 19,
    "start_time": "2024-03-08T15:16:53.989Z"
   },
   {
    "duration": 1189,
    "start_time": "2024-03-08T15:17:37.824Z"
   },
   {
    "duration": 1196,
    "start_time": "2024-03-08T15:18:05.996Z"
   },
   {
    "duration": 1536,
    "start_time": "2024-03-08T15:18:19.957Z"
   },
   {
    "duration": 481,
    "start_time": "2024-03-08T15:18:21.496Z"
   },
   {
    "duration": 3,
    "start_time": "2024-03-08T15:18:21.978Z"
   },
   {
    "duration": 121,
    "start_time": "2024-03-08T15:18:21.983Z"
   },
   {
    "duration": 25,
    "start_time": "2024-03-08T15:18:22.107Z"
   },
   {
    "duration": 170,
    "start_time": "2024-03-08T15:18:22.133Z"
   },
   {
    "duration": 46,
    "start_time": "2024-03-08T15:18:22.304Z"
   },
   {
    "duration": 14,
    "start_time": "2024-03-08T15:18:22.352Z"
   },
   {
    "duration": 552,
    "start_time": "2024-03-08T15:18:22.382Z"
   },
   {
    "duration": 525,
    "start_time": "2024-03-08T15:18:22.935Z"
   },
   {
    "duration": 517,
    "start_time": "2024-03-08T15:18:23.461Z"
   },
   {
    "duration": 13,
    "start_time": "2024-03-08T15:18:23.981Z"
   },
   {
    "duration": 6,
    "start_time": "2024-03-08T15:18:23.996Z"
   },
   {
    "duration": 144,
    "start_time": "2024-03-08T15:18:24.005Z"
   },
   {
    "duration": 0,
    "start_time": "2024-03-08T15:18:24.151Z"
   },
   {
    "duration": 0,
    "start_time": "2024-03-08T15:18:24.153Z"
   },
   {
    "duration": 0,
    "start_time": "2024-03-08T15:18:24.154Z"
   },
   {
    "duration": 0,
    "start_time": "2024-03-08T15:18:24.155Z"
   },
   {
    "duration": 0,
    "start_time": "2024-03-08T15:18:24.156Z"
   },
   {
    "duration": 0,
    "start_time": "2024-03-08T15:18:24.156Z"
   },
   {
    "duration": 0,
    "start_time": "2024-03-08T15:18:24.157Z"
   },
   {
    "duration": 0,
    "start_time": "2024-03-08T15:18:24.158Z"
   },
   {
    "duration": 4,
    "start_time": "2024-03-08T15:21:39.210Z"
   },
   {
    "duration": 72,
    "start_time": "2024-03-08T15:21:43.906Z"
   },
   {
    "duration": 535,
    "start_time": "2024-03-08T15:22:42.597Z"
   },
   {
    "duration": 13,
    "start_time": "2024-03-08T15:23:54.107Z"
   },
   {
    "duration": 146,
    "start_time": "2024-03-08T15:24:12.109Z"
   },
   {
    "duration": 29,
    "start_time": "2024-03-08T15:24:19.698Z"
   },
   {
    "duration": 165,
    "start_time": "2024-03-08T15:25:08.449Z"
   },
   {
    "duration": 170,
    "start_time": "2024-03-08T15:25:25.850Z"
   },
   {
    "duration": 181,
    "start_time": "2024-03-08T15:27:30.052Z"
   },
   {
    "duration": 166,
    "start_time": "2024-03-08T15:27:55.903Z"
   },
   {
    "duration": 173,
    "start_time": "2024-03-08T15:28:01.147Z"
   },
   {
    "duration": 175,
    "start_time": "2024-03-08T15:28:28.633Z"
   },
   {
    "duration": 177,
    "start_time": "2024-03-08T15:28:32.674Z"
   },
   {
    "duration": 153,
    "start_time": "2024-03-08T15:29:04.436Z"
   },
   {
    "duration": 165,
    "start_time": "2024-03-08T15:29:41.960Z"
   },
   {
    "duration": 268,
    "start_time": "2024-03-08T15:29:50.773Z"
   },
   {
    "duration": 71,
    "start_time": "2024-03-08T15:30:50.068Z"
   },
   {
    "duration": 8,
    "start_time": "2024-03-08T15:33:44.702Z"
   },
   {
    "duration": 782,
    "start_time": "2024-03-08T15:36:02.021Z"
   },
   {
    "duration": 805,
    "start_time": "2024-03-08T15:36:24.902Z"
   },
   {
    "duration": 221,
    "start_time": "2024-03-08T15:37:40.784Z"
   },
   {
    "duration": 160,
    "start_time": "2024-03-08T15:38:26.685Z"
   },
   {
    "duration": 878,
    "start_time": "2024-03-08T15:38:46.567Z"
   },
   {
    "duration": 788,
    "start_time": "2024-03-08T15:40:01.841Z"
   },
   {
    "duration": 905,
    "start_time": "2024-03-08T15:40:18.751Z"
   },
   {
    "duration": 897,
    "start_time": "2024-03-08T15:40:25.715Z"
   },
   {
    "duration": 868,
    "start_time": "2024-03-08T15:41:01.576Z"
   },
   {
    "duration": 1021,
    "start_time": "2024-03-08T15:41:06.257Z"
   },
   {
    "duration": 77,
    "start_time": "2024-03-08T15:44:06.439Z"
   },
   {
    "duration": 19,
    "start_time": "2024-03-08T15:45:44.734Z"
   },
   {
    "duration": 5,
    "start_time": "2024-03-08T15:46:15.321Z"
   },
   {
    "duration": 439,
    "start_time": "2024-03-08T15:46:32.748Z"
   },
   {
    "duration": 70,
    "start_time": "2024-03-08T15:47:11.469Z"
   },
   {
    "duration": 3,
    "start_time": "2024-03-08T15:47:29.697Z"
   },
   {
    "duration": 4,
    "start_time": "2024-03-08T15:47:32.757Z"
   },
   {
    "duration": 9,
    "start_time": "2024-03-08T15:47:33.578Z"
   },
   {
    "duration": 7,
    "start_time": "2024-03-08T15:48:10.672Z"
   },
   {
    "duration": 3,
    "start_time": "2024-03-08T15:52:34.765Z"
   },
   {
    "duration": 9,
    "start_time": "2024-03-08T15:52:38.825Z"
   },
   {
    "duration": 33,
    "start_time": "2024-03-08T15:52:45.866Z"
   },
   {
    "duration": 6,
    "start_time": "2024-03-08T15:53:06.428Z"
   },
   {
    "duration": 1560,
    "start_time": "2024-03-08T15:53:07.788Z"
   },
   {
    "duration": 5,
    "start_time": "2024-03-08T15:54:14.175Z"
   },
   {
    "duration": 1502,
    "start_time": "2024-03-08T15:54:16.001Z"
   },
   {
    "duration": 6,
    "start_time": "2024-03-08T15:54:46.773Z"
   },
   {
    "duration": 1474,
    "start_time": "2024-03-08T15:54:48.211Z"
   },
   {
    "duration": 9,
    "start_time": "2024-03-08T15:55:00.580Z"
   },
   {
    "duration": 1510,
    "start_time": "2024-03-08T15:55:02.082Z"
   },
   {
    "duration": 12,
    "start_time": "2024-03-08T15:55:21.025Z"
   },
   {
    "duration": 1508,
    "start_time": "2024-03-08T15:55:22.476Z"
   },
   {
    "duration": 6,
    "start_time": "2024-03-08T15:55:33.941Z"
   },
   {
    "duration": 1478,
    "start_time": "2024-03-08T15:55:35.064Z"
   },
   {
    "duration": 1464,
    "start_time": "2024-03-08T15:55:56.480Z"
   },
   {
    "duration": 1467,
    "start_time": "2024-03-08T15:55:57.946Z"
   },
   {
    "duration": 1489,
    "start_time": "2024-03-08T16:02:36.356Z"
   },
   {
    "duration": 1532,
    "start_time": "2024-03-08T16:03:17.686Z"
   },
   {
    "duration": 1540,
    "start_time": "2024-03-08T16:03:30.559Z"
   },
   {
    "duration": 1435,
    "start_time": "2024-03-08T16:04:07.888Z"
   },
   {
    "duration": 10,
    "start_time": "2024-03-08T16:04:14.430Z"
   },
   {
    "duration": 6,
    "start_time": "2024-03-08T16:05:04.948Z"
   },
   {
    "duration": 1711,
    "start_time": "2024-03-08T16:05:06.477Z"
   },
   {
    "duration": 11,
    "start_time": "2024-03-08T16:06:11.984Z"
   },
   {
    "duration": 1519,
    "start_time": "2024-03-08T16:06:13.080Z"
   },
   {
    "duration": 6,
    "start_time": "2024-03-08T16:08:14.200Z"
   },
   {
    "duration": 1718,
    "start_time": "2024-03-08T16:08:30.472Z"
   },
   {
    "duration": 6,
    "start_time": "2024-03-08T16:10:07.575Z"
   },
   {
    "duration": 1938,
    "start_time": "2024-03-08T16:10:09.052Z"
   },
   {
    "duration": 173,
    "start_time": "2024-03-08T16:10:23.153Z"
   },
   {
    "duration": 1827,
    "start_time": "2024-03-08T16:10:28.962Z"
   },
   {
    "duration": 10,
    "start_time": "2024-03-08T16:13:19.592Z"
   },
   {
    "duration": 7,
    "start_time": "2024-03-08T16:13:25.617Z"
   },
   {
    "duration": 7,
    "start_time": "2024-03-08T16:13:32.019Z"
   },
   {
    "duration": 1879,
    "start_time": "2024-03-08T16:13:33.050Z"
   },
   {
    "duration": 10,
    "start_time": "2024-03-08T16:14:05.492Z"
   },
   {
    "duration": 1864,
    "start_time": "2024-03-08T16:14:06.341Z"
   },
   {
    "duration": 1876,
    "start_time": "2024-03-08T16:14:50.526Z"
   },
   {
    "duration": 1914,
    "start_time": "2024-03-08T16:14:55.168Z"
   },
   {
    "duration": 1504,
    "start_time": "2024-03-08T16:15:32.493Z"
   },
   {
    "duration": 474,
    "start_time": "2024-03-08T16:15:33.999Z"
   },
   {
    "duration": 8,
    "start_time": "2024-03-08T16:15:34.475Z"
   },
   {
    "duration": 120,
    "start_time": "2024-03-08T16:15:34.486Z"
   },
   {
    "duration": 23,
    "start_time": "2024-03-08T16:15:34.607Z"
   },
   {
    "duration": 167,
    "start_time": "2024-03-08T16:15:34.631Z"
   },
   {
    "duration": 48,
    "start_time": "2024-03-08T16:15:34.799Z"
   },
   {
    "duration": 35,
    "start_time": "2024-03-08T16:15:34.848Z"
   },
   {
    "duration": 173,
    "start_time": "2024-03-08T16:15:34.885Z"
   },
   {
    "duration": 157,
    "start_time": "2024-03-08T16:15:35.060Z"
   },
   {
    "duration": 153,
    "start_time": "2024-03-08T16:15:35.220Z"
   },
   {
    "duration": 963,
    "start_time": "2024-03-08T16:15:35.376Z"
   },
   {
    "duration": 877,
    "start_time": "2024-03-08T16:15:36.341Z"
   },
   {
    "duration": 946,
    "start_time": "2024-03-08T16:15:37.220Z"
   },
   {
    "duration": 3,
    "start_time": "2024-03-08T16:15:38.168Z"
   },
   {
    "duration": 16,
    "start_time": "2024-03-08T16:15:38.172Z"
   },
   {
    "duration": 302,
    "start_time": "2024-03-08T16:15:38.190Z"
   },
   {
    "duration": 5,
    "start_time": "2024-03-08T16:15:38.495Z"
   },
   {
    "duration": 81,
    "start_time": "2024-03-08T16:15:38.502Z"
   },
   {
    "duration": 30,
    "start_time": "2024-03-08T16:15:38.585Z"
   },
   {
    "duration": 5,
    "start_time": "2024-03-08T16:15:38.684Z"
   },
   {
    "duration": 21,
    "start_time": "2024-03-08T16:15:38.691Z"
   },
   {
    "duration": 1933,
    "start_time": "2024-03-08T16:15:38.714Z"
   },
   {
    "duration": 1933,
    "start_time": "2024-03-08T16:15:40.648Z"
   },
   {
    "duration": 1934,
    "start_time": "2024-03-08T16:15:42.583Z"
   },
   {
    "duration": 81,
    "start_time": "2024-03-08T16:30:49.827Z"
   },
   {
    "duration": 4,
    "start_time": "2024-03-08T16:31:01.503Z"
   },
   {
    "duration": 160,
    "start_time": "2024-03-08T16:31:15.491Z"
   },
   {
    "duration": 1471,
    "start_time": "2024-03-08T16:31:52.378Z"
   },
   {
    "duration": 450,
    "start_time": "2024-03-08T16:31:53.852Z"
   },
   {
    "duration": 2,
    "start_time": "2024-03-08T16:31:54.304Z"
   },
   {
    "duration": 4,
    "start_time": "2024-03-08T16:31:54.308Z"
   },
   {
    "duration": 178,
    "start_time": "2024-03-08T16:31:54.313Z"
   },
   {
    "duration": 0,
    "start_time": "2024-03-08T16:31:54.493Z"
   },
   {
    "duration": 0,
    "start_time": "2024-03-08T16:31:54.494Z"
   },
   {
    "duration": 0,
    "start_time": "2024-03-08T16:31:54.495Z"
   },
   {
    "duration": 0,
    "start_time": "2024-03-08T16:31:54.496Z"
   },
   {
    "duration": 0,
    "start_time": "2024-03-08T16:31:54.498Z"
   },
   {
    "duration": 0,
    "start_time": "2024-03-08T16:31:54.498Z"
   },
   {
    "duration": 0,
    "start_time": "2024-03-08T16:31:54.500Z"
   },
   {
    "duration": 0,
    "start_time": "2024-03-08T16:31:54.500Z"
   },
   {
    "duration": 0,
    "start_time": "2024-03-08T16:31:54.501Z"
   },
   {
    "duration": 0,
    "start_time": "2024-03-08T16:31:54.502Z"
   },
   {
    "duration": 0,
    "start_time": "2024-03-08T16:31:54.503Z"
   },
   {
    "duration": 0,
    "start_time": "2024-03-08T16:31:54.504Z"
   },
   {
    "duration": 0,
    "start_time": "2024-03-08T16:31:54.505Z"
   },
   {
    "duration": 0,
    "start_time": "2024-03-08T16:31:54.506Z"
   },
   {
    "duration": 0,
    "start_time": "2024-03-08T16:31:54.507Z"
   },
   {
    "duration": 0,
    "start_time": "2024-03-08T16:31:54.508Z"
   },
   {
    "duration": 0,
    "start_time": "2024-03-08T16:31:54.509Z"
   },
   {
    "duration": 0,
    "start_time": "2024-03-08T16:31:54.511Z"
   },
   {
    "duration": 0,
    "start_time": "2024-03-08T16:31:54.512Z"
   },
   {
    "duration": 0,
    "start_time": "2024-03-08T16:31:54.513Z"
   },
   {
    "duration": 1,
    "start_time": "2024-03-08T16:31:54.513Z"
   },
   {
    "duration": 0,
    "start_time": "2024-03-08T16:31:54.515Z"
   },
   {
    "duration": 0,
    "start_time": "2024-03-08T16:31:54.516Z"
   },
   {
    "duration": 0,
    "start_time": "2024-03-08T16:31:54.517Z"
   },
   {
    "duration": 4,
    "start_time": "2024-03-08T16:33:07.634Z"
   },
   {
    "duration": 55,
    "start_time": "2024-03-08T16:33:10.099Z"
   },
   {
    "duration": 65,
    "start_time": "2024-03-08T16:33:40.300Z"
   },
   {
    "duration": 74,
    "start_time": "2024-03-08T16:34:08.352Z"
   },
   {
    "duration": 3,
    "start_time": "2024-03-08T16:34:57.376Z"
   },
   {
    "duration": 87,
    "start_time": "2024-03-08T16:34:58.815Z"
   },
   {
    "duration": 95,
    "start_time": "2024-03-08T16:35:01.889Z"
   },
   {
    "duration": 104,
    "start_time": "2024-03-08T16:35:07.148Z"
   },
   {
    "duration": 4,
    "start_time": "2024-03-08T16:35:35.450Z"
   },
   {
    "duration": 9,
    "start_time": "2024-03-08T16:35:36.214Z"
   },
   {
    "duration": 94,
    "start_time": "2024-03-08T16:35:43.940Z"
   },
   {
    "duration": 92,
    "start_time": "2024-03-08T16:36:20.879Z"
   },
   {
    "duration": 89,
    "start_time": "2024-03-08T16:36:46.619Z"
   },
   {
    "duration": 107,
    "start_time": "2024-03-08T16:37:01.309Z"
   },
   {
    "duration": 47,
    "start_time": "2024-03-08T16:37:38.406Z"
   },
   {
    "duration": 16,
    "start_time": "2024-03-08T16:37:39.530Z"
   },
   {
    "duration": 1454,
    "start_time": "2024-03-08T16:37:54.613Z"
   },
   {
    "duration": 427,
    "start_time": "2024-03-08T16:37:56.069Z"
   },
   {
    "duration": 3,
    "start_time": "2024-03-08T16:37:56.497Z"
   },
   {
    "duration": 4,
    "start_time": "2024-03-08T16:37:56.502Z"
   },
   {
    "duration": 113,
    "start_time": "2024-03-08T16:37:56.507Z"
   },
   {
    "duration": 99,
    "start_time": "2024-03-08T16:37:56.622Z"
   },
   {
    "duration": 101,
    "start_time": "2024-03-08T16:37:56.722Z"
   },
   {
    "duration": 57,
    "start_time": "2024-03-08T16:37:56.825Z"
   },
   {
    "duration": 13,
    "start_time": "2024-03-08T16:37:56.884Z"
   },
   {
    "duration": 168,
    "start_time": "2024-03-08T16:37:56.900Z"
   },
   {
    "duration": 152,
    "start_time": "2024-03-08T16:37:57.070Z"
   },
   {
    "duration": 139,
    "start_time": "2024-03-08T16:37:57.225Z"
   },
   {
    "duration": 857,
    "start_time": "2024-03-08T16:37:57.366Z"
   },
   {
    "duration": 814,
    "start_time": "2024-03-08T16:37:58.224Z"
   },
   {
    "duration": 924,
    "start_time": "2024-03-08T16:37:59.039Z"
   },
   {
    "duration": 3,
    "start_time": "2024-03-08T16:37:59.965Z"
   },
   {
    "duration": 16,
    "start_time": "2024-03-08T16:37:59.970Z"
   },
   {
    "duration": 305,
    "start_time": "2024-03-08T16:37:59.988Z"
   },
   {
    "duration": 89,
    "start_time": "2024-03-08T16:38:00.295Z"
   },
   {
    "duration": 124,
    "start_time": "2024-03-08T16:38:00.386Z"
   },
   {
    "duration": 23,
    "start_time": "2024-03-08T16:38:00.511Z"
   },
   {
    "duration": 36,
    "start_time": "2024-03-08T16:38:00.536Z"
   },
   {
    "duration": 33,
    "start_time": "2024-03-08T16:38:00.574Z"
   },
   {
    "duration": 1883,
    "start_time": "2024-03-08T16:38:00.608Z"
   },
   {
    "duration": 1828,
    "start_time": "2024-03-08T16:38:02.493Z"
   },
   {
    "duration": 1799,
    "start_time": "2024-03-08T16:38:04.323Z"
   },
   {
    "duration": 2045,
    "start_time": "2024-03-08T23:51:54.293Z"
   },
   {
    "duration": 654,
    "start_time": "2024-03-08T23:51:56.340Z"
   },
   {
    "duration": 4,
    "start_time": "2024-03-08T23:51:56.995Z"
   },
   {
    "duration": 8,
    "start_time": "2024-03-08T23:51:57.001Z"
   },
   {
    "duration": 77,
    "start_time": "2024-03-08T23:51:57.010Z"
   },
   {
    "duration": 82,
    "start_time": "2024-03-08T23:51:57.089Z"
   },
   {
    "duration": 83,
    "start_time": "2024-03-08T23:51:57.172Z"
   },
   {
    "duration": 33,
    "start_time": "2024-03-08T23:51:57.257Z"
   },
   {
    "duration": 13,
    "start_time": "2024-03-08T23:51:57.302Z"
   },
   {
    "duration": 126,
    "start_time": "2024-03-08T23:51:57.317Z"
   },
   {
    "duration": 112,
    "start_time": "2024-03-08T23:51:57.444Z"
   },
   {
    "duration": 107,
    "start_time": "2024-03-08T23:51:57.557Z"
   },
   {
    "duration": 652,
    "start_time": "2024-03-08T23:51:57.665Z"
   },
   {
    "duration": 582,
    "start_time": "2024-03-08T23:51:58.319Z"
   },
   {
    "duration": 668,
    "start_time": "2024-03-08T23:51:58.903Z"
   },
   {
    "duration": 2,
    "start_time": "2024-03-08T23:51:59.573Z"
   },
   {
    "duration": 14,
    "start_time": "2024-03-08T23:51:59.577Z"
   },
   {
    "duration": 309,
    "start_time": "2024-03-08T23:51:59.593Z"
   },
   {
    "duration": 4,
    "start_time": "2024-03-08T23:51:59.907Z"
   },
   {
    "duration": 41,
    "start_time": "2024-03-08T23:52:00.002Z"
   },
   {
    "duration": 48,
    "start_time": "2024-03-08T23:52:00.045Z"
   },
   {
    "duration": 59,
    "start_time": "2024-03-08T23:52:00.094Z"
   },
   {
    "duration": 60,
    "start_time": "2024-03-08T23:52:00.155Z"
   },
   {
    "duration": 1432,
    "start_time": "2024-03-08T23:52:00.216Z"
   },
   {
    "duration": 1291,
    "start_time": "2024-03-08T23:52:01.649Z"
   },
   {
    "duration": 1308,
    "start_time": "2024-03-08T23:52:02.941Z"
   },
   {
    "duration": 3219,
    "start_time": "2024-03-08T23:52:32.417Z"
   },
   {
    "duration": 1249,
    "start_time": "2024-03-08T23:52:51.325Z"
   },
   {
    "duration": 1759,
    "start_time": "2024-06-13T08:41:46.200Z"
   },
   {
    "duration": 692,
    "start_time": "2024-06-13T08:41:47.961Z"
   },
   {
    "duration": 3,
    "start_time": "2024-06-13T08:41:48.655Z"
   },
   {
    "duration": 25,
    "start_time": "2024-06-13T08:41:48.660Z"
   },
   {
    "duration": 114,
    "start_time": "2024-06-13T08:41:48.688Z"
   },
   {
    "duration": 106,
    "start_time": "2024-06-13T08:41:48.804Z"
   },
   {
    "duration": 108,
    "start_time": "2024-06-13T08:41:48.912Z"
   },
   {
    "duration": 59,
    "start_time": "2024-06-13T08:41:49.023Z"
   },
   {
    "duration": 14,
    "start_time": "2024-06-13T08:41:49.084Z"
   },
   {
    "duration": 181,
    "start_time": "2024-06-13T08:41:49.101Z"
   },
   {
    "duration": 154,
    "start_time": "2024-06-13T08:41:49.284Z"
   },
   {
    "duration": 151,
    "start_time": "2024-06-13T08:41:49.440Z"
   },
   {
    "duration": 924,
    "start_time": "2024-06-13T08:41:49.593Z"
   },
   {
    "duration": 877,
    "start_time": "2024-06-13T08:41:50.521Z"
   },
   {
    "duration": 947,
    "start_time": "2024-06-13T08:41:51.400Z"
   },
   {
    "duration": 3,
    "start_time": "2024-06-13T08:41:52.349Z"
   },
   {
    "duration": 25,
    "start_time": "2024-06-13T08:41:52.353Z"
   },
   {
    "duration": 404,
    "start_time": "2024-06-13T08:41:52.379Z"
   },
   {
    "duration": 3,
    "start_time": "2024-06-13T08:41:52.882Z"
   },
   {
    "duration": 43,
    "start_time": "2024-06-13T08:41:52.887Z"
   },
   {
    "duration": 39,
    "start_time": "2024-06-13T08:41:52.931Z"
   },
   {
    "duration": 28,
    "start_time": "2024-06-13T08:41:52.972Z"
   },
   {
    "duration": 9,
    "start_time": "2024-06-13T08:41:53.002Z"
   },
   {
    "duration": 1940,
    "start_time": "2024-06-13T08:41:53.012Z"
   },
   {
    "duration": 1863,
    "start_time": "2024-06-13T08:41:54.954Z"
   },
   {
    "duration": 1863,
    "start_time": "2024-06-13T08:41:56.819Z"
   },
   {
    "duration": 1578,
    "start_time": "2024-06-13T08:41:58.684Z"
   }
  ],
  "kernelspec": {
   "display_name": "Python 3 (ipykernel)",
   "language": "python",
   "name": "python3"
  },
  "language_info": {
   "codemirror_mode": {
    "name": "ipython",
    "version": 3
   },
   "file_extension": ".py",
   "mimetype": "text/x-python",
   "name": "python",
   "nbconvert_exporter": "python",
   "pygments_lexer": "ipython3",
   "version": "3.11.5"
  },
  "toc": {
   "base_numbering": 1,
   "nav_menu": {},
   "number_sections": true,
   "sideBar": true,
   "skip_h1_title": true,
   "title_cell": "Table of Contents",
   "title_sidebar": "Contents",
   "toc_cell": false,
   "toc_position": {},
   "toc_section_display": true,
   "toc_window_display": true
  }
 },
 "nbformat": 4,
 "nbformat_minor": 2
}
