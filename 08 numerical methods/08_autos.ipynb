{
 "cells": [
  {
   "cell_type": "markdown",
   "metadata": {},
   "source": [
    "# Определение стоимости автомобилей"
   ]
  },
  {
   "cell_type": "markdown",
   "metadata": {},
   "source": [
    "Сервис по продаже автомобилей с пробегом «Не бит, не крашен» разрабатывает приложение для привлечения новых клиентов. В нём можно быстро узнать рыночную стоимость своего автомобиля. В вашем распоряжении исторические данные: технические характеристики, комплектации и цены автомобилей. Вам нужно построить модель для определения стоимости. \n",
    "\n",
    "Заказчику важны:\n",
    "\n",
    "- качество предсказания;\n",
    "- скорость предсказания;\n",
    "- время обучения."
   ]
  },
  {
   "cell_type": "markdown",
   "metadata": {},
   "source": [
    "- Для оценки качества моделей применяйте метрику RMSE.\n",
    "- Значение метрики RMSE должно быть меньше 2500."
   ]
  },
  {
   "cell_type": "markdown",
   "metadata": {},
   "source": [
    "**Описание данных**\n",
    "\n",
    "Признаки\n",
    "- DateCrawled — дата скачивания анкеты из базы\n",
    "- VehicleType — тип автомобильного кузова\n",
    "- RegistrationYear — год регистрации автомобиля\n",
    "- Gearbox — тип коробки передач\n",
    "- Power — мощность (л. с.)\n",
    "- Model — модель автомобиля\n",
    "- Kilometer — пробег (км)\n",
    "- RegistrationMonth — месяц регистрации автомобиля\n",
    "- FuelType — тип топлива\n",
    "- Brand — марка автомобиля\n",
    "- Repaired — была машина в ремонте или нет\n",
    "- DateCreated — дата создания анкеты\n",
    "- NumberOfPictures — количество фотографий автомобиля\n",
    "- PostalCode — почтовый индекс владельца анкеты (пользователя)\n",
    "- LastSeen — дата последней активности пользователя\n",
    "\n",
    "Целевой признак\n",
    "- Price — цена (евро)"
   ]
  },
  {
   "cell_type": "markdown",
   "metadata": {},
   "source": [
    "## Подготовка данных"
   ]
  },
  {
   "cell_type": "code",
   "execution_count": 1,
   "metadata": {},
   "outputs": [
    {
     "data": {
      "text/html": [
       "<style>.container { width:90% !important; }</style>"
      ],
      "text/plain": [
       "<IPython.core.display.HTML object>"
      ]
     },
     "metadata": {},
     "output_type": "display_data"
    }
   ],
   "source": [
    "import pandas as pd\n",
    "\n",
    "import matplotlib.pyplot as plt\n",
    "import numpy as np\n",
    "\n",
    "from sklearn.model_selection import train_test_split\n",
    "from numpy.random import RandomState\n",
    "from sklearn.preprocessing import OneHotEncoder, StandardScaler\n",
    "\n",
    "from sklearn.metrics import mean_squared_error\n",
    "\n",
    "from lightgbm import LGBMRegressor \n",
    "from sklearn.ensemble import RandomForestRegressor\n",
    "from catboost import CatBoostRegressor\n",
    "\n",
    "import time\n",
    "import warnings\n",
    "warnings.filterwarnings(\"ignore\")\n",
    "\n",
    "from IPython.core.display import display, HTML\n",
    "display(HTML(\"<style>.container { width:90% !important; }</style>\"))"
   ]
  },
  {
   "cell_type": "code",
   "execution_count": 2,
   "metadata": {},
   "outputs": [],
   "source": [
    "data = pd.read_csv('/datasets/autos.csv')"
   ]
  },
  {
   "cell_type": "code",
   "execution_count": 3,
   "metadata": {},
   "outputs": [
    {
     "data": {
      "text/html": [
       "<div>\n",
       "<style scoped>\n",
       "    .dataframe tbody tr th:only-of-type {\n",
       "        vertical-align: middle;\n",
       "    }\n",
       "\n",
       "    .dataframe tbody tr th {\n",
       "        vertical-align: top;\n",
       "    }\n",
       "\n",
       "    .dataframe thead th {\n",
       "        text-align: right;\n",
       "    }\n",
       "</style>\n",
       "<table border=\"1\" class=\"dataframe\">\n",
       "  <thead>\n",
       "    <tr style=\"text-align: right;\">\n",
       "      <th></th>\n",
       "      <th>DateCrawled</th>\n",
       "      <th>Price</th>\n",
       "      <th>VehicleType</th>\n",
       "      <th>RegistrationYear</th>\n",
       "      <th>Gearbox</th>\n",
       "      <th>Power</th>\n",
       "      <th>Model</th>\n",
       "      <th>Kilometer</th>\n",
       "      <th>RegistrationMonth</th>\n",
       "      <th>FuelType</th>\n",
       "      <th>Brand</th>\n",
       "      <th>Repaired</th>\n",
       "      <th>DateCreated</th>\n",
       "      <th>NumberOfPictures</th>\n",
       "      <th>PostalCode</th>\n",
       "      <th>LastSeen</th>\n",
       "    </tr>\n",
       "  </thead>\n",
       "  <tbody>\n",
       "    <tr>\n",
       "      <th>0</th>\n",
       "      <td>2016-03-24 11:52:17</td>\n",
       "      <td>480</td>\n",
       "      <td>NaN</td>\n",
       "      <td>1993</td>\n",
       "      <td>manual</td>\n",
       "      <td>0</td>\n",
       "      <td>golf</td>\n",
       "      <td>150000</td>\n",
       "      <td>0</td>\n",
       "      <td>petrol</td>\n",
       "      <td>volkswagen</td>\n",
       "      <td>NaN</td>\n",
       "      <td>2016-03-24 00:00:00</td>\n",
       "      <td>0</td>\n",
       "      <td>70435</td>\n",
       "      <td>2016-04-07 03:16:57</td>\n",
       "    </tr>\n",
       "    <tr>\n",
       "      <th>1</th>\n",
       "      <td>2016-03-24 10:58:45</td>\n",
       "      <td>18300</td>\n",
       "      <td>coupe</td>\n",
       "      <td>2011</td>\n",
       "      <td>manual</td>\n",
       "      <td>190</td>\n",
       "      <td>NaN</td>\n",
       "      <td>125000</td>\n",
       "      <td>5</td>\n",
       "      <td>gasoline</td>\n",
       "      <td>audi</td>\n",
       "      <td>yes</td>\n",
       "      <td>2016-03-24 00:00:00</td>\n",
       "      <td>0</td>\n",
       "      <td>66954</td>\n",
       "      <td>2016-04-07 01:46:50</td>\n",
       "    </tr>\n",
       "    <tr>\n",
       "      <th>2</th>\n",
       "      <td>2016-03-14 12:52:21</td>\n",
       "      <td>9800</td>\n",
       "      <td>suv</td>\n",
       "      <td>2004</td>\n",
       "      <td>auto</td>\n",
       "      <td>163</td>\n",
       "      <td>grand</td>\n",
       "      <td>125000</td>\n",
       "      <td>8</td>\n",
       "      <td>gasoline</td>\n",
       "      <td>jeep</td>\n",
       "      <td>NaN</td>\n",
       "      <td>2016-03-14 00:00:00</td>\n",
       "      <td>0</td>\n",
       "      <td>90480</td>\n",
       "      <td>2016-04-05 12:47:46</td>\n",
       "    </tr>\n",
       "    <tr>\n",
       "      <th>3</th>\n",
       "      <td>2016-03-17 16:54:04</td>\n",
       "      <td>1500</td>\n",
       "      <td>small</td>\n",
       "      <td>2001</td>\n",
       "      <td>manual</td>\n",
       "      <td>75</td>\n",
       "      <td>golf</td>\n",
       "      <td>150000</td>\n",
       "      <td>6</td>\n",
       "      <td>petrol</td>\n",
       "      <td>volkswagen</td>\n",
       "      <td>no</td>\n",
       "      <td>2016-03-17 00:00:00</td>\n",
       "      <td>0</td>\n",
       "      <td>91074</td>\n",
       "      <td>2016-03-17 17:40:17</td>\n",
       "    </tr>\n",
       "    <tr>\n",
       "      <th>4</th>\n",
       "      <td>2016-03-31 17:25:20</td>\n",
       "      <td>3600</td>\n",
       "      <td>small</td>\n",
       "      <td>2008</td>\n",
       "      <td>manual</td>\n",
       "      <td>69</td>\n",
       "      <td>fabia</td>\n",
       "      <td>90000</td>\n",
       "      <td>7</td>\n",
       "      <td>gasoline</td>\n",
       "      <td>skoda</td>\n",
       "      <td>no</td>\n",
       "      <td>2016-03-31 00:00:00</td>\n",
       "      <td>0</td>\n",
       "      <td>60437</td>\n",
       "      <td>2016-04-06 10:17:21</td>\n",
       "    </tr>\n",
       "  </tbody>\n",
       "</table>\n",
       "</div>"
      ],
      "text/plain": [
       "           DateCrawled  Price VehicleType  RegistrationYear Gearbox  Power  \\\n",
       "0  2016-03-24 11:52:17    480         NaN              1993  manual      0   \n",
       "1  2016-03-24 10:58:45  18300       coupe              2011  manual    190   \n",
       "2  2016-03-14 12:52:21   9800         suv              2004    auto    163   \n",
       "3  2016-03-17 16:54:04   1500       small              2001  manual     75   \n",
       "4  2016-03-31 17:25:20   3600       small              2008  manual     69   \n",
       "\n",
       "   Model  Kilometer  RegistrationMonth  FuelType       Brand Repaired  \\\n",
       "0   golf     150000                  0    petrol  volkswagen      NaN   \n",
       "1    NaN     125000                  5  gasoline        audi      yes   \n",
       "2  grand     125000                  8  gasoline        jeep      NaN   \n",
       "3   golf     150000                  6    petrol  volkswagen       no   \n",
       "4  fabia      90000                  7  gasoline       skoda       no   \n",
       "\n",
       "           DateCreated  NumberOfPictures  PostalCode             LastSeen  \n",
       "0  2016-03-24 00:00:00                 0       70435  2016-04-07 03:16:57  \n",
       "1  2016-03-24 00:00:00                 0       66954  2016-04-07 01:46:50  \n",
       "2  2016-03-14 00:00:00                 0       90480  2016-04-05 12:47:46  \n",
       "3  2016-03-17 00:00:00                 0       91074  2016-03-17 17:40:17  \n",
       "4  2016-03-31 00:00:00                 0       60437  2016-04-06 10:17:21  "
      ]
     },
     "execution_count": 3,
     "metadata": {},
     "output_type": "execute_result"
    }
   ],
   "source": [
    "data.head()"
   ]
  },
  {
   "cell_type": "code",
   "execution_count": 4,
   "metadata": {},
   "outputs": [
    {
     "name": "stdout",
     "output_type": "stream",
     "text": [
      "<class 'pandas.core.frame.DataFrame'>\n",
      "RangeIndex: 354369 entries, 0 to 354368\n",
      "Data columns (total 16 columns):\n",
      " #   Column             Non-Null Count   Dtype \n",
      "---  ------             --------------   ----- \n",
      " 0   DateCrawled        354369 non-null  object\n",
      " 1   Price              354369 non-null  int64 \n",
      " 2   VehicleType        316879 non-null  object\n",
      " 3   RegistrationYear   354369 non-null  int64 \n",
      " 4   Gearbox            334536 non-null  object\n",
      " 5   Power              354369 non-null  int64 \n",
      " 6   Model              334664 non-null  object\n",
      " 7   Kilometer          354369 non-null  int64 \n",
      " 8   RegistrationMonth  354369 non-null  int64 \n",
      " 9   FuelType           321474 non-null  object\n",
      " 10  Brand              354369 non-null  object\n",
      " 11  Repaired           283215 non-null  object\n",
      " 12  DateCreated        354369 non-null  object\n",
      " 13  NumberOfPictures   354369 non-null  int64 \n",
      " 14  PostalCode         354369 non-null  int64 \n",
      " 15  LastSeen           354369 non-null  object\n",
      "dtypes: int64(7), object(9)\n",
      "memory usage: 43.3+ MB\n"
     ]
    }
   ],
   "source": [
    "data.info()"
   ]
  },
  {
   "cell_type": "code",
   "execution_count": 5,
   "metadata": {},
   "outputs": [
    {
     "data": {
      "text/html": [
       "<div>\n",
       "<style scoped>\n",
       "    .dataframe tbody tr th:only-of-type {\n",
       "        vertical-align: middle;\n",
       "    }\n",
       "\n",
       "    .dataframe tbody tr th {\n",
       "        vertical-align: top;\n",
       "    }\n",
       "\n",
       "    .dataframe thead th {\n",
       "        text-align: right;\n",
       "    }\n",
       "</style>\n",
       "<table border=\"1\" class=\"dataframe\">\n",
       "  <thead>\n",
       "    <tr style=\"text-align: right;\">\n",
       "      <th></th>\n",
       "      <th>Price</th>\n",
       "      <th>RegistrationYear</th>\n",
       "      <th>Power</th>\n",
       "      <th>Kilometer</th>\n",
       "      <th>RegistrationMonth</th>\n",
       "      <th>NumberOfPictures</th>\n",
       "      <th>PostalCode</th>\n",
       "    </tr>\n",
       "  </thead>\n",
       "  <tbody>\n",
       "    <tr>\n",
       "      <th>count</th>\n",
       "      <td>354369.000000</td>\n",
       "      <td>354369.000000</td>\n",
       "      <td>354369.000000</td>\n",
       "      <td>354369.000000</td>\n",
       "      <td>354369.000000</td>\n",
       "      <td>354369.0</td>\n",
       "      <td>354369.000000</td>\n",
       "    </tr>\n",
       "    <tr>\n",
       "      <th>mean</th>\n",
       "      <td>4416.656776</td>\n",
       "      <td>2004.234448</td>\n",
       "      <td>110.094337</td>\n",
       "      <td>128211.172535</td>\n",
       "      <td>5.714645</td>\n",
       "      <td>0.0</td>\n",
       "      <td>50508.689087</td>\n",
       "    </tr>\n",
       "    <tr>\n",
       "      <th>std</th>\n",
       "      <td>4514.158514</td>\n",
       "      <td>90.227958</td>\n",
       "      <td>189.850405</td>\n",
       "      <td>37905.341530</td>\n",
       "      <td>3.726421</td>\n",
       "      <td>0.0</td>\n",
       "      <td>25783.096248</td>\n",
       "    </tr>\n",
       "    <tr>\n",
       "      <th>min</th>\n",
       "      <td>0.000000</td>\n",
       "      <td>1000.000000</td>\n",
       "      <td>0.000000</td>\n",
       "      <td>5000.000000</td>\n",
       "      <td>0.000000</td>\n",
       "      <td>0.0</td>\n",
       "      <td>1067.000000</td>\n",
       "    </tr>\n",
       "    <tr>\n",
       "      <th>25%</th>\n",
       "      <td>1050.000000</td>\n",
       "      <td>1999.000000</td>\n",
       "      <td>69.000000</td>\n",
       "      <td>125000.000000</td>\n",
       "      <td>3.000000</td>\n",
       "      <td>0.0</td>\n",
       "      <td>30165.000000</td>\n",
       "    </tr>\n",
       "    <tr>\n",
       "      <th>50%</th>\n",
       "      <td>2700.000000</td>\n",
       "      <td>2003.000000</td>\n",
       "      <td>105.000000</td>\n",
       "      <td>150000.000000</td>\n",
       "      <td>6.000000</td>\n",
       "      <td>0.0</td>\n",
       "      <td>49413.000000</td>\n",
       "    </tr>\n",
       "    <tr>\n",
       "      <th>75%</th>\n",
       "      <td>6400.000000</td>\n",
       "      <td>2008.000000</td>\n",
       "      <td>143.000000</td>\n",
       "      <td>150000.000000</td>\n",
       "      <td>9.000000</td>\n",
       "      <td>0.0</td>\n",
       "      <td>71083.000000</td>\n",
       "    </tr>\n",
       "    <tr>\n",
       "      <th>max</th>\n",
       "      <td>20000.000000</td>\n",
       "      <td>9999.000000</td>\n",
       "      <td>20000.000000</td>\n",
       "      <td>150000.000000</td>\n",
       "      <td>12.000000</td>\n",
       "      <td>0.0</td>\n",
       "      <td>99998.000000</td>\n",
       "    </tr>\n",
       "  </tbody>\n",
       "</table>\n",
       "</div>"
      ],
      "text/plain": [
       "               Price  RegistrationYear          Power      Kilometer  \\\n",
       "count  354369.000000     354369.000000  354369.000000  354369.000000   \n",
       "mean     4416.656776       2004.234448     110.094337  128211.172535   \n",
       "std      4514.158514         90.227958     189.850405   37905.341530   \n",
       "min         0.000000       1000.000000       0.000000    5000.000000   \n",
       "25%      1050.000000       1999.000000      69.000000  125000.000000   \n",
       "50%      2700.000000       2003.000000     105.000000  150000.000000   \n",
       "75%      6400.000000       2008.000000     143.000000  150000.000000   \n",
       "max     20000.000000       9999.000000   20000.000000  150000.000000   \n",
       "\n",
       "       RegistrationMonth  NumberOfPictures     PostalCode  \n",
       "count      354369.000000          354369.0  354369.000000  \n",
       "mean            5.714645               0.0   50508.689087  \n",
       "std             3.726421               0.0   25783.096248  \n",
       "min             0.000000               0.0    1067.000000  \n",
       "25%             3.000000               0.0   30165.000000  \n",
       "50%             6.000000               0.0   49413.000000  \n",
       "75%             9.000000               0.0   71083.000000  \n",
       "max            12.000000               0.0   99998.000000  "
      ]
     },
     "execution_count": 5,
     "metadata": {},
     "output_type": "execute_result"
    }
   ],
   "source": [
    "data.describe()"
   ]
  },
  {
   "cell_type": "markdown",
   "metadata": {},
   "source": [
    "В столбце о стоимости автомобиля минимальное значение 0, удалим и посмотрим аномалии. <br>\n",
    "Странными выглядят данные о годе регистрации автомобиля. <br>\n",
    "Данные о месяце регистрации автомобиля, количестве фотографий и почтовый индекс не являются информативными."
   ]
  },
  {
   "cell_type": "markdown",
   "metadata": {},
   "source": [
    "**Дубликаты**"
   ]
  },
  {
   "cell_type": "code",
   "execution_count": 6,
   "metadata": {},
   "outputs": [
    {
     "data": {
      "text/plain": [
       "4"
      ]
     },
     "execution_count": 6,
     "metadata": {},
     "output_type": "execute_result"
    }
   ],
   "source": [
    "data.duplicated().sum() #посмотрим явные дубликаты и удалим их"
   ]
  },
  {
   "cell_type": "code",
   "execution_count": 7,
   "metadata": {},
   "outputs": [],
   "source": [
    "data.drop_duplicates(inplace=True)"
   ]
  },
  {
   "cell_type": "markdown",
   "metadata": {},
   "source": [
    "**Пропуски**"
   ]
  },
  {
   "cell_type": "code",
   "execution_count": 8,
   "metadata": {},
   "outputs": [
    {
     "data": {
      "text/plain": [
       "DateCrawled          0.00\n",
       "Price                0.00\n",
       "VehicleType          0.11\n",
       "RegistrationYear     0.00\n",
       "Gearbox              0.06\n",
       "Power                0.00\n",
       "Model                0.06\n",
       "Kilometer            0.00\n",
       "RegistrationMonth    0.00\n",
       "FuelType             0.09\n",
       "Brand                0.00\n",
       "Repaired             0.20\n",
       "DateCreated          0.00\n",
       "NumberOfPictures     0.00\n",
       "PostalCode           0.00\n",
       "LastSeen             0.00\n",
       "dtype: float64"
      ]
     },
     "execution_count": 8,
     "metadata": {},
     "output_type": "execute_result"
    }
   ],
   "source": [
    "data.isna().mean().round(2) #пропуски в процентном соотношении"
   ]
  },
  {
   "cell_type": "markdown",
   "metadata": {},
   "source": [
    "Отсутствующие данные:\n",
    "\n",
    "- 11% тип автомобильного кузова\n",
    "- 6% тип коробки передач\n",
    "- 6% модель автомобиля\n",
    "- 9% тип топлива\n",
    "- 20% была ли машина в ремонте \n",
    "\n",
    "Заполним их новым значением \"unknown\""
   ]
  },
  {
   "cell_type": "markdown",
   "metadata": {},
   "source": [
    "Эти данные не содержат информацию о технических характеристиках и комплектации, которые могли бы влиять на стоимость автомобиля:\n",
    "- DateCrawled — дата скачивания анкеты из базы\n",
    "- RegistrationMonth — месяц регистрации автомобиля\n",
    "- DateCreated — дата создания анкеты\n",
    "- NumberOfPictures — количество фотографий автомобиля\n",
    "- PostalCode — почтовый индекс владельца анкеты (пользователя)\n",
    "- LastSeen — дата последней активности пользователя\n",
    "\n",
    "Удалим их"
   ]
  },
  {
   "cell_type": "code",
   "execution_count": 9,
   "metadata": {},
   "outputs": [],
   "source": [
    "data = data.drop(columns = ['DateCrawled','RegistrationMonth','DateCreated','PostalCode','LastSeen','NumberOfPictures'])"
   ]
  },
  {
   "cell_type": "code",
   "execution_count": 10,
   "metadata": {},
   "outputs": [],
   "source": [
    "data.rename(columns=str. lower, inplace=True) #приведем к нижнему регистру названия столбцов"
   ]
  },
  {
   "cell_type": "code",
   "execution_count": 11,
   "metadata": {},
   "outputs": [],
   "source": [
    "data.rename(columns = {'vehicletype':'vehicle_type', 'registrationyear':'registration_year',\n",
    "                       'fueltype':'fuel_type'}, inplace = True) \n",
    "#переименуем отдельные столбцы"
   ]
  },
  {
   "cell_type": "code",
   "execution_count": 12,
   "metadata": {},
   "outputs": [
    {
     "data": {
      "text/html": [
       "<div>\n",
       "<style scoped>\n",
       "    .dataframe tbody tr th:only-of-type {\n",
       "        vertical-align: middle;\n",
       "    }\n",
       "\n",
       "    .dataframe tbody tr th {\n",
       "        vertical-align: top;\n",
       "    }\n",
       "\n",
       "    .dataframe thead th {\n",
       "        text-align: right;\n",
       "    }\n",
       "</style>\n",
       "<table border=\"1\" class=\"dataframe\">\n",
       "  <thead>\n",
       "    <tr style=\"text-align: right;\">\n",
       "      <th></th>\n",
       "      <th>price</th>\n",
       "      <th>vehicle_type</th>\n",
       "      <th>registration_year</th>\n",
       "      <th>gearbox</th>\n",
       "      <th>power</th>\n",
       "      <th>model</th>\n",
       "      <th>kilometer</th>\n",
       "      <th>fuel_type</th>\n",
       "      <th>brand</th>\n",
       "      <th>repaired</th>\n",
       "    </tr>\n",
       "  </thead>\n",
       "  <tbody>\n",
       "    <tr>\n",
       "      <th>354364</th>\n",
       "      <td>0</td>\n",
       "      <td>NaN</td>\n",
       "      <td>2005</td>\n",
       "      <td>manual</td>\n",
       "      <td>0</td>\n",
       "      <td>colt</td>\n",
       "      <td>150000</td>\n",
       "      <td>petrol</td>\n",
       "      <td>mitsubishi</td>\n",
       "      <td>yes</td>\n",
       "    </tr>\n",
       "    <tr>\n",
       "      <th>354365</th>\n",
       "      <td>2200</td>\n",
       "      <td>NaN</td>\n",
       "      <td>2005</td>\n",
       "      <td>NaN</td>\n",
       "      <td>0</td>\n",
       "      <td>NaN</td>\n",
       "      <td>20000</td>\n",
       "      <td>NaN</td>\n",
       "      <td>sonstige_autos</td>\n",
       "      <td>NaN</td>\n",
       "    </tr>\n",
       "    <tr>\n",
       "      <th>354366</th>\n",
       "      <td>1199</td>\n",
       "      <td>convertible</td>\n",
       "      <td>2000</td>\n",
       "      <td>auto</td>\n",
       "      <td>101</td>\n",
       "      <td>fortwo</td>\n",
       "      <td>125000</td>\n",
       "      <td>petrol</td>\n",
       "      <td>smart</td>\n",
       "      <td>no</td>\n",
       "    </tr>\n",
       "    <tr>\n",
       "      <th>354367</th>\n",
       "      <td>9200</td>\n",
       "      <td>bus</td>\n",
       "      <td>1996</td>\n",
       "      <td>manual</td>\n",
       "      <td>102</td>\n",
       "      <td>transporter</td>\n",
       "      <td>150000</td>\n",
       "      <td>gasoline</td>\n",
       "      <td>volkswagen</td>\n",
       "      <td>no</td>\n",
       "    </tr>\n",
       "    <tr>\n",
       "      <th>354368</th>\n",
       "      <td>3400</td>\n",
       "      <td>wagon</td>\n",
       "      <td>2002</td>\n",
       "      <td>manual</td>\n",
       "      <td>100</td>\n",
       "      <td>golf</td>\n",
       "      <td>150000</td>\n",
       "      <td>gasoline</td>\n",
       "      <td>volkswagen</td>\n",
       "      <td>NaN</td>\n",
       "    </tr>\n",
       "  </tbody>\n",
       "</table>\n",
       "</div>"
      ],
      "text/plain": [
       "        price vehicle_type  registration_year gearbox  power        model  \\\n",
       "354364      0          NaN               2005  manual      0         colt   \n",
       "354365   2200          NaN               2005     NaN      0          NaN   \n",
       "354366   1199  convertible               2000    auto    101       fortwo   \n",
       "354367   9200          bus               1996  manual    102  transporter   \n",
       "354368   3400        wagon               2002  manual    100         golf   \n",
       "\n",
       "        kilometer fuel_type           brand repaired  \n",
       "354364     150000    petrol      mitsubishi      yes  \n",
       "354365      20000       NaN  sonstige_autos      NaN  \n",
       "354366     125000    petrol           smart       no  \n",
       "354367     150000  gasoline      volkswagen       no  \n",
       "354368     150000  gasoline      volkswagen      NaN  "
      ]
     },
     "execution_count": 12,
     "metadata": {},
     "output_type": "execute_result"
    }
   ],
   "source": [
    "data.tail() #посмотрим изменения"
   ]
  },
  {
   "cell_type": "markdown",
   "metadata": {},
   "source": [
    "Заполним пропуски на \"unknown\""
   ]
  },
  {
   "cell_type": "code",
   "execution_count": 13,
   "metadata": {},
   "outputs": [],
   "source": [
    "for column in ['vehicle_type', 'gearbox', 'model', 'fuel_type', 'repaired']:\n",
    "    data[column] = data[column].fillna('unknown')"
   ]
  },
  {
   "cell_type": "code",
   "execution_count": 14,
   "metadata": {
    "scrolled": true
   },
   "outputs": [
    {
     "data": {
      "text/plain": [
       "price                0\n",
       "vehicle_type         0\n",
       "registration_year    0\n",
       "gearbox              0\n",
       "power                0\n",
       "model                0\n",
       "kilometer            0\n",
       "fuel_type            0\n",
       "brand                0\n",
       "repaired             0\n",
       "dtype: int64"
      ]
     },
     "execution_count": 14,
     "metadata": {},
     "output_type": "execute_result"
    }
   ],
   "source": [
    "data.isna().sum() #проверим"
   ]
  },
  {
   "cell_type": "markdown",
   "metadata": {},
   "source": [
    "---"
   ]
  },
  {
   "cell_type": "markdown",
   "metadata": {},
   "source": [
    "**Просмотр признаков**"
   ]
  },
  {
   "cell_type": "markdown",
   "metadata": {},
   "source": [
    "<u>*Цена*</u>"
   ]
  },
  {
   "cell_type": "code",
   "execution_count": 15,
   "metadata": {},
   "outputs": [
    {
     "data": {
      "text/plain": [
       "0        10772\n",
       "500       5670\n",
       "1500      5394\n",
       "1000      4648\n",
       "1200      4594\n",
       "         ...  \n",
       "13180        1\n",
       "10879        1\n",
       "2683         1\n",
       "634          1\n",
       "8188         1\n",
       "Name: price, Length: 3731, dtype: int64"
      ]
     },
     "execution_count": 15,
     "metadata": {},
     "output_type": "execute_result"
    }
   ],
   "source": [
    "data.price.value_counts() #посмотрим объявления по стоимости автомобиля"
   ]
  },
  {
   "cell_type": "code",
   "execution_count": 16,
   "metadata": {},
   "outputs": [],
   "source": [
    "data = data.query('price >100') #удалим те, которые менее 100 евро"
   ]
  },
  {
   "cell_type": "code",
   "execution_count": 17,
   "metadata": {},
   "outputs": [
    {
     "data": {
      "image/png": "[encoded data removed]",
      "text/plain": [
       "<Figure size 1080x504 with 1 Axes>"
      ]
     },
     "metadata": {
      "needs_background": "light"
     },
     "output_type": "display_data"
    }
   ],
   "source": [
    "data.plot(kind='hist',y='price',grid=True, bins=100, figsize=(15,7), color='#6d9bc3', \\\n",
    "          title='Соотношение стоимости автомобилей и количества объявлений')\n",
    "plt.xlabel('Стоимость автомобилей')\n",
    "plt.ylabel('Количество объявлений')\n",
    "plt.show()"
   ]
  },
  {
   "cell_type": "markdown",
   "metadata": {},
   "source": [
    "<u>*Тип автомобильного кузова*</u>"
   ]
  },
  {
   "cell_type": "code",
   "execution_count": 18,
   "metadata": {},
   "outputs": [
    {
     "data": {
      "image/png": "[encoded data removed]",
      "text/plain": [
       "<Figure size 1080x504 with 1 Axes>"
      ]
     },
     "metadata": {
      "needs_background": "light"
     },
     "output_type": "display_data"
    }
   ],
   "source": [
    "data['vehicle_type'].value_counts().plot.barh(figsize=(15,7), color='#6d9bc3', title = 'Соотношение типа автомобильного кузова и объявлений')\n",
    "plt.ylabel('Тип автомобильного кузова')\n",
    "plt.xlabel('Количество объявлений')\n",
    "plt.show() #построим столбчатую диаграмму"
   ]
  },
  {
   "cell_type": "code",
   "execution_count": 19,
   "metadata": {},
   "outputs": [],
   "source": [
    "data['vehicle_type'] = data['vehicle_type'].replace('other','unknown') #объединим категории в одну"
   ]
  },
  {
   "cell_type": "markdown",
   "metadata": {},
   "source": [
    "<u>*Год регистрации автомобиля*</u>"
   ]
  },
  {
   "cell_type": "code",
   "execution_count": 20,
   "metadata": {},
   "outputs": [
    {
     "data": {
      "text/plain": [
       "2000    22496\n",
       "1999    21779\n",
       "2005    21341\n",
       "2006    19639\n",
       "2001    19549\n",
       "        ...  \n",
       "9450        1\n",
       "1001        1\n",
       "5600        1\n",
       "3800        1\n",
       "2290        1\n",
       "Name: registration_year, Length: 136, dtype: int64"
      ]
     },
     "execution_count": 20,
     "metadata": {},
     "output_type": "execute_result"
    }
   ],
   "source": [
    "data['registration_year'].value_counts().sort_values(ascending=False)"
   ]
  },
  {
   "cell_type": "markdown",
   "metadata": {},
   "source": [
    "Удалим объявления раньше 1960 и позднее 2016 года (при просмотре первых строк в столбце с датой создания анкеты)"
   ]
  },
  {
   "cell_type": "code",
   "execution_count": 21,
   "metadata": {},
   "outputs": [],
   "source": [
    "data = data.query('1960 <= registration_year <= 2016') #удалим их"
   ]
  },
  {
   "cell_type": "code",
   "execution_count": 22,
   "metadata": {},
   "outputs": [
    {
     "data": {
      "image/png": "[encoded data removed]",
      "text/plain": [
       "<Figure size 1224x504 with 1 Axes>"
      ]
     },
     "metadata": {
      "needs_background": "light"
     },
     "output_type": "display_data"
    }
   ],
   "source": [
    "data['registration_year'].value_counts().plot.bar(figsize=(17,7), color='#6d9bc3', title = 'Соотношение года регистрации автомобиля и объявлений')\n",
    "plt.xlabel('Год регистрации автомобиля')\n",
    "plt.ylabel('Количество объявлений')\n",
    "plt.show() #построим столбчатую диаграмму"
   ]
  },
  {
   "cell_type": "markdown",
   "metadata": {},
   "source": [
    "Категоризируем автомобили по их году регистрации"
   ]
  },
  {
   "cell_type": "code",
   "execution_count": 23,
   "metadata": {},
   "outputs": [],
   "source": [
    "def categorize_year(year):\n",
    "    try:\n",
    "        if 1960 <= year <= 1980:\n",
    "            return 'super_retro'\n",
    "        elif 1981 <= year <= 2000:\n",
    "            return 'retro'\n",
    "        elif 2001 <= year <= 2011:\n",
    "            return 'old'\n",
    "        elif year >= 2012:\n",
    "            return 'new'\n",
    "    except:\n",
    "        pass"
   ]
  },
  {
   "cell_type": "code",
   "execution_count": 24,
   "metadata": {},
   "outputs": [],
   "source": [
    "data['category_year'] = data['registration_year'].apply(categorize_year) #перезапишем в новый столбец\n"
   ]
  },
  {
   "cell_type": "code",
   "execution_count": 25,
   "metadata": {},
   "outputs": [],
   "source": [
    "data = data.drop(columns = ['registration_year']) #удалим столбец с годом регистрации"
   ]
  },
  {
   "cell_type": "code",
   "execution_count": 26,
   "metadata": {},
   "outputs": [
    {
     "data": {
      "text/html": [
       "<div>\n",
       "<style scoped>\n",
       "    .dataframe tbody tr th:only-of-type {\n",
       "        vertical-align: middle;\n",
       "    }\n",
       "\n",
       "    .dataframe tbody tr th {\n",
       "        vertical-align: top;\n",
       "    }\n",
       "\n",
       "    .dataframe thead th {\n",
       "        text-align: right;\n",
       "    }\n",
       "</style>\n",
       "<table border=\"1\" class=\"dataframe\">\n",
       "  <thead>\n",
       "    <tr style=\"text-align: right;\">\n",
       "      <th></th>\n",
       "      <th>price</th>\n",
       "      <th>vehicle_type</th>\n",
       "      <th>gearbox</th>\n",
       "      <th>power</th>\n",
       "      <th>model</th>\n",
       "      <th>kilometer</th>\n",
       "      <th>fuel_type</th>\n",
       "      <th>brand</th>\n",
       "      <th>repaired</th>\n",
       "      <th>category_year</th>\n",
       "    </tr>\n",
       "  </thead>\n",
       "  <tbody>\n",
       "    <tr>\n",
       "      <th>0</th>\n",
       "      <td>480</td>\n",
       "      <td>unknown</td>\n",
       "      <td>manual</td>\n",
       "      <td>0</td>\n",
       "      <td>golf</td>\n",
       "      <td>150000</td>\n",
       "      <td>petrol</td>\n",
       "      <td>volkswagen</td>\n",
       "      <td>unknown</td>\n",
       "      <td>retro</td>\n",
       "    </tr>\n",
       "    <tr>\n",
       "      <th>1</th>\n",
       "      <td>18300</td>\n",
       "      <td>coupe</td>\n",
       "      <td>manual</td>\n",
       "      <td>190</td>\n",
       "      <td>unknown</td>\n",
       "      <td>125000</td>\n",
       "      <td>gasoline</td>\n",
       "      <td>audi</td>\n",
       "      <td>yes</td>\n",
       "      <td>old</td>\n",
       "    </tr>\n",
       "    <tr>\n",
       "      <th>2</th>\n",
       "      <td>9800</td>\n",
       "      <td>suv</td>\n",
       "      <td>auto</td>\n",
       "      <td>163</td>\n",
       "      <td>grand</td>\n",
       "      <td>125000</td>\n",
       "      <td>gasoline</td>\n",
       "      <td>jeep</td>\n",
       "      <td>unknown</td>\n",
       "      <td>old</td>\n",
       "    </tr>\n",
       "    <tr>\n",
       "      <th>3</th>\n",
       "      <td>1500</td>\n",
       "      <td>small</td>\n",
       "      <td>manual</td>\n",
       "      <td>75</td>\n",
       "      <td>golf</td>\n",
       "      <td>150000</td>\n",
       "      <td>petrol</td>\n",
       "      <td>volkswagen</td>\n",
       "      <td>no</td>\n",
       "      <td>old</td>\n",
       "    </tr>\n",
       "    <tr>\n",
       "      <th>4</th>\n",
       "      <td>3600</td>\n",
       "      <td>small</td>\n",
       "      <td>manual</td>\n",
       "      <td>69</td>\n",
       "      <td>fabia</td>\n",
       "      <td>90000</td>\n",
       "      <td>gasoline</td>\n",
       "      <td>skoda</td>\n",
       "      <td>no</td>\n",
       "      <td>old</td>\n",
       "    </tr>\n",
       "  </tbody>\n",
       "</table>\n",
       "</div>"
      ],
      "text/plain": [
       "   price vehicle_type gearbox  power    model  kilometer fuel_type  \\\n",
       "0    480      unknown  manual      0     golf     150000    petrol   \n",
       "1  18300        coupe  manual    190  unknown     125000  gasoline   \n",
       "2   9800          suv    auto    163    grand     125000  gasoline   \n",
       "3   1500        small  manual     75     golf     150000    petrol   \n",
       "4   3600        small  manual     69    fabia      90000  gasoline   \n",
       "\n",
       "        brand repaired category_year  \n",
       "0  volkswagen  unknown         retro  \n",
       "1        audi      yes           old  \n",
       "2        jeep  unknown           old  \n",
       "3  volkswagen       no           old  \n",
       "4       skoda       no           old  "
      ]
     },
     "execution_count": 26,
     "metadata": {},
     "output_type": "execute_result"
    }
   ],
   "source": [
    "data.head()"
   ]
  },
  {
   "cell_type": "markdown",
   "metadata": {},
   "source": [
    "<u>*Тип коробки передач*</u>"
   ]
  },
  {
   "cell_type": "code",
   "execution_count": 27,
   "metadata": {},
   "outputs": [
    {
     "data": {
      "image/png": "[encoded data removed]",
      "text/plain": [
       "<Figure size 360x360 with 1 Axes>"
      ]
     },
     "metadata": {},
     "output_type": "display_data"
    }
   ],
   "source": [
    "data['gearbox'].value_counts().plot(\n",
    "    kind = 'pie',\n",
    "    y = data, \n",
    "    autopct='%1.0f%%',\n",
    "    figsize=(5,5),\n",
    "    colors= ['#6d9bc3', '#78a2b7', '#778899'],\n",
    "    title = 'Соотношение объявлений по типу коробки передач');"
   ]
  },
  {
   "cell_type": "markdown",
   "metadata": {},
   "source": [
    "<u>*Мощность*<u/>"
   ]
  },
  {
   "cell_type": "code",
   "execution_count": 28,
   "metadata": {},
   "outputs": [
    {
     "data": {
      "text/plain": [
       "0       31100\n",
       "75      21916\n",
       "60      14553\n",
       "150     13686\n",
       "101     12373\n",
       "        ...  \n",
       "1082        1\n",
       "6045        1\n",
       "671         1\n",
       "1339        1\n",
       "1653        1\n",
       "Name: power, Length: 680, dtype: int64"
      ]
     },
     "execution_count": 28,
     "metadata": {},
     "output_type": "execute_result"
    }
   ],
   "source": [
    "data['power'].value_counts()"
   ]
  },
  {
   "cell_type": "markdown",
   "metadata": {},
   "source": [
    "В 2016 году максимальная мощность 1500 лошадиных сил у Bugatti Chiron [по ссылке](https://www.dk.ru/news/10-samyh-moschnyh-i-bystryh-avtomobiley-2016-goda-237064202), поэтому лимит до 1500 л.с."
   ]
  },
  {
   "cell_type": "code",
   "execution_count": 29,
   "metadata": {},
   "outputs": [
    {
     "data": {
      "text/plain": [
       "count    325880.000000\n",
       "mean        109.657834\n",
       "std          65.572187\n",
       "min           0.000000\n",
       "25%          72.000000\n",
       "50%         105.000000\n",
       "75%         143.000000\n",
       "max        1500.000000\n",
       "Name: power, dtype: float64"
      ]
     },
     "execution_count": 29,
     "metadata": {},
     "output_type": "execute_result"
    }
   ],
   "source": [
    "data = data.query('0 <= power <= 1500') #оставим машины с 0-ой мощностью, они могут быть просто без двигателя\n",
    "data['power'].describe()"
   ]
  },
  {
   "cell_type": "markdown",
   "metadata": {},
   "source": [
    "<u>*Пробег*<u/>"
   ]
  },
  {
   "cell_type": "code",
   "execution_count": 30,
   "metadata": {},
   "outputs": [
    {
     "data": {
      "image/png": "[encoded data removed]",
      "text/plain": [
       "<Figure size 936x360 with 1 Axes>"
      ]
     },
     "metadata": {
      "needs_background": "light"
     },
     "output_type": "display_data"
    }
   ],
   "source": [
    "data['kilometer'].value_counts().plot.bar(figsize=(13,5), color='#6d9bc3', title = 'Соотношение пробега и объявлений')\n",
    "plt.xlabel('Пробег')\n",
    "plt.ylabel('Количество объявлений')\n",
    "plt.show() #построим столбчатую диаграмму"
   ]
  },
  {
   "cell_type": "markdown",
   "metadata": {},
   "source": [
    "<u>*Тип топлива*<u/>"
   ]
  },
  {
   "cell_type": "code",
   "execution_count": 31,
   "metadata": {},
   "outputs": [
    {
     "data": {
      "image/png": "[encoded data removed]",
      "text/plain": [
       "<Figure size 720x360 with 1 Axes>"
      ]
     },
     "metadata": {
      "needs_background": "light"
     },
     "output_type": "display_data"
    }
   ],
   "source": [
    "data['fuel_type'].value_counts().plot.bar(figsize=(10,5), color='#6d9bc3', title = 'Соотношение типа топлива и объявлений')\n",
    "plt.xlabel('Тип топлива')\n",
    "plt.ylabel('Количество объявлений')\n",
    "plt.show() #построим столбчатую диаграмму"
   ]
  },
  {
   "cell_type": "code",
   "execution_count": 32,
   "metadata": {},
   "outputs": [],
   "source": [
    "data['fuel_type'] = data['fuel_type'].replace('other','unknown') #объединим категории в одну"
   ]
  },
  {
   "cell_type": "markdown",
   "metadata": {},
   "source": [
    "Объединим в одну категорию, бензин называют petrol в Великобритании и gasoline в США"
   ]
  },
  {
   "cell_type": "code",
   "execution_count": 33,
   "metadata": {},
   "outputs": [],
   "source": [
    "data['fuel_type'] = data['fuel_type'].replace('petrol','gasoline') #объединим категории в одну"
   ]
  },
  {
   "cell_type": "markdown",
   "metadata": {},
   "source": [
    "<u>*Марка автомобиля*<u/>"
   ]
  },
  {
   "cell_type": "code",
   "execution_count": 34,
   "metadata": {},
   "outputs": [
    {
     "data": {
      "text/plain": [
       "array(['alfa_romeo', 'audi', 'bmw', 'chevrolet', 'chrysler', 'citroen',\n",
       "       'dacia', 'daewoo', 'daihatsu', 'fiat', 'ford', 'honda', 'hyundai',\n",
       "       'jaguar', 'jeep', 'kia', 'lada', 'lancia', 'land_rover', 'mazda',\n",
       "       'mercedes_benz', 'mini', 'mitsubishi', 'nissan', 'opel', 'peugeot',\n",
       "       'porsche', 'renault', 'rover', 'saab', 'seat', 'skoda', 'smart',\n",
       "       'sonstige_autos', 'subaru', 'suzuki', 'toyota', 'trabant',\n",
       "       'volkswagen', 'volvo'], dtype=object)"
      ]
     },
     "execution_count": 34,
     "metadata": {},
     "output_type": "execute_result"
    }
   ],
   "source": [
    "data['brand'].sort_values(ascending = True).unique() #посмотрим уникальные значения"
   ]
  },
  {
   "cell_type": "code",
   "execution_count": 35,
   "metadata": {},
   "outputs": [
    {
     "data": {
      "image/png": "[encoded data removed]",
      "text/plain": [
       "<Figure size 1080x504 with 1 Axes>"
      ]
     },
     "metadata": {
      "needs_background": "light"
     },
     "output_type": "display_data"
    }
   ],
   "source": [
    "data['brand'].value_counts().plot.bar(figsize=(15,7), color='#6d9bc3', title = 'Соотношение марки автомобиля и объявлений')\n",
    "plt.xlabel('Марка')\n",
    "plt.ylabel('Количество объявлений')\n",
    "plt.show() #построим столбчатую диаграмму"
   ]
  },
  {
   "cell_type": "markdown",
   "metadata": {},
   "source": [
    "<u>*Ремонт*<u/>"
   ]
  },
  {
   "cell_type": "code",
   "execution_count": 36,
   "metadata": {},
   "outputs": [
    {
     "data": {
      "image/png": "[encoded data removed]",
      "text/plain": [
       "<Figure size 360x360 with 1 Axes>"
      ]
     },
     "metadata": {},
     "output_type": "display_data"
    }
   ],
   "source": [
    "data['repaired'].value_counts().plot(\n",
    "    kind = 'pie',\n",
    "    y = data, \n",
    "    autopct='%1.0f%%',\n",
    "    figsize=(5,5),\n",
    "    colors= ['#6d9bc3', '#78a2b7', '#778899'],\n",
    "    title = 'Соотношение автомобилей по ремонту');"
   ]
  },
  {
   "cell_type": "code",
   "execution_count": 37,
   "metadata": {},
   "outputs": [],
   "source": [
    "data = data.reset_index(drop=True)"
   ]
  },
  {
   "cell_type": "code",
   "execution_count": 38,
   "metadata": {},
   "outputs": [
    {
     "name": "stdout",
     "output_type": "stream",
     "text": [
      "<class 'pandas.core.frame.DataFrame'>\n",
      "RangeIndex: 325880 entries, 0 to 325879\n",
      "Data columns (total 10 columns):\n",
      " #   Column         Non-Null Count   Dtype \n",
      "---  ------         --------------   ----- \n",
      " 0   price          325880 non-null  int64 \n",
      " 1   vehicle_type   325880 non-null  object\n",
      " 2   gearbox        325880 non-null  object\n",
      " 3   power          325880 non-null  int64 \n",
      " 4   model          325880 non-null  object\n",
      " 5   kilometer      325880 non-null  int64 \n",
      " 6   fuel_type      325880 non-null  object\n",
      " 7   brand          325880 non-null  object\n",
      " 8   repaired       325880 non-null  object\n",
      " 9   category_year  325880 non-null  object\n",
      "dtypes: int64(3), object(7)\n",
      "memory usage: 24.9+ MB\n"
     ]
    }
   ],
   "source": [
    "data.info()"
   ]
  },
  {
   "cell_type": "markdown",
   "metadata": {},
   "source": [
    "<div style=\"border:solid steelblue 2px; padding: 10px; border-radius: 5px\">\n",
    "    Удалили дубликаты, пропуски заполнили “unknown”, неинформативные столбцы.  <br>  \n",
    "    Привели к нижнему регистру и переименовали столбцы, объединили и категоризировали некоторые значения.\n",
    "    <br>\n",
    "    \n",
    "Чаще всего продают автомобили со следующими параметрами: седан, год регистрации около 2000 года, механическая коробка передач, пробег около 150000 км, бензиновый двигатель, марка Volkswagen, автомобиль был в ремонте."
   ]
  },
  {
   "cell_type": "markdown",
   "metadata": {},
   "source": [
    "## Обучение моделей"
   ]
  },
  {
   "cell_type": "markdown",
   "metadata": {},
   "source": [
    "### Подготовка выборок"
   ]
  },
  {
   "cell_type": "code",
   "execution_count": 39,
   "metadata": {},
   "outputs": [],
   "source": [
    "features = data.drop(columns=['price'])\n",
    "target = data['price'] #признаки и целевой признак"
   ]
  },
  {
   "cell_type": "code",
   "execution_count": 40,
   "metadata": {},
   "outputs": [],
   "source": [
    "state = np.random.RandomState(12345) #зафиксируем random_state"
   ]
  },
  {
   "cell_type": "markdown",
   "metadata": {},
   "source": [
    "Разобъем данные на обучающую,валидацонную и тестовую выборки"
   ]
  },
  {
   "cell_type": "code",
   "execution_count": 41,
   "metadata": {},
   "outputs": [],
   "source": [
    "features_train, features_valid, target_train, target_valid = train_test_split(features,\n",
    "                                                                            target,\n",
    "                                                                            test_size = 0.4,\n",
    "                                                                            random_state=state)"
   ]
  },
  {
   "cell_type": "code",
   "execution_count": 42,
   "metadata": {},
   "outputs": [],
   "source": [
    "features_valid, features_test, target_valid, target_test = train_test_split(features_valid,\n",
    "                                                                            target_valid,\n",
    "                                                                            test_size = 0.5,\n",
    "                                                                            random_state=state)"
   ]
  },
  {
   "cell_type": "code",
   "execution_count": 43,
   "metadata": {},
   "outputs": [
    {
     "data": {
      "text/plain": [
       "((195528, 9), (65176, 9), (65176, 9))"
      ]
     },
     "execution_count": 43,
     "metadata": {},
     "output_type": "execute_result"
    }
   ],
   "source": [
    "features_train.shape, features_valid.shape, features_test.shape #посмотрим размеры выборок"
   ]
  },
  {
   "cell_type": "markdown",
   "metadata": {},
   "source": [
    "Закодируем категориальные признаки и масштабируем численные"
   ]
  },
  {
   "cell_type": "code",
   "execution_count": 44,
   "metadata": {},
   "outputs": [],
   "source": [
    "cat = ['vehicle_type', 'gearbox', 'model', 'fuel_type', 'brand','repaired', 'category_year'] "
   ]
  },
  {
   "cell_type": "code",
   "execution_count": 45,
   "metadata": {},
   "outputs": [],
   "source": [
    "num = ['power', 'kilometer']"
   ]
  },
  {
   "cell_type": "code",
   "execution_count": 46,
   "metadata": {},
   "outputs": [],
   "source": [
    "ohe = OneHotEncoder(sparse=False, drop='first')\n",
    "ohe.fit(features_train[cat])\n",
    "\n",
    "def features_ohe(ohe_variable, data_features, cat):\n",
    "    data_features_ohe = pd.DataFrame(data=ohe_variable.transform(data_features[cat]),\n",
    "                                     index=data_features.index, columns=ohe_variable.get_feature_names())\n",
    "\n",
    "    data_features = data_features.drop(cat, axis=1)\n",
    "    data_features = data_features.join(data_features_ohe)\n",
    "    return data_features    \n",
    "\n",
    "features_train_ohe = features_ohe(ohe, features_train, cat)\n",
    "features_valid_ohe = features_ohe(ohe, features_valid, cat)\n",
    "features_test_ohe = features_ohe(ohe, features_test, cat)"
   ]
  },
  {
   "cell_type": "code",
   "execution_count": 47,
   "metadata": {},
   "outputs": [
    {
     "data": {
      "text/plain": [
       "StandardScaler()"
      ]
     },
     "execution_count": 47,
     "metadata": {},
     "output_type": "execute_result"
    }
   ],
   "source": [
    "scaler = StandardScaler()\n",
    "scaler.fit(features_train_ohe[num])"
   ]
  },
  {
   "cell_type": "code",
   "execution_count": 48,
   "metadata": {},
   "outputs": [],
   "source": [
    "features_train_ohe[num] = scaler.transform(features_train_ohe[num])\n",
    "features_valid_ohe[num] = scaler.transform(features_valid_ohe[num])\n",
    "features_test_ohe[num] = scaler.transform(features_test_ohe[num])"
   ]
  },
  {
   "cell_type": "code",
   "execution_count": 49,
   "metadata": {},
   "outputs": [
    {
     "data": {
      "text/plain": [
       "((195528, 310), (65176, 310), (65176, 310))"
      ]
     },
     "execution_count": 49,
     "metadata": {},
     "output_type": "execute_result"
    }
   ],
   "source": [
    "features_train_ohe.shape, features_valid_ohe.shape, features_test_ohe.shape #посмотрим размеры преобразованных выборок"
   ]
  },
  {
   "cell_type": "markdown",
   "metadata": {},
   "source": [
    "Напишем функции для времени обучения и предсказания, RMSE"
   ]
  },
  {
   "cell_type": "code",
   "execution_count": 50,
   "metadata": {},
   "outputs": [],
   "source": [
    "def learning_time(model,features_train,target_train):\n",
    "    start = time.time()\n",
    "    model.fit(features_train,target_train)\n",
    "    end = time.time()\n",
    "    time_fit = end - start\n",
    "    return time_fit,model #время обучения"
   ]
  },
  {
   "cell_type": "code",
   "execution_count": 51,
   "metadata": {},
   "outputs": [],
   "source": [
    "def predicted_time(model,features_valid):\n",
    "    start = time.time()\n",
    "    predict = model.predict(features_valid)\n",
    "    end = time.time()\n",
    "    time_predict= end - start\n",
    "    return time_predict,predict #время предсказания"
   ]
  },
  {
   "cell_type": "code",
   "execution_count": 52,
   "metadata": {},
   "outputs": [],
   "source": [
    "results = pd.DataFrame(columns=['Время обучения', 'Время предсказания', 'RMSE', 'Модель']) #результаты работы моделей"
   ]
  },
  {
   "cell_type": "code",
   "execution_count": 53,
   "metadata": {},
   "outputs": [],
   "source": [
    "def table_results(learn_time, pred_time, rmse, model, df):\n",
    "    df.loc[model,'Время обучения'] = learn_time\n",
    "    df.loc[model,'Время предсказания'] = pred_time\n",
    "    df.loc[model,'RMSE'] = rmse\n",
    "    df.loc[model,'Модель'] = model\n",
    "    return df"
   ]
  },
  {
   "cell_type": "code",
   "execution_count": 54,
   "metadata": {},
   "outputs": [],
   "source": [
    "def importances(model,features):\n",
    "    features=features.columns\n",
    "    importances = model.feature_importances_\n",
    "    indices = np.argsort(importances)\n",
    "    \n",
    "    plt.figure(figsize=(9, 5))\n",
    "    plt.title('Важность факторов при моделировании')\n",
    "    plt.barh(range(len(indices)), importances[indices], color='#6d9bc3', align='center')\n",
    "    plt.yticks(range(len(indices)), features[indices])\n",
    "    plt.show()\n",
    "        \n",
    "    feat_importances = pd.Series(importances, index=features).sort_values(ascending=False)\n",
    "    feat_importances = feat_importances.to_frame()\n",
    "    feat_importances.columns=['Результативная метрика']\n",
    "    display(feat_importances) #важность признаков и их показатели при моделировании"
   ]
  },
  {
   "cell_type": "markdown",
   "metadata": {},
   "source": [
    "### Модели"
   ]
  },
  {
   "cell_type": "markdown",
   "metadata": {},
   "source": [
    "Обучим разные модели, попробуем разные гиперпараметры"
   ]
  },
  {
   "cell_type": "markdown",
   "metadata": {},
   "source": [
    "**LightGBM Regressor**"
   ]
  },
  {
   "cell_type": "markdown",
   "metadata": {},
   "source": [
    "*LightGBM - 1*"
   ]
  },
  {
   "cell_type": "code",
   "execution_count": 55,
   "metadata": {},
   "outputs": [
    {
     "data": {
      "text/html": [
       "<div>\n",
       "<style scoped>\n",
       "    .dataframe tbody tr th:only-of-type {\n",
       "        vertical-align: middle;\n",
       "    }\n",
       "\n",
       "    .dataframe tbody tr th {\n",
       "        vertical-align: top;\n",
       "    }\n",
       "\n",
       "    .dataframe thead th {\n",
       "        text-align: right;\n",
       "    }\n",
       "</style>\n",
       "<table border=\"1\" class=\"dataframe\">\n",
       "  <thead>\n",
       "    <tr style=\"text-align: right;\">\n",
       "      <th></th>\n",
       "      <th>Время обучения</th>\n",
       "      <th>Время предсказания</th>\n",
       "      <th>RMSE</th>\n",
       "      <th>Модель</th>\n",
       "    </tr>\n",
       "  </thead>\n",
       "  <tbody>\n",
       "    <tr>\n",
       "      <th>LightGBM - 1</th>\n",
       "      <td>849.082229</td>\n",
       "      <td>1.203863</td>\n",
       "      <td>2015.04945</td>\n",
       "      <td>LightGBM - 1</td>\n",
       "    </tr>\n",
       "  </tbody>\n",
       "</table>\n",
       "</div>"
      ],
      "text/plain": [
       "             Время обучения Время предсказания        RMSE        Модель\n",
       "LightGBM - 1     849.082229           1.203863  2015.04945  LightGBM - 1"
      ]
     },
     "execution_count": 55,
     "metadata": {},
     "output_type": "execute_result"
    }
   ],
   "source": [
    "lgbm1_learn_time,lgbm1 = learning_time(LGBMRegressor(learning_rate=0.1, num_leaves=170, \n",
    "                                                     n_estimators=80,random_state=state),\n",
    "                                       features_train_ohe, target_train)\n",
    "lgbm1_pred_time,lgbm1_predict = predicted_time(lgbm1,features_valid_ohe)\n",
    "lgbm1_rmse = np.sqrt(mean_squared_error(target_valid, lgbm1_predict))\n",
    "table_results(lgbm1_learn_time,lgbm1_pred_time, lgbm1_rmse, 'LightGBM - 1',results)"
   ]
  },
  {
   "cell_type": "markdown",
   "metadata": {},
   "source": [
    "*LightGBM - 2*"
   ]
  },
  {
   "cell_type": "code",
   "execution_count": 56,
   "metadata": {},
   "outputs": [
    {
     "data": {
      "text/html": [
       "<div>\n",
       "<style scoped>\n",
       "    .dataframe tbody tr th:only-of-type {\n",
       "        vertical-align: middle;\n",
       "    }\n",
       "\n",
       "    .dataframe tbody tr th {\n",
       "        vertical-align: top;\n",
       "    }\n",
       "\n",
       "    .dataframe thead th {\n",
       "        text-align: right;\n",
       "    }\n",
       "</style>\n",
       "<table border=\"1\" class=\"dataframe\">\n",
       "  <thead>\n",
       "    <tr style=\"text-align: right;\">\n",
       "      <th></th>\n",
       "      <th>Время обучения</th>\n",
       "      <th>Время предсказания</th>\n",
       "      <th>RMSE</th>\n",
       "      <th>Модель</th>\n",
       "    </tr>\n",
       "  </thead>\n",
       "  <tbody>\n",
       "    <tr>\n",
       "      <th>LightGBM - 1</th>\n",
       "      <td>849.082229</td>\n",
       "      <td>1.203863</td>\n",
       "      <td>2015.04945</td>\n",
       "      <td>LightGBM - 1</td>\n",
       "    </tr>\n",
       "    <tr>\n",
       "      <th>LightGBM - 2</th>\n",
       "      <td>79.078567</td>\n",
       "      <td>1.396188</td>\n",
       "      <td>2468.954249</td>\n",
       "      <td>LightGBM - 2</td>\n",
       "    </tr>\n",
       "  </tbody>\n",
       "</table>\n",
       "</div>"
      ],
      "text/plain": [
       "             Время обучения Время предсказания         RMSE        Модель\n",
       "LightGBM - 1     849.082229           1.203863   2015.04945  LightGBM - 1\n",
       "LightGBM - 2      79.078567           1.396188  2468.954249  LightGBM - 2"
      ]
     },
     "execution_count": 56,
     "metadata": {},
     "output_type": "execute_result"
    }
   ],
   "source": [
    "lgbm2_learn_time,lgbm2 = learning_time(LGBMRegressor(learning_rate=0.01, num_leaves=190, \n",
    "                                                     n_estimators=150,random_state=state),\n",
    "                                       features_train_ohe, target_train)\n",
    "lgbm2_pred_time,lgbm2_predict = predicted_time(lgbm2,features_valid_ohe)\n",
    "lgbm2_rmse = np.sqrt(mean_squared_error(target_valid, lgbm2_predict))\n",
    "table_results(lgbm2_learn_time,lgbm2_pred_time, lgbm2_rmse, 'LightGBM - 2',results)"
   ]
  },
  {
   "cell_type": "markdown",
   "metadata": {},
   "source": [
    "----"
   ]
  },
  {
   "cell_type": "markdown",
   "metadata": {},
   "source": [
    "**Random Forest Regressor**"
   ]
  },
  {
   "cell_type": "markdown",
   "metadata": {},
   "source": [
    "*Random Forest - 1*"
   ]
  },
  {
   "cell_type": "code",
   "execution_count": 57,
   "metadata": {},
   "outputs": [
    {
     "data": {
      "text/html": [
       "<div>\n",
       "<style scoped>\n",
       "    .dataframe tbody tr th:only-of-type {\n",
       "        vertical-align: middle;\n",
       "    }\n",
       "\n",
       "    .dataframe tbody tr th {\n",
       "        vertical-align: top;\n",
       "    }\n",
       "\n",
       "    .dataframe thead th {\n",
       "        text-align: right;\n",
       "    }\n",
       "</style>\n",
       "<table border=\"1\" class=\"dataframe\">\n",
       "  <thead>\n",
       "    <tr style=\"text-align: right;\">\n",
       "      <th></th>\n",
       "      <th>Время обучения</th>\n",
       "      <th>Время предсказания</th>\n",
       "      <th>RMSE</th>\n",
       "      <th>Модель</th>\n",
       "    </tr>\n",
       "  </thead>\n",
       "  <tbody>\n",
       "    <tr>\n",
       "      <th>LightGBM - 1</th>\n",
       "      <td>849.082229</td>\n",
       "      <td>1.203863</td>\n",
       "      <td>2015.04945</td>\n",
       "      <td>LightGBM - 1</td>\n",
       "    </tr>\n",
       "    <tr>\n",
       "      <th>LightGBM - 2</th>\n",
       "      <td>79.078567</td>\n",
       "      <td>1.396188</td>\n",
       "      <td>2468.954249</td>\n",
       "      <td>LightGBM - 2</td>\n",
       "    </tr>\n",
       "    <tr>\n",
       "      <th>RandomForest - 1</th>\n",
       "      <td>34.968417</td>\n",
       "      <td>0.290715</td>\n",
       "      <td>2179.676296</td>\n",
       "      <td>RandomForest - 1</td>\n",
       "    </tr>\n",
       "  </tbody>\n",
       "</table>\n",
       "</div>"
      ],
      "text/plain": [
       "                 Время обучения Время предсказания         RMSE  \\\n",
       "LightGBM - 1         849.082229           1.203863   2015.04945   \n",
       "LightGBM - 2          79.078567           1.396188  2468.954249   \n",
       "RandomForest - 1      34.968417           0.290715  2179.676296   \n",
       "\n",
       "                            Модель  \n",
       "LightGBM - 1          LightGBM - 1  \n",
       "LightGBM - 2          LightGBM - 2  \n",
       "RandomForest - 1  RandomForest - 1  "
      ]
     },
     "execution_count": 57,
     "metadata": {},
     "output_type": "execute_result"
    }
   ],
   "source": [
    "rf1_learn_time,rf1 = learning_time(RandomForestRegressor(n_estimators=13, max_depth=15, random_state=state),\n",
    "                                   features_train_ohe, target_train)\n",
    "rf1_pred_time,rf1_predict = predicted_time(rf1,features_valid_ohe)\n",
    "rf1_rmse = np.sqrt(mean_squared_error(target_valid, rf1_predict))\n",
    "table_results(rf1_learn_time,rf1_pred_time, rf1_rmse, 'RandomForest - 1',results)"
   ]
  },
  {
   "cell_type": "markdown",
   "metadata": {},
   "source": [
    "*Random Forest - 2*"
   ]
  },
  {
   "cell_type": "code",
   "execution_count": 58,
   "metadata": {},
   "outputs": [
    {
     "data": {
      "text/html": [
       "<div>\n",
       "<style scoped>\n",
       "    .dataframe tbody tr th:only-of-type {\n",
       "        vertical-align: middle;\n",
       "    }\n",
       "\n",
       "    .dataframe tbody tr th {\n",
       "        vertical-align: top;\n",
       "    }\n",
       "\n",
       "    .dataframe thead th {\n",
       "        text-align: right;\n",
       "    }\n",
       "</style>\n",
       "<table border=\"1\" class=\"dataframe\">\n",
       "  <thead>\n",
       "    <tr style=\"text-align: right;\">\n",
       "      <th></th>\n",
       "      <th>Время обучения</th>\n",
       "      <th>Время предсказания</th>\n",
       "      <th>RMSE</th>\n",
       "      <th>Модель</th>\n",
       "    </tr>\n",
       "  </thead>\n",
       "  <tbody>\n",
       "    <tr>\n",
       "      <th>LightGBM - 1</th>\n",
       "      <td>849.082229</td>\n",
       "      <td>1.203863</td>\n",
       "      <td>2015.04945</td>\n",
       "      <td>LightGBM - 1</td>\n",
       "    </tr>\n",
       "    <tr>\n",
       "      <th>LightGBM - 2</th>\n",
       "      <td>79.078567</td>\n",
       "      <td>1.396188</td>\n",
       "      <td>2468.954249</td>\n",
       "      <td>LightGBM - 2</td>\n",
       "    </tr>\n",
       "    <tr>\n",
       "      <th>RandomForest - 1</th>\n",
       "      <td>34.968417</td>\n",
       "      <td>0.290715</td>\n",
       "      <td>2179.676296</td>\n",
       "      <td>RandomForest - 1</td>\n",
       "    </tr>\n",
       "    <tr>\n",
       "      <th>RandomForest - 2</th>\n",
       "      <td>73.560909</td>\n",
       "      <td>0.378474</td>\n",
       "      <td>2079.107728</td>\n",
       "      <td>RandomForest - 2</td>\n",
       "    </tr>\n",
       "  </tbody>\n",
       "</table>\n",
       "</div>"
      ],
      "text/plain": [
       "                 Время обучения Время предсказания         RMSE  \\\n",
       "LightGBM - 1         849.082229           1.203863   2015.04945   \n",
       "LightGBM - 2          79.078567           1.396188  2468.954249   \n",
       "RandomForest - 1      34.968417           0.290715  2179.676296   \n",
       "RandomForest - 2      73.560909           0.378474  2079.107728   \n",
       "\n",
       "                            Модель  \n",
       "LightGBM - 1          LightGBM - 1  \n",
       "LightGBM - 2          LightGBM - 2  \n",
       "RandomForest - 1  RandomForest - 1  \n",
       "RandomForest - 2  RandomForest - 2  "
      ]
     },
     "execution_count": 58,
     "metadata": {},
     "output_type": "execute_result"
    }
   ],
   "source": [
    "rf2_learn_time,rf2 = learning_time(RandomForestRegressor(n_estimators=25, max_depth=19, random_state=state),\n",
    "                                   features_train_ohe, target_train)\n",
    "rf2_pred_time,rf2_predict = predicted_time(rf2,features_valid_ohe)\n",
    "rf2_rmse = np.sqrt(mean_squared_error(target_valid, rf2_predict))\n",
    "table_results(rf2_learn_time,rf2_pred_time, rf2_rmse, 'RandomForest - 2',results)"
   ]
  },
  {
   "cell_type": "markdown",
   "metadata": {},
   "source": [
    "----"
   ]
  },
  {
   "cell_type": "markdown",
   "metadata": {},
   "source": [
    "**CatBoostRegressor**"
   ]
  },
  {
   "cell_type": "markdown",
   "metadata": {},
   "source": [
    "*CatBoostRegressor - 1*"
   ]
  },
  {
   "cell_type": "code",
   "execution_count": 59,
   "metadata": {},
   "outputs": [
    {
     "name": "stdout",
     "output_type": "stream",
     "text": [
      "0:\tlearn: 4512.0654133\ttotal: 340ms\tremaining: 1m 31s\n",
      "20:\tlearn: 4043.7174536\ttotal: 4.41s\tremaining: 52.2s\n",
      "40:\tlearn: 3673.9257630\ttotal: 8.35s\tremaining: 46.6s\n",
      "60:\tlearn: 3390.9109801\ttotal: 12.4s\tremaining: 42.5s\n",
      "80:\tlearn: 3174.6887169\ttotal: 16.5s\tremaining: 38.4s\n",
      "100:\tlearn: 3003.6285466\ttotal: 20.6s\tremaining: 34.4s\n",
      "120:\tlearn: 2865.1156885\ttotal: 24.7s\tremaining: 30.4s\n",
      "140:\tlearn: 2758.9132785\ttotal: 28.6s\tremaining: 26.1s\n",
      "160:\tlearn: 2678.1142103\ttotal: 32.7s\tremaining: 22.2s\n",
      "180:\tlearn: 2616.5735844\ttotal: 36.4s\tremaining: 17.9s\n",
      "200:\tlearn: 2568.7032011\ttotal: 40.2s\tremaining: 13.8s\n",
      "220:\tlearn: 2531.6989055\ttotal: 43.7s\tremaining: 9.68s\n",
      "240:\tlearn: 2501.8917218\ttotal: 47.4s\tremaining: 5.7s\n",
      "260:\tlearn: 2478.9608168\ttotal: 51s\tremaining: 1.76s\n",
      "269:\tlearn: 2469.4668702\ttotal: 52.7s\tremaining: 0us\n"
     ]
    },
    {
     "data": {
      "text/html": [
       "<div>\n",
       "<style scoped>\n",
       "    .dataframe tbody tr th:only-of-type {\n",
       "        vertical-align: middle;\n",
       "    }\n",
       "\n",
       "    .dataframe tbody tr th {\n",
       "        vertical-align: top;\n",
       "    }\n",
       "\n",
       "    .dataframe thead th {\n",
       "        text-align: right;\n",
       "    }\n",
       "</style>\n",
       "<table border=\"1\" class=\"dataframe\">\n",
       "  <thead>\n",
       "    <tr style=\"text-align: right;\">\n",
       "      <th></th>\n",
       "      <th>Время обучения</th>\n",
       "      <th>Время предсказания</th>\n",
       "      <th>RMSE</th>\n",
       "      <th>Модель</th>\n",
       "    </tr>\n",
       "  </thead>\n",
       "  <tbody>\n",
       "    <tr>\n",
       "      <th>LightGBM - 1</th>\n",
       "      <td>849.082229</td>\n",
       "      <td>1.203863</td>\n",
       "      <td>2015.04945</td>\n",
       "      <td>LightGBM - 1</td>\n",
       "    </tr>\n",
       "    <tr>\n",
       "      <th>LightGBM - 2</th>\n",
       "      <td>79.078567</td>\n",
       "      <td>1.396188</td>\n",
       "      <td>2468.954249</td>\n",
       "      <td>LightGBM - 2</td>\n",
       "    </tr>\n",
       "    <tr>\n",
       "      <th>RandomForest - 1</th>\n",
       "      <td>34.968417</td>\n",
       "      <td>0.290715</td>\n",
       "      <td>2179.676296</td>\n",
       "      <td>RandomForest - 1</td>\n",
       "    </tr>\n",
       "    <tr>\n",
       "      <th>RandomForest - 2</th>\n",
       "      <td>73.560909</td>\n",
       "      <td>0.378474</td>\n",
       "      <td>2079.107728</td>\n",
       "      <td>RandomForest - 2</td>\n",
       "    </tr>\n",
       "    <tr>\n",
       "      <th>CatBoost - 1</th>\n",
       "      <td>54.169193</td>\n",
       "      <td>0.140352</td>\n",
       "      <td>2485.096398</td>\n",
       "      <td>CatBoost - 1</td>\n",
       "    </tr>\n",
       "  </tbody>\n",
       "</table>\n",
       "</div>"
      ],
      "text/plain": [
       "                 Время обучения Время предсказания         RMSE  \\\n",
       "LightGBM - 1         849.082229           1.203863   2015.04945   \n",
       "LightGBM - 2          79.078567           1.396188  2468.954249   \n",
       "RandomForest - 1      34.968417           0.290715  2179.676296   \n",
       "RandomForest - 2      73.560909           0.378474  2079.107728   \n",
       "CatBoost - 1          54.169193           0.140352  2485.096398   \n",
       "\n",
       "                            Модель  \n",
       "LightGBM - 1          LightGBM - 1  \n",
       "LightGBM - 2          LightGBM - 2  \n",
       "RandomForest - 1  RandomForest - 1  \n",
       "RandomForest - 2  RandomForest - 2  \n",
       "CatBoost - 1          CatBoost - 1  "
      ]
     },
     "execution_count": 59,
     "metadata": {},
     "output_type": "execute_result"
    }
   ],
   "source": [
    "cat1_learn_time,cat1 = learning_time(CatBoostRegressor(loss_function = 'RMSE', learning_rate=0.01, \n",
    "                                                       iterations = 270, cat_features = cat, verbose=20), \n",
    "                                     features_train, target_train)\n",
    "cat1_pred_time,cat1_predict = predicted_time(cat1,features_valid)\n",
    "cat1_rmse = np.sqrt(mean_squared_error(target_valid, cat1_predict))\n",
    "table_results(cat1_learn_time,cat1_pred_time, cat1_rmse, 'CatBoost - 1',results)"
   ]
  },
  {
   "cell_type": "code",
   "execution_count": 60,
   "metadata": {},
   "outputs": [
    {
     "data": {
      "image/png": "[encoded data removed]",
      "text/plain": [
       "<Figure size 648x360 with 1 Axes>"
      ]
     },
     "metadata": {
      "needs_background": "light"
     },
     "output_type": "display_data"
    },
    {
     "data": {
      "text/html": [
       "<div>\n",
       "<style scoped>\n",
       "    .dataframe tbody tr th:only-of-type {\n",
       "        vertical-align: middle;\n",
       "    }\n",
       "\n",
       "    .dataframe tbody tr th {\n",
       "        vertical-align: top;\n",
       "    }\n",
       "\n",
       "    .dataframe thead th {\n",
       "        text-align: right;\n",
       "    }\n",
       "</style>\n",
       "<table border=\"1\" class=\"dataframe\">\n",
       "  <thead>\n",
       "    <tr style=\"text-align: right;\">\n",
       "      <th></th>\n",
       "      <th>Результативная метрика</th>\n",
       "    </tr>\n",
       "  </thead>\n",
       "  <tbody>\n",
       "    <tr>\n",
       "      <th>power</th>\n",
       "      <td>28.089802</td>\n",
       "    </tr>\n",
       "    <tr>\n",
       "      <th>category_year</th>\n",
       "      <td>23.850114</td>\n",
       "    </tr>\n",
       "    <tr>\n",
       "      <th>kilometer</th>\n",
       "      <td>22.756968</td>\n",
       "    </tr>\n",
       "    <tr>\n",
       "      <th>vehicle_type</th>\n",
       "      <td>7.366308</td>\n",
       "    </tr>\n",
       "    <tr>\n",
       "      <th>brand</th>\n",
       "      <td>6.940083</td>\n",
       "    </tr>\n",
       "    <tr>\n",
       "      <th>model</th>\n",
       "      <td>5.409361</td>\n",
       "    </tr>\n",
       "    <tr>\n",
       "      <th>repaired</th>\n",
       "      <td>5.337793</td>\n",
       "    </tr>\n",
       "    <tr>\n",
       "      <th>gearbox</th>\n",
       "      <td>0.241807</td>\n",
       "    </tr>\n",
       "    <tr>\n",
       "      <th>fuel_type</th>\n",
       "      <td>0.007766</td>\n",
       "    </tr>\n",
       "  </tbody>\n",
       "</table>\n",
       "</div>"
      ],
      "text/plain": [
       "               Результативная метрика\n",
       "power                       28.089802\n",
       "category_year               23.850114\n",
       "kilometer                   22.756968\n",
       "vehicle_type                 7.366308\n",
       "brand                        6.940083\n",
       "model                        5.409361\n",
       "repaired                     5.337793\n",
       "gearbox                      0.241807\n",
       "fuel_type                    0.007766"
      ]
     },
     "metadata": {},
     "output_type": "display_data"
    }
   ],
   "source": [
    "importances(cat1,features_train) #посмотрим важность признаков"
   ]
  },
  {
   "cell_type": "markdown",
   "metadata": {},
   "source": [
    "*CatBoostRegressor - 2*"
   ]
  },
  {
   "cell_type": "code",
   "execution_count": 61,
   "metadata": {},
   "outputs": [
    {
     "name": "stdout",
     "output_type": "stream",
     "text": [
      "0:\tlearn: 4282.0559113\ttotal: 108ms\tremaining: 9.6s\n",
      "13:\tlearn: 2795.7568583\ttotal: 1.09s\tremaining: 5.9s\n",
      "26:\tlearn: 2493.7956696\ttotal: 2.04s\tremaining: 4.76s\n",
      "39:\tlearn: 2416.5167240\ttotal: 3s\tremaining: 3.75s\n",
      "52:\tlearn: 2378.8386954\ttotal: 3.96s\tremaining: 2.76s\n",
      "65:\tlearn: 2346.3726896\ttotal: 4.9s\tremaining: 1.78s\n",
      "78:\tlearn: 2319.8843673\ttotal: 5.88s\tremaining: 818ms\n",
      "89:\tlearn: 2303.9606395\ttotal: 6.67s\tremaining: 0us\n"
     ]
    },
    {
     "data": {
      "text/html": [
       "<div>\n",
       "<style scoped>\n",
       "    .dataframe tbody tr th:only-of-type {\n",
       "        vertical-align: middle;\n",
       "    }\n",
       "\n",
       "    .dataframe tbody tr th {\n",
       "        vertical-align: top;\n",
       "    }\n",
       "\n",
       "    .dataframe thead th {\n",
       "        text-align: right;\n",
       "    }\n",
       "</style>\n",
       "<table border=\"1\" class=\"dataframe\">\n",
       "  <thead>\n",
       "    <tr style=\"text-align: right;\">\n",
       "      <th></th>\n",
       "      <th>Время обучения</th>\n",
       "      <th>Время предсказания</th>\n",
       "      <th>RMSE</th>\n",
       "      <th>Модель</th>\n",
       "    </tr>\n",
       "  </thead>\n",
       "  <tbody>\n",
       "    <tr>\n",
       "      <th>LightGBM - 1</th>\n",
       "      <td>849.082229</td>\n",
       "      <td>1.203863</td>\n",
       "      <td>2015.04945</td>\n",
       "      <td>LightGBM - 1</td>\n",
       "    </tr>\n",
       "    <tr>\n",
       "      <th>LightGBM - 2</th>\n",
       "      <td>79.078567</td>\n",
       "      <td>1.396188</td>\n",
       "      <td>2468.954249</td>\n",
       "      <td>LightGBM - 2</td>\n",
       "    </tr>\n",
       "    <tr>\n",
       "      <th>RandomForest - 1</th>\n",
       "      <td>34.968417</td>\n",
       "      <td>0.290715</td>\n",
       "      <td>2179.676296</td>\n",
       "      <td>RandomForest - 1</td>\n",
       "    </tr>\n",
       "    <tr>\n",
       "      <th>RandomForest - 2</th>\n",
       "      <td>73.560909</td>\n",
       "      <td>0.378474</td>\n",
       "      <td>2079.107728</td>\n",
       "      <td>RandomForest - 2</td>\n",
       "    </tr>\n",
       "    <tr>\n",
       "      <th>CatBoost - 1</th>\n",
       "      <td>54.169193</td>\n",
       "      <td>0.140352</td>\n",
       "      <td>2485.096398</td>\n",
       "      <td>CatBoost - 1</td>\n",
       "    </tr>\n",
       "    <tr>\n",
       "      <th>CatBoost - 2</th>\n",
       "      <td>7.435526</td>\n",
       "      <td>0.140352</td>\n",
       "      <td>2485.096398</td>\n",
       "      <td>CatBoost - 2</td>\n",
       "    </tr>\n",
       "  </tbody>\n",
       "</table>\n",
       "</div>"
      ],
      "text/plain": [
       "                 Время обучения Время предсказания         RMSE  \\\n",
       "LightGBM - 1         849.082229           1.203863   2015.04945   \n",
       "LightGBM - 2          79.078567           1.396188  2468.954249   \n",
       "RandomForest - 1      34.968417           0.290715  2179.676296   \n",
       "RandomForest - 2      73.560909           0.378474  2079.107728   \n",
       "CatBoost - 1          54.169193           0.140352  2485.096398   \n",
       "CatBoost - 2           7.435526           0.140352  2485.096398   \n",
       "\n",
       "                            Модель  \n",
       "LightGBM - 1          LightGBM - 1  \n",
       "LightGBM - 2          LightGBM - 2  \n",
       "RandomForest - 1  RandomForest - 1  \n",
       "RandomForest - 2  RandomForest - 2  \n",
       "CatBoost - 1          CatBoost - 1  \n",
       "CatBoost - 2          CatBoost - 2  "
      ]
     },
     "execution_count": 61,
     "metadata": {},
     "output_type": "execute_result"
    }
   ],
   "source": [
    "cat2_learn_time,cat2 = learning_time(CatBoostRegressor(loss_function = 'RMSE', learning_rate=0.1, \n",
    "                                                       iterations = 90, cat_features = cat, verbose=13), \n",
    "                                     features_train, target_train)\n",
    "cat2_pred_time,cat2_predict = predicted_time(cat2,features_valid)\n",
    "cat2_rmse = np.sqrt(mean_squared_error(target_valid, cat1_predict))\n",
    "table_results(cat2_learn_time,cat1_pred_time, cat2_rmse, 'CatBoost - 2',results)"
   ]
  },
  {
   "cell_type": "code",
   "execution_count": 62,
   "metadata": {},
   "outputs": [
    {
     "data": {
      "image/png": "[encoded data removed]",
      "text/plain": [
       "<Figure size 648x360 with 1 Axes>"
      ]
     },
     "metadata": {
      "needs_background": "light"
     },
     "output_type": "display_data"
    },
    {
     "data": {
      "text/html": [
       "<div>\n",
       "<style scoped>\n",
       "    .dataframe tbody tr th:only-of-type {\n",
       "        vertical-align: middle;\n",
       "    }\n",
       "\n",
       "    .dataframe tbody tr th {\n",
       "        vertical-align: top;\n",
       "    }\n",
       "\n",
       "    .dataframe thead th {\n",
       "        text-align: right;\n",
       "    }\n",
       "</style>\n",
       "<table border=\"1\" class=\"dataframe\">\n",
       "  <thead>\n",
       "    <tr style=\"text-align: right;\">\n",
       "      <th></th>\n",
       "      <th>Результативная метрика</th>\n",
       "    </tr>\n",
       "  </thead>\n",
       "  <tbody>\n",
       "    <tr>\n",
       "      <th>category_year</th>\n",
       "      <td>25.874311</td>\n",
       "    </tr>\n",
       "    <tr>\n",
       "      <th>power</th>\n",
       "      <td>25.588630</td>\n",
       "    </tr>\n",
       "    <tr>\n",
       "      <th>kilometer</th>\n",
       "      <td>23.553863</td>\n",
       "    </tr>\n",
       "    <tr>\n",
       "      <th>brand</th>\n",
       "      <td>7.644725</td>\n",
       "    </tr>\n",
       "    <tr>\n",
       "      <th>model</th>\n",
       "      <td>6.483292</td>\n",
       "    </tr>\n",
       "    <tr>\n",
       "      <th>vehicle_type</th>\n",
       "      <td>6.411743</td>\n",
       "    </tr>\n",
       "    <tr>\n",
       "      <th>repaired</th>\n",
       "      <td>3.789717</td>\n",
       "    </tr>\n",
       "    <tr>\n",
       "      <th>gearbox</th>\n",
       "      <td>0.408593</td>\n",
       "    </tr>\n",
       "    <tr>\n",
       "      <th>fuel_type</th>\n",
       "      <td>0.245125</td>\n",
       "    </tr>\n",
       "  </tbody>\n",
       "</table>\n",
       "</div>"
      ],
      "text/plain": [
       "               Результативная метрика\n",
       "category_year               25.874311\n",
       "power                       25.588630\n",
       "kilometer                   23.553863\n",
       "brand                        7.644725\n",
       "model                        6.483292\n",
       "vehicle_type                 6.411743\n",
       "repaired                     3.789717\n",
       "gearbox                      0.408593\n",
       "fuel_type                    0.245125"
      ]
     },
     "metadata": {},
     "output_type": "display_data"
    }
   ],
   "source": [
    "importances(cat2,features_train) #посмотрим важность признаков"
   ]
  },
  {
   "cell_type": "markdown",
   "metadata": {},
   "source": [
    "## Анализ моделей"
   ]
  },
  {
   "cell_type": "markdown",
   "metadata": {},
   "source": [
    "Все модели прошли критерий значения метрики RMSE меньше 2500.\n",
    "\n",
    "Наилучший показатель RMSE 2015.05 у модели LightGBM-1, скорость средняя. Протестируем.\n"
   ]
  },
  {
   "cell_type": "code",
   "execution_count": 63,
   "metadata": {},
   "outputs": [
    {
     "name": "stdout",
     "output_type": "stream",
     "text": [
      "Значение RMSE модели LightGBM-1 на тестовой выборке: 2007.8016165784031\n"
     ]
    }
   ],
   "source": [
    "model_lgbm = LGBMRegressor(learning_rate=0.1, num_leaves=170, n_estimators=80,random_state=state)\n",
    "model_lgbm.fit(features_train_ohe, target_train)\n",
    "predicted_lgbm = model_lgbm.predict(features_test_ohe)\n",
    "print('Значение RMSE модели LightGBM-1 на тестовой выборке:', np.sqrt(mean_squared_error(target_test, predicted_lgbm)))"
   ]
  },
  {
   "cell_type": "markdown",
   "metadata": {},
   "source": [
    "## Вывод"
   ]
  },
  {
   "cell_type": "markdown",
   "metadata": {},
   "source": [
    "<div class=\"alert-info\" style=\"padding: 20px; border-radius: 10px\"> \n",
    "Сделали предобработку данных. Удалили дубликаты, пропуски заполнили “unknown”, неинформативные столбцы.\n",
    "Привели к нижнему регистру и переименовали столбцы, объединили и категоризировали некоторые значения.<br>\n",
    "\n",
    "    \n",
    "Чаще всего продают автомобили со следующими параметрами: седан, год регистрации около 2000 года, механическая коробка передач, пробег около 150000 км, бензиновый двигатель, марка Volkswagen, автомобиль был в ремонте.<br>\n",
    "<br>\n",
    "    \n",
    "Обучили модели с разными гиперпараметрами LightGBM Regressor, Random Forest Regressor и CatBoostRegressor.<br>\n",
    "Все модели прошли критерий значения метрики RMSE меньше 2500.<br>\n",
    "\n",
    "<br>    \n",
    "Наилучший показатель RMSE 2015.05 у модели LightGBM-1,скорость обучения средняя.<br>\n",
    "    \n",
    "<br>\n",
    "Значение RMSE модели LightGBM-1 на тестовой выборке: 2007.8.<br>\n",
    "    Результат модели на тестовой выборке очень близок к полученному RMSE."
   ]
  }
 ],
 "metadata": {
  "ExecuteTimeLog": [
   {
    "duration": 358,
    "start_time": "2024-04-18T09:24:52.087Z"
   },
   {
    "duration": 57,
    "start_time": "2024-04-18T09:26:26.764Z"
   },
   {
    "duration": 8,
    "start_time": "2024-04-18T09:26:37.984Z"
   },
   {
    "duration": 2896,
    "start_time": "2024-04-18T09:26:52.003Z"
   },
   {
    "duration": 143,
    "start_time": "2024-04-18T09:27:03.103Z"
   },
   {
    "duration": 6,
    "start_time": "2024-04-18T09:29:36.117Z"
   },
   {
    "duration": 8,
    "start_time": "2024-04-18T09:29:43.051Z"
   },
   {
    "duration": 10,
    "start_time": "2024-04-18T09:33:11.851Z"
   },
   {
    "duration": 7,
    "start_time": "2024-04-18T09:33:20.240Z"
   },
   {
    "duration": 10,
    "start_time": "2024-04-18T09:33:28.338Z"
   },
   {
    "duration": 10,
    "start_time": "2024-04-18T09:35:29.022Z"
   },
   {
    "duration": 6,
    "start_time": "2024-04-18T09:36:13.551Z"
   },
   {
    "duration": 9,
    "start_time": "2024-04-18T09:37:40.021Z"
   },
   {
    "duration": 8,
    "start_time": "2024-04-18T09:37:53.199Z"
   },
   {
    "duration": 15,
    "start_time": "2024-04-18T09:39:22.867Z"
   },
   {
    "duration": 11,
    "start_time": "2024-04-18T09:43:03.532Z"
   },
   {
    "duration": 3,
    "start_time": "2024-04-18T09:43:23.486Z"
   },
   {
    "duration": 3,
    "start_time": "2024-04-18T09:43:54.120Z"
   },
   {
    "duration": 5,
    "start_time": "2024-04-18T09:45:36.630Z"
   },
   {
    "duration": 4,
    "start_time": "2024-04-18T09:50:51.729Z"
   },
   {
    "duration": 7,
    "start_time": "2024-04-18T09:51:31.436Z"
   },
   {
    "duration": 148,
    "start_time": "2024-04-18T09:51:38.913Z"
   },
   {
    "duration": 4,
    "start_time": "2024-04-18T09:52:15.107Z"
   },
   {
    "duration": 458,
    "start_time": "2024-04-18T09:53:11.572Z"
   },
   {
    "duration": 3,
    "start_time": "2024-04-18T09:53:54.629Z"
   },
   {
    "duration": 6,
    "start_time": "2024-04-18T09:54:07.594Z"
   },
   {
    "duration": 7,
    "start_time": "2024-04-18T09:54:12.156Z"
   },
   {
    "duration": 7,
    "start_time": "2024-04-18T09:54:52.915Z"
   },
   {
    "duration": 6,
    "start_time": "2024-04-18T09:55:09.251Z"
   },
   {
    "duration": 6,
    "start_time": "2024-04-18T09:55:23.966Z"
   },
   {
    "duration": 6,
    "start_time": "2024-04-18T09:55:44.834Z"
   },
   {
    "duration": 6,
    "start_time": "2024-04-18T09:55:50.545Z"
   },
   {
    "duration": 7,
    "start_time": "2024-04-18T10:05:38.919Z"
   },
   {
    "duration": 6,
    "start_time": "2024-04-18T10:06:46.987Z"
   },
   {
    "duration": 7,
    "start_time": "2024-04-18T10:07:40.871Z"
   },
   {
    "duration": 7,
    "start_time": "2024-04-18T10:07:46.781Z"
   },
   {
    "duration": 8,
    "start_time": "2024-04-18T10:08:20.654Z"
   },
   {
    "duration": 399,
    "start_time": "2024-04-18T10:08:30.052Z"
   },
   {
    "duration": 877,
    "start_time": "2024-04-18T10:08:30.452Z"
   },
   {
    "duration": 22,
    "start_time": "2024-04-18T10:08:31.330Z"
   },
   {
    "duration": 262,
    "start_time": "2024-04-18T10:08:31.354Z"
   },
   {
    "duration": 3,
    "start_time": "2024-04-18T10:08:31.618Z"
   },
   {
    "duration": 121,
    "start_time": "2024-04-18T10:08:31.622Z"
   },
   {
    "duration": 70,
    "start_time": "2024-04-18T10:08:31.744Z"
   },
   {
    "duration": 65,
    "start_time": "2024-04-18T10:08:31.815Z"
   },
   {
    "duration": 186,
    "start_time": "2024-04-18T10:08:31.881Z"
   },
   {
    "duration": 460,
    "start_time": "2024-04-18T10:08:32.068Z"
   },
   {
    "duration": 597,
    "start_time": "2024-04-18T10:08:32.529Z"
   },
   {
    "duration": 63,
    "start_time": "2024-04-18T10:08:53.110Z"
   },
   {
    "duration": 498,
    "start_time": "2024-04-18T10:08:56.562Z"
   },
   {
    "duration": 500,
    "start_time": "2024-04-18T10:09:09.332Z"
   },
   {
    "duration": 84,
    "start_time": "2024-04-18T10:13:54.215Z"
   },
   {
    "duration": 392,
    "start_time": "2024-04-18T10:20:13.963Z"
   },
   {
    "duration": 71,
    "start_time": "2024-04-18T10:23:30.263Z"
   },
   {
    "duration": 92,
    "start_time": "2024-04-18T10:27:28.101Z"
   },
   {
    "duration": 86,
    "start_time": "2024-04-18T10:28:11.324Z"
   },
   {
    "duration": 602,
    "start_time": "2024-04-18T10:28:35.776Z"
   },
   {
    "duration": 810,
    "start_time": "2024-04-18T10:28:36.380Z"
   },
   {
    "duration": 18,
    "start_time": "2024-04-18T10:28:37.191Z"
   },
   {
    "duration": 158,
    "start_time": "2024-04-18T10:28:37.210Z"
   },
   {
    "duration": 90,
    "start_time": "2024-04-18T10:28:37.370Z"
   },
   {
    "duration": 3,
    "start_time": "2024-04-18T10:28:37.462Z"
   },
   {
    "duration": 6,
    "start_time": "2024-04-18T10:28:37.466Z"
   },
   {
    "duration": 6,
    "start_time": "2024-04-18T10:28:37.473Z"
   },
   {
    "duration": 7,
    "start_time": "2024-04-18T10:28:37.481Z"
   },
   {
    "duration": 166,
    "start_time": "2024-04-18T10:28:37.489Z"
   },
   {
    "duration": 165,
    "start_time": "2024-04-18T10:28:37.656Z"
   },
   {
    "duration": 433,
    "start_time": "2024-04-18T10:28:37.822Z"
   },
   {
    "duration": 464,
    "start_time": "2024-04-18T10:28:38.257Z"
   },
   {
    "duration": 2,
    "start_time": "2024-04-18T10:28:38.723Z"
   },
   {
    "duration": 55,
    "start_time": "2024-04-18T11:07:35.245Z"
   },
   {
    "duration": 768,
    "start_time": "2024-04-18T11:07:50.465Z"
   },
   {
    "duration": 2962,
    "start_time": "2024-04-18T11:07:51.706Z"
   },
   {
    "duration": 16,
    "start_time": "2024-04-18T11:07:54.670Z"
   },
   {
    "duration": 170,
    "start_time": "2024-04-18T11:07:57.828Z"
   },
   {
    "duration": 100,
    "start_time": "2024-04-18T11:08:00.750Z"
   },
   {
    "duration": 928,
    "start_time": "2024-04-18T11:08:05.116Z"
   },
   {
    "duration": 7,
    "start_time": "2024-04-18T11:08:24.164Z"
   },
   {
    "duration": 7,
    "start_time": "2024-04-18T11:08:30.399Z"
   },
   {
    "duration": 863,
    "start_time": "2024-04-18T11:08:36.377Z"
   },
   {
    "duration": 26,
    "start_time": "2024-04-18T12:11:15.858Z"
   },
   {
    "duration": 575,
    "start_time": "2024-04-18T12:11:27.485Z"
   },
   {
    "duration": 802,
    "start_time": "2024-04-18T12:11:28.062Z"
   },
   {
    "duration": 15,
    "start_time": "2024-04-18T12:11:28.867Z"
   },
   {
    "duration": 146,
    "start_time": "2024-04-18T12:11:28.883Z"
   },
   {
    "duration": 89,
    "start_time": "2024-04-18T12:11:29.031Z"
   },
   {
    "duration": 29,
    "start_time": "2024-04-18T12:11:29.122Z"
   },
   {
    "duration": 3,
    "start_time": "2024-04-18T12:11:29.152Z"
   },
   {
    "duration": 9,
    "start_time": "2024-04-18T12:11:29.157Z"
   },
   {
    "duration": 11,
    "start_time": "2024-04-18T12:11:29.168Z"
   },
   {
    "duration": 40,
    "start_time": "2024-04-18T12:11:29.180Z"
   },
   {
    "duration": 98,
    "start_time": "2024-04-18T12:11:29.221Z"
   },
   {
    "duration": 92,
    "start_time": "2024-04-18T12:11:29.320Z"
   },
   {
    "duration": 245,
    "start_time": "2024-04-18T12:11:29.413Z"
   },
   {
    "duration": 214,
    "start_time": "2024-04-18T12:11:29.659Z"
   },
   {
    "duration": 2,
    "start_time": "2024-04-18T12:11:29.874Z"
   },
   {
    "duration": 4,
    "start_time": "2024-04-18T12:13:02.829Z"
   },
   {
    "duration": 4,
    "start_time": "2024-04-18T12:13:07.543Z"
   },
   {
    "duration": 84,
    "start_time": "2024-04-18T12:13:51.452Z"
   },
   {
    "duration": 76,
    "start_time": "2024-04-18T12:13:56.436Z"
   },
   {
    "duration": 152,
    "start_time": "2024-04-18T12:16:00.596Z"
   },
   {
    "duration": 152,
    "start_time": "2024-04-18T12:16:06.498Z"
   },
   {
    "duration": 3,
    "start_time": "2024-04-18T12:16:26.580Z"
   },
   {
    "duration": 4,
    "start_time": "2024-04-18T12:21:02.780Z"
   },
   {
    "duration": 79,
    "start_time": "2024-04-18T12:21:03.945Z"
   },
   {
    "duration": 3,
    "start_time": "2024-04-18T12:21:18.181Z"
   },
   {
    "duration": 3,
    "start_time": "2024-04-18T12:21:18.891Z"
   },
   {
    "duration": 88,
    "start_time": "2024-04-18T12:21:19.423Z"
   },
   {
    "duration": 589,
    "start_time": "2024-04-18T12:21:29.065Z"
   },
   {
    "duration": 812,
    "start_time": "2024-04-18T12:21:29.656Z"
   },
   {
    "duration": 19,
    "start_time": "2024-04-18T12:21:30.470Z"
   },
   {
    "duration": 197,
    "start_time": "2024-04-18T12:21:30.491Z"
   },
   {
    "duration": 125,
    "start_time": "2024-04-18T12:21:30.690Z"
   },
   {
    "duration": 21,
    "start_time": "2024-04-18T12:21:30.817Z"
   },
   {
    "duration": 55,
    "start_time": "2024-04-18T12:21:30.840Z"
   },
   {
    "duration": 44,
    "start_time": "2024-04-18T12:21:30.897Z"
   },
   {
    "duration": 34,
    "start_time": "2024-04-18T12:21:30.942Z"
   },
   {
    "duration": 121,
    "start_time": "2024-04-18T12:21:30.978Z"
   },
   {
    "duration": 223,
    "start_time": "2024-04-18T12:21:31.100Z"
   },
   {
    "duration": 218,
    "start_time": "2024-04-18T12:22:55.727Z"
   },
   {
    "duration": 208,
    "start_time": "2024-04-18T12:41:03.786Z"
   },
   {
    "duration": 10,
    "start_time": "2024-04-18T12:41:13.109Z"
   },
   {
    "duration": 71,
    "start_time": "2024-04-18T12:41:21.949Z"
   },
   {
    "duration": 194,
    "start_time": "2024-04-18T12:41:40.311Z"
   },
   {
    "duration": 189,
    "start_time": "2024-04-18T12:42:08.820Z"
   },
   {
    "duration": 549,
    "start_time": "2024-04-18T12:42:24.890Z"
   },
   {
    "duration": 840,
    "start_time": "2024-04-18T12:42:25.441Z"
   },
   {
    "duration": 16,
    "start_time": "2024-04-18T12:42:26.282Z"
   },
   {
    "duration": 171,
    "start_time": "2024-04-18T12:42:26.299Z"
   },
   {
    "duration": 89,
    "start_time": "2024-04-18T12:42:26.472Z"
   },
   {
    "duration": 22,
    "start_time": "2024-04-18T12:42:26.562Z"
   },
   {
    "duration": 33,
    "start_time": "2024-04-18T12:42:26.586Z"
   },
   {
    "duration": 20,
    "start_time": "2024-04-18T12:42:26.620Z"
   },
   {
    "duration": 22,
    "start_time": "2024-04-18T12:42:26.642Z"
   },
   {
    "duration": 96,
    "start_time": "2024-04-18T12:42:26.666Z"
   },
   {
    "duration": 211,
    "start_time": "2024-04-18T12:42:26.763Z"
   },
   {
    "duration": 563,
    "start_time": "2024-04-18T13:39:53.006Z"
   },
   {
    "duration": 794,
    "start_time": "2024-04-18T13:39:53.571Z"
   },
   {
    "duration": 15,
    "start_time": "2024-04-18T13:39:54.367Z"
   },
   {
    "duration": 146,
    "start_time": "2024-04-18T13:39:54.384Z"
   },
   {
    "duration": 92,
    "start_time": "2024-04-18T13:39:54.532Z"
   },
   {
    "duration": 28,
    "start_time": "2024-04-18T13:39:54.625Z"
   },
   {
    "duration": 14,
    "start_time": "2024-04-18T13:39:54.655Z"
   },
   {
    "duration": 18,
    "start_time": "2024-04-18T13:39:54.670Z"
   },
   {
    "duration": 9,
    "start_time": "2024-04-18T13:39:54.689Z"
   },
   {
    "duration": 93,
    "start_time": "2024-04-18T13:39:54.699Z"
   },
   {
    "duration": 197,
    "start_time": "2024-04-18T13:39:54.794Z"
   },
   {
    "duration": 160,
    "start_time": "2024-04-18T13:41:24.391Z"
   },
   {
    "duration": 67,
    "start_time": "2024-04-18T13:42:40.983Z"
   },
   {
    "duration": 7,
    "start_time": "2024-04-18T13:42:45.083Z"
   },
   {
    "duration": 829,
    "start_time": "2024-04-18T18:31:53.035Z"
   },
   {
    "duration": 1479,
    "start_time": "2024-04-18T18:31:53.867Z"
   },
   {
    "duration": 29,
    "start_time": "2024-04-18T18:31:55.349Z"
   },
   {
    "duration": 201,
    "start_time": "2024-04-18T18:31:55.381Z"
   },
   {
    "duration": 139,
    "start_time": "2024-04-18T18:31:55.585Z"
   },
   {
    "duration": 27,
    "start_time": "2024-04-18T18:31:55.726Z"
   },
   {
    "duration": 14,
    "start_time": "2024-04-18T18:31:55.755Z"
   },
   {
    "duration": 16,
    "start_time": "2024-04-18T18:31:55.770Z"
   },
   {
    "duration": 7,
    "start_time": "2024-04-18T18:31:55.788Z"
   },
   {
    "duration": 123,
    "start_time": "2024-04-18T18:31:55.797Z"
   },
   {
    "duration": 210,
    "start_time": "2024-04-18T18:43:35.098Z"
   },
   {
    "duration": 735,
    "start_time": "2024-04-18T18:45:18.504Z"
   },
   {
    "duration": 965,
    "start_time": "2024-04-18T18:45:19.241Z"
   },
   {
    "duration": 18,
    "start_time": "2024-04-18T18:45:20.207Z"
   },
   {
    "duration": 182,
    "start_time": "2024-04-18T18:45:20.226Z"
   },
   {
    "duration": 119,
    "start_time": "2024-04-18T18:45:20.410Z"
   },
   {
    "duration": 29,
    "start_time": "2024-04-18T18:45:20.531Z"
   },
   {
    "duration": 5,
    "start_time": "2024-04-18T18:45:20.563Z"
   },
   {
    "duration": 23,
    "start_time": "2024-04-18T18:45:20.583Z"
   },
   {
    "duration": 30,
    "start_time": "2024-04-18T18:45:20.607Z"
   },
   {
    "duration": 185,
    "start_time": "2024-04-18T18:45:20.639Z"
   },
   {
    "duration": 231,
    "start_time": "2024-04-18T18:45:20.826Z"
   },
   {
    "duration": 636,
    "start_time": "2024-04-18T18:49:40.343Z"
   },
   {
    "duration": 960,
    "start_time": "2024-04-18T18:49:40.981Z"
   },
   {
    "duration": 17,
    "start_time": "2024-04-18T18:49:41.944Z"
   },
   {
    "duration": 202,
    "start_time": "2024-04-18T18:49:41.962Z"
   },
   {
    "duration": 128,
    "start_time": "2024-04-18T18:49:42.166Z"
   },
   {
    "duration": 5,
    "start_time": "2024-04-18T18:49:42.296Z"
   },
   {
    "duration": 13,
    "start_time": "2024-04-18T18:49:42.303Z"
   },
   {
    "duration": 10,
    "start_time": "2024-04-18T18:49:42.317Z"
   },
   {
    "duration": 161,
    "start_time": "2024-04-18T18:49:42.328Z"
   },
   {
    "duration": 532,
    "start_time": "2024-04-18T18:49:42.491Z"
   },
   {
    "duration": 515,
    "start_time": "2024-04-18T18:52:20.997Z"
   },
   {
    "duration": 511,
    "start_time": "2024-04-18T18:54:16.708Z"
   },
   {
    "duration": 525,
    "start_time": "2024-04-18T18:54:22.994Z"
   },
   {
    "duration": 686,
    "start_time": "2024-04-18T18:55:20.456Z"
   },
   {
    "duration": 990,
    "start_time": "2024-04-18T18:55:21.144Z"
   },
   {
    "duration": 21,
    "start_time": "2024-04-18T18:55:22.137Z"
   },
   {
    "duration": 173,
    "start_time": "2024-04-18T18:55:22.159Z"
   },
   {
    "duration": 109,
    "start_time": "2024-04-18T18:55:22.335Z"
   },
   {
    "duration": 500,
    "start_time": "2024-04-18T18:55:22.446Z"
   },
   {
    "duration": 524,
    "start_time": "2024-04-18T18:55:22.948Z"
   },
   {
    "duration": 3,
    "start_time": "2024-04-18T18:55:23.474Z"
   },
   {
    "duration": 12,
    "start_time": "2024-04-18T18:55:23.478Z"
   },
   {
    "duration": 12,
    "start_time": "2024-04-18T18:55:23.491Z"
   },
   {
    "duration": 171,
    "start_time": "2024-04-18T18:55:23.504Z"
   },
   {
    "duration": 484,
    "start_time": "2024-04-18T18:55:23.683Z"
   },
   {
    "duration": 140,
    "start_time": "2024-04-18T18:59:17.393Z"
   },
   {
    "duration": 708,
    "start_time": "2024-04-18T18:59:34.075Z"
   },
   {
    "duration": 905,
    "start_time": "2024-04-18T18:59:34.785Z"
   },
   {
    "duration": 20,
    "start_time": "2024-04-18T18:59:35.691Z"
   },
   {
    "duration": 168,
    "start_time": "2024-04-18T18:59:35.713Z"
   },
   {
    "duration": 105,
    "start_time": "2024-04-18T18:59:35.884Z"
   },
   {
    "duration": 476,
    "start_time": "2024-04-18T18:59:35.991Z"
   },
   {
    "duration": 531,
    "start_time": "2024-04-18T18:59:36.469Z"
   },
   {
    "duration": 140,
    "start_time": "2024-04-18T18:59:37.002Z"
   },
   {
    "duration": 3,
    "start_time": "2024-04-18T18:59:37.144Z"
   },
   {
    "duration": 6,
    "start_time": "2024-04-18T18:59:37.149Z"
   },
   {
    "duration": 73,
    "start_time": "2024-04-18T18:59:37.156Z"
   },
   {
    "duration": 19,
    "start_time": "2024-04-18T19:00:10.279Z"
   },
   {
    "duration": 15,
    "start_time": "2024-04-18T19:00:21.682Z"
   },
   {
    "duration": 25,
    "start_time": "2024-04-18T19:15:50.426Z"
   },
   {
    "duration": 81,
    "start_time": "2024-04-18T19:16:05.322Z"
   },
   {
    "duration": 12,
    "start_time": "2024-04-18T19:20:48.199Z"
   },
   {
    "duration": 13,
    "start_time": "2024-04-18T19:23:44.705Z"
   },
   {
    "duration": 16,
    "start_time": "2024-04-18T19:25:32.605Z"
   },
   {
    "duration": 15,
    "start_time": "2024-04-18T19:25:42.508Z"
   },
   {
    "duration": 16,
    "start_time": "2024-04-18T19:27:47.119Z"
   },
   {
    "duration": 15,
    "start_time": "2024-04-18T19:28:29.551Z"
   },
   {
    "duration": 15,
    "start_time": "2024-04-18T19:35:57.651Z"
   },
   {
    "duration": 12,
    "start_time": "2024-04-18T19:36:09.339Z"
   },
   {
    "duration": 12,
    "start_time": "2024-04-18T19:37:21.146Z"
   },
   {
    "duration": 17,
    "start_time": "2024-04-18T19:44:41.353Z"
   },
   {
    "duration": 15,
    "start_time": "2024-04-18T19:47:21.846Z"
   },
   {
    "duration": 12,
    "start_time": "2024-04-18T19:47:54.780Z"
   },
   {
    "duration": 17,
    "start_time": "2024-04-18T19:52:05.100Z"
   },
   {
    "duration": 18,
    "start_time": "2024-04-18T19:52:55.905Z"
   },
   {
    "duration": 24,
    "start_time": "2024-04-18T19:53:17.978Z"
   },
   {
    "duration": 12,
    "start_time": "2024-04-18T19:53:51.642Z"
   },
   {
    "duration": 679,
    "start_time": "2024-04-18T19:56:06.176Z"
   },
   {
    "duration": 952,
    "start_time": "2024-04-18T19:56:06.856Z"
   },
   {
    "duration": 25,
    "start_time": "2024-04-18T19:56:07.811Z"
   },
   {
    "duration": 170,
    "start_time": "2024-04-18T19:56:07.838Z"
   },
   {
    "duration": 105,
    "start_time": "2024-04-18T19:56:08.011Z"
   },
   {
    "duration": 477,
    "start_time": "2024-04-18T19:56:08.117Z"
   },
   {
    "duration": 515,
    "start_time": "2024-04-18T19:56:08.596Z"
   },
   {
    "duration": 167,
    "start_time": "2024-04-18T19:56:09.113Z"
   },
   {
    "duration": 3,
    "start_time": "2024-04-18T19:56:09.282Z"
   },
   {
    "duration": 54,
    "start_time": "2024-04-18T19:56:09.287Z"
   },
   {
    "duration": 13,
    "start_time": "2024-04-18T19:56:09.342Z"
   },
   {
    "duration": 6,
    "start_time": "2024-04-18T19:56:09.357Z"
   },
   {
    "duration": 19,
    "start_time": "2024-04-18T19:56:09.364Z"
   },
   {
    "duration": 4,
    "start_time": "2024-04-18T19:57:56.165Z"
   },
   {
    "duration": 4,
    "start_time": "2024-04-18T19:58:06.241Z"
   },
   {
    "duration": 104,
    "start_time": "2024-04-18T19:58:12.018Z"
   },
   {
    "duration": 4,
    "start_time": "2024-04-18T19:58:37.598Z"
   },
   {
    "duration": 4,
    "start_time": "2024-04-18T19:58:56.814Z"
   },
   {
    "duration": 861,
    "start_time": "2024-04-19T10:02:32.476Z"
   },
   {
    "duration": 1261,
    "start_time": "2024-04-19T10:02:33.340Z"
   },
   {
    "duration": 17,
    "start_time": "2024-04-19T10:02:34.603Z"
   },
   {
    "duration": 178,
    "start_time": "2024-04-19T10:02:34.622Z"
   },
   {
    "duration": 127,
    "start_time": "2024-04-19T10:02:34.802Z"
   },
   {
    "duration": 476,
    "start_time": "2024-04-19T10:02:34.930Z"
   },
   {
    "duration": 506,
    "start_time": "2024-04-19T10:02:35.407Z"
   },
   {
    "duration": 167,
    "start_time": "2024-04-19T10:02:35.914Z"
   },
   {
    "duration": 41,
    "start_time": "2024-04-19T10:02:36.092Z"
   },
   {
    "duration": 21,
    "start_time": "2024-04-19T10:02:36.137Z"
   },
   {
    "duration": 8,
    "start_time": "2024-04-19T10:02:36.160Z"
   },
   {
    "duration": 7,
    "start_time": "2024-04-19T10:02:36.170Z"
   },
   {
    "duration": 4,
    "start_time": "2024-04-19T10:03:02.033Z"
   },
   {
    "duration": 640,
    "start_time": "2024-04-19T10:04:43.232Z"
   },
   {
    "duration": 934,
    "start_time": "2024-04-19T10:04:43.874Z"
   },
   {
    "duration": 17,
    "start_time": "2024-04-19T10:04:44.810Z"
   },
   {
    "duration": 184,
    "start_time": "2024-04-19T10:04:44.829Z"
   },
   {
    "duration": 105,
    "start_time": "2024-04-19T10:04:45.016Z"
   },
   {
    "duration": 649,
    "start_time": "2024-04-19T10:04:45.122Z"
   },
   {
    "duration": 524,
    "start_time": "2024-04-19T10:04:45.773Z"
   },
   {
    "duration": 39,
    "start_time": "2024-04-19T10:04:46.299Z"
   },
   {
    "duration": 29,
    "start_time": "2024-04-19T10:04:46.340Z"
   },
   {
    "duration": 26,
    "start_time": "2024-04-19T10:04:46.370Z"
   },
   {
    "duration": 52,
    "start_time": "2024-04-19T10:04:46.397Z"
   },
   {
    "duration": 163,
    "start_time": "2024-04-19T10:04:46.451Z"
   },
   {
    "duration": 81,
    "start_time": "2024-04-19T10:05:40.535Z"
   },
   {
    "duration": 688,
    "start_time": "2024-04-19T10:05:54.259Z"
   },
   {
    "duration": 909,
    "start_time": "2024-04-19T10:05:54.949Z"
   },
   {
    "duration": 17,
    "start_time": "2024-04-19T10:05:55.860Z"
   },
   {
    "duration": 183,
    "start_time": "2024-04-19T10:05:55.879Z"
   },
   {
    "duration": 114,
    "start_time": "2024-04-19T10:05:56.064Z"
   },
   {
    "duration": 523,
    "start_time": "2024-04-19T10:05:56.180Z"
   },
   {
    "duration": 492,
    "start_time": "2024-04-19T10:05:56.704Z"
   },
   {
    "duration": 34,
    "start_time": "2024-04-19T10:05:57.197Z"
   },
   {
    "duration": 38,
    "start_time": "2024-04-19T10:05:57.233Z"
   },
   {
    "duration": 7,
    "start_time": "2024-04-19T10:05:57.274Z"
   },
   {
    "duration": 35,
    "start_time": "2024-04-19T10:05:57.282Z"
   },
   {
    "duration": 114,
    "start_time": "2024-04-19T10:05:57.319Z"
   },
   {
    "duration": 92,
    "start_time": "2024-04-19T10:06:44.729Z"
   },
   {
    "duration": 84,
    "start_time": "2024-04-19T10:07:37.114Z"
   },
   {
    "duration": 1565,
    "start_time": "2024-04-19T10:24:09.658Z"
   },
   {
    "duration": 49,
    "start_time": "2024-04-19T10:30:45.604Z"
   },
   {
    "duration": 641,
    "start_time": "2024-04-19T10:31:30.159Z"
   },
   {
    "duration": 72,
    "start_time": "2024-04-19T10:31:57.834Z"
   },
   {
    "duration": 89,
    "start_time": "2024-04-19T10:40:26.648Z"
   },
   {
    "duration": 223,
    "start_time": "2024-04-19T10:52:02.893Z"
   },
   {
    "duration": 116,
    "start_time": "2024-04-19T10:52:05.500Z"
   },
   {
    "duration": 3,
    "start_time": "2024-04-19T10:52:15.477Z"
   },
   {
    "duration": 3,
    "start_time": "2024-04-19T10:52:18.241Z"
   },
   {
    "duration": 4,
    "start_time": "2024-04-19T10:52:20.449Z"
   },
   {
    "duration": 82,
    "start_time": "2024-04-19T10:52:23.277Z"
   },
   {
    "duration": 1308,
    "start_time": "2024-04-19T10:52:40.460Z"
   },
   {
    "duration": 908,
    "start_time": "2024-04-19T10:52:41.770Z"
   },
   {
    "duration": 16,
    "start_time": "2024-04-19T10:52:42.680Z"
   },
   {
    "duration": 155,
    "start_time": "2024-04-19T10:52:42.697Z"
   },
   {
    "duration": 110,
    "start_time": "2024-04-19T10:52:42.853Z"
   },
   {
    "duration": 500,
    "start_time": "2024-04-19T10:52:42.965Z"
   },
   {
    "duration": 488,
    "start_time": "2024-04-19T10:52:43.467Z"
   },
   {
    "duration": 39,
    "start_time": "2024-04-19T10:52:43.957Z"
   },
   {
    "duration": 33,
    "start_time": "2024-04-19T10:52:43.998Z"
   },
   {
    "duration": 60,
    "start_time": "2024-04-19T10:52:44.033Z"
   },
   {
    "duration": 17,
    "start_time": "2024-04-19T10:52:44.095Z"
   },
   {
    "duration": 107,
    "start_time": "2024-04-19T10:52:44.113Z"
   },
   {
    "duration": 5,
    "start_time": "2024-04-19T10:54:33.618Z"
   },
   {
    "duration": 104,
    "start_time": "2024-04-19T10:54:42.488Z"
   },
   {
    "duration": 189,
    "start_time": "2024-04-19T10:57:29.350Z"
   },
   {
    "duration": 209,
    "start_time": "2024-04-19T10:57:41.413Z"
   },
   {
    "duration": 201,
    "start_time": "2024-04-19T10:57:51.058Z"
   },
   {
    "duration": 186,
    "start_time": "2024-04-19T11:00:11.324Z"
   },
   {
    "duration": 92,
    "start_time": "2024-04-19T11:03:53.836Z"
   },
   {
    "duration": 1300,
    "start_time": "2024-04-19T11:05:14.173Z"
   },
   {
    "duration": 959,
    "start_time": "2024-04-19T11:05:15.476Z"
   },
   {
    "duration": 16,
    "start_time": "2024-04-19T11:05:16.436Z"
   },
   {
    "duration": 179,
    "start_time": "2024-04-19T11:05:16.454Z"
   },
   {
    "duration": 103,
    "start_time": "2024-04-19T11:05:16.635Z"
   },
   {
    "duration": 491,
    "start_time": "2024-04-19T11:05:16.739Z"
   },
   {
    "duration": 622,
    "start_time": "2024-04-19T11:05:17.231Z"
   },
   {
    "duration": 170,
    "start_time": "2024-04-19T11:05:17.855Z"
   },
   {
    "duration": 17,
    "start_time": "2024-04-19T11:05:18.027Z"
   },
   {
    "duration": 15,
    "start_time": "2024-04-19T11:05:18.046Z"
   },
   {
    "duration": 84,
    "start_time": "2024-04-19T11:05:18.062Z"
   },
   {
    "duration": 0,
    "start_time": "2024-04-19T11:05:18.148Z"
   },
   {
    "duration": 0,
    "start_time": "2024-04-19T11:05:18.149Z"
   },
   {
    "duration": 1,
    "start_time": "2024-04-19T11:05:18.150Z"
   },
   {
    "duration": 154,
    "start_time": "2024-04-19T11:38:29.064Z"
   },
   {
    "duration": 1545,
    "start_time": "2024-04-19T11:38:36.612Z"
   },
   {
    "duration": 38,
    "start_time": "2024-04-19T11:49:42.521Z"
   },
   {
    "duration": 3,
    "start_time": "2024-04-19T11:50:33.336Z"
   },
   {
    "duration": 3,
    "start_time": "2024-04-19T11:51:02.881Z"
   },
   {
    "duration": 15,
    "start_time": "2024-04-19T11:51:24.304Z"
   },
   {
    "duration": 16,
    "start_time": "2024-04-19T11:51:49.250Z"
   },
   {
    "duration": 118,
    "start_time": "2024-04-19T11:56:41.788Z"
   },
   {
    "duration": 9,
    "start_time": "2024-04-19T11:56:47.031Z"
   },
   {
    "duration": 8,
    "start_time": "2024-04-19T11:57:46.970Z"
   },
   {
    "duration": 32,
    "start_time": "2024-04-19T11:58:27.067Z"
   },
   {
    "duration": 1251,
    "start_time": "2024-04-19T11:59:19.254Z"
   },
   {
    "duration": 1539,
    "start_time": "2024-04-19T11:59:30.475Z"
   },
   {
    "duration": 142,
    "start_time": "2024-04-19T11:59:48.479Z"
   },
   {
    "duration": 9,
    "start_time": "2024-04-19T12:01:20.504Z"
   },
   {
    "duration": 8,
    "start_time": "2024-04-19T12:01:26.406Z"
   },
   {
    "duration": 26,
    "start_time": "2024-04-19T12:02:49.796Z"
   },
   {
    "duration": 10,
    "start_time": "2024-04-19T12:02:58.376Z"
   },
   {
    "duration": 677,
    "start_time": "2024-04-19T12:03:46.481Z"
   },
   {
    "duration": 468,
    "start_time": "2024-04-19T12:04:03.968Z"
   },
   {
    "duration": 399,
    "start_time": "2024-04-19T12:04:10.286Z"
   },
   {
    "duration": 82,
    "start_time": "2024-04-19T12:04:20.178Z"
   },
   {
    "duration": 74,
    "start_time": "2024-04-19T12:04:24.076Z"
   },
   {
    "duration": 77,
    "start_time": "2024-04-19T12:04:34.846Z"
   },
   {
    "duration": 78,
    "start_time": "2024-04-19T12:04:39.874Z"
   },
   {
    "duration": 414,
    "start_time": "2024-04-19T12:04:43.516Z"
   },
   {
    "duration": 431,
    "start_time": "2024-04-19T12:04:48.909Z"
   },
   {
    "duration": 486,
    "start_time": "2024-04-19T12:04:57.525Z"
   },
   {
    "duration": 258,
    "start_time": "2024-04-19T12:05:23.720Z"
   },
   {
    "duration": 149,
    "start_time": "2024-04-19T12:05:39.570Z"
   },
   {
    "duration": 166,
    "start_time": "2024-04-19T12:05:45.294Z"
   },
   {
    "duration": 28,
    "start_time": "2024-04-19T12:05:50.374Z"
   },
   {
    "duration": 9,
    "start_time": "2024-04-19T12:05:58.976Z"
   },
   {
    "duration": 182,
    "start_time": "2024-04-19T12:08:29.148Z"
   },
   {
    "duration": 1209,
    "start_time": "2024-04-19T12:18:07.238Z"
   },
   {
    "duration": 910,
    "start_time": "2024-04-19T12:18:08.449Z"
   },
   {
    "duration": 15,
    "start_time": "2024-04-19T12:18:09.361Z"
   },
   {
    "duration": 162,
    "start_time": "2024-04-19T12:18:09.377Z"
   },
   {
    "duration": 114,
    "start_time": "2024-04-19T12:18:09.542Z"
   },
   {
    "duration": 512,
    "start_time": "2024-04-19T12:18:09.657Z"
   },
   {
    "duration": 504,
    "start_time": "2024-04-19T12:18:10.171Z"
   },
   {
    "duration": 143,
    "start_time": "2024-04-19T12:18:10.677Z"
   },
   {
    "duration": 37,
    "start_time": "2024-04-19T12:18:10.822Z"
   },
   {
    "duration": 6,
    "start_time": "2024-04-19T12:18:10.861Z"
   },
   {
    "duration": 24,
    "start_time": "2024-04-19T12:18:10.868Z"
   },
   {
    "duration": 37,
    "start_time": "2024-04-19T12:18:10.893Z"
   },
   {
    "duration": 79,
    "start_time": "2024-04-19T12:18:10.932Z"
   },
   {
    "duration": 0,
    "start_time": "2024-04-19T12:18:11.015Z"
   },
   {
    "duration": 0,
    "start_time": "2024-04-19T12:18:11.016Z"
   },
   {
    "duration": 0,
    "start_time": "2024-04-19T12:18:11.017Z"
   },
   {
    "duration": 0,
    "start_time": "2024-04-19T12:18:11.018Z"
   },
   {
    "duration": 0,
    "start_time": "2024-04-19T12:18:11.019Z"
   },
   {
    "duration": 0,
    "start_time": "2024-04-19T12:18:11.020Z"
   },
   {
    "duration": 0,
    "start_time": "2024-04-19T12:18:11.021Z"
   },
   {
    "duration": 0,
    "start_time": "2024-04-19T12:18:11.022Z"
   },
   {
    "duration": 103,
    "start_time": "2024-04-19T12:19:04.891Z"
   },
   {
    "duration": 10,
    "start_time": "2024-04-19T12:19:15.444Z"
   },
   {
    "duration": 11,
    "start_time": "2024-04-19T12:20:38.066Z"
   },
   {
    "duration": 10,
    "start_time": "2024-04-19T12:20:47.340Z"
   },
   {
    "duration": 11,
    "start_time": "2024-04-19T12:27:55.896Z"
   },
   {
    "duration": 11,
    "start_time": "2024-04-19T12:30:16.637Z"
   },
   {
    "duration": 9,
    "start_time": "2024-04-19T12:36:55.555Z"
   },
   {
    "duration": 1267,
    "start_time": "2024-04-19T12:37:54.994Z"
   },
   {
    "duration": 926,
    "start_time": "2024-04-19T12:37:56.263Z"
   },
   {
    "duration": 17,
    "start_time": "2024-04-19T12:37:57.193Z"
   },
   {
    "duration": 163,
    "start_time": "2024-04-19T12:37:57.212Z"
   },
   {
    "duration": 118,
    "start_time": "2024-04-19T12:37:57.378Z"
   },
   {
    "duration": 533,
    "start_time": "2024-04-19T12:37:57.498Z"
   },
   {
    "duration": 498,
    "start_time": "2024-04-19T12:37:58.039Z"
   },
   {
    "duration": 143,
    "start_time": "2024-04-19T12:37:58.539Z"
   },
   {
    "duration": 39,
    "start_time": "2024-04-19T12:37:58.683Z"
   },
   {
    "duration": 5,
    "start_time": "2024-04-19T12:37:58.724Z"
   },
   {
    "duration": 15,
    "start_time": "2024-04-19T12:37:58.731Z"
   },
   {
    "duration": 13,
    "start_time": "2024-04-19T12:37:58.748Z"
   },
   {
    "duration": 112,
    "start_time": "2024-04-19T12:37:58.764Z"
   },
   {
    "duration": 0,
    "start_time": "2024-04-19T12:37:58.878Z"
   },
   {
    "duration": 0,
    "start_time": "2024-04-19T12:37:58.879Z"
   },
   {
    "duration": 0,
    "start_time": "2024-04-19T12:37:58.880Z"
   },
   {
    "duration": 0,
    "start_time": "2024-04-19T12:37:58.882Z"
   },
   {
    "duration": 0,
    "start_time": "2024-04-19T12:37:58.891Z"
   },
   {
    "duration": 0,
    "start_time": "2024-04-19T12:37:58.893Z"
   },
   {
    "duration": 0,
    "start_time": "2024-04-19T12:37:58.894Z"
   },
   {
    "duration": 0,
    "start_time": "2024-04-19T12:37:58.895Z"
   },
   {
    "duration": 105,
    "start_time": "2024-04-19T13:07:59.254Z"
   },
   {
    "duration": 111,
    "start_time": "2024-04-19T13:08:37.115Z"
   },
   {
    "duration": 113,
    "start_time": "2024-04-19T13:08:46.775Z"
   },
   {
    "duration": 9,
    "start_time": "2024-04-19T13:09:00.711Z"
   },
   {
    "duration": 31,
    "start_time": "2024-04-19T13:09:03.647Z"
   },
   {
    "duration": 217,
    "start_time": "2024-04-19T13:09:26.344Z"
   },
   {
    "duration": 181,
    "start_time": "2024-04-19T13:09:33.008Z"
   },
   {
    "duration": 102,
    "start_time": "2024-04-19T13:12:02.720Z"
   },
   {
    "duration": 380,
    "start_time": "2024-04-19T13:18:35.007Z"
   },
   {
    "duration": 430,
    "start_time": "2024-04-19T13:18:43.028Z"
   },
   {
    "duration": 538,
    "start_time": "2024-04-19T13:18:58.596Z"
   },
   {
    "duration": 67,
    "start_time": "2024-04-19T13:19:08.136Z"
   },
   {
    "duration": 490,
    "start_time": "2024-04-19T13:19:18.777Z"
   },
   {
    "duration": 410,
    "start_time": "2024-04-19T13:19:28.774Z"
   },
   {
    "duration": 73,
    "start_time": "2024-04-19T13:25:38.627Z"
   },
   {
    "duration": 143,
    "start_time": "2024-04-19T13:25:59.829Z"
   },
   {
    "duration": 120,
    "start_time": "2024-04-19T13:26:43.526Z"
   },
   {
    "duration": 84,
    "start_time": "2024-04-19T13:28:31.033Z"
   },
   {
    "duration": 320,
    "start_time": "2024-04-19T13:31:36.441Z"
   },
   {
    "duration": 312,
    "start_time": "2024-04-19T13:31:44.006Z"
   },
   {
    "duration": 398,
    "start_time": "2024-04-19T14:19:06.184Z"
   },
   {
    "duration": 272,
    "start_time": "2024-04-19T14:19:20.684Z"
   },
   {
    "duration": 294,
    "start_time": "2024-04-19T14:20:08.406Z"
   },
   {
    "duration": 289,
    "start_time": "2024-04-19T14:20:37.893Z"
   },
   {
    "duration": 1652,
    "start_time": "2024-04-19T14:21:41.221Z"
   },
   {
    "duration": 1437,
    "start_time": "2024-04-19T14:26:28.825Z"
   },
   {
    "duration": 299,
    "start_time": "2024-04-19T14:26:46.064Z"
   },
   {
    "duration": 418,
    "start_time": "2024-04-19T14:36:17.157Z"
   },
   {
    "duration": 11,
    "start_time": "2024-04-19T14:42:52.756Z"
   },
   {
    "duration": 426,
    "start_time": "2024-04-19T14:42:58.234Z"
   },
   {
    "duration": 378,
    "start_time": "2024-04-19T14:48:05.467Z"
   },
   {
    "duration": 810,
    "start_time": "2024-04-19T14:49:26.497Z"
   },
   {
    "duration": 530,
    "start_time": "2024-04-19T14:49:42.212Z"
   },
   {
    "duration": 9,
    "start_time": "2024-04-19T14:50:03.730Z"
   },
   {
    "duration": 349,
    "start_time": "2024-04-19T14:50:16.044Z"
   },
   {
    "duration": 199,
    "start_time": "2024-04-19T14:52:42.302Z"
   },
   {
    "duration": 220,
    "start_time": "2024-04-19T14:56:05.139Z"
   },
   {
    "duration": 75,
    "start_time": "2024-04-19T14:57:09.608Z"
   },
   {
    "duration": 205,
    "start_time": "2024-04-19T14:57:31.691Z"
   },
   {
    "duration": 522,
    "start_time": "2024-04-19T14:57:57.840Z"
   },
   {
    "duration": 470,
    "start_time": "2024-04-19T14:59:03.964Z"
   },
   {
    "duration": 207,
    "start_time": "2024-04-19T15:04:54.768Z"
   },
   {
    "duration": 473,
    "start_time": "2024-04-19T15:06:12.527Z"
   },
   {
    "duration": 474,
    "start_time": "2024-04-19T15:06:19.308Z"
   },
   {
    "duration": 218,
    "start_time": "2024-04-19T15:06:27.968Z"
   },
   {
    "duration": 568,
    "start_time": "2024-04-19T15:06:37.776Z"
   },
   {
    "duration": 93,
    "start_time": "2024-04-19T15:07:47.634Z"
   },
   {
    "duration": 8,
    "start_time": "2024-04-19T15:09:25.716Z"
   },
   {
    "duration": 11,
    "start_time": "2024-04-19T15:24:04.244Z"
   },
   {
    "duration": 12,
    "start_time": "2024-04-19T15:24:18.815Z"
   },
   {
    "duration": 10,
    "start_time": "2024-04-19T15:32:50.104Z"
   },
   {
    "duration": 12,
    "start_time": "2024-04-19T15:34:05.092Z"
   },
   {
    "duration": 29,
    "start_time": "2024-04-19T15:35:32.397Z"
   },
   {
    "duration": 1063,
    "start_time": "2024-04-19T15:38:03.817Z"
   },
   {
    "duration": 37,
    "start_time": "2024-04-19T15:39:37.212Z"
   },
   {
    "duration": 841,
    "start_time": "2024-04-19T15:39:38.117Z"
   },
   {
    "duration": 138,
    "start_time": "2024-04-19T15:42:12.967Z"
   },
   {
    "duration": 39,
    "start_time": "2024-04-19T15:43:02.294Z"
   },
   {
    "duration": 8,
    "start_time": "2024-04-19T15:43:19.456Z"
   },
   {
    "duration": 11,
    "start_time": "2024-04-19T15:43:32.555Z"
   },
   {
    "duration": 10,
    "start_time": "2024-04-19T16:01:35.567Z"
   },
   {
    "duration": 9,
    "start_time": "2024-04-19T16:02:20.319Z"
   },
   {
    "duration": 10,
    "start_time": "2024-04-19T16:02:33.830Z"
   },
   {
    "duration": 8,
    "start_time": "2024-04-19T16:08:52.288Z"
   },
   {
    "duration": 8,
    "start_time": "2024-04-19T16:09:01.270Z"
   },
   {
    "duration": 9,
    "start_time": "2024-04-19T16:47:48.821Z"
   },
   {
    "duration": 8,
    "start_time": "2024-04-19T16:47:55.447Z"
   },
   {
    "duration": 47,
    "start_time": "2024-04-19T16:48:10.355Z"
   },
   {
    "duration": 36,
    "start_time": "2024-04-19T16:48:19.448Z"
   },
   {
    "duration": 8,
    "start_time": "2024-04-19T16:48:26.936Z"
   },
   {
    "duration": 9,
    "start_time": "2024-04-19T16:48:40.051Z"
   },
   {
    "duration": 31,
    "start_time": "2024-04-19T16:59:33.615Z"
   },
   {
    "duration": 6425,
    "start_time": "2024-04-19T17:00:32.407Z"
   },
   {
    "duration": 6649,
    "start_time": "2024-04-19T17:00:57.865Z"
   },
   {
    "duration": 6700,
    "start_time": "2024-04-19T17:01:22.722Z"
   },
   {
    "duration": 346,
    "start_time": "2024-04-19T17:02:42.054Z"
   },
   {
    "duration": 1002,
    "start_time": "2024-04-19T17:03:06.471Z"
   },
   {
    "duration": 389,
    "start_time": "2024-04-19T17:03:12.721Z"
   },
   {
    "duration": 204,
    "start_time": "2024-04-19T17:03:22.576Z"
   },
   {
    "duration": 435,
    "start_time": "2024-04-19T17:03:37.616Z"
   },
   {
    "duration": 302,
    "start_time": "2024-04-19T17:03:45.314Z"
   },
   {
    "duration": 211,
    "start_time": "2024-04-19T17:04:06.041Z"
   },
   {
    "duration": 6854,
    "start_time": "2024-04-19T17:05:18.864Z"
   },
   {
    "duration": 40,
    "start_time": "2024-04-19T17:06:36.104Z"
   },
   {
    "duration": 46,
    "start_time": "2024-04-19T17:07:17.205Z"
   },
   {
    "duration": 35,
    "start_time": "2024-04-19T17:11:44.334Z"
   },
   {
    "duration": 22,
    "start_time": "2024-04-19T17:11:55.284Z"
   },
   {
    "duration": 265,
    "start_time": "2024-04-19T17:14:08.387Z"
   },
   {
    "duration": 79,
    "start_time": "2024-04-19T17:15:32.791Z"
   },
   {
    "duration": 8,
    "start_time": "2024-04-19T17:15:46.675Z"
   },
   {
    "duration": 9,
    "start_time": "2024-04-19T17:18:08.922Z"
   },
   {
    "duration": 8,
    "start_time": "2024-04-19T17:18:30.293Z"
   },
   {
    "duration": 9,
    "start_time": "2024-04-19T17:19:26.031Z"
   },
   {
    "duration": 23,
    "start_time": "2024-04-19T17:19:44.445Z"
   },
   {
    "duration": 384,
    "start_time": "2024-04-19T17:19:46.788Z"
   },
   {
    "duration": 22,
    "start_time": "2024-04-19T17:20:15.569Z"
   },
   {
    "duration": 11,
    "start_time": "2024-04-19T17:25:39.349Z"
   },
   {
    "duration": 238,
    "start_time": "2024-04-19T17:26:49.757Z"
   },
   {
    "duration": 74,
    "start_time": "2024-04-19T17:28:12.403Z"
   },
   {
    "duration": 44,
    "start_time": "2024-04-19T17:28:38.617Z"
   },
   {
    "duration": 223,
    "start_time": "2024-04-19T17:32:46.736Z"
   },
   {
    "duration": 232,
    "start_time": "2024-04-19T17:33:10.859Z"
   },
   {
    "duration": 213,
    "start_time": "2024-04-19T17:33:51.625Z"
   },
   {
    "duration": 208,
    "start_time": "2024-04-19T17:34:05.583Z"
   },
   {
    "duration": 206,
    "start_time": "2024-04-19T17:34:19.268Z"
   },
   {
    "duration": 258,
    "start_time": "2024-04-19T17:36:52.165Z"
   },
   {
    "duration": 198,
    "start_time": "2024-04-19T17:37:07.590Z"
   },
   {
    "duration": 513,
    "start_time": "2024-04-19T17:39:36.451Z"
   },
   {
    "duration": 700,
    "start_time": "2024-04-19T17:39:49.418Z"
   },
   {
    "duration": 394,
    "start_time": "2024-04-19T17:41:28.118Z"
   },
   {
    "duration": 220,
    "start_time": "2024-04-19T17:46:03.353Z"
   },
   {
    "duration": 38,
    "start_time": "2024-04-19T17:46:18.207Z"
   },
   {
    "duration": 45,
    "start_time": "2024-04-19T17:46:22.399Z"
   },
   {
    "duration": 229,
    "start_time": "2024-04-19T17:46:26.457Z"
   },
   {
    "duration": 12,
    "start_time": "2024-04-19T17:51:43.449Z"
   },
   {
    "duration": 219,
    "start_time": "2024-04-19T17:52:10.641Z"
   },
   {
    "duration": 14,
    "start_time": "2024-04-19T17:52:31.108Z"
   },
   {
    "duration": 341,
    "start_time": "2024-04-19T17:52:33.140Z"
   },
   {
    "duration": 13,
    "start_time": "2024-04-19T17:53:31.491Z"
   },
   {
    "duration": 190,
    "start_time": "2024-04-19T17:53:33.227Z"
   },
   {
    "duration": 10,
    "start_time": "2024-04-19T17:59:08.723Z"
   },
   {
    "duration": 9,
    "start_time": "2024-04-19T17:59:16.936Z"
   },
   {
    "duration": 14,
    "start_time": "2024-04-19T17:59:52.801Z"
   },
   {
    "duration": 51,
    "start_time": "2024-04-19T17:59:59.349Z"
   },
   {
    "duration": 49,
    "start_time": "2024-04-19T18:02:04.704Z"
   },
   {
    "duration": 22,
    "start_time": "2024-04-19T18:05:36.731Z"
   },
   {
    "duration": 26,
    "start_time": "2024-04-19T18:06:01.570Z"
   },
   {
    "duration": 257,
    "start_time": "2024-04-19T18:06:39.259Z"
   },
   {
    "duration": 289,
    "start_time": "2024-04-19T18:07:15.126Z"
   },
   {
    "duration": 10,
    "start_time": "2024-04-19T18:07:59.215Z"
   },
   {
    "duration": 99,
    "start_time": "2024-04-19T18:08:03.145Z"
   },
   {
    "duration": 1269,
    "start_time": "2024-04-19T18:08:31.455Z"
   },
   {
    "duration": 940,
    "start_time": "2024-04-19T18:08:32.726Z"
   },
   {
    "duration": 15,
    "start_time": "2024-04-19T18:08:33.668Z"
   },
   {
    "duration": 158,
    "start_time": "2024-04-19T18:08:33.691Z"
   },
   {
    "duration": 103,
    "start_time": "2024-04-19T18:08:33.852Z"
   },
   {
    "duration": 490,
    "start_time": "2024-04-19T18:08:33.957Z"
   },
   {
    "duration": 488,
    "start_time": "2024-04-19T18:08:34.448Z"
   },
   {
    "duration": 139,
    "start_time": "2024-04-19T18:08:34.938Z"
   },
   {
    "duration": 43,
    "start_time": "2024-04-19T18:08:35.079Z"
   },
   {
    "duration": 7,
    "start_time": "2024-04-19T18:08:35.124Z"
   },
   {
    "duration": 15,
    "start_time": "2024-04-19T18:08:35.132Z"
   },
   {
    "duration": 36,
    "start_time": "2024-04-19T18:08:35.148Z"
   },
   {
    "duration": 112,
    "start_time": "2024-04-19T18:08:35.186Z"
   },
   {
    "duration": 95,
    "start_time": "2024-04-19T18:08:35.301Z"
   },
   {
    "duration": 16,
    "start_time": "2024-04-19T18:08:35.397Z"
   },
   {
    "duration": 36,
    "start_time": "2024-04-19T18:08:35.414Z"
   },
   {
    "duration": 461,
    "start_time": "2024-04-19T18:08:35.452Z"
   },
   {
    "duration": 222,
    "start_time": "2024-04-19T18:08:35.915Z"
   },
   {
    "duration": 16,
    "start_time": "2024-04-19T18:08:36.138Z"
   },
   {
    "duration": 126,
    "start_time": "2024-04-19T18:08:36.155Z"
   },
   {
    "duration": 0,
    "start_time": "2024-04-19T18:08:36.282Z"
   },
   {
    "duration": 0,
    "start_time": "2024-04-19T18:08:36.283Z"
   },
   {
    "duration": 0,
    "start_time": "2024-04-19T18:08:36.285Z"
   },
   {
    "duration": 0,
    "start_time": "2024-04-19T18:08:36.286Z"
   },
   {
    "duration": 0,
    "start_time": "2024-04-19T18:08:36.287Z"
   },
   {
    "duration": 0,
    "start_time": "2024-04-19T18:08:36.292Z"
   },
   {
    "duration": 0,
    "start_time": "2024-04-19T18:08:36.293Z"
   },
   {
    "duration": 0,
    "start_time": "2024-04-19T18:08:36.294Z"
   },
   {
    "duration": 0,
    "start_time": "2024-04-19T18:08:36.295Z"
   },
   {
    "duration": 0,
    "start_time": "2024-04-19T18:08:36.296Z"
   },
   {
    "duration": 0,
    "start_time": "2024-04-19T18:08:36.297Z"
   },
   {
    "duration": 0,
    "start_time": "2024-04-19T18:08:36.298Z"
   },
   {
    "duration": 14,
    "start_time": "2024-04-19T18:27:25.821Z"
   },
   {
    "duration": 13,
    "start_time": "2024-04-19T18:27:30.417Z"
   },
   {
    "duration": 27,
    "start_time": "2024-04-19T18:28:42.195Z"
   },
   {
    "duration": 9,
    "start_time": "2024-04-19T18:28:49.859Z"
   },
   {
    "duration": 7,
    "start_time": "2024-04-19T18:29:09.330Z"
   },
   {
    "duration": 1515,
    "start_time": "2024-04-20T13:14:33.638Z"
   },
   {
    "duration": 1288,
    "start_time": "2024-04-20T13:14:35.155Z"
   },
   {
    "duration": 16,
    "start_time": "2024-04-20T13:14:36.444Z"
   },
   {
    "duration": 161,
    "start_time": "2024-04-20T13:14:36.462Z"
   },
   {
    "duration": 109,
    "start_time": "2024-04-20T13:14:36.625Z"
   },
   {
    "duration": 498,
    "start_time": "2024-04-20T13:14:36.735Z"
   },
   {
    "duration": 541,
    "start_time": "2024-04-20T13:14:37.234Z"
   },
   {
    "duration": 165,
    "start_time": "2024-04-20T13:14:37.776Z"
   },
   {
    "duration": 43,
    "start_time": "2024-04-20T13:14:37.942Z"
   },
   {
    "duration": 4,
    "start_time": "2024-04-20T13:14:37.987Z"
   },
   {
    "duration": 5,
    "start_time": "2024-04-20T13:14:37.993Z"
   },
   {
    "duration": 13,
    "start_time": "2024-04-20T13:14:37.999Z"
   },
   {
    "duration": 126,
    "start_time": "2024-04-20T13:14:38.014Z"
   },
   {
    "duration": 102,
    "start_time": "2024-04-20T13:14:38.143Z"
   },
   {
    "duration": 9,
    "start_time": "2024-04-20T13:14:38.246Z"
   },
   {
    "duration": 49,
    "start_time": "2024-04-20T13:14:38.257Z"
   },
   {
    "duration": 506,
    "start_time": "2024-04-20T13:14:38.307Z"
   },
   {
    "duration": 226,
    "start_time": "2024-04-20T13:14:38.815Z"
   },
   {
    "duration": 15,
    "start_time": "2024-04-20T13:14:39.043Z"
   },
   {
    "duration": 22,
    "start_time": "2024-04-20T13:14:39.059Z"
   },
   {
    "duration": 23,
    "start_time": "2024-04-20T13:14:39.082Z"
   },
   {
    "duration": 925,
    "start_time": "2024-04-20T13:14:39.107Z"
   },
   {
    "duration": 148,
    "start_time": "2024-04-20T13:14:40.034Z"
   },
   {
    "duration": 9,
    "start_time": "2024-04-20T13:14:40.184Z"
   },
   {
    "duration": 44,
    "start_time": "2024-04-20T13:14:40.194Z"
   },
   {
    "duration": 242,
    "start_time": "2024-04-20T13:14:40.240Z"
   },
   {
    "duration": 302,
    "start_time": "2024-04-20T13:14:40.484Z"
   },
   {
    "duration": 11,
    "start_time": "2024-04-20T13:14:40.788Z"
   },
   {
    "duration": 285,
    "start_time": "2024-04-20T13:14:40.801Z"
   },
   {
    "duration": 411,
    "start_time": "2024-04-20T13:14:41.088Z"
   },
   {
    "duration": 131,
    "start_time": "2024-04-20T13:14:41.501Z"
   },
   {
    "duration": 96,
    "start_time": "2024-04-20T13:14:41.633Z"
   },
   {
    "duration": 89,
    "start_time": "2024-04-20T13:15:13.689Z"
   },
   {
    "duration": 612,
    "start_time": "2024-04-20T13:44:18.193Z"
   },
   {
    "duration": 33,
    "start_time": "2024-04-20T13:44:32.154Z"
   },
   {
    "duration": 490,
    "start_time": "2024-04-20T13:56:21.571Z"
   },
   {
    "duration": 131,
    "start_time": "2024-04-20T14:12:04.806Z"
   },
   {
    "duration": 17,
    "start_time": "2024-04-20T14:12:13.047Z"
   },
   {
    "duration": 44,
    "start_time": "2024-04-20T14:16:46.700Z"
   },
   {
    "duration": 38,
    "start_time": "2024-04-20T14:18:15.156Z"
   },
   {
    "duration": 11,
    "start_time": "2024-04-20T14:18:28.834Z"
   },
   {
    "duration": 62,
    "start_time": "2024-04-20T14:19:14.937Z"
   },
   {
    "duration": 39,
    "start_time": "2024-04-20T14:19:23.187Z"
   },
   {
    "duration": 37,
    "start_time": "2024-04-20T14:24:03.831Z"
   },
   {
    "duration": 11,
    "start_time": "2024-04-20T14:24:32.767Z"
   },
   {
    "duration": 11,
    "start_time": "2024-04-20T14:24:33.381Z"
   },
   {
    "duration": 28,
    "start_time": "2024-04-20T14:25:44.030Z"
   },
   {
    "duration": 3,
    "start_time": "2024-04-20T14:25:44.650Z"
   },
   {
    "duration": 66,
    "start_time": "2024-04-20T14:25:45.249Z"
   },
   {
    "duration": 25,
    "start_time": "2024-04-20T14:25:46.083Z"
   },
   {
    "duration": 58,
    "start_time": "2024-04-20T14:27:23.307Z"
   },
   {
    "duration": 36,
    "start_time": "2024-04-20T14:31:45.256Z"
   },
   {
    "duration": 61,
    "start_time": "2024-04-20T14:32:06.742Z"
   },
   {
    "duration": 4,
    "start_time": "2024-04-20T14:32:27.645Z"
   },
   {
    "duration": 67,
    "start_time": "2024-04-20T14:35:41.339Z"
   },
   {
    "duration": 14,
    "start_time": "2024-04-20T14:35:45.412Z"
   },
   {
    "duration": 4,
    "start_time": "2024-04-20T14:35:46.378Z"
   },
   {
    "duration": 60,
    "start_time": "2024-04-20T14:35:53.246Z"
   },
   {
    "duration": 23,
    "start_time": "2024-04-20T14:35:55.640Z"
   },
   {
    "duration": 4,
    "start_time": "2024-04-20T14:35:55.972Z"
   },
   {
    "duration": 21,
    "start_time": "2024-04-20T14:36:02.896Z"
   },
   {
    "duration": 4,
    "start_time": "2024-04-20T14:36:05.226Z"
   },
   {
    "duration": 60,
    "start_time": "2024-04-20T14:36:09.335Z"
   },
   {
    "duration": 26,
    "start_time": "2024-04-20T14:36:09.730Z"
   },
   {
    "duration": 4,
    "start_time": "2024-04-20T14:36:10.186Z"
   },
   {
    "duration": 4,
    "start_time": "2024-04-20T14:37:47.793Z"
   },
   {
    "duration": 17,
    "start_time": "2024-04-20T14:58:40.031Z"
   },
   {
    "duration": 11,
    "start_time": "2024-04-20T15:00:24.250Z"
   },
   {
    "duration": 12,
    "start_time": "2024-04-20T15:00:29.799Z"
   },
   {
    "duration": 41,
    "start_time": "2024-04-20T15:00:36.353Z"
   },
   {
    "duration": 62,
    "start_time": "2024-04-20T15:00:45.978Z"
   },
   {
    "duration": 3,
    "start_time": "2024-04-20T15:03:35.335Z"
   },
   {
    "duration": 3,
    "start_time": "2024-04-20T15:04:00.494Z"
   },
   {
    "duration": 3,
    "start_time": "2024-04-20T15:13:39.709Z"
   },
   {
    "duration": 151,
    "start_time": "2024-04-20T15:14:10.429Z"
   },
   {
    "duration": 9,
    "start_time": "2024-04-20T15:16:13.812Z"
   },
   {
    "duration": 7,
    "start_time": "2024-04-20T15:16:16.782Z"
   },
   {
    "duration": 3,
    "start_time": "2024-04-20T15:16:17.252Z"
   },
   {
    "duration": 40,
    "start_time": "2024-04-20T15:16:17.691Z"
   },
   {
    "duration": 19,
    "start_time": "2024-04-20T15:16:18.324Z"
   },
   {
    "duration": 4,
    "start_time": "2024-04-20T15:16:19.568Z"
   },
   {
    "duration": 57,
    "start_time": "2024-04-20T15:17:17.483Z"
   },
   {
    "duration": 55,
    "start_time": "2024-04-20T15:17:46.184Z"
   },
   {
    "duration": 55,
    "start_time": "2024-04-20T15:18:16.672Z"
   },
   {
    "duration": 9,
    "start_time": "2024-04-20T15:21:52.567Z"
   },
   {
    "duration": 7,
    "start_time": "2024-04-20T15:21:53.871Z"
   },
   {
    "duration": 3,
    "start_time": "2024-04-20T15:21:54.118Z"
   },
   {
    "duration": 39,
    "start_time": "2024-04-20T15:21:54.386Z"
   },
   {
    "duration": 30,
    "start_time": "2024-04-20T15:21:54.746Z"
   },
   {
    "duration": 4,
    "start_time": "2024-04-20T15:21:55.190Z"
   },
   {
    "duration": 57,
    "start_time": "2024-04-20T15:21:57.054Z"
   },
   {
    "duration": 54,
    "start_time": "2024-04-20T15:22:12.999Z"
   },
   {
    "duration": 49,
    "start_time": "2024-04-20T15:24:22.259Z"
   },
   {
    "duration": 1590,
    "start_time": "2024-04-20T15:27:29.549Z"
   },
   {
    "duration": 969,
    "start_time": "2024-04-20T15:27:31.141Z"
   },
   {
    "duration": 16,
    "start_time": "2024-04-20T15:27:32.112Z"
   },
   {
    "duration": 194,
    "start_time": "2024-04-20T15:27:32.130Z"
   },
   {
    "duration": 170,
    "start_time": "2024-04-20T15:27:32.327Z"
   },
   {
    "duration": 539,
    "start_time": "2024-04-20T15:27:32.499Z"
   },
   {
    "duration": 556,
    "start_time": "2024-04-20T15:27:33.039Z"
   },
   {
    "duration": 146,
    "start_time": "2024-04-20T15:27:33.597Z"
   },
   {
    "duration": 49,
    "start_time": "2024-04-20T15:27:33.745Z"
   },
   {
    "duration": 9,
    "start_time": "2024-04-20T15:27:33.796Z"
   },
   {
    "duration": 7,
    "start_time": "2024-04-20T15:27:33.807Z"
   },
   {
    "duration": 28,
    "start_time": "2024-04-20T15:27:33.815Z"
   },
   {
    "duration": 114,
    "start_time": "2024-04-20T15:27:33.845Z"
   },
   {
    "duration": 122,
    "start_time": "2024-04-20T15:27:33.962Z"
   },
   {
    "duration": 28,
    "start_time": "2024-04-20T15:27:34.085Z"
   },
   {
    "duration": 35,
    "start_time": "2024-04-20T15:27:34.115Z"
   },
   {
    "duration": 546,
    "start_time": "2024-04-20T15:27:34.152Z"
   },
   {
    "duration": 307,
    "start_time": "2024-04-20T15:27:34.699Z"
   },
   {
    "duration": 16,
    "start_time": "2024-04-20T15:27:35.007Z"
   },
   {
    "duration": 26,
    "start_time": "2024-04-20T15:27:35.025Z"
   },
   {
    "duration": 31,
    "start_time": "2024-04-20T15:27:35.053Z"
   },
   {
    "duration": 913,
    "start_time": "2024-04-20T15:27:35.085Z"
   },
   {
    "duration": 157,
    "start_time": "2024-04-20T15:27:36.000Z"
   },
   {
    "duration": 11,
    "start_time": "2024-04-20T15:27:36.158Z"
   },
   {
    "duration": 50,
    "start_time": "2024-04-20T15:27:36.181Z"
   },
   {
    "duration": 241,
    "start_time": "2024-04-20T15:27:36.232Z"
   },
   {
    "duration": 211,
    "start_time": "2024-04-20T15:27:36.480Z"
   },
   {
    "duration": 18,
    "start_time": "2024-04-20T15:27:36.693Z"
   },
   {
    "duration": 294,
    "start_time": "2024-04-20T15:27:36.713Z"
   },
   {
    "duration": 424,
    "start_time": "2024-04-20T15:27:37.009Z"
   },
   {
    "duration": 151,
    "start_time": "2024-04-20T15:27:37.435Z"
   },
   {
    "duration": 94,
    "start_time": "2024-04-20T15:27:37.588Z"
   },
   {
    "duration": 3,
    "start_time": "2024-04-20T15:27:37.683Z"
   },
   {
    "duration": 16,
    "start_time": "2024-04-20T15:27:37.687Z"
   },
   {
    "duration": 15,
    "start_time": "2024-04-20T15:27:37.705Z"
   },
   {
    "duration": 112,
    "start_time": "2024-04-20T15:27:37.723Z"
   },
   {
    "duration": 32,
    "start_time": "2024-04-20T15:27:37.836Z"
   },
   {
    "duration": 11,
    "start_time": "2024-04-20T15:27:37.870Z"
   },
   {
    "duration": 183,
    "start_time": "2024-04-20T15:27:37.882Z"
   },
   {
    "duration": 0,
    "start_time": "2024-04-20T15:27:38.067Z"
   },
   {
    "duration": 14,
    "start_time": "2024-04-20T15:28:55.214Z"
   },
   {
    "duration": 86,
    "start_time": "2024-04-20T15:29:01.036Z"
   },
   {
    "duration": 94,
    "start_time": "2024-04-20T15:30:49.836Z"
   },
   {
    "duration": 47,
    "start_time": "2024-04-20T15:40:04.670Z"
   },
   {
    "duration": 86,
    "start_time": "2024-04-20T15:40:53.173Z"
   },
   {
    "duration": 58,
    "start_time": "2024-04-20T15:41:00.990Z"
   },
   {
    "duration": 15,
    "start_time": "2024-04-20T15:41:06.388Z"
   },
   {
    "duration": 2691,
    "start_time": "2024-04-20T15:41:36.934Z"
   },
   {
    "duration": 3,
    "start_time": "2024-04-20T15:42:04.506Z"
   },
   {
    "duration": 2755,
    "start_time": "2024-04-20T15:42:05.369Z"
   },
   {
    "duration": 25,
    "start_time": "2024-04-20T16:08:59.421Z"
   },
   {
    "duration": 4,
    "start_time": "2024-04-20T16:09:52.669Z"
   },
   {
    "duration": 61,
    "start_time": "2024-04-20T16:09:53.043Z"
   },
   {
    "duration": 4,
    "start_time": "2024-04-20T16:09:53.448Z"
   },
   {
    "duration": 85,
    "start_time": "2024-04-20T16:25:59.078Z"
   },
   {
    "duration": 58,
    "start_time": "2024-04-20T16:46:28.465Z"
   },
   {
    "duration": 20,
    "start_time": "2024-04-20T16:46:52.906Z"
   },
   {
    "duration": 4,
    "start_time": "2024-04-20T16:47:06.908Z"
   },
   {
    "duration": 72,
    "start_time": "2024-04-20T16:50:15.411Z"
   },
   {
    "duration": 3,
    "start_time": "2024-04-20T17:12:47.170Z"
   },
   {
    "duration": 24,
    "start_time": "2024-04-20T17:12:49.200Z"
   },
   {
    "duration": 3,
    "start_time": "2024-04-20T17:12:49.548Z"
   },
   {
    "duration": 60,
    "start_time": "2024-04-20T17:12:50.236Z"
   },
   {
    "duration": 18,
    "start_time": "2024-04-20T17:12:50.770Z"
   },
   {
    "duration": 4,
    "start_time": "2024-04-20T17:12:51.353Z"
   },
   {
    "duration": 38,
    "start_time": "2024-04-20T17:17:33.620Z"
   },
   {
    "duration": 3,
    "start_time": "2024-04-20T17:18:07.812Z"
   },
   {
    "duration": 4,
    "start_time": "2024-04-20T17:32:31.913Z"
   },
   {
    "duration": 67,
    "start_time": "2024-04-20T18:49:29.715Z"
   },
   {
    "duration": 72,
    "start_time": "2024-04-20T19:02:12.233Z"
   },
   {
    "duration": 26,
    "start_time": "2024-04-20T19:02:13.033Z"
   },
   {
    "duration": 23,
    "start_time": "2024-04-20T19:02:22.069Z"
   },
   {
    "duration": 25,
    "start_time": "2024-04-20T19:02:30.310Z"
   },
   {
    "duration": 14,
    "start_time": "2024-04-20T19:03:07.319Z"
   },
   {
    "duration": 4,
    "start_time": "2024-04-20T19:03:07.649Z"
   },
   {
    "duration": 61,
    "start_time": "2024-04-20T19:03:13.595Z"
   },
   {
    "duration": 25,
    "start_time": "2024-04-20T19:03:14.183Z"
   },
   {
    "duration": 11,
    "start_time": "2024-04-20T19:06:41.464Z"
   },
   {
    "duration": 11,
    "start_time": "2024-04-20T19:06:58.237Z"
   },
   {
    "duration": 10,
    "start_time": "2024-04-20T19:11:53.583Z"
   },
   {
    "duration": 3,
    "start_time": "2024-04-20T19:27:24.540Z"
   },
   {
    "duration": 589,
    "start_time": "2024-04-20T19:27:25.365Z"
   },
   {
    "duration": 20,
    "start_time": "2024-04-20T19:27:50.601Z"
   },
   {
    "duration": 72,
    "start_time": "2024-04-20T19:34:12.572Z"
   },
   {
    "duration": 3,
    "start_time": "2024-04-20T19:34:13.470Z"
   },
   {
    "duration": 63,
    "start_time": "2024-04-20T19:34:29.473Z"
   },
   {
    "duration": 4,
    "start_time": "2024-04-20T19:34:30.272Z"
   },
   {
    "duration": 58,
    "start_time": "2024-04-20T19:34:42.850Z"
   },
   {
    "duration": 55,
    "start_time": "2024-04-20T19:34:52.885Z"
   },
   {
    "duration": 5,
    "start_time": "2024-04-20T19:35:00.422Z"
   },
   {
    "duration": 60,
    "start_time": "2024-04-20T19:35:11.522Z"
   },
   {
    "duration": 4,
    "start_time": "2024-04-20T19:35:11.856Z"
   },
   {
    "duration": 49,
    "start_time": "2024-04-20T19:35:35.143Z"
   },
   {
    "duration": 4,
    "start_time": "2024-04-20T19:35:36.535Z"
   },
   {
    "duration": 1548,
    "start_time": "2024-04-20T19:39:14.111Z"
   },
   {
    "duration": 920,
    "start_time": "2024-04-20T19:39:15.661Z"
   },
   {
    "duration": 16,
    "start_time": "2024-04-20T19:39:16.582Z"
   },
   {
    "duration": 164,
    "start_time": "2024-04-20T19:39:16.599Z"
   },
   {
    "duration": 100,
    "start_time": "2024-04-20T19:39:16.766Z"
   },
   {
    "duration": 514,
    "start_time": "2024-04-20T19:39:16.868Z"
   },
   {
    "duration": 507,
    "start_time": "2024-04-20T19:39:17.383Z"
   },
   {
    "duration": 135,
    "start_time": "2024-04-20T19:39:17.892Z"
   },
   {
    "duration": 54,
    "start_time": "2024-04-20T19:39:18.028Z"
   },
   {
    "duration": 4,
    "start_time": "2024-04-20T19:39:18.083Z"
   },
   {
    "duration": 12,
    "start_time": "2024-04-20T19:39:18.088Z"
   },
   {
    "duration": 13,
    "start_time": "2024-04-20T19:39:18.102Z"
   },
   {
    "duration": 103,
    "start_time": "2024-04-20T19:39:18.116Z"
   },
   {
    "duration": 87,
    "start_time": "2024-04-20T19:39:18.222Z"
   },
   {
    "duration": 8,
    "start_time": "2024-04-20T19:39:18.311Z"
   },
   {
    "duration": 28,
    "start_time": "2024-04-20T19:39:18.320Z"
   },
   {
    "duration": 574,
    "start_time": "2024-04-20T19:39:18.349Z"
   },
   {
    "duration": 290,
    "start_time": "2024-04-20T19:39:18.925Z"
   },
   {
    "duration": 13,
    "start_time": "2024-04-20T19:39:19.217Z"
   },
   {
    "duration": 8,
    "start_time": "2024-04-20T19:39:19.232Z"
   },
   {
    "duration": 40,
    "start_time": "2024-04-20T19:39:19.241Z"
   },
   {
    "duration": 790,
    "start_time": "2024-04-20T19:39:19.283Z"
   },
   {
    "duration": 138,
    "start_time": "2024-04-20T19:39:20.074Z"
   },
   {
    "duration": 10,
    "start_time": "2024-04-20T19:39:20.214Z"
   },
   {
    "duration": 61,
    "start_time": "2024-04-20T19:39:20.225Z"
   },
   {
    "duration": 244,
    "start_time": "2024-04-20T19:39:20.288Z"
   },
   {
    "duration": 211,
    "start_time": "2024-04-20T19:39:20.534Z"
   },
   {
    "duration": 10,
    "start_time": "2024-04-20T19:39:20.747Z"
   },
   {
    "duration": 269,
    "start_time": "2024-04-20T19:39:20.759Z"
   },
   {
    "duration": 381,
    "start_time": "2024-04-20T19:39:21.029Z"
   },
   {
    "duration": 129,
    "start_time": "2024-04-20T19:39:21.411Z"
   },
   {
    "duration": 82,
    "start_time": "2024-04-20T19:39:21.542Z"
   },
   {
    "duration": 3,
    "start_time": "2024-04-20T19:39:21.626Z"
   },
   {
    "duration": 26,
    "start_time": "2024-04-20T19:39:21.630Z"
   },
   {
    "duration": 4,
    "start_time": "2024-04-20T19:39:21.658Z"
   },
   {
    "duration": 618,
    "start_time": "2024-04-20T19:39:21.663Z"
   },
   {
    "duration": 13,
    "start_time": "2024-04-20T19:39:22.283Z"
   },
   {
    "duration": 48,
    "start_time": "2024-04-20T19:39:22.298Z"
   },
   {
    "duration": 5,
    "start_time": "2024-04-20T19:39:22.348Z"
   },
   {
    "duration": 132,
    "start_time": "2024-04-20T19:39:22.354Z"
   },
   {
    "duration": 0,
    "start_time": "2024-04-20T19:39:22.488Z"
   },
   {
    "duration": 0,
    "start_time": "2024-04-20T19:39:22.490Z"
   },
   {
    "duration": 0,
    "start_time": "2024-04-20T19:39:22.491Z"
   },
   {
    "duration": 0,
    "start_time": "2024-04-20T19:39:22.493Z"
   },
   {
    "duration": 0,
    "start_time": "2024-04-20T19:39:22.494Z"
   },
   {
    "duration": 0,
    "start_time": "2024-04-20T19:39:22.496Z"
   },
   {
    "duration": 194,
    "start_time": "2024-04-20T19:42:52.788Z"
   },
   {
    "duration": 73,
    "start_time": "2024-04-20T19:44:51.123Z"
   },
   {
    "duration": 4,
    "start_time": "2024-04-20T19:45:00.433Z"
   },
   {
    "duration": 125,
    "start_time": "2024-04-20T19:45:24.256Z"
   },
   {
    "duration": 1677,
    "start_time": "2024-04-20T19:46:34.001Z"
   },
   {
    "duration": 12,
    "start_time": "2024-04-20T19:47:09.430Z"
   },
   {
    "duration": 26,
    "start_time": "2024-04-20T19:47:20.522Z"
   },
   {
    "duration": 24,
    "start_time": "2024-04-20T19:47:36.611Z"
   },
   {
    "duration": 26,
    "start_time": "2024-04-20T19:47:40.481Z"
   },
   {
    "duration": 10,
    "start_time": "2024-04-20T19:47:47.059Z"
   },
   {
    "duration": 2375,
    "start_time": "2024-04-20T19:48:00.142Z"
   },
   {
    "duration": 1793,
    "start_time": "2024-04-21T07:55:15.886Z"
   },
   {
    "duration": 3029,
    "start_time": "2024-04-21T07:55:17.681Z"
   },
   {
    "duration": 23,
    "start_time": "2024-04-21T07:55:20.712Z"
   },
   {
    "duration": 158,
    "start_time": "2024-04-21T07:55:20.737Z"
   },
   {
    "duration": 158,
    "start_time": "2024-04-21T07:55:20.897Z"
   },
   {
    "duration": 525,
    "start_time": "2024-04-21T07:55:21.056Z"
   },
   {
    "duration": 549,
    "start_time": "2024-04-21T07:55:21.583Z"
   },
   {
    "duration": 149,
    "start_time": "2024-04-21T07:55:22.134Z"
   },
   {
    "duration": 35,
    "start_time": "2024-04-21T07:55:22.285Z"
   },
   {
    "duration": 3,
    "start_time": "2024-04-21T07:55:22.330Z"
   },
   {
    "duration": 7,
    "start_time": "2024-04-21T07:55:22.335Z"
   },
   {
    "duration": 11,
    "start_time": "2024-04-21T07:55:22.343Z"
   },
   {
    "duration": 116,
    "start_time": "2024-04-21T07:55:22.356Z"
   },
   {
    "duration": 102,
    "start_time": "2024-04-21T07:55:22.475Z"
   },
   {
    "duration": 12,
    "start_time": "2024-04-21T07:55:22.579Z"
   },
   {
    "duration": 43,
    "start_time": "2024-04-21T07:55:22.593Z"
   },
   {
    "duration": 465,
    "start_time": "2024-04-21T07:55:22.638Z"
   },
   {
    "duration": 285,
    "start_time": "2024-04-21T07:55:23.105Z"
   },
   {
    "duration": 15,
    "start_time": "2024-04-21T07:55:23.392Z"
   },
   {
    "duration": 24,
    "start_time": "2024-04-21T07:55:23.408Z"
   },
   {
    "duration": 25,
    "start_time": "2024-04-21T07:55:23.433Z"
   },
   {
    "duration": 888,
    "start_time": "2024-04-21T07:55:23.459Z"
   },
   {
    "duration": 157,
    "start_time": "2024-04-21T07:55:24.348Z"
   },
   {
    "duration": 27,
    "start_time": "2024-04-21T07:55:24.507Z"
   },
   {
    "duration": 46,
    "start_time": "2024-04-21T07:55:24.536Z"
   },
   {
    "duration": 240,
    "start_time": "2024-04-21T07:55:24.583Z"
   },
   {
    "duration": 228,
    "start_time": "2024-04-21T07:55:24.825Z"
   },
   {
    "duration": 12,
    "start_time": "2024-04-21T07:55:25.055Z"
   },
   {
    "duration": 292,
    "start_time": "2024-04-21T07:55:25.069Z"
   },
   {
    "duration": 431,
    "start_time": "2024-04-21T07:55:25.363Z"
   },
   {
    "duration": 147,
    "start_time": "2024-04-21T07:55:25.796Z"
   },
   {
    "duration": 96,
    "start_time": "2024-04-21T07:55:25.951Z"
   },
   {
    "duration": 3,
    "start_time": "2024-04-21T07:55:26.049Z"
   },
   {
    "duration": 17,
    "start_time": "2024-04-21T07:55:26.053Z"
   },
   {
    "duration": 4,
    "start_time": "2024-04-21T07:55:26.072Z"
   },
   {
    "duration": 611,
    "start_time": "2024-04-21T07:55:26.077Z"
   },
   {
    "duration": 12,
    "start_time": "2024-04-21T07:55:26.690Z"
   },
   {
    "duration": 55,
    "start_time": "2024-04-21T07:55:26.704Z"
   },
   {
    "duration": 4,
    "start_time": "2024-04-21T07:55:26.761Z"
   },
   {
    "duration": 3,
    "start_time": "2024-04-21T08:04:12.246Z"
   },
   {
    "duration": 129,
    "start_time": "2024-04-21T08:04:12.822Z"
   },
   {
    "duration": 100,
    "start_time": "2024-04-21T08:04:37.154Z"
   },
   {
    "duration": 26,
    "start_time": "2024-04-21T08:04:40.857Z"
   },
   {
    "duration": 3,
    "start_time": "2024-04-21T08:04:52.083Z"
   },
   {
    "duration": 12498,
    "start_time": "2024-04-21T08:04:53.505Z"
   },
   {
    "duration": 1504,
    "start_time": "2024-04-21T08:11:42.489Z"
   },
   {
    "duration": 949,
    "start_time": "2024-04-21T08:11:43.995Z"
   },
   {
    "duration": 16,
    "start_time": "2024-04-21T08:11:44.946Z"
   },
   {
    "duration": 166,
    "start_time": "2024-04-21T08:11:44.963Z"
   },
   {
    "duration": 171,
    "start_time": "2024-04-21T08:11:45.131Z"
   },
   {
    "duration": 503,
    "start_time": "2024-04-21T08:11:45.304Z"
   },
   {
    "duration": 567,
    "start_time": "2024-04-21T08:11:45.809Z"
   },
   {
    "duration": 153,
    "start_time": "2024-04-21T08:11:46.378Z"
   },
   {
    "duration": 36,
    "start_time": "2024-04-21T08:11:46.533Z"
   },
   {
    "duration": 21,
    "start_time": "2024-04-21T08:11:46.571Z"
   },
   {
    "duration": 25,
    "start_time": "2024-04-21T08:11:46.594Z"
   },
   {
    "duration": 15,
    "start_time": "2024-04-21T08:11:46.621Z"
   },
   {
    "duration": 117,
    "start_time": "2024-04-21T08:11:46.638Z"
   },
   {
    "duration": 98,
    "start_time": "2024-04-21T08:11:46.758Z"
   },
   {
    "duration": 16,
    "start_time": "2024-04-21T08:11:46.858Z"
   },
   {
    "duration": 36,
    "start_time": "2024-04-21T08:11:46.876Z"
   },
   {
    "duration": 482,
    "start_time": "2024-04-21T08:11:46.914Z"
   },
   {
    "duration": 376,
    "start_time": "2024-04-21T08:11:47.398Z"
   },
   {
    "duration": 23,
    "start_time": "2024-04-21T08:11:47.776Z"
   },
   {
    "duration": 9,
    "start_time": "2024-04-21T08:11:47.802Z"
   },
   {
    "duration": 39,
    "start_time": "2024-04-21T08:11:47.813Z"
   },
   {
    "duration": 863,
    "start_time": "2024-04-21T08:11:47.854Z"
   },
   {
    "duration": 145,
    "start_time": "2024-04-21T08:11:48.719Z"
   },
   {
    "duration": 12,
    "start_time": "2024-04-21T08:11:48.867Z"
   },
   {
    "duration": 65,
    "start_time": "2024-04-21T08:11:48.881Z"
   },
   {
    "duration": 233,
    "start_time": "2024-04-21T08:11:48.948Z"
   },
   {
    "duration": 211,
    "start_time": "2024-04-21T08:11:49.183Z"
   },
   {
    "duration": 11,
    "start_time": "2024-04-21T08:11:49.396Z"
   },
   {
    "duration": 288,
    "start_time": "2024-04-21T08:11:49.408Z"
   },
   {
    "duration": 405,
    "start_time": "2024-04-21T08:11:49.698Z"
   },
   {
    "duration": 141,
    "start_time": "2024-04-21T08:11:50.105Z"
   },
   {
    "duration": 97,
    "start_time": "2024-04-21T08:11:50.248Z"
   },
   {
    "duration": 4,
    "start_time": "2024-04-21T08:11:50.347Z"
   },
   {
    "duration": 28,
    "start_time": "2024-04-21T08:11:50.353Z"
   },
   {
    "duration": 10,
    "start_time": "2024-04-21T08:11:50.383Z"
   },
   {
    "duration": 12732,
    "start_time": "2024-04-21T08:11:50.394Z"
   },
   {
    "duration": 0,
    "start_time": "2024-04-21T08:12:03.129Z"
   },
   {
    "duration": 0,
    "start_time": "2024-04-21T08:12:03.130Z"
   },
   {
    "duration": 0,
    "start_time": "2024-04-21T08:12:03.131Z"
   },
   {
    "duration": 69,
    "start_time": "2024-04-21T08:13:04.785Z"
   },
   {
    "duration": 12511,
    "start_time": "2024-04-21T08:13:06.365Z"
   },
   {
    "duration": 12815,
    "start_time": "2024-04-21T08:14:54.513Z"
   },
   {
    "duration": 2232,
    "start_time": "2024-04-21T08:16:24.809Z"
   },
   {
    "duration": 939,
    "start_time": "2024-04-21T08:16:27.043Z"
   },
   {
    "duration": 16,
    "start_time": "2024-04-21T08:16:27.984Z"
   },
   {
    "duration": 203,
    "start_time": "2024-04-21T08:16:28.002Z"
   },
   {
    "duration": 151,
    "start_time": "2024-04-21T08:16:28.208Z"
   },
   {
    "duration": 502,
    "start_time": "2024-04-21T08:16:28.361Z"
   },
   {
    "duration": 527,
    "start_time": "2024-04-21T08:16:28.864Z"
   },
   {
    "duration": 149,
    "start_time": "2024-04-21T08:16:29.392Z"
   },
   {
    "duration": 40,
    "start_time": "2024-04-21T08:16:29.543Z"
   },
   {
    "duration": 5,
    "start_time": "2024-04-21T08:16:29.592Z"
   },
   {
    "duration": 18,
    "start_time": "2024-04-21T08:16:29.598Z"
   },
   {
    "duration": 11,
    "start_time": "2024-04-21T08:16:29.629Z"
   },
   {
    "duration": 113,
    "start_time": "2024-04-21T08:16:29.642Z"
   },
   {
    "duration": 98,
    "start_time": "2024-04-21T08:16:29.759Z"
   },
   {
    "duration": 22,
    "start_time": "2024-04-21T08:16:29.858Z"
   },
   {
    "duration": 39,
    "start_time": "2024-04-21T08:16:29.881Z"
   },
   {
    "duration": 458,
    "start_time": "2024-04-21T08:16:29.922Z"
   },
   {
    "duration": 310,
    "start_time": "2024-04-21T08:16:30.382Z"
   },
   {
    "duration": 16,
    "start_time": "2024-04-21T08:16:30.695Z"
   },
   {
    "duration": 76,
    "start_time": "2024-04-21T08:16:30.713Z"
   },
   {
    "duration": 90,
    "start_time": "2024-04-21T08:16:30.790Z"
   },
   {
    "duration": 891,
    "start_time": "2024-04-21T08:16:30.882Z"
   },
   {
    "duration": 145,
    "start_time": "2024-04-21T08:16:31.776Z"
   },
   {
    "duration": 11,
    "start_time": "2024-04-21T08:16:31.928Z"
   },
   {
    "duration": 113,
    "start_time": "2024-04-21T08:16:31.940Z"
   },
   {
    "duration": 237,
    "start_time": "2024-04-21T08:16:32.055Z"
   },
   {
    "duration": 212,
    "start_time": "2024-04-21T08:16:32.294Z"
   },
   {
    "duration": 23,
    "start_time": "2024-04-21T08:16:32.508Z"
   },
   {
    "duration": 286,
    "start_time": "2024-04-21T08:16:32.533Z"
   },
   {
    "duration": 411,
    "start_time": "2024-04-21T08:16:32.821Z"
   },
   {
    "duration": 136,
    "start_time": "2024-04-21T08:16:33.233Z"
   },
   {
    "duration": 92,
    "start_time": "2024-04-21T08:16:33.371Z"
   },
   {
    "duration": 3,
    "start_time": "2024-04-21T08:16:33.464Z"
   },
   {
    "duration": 32,
    "start_time": "2024-04-21T08:16:33.469Z"
   },
   {
    "duration": 3,
    "start_time": "2024-04-21T08:16:33.503Z"
   },
   {
    "duration": 12559,
    "start_time": "2024-04-21T08:16:33.507Z"
   },
   {
    "duration": 0,
    "start_time": "2024-04-21T08:16:46.067Z"
   },
   {
    "duration": 0,
    "start_time": "2024-04-21T08:16:46.069Z"
   },
   {
    "duration": 0,
    "start_time": "2024-04-21T08:16:46.070Z"
   },
   {
    "duration": 74,
    "start_time": "2024-04-21T08:18:00.224Z"
   },
   {
    "duration": 71,
    "start_time": "2024-04-21T08:23:20.826Z"
   },
   {
    "duration": 60,
    "start_time": "2024-04-21T08:23:21.658Z"
   },
   {
    "duration": 11900,
    "start_time": "2024-04-21T08:23:42.640Z"
   },
   {
    "duration": 11956,
    "start_time": "2024-04-21T08:24:20.501Z"
   },
   {
    "duration": 60,
    "start_time": "2024-04-21T08:25:44.356Z"
   },
   {
    "duration": 2,
    "start_time": "2024-04-21T08:25:49.863Z"
   },
   {
    "duration": 17,
    "start_time": "2024-04-21T08:25:50.361Z"
   },
   {
    "duration": 4,
    "start_time": "2024-04-21T08:25:50.871Z"
   },
   {
    "duration": 57,
    "start_time": "2024-04-21T08:25:51.359Z"
   },
   {
    "duration": 12111,
    "start_time": "2024-04-21T08:25:52.451Z"
   },
   {
    "duration": 8976,
    "start_time": "2024-04-21T08:31:02.049Z"
   },
   {
    "duration": 11,
    "start_time": "2024-04-21T08:35:33.751Z"
   },
   {
    "duration": 3287,
    "start_time": "2024-04-21T08:35:38.151Z"
   },
   {
    "duration": 12,
    "start_time": "2024-04-21T08:35:42.377Z"
   },
   {
    "duration": 5,
    "start_time": "2024-04-21T08:35:55.882Z"
   },
   {
    "duration": 9,
    "start_time": "2024-04-21T08:36:07.366Z"
   },
   {
    "duration": 9,
    "start_time": "2024-04-21T08:36:11.136Z"
   },
   {
    "duration": 4,
    "start_time": "2024-04-21T08:40:44.058Z"
   },
   {
    "duration": 1448,
    "start_time": "2024-04-21T08:41:11.281Z"
   },
   {
    "duration": 51,
    "start_time": "2024-04-21T08:41:36.539Z"
   },
   {
    "duration": 1564,
    "start_time": "2024-04-21T08:41:45.573Z"
   },
   {
    "duration": 3044,
    "start_time": "2024-04-21T08:41:47.139Z"
   },
   {
    "duration": 17,
    "start_time": "2024-04-21T08:41:50.185Z"
   },
   {
    "duration": 153,
    "start_time": "2024-04-21T08:41:50.204Z"
   },
   {
    "duration": 105,
    "start_time": "2024-04-21T08:41:50.359Z"
   },
   {
    "duration": 530,
    "start_time": "2024-04-21T08:41:50.465Z"
   },
   {
    "duration": 538,
    "start_time": "2024-04-21T08:41:50.997Z"
   },
   {
    "duration": 156,
    "start_time": "2024-04-21T08:41:51.538Z"
   },
   {
    "duration": 46,
    "start_time": "2024-04-21T08:41:51.695Z"
   },
   {
    "duration": 4,
    "start_time": "2024-04-21T08:41:51.742Z"
   },
   {
    "duration": 5,
    "start_time": "2024-04-21T08:41:51.747Z"
   },
   {
    "duration": 15,
    "start_time": "2024-04-21T08:41:51.753Z"
   },
   {
    "duration": 126,
    "start_time": "2024-04-21T08:41:51.770Z"
   },
   {
    "duration": 109,
    "start_time": "2024-04-21T08:41:51.900Z"
   },
   {
    "duration": 51,
    "start_time": "2024-04-21T08:41:52.011Z"
   },
   {
    "duration": 32,
    "start_time": "2024-04-21T08:41:52.063Z"
   },
   {
    "duration": 468,
    "start_time": "2024-04-21T08:41:52.096Z"
   },
   {
    "duration": 315,
    "start_time": "2024-04-21T08:41:52.566Z"
   },
   {
    "duration": 15,
    "start_time": "2024-04-21T08:41:52.883Z"
   },
   {
    "duration": 9,
    "start_time": "2024-04-21T08:41:52.899Z"
   },
   {
    "duration": 37,
    "start_time": "2024-04-21T08:41:52.909Z"
   },
   {
    "duration": 897,
    "start_time": "2024-04-21T08:41:52.948Z"
   },
   {
    "duration": 149,
    "start_time": "2024-04-21T08:41:53.847Z"
   },
   {
    "duration": 10,
    "start_time": "2024-04-21T08:41:53.998Z"
   },
   {
    "duration": 61,
    "start_time": "2024-04-21T08:41:54.010Z"
   },
   {
    "duration": 243,
    "start_time": "2024-04-21T08:41:54.073Z"
   },
   {
    "duration": 219,
    "start_time": "2024-04-21T08:41:54.318Z"
   },
   {
    "duration": 13,
    "start_time": "2024-04-21T08:41:54.539Z"
   },
   {
    "duration": 292,
    "start_time": "2024-04-21T08:41:54.554Z"
   },
   {
    "duration": 423,
    "start_time": "2024-04-21T08:41:54.848Z"
   },
   {
    "duration": 137,
    "start_time": "2024-04-21T08:41:55.273Z"
   },
   {
    "duration": 117,
    "start_time": "2024-04-21T08:41:55.412Z"
   },
   {
    "duration": 3,
    "start_time": "2024-04-21T08:41:55.531Z"
   },
   {
    "duration": 40,
    "start_time": "2024-04-21T08:41:55.535Z"
   },
   {
    "duration": 3,
    "start_time": "2024-04-21T08:41:55.577Z"
   },
   {
    "duration": 134,
    "start_time": "2024-04-21T08:41:55.582Z"
   },
   {
    "duration": 0,
    "start_time": "2024-04-21T08:41:55.718Z"
   },
   {
    "duration": 0,
    "start_time": "2024-04-21T08:41:55.719Z"
   },
   {
    "duration": 0,
    "start_time": "2024-04-21T08:41:55.720Z"
   },
   {
    "duration": 928,
    "start_time": "2024-04-21T09:18:01.533Z"
   },
   {
    "duration": 1608,
    "start_time": "2024-04-21T09:20:40.145Z"
   },
   {
    "duration": 955,
    "start_time": "2024-04-21T09:20:41.755Z"
   },
   {
    "duration": 27,
    "start_time": "2024-04-21T09:20:42.711Z"
   },
   {
    "duration": 189,
    "start_time": "2024-04-21T09:20:42.740Z"
   },
   {
    "duration": 111,
    "start_time": "2024-04-21T09:20:42.932Z"
   },
   {
    "duration": 507,
    "start_time": "2024-04-21T09:20:43.044Z"
   },
   {
    "duration": 518,
    "start_time": "2024-04-21T09:20:43.553Z"
   },
   {
    "duration": 157,
    "start_time": "2024-04-21T09:20:44.073Z"
   },
   {
    "duration": 36,
    "start_time": "2024-04-21T09:20:44.232Z"
   },
   {
    "duration": 9,
    "start_time": "2024-04-21T09:20:44.270Z"
   },
   {
    "duration": 37,
    "start_time": "2024-04-21T09:20:44.281Z"
   },
   {
    "duration": 21,
    "start_time": "2024-04-21T09:20:44.319Z"
   },
   {
    "duration": 114,
    "start_time": "2024-04-21T09:20:44.341Z"
   },
   {
    "duration": 103,
    "start_time": "2024-04-21T09:20:44.459Z"
   },
   {
    "duration": 9,
    "start_time": "2024-04-21T09:20:44.563Z"
   },
   {
    "duration": 29,
    "start_time": "2024-04-21T09:20:44.573Z"
   },
   {
    "duration": 483,
    "start_time": "2024-04-21T09:20:44.604Z"
   },
   {
    "duration": 316,
    "start_time": "2024-04-21T09:20:45.089Z"
   },
   {
    "duration": 23,
    "start_time": "2024-04-21T09:20:45.407Z"
   },
   {
    "duration": 23,
    "start_time": "2024-04-21T09:20:45.432Z"
   },
   {
    "duration": 73,
    "start_time": "2024-04-21T09:20:45.458Z"
   },
   {
    "duration": 1043,
    "start_time": "2024-04-21T09:20:45.533Z"
   },
   {
    "duration": 139,
    "start_time": "2024-04-21T09:20:46.578Z"
   },
   {
    "duration": 11,
    "start_time": "2024-04-21T09:20:46.729Z"
   },
   {
    "duration": 48,
    "start_time": "2024-04-21T09:20:46.741Z"
   },
   {
    "duration": 239,
    "start_time": "2024-04-21T09:20:46.791Z"
   },
   {
    "duration": 212,
    "start_time": "2024-04-21T09:20:47.032Z"
   },
   {
    "duration": 12,
    "start_time": "2024-04-21T09:20:47.246Z"
   },
   {
    "duration": 311,
    "start_time": "2024-04-21T09:20:47.260Z"
   },
   {
    "duration": 405,
    "start_time": "2024-04-21T09:20:47.572Z"
   },
   {
    "duration": 133,
    "start_time": "2024-04-21T09:20:47.978Z"
   },
   {
    "duration": 97,
    "start_time": "2024-04-21T09:20:48.113Z"
   },
   {
    "duration": 1844,
    "start_time": "2024-04-21T09:20:48.212Z"
   },
   {
    "duration": 0,
    "start_time": "2024-04-21T09:20:50.058Z"
   },
   {
    "duration": 0,
    "start_time": "2024-04-21T09:20:50.059Z"
   },
   {
    "duration": 0,
    "start_time": "2024-04-21T09:20:50.060Z"
   },
   {
    "duration": 0,
    "start_time": "2024-04-21T09:20:50.061Z"
   },
   {
    "duration": 0,
    "start_time": "2024-04-21T09:20:50.062Z"
   },
   {
    "duration": 0,
    "start_time": "2024-04-21T09:20:50.063Z"
   },
   {
    "duration": 133,
    "start_time": "2024-04-21T09:21:03.893Z"
   },
   {
    "duration": 13,
    "start_time": "2024-04-21T09:24:05.119Z"
   },
   {
    "duration": 3,
    "start_time": "2024-04-21T09:24:05.952Z"
   },
   {
    "duration": 13,
    "start_time": "2024-04-21T09:24:06.451Z"
   },
   {
    "duration": 140,
    "start_time": "2024-04-21T09:24:36.803Z"
   },
   {
    "duration": 18,
    "start_time": "2024-04-21T09:24:38.310Z"
   },
   {
    "duration": 4,
    "start_time": "2024-04-21T09:24:38.817Z"
   },
   {
    "duration": 11,
    "start_time": "2024-04-21T09:24:39.225Z"
   },
   {
    "duration": 13,
    "start_time": "2024-04-21T09:24:55.740Z"
   },
   {
    "duration": 30,
    "start_time": "2024-04-21T09:25:11.154Z"
   },
   {
    "duration": 1570,
    "start_time": "2024-04-21T09:25:49.433Z"
   },
   {
    "duration": 978,
    "start_time": "2024-04-21T09:25:51.005Z"
   },
   {
    "duration": 16,
    "start_time": "2024-04-21T09:25:51.984Z"
   },
   {
    "duration": 164,
    "start_time": "2024-04-21T09:25:52.002Z"
   },
   {
    "duration": 153,
    "start_time": "2024-04-21T09:25:52.169Z"
   },
   {
    "duration": 520,
    "start_time": "2024-04-21T09:25:52.324Z"
   },
   {
    "duration": 566,
    "start_time": "2024-04-21T09:25:52.846Z"
   },
   {
    "duration": 170,
    "start_time": "2024-04-21T09:25:53.413Z"
   },
   {
    "duration": 48,
    "start_time": "2024-04-21T09:25:53.585Z"
   },
   {
    "duration": 7,
    "start_time": "2024-04-21T09:25:53.635Z"
   },
   {
    "duration": 5,
    "start_time": "2024-04-21T09:25:53.644Z"
   },
   {
    "duration": 13,
    "start_time": "2024-04-21T09:25:53.650Z"
   },
   {
    "duration": 120,
    "start_time": "2024-04-21T09:25:53.665Z"
   },
   {
    "duration": 100,
    "start_time": "2024-04-21T09:25:53.788Z"
   },
   {
    "duration": 12,
    "start_time": "2024-04-21T09:25:53.890Z"
   },
   {
    "duration": 46,
    "start_time": "2024-04-21T09:25:53.903Z"
   },
   {
    "duration": 453,
    "start_time": "2024-04-21T09:25:53.951Z"
   },
   {
    "duration": 301,
    "start_time": "2024-04-21T09:25:54.406Z"
   },
   {
    "duration": 20,
    "start_time": "2024-04-21T09:25:54.709Z"
   },
   {
    "duration": 8,
    "start_time": "2024-04-21T09:25:54.731Z"
   },
   {
    "duration": 44,
    "start_time": "2024-04-21T09:25:54.740Z"
   },
   {
    "duration": 877,
    "start_time": "2024-04-21T09:25:54.786Z"
   },
   {
    "duration": 143,
    "start_time": "2024-04-21T09:25:55.665Z"
   },
   {
    "duration": 22,
    "start_time": "2024-04-21T09:25:55.810Z"
   },
   {
    "duration": 46,
    "start_time": "2024-04-21T09:25:55.834Z"
   },
   {
    "duration": 261,
    "start_time": "2024-04-21T09:25:55.882Z"
   },
   {
    "duration": 221,
    "start_time": "2024-04-21T09:25:56.145Z"
   },
   {
    "duration": 13,
    "start_time": "2024-04-21T09:25:56.368Z"
   },
   {
    "duration": 293,
    "start_time": "2024-04-21T09:25:56.383Z"
   },
   {
    "duration": 416,
    "start_time": "2024-04-21T09:25:56.678Z"
   },
   {
    "duration": 143,
    "start_time": "2024-04-21T09:25:57.096Z"
   },
   {
    "duration": 98,
    "start_time": "2024-04-21T09:25:57.241Z"
   },
   {
    "duration": 138,
    "start_time": "2024-04-21T09:25:57.340Z"
   },
   {
    "duration": 14,
    "start_time": "2024-04-21T09:25:57.480Z"
   },
   {
    "duration": 5,
    "start_time": "2024-04-21T09:25:57.496Z"
   },
   {
    "duration": 205,
    "start_time": "2024-04-21T09:25:57.503Z"
   },
   {
    "duration": 0,
    "start_time": "2024-04-21T09:25:57.711Z"
   },
   {
    "duration": 0,
    "start_time": "2024-04-21T09:25:57.712Z"
   },
   {
    "duration": 841,
    "start_time": "2024-04-21T09:26:28.127Z"
   },
   {
    "duration": 1519,
    "start_time": "2024-04-21T09:26:47.958Z"
   },
   {
    "duration": 947,
    "start_time": "2024-04-21T09:26:49.479Z"
   },
   {
    "duration": 17,
    "start_time": "2024-04-21T09:26:50.428Z"
   },
   {
    "duration": 173,
    "start_time": "2024-04-21T09:26:50.446Z"
   },
   {
    "duration": 121,
    "start_time": "2024-04-21T09:26:50.620Z"
   },
   {
    "duration": 526,
    "start_time": "2024-04-21T09:26:50.743Z"
   },
   {
    "duration": 568,
    "start_time": "2024-04-21T09:26:51.271Z"
   },
   {
    "duration": 147,
    "start_time": "2024-04-21T09:26:51.841Z"
   },
   {
    "duration": 95,
    "start_time": "2024-04-21T09:26:51.989Z"
   },
   {
    "duration": 50,
    "start_time": "2024-04-21T09:26:52.086Z"
   },
   {
    "duration": 37,
    "start_time": "2024-04-21T09:26:52.137Z"
   },
   {
    "duration": 34,
    "start_time": "2024-04-21T09:26:52.176Z"
   },
   {
    "duration": 123,
    "start_time": "2024-04-21T09:26:52.212Z"
   },
   {
    "duration": 99,
    "start_time": "2024-04-21T09:26:52.338Z"
   },
   {
    "duration": 17,
    "start_time": "2024-04-21T09:26:52.439Z"
   },
   {
    "duration": 40,
    "start_time": "2024-04-21T09:26:52.458Z"
   },
   {
    "duration": 472,
    "start_time": "2024-04-21T09:26:52.499Z"
   },
   {
    "duration": 310,
    "start_time": "2024-04-21T09:26:52.973Z"
   },
   {
    "duration": 15,
    "start_time": "2024-04-21T09:26:53.284Z"
   },
   {
    "duration": 27,
    "start_time": "2024-04-21T09:26:53.301Z"
   },
   {
    "duration": 23,
    "start_time": "2024-04-21T09:26:53.330Z"
   },
   {
    "duration": 888,
    "start_time": "2024-04-21T09:26:53.355Z"
   },
   {
    "duration": 156,
    "start_time": "2024-04-21T09:26:54.245Z"
   },
   {
    "duration": 11,
    "start_time": "2024-04-21T09:26:54.403Z"
   },
   {
    "duration": 60,
    "start_time": "2024-04-21T09:26:54.415Z"
   },
   {
    "duration": 250,
    "start_time": "2024-04-21T09:26:54.476Z"
   },
   {
    "duration": 230,
    "start_time": "2024-04-21T09:26:54.728Z"
   },
   {
    "duration": 12,
    "start_time": "2024-04-21T09:26:54.960Z"
   },
   {
    "duration": 300,
    "start_time": "2024-04-21T09:26:54.974Z"
   },
   {
    "duration": 430,
    "start_time": "2024-04-21T09:26:55.275Z"
   },
   {
    "duration": 157,
    "start_time": "2024-04-21T09:26:55.707Z"
   },
   {
    "duration": 93,
    "start_time": "2024-04-21T09:26:55.866Z"
   },
   {
    "duration": 992,
    "start_time": "2024-04-21T09:26:55.960Z"
   },
   {
    "duration": 0,
    "start_time": "2024-04-21T09:26:56.953Z"
   },
   {
    "duration": 1,
    "start_time": "2024-04-21T09:26:56.954Z"
   },
   {
    "duration": 0,
    "start_time": "2024-04-21T09:26:56.956Z"
   },
   {
    "duration": 0,
    "start_time": "2024-04-21T09:26:56.957Z"
   },
   {
    "duration": 1,
    "start_time": "2024-04-21T09:26:56.957Z"
   },
   {
    "duration": 1592,
    "start_time": "2024-04-21T09:27:13.328Z"
   },
   {
    "duration": 1029,
    "start_time": "2024-04-21T09:27:14.922Z"
   },
   {
    "duration": 16,
    "start_time": "2024-04-21T09:27:15.953Z"
   },
   {
    "duration": 183,
    "start_time": "2024-04-21T09:27:15.971Z"
   },
   {
    "duration": 187,
    "start_time": "2024-04-21T09:27:16.156Z"
   },
   {
    "duration": 537,
    "start_time": "2024-04-21T09:27:16.344Z"
   },
   {
    "duration": 558,
    "start_time": "2024-04-21T09:27:16.883Z"
   },
   {
    "duration": 157,
    "start_time": "2024-04-21T09:27:17.442Z"
   },
   {
    "duration": 48,
    "start_time": "2024-04-21T09:27:17.600Z"
   },
   {
    "duration": 5,
    "start_time": "2024-04-21T09:27:17.649Z"
   },
   {
    "duration": 5,
    "start_time": "2024-04-21T09:27:17.656Z"
   },
   {
    "duration": 21,
    "start_time": "2024-04-21T09:27:17.663Z"
   },
   {
    "duration": 117,
    "start_time": "2024-04-21T09:27:17.685Z"
   },
   {
    "duration": 102,
    "start_time": "2024-04-21T09:27:17.805Z"
   },
   {
    "duration": 21,
    "start_time": "2024-04-21T09:27:17.909Z"
   },
   {
    "duration": 28,
    "start_time": "2024-04-21T09:27:17.932Z"
   },
   {
    "duration": 486,
    "start_time": "2024-04-21T09:27:17.962Z"
   },
   {
    "duration": 310,
    "start_time": "2024-04-21T09:27:18.450Z"
   },
   {
    "duration": 15,
    "start_time": "2024-04-21T09:27:18.762Z"
   },
   {
    "duration": 17,
    "start_time": "2024-04-21T09:27:18.778Z"
   },
   {
    "duration": 54,
    "start_time": "2024-04-21T09:27:18.797Z"
   },
   {
    "duration": 900,
    "start_time": "2024-04-21T09:27:18.852Z"
   },
   {
    "duration": 144,
    "start_time": "2024-04-21T09:27:19.754Z"
   },
   {
    "duration": 10,
    "start_time": "2024-04-21T09:27:19.900Z"
   },
   {
    "duration": 69,
    "start_time": "2024-04-21T09:27:19.912Z"
   },
   {
    "duration": 214,
    "start_time": "2024-04-21T09:27:19.983Z"
   },
   {
    "duration": 202,
    "start_time": "2024-04-21T09:27:20.199Z"
   },
   {
    "duration": 12,
    "start_time": "2024-04-21T09:27:20.403Z"
   },
   {
    "duration": 284,
    "start_time": "2024-04-21T09:27:20.429Z"
   },
   {
    "duration": 434,
    "start_time": "2024-04-21T09:27:20.714Z"
   },
   {
    "duration": 142,
    "start_time": "2024-04-21T09:27:21.150Z"
   },
   {
    "duration": 92,
    "start_time": "2024-04-21T09:27:21.294Z"
   },
   {
    "duration": 947,
    "start_time": "2024-04-21T09:27:21.387Z"
   },
   {
    "duration": 0,
    "start_time": "2024-04-21T09:27:22.336Z"
   },
   {
    "duration": 0,
    "start_time": "2024-04-21T09:27:22.337Z"
   },
   {
    "duration": 0,
    "start_time": "2024-04-21T09:27:22.338Z"
   },
   {
    "duration": 0,
    "start_time": "2024-04-21T09:27:22.340Z"
   },
   {
    "duration": 0,
    "start_time": "2024-04-21T09:27:22.341Z"
   },
   {
    "duration": 4,
    "start_time": "2024-04-21T09:27:41.857Z"
   },
   {
    "duration": 14,
    "start_time": "2024-04-21T09:27:47.618Z"
   },
   {
    "duration": 3,
    "start_time": "2024-04-21T09:27:48.428Z"
   },
   {
    "duration": 1463,
    "start_time": "2024-04-21T09:27:49.629Z"
   },
   {
    "duration": 384,
    "start_time": "2024-04-21T09:27:55.316Z"
   },
   {
    "duration": 4,
    "start_time": "2024-04-21T09:27:56.505Z"
   },
   {
    "duration": 3,
    "start_time": "2024-04-21T09:31:28.993Z"
   },
   {
    "duration": 27,
    "start_time": "2024-04-21T09:31:29.747Z"
   },
   {
    "duration": 6,
    "start_time": "2024-04-21T09:31:30.128Z"
   },
   {
    "duration": 379,
    "start_time": "2024-04-21T09:31:31.053Z"
   },
   {
    "duration": 4,
    "start_time": "2024-04-21T09:31:31.553Z"
   },
   {
    "duration": 1529,
    "start_time": "2024-04-21T09:31:41.767Z"
   },
   {
    "duration": 986,
    "start_time": "2024-04-21T09:31:43.298Z"
   },
   {
    "duration": 15,
    "start_time": "2024-04-21T09:31:44.286Z"
   },
   {
    "duration": 174,
    "start_time": "2024-04-21T09:31:44.303Z"
   },
   {
    "duration": 111,
    "start_time": "2024-04-21T09:31:44.479Z"
   },
   {
    "duration": 548,
    "start_time": "2024-04-21T09:31:44.591Z"
   },
   {
    "duration": 556,
    "start_time": "2024-04-21T09:31:45.141Z"
   },
   {
    "duration": 154,
    "start_time": "2024-04-21T09:31:45.699Z"
   },
   {
    "duration": 35,
    "start_time": "2024-04-21T09:31:45.854Z"
   },
   {
    "duration": 3,
    "start_time": "2024-04-21T09:31:45.891Z"
   },
   {
    "duration": 16,
    "start_time": "2024-04-21T09:31:45.895Z"
   },
   {
    "duration": 37,
    "start_time": "2024-04-21T09:31:45.913Z"
   },
   {
    "duration": 130,
    "start_time": "2024-04-21T09:31:45.952Z"
   },
   {
    "duration": 98,
    "start_time": "2024-04-21T09:31:46.085Z"
   },
   {
    "duration": 24,
    "start_time": "2024-04-21T09:31:46.185Z"
   },
   {
    "duration": 45,
    "start_time": "2024-04-21T09:31:46.211Z"
   },
   {
    "duration": 483,
    "start_time": "2024-04-21T09:31:46.258Z"
   },
   {
    "duration": 298,
    "start_time": "2024-04-21T09:31:46.743Z"
   },
   {
    "duration": 16,
    "start_time": "2024-04-21T09:31:47.042Z"
   },
   {
    "duration": 27,
    "start_time": "2024-04-21T09:31:47.059Z"
   },
   {
    "duration": 32,
    "start_time": "2024-04-21T09:31:47.087Z"
   },
   {
    "duration": 880,
    "start_time": "2024-04-21T09:31:47.121Z"
   },
   {
    "duration": 151,
    "start_time": "2024-04-21T09:31:48.003Z"
   },
   {
    "duration": 13,
    "start_time": "2024-04-21T09:31:48.156Z"
   },
   {
    "duration": 71,
    "start_time": "2024-04-21T09:31:48.171Z"
   },
   {
    "duration": 231,
    "start_time": "2024-04-21T09:31:48.244Z"
   },
   {
    "duration": 208,
    "start_time": "2024-04-21T09:31:48.477Z"
   },
   {
    "duration": 12,
    "start_time": "2024-04-21T09:31:48.687Z"
   },
   {
    "duration": 285,
    "start_time": "2024-04-21T09:31:48.701Z"
   },
   {
    "duration": 413,
    "start_time": "2024-04-21T09:31:48.988Z"
   },
   {
    "duration": 152,
    "start_time": "2024-04-21T09:31:49.402Z"
   },
   {
    "duration": 95,
    "start_time": "2024-04-21T09:31:49.556Z"
   },
   {
    "duration": 3,
    "start_time": "2024-04-21T09:31:49.653Z"
   },
   {
    "duration": 26,
    "start_time": "2024-04-21T09:31:49.658Z"
   },
   {
    "duration": 3,
    "start_time": "2024-04-21T09:31:49.686Z"
   },
   {
    "duration": 133,
    "start_time": "2024-04-21T09:31:49.690Z"
   },
   {
    "duration": 0,
    "start_time": "2024-04-21T09:31:49.824Z"
   },
   {
    "duration": 76,
    "start_time": "2024-04-21T09:31:56.024Z"
   },
   {
    "duration": 4,
    "start_time": "2024-04-21T09:31:57.422Z"
   },
   {
    "duration": 48,
    "start_time": "2024-04-21T09:33:00.583Z"
   },
   {
    "duration": 159,
    "start_time": "2024-04-21T09:47:47.218Z"
   },
   {
    "duration": 123,
    "start_time": "2024-04-21T09:48:48.155Z"
   },
   {
    "duration": 4,
    "start_time": "2024-04-21T10:11:53.757Z"
   },
   {
    "duration": 1626,
    "start_time": "2024-04-21T18:39:36.243Z"
   },
   {
    "duration": 3015,
    "start_time": "2024-04-21T18:39:37.871Z"
   },
   {
    "duration": 15,
    "start_time": "2024-04-21T18:39:40.888Z"
   },
   {
    "duration": 153,
    "start_time": "2024-04-21T18:39:40.905Z"
   },
   {
    "duration": 95,
    "start_time": "2024-04-21T18:39:41.061Z"
   },
   {
    "duration": 441,
    "start_time": "2024-04-21T18:39:41.157Z"
   },
   {
    "duration": 518,
    "start_time": "2024-04-21T18:39:41.599Z"
   },
   {
    "duration": 158,
    "start_time": "2024-04-21T18:39:42.118Z"
   },
   {
    "duration": 49,
    "start_time": "2024-04-21T18:39:42.278Z"
   },
   {
    "duration": 8,
    "start_time": "2024-04-21T18:39:42.328Z"
   },
   {
    "duration": 12,
    "start_time": "2024-04-21T18:39:42.338Z"
   },
   {
    "duration": 15,
    "start_time": "2024-04-21T18:39:42.351Z"
   },
   {
    "duration": 109,
    "start_time": "2024-04-21T18:39:42.368Z"
   },
   {
    "duration": 96,
    "start_time": "2024-04-21T18:39:42.480Z"
   },
   {
    "duration": 9,
    "start_time": "2024-04-21T18:39:42.577Z"
   },
   {
    "duration": 44,
    "start_time": "2024-04-21T18:39:42.587Z"
   },
   {
    "duration": 461,
    "start_time": "2024-04-21T18:39:42.632Z"
   },
   {
    "duration": 281,
    "start_time": "2024-04-21T18:39:43.094Z"
   },
   {
    "duration": 16,
    "start_time": "2024-04-21T18:39:43.377Z"
   },
   {
    "duration": 28,
    "start_time": "2024-04-21T18:39:43.395Z"
   },
   {
    "duration": 25,
    "start_time": "2024-04-21T18:39:43.425Z"
   },
   {
    "duration": 863,
    "start_time": "2024-04-21T18:39:43.451Z"
   },
   {
    "duration": 136,
    "start_time": "2024-04-21T18:39:44.316Z"
   },
   {
    "duration": 11,
    "start_time": "2024-04-21T18:39:44.454Z"
   },
   {
    "duration": 60,
    "start_time": "2024-04-21T18:39:44.467Z"
   },
   {
    "duration": 224,
    "start_time": "2024-04-21T18:39:44.529Z"
   },
   {
    "duration": 215,
    "start_time": "2024-04-21T18:39:44.755Z"
   },
   {
    "duration": 14,
    "start_time": "2024-04-21T18:39:44.972Z"
   },
   {
    "duration": 284,
    "start_time": "2024-04-21T18:39:44.988Z"
   },
   {
    "duration": 382,
    "start_time": "2024-04-21T18:39:45.273Z"
   },
   {
    "duration": 132,
    "start_time": "2024-04-21T18:39:45.657Z"
   },
   {
    "duration": 94,
    "start_time": "2024-04-21T18:39:45.790Z"
   },
   {
    "duration": 3,
    "start_time": "2024-04-21T18:39:45.885Z"
   },
   {
    "duration": 29,
    "start_time": "2024-04-21T18:39:45.889Z"
   },
   {
    "duration": 3,
    "start_time": "2024-04-21T18:39:45.920Z"
   },
   {
    "duration": 66,
    "start_time": "2024-04-21T18:39:45.924Z"
   },
   {
    "duration": 4,
    "start_time": "2024-04-21T18:39:45.991Z"
   },
   {
    "duration": 148,
    "start_time": "2024-04-21T18:39:45.996Z"
   },
   {
    "duration": 3,
    "start_time": "2024-04-21T18:39:46.146Z"
   },
   {
    "duration": 22203,
    "start_time": "2024-04-21T18:39:46.150Z"
   },
   {
    "duration": 0,
    "start_time": "2024-04-21T18:40:08.356Z"
   },
   {
    "duration": 0,
    "start_time": "2024-04-21T18:40:08.358Z"
   },
   {
    "duration": 3,
    "start_time": "2024-04-21T18:40:12.430Z"
   },
   {
    "duration": 261149,
    "start_time": "2024-04-21T18:40:14.582Z"
   },
   {
    "duration": 116,
    "start_time": "2024-04-21T18:49:43.928Z"
   },
   {
    "duration": 4,
    "start_time": "2024-04-21T18:49:58.292Z"
   },
   {
    "duration": 112,
    "start_time": "2024-04-21T18:50:01.331Z"
   },
   {
    "duration": 1405,
    "start_time": "2024-04-21T18:50:10.956Z"
   },
   {
    "duration": 858,
    "start_time": "2024-04-21T18:50:12.363Z"
   },
   {
    "duration": 15,
    "start_time": "2024-04-21T18:50:13.222Z"
   },
   {
    "duration": 161,
    "start_time": "2024-04-21T18:50:13.239Z"
   },
   {
    "duration": 95,
    "start_time": "2024-04-21T18:50:13.402Z"
   },
   {
    "duration": 443,
    "start_time": "2024-04-21T18:50:13.498Z"
   },
   {
    "duration": 519,
    "start_time": "2024-04-21T18:50:13.943Z"
   },
   {
    "duration": 152,
    "start_time": "2024-04-21T18:50:14.465Z"
   },
   {
    "duration": 32,
    "start_time": "2024-04-21T18:50:14.619Z"
   },
   {
    "duration": 11,
    "start_time": "2024-04-21T18:50:14.652Z"
   },
   {
    "duration": 5,
    "start_time": "2024-04-21T18:50:14.664Z"
   },
   {
    "duration": 12,
    "start_time": "2024-04-21T18:50:14.671Z"
   },
   {
    "duration": 113,
    "start_time": "2024-04-21T18:50:14.684Z"
   },
   {
    "duration": 106,
    "start_time": "2024-04-21T18:50:14.800Z"
   },
   {
    "duration": 8,
    "start_time": "2024-04-21T18:50:14.915Z"
   },
   {
    "duration": 27,
    "start_time": "2024-04-21T18:50:14.925Z"
   },
   {
    "duration": 438,
    "start_time": "2024-04-21T18:50:14.954Z"
   },
   {
    "duration": 281,
    "start_time": "2024-04-21T18:50:15.393Z"
   },
   {
    "duration": 14,
    "start_time": "2024-04-21T18:50:15.676Z"
   },
   {
    "duration": 25,
    "start_time": "2024-04-21T18:50:15.692Z"
   },
   {
    "duration": 27,
    "start_time": "2024-04-21T18:50:15.719Z"
   },
   {
    "duration": 847,
    "start_time": "2024-04-21T18:50:15.748Z"
   },
   {
    "duration": 132,
    "start_time": "2024-04-21T18:50:16.597Z"
   },
   {
    "duration": 9,
    "start_time": "2024-04-21T18:50:16.731Z"
   },
   {
    "duration": 42,
    "start_time": "2024-04-21T18:50:16.741Z"
   },
   {
    "duration": 244,
    "start_time": "2024-04-21T18:50:16.784Z"
   },
   {
    "duration": 198,
    "start_time": "2024-04-21T18:50:17.030Z"
   },
   {
    "duration": 11,
    "start_time": "2024-04-21T18:50:17.230Z"
   },
   {
    "duration": 271,
    "start_time": "2024-04-21T18:50:17.243Z"
   },
   {
    "duration": 395,
    "start_time": "2024-04-21T18:50:17.515Z"
   },
   {
    "duration": 125,
    "start_time": "2024-04-21T18:50:17.912Z"
   },
   {
    "duration": 97,
    "start_time": "2024-04-21T18:50:18.038Z"
   },
   {
    "duration": 3,
    "start_time": "2024-04-21T18:50:18.137Z"
   },
   {
    "duration": 20,
    "start_time": "2024-04-21T18:50:18.142Z"
   },
   {
    "duration": 4,
    "start_time": "2024-04-21T18:50:18.163Z"
   },
   {
    "duration": 85,
    "start_time": "2024-04-21T18:50:18.170Z"
   },
   {
    "duration": 5,
    "start_time": "2024-04-21T18:50:18.256Z"
   },
   {
    "duration": 260,
    "start_time": "2024-04-21T18:50:18.262Z"
   },
   {
    "duration": 0,
    "start_time": "2024-04-21T18:50:18.524Z"
   },
   {
    "duration": 0,
    "start_time": "2024-04-21T18:50:18.525Z"
   },
   {
    "duration": 0,
    "start_time": "2024-04-21T18:50:18.526Z"
   },
   {
    "duration": 0,
    "start_time": "2024-04-21T18:50:18.528Z"
   },
   {
    "duration": 3,
    "start_time": "2024-04-21T18:50:29.700Z"
   },
   {
    "duration": 72693,
    "start_time": "2024-04-21T18:50:32.347Z"
   },
   {
    "duration": 0,
    "start_time": "2024-04-21T18:51:45.042Z"
   },
   {
    "duration": 3,
    "start_time": "2024-04-21T18:51:46.724Z"
   },
   {
    "duration": 1111693,
    "start_time": "2024-04-21T18:51:47.733Z"
   },
   {
    "duration": 47,
    "start_time": "2024-04-22T08:04:21.013Z"
   },
   {
    "duration": 1710,
    "start_time": "2024-04-22T08:08:12.834Z"
   },
   {
    "duration": 1138,
    "start_time": "2024-04-22T08:08:14.546Z"
   },
   {
    "duration": 14,
    "start_time": "2024-04-22T08:08:15.686Z"
   },
   {
    "duration": 152,
    "start_time": "2024-04-22T08:08:15.702Z"
   },
   {
    "duration": 92,
    "start_time": "2024-04-22T08:08:15.855Z"
   },
   {
    "duration": 455,
    "start_time": "2024-04-22T08:08:15.949Z"
   },
   {
    "duration": 458,
    "start_time": "2024-04-22T08:08:16.405Z"
   },
   {
    "duration": 164,
    "start_time": "2024-04-22T08:08:16.865Z"
   },
   {
    "duration": 39,
    "start_time": "2024-04-22T08:08:17.030Z"
   },
   {
    "duration": 21,
    "start_time": "2024-04-22T08:08:17.071Z"
   },
   {
    "duration": 44,
    "start_time": "2024-04-22T08:08:17.093Z"
   },
   {
    "duration": 34,
    "start_time": "2024-04-22T08:08:17.139Z"
   },
   {
    "duration": 139,
    "start_time": "2024-04-22T08:08:17.174Z"
   },
   {
    "duration": 90,
    "start_time": "2024-04-22T08:08:17.316Z"
   },
   {
    "duration": 29,
    "start_time": "2024-04-22T08:08:17.407Z"
   },
   {
    "duration": 38,
    "start_time": "2024-04-22T08:08:17.437Z"
   },
   {
    "duration": 437,
    "start_time": "2024-04-22T08:08:17.477Z"
   },
   {
    "duration": 289,
    "start_time": "2024-04-22T08:08:17.916Z"
   },
   {
    "duration": 15,
    "start_time": "2024-04-22T08:08:18.206Z"
   },
   {
    "duration": 18,
    "start_time": "2024-04-22T08:08:18.222Z"
   },
   {
    "duration": 31,
    "start_time": "2024-04-22T08:08:18.241Z"
   },
   {
    "duration": 808,
    "start_time": "2024-04-22T08:08:18.273Z"
   },
   {
    "duration": 136,
    "start_time": "2024-04-22T08:08:19.083Z"
   },
   {
    "duration": 11,
    "start_time": "2024-04-22T08:08:19.221Z"
   },
   {
    "duration": 60,
    "start_time": "2024-04-22T08:08:19.234Z"
   },
   {
    "duration": 213,
    "start_time": "2024-04-22T08:08:19.295Z"
   },
   {
    "duration": 198,
    "start_time": "2024-04-22T08:08:19.510Z"
   },
   {
    "duration": 11,
    "start_time": "2024-04-22T08:08:19.710Z"
   },
   {
    "duration": 285,
    "start_time": "2024-04-22T08:08:19.723Z"
   },
   {
    "duration": 386,
    "start_time": "2024-04-22T08:08:20.010Z"
   },
   {
    "duration": 151,
    "start_time": "2024-04-22T08:08:20.398Z"
   },
   {
    "duration": 98,
    "start_time": "2024-04-22T08:08:20.550Z"
   },
   {
    "duration": 3,
    "start_time": "2024-04-22T08:08:20.649Z"
   },
   {
    "duration": 50,
    "start_time": "2024-04-22T08:08:20.654Z"
   },
   {
    "duration": 26,
    "start_time": "2024-04-22T08:08:20.705Z"
   },
   {
    "duration": 70,
    "start_time": "2024-04-22T08:08:20.732Z"
   },
   {
    "duration": 26,
    "start_time": "2024-04-22T08:08:20.804Z"
   },
   {
    "duration": 4,
    "start_time": "2024-04-22T08:08:20.832Z"
   },
   {
    "duration": 256,
    "start_time": "2024-04-22T08:08:20.838Z"
   },
   {
    "duration": 0,
    "start_time": "2024-04-22T08:08:21.095Z"
   },
   {
    "duration": 0,
    "start_time": "2024-04-22T08:08:21.096Z"
   },
   {
    "duration": 0,
    "start_time": "2024-04-22T08:08:21.097Z"
   },
   {
    "duration": 0,
    "start_time": "2024-04-22T08:08:21.098Z"
   },
   {
    "duration": 40,
    "start_time": "2024-04-22T11:20:51.854Z"
   },
   {
    "duration": 3,
    "start_time": "2024-04-22T11:27:08.113Z"
   },
   {
    "duration": 3,
    "start_time": "2024-04-22T11:52:46.880Z"
   },
   {
    "duration": 3,
    "start_time": "2024-04-22T11:52:47.311Z"
   },
   {
    "duration": 16,
    "start_time": "2024-04-22T11:52:48.207Z"
   },
   {
    "duration": 3,
    "start_time": "2024-04-22T11:52:48.646Z"
   },
   {
    "duration": 1502,
    "start_time": "2024-04-22T11:57:57.068Z"
   },
   {
    "duration": 875,
    "start_time": "2024-04-22T11:57:58.573Z"
   },
   {
    "duration": 21,
    "start_time": "2024-04-22T11:57:59.450Z"
   },
   {
    "duration": 177,
    "start_time": "2024-04-22T11:57:59.472Z"
   },
   {
    "duration": 98,
    "start_time": "2024-04-22T11:57:59.651Z"
   },
   {
    "duration": 506,
    "start_time": "2024-04-22T11:57:59.750Z"
   },
   {
    "duration": 553,
    "start_time": "2024-04-22T11:58:00.258Z"
   },
   {
    "duration": 148,
    "start_time": "2024-04-22T11:58:00.813Z"
   },
   {
    "duration": 89,
    "start_time": "2024-04-22T11:58:00.969Z"
   },
   {
    "duration": 64,
    "start_time": "2024-04-22T11:58:01.059Z"
   },
   {
    "duration": 115,
    "start_time": "2024-04-22T11:58:01.125Z"
   },
   {
    "duration": 82,
    "start_time": "2024-04-22T11:58:01.242Z"
   },
   {
    "duration": 219,
    "start_time": "2024-04-22T11:58:01.326Z"
   },
   {
    "duration": 268,
    "start_time": "2024-04-22T11:58:01.547Z"
   },
   {
    "duration": 47,
    "start_time": "2024-04-22T11:58:01.816Z"
   },
   {
    "duration": 172,
    "start_time": "2024-04-22T11:58:01.865Z"
   },
   {
    "duration": 694,
    "start_time": "2024-04-22T11:58:02.039Z"
   },
   {
    "duration": 284,
    "start_time": "2024-04-22T11:58:02.735Z"
   },
   {
    "duration": 14,
    "start_time": "2024-04-22T11:58:03.021Z"
   },
   {
    "duration": 107,
    "start_time": "2024-04-22T11:58:03.037Z"
   },
   {
    "duration": 123,
    "start_time": "2024-04-22T11:58:03.146Z"
   },
   {
    "duration": 818,
    "start_time": "2024-04-22T11:58:03.270Z"
   },
   {
    "duration": 162,
    "start_time": "2024-04-22T11:58:04.090Z"
   },
   {
    "duration": 17,
    "start_time": "2024-04-22T11:58:04.253Z"
   },
   {
    "duration": 52,
    "start_time": "2024-04-22T11:58:04.273Z"
   },
   {
    "duration": 222,
    "start_time": "2024-04-22T11:58:04.327Z"
   },
   {
    "duration": 211,
    "start_time": "2024-04-22T11:58:04.550Z"
   },
   {
    "duration": 16,
    "start_time": "2024-04-22T11:58:04.762Z"
   },
   {
    "duration": 319,
    "start_time": "2024-04-22T11:58:04.780Z"
   },
   {
    "duration": 391,
    "start_time": "2024-04-22T11:58:05.101Z"
   },
   {
    "duration": 142,
    "start_time": "2024-04-22T11:58:05.493Z"
   },
   {
    "duration": 115,
    "start_time": "2024-04-22T11:58:05.636Z"
   },
   {
    "duration": 7,
    "start_time": "2024-04-22T11:58:05.752Z"
   },
   {
    "duration": 14,
    "start_time": "2024-04-22T11:58:05.770Z"
   },
   {
    "duration": 847,
    "start_time": "2024-04-22T11:58:05.786Z"
   },
   {
    "duration": 3,
    "start_time": "2024-04-22T11:58:06.635Z"
   },
   {
    "duration": 291,
    "start_time": "2024-04-22T11:58:06.639Z"
   },
   {
    "duration": 83,
    "start_time": "2024-04-22T11:58:06.932Z"
   },
   {
    "duration": 124,
    "start_time": "2024-04-22T11:58:07.016Z"
   },
   {
    "duration": 0,
    "start_time": "2024-04-22T11:58:07.143Z"
   },
   {
    "duration": 0,
    "start_time": "2024-04-22T11:58:07.144Z"
   },
   {
    "duration": 0,
    "start_time": "2024-04-22T11:58:07.145Z"
   },
   {
    "duration": 0,
    "start_time": "2024-04-22T11:58:07.146Z"
   },
   {
    "duration": 0,
    "start_time": "2024-04-22T11:58:07.147Z"
   },
   {
    "duration": 0,
    "start_time": "2024-04-22T11:58:07.149Z"
   },
   {
    "duration": 2,
    "start_time": "2024-04-22T11:59:20.280Z"
   },
   {
    "duration": 719,
    "start_time": "2024-04-22T11:59:22.297Z"
   },
   {
    "duration": 3,
    "start_time": "2024-04-22T11:59:23.594Z"
   },
   {
    "duration": 258,
    "start_time": "2024-04-22T11:59:24.608Z"
   },
   {
    "duration": 80,
    "start_time": "2024-04-22T11:59:25.116Z"
   },
   {
    "duration": 144,
    "start_time": "2024-04-22T11:59:25.968Z"
   },
   {
    "duration": 3,
    "start_time": "2024-04-22T11:59:27.946Z"
   },
   {
    "duration": 7,
    "start_time": "2024-04-22T12:01:08.145Z"
   },
   {
    "duration": 5,
    "start_time": "2024-04-22T12:01:33.220Z"
   },
   {
    "duration": 3,
    "start_time": "2024-04-22T12:03:18.574Z"
   },
   {
    "duration": 14,
    "start_time": "2024-04-22T12:05:28.133Z"
   },
   {
    "duration": 3565,
    "start_time": "2024-04-22T12:12:51.802Z"
   },
   {
    "duration": 3,
    "start_time": "2024-04-22T12:17:40.162Z"
   },
   {
    "duration": 4,
    "start_time": "2024-04-22T12:17:55.662Z"
   },
   {
    "duration": 3,
    "start_time": "2024-04-22T12:18:17.691Z"
   },
   {
    "duration": 107217,
    "start_time": "2024-04-22T12:19:01.656Z"
   },
   {
    "duration": 0,
    "start_time": "2024-04-22T12:20:48.875Z"
   },
   {
    "duration": 1584,
    "start_time": "2024-04-22T12:51:34.465Z"
   },
   {
    "duration": 904,
    "start_time": "2024-04-22T12:51:36.052Z"
   },
   {
    "duration": 22,
    "start_time": "2024-04-22T12:51:36.957Z"
   },
   {
    "duration": 171,
    "start_time": "2024-04-22T12:51:36.980Z"
   },
   {
    "duration": 92,
    "start_time": "2024-04-22T12:51:37.153Z"
   },
   {
    "duration": 452,
    "start_time": "2024-04-22T12:51:37.247Z"
   },
   {
    "duration": 522,
    "start_time": "2024-04-22T12:51:37.701Z"
   },
   {
    "duration": 138,
    "start_time": "2024-04-22T12:51:38.225Z"
   },
   {
    "duration": 68,
    "start_time": "2024-04-22T12:51:38.368Z"
   },
   {
    "duration": 7,
    "start_time": "2024-04-22T12:51:38.438Z"
   },
   {
    "duration": 13,
    "start_time": "2024-04-22T12:51:38.446Z"
   },
   {
    "duration": 41,
    "start_time": "2024-04-22T12:51:38.460Z"
   },
   {
    "duration": 122,
    "start_time": "2024-04-22T12:51:38.502Z"
   },
   {
    "duration": 91,
    "start_time": "2024-04-22T12:51:38.627Z"
   },
   {
    "duration": 9,
    "start_time": "2024-04-22T12:51:38.719Z"
   },
   {
    "duration": 40,
    "start_time": "2024-04-22T12:51:38.729Z"
   },
   {
    "duration": 421,
    "start_time": "2024-04-22T12:51:38.771Z"
   },
   {
    "duration": 272,
    "start_time": "2024-04-22T12:51:39.194Z"
   },
   {
    "duration": 14,
    "start_time": "2024-04-22T12:51:39.467Z"
   },
   {
    "duration": 41,
    "start_time": "2024-04-22T12:51:39.482Z"
   },
   {
    "duration": 24,
    "start_time": "2024-04-22T12:51:39.525Z"
   },
   {
    "duration": 833,
    "start_time": "2024-04-22T12:51:39.550Z"
   },
   {
    "duration": 147,
    "start_time": "2024-04-22T12:51:40.385Z"
   },
   {
    "duration": 9,
    "start_time": "2024-04-22T12:51:40.533Z"
   },
   {
    "duration": 56,
    "start_time": "2024-04-22T12:51:40.544Z"
   },
   {
    "duration": 221,
    "start_time": "2024-04-22T12:51:40.601Z"
   },
   {
    "duration": 197,
    "start_time": "2024-04-22T12:51:40.824Z"
   },
   {
    "duration": 12,
    "start_time": "2024-04-22T12:51:41.023Z"
   },
   {
    "duration": 287,
    "start_time": "2024-04-22T12:51:41.037Z"
   },
   {
    "duration": 407,
    "start_time": "2024-04-22T12:51:41.325Z"
   },
   {
    "duration": 125,
    "start_time": "2024-04-22T12:51:41.733Z"
   },
   {
    "duration": 89,
    "start_time": "2024-04-22T12:51:41.860Z"
   },
   {
    "duration": 3,
    "start_time": "2024-04-22T12:51:41.950Z"
   },
   {
    "duration": 25,
    "start_time": "2024-04-22T12:51:41.954Z"
   },
   {
    "duration": 772,
    "start_time": "2024-04-22T12:51:41.981Z"
   },
   {
    "duration": 3,
    "start_time": "2024-04-22T12:51:42.754Z"
   },
   {
    "duration": 308,
    "start_time": "2024-04-22T12:51:42.759Z"
   },
   {
    "duration": 81,
    "start_time": "2024-04-22T12:51:43.069Z"
   },
   {
    "duration": 150,
    "start_time": "2024-04-22T12:51:43.152Z"
   },
   {
    "duration": 3,
    "start_time": "2024-04-22T12:51:43.304Z"
   },
   {
    "duration": 1602,
    "start_time": "2024-04-22T12:57:06.120Z"
   },
   {
    "duration": 867,
    "start_time": "2024-04-22T12:57:08.979Z"
   },
   {
    "duration": 22,
    "start_time": "2024-04-22T12:57:09.848Z"
   },
   {
    "duration": 147,
    "start_time": "2024-04-22T12:57:10.804Z"
   },
   {
    "duration": 92,
    "start_time": "2024-04-22T12:57:11.629Z"
   },
   {
    "duration": 471,
    "start_time": "2024-04-22T12:57:13.816Z"
   },
   {
    "duration": 465,
    "start_time": "2024-04-22T12:57:14.329Z"
   },
   {
    "duration": 149,
    "start_time": "2024-04-22T12:57:15.554Z"
   },
   {
    "duration": 32,
    "start_time": "2024-04-22T12:57:17.544Z"
   },
   {
    "duration": 3,
    "start_time": "2024-04-22T12:57:18.096Z"
   },
   {
    "duration": 3,
    "start_time": "2024-04-22T12:57:18.764Z"
   },
   {
    "duration": 10,
    "start_time": "2024-04-22T12:57:19.332Z"
   },
   {
    "duration": 95,
    "start_time": "2024-04-22T12:57:20.500Z"
   },
   {
    "duration": 91,
    "start_time": "2024-04-22T12:57:21.076Z"
   },
   {
    "duration": 10,
    "start_time": "2024-04-22T12:57:23.700Z"
   },
   {
    "duration": 29,
    "start_time": "2024-04-22T12:57:24.404Z"
   },
   {
    "duration": 410,
    "start_time": "2024-04-22T12:57:25.012Z"
   },
   {
    "duration": 286,
    "start_time": "2024-04-22T12:57:26.142Z"
   },
   {
    "duration": 14,
    "start_time": "2024-04-22T12:57:26.652Z"
   },
   {
    "duration": 7,
    "start_time": "2024-04-22T12:57:27.644Z"
   },
   {
    "duration": 21,
    "start_time": "2024-04-22T12:57:28.924Z"
   },
   {
    "duration": 850,
    "start_time": "2024-04-22T12:57:29.628Z"
   },
   {
    "duration": 143,
    "start_time": "2024-04-22T12:57:30.924Z"
   },
   {
    "duration": 8,
    "start_time": "2024-04-22T12:57:32.322Z"
   },
   {
    "duration": 44,
    "start_time": "2024-04-22T12:57:33.550Z"
   },
   {
    "duration": 212,
    "start_time": "2024-04-22T12:57:34.739Z"
   },
   {
    "duration": 204,
    "start_time": "2024-04-22T12:57:35.936Z"
   },
   {
    "duration": 11,
    "start_time": "2024-04-22T12:57:36.664Z"
   },
   {
    "duration": 257,
    "start_time": "2024-04-22T12:57:37.948Z"
   },
   {
    "duration": 362,
    "start_time": "2024-04-22T12:57:38.580Z"
   },
   {
    "duration": 136,
    "start_time": "2024-04-22T12:57:40.004Z"
   },
   {
    "duration": 83,
    "start_time": "2024-04-22T12:57:40.721Z"
   },
   {
    "duration": 2,
    "start_time": "2024-04-22T12:57:46.864Z"
   },
   {
    "duration": 3,
    "start_time": "2024-04-22T12:57:47.644Z"
   },
   {
    "duration": 689,
    "start_time": "2024-04-22T12:57:49.285Z"
   },
   {
    "duration": 2,
    "start_time": "2024-04-22T12:57:50.317Z"
   },
   {
    "duration": 275,
    "start_time": "2024-04-22T12:57:59.004Z"
   },
   {
    "duration": 91,
    "start_time": "2024-04-22T12:57:59.825Z"
   },
   {
    "duration": 141,
    "start_time": "2024-04-22T12:58:00.514Z"
   },
   {
    "duration": 3,
    "start_time": "2024-04-22T12:58:01.121Z"
   },
   {
    "duration": 1614,
    "start_time": "2024-04-22T13:07:51.269Z"
   },
   {
    "duration": 934,
    "start_time": "2024-04-22T13:07:55.660Z"
   },
   {
    "duration": 15,
    "start_time": "2024-04-22T13:07:57.310Z"
   },
   {
    "duration": 156,
    "start_time": "2024-04-22T13:07:58.166Z"
   },
   {
    "duration": 102,
    "start_time": "2024-04-22T13:07:58.988Z"
   },
   {
    "duration": 533,
    "start_time": "2024-04-22T13:08:01.001Z"
   },
   {
    "duration": 514,
    "start_time": "2024-04-22T13:08:01.537Z"
   },
   {
    "duration": 149,
    "start_time": "2024-04-22T13:08:02.332Z"
   },
   {
    "duration": 34,
    "start_time": "2024-04-22T13:08:03.594Z"
   },
   {
    "duration": 3,
    "start_time": "2024-04-22T13:08:04.216Z"
   },
   {
    "duration": 3,
    "start_time": "2024-04-22T13:08:04.682Z"
   },
   {
    "duration": 11,
    "start_time": "2024-04-22T13:08:05.189Z"
   },
   {
    "duration": 102,
    "start_time": "2024-04-22T13:08:06.238Z"
   },
   {
    "duration": 99,
    "start_time": "2024-04-22T13:08:06.692Z"
   },
   {
    "duration": 8,
    "start_time": "2024-04-22T13:08:09.042Z"
   },
   {
    "duration": 28,
    "start_time": "2024-04-22T13:08:09.633Z"
   },
   {
    "duration": 432,
    "start_time": "2024-04-22T13:08:10.298Z"
   },
   {
    "duration": 268,
    "start_time": "2024-04-22T13:08:11.863Z"
   },
   {
    "duration": 14,
    "start_time": "2024-04-22T13:08:12.616Z"
   },
   {
    "duration": 8,
    "start_time": "2024-04-22T13:08:13.964Z"
   },
   {
    "duration": 21,
    "start_time": "2024-04-22T13:08:15.132Z"
   },
   {
    "duration": 806,
    "start_time": "2024-04-22T13:08:15.790Z"
   },
   {
    "duration": 133,
    "start_time": "2024-04-22T13:08:17.316Z"
   },
   {
    "duration": 9,
    "start_time": "2024-04-22T13:08:18.810Z"
   },
   {
    "duration": 49,
    "start_time": "2024-04-22T13:08:20.092Z"
   },
   {
    "duration": 201,
    "start_time": "2024-04-22T13:08:21.396Z"
   },
   {
    "duration": 184,
    "start_time": "2024-04-22T13:08:22.706Z"
   },
   {
    "duration": 11,
    "start_time": "2024-04-22T13:08:23.766Z"
   },
   {
    "duration": 251,
    "start_time": "2024-04-22T13:08:25.052Z"
   },
   {
    "duration": 395,
    "start_time": "2024-04-22T13:08:26.066Z"
   },
   {
    "duration": 117,
    "start_time": "2024-04-22T13:08:27.795Z"
   },
   {
    "duration": 80,
    "start_time": "2024-04-22T13:08:28.522Z"
   },
   {
    "duration": 3,
    "start_time": "2024-04-22T13:08:30.887Z"
   },
   {
    "duration": 2,
    "start_time": "2024-04-22T13:08:31.619Z"
   },
   {
    "duration": 881,
    "start_time": "2024-04-22T13:08:34.869Z"
   },
   {
    "duration": 3,
    "start_time": "2024-04-22T13:08:36.723Z"
   },
   {
    "duration": 282,
    "start_time": "2024-04-22T13:08:41.057Z"
   },
   {
    "duration": 88,
    "start_time": "2024-04-22T13:08:41.411Z"
   },
   {
    "duration": 147,
    "start_time": "2024-04-22T13:08:41.867Z"
   },
   {
    "duration": 4,
    "start_time": "2024-04-22T13:08:42.543Z"
   },
   {
    "duration": 3,
    "start_time": "2024-04-22T13:09:23.024Z"
   },
   {
    "duration": 3,
    "start_time": "2024-04-22T13:11:58.524Z"
   },
   {
    "duration": 3,
    "start_time": "2024-04-22T13:12:02.303Z"
   },
   {
    "duration": 3,
    "start_time": "2024-04-22T13:23:40.961Z"
   },
   {
    "duration": 3,
    "start_time": "2024-04-22T13:24:02.765Z"
   },
   {
    "duration": 213,
    "start_time": "2024-04-22T13:24:05.051Z"
   },
   {
    "duration": 19794,
    "start_time": "2024-04-22T13:24:13.208Z"
   },
   {
    "duration": 64,
    "start_time": "2024-04-22T13:26:59.497Z"
   },
   {
    "duration": 4,
    "start_time": "2024-04-22T13:27:05.713Z"
   },
   {
    "duration": 58707,
    "start_time": "2024-04-22T13:27:06.789Z"
   },
   {
    "duration": 268,
    "start_time": "2024-04-22T13:30:01.477Z"
   },
   {
    "duration": 157,
    "start_time": "2024-04-22T13:30:02.077Z"
   },
   {
    "duration": 4,
    "start_time": "2024-04-22T13:30:02.841Z"
   },
   {
    "duration": 4,
    "start_time": "2024-04-22T13:30:14.179Z"
   },
   {
    "duration": 3,
    "start_time": "2024-04-22T13:33:25.068Z"
   },
   {
    "duration": 3,
    "start_time": "2024-04-22T13:33:26.959Z"
   },
   {
    "duration": 4,
    "start_time": "2024-04-22T13:34:46.553Z"
   },
   {
    "duration": 2,
    "start_time": "2024-04-22T13:36:25.920Z"
   },
   {
    "duration": 4,
    "start_time": "2024-04-22T13:36:34.935Z"
   },
   {
    "duration": 84645,
    "start_time": "2024-04-22T13:36:37.352Z"
   },
   {
    "duration": 1469,
    "start_time": "2024-04-22T13:42:24.209Z"
   },
   {
    "duration": 909,
    "start_time": "2024-04-22T13:42:25.680Z"
   },
   {
    "duration": 14,
    "start_time": "2024-04-22T13:42:26.591Z"
   },
   {
    "duration": 170,
    "start_time": "2024-04-22T13:42:26.607Z"
   },
   {
    "duration": 104,
    "start_time": "2024-04-22T13:42:26.780Z"
   },
   {
    "duration": 472,
    "start_time": "2024-04-22T13:42:26.886Z"
   },
   {
    "duration": 514,
    "start_time": "2024-04-22T13:42:27.360Z"
   },
   {
    "duration": 147,
    "start_time": "2024-04-22T13:42:27.876Z"
   },
   {
    "duration": 31,
    "start_time": "2024-04-22T13:42:28.025Z"
   },
   {
    "duration": 15,
    "start_time": "2024-04-22T13:42:28.058Z"
   },
   {
    "duration": 8,
    "start_time": "2024-04-22T13:42:28.075Z"
   },
   {
    "duration": 11,
    "start_time": "2024-04-22T13:42:28.084Z"
   },
   {
    "duration": 113,
    "start_time": "2024-04-22T13:42:28.097Z"
   },
   {
    "duration": 98,
    "start_time": "2024-04-22T13:42:28.213Z"
   },
   {
    "duration": 9,
    "start_time": "2024-04-22T13:42:28.312Z"
   },
   {
    "duration": 46,
    "start_time": "2024-04-22T13:42:28.323Z"
   },
   {
    "duration": 431,
    "start_time": "2024-04-22T13:42:28.371Z"
   },
   {
    "duration": 271,
    "start_time": "2024-04-22T13:42:28.804Z"
   },
   {
    "duration": 14,
    "start_time": "2024-04-22T13:42:29.077Z"
   },
   {
    "duration": 8,
    "start_time": "2024-04-22T13:42:29.093Z"
   },
   {
    "duration": 21,
    "start_time": "2024-04-22T13:42:29.102Z"
   },
   {
    "duration": 858,
    "start_time": "2024-04-22T13:42:29.124Z"
   },
   {
    "duration": 140,
    "start_time": "2024-04-22T13:42:29.984Z"
   },
   {
    "duration": 10,
    "start_time": "2024-04-22T13:42:30.125Z"
   },
   {
    "duration": 69,
    "start_time": "2024-04-22T13:42:30.137Z"
   },
   {
    "duration": 208,
    "start_time": "2024-04-22T13:42:30.208Z"
   },
   {
    "duration": 207,
    "start_time": "2024-04-22T13:42:30.418Z"
   },
   {
    "duration": 36,
    "start_time": "2024-04-22T13:42:30.626Z"
   },
   {
    "duration": 406,
    "start_time": "2024-04-22T13:42:30.663Z"
   },
   {
    "duration": 401,
    "start_time": "2024-04-22T13:42:31.071Z"
   },
   {
    "duration": 132,
    "start_time": "2024-04-22T13:42:31.474Z"
   },
   {
    "duration": 96,
    "start_time": "2024-04-22T13:42:31.608Z"
   },
   {
    "duration": 41,
    "start_time": "2024-04-22T13:42:31.705Z"
   },
   {
    "duration": 34,
    "start_time": "2024-04-22T13:42:31.748Z"
   },
   {
    "duration": 794,
    "start_time": "2024-04-22T13:42:31.784Z"
   },
   {
    "duration": 3,
    "start_time": "2024-04-22T13:42:32.580Z"
   },
   {
    "duration": 291,
    "start_time": "2024-04-22T13:42:32.584Z"
   },
   {
    "duration": 5,
    "start_time": "2024-04-22T13:42:32.877Z"
   },
   {
    "duration": 13,
    "start_time": "2024-04-22T13:42:32.883Z"
   },
   {
    "duration": 39,
    "start_time": "2024-04-22T13:42:32.897Z"
   },
   {
    "duration": 2716,
    "start_time": "2024-04-22T13:42:32.940Z"
   },
   {
    "duration": 0,
    "start_time": "2024-04-22T13:42:35.657Z"
   },
   {
    "duration": 0,
    "start_time": "2024-04-22T13:42:35.659Z"
   },
   {
    "duration": 0,
    "start_time": "2024-04-22T13:42:35.660Z"
   },
   {
    "duration": 0,
    "start_time": "2024-04-22T13:42:35.661Z"
   },
   {
    "duration": 0,
    "start_time": "2024-04-22T13:42:35.662Z"
   },
   {
    "duration": 0,
    "start_time": "2024-04-22T13:42:35.669Z"
   },
   {
    "duration": 0,
    "start_time": "2024-04-22T13:42:35.670Z"
   },
   {
    "duration": 0,
    "start_time": "2024-04-22T13:42:35.671Z"
   },
   {
    "duration": 0,
    "start_time": "2024-04-22T13:42:35.672Z"
   },
   {
    "duration": 1678,
    "start_time": "2024-04-22T13:46:30.612Z"
   },
   {
    "duration": 852,
    "start_time": "2024-04-22T13:46:32.292Z"
   },
   {
    "duration": 15,
    "start_time": "2024-04-22T13:46:33.146Z"
   },
   {
    "duration": 179,
    "start_time": "2024-04-22T13:46:33.162Z"
   },
   {
    "duration": 94,
    "start_time": "2024-04-22T13:46:33.342Z"
   },
   {
    "duration": 430,
    "start_time": "2024-04-22T13:46:34.537Z"
   },
   {
    "duration": 472,
    "start_time": "2024-04-22T13:46:34.969Z"
   },
   {
    "duration": 139,
    "start_time": "2024-04-22T13:46:36.577Z"
   },
   {
    "duration": 33,
    "start_time": "2024-04-22T13:46:38.153Z"
   },
   {
    "duration": 3,
    "start_time": "2024-04-22T13:46:38.585Z"
   },
   {
    "duration": 4,
    "start_time": "2024-04-22T13:46:39.069Z"
   },
   {
    "duration": 10,
    "start_time": "2024-04-22T13:46:39.495Z"
   },
   {
    "duration": 119,
    "start_time": "2024-04-22T13:46:40.383Z"
   },
   {
    "duration": 93,
    "start_time": "2024-04-22T13:46:40.813Z"
   },
   {
    "duration": 9,
    "start_time": "2024-04-22T13:46:42.625Z"
   },
   {
    "duration": 30,
    "start_time": "2024-04-22T13:46:43.053Z"
   },
   {
    "duration": 3,
    "start_time": "2024-04-22T13:50:51.587Z"
   },
   {
    "duration": 972,
    "start_time": "2024-04-22T13:50:52.897Z"
   },
   {
    "duration": 2,
    "start_time": "2024-04-22T13:50:53.871Z"
   },
   {
    "duration": 1560,
    "start_time": "2024-04-22T13:51:11.180Z"
   },
   {
    "duration": 948,
    "start_time": "2024-04-22T13:51:13.723Z"
   },
   {
    "duration": 17,
    "start_time": "2024-04-22T13:51:14.673Z"
   },
   {
    "duration": 171,
    "start_time": "2024-04-22T13:51:14.692Z"
   },
   {
    "duration": 100,
    "start_time": "2024-04-22T13:51:15.229Z"
   },
   {
    "duration": 467,
    "start_time": "2024-04-22T13:51:16.913Z"
   },
   {
    "duration": 502,
    "start_time": "2024-04-22T13:51:17.403Z"
   },
   {
    "duration": 136,
    "start_time": "2024-04-22T13:51:18.379Z"
   },
   {
    "duration": 34,
    "start_time": "2024-04-22T13:51:19.871Z"
   },
   {
    "duration": 4,
    "start_time": "2024-04-22T13:51:20.359Z"
   },
   {
    "duration": 3,
    "start_time": "2024-04-22T13:51:20.851Z"
   },
   {
    "duration": 12,
    "start_time": "2024-04-22T13:51:21.369Z"
   },
   {
    "duration": 100,
    "start_time": "2024-04-22T13:51:22.457Z"
   },
   {
    "duration": 90,
    "start_time": "2024-04-22T13:51:23.064Z"
   },
   {
    "duration": 10,
    "start_time": "2024-04-22T13:51:25.329Z"
   },
   {
    "duration": 28,
    "start_time": "2024-04-22T13:51:25.839Z"
   },
   {
    "duration": 457,
    "start_time": "2024-04-22T13:51:27.441Z"
   },
   {
    "duration": 269,
    "start_time": "2024-04-22T13:51:29.314Z"
   },
   {
    "duration": 15,
    "start_time": "2024-04-22T13:51:30.079Z"
   },
   {
    "duration": 9,
    "start_time": "2024-04-22T13:51:31.209Z"
   },
   {
    "duration": 22,
    "start_time": "2024-04-22T13:51:32.319Z"
   },
   {
    "duration": 828,
    "start_time": "2024-04-22T13:51:32.897Z"
   },
   {
    "duration": 146,
    "start_time": "2024-04-22T13:51:34.457Z"
   },
   {
    "duration": 9,
    "start_time": "2024-04-22T13:51:36.028Z"
   },
   {
    "duration": 43,
    "start_time": "2024-04-22T13:51:37.245Z"
   },
   {
    "duration": 210,
    "start_time": "2024-04-22T13:51:38.652Z"
   },
   {
    "duration": 216,
    "start_time": "2024-04-22T13:51:40.372Z"
   },
   {
    "duration": 11,
    "start_time": "2024-04-22T13:51:41.152Z"
   },
   {
    "duration": 261,
    "start_time": "2024-04-22T13:51:42.380Z"
   },
   {
    "duration": 368,
    "start_time": "2024-04-22T13:51:43.220Z"
   },
   {
    "duration": 120,
    "start_time": "2024-04-22T13:51:48.988Z"
   },
   {
    "duration": 85,
    "start_time": "2024-04-22T13:51:50.280Z"
   },
   {
    "duration": 3,
    "start_time": "2024-04-22T13:51:58.568Z"
   },
   {
    "duration": 797,
    "start_time": "2024-04-22T13:52:17.329Z"
   },
   {
    "duration": 3,
    "start_time": "2024-04-22T13:52:18.128Z"
   },
   {
    "duration": 3,
    "start_time": "2024-04-22T13:53:06.871Z"
   },
   {
    "duration": 724,
    "start_time": "2024-04-22T13:54:16.669Z"
   },
   {
    "duration": 3,
    "start_time": "2024-04-22T13:54:20.013Z"
   },
   {
    "duration": 264,
    "start_time": "2024-04-22T13:54:22.287Z"
   },
   {
    "duration": 1509,
    "start_time": "2024-04-22T13:55:48.305Z"
   },
   {
    "duration": 866,
    "start_time": "2024-04-22T13:55:50.911Z"
   },
   {
    "duration": 14,
    "start_time": "2024-04-22T13:55:51.778Z"
   },
   {
    "duration": 167,
    "start_time": "2024-04-22T13:55:52.695Z"
   },
   {
    "duration": 92,
    "start_time": "2024-04-22T13:55:53.475Z"
   },
   {
    "duration": 454,
    "start_time": "2024-04-22T13:56:02.642Z"
   },
   {
    "duration": 511,
    "start_time": "2024-04-22T13:56:03.602Z"
   },
   {
    "duration": 170,
    "start_time": "2024-04-22T13:56:05.351Z"
   },
   {
    "duration": 38,
    "start_time": "2024-04-22T13:56:07.298Z"
   },
   {
    "duration": 4,
    "start_time": "2024-04-22T13:56:07.930Z"
   },
   {
    "duration": 4,
    "start_time": "2024-04-22T13:56:08.446Z"
   },
   {
    "duration": 11,
    "start_time": "2024-04-22T13:56:09.020Z"
   },
   {
    "duration": 100,
    "start_time": "2024-04-22T13:56:10.110Z"
   },
   {
    "duration": 96,
    "start_time": "2024-04-22T13:56:10.689Z"
   },
   {
    "duration": 8,
    "start_time": "2024-04-22T13:56:12.788Z"
   },
   {
    "duration": 29,
    "start_time": "2024-04-22T13:56:13.362Z"
   },
   {
    "duration": 436,
    "start_time": "2024-04-22T13:56:13.988Z"
   },
   {
    "duration": 263,
    "start_time": "2024-04-22T13:56:15.606Z"
   },
   {
    "duration": 14,
    "start_time": "2024-04-22T13:56:16.404Z"
   },
   {
    "duration": 9,
    "start_time": "2024-04-22T13:56:17.652Z"
   },
   {
    "duration": 25,
    "start_time": "2024-04-22T13:56:18.810Z"
   },
   {
    "duration": 842,
    "start_time": "2024-04-22T13:56:19.692Z"
   },
   {
    "duration": 129,
    "start_time": "2024-04-22T13:56:21.522Z"
   },
   {
    "duration": 11,
    "start_time": "2024-04-22T13:56:23.080Z"
   },
   {
    "duration": 136,
    "start_time": "2024-04-22T13:56:33.567Z"
   },
   {
    "duration": 8,
    "start_time": "2024-04-22T13:56:34.871Z"
   },
   {
    "duration": 46,
    "start_time": "2024-04-22T13:56:36.031Z"
   },
   {
    "duration": 205,
    "start_time": "2024-04-22T13:56:37.232Z"
   },
   {
    "duration": 181,
    "start_time": "2024-04-22T13:56:41.372Z"
   },
   {
    "duration": 11,
    "start_time": "2024-04-22T13:56:42.188Z"
   },
   {
    "duration": 276,
    "start_time": "2024-04-22T13:56:43.309Z"
   },
   {
    "duration": 442,
    "start_time": "2024-04-22T13:56:43.780Z"
   },
   {
    "duration": 128,
    "start_time": "2024-04-22T13:56:45.009Z"
   },
   {
    "duration": 92,
    "start_time": "2024-04-22T13:56:46.076Z"
   },
   {
    "duration": 3,
    "start_time": "2024-04-22T13:56:49.928Z"
   },
   {
    "duration": 3,
    "start_time": "2024-04-22T13:56:50.920Z"
   },
   {
    "duration": 114,
    "start_time": "2024-04-22T13:56:52.323Z"
   },
   {
    "duration": 45,
    "start_time": "2024-04-22T13:58:08.732Z"
   },
   {
    "duration": 20,
    "start_time": "2024-04-22T13:58:32.923Z"
   },
   {
    "duration": 3,
    "start_time": "2024-04-22T13:58:34.326Z"
   },
   {
    "duration": 64,
    "start_time": "2024-04-22T13:58:36.032Z"
   },
   {
    "duration": 5,
    "start_time": "2024-04-22T13:58:38.856Z"
   },
   {
    "duration": 3,
    "start_time": "2024-04-22T14:02:26.943Z"
   },
   {
    "duration": 3,
    "start_time": "2024-04-22T14:02:27.575Z"
   },
   {
    "duration": 43,
    "start_time": "2024-04-22T14:04:17.886Z"
   },
   {
    "duration": 201,
    "start_time": "2024-04-22T14:04:28.169Z"
   },
   {
    "duration": 3,
    "start_time": "2024-04-22T14:04:29.376Z"
   },
   {
    "duration": 1829,
    "start_time": "2024-04-22T14:04:31.167Z"
   },
   {
    "duration": 156,
    "start_time": "2024-04-22T14:06:54.664Z"
   },
   {
    "duration": 4,
    "start_time": "2024-04-22T14:06:55.709Z"
   },
   {
    "duration": 2022,
    "start_time": "2024-04-22T14:06:58.922Z"
   },
   {
    "duration": 1445,
    "start_time": "2024-04-22T14:08:04.320Z"
   },
   {
    "duration": 958,
    "start_time": "2024-04-22T14:08:05.767Z"
   },
   {
    "duration": 21,
    "start_time": "2024-04-22T14:08:07.486Z"
   },
   {
    "duration": 151,
    "start_time": "2024-04-22T14:08:08.524Z"
   },
   {
    "duration": 97,
    "start_time": "2024-04-22T14:08:09.330Z"
   },
   {
    "duration": 456,
    "start_time": "2024-04-22T14:08:11.204Z"
   },
   {
    "duration": 487,
    "start_time": "2024-04-22T14:08:11.776Z"
   },
   {
    "duration": 146,
    "start_time": "2024-04-22T14:08:13.298Z"
   },
   {
    "duration": 34,
    "start_time": "2024-04-22T14:08:15.117Z"
   },
   {
    "duration": 3,
    "start_time": "2024-04-22T14:08:15.704Z"
   },
   {
    "duration": 3,
    "start_time": "2024-04-22T14:08:16.200Z"
   },
   {
    "duration": 10,
    "start_time": "2024-04-22T14:08:16.874Z"
   },
   {
    "duration": 97,
    "start_time": "2024-04-22T14:08:17.924Z"
   },
   {
    "duration": 95,
    "start_time": "2024-04-22T14:08:18.398Z"
   },
   {
    "duration": 9,
    "start_time": "2024-04-22T14:08:20.658Z"
   },
   {
    "duration": 30,
    "start_time": "2024-04-22T14:08:21.223Z"
   },
   {
    "duration": 450,
    "start_time": "2024-04-22T14:08:21.972Z"
   },
   {
    "duration": 260,
    "start_time": "2024-04-22T14:08:23.684Z"
   },
   {
    "duration": 15,
    "start_time": "2024-04-22T14:08:24.280Z"
   },
   {
    "duration": 8,
    "start_time": "2024-04-22T14:08:25.500Z"
   },
   {
    "duration": 22,
    "start_time": "2024-04-22T14:08:26.545Z"
   },
   {
    "duration": 822,
    "start_time": "2024-04-22T14:08:27.114Z"
   },
   {
    "duration": 134,
    "start_time": "2024-04-22T14:08:29.647Z"
   },
   {
    "duration": 11,
    "start_time": "2024-04-22T14:08:30.906Z"
   },
   {
    "duration": 46,
    "start_time": "2024-04-22T14:08:33.313Z"
   },
   {
    "duration": 201,
    "start_time": "2024-04-22T14:08:35.004Z"
   },
   {
    "duration": 197,
    "start_time": "2024-04-22T14:08:36.074Z"
   },
   {
    "duration": 12,
    "start_time": "2024-04-22T14:08:36.682Z"
   },
   {
    "duration": 288,
    "start_time": "2024-04-22T14:08:37.927Z"
   },
   {
    "duration": 391,
    "start_time": "2024-04-22T14:08:38.468Z"
   },
   {
    "duration": 121,
    "start_time": "2024-04-22T14:08:39.604Z"
   },
   {
    "duration": 80,
    "start_time": "2024-04-22T14:08:40.210Z"
   },
   {
    "duration": 3,
    "start_time": "2024-04-22T14:08:41.756Z"
   },
   {
    "duration": 111,
    "start_time": "2024-04-22T14:08:42.194Z"
   },
   {
    "duration": 4,
    "start_time": "2024-04-22T14:08:42.721Z"
   },
   {
    "duration": 14,
    "start_time": "2024-04-22T14:08:50.935Z"
   },
   {
    "duration": 2,
    "start_time": "2024-04-22T14:08:51.820Z"
   },
   {
    "duration": 66,
    "start_time": "2024-04-22T14:08:53.207Z"
   },
   {
    "duration": 4,
    "start_time": "2024-04-22T14:08:53.873Z"
   },
   {
    "duration": 4,
    "start_time": "2024-04-22T14:08:55.213Z"
   },
   {
    "duration": 3,
    "start_time": "2024-04-22T14:08:56.133Z"
   },
   {
    "duration": 182,
    "start_time": "2024-04-22T14:09:03.586Z"
   },
   {
    "duration": 3,
    "start_time": "2024-04-22T14:09:04.723Z"
   },
   {
    "duration": 1853,
    "start_time": "2024-04-22T14:09:06.169Z"
   },
   {
    "duration": 4,
    "start_time": "2024-04-22T14:14:49.624Z"
   },
   {
    "duration": 100,
    "start_time": "2024-04-22T14:18:01.721Z"
   },
   {
    "duration": 87,
    "start_time": "2024-04-22T14:18:09.267Z"
   },
   {
    "duration": 59,
    "start_time": "2024-04-22T14:20:22.582Z"
   },
   {
    "duration": 67,
    "start_time": "2024-04-22T14:21:24.450Z"
   },
   {
    "duration": 3,
    "start_time": "2024-04-22T14:21:25.305Z"
   },
   {
    "duration": 4,
    "start_time": "2024-04-22T14:21:48.412Z"
   },
   {
    "duration": 31,
    "start_time": "2024-04-22T14:22:41.568Z"
   },
   {
    "duration": 4,
    "start_time": "2024-04-22T14:22:42.854Z"
   },
   {
    "duration": 4,
    "start_time": "2024-04-22T14:22:49.422Z"
   },
   {
    "duration": 3,
    "start_time": "2024-04-22T14:22:49.832Z"
   },
   {
    "duration": 53,
    "start_time": "2024-04-22T14:22:59.098Z"
   },
   {
    "duration": 1624,
    "start_time": "2024-04-22T14:23:31.752Z"
   },
   {
    "duration": 947,
    "start_time": "2024-04-22T14:23:33.378Z"
   },
   {
    "duration": 16,
    "start_time": "2024-04-22T14:23:34.326Z"
   },
   {
    "duration": 175,
    "start_time": "2024-04-22T14:23:34.344Z"
   },
   {
    "duration": 111,
    "start_time": "2024-04-22T14:23:34.522Z"
   },
   {
    "duration": 481,
    "start_time": "2024-04-22T14:23:34.635Z"
   },
   {
    "duration": 525,
    "start_time": "2024-04-22T14:23:35.118Z"
   },
   {
    "duration": 156,
    "start_time": "2024-04-22T14:23:35.644Z"
   },
   {
    "duration": 32,
    "start_time": "2024-04-22T14:23:35.802Z"
   },
   {
    "duration": 40,
    "start_time": "2024-04-22T14:23:35.835Z"
   },
   {
    "duration": 24,
    "start_time": "2024-04-22T14:23:35.877Z"
   },
   {
    "duration": 43,
    "start_time": "2024-04-22T14:23:35.903Z"
   },
   {
    "duration": 131,
    "start_time": "2024-04-22T14:23:35.947Z"
   },
   {
    "duration": 98,
    "start_time": "2024-04-22T14:23:36.081Z"
   },
   {
    "duration": 28,
    "start_time": "2024-04-22T14:23:36.181Z"
   },
   {
    "duration": 55,
    "start_time": "2024-04-22T14:23:36.211Z"
   },
   {
    "duration": 427,
    "start_time": "2024-04-22T14:23:36.268Z"
   },
   {
    "duration": 292,
    "start_time": "2024-04-22T14:23:36.697Z"
   },
   {
    "duration": 15,
    "start_time": "2024-04-22T14:23:36.991Z"
   },
   {
    "duration": 27,
    "start_time": "2024-04-22T14:23:37.008Z"
   },
   {
    "duration": 28,
    "start_time": "2024-04-22T14:23:37.037Z"
   },
   {
    "duration": 808,
    "start_time": "2024-04-22T14:23:37.066Z"
   },
   {
    "duration": 139,
    "start_time": "2024-04-22T14:23:37.875Z"
   },
   {
    "duration": 10,
    "start_time": "2024-04-22T14:23:38.015Z"
   },
   {
    "duration": 55,
    "start_time": "2024-04-22T14:23:38.027Z"
   },
   {
    "duration": 236,
    "start_time": "2024-04-22T14:23:38.084Z"
   },
   {
    "duration": 195,
    "start_time": "2024-04-22T14:23:38.322Z"
   },
   {
    "duration": 11,
    "start_time": "2024-04-22T14:23:38.519Z"
   },
   {
    "duration": 289,
    "start_time": "2024-04-22T14:23:38.532Z"
   },
   {
    "duration": 369,
    "start_time": "2024-04-22T14:23:38.823Z"
   },
   {
    "duration": 137,
    "start_time": "2024-04-22T14:23:39.193Z"
   },
   {
    "duration": 96,
    "start_time": "2024-04-22T14:23:39.332Z"
   },
   {
    "duration": 3,
    "start_time": "2024-04-22T14:23:39.429Z"
   },
   {
    "duration": 15,
    "start_time": "2024-04-22T14:23:39.434Z"
   },
   {
    "duration": 21,
    "start_time": "2024-04-22T14:23:39.450Z"
   },
   {
    "duration": 73,
    "start_time": "2024-04-22T14:23:39.472Z"
   },
   {
    "duration": 43,
    "start_time": "2024-04-22T14:23:39.547Z"
   },
   {
    "duration": 4,
    "start_time": "2024-04-22T14:23:39.592Z"
   },
   {
    "duration": 27,
    "start_time": "2024-04-22T14:23:39.597Z"
   },
   {
    "duration": 12,
    "start_time": "2024-04-22T14:23:39.626Z"
   },
   {
    "duration": 172,
    "start_time": "2024-04-22T14:23:39.642Z"
   },
   {
    "duration": 0,
    "start_time": "2024-04-22T14:23:39.816Z"
   },
   {
    "duration": 0,
    "start_time": "2024-04-22T14:23:39.817Z"
   },
   {
    "duration": 0,
    "start_time": "2024-04-22T14:23:39.818Z"
   },
   {
    "duration": 0,
    "start_time": "2024-04-22T14:23:39.819Z"
   },
   {
    "duration": 0,
    "start_time": "2024-04-22T14:23:39.820Z"
   },
   {
    "duration": 0,
    "start_time": "2024-04-22T14:23:39.821Z"
   },
   {
    "duration": 0,
    "start_time": "2024-04-22T14:23:39.822Z"
   },
   {
    "duration": 0,
    "start_time": "2024-04-22T14:23:39.823Z"
   },
   {
    "duration": 0,
    "start_time": "2024-04-22T14:23:39.824Z"
   },
   {
    "duration": 0,
    "start_time": "2024-04-22T14:23:39.825Z"
   },
   {
    "duration": 0,
    "start_time": "2024-04-22T14:23:39.825Z"
   },
   {
    "duration": 45,
    "start_time": "2024-04-22T14:24:34.497Z"
   },
   {
    "duration": 57,
    "start_time": "2024-04-22T14:37:08.818Z"
   },
   {
    "duration": 1803,
    "start_time": "2024-04-22T14:37:34.242Z"
   },
   {
    "duration": 953,
    "start_time": "2024-04-22T14:37:36.999Z"
   },
   {
    "duration": 21,
    "start_time": "2024-04-22T14:37:37.954Z"
   },
   {
    "duration": 153,
    "start_time": "2024-04-22T14:37:38.726Z"
   },
   {
    "duration": 95,
    "start_time": "2024-04-22T14:37:39.464Z"
   },
   {
    "duration": 510,
    "start_time": "2024-04-22T14:37:40.628Z"
   },
   {
    "duration": 517,
    "start_time": "2024-04-22T14:37:41.140Z"
   },
   {
    "duration": 144,
    "start_time": "2024-04-22T14:37:41.662Z"
   },
   {
    "duration": 33,
    "start_time": "2024-04-22T14:37:42.880Z"
   },
   {
    "duration": 4,
    "start_time": "2024-04-22T14:37:43.346Z"
   },
   {
    "duration": 3,
    "start_time": "2024-04-22T14:37:44.000Z"
   },
   {
    "duration": 11,
    "start_time": "2024-04-22T14:37:44.550Z"
   },
   {
    "duration": 95,
    "start_time": "2024-04-22T14:37:45.723Z"
   },
   {
    "duration": 91,
    "start_time": "2024-04-22T14:37:46.654Z"
   },
   {
    "duration": 11,
    "start_time": "2024-04-22T14:37:48.478Z"
   },
   {
    "duration": 32,
    "start_time": "2024-04-22T14:37:48.775Z"
   },
   {
    "duration": 425,
    "start_time": "2024-04-22T14:37:49.013Z"
   },
   {
    "duration": 271,
    "start_time": "2024-04-22T14:37:49.448Z"
   },
   {
    "duration": 15,
    "start_time": "2024-04-22T14:37:49.721Z"
   },
   {
    "duration": 8,
    "start_time": "2024-04-22T14:37:50.099Z"
   },
   {
    "duration": 23,
    "start_time": "2024-04-22T14:37:50.539Z"
   },
   {
    "duration": 857,
    "start_time": "2024-04-22T14:37:50.738Z"
   },
   {
    "duration": 142,
    "start_time": "2024-04-22T14:37:51.596Z"
   },
   {
    "duration": 10,
    "start_time": "2024-04-22T14:37:52.103Z"
   },
   {
    "duration": 46,
    "start_time": "2024-04-22T14:37:52.975Z"
   },
   {
    "duration": 204,
    "start_time": "2024-04-22T14:37:54.026Z"
   },
   {
    "duration": 183,
    "start_time": "2024-04-22T14:37:55.287Z"
   },
   {
    "duration": 12,
    "start_time": "2024-04-22T14:37:56.115Z"
   },
   {
    "duration": 257,
    "start_time": "2024-04-22T14:37:57.337Z"
   },
   {
    "duration": 387,
    "start_time": "2024-04-22T14:37:57.961Z"
   },
   {
    "duration": 129,
    "start_time": "2024-04-22T14:37:59.395Z"
   },
   {
    "duration": 84,
    "start_time": "2024-04-22T14:38:00.232Z"
   },
   {
    "duration": 2,
    "start_time": "2024-04-22T14:38:03.209Z"
   },
   {
    "duration": 15,
    "start_time": "2024-04-22T14:38:05.589Z"
   },
   {
    "duration": 3,
    "start_time": "2024-04-22T14:38:06.123Z"
   },
   {
    "duration": 66,
    "start_time": "2024-04-22T14:38:07.561Z"
   },
   {
    "duration": 113,
    "start_time": "2024-04-22T14:38:08.437Z"
   },
   {
    "duration": 5,
    "start_time": "2024-04-22T14:38:17.421Z"
   },
   {
    "duration": 4,
    "start_time": "2024-04-22T14:38:26.049Z"
   },
   {
    "duration": 3,
    "start_time": "2024-04-22T14:38:26.825Z"
   },
   {
    "duration": 176,
    "start_time": "2024-04-22T14:39:06.486Z"
   },
   {
    "duration": 4,
    "start_time": "2024-04-22T14:39:07.496Z"
   },
   {
    "duration": 12,
    "start_time": "2024-04-22T14:44:34.842Z"
   },
   {
    "duration": 7,
    "start_time": "2024-04-22T14:45:30.487Z"
   },
   {
    "duration": 5,
    "start_time": "2024-04-22T14:45:44.213Z"
   },
   {
    "duration": 12,
    "start_time": "2024-04-22T14:54:10.915Z"
   },
   {
    "duration": 10,
    "start_time": "2024-04-22T14:54:17.314Z"
   },
   {
    "duration": 10,
    "start_time": "2024-04-22T14:54:30.380Z"
   },
   {
    "duration": 1622,
    "start_time": "2024-04-22T14:55:24.240Z"
   },
   {
    "duration": 924,
    "start_time": "2024-04-22T14:55:26.803Z"
   },
   {
    "duration": 14,
    "start_time": "2024-04-22T14:55:27.729Z"
   },
   {
    "duration": 153,
    "start_time": "2024-04-22T14:55:27.745Z"
   },
   {
    "duration": 150,
    "start_time": "2024-04-22T14:55:27.901Z"
   },
   {
    "duration": 512,
    "start_time": "2024-04-22T14:55:28.472Z"
   },
   {
    "duration": 521,
    "start_time": "2024-04-22T14:55:28.986Z"
   },
   {
    "duration": 143,
    "start_time": "2024-04-22T14:55:29.509Z"
   },
   {
    "duration": 36,
    "start_time": "2024-04-22T14:55:29.719Z"
   },
   {
    "duration": 3,
    "start_time": "2024-04-22T14:55:29.905Z"
   },
   {
    "duration": 3,
    "start_time": "2024-04-22T14:55:30.108Z"
   },
   {
    "duration": 11,
    "start_time": "2024-04-22T14:55:30.281Z"
   },
   {
    "duration": 107,
    "start_time": "2024-04-22T14:55:30.669Z"
   },
   {
    "duration": 94,
    "start_time": "2024-04-22T14:55:30.855Z"
   },
   {
    "duration": 9,
    "start_time": "2024-04-22T14:55:31.645Z"
   },
   {
    "duration": 32,
    "start_time": "2024-04-22T14:55:31.841Z"
   },
   {
    "duration": 449,
    "start_time": "2024-04-22T14:55:32.042Z"
   },
   {
    "duration": 276,
    "start_time": "2024-04-22T14:55:32.493Z"
   },
   {
    "duration": 15,
    "start_time": "2024-04-22T14:55:32.771Z"
   },
   {
    "duration": 8,
    "start_time": "2024-04-22T14:55:33.001Z"
   },
   {
    "duration": 22,
    "start_time": "2024-04-22T14:55:33.395Z"
   },
   {
    "duration": 834,
    "start_time": "2024-04-22T14:55:33.609Z"
   },
   {
    "duration": 136,
    "start_time": "2024-04-22T14:55:34.445Z"
   },
   {
    "duration": 10,
    "start_time": "2024-04-22T14:55:34.921Z"
   },
   {
    "duration": 47,
    "start_time": "2024-04-22T14:55:35.685Z"
   },
   {
    "duration": 200,
    "start_time": "2024-04-22T14:55:36.443Z"
   },
   {
    "duration": 198,
    "start_time": "2024-04-22T14:55:37.151Z"
   },
   {
    "duration": 12,
    "start_time": "2024-04-22T14:55:37.465Z"
   },
   {
    "duration": 266,
    "start_time": "2024-04-22T14:55:38.275Z"
   },
   {
    "duration": 365,
    "start_time": "2024-04-22T14:55:38.719Z"
   },
   {
    "duration": 119,
    "start_time": "2024-04-22T14:55:39.607Z"
   },
   {
    "duration": 87,
    "start_time": "2024-04-22T14:55:40.065Z"
   },
   {
    "duration": 3,
    "start_time": "2024-04-22T14:55:41.955Z"
   },
   {
    "duration": 13,
    "start_time": "2024-04-22T14:55:42.609Z"
   },
   {
    "duration": 0,
    "start_time": "2024-04-22T14:55:54.833Z"
   },
   {
    "duration": 11406,
    "start_time": "2024-04-22T14:55:58.553Z"
   },
   {
    "duration": 28,
    "start_time": "2024-04-22T14:58:04.968Z"
   },
   {
    "duration": 90,
    "start_time": "2024-04-22T14:58:05.542Z"
   },
   {
    "duration": 2,
    "start_time": "2024-04-22T14:58:12.841Z"
   },
   {
    "duration": 15,
    "start_time": "2024-04-22T14:58:15.927Z"
   },
   {
    "duration": 11253,
    "start_time": "2024-04-22T14:58:17.401Z"
   },
   {
    "duration": 3,
    "start_time": "2024-04-22T14:59:00.918Z"
   },
   {
    "duration": 57,
    "start_time": "2024-04-22T14:59:01.691Z"
   },
   {
    "duration": 3,
    "start_time": "2024-04-22T14:59:02.160Z"
   },
   {
    "duration": 511,
    "start_time": "2024-04-22T15:03:26.768Z"
   },
   {
    "duration": 180,
    "start_time": "2024-04-22T15:03:33.229Z"
   },
   {
    "duration": 2,
    "start_time": "2024-04-22T15:05:33.363Z"
   },
   {
    "duration": 145,
    "start_time": "2024-04-22T15:11:42.685Z"
   },
   {
    "duration": 3,
    "start_time": "2024-04-22T15:11:43.763Z"
   },
   {
    "duration": 157,
    "start_time": "2024-04-22T15:29:05.350Z"
   },
   {
    "duration": 14,
    "start_time": "2024-04-22T15:29:10.012Z"
   },
   {
    "duration": 4,
    "start_time": "2024-04-22T15:47:51.893Z"
   },
   {
    "duration": 599,
    "start_time": "2024-04-22T15:49:01.427Z"
   },
   {
    "duration": 174,
    "start_time": "2024-04-22T15:49:02.786Z"
   },
   {
    "duration": 4,
    "start_time": "2024-04-22T15:49:03.288Z"
   },
   {
    "duration": 257,
    "start_time": "2024-04-22T15:49:04.296Z"
   },
   {
    "duration": 3,
    "start_time": "2024-04-22T15:49:05.274Z"
   },
   {
    "duration": 4,
    "start_time": "2024-04-22T15:49:05.922Z"
   },
   {
    "duration": 2,
    "start_time": "2024-04-22T15:50:53.987Z"
   },
   {
    "duration": 20800,
    "start_time": "2024-04-22T15:51:12.278Z"
   },
   {
    "duration": 740,
    "start_time": "2024-04-22T15:52:08.436Z"
   },
   {
    "duration": 232,
    "start_time": "2024-04-22T15:54:41.339Z"
   },
   {
    "duration": 225,
    "start_time": "2024-04-22T15:55:10.747Z"
   },
   {
    "duration": 281,
    "start_time": "2024-04-22T15:55:36.790Z"
   },
   {
    "duration": 19029,
    "start_time": "2024-04-22T15:55:54.542Z"
   },
   {
    "duration": 16,
    "start_time": "2024-04-22T16:00:03.135Z"
   },
   {
    "duration": 126,
    "start_time": "2024-04-22T16:00:41.855Z"
   },
   {
    "duration": 48,
    "start_time": "2024-04-22T16:01:49.401Z"
   },
   {
    "duration": 268,
    "start_time": "2024-04-22T16:08:49.431Z"
   },
   {
    "duration": 114,
    "start_time": "2024-04-22T16:09:30.523Z"
   },
   {
    "duration": 288222,
    "start_time": "2024-04-22T16:14:17.400Z"
   },
   {
    "duration": 57,
    "start_time": "2024-04-22T16:19:05.623Z"
   },
   {
    "duration": 269,
    "start_time": "2024-04-22T16:19:21.201Z"
   },
   {
    "duration": 92,
    "start_time": "2024-04-22T16:19:22.183Z"
   },
   {
    "duration": 5,
    "start_time": "2024-04-22T16:19:44.861Z"
   },
   {
    "duration": 15255,
    "start_time": "2024-04-22T16:20:09.222Z"
   },
   {
    "duration": 292,
    "start_time": "2024-04-22T16:20:24.479Z"
   },
   {
    "duration": 193,
    "start_time": "2024-04-22T16:20:49.783Z"
   },
   {
    "duration": 43,
    "start_time": "2024-04-22T16:39:52.693Z"
   },
   {
    "duration": 43949,
    "start_time": "2024-04-22T16:40:18.469Z"
   },
   {
    "duration": 1906,
    "start_time": "2024-04-22T16:41:05.928Z"
   },
   {
    "duration": 393,
    "start_time": "2024-04-22T16:42:28.886Z"
   },
   {
    "duration": 399,
    "start_time": "2024-04-22T16:42:52.642Z"
   },
   {
    "duration": 409,
    "start_time": "2024-04-22T16:43:13.083Z"
   },
   {
    "duration": 3,
    "start_time": "2024-04-22T16:51:47.637Z"
   },
   {
    "duration": 4,
    "start_time": "2024-04-22T16:51:49.842Z"
   },
   {
    "duration": 4,
    "start_time": "2024-04-22T16:51:50.078Z"
   },
   {
    "duration": 2,
    "start_time": "2024-04-22T16:51:51.817Z"
   },
   {
    "duration": 5,
    "start_time": "2024-04-22T16:55:43.582Z"
   },
   {
    "duration": 4,
    "start_time": "2024-04-22T17:06:10.699Z"
   },
   {
    "duration": 13,
    "start_time": "2024-04-22T17:12:03.450Z"
   },
   {
    "duration": 3,
    "start_time": "2024-04-22T17:13:03.205Z"
   },
   {
    "duration": 4,
    "start_time": "2024-04-22T17:13:03.867Z"
   },
   {
    "duration": 5,
    "start_time": "2024-04-22T17:13:04.407Z"
   },
   {
    "duration": 4,
    "start_time": "2024-04-22T17:13:17.258Z"
   },
   {
    "duration": 62,
    "start_time": "2024-04-22T17:15:09.665Z"
   },
   {
    "duration": 1647,
    "start_time": "2024-04-22T17:16:43.760Z"
   },
   {
    "duration": 1289,
    "start_time": "2024-04-22T17:16:45.409Z"
   },
   {
    "duration": 15,
    "start_time": "2024-04-22T17:16:46.700Z"
   },
   {
    "duration": 153,
    "start_time": "2024-04-22T17:16:46.717Z"
   },
   {
    "duration": 110,
    "start_time": "2024-04-22T17:16:46.872Z"
   },
   {
    "duration": 512,
    "start_time": "2024-04-22T17:16:46.984Z"
   },
   {
    "duration": 530,
    "start_time": "2024-04-22T17:16:47.498Z"
   },
   {
    "duration": 150,
    "start_time": "2024-04-22T17:16:48.029Z"
   },
   {
    "duration": 36,
    "start_time": "2024-04-22T17:16:48.180Z"
   },
   {
    "duration": 6,
    "start_time": "2024-04-22T17:16:48.218Z"
   },
   {
    "duration": 8,
    "start_time": "2024-04-22T17:16:48.225Z"
   },
   {
    "duration": 12,
    "start_time": "2024-04-22T17:16:48.235Z"
   },
   {
    "duration": 108,
    "start_time": "2024-04-22T17:16:48.270Z"
   },
   {
    "duration": 99,
    "start_time": "2024-04-22T17:16:48.381Z"
   },
   {
    "duration": 19,
    "start_time": "2024-04-22T17:16:48.482Z"
   },
   {
    "duration": 31,
    "start_time": "2024-04-22T17:16:48.502Z"
   },
   {
    "duration": 472,
    "start_time": "2024-04-22T17:16:48.535Z"
   },
   {
    "duration": 297,
    "start_time": "2024-04-22T17:16:49.009Z"
   },
   {
    "duration": 17,
    "start_time": "2024-04-22T17:16:49.308Z"
   },
   {
    "duration": 11,
    "start_time": "2024-04-22T17:16:49.327Z"
   },
   {
    "duration": 42,
    "start_time": "2024-04-22T17:16:49.340Z"
   },
   {
    "duration": 926,
    "start_time": "2024-04-22T17:16:49.384Z"
   },
   {
    "duration": 163,
    "start_time": "2024-04-22T17:16:50.312Z"
   },
   {
    "duration": 15,
    "start_time": "2024-04-22T17:16:50.477Z"
   },
   {
    "duration": 51,
    "start_time": "2024-04-22T17:16:50.494Z"
   },
   {
    "duration": 335,
    "start_time": "2024-04-22T17:16:50.547Z"
   },
   {
    "duration": 233,
    "start_time": "2024-04-22T17:16:50.884Z"
   },
   {
    "duration": 13,
    "start_time": "2024-04-22T17:16:51.118Z"
   },
   {
    "duration": 299,
    "start_time": "2024-04-22T17:16:51.133Z"
   },
   {
    "duration": 419,
    "start_time": "2024-04-22T17:16:51.434Z"
   },
   {
    "duration": 142,
    "start_time": "2024-04-22T17:16:51.854Z"
   },
   {
    "duration": 13,
    "start_time": "2024-04-22T17:16:51.998Z"
   },
   {
    "duration": 98,
    "start_time": "2024-04-22T17:16:52.012Z"
   },
   {
    "duration": 2,
    "start_time": "2024-04-22T17:16:52.113Z"
   },
   {
    "duration": 5,
    "start_time": "2024-04-22T17:16:52.117Z"
   },
   {
    "duration": 635,
    "start_time": "2024-04-22T17:16:52.124Z"
   },
   {
    "duration": 185,
    "start_time": "2024-04-22T17:16:52.760Z"
   },
   {
    "duration": 2,
    "start_time": "2024-04-22T17:16:52.947Z"
   },
   {
    "duration": 284,
    "start_time": "2024-04-22T17:16:52.951Z"
   },
   {
    "duration": 94,
    "start_time": "2024-04-22T17:16:53.237Z"
   },
   {
    "duration": 2,
    "start_time": "2024-04-22T17:16:53.335Z"
   },
   {
    "duration": 12,
    "start_time": "2024-04-22T17:16:53.339Z"
   },
   {
    "duration": 6,
    "start_time": "2024-04-22T17:16:53.353Z"
   },
   {
    "duration": 13,
    "start_time": "2024-04-22T17:16:53.361Z"
   },
   {
    "duration": 4,
    "start_time": "2024-04-22T17:16:53.376Z"
   },
   {
    "duration": 11,
    "start_time": "2024-04-22T17:16:53.382Z"
   },
   {
    "duration": 9,
    "start_time": "2024-04-22T17:16:53.394Z"
   },
   {
    "duration": 19,
    "start_time": "2024-04-22T17:16:53.404Z"
   },
   {
    "duration": 4,
    "start_time": "2024-04-22T17:16:53.425Z"
   },
   {
    "duration": 8,
    "start_time": "2024-04-22T17:16:53.431Z"
   },
   {
    "duration": 4,
    "start_time": "2024-04-22T17:16:53.441Z"
   },
   {
    "duration": 7,
    "start_time": "2024-04-22T17:16:53.446Z"
   },
   {
    "duration": 12,
    "start_time": "2024-04-22T17:16:53.454Z"
   },
   {
    "duration": 1615,
    "start_time": "2024-04-22T17:21:11.792Z"
   },
   {
    "duration": 1215,
    "start_time": "2024-04-22T17:21:14.702Z"
   },
   {
    "duration": 16,
    "start_time": "2024-04-22T17:21:15.919Z"
   },
   {
    "duration": 171,
    "start_time": "2024-04-22T17:21:15.936Z"
   },
   {
    "duration": 110,
    "start_time": "2024-04-22T17:21:16.109Z"
   },
   {
    "duration": 497,
    "start_time": "2024-04-22T17:21:16.692Z"
   },
   {
    "duration": 532,
    "start_time": "2024-04-22T17:21:17.190Z"
   },
   {
    "duration": 154,
    "start_time": "2024-04-22T17:21:17.724Z"
   },
   {
    "duration": 36,
    "start_time": "2024-04-22T17:21:17.907Z"
   },
   {
    "duration": 3,
    "start_time": "2024-04-22T17:21:18.078Z"
   },
   {
    "duration": 3,
    "start_time": "2024-04-22T17:21:18.264Z"
   },
   {
    "duration": 11,
    "start_time": "2024-04-22T17:21:18.414Z"
   },
   {
    "duration": 102,
    "start_time": "2024-04-22T17:21:18.974Z"
   },
   {
    "duration": 98,
    "start_time": "2024-04-22T17:21:19.146Z"
   },
   {
    "duration": 11,
    "start_time": "2024-04-22T17:21:19.967Z"
   },
   {
    "duration": 29,
    "start_time": "2024-04-22T17:21:20.184Z"
   },
   {
    "duration": 466,
    "start_time": "2024-04-22T17:21:20.344Z"
   },
   {
    "duration": 287,
    "start_time": "2024-04-22T17:21:20.812Z"
   },
   {
    "duration": 15,
    "start_time": "2024-04-22T17:21:21.100Z"
   },
   {
    "duration": 8,
    "start_time": "2024-04-22T17:21:22.014Z"
   },
   {
    "duration": 22,
    "start_time": "2024-04-22T17:21:22.614Z"
   },
   {
    "duration": 853,
    "start_time": "2024-04-22T17:21:23.146Z"
   },
   {
    "duration": 143,
    "start_time": "2024-04-22T17:21:24.252Z"
   },
   {
    "duration": 10,
    "start_time": "2024-04-22T17:21:25.278Z"
   },
   {
    "duration": 49,
    "start_time": "2024-04-22T17:21:26.136Z"
   },
   {
    "duration": 205,
    "start_time": "2024-04-22T17:21:26.940Z"
   },
   {
    "duration": 200,
    "start_time": "2024-04-22T17:21:29.978Z"
   },
   {
    "duration": 12,
    "start_time": "2024-04-22T17:21:31.158Z"
   },
   {
    "duration": 276,
    "start_time": "2024-04-22T17:21:34.092Z"
   },
   {
    "duration": 388,
    "start_time": "2024-04-22T17:21:37.215Z"
   },
   {
    "duration": 129,
    "start_time": "2024-04-22T17:21:43.545Z"
   },
   {
    "duration": 12,
    "start_time": "2024-04-22T17:21:48.098Z"
   },
   {
    "duration": 86,
    "start_time": "2024-04-22T17:21:49.150Z"
   },
   {
    "duration": 83,
    "start_time": "2024-04-22T17:22:27.625Z"
   },
   {
    "duration": 3,
    "start_time": "2024-04-22T17:22:39.918Z"
   },
   {
    "duration": 2,
    "start_time": "2024-04-22T17:22:40.338Z"
   },
   {
    "duration": 603,
    "start_time": "2024-04-22T17:22:40.764Z"
   },
   {
    "duration": 181,
    "start_time": "2024-04-22T17:22:41.369Z"
   },
   {
    "duration": 3,
    "start_time": "2024-04-22T17:22:42.744Z"
   },
   {
    "duration": 271,
    "start_time": "2024-04-22T17:22:44.204Z"
   },
   {
    "duration": 98,
    "start_time": "2024-04-22T17:22:45.271Z"
   },
   {
    "duration": 2,
    "start_time": "2024-04-22T17:22:50.825Z"
   },
   {
    "duration": 4,
    "start_time": "2024-04-22T17:22:51.500Z"
   },
   {
    "duration": 3,
    "start_time": "2024-04-22T17:22:54.147Z"
   },
   {
    "duration": 3,
    "start_time": "2024-04-22T17:22:55.650Z"
   },
   {
    "duration": 4,
    "start_time": "2024-04-22T17:22:57.212Z"
   },
   {
    "duration": 5,
    "start_time": "2024-04-22T17:22:59.272Z"
   },
   {
    "duration": 4,
    "start_time": "2024-04-22T17:23:01.478Z"
   },
   {
    "duration": 1630,
    "start_time": "2024-04-22T17:25:43.649Z"
   },
   {
    "duration": 1222,
    "start_time": "2024-04-22T17:25:45.281Z"
   },
   {
    "duration": 16,
    "start_time": "2024-04-22T17:25:46.504Z"
   },
   {
    "duration": 159,
    "start_time": "2024-04-22T17:25:46.521Z"
   },
   {
    "duration": 107,
    "start_time": "2024-04-22T17:25:46.682Z"
   },
   {
    "duration": 523,
    "start_time": "2024-04-22T17:25:46.791Z"
   },
   {
    "duration": 566,
    "start_time": "2024-04-22T17:25:47.315Z"
   },
   {
    "duration": 147,
    "start_time": "2024-04-22T17:25:47.883Z"
   },
   {
    "duration": 49,
    "start_time": "2024-04-22T17:25:48.031Z"
   },
   {
    "duration": 3,
    "start_time": "2024-04-22T17:25:48.082Z"
   },
   {
    "duration": 13,
    "start_time": "2024-04-22T17:25:48.086Z"
   },
   {
    "duration": 18,
    "start_time": "2024-04-22T17:25:48.100Z"
   },
   {
    "duration": 112,
    "start_time": "2024-04-22T17:25:48.120Z"
   },
   {
    "duration": 95,
    "start_time": "2024-04-22T17:25:48.235Z"
   },
   {
    "duration": 8,
    "start_time": "2024-04-22T17:25:48.332Z"
   },
   {
    "duration": 60,
    "start_time": "2024-04-22T17:25:48.342Z"
   },
   {
    "duration": 448,
    "start_time": "2024-04-22T17:25:48.404Z"
   },
   {
    "duration": 280,
    "start_time": "2024-04-22T17:25:48.854Z"
   },
   {
    "duration": 16,
    "start_time": "2024-04-22T17:25:49.136Z"
   },
   {
    "duration": 10,
    "start_time": "2024-04-22T17:25:49.169Z"
   },
   {
    "duration": 26,
    "start_time": "2024-04-22T17:25:49.181Z"
   },
   {
    "duration": 880,
    "start_time": "2024-04-22T17:25:49.210Z"
   },
   {
    "duration": 159,
    "start_time": "2024-04-22T17:25:50.091Z"
   },
   {
    "duration": 24,
    "start_time": "2024-04-22T17:25:50.252Z"
   },
   {
    "duration": 45,
    "start_time": "2024-04-22T17:25:50.278Z"
   },
   {
    "duration": 250,
    "start_time": "2024-04-22T17:25:50.325Z"
   },
   {
    "duration": 195,
    "start_time": "2024-04-22T17:25:50.577Z"
   },
   {
    "duration": 11,
    "start_time": "2024-04-22T17:25:50.773Z"
   },
   {
    "duration": 276,
    "start_time": "2024-04-22T17:25:50.785Z"
   },
   {
    "duration": 392,
    "start_time": "2024-04-22T17:25:51.062Z"
   },
   {
    "duration": 137,
    "start_time": "2024-04-22T17:25:51.455Z"
   },
   {
    "duration": 12,
    "start_time": "2024-04-22T17:25:51.594Z"
   },
   {
    "duration": 92,
    "start_time": "2024-04-22T17:25:51.608Z"
   },
   {
    "duration": 2,
    "start_time": "2024-04-22T17:25:51.702Z"
   },
   {
    "duration": 8,
    "start_time": "2024-04-22T17:25:51.705Z"
   },
   {
    "duration": 629,
    "start_time": "2024-04-22T17:25:51.714Z"
   },
   {
    "duration": 191,
    "start_time": "2024-04-22T17:25:52.345Z"
   },
   {
    "duration": 3,
    "start_time": "2024-04-22T17:25:52.538Z"
   },
   {
    "duration": 275,
    "start_time": "2024-04-22T17:25:52.542Z"
   },
   {
    "duration": 92,
    "start_time": "2024-04-22T17:25:52.819Z"
   },
   {
    "duration": 3,
    "start_time": "2024-04-22T17:25:52.915Z"
   },
   {
    "duration": 6,
    "start_time": "2024-04-22T17:25:52.919Z"
   },
   {
    "duration": 15,
    "start_time": "2024-04-22T17:25:52.926Z"
   },
   {
    "duration": 20,
    "start_time": "2024-04-22T17:25:52.943Z"
   },
   {
    "duration": 27,
    "start_time": "2024-04-22T17:25:52.965Z"
   },
   {
    "duration": 11,
    "start_time": "2024-04-22T17:25:52.994Z"
   },
   {
    "duration": 4,
    "start_time": "2024-04-22T17:25:53.007Z"
   },
   {
    "duration": 5,
    "start_time": "2024-04-22T17:25:53.013Z"
   },
   {
    "duration": 3,
    "start_time": "2024-04-22T17:25:53.020Z"
   },
   {
    "duration": 20,
    "start_time": "2024-04-22T17:25:53.025Z"
   },
   {
    "duration": 4,
    "start_time": "2024-04-22T17:25:53.047Z"
   },
   {
    "duration": 18,
    "start_time": "2024-04-22T17:25:53.052Z"
   },
   {
    "duration": 9,
    "start_time": "2024-04-22T17:25:53.071Z"
   },
   {
    "duration": 1633,
    "start_time": "2024-04-22T17:28:56.453Z"
   },
   {
    "duration": 1220,
    "start_time": "2024-04-22T17:28:59.248Z"
   },
   {
    "duration": 23,
    "start_time": "2024-04-22T17:29:00.470Z"
   },
   {
    "duration": 156,
    "start_time": "2024-04-22T17:29:01.481Z"
   },
   {
    "duration": 94,
    "start_time": "2024-04-22T17:29:02.069Z"
   },
   {
    "duration": 470,
    "start_time": "2024-04-22T17:29:03.553Z"
   },
   {
    "duration": 90,
    "start_time": "2024-04-22T17:29:13.445Z"
   },
   {
    "duration": 477,
    "start_time": "2024-04-22T17:29:15.261Z"
   },
   {
    "duration": 541,
    "start_time": "2024-04-22T17:29:15.739Z"
   },
   {
    "duration": 170,
    "start_time": "2024-04-22T17:29:16.282Z"
   },
   {
    "duration": 35,
    "start_time": "2024-04-22T17:29:17.059Z"
   },
   {
    "duration": 3,
    "start_time": "2024-04-22T17:29:17.325Z"
   },
   {
    "duration": 4,
    "start_time": "2024-04-22T17:29:17.601Z"
   },
   {
    "duration": 11,
    "start_time": "2024-04-22T17:29:17.855Z"
   },
   {
    "duration": 98,
    "start_time": "2024-04-22T17:29:18.517Z"
   },
   {
    "duration": 100,
    "start_time": "2024-04-22T17:29:18.835Z"
   },
   {
    "duration": 8,
    "start_time": "2024-04-22T17:29:20.541Z"
   },
   {
    "duration": 30,
    "start_time": "2024-04-22T17:29:20.935Z"
   },
   {
    "duration": 441,
    "start_time": "2024-04-22T17:29:21.357Z"
   },
   {
    "duration": 282,
    "start_time": "2024-04-22T17:29:22.439Z"
   },
   {
    "duration": 15,
    "start_time": "2024-04-22T17:29:22.999Z"
   },
   {
    "duration": 7,
    "start_time": "2024-04-22T17:29:24.222Z"
   },
   {
    "duration": 21,
    "start_time": "2024-04-22T17:29:25.212Z"
   },
   {
    "duration": 853,
    "start_time": "2024-04-22T17:29:25.755Z"
   },
   {
    "duration": 134,
    "start_time": "2024-04-22T17:29:27.211Z"
   },
   {
    "duration": 10,
    "start_time": "2024-04-22T17:29:31.228Z"
   },
   {
    "duration": 45,
    "start_time": "2024-04-22T17:29:32.218Z"
   },
   {
    "duration": 207,
    "start_time": "2024-04-22T17:29:33.402Z"
   },
   {
    "duration": 213,
    "start_time": "2024-04-22T17:29:36.054Z"
   },
   {
    "duration": 11,
    "start_time": "2024-04-22T17:29:36.462Z"
   },
   {
    "duration": 266,
    "start_time": "2024-04-22T17:29:37.479Z"
   },
   {
    "duration": 384,
    "start_time": "2024-04-22T17:29:38.086Z"
   },
   {
    "duration": 123,
    "start_time": "2024-04-22T17:29:39.089Z"
   },
   {
    "duration": 12,
    "start_time": "2024-04-22T17:29:40.106Z"
   },
   {
    "duration": 87,
    "start_time": "2024-04-22T17:29:40.875Z"
   },
   {
    "duration": 14,
    "start_time": "2024-04-22T17:29:48.037Z"
   },
   {
    "duration": 4,
    "start_time": "2024-04-22T17:29:49.135Z"
   },
   {
    "duration": 75,
    "start_time": "2024-04-22T17:29:51.516Z"
   },
   {
    "duration": 30,
    "start_time": "2024-04-22T17:29:52.604Z"
   },
   {
    "duration": 66,
    "start_time": "2024-04-22T17:31:53.160Z"
   },
   {
    "duration": 5,
    "start_time": "2024-04-22T17:32:07.142Z"
   },
   {
    "duration": 3,
    "start_time": "2024-04-22T17:32:33.281Z"
   },
   {
    "duration": 3,
    "start_time": "2024-04-22T17:32:34.019Z"
   },
   {
    "duration": 4,
    "start_time": "2024-04-22T17:32:35.339Z"
   },
   {
    "duration": 3,
    "start_time": "2024-04-22T17:32:36.621Z"
   },
   {
    "duration": 184,
    "start_time": "2024-04-22T17:32:41.651Z"
   },
   {
    "duration": 46,
    "start_time": "2024-04-22T17:33:23.254Z"
   },
   {
    "duration": 1506,
    "start_time": "2024-04-22T17:33:35.935Z"
   },
   {
    "duration": 859,
    "start_time": "2024-04-22T17:33:38.832Z"
   },
   {
    "duration": 15,
    "start_time": "2024-04-22T17:33:39.693Z"
   },
   {
    "duration": 162,
    "start_time": "2024-04-22T17:33:40.617Z"
   },
   {
    "duration": 98,
    "start_time": "2024-04-22T17:33:41.123Z"
   },
   {
    "duration": 467,
    "start_time": "2024-04-22T17:33:42.310Z"
   },
   {
    "duration": 518,
    "start_time": "2024-04-22T17:33:42.779Z"
   },
   {
    "duration": 143,
    "start_time": "2024-04-22T17:33:43.441Z"
   },
   {
    "duration": 36,
    "start_time": "2024-04-22T17:33:44.629Z"
   },
   {
    "duration": 3,
    "start_time": "2024-04-22T17:33:44.987Z"
   },
   {
    "duration": 4,
    "start_time": "2024-04-22T17:33:45.342Z"
   },
   {
    "duration": 10,
    "start_time": "2024-04-22T17:33:45.715Z"
   },
   {
    "duration": 92,
    "start_time": "2024-04-22T17:33:46.541Z"
   },
   {
    "duration": 93,
    "start_time": "2024-04-22T17:33:46.967Z"
   },
   {
    "duration": 9,
    "start_time": "2024-04-22T17:33:48.908Z"
   },
   {
    "duration": 29,
    "start_time": "2024-04-22T17:33:49.417Z"
   },
   {
    "duration": 467,
    "start_time": "2024-04-22T17:33:49.981Z"
   },
   {
    "duration": 297,
    "start_time": "2024-04-22T17:33:51.013Z"
   },
   {
    "duration": 15,
    "start_time": "2024-04-22T17:33:51.573Z"
   },
   {
    "duration": 8,
    "start_time": "2024-04-22T17:33:53.891Z"
   },
   {
    "duration": 21,
    "start_time": "2024-04-22T17:33:55.549Z"
   },
   {
    "duration": 855,
    "start_time": "2024-04-22T17:33:56.379Z"
   },
   {
    "duration": 127,
    "start_time": "2024-04-22T17:33:57.919Z"
   },
   {
    "duration": 10,
    "start_time": "2024-04-22T17:33:59.455Z"
   },
   {
    "duration": 45,
    "start_time": "2024-04-22T17:34:02.829Z"
   },
   {
    "duration": 210,
    "start_time": "2024-04-22T17:34:05.303Z"
   },
   {
    "duration": 198,
    "start_time": "2024-04-22T17:34:07.068Z"
   },
   {
    "duration": 12,
    "start_time": "2024-04-22T17:34:07.685Z"
   },
   {
    "duration": 271,
    "start_time": "2024-04-22T17:34:08.894Z"
   },
   {
    "duration": 430,
    "start_time": "2024-04-22T17:34:09.502Z"
   },
   {
    "duration": 130,
    "start_time": "2024-04-22T17:34:11.116Z"
   },
   {
    "duration": 12,
    "start_time": "2024-04-22T17:34:11.960Z"
   },
   {
    "duration": 84,
    "start_time": "2024-04-22T17:34:12.613Z"
   },
   {
    "duration": 2,
    "start_time": "2024-04-22T17:34:17.364Z"
   },
   {
    "duration": 2,
    "start_time": "2024-04-22T17:34:17.946Z"
   },
   {
    "duration": 596,
    "start_time": "2024-04-22T17:34:18.524Z"
   },
   {
    "duration": 182,
    "start_time": "2024-04-22T17:34:20.020Z"
   },
   {
    "duration": 3,
    "start_time": "2024-04-22T17:34:21.106Z"
   },
   {
    "duration": 253,
    "start_time": "2024-04-22T17:34:22.336Z"
   },
   {
    "duration": 2,
    "start_time": "2024-04-22T17:34:23.098Z"
   },
   {
    "duration": 2,
    "start_time": "2024-04-22T17:34:23.590Z"
   },
   {
    "duration": 3,
    "start_time": "2024-04-22T17:34:24.304Z"
   },
   {
    "duration": 3,
    "start_time": "2024-04-22T17:34:34.678Z"
   },
   {
    "duration": 4,
    "start_time": "2024-04-22T17:34:35.167Z"
   },
   {
    "duration": 3,
    "start_time": "2024-04-22T17:34:35.800Z"
   },
   {
    "duration": 5,
    "start_time": "2024-04-22T17:34:36.393Z"
   },
   {
    "duration": 4,
    "start_time": "2024-04-22T17:34:37.404Z"
   },
   {
    "duration": 2,
    "start_time": "2024-04-22T17:34:40.553Z"
   },
   {
    "duration": 2,
    "start_time": "2024-04-22T17:34:41.119Z"
   },
   {
    "duration": 2,
    "start_time": "2024-04-22T17:34:41.681Z"
   },
   {
    "duration": 3,
    "start_time": "2024-04-22T17:34:42.772Z"
   },
   {
    "duration": 2,
    "start_time": "2024-04-22T17:34:43.245Z"
   },
   {
    "duration": 3,
    "start_time": "2024-04-22T17:34:43.776Z"
   },
   {
    "duration": 49,
    "start_time": "2024-04-22T17:46:36.468Z"
   },
   {
    "duration": 1667,
    "start_time": "2024-04-22T17:46:58.472Z"
   },
   {
    "duration": 1240,
    "start_time": "2024-04-22T17:47:01.402Z"
   },
   {
    "duration": 15,
    "start_time": "2024-04-22T17:47:03.468Z"
   },
   {
    "duration": 164,
    "start_time": "2024-04-22T17:47:04.265Z"
   },
   {
    "duration": 98,
    "start_time": "2024-04-22T17:47:05.111Z"
   },
   {
    "duration": 466,
    "start_time": "2024-04-22T17:47:06.354Z"
   },
   {
    "duration": 520,
    "start_time": "2024-04-22T17:47:06.822Z"
   },
   {
    "duration": 141,
    "start_time": "2024-04-22T17:47:07.344Z"
   },
   {
    "duration": 36,
    "start_time": "2024-04-22T17:47:08.381Z"
   },
   {
    "duration": 4,
    "start_time": "2024-04-22T17:47:08.874Z"
   },
   {
    "duration": 4,
    "start_time": "2024-04-22T17:47:09.478Z"
   },
   {
    "duration": 11,
    "start_time": "2024-04-22T17:47:10.150Z"
   },
   {
    "duration": 94,
    "start_time": "2024-04-22T17:47:11.899Z"
   },
   {
    "duration": 107,
    "start_time": "2024-04-22T17:47:12.934Z"
   },
   {
    "duration": 10,
    "start_time": "2024-04-22T17:47:14.426Z"
   },
   {
    "duration": 30,
    "start_time": "2024-04-22T17:47:14.744Z"
   },
   {
    "duration": 466,
    "start_time": "2024-04-22T17:47:15.099Z"
   },
   {
    "duration": 278,
    "start_time": "2024-04-22T17:47:15.902Z"
   },
   {
    "duration": 15,
    "start_time": "2024-04-22T17:47:16.247Z"
   },
   {
    "duration": 9,
    "start_time": "2024-04-22T17:47:17.448Z"
   },
   {
    "duration": 23,
    "start_time": "2024-04-22T17:47:18.408Z"
   },
   {
    "duration": 844,
    "start_time": "2024-04-22T17:47:18.985Z"
   },
   {
    "duration": 150,
    "start_time": "2024-04-22T17:47:19.863Z"
   },
   {
    "duration": 11,
    "start_time": "2024-04-22T17:47:20.461Z"
   },
   {
    "duration": 46,
    "start_time": "2024-04-22T17:47:21.243Z"
   },
   {
    "duration": 220,
    "start_time": "2024-04-22T17:47:22.009Z"
   },
   {
    "duration": 203,
    "start_time": "2024-04-22T17:47:22.953Z"
   },
   {
    "duration": 12,
    "start_time": "2024-04-22T17:47:23.977Z"
   },
   {
    "duration": 262,
    "start_time": "2024-04-22T17:47:25.391Z"
   },
   {
    "duration": 405,
    "start_time": "2024-04-22T17:47:26.039Z"
   },
   {
    "duration": 128,
    "start_time": "2024-04-22T17:47:28.385Z"
   },
   {
    "duration": 12,
    "start_time": "2024-04-22T17:47:29.351Z"
   },
   {
    "duration": 93,
    "start_time": "2024-04-22T17:47:30.077Z"
   },
   {
    "duration": 3,
    "start_time": "2024-04-22T17:47:32.716Z"
   },
   {
    "duration": 2,
    "start_time": "2024-04-22T17:47:33.429Z"
   },
   {
    "duration": 13,
    "start_time": "2024-04-22T17:47:34.087Z"
   },
   {
    "duration": 3,
    "start_time": "2024-04-22T17:47:34.855Z"
   },
   {
    "duration": 53,
    "start_time": "2024-04-22T17:47:36.475Z"
   },
   {
    "duration": 610,
    "start_time": "2024-04-22T17:47:37.407Z"
   },
   {
    "duration": 4,
    "start_time": "2024-04-22T17:47:45.993Z"
   },
   {
    "duration": 3,
    "start_time": "2024-04-22T17:47:55.688Z"
   },
   {
    "duration": 3,
    "start_time": "2024-04-22T17:47:56.054Z"
   },
   {
    "duration": 5,
    "start_time": "2024-04-22T17:47:56.596Z"
   },
   {
    "duration": 3,
    "start_time": "2024-04-22T17:47:57.260Z"
   },
   {
    "duration": 141,
    "start_time": "2024-04-22T17:48:02.991Z"
   },
   {
    "duration": 3,
    "start_time": "2024-04-22T17:49:32.652Z"
   },
   {
    "duration": 17,
    "start_time": "2024-04-22T17:49:37.128Z"
   },
   {
    "duration": 55,
    "start_time": "2024-04-22T17:50:07.497Z"
   },
   {
    "duration": 4,
    "start_time": "2024-04-22T17:50:16.151Z"
   },
   {
    "duration": 24,
    "start_time": "2024-04-22T17:51:18.689Z"
   },
   {
    "duration": 4,
    "start_time": "2024-04-22T17:51:31.468Z"
   },
   {
    "duration": 3,
    "start_time": "2024-04-22T17:51:40.785Z"
   },
   {
    "duration": 3,
    "start_time": "2024-04-22T17:51:41.552Z"
   },
   {
    "duration": 5,
    "start_time": "2024-04-22T17:51:42.655Z"
   },
   {
    "duration": 3,
    "start_time": "2024-04-22T17:51:43.152Z"
   },
   {
    "duration": 116,
    "start_time": "2024-04-22T17:53:14.894Z"
   },
   {
    "duration": 42,
    "start_time": "2024-04-22T17:55:47.338Z"
   },
   {
    "duration": 104,
    "start_time": "2024-04-22T17:55:52.196Z"
   },
   {
    "duration": 2,
    "start_time": "2024-04-22T17:57:04.418Z"
   },
   {
    "duration": 105,
    "start_time": "2024-04-22T17:57:24.468Z"
   },
   {
    "duration": 1574,
    "start_time": "2024-04-22T18:00:30.411Z"
   },
   {
    "duration": 976,
    "start_time": "2024-04-22T18:00:33.577Z"
   },
   {
    "duration": 17,
    "start_time": "2024-04-22T18:00:34.555Z"
   },
   {
    "duration": 166,
    "start_time": "2024-04-22T18:00:35.451Z"
   },
   {
    "duration": 94,
    "start_time": "2024-04-22T18:00:35.890Z"
   },
   {
    "duration": 478,
    "start_time": "2024-04-22T18:00:36.958Z"
   },
   {
    "duration": 526,
    "start_time": "2024-04-22T18:00:37.438Z"
   },
   {
    "duration": 146,
    "start_time": "2024-04-22T18:00:37.965Z"
   },
   {
    "duration": 34,
    "start_time": "2024-04-22T18:00:38.844Z"
   },
   {
    "duration": 4,
    "start_time": "2024-04-22T18:00:39.189Z"
   },
   {
    "duration": 4,
    "start_time": "2024-04-22T18:00:39.535Z"
   },
   {
    "duration": 11,
    "start_time": "2024-04-22T18:00:39.875Z"
   },
   {
    "duration": 104,
    "start_time": "2024-04-22T18:00:40.609Z"
   },
   {
    "duration": 99,
    "start_time": "2024-04-22T18:00:40.946Z"
   },
   {
    "duration": 10,
    "start_time": "2024-04-22T18:00:42.181Z"
   },
   {
    "duration": 33,
    "start_time": "2024-04-22T18:00:42.488Z"
   },
   {
    "duration": 423,
    "start_time": "2024-04-22T18:00:42.761Z"
   },
   {
    "duration": 265,
    "start_time": "2024-04-22T18:00:43.347Z"
   },
   {
    "duration": 15,
    "start_time": "2024-04-22T18:00:43.630Z"
   },
   {
    "duration": 7,
    "start_time": "2024-04-22T18:00:44.199Z"
   },
   {
    "duration": 23,
    "start_time": "2024-04-22T18:00:44.757Z"
   },
   {
    "duration": 875,
    "start_time": "2024-04-22T18:00:45.031Z"
   },
   {
    "duration": 140,
    "start_time": "2024-04-22T18:00:45.908Z"
   },
   {
    "duration": 14,
    "start_time": "2024-04-22T18:00:47.729Z"
   },
   {
    "duration": 48,
    "start_time": "2024-04-22T18:00:48.273Z"
   },
   {
    "duration": 214,
    "start_time": "2024-04-22T18:00:48.733Z"
   },
   {
    "duration": 187,
    "start_time": "2024-04-22T18:00:49.059Z"
   },
   {
    "duration": 11,
    "start_time": "2024-04-22T18:00:49.292Z"
   },
   {
    "duration": 293,
    "start_time": "2024-04-22T18:00:49.707Z"
   },
   {
    "duration": 476,
    "start_time": "2024-04-22T18:00:50.002Z"
   },
   {
    "duration": 127,
    "start_time": "2024-04-22T18:00:50.725Z"
   },
   {
    "duration": 22,
    "start_time": "2024-04-22T18:00:50.854Z"
   },
   {
    "duration": 98,
    "start_time": "2024-04-22T18:00:50.878Z"
   },
   {
    "duration": 3,
    "start_time": "2024-04-22T18:00:52.095Z"
   },
   {
    "duration": 2,
    "start_time": "2024-04-22T18:00:52.349Z"
   },
   {
    "duration": 14,
    "start_time": "2024-04-22T18:00:52.776Z"
   },
   {
    "duration": 3,
    "start_time": "2024-04-22T18:00:53.075Z"
   },
   {
    "duration": 68,
    "start_time": "2024-04-22T18:00:55.407Z"
   },
   {
    "duration": 29,
    "start_time": "2024-04-22T18:00:56.061Z"
   },
   {
    "duration": 2,
    "start_time": "2024-04-22T18:00:57.155Z"
   },
   {
    "duration": 2,
    "start_time": "2024-04-22T18:00:58.525Z"
   },
   {
    "duration": 3,
    "start_time": "2024-04-22T18:00:58.820Z"
   },
   {
    "duration": 4,
    "start_time": "2024-04-22T18:00:59.553Z"
   },
   {
    "duration": 2,
    "start_time": "2024-04-22T18:01:01.039Z"
   },
   {
    "duration": 4,
    "start_time": "2024-04-22T18:01:01.593Z"
   },
   {
    "duration": 3,
    "start_time": "2024-04-22T18:01:02.756Z"
   },
   {
    "duration": 5,
    "start_time": "2024-04-22T18:01:03.185Z"
   },
   {
    "duration": 4,
    "start_time": "2024-04-22T18:01:03.669Z"
   },
   {
    "duration": 213,
    "start_time": "2024-04-22T18:01:06.605Z"
   },
   {
    "duration": 81,
    "start_time": "2024-04-22T18:55:03.854Z"
   },
   {
    "duration": 637,
    "start_time": "2024-04-22T19:00:43.898Z"
   },
   {
    "duration": 590,
    "start_time": "2024-04-22T19:01:47.511Z"
   },
   {
    "duration": 672,
    "start_time": "2024-04-22T19:02:06.536Z"
   },
   {
    "duration": 616,
    "start_time": "2024-04-22T19:02:09.381Z"
   },
   {
    "duration": 696,
    "start_time": "2024-04-22T19:04:21.860Z"
   },
   {
    "duration": 18,
    "start_time": "2024-04-22T19:04:29.618Z"
   },
   {
    "duration": 43,
    "start_time": "2024-04-22T19:04:52.279Z"
   },
   {
    "duration": 17,
    "start_time": "2024-04-22T19:05:01.499Z"
   },
   {
    "duration": 569,
    "start_time": "2024-04-22T19:05:32.980Z"
   },
   {
    "duration": 8,
    "start_time": "2024-04-22T19:06:39.774Z"
   },
   {
    "duration": 51,
    "start_time": "2024-04-22T19:09:38.278Z"
   },
   {
    "duration": 1620,
    "start_time": "2024-04-22T19:10:05.559Z"
   },
   {
    "duration": 1221,
    "start_time": "2024-04-22T19:10:16.427Z"
   },
   {
    "duration": 14,
    "start_time": "2024-04-22T19:10:17.650Z"
   },
   {
    "duration": 152,
    "start_time": "2024-04-22T19:10:17.799Z"
   },
   {
    "duration": 98,
    "start_time": "2024-04-22T19:10:18.511Z"
   },
   {
    "duration": 484,
    "start_time": "2024-04-22T19:10:20.217Z"
   },
   {
    "duration": 521,
    "start_time": "2024-04-22T19:10:20.703Z"
   },
   {
    "duration": 143,
    "start_time": "2024-04-22T19:10:22.100Z"
   },
   {
    "duration": 34,
    "start_time": "2024-04-22T19:10:23.696Z"
   },
   {
    "duration": 3,
    "start_time": "2024-04-22T19:10:24.117Z"
   },
   {
    "duration": 3,
    "start_time": "2024-04-22T19:10:24.494Z"
   },
   {
    "duration": 14,
    "start_time": "2024-04-22T19:10:24.905Z"
   },
   {
    "duration": 102,
    "start_time": "2024-04-22T19:10:25.761Z"
   },
   {
    "duration": 109,
    "start_time": "2024-04-22T19:10:26.133Z"
   },
   {
    "duration": 8,
    "start_time": "2024-04-22T19:10:27.696Z"
   },
   {
    "duration": 31,
    "start_time": "2024-04-22T19:10:28.063Z"
   },
   {
    "duration": 450,
    "start_time": "2024-04-22T19:10:28.459Z"
   },
   {
    "duration": 265,
    "start_time": "2024-04-22T19:10:29.537Z"
   },
   {
    "duration": 16,
    "start_time": "2024-04-22T19:10:29.985Z"
   },
   {
    "duration": 9,
    "start_time": "2024-04-22T19:10:31.043Z"
   },
   {
    "duration": 22,
    "start_time": "2024-04-22T19:10:32.006Z"
   },
   {
    "duration": 827,
    "start_time": "2024-04-22T19:10:32.411Z"
   },
   {
    "duration": 136,
    "start_time": "2024-04-22T19:10:33.311Z"
   },
   {
    "duration": 10,
    "start_time": "2024-04-22T19:10:34.288Z"
   },
   {
    "duration": 46,
    "start_time": "2024-04-22T19:10:35.405Z"
   },
   {
    "duration": 209,
    "start_time": "2024-04-22T19:10:36.283Z"
   },
   {
    "duration": 226,
    "start_time": "2024-04-22T19:10:37.207Z"
   },
   {
    "duration": 12,
    "start_time": "2024-04-22T19:10:38.081Z"
   },
   {
    "duration": 257,
    "start_time": "2024-04-22T19:10:39.252Z"
   },
   {
    "duration": 430,
    "start_time": "2024-04-22T19:10:39.749Z"
   },
   {
    "duration": 134,
    "start_time": "2024-04-22T19:10:41.152Z"
   },
   {
    "duration": 12,
    "start_time": "2024-04-22T19:10:41.763Z"
   },
   {
    "duration": 85,
    "start_time": "2024-04-22T19:10:42.219Z"
   },
   {
    "duration": 3,
    "start_time": "2024-04-22T19:10:43.807Z"
   },
   {
    "duration": 2,
    "start_time": "2024-04-22T19:10:44.274Z"
   },
   {
    "duration": 14,
    "start_time": "2024-04-22T19:10:44.747Z"
   },
   {
    "duration": 3,
    "start_time": "2024-04-22T19:10:45.176Z"
   },
   {
    "duration": 63,
    "start_time": "2024-04-22T19:10:46.929Z"
   },
   {
    "duration": 51,
    "start_time": "2024-04-22T19:10:59.481Z"
   },
   {
    "duration": 7,
    "start_time": "2024-04-22T19:12:16.222Z"
   },
   {
    "duration": 1589,
    "start_time": "2024-04-22T19:12:39.887Z"
   },
   {
    "duration": 1193,
    "start_time": "2024-04-22T19:12:41.478Z"
   },
   {
    "duration": 17,
    "start_time": "2024-04-22T19:12:42.672Z"
   },
   {
    "duration": 153,
    "start_time": "2024-04-22T19:12:42.690Z"
   },
   {
    "duration": 147,
    "start_time": "2024-04-22T19:12:42.845Z"
   },
   {
    "duration": 481,
    "start_time": "2024-04-22T19:12:42.994Z"
   },
   {
    "duration": 522,
    "start_time": "2024-04-22T19:12:43.476Z"
   },
   {
    "duration": 140,
    "start_time": "2024-04-22T19:12:44.000Z"
   },
   {
    "duration": 52,
    "start_time": "2024-04-22T19:12:44.142Z"
   },
   {
    "duration": 9,
    "start_time": "2024-04-22T19:12:44.195Z"
   },
   {
    "duration": 11,
    "start_time": "2024-04-22T19:12:44.205Z"
   },
   {
    "duration": 13,
    "start_time": "2024-04-22T19:12:44.218Z"
   },
   {
    "duration": 111,
    "start_time": "2024-04-22T19:12:44.233Z"
   },
   {
    "duration": 95,
    "start_time": "2024-04-22T19:12:44.347Z"
   },
   {
    "duration": 15,
    "start_time": "2024-04-22T19:12:44.443Z"
   },
   {
    "duration": 42,
    "start_time": "2024-04-22T19:12:44.460Z"
   },
   {
    "duration": 442,
    "start_time": "2024-04-22T19:12:44.504Z"
   },
   {
    "duration": 287,
    "start_time": "2024-04-22T19:12:44.948Z"
   },
   {
    "duration": 16,
    "start_time": "2024-04-22T19:12:45.237Z"
   },
   {
    "duration": 59,
    "start_time": "2024-04-22T19:12:45.254Z"
   },
   {
    "duration": 92,
    "start_time": "2024-04-22T19:12:45.315Z"
   },
   {
    "duration": 927,
    "start_time": "2024-04-22T19:12:45.408Z"
   },
   {
    "duration": 137,
    "start_time": "2024-04-22T19:12:46.337Z"
   },
   {
    "duration": 9,
    "start_time": "2024-04-22T19:12:46.476Z"
   },
   {
    "duration": 48,
    "start_time": "2024-04-22T19:12:46.487Z"
   },
   {
    "duration": 229,
    "start_time": "2024-04-22T19:12:46.536Z"
   },
   {
    "duration": 203,
    "start_time": "2024-04-22T19:12:46.770Z"
   },
   {
    "duration": 12,
    "start_time": "2024-04-22T19:12:46.975Z"
   },
   {
    "duration": 299,
    "start_time": "2024-04-22T19:12:46.988Z"
   },
   {
    "duration": 452,
    "start_time": "2024-04-22T19:12:47.289Z"
   },
   {
    "duration": 140,
    "start_time": "2024-04-22T19:12:47.743Z"
   },
   {
    "duration": 12,
    "start_time": "2024-04-22T19:12:47.885Z"
   },
   {
    "duration": 96,
    "start_time": "2024-04-22T19:12:47.899Z"
   },
   {
    "duration": 3,
    "start_time": "2024-04-22T19:12:47.997Z"
   },
   {
    "duration": 12,
    "start_time": "2024-04-22T19:12:48.002Z"
   },
   {
    "duration": 33,
    "start_time": "2024-04-22T19:12:48.016Z"
   },
   {
    "duration": 12,
    "start_time": "2024-04-22T19:12:48.050Z"
   },
   {
    "duration": 98,
    "start_time": "2024-04-22T19:12:48.063Z"
   },
   {
    "duration": 1653,
    "start_time": "2024-04-22T19:13:09.150Z"
   },
   {
    "duration": 1180,
    "start_time": "2024-04-22T19:13:12.230Z"
   },
   {
    "duration": 14,
    "start_time": "2024-04-22T19:13:13.412Z"
   },
   {
    "duration": 157,
    "start_time": "2024-04-22T19:13:13.428Z"
   },
   {
    "duration": 96,
    "start_time": "2024-04-22T19:13:14.043Z"
   },
   {
    "duration": 469,
    "start_time": "2024-04-22T19:13:17.517Z"
   },
   {
    "duration": 477,
    "start_time": "2024-04-22T19:13:17.988Z"
   },
   {
    "duration": 140,
    "start_time": "2024-04-22T19:13:18.553Z"
   },
   {
    "duration": 33,
    "start_time": "2024-04-22T19:13:19.395Z"
   },
   {
    "duration": 3,
    "start_time": "2024-04-22T19:13:19.888Z"
   },
   {
    "duration": 4,
    "start_time": "2024-04-22T19:13:20.142Z"
   },
   {
    "duration": 11,
    "start_time": "2024-04-22T19:13:20.425Z"
   },
   {
    "duration": 100,
    "start_time": "2024-04-22T19:13:21.020Z"
   },
   {
    "duration": 96,
    "start_time": "2024-04-22T19:13:21.325Z"
   },
   {
    "duration": 9,
    "start_time": "2024-04-22T19:13:22.505Z"
   },
   {
    "duration": 29,
    "start_time": "2024-04-22T19:13:22.771Z"
   },
   {
    "duration": 429,
    "start_time": "2024-04-22T19:13:23.073Z"
   },
   {
    "duration": 273,
    "start_time": "2024-04-22T19:13:23.684Z"
   },
   {
    "duration": 14,
    "start_time": "2024-04-22T19:13:24.051Z"
   },
   {
    "duration": 9,
    "start_time": "2024-04-22T19:13:24.883Z"
   },
   {
    "duration": 22,
    "start_time": "2024-04-22T19:13:26.081Z"
   },
   {
    "duration": 861,
    "start_time": "2024-04-22T19:13:26.481Z"
   },
   {
    "duration": 131,
    "start_time": "2024-04-22T19:13:27.344Z"
   },
   {
    "duration": 10,
    "start_time": "2024-04-22T19:13:28.012Z"
   },
   {
    "duration": 48,
    "start_time": "2024-04-22T19:13:28.819Z"
   },
   {
    "duration": 210,
    "start_time": "2024-04-22T19:13:29.666Z"
   },
   {
    "duration": 201,
    "start_time": "2024-04-22T19:13:30.486Z"
   },
   {
    "duration": 12,
    "start_time": "2024-04-22T19:13:30.888Z"
   },
   {
    "duration": 272,
    "start_time": "2024-04-22T19:13:31.836Z"
   },
   {
    "duration": 397,
    "start_time": "2024-04-22T19:13:32.229Z"
   },
   {
    "duration": 129,
    "start_time": "2024-04-22T19:13:33.192Z"
   },
   {
    "duration": 12,
    "start_time": "2024-04-22T19:13:33.578Z"
   },
   {
    "duration": 86,
    "start_time": "2024-04-22T19:13:34.065Z"
   },
   {
    "duration": 3,
    "start_time": "2024-04-22T19:13:36.068Z"
   },
   {
    "duration": 3,
    "start_time": "2024-04-22T19:13:36.569Z"
   },
   {
    "duration": 14,
    "start_time": "2024-04-22T19:13:36.965Z"
   },
   {
    "duration": 4,
    "start_time": "2024-04-22T19:13:37.451Z"
   },
   {
    "duration": 66,
    "start_time": "2024-04-22T19:13:38.414Z"
   },
   {
    "duration": 49,
    "start_time": "2024-04-22T19:14:49.276Z"
   },
   {
    "duration": 1491,
    "start_time": "2024-04-22T19:14:56.205Z"
   },
   {
    "duration": 1186,
    "start_time": "2024-04-22T19:14:57.698Z"
   },
   {
    "duration": 15,
    "start_time": "2024-04-22T19:14:58.885Z"
   },
   {
    "duration": 163,
    "start_time": "2024-04-22T19:14:58.902Z"
   },
   {
    "duration": 94,
    "start_time": "2024-04-22T19:14:59.069Z"
   },
   {
    "duration": 488,
    "start_time": "2024-04-22T19:14:59.170Z"
   },
   {
    "duration": 542,
    "start_time": "2024-04-22T19:14:59.659Z"
   },
   {
    "duration": 144,
    "start_time": "2024-04-22T19:15:00.202Z"
   },
   {
    "duration": 61,
    "start_time": "2024-04-22T19:15:00.348Z"
   },
   {
    "duration": 61,
    "start_time": "2024-04-22T19:15:00.411Z"
   },
   {
    "duration": 92,
    "start_time": "2024-04-22T19:15:00.474Z"
   },
   {
    "duration": 87,
    "start_time": "2024-04-22T19:15:00.568Z"
   },
   {
    "duration": 145,
    "start_time": "2024-04-22T19:15:00.656Z"
   },
   {
    "duration": 105,
    "start_time": "2024-04-22T19:15:00.804Z"
   },
   {
    "duration": 58,
    "start_time": "2024-04-22T19:15:00.911Z"
   },
   {
    "duration": 77,
    "start_time": "2024-04-22T19:15:00.970Z"
   },
   {
    "duration": 505,
    "start_time": "2024-04-22T19:15:01.049Z"
   },
   {
    "duration": 290,
    "start_time": "2024-04-22T19:15:01.555Z"
   },
   {
    "duration": 25,
    "start_time": "2024-04-22T19:15:01.846Z"
   },
   {
    "duration": 119,
    "start_time": "2024-04-22T19:15:01.872Z"
   },
   {
    "duration": 57,
    "start_time": "2024-04-22T19:15:01.992Z"
   },
   {
    "duration": 900,
    "start_time": "2024-04-22T19:15:02.050Z"
   },
   {
    "duration": 132,
    "start_time": "2024-04-22T19:15:02.951Z"
   },
   {
    "duration": 11,
    "start_time": "2024-04-22T19:15:03.085Z"
   },
   {
    "duration": 46,
    "start_time": "2024-04-22T19:15:03.097Z"
   },
   {
    "duration": 238,
    "start_time": "2024-04-22T19:15:03.145Z"
   },
   {
    "duration": 216,
    "start_time": "2024-04-22T19:15:03.384Z"
   },
   {
    "duration": 12,
    "start_time": "2024-04-22T19:15:03.602Z"
   },
   {
    "duration": 278,
    "start_time": "2024-04-22T19:15:03.616Z"
   },
   {
    "duration": 415,
    "start_time": "2024-04-22T19:15:03.895Z"
   },
   {
    "duration": 123,
    "start_time": "2024-04-22T19:15:04.312Z"
   },
   {
    "duration": 11,
    "start_time": "2024-04-22T19:15:04.437Z"
   },
   {
    "duration": 97,
    "start_time": "2024-04-22T19:15:04.450Z"
   },
   {
    "duration": 7,
    "start_time": "2024-04-22T19:15:04.548Z"
   },
   {
    "duration": 15,
    "start_time": "2024-04-22T19:15:04.557Z"
   },
   {
    "duration": 22,
    "start_time": "2024-04-22T19:15:04.573Z"
   },
   {
    "duration": 3,
    "start_time": "2024-04-22T19:15:04.597Z"
   },
   {
    "duration": 75,
    "start_time": "2024-04-22T19:15:04.602Z"
   },
   {
    "duration": 1746,
    "start_time": "2024-04-23T05:32:12.227Z"
   },
   {
    "duration": 1261,
    "start_time": "2024-04-23T05:32:13.976Z"
   },
   {
    "duration": 16,
    "start_time": "2024-04-23T05:32:15.238Z"
   },
   {
    "duration": 263,
    "start_time": "2024-04-23T05:32:15.256Z"
   },
   {
    "duration": 118,
    "start_time": "2024-04-23T05:32:15.521Z"
   },
   {
    "duration": 499,
    "start_time": "2024-04-23T05:32:15.641Z"
   },
   {
    "duration": 528,
    "start_time": "2024-04-23T05:32:16.142Z"
   },
   {
    "duration": 139,
    "start_time": "2024-04-23T05:32:16.672Z"
   },
   {
    "duration": 46,
    "start_time": "2024-04-23T05:32:16.813Z"
   },
   {
    "duration": 22,
    "start_time": "2024-04-23T05:32:16.862Z"
   },
   {
    "duration": 5,
    "start_time": "2024-04-23T05:32:16.886Z"
   },
   {
    "duration": 17,
    "start_time": "2024-04-23T05:32:16.892Z"
   },
   {
    "duration": 107,
    "start_time": "2024-04-23T05:32:16.911Z"
   },
   {
    "duration": 98,
    "start_time": "2024-04-23T05:32:17.020Z"
   },
   {
    "duration": 11,
    "start_time": "2024-04-23T05:32:17.119Z"
   },
   {
    "duration": 39,
    "start_time": "2024-04-23T05:32:17.132Z"
   },
   {
    "duration": 501,
    "start_time": "2024-04-23T05:32:17.173Z"
   },
   {
    "duration": 212,
    "start_time": "2024-04-23T05:32:17.676Z"
   },
   {
    "duration": 15,
    "start_time": "2024-04-23T05:32:17.889Z"
   },
   {
    "duration": 8,
    "start_time": "2024-04-23T05:32:17.906Z"
   },
   {
    "duration": 44,
    "start_time": "2024-04-23T05:32:17.915Z"
   },
   {
    "duration": 847,
    "start_time": "2024-04-23T05:32:17.961Z"
   },
   {
    "duration": 128,
    "start_time": "2024-04-23T05:32:18.810Z"
   },
   {
    "duration": 19,
    "start_time": "2024-04-23T05:32:18.940Z"
   },
   {
    "duration": 43,
    "start_time": "2024-04-23T05:32:18.961Z"
   },
   {
    "duration": 218,
    "start_time": "2024-04-23T05:32:19.006Z"
   },
   {
    "duration": 190,
    "start_time": "2024-04-23T05:32:19.225Z"
   },
   {
    "duration": 13,
    "start_time": "2024-04-23T05:32:19.418Z"
   },
   {
    "duration": 288,
    "start_time": "2024-04-23T05:32:19.433Z"
   },
   {
    "duration": 393,
    "start_time": "2024-04-23T05:32:19.722Z"
   },
   {
    "duration": 125,
    "start_time": "2024-04-23T05:32:20.117Z"
   },
   {
    "duration": 24,
    "start_time": "2024-04-23T05:32:20.243Z"
   },
   {
    "duration": 91,
    "start_time": "2024-04-23T05:32:20.269Z"
   },
   {
    "duration": 3,
    "start_time": "2024-04-23T05:32:20.361Z"
   },
   {
    "duration": 18,
    "start_time": "2024-04-23T05:32:20.365Z"
   },
   {
    "duration": 14,
    "start_time": "2024-04-23T05:32:20.385Z"
   },
   {
    "duration": 2,
    "start_time": "2024-04-23T05:32:20.401Z"
   },
   {
    "duration": 68,
    "start_time": "2024-04-23T05:32:20.405Z"
   },
   {
    "duration": 1729,
    "start_time": "2024-04-23T05:33:20.675Z"
   },
   {
    "duration": 1142,
    "start_time": "2024-04-23T05:33:22.406Z"
   },
   {
    "duration": 15,
    "start_time": "2024-04-23T05:33:23.550Z"
   },
   {
    "duration": 159,
    "start_time": "2024-04-23T05:33:23.567Z"
   },
   {
    "duration": 135,
    "start_time": "2024-04-23T05:33:24.799Z"
   },
   {
    "duration": 476,
    "start_time": "2024-04-23T05:33:25.832Z"
   },
   {
    "duration": 523,
    "start_time": "2024-04-23T05:33:26.310Z"
   },
   {
    "duration": 155,
    "start_time": "2024-04-23T05:33:27.480Z"
   },
   {
    "duration": 36,
    "start_time": "2024-04-23T05:33:29.304Z"
   },
   {
    "duration": 3,
    "start_time": "2024-04-23T05:33:29.843Z"
   },
   {
    "duration": 4,
    "start_time": "2024-04-23T05:33:30.318Z"
   },
   {
    "duration": 11,
    "start_time": "2024-04-23T05:33:30.744Z"
   },
   {
    "duration": 102,
    "start_time": "2024-04-23T05:33:31.629Z"
   },
   {
    "duration": 91,
    "start_time": "2024-04-23T05:33:32.147Z"
   },
   {
    "duration": 9,
    "start_time": "2024-04-23T05:33:33.847Z"
   },
   {
    "duration": 32,
    "start_time": "2024-04-23T05:33:34.128Z"
   },
   {
    "duration": 443,
    "start_time": "2024-04-23T05:33:34.451Z"
   },
   {
    "duration": 291,
    "start_time": "2024-04-23T05:33:35.709Z"
   },
   {
    "duration": 14,
    "start_time": "2024-04-23T05:33:36.303Z"
   },
   {
    "duration": 8,
    "start_time": "2024-04-23T05:33:37.329Z"
   },
   {
    "duration": 22,
    "start_time": "2024-04-23T05:33:38.158Z"
   },
   {
    "duration": 800,
    "start_time": "2024-04-23T05:33:38.481Z"
   },
   {
    "duration": 130,
    "start_time": "2024-04-23T05:33:39.363Z"
   },
   {
    "duration": 10,
    "start_time": "2024-04-23T05:33:40.232Z"
   },
   {
    "duration": 46,
    "start_time": "2024-04-23T05:33:40.872Z"
   },
   {
    "duration": 200,
    "start_time": "2024-04-23T05:33:41.595Z"
   },
   {
    "duration": 183,
    "start_time": "2024-04-23T05:33:42.415Z"
   },
   {
    "duration": 11,
    "start_time": "2024-04-23T05:33:42.913Z"
   },
   {
    "duration": 257,
    "start_time": "2024-04-23T05:33:44.453Z"
   },
   {
    "duration": 400,
    "start_time": "2024-04-23T05:33:45.303Z"
   },
   {
    "duration": 135,
    "start_time": "2024-04-23T05:33:47.477Z"
   },
   {
    "duration": 13,
    "start_time": "2024-04-23T05:33:47.829Z"
   },
   {
    "duration": 83,
    "start_time": "2024-04-23T05:33:48.447Z"
   },
   {
    "duration": 3,
    "start_time": "2024-04-23T05:33:49.887Z"
   },
   {
    "duration": 2,
    "start_time": "2024-04-23T05:33:50.251Z"
   },
   {
    "duration": 14,
    "start_time": "2024-04-23T05:33:50.623Z"
   },
   {
    "duration": 3,
    "start_time": "2024-04-23T05:33:50.933Z"
   },
   {
    "duration": 75,
    "start_time": "2024-04-23T05:33:52.213Z"
   },
   {
    "duration": 48,
    "start_time": "2024-04-23T05:34:03.484Z"
   },
   {
    "duration": 1691,
    "start_time": "2024-04-23T05:34:11.326Z"
   },
   {
    "duration": 1205,
    "start_time": "2024-04-23T05:34:13.018Z"
   },
   {
    "duration": 16,
    "start_time": "2024-04-23T05:34:14.226Z"
   },
   {
    "duration": 162,
    "start_time": "2024-04-23T05:34:14.244Z"
   },
   {
    "duration": 107,
    "start_time": "2024-04-23T05:34:14.407Z"
   },
   {
    "duration": 489,
    "start_time": "2024-04-23T05:34:14.515Z"
   },
   {
    "duration": 552,
    "start_time": "2024-04-23T05:34:15.005Z"
   },
   {
    "duration": 149,
    "start_time": "2024-04-23T05:34:15.558Z"
   },
   {
    "duration": 46,
    "start_time": "2024-04-23T05:34:15.708Z"
   },
   {
    "duration": 25,
    "start_time": "2024-04-23T05:34:15.756Z"
   },
   {
    "duration": 34,
    "start_time": "2024-04-23T05:34:15.783Z"
   },
   {
    "duration": 49,
    "start_time": "2024-04-23T05:34:15.819Z"
   },
   {
    "duration": 165,
    "start_time": "2024-04-23T05:34:15.871Z"
   },
   {
    "duration": 89,
    "start_time": "2024-04-23T05:34:16.038Z"
   },
   {
    "duration": 11,
    "start_time": "2024-04-23T05:34:16.129Z"
   },
   {
    "duration": 37,
    "start_time": "2024-04-23T05:34:16.141Z"
   },
   {
    "duration": 459,
    "start_time": "2024-04-23T05:34:16.179Z"
   },
   {
    "duration": 290,
    "start_time": "2024-04-23T05:34:16.640Z"
   },
   {
    "duration": 15,
    "start_time": "2024-04-23T05:34:16.932Z"
   },
   {
    "duration": 27,
    "start_time": "2024-04-23T05:34:16.948Z"
   },
   {
    "duration": 35,
    "start_time": "2024-04-23T05:34:16.976Z"
   },
   {
    "duration": 816,
    "start_time": "2024-04-23T05:34:17.013Z"
   },
   {
    "duration": 143,
    "start_time": "2024-04-23T05:34:17.830Z"
   },
   {
    "duration": 10,
    "start_time": "2024-04-23T05:34:17.974Z"
   },
   {
    "duration": 87,
    "start_time": "2024-04-23T05:34:17.986Z"
   },
   {
    "duration": 204,
    "start_time": "2024-04-23T05:34:18.075Z"
   },
   {
    "duration": 200,
    "start_time": "2024-04-23T05:34:18.280Z"
   },
   {
    "duration": 11,
    "start_time": "2024-04-23T05:34:18.481Z"
   },
   {
    "duration": 271,
    "start_time": "2024-04-23T05:34:18.493Z"
   },
   {
    "duration": 393,
    "start_time": "2024-04-23T05:34:18.766Z"
   },
   {
    "duration": 146,
    "start_time": "2024-04-23T05:34:19.161Z"
   },
   {
    "duration": 13,
    "start_time": "2024-04-23T05:34:19.309Z"
   },
   {
    "duration": 105,
    "start_time": "2024-04-23T05:34:19.324Z"
   },
   {
    "duration": 13,
    "start_time": "2024-04-23T05:34:19.430Z"
   },
   {
    "duration": 13,
    "start_time": "2024-04-23T05:34:19.445Z"
   },
   {
    "duration": 37,
    "start_time": "2024-04-23T05:34:19.460Z"
   },
   {
    "duration": 3,
    "start_time": "2024-04-23T05:34:19.499Z"
   },
   {
    "duration": 87,
    "start_time": "2024-04-23T05:34:19.504Z"
   },
   {
    "duration": 48,
    "start_time": "2024-04-23T05:34:46.104Z"
   },
   {
    "duration": 1649,
    "start_time": "2024-04-23T05:34:52.827Z"
   },
   {
    "duration": 1184,
    "start_time": "2024-04-23T05:34:54.478Z"
   },
   {
    "duration": 18,
    "start_time": "2024-04-23T05:34:55.663Z"
   },
   {
    "duration": 172,
    "start_time": "2024-04-23T05:34:55.682Z"
   },
   {
    "duration": 103,
    "start_time": "2024-04-23T05:34:55.859Z"
   },
   {
    "duration": 502,
    "start_time": "2024-04-23T05:34:55.964Z"
   },
   {
    "duration": 508,
    "start_time": "2024-04-23T05:34:56.467Z"
   },
   {
    "duration": 147,
    "start_time": "2024-04-23T05:34:56.977Z"
   },
   {
    "duration": 40,
    "start_time": "2024-04-23T05:34:57.126Z"
   },
   {
    "duration": 21,
    "start_time": "2024-04-23T05:34:57.168Z"
   },
   {
    "duration": 5,
    "start_time": "2024-04-23T05:34:57.191Z"
   },
   {
    "duration": 16,
    "start_time": "2024-04-23T05:34:57.197Z"
   },
   {
    "duration": 100,
    "start_time": "2024-04-23T05:34:57.215Z"
   },
   {
    "duration": 90,
    "start_time": "2024-04-23T05:34:57.318Z"
   },
   {
    "duration": 9,
    "start_time": "2024-04-23T05:34:57.409Z"
   },
   {
    "duration": 42,
    "start_time": "2024-04-23T05:34:57.419Z"
   },
   {
    "duration": 460,
    "start_time": "2024-04-23T05:34:57.462Z"
   },
   {
    "duration": 290,
    "start_time": "2024-04-23T05:34:57.924Z"
   },
   {
    "duration": 16,
    "start_time": "2024-04-23T05:34:58.216Z"
   },
   {
    "duration": 9,
    "start_time": "2024-04-23T05:34:58.233Z"
   },
   {
    "duration": 23,
    "start_time": "2024-04-23T05:34:58.259Z"
   },
   {
    "duration": 852,
    "start_time": "2024-04-23T05:34:58.284Z"
   },
   {
    "duration": 147,
    "start_time": "2024-04-23T05:34:59.138Z"
   },
   {
    "duration": 12,
    "start_time": "2024-04-23T05:34:59.287Z"
   },
   {
    "duration": 65,
    "start_time": "2024-04-23T05:34:59.301Z"
   },
   {
    "duration": 224,
    "start_time": "2024-04-23T05:34:59.368Z"
   },
   {
    "duration": 205,
    "start_time": "2024-04-23T05:34:59.594Z"
   },
   {
    "duration": 12,
    "start_time": "2024-04-23T05:34:59.801Z"
   },
   {
    "duration": 267,
    "start_time": "2024-04-23T05:34:59.815Z"
   },
   {
    "duration": 414,
    "start_time": "2024-04-23T05:35:00.084Z"
   },
   {
    "duration": 131,
    "start_time": "2024-04-23T05:35:00.500Z"
   },
   {
    "duration": 26,
    "start_time": "2024-04-23T05:35:00.633Z"
   },
   {
    "duration": 115,
    "start_time": "2024-04-23T05:35:00.661Z"
   },
   {
    "duration": 171,
    "start_time": "2024-04-23T05:35:00.778Z"
   },
   {
    "duration": 86,
    "start_time": "2024-04-23T05:35:00.950Z"
   },
   {
    "duration": 70,
    "start_time": "2024-04-23T05:35:01.037Z"
   },
   {
    "duration": 130,
    "start_time": "2024-04-23T05:35:01.109Z"
   },
   {
    "duration": 235,
    "start_time": "2024-04-23T05:35:01.240Z"
   },
   {
    "duration": 1658,
    "start_time": "2024-04-23T05:58:28.226Z"
   },
   {
    "duration": 1241,
    "start_time": "2024-04-23T05:58:29.887Z"
   },
   {
    "duration": 21,
    "start_time": "2024-04-23T05:58:31.131Z"
   },
   {
    "duration": 168,
    "start_time": "2024-04-23T05:58:31.154Z"
   },
   {
    "duration": 141,
    "start_time": "2024-04-23T05:58:31.324Z"
   },
   {
    "duration": 485,
    "start_time": "2024-04-23T05:58:31.467Z"
   },
   {
    "duration": 525,
    "start_time": "2024-04-23T05:58:31.958Z"
   },
   {
    "duration": 148,
    "start_time": "2024-04-23T05:58:32.484Z"
   },
   {
    "duration": 207,
    "start_time": "2024-04-23T05:58:32.634Z"
   },
   {
    "duration": 71,
    "start_time": "2024-04-23T05:58:32.843Z"
   },
   {
    "duration": 27,
    "start_time": "2024-04-23T05:58:32.915Z"
   },
   {
    "duration": 28,
    "start_time": "2024-04-23T05:58:32.943Z"
   },
   {
    "duration": 163,
    "start_time": "2024-04-23T05:58:32.973Z"
   },
   {
    "duration": 97,
    "start_time": "2024-04-23T05:58:33.140Z"
   },
   {
    "duration": 12,
    "start_time": "2024-04-23T05:58:33.239Z"
   },
   {
    "duration": 65,
    "start_time": "2024-04-23T05:58:33.252Z"
   },
   {
    "duration": 447,
    "start_time": "2024-04-23T05:58:33.319Z"
   },
   {
    "duration": 286,
    "start_time": "2024-04-23T05:58:33.768Z"
   },
   {
    "duration": 15,
    "start_time": "2024-04-23T05:58:34.056Z"
   },
   {
    "duration": 20,
    "start_time": "2024-04-23T05:58:34.073Z"
   },
   {
    "duration": 30,
    "start_time": "2024-04-23T05:58:34.095Z"
   },
   {
    "duration": 922,
    "start_time": "2024-04-23T05:58:34.127Z"
   },
   {
    "duration": 131,
    "start_time": "2024-04-23T05:58:35.050Z"
   },
   {
    "duration": 10,
    "start_time": "2024-04-23T05:58:35.182Z"
   },
   {
    "duration": 75,
    "start_time": "2024-04-23T05:58:35.193Z"
   },
   {
    "duration": 309,
    "start_time": "2024-04-23T05:58:35.270Z"
   },
   {
    "duration": 194,
    "start_time": "2024-04-23T05:58:35.580Z"
   },
   {
    "duration": 15,
    "start_time": "2024-04-23T05:58:35.776Z"
   },
   {
    "duration": 283,
    "start_time": "2024-04-23T05:58:35.793Z"
   },
   {
    "duration": 389,
    "start_time": "2024-04-23T05:58:36.077Z"
   },
   {
    "duration": 135,
    "start_time": "2024-04-23T05:58:36.468Z"
   },
   {
    "duration": 11,
    "start_time": "2024-04-23T05:58:36.605Z"
   },
   {
    "duration": 100,
    "start_time": "2024-04-23T05:58:36.618Z"
   },
   {
    "duration": 3,
    "start_time": "2024-04-23T05:58:36.720Z"
   },
   {
    "duration": 13,
    "start_time": "2024-04-23T05:58:36.725Z"
   },
   {
    "duration": 21,
    "start_time": "2024-04-23T05:58:36.740Z"
   },
   {
    "duration": 4,
    "start_time": "2024-04-23T05:58:36.763Z"
   },
   {
    "duration": 73,
    "start_time": "2024-04-23T05:58:36.769Z"
   },
   {
    "duration": 132,
    "start_time": "2024-04-23T05:58:36.844Z"
   },
   {
    "duration": 0,
    "start_time": "2024-04-23T05:58:36.978Z"
   },
   {
    "duration": 0,
    "start_time": "2024-04-23T05:58:36.979Z"
   },
   {
    "duration": 0,
    "start_time": "2024-04-23T05:58:36.980Z"
   },
   {
    "duration": 0,
    "start_time": "2024-04-23T05:58:36.981Z"
   },
   {
    "duration": 0,
    "start_time": "2024-04-23T05:58:36.982Z"
   },
   {
    "duration": 0,
    "start_time": "2024-04-23T05:58:36.983Z"
   },
   {
    "duration": 0,
    "start_time": "2024-04-23T05:58:36.984Z"
   },
   {
    "duration": 0,
    "start_time": "2024-04-23T05:58:36.985Z"
   },
   {
    "duration": 0,
    "start_time": "2024-04-23T05:58:36.986Z"
   },
   {
    "duration": 1,
    "start_time": "2024-04-23T05:58:36.986Z"
   },
   {
    "duration": 0,
    "start_time": "2024-04-23T05:58:36.988Z"
   },
   {
    "duration": 0,
    "start_time": "2024-04-23T05:58:36.989Z"
   },
   {
    "duration": 0,
    "start_time": "2024-04-23T05:58:36.990Z"
   },
   {
    "duration": 0,
    "start_time": "2024-04-23T05:58:36.991Z"
   },
   {
    "duration": 0,
    "start_time": "2024-04-23T05:58:36.992Z"
   },
   {
    "duration": 0,
    "start_time": "2024-04-23T05:58:36.993Z"
   },
   {
    "duration": 0,
    "start_time": "2024-04-23T05:58:36.994Z"
   },
   {
    "duration": 3,
    "start_time": "2024-04-23T05:58:54.539Z"
   },
   {
    "duration": 2,
    "start_time": "2024-04-23T06:00:41.515Z"
   },
   {
    "duration": 3,
    "start_time": "2024-04-23T06:00:41.985Z"
   },
   {
    "duration": 3,
    "start_time": "2024-04-23T06:00:42.480Z"
   },
   {
    "duration": 5,
    "start_time": "2024-04-23T06:00:43.815Z"
   },
   {
    "duration": 4,
    "start_time": "2024-04-23T06:00:45.633Z"
   },
   {
    "duration": 141,
    "start_time": "2024-04-23T06:00:48.508Z"
   },
   {
    "duration": 3,
    "start_time": "2024-04-23T06:01:12.549Z"
   },
   {
    "duration": 91,
    "start_time": "2024-04-23T06:01:17.867Z"
   },
   {
    "duration": 15,
    "start_time": "2024-04-23T06:19:58.918Z"
   },
   {
    "duration": 99,
    "start_time": "2024-04-23T06:21:03.653Z"
   },
   {
    "duration": 2,
    "start_time": "2024-04-23T06:21:08.124Z"
   },
   {
    "duration": 10,
    "start_time": "2024-04-23T06:22:07.447Z"
   },
   {
    "duration": 3,
    "start_time": "2024-04-23T06:22:23.295Z"
   },
   {
    "duration": 15,
    "start_time": "2024-04-23T06:22:25.628Z"
   },
   {
    "duration": 3,
    "start_time": "2024-04-23T06:22:37.603Z"
   },
   {
    "duration": 512,
    "start_time": "2024-04-23T06:22:49.229Z"
   },
   {
    "duration": 10,
    "start_time": "2024-04-23T06:23:19.856Z"
   },
   {
    "duration": 10,
    "start_time": "2024-04-23T06:23:24.988Z"
   },
   {
    "duration": 3,
    "start_time": "2024-04-23T06:24:06.161Z"
   },
   {
    "duration": 9,
    "start_time": "2024-04-23T06:24:12.558Z"
   },
   {
    "duration": 1611,
    "start_time": "2024-04-23T06:24:29.304Z"
   },
   {
    "duration": 972,
    "start_time": "2024-04-23T06:24:30.917Z"
   },
   {
    "duration": 15,
    "start_time": "2024-04-23T06:24:31.891Z"
   },
   {
    "duration": 188,
    "start_time": "2024-04-23T06:24:31.908Z"
   },
   {
    "duration": 99,
    "start_time": "2024-04-23T06:24:32.099Z"
   },
   {
    "duration": 506,
    "start_time": "2024-04-23T06:24:32.200Z"
   },
   {
    "duration": 501,
    "start_time": "2024-04-23T06:24:32.707Z"
   },
   {
    "duration": 152,
    "start_time": "2024-04-23T06:24:33.210Z"
   },
   {
    "duration": 35,
    "start_time": "2024-04-23T06:24:33.364Z"
   },
   {
    "duration": 28,
    "start_time": "2024-04-23T06:24:33.401Z"
   },
   {
    "duration": 9,
    "start_time": "2024-04-23T06:24:33.431Z"
   },
   {
    "duration": 36,
    "start_time": "2024-04-23T06:24:33.442Z"
   },
   {
    "duration": 122,
    "start_time": "2024-04-23T06:24:33.480Z"
   },
   {
    "duration": 96,
    "start_time": "2024-04-23T06:24:33.607Z"
   },
   {
    "duration": 25,
    "start_time": "2024-04-23T06:24:33.705Z"
   },
   {
    "duration": 48,
    "start_time": "2024-04-23T06:24:33.732Z"
   },
   {
    "duration": 454,
    "start_time": "2024-04-23T06:24:33.782Z"
   },
   {
    "duration": 297,
    "start_time": "2024-04-23T06:24:34.237Z"
   },
   {
    "duration": 25,
    "start_time": "2024-04-23T06:24:34.536Z"
   },
   {
    "duration": 26,
    "start_time": "2024-04-23T06:24:34.563Z"
   },
   {
    "duration": 49,
    "start_time": "2024-04-23T06:24:34.590Z"
   },
   {
    "duration": 1006,
    "start_time": "2024-04-23T06:24:34.641Z"
   },
   {
    "duration": 144,
    "start_time": "2024-04-23T06:24:35.648Z"
   },
   {
    "duration": 9,
    "start_time": "2024-04-23T06:24:35.793Z"
   },
   {
    "duration": 57,
    "start_time": "2024-04-23T06:24:35.804Z"
   },
   {
    "duration": 209,
    "start_time": "2024-04-23T06:24:35.862Z"
   },
   {
    "duration": 198,
    "start_time": "2024-04-23T06:24:36.073Z"
   },
   {
    "duration": 12,
    "start_time": "2024-04-23T06:24:36.273Z"
   },
   {
    "duration": 308,
    "start_time": "2024-04-23T06:24:36.286Z"
   },
   {
    "duration": 389,
    "start_time": "2024-04-23T06:24:36.595Z"
   },
   {
    "duration": 138,
    "start_time": "2024-04-23T06:24:36.985Z"
   },
   {
    "duration": 12,
    "start_time": "2024-04-23T06:24:37.125Z"
   },
   {
    "duration": 97,
    "start_time": "2024-04-23T06:24:37.139Z"
   },
   {
    "duration": 26,
    "start_time": "2024-04-23T06:24:37.237Z"
   },
   {
    "duration": 30,
    "start_time": "2024-04-23T06:24:37.264Z"
   },
   {
    "duration": 12,
    "start_time": "2024-04-23T06:24:37.296Z"
   },
   {
    "duration": 21,
    "start_time": "2024-04-23T06:24:37.310Z"
   },
   {
    "duration": 101,
    "start_time": "2024-04-23T06:24:37.333Z"
   },
   {
    "duration": 5,
    "start_time": "2024-04-23T06:24:37.435Z"
   },
   {
    "duration": 17,
    "start_time": "2024-04-23T06:24:37.441Z"
   },
   {
    "duration": 19,
    "start_time": "2024-04-23T06:24:37.462Z"
   },
   {
    "duration": 16,
    "start_time": "2024-04-23T06:24:37.483Z"
   },
   {
    "duration": 23,
    "start_time": "2024-04-23T06:24:37.501Z"
   },
   {
    "duration": 20,
    "start_time": "2024-04-23T06:24:37.526Z"
   },
   {
    "duration": 161,
    "start_time": "2024-04-23T06:24:37.548Z"
   },
   {
    "duration": 0,
    "start_time": "2024-04-23T06:24:37.710Z"
   },
   {
    "duration": 0,
    "start_time": "2024-04-23T06:24:37.712Z"
   },
   {
    "duration": 0,
    "start_time": "2024-04-23T06:24:37.713Z"
   },
   {
    "duration": 0,
    "start_time": "2024-04-23T06:24:37.715Z"
   },
   {
    "duration": 0,
    "start_time": "2024-04-23T06:24:37.716Z"
   },
   {
    "duration": 0,
    "start_time": "2024-04-23T06:24:37.717Z"
   },
   {
    "duration": 0,
    "start_time": "2024-04-23T06:24:37.719Z"
   },
   {
    "duration": 0,
    "start_time": "2024-04-23T06:24:37.720Z"
   },
   {
    "duration": 0,
    "start_time": "2024-04-23T06:24:37.721Z"
   },
   {
    "duration": 0,
    "start_time": "2024-04-23T06:24:37.722Z"
   },
   {
    "duration": 0,
    "start_time": "2024-04-23T06:24:37.723Z"
   },
   {
    "duration": 131,
    "start_time": "2024-04-23T06:26:06.624Z"
   },
   {
    "duration": 122,
    "start_time": "2024-04-23T06:26:51.594Z"
   },
   {
    "duration": 3,
    "start_time": "2024-04-23T06:42:10.984Z"
   },
   {
    "duration": 3,
    "start_time": "2024-04-23T06:42:11.411Z"
   },
   {
    "duration": 5,
    "start_time": "2024-04-23T06:42:11.768Z"
   },
   {
    "duration": 5,
    "start_time": "2024-04-23T06:42:12.155Z"
   },
   {
    "duration": 75,
    "start_time": "2024-04-23T07:16:58.038Z"
   },
   {
    "duration": 26,
    "start_time": "2024-04-23T07:16:58.493Z"
   },
   {
    "duration": 5,
    "start_time": "2024-04-23T07:17:11.771Z"
   },
   {
    "duration": 3,
    "start_time": "2024-04-23T07:18:23.249Z"
   },
   {
    "duration": 5,
    "start_time": "2024-04-23T07:19:51.239Z"
   },
   {
    "duration": 15,
    "start_time": "2024-04-23T07:20:32.672Z"
   },
   {
    "duration": 84,
    "start_time": "2024-04-23T07:22:48.455Z"
   },
   {
    "duration": 9,
    "start_time": "2024-04-23T07:25:10.971Z"
   },
   {
    "duration": 12,
    "start_time": "2024-04-23T07:25:14.077Z"
   },
   {
    "duration": 9,
    "start_time": "2024-04-23T07:26:14.671Z"
   },
   {
    "duration": 13,
    "start_time": "2024-04-23T07:26:20.232Z"
   },
   {
    "duration": 10,
    "start_time": "2024-04-23T07:26:24.120Z"
   },
   {
    "duration": 52,
    "start_time": "2024-04-23T07:28:50.358Z"
   },
   {
    "duration": 1854,
    "start_time": "2024-04-23T07:29:47.718Z"
   },
   {
    "duration": 990,
    "start_time": "2024-04-23T07:29:49.574Z"
   },
   {
    "duration": 16,
    "start_time": "2024-04-23T07:29:50.574Z"
   },
   {
    "duration": 162,
    "start_time": "2024-04-23T07:29:50.591Z"
   },
   {
    "duration": 111,
    "start_time": "2024-04-23T07:29:50.760Z"
   },
   {
    "duration": 493,
    "start_time": "2024-04-23T07:29:50.872Z"
   },
   {
    "duration": 545,
    "start_time": "2024-04-23T07:29:51.366Z"
   },
   {
    "duration": 200,
    "start_time": "2024-04-23T07:29:51.912Z"
   },
   {
    "duration": 44,
    "start_time": "2024-04-23T07:29:52.114Z"
   },
   {
    "duration": 27,
    "start_time": "2024-04-23T07:29:52.161Z"
   },
   {
    "duration": 31,
    "start_time": "2024-04-23T07:29:52.190Z"
   },
   {
    "duration": 50,
    "start_time": "2024-04-23T07:29:52.222Z"
   },
   {
    "duration": 155,
    "start_time": "2024-04-23T07:29:52.274Z"
   },
   {
    "duration": 100,
    "start_time": "2024-04-23T07:29:52.432Z"
   },
   {
    "duration": 22,
    "start_time": "2024-04-23T07:29:52.534Z"
   },
   {
    "duration": 49,
    "start_time": "2024-04-23T07:29:52.557Z"
   },
   {
    "duration": 465,
    "start_time": "2024-04-23T07:29:52.608Z"
   },
   {
    "duration": 218,
    "start_time": "2024-04-23T07:29:53.075Z"
   },
   {
    "duration": 15,
    "start_time": "2024-04-23T07:29:53.295Z"
   },
   {
    "duration": 26,
    "start_time": "2024-04-23T07:29:53.311Z"
   },
   {
    "duration": 41,
    "start_time": "2024-04-23T07:29:53.338Z"
   },
   {
    "duration": 966,
    "start_time": "2024-04-23T07:29:53.381Z"
   },
   {
    "duration": 160,
    "start_time": "2024-04-23T07:29:54.349Z"
   },
   {
    "duration": 11,
    "start_time": "2024-04-23T07:29:54.511Z"
   },
   {
    "duration": 84,
    "start_time": "2024-04-23T07:29:54.524Z"
   },
   {
    "duration": 237,
    "start_time": "2024-04-23T07:29:54.609Z"
   },
   {
    "duration": 228,
    "start_time": "2024-04-23T07:29:54.848Z"
   },
   {
    "duration": 13,
    "start_time": "2024-04-23T07:29:55.078Z"
   },
   {
    "duration": 319,
    "start_time": "2024-04-23T07:29:55.092Z"
   },
   {
    "duration": 416,
    "start_time": "2024-04-23T07:29:55.413Z"
   },
   {
    "duration": 143,
    "start_time": "2024-04-23T07:29:55.831Z"
   },
   {
    "duration": 12,
    "start_time": "2024-04-23T07:29:55.975Z"
   },
   {
    "duration": 112,
    "start_time": "2024-04-23T07:29:55.988Z"
   },
   {
    "duration": 22,
    "start_time": "2024-04-23T07:29:56.101Z"
   },
   {
    "duration": 3,
    "start_time": "2024-04-23T07:29:56.125Z"
   },
   {
    "duration": 80,
    "start_time": "2024-04-23T07:29:56.129Z"
   },
   {
    "duration": 31,
    "start_time": "2024-04-23T07:29:56.211Z"
   },
   {
    "duration": 61,
    "start_time": "2024-04-23T07:29:56.244Z"
   },
   {
    "duration": 12,
    "start_time": "2024-04-23T07:29:56.307Z"
   },
   {
    "duration": 120,
    "start_time": "2024-04-23T07:29:56.321Z"
   },
   {
    "duration": 2,
    "start_time": "2024-04-23T07:29:56.446Z"
   },
   {
    "duration": 28,
    "start_time": "2024-04-23T07:29:56.450Z"
   },
   {
    "duration": 48,
    "start_time": "2024-04-23T07:29:56.479Z"
   },
   {
    "duration": 17,
    "start_time": "2024-04-23T07:29:56.529Z"
   },
   {
    "duration": 44,
    "start_time": "2024-04-23T07:29:56.547Z"
   },
   {
    "duration": 151,
    "start_time": "2024-04-23T07:29:56.593Z"
   },
   {
    "duration": 0,
    "start_time": "2024-04-23T07:29:56.746Z"
   },
   {
    "duration": 0,
    "start_time": "2024-04-23T07:29:56.747Z"
   },
   {
    "duration": 0,
    "start_time": "2024-04-23T07:29:56.748Z"
   },
   {
    "duration": 0,
    "start_time": "2024-04-23T07:29:56.749Z"
   },
   {
    "duration": 0,
    "start_time": "2024-04-23T07:29:56.750Z"
   },
   {
    "duration": 0,
    "start_time": "2024-04-23T07:29:56.751Z"
   },
   {
    "duration": 0,
    "start_time": "2024-04-23T07:29:56.762Z"
   },
   {
    "duration": 0,
    "start_time": "2024-04-23T07:29:56.763Z"
   },
   {
    "duration": 0,
    "start_time": "2024-04-23T07:29:56.764Z"
   },
   {
    "duration": 0,
    "start_time": "2024-04-23T07:29:56.764Z"
   },
   {
    "duration": 0,
    "start_time": "2024-04-23T07:29:56.765Z"
   },
   {
    "duration": 3,
    "start_time": "2024-04-23T07:47:54.920Z"
   },
   {
    "duration": 3,
    "start_time": "2024-04-23T07:48:27.822Z"
   },
   {
    "duration": 11,
    "start_time": "2024-04-23T07:48:55.093Z"
   },
   {
    "duration": 52,
    "start_time": "2024-04-23T07:49:06.717Z"
   },
   {
    "duration": 1504,
    "start_time": "2024-04-23T07:49:37.473Z"
   },
   {
    "duration": 892,
    "start_time": "2024-04-23T07:49:38.979Z"
   },
   {
    "duration": 15,
    "start_time": "2024-04-23T07:49:39.873Z"
   },
   {
    "duration": 182,
    "start_time": "2024-04-23T07:49:39.890Z"
   },
   {
    "duration": 118,
    "start_time": "2024-04-23T07:49:40.074Z"
   },
   {
    "duration": 468,
    "start_time": "2024-04-23T07:49:40.194Z"
   },
   {
    "duration": 522,
    "start_time": "2024-04-23T07:49:40.664Z"
   },
   {
    "duration": 170,
    "start_time": "2024-04-23T07:49:41.189Z"
   },
   {
    "duration": 37,
    "start_time": "2024-04-23T07:49:41.361Z"
   },
   {
    "duration": 19,
    "start_time": "2024-04-23T07:49:41.401Z"
   },
   {
    "duration": 5,
    "start_time": "2024-04-23T07:49:41.422Z"
   },
   {
    "duration": 12,
    "start_time": "2024-04-23T07:49:41.428Z"
   },
   {
    "duration": 120,
    "start_time": "2024-04-23T07:49:41.441Z"
   },
   {
    "duration": 88,
    "start_time": "2024-04-23T07:49:41.562Z"
   },
   {
    "duration": 13,
    "start_time": "2024-04-23T07:49:41.652Z"
   },
   {
    "duration": 29,
    "start_time": "2024-04-23T07:49:41.666Z"
   },
   {
    "duration": 438,
    "start_time": "2024-04-23T07:49:41.697Z"
   },
   {
    "duration": 206,
    "start_time": "2024-04-23T07:49:42.136Z"
   },
   {
    "duration": 18,
    "start_time": "2024-04-23T07:49:42.343Z"
   },
   {
    "duration": 7,
    "start_time": "2024-04-23T07:49:42.363Z"
   },
   {
    "duration": 24,
    "start_time": "2024-04-23T07:49:42.372Z"
   },
   {
    "duration": 904,
    "start_time": "2024-04-23T07:49:42.398Z"
   },
   {
    "duration": 137,
    "start_time": "2024-04-23T07:49:43.304Z"
   },
   {
    "duration": 22,
    "start_time": "2024-04-23T07:49:43.443Z"
   },
   {
    "duration": 34,
    "start_time": "2024-04-23T07:49:43.467Z"
   },
   {
    "duration": 214,
    "start_time": "2024-04-23T07:49:43.503Z"
   },
   {
    "duration": 189,
    "start_time": "2024-04-23T07:49:43.719Z"
   },
   {
    "duration": 10,
    "start_time": "2024-04-23T07:49:43.911Z"
   },
   {
    "duration": 283,
    "start_time": "2024-04-23T07:49:43.923Z"
   },
   {
    "duration": 375,
    "start_time": "2024-04-23T07:49:44.207Z"
   },
   {
    "duration": 143,
    "start_time": "2024-04-23T07:49:44.584Z"
   },
   {
    "duration": 11,
    "start_time": "2024-04-23T07:49:44.729Z"
   },
   {
    "duration": 87,
    "start_time": "2024-04-23T07:49:44.742Z"
   },
   {
    "duration": 2,
    "start_time": "2024-04-23T07:49:52.268Z"
   },
   {
    "duration": 13,
    "start_time": "2024-04-23T07:49:54.555Z"
   },
   {
    "duration": 3,
    "start_time": "2024-04-23T07:50:16.938Z"
   },
   {
    "duration": 67,
    "start_time": "2024-04-23T07:50:18.372Z"
   },
   {
    "duration": 30,
    "start_time": "2024-04-23T07:50:19.075Z"
   },
   {
    "duration": 5,
    "start_time": "2024-04-23T07:50:19.810Z"
   },
   {
    "duration": 88,
    "start_time": "2024-04-23T07:53:27.003Z"
   },
   {
    "duration": 92,
    "start_time": "2024-04-23T07:55:47.665Z"
   },
   {
    "duration": 1585,
    "start_time": "2024-04-23T07:56:03.879Z"
   },
   {
    "duration": 908,
    "start_time": "2024-04-23T07:56:05.466Z"
   },
   {
    "duration": 15,
    "start_time": "2024-04-23T07:56:06.376Z"
   },
   {
    "duration": 156,
    "start_time": "2024-04-23T07:56:06.392Z"
   },
   {
    "duration": 89,
    "start_time": "2024-04-23T07:56:06.550Z"
   },
   {
    "duration": 483,
    "start_time": "2024-04-23T07:56:06.641Z"
   },
   {
    "duration": 533,
    "start_time": "2024-04-23T07:56:07.126Z"
   },
   {
    "duration": 145,
    "start_time": "2024-04-23T07:56:07.661Z"
   },
   {
    "duration": 35,
    "start_time": "2024-04-23T07:56:07.807Z"
   },
   {
    "duration": 16,
    "start_time": "2024-04-23T07:56:07.843Z"
   },
   {
    "duration": 12,
    "start_time": "2024-04-23T07:56:07.860Z"
   },
   {
    "duration": 30,
    "start_time": "2024-04-23T07:56:07.873Z"
   },
   {
    "duration": 117,
    "start_time": "2024-04-23T07:56:07.904Z"
   },
   {
    "duration": 91,
    "start_time": "2024-04-23T07:56:08.024Z"
   },
   {
    "duration": 8,
    "start_time": "2024-04-23T07:56:08.116Z"
   },
   {
    "duration": 46,
    "start_time": "2024-04-23T07:56:08.126Z"
   },
   {
    "duration": 437,
    "start_time": "2024-04-23T07:56:08.174Z"
   },
   {
    "duration": 234,
    "start_time": "2024-04-23T07:56:08.613Z"
   },
   {
    "duration": 19,
    "start_time": "2024-04-23T07:56:08.849Z"
   },
   {
    "duration": 24,
    "start_time": "2024-04-23T07:56:08.869Z"
   },
   {
    "duration": 49,
    "start_time": "2024-04-23T07:56:08.895Z"
   },
   {
    "duration": 889,
    "start_time": "2024-04-23T07:56:08.945Z"
   },
   {
    "duration": 144,
    "start_time": "2024-04-23T07:56:09.836Z"
   },
   {
    "duration": 9,
    "start_time": "2024-04-23T07:56:09.982Z"
   },
   {
    "duration": 39,
    "start_time": "2024-04-23T07:56:09.993Z"
   },
   {
    "duration": 222,
    "start_time": "2024-04-23T07:56:10.058Z"
   },
   {
    "duration": 192,
    "start_time": "2024-04-23T07:56:10.282Z"
   },
   {
    "duration": 12,
    "start_time": "2024-04-23T07:56:10.475Z"
   },
   {
    "duration": 276,
    "start_time": "2024-04-23T07:56:10.488Z"
   },
   {
    "duration": 392,
    "start_time": "2024-04-23T07:56:10.766Z"
   },
   {
    "duration": 149,
    "start_time": "2024-04-23T07:56:11.160Z"
   },
   {
    "duration": 12,
    "start_time": "2024-04-23T07:56:11.311Z"
   },
   {
    "duration": 107,
    "start_time": "2024-04-23T07:56:11.325Z"
   },
   {
    "duration": 135,
    "start_time": "2024-04-23T07:56:22.104Z"
   },
   {
    "duration": 10,
    "start_time": "2024-04-23T07:56:24.949Z"
   },
   {
    "duration": 3,
    "start_time": "2024-04-23T07:56:25.963Z"
   },
   {
    "duration": 29,
    "start_time": "2024-04-23T07:56:27.666Z"
   },
   {
    "duration": 13,
    "start_time": "2024-04-23T07:56:28.242Z"
   },
   {
    "duration": 4,
    "start_time": "2024-04-23T07:57:38.250Z"
   },
   {
    "duration": 6,
    "start_time": "2024-04-23T07:57:39.572Z"
   },
   {
    "duration": 3,
    "start_time": "2024-04-23T07:57:40.056Z"
   },
   {
    "duration": 5,
    "start_time": "2024-04-23T07:57:40.430Z"
   },
   {
    "duration": 3,
    "start_time": "2024-04-23T07:57:40.860Z"
   },
   {
    "duration": 3,
    "start_time": "2024-04-23T08:01:49.348Z"
   },
   {
    "duration": 117,
    "start_time": "2024-04-23T08:15:08.108Z"
   },
   {
    "duration": 12,
    "start_time": "2024-04-23T08:15:15.447Z"
   },
   {
    "duration": 11839,
    "start_time": "2024-04-23T08:16:38.755Z"
   },
   {
    "duration": 11864,
    "start_time": "2024-04-23T08:17:22.987Z"
   },
   {
    "duration": 11859,
    "start_time": "2024-04-23T08:17:45.109Z"
   },
   {
    "duration": 4,
    "start_time": "2024-04-23T08:18:35.233Z"
   },
   {
    "duration": 11922,
    "start_time": "2024-04-23T08:18:36.401Z"
   },
   {
    "duration": 0,
    "start_time": "2024-04-23T08:21:44.259Z"
   },
   {
    "duration": 1682,
    "start_time": "2024-04-23T08:22:19.131Z"
   },
   {
    "duration": 1007,
    "start_time": "2024-04-23T08:22:20.815Z"
   },
   {
    "duration": 16,
    "start_time": "2024-04-23T08:22:21.824Z"
   },
   {
    "duration": 213,
    "start_time": "2024-04-23T08:22:21.842Z"
   },
   {
    "duration": 109,
    "start_time": "2024-04-23T08:22:22.058Z"
   },
   {
    "duration": 546,
    "start_time": "2024-04-23T08:22:22.169Z"
   },
   {
    "duration": 564,
    "start_time": "2024-04-23T08:22:22.716Z"
   },
   {
    "duration": 148,
    "start_time": "2024-04-23T08:22:23.282Z"
   },
   {
    "duration": 48,
    "start_time": "2024-04-23T08:22:23.431Z"
   },
   {
    "duration": 20,
    "start_time": "2024-04-23T08:22:23.480Z"
   },
   {
    "duration": 5,
    "start_time": "2024-04-23T08:22:23.502Z"
   },
   {
    "duration": 19,
    "start_time": "2024-04-23T08:22:23.509Z"
   },
   {
    "duration": 124,
    "start_time": "2024-04-23T08:22:23.529Z"
   },
   {
    "duration": 108,
    "start_time": "2024-04-23T08:22:23.656Z"
   },
   {
    "duration": 13,
    "start_time": "2024-04-23T08:22:23.766Z"
   },
   {
    "duration": 37,
    "start_time": "2024-04-23T08:22:23.781Z"
   },
   {
    "duration": 464,
    "start_time": "2024-04-23T08:22:23.820Z"
   },
   {
    "duration": 224,
    "start_time": "2024-04-23T08:22:24.285Z"
   },
   {
    "duration": 15,
    "start_time": "2024-04-23T08:22:24.511Z"
   },
   {
    "duration": 12,
    "start_time": "2024-04-23T08:22:24.527Z"
   },
   {
    "duration": 85,
    "start_time": "2024-04-23T08:22:24.541Z"
   },
   {
    "duration": 974,
    "start_time": "2024-04-23T08:22:24.628Z"
   },
   {
    "duration": 148,
    "start_time": "2024-04-23T08:22:25.603Z"
   },
   {
    "duration": 9,
    "start_time": "2024-04-23T08:22:25.753Z"
   },
   {
    "duration": 74,
    "start_time": "2024-04-23T08:22:25.764Z"
   },
   {
    "duration": 224,
    "start_time": "2024-04-23T08:22:25.840Z"
   },
   {
    "duration": 207,
    "start_time": "2024-04-23T08:22:26.065Z"
   },
   {
    "duration": 12,
    "start_time": "2024-04-23T08:22:26.274Z"
   },
   {
    "duration": 297,
    "start_time": "2024-04-23T08:22:26.288Z"
   },
   {
    "duration": 405,
    "start_time": "2024-04-23T08:22:26.587Z"
   },
   {
    "duration": 144,
    "start_time": "2024-04-23T08:22:26.993Z"
   },
   {
    "duration": 21,
    "start_time": "2024-04-23T08:22:27.139Z"
   },
   {
    "duration": 86,
    "start_time": "2024-04-23T08:22:27.162Z"
   },
   {
    "duration": 147,
    "start_time": "2024-04-23T08:22:27.258Z"
   },
   {
    "duration": 8,
    "start_time": "2024-04-23T08:22:27.407Z"
   },
   {
    "duration": 25,
    "start_time": "2024-04-23T08:22:27.417Z"
   },
   {
    "duration": 39,
    "start_time": "2024-04-23T08:22:27.443Z"
   },
   {
    "duration": 17,
    "start_time": "2024-04-23T08:22:27.483Z"
   },
   {
    "duration": 4,
    "start_time": "2024-04-23T08:22:27.502Z"
   },
   {
    "duration": 11,
    "start_time": "2024-04-23T08:22:27.507Z"
   },
   {
    "duration": 3,
    "start_time": "2024-04-23T08:22:27.523Z"
   },
   {
    "duration": 10,
    "start_time": "2024-04-23T08:22:27.527Z"
   },
   {
    "duration": 25,
    "start_time": "2024-04-23T08:22:27.538Z"
   },
   {
    "duration": 12525,
    "start_time": "2024-04-23T08:22:30.130Z"
   },
   {
    "duration": 12181,
    "start_time": "2024-04-23T08:23:47.379Z"
   },
   {
    "duration": 12071,
    "start_time": "2024-04-23T08:26:56.394Z"
   },
   {
    "duration": 11952,
    "start_time": "2024-04-23T08:27:24.701Z"
   },
   {
    "duration": 5,
    "start_time": "2024-04-23T08:28:23.028Z"
   },
   {
    "duration": 12031,
    "start_time": "2024-04-23T08:28:27.038Z"
   },
   {
    "duration": 4,
    "start_time": "2024-04-23T08:28:59.181Z"
   },
   {
    "duration": 11625,
    "start_time": "2024-04-23T08:29:23.117Z"
   },
   {
    "duration": 4,
    "start_time": "2024-04-23T08:30:45.448Z"
   },
   {
    "duration": 11625,
    "start_time": "2024-04-23T08:30:47.270Z"
   },
   {
    "duration": 11694,
    "start_time": "2024-04-23T08:31:37.817Z"
   },
   {
    "duration": 4,
    "start_time": "2024-04-23T08:33:13.813Z"
   },
   {
    "duration": 4,
    "start_time": "2024-04-23T08:33:26.528Z"
   },
   {
    "duration": 11979,
    "start_time": "2024-04-23T08:33:28.719Z"
   },
   {
    "duration": 0,
    "start_time": "2024-04-23T08:34:34.092Z"
   },
   {
    "duration": 11785,
    "start_time": "2024-04-23T08:34:44.887Z"
   },
   {
    "duration": 11881,
    "start_time": "2024-04-23T08:37:00.849Z"
   },
   {
    "duration": 5,
    "start_time": "2024-04-23T08:39:12.010Z"
   },
   {
    "duration": 4,
    "start_time": "2024-04-23T08:39:12.464Z"
   },
   {
    "duration": 11817,
    "start_time": "2024-04-23T08:39:15.212Z"
   },
   {
    "duration": 18,
    "start_time": "2024-04-23T08:47:09.648Z"
   },
   {
    "duration": 4774,
    "start_time": "2024-04-23T08:47:19.950Z"
   },
   {
    "duration": 4677,
    "start_time": "2024-04-23T08:47:29.165Z"
   },
   {
    "duration": 31,
    "start_time": "2024-04-23T08:52:10.157Z"
   },
   {
    "duration": 5,
    "start_time": "2024-04-23T08:52:14.586Z"
   },
   {
    "duration": 4,
    "start_time": "2024-04-23T08:52:26.471Z"
   },
   {
    "duration": 32,
    "start_time": "2024-04-23T08:52:30.931Z"
   },
   {
    "duration": 4,
    "start_time": "2024-04-23T08:52:31.217Z"
   },
   {
    "duration": 3,
    "start_time": "2024-04-23T08:52:34.361Z"
   },
   {
    "duration": 3,
    "start_time": "2024-04-23T08:52:35.261Z"
   },
   {
    "duration": 33,
    "start_time": "2024-04-23T08:52:35.267Z"
   },
   {
    "duration": 4,
    "start_time": "2024-04-23T08:52:35.377Z"
   },
   {
    "duration": 5539,
    "start_time": "2024-04-23T08:53:03.646Z"
   },
   {
    "duration": 99,
    "start_time": "2024-04-23T08:56:52.541Z"
   },
   {
    "duration": 5919,
    "start_time": "2024-04-23T08:57:19.386Z"
   },
   {
    "duration": 1523,
    "start_time": "2024-04-23T08:59:18.710Z"
   },
   {
    "duration": 929,
    "start_time": "2024-04-23T08:59:20.234Z"
   },
   {
    "duration": 15,
    "start_time": "2024-04-23T08:59:21.164Z"
   },
   {
    "duration": 181,
    "start_time": "2024-04-23T08:59:21.180Z"
   },
   {
    "duration": 101,
    "start_time": "2024-04-23T08:59:21.363Z"
   },
   {
    "duration": 502,
    "start_time": "2024-04-23T08:59:21.465Z"
   },
   {
    "duration": 529,
    "start_time": "2024-04-23T08:59:21.968Z"
   },
   {
    "duration": 150,
    "start_time": "2024-04-23T08:59:22.498Z"
   },
   {
    "duration": 37,
    "start_time": "2024-04-23T08:59:22.649Z"
   },
   {
    "duration": 11,
    "start_time": "2024-04-23T08:59:22.687Z"
   },
   {
    "duration": 21,
    "start_time": "2024-04-23T08:59:22.700Z"
   },
   {
    "duration": 50,
    "start_time": "2024-04-23T08:59:22.722Z"
   },
   {
    "duration": 117,
    "start_time": "2024-04-23T08:59:22.774Z"
   },
   {
    "duration": 95,
    "start_time": "2024-04-23T08:59:22.894Z"
   },
   {
    "duration": 8,
    "start_time": "2024-04-23T08:59:22.991Z"
   },
   {
    "duration": 30,
    "start_time": "2024-04-23T08:59:23.001Z"
   },
   {
    "duration": 485,
    "start_time": "2024-04-23T08:59:23.033Z"
   },
   {
    "duration": 223,
    "start_time": "2024-04-23T08:59:23.520Z"
   },
   {
    "duration": 19,
    "start_time": "2024-04-23T08:59:23.745Z"
   },
   {
    "duration": 19,
    "start_time": "2024-04-23T08:59:23.765Z"
   },
   {
    "duration": 22,
    "start_time": "2024-04-23T08:59:23.785Z"
   },
   {
    "duration": 920,
    "start_time": "2024-04-23T08:59:23.809Z"
   },
   {
    "duration": 148,
    "start_time": "2024-04-23T08:59:24.731Z"
   },
   {
    "duration": 8,
    "start_time": "2024-04-23T08:59:24.880Z"
   },
   {
    "duration": 46,
    "start_time": "2024-04-23T08:59:24.890Z"
   },
   {
    "duration": 229,
    "start_time": "2024-04-23T08:59:24.937Z"
   },
   {
    "duration": 200,
    "start_time": "2024-04-23T08:59:25.168Z"
   },
   {
    "duration": 11,
    "start_time": "2024-04-23T08:59:25.370Z"
   },
   {
    "duration": 279,
    "start_time": "2024-04-23T08:59:25.382Z"
   },
   {
    "duration": 397,
    "start_time": "2024-04-23T08:59:25.662Z"
   },
   {
    "duration": 138,
    "start_time": "2024-04-23T08:59:26.060Z"
   },
   {
    "duration": 12,
    "start_time": "2024-04-23T08:59:26.200Z"
   },
   {
    "duration": 121,
    "start_time": "2024-04-23T08:59:26.214Z"
   },
   {
    "duration": 136,
    "start_time": "2024-04-23T08:59:26.337Z"
   },
   {
    "duration": 7,
    "start_time": "2024-04-23T08:59:26.475Z"
   },
   {
    "duration": 6,
    "start_time": "2024-04-23T08:59:26.484Z"
   },
   {
    "duration": 49,
    "start_time": "2024-04-23T08:59:26.491Z"
   },
   {
    "duration": 5,
    "start_time": "2024-04-23T08:59:26.542Z"
   },
   {
    "duration": 4,
    "start_time": "2024-04-23T08:59:26.548Z"
   },
   {
    "duration": 3,
    "start_time": "2024-04-23T08:59:26.559Z"
   },
   {
    "duration": 5,
    "start_time": "2024-04-23T08:59:26.565Z"
   },
   {
    "duration": 4,
    "start_time": "2024-04-23T08:59:29.105Z"
   },
   {
    "duration": 5822,
    "start_time": "2024-04-23T08:59:30.971Z"
   },
   {
    "duration": 106,
    "start_time": "2024-04-23T08:59:38.892Z"
   },
   {
    "duration": 15354,
    "start_time": "2024-04-23T08:59:44.208Z"
   },
   {
    "duration": 126,
    "start_time": "2024-04-23T09:17:16.602Z"
   },
   {
    "duration": 93,
    "start_time": "2024-04-23T09:17:38.238Z"
   },
   {
    "duration": 1586,
    "start_time": "2024-04-23T09:22:02.188Z"
   },
   {
    "duration": 978,
    "start_time": "2024-04-23T09:22:03.776Z"
   },
   {
    "duration": 16,
    "start_time": "2024-04-23T09:22:04.755Z"
   },
   {
    "duration": 178,
    "start_time": "2024-04-23T09:22:04.773Z"
   },
   {
    "duration": 110,
    "start_time": "2024-04-23T09:22:04.953Z"
   },
   {
    "duration": 578,
    "start_time": "2024-04-23T09:22:05.064Z"
   },
   {
    "duration": 587,
    "start_time": "2024-04-23T09:22:05.643Z"
   },
   {
    "duration": 156,
    "start_time": "2024-04-23T09:22:06.231Z"
   },
   {
    "duration": 36,
    "start_time": "2024-04-23T09:22:06.389Z"
   },
   {
    "duration": 9,
    "start_time": "2024-04-23T09:22:06.427Z"
   },
   {
    "duration": 21,
    "start_time": "2024-04-23T09:22:06.438Z"
   },
   {
    "duration": 11,
    "start_time": "2024-04-23T09:22:06.461Z"
   },
   {
    "duration": 118,
    "start_time": "2024-04-23T09:22:06.474Z"
   },
   {
    "duration": 98,
    "start_time": "2024-04-23T09:22:06.596Z"
   },
   {
    "duration": 9,
    "start_time": "2024-04-23T09:22:06.696Z"
   },
   {
    "duration": 40,
    "start_time": "2024-04-23T09:22:06.706Z"
   },
   {
    "duration": 461,
    "start_time": "2024-04-23T09:22:06.747Z"
   },
   {
    "duration": 233,
    "start_time": "2024-04-23T09:22:07.210Z"
   },
   {
    "duration": 20,
    "start_time": "2024-04-23T09:22:07.446Z"
   },
   {
    "duration": 22,
    "start_time": "2024-04-23T09:22:07.468Z"
   },
   {
    "duration": 26,
    "start_time": "2024-04-23T09:22:07.492Z"
   },
   {
    "duration": 952,
    "start_time": "2024-04-23T09:22:07.520Z"
   },
   {
    "duration": 146,
    "start_time": "2024-04-23T09:22:08.474Z"
   },
   {
    "duration": 9,
    "start_time": "2024-04-23T09:22:08.622Z"
   },
   {
    "duration": 52,
    "start_time": "2024-04-23T09:22:08.633Z"
   },
   {
    "duration": 220,
    "start_time": "2024-04-23T09:22:08.687Z"
   },
   {
    "duration": 203,
    "start_time": "2024-04-23T09:22:08.908Z"
   },
   {
    "duration": 11,
    "start_time": "2024-04-23T09:22:09.113Z"
   },
   {
    "duration": 281,
    "start_time": "2024-04-23T09:22:09.125Z"
   },
   {
    "duration": 423,
    "start_time": "2024-04-23T09:22:09.408Z"
   },
   {
    "duration": 138,
    "start_time": "2024-04-23T09:22:09.833Z"
   },
   {
    "duration": 13,
    "start_time": "2024-04-23T09:22:09.972Z"
   },
   {
    "duration": 105,
    "start_time": "2024-04-23T09:22:09.987Z"
   },
   {
    "duration": 23,
    "start_time": "2024-04-23T09:22:10.094Z"
   },
   {
    "duration": 27,
    "start_time": "2024-04-23T09:22:10.118Z"
   },
   {
    "duration": 9,
    "start_time": "2024-04-23T09:22:10.147Z"
   },
   {
    "duration": 87,
    "start_time": "2024-04-23T09:22:10.157Z"
   },
   {
    "duration": 4,
    "start_time": "2024-04-23T09:22:10.246Z"
   },
   {
    "duration": 13,
    "start_time": "2024-04-23T09:22:10.251Z"
   },
   {
    "duration": 30,
    "start_time": "2024-04-23T09:22:10.266Z"
   },
   {
    "duration": 14,
    "start_time": "2024-04-23T09:22:10.300Z"
   },
   {
    "duration": 6,
    "start_time": "2024-04-23T09:22:10.316Z"
   },
   {
    "duration": 211,
    "start_time": "2024-04-23T09:22:10.323Z"
   },
   {
    "duration": 0,
    "start_time": "2024-04-23T09:22:10.535Z"
   },
   {
    "duration": 0,
    "start_time": "2024-04-23T09:22:10.536Z"
   },
   {
    "duration": 0,
    "start_time": "2024-04-23T09:22:10.537Z"
   },
   {
    "duration": 0,
    "start_time": "2024-04-23T09:22:10.538Z"
   },
   {
    "duration": 0,
    "start_time": "2024-04-23T09:22:10.539Z"
   },
   {
    "duration": 0,
    "start_time": "2024-04-23T09:22:10.540Z"
   },
   {
    "duration": 0,
    "start_time": "2024-04-23T09:22:10.541Z"
   },
   {
    "duration": 0,
    "start_time": "2024-04-23T09:22:10.542Z"
   },
   {
    "duration": 0,
    "start_time": "2024-04-23T09:22:10.543Z"
   },
   {
    "duration": 0,
    "start_time": "2024-04-23T09:22:10.544Z"
   },
   {
    "duration": 0,
    "start_time": "2024-04-23T09:22:10.545Z"
   },
   {
    "duration": 0,
    "start_time": "2024-04-23T09:22:10.559Z"
   },
   {
    "duration": 0,
    "start_time": "2024-04-23T09:22:10.560Z"
   },
   {
    "duration": 58,
    "start_time": "2024-04-23T09:22:37.194Z"
   },
   {
    "duration": 612,
    "start_time": "2024-04-23T09:28:39.711Z"
   },
   {
    "duration": 3,
    "start_time": "2024-04-23T09:32:14.910Z"
   },
   {
    "duration": 598,
    "start_time": "2024-04-23T09:32:28.170Z"
   },
   {
    "duration": 573,
    "start_time": "2024-04-23T09:32:55.120Z"
   },
   {
    "duration": 80,
    "start_time": "2024-04-23T09:33:27.451Z"
   },
   {
    "duration": 60,
    "start_time": "2024-04-23T09:35:32.911Z"
   },
   {
    "duration": 15,
    "start_time": "2024-04-23T09:38:20.784Z"
   },
   {
    "duration": 0,
    "start_time": "2024-04-23T09:41:22.003Z"
   },
   {
    "duration": 0,
    "start_time": "2024-04-23T09:41:22.004Z"
   },
   {
    "duration": 0,
    "start_time": "2024-04-23T09:41:22.006Z"
   },
   {
    "duration": 0,
    "start_time": "2024-04-23T09:41:22.007Z"
   },
   {
    "duration": 0,
    "start_time": "2024-04-23T09:41:22.009Z"
   },
   {
    "duration": 0,
    "start_time": "2024-04-23T09:41:22.010Z"
   },
   {
    "duration": 0,
    "start_time": "2024-04-23T09:41:22.011Z"
   },
   {
    "duration": 0,
    "start_time": "2024-04-23T09:41:22.012Z"
   },
   {
    "duration": 0,
    "start_time": "2024-04-23T09:41:22.014Z"
   },
   {
    "duration": 0,
    "start_time": "2024-04-23T09:41:22.015Z"
   },
   {
    "duration": 0,
    "start_time": "2024-04-23T09:41:22.016Z"
   },
   {
    "duration": 0,
    "start_time": "2024-04-23T09:41:22.017Z"
   },
   {
    "duration": 0,
    "start_time": "2024-04-23T09:41:22.018Z"
   },
   {
    "duration": 0,
    "start_time": "2024-04-23T09:41:22.020Z"
   },
   {
    "duration": 0,
    "start_time": "2024-04-23T09:41:22.021Z"
   },
   {
    "duration": 0,
    "start_time": "2024-04-23T09:41:22.023Z"
   },
   {
    "duration": 0,
    "start_time": "2024-04-23T09:41:22.059Z"
   },
   {
    "duration": 0,
    "start_time": "2024-04-23T09:41:22.060Z"
   },
   {
    "duration": 0,
    "start_time": "2024-04-23T09:41:22.062Z"
   },
   {
    "duration": 0,
    "start_time": "2024-04-23T09:41:22.063Z"
   },
   {
    "duration": 0,
    "start_time": "2024-04-23T09:41:22.065Z"
   },
   {
    "duration": 1,
    "start_time": "2024-04-23T09:41:22.066Z"
   },
   {
    "duration": 0,
    "start_time": "2024-04-23T09:41:22.068Z"
   },
   {
    "duration": 0,
    "start_time": "2024-04-23T09:41:22.069Z"
   },
   {
    "duration": 0,
    "start_time": "2024-04-23T09:41:22.070Z"
   },
   {
    "duration": 0,
    "start_time": "2024-04-23T09:41:22.071Z"
   },
   {
    "duration": 0,
    "start_time": "2024-04-23T09:41:22.072Z"
   },
   {
    "duration": 0,
    "start_time": "2024-04-23T09:41:22.074Z"
   },
   {
    "duration": 0,
    "start_time": "2024-04-23T09:41:22.075Z"
   },
   {
    "duration": 0,
    "start_time": "2024-04-23T09:41:22.076Z"
   },
   {
    "duration": 0,
    "start_time": "2024-04-23T09:41:22.077Z"
   },
   {
    "duration": 0,
    "start_time": "2024-04-23T09:41:22.079Z"
   },
   {
    "duration": 0,
    "start_time": "2024-04-23T09:41:22.081Z"
   },
   {
    "duration": 0,
    "start_time": "2024-04-23T09:41:22.082Z"
   },
   {
    "duration": 0,
    "start_time": "2024-04-23T09:41:22.083Z"
   },
   {
    "duration": 0,
    "start_time": "2024-04-23T09:41:22.084Z"
   },
   {
    "duration": 0,
    "start_time": "2024-04-23T09:41:22.085Z"
   },
   {
    "duration": 0,
    "start_time": "2024-04-23T09:41:22.086Z"
   },
   {
    "duration": 0,
    "start_time": "2024-04-23T09:41:22.087Z"
   },
   {
    "duration": 0,
    "start_time": "2024-04-23T09:41:22.088Z"
   },
   {
    "duration": 0,
    "start_time": "2024-04-23T09:41:22.091Z"
   },
   {
    "duration": 0,
    "start_time": "2024-04-23T09:41:22.092Z"
   },
   {
    "duration": 0,
    "start_time": "2024-04-23T09:41:22.093Z"
   },
   {
    "duration": 0,
    "start_time": "2024-04-23T09:41:22.094Z"
   },
   {
    "duration": 0,
    "start_time": "2024-04-23T09:41:22.095Z"
   },
   {
    "duration": 0,
    "start_time": "2024-04-23T09:41:22.159Z"
   },
   {
    "duration": 0,
    "start_time": "2024-04-23T09:41:22.160Z"
   },
   {
    "duration": 0,
    "start_time": "2024-04-23T09:41:22.162Z"
   },
   {
    "duration": 0,
    "start_time": "2024-04-23T09:41:22.163Z"
   },
   {
    "duration": 46,
    "start_time": "2024-04-23T09:41:50.878Z"
   },
   {
    "duration": 1643,
    "start_time": "2024-04-23T09:41:59.477Z"
   },
   {
    "duration": 1000,
    "start_time": "2024-04-23T09:42:01.122Z"
   },
   {
    "duration": 17,
    "start_time": "2024-04-23T09:42:02.124Z"
   },
   {
    "duration": 242,
    "start_time": "2024-04-23T09:42:02.142Z"
   },
   {
    "duration": 107,
    "start_time": "2024-04-23T09:42:02.387Z"
   },
   {
    "duration": 515,
    "start_time": "2024-04-23T09:42:02.496Z"
   },
   {
    "duration": 585,
    "start_time": "2024-04-23T09:42:03.013Z"
   },
   {
    "duration": 160,
    "start_time": "2024-04-23T09:42:03.599Z"
   },
   {
    "duration": 52,
    "start_time": "2024-04-23T09:42:03.761Z"
   },
   {
    "duration": 48,
    "start_time": "2024-04-23T09:42:03.814Z"
   },
   {
    "duration": 28,
    "start_time": "2024-04-23T09:42:03.863Z"
   },
   {
    "duration": 25,
    "start_time": "2024-04-23T09:42:03.893Z"
   },
   {
    "duration": 123,
    "start_time": "2024-04-23T09:42:03.920Z"
   },
   {
    "duration": 99,
    "start_time": "2024-04-23T09:42:04.047Z"
   },
   {
    "duration": 15,
    "start_time": "2024-04-23T09:42:04.148Z"
   },
   {
    "duration": 55,
    "start_time": "2024-04-23T09:42:04.165Z"
   },
   {
    "duration": 471,
    "start_time": "2024-04-23T09:42:04.222Z"
   },
   {
    "duration": 225,
    "start_time": "2024-04-23T09:42:04.696Z"
   },
   {
    "duration": 16,
    "start_time": "2024-04-23T09:42:04.923Z"
   },
   {
    "duration": 26,
    "start_time": "2024-04-23T09:42:04.941Z"
   },
   {
    "duration": 33,
    "start_time": "2024-04-23T09:42:04.969Z"
   },
   {
    "duration": 979,
    "start_time": "2024-04-23T09:42:05.004Z"
   },
   {
    "duration": 158,
    "start_time": "2024-04-23T09:42:05.984Z"
   },
   {
    "duration": 17,
    "start_time": "2024-04-23T09:42:06.144Z"
   },
   {
    "duration": 58,
    "start_time": "2024-04-23T09:42:06.162Z"
   },
   {
    "duration": 233,
    "start_time": "2024-04-23T09:42:06.222Z"
   },
   {
    "duration": 214,
    "start_time": "2024-04-23T09:42:06.458Z"
   },
   {
    "duration": 12,
    "start_time": "2024-04-23T09:42:06.673Z"
   },
   {
    "duration": 288,
    "start_time": "2024-04-23T09:42:06.687Z"
   },
   {
    "duration": 452,
    "start_time": "2024-04-23T09:42:06.976Z"
   },
   {
    "duration": 169,
    "start_time": "2024-04-23T09:42:07.429Z"
   },
   {
    "duration": 12,
    "start_time": "2024-04-23T09:42:07.600Z"
   },
   {
    "duration": 97,
    "start_time": "2024-04-23T09:42:07.614Z"
   },
   {
    "duration": 16,
    "start_time": "2024-04-23T09:42:07.713Z"
   },
   {
    "duration": 22,
    "start_time": "2024-04-23T09:42:07.730Z"
   },
   {
    "duration": 14,
    "start_time": "2024-04-23T09:42:07.753Z"
   },
   {
    "duration": 88,
    "start_time": "2024-04-23T09:42:07.769Z"
   },
   {
    "duration": 4,
    "start_time": "2024-04-23T09:42:07.859Z"
   },
   {
    "duration": 621,
    "start_time": "2024-04-23T09:42:07.865Z"
   },
   {
    "duration": 4,
    "start_time": "2024-04-23T09:42:08.487Z"
   },
   {
    "duration": 32,
    "start_time": "2024-04-23T09:42:08.495Z"
   },
   {
    "duration": 28,
    "start_time": "2024-04-23T09:42:08.528Z"
   },
   {
    "duration": 30,
    "start_time": "2024-04-23T09:42:08.557Z"
   },
   {
    "duration": 20,
    "start_time": "2024-04-23T09:42:08.589Z"
   },
   {
    "duration": 133,
    "start_time": "2024-04-23T09:42:08.611Z"
   },
   {
    "duration": 0,
    "start_time": "2024-04-23T09:42:08.746Z"
   },
   {
    "duration": 0,
    "start_time": "2024-04-23T09:42:08.747Z"
   },
   {
    "duration": 0,
    "start_time": "2024-04-23T09:42:08.748Z"
   },
   {
    "duration": 0,
    "start_time": "2024-04-23T09:42:08.749Z"
   },
   {
    "duration": 0,
    "start_time": "2024-04-23T09:42:08.750Z"
   },
   {
    "duration": 0,
    "start_time": "2024-04-23T09:42:08.751Z"
   },
   {
    "duration": 0,
    "start_time": "2024-04-23T09:42:08.752Z"
   },
   {
    "duration": 0,
    "start_time": "2024-04-23T09:42:08.753Z"
   },
   {
    "duration": 0,
    "start_time": "2024-04-23T09:42:08.754Z"
   },
   {
    "duration": 0,
    "start_time": "2024-04-23T09:42:08.755Z"
   },
   {
    "duration": 331,
    "start_time": "2024-04-23T09:44:36.784Z"
   },
   {
    "duration": 682354,
    "start_time": "2024-04-23T09:45:00.413Z"
   },
   {
    "duration": 88,
    "start_time": "2024-04-23T10:03:24.494Z"
   },
   {
    "duration": 139,
    "start_time": "2024-04-23T10:03:41.454Z"
   },
   {
    "duration": 8,
    "start_time": "2024-04-23T10:08:41.849Z"
   },
   {
    "duration": 148,
    "start_time": "2024-04-23T10:20:18.655Z"
   },
   {
    "duration": 61,
    "start_time": "2024-04-23T10:21:08.979Z"
   },
   {
    "duration": 4,
    "start_time": "2024-04-23T10:21:12.652Z"
   },
   {
    "duration": 1553,
    "start_time": "2024-04-23T10:21:53.012Z"
   },
   {
    "duration": 972,
    "start_time": "2024-04-23T10:21:54.567Z"
   },
   {
    "duration": 21,
    "start_time": "2024-04-23T10:21:55.541Z"
   },
   {
    "duration": 160,
    "start_time": "2024-04-23T10:21:55.564Z"
   },
   {
    "duration": 104,
    "start_time": "2024-04-23T10:21:55.726Z"
   },
   {
    "duration": 491,
    "start_time": "2024-04-23T10:21:55.832Z"
   },
   {
    "duration": 549,
    "start_time": "2024-04-23T10:21:56.324Z"
   },
   {
    "duration": 150,
    "start_time": "2024-04-23T10:21:56.874Z"
   },
   {
    "duration": 38,
    "start_time": "2024-04-23T10:21:57.025Z"
   },
   {
    "duration": 19,
    "start_time": "2024-04-23T10:21:57.065Z"
   },
   {
    "duration": 30,
    "start_time": "2024-04-23T10:21:57.086Z"
   },
   {
    "duration": 24,
    "start_time": "2024-04-23T10:21:57.117Z"
   },
   {
    "duration": 113,
    "start_time": "2024-04-23T10:21:57.143Z"
   },
   {
    "duration": 92,
    "start_time": "2024-04-23T10:21:57.258Z"
   },
   {
    "duration": 9,
    "start_time": "2024-04-23T10:21:57.359Z"
   },
   {
    "duration": 31,
    "start_time": "2024-04-23T10:21:57.369Z"
   },
   {
    "duration": 491,
    "start_time": "2024-04-23T10:21:57.402Z"
   },
   {
    "duration": 215,
    "start_time": "2024-04-23T10:21:57.894Z"
   },
   {
    "duration": 16,
    "start_time": "2024-04-23T10:21:58.111Z"
   },
   {
    "duration": 9,
    "start_time": "2024-04-23T10:21:58.128Z"
   },
   {
    "duration": 41,
    "start_time": "2024-04-23T10:21:58.138Z"
   },
   {
    "duration": 923,
    "start_time": "2024-04-23T10:21:58.181Z"
   },
   {
    "duration": 154,
    "start_time": "2024-04-23T10:21:59.105Z"
   },
   {
    "duration": 11,
    "start_time": "2024-04-23T10:21:59.261Z"
   },
   {
    "duration": 42,
    "start_time": "2024-04-23T10:21:59.274Z"
   },
   {
    "duration": 234,
    "start_time": "2024-04-23T10:21:59.318Z"
   },
   {
    "duration": 208,
    "start_time": "2024-04-23T10:21:59.554Z"
   },
   {
    "duration": 11,
    "start_time": "2024-04-23T10:21:59.766Z"
   },
   {
    "duration": 282,
    "start_time": "2024-04-23T10:21:59.779Z"
   },
   {
    "duration": 433,
    "start_time": "2024-04-23T10:22:00.063Z"
   },
   {
    "duration": 139,
    "start_time": "2024-04-23T10:22:00.498Z"
   },
   {
    "duration": 183,
    "start_time": "2024-04-23T10:22:00.639Z"
   },
   {
    "duration": 162,
    "start_time": "2024-04-23T10:22:00.823Z"
   },
   {
    "duration": 214,
    "start_time": "2024-04-23T10:22:00.986Z"
   },
   {
    "duration": 10,
    "start_time": "2024-04-23T10:22:01.202Z"
   },
   {
    "duration": 58,
    "start_time": "2024-04-23T10:22:01.214Z"
   },
   {
    "duration": 70,
    "start_time": "2024-04-23T10:22:01.274Z"
   },
   {
    "duration": 34,
    "start_time": "2024-04-23T10:22:01.346Z"
   },
   {
    "duration": 40,
    "start_time": "2024-04-23T10:22:01.382Z"
   },
   {
    "duration": 28,
    "start_time": "2024-04-23T10:22:01.423Z"
   },
   {
    "duration": 37,
    "start_time": "2024-04-23T10:22:01.453Z"
   },
   {
    "duration": 4,
    "start_time": "2024-04-23T10:24:43.108Z"
   },
   {
    "duration": 4,
    "start_time": "2024-04-23T10:24:44.773Z"
   },
   {
    "duration": 121,
    "start_time": "2024-04-23T10:49:06.241Z"
   },
   {
    "duration": 5592,
    "start_time": "2024-04-23T10:49:31.461Z"
   },
   {
    "duration": 5799,
    "start_time": "2024-04-23T10:50:33.284Z"
   },
   {
    "duration": 5880,
    "start_time": "2024-04-23T10:51:04.487Z"
   },
   {
    "duration": 6105,
    "start_time": "2024-04-23T10:51:12.152Z"
   },
   {
    "duration": 12773,
    "start_time": "2024-04-23T10:57:00.403Z"
   },
   {
    "duration": 7978,
    "start_time": "2024-04-23T10:58:14.796Z"
   },
   {
    "duration": 29137,
    "start_time": "2024-04-23T10:58:48.326Z"
   },
   {
    "duration": 139,
    "start_time": "2024-04-23T11:00:05.750Z"
   },
   {
    "duration": 168,
    "start_time": "2024-04-23T11:00:19.310Z"
   },
   {
    "duration": 14373,
    "start_time": "2024-04-23T11:06:28.501Z"
   },
   {
    "duration": 41899,
    "start_time": "2024-04-23T11:07:33.667Z"
   },
   {
    "duration": 5433,
    "start_time": "2024-04-23T11:09:32.712Z"
   },
   {
    "duration": 5559,
    "start_time": "2024-04-23T11:10:04.408Z"
   },
   {
    "duration": 13099,
    "start_time": "2024-04-23T11:10:41.531Z"
   },
   {
    "duration": 1695,
    "start_time": "2024-04-23T11:29:31.665Z"
   },
   {
    "duration": 960,
    "start_time": "2024-04-23T11:29:35.923Z"
   },
   {
    "duration": 16,
    "start_time": "2024-04-23T11:29:38.686Z"
   },
   {
    "duration": 168,
    "start_time": "2024-04-23T11:29:40.292Z"
   },
   {
    "duration": 108,
    "start_time": "2024-04-23T11:29:41.104Z"
   },
   {
    "duration": 507,
    "start_time": "2024-04-23T11:29:43.172Z"
   },
   {
    "duration": 534,
    "start_time": "2024-04-23T11:29:44.514Z"
   },
   {
    "duration": 160,
    "start_time": "2024-04-23T11:29:46.847Z"
   },
   {
    "duration": 35,
    "start_time": "2024-04-23T11:29:50.556Z"
   },
   {
    "duration": 4,
    "start_time": "2024-04-23T11:29:51.168Z"
   },
   {
    "duration": 3,
    "start_time": "2024-04-23T11:29:51.722Z"
   },
   {
    "duration": 16,
    "start_time": "2024-04-23T11:29:52.518Z"
   },
   {
    "duration": 101,
    "start_time": "2024-04-23T11:29:55.794Z"
   },
   {
    "duration": 107,
    "start_time": "2024-04-23T11:29:56.508Z"
   },
   {
    "duration": 11,
    "start_time": "2024-04-23T11:29:59.282Z"
   },
   {
    "duration": 33,
    "start_time": "2024-04-23T11:29:59.966Z"
   },
   {
    "duration": 469,
    "start_time": "2024-04-23T11:30:00.676Z"
   },
   {
    "duration": 215,
    "start_time": "2024-04-23T11:30:02.396Z"
   },
   {
    "duration": 14,
    "start_time": "2024-04-23T11:30:03.227Z"
   },
   {
    "duration": 8,
    "start_time": "2024-04-23T11:30:07.952Z"
   },
   {
    "duration": 23,
    "start_time": "2024-04-23T11:30:10.075Z"
   },
   {
    "duration": 958,
    "start_time": "2024-04-23T11:30:10.924Z"
   },
   {
    "duration": 136,
    "start_time": "2024-04-23T11:30:13.684Z"
   },
   {
    "duration": 10,
    "start_time": "2024-04-23T11:30:15.296Z"
   },
   {
    "duration": 38,
    "start_time": "2024-04-23T11:30:16.690Z"
   },
   {
    "duration": 221,
    "start_time": "2024-04-23T11:30:18.484Z"
   },
   {
    "duration": 212,
    "start_time": "2024-04-23T11:30:20.027Z"
   },
   {
    "duration": 11,
    "start_time": "2024-04-23T11:30:27.657Z"
   },
   {
    "duration": 282,
    "start_time": "2024-04-23T11:30:29.133Z"
   },
   {
    "duration": 421,
    "start_time": "2024-04-23T11:30:30.003Z"
   },
   {
    "duration": 134,
    "start_time": "2024-04-23T11:30:32.046Z"
   },
   {
    "duration": 13,
    "start_time": "2024-04-23T11:30:32.703Z"
   },
   {
    "duration": 86,
    "start_time": "2024-04-23T11:30:33.341Z"
   },
   {
    "duration": 141,
    "start_time": "2024-04-23T11:30:39.191Z"
   },
   {
    "duration": 8,
    "start_time": "2024-04-23T11:30:39.905Z"
   },
   {
    "duration": 3,
    "start_time": "2024-04-23T11:30:41.051Z"
   },
   {
    "duration": 35,
    "start_time": "2024-04-23T11:30:45.642Z"
   },
   {
    "duration": 15,
    "start_time": "2024-04-23T11:30:47.236Z"
   },
   {
    "duration": 5,
    "start_time": "2024-04-23T11:31:01.342Z"
   },
   {
    "duration": 3,
    "start_time": "2024-04-23T11:31:53.221Z"
   },
   {
    "duration": 4,
    "start_time": "2024-04-23T11:31:54.200Z"
   },
   {
    "duration": 5,
    "start_time": "2024-04-23T11:32:08.399Z"
   },
   {
    "duration": 5,
    "start_time": "2024-04-23T11:32:12.020Z"
   },
   {
    "duration": 11082,
    "start_time": "2024-04-23T11:32:40.272Z"
   },
   {
    "duration": 12611,
    "start_time": "2024-04-23T11:33:12.462Z"
   },
   {
    "duration": 15427,
    "start_time": "2024-04-23T11:33:38.447Z"
   },
   {
    "duration": 30052,
    "start_time": "2024-04-23T11:34:30.123Z"
   },
   {
    "duration": 26902,
    "start_time": "2024-04-23T11:35:52.081Z"
   },
   {
    "duration": 4234,
    "start_time": "2024-04-23T11:39:05.766Z"
   },
   {
    "duration": 10147,
    "start_time": "2024-04-23T11:43:17.923Z"
   },
   {
    "duration": 95,
    "start_time": "2024-04-23T12:01:25.990Z"
   },
   {
    "duration": 78,
    "start_time": "2024-04-23T12:01:51.512Z"
   },
   {
    "duration": 120,
    "start_time": "2024-04-23T12:01:59.052Z"
   },
   {
    "duration": 1600,
    "start_time": "2024-04-23T12:02:07.574Z"
   },
   {
    "duration": 1717,
    "start_time": "2024-04-23T12:11:14.084Z"
   },
   {
    "duration": 3,
    "start_time": "2024-04-23T12:18:41.409Z"
   },
   {
    "duration": 13,
    "start_time": "2024-04-23T12:18:45.552Z"
   },
   {
    "duration": 1985,
    "start_time": "2024-04-23T12:49:04.733Z"
   },
   {
    "duration": 939,
    "start_time": "2024-04-23T12:49:06.720Z"
   },
   {
    "duration": 17,
    "start_time": "2024-04-23T12:49:07.662Z"
   },
   {
    "duration": 163,
    "start_time": "2024-04-23T12:49:07.681Z"
   },
   {
    "duration": 106,
    "start_time": "2024-04-23T12:49:07.846Z"
   },
   {
    "duration": 509,
    "start_time": "2024-04-23T12:49:07.953Z"
   },
   {
    "duration": 521,
    "start_time": "2024-04-23T12:49:08.464Z"
   },
   {
    "duration": 149,
    "start_time": "2024-04-23T12:49:08.987Z"
   },
   {
    "duration": 42,
    "start_time": "2024-04-23T12:49:09.138Z"
   },
   {
    "duration": 4,
    "start_time": "2024-04-23T12:49:09.182Z"
   },
   {
    "duration": 4,
    "start_time": "2024-04-23T12:49:09.188Z"
   },
   {
    "duration": 13,
    "start_time": "2024-04-23T12:49:09.193Z"
   },
   {
    "duration": 119,
    "start_time": "2024-04-23T12:49:09.207Z"
   },
   {
    "duration": 99,
    "start_time": "2024-04-23T12:49:09.329Z"
   },
   {
    "duration": 9,
    "start_time": "2024-04-23T12:49:09.429Z"
   },
   {
    "duration": 33,
    "start_time": "2024-04-23T12:49:09.458Z"
   },
   {
    "duration": 458,
    "start_time": "2024-04-23T12:49:09.493Z"
   },
   {
    "duration": 226,
    "start_time": "2024-04-23T12:49:09.958Z"
   },
   {
    "duration": 16,
    "start_time": "2024-04-23T12:49:10.186Z"
   },
   {
    "duration": 12,
    "start_time": "2024-04-23T12:49:10.203Z"
   },
   {
    "duration": 54,
    "start_time": "2024-04-23T12:49:10.216Z"
   },
   {
    "duration": 952,
    "start_time": "2024-04-23T12:49:10.272Z"
   },
   {
    "duration": 145,
    "start_time": "2024-04-23T12:49:11.226Z"
   },
   {
    "duration": 8,
    "start_time": "2024-04-23T12:49:11.373Z"
   },
   {
    "duration": 38,
    "start_time": "2024-04-23T12:49:11.383Z"
   },
   {
    "duration": 257,
    "start_time": "2024-04-23T12:49:11.422Z"
   },
   {
    "duration": 216,
    "start_time": "2024-04-23T12:49:11.681Z"
   },
   {
    "duration": 12,
    "start_time": "2024-04-23T12:49:11.899Z"
   },
   {
    "duration": 339,
    "start_time": "2024-04-23T12:49:11.913Z"
   },
   {
    "duration": 413,
    "start_time": "2024-04-23T12:49:12.254Z"
   },
   {
    "duration": 136,
    "start_time": "2024-04-23T12:49:12.669Z"
   },
   {
    "duration": 12,
    "start_time": "2024-04-23T12:49:12.807Z"
   },
   {
    "duration": 99,
    "start_time": "2024-04-23T12:49:12.821Z"
   },
   {
    "duration": 3,
    "start_time": "2024-04-23T12:49:12.922Z"
   },
   {
    "duration": 167,
    "start_time": "2024-04-23T12:49:12.926Z"
   },
   {
    "duration": 8,
    "start_time": "2024-04-23T12:49:13.094Z"
   },
   {
    "duration": 16,
    "start_time": "2024-04-23T12:49:13.104Z"
   },
   {
    "duration": 33,
    "start_time": "2024-04-23T12:49:13.122Z"
   },
   {
    "duration": 15,
    "start_time": "2024-04-23T12:49:13.156Z"
   },
   {
    "duration": 5,
    "start_time": "2024-04-23T12:49:13.173Z"
   },
   {
    "duration": 4,
    "start_time": "2024-04-23T12:49:13.182Z"
   },
   {
    "duration": 4,
    "start_time": "2024-04-23T12:49:13.187Z"
   },
   {
    "duration": 9,
    "start_time": "2024-04-23T12:49:13.192Z"
   },
   {
    "duration": 9,
    "start_time": "2024-04-23T12:49:13.202Z"
   },
   {
    "duration": 8447,
    "start_time": "2024-04-23T12:49:13.212Z"
   },
   {
    "duration": 0,
    "start_time": "2024-04-23T12:49:21.662Z"
   },
   {
    "duration": 0,
    "start_time": "2024-04-23T12:49:21.663Z"
   },
   {
    "duration": 0,
    "start_time": "2024-04-23T12:49:21.665Z"
   },
   {
    "duration": 0,
    "start_time": "2024-04-23T12:49:21.667Z"
   },
   {
    "duration": 0,
    "start_time": "2024-04-23T12:49:21.669Z"
   },
   {
    "duration": 0,
    "start_time": "2024-04-23T12:49:21.670Z"
   },
   {
    "duration": 11205,
    "start_time": "2024-04-23T12:55:56.169Z"
   },
   {
    "duration": 11665,
    "start_time": "2024-04-23T12:56:27.814Z"
   },
   {
    "duration": 28859,
    "start_time": "2024-04-23T12:57:11.517Z"
   },
   {
    "duration": 4313,
    "start_time": "2024-04-23T12:57:40.378Z"
   },
   {
    "duration": 9759,
    "start_time": "2024-04-23T12:57:44.692Z"
   },
   {
    "duration": 5,
    "start_time": "2024-04-23T12:57:54.453Z"
   },
   {
    "duration": 31,
    "start_time": "2024-04-23T12:57:54.460Z"
   },
   {
    "duration": 0,
    "start_time": "2024-04-23T12:57:54.492Z"
   },
   {
    "duration": 1807,
    "start_time": "2024-04-23T12:59:45.933Z"
   },
   {
    "duration": 10887,
    "start_time": "2024-04-23T13:00:00.016Z"
   },
   {
    "duration": 13932,
    "start_time": "2024-04-23T13:00:26.796Z"
   },
   {
    "duration": 3971,
    "start_time": "2024-04-23T13:01:24.652Z"
   },
   {
    "duration": 39440,
    "start_time": "2024-04-23T13:01:39.946Z"
   },
   {
    "duration": 12677,
    "start_time": "2024-04-23T13:02:32.194Z"
   },
   {
    "duration": 7831,
    "start_time": "2024-04-23T13:02:44.872Z"
   },
   {
    "duration": 7872,
    "start_time": "2024-04-23T13:03:02.976Z"
   },
   {
    "duration": 7760,
    "start_time": "2024-04-23T13:03:26.705Z"
   },
   {
    "duration": 60043,
    "start_time": "2024-04-23T13:07:14.460Z"
   },
   {
    "duration": 58824,
    "start_time": "2024-04-23T13:09:56.776Z"
   },
   {
    "duration": 79324,
    "start_time": "2024-04-23T13:11:27.783Z"
   },
   {
    "duration": 7419,
    "start_time": "2024-04-23T13:19:27.762Z"
   },
   {
    "duration": 14279,
    "start_time": "2024-04-23T13:19:45.298Z"
   },
   {
    "duration": 15036,
    "start_time": "2024-04-23T13:20:30.173Z"
   },
   {
    "duration": 14259,
    "start_time": "2024-04-23T13:25:39.345Z"
   },
   {
    "duration": 55872,
    "start_time": "2024-04-23T13:26:22.993Z"
   },
   {
    "duration": 3223,
    "start_time": "2024-04-23T13:28:32.457Z"
   },
   {
    "duration": 5151,
    "start_time": "2024-04-23T13:29:16.873Z"
   },
   {
    "duration": 8283,
    "start_time": "2024-04-23T13:29:42.565Z"
   },
   {
    "duration": 8366,
    "start_time": "2024-04-23T13:30:04.303Z"
   },
   {
    "duration": 103,
    "start_time": "2024-04-23T13:33:02.403Z"
   },
   {
    "duration": 5383,
    "start_time": "2024-04-23T13:41:10.562Z"
   },
   {
    "duration": 8618,
    "start_time": "2024-04-23T13:41:25.821Z"
   },
   {
    "duration": 10839,
    "start_time": "2024-04-23T13:46:02.427Z"
   },
   {
    "duration": 119,
    "start_time": "2024-04-23T13:47:55.453Z"
   },
   {
    "duration": 93,
    "start_time": "2024-04-23T13:48:11.753Z"
   },
   {
    "duration": 0,
    "start_time": "2024-04-23T13:48:32.171Z"
   },
   {
    "duration": 10,
    "start_time": "2024-04-23T13:50:25.315Z"
   },
   {
    "duration": 11,
    "start_time": "2024-04-23T13:50:53.709Z"
   },
   {
    "duration": 16572,
    "start_time": "2024-04-23T13:51:12.992Z"
   },
   {
    "duration": 13091,
    "start_time": "2024-04-23T13:55:16.183Z"
   },
   {
    "duration": 4824,
    "start_time": "2024-04-23T13:56:03.039Z"
   },
   {
    "duration": 4351,
    "start_time": "2024-04-23T13:56:40.272Z"
   },
   {
    "duration": 109,
    "start_time": "2024-04-23T14:12:52.967Z"
   },
   {
    "duration": 122,
    "start_time": "2024-04-23T14:13:12.776Z"
   },
   {
    "duration": 0,
    "start_time": "2024-04-23T14:13:12.901Z"
   },
   {
    "duration": 0,
    "start_time": "2024-04-23T14:13:12.902Z"
   },
   {
    "duration": 0,
    "start_time": "2024-04-23T14:13:12.903Z"
   },
   {
    "duration": 0,
    "start_time": "2024-04-23T14:13:12.904Z"
   },
   {
    "duration": 0,
    "start_time": "2024-04-23T14:13:12.905Z"
   },
   {
    "duration": 0,
    "start_time": "2024-04-23T14:13:12.906Z"
   },
   {
    "duration": 0,
    "start_time": "2024-04-23T14:13:12.907Z"
   },
   {
    "duration": 0,
    "start_time": "2024-04-23T14:13:12.908Z"
   },
   {
    "duration": 0,
    "start_time": "2024-04-23T14:13:12.908Z"
   },
   {
    "duration": 0,
    "start_time": "2024-04-23T14:13:12.910Z"
   },
   {
    "duration": 0,
    "start_time": "2024-04-23T14:13:12.911Z"
   },
   {
    "duration": 0,
    "start_time": "2024-04-23T14:13:12.912Z"
   },
   {
    "duration": 0,
    "start_time": "2024-04-23T14:13:12.913Z"
   },
   {
    "duration": 0,
    "start_time": "2024-04-23T14:13:12.914Z"
   },
   {
    "duration": 0,
    "start_time": "2024-04-23T14:13:12.914Z"
   },
   {
    "duration": 0,
    "start_time": "2024-04-23T14:13:12.915Z"
   },
   {
    "duration": 0,
    "start_time": "2024-04-23T14:13:12.917Z"
   },
   {
    "duration": 0,
    "start_time": "2024-04-23T14:13:12.918Z"
   },
   {
    "duration": 0,
    "start_time": "2024-04-23T14:13:12.919Z"
   },
   {
    "duration": 0,
    "start_time": "2024-04-23T14:13:12.920Z"
   },
   {
    "duration": 0,
    "start_time": "2024-04-23T14:13:12.921Z"
   },
   {
    "duration": 0,
    "start_time": "2024-04-23T14:13:12.922Z"
   },
   {
    "duration": 0,
    "start_time": "2024-04-23T14:13:12.923Z"
   },
   {
    "duration": 0,
    "start_time": "2024-04-23T14:13:12.924Z"
   },
   {
    "duration": 0,
    "start_time": "2024-04-23T14:13:12.925Z"
   },
   {
    "duration": 0,
    "start_time": "2024-04-23T14:13:12.926Z"
   },
   {
    "duration": 0,
    "start_time": "2024-04-23T14:13:12.927Z"
   },
   {
    "duration": 0,
    "start_time": "2024-04-23T14:13:12.927Z"
   },
   {
    "duration": 0,
    "start_time": "2024-04-23T14:13:12.928Z"
   },
   {
    "duration": 0,
    "start_time": "2024-04-23T14:13:12.929Z"
   },
   {
    "duration": 0,
    "start_time": "2024-04-23T14:13:12.930Z"
   },
   {
    "duration": 0,
    "start_time": "2024-04-23T14:13:12.931Z"
   },
   {
    "duration": 0,
    "start_time": "2024-04-23T14:13:12.932Z"
   },
   {
    "duration": 0,
    "start_time": "2024-04-23T14:13:12.933Z"
   },
   {
    "duration": 0,
    "start_time": "2024-04-23T14:13:12.934Z"
   },
   {
    "duration": 0,
    "start_time": "2024-04-23T14:13:12.935Z"
   },
   {
    "duration": 0,
    "start_time": "2024-04-23T14:13:12.936Z"
   },
   {
    "duration": 0,
    "start_time": "2024-04-23T14:13:12.937Z"
   },
   {
    "duration": 0,
    "start_time": "2024-04-23T14:13:12.958Z"
   },
   {
    "duration": 0,
    "start_time": "2024-04-23T14:13:12.960Z"
   },
   {
    "duration": 0,
    "start_time": "2024-04-23T14:13:12.961Z"
   },
   {
    "duration": 0,
    "start_time": "2024-04-23T14:13:12.962Z"
   },
   {
    "duration": 0,
    "start_time": "2024-04-23T14:13:12.963Z"
   },
   {
    "duration": 0,
    "start_time": "2024-04-23T14:13:12.964Z"
   },
   {
    "duration": 0,
    "start_time": "2024-04-23T14:13:12.965Z"
   },
   {
    "duration": 0,
    "start_time": "2024-04-23T14:13:12.966Z"
   },
   {
    "duration": 0,
    "start_time": "2024-04-23T14:13:12.967Z"
   },
   {
    "duration": 1,
    "start_time": "2024-04-23T14:13:12.967Z"
   },
   {
    "duration": 0,
    "start_time": "2024-04-23T14:13:12.968Z"
   },
   {
    "duration": 0,
    "start_time": "2024-04-23T14:13:12.969Z"
   },
   {
    "duration": 0,
    "start_time": "2024-04-23T14:13:12.971Z"
   },
   {
    "duration": 0,
    "start_time": "2024-04-23T14:13:12.971Z"
   },
   {
    "duration": 1,
    "start_time": "2024-04-23T14:13:12.972Z"
   },
   {
    "duration": 1682,
    "start_time": "2024-04-23T14:13:26.818Z"
   },
   {
    "duration": 1812,
    "start_time": "2024-04-23T14:13:40.038Z"
   },
   {
    "duration": 1045,
    "start_time": "2024-04-23T14:13:41.851Z"
   },
   {
    "duration": 16,
    "start_time": "2024-04-23T14:13:42.898Z"
   },
   {
    "duration": 172,
    "start_time": "2024-04-23T14:13:42.916Z"
   },
   {
    "duration": 119,
    "start_time": "2024-04-23T14:13:43.090Z"
   },
   {
    "duration": 559,
    "start_time": "2024-04-23T14:13:43.211Z"
   },
   {
    "duration": 575,
    "start_time": "2024-04-23T14:13:43.772Z"
   },
   {
    "duration": 145,
    "start_time": "2024-04-23T14:13:44.348Z"
   },
   {
    "duration": 34,
    "start_time": "2024-04-23T14:13:44.495Z"
   },
   {
    "duration": 16,
    "start_time": "2024-04-23T14:13:44.531Z"
   },
   {
    "duration": 12,
    "start_time": "2024-04-23T14:13:44.549Z"
   },
   {
    "duration": 18,
    "start_time": "2024-04-23T14:13:44.563Z"
   },
   {
    "duration": 108,
    "start_time": "2024-04-23T14:13:44.583Z"
   },
   {
    "duration": 101,
    "start_time": "2024-04-23T14:13:44.694Z"
   },
   {
    "duration": 21,
    "start_time": "2024-04-23T14:13:44.796Z"
   },
   {
    "duration": 30,
    "start_time": "2024-04-23T14:13:44.819Z"
   },
   {
    "duration": 491,
    "start_time": "2024-04-23T14:13:44.851Z"
   },
   {
    "duration": 236,
    "start_time": "2024-04-23T14:13:45.344Z"
   },
   {
    "duration": 17,
    "start_time": "2024-04-23T14:13:45.581Z"
   },
   {
    "duration": 26,
    "start_time": "2024-04-23T14:13:45.600Z"
   },
   {
    "duration": 43,
    "start_time": "2024-04-23T14:13:45.627Z"
   },
   {
    "duration": 970,
    "start_time": "2024-04-23T14:13:45.672Z"
   },
   {
    "duration": 159,
    "start_time": "2024-04-23T14:13:46.644Z"
   },
   {
    "duration": 8,
    "start_time": "2024-04-23T14:13:46.805Z"
   },
   {
    "duration": 54,
    "start_time": "2024-04-23T14:13:46.814Z"
   },
   {
    "duration": 229,
    "start_time": "2024-04-23T14:13:46.870Z"
   },
   {
    "duration": 215,
    "start_time": "2024-04-23T14:13:47.101Z"
   },
   {
    "duration": 12,
    "start_time": "2024-04-23T14:13:47.318Z"
   },
   {
    "duration": 302,
    "start_time": "2024-04-23T14:13:47.332Z"
   },
   {
    "duration": 428,
    "start_time": "2024-04-23T14:13:47.636Z"
   },
   {
    "duration": 144,
    "start_time": "2024-04-23T14:13:48.066Z"
   },
   {
    "duration": 13,
    "start_time": "2024-04-23T14:13:48.212Z"
   },
   {
    "duration": 101,
    "start_time": "2024-04-23T14:13:48.227Z"
   },
   {
    "duration": 71,
    "start_time": "2024-04-23T14:13:48.330Z"
   },
   {
    "duration": 3,
    "start_time": "2024-04-23T14:13:48.402Z"
   },
   {
    "duration": 159,
    "start_time": "2024-04-23T14:13:48.407Z"
   },
   {
    "duration": 8,
    "start_time": "2024-04-23T14:13:48.568Z"
   },
   {
    "duration": 3,
    "start_time": "2024-04-23T14:13:48.578Z"
   },
   {
    "duration": 46,
    "start_time": "2024-04-23T14:13:48.582Z"
   },
   {
    "duration": 16,
    "start_time": "2024-04-23T14:13:48.630Z"
   },
   {
    "duration": 4,
    "start_time": "2024-04-23T14:13:48.663Z"
   },
   {
    "duration": 17,
    "start_time": "2024-04-23T14:13:48.669Z"
   },
   {
    "duration": 7,
    "start_time": "2024-04-23T14:13:48.687Z"
   },
   {
    "duration": 5,
    "start_time": "2024-04-23T14:13:48.696Z"
   },
   {
    "duration": 8,
    "start_time": "2024-04-23T14:13:48.703Z"
   },
   {
    "duration": 11759,
    "start_time": "2024-04-23T14:13:48.713Z"
   },
   {
    "duration": 28603,
    "start_time": "2024-04-23T14:14:00.474Z"
   },
   {
    "duration": 4904,
    "start_time": "2024-04-23T14:14:29.079Z"
   },
   {
    "duration": 11115,
    "start_time": "2024-04-23T14:14:33.985Z"
   },
   {
    "duration": 3,
    "start_time": "2024-04-23T14:14:45.102Z"
   },
   {
    "duration": 5633,
    "start_time": "2024-04-23T14:14:45.106Z"
   },
   {
    "duration": 9186,
    "start_time": "2024-04-23T14:14:50.741Z"
   },
   {
    "duration": 11853,
    "start_time": "2024-04-23T14:14:59.928Z"
   },
   {
    "duration": 4853,
    "start_time": "2024-04-23T14:15:11.783Z"
   },
   {
    "duration": 1604,
    "start_time": "2024-04-23T14:35:29.344Z"
   },
   {
    "duration": 988,
    "start_time": "2024-04-23T14:35:30.950Z"
   },
   {
    "duration": 21,
    "start_time": "2024-04-23T14:35:31.939Z"
   },
   {
    "duration": 240,
    "start_time": "2024-04-23T14:35:31.961Z"
   },
   {
    "duration": 109,
    "start_time": "2024-04-23T14:35:32.204Z"
   },
   {
    "duration": 508,
    "start_time": "2024-04-23T14:35:32.315Z"
   },
   {
    "duration": 537,
    "start_time": "2024-04-23T14:35:32.825Z"
   },
   {
    "duration": 152,
    "start_time": "2024-04-23T14:35:33.364Z"
   },
   {
    "duration": 50,
    "start_time": "2024-04-23T14:35:33.517Z"
   },
   {
    "duration": 5,
    "start_time": "2024-04-23T14:35:33.569Z"
   },
   {
    "duration": 9,
    "start_time": "2024-04-23T14:35:33.576Z"
   },
   {
    "duration": 26,
    "start_time": "2024-04-23T14:35:33.587Z"
   },
   {
    "duration": 119,
    "start_time": "2024-04-23T14:35:33.614Z"
   },
   {
    "duration": 122,
    "start_time": "2024-04-23T14:35:33.736Z"
   },
   {
    "duration": 14,
    "start_time": "2024-04-23T14:35:33.860Z"
   },
   {
    "duration": 37,
    "start_time": "2024-04-23T14:35:33.875Z"
   },
   {
    "duration": 462,
    "start_time": "2024-04-23T14:35:33.914Z"
   },
   {
    "duration": 226,
    "start_time": "2024-04-23T14:35:34.378Z"
   },
   {
    "duration": 15,
    "start_time": "2024-04-23T14:35:34.606Z"
   },
   {
    "duration": 15,
    "start_time": "2024-04-23T14:35:34.623Z"
   },
   {
    "duration": 36,
    "start_time": "2024-04-23T14:35:34.639Z"
   },
   {
    "duration": 992,
    "start_time": "2024-04-23T14:35:34.677Z"
   },
   {
    "duration": 146,
    "start_time": "2024-04-23T14:35:35.671Z"
   },
   {
    "duration": 8,
    "start_time": "2024-04-23T14:35:35.819Z"
   },
   {
    "duration": 52,
    "start_time": "2024-04-23T14:35:35.829Z"
   },
   {
    "duration": 239,
    "start_time": "2024-04-23T14:35:35.883Z"
   },
   {
    "duration": 207,
    "start_time": "2024-04-23T14:35:36.124Z"
   },
   {
    "duration": 12,
    "start_time": "2024-04-23T14:35:36.332Z"
   },
   {
    "duration": 293,
    "start_time": "2024-04-23T14:35:36.358Z"
   },
   {
    "duration": 413,
    "start_time": "2024-04-23T14:35:36.653Z"
   },
   {
    "duration": 138,
    "start_time": "2024-04-23T14:35:37.068Z"
   },
   {
    "duration": 14,
    "start_time": "2024-04-23T14:35:37.207Z"
   },
   {
    "duration": 97,
    "start_time": "2024-04-23T14:35:37.223Z"
   },
   {
    "duration": 3,
    "start_time": "2024-04-23T14:35:37.321Z"
   },
   {
    "duration": 151,
    "start_time": "2024-04-23T14:35:37.325Z"
   },
   {
    "duration": 9,
    "start_time": "2024-04-23T14:35:37.478Z"
   },
   {
    "duration": 8,
    "start_time": "2024-04-23T14:35:37.489Z"
   },
   {
    "duration": 33,
    "start_time": "2024-04-23T14:35:37.499Z"
   },
   {
    "duration": 30,
    "start_time": "2024-04-23T14:35:37.533Z"
   },
   {
    "duration": 4,
    "start_time": "2024-04-23T14:35:37.565Z"
   },
   {
    "duration": 3,
    "start_time": "2024-04-23T14:35:37.573Z"
   },
   {
    "duration": 18,
    "start_time": "2024-04-23T14:35:37.578Z"
   },
   {
    "duration": 6,
    "start_time": "2024-04-23T14:35:37.598Z"
   },
   {
    "duration": 9,
    "start_time": "2024-04-23T14:35:37.605Z"
   },
   {
    "duration": 12160,
    "start_time": "2024-04-23T14:35:37.616Z"
   },
   {
    "duration": 27383,
    "start_time": "2024-04-23T14:35:49.777Z"
   },
   {
    "duration": 4402,
    "start_time": "2024-04-23T14:36:17.162Z"
   },
   {
    "duration": 10376,
    "start_time": "2024-04-23T14:36:21.565Z"
   },
   {
    "duration": 2,
    "start_time": "2024-04-23T14:36:31.943Z"
   },
   {
    "duration": 5517,
    "start_time": "2024-04-23T14:36:31.947Z"
   },
   {
    "duration": 8183,
    "start_time": "2024-04-23T14:36:37.465Z"
   },
   {
    "duration": 11419,
    "start_time": "2024-04-23T14:36:45.649Z"
   },
   {
    "duration": 4571,
    "start_time": "2024-04-23T14:36:57.069Z"
   },
   {
    "duration": 93,
    "start_time": "2024-04-23T14:41:18.491Z"
   },
   {
    "duration": 1718,
    "start_time": "2024-04-23T14:44:24.029Z"
   },
   {
    "duration": 935,
    "start_time": "2024-04-23T14:44:25.749Z"
   },
   {
    "duration": 17,
    "start_time": "2024-04-23T14:44:26.686Z"
   },
   {
    "duration": 188,
    "start_time": "2024-04-23T14:44:26.705Z"
   },
   {
    "duration": 105,
    "start_time": "2024-04-23T14:44:26.895Z"
   },
   {
    "duration": 494,
    "start_time": "2024-04-23T14:44:27.001Z"
   },
   {
    "duration": 522,
    "start_time": "2024-04-23T14:44:27.497Z"
   },
   {
    "duration": 163,
    "start_time": "2024-04-23T14:44:28.021Z"
   },
   {
    "duration": 35,
    "start_time": "2024-04-23T14:44:28.185Z"
   },
   {
    "duration": 3,
    "start_time": "2024-04-23T14:44:28.223Z"
   },
   {
    "duration": 29,
    "start_time": "2024-04-23T14:44:28.227Z"
   },
   {
    "duration": 21,
    "start_time": "2024-04-23T14:44:28.258Z"
   },
   {
    "duration": 130,
    "start_time": "2024-04-23T14:44:28.281Z"
   },
   {
    "duration": 97,
    "start_time": "2024-04-23T14:44:28.412Z"
   },
   {
    "duration": 17,
    "start_time": "2024-04-23T14:44:28.510Z"
   },
   {
    "duration": 44,
    "start_time": "2024-04-23T14:44:28.529Z"
   },
   {
    "duration": 444,
    "start_time": "2024-04-23T14:44:28.575Z"
   },
   {
    "duration": 214,
    "start_time": "2024-04-23T14:44:29.020Z"
   },
   {
    "duration": 23,
    "start_time": "2024-04-23T14:44:29.236Z"
   },
   {
    "duration": 16,
    "start_time": "2024-04-23T14:44:29.261Z"
   },
   {
    "duration": 44,
    "start_time": "2024-04-23T14:44:29.278Z"
   },
   {
    "duration": 993,
    "start_time": "2024-04-23T14:44:29.324Z"
   },
   {
    "duration": 143,
    "start_time": "2024-04-23T14:44:30.319Z"
   },
   {
    "duration": 133,
    "start_time": "2024-04-23T14:44:30.464Z"
   },
   {
    "duration": 91,
    "start_time": "2024-04-23T14:44:30.599Z"
   },
   {
    "duration": 326,
    "start_time": "2024-04-23T14:44:30.692Z"
   },
   {
    "duration": 216,
    "start_time": "2024-04-23T14:44:31.020Z"
   },
   {
    "duration": 17,
    "start_time": "2024-04-23T14:44:31.241Z"
   },
   {
    "duration": 421,
    "start_time": "2024-04-23T14:44:31.260Z"
   },
   {
    "duration": 434,
    "start_time": "2024-04-23T14:44:31.682Z"
   },
   {
    "duration": 130,
    "start_time": "2024-04-23T14:44:32.118Z"
   },
   {
    "duration": 104,
    "start_time": "2024-04-23T14:44:32.259Z"
   },
   {
    "duration": 103,
    "start_time": "2024-04-23T14:44:32.365Z"
   },
   {
    "duration": 16,
    "start_time": "2024-04-23T14:44:32.469Z"
   },
   {
    "duration": 173,
    "start_time": "2024-04-23T14:44:32.487Z"
   },
   {
    "duration": 9,
    "start_time": "2024-04-23T14:44:32.661Z"
   },
   {
    "duration": 206,
    "start_time": "2024-04-23T14:44:32.671Z"
   },
   {
    "duration": 81,
    "start_time": "2024-04-23T14:44:32.879Z"
   },
   {
    "duration": 13,
    "start_time": "2024-04-23T14:44:32.961Z"
   },
   {
    "duration": 15,
    "start_time": "2024-04-23T14:44:32.975Z"
   },
   {
    "duration": 9,
    "start_time": "2024-04-23T14:44:32.992Z"
   },
   {
    "duration": 21,
    "start_time": "2024-04-23T14:44:33.002Z"
   },
   {
    "duration": 45,
    "start_time": "2024-04-23T14:44:33.025Z"
   },
   {
    "duration": 15,
    "start_time": "2024-04-23T14:44:33.071Z"
   },
   {
    "duration": 11679,
    "start_time": "2024-04-23T14:44:33.087Z"
   },
   {
    "duration": 27005,
    "start_time": "2024-04-23T14:44:44.768Z"
   },
   {
    "duration": 4570,
    "start_time": "2024-04-23T14:45:11.774Z"
   },
   {
    "duration": 10499,
    "start_time": "2024-04-23T14:45:16.345Z"
   },
   {
    "duration": 3,
    "start_time": "2024-04-23T14:45:26.846Z"
   },
   {
    "duration": 5898,
    "start_time": "2024-04-23T14:45:26.850Z"
   },
   {
    "duration": 8559,
    "start_time": "2024-04-23T14:45:32.750Z"
   },
   {
    "duration": 11866,
    "start_time": "2024-04-23T14:45:41.311Z"
   },
   {
    "duration": 4368,
    "start_time": "2024-04-23T14:45:53.178Z"
   },
   {
    "duration": 55,
    "start_time": "2024-04-24T06:25:03.177Z"
   },
   {
    "duration": 7,
    "start_time": "2024-04-24T06:32:26.995Z"
   },
   {
    "duration": 8,
    "start_time": "2024-04-24T06:52:20.795Z"
   },
   {
    "duration": 1821,
    "start_time": "2024-04-24T06:52:32.028Z"
   },
   {
    "duration": 1278,
    "start_time": "2024-04-24T06:52:33.852Z"
   },
   {
    "duration": 16,
    "start_time": "2024-04-24T06:52:35.132Z"
   },
   {
    "duration": 177,
    "start_time": "2024-04-24T06:52:35.150Z"
   },
   {
    "duration": 118,
    "start_time": "2024-04-24T06:52:35.330Z"
   },
   {
    "duration": 537,
    "start_time": "2024-04-24T06:52:35.450Z"
   },
   {
    "duration": 560,
    "start_time": "2024-04-24T06:52:35.989Z"
   },
   {
    "duration": 165,
    "start_time": "2024-04-24T06:52:36.551Z"
   },
   {
    "duration": 36,
    "start_time": "2024-04-24T06:52:36.719Z"
   },
   {
    "duration": 29,
    "start_time": "2024-04-24T06:52:36.758Z"
   },
   {
    "duration": 23,
    "start_time": "2024-04-24T06:52:36.789Z"
   },
   {
    "duration": 19,
    "start_time": "2024-04-24T06:52:36.814Z"
   },
   {
    "duration": 111,
    "start_time": "2024-04-24T06:52:36.835Z"
   },
   {
    "duration": 108,
    "start_time": "2024-04-24T06:52:36.956Z"
   },
   {
    "duration": 21,
    "start_time": "2024-04-24T06:52:37.065Z"
   },
   {
    "duration": 32,
    "start_time": "2024-04-24T06:52:37.088Z"
   },
   {
    "duration": 498,
    "start_time": "2024-04-24T06:52:37.122Z"
   },
   {
    "duration": 242,
    "start_time": "2024-04-24T06:52:37.622Z"
   },
   {
    "duration": 23,
    "start_time": "2024-04-24T06:52:37.866Z"
   },
   {
    "duration": 16,
    "start_time": "2024-04-24T06:52:37.890Z"
   },
   {
    "duration": 23,
    "start_time": "2024-04-24T06:52:37.908Z"
   },
   {
    "duration": 1070,
    "start_time": "2024-04-24T06:52:37.933Z"
   },
   {
    "duration": 4,
    "start_time": "2024-04-24T06:52:39.005Z"
   },
   {
    "duration": 193,
    "start_time": "2024-04-24T06:52:39.010Z"
   },
   {
    "duration": 13,
    "start_time": "2024-04-24T06:52:39.204Z"
   },
   {
    "duration": 162,
    "start_time": "2024-04-24T06:52:39.218Z"
   },
   {
    "duration": 8,
    "start_time": "2024-04-24T06:52:39.382Z"
   },
   {
    "duration": 112,
    "start_time": "2024-04-24T06:52:39.392Z"
   },
   {
    "duration": 219,
    "start_time": "2024-04-24T06:52:39.505Z"
   },
   {
    "duration": 227,
    "start_time": "2024-04-24T06:52:39.726Z"
   },
   {
    "duration": 13,
    "start_time": "2024-04-24T06:52:39.954Z"
   },
   {
    "duration": 19,
    "start_time": "2024-04-24T06:52:39.980Z"
   },
   {
    "duration": 365,
    "start_time": "2024-04-24T06:52:40.000Z"
   },
   {
    "duration": 519,
    "start_time": "2024-04-24T06:52:40.367Z"
   },
   {
    "duration": 146,
    "start_time": "2024-04-24T06:52:40.887Z"
   },
   {
    "duration": 46,
    "start_time": "2024-04-24T06:52:41.035Z"
   },
   {
    "duration": 105,
    "start_time": "2024-04-24T06:52:41.083Z"
   },
   {
    "duration": 12,
    "start_time": "2024-04-24T06:52:41.189Z"
   },
   {
    "duration": 204,
    "start_time": "2024-04-24T06:52:41.202Z"
   },
   {
    "duration": 12,
    "start_time": "2024-04-24T06:52:41.408Z"
   },
   {
    "duration": 32,
    "start_time": "2024-04-24T06:52:41.424Z"
   },
   {
    "duration": 55,
    "start_time": "2024-04-24T06:52:41.458Z"
   },
   {
    "duration": 18,
    "start_time": "2024-04-24T06:52:41.515Z"
   },
   {
    "duration": 5,
    "start_time": "2024-04-24T06:52:41.535Z"
   },
   {
    "duration": 10,
    "start_time": "2024-04-24T06:52:41.541Z"
   },
   {
    "duration": 28,
    "start_time": "2024-04-24T06:52:41.552Z"
   },
   {
    "duration": 5,
    "start_time": "2024-04-24T06:52:41.582Z"
   },
   {
    "duration": 18,
    "start_time": "2024-04-24T06:52:41.589Z"
   },
   {
    "duration": 163,
    "start_time": "2024-04-24T06:52:41.608Z"
   },
   {
    "duration": 0,
    "start_time": "2024-04-24T06:52:41.773Z"
   },
   {
    "duration": 0,
    "start_time": "2024-04-24T06:52:41.774Z"
   },
   {
    "duration": 0,
    "start_time": "2024-04-24T06:52:41.780Z"
   },
   {
    "duration": 0,
    "start_time": "2024-04-24T06:52:41.781Z"
   },
   {
    "duration": 0,
    "start_time": "2024-04-24T06:52:41.782Z"
   },
   {
    "duration": 0,
    "start_time": "2024-04-24T06:52:41.783Z"
   },
   {
    "duration": 0,
    "start_time": "2024-04-24T06:52:41.785Z"
   },
   {
    "duration": 0,
    "start_time": "2024-04-24T06:52:41.786Z"
   },
   {
    "duration": 10,
    "start_time": "2024-04-24T06:59:50.865Z"
   },
   {
    "duration": 5,
    "start_time": "2024-04-24T07:00:44.059Z"
   },
   {
    "duration": 105,
    "start_time": "2024-04-24T07:00:44.797Z"
   },
   {
    "duration": 11,
    "start_time": "2024-04-24T07:00:45.803Z"
   },
   {
    "duration": 109,
    "start_time": "2024-04-24T07:02:14.471Z"
   },
   {
    "duration": 13,
    "start_time": "2024-04-24T07:02:15.341Z"
   },
   {
    "duration": 10,
    "start_time": "2024-04-24T07:02:16.073Z"
   },
   {
    "duration": 27,
    "start_time": "2024-04-24T07:02:50.664Z"
   },
   {
    "duration": 9,
    "start_time": "2024-04-24T07:02:51.058Z"
   },
   {
    "duration": 1543,
    "start_time": "2024-04-24T07:02:56.752Z"
   },
   {
    "duration": 1729,
    "start_time": "2024-04-24T13:16:59.213Z"
   },
   {
    "duration": 1204,
    "start_time": "2024-04-24T13:17:00.944Z"
   },
   {
    "duration": 26,
    "start_time": "2024-04-24T13:17:02.149Z"
   },
   {
    "duration": 224,
    "start_time": "2024-04-24T13:17:02.178Z"
   },
   {
    "duration": 156,
    "start_time": "2024-04-24T13:17:02.404Z"
   },
   {
    "duration": 463,
    "start_time": "2024-04-24T13:17:02.563Z"
   },
   {
    "duration": 483,
    "start_time": "2024-04-24T13:17:03.027Z"
   },
   {
    "duration": 139,
    "start_time": "2024-04-24T13:17:03.512Z"
   },
   {
    "duration": 42,
    "start_time": "2024-04-24T13:17:03.653Z"
   },
   {
    "duration": 15,
    "start_time": "2024-04-24T13:17:03.698Z"
   },
   {
    "duration": 13,
    "start_time": "2024-04-24T13:17:03.715Z"
   },
   {
    "duration": 37,
    "start_time": "2024-04-24T13:17:03.730Z"
   },
   {
    "duration": 105,
    "start_time": "2024-04-24T13:17:03.769Z"
   },
   {
    "duration": 97,
    "start_time": "2024-04-24T13:17:03.875Z"
   },
   {
    "duration": 29,
    "start_time": "2024-04-24T13:17:03.974Z"
   },
   {
    "duration": 47,
    "start_time": "2024-04-24T13:17:04.004Z"
   },
   {
    "duration": 436,
    "start_time": "2024-04-24T13:17:04.053Z"
   },
   {
    "duration": 223,
    "start_time": "2024-04-24T13:17:04.491Z"
   },
   {
    "duration": 13,
    "start_time": "2024-04-24T13:17:04.716Z"
   },
   {
    "duration": 13,
    "start_time": "2024-04-24T13:17:04.730Z"
   },
   {
    "duration": 44,
    "start_time": "2024-04-24T13:17:04.744Z"
   },
   {
    "duration": 933,
    "start_time": "2024-04-24T13:17:04.790Z"
   },
   {
    "duration": 3,
    "start_time": "2024-04-24T13:17:05.725Z"
   },
   {
    "duration": 4,
    "start_time": "2024-04-24T13:17:11.022Z"
   },
   {
    "duration": 98,
    "start_time": "2024-04-24T13:17:13.822Z"
   },
   {
    "duration": 51,
    "start_time": "2024-04-24T13:17:16.719Z"
   },
   {
    "duration": 11,
    "start_time": "2024-04-24T13:17:18.841Z"
   },
   {
    "duration": 13,
    "start_time": "2024-04-24T13:20:35.387Z"
   },
   {
    "duration": 134,
    "start_time": "2024-04-24T13:20:37.096Z"
   },
   {
    "duration": 243,
    "start_time": "2024-04-24T13:26:02.626Z"
   },
   {
    "duration": 160,
    "start_time": "2024-04-24T13:26:11.540Z"
   },
   {
    "duration": 147,
    "start_time": "2024-04-24T13:26:37.871Z"
   },
   {
    "duration": 141,
    "start_time": "2024-04-24T13:26:48.537Z"
   },
   {
    "duration": 139,
    "start_time": "2024-04-24T13:27:01.541Z"
   },
   {
    "duration": 8,
    "start_time": "2024-04-24T13:27:02.926Z"
   },
   {
    "duration": 38,
    "start_time": "2024-04-24T13:27:33.757Z"
   },
   {
    "duration": 181,
    "start_time": "2024-04-24T13:27:58.173Z"
   },
   {
    "duration": 147,
    "start_time": "2024-04-24T13:28:07.854Z"
   },
   {
    "duration": 189,
    "start_time": "2024-04-24T13:28:16.610Z"
   },
   {
    "duration": 218,
    "start_time": "2024-04-24T13:28:26.224Z"
   },
   {
    "duration": 12,
    "start_time": "2024-04-24T13:28:30.743Z"
   },
   {
    "duration": 18,
    "start_time": "2024-04-24T13:28:36.970Z"
   },
   {
    "duration": 279,
    "start_time": "2024-04-24T13:28:39.410Z"
   },
   {
    "duration": 573,
    "start_time": "2024-04-24T13:28:43.452Z"
   },
   {
    "duration": 125,
    "start_time": "2024-04-24T13:28:54.199Z"
   },
   {
    "duration": 30,
    "start_time": "2024-04-24T13:28:57.978Z"
   },
   {
    "duration": 106,
    "start_time": "2024-04-24T13:28:59.097Z"
   },
   {
    "duration": 80,
    "start_time": "2024-04-24T13:42:34.261Z"
   },
   {
    "duration": 98,
    "start_time": "2024-04-24T13:42:45.579Z"
   },
   {
    "duration": 92,
    "start_time": "2024-04-24T13:42:50.268Z"
   },
   {
    "duration": 74,
    "start_time": "2024-04-24T13:43:52.500Z"
   },
   {
    "duration": 4547,
    "start_time": "2024-04-24T13:44:13.758Z"
   },
   {
    "duration": 2696,
    "start_time": "2024-04-24T13:44:29.978Z"
   },
   {
    "duration": 2652,
    "start_time": "2024-04-24T13:44:45.586Z"
   },
   {
    "duration": 17311,
    "start_time": "2024-04-24T13:49:26.734Z"
   },
   {
    "duration": 14,
    "start_time": "2024-04-24T13:50:11.396Z"
   },
   {
    "duration": 9,
    "start_time": "2024-04-24T13:50:30.772Z"
   },
   {
    "duration": 315,
    "start_time": "2024-04-24T13:51:39.522Z"
   },
   {
    "duration": 95,
    "start_time": "2024-04-24T13:53:27.433Z"
   },
   {
    "duration": 9,
    "start_time": "2024-04-24T13:54:00.752Z"
   },
   {
    "duration": 2475,
    "start_time": "2024-04-24T13:57:44.184Z"
   },
   {
    "duration": 29331,
    "start_time": "2024-04-24T13:58:42.519Z"
   },
   {
    "duration": 10,
    "start_time": "2024-04-24T14:00:08.773Z"
   },
   {
    "duration": 1607,
    "start_time": "2024-04-24T14:01:22.148Z"
   },
   {
    "duration": 948,
    "start_time": "2024-04-24T14:01:23.757Z"
   },
   {
    "duration": 113,
    "start_time": "2024-04-24T14:01:24.707Z"
   },
   {
    "duration": 0,
    "start_time": "2024-04-24T14:01:24.822Z"
   },
   {
    "duration": 0,
    "start_time": "2024-04-24T14:01:24.823Z"
   },
   {
    "duration": 0,
    "start_time": "2024-04-24T14:01:24.824Z"
   },
   {
    "duration": 0,
    "start_time": "2024-04-24T14:01:24.826Z"
   },
   {
    "duration": 0,
    "start_time": "2024-04-24T14:01:24.827Z"
   },
   {
    "duration": 0,
    "start_time": "2024-04-24T14:01:24.828Z"
   },
   {
    "duration": 0,
    "start_time": "2024-04-24T14:01:24.830Z"
   },
   {
    "duration": 0,
    "start_time": "2024-04-24T14:01:24.831Z"
   },
   {
    "duration": 0,
    "start_time": "2024-04-24T14:01:24.832Z"
   },
   {
    "duration": 0,
    "start_time": "2024-04-24T14:01:24.833Z"
   },
   {
    "duration": 0,
    "start_time": "2024-04-24T14:01:24.834Z"
   },
   {
    "duration": 0,
    "start_time": "2024-04-24T14:01:24.835Z"
   },
   {
    "duration": 0,
    "start_time": "2024-04-24T14:01:24.837Z"
   },
   {
    "duration": 0,
    "start_time": "2024-04-24T14:01:24.838Z"
   },
   {
    "duration": 0,
    "start_time": "2024-04-24T14:01:24.839Z"
   },
   {
    "duration": 0,
    "start_time": "2024-04-24T14:01:24.870Z"
   },
   {
    "duration": 0,
    "start_time": "2024-04-24T14:01:24.872Z"
   },
   {
    "duration": 0,
    "start_time": "2024-04-24T14:01:24.873Z"
   },
   {
    "duration": 0,
    "start_time": "2024-04-24T14:01:24.874Z"
   },
   {
    "duration": 0,
    "start_time": "2024-04-24T14:01:24.875Z"
   },
   {
    "duration": 0,
    "start_time": "2024-04-24T14:01:24.876Z"
   },
   {
    "duration": 0,
    "start_time": "2024-04-24T14:01:24.877Z"
   },
   {
    "duration": 0,
    "start_time": "2024-04-24T14:01:24.878Z"
   },
   {
    "duration": 1,
    "start_time": "2024-04-24T14:01:24.879Z"
   },
   {
    "duration": 0,
    "start_time": "2024-04-24T14:01:24.880Z"
   },
   {
    "duration": 0,
    "start_time": "2024-04-24T14:01:24.881Z"
   },
   {
    "duration": 0,
    "start_time": "2024-04-24T14:01:24.882Z"
   },
   {
    "duration": 0,
    "start_time": "2024-04-24T14:01:24.883Z"
   },
   {
    "duration": 0,
    "start_time": "2024-04-24T14:01:24.884Z"
   },
   {
    "duration": 0,
    "start_time": "2024-04-24T14:01:24.885Z"
   },
   {
    "duration": 0,
    "start_time": "2024-04-24T14:01:24.886Z"
   },
   {
    "duration": 0,
    "start_time": "2024-04-24T14:01:24.888Z"
   },
   {
    "duration": 0,
    "start_time": "2024-04-24T14:01:24.888Z"
   },
   {
    "duration": 0,
    "start_time": "2024-04-24T14:01:24.890Z"
   },
   {
    "duration": 1,
    "start_time": "2024-04-24T14:01:24.890Z"
   },
   {
    "duration": 0,
    "start_time": "2024-04-24T14:01:24.891Z"
   },
   {
    "duration": 45,
    "start_time": "2024-04-24T14:05:50.533Z"
   },
   {
    "duration": 914,
    "start_time": "2024-04-24T14:05:50.580Z"
   },
   {
    "duration": 16,
    "start_time": "2024-04-24T14:05:51.496Z"
   },
   {
    "duration": 148,
    "start_time": "2024-04-24T14:05:51.513Z"
   },
   {
    "duration": 107,
    "start_time": "2024-04-24T14:05:51.663Z"
   },
   {
    "duration": 473,
    "start_time": "2024-04-24T14:05:51.772Z"
   },
   {
    "duration": 487,
    "start_time": "2024-04-24T14:05:52.247Z"
   },
   {
    "duration": 143,
    "start_time": "2024-04-24T14:05:52.736Z"
   },
   {
    "duration": 34,
    "start_time": "2024-04-24T14:05:52.881Z"
   },
   {
    "duration": 7,
    "start_time": "2024-04-24T14:05:52.917Z"
   },
   {
    "duration": 11,
    "start_time": "2024-04-24T14:05:52.926Z"
   },
   {
    "duration": 28,
    "start_time": "2024-04-24T14:05:52.938Z"
   },
   {
    "duration": 117,
    "start_time": "2024-04-24T14:05:52.967Z"
   },
   {
    "duration": 95,
    "start_time": "2024-04-24T14:05:53.087Z"
   },
   {
    "duration": 14,
    "start_time": "2024-04-24T14:05:53.183Z"
   },
   {
    "duration": 25,
    "start_time": "2024-04-24T14:05:53.199Z"
   },
   {
    "duration": 459,
    "start_time": "2024-04-24T14:05:53.226Z"
   },
   {
    "duration": 207,
    "start_time": "2024-04-24T14:05:53.687Z"
   },
   {
    "duration": 14,
    "start_time": "2024-04-24T14:05:53.896Z"
   },
   {
    "duration": 19,
    "start_time": "2024-04-24T14:05:53.912Z"
   },
   {
    "duration": 28,
    "start_time": "2024-04-24T14:05:53.933Z"
   },
   {
    "duration": 911,
    "start_time": "2024-04-24T14:05:53.969Z"
   },
   {
    "duration": 2,
    "start_time": "2024-04-24T14:05:54.882Z"
   },
   {
    "duration": 103,
    "start_time": "2024-04-24T14:05:54.886Z"
   },
   {
    "duration": 58,
    "start_time": "2024-04-24T14:05:54.991Z"
   },
   {
    "duration": 22,
    "start_time": "2024-04-24T14:05:55.051Z"
   },
   {
    "duration": 146,
    "start_time": "2024-04-24T14:05:55.074Z"
   },
   {
    "duration": 8,
    "start_time": "2024-04-24T14:05:55.221Z"
   },
   {
    "duration": 52,
    "start_time": "2024-04-24T14:05:55.231Z"
   },
   {
    "duration": 196,
    "start_time": "2024-04-24T14:05:55.285Z"
   },
   {
    "duration": 204,
    "start_time": "2024-04-24T14:05:55.482Z"
   },
   {
    "duration": 12,
    "start_time": "2024-04-24T14:05:55.688Z"
   },
   {
    "duration": 21,
    "start_time": "2024-04-24T14:05:55.702Z"
   },
   {
    "duration": 286,
    "start_time": "2024-04-24T14:05:55.725Z"
   },
   {
    "duration": 490,
    "start_time": "2024-04-24T14:05:56.013Z"
   },
   {
    "duration": 124,
    "start_time": "2024-04-24T14:05:56.504Z"
   },
   {
    "duration": 14,
    "start_time": "2024-04-24T14:05:56.629Z"
   },
   {
    "duration": 108,
    "start_time": "2024-04-24T14:05:56.645Z"
   },
   {
    "duration": 4,
    "start_time": "2024-04-24T14:26:49.893Z"
   },
   {
    "duration": 3,
    "start_time": "2024-04-24T14:29:37.267Z"
   },
   {
    "duration": 24,
    "start_time": "2024-04-24T14:29:38.713Z"
   },
   {
    "duration": 4,
    "start_time": "2024-04-24T14:29:39.359Z"
   },
   {
    "duration": 91,
    "start_time": "2024-04-24T14:29:40.749Z"
   },
   {
    "duration": 38,
    "start_time": "2024-04-24T14:29:41.481Z"
   },
   {
    "duration": 4,
    "start_time": "2024-04-24T14:29:50.198Z"
   },
   {
    "duration": 2,
    "start_time": "2024-04-24T14:32:21.007Z"
   },
   {
    "duration": 28,
    "start_time": "2024-04-24T14:32:22.109Z"
   },
   {
    "duration": 3,
    "start_time": "2024-04-24T14:32:22.467Z"
   },
   {
    "duration": 84,
    "start_time": "2024-04-24T14:32:23.693Z"
   },
   {
    "duration": 36,
    "start_time": "2024-04-24T14:32:24.115Z"
   },
   {
    "duration": 5,
    "start_time": "2024-04-24T14:32:24.654Z"
   },
   {
    "duration": 77,
    "start_time": "2024-04-24T14:37:15.683Z"
   },
   {
    "duration": 66,
    "start_time": "2024-04-24T14:51:49.973Z"
   },
   {
    "duration": 328,
    "start_time": "2024-04-24T14:52:55.263Z"
   },
   {
    "duration": 315,
    "start_time": "2024-04-24T14:52:57.021Z"
   },
   {
    "duration": 350,
    "start_time": "2024-04-24T14:53:23.952Z"
   },
   {
    "duration": 312,
    "start_time": "2024-04-24T14:53:59.195Z"
   },
   {
    "duration": 43,
    "start_time": "2024-04-24T14:54:00.302Z"
   },
   {
    "duration": 45,
    "start_time": "2024-04-24T14:54:01.771Z"
   },
   {
    "duration": 2696,
    "start_time": "2024-04-24T14:54:32.729Z"
   },
   {
    "duration": 975,
    "start_time": "2024-04-24T14:54:35.427Z"
   },
   {
    "duration": 16,
    "start_time": "2024-04-24T14:54:36.403Z"
   },
   {
    "duration": 157,
    "start_time": "2024-04-24T14:54:36.420Z"
   },
   {
    "duration": 110,
    "start_time": "2024-04-24T14:54:36.580Z"
   },
   {
    "duration": 503,
    "start_time": "2024-04-24T14:54:36.692Z"
   },
   {
    "duration": 532,
    "start_time": "2024-04-24T14:54:37.196Z"
   },
   {
    "duration": 140,
    "start_time": "2024-04-24T14:54:37.730Z"
   },
   {
    "duration": 36,
    "start_time": "2024-04-24T14:54:37.872Z"
   },
   {
    "duration": 7,
    "start_time": "2024-04-24T14:54:37.910Z"
   },
   {
    "duration": 24,
    "start_time": "2024-04-24T14:54:37.918Z"
   },
   {
    "duration": 22,
    "start_time": "2024-04-24T14:54:37.943Z"
   },
   {
    "duration": 108,
    "start_time": "2024-04-24T14:54:37.967Z"
   },
   {
    "duration": 94,
    "start_time": "2024-04-24T14:54:38.079Z"
   },
   {
    "duration": 9,
    "start_time": "2024-04-24T14:54:38.175Z"
   },
   {
    "duration": 53,
    "start_time": "2024-04-24T14:54:38.186Z"
   },
   {
    "duration": 430,
    "start_time": "2024-04-24T14:54:38.241Z"
   },
   {
    "duration": 218,
    "start_time": "2024-04-24T14:54:38.673Z"
   },
   {
    "duration": 16,
    "start_time": "2024-04-24T14:54:38.893Z"
   },
   {
    "duration": 8,
    "start_time": "2024-04-24T14:54:38.911Z"
   },
   {
    "duration": 25,
    "start_time": "2024-04-24T14:54:38.921Z"
   },
   {
    "duration": 920,
    "start_time": "2024-04-24T14:54:38.969Z"
   },
   {
    "duration": 4,
    "start_time": "2024-04-24T14:54:39.891Z"
   },
   {
    "duration": 119,
    "start_time": "2024-04-24T14:54:39.896Z"
   },
   {
    "duration": 86,
    "start_time": "2024-04-24T14:54:40.017Z"
   },
   {
    "duration": 11,
    "start_time": "2024-04-24T14:54:40.105Z"
   },
   {
    "duration": 164,
    "start_time": "2024-04-24T14:54:40.117Z"
   },
   {
    "duration": 8,
    "start_time": "2024-04-24T14:54:40.283Z"
   },
   {
    "duration": 39,
    "start_time": "2024-04-24T14:54:40.293Z"
   },
   {
    "duration": 230,
    "start_time": "2024-04-24T14:54:40.334Z"
   },
   {
    "duration": 234,
    "start_time": "2024-04-24T14:54:40.566Z"
   },
   {
    "duration": 13,
    "start_time": "2024-04-24T14:54:40.802Z"
   },
   {
    "duration": 28,
    "start_time": "2024-04-24T14:54:40.817Z"
   },
   {
    "duration": 322,
    "start_time": "2024-04-24T14:54:40.846Z"
   },
   {
    "duration": 500,
    "start_time": "2024-04-24T14:54:41.169Z"
   },
   {
    "duration": 136,
    "start_time": "2024-04-24T14:54:41.671Z"
   },
   {
    "duration": 19,
    "start_time": "2024-04-24T14:54:41.810Z"
   },
   {
    "duration": 138,
    "start_time": "2024-04-24T14:54:41.831Z"
   },
   {
    "duration": 3,
    "start_time": "2024-04-24T14:54:41.971Z"
   },
   {
    "duration": 16,
    "start_time": "2024-04-24T14:54:41.975Z"
   },
   {
    "duration": 71,
    "start_time": "2024-04-24T14:54:50.577Z"
   },
   {
    "duration": 18,
    "start_time": "2024-04-24T14:54:51.349Z"
   },
   {
    "duration": 3,
    "start_time": "2024-04-24T14:54:51.992Z"
   },
   {
    "duration": 100,
    "start_time": "2024-04-24T14:54:52.902Z"
   },
   {
    "duration": 40,
    "start_time": "2024-04-24T14:54:53.329Z"
   },
   {
    "duration": 4,
    "start_time": "2024-04-24T14:54:53.848Z"
   },
   {
    "duration": 53,
    "start_time": "2024-04-24T14:54:58.662Z"
   },
   {
    "duration": 311,
    "start_time": "2024-04-24T14:54:59.546Z"
   },
   {
    "duration": 144,
    "start_time": "2024-04-24T14:55:00.739Z"
   },
   {
    "duration": 1619,
    "start_time": "2024-04-24T14:57:29.988Z"
   },
   {
    "duration": 914,
    "start_time": "2024-04-24T14:57:31.610Z"
   },
   {
    "duration": 15,
    "start_time": "2024-04-24T14:57:32.526Z"
   },
   {
    "duration": 187,
    "start_time": "2024-04-24T14:57:32.543Z"
   },
   {
    "duration": 115,
    "start_time": "2024-04-24T14:57:32.732Z"
   },
   {
    "duration": 480,
    "start_time": "2024-04-24T14:57:32.849Z"
   },
   {
    "duration": 534,
    "start_time": "2024-04-24T14:57:33.330Z"
   },
   {
    "duration": 144,
    "start_time": "2024-04-24T14:57:33.865Z"
   },
   {
    "duration": 38,
    "start_time": "2024-04-24T14:57:34.011Z"
   },
   {
    "duration": 18,
    "start_time": "2024-04-24T14:57:34.052Z"
   },
   {
    "duration": 7,
    "start_time": "2024-04-24T14:57:34.072Z"
   },
   {
    "duration": 14,
    "start_time": "2024-04-24T14:57:34.080Z"
   },
   {
    "duration": 122,
    "start_time": "2024-04-24T14:57:34.095Z"
   },
   {
    "duration": 90,
    "start_time": "2024-04-24T14:57:34.219Z"
   },
   {
    "duration": 8,
    "start_time": "2024-04-24T14:57:34.310Z"
   },
   {
    "duration": 49,
    "start_time": "2024-04-24T14:57:34.320Z"
   },
   {
    "duration": 433,
    "start_time": "2024-04-24T14:57:34.371Z"
   },
   {
    "duration": 211,
    "start_time": "2024-04-24T14:57:34.805Z"
   },
   {
    "duration": 16,
    "start_time": "2024-04-24T14:57:35.017Z"
   },
   {
    "duration": 10,
    "start_time": "2024-04-24T14:57:35.035Z"
   },
   {
    "duration": 50,
    "start_time": "2024-04-24T14:57:35.046Z"
   },
   {
    "duration": 936,
    "start_time": "2024-04-24T14:57:35.098Z"
   },
   {
    "duration": 4,
    "start_time": "2024-04-24T14:57:36.035Z"
   },
   {
    "duration": 111,
    "start_time": "2024-04-24T14:57:36.040Z"
   },
   {
    "duration": 88,
    "start_time": "2024-04-24T14:57:36.153Z"
   },
   {
    "duration": 12,
    "start_time": "2024-04-24T14:57:36.242Z"
   },
   {
    "duration": 150,
    "start_time": "2024-04-24T14:57:36.255Z"
   },
   {
    "duration": 8,
    "start_time": "2024-04-24T14:57:36.408Z"
   },
   {
    "duration": 69,
    "start_time": "2024-04-24T14:57:36.418Z"
   },
   {
    "duration": 200,
    "start_time": "2024-04-24T14:57:36.489Z"
   },
   {
    "duration": 217,
    "start_time": "2024-04-24T14:57:36.691Z"
   },
   {
    "duration": 13,
    "start_time": "2024-04-24T14:57:36.910Z"
   },
   {
    "duration": 43,
    "start_time": "2024-04-24T14:57:36.925Z"
   },
   {
    "duration": 303,
    "start_time": "2024-04-24T14:57:36.970Z"
   },
   {
    "duration": 526,
    "start_time": "2024-04-24T14:57:37.274Z"
   },
   {
    "duration": 119,
    "start_time": "2024-04-24T14:57:37.801Z"
   },
   {
    "duration": 14,
    "start_time": "2024-04-24T14:57:37.922Z"
   },
   {
    "duration": 129,
    "start_time": "2024-04-24T14:57:37.937Z"
   },
   {
    "duration": 7,
    "start_time": "2024-04-24T14:57:38.068Z"
   },
   {
    "duration": 25,
    "start_time": "2024-04-24T14:57:38.076Z"
   },
   {
    "duration": 79,
    "start_time": "2024-04-24T14:57:38.102Z"
   },
   {
    "duration": 0,
    "start_time": "2024-04-24T14:57:38.183Z"
   },
   {
    "duration": 0,
    "start_time": "2024-04-24T14:57:38.184Z"
   },
   {
    "duration": 0,
    "start_time": "2024-04-24T14:57:38.186Z"
   },
   {
    "duration": 0,
    "start_time": "2024-04-24T14:57:38.187Z"
   },
   {
    "duration": 17,
    "start_time": "2024-04-24T14:57:45.562Z"
   },
   {
    "duration": 3,
    "start_time": "2024-04-24T14:57:46.072Z"
   },
   {
    "duration": 91,
    "start_time": "2024-04-24T14:57:47.280Z"
   },
   {
    "duration": 39,
    "start_time": "2024-04-24T14:57:48.490Z"
   },
   {
    "duration": 4,
    "start_time": "2024-04-24T14:57:52.882Z"
   },
   {
    "duration": 366,
    "start_time": "2024-04-24T14:57:54.960Z"
   },
   {
    "duration": 170,
    "start_time": "2024-04-24T14:58:03.360Z"
   },
   {
    "duration": 43,
    "start_time": "2024-04-24T14:58:07.838Z"
   },
   {
    "duration": 1528,
    "start_time": "2024-04-24T14:59:51.764Z"
   },
   {
    "duration": 939,
    "start_time": "2024-04-24T14:59:53.294Z"
   },
   {
    "duration": 17,
    "start_time": "2024-04-24T14:59:54.235Z"
   },
   {
    "duration": 157,
    "start_time": "2024-04-24T14:59:54.254Z"
   },
   {
    "duration": 115,
    "start_time": "2024-04-24T14:59:54.413Z"
   },
   {
    "duration": 462,
    "start_time": "2024-04-24T14:59:54.530Z"
   },
   {
    "duration": 522,
    "start_time": "2024-04-24T14:59:54.993Z"
   },
   {
    "duration": 140,
    "start_time": "2024-04-24T14:59:55.517Z"
   },
   {
    "duration": 37,
    "start_time": "2024-04-24T14:59:55.658Z"
   },
   {
    "duration": 18,
    "start_time": "2024-04-24T14:59:55.696Z"
   },
   {
    "duration": 7,
    "start_time": "2024-04-24T14:59:55.715Z"
   },
   {
    "duration": 49,
    "start_time": "2024-04-24T14:59:55.723Z"
   },
   {
    "duration": 130,
    "start_time": "2024-04-24T14:59:55.773Z"
   },
   {
    "duration": 95,
    "start_time": "2024-04-24T14:59:55.906Z"
   },
   {
    "duration": 10,
    "start_time": "2024-04-24T14:59:56.002Z"
   },
   {
    "duration": 49,
    "start_time": "2024-04-24T14:59:56.014Z"
   },
   {
    "duration": 460,
    "start_time": "2024-04-24T14:59:56.065Z"
   },
   {
    "duration": 226,
    "start_time": "2024-04-24T14:59:56.527Z"
   },
   {
    "duration": 16,
    "start_time": "2024-04-24T14:59:56.754Z"
   },
   {
    "duration": 19,
    "start_time": "2024-04-24T14:59:56.772Z"
   },
   {
    "duration": 36,
    "start_time": "2024-04-24T14:59:56.792Z"
   },
   {
    "duration": 908,
    "start_time": "2024-04-24T14:59:56.830Z"
   },
   {
    "duration": 3,
    "start_time": "2024-04-24T14:59:57.740Z"
   },
   {
    "duration": 141,
    "start_time": "2024-04-24T14:59:57.745Z"
   },
   {
    "duration": 92,
    "start_time": "2024-04-24T14:59:57.888Z"
   },
   {
    "duration": 12,
    "start_time": "2024-04-24T14:59:57.982Z"
   },
   {
    "duration": 159,
    "start_time": "2024-04-24T14:59:57.996Z"
   },
   {
    "duration": 15,
    "start_time": "2024-04-24T14:59:58.157Z"
   },
   {
    "duration": 39,
    "start_time": "2024-04-24T14:59:58.174Z"
   },
   {
    "duration": 215,
    "start_time": "2024-04-24T14:59:58.215Z"
   },
   {
    "duration": 211,
    "start_time": "2024-04-24T14:59:58.432Z"
   },
   {
    "duration": 12,
    "start_time": "2024-04-24T14:59:58.645Z"
   },
   {
    "duration": 25,
    "start_time": "2024-04-24T14:59:58.659Z"
   },
   {
    "duration": 294,
    "start_time": "2024-04-24T14:59:58.686Z"
   },
   {
    "duration": 495,
    "start_time": "2024-04-24T14:59:58.982Z"
   },
   {
    "duration": 127,
    "start_time": "2024-04-24T14:59:59.479Z"
   },
   {
    "duration": 15,
    "start_time": "2024-04-24T14:59:59.607Z"
   },
   {
    "duration": 109,
    "start_time": "2024-04-24T14:59:59.623Z"
   },
   {
    "duration": 12,
    "start_time": "2024-04-24T14:59:59.734Z"
   },
   {
    "duration": 16,
    "start_time": "2024-04-24T14:59:59.748Z"
   },
   {
    "duration": 85,
    "start_time": "2024-04-24T14:59:59.767Z"
   },
   {
    "duration": 0,
    "start_time": "2024-04-24T14:59:59.853Z"
   },
   {
    "duration": 0,
    "start_time": "2024-04-24T14:59:59.854Z"
   },
   {
    "duration": 0,
    "start_time": "2024-04-24T14:59:59.855Z"
   },
   {
    "duration": 0,
    "start_time": "2024-04-24T14:59:59.856Z"
   },
   {
    "duration": 16,
    "start_time": "2024-04-24T15:00:07.837Z"
   },
   {
    "duration": 3,
    "start_time": "2024-04-24T15:00:08.357Z"
   },
   {
    "duration": 84,
    "start_time": "2024-04-24T15:00:09.225Z"
   },
   {
    "duration": 37,
    "start_time": "2024-04-24T15:00:13.637Z"
   },
   {
    "duration": 4,
    "start_time": "2024-04-24T15:00:14.447Z"
   },
   {
    "duration": 406,
    "start_time": "2024-04-24T15:00:17.882Z"
   },
   {
    "duration": 151,
    "start_time": "2024-04-24T15:00:19.263Z"
   },
   {
    "duration": 11,
    "start_time": "2024-04-24T15:14:55.435Z"
   },
   {
    "duration": 3399,
    "start_time": "2024-04-24T15:15:11.520Z"
   },
   {
    "duration": 4318,
    "start_time": "2024-04-24T15:17:22.892Z"
   },
   {
    "duration": 952,
    "start_time": "2024-04-24T15:17:27.213Z"
   },
   {
    "duration": 17,
    "start_time": "2024-04-24T15:17:28.166Z"
   },
   {
    "duration": 153,
    "start_time": "2024-04-24T15:17:28.186Z"
   },
   {
    "duration": 165,
    "start_time": "2024-04-24T15:17:28.341Z"
   },
   {
    "duration": 510,
    "start_time": "2024-04-24T15:17:28.508Z"
   },
   {
    "duration": 541,
    "start_time": "2024-04-24T15:17:29.020Z"
   },
   {
    "duration": 136,
    "start_time": "2024-04-24T15:17:29.563Z"
   },
   {
    "duration": 35,
    "start_time": "2024-04-24T15:17:29.701Z"
   },
   {
    "duration": 44,
    "start_time": "2024-04-24T15:17:29.739Z"
   },
   {
    "duration": 14,
    "start_time": "2024-04-24T15:17:29.785Z"
   },
   {
    "duration": 21,
    "start_time": "2024-04-24T15:17:29.801Z"
   },
   {
    "duration": 104,
    "start_time": "2024-04-24T15:17:29.824Z"
   },
   {
    "duration": 105,
    "start_time": "2024-04-24T15:17:29.930Z"
   },
   {
    "duration": 59,
    "start_time": "2024-04-24T15:17:30.037Z"
   },
   {
    "duration": 136,
    "start_time": "2024-04-24T15:17:30.098Z"
   },
   {
    "duration": 636,
    "start_time": "2024-04-24T15:17:30.236Z"
   },
   {
    "duration": 243,
    "start_time": "2024-04-24T15:17:30.874Z"
   },
   {
    "duration": 22,
    "start_time": "2024-04-24T15:17:31.118Z"
   },
   {
    "duration": 100,
    "start_time": "2024-04-24T15:17:31.141Z"
   },
   {
    "duration": 99,
    "start_time": "2024-04-24T15:17:31.243Z"
   },
   {
    "duration": 930,
    "start_time": "2024-04-24T15:17:31.344Z"
   },
   {
    "duration": 3,
    "start_time": "2024-04-24T15:17:32.276Z"
   },
   {
    "duration": 145,
    "start_time": "2024-04-24T15:17:32.281Z"
   },
   {
    "duration": 80,
    "start_time": "2024-04-24T15:17:32.427Z"
   },
   {
    "duration": 118,
    "start_time": "2024-04-24T15:17:32.508Z"
   },
   {
    "duration": 247,
    "start_time": "2024-04-24T15:17:32.627Z"
   },
   {
    "duration": 10,
    "start_time": "2024-04-24T15:17:32.879Z"
   },
   {
    "duration": 82,
    "start_time": "2024-04-24T15:17:32.890Z"
   },
   {
    "duration": 214,
    "start_time": "2024-04-24T15:17:32.974Z"
   },
   {
    "duration": 222,
    "start_time": "2024-04-24T15:17:33.189Z"
   },
   {
    "duration": 14,
    "start_time": "2024-04-24T15:17:33.413Z"
   },
   {
    "duration": 38,
    "start_time": "2024-04-24T15:17:33.428Z"
   },
   {
    "duration": 345,
    "start_time": "2024-04-24T15:17:33.469Z"
   },
   {
    "duration": 537,
    "start_time": "2024-04-24T15:17:33.816Z"
   },
   {
    "duration": 144,
    "start_time": "2024-04-24T15:17:34.355Z"
   },
   {
    "duration": 32,
    "start_time": "2024-04-24T15:17:34.501Z"
   },
   {
    "duration": 124,
    "start_time": "2024-04-24T15:17:34.535Z"
   },
   {
    "duration": 11,
    "start_time": "2024-04-24T15:17:34.660Z"
   },
   {
    "duration": 17,
    "start_time": "2024-04-24T15:17:34.673Z"
   },
   {
    "duration": 97,
    "start_time": "2024-04-24T15:17:34.692Z"
   },
   {
    "duration": 122,
    "start_time": "2024-04-24T15:19:15.356Z"
   },
   {
    "duration": 47,
    "start_time": "2024-04-24T15:21:07.738Z"
   },
   {
    "duration": 15822,
    "start_time": "2024-04-24T15:22:01.011Z"
   },
   {
    "duration": 15969,
    "start_time": "2024-04-24T15:22:33.082Z"
   },
   {
    "duration": 4428,
    "start_time": "2024-04-24T15:37:32.531Z"
   },
   {
    "duration": 1176,
    "start_time": "2024-04-24T15:37:36.961Z"
   },
   {
    "duration": 16,
    "start_time": "2024-04-24T15:37:38.138Z"
   },
   {
    "duration": 145,
    "start_time": "2024-04-24T15:37:38.156Z"
   },
   {
    "duration": 112,
    "start_time": "2024-04-24T15:37:38.303Z"
   },
   {
    "duration": 474,
    "start_time": "2024-04-24T15:37:38.417Z"
   },
   {
    "duration": 524,
    "start_time": "2024-04-24T15:37:38.892Z"
   },
   {
    "duration": 131,
    "start_time": "2024-04-24T15:37:39.418Z"
   },
   {
    "duration": 38,
    "start_time": "2024-04-24T15:37:39.551Z"
   },
   {
    "duration": 6,
    "start_time": "2024-04-24T15:37:39.590Z"
   },
   {
    "duration": 5,
    "start_time": "2024-04-24T15:37:39.597Z"
   },
   {
    "duration": 14,
    "start_time": "2024-04-24T15:37:39.603Z"
   },
   {
    "duration": 102,
    "start_time": "2024-04-24T15:37:39.618Z"
   },
   {
    "duration": 90,
    "start_time": "2024-04-24T15:37:39.723Z"
   },
   {
    "duration": 14,
    "start_time": "2024-04-24T15:37:39.815Z"
   },
   {
    "duration": 46,
    "start_time": "2024-04-24T15:37:39.830Z"
   },
   {
    "duration": 557,
    "start_time": "2024-04-24T15:37:39.878Z"
   },
   {
    "duration": 214,
    "start_time": "2024-04-24T15:37:40.437Z"
   },
   {
    "duration": 21,
    "start_time": "2024-04-24T15:37:40.653Z"
   },
   {
    "duration": 8,
    "start_time": "2024-04-24T15:37:40.675Z"
   },
   {
    "duration": 23,
    "start_time": "2024-04-24T15:37:40.684Z"
   },
   {
    "duration": 854,
    "start_time": "2024-04-24T15:37:40.708Z"
   },
   {
    "duration": 5,
    "start_time": "2024-04-24T15:37:41.564Z"
   },
   {
    "duration": 101,
    "start_time": "2024-04-24T15:37:41.571Z"
   },
   {
    "duration": 67,
    "start_time": "2024-04-24T15:37:41.673Z"
   },
   {
    "duration": 10,
    "start_time": "2024-04-24T15:37:41.742Z"
   },
   {
    "duration": 160,
    "start_time": "2024-04-24T15:37:41.753Z"
   },
   {
    "duration": 8,
    "start_time": "2024-04-24T15:37:41.914Z"
   },
   {
    "duration": 48,
    "start_time": "2024-04-24T15:37:41.923Z"
   },
   {
    "duration": 186,
    "start_time": "2024-04-24T15:37:41.973Z"
   },
   {
    "duration": 209,
    "start_time": "2024-04-24T15:37:42.160Z"
   },
   {
    "duration": 11,
    "start_time": "2024-04-24T15:37:42.371Z"
   },
   {
    "duration": 32,
    "start_time": "2024-04-24T15:37:42.384Z"
   },
   {
    "duration": 265,
    "start_time": "2024-04-24T15:37:42.417Z"
   },
   {
    "duration": 457,
    "start_time": "2024-04-24T15:37:42.684Z"
   },
   {
    "duration": 132,
    "start_time": "2024-04-24T15:37:43.142Z"
   },
   {
    "duration": 31,
    "start_time": "2024-04-24T15:37:43.276Z"
   },
   {
    "duration": 109,
    "start_time": "2024-04-24T15:37:43.308Z"
   },
   {
    "duration": 3,
    "start_time": "2024-04-24T15:37:43.418Z"
   },
   {
    "duration": 14,
    "start_time": "2024-04-24T15:37:43.422Z"
   },
   {
    "duration": 235,
    "start_time": "2024-04-24T15:37:43.439Z"
   },
   {
    "duration": 15,
    "start_time": "2024-04-24T15:37:52.445Z"
   },
   {
    "duration": 13144,
    "start_time": "2024-04-24T15:37:55.020Z"
   },
   {
    "duration": 3,
    "start_time": "2024-04-24T15:38:55.632Z"
   },
   {
    "duration": 3,
    "start_time": "2024-04-24T15:38:56.159Z"
   },
   {
    "duration": 20,
    "start_time": "2024-04-24T15:39:24.561Z"
   },
   {
    "duration": 12839,
    "start_time": "2024-04-24T15:39:27.276Z"
   },
   {
    "duration": 614,
    "start_time": "2024-04-24T15:40:42.642Z"
   },
   {
    "duration": 3,
    "start_time": "2024-04-24T15:40:54.485Z"
   },
   {
    "duration": 4465,
    "start_time": "2024-04-24T15:41:42.439Z"
   },
   {
    "duration": 889,
    "start_time": "2024-04-24T15:41:46.906Z"
   },
   {
    "duration": 17,
    "start_time": "2024-04-24T15:41:47.797Z"
   },
   {
    "duration": 158,
    "start_time": "2024-04-24T15:41:47.815Z"
   },
   {
    "duration": 154,
    "start_time": "2024-04-24T15:41:47.975Z"
   },
   {
    "duration": 490,
    "start_time": "2024-04-24T15:41:48.131Z"
   },
   {
    "duration": 555,
    "start_time": "2024-04-24T15:41:48.623Z"
   },
   {
    "duration": 153,
    "start_time": "2024-04-24T15:41:49.181Z"
   },
   {
    "duration": 43,
    "start_time": "2024-04-24T15:41:49.336Z"
   },
   {
    "duration": 8,
    "start_time": "2024-04-24T15:41:49.381Z"
   },
   {
    "duration": 10,
    "start_time": "2024-04-24T15:41:49.391Z"
   },
   {
    "duration": 25,
    "start_time": "2024-04-24T15:41:49.403Z"
   },
   {
    "duration": 103,
    "start_time": "2024-04-24T15:41:49.430Z"
   },
   {
    "duration": 99,
    "start_time": "2024-04-24T15:41:49.536Z"
   },
   {
    "duration": 11,
    "start_time": "2024-04-24T15:41:49.636Z"
   },
   {
    "duration": 54,
    "start_time": "2024-04-24T15:41:49.648Z"
   },
   {
    "duration": 569,
    "start_time": "2024-04-24T15:41:49.703Z"
   },
   {
    "duration": 269,
    "start_time": "2024-04-24T15:41:50.274Z"
   },
   {
    "duration": 27,
    "start_time": "2024-04-24T15:41:50.545Z"
   },
   {
    "duration": 8,
    "start_time": "2024-04-24T15:41:50.573Z"
   },
   {
    "duration": 29,
    "start_time": "2024-04-24T15:41:50.583Z"
   },
   {
    "duration": 884,
    "start_time": "2024-04-24T15:41:50.614Z"
   },
   {
    "duration": 4,
    "start_time": "2024-04-24T15:41:51.501Z"
   },
   {
    "duration": 130,
    "start_time": "2024-04-24T15:41:51.507Z"
   },
   {
    "duration": 77,
    "start_time": "2024-04-24T15:41:51.639Z"
   },
   {
    "duration": 12,
    "start_time": "2024-04-24T15:41:51.717Z"
   },
   {
    "duration": 155,
    "start_time": "2024-04-24T15:41:51.731Z"
   },
   {
    "duration": 8,
    "start_time": "2024-04-24T15:41:51.888Z"
   },
   {
    "duration": 43,
    "start_time": "2024-04-24T15:41:51.898Z"
   },
   {
    "duration": 205,
    "start_time": "2024-04-24T15:41:51.943Z"
   },
   {
    "duration": 213,
    "start_time": "2024-04-24T15:41:52.150Z"
   },
   {
    "duration": 15,
    "start_time": "2024-04-24T15:41:52.365Z"
   },
   {
    "duration": 28,
    "start_time": "2024-04-24T15:41:52.382Z"
   },
   {
    "duration": 352,
    "start_time": "2024-04-24T15:41:52.412Z"
   },
   {
    "duration": 491,
    "start_time": "2024-04-24T15:41:52.765Z"
   },
   {
    "duration": 131,
    "start_time": "2024-04-24T15:41:53.257Z"
   },
   {
    "duration": 29,
    "start_time": "2024-04-24T15:41:53.390Z"
   },
   {
    "duration": 110,
    "start_time": "2024-04-24T15:41:53.421Z"
   },
   {
    "duration": 3,
    "start_time": "2024-04-24T15:42:15.271Z"
   },
   {
    "duration": 3,
    "start_time": "2024-04-24T15:42:16.057Z"
   },
   {
    "duration": 73,
    "start_time": "2024-04-24T15:42:21.539Z"
   },
   {
    "duration": 16,
    "start_time": "2024-04-24T15:42:31.117Z"
   },
   {
    "duration": 655,
    "start_time": "2024-04-24T15:42:53.228Z"
   },
   {
    "duration": 3,
    "start_time": "2024-04-24T15:42:55.330Z"
   },
   {
    "duration": 4274,
    "start_time": "2024-04-24T15:49:05.016Z"
   },
   {
    "duration": 941,
    "start_time": "2024-04-24T15:49:09.292Z"
   },
   {
    "duration": 16,
    "start_time": "2024-04-24T15:49:10.234Z"
   },
   {
    "duration": 183,
    "start_time": "2024-04-24T15:49:10.252Z"
   },
   {
    "duration": 158,
    "start_time": "2024-04-24T15:49:10.438Z"
   },
   {
    "duration": 531,
    "start_time": "2024-04-24T15:49:10.598Z"
   },
   {
    "duration": 521,
    "start_time": "2024-04-24T15:49:11.131Z"
   },
   {
    "duration": 129,
    "start_time": "2024-04-24T15:49:11.653Z"
   },
   {
    "duration": 36,
    "start_time": "2024-04-24T15:49:11.784Z"
   },
   {
    "duration": 5,
    "start_time": "2024-04-24T15:49:11.821Z"
   },
   {
    "duration": 11,
    "start_time": "2024-04-24T15:49:11.828Z"
   },
   {
    "duration": 29,
    "start_time": "2024-04-24T15:49:11.841Z"
   },
   {
    "duration": 111,
    "start_time": "2024-04-24T15:49:11.872Z"
   },
   {
    "duration": 107,
    "start_time": "2024-04-24T15:49:11.986Z"
   },
   {
    "duration": 10,
    "start_time": "2024-04-24T15:49:12.095Z"
   },
   {
    "duration": 36,
    "start_time": "2024-04-24T15:49:12.106Z"
   },
   {
    "duration": 534,
    "start_time": "2024-04-24T15:49:12.144Z"
   },
   {
    "duration": 227,
    "start_time": "2024-04-24T15:49:12.680Z"
   },
   {
    "duration": 16,
    "start_time": "2024-04-24T15:49:12.910Z"
   },
   {
    "duration": 27,
    "start_time": "2024-04-24T15:49:12.928Z"
   },
   {
    "duration": 38,
    "start_time": "2024-04-24T15:49:12.956Z"
   },
   {
    "duration": 831,
    "start_time": "2024-04-24T15:49:12.996Z"
   },
   {
    "duration": 3,
    "start_time": "2024-04-24T15:49:13.829Z"
   },
   {
    "duration": 107,
    "start_time": "2024-04-24T15:49:13.834Z"
   },
   {
    "duration": 81,
    "start_time": "2024-04-24T15:49:13.943Z"
   },
   {
    "duration": 10,
    "start_time": "2024-04-24T15:49:14.026Z"
   },
   {
    "duration": 139,
    "start_time": "2024-04-24T15:49:14.038Z"
   },
   {
    "duration": 8,
    "start_time": "2024-04-24T15:49:14.179Z"
   },
   {
    "duration": 40,
    "start_time": "2024-04-24T15:49:14.189Z"
   },
   {
    "duration": 224,
    "start_time": "2024-04-24T15:49:14.230Z"
   },
   {
    "duration": 199,
    "start_time": "2024-04-24T15:49:14.457Z"
   },
   {
    "duration": 16,
    "start_time": "2024-04-24T15:49:14.658Z"
   },
   {
    "duration": 41,
    "start_time": "2024-04-24T15:49:14.676Z"
   },
   {
    "duration": 340,
    "start_time": "2024-04-24T15:49:14.719Z"
   },
   {
    "duration": 476,
    "start_time": "2024-04-24T15:49:15.061Z"
   },
   {
    "duration": 134,
    "start_time": "2024-04-24T15:49:15.539Z"
   },
   {
    "duration": 32,
    "start_time": "2024-04-24T15:49:15.675Z"
   },
   {
    "duration": 117,
    "start_time": "2024-04-24T15:49:15.709Z"
   },
   {
    "duration": 2644,
    "start_time": "2024-04-24T15:49:51.429Z"
   },
   {
    "duration": 830,
    "start_time": "2024-04-24T15:49:54.075Z"
   },
   {
    "duration": 14,
    "start_time": "2024-04-24T15:49:54.907Z"
   },
   {
    "duration": 169,
    "start_time": "2024-04-24T15:49:54.922Z"
   },
   {
    "duration": 104,
    "start_time": "2024-04-24T15:49:55.094Z"
   },
   {
    "duration": 443,
    "start_time": "2024-04-24T15:49:55.199Z"
   },
   {
    "duration": 436,
    "start_time": "2024-04-24T15:49:55.644Z"
   },
   {
    "duration": 145,
    "start_time": "2024-04-24T15:49:56.082Z"
   },
   {
    "duration": 34,
    "start_time": "2024-04-24T15:49:56.229Z"
   },
   {
    "duration": 4,
    "start_time": "2024-04-24T15:49:56.265Z"
   },
   {
    "duration": 15,
    "start_time": "2024-04-24T15:49:56.271Z"
   },
   {
    "duration": 17,
    "start_time": "2024-04-24T15:49:56.288Z"
   },
   {
    "duration": 114,
    "start_time": "2024-04-24T15:49:56.307Z"
   },
   {
    "duration": 93,
    "start_time": "2024-04-24T15:49:56.424Z"
   },
   {
    "duration": 22,
    "start_time": "2024-04-24T15:49:56.518Z"
   },
   {
    "duration": 32,
    "start_time": "2024-04-24T15:49:56.541Z"
   },
   {
    "duration": 514,
    "start_time": "2024-04-24T15:49:56.574Z"
   },
   {
    "duration": 211,
    "start_time": "2024-04-24T15:49:57.090Z"
   },
   {
    "duration": 15,
    "start_time": "2024-04-24T15:49:57.303Z"
   },
   {
    "duration": 8,
    "start_time": "2024-04-24T15:49:57.320Z"
   },
   {
    "duration": 39,
    "start_time": "2024-04-24T15:49:57.330Z"
   },
   {
    "duration": 838,
    "start_time": "2024-04-24T15:49:57.371Z"
   },
   {
    "duration": 4,
    "start_time": "2024-04-24T15:49:58.210Z"
   },
   {
    "duration": 128,
    "start_time": "2024-04-24T15:49:58.216Z"
   },
   {
    "duration": 74,
    "start_time": "2024-04-24T15:49:58.346Z"
   },
   {
    "duration": 12,
    "start_time": "2024-04-24T15:49:58.422Z"
   },
   {
    "duration": 149,
    "start_time": "2024-04-24T15:49:58.436Z"
   },
   {
    "duration": 10,
    "start_time": "2024-04-24T15:49:58.587Z"
   },
   {
    "duration": 40,
    "start_time": "2024-04-24T15:49:58.599Z"
   },
   {
    "duration": 220,
    "start_time": "2024-04-24T15:49:58.640Z"
   },
   {
    "duration": 223,
    "start_time": "2024-04-24T15:49:58.862Z"
   },
   {
    "duration": 13,
    "start_time": "2024-04-24T15:49:59.087Z"
   },
   {
    "duration": 17,
    "start_time": "2024-04-24T15:49:59.102Z"
   },
   {
    "duration": 310,
    "start_time": "2024-04-24T15:49:59.121Z"
   },
   {
    "duration": 480,
    "start_time": "2024-04-24T15:49:59.432Z"
   },
   {
    "duration": 143,
    "start_time": "2024-04-24T15:49:59.914Z"
   },
   {
    "duration": 22,
    "start_time": "2024-04-24T15:50:00.058Z"
   },
   {
    "duration": 185,
    "start_time": "2024-04-24T15:50:00.082Z"
   },
   {
    "duration": 2608,
    "start_time": "2024-04-24T15:50:29.971Z"
   },
   {
    "duration": 836,
    "start_time": "2024-04-24T15:50:32.581Z"
   },
   {
    "duration": 19,
    "start_time": "2024-04-24T15:50:33.420Z"
   },
   {
    "duration": 161,
    "start_time": "2024-04-24T15:50:33.441Z"
   },
   {
    "duration": 105,
    "start_time": "2024-04-24T15:50:33.604Z"
   },
   {
    "duration": 397,
    "start_time": "2024-04-24T15:50:33.710Z"
   },
   {
    "duration": 421,
    "start_time": "2024-04-24T15:50:34.109Z"
   },
   {
    "duration": 145,
    "start_time": "2024-04-24T15:50:34.532Z"
   },
   {
    "duration": 25,
    "start_time": "2024-04-24T15:50:34.678Z"
   },
   {
    "duration": 3,
    "start_time": "2024-04-24T15:50:34.705Z"
   },
   {
    "duration": 13,
    "start_time": "2024-04-24T15:50:34.711Z"
   },
   {
    "duration": 16,
    "start_time": "2024-04-24T15:50:34.726Z"
   },
   {
    "duration": 104,
    "start_time": "2024-04-24T15:50:34.744Z"
   },
   {
    "duration": 93,
    "start_time": "2024-04-24T15:50:34.850Z"
   },
   {
    "duration": 31,
    "start_time": "2024-04-24T15:50:34.945Z"
   },
   {
    "duration": 30,
    "start_time": "2024-04-24T15:50:34.978Z"
   },
   {
    "duration": 523,
    "start_time": "2024-04-24T15:50:35.010Z"
   },
   {
    "duration": 222,
    "start_time": "2024-04-24T15:50:35.535Z"
   },
   {
    "duration": 18,
    "start_time": "2024-04-24T15:50:35.758Z"
   },
   {
    "duration": 15,
    "start_time": "2024-04-24T15:50:35.778Z"
   },
   {
    "duration": 73,
    "start_time": "2024-04-24T15:50:35.794Z"
   },
   {
    "duration": 821,
    "start_time": "2024-04-24T15:50:35.869Z"
   },
   {
    "duration": 3,
    "start_time": "2024-04-24T15:50:36.692Z"
   },
   {
    "duration": 102,
    "start_time": "2024-04-24T15:50:36.696Z"
   },
   {
    "duration": 42,
    "start_time": "2024-04-24T15:50:36.800Z"
   },
   {
    "duration": 12,
    "start_time": "2024-04-24T15:50:36.843Z"
   },
   {
    "duration": 151,
    "start_time": "2024-04-24T15:50:36.870Z"
   },
   {
    "duration": 9,
    "start_time": "2024-04-24T15:50:37.024Z"
   },
   {
    "duration": 63,
    "start_time": "2024-04-24T15:50:37.034Z"
   },
   {
    "duration": 205,
    "start_time": "2024-04-24T15:50:37.099Z"
   },
   {
    "duration": 199,
    "start_time": "2024-04-24T15:50:37.306Z"
   },
   {
    "duration": 12,
    "start_time": "2024-04-24T15:50:37.507Z"
   },
   {
    "duration": 37,
    "start_time": "2024-04-24T15:50:37.520Z"
   },
   {
    "duration": 285,
    "start_time": "2024-04-24T15:50:37.559Z"
   },
   {
    "duration": 488,
    "start_time": "2024-04-24T15:50:37.846Z"
   },
   {
    "duration": 139,
    "start_time": "2024-04-24T15:50:38.336Z"
   },
   {
    "duration": 36,
    "start_time": "2024-04-24T15:50:38.477Z"
   },
   {
    "duration": 110,
    "start_time": "2024-04-24T15:50:38.514Z"
   },
   {
    "duration": 4225,
    "start_time": "2024-04-24T15:50:55.564Z"
   },
   {
    "duration": 984,
    "start_time": "2024-04-24T15:50:59.792Z"
   },
   {
    "duration": 16,
    "start_time": "2024-04-24T15:51:00.779Z"
   },
   {
    "duration": 382,
    "start_time": "2024-04-24T15:51:00.797Z"
   },
   {
    "duration": 123,
    "start_time": "2024-04-24T15:51:01.181Z"
   },
   {
    "duration": 666,
    "start_time": "2024-04-24T15:51:01.305Z"
   },
   {
    "duration": 555,
    "start_time": "2024-04-24T15:51:01.973Z"
   },
   {
    "duration": 130,
    "start_time": "2024-04-24T15:51:02.529Z"
   },
   {
    "duration": 124,
    "start_time": "2024-04-24T15:51:02.661Z"
   },
   {
    "duration": 25,
    "start_time": "2024-04-24T15:51:02.786Z"
   },
   {
    "duration": 32,
    "start_time": "2024-04-24T15:51:02.812Z"
   },
   {
    "duration": 112,
    "start_time": "2024-04-24T15:51:02.846Z"
   },
   {
    "duration": 167,
    "start_time": "2024-04-24T15:51:02.959Z"
   },
   {
    "duration": 86,
    "start_time": "2024-04-24T15:51:03.129Z"
   },
   {
    "duration": 29,
    "start_time": "2024-04-24T15:51:03.216Z"
   },
   {
    "duration": 33,
    "start_time": "2024-04-24T15:51:03.246Z"
   },
   {
    "duration": 526,
    "start_time": "2024-04-24T15:51:03.281Z"
   },
   {
    "duration": 214,
    "start_time": "2024-04-24T15:51:03.808Z"
   },
   {
    "duration": 15,
    "start_time": "2024-04-24T15:51:04.024Z"
   },
   {
    "duration": 7,
    "start_time": "2024-04-24T15:51:04.041Z"
   },
   {
    "duration": 44,
    "start_time": "2024-04-24T15:51:04.050Z"
   },
   {
    "duration": 841,
    "start_time": "2024-04-24T15:51:04.097Z"
   },
   {
    "duration": 4,
    "start_time": "2024-04-24T15:51:04.939Z"
   },
   {
    "duration": 104,
    "start_time": "2024-04-24T15:51:04.944Z"
   },
   {
    "duration": 76,
    "start_time": "2024-04-24T15:51:05.049Z"
   },
   {
    "duration": 13,
    "start_time": "2024-04-24T15:51:05.127Z"
   },
   {
    "duration": 146,
    "start_time": "2024-04-24T15:51:05.141Z"
   },
   {
    "duration": 8,
    "start_time": "2024-04-24T15:51:05.288Z"
   },
   {
    "duration": 45,
    "start_time": "2024-04-24T15:51:05.298Z"
   },
   {
    "duration": 226,
    "start_time": "2024-04-24T15:51:05.345Z"
   },
   {
    "duration": 220,
    "start_time": "2024-04-24T15:51:05.573Z"
   },
   {
    "duration": 13,
    "start_time": "2024-04-24T15:51:05.795Z"
   },
   {
    "duration": 25,
    "start_time": "2024-04-24T15:51:05.809Z"
   },
   {
    "duration": 340,
    "start_time": "2024-04-24T15:51:05.835Z"
   },
   {
    "duration": 482,
    "start_time": "2024-04-24T15:51:06.176Z"
   },
   {
    "duration": 147,
    "start_time": "2024-04-24T15:51:06.659Z"
   },
   {
    "duration": 31,
    "start_time": "2024-04-24T15:51:06.807Z"
   },
   {
    "duration": 111,
    "start_time": "2024-04-24T15:51:06.839Z"
   },
   {
    "duration": 2,
    "start_time": "2024-04-24T15:51:44.885Z"
   },
   {
    "duration": 2,
    "start_time": "2024-04-24T15:51:47.420Z"
   },
   {
    "duration": 15,
    "start_time": "2024-04-24T15:51:54.009Z"
   },
   {
    "duration": 2,
    "start_time": "2024-04-24T15:51:54.577Z"
   },
   {
    "duration": 85,
    "start_time": "2024-04-24T15:52:06.944Z"
   },
   {
    "duration": 36,
    "start_time": "2024-04-24T15:52:07.357Z"
   },
   {
    "duration": 4,
    "start_time": "2024-04-24T15:52:08.036Z"
   },
   {
    "duration": 3877,
    "start_time": "2024-04-24T15:58:43.911Z"
   },
   {
    "duration": 4,
    "start_time": "2024-04-24T15:58:58.980Z"
   },
   {
    "duration": 14,
    "start_time": "2024-04-24T16:00:10.114Z"
   },
   {
    "duration": 97,
    "start_time": "2024-04-24T16:01:31.992Z"
   },
   {
    "duration": 4,
    "start_time": "2024-04-24T16:02:03.832Z"
   },
   {
    "duration": 3,
    "start_time": "2024-04-24T16:02:07.429Z"
   },
   {
    "duration": 3,
    "start_time": "2024-04-24T16:02:07.995Z"
   },
   {
    "duration": 5,
    "start_time": "2024-04-24T16:02:08.605Z"
   },
   {
    "duration": 3,
    "start_time": "2024-04-24T16:02:09.306Z"
   },
   {
    "duration": 3,
    "start_time": "2024-04-24T16:02:45.402Z"
   },
   {
    "duration": 4,
    "start_time": "2024-04-24T16:02:51.436Z"
   },
   {
    "duration": 3,
    "start_time": "2024-04-24T16:02:52.306Z"
   },
   {
    "duration": 4,
    "start_time": "2024-04-24T16:02:52.701Z"
   },
   {
    "duration": 4,
    "start_time": "2024-04-24T16:02:53.047Z"
   },
   {
    "duration": 4,
    "start_time": "2024-04-24T16:02:53.446Z"
   },
   {
    "duration": 14947,
    "start_time": "2024-04-24T16:02:57.139Z"
   },
   {
    "duration": 29894,
    "start_time": "2024-04-24T16:05:26.690Z"
   },
   {
    "duration": 40681,
    "start_time": "2024-04-24T16:06:02.375Z"
   },
   {
    "duration": 82135,
    "start_time": "2024-04-24T16:10:28.758Z"
   },
   {
    "duration": 137,
    "start_time": "2024-04-24T16:12:44.444Z"
   },
   {
    "duration": 24,
    "start_time": "2024-04-24T16:13:49.115Z"
   },
   {
    "duration": 24,
    "start_time": "2024-04-24T16:13:50.972Z"
   },
   {
    "duration": 1602,
    "start_time": "2024-04-24T17:30:10.220Z"
   },
   {
    "duration": 2902,
    "start_time": "2024-04-24T17:30:11.824Z"
   },
   {
    "duration": 15,
    "start_time": "2024-04-24T17:30:14.727Z"
   },
   {
    "duration": 140,
    "start_time": "2024-04-24T17:30:14.743Z"
   },
   {
    "duration": 121,
    "start_time": "2024-04-24T17:30:14.885Z"
   },
   {
    "duration": 448,
    "start_time": "2024-04-24T17:30:15.008Z"
   },
   {
    "duration": 448,
    "start_time": "2024-04-24T17:30:15.458Z"
   },
   {
    "duration": 134,
    "start_time": "2024-04-24T17:30:15.907Z"
   },
   {
    "duration": 31,
    "start_time": "2024-04-24T17:30:16.042Z"
   },
   {
    "duration": 6,
    "start_time": "2024-04-24T17:30:16.074Z"
   },
   {
    "duration": 6,
    "start_time": "2024-04-24T17:30:16.082Z"
   },
   {
    "duration": 25,
    "start_time": "2024-04-24T17:30:16.089Z"
   },
   {
    "duration": 103,
    "start_time": "2024-04-24T17:30:16.120Z"
   },
   {
    "duration": 100,
    "start_time": "2024-04-24T17:30:16.226Z"
   },
   {
    "duration": 10,
    "start_time": "2024-04-24T17:30:16.328Z"
   },
   {
    "duration": 34,
    "start_time": "2024-04-24T17:30:16.339Z"
   },
   {
    "duration": 416,
    "start_time": "2024-04-24T17:30:16.375Z"
   },
   {
    "duration": 196,
    "start_time": "2024-04-24T17:30:16.792Z"
   },
   {
    "duration": 14,
    "start_time": "2024-04-24T17:30:16.989Z"
   },
   {
    "duration": 23,
    "start_time": "2024-04-24T17:30:17.004Z"
   },
   {
    "duration": 21,
    "start_time": "2024-04-24T17:30:17.028Z"
   },
   {
    "duration": 875,
    "start_time": "2024-04-24T17:30:17.051Z"
   },
   {
    "duration": 4,
    "start_time": "2024-04-24T17:30:17.927Z"
   },
   {
    "duration": 96,
    "start_time": "2024-04-24T17:30:17.932Z"
   },
   {
    "duration": 50,
    "start_time": "2024-04-24T17:30:18.029Z"
   },
   {
    "duration": 13,
    "start_time": "2024-04-24T17:30:18.081Z"
   },
   {
    "duration": 141,
    "start_time": "2024-04-24T17:30:18.096Z"
   },
   {
    "duration": 7,
    "start_time": "2024-04-24T17:30:18.239Z"
   },
   {
    "duration": 32,
    "start_time": "2024-04-24T17:30:18.248Z"
   },
   {
    "duration": 199,
    "start_time": "2024-04-24T17:30:18.282Z"
   },
   {
    "duration": 191,
    "start_time": "2024-04-24T17:30:18.482Z"
   },
   {
    "duration": 13,
    "start_time": "2024-04-24T17:30:18.675Z"
   },
   {
    "duration": 30,
    "start_time": "2024-04-24T17:30:18.690Z"
   },
   {
    "duration": 293,
    "start_time": "2024-04-24T17:30:18.722Z"
   },
   {
    "duration": 455,
    "start_time": "2024-04-24T17:30:19.019Z"
   },
   {
    "duration": 117,
    "start_time": "2024-04-24T17:30:19.476Z"
   },
   {
    "duration": 47,
    "start_time": "2024-04-24T17:30:19.595Z"
   },
   {
    "duration": 104,
    "start_time": "2024-04-24T17:30:19.644Z"
   },
   {
    "duration": 3,
    "start_time": "2024-04-24T17:30:19.750Z"
   },
   {
    "duration": 18,
    "start_time": "2024-04-24T17:30:19.755Z"
   },
   {
    "duration": 49,
    "start_time": "2024-04-24T17:30:19.776Z"
   },
   {
    "duration": 0,
    "start_time": "2024-04-24T17:30:19.827Z"
   },
   {
    "duration": 0,
    "start_time": "2024-04-24T17:30:19.828Z"
   },
   {
    "duration": 0,
    "start_time": "2024-04-24T17:30:19.829Z"
   },
   {
    "duration": 0,
    "start_time": "2024-04-24T17:30:19.830Z"
   },
   {
    "duration": 0,
    "start_time": "2024-04-24T17:30:19.831Z"
   },
   {
    "duration": 0,
    "start_time": "2024-04-24T17:30:19.832Z"
   },
   {
    "duration": 0,
    "start_time": "2024-04-24T17:30:19.833Z"
   },
   {
    "duration": 0,
    "start_time": "2024-04-24T17:30:19.834Z"
   },
   {
    "duration": 0,
    "start_time": "2024-04-24T17:30:19.835Z"
   },
   {
    "duration": 0,
    "start_time": "2024-04-24T17:30:19.836Z"
   },
   {
    "duration": 0,
    "start_time": "2024-04-24T17:30:19.837Z"
   },
   {
    "duration": 0,
    "start_time": "2024-04-24T17:30:19.838Z"
   },
   {
    "duration": 0,
    "start_time": "2024-04-24T17:30:19.839Z"
   },
   {
    "duration": 0,
    "start_time": "2024-04-24T17:30:19.840Z"
   },
   {
    "duration": 0,
    "start_time": "2024-04-24T17:30:19.841Z"
   },
   {
    "duration": 0,
    "start_time": "2024-04-24T17:30:19.843Z"
   },
   {
    "duration": 0,
    "start_time": "2024-04-24T17:30:19.844Z"
   },
   {
    "duration": 0,
    "start_time": "2024-04-24T17:30:19.846Z"
   },
   {
    "duration": 0,
    "start_time": "2024-04-24T17:30:19.847Z"
   },
   {
    "duration": 0,
    "start_time": "2024-04-24T17:30:19.849Z"
   },
   {
    "duration": 0,
    "start_time": "2024-04-24T17:30:19.850Z"
   },
   {
    "duration": 16,
    "start_time": "2024-04-24T17:33:00.032Z"
   },
   {
    "duration": 2,
    "start_time": "2024-04-24T17:33:00.951Z"
   },
   {
    "duration": 73,
    "start_time": "2024-04-24T17:33:02.147Z"
   },
   {
    "duration": 35,
    "start_time": "2024-04-24T17:33:03.512Z"
   },
   {
    "duration": 4,
    "start_time": "2024-04-24T17:33:04.082Z"
   },
   {
    "duration": 3,
    "start_time": "2024-04-24T17:39:11.919Z"
   },
   {
    "duration": 3,
    "start_time": "2024-04-24T17:39:12.537Z"
   },
   {
    "duration": 3451,
    "start_time": "2024-04-24T17:39:13.094Z"
   },
   {
    "duration": 14,
    "start_time": "2024-04-24T17:39:23.499Z"
   },
   {
    "duration": 96,
    "start_time": "2024-04-24T17:39:24.521Z"
   },
   {
    "duration": 4,
    "start_time": "2024-04-24T17:39:26.136Z"
   },
   {
    "duration": 104,
    "start_time": "2024-04-24T17:43:32.778Z"
   },
   {
    "duration": 1427,
    "start_time": "2024-04-24T17:43:44.483Z"
   },
   {
    "duration": 866,
    "start_time": "2024-04-24T17:43:45.912Z"
   },
   {
    "duration": 21,
    "start_time": "2024-04-24T17:43:46.780Z"
   },
   {
    "duration": 179,
    "start_time": "2024-04-24T17:43:46.802Z"
   },
   {
    "duration": 91,
    "start_time": "2024-04-24T17:43:46.983Z"
   },
   {
    "duration": 445,
    "start_time": "2024-04-24T17:43:47.076Z"
   },
   {
    "duration": 509,
    "start_time": "2024-04-24T17:43:47.524Z"
   },
   {
    "duration": 140,
    "start_time": "2024-04-24T17:43:48.034Z"
   },
   {
    "duration": 32,
    "start_time": "2024-04-24T17:43:48.176Z"
   },
   {
    "duration": 5,
    "start_time": "2024-04-24T17:43:48.221Z"
   },
   {
    "duration": 8,
    "start_time": "2024-04-24T17:43:48.227Z"
   },
   {
    "duration": 14,
    "start_time": "2024-04-24T17:43:48.237Z"
   },
   {
    "duration": 105,
    "start_time": "2024-04-24T17:43:48.253Z"
   },
   {
    "duration": 95,
    "start_time": "2024-04-24T17:43:48.361Z"
   },
   {
    "duration": 7,
    "start_time": "2024-04-24T17:43:48.457Z"
   },
   {
    "duration": 25,
    "start_time": "2024-04-24T17:43:48.466Z"
   },
   {
    "duration": 471,
    "start_time": "2024-04-24T17:43:48.493Z"
   },
   {
    "duration": 210,
    "start_time": "2024-04-24T17:43:48.966Z"
   },
   {
    "duration": 16,
    "start_time": "2024-04-24T17:43:49.177Z"
   },
   {
    "duration": 12,
    "start_time": "2024-04-24T17:43:49.195Z"
   },
   {
    "duration": 21,
    "start_time": "2024-04-24T17:43:49.220Z"
   },
   {
    "duration": 852,
    "start_time": "2024-04-24T17:43:49.243Z"
   },
   {
    "duration": 4,
    "start_time": "2024-04-24T17:43:50.097Z"
   },
   {
    "duration": 107,
    "start_time": "2024-04-24T17:43:50.102Z"
   },
   {
    "duration": 70,
    "start_time": "2024-04-24T17:43:50.211Z"
   },
   {
    "duration": 12,
    "start_time": "2024-04-24T17:43:50.282Z"
   },
   {
    "duration": 154,
    "start_time": "2024-04-24T17:43:50.296Z"
   },
   {
    "duration": 9,
    "start_time": "2024-04-24T17:43:50.452Z"
   },
   {
    "duration": 38,
    "start_time": "2024-04-24T17:43:50.462Z"
   },
   {
    "duration": 191,
    "start_time": "2024-04-24T17:43:50.501Z"
   },
   {
    "duration": 195,
    "start_time": "2024-04-24T17:43:50.694Z"
   },
   {
    "duration": 11,
    "start_time": "2024-04-24T17:43:50.891Z"
   },
   {
    "duration": 27,
    "start_time": "2024-04-24T17:43:50.904Z"
   },
   {
    "duration": 287,
    "start_time": "2024-04-24T17:43:50.933Z"
   },
   {
    "duration": 463,
    "start_time": "2024-04-24T17:43:51.222Z"
   },
   {
    "duration": 137,
    "start_time": "2024-04-24T17:43:51.686Z"
   },
   {
    "duration": 13,
    "start_time": "2024-04-24T17:43:51.825Z"
   },
   {
    "duration": 112,
    "start_time": "2024-04-24T17:43:51.840Z"
   },
   {
    "duration": 45,
    "start_time": "2024-04-24T17:43:51.954Z"
   },
   {
    "duration": 0,
    "start_time": "2024-04-24T17:43:52.002Z"
   },
   {
    "duration": 0,
    "start_time": "2024-04-24T17:43:52.003Z"
   },
   {
    "duration": 0,
    "start_time": "2024-04-24T17:43:52.005Z"
   },
   {
    "duration": 0,
    "start_time": "2024-04-24T17:43:52.006Z"
   },
   {
    "duration": 0,
    "start_time": "2024-04-24T17:43:52.008Z"
   },
   {
    "duration": 0,
    "start_time": "2024-04-24T17:43:52.009Z"
   },
   {
    "duration": 0,
    "start_time": "2024-04-24T17:43:52.010Z"
   },
   {
    "duration": 0,
    "start_time": "2024-04-24T17:43:52.012Z"
   },
   {
    "duration": 0,
    "start_time": "2024-04-24T17:43:52.013Z"
   },
   {
    "duration": 0,
    "start_time": "2024-04-24T17:43:52.014Z"
   },
   {
    "duration": 0,
    "start_time": "2024-04-24T17:43:52.016Z"
   },
   {
    "duration": 0,
    "start_time": "2024-04-24T17:43:52.017Z"
   },
   {
    "duration": 0,
    "start_time": "2024-04-24T17:43:52.018Z"
   },
   {
    "duration": 0,
    "start_time": "2024-04-24T17:43:52.020Z"
   },
   {
    "duration": 0,
    "start_time": "2024-04-24T17:43:52.021Z"
   },
   {
    "duration": 0,
    "start_time": "2024-04-24T17:43:52.023Z"
   },
   {
    "duration": 0,
    "start_time": "2024-04-24T17:43:52.024Z"
   },
   {
    "duration": 0,
    "start_time": "2024-04-24T17:43:52.026Z"
   },
   {
    "duration": 0,
    "start_time": "2024-04-24T17:43:52.027Z"
   },
   {
    "duration": 0,
    "start_time": "2024-04-24T17:43:52.029Z"
   },
   {
    "duration": 0,
    "start_time": "2024-04-24T17:43:52.030Z"
   },
   {
    "duration": 0,
    "start_time": "2024-04-24T17:43:52.031Z"
   },
   {
    "duration": 0,
    "start_time": "2024-04-24T17:43:52.033Z"
   },
   {
    "duration": 0,
    "start_time": "2024-04-24T17:43:52.034Z"
   },
   {
    "duration": 13,
    "start_time": "2024-04-24T17:44:04.962Z"
   },
   {
    "duration": 3,
    "start_time": "2024-04-24T17:44:05.793Z"
   },
   {
    "duration": 69,
    "start_time": "2024-04-24T17:44:07.133Z"
   },
   {
    "duration": 31,
    "start_time": "2024-04-24T17:44:07.815Z"
   },
   {
    "duration": 4,
    "start_time": "2024-04-24T17:44:08.441Z"
   },
   {
    "duration": 3,
    "start_time": "2024-04-24T17:44:10.339Z"
   },
   {
    "duration": 3,
    "start_time": "2024-04-24T17:44:19.681Z"
   },
   {
    "duration": 3286,
    "start_time": "2024-04-24T17:44:33.808Z"
   },
   {
    "duration": 13,
    "start_time": "2024-04-24T17:44:53.268Z"
   },
   {
    "duration": 96,
    "start_time": "2024-04-24T17:44:54.500Z"
   },
   {
    "duration": 4,
    "start_time": "2024-04-24T17:44:55.377Z"
   },
   {
    "duration": 4,
    "start_time": "2024-04-24T17:45:02.544Z"
   },
   {
    "duration": 3,
    "start_time": "2024-04-24T17:45:03.212Z"
   },
   {
    "duration": 4,
    "start_time": "2024-04-24T17:45:03.978Z"
   },
   {
    "duration": 3,
    "start_time": "2024-04-24T17:45:04.827Z"
   },
   {
    "duration": 104,
    "start_time": "2024-04-24T17:45:19.900Z"
   },
   {
    "duration": 33235,
    "start_time": "2024-04-24T17:46:19.992Z"
   },
   {
    "duration": 25100,
    "start_time": "2024-04-24T17:46:57.050Z"
   },
   {
    "duration": 21607,
    "start_time": "2024-04-24T17:47:41.135Z"
   },
   {
    "duration": 14807,
    "start_time": "2024-04-24T17:48:12.733Z"
   },
   {
    "duration": 20446,
    "start_time": "2024-04-24T17:48:38.896Z"
   },
   {
    "duration": 22104,
    "start_time": "2024-04-24T17:49:06.740Z"
   },
   {
    "duration": 24575,
    "start_time": "2024-04-24T17:49:36.269Z"
   },
   {
    "duration": 26079,
    "start_time": "2024-04-24T17:50:10.150Z"
   },
   {
    "duration": 27879,
    "start_time": "2024-04-24T17:51:07.250Z"
   },
   {
    "duration": 9111,
    "start_time": "2024-04-24T17:51:50.011Z"
   },
   {
    "duration": 24869,
    "start_time": "2024-04-24T17:52:06.865Z"
   },
   {
    "duration": 46893,
    "start_time": "2024-04-24T17:52:50.746Z"
   },
   {
    "duration": 25776,
    "start_time": "2024-04-24T17:53:45.361Z"
   },
   {
    "duration": 25417,
    "start_time": "2024-04-24T17:54:19.608Z"
   },
   {
    "duration": 29224,
    "start_time": "2024-04-24T17:54:52.799Z"
   },
   {
    "duration": 28199,
    "start_time": "2024-04-24T17:55:33.148Z"
   },
   {
    "duration": 33493,
    "start_time": "2024-04-24T17:56:15.343Z"
   },
   {
    "duration": 34608,
    "start_time": "2024-04-24T17:57:03.214Z"
   },
   {
    "duration": 9985,
    "start_time": "2024-04-24T17:58:14.337Z"
   },
   {
    "duration": 21791,
    "start_time": "2024-04-24T17:58:55.657Z"
   },
   {
    "duration": 22810,
    "start_time": "2024-04-24T17:59:26.817Z"
   },
   {
    "duration": 25027,
    "start_time": "2024-04-24T18:00:05.210Z"
   },
   {
    "duration": 36417,
    "start_time": "2024-04-24T18:03:05.125Z"
   },
   {
    "duration": 74255,
    "start_time": "2024-04-24T18:03:51.174Z"
   },
   {
    "duration": 13724,
    "start_time": "2024-04-24T18:05:25.132Z"
   },
   {
    "duration": 9733,
    "start_time": "2024-04-24T18:06:32.732Z"
   },
   {
    "duration": 7754,
    "start_time": "2024-04-24T18:16:53.095Z"
   },
   {
    "duration": 13671,
    "start_time": "2024-04-24T18:17:49.792Z"
   },
   {
    "duration": 42569,
    "start_time": "2024-04-24T18:18:44.282Z"
   },
   {
    "duration": 46678,
    "start_time": "2024-04-24T18:19:49.847Z"
   },
   {
    "duration": 52599,
    "start_time": "2024-04-24T18:21:05.041Z"
   },
   {
    "duration": 55179,
    "start_time": "2024-04-24T18:22:51.709Z"
   },
   {
    "duration": 63631,
    "start_time": "2024-04-24T18:24:07.781Z"
   },
   {
    "duration": 11782,
    "start_time": "2024-04-24T18:25:28.031Z"
   },
   {
    "duration": 8395,
    "start_time": "2024-04-24T18:26:36.051Z"
   },
   {
    "duration": 13198,
    "start_time": "2024-04-24T18:47:51.243Z"
   },
   {
    "duration": 14,
    "start_time": "2024-04-24T18:50:26.048Z"
   },
   {
    "duration": 5,
    "start_time": "2024-04-24T19:02:29.593Z"
   },
   {
    "duration": 4289,
    "start_time": "2024-04-24T19:03:23.496Z"
   },
   {
    "duration": 529,
    "start_time": "2024-04-24T19:04:15.766Z"
   },
   {
    "duration": 8,
    "start_time": "2024-04-24T19:06:59.275Z"
   },
   {
    "duration": 238,
    "start_time": "2024-04-24T19:07:27.351Z"
   },
   {
    "duration": 4,
    "start_time": "2024-04-24T19:08:31.881Z"
   },
   {
    "duration": 169,
    "start_time": "2024-04-24T19:08:38.694Z"
   },
   {
    "duration": 139,
    "start_time": "2024-04-24T19:08:54.372Z"
   },
   {
    "duration": 49,
    "start_time": "2024-04-24T19:10:05.119Z"
   },
   {
    "duration": 35471,
    "start_time": "2024-04-24T19:11:20.656Z"
   },
   {
    "duration": 4,
    "start_time": "2024-04-24T19:12:04.915Z"
   },
   {
    "duration": 143,
    "start_time": "2024-04-24T19:12:19.821Z"
   },
   {
    "duration": 131,
    "start_time": "2024-04-24T19:12:27.424Z"
   },
   {
    "duration": 4,
    "start_time": "2024-04-24T19:22:34.603Z"
   },
   {
    "duration": 1418,
    "start_time": "2024-04-24T19:22:48.176Z"
   },
   {
    "duration": 866,
    "start_time": "2024-04-24T19:22:49.596Z"
   },
   {
    "duration": 14,
    "start_time": "2024-04-24T19:22:50.464Z"
   },
   {
    "duration": 156,
    "start_time": "2024-04-24T19:22:50.480Z"
   },
   {
    "duration": 91,
    "start_time": "2024-04-24T19:22:50.637Z"
   },
   {
    "duration": 450,
    "start_time": "2024-04-24T19:22:50.729Z"
   },
   {
    "duration": 478,
    "start_time": "2024-04-24T19:22:51.180Z"
   },
   {
    "duration": 146,
    "start_time": "2024-04-24T19:22:51.660Z"
   },
   {
    "duration": 42,
    "start_time": "2024-04-24T19:22:51.808Z"
   },
   {
    "duration": 3,
    "start_time": "2024-04-24T19:22:51.853Z"
   },
   {
    "duration": 15,
    "start_time": "2024-04-24T19:22:51.857Z"
   },
   {
    "duration": 38,
    "start_time": "2024-04-24T19:22:51.873Z"
   },
   {
    "duration": 115,
    "start_time": "2024-04-24T19:22:51.912Z"
   },
   {
    "duration": 95,
    "start_time": "2024-04-24T19:22:52.028Z"
   },
   {
    "duration": 8,
    "start_time": "2024-04-24T19:22:52.125Z"
   },
   {
    "duration": 33,
    "start_time": "2024-04-24T19:22:52.135Z"
   },
   {
    "duration": 445,
    "start_time": "2024-04-24T19:22:52.169Z"
   },
   {
    "duration": 220,
    "start_time": "2024-04-24T19:22:52.616Z"
   },
   {
    "duration": 15,
    "start_time": "2024-04-24T19:22:52.837Z"
   },
   {
    "duration": 11,
    "start_time": "2024-04-24T19:22:52.854Z"
   },
   {
    "duration": 21,
    "start_time": "2024-04-24T19:22:52.867Z"
   },
   {
    "duration": 907,
    "start_time": "2024-04-24T19:22:52.889Z"
   },
   {
    "duration": 4,
    "start_time": "2024-04-24T19:22:53.798Z"
   },
   {
    "duration": 116,
    "start_time": "2024-04-24T19:22:53.803Z"
   },
   {
    "duration": 79,
    "start_time": "2024-04-24T19:22:53.920Z"
   },
   {
    "duration": 24,
    "start_time": "2024-04-24T19:22:54.001Z"
   },
   {
    "duration": 143,
    "start_time": "2024-04-24T19:22:54.026Z"
   },
   {
    "duration": 7,
    "start_time": "2024-04-24T19:22:54.172Z"
   },
   {
    "duration": 47,
    "start_time": "2024-04-24T19:22:54.180Z"
   },
   {
    "duration": 185,
    "start_time": "2024-04-24T19:22:54.228Z"
   },
   {
    "duration": 197,
    "start_time": "2024-04-24T19:22:54.420Z"
   },
   {
    "duration": 11,
    "start_time": "2024-04-24T19:22:54.621Z"
   },
   {
    "duration": 19,
    "start_time": "2024-04-24T19:22:54.633Z"
   },
   {
    "duration": 282,
    "start_time": "2024-04-24T19:22:54.653Z"
   },
   {
    "duration": 468,
    "start_time": "2024-04-24T19:22:54.937Z"
   },
   {
    "duration": 126,
    "start_time": "2024-04-24T19:22:55.407Z"
   },
   {
    "duration": 13,
    "start_time": "2024-04-24T19:22:55.535Z"
   },
   {
    "duration": 111,
    "start_time": "2024-04-24T19:22:55.549Z"
   },
   {
    "duration": 47,
    "start_time": "2024-04-24T19:22:55.662Z"
   },
   {
    "duration": 0,
    "start_time": "2024-04-24T19:22:55.710Z"
   },
   {
    "duration": 0,
    "start_time": "2024-04-24T19:22:55.712Z"
   },
   {
    "duration": 0,
    "start_time": "2024-04-24T19:22:55.712Z"
   },
   {
    "duration": 0,
    "start_time": "2024-04-24T19:22:55.714Z"
   },
   {
    "duration": 0,
    "start_time": "2024-04-24T19:22:55.715Z"
   },
   {
    "duration": 0,
    "start_time": "2024-04-24T19:22:55.716Z"
   },
   {
    "duration": 0,
    "start_time": "2024-04-24T19:22:55.717Z"
   },
   {
    "duration": 0,
    "start_time": "2024-04-24T19:22:55.718Z"
   },
   {
    "duration": 0,
    "start_time": "2024-04-24T19:22:55.719Z"
   },
   {
    "duration": 0,
    "start_time": "2024-04-24T19:22:55.720Z"
   },
   {
    "duration": 0,
    "start_time": "2024-04-24T19:22:55.721Z"
   },
   {
    "duration": 0,
    "start_time": "2024-04-24T19:22:55.722Z"
   },
   {
    "duration": 0,
    "start_time": "2024-04-24T19:22:55.723Z"
   },
   {
    "duration": 0,
    "start_time": "2024-04-24T19:22:55.724Z"
   },
   {
    "duration": 0,
    "start_time": "2024-04-24T19:22:55.725Z"
   },
   {
    "duration": 0,
    "start_time": "2024-04-24T19:22:55.726Z"
   },
   {
    "duration": 0,
    "start_time": "2024-04-24T19:22:55.727Z"
   },
   {
    "duration": 0,
    "start_time": "2024-04-24T19:22:55.728Z"
   },
   {
    "duration": 0,
    "start_time": "2024-04-24T19:22:55.728Z"
   },
   {
    "duration": 0,
    "start_time": "2024-04-24T19:22:55.730Z"
   },
   {
    "duration": 0,
    "start_time": "2024-04-24T19:22:55.731Z"
   },
   {
    "duration": 0,
    "start_time": "2024-04-24T19:22:55.732Z"
   },
   {
    "duration": 0,
    "start_time": "2024-04-24T19:22:55.732Z"
   },
   {
    "duration": 0,
    "start_time": "2024-04-24T19:22:55.733Z"
   },
   {
    "duration": 0,
    "start_time": "2024-04-24T19:22:55.734Z"
   },
   {
    "duration": 368,
    "start_time": "2024-04-24T19:24:34.469Z"
   },
   {
    "duration": 452,
    "start_time": "2024-04-24T19:25:31.028Z"
   },
   {
    "duration": 193,
    "start_time": "2024-04-24T19:25:56.320Z"
   },
   {
    "duration": 866,
    "start_time": "2024-04-24T19:26:04.557Z"
   },
   {
    "duration": 146,
    "start_time": "2024-04-24T19:31:54.806Z"
   },
   {
    "duration": 148,
    "start_time": "2024-04-24T19:35:51.510Z"
   },
   {
    "duration": 142,
    "start_time": "2024-04-24T19:36:01.529Z"
   },
   {
    "duration": 70,
    "start_time": "2024-04-24T19:37:45.926Z"
   },
   {
    "duration": 118,
    "start_time": "2024-04-24T19:37:53.011Z"
   },
   {
    "duration": 122,
    "start_time": "2024-04-24T19:38:36.412Z"
   },
   {
    "duration": 1406,
    "start_time": "2024-04-24T19:40:26.393Z"
   },
   {
    "duration": 808,
    "start_time": "2024-04-24T19:40:27.801Z"
   },
   {
    "duration": 17,
    "start_time": "2024-04-24T19:40:28.610Z"
   },
   {
    "duration": 160,
    "start_time": "2024-04-24T19:40:28.628Z"
   },
   {
    "duration": 110,
    "start_time": "2024-04-24T19:40:28.790Z"
   },
   {
    "duration": 465,
    "start_time": "2024-04-24T19:40:28.902Z"
   },
   {
    "duration": 471,
    "start_time": "2024-04-24T19:40:29.369Z"
   },
   {
    "duration": 135,
    "start_time": "2024-04-24T19:40:29.842Z"
   },
   {
    "duration": 27,
    "start_time": "2024-04-24T19:40:29.979Z"
   },
   {
    "duration": 3,
    "start_time": "2024-04-24T19:40:30.020Z"
   },
   {
    "duration": 69,
    "start_time": "2024-04-24T19:40:30.024Z"
   },
   {
    "duration": 106,
    "start_time": "2024-04-24T19:40:30.094Z"
   },
   {
    "duration": 145,
    "start_time": "2024-04-24T19:40:30.201Z"
   },
   {
    "duration": 185,
    "start_time": "2024-04-24T19:40:30.349Z"
   },
   {
    "duration": 154,
    "start_time": "2024-04-24T19:40:30.535Z"
   },
   {
    "duration": 102,
    "start_time": "2024-04-24T19:40:30.691Z"
   },
   {
    "duration": 429,
    "start_time": "2024-04-24T19:40:30.794Z"
   },
   {
    "duration": 270,
    "start_time": "2024-04-24T19:40:31.225Z"
   },
   {
    "duration": 0,
    "start_time": "2024-04-24T19:40:31.498Z"
   },
   {
    "duration": 0,
    "start_time": "2024-04-24T19:40:31.500Z"
   },
   {
    "duration": 0,
    "start_time": "2024-04-24T19:40:31.501Z"
   },
   {
    "duration": 0,
    "start_time": "2024-04-24T19:40:31.503Z"
   },
   {
    "duration": 0,
    "start_time": "2024-04-24T19:40:31.520Z"
   },
   {
    "duration": 0,
    "start_time": "2024-04-24T19:40:31.522Z"
   },
   {
    "duration": 0,
    "start_time": "2024-04-24T19:40:31.523Z"
   },
   {
    "duration": 0,
    "start_time": "2024-04-24T19:40:31.524Z"
   },
   {
    "duration": 0,
    "start_time": "2024-04-24T19:40:31.525Z"
   },
   {
    "duration": 0,
    "start_time": "2024-04-24T19:40:31.527Z"
   },
   {
    "duration": 0,
    "start_time": "2024-04-24T19:40:31.528Z"
   },
   {
    "duration": 0,
    "start_time": "2024-04-24T19:40:31.529Z"
   },
   {
    "duration": 0,
    "start_time": "2024-04-24T19:40:31.531Z"
   },
   {
    "duration": 0,
    "start_time": "2024-04-24T19:40:31.532Z"
   },
   {
    "duration": 0,
    "start_time": "2024-04-24T19:40:31.534Z"
   },
   {
    "duration": 0,
    "start_time": "2024-04-24T19:40:31.535Z"
   },
   {
    "duration": 0,
    "start_time": "2024-04-24T19:40:31.536Z"
   },
   {
    "duration": 0,
    "start_time": "2024-04-24T19:40:31.642Z"
   },
   {
    "duration": 0,
    "start_time": "2024-04-24T19:40:31.643Z"
   },
   {
    "duration": 0,
    "start_time": "2024-04-24T19:40:31.644Z"
   },
   {
    "duration": 0,
    "start_time": "2024-04-24T19:40:31.645Z"
   },
   {
    "duration": 0,
    "start_time": "2024-04-24T19:40:31.646Z"
   },
   {
    "duration": 0,
    "start_time": "2024-04-24T19:40:31.648Z"
   },
   {
    "duration": 1,
    "start_time": "2024-04-24T19:40:31.648Z"
   },
   {
    "duration": 0,
    "start_time": "2024-04-24T19:40:31.649Z"
   },
   {
    "duration": 0,
    "start_time": "2024-04-24T19:40:31.650Z"
   },
   {
    "duration": 0,
    "start_time": "2024-04-24T19:40:31.651Z"
   },
   {
    "duration": 0,
    "start_time": "2024-04-24T19:40:31.652Z"
   },
   {
    "duration": 0,
    "start_time": "2024-04-24T19:40:31.653Z"
   },
   {
    "duration": 0,
    "start_time": "2024-04-24T19:40:31.655Z"
   },
   {
    "duration": 0,
    "start_time": "2024-04-24T19:40:31.656Z"
   },
   {
    "duration": 0,
    "start_time": "2024-04-24T19:40:31.657Z"
   },
   {
    "duration": 0,
    "start_time": "2024-04-24T19:40:31.658Z"
   },
   {
    "duration": 0,
    "start_time": "2024-04-24T19:40:31.659Z"
   },
   {
    "duration": 0,
    "start_time": "2024-04-24T19:40:31.660Z"
   },
   {
    "duration": 0,
    "start_time": "2024-04-24T19:40:31.661Z"
   },
   {
    "duration": 0,
    "start_time": "2024-04-24T19:40:31.662Z"
   },
   {
    "duration": 0,
    "start_time": "2024-04-24T19:40:31.663Z"
   },
   {
    "duration": 0,
    "start_time": "2024-04-24T19:40:31.664Z"
   },
   {
    "duration": 0,
    "start_time": "2024-04-24T19:40:31.665Z"
   },
   {
    "duration": 0,
    "start_time": "2024-04-24T19:40:31.666Z"
   },
   {
    "duration": 0,
    "start_time": "2024-04-24T19:40:31.667Z"
   },
   {
    "duration": 0,
    "start_time": "2024-04-24T19:40:31.668Z"
   },
   {
    "duration": 0,
    "start_time": "2024-04-24T19:40:31.669Z"
   },
   {
    "duration": 0,
    "start_time": "2024-04-24T19:40:31.670Z"
   },
   {
    "duration": 0,
    "start_time": "2024-04-24T19:40:31.671Z"
   },
   {
    "duration": 1733,
    "start_time": "2024-04-24T19:41:49.430Z"
   },
   {
    "duration": 155,
    "start_time": "2024-04-24T19:42:12.259Z"
   },
   {
    "duration": 1692,
    "start_time": "2024-04-24T19:42:25.480Z"
   },
   {
    "duration": 188,
    "start_time": "2024-04-24T19:44:30.427Z"
   },
   {
    "duration": 185,
    "start_time": "2024-04-24T19:44:50.331Z"
   },
   {
    "duration": 14,
    "start_time": "2024-04-24T19:46:32.249Z"
   },
   {
    "duration": 8,
    "start_time": "2024-04-24T19:46:34.726Z"
   },
   {
    "duration": 26,
    "start_time": "2024-04-24T19:46:38.448Z"
   },
   {
    "duration": 919,
    "start_time": "2024-04-24T19:46:43.022Z"
   },
   {
    "duration": 3,
    "start_time": "2024-04-24T19:46:50.520Z"
   },
   {
    "duration": 87,
    "start_time": "2024-04-24T19:46:51.528Z"
   },
   {
    "duration": 70,
    "start_time": "2024-04-24T19:46:52.292Z"
   },
   {
    "duration": 10,
    "start_time": "2024-04-24T19:46:55.100Z"
   },
   {
    "duration": 133,
    "start_time": "2024-04-24T19:46:57.003Z"
   },
   {
    "duration": 8,
    "start_time": "2024-04-24T19:46:59.503Z"
   },
   {
    "duration": 33,
    "start_time": "2024-04-24T19:47:00.870Z"
   },
   {
    "duration": 127,
    "start_time": "2024-04-24T19:47:04.346Z"
   },
   {
    "duration": 179,
    "start_time": "2024-04-24T19:47:12.744Z"
   },
   {
    "duration": 174,
    "start_time": "2024-04-24T19:47:24.956Z"
   },
   {
    "duration": 156,
    "start_time": "2024-04-24T19:47:39.503Z"
   },
   {
    "duration": 186,
    "start_time": "2024-04-24T19:47:45.508Z"
   },
   {
    "duration": 12,
    "start_time": "2024-04-24T19:47:51.107Z"
   },
   {
    "duration": 18,
    "start_time": "2024-04-24T19:47:56.403Z"
   },
   {
    "duration": 272,
    "start_time": "2024-04-24T19:47:58.125Z"
   },
   {
    "duration": 181,
    "start_time": "2024-04-24T19:48:00.992Z"
   },
   {
    "duration": 449,
    "start_time": "2024-04-24T19:48:06.683Z"
   },
   {
    "duration": 188,
    "start_time": "2024-04-24T19:48:09.346Z"
   },
   {
    "duration": 114,
    "start_time": "2024-04-24T19:48:21.974Z"
   },
   {
    "duration": 16,
    "start_time": "2024-04-24T19:48:23.573Z"
   },
   {
    "duration": 99,
    "start_time": "2024-04-24T19:48:24.610Z"
   },
   {
    "duration": 14,
    "start_time": "2024-04-24T19:49:17.719Z"
   },
   {
    "duration": 3,
    "start_time": "2024-04-24T19:49:18.453Z"
   },
   {
    "duration": 65,
    "start_time": "2024-04-24T19:49:20.448Z"
   },
   {
    "duration": 35,
    "start_time": "2024-04-24T19:49:25.991Z"
   },
   {
    "duration": 3,
    "start_time": "2024-04-24T19:49:26.710Z"
   },
   {
    "duration": 2,
    "start_time": "2024-04-24T19:49:32.408Z"
   },
   {
    "duration": 3,
    "start_time": "2024-04-24T19:49:33.301Z"
   },
   {
    "duration": 3059,
    "start_time": "2024-04-24T19:49:34.888Z"
   },
   {
    "duration": 11,
    "start_time": "2024-04-24T19:49:39.568Z"
   },
   {
    "duration": 89,
    "start_time": "2024-04-24T19:49:40.526Z"
   },
   {
    "duration": 4,
    "start_time": "2024-04-24T19:49:46.048Z"
   },
   {
    "duration": 3,
    "start_time": "2024-04-24T19:49:50.307Z"
   },
   {
    "duration": 3,
    "start_time": "2024-04-24T19:49:50.944Z"
   },
   {
    "duration": 6,
    "start_time": "2024-04-24T19:49:51.762Z"
   },
   {
    "duration": 3,
    "start_time": "2024-04-24T19:49:52.327Z"
   },
   {
    "duration": 5,
    "start_time": "2024-04-24T19:49:53.225Z"
   },
   {
    "duration": 15668,
    "start_time": "2024-04-24T19:49:56.966Z"
   },
   {
    "duration": 5,
    "start_time": "2024-04-24T19:50:51.803Z"
   },
   {
    "duration": 13592,
    "start_time": "2024-04-24T19:51:10.650Z"
   },
   {
    "duration": 29975,
    "start_time": "2024-04-24T19:51:32.552Z"
   },
   {
    "duration": 36157,
    "start_time": "2024-04-24T19:52:07.619Z"
   },
   {
    "duration": 55,
    "start_time": "2024-04-24T19:52:59.836Z"
   },
   {
    "duration": 74858,
    "start_time": "2024-04-24T19:53:30.249Z"
   },
   {
    "duration": 54957,
    "start_time": "2024-04-24T19:54:51.616Z"
   },
   {
    "duration": 132,
    "start_time": "2024-04-24T19:55:52.479Z"
   },
   {
    "duration": 7599,
    "start_time": "2024-04-24T19:55:58.861Z"
   },
   {
    "duration": 153,
    "start_time": "2024-04-24T19:56:19.600Z"
   },
   {
    "duration": 497765,
    "start_time": "2024-04-24T19:57:55.360Z"
   },
   {
    "duration": 46,
    "start_time": "2024-04-24T20:06:55.381Z"
   },
   {
    "duration": 248,
    "start_time": "2024-04-24T20:07:08.933Z"
   },
   {
    "duration": 1381,
    "start_time": "2024-04-24T20:07:35.651Z"
   },
   {
    "duration": 810,
    "start_time": "2024-04-24T20:07:37.033Z"
   },
   {
    "duration": 14,
    "start_time": "2024-04-24T20:07:37.844Z"
   },
   {
    "duration": 155,
    "start_time": "2024-04-24T20:07:37.859Z"
   },
   {
    "duration": 87,
    "start_time": "2024-04-24T20:07:38.020Z"
   },
   {
    "duration": 469,
    "start_time": "2024-04-24T20:07:38.109Z"
   },
   {
    "duration": 492,
    "start_time": "2024-04-24T20:07:38.579Z"
   },
   {
    "duration": 142,
    "start_time": "2024-04-24T20:07:39.072Z"
   },
   {
    "duration": 32,
    "start_time": "2024-04-24T20:07:39.220Z"
   },
   {
    "duration": 11,
    "start_time": "2024-04-24T20:07:39.254Z"
   },
   {
    "duration": 15,
    "start_time": "2024-04-24T20:07:39.266Z"
   },
   {
    "duration": 14,
    "start_time": "2024-04-24T20:07:39.282Z"
   },
   {
    "duration": 103,
    "start_time": "2024-04-24T20:07:39.297Z"
   },
   {
    "duration": 92,
    "start_time": "2024-04-24T20:07:39.403Z"
   },
   {
    "duration": 15,
    "start_time": "2024-04-24T20:07:39.496Z"
   },
   {
    "duration": 29,
    "start_time": "2024-04-24T20:07:39.520Z"
   },
   {
    "duration": 428,
    "start_time": "2024-04-24T20:07:39.550Z"
   },
   {
    "duration": 263,
    "start_time": "2024-04-24T20:07:39.980Z"
   },
   {
    "duration": 14,
    "start_time": "2024-04-24T20:07:40.244Z"
   },
   {
    "duration": 11,
    "start_time": "2024-04-24T20:07:40.259Z"
   },
   {
    "duration": 20,
    "start_time": "2024-04-24T20:07:40.271Z"
   },
   {
    "duration": 847,
    "start_time": "2024-04-24T20:07:40.293Z"
   },
   {
    "duration": 3,
    "start_time": "2024-04-24T20:07:41.141Z"
   },
   {
    "duration": 103,
    "start_time": "2024-04-24T20:07:41.146Z"
   },
   {
    "duration": 73,
    "start_time": "2024-04-24T20:07:41.250Z"
   },
   {
    "duration": 10,
    "start_time": "2024-04-24T20:07:41.325Z"
   },
   {
    "duration": 139,
    "start_time": "2024-04-24T20:07:41.337Z"
   },
   {
    "duration": 8,
    "start_time": "2024-04-24T20:07:41.478Z"
   },
   {
    "duration": 53,
    "start_time": "2024-04-24T20:07:41.487Z"
   },
   {
    "duration": 172,
    "start_time": "2024-04-24T20:07:41.542Z"
   },
   {
    "duration": 217,
    "start_time": "2024-04-24T20:07:41.720Z"
   },
   {
    "duration": 12,
    "start_time": "2024-04-24T20:07:41.938Z"
   },
   {
    "duration": 20,
    "start_time": "2024-04-24T20:07:41.952Z"
   },
   {
    "duration": 296,
    "start_time": "2024-04-24T20:07:41.974Z"
   },
   {
    "duration": 450,
    "start_time": "2024-04-24T20:07:42.271Z"
   },
   {
    "duration": 116,
    "start_time": "2024-04-24T20:07:42.722Z"
   },
   {
    "duration": 32,
    "start_time": "2024-04-24T20:07:42.839Z"
   },
   {
    "duration": 114,
    "start_time": "2024-04-24T20:07:42.872Z"
   },
   {
    "duration": 340,
    "start_time": "2024-04-24T20:07:42.988Z"
   },
   {
    "duration": 0,
    "start_time": "2024-04-24T20:07:43.331Z"
   },
   {
    "duration": 0,
    "start_time": "2024-04-24T20:07:43.332Z"
   },
   {
    "duration": 0,
    "start_time": "2024-04-24T20:07:43.333Z"
   },
   {
    "duration": 0,
    "start_time": "2024-04-24T20:07:43.334Z"
   },
   {
    "duration": 0,
    "start_time": "2024-04-24T20:07:43.335Z"
   },
   {
    "duration": 0,
    "start_time": "2024-04-24T20:07:43.336Z"
   },
   {
    "duration": 0,
    "start_time": "2024-04-24T20:07:43.337Z"
   },
   {
    "duration": 0,
    "start_time": "2024-04-24T20:07:43.338Z"
   },
   {
    "duration": 0,
    "start_time": "2024-04-24T20:07:43.339Z"
   },
   {
    "duration": 0,
    "start_time": "2024-04-24T20:07:43.340Z"
   },
   {
    "duration": 0,
    "start_time": "2024-04-24T20:07:43.341Z"
   },
   {
    "duration": 0,
    "start_time": "2024-04-24T20:07:43.342Z"
   },
   {
    "duration": 0,
    "start_time": "2024-04-24T20:07:43.343Z"
   },
   {
    "duration": 0,
    "start_time": "2024-04-24T20:07:43.344Z"
   },
   {
    "duration": 0,
    "start_time": "2024-04-24T20:07:43.345Z"
   },
   {
    "duration": 0,
    "start_time": "2024-04-24T20:07:43.346Z"
   },
   {
    "duration": 0,
    "start_time": "2024-04-24T20:07:43.347Z"
   },
   {
    "duration": 0,
    "start_time": "2024-04-24T20:07:43.348Z"
   },
   {
    "duration": 0,
    "start_time": "2024-04-24T20:07:43.349Z"
   },
   {
    "duration": 0,
    "start_time": "2024-04-24T20:07:43.350Z"
   },
   {
    "duration": 0,
    "start_time": "2024-04-24T20:07:43.351Z"
   },
   {
    "duration": 0,
    "start_time": "2024-04-24T20:07:43.352Z"
   },
   {
    "duration": 0,
    "start_time": "2024-04-24T20:07:43.353Z"
   },
   {
    "duration": 0,
    "start_time": "2024-04-24T20:07:43.354Z"
   },
   {
    "duration": 0,
    "start_time": "2024-04-24T20:07:43.355Z"
   },
   {
    "duration": 1391,
    "start_time": "2024-04-24T20:08:20.315Z"
   },
   {
    "duration": 876,
    "start_time": "2024-04-24T20:08:21.708Z"
   },
   {
    "duration": 15,
    "start_time": "2024-04-24T20:08:22.588Z"
   },
   {
    "duration": 156,
    "start_time": "2024-04-24T20:08:22.604Z"
   },
   {
    "duration": 93,
    "start_time": "2024-04-24T20:08:22.762Z"
   },
   {
    "duration": 443,
    "start_time": "2024-04-24T20:08:22.856Z"
   },
   {
    "duration": 468,
    "start_time": "2024-04-24T20:08:23.307Z"
   },
   {
    "duration": 137,
    "start_time": "2024-04-24T20:08:23.777Z"
   },
   {
    "duration": 30,
    "start_time": "2024-04-24T20:08:23.921Z"
   },
   {
    "duration": 14,
    "start_time": "2024-04-24T20:08:23.953Z"
   },
   {
    "duration": 12,
    "start_time": "2024-04-24T20:08:23.968Z"
   },
   {
    "duration": 19,
    "start_time": "2024-04-24T20:08:23.981Z"
   },
   {
    "duration": 95,
    "start_time": "2024-04-24T20:08:24.002Z"
   },
   {
    "duration": 88,
    "start_time": "2024-04-24T20:08:24.099Z"
   },
   {
    "duration": 10,
    "start_time": "2024-04-24T20:08:24.188Z"
   },
   {
    "duration": 41,
    "start_time": "2024-04-24T20:08:24.199Z"
   },
   {
    "duration": 425,
    "start_time": "2024-04-24T20:08:24.241Z"
   },
   {
    "duration": 195,
    "start_time": "2024-04-24T20:08:24.667Z"
   },
   {
    "duration": 12,
    "start_time": "2024-04-24T20:08:24.863Z"
   },
   {
    "duration": 9,
    "start_time": "2024-04-24T20:08:24.877Z"
   },
   {
    "duration": 32,
    "start_time": "2024-04-24T20:08:24.888Z"
   },
   {
    "duration": 871,
    "start_time": "2024-04-24T20:08:24.922Z"
   },
   {
    "duration": 4,
    "start_time": "2024-04-24T20:08:25.795Z"
   },
   {
    "duration": 116,
    "start_time": "2024-04-24T20:08:25.801Z"
   },
   {
    "duration": 70,
    "start_time": "2024-04-24T20:08:25.918Z"
   },
   {
    "duration": 10,
    "start_time": "2024-04-24T20:08:25.990Z"
   },
   {
    "duration": 130,
    "start_time": "2024-04-24T20:08:26.020Z"
   },
   {
    "duration": 8,
    "start_time": "2024-04-24T20:08:26.152Z"
   },
   {
    "duration": 44,
    "start_time": "2024-04-24T20:08:26.162Z"
   },
   {
    "duration": 187,
    "start_time": "2024-04-24T20:08:26.208Z"
   },
   {
    "duration": 192,
    "start_time": "2024-04-24T20:08:26.397Z"
   },
   {
    "duration": 11,
    "start_time": "2024-04-24T20:08:26.590Z"
   },
   {
    "duration": 27,
    "start_time": "2024-04-24T20:08:26.603Z"
   },
   {
    "duration": 297,
    "start_time": "2024-04-24T20:08:26.631Z"
   },
   {
    "duration": 489,
    "start_time": "2024-04-24T20:08:26.931Z"
   },
   {
    "duration": 117,
    "start_time": "2024-04-24T20:08:27.422Z"
   },
   {
    "duration": 13,
    "start_time": "2024-04-24T20:08:27.540Z"
   },
   {
    "duration": 108,
    "start_time": "2024-04-24T20:08:27.554Z"
   },
   {
    "duration": 13,
    "start_time": "2024-04-24T20:08:27.664Z"
   },
   {
    "duration": 3,
    "start_time": "2024-04-24T20:08:27.678Z"
   },
   {
    "duration": 85,
    "start_time": "2024-04-24T20:08:27.682Z"
   },
   {
    "duration": 32,
    "start_time": "2024-04-24T20:08:27.768Z"
   },
   {
    "duration": 5,
    "start_time": "2024-04-24T20:08:27.801Z"
   },
   {
    "duration": 14,
    "start_time": "2024-04-24T20:08:27.807Z"
   },
   {
    "duration": 3,
    "start_time": "2024-04-24T20:08:27.823Z"
   },
   {
    "duration": 3247,
    "start_time": "2024-04-24T20:08:27.827Z"
   },
   {
    "duration": 13,
    "start_time": "2024-04-24T20:08:31.076Z"
   },
   {
    "duration": 123,
    "start_time": "2024-04-24T20:08:31.091Z"
   },
   {
    "duration": 5,
    "start_time": "2024-04-24T20:08:31.216Z"
   },
   {
    "duration": 56,
    "start_time": "2024-04-24T20:08:31.223Z"
   },
   {
    "duration": 45,
    "start_time": "2024-04-24T20:08:31.281Z"
   },
   {
    "duration": 116,
    "start_time": "2024-04-24T20:08:31.328Z"
   },
   {
    "duration": 29,
    "start_time": "2024-04-24T20:08:31.445Z"
   },
   {
    "duration": 26,
    "start_time": "2024-04-24T20:08:31.475Z"
   },
   {
    "duration": 850338,
    "start_time": "2024-04-24T20:08:31.503Z"
   },
   {
    "duration": 80484,
    "start_time": "2024-04-24T20:22:41.843Z"
   },
   {
    "duration": 35268,
    "start_time": "2024-04-24T20:24:02.329Z"
   },
   {
    "duration": 73948,
    "start_time": "2024-04-24T20:24:37.599Z"
   },
   {
    "duration": 54319,
    "start_time": "2024-04-24T20:25:51.549Z"
   },
   {
    "duration": 138,
    "start_time": "2024-04-24T20:26:45.869Z"
   },
   {
    "duration": 7533,
    "start_time": "2024-04-24T20:26:46.009Z"
   },
   {
    "duration": 151,
    "start_time": "2024-04-24T20:26:53.544Z"
   },
   {
    "duration": 13426,
    "start_time": "2024-04-24T20:26:53.697Z"
   },
   {
    "duration": 1605,
    "start_time": "2024-06-13T12:04:14.525Z"
   },
   {
    "duration": 3202,
    "start_time": "2024-06-13T12:04:16.132Z"
   },
   {
    "duration": 18,
    "start_time": "2024-06-13T12:04:19.337Z"
   },
   {
    "duration": 195,
    "start_time": "2024-06-13T12:04:19.356Z"
   },
   {
    "duration": 108,
    "start_time": "2024-06-13T12:04:19.553Z"
   },
   {
    "duration": 564,
    "start_time": "2024-06-13T12:04:19.662Z"
   },
   {
    "duration": 561,
    "start_time": "2024-06-13T12:04:20.227Z"
   },
   {
    "duration": 168,
    "start_time": "2024-06-13T12:04:20.791Z"
   },
   {
    "duration": 54,
    "start_time": "2024-06-13T12:04:20.961Z"
   },
   {
    "duration": 3,
    "start_time": "2024-06-13T12:04:21.017Z"
   },
   {
    "duration": 16,
    "start_time": "2024-06-13T12:04:21.021Z"
   },
   {
    "duration": 24,
    "start_time": "2024-06-13T12:04:21.039Z"
   },
   {
    "duration": 113,
    "start_time": "2024-06-13T12:04:21.065Z"
   },
   {
    "duration": 104,
    "start_time": "2024-06-13T12:04:21.181Z"
   },
   {
    "duration": 13,
    "start_time": "2024-06-13T12:04:21.287Z"
   },
   {
    "duration": 26,
    "start_time": "2024-06-13T12:04:21.302Z"
   },
   {
    "duration": 506,
    "start_time": "2024-06-13T12:04:21.331Z"
   },
   {
    "duration": 204,
    "start_time": "2024-06-13T12:04:21.839Z"
   },
   {
    "duration": 17,
    "start_time": "2024-06-13T12:04:22.045Z"
   },
   {
    "duration": 26,
    "start_time": "2024-06-13T12:04:22.064Z"
   },
   {
    "duration": 25,
    "start_time": "2024-06-13T12:04:22.092Z"
   },
   {
    "duration": 1008,
    "start_time": "2024-06-13T12:04:22.119Z"
   },
   {
    "duration": 4,
    "start_time": "2024-06-13T12:04:23.129Z"
   },
   {
    "duration": 142,
    "start_time": "2024-06-13T12:04:23.134Z"
   },
   {
    "duration": 60,
    "start_time": "2024-06-13T12:04:23.278Z"
   },
   {
    "duration": 13,
    "start_time": "2024-06-13T12:04:23.340Z"
   },
   {
    "duration": 183,
    "start_time": "2024-06-13T12:04:23.355Z"
   },
   {
    "duration": 8,
    "start_time": "2024-06-13T12:04:23.540Z"
   },
   {
    "duration": 60,
    "start_time": "2024-06-13T12:04:23.550Z"
   },
   {
    "duration": 191,
    "start_time": "2024-06-13T12:04:23.612Z"
   },
   {
    "duration": 223,
    "start_time": "2024-06-13T12:04:23.805Z"
   },
   {
    "duration": 12,
    "start_time": "2024-06-13T12:04:24.030Z"
   },
   {
    "duration": 30,
    "start_time": "2024-06-13T12:04:24.044Z"
   },
   {
    "duration": 326,
    "start_time": "2024-06-13T12:04:24.076Z"
   },
   {
    "duration": 506,
    "start_time": "2024-06-13T12:04:24.404Z"
   },
   {
    "duration": 137,
    "start_time": "2024-06-13T12:04:24.912Z"
   },
   {
    "duration": 17,
    "start_time": "2024-06-13T12:04:25.051Z"
   }
  ],
  "kernelspec": {
   "display_name": "Python 3 (ipykernel)",
   "language": "python",
   "name": "python3"
  },
  "language_info": {
   "codemirror_mode": {
    "name": "ipython",
    "version": 3
   },
   "file_extension": ".py",
   "mimetype": "text/x-python",
   "name": "python",
   "nbconvert_exporter": "python",
   "pygments_lexer": "ipython3",
   "version": "3.11.5"
  },
  "toc": {
   "base_numbering": 1,
   "nav_menu": {},
   "number_sections": true,
   "sideBar": true,
   "skip_h1_title": true,
   "title_cell": "Table of Contents",
   "title_sidebar": "Contents",
   "toc_cell": false,
   "toc_position": {},
   "toc_section_display": true,
   "toc_window_display": true
  }
 },
 "nbformat": 4,
 "nbformat_minor": 2
}
