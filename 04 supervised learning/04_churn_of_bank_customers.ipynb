{
 "cells": [
  {
   "cell_type": "markdown",
   "metadata": {},
   "source": [
    "# Отток клиентов"
   ]
  },
  {
   "cell_type": "markdown",
   "metadata": {},
   "source": [
    "Из «Бета-Банка» стали уходить клиенты. Каждый месяц. Немного, но заметно. Банковские маркетологи посчитали: сохранять текущих клиентов дешевле, чем привлекать новых.\n",
    "\n",
    "Нужно спрогнозировать, уйдёт клиент из банка в ближайшее время или нет. Вам предоставлены исторические данные о поведении клиентов и расторжении договоров с банком. \n",
    "\n",
    "Постройте модель с предельно большим значением *F1*-меры. Чтобы сдать проект успешно, нужно довести метрику до 0.59. Проверьте *F1*-меру на тестовой выборке самостоятельно.\n",
    "\n",
    "Дополнительно измеряйте *AUC-ROC*, сравнивайте её значение с *F1*-мерой.\n",
    "\n",
    "Источник данных: [https://www.kaggle.com/barelydedicated/bank-customer-churn-modeling](https://www.kaggle.com/barelydedicated/bank-customer-churn-modeling)"
   ]
  },
  {
   "cell_type": "markdown",
   "metadata": {},
   "source": [
    "***Описание данных***\n",
    "\n",
    "**Признак**\n",
    "\n",
    "- RowNumber — индекс строки в данных\n",
    "- CustomerId — уникальный идентификатор клиента\n",
    "- Surname — фамилия\n",
    "- CreditScore — кредитный рейтинг\n",
    "- Geography — страна проживания\n",
    "- Gender — пол\n",
    "- Age — возраст\n",
    "- Tenure — сколько лет человек является клиентом банка\n",
    "- Balance — баланс на счёте\n",
    "- NumOfProducts — количество продуктов банка, используемых клиентом\n",
    "- HasCrCard — наличие кредитной карты\n",
    "- IsActiveMember — активность клиента\n",
    "- EstimatedSalary — предполагаемая зарплата\n",
    "\n",
    "\n",
    "**Целевой признак**\n",
    "- Exited — факт ухода клиента\n"
   ]
  },
  {
   "cell_type": "markdown",
   "metadata": {},
   "source": [
    "## Подготовка данных"
   ]
  },
  {
   "cell_type": "code",
   "execution_count": 1,
   "metadata": {},
   "outputs": [],
   "source": [
    "import pandas as pd\n",
    "import matplotlib.pyplot as plt\n",
    "\n",
    "from sklearn.model_selection import train_test_split\n",
    "from sklearn.preprocessing import StandardScaler\n",
    "\n",
    "from sklearn.metrics import (\n",
    "    accuracy_score, \n",
    "    confusion_matrix, \n",
    "    precision_score, \n",
    "    recall_score, \n",
    "    f1_score, \n",
    "    roc_auc_score, \n",
    "    roc_curve\n",
    ")\n",
    "\n",
    "from tqdm import tqdm\n",
    "from sklearn.utils import shuffle\n",
    "\n",
    "from sklearn.tree import DecisionTreeClassifier\n",
    "from sklearn.ensemble import RandomForestClassifier\n",
    "from sklearn.linear_model import LogisticRegression\n"
   ]
  },
  {
   "cell_type": "code",
   "execution_count": 2,
   "metadata": {},
   "outputs": [],
   "source": [
    "data = pd.read_csv('/datasets/Churn.csv') #прочитаем csv-файл"
   ]
  },
  {
   "cell_type": "code",
   "execution_count": 3,
   "metadata": {},
   "outputs": [
    {
     "data": {
      "text/html": [
       "<div>\n",
       "<style scoped>\n",
       "    .dataframe tbody tr th:only-of-type {\n",
       "        vertical-align: middle;\n",
       "    }\n",
       "\n",
       "    .dataframe tbody tr th {\n",
       "        vertical-align: top;\n",
       "    }\n",
       "\n",
       "    .dataframe thead th {\n",
       "        text-align: right;\n",
       "    }\n",
       "</style>\n",
       "<table border=\"1\" class=\"dataframe\">\n",
       "  <thead>\n",
       "    <tr style=\"text-align: right;\">\n",
       "      <th></th>\n",
       "      <th>RowNumber</th>\n",
       "      <th>CustomerId</th>\n",
       "      <th>Surname</th>\n",
       "      <th>CreditScore</th>\n",
       "      <th>Geography</th>\n",
       "      <th>Gender</th>\n",
       "      <th>Age</th>\n",
       "      <th>Tenure</th>\n",
       "      <th>Balance</th>\n",
       "      <th>NumOfProducts</th>\n",
       "      <th>HasCrCard</th>\n",
       "      <th>IsActiveMember</th>\n",
       "      <th>EstimatedSalary</th>\n",
       "      <th>Exited</th>\n",
       "    </tr>\n",
       "  </thead>\n",
       "  <tbody>\n",
       "    <tr>\n",
       "      <th>0</th>\n",
       "      <td>1</td>\n",
       "      <td>15634602</td>\n",
       "      <td>Hargrave</td>\n",
       "      <td>619</td>\n",
       "      <td>France</td>\n",
       "      <td>Female</td>\n",
       "      <td>42</td>\n",
       "      <td>2.0</td>\n",
       "      <td>0.00</td>\n",
       "      <td>1</td>\n",
       "      <td>1</td>\n",
       "      <td>1</td>\n",
       "      <td>101348.88</td>\n",
       "      <td>1</td>\n",
       "    </tr>\n",
       "    <tr>\n",
       "      <th>1</th>\n",
       "      <td>2</td>\n",
       "      <td>15647311</td>\n",
       "      <td>Hill</td>\n",
       "      <td>608</td>\n",
       "      <td>Spain</td>\n",
       "      <td>Female</td>\n",
       "      <td>41</td>\n",
       "      <td>1.0</td>\n",
       "      <td>83807.86</td>\n",
       "      <td>1</td>\n",
       "      <td>0</td>\n",
       "      <td>1</td>\n",
       "      <td>112542.58</td>\n",
       "      <td>0</td>\n",
       "    </tr>\n",
       "    <tr>\n",
       "      <th>2</th>\n",
       "      <td>3</td>\n",
       "      <td>15619304</td>\n",
       "      <td>Onio</td>\n",
       "      <td>502</td>\n",
       "      <td>France</td>\n",
       "      <td>Female</td>\n",
       "      <td>42</td>\n",
       "      <td>8.0</td>\n",
       "      <td>159660.80</td>\n",
       "      <td>3</td>\n",
       "      <td>1</td>\n",
       "      <td>0</td>\n",
       "      <td>113931.57</td>\n",
       "      <td>1</td>\n",
       "    </tr>\n",
       "    <tr>\n",
       "      <th>3</th>\n",
       "      <td>4</td>\n",
       "      <td>15701354</td>\n",
       "      <td>Boni</td>\n",
       "      <td>699</td>\n",
       "      <td>France</td>\n",
       "      <td>Female</td>\n",
       "      <td>39</td>\n",
       "      <td>1.0</td>\n",
       "      <td>0.00</td>\n",
       "      <td>2</td>\n",
       "      <td>0</td>\n",
       "      <td>0</td>\n",
       "      <td>93826.63</td>\n",
       "      <td>0</td>\n",
       "    </tr>\n",
       "    <tr>\n",
       "      <th>4</th>\n",
       "      <td>5</td>\n",
       "      <td>15737888</td>\n",
       "      <td>Mitchell</td>\n",
       "      <td>850</td>\n",
       "      <td>Spain</td>\n",
       "      <td>Female</td>\n",
       "      <td>43</td>\n",
       "      <td>2.0</td>\n",
       "      <td>125510.82</td>\n",
       "      <td>1</td>\n",
       "      <td>1</td>\n",
       "      <td>1</td>\n",
       "      <td>79084.10</td>\n",
       "      <td>0</td>\n",
       "    </tr>\n",
       "  </tbody>\n",
       "</table>\n",
       "</div>"
      ],
      "text/plain": [
       "   RowNumber  CustomerId   Surname  CreditScore Geography  Gender  Age  \\\n",
       "0          1    15634602  Hargrave          619    France  Female   42   \n",
       "1          2    15647311      Hill          608     Spain  Female   41   \n",
       "2          3    15619304      Onio          502    France  Female   42   \n",
       "3          4    15701354      Boni          699    France  Female   39   \n",
       "4          5    15737888  Mitchell          850     Spain  Female   43   \n",
       "\n",
       "   Tenure    Balance  NumOfProducts  HasCrCard  IsActiveMember  \\\n",
       "0     2.0       0.00              1          1               1   \n",
       "1     1.0   83807.86              1          0               1   \n",
       "2     8.0  159660.80              3          1               0   \n",
       "3     1.0       0.00              2          0               0   \n",
       "4     2.0  125510.82              1          1               1   \n",
       "\n",
       "   EstimatedSalary  Exited  \n",
       "0        101348.88       1  \n",
       "1        112542.58       0  \n",
       "2        113931.57       1  \n",
       "3         93826.63       0  \n",
       "4         79084.10       0  "
      ]
     },
     "execution_count": 3,
     "metadata": {},
     "output_type": "execute_result"
    }
   ],
   "source": [
    "data.head() #помотрим первые строки"
   ]
  },
  {
   "cell_type": "code",
   "execution_count": 4,
   "metadata": {},
   "outputs": [
    {
     "name": "stdout",
     "output_type": "stream",
     "text": [
      "<class 'pandas.core.frame.DataFrame'>\n",
      "RangeIndex: 10000 entries, 0 to 9999\n",
      "Data columns (total 14 columns):\n",
      " #   Column           Non-Null Count  Dtype  \n",
      "---  ------           --------------  -----  \n",
      " 0   RowNumber        10000 non-null  int64  \n",
      " 1   CustomerId       10000 non-null  int64  \n",
      " 2   Surname          10000 non-null  object \n",
      " 3   CreditScore      10000 non-null  int64  \n",
      " 4   Geography        10000 non-null  object \n",
      " 5   Gender           10000 non-null  object \n",
      " 6   Age              10000 non-null  int64  \n",
      " 7   Tenure           9091 non-null   float64\n",
      " 8   Balance          10000 non-null  float64\n",
      " 9   NumOfProducts    10000 non-null  int64  \n",
      " 10  HasCrCard        10000 non-null  int64  \n",
      " 11  IsActiveMember   10000 non-null  int64  \n",
      " 12  EstimatedSalary  10000 non-null  float64\n",
      " 13  Exited           10000 non-null  int64  \n",
      "dtypes: float64(3), int64(8), object(3)\n",
      "memory usage: 1.1+ MB\n"
     ]
    }
   ],
   "source": [
    "data.info()"
   ]
  },
  {
   "cell_type": "code",
   "execution_count": 5,
   "metadata": {},
   "outputs": [
    {
     "data": {
      "text/plain": [
       "Index(['RowNumber', 'CustomerId', 'Surname', 'CreditScore', 'Geography',\n",
       "       'Gender', 'Age', 'Tenure', 'Balance', 'NumOfProducts', 'HasCrCard',\n",
       "       'IsActiveMember', 'EstimatedSalary', 'Exited'],\n",
       "      dtype='object')"
      ]
     },
     "execution_count": 5,
     "metadata": {},
     "output_type": "execute_result"
    }
   ],
   "source": [
    "data.columns #перечень названий столбцов"
   ]
  },
  {
   "cell_type": "code",
   "execution_count": 6,
   "metadata": {},
   "outputs": [],
   "source": [
    "data.columns = ['row_number', 'customer_id', 'surname', 'credit_score', 'geography', 'gender', \\\n",
    "                'age', 'tenure', 'balance', 'num_opf_products', 'has_cr_card', 'is_active_member',\\\n",
    "               'estimated_salary','exited'] # переименование столбцов "
   ]
  },
  {
   "cell_type": "code",
   "execution_count": 7,
   "metadata": {},
   "outputs": [
    {
     "data": {
      "text/plain": [
       "row_number            0\n",
       "customer_id           0\n",
       "surname               0\n",
       "credit_score          0\n",
       "geography             0\n",
       "gender                0\n",
       "age                   0\n",
       "tenure              909\n",
       "balance               0\n",
       "num_opf_products      0\n",
       "has_cr_card           0\n",
       "is_active_member      0\n",
       "estimated_salary      0\n",
       "exited                0\n",
       "dtype: int64"
      ]
     },
     "execution_count": 7,
     "metadata": {},
     "output_type": "execute_result"
    }
   ],
   "source": [
    "data.isna().sum() #проверка на отсутствие пропусков"
   ]
  },
  {
   "cell_type": "markdown",
   "metadata": {},
   "source": [
    "Заполнять средним или медианным значением пропуски в столбце о клиентских годах не будем, чтобы не было искажения данных. Пропуски составляют менее 10%, удалим их."
   ]
  },
  {
   "cell_type": "code",
   "execution_count": 8,
   "metadata": {},
   "outputs": [
    {
     "data": {
      "text/plain": [
       "0"
      ]
     },
     "execution_count": 8,
     "metadata": {},
     "output_type": "execute_result"
    }
   ],
   "source": [
    "data.duplicated().sum() #проверим на явные дубликаты"
   ]
  },
  {
   "cell_type": "code",
   "execution_count": 9,
   "metadata": {},
   "outputs": [
    {
     "data": {
      "text/html": [
       "<div>\n",
       "<style scoped>\n",
       "    .dataframe tbody tr th:only-of-type {\n",
       "        vertical-align: middle;\n",
       "    }\n",
       "\n",
       "    .dataframe tbody tr th {\n",
       "        vertical-align: top;\n",
       "    }\n",
       "\n",
       "    .dataframe thead th {\n",
       "        text-align: right;\n",
       "    }\n",
       "</style>\n",
       "<table border=\"1\" class=\"dataframe\">\n",
       "  <thead>\n",
       "    <tr style=\"text-align: right;\">\n",
       "      <th></th>\n",
       "      <th>credit_score</th>\n",
       "      <th>geography</th>\n",
       "      <th>gender</th>\n",
       "      <th>age</th>\n",
       "      <th>tenure</th>\n",
       "      <th>balance</th>\n",
       "      <th>num_opf_products</th>\n",
       "      <th>has_cr_card</th>\n",
       "      <th>is_active_member</th>\n",
       "      <th>estimated_salary</th>\n",
       "      <th>exited</th>\n",
       "    </tr>\n",
       "  </thead>\n",
       "  <tbody>\n",
       "    <tr>\n",
       "      <th>0</th>\n",
       "      <td>619</td>\n",
       "      <td>France</td>\n",
       "      <td>Female</td>\n",
       "      <td>42</td>\n",
       "      <td>2.0</td>\n",
       "      <td>0.00</td>\n",
       "      <td>1</td>\n",
       "      <td>1</td>\n",
       "      <td>1</td>\n",
       "      <td>101348.88</td>\n",
       "      <td>1</td>\n",
       "    </tr>\n",
       "    <tr>\n",
       "      <th>1</th>\n",
       "      <td>608</td>\n",
       "      <td>Spain</td>\n",
       "      <td>Female</td>\n",
       "      <td>41</td>\n",
       "      <td>1.0</td>\n",
       "      <td>83807.86</td>\n",
       "      <td>1</td>\n",
       "      <td>0</td>\n",
       "      <td>1</td>\n",
       "      <td>112542.58</td>\n",
       "      <td>0</td>\n",
       "    </tr>\n",
       "    <tr>\n",
       "      <th>2</th>\n",
       "      <td>502</td>\n",
       "      <td>France</td>\n",
       "      <td>Female</td>\n",
       "      <td>42</td>\n",
       "      <td>8.0</td>\n",
       "      <td>159660.80</td>\n",
       "      <td>3</td>\n",
       "      <td>1</td>\n",
       "      <td>0</td>\n",
       "      <td>113931.57</td>\n",
       "      <td>1</td>\n",
       "    </tr>\n",
       "    <tr>\n",
       "      <th>3</th>\n",
       "      <td>699</td>\n",
       "      <td>France</td>\n",
       "      <td>Female</td>\n",
       "      <td>39</td>\n",
       "      <td>1.0</td>\n",
       "      <td>0.00</td>\n",
       "      <td>2</td>\n",
       "      <td>0</td>\n",
       "      <td>0</td>\n",
       "      <td>93826.63</td>\n",
       "      <td>0</td>\n",
       "    </tr>\n",
       "    <tr>\n",
       "      <th>4</th>\n",
       "      <td>850</td>\n",
       "      <td>Spain</td>\n",
       "      <td>Female</td>\n",
       "      <td>43</td>\n",
       "      <td>2.0</td>\n",
       "      <td>125510.82</td>\n",
       "      <td>1</td>\n",
       "      <td>1</td>\n",
       "      <td>1</td>\n",
       "      <td>79084.10</td>\n",
       "      <td>0</td>\n",
       "    </tr>\n",
       "    <tr>\n",
       "      <th>...</th>\n",
       "      <td>...</td>\n",
       "      <td>...</td>\n",
       "      <td>...</td>\n",
       "      <td>...</td>\n",
       "      <td>...</td>\n",
       "      <td>...</td>\n",
       "      <td>...</td>\n",
       "      <td>...</td>\n",
       "      <td>...</td>\n",
       "      <td>...</td>\n",
       "      <td>...</td>\n",
       "    </tr>\n",
       "    <tr>\n",
       "      <th>9994</th>\n",
       "      <td>800</td>\n",
       "      <td>France</td>\n",
       "      <td>Female</td>\n",
       "      <td>29</td>\n",
       "      <td>2.0</td>\n",
       "      <td>0.00</td>\n",
       "      <td>2</td>\n",
       "      <td>0</td>\n",
       "      <td>0</td>\n",
       "      <td>167773.55</td>\n",
       "      <td>0</td>\n",
       "    </tr>\n",
       "    <tr>\n",
       "      <th>9995</th>\n",
       "      <td>771</td>\n",
       "      <td>France</td>\n",
       "      <td>Male</td>\n",
       "      <td>39</td>\n",
       "      <td>5.0</td>\n",
       "      <td>0.00</td>\n",
       "      <td>2</td>\n",
       "      <td>1</td>\n",
       "      <td>0</td>\n",
       "      <td>96270.64</td>\n",
       "      <td>0</td>\n",
       "    </tr>\n",
       "    <tr>\n",
       "      <th>9996</th>\n",
       "      <td>516</td>\n",
       "      <td>France</td>\n",
       "      <td>Male</td>\n",
       "      <td>35</td>\n",
       "      <td>10.0</td>\n",
       "      <td>57369.61</td>\n",
       "      <td>1</td>\n",
       "      <td>1</td>\n",
       "      <td>1</td>\n",
       "      <td>101699.77</td>\n",
       "      <td>0</td>\n",
       "    </tr>\n",
       "    <tr>\n",
       "      <th>9997</th>\n",
       "      <td>709</td>\n",
       "      <td>France</td>\n",
       "      <td>Female</td>\n",
       "      <td>36</td>\n",
       "      <td>7.0</td>\n",
       "      <td>0.00</td>\n",
       "      <td>1</td>\n",
       "      <td>0</td>\n",
       "      <td>1</td>\n",
       "      <td>42085.58</td>\n",
       "      <td>1</td>\n",
       "    </tr>\n",
       "    <tr>\n",
       "      <th>9998</th>\n",
       "      <td>772</td>\n",
       "      <td>Germany</td>\n",
       "      <td>Male</td>\n",
       "      <td>42</td>\n",
       "      <td>3.0</td>\n",
       "      <td>75075.31</td>\n",
       "      <td>2</td>\n",
       "      <td>1</td>\n",
       "      <td>0</td>\n",
       "      <td>92888.52</td>\n",
       "      <td>1</td>\n",
       "    </tr>\n",
       "  </tbody>\n",
       "</table>\n",
       "<p>9091 rows × 11 columns</p>\n",
       "</div>"
      ],
      "text/plain": [
       "      credit_score geography  gender  age  tenure    balance  \\\n",
       "0              619    France  Female   42     2.0       0.00   \n",
       "1              608     Spain  Female   41     1.0   83807.86   \n",
       "2              502    France  Female   42     8.0  159660.80   \n",
       "3              699    France  Female   39     1.0       0.00   \n",
       "4              850     Spain  Female   43     2.0  125510.82   \n",
       "...            ...       ...     ...  ...     ...        ...   \n",
       "9994           800    France  Female   29     2.0       0.00   \n",
       "9995           771    France    Male   39     5.0       0.00   \n",
       "9996           516    France    Male   35    10.0   57369.61   \n",
       "9997           709    France  Female   36     7.0       0.00   \n",
       "9998           772   Germany    Male   42     3.0   75075.31   \n",
       "\n",
       "      num_opf_products  has_cr_card  is_active_member  estimated_salary  \\\n",
       "0                    1            1                 1         101348.88   \n",
       "1                    1            0                 1         112542.58   \n",
       "2                    3            1                 0         113931.57   \n",
       "3                    2            0                 0          93826.63   \n",
       "4                    1            1                 1          79084.10   \n",
       "...                ...          ...               ...               ...   \n",
       "9994                 2            0                 0         167773.55   \n",
       "9995                 2            1                 0          96270.64   \n",
       "9996                 1            1                 1         101699.77   \n",
       "9997                 1            0                 1          42085.58   \n",
       "9998                 2            1                 0          92888.52   \n",
       "\n",
       "      exited  \n",
       "0          1  \n",
       "1          0  \n",
       "2          1  \n",
       "3          0  \n",
       "4          0  \n",
       "...      ...  \n",
       "9994       0  \n",
       "9995       0  \n",
       "9996       0  \n",
       "9997       1  \n",
       "9998       1  \n",
       "\n",
       "[9091 rows x 11 columns]"
      ]
     },
     "execution_count": 9,
     "metadata": {},
     "output_type": "execute_result"
    }
   ],
   "source": [
    "data_n = data.drop(columns = ['row_number', 'customer_id', 'surname']).dropna() \n",
    "#удалим лишние стоблцы и строки с пропусками\n",
    "data_n"
   ]
  },
  {
   "cell_type": "markdown",
   "metadata": {},
   "source": [
    "Переименовала столбцы, удалила строки с пропусками в столбце о клиентских годах (заполнение средним или медианным значением сомнительно), дубликаты не обнаружены.\n",
    "\n",
    "Удалила столбцы индекса строки в данных, уникального идентификатора клиента, фамилии."
   ]
  },
  {
   "cell_type": "markdown",
   "metadata": {},
   "source": [
    "## Исследование задачи"
   ]
  },
  {
   "cell_type": "markdown",
   "metadata": {},
   "source": [
    "Построим гистограммы оттока клиентов по возрасту, географии и полу"
   ]
  },
  {
   "cell_type": "code",
   "execution_count": 10,
   "metadata": {},
   "outputs": [
    {
     "data": {
      "text/plain": [
       "0    7237\n",
       "1    1854\n",
       "Name: exited, dtype: int64"
      ]
     },
     "execution_count": 10,
     "metadata": {},
     "output_type": "execute_result"
    }
   ],
   "source": [
    "data_n['exited'].value_counts() #посмотрим количество оставшихся и ушедших клиетов"
   ]
  },
  {
   "cell_type": "code",
   "execution_count": 11,
   "metadata": {},
   "outputs": [
    {
     "data": {
      "image/png": "[encoded data removed]",
      "text/plain": [
       "<Figure size 1080x360 with 1 Axes>"
      ]
     },
     "metadata": {
      "needs_background": "light"
     },
     "output_type": "display_data"
    }
   ],
   "source": [
    "data_n.groupby('age').agg({'exited':'sum'}).plot(kind = 'bar', figsize = (15,5),\n",
    "                                             title='Гистограмма оттока клиентов по возрасту')\n",
    "plt.xlabel('Возраст')\n",
    "plt.ylabel('Отток клиентов')\n",
    "plt.show()"
   ]
  },
  {
   "cell_type": "code",
   "execution_count": 12,
   "metadata": {},
   "outputs": [
    {
     "data": {
      "image/png": "[encoded data removed]",
      "text/plain": [
       "<Figure size 504x216 with 1 Axes>"
      ]
     },
     "metadata": {
      "needs_background": "light"
     },
     "output_type": "display_data"
    }
   ],
   "source": [
    "data_n.groupby('geography').agg({'exited':'sum'}).plot(kind = 'bar', figsize = (7,3),\n",
    "                                              title='Гистограмма оттока клиентов по стране')\n",
    "plt.xlabel('Страна')\n",
    "plt.ylabel('Отток клиентов')\n",
    "plt.show()"
   ]
  },
  {
   "cell_type": "code",
   "execution_count": 13,
   "metadata": {},
   "outputs": [
    {
     "data": {
      "image/png": "[encoded data removed]",
      "text/plain": [
       "<Figure size 504x216 with 1 Axes>"
      ]
     },
     "metadata": {
      "needs_background": "light"
     },
     "output_type": "display_data"
    }
   ],
   "source": [
    "data_n.groupby('gender').agg({'exited':'sum'}).plot(kind = 'bar', figsize = (7,3),\n",
    "                                              title='Гистограмма оттока клиентов по полу')\n",
    "plt.xlabel('Пол')\n",
    "plt.ylabel('Отток клиентов')\n",
    "plt.show()"
   ]
  },
  {
   "cell_type": "markdown",
   "metadata": {},
   "source": [
    "Ушедшие клиенты составляют 1/4 от оставшихся.\n",
    "Наиболее часто уходят клиенты в возрасте от 35 до 52 лет, чаще женщины. \n",
    "\n",
    "Если говорить о странах, то Германия на первом месте, с небольшой разницей на втором месте Франция и почти вдвое меньше Испания. "
   ]
  },
  {
   "cell_type": "code",
   "execution_count": 14,
   "metadata": {},
   "outputs": [],
   "source": [
    "data_ohe = pd.get_dummies(data_n, drop_first=True) \n",
    "#преобразуем категориальные признаки в численные техникой прямого кодирования One-Hot Encoding"
   ]
  },
  {
   "cell_type": "code",
   "execution_count": 15,
   "metadata": {},
   "outputs": [
    {
     "data": {
      "text/html": [
       "<div>\n",
       "<style scoped>\n",
       "    .dataframe tbody tr th:only-of-type {\n",
       "        vertical-align: middle;\n",
       "    }\n",
       "\n",
       "    .dataframe tbody tr th {\n",
       "        vertical-align: top;\n",
       "    }\n",
       "\n",
       "    .dataframe thead th {\n",
       "        text-align: right;\n",
       "    }\n",
       "</style>\n",
       "<table border=\"1\" class=\"dataframe\">\n",
       "  <thead>\n",
       "    <tr style=\"text-align: right;\">\n",
       "      <th></th>\n",
       "      <th>credit_score</th>\n",
       "      <th>age</th>\n",
       "      <th>tenure</th>\n",
       "      <th>balance</th>\n",
       "      <th>num_opf_products</th>\n",
       "      <th>has_cr_card</th>\n",
       "      <th>is_active_member</th>\n",
       "      <th>estimated_salary</th>\n",
       "      <th>exited</th>\n",
       "      <th>geography_Germany</th>\n",
       "      <th>geography_Spain</th>\n",
       "      <th>gender_Male</th>\n",
       "    </tr>\n",
       "  </thead>\n",
       "  <tbody>\n",
       "    <tr>\n",
       "      <th>0</th>\n",
       "      <td>619</td>\n",
       "      <td>42</td>\n",
       "      <td>2.0</td>\n",
       "      <td>0.00</td>\n",
       "      <td>1</td>\n",
       "      <td>1</td>\n",
       "      <td>1</td>\n",
       "      <td>101348.88</td>\n",
       "      <td>1</td>\n",
       "      <td>0</td>\n",
       "      <td>0</td>\n",
       "      <td>0</td>\n",
       "    </tr>\n",
       "    <tr>\n",
       "      <th>1</th>\n",
       "      <td>608</td>\n",
       "      <td>41</td>\n",
       "      <td>1.0</td>\n",
       "      <td>83807.86</td>\n",
       "      <td>1</td>\n",
       "      <td>0</td>\n",
       "      <td>1</td>\n",
       "      <td>112542.58</td>\n",
       "      <td>0</td>\n",
       "      <td>0</td>\n",
       "      <td>1</td>\n",
       "      <td>0</td>\n",
       "    </tr>\n",
       "    <tr>\n",
       "      <th>2</th>\n",
       "      <td>502</td>\n",
       "      <td>42</td>\n",
       "      <td>8.0</td>\n",
       "      <td>159660.80</td>\n",
       "      <td>3</td>\n",
       "      <td>1</td>\n",
       "      <td>0</td>\n",
       "      <td>113931.57</td>\n",
       "      <td>1</td>\n",
       "      <td>0</td>\n",
       "      <td>0</td>\n",
       "      <td>0</td>\n",
       "    </tr>\n",
       "    <tr>\n",
       "      <th>3</th>\n",
       "      <td>699</td>\n",
       "      <td>39</td>\n",
       "      <td>1.0</td>\n",
       "      <td>0.00</td>\n",
       "      <td>2</td>\n",
       "      <td>0</td>\n",
       "      <td>0</td>\n",
       "      <td>93826.63</td>\n",
       "      <td>0</td>\n",
       "      <td>0</td>\n",
       "      <td>0</td>\n",
       "      <td>0</td>\n",
       "    </tr>\n",
       "    <tr>\n",
       "      <th>4</th>\n",
       "      <td>850</td>\n",
       "      <td>43</td>\n",
       "      <td>2.0</td>\n",
       "      <td>125510.82</td>\n",
       "      <td>1</td>\n",
       "      <td>1</td>\n",
       "      <td>1</td>\n",
       "      <td>79084.10</td>\n",
       "      <td>0</td>\n",
       "      <td>0</td>\n",
       "      <td>1</td>\n",
       "      <td>0</td>\n",
       "    </tr>\n",
       "  </tbody>\n",
       "</table>\n",
       "</div>"
      ],
      "text/plain": [
       "   credit_score  age  tenure    balance  num_opf_products  has_cr_card  \\\n",
       "0           619   42     2.0       0.00                 1            1   \n",
       "1           608   41     1.0   83807.86                 1            0   \n",
       "2           502   42     8.0  159660.80                 3            1   \n",
       "3           699   39     1.0       0.00                 2            0   \n",
       "4           850   43     2.0  125510.82                 1            1   \n",
       "\n",
       "   is_active_member  estimated_salary  exited  geography_Germany  \\\n",
       "0                 1         101348.88       1                  0   \n",
       "1                 1         112542.58       0                  0   \n",
       "2                 0         113931.57       1                  0   \n",
       "3                 0          93826.63       0                  0   \n",
       "4                 1          79084.10       0                  0   \n",
       "\n",
       "   geography_Spain  gender_Male  \n",
       "0                0            0  \n",
       "1                1            0  \n",
       "2                0            0  \n",
       "3                0            0  \n",
       "4                1            0  "
      ]
     },
     "execution_count": 15,
     "metadata": {},
     "output_type": "execute_result"
    }
   ],
   "source": [
    "data_ohe.head()"
   ]
  },
  {
   "cell_type": "markdown",
   "metadata": {},
   "source": [
    "Разобъем данные на 3 части: обучающую, валидационную и тестовую (60%, 20% и 20%)."
   ]
  },
  {
   "cell_type": "code",
   "execution_count": 16,
   "metadata": {},
   "outputs": [],
   "source": [
    "features = data_ohe.drop(['exited'], axis=1)\n",
    "target = data_ohe['exited']"
   ]
  },
  {
   "cell_type": "code",
   "execution_count": 17,
   "metadata": {},
   "outputs": [],
   "source": [
    "features_train, features_test, target_train, target_test = \\\n",
    "train_test_split(features, target, test_size = 0.4, random_state=12345) #тестовая выборка"
   ]
  },
  {
   "cell_type": "code",
   "execution_count": 18,
   "metadata": {},
   "outputs": [],
   "source": [
    "features_test, features_valid, target_test, target_valid = \\\n",
    "train_test_split(features_test, target_test, test_size = 0.5, random_state=12345) #валидационная выборка"
   ]
  },
  {
   "cell_type": "markdown",
   "metadata": {},
   "source": [
    "Посмотрим размеры выборок"
   ]
  },
  {
   "cell_type": "code",
   "execution_count": 19,
   "metadata": {},
   "outputs": [
    {
     "data": {
      "text/plain": [
       "((5454, 11), (1818, 11), (1819, 11))"
      ]
     },
     "execution_count": 19,
     "metadata": {},
     "output_type": "execute_result"
    }
   ],
   "source": [
    "features_train.shape, features_test.shape, features_valid.shape"
   ]
  },
  {
   "cell_type": "markdown",
   "metadata": {},
   "source": [
    "Стандартизируем данные"
   ]
  },
  {
   "cell_type": "code",
   "execution_count": 20,
   "metadata": {},
   "outputs": [],
   "source": [
    "numeric = ['credit_score', 'age', 'tenure', 'balance', 'estimated_salary']"
   ]
  },
  {
   "cell_type": "code",
   "execution_count": 21,
   "metadata": {},
   "outputs": [],
   "source": [
    "scaler = StandardScaler() #создадим структуру страндартизации данных"
   ]
  },
  {
   "cell_type": "code",
   "execution_count": 22,
   "metadata": {},
   "outputs": [],
   "source": [
    "scaler.fit(features_train[numeric])\n",
    "pd.options.mode.chained_assignment = None #добавим, чтобы не было предупреждения SettingWithCopy"
   ]
  },
  {
   "cell_type": "code",
   "execution_count": 23,
   "metadata": {},
   "outputs": [],
   "source": [
    "features_train[numeric] = scaler.transform(features_train[numeric])\n",
    "features_valid[numeric] = scaler.transform(features_valid[numeric])\n",
    "features_test[numeric] = scaler.transform(features_test[numeric])"
   ]
  },
  {
   "cell_type": "markdown",
   "metadata": {},
   "source": [
    "***Исследование моделей при дисбалансе***"
   ]
  },
  {
   "cell_type": "markdown",
   "metadata": {},
   "source": [
    "**Дерево решений**"
   ]
  },
  {
   "cell_type": "code",
   "execution_count": 24,
   "metadata": {},
   "outputs": [
    {
     "name": "stdout",
     "output_type": "stream",
     "text": [
      "Матрица ошибок: [[1294  174]\n",
      " [ 172  179]]\n",
      "F1-мера: 0.509\n"
     ]
    }
   ],
   "source": [
    "for depth in range(1, 16):\n",
    "    model_dtc = DecisionTreeClassifier(random_state=12345, max_depth=depth)\n",
    "    model_dtc.fit(features_train, target_train)\n",
    "    prediction_valid_dtc = model_dtc.predict(features_valid)\n",
    "print(\"Матрица ошибок:\", confusion_matrix(target_valid, prediction_valid_dtc))     \n",
    "print(\"F1-мера:\",f1_score(target_valid, prediction_valid_dtc).round(3))"
   ]
  },
  {
   "cell_type": "markdown",
   "metadata": {},
   "source": [
    "**Случайный лес**"
   ]
  },
  {
   "cell_type": "code",
   "execution_count": 25,
   "metadata": {},
   "outputs": [
    {
     "name": "stdout",
     "output_type": "stream",
     "text": [
      "CPU times: user 3 µs, sys: 1e+03 ns, total: 4 µs\n",
      "Wall time: 6.2 µs\n",
      "Матрица ошибок: [[1424   44]\n",
      " [ 194  157]]\n",
      "F1-мера: 0.569\n"
     ]
    }
   ],
   "source": [
    "%time\n",
    "for est in range(10, 171, 10):\n",
    "    for depth in range(1, 16):\n",
    "        model_rfc = RandomForestClassifier(random_state=12345, n_estimators=est, max_depth=depth)\n",
    "        model_rfc.fit(features_train, target_train)\n",
    "        prediction_valid_rfc = model_rfc.predict(features_valid)\n",
    "print(\"Матрица ошибок:\", confusion_matrix(target_valid, prediction_valid_rfc))         \n",
    "print(\"F1-мера:\",f1_score(target_valid, prediction_valid_rfc).round(3))"
   ]
  },
  {
   "cell_type": "markdown",
   "metadata": {},
   "source": [
    "**Логистическая регрессия**"
   ]
  },
  {
   "cell_type": "code",
   "execution_count": 26,
   "metadata": {},
   "outputs": [
    {
     "name": "stdout",
     "output_type": "stream",
     "text": [
      "Матрица ошибок: [[1427   41]\n",
      " [ 276   75]]\n",
      "F1-мера: 0.321\n"
     ]
    }
   ],
   "source": [
    "model_lr = LogisticRegression(random_state=12345, solver='liblinear')\n",
    "model_lr.fit(features_train, target_train)\n",
    "prediction_valid_lr = model_lr.predict(features_valid)\n",
    "print(\"Матрица ошибок:\", confusion_matrix(target_valid, prediction_valid_lr))         \n",
    "print(\"F1-мера:\",f1_score(target_valid, prediction_valid_lr).round(3))"
   ]
  },
  {
   "cell_type": "markdown",
   "metadata": {},
   "source": [
    "----"
   ]
  },
  {
   "cell_type": "markdown",
   "metadata": {},
   "source": [
    "Построим ROC-кривые для каждой модели"
   ]
  },
  {
   "cell_type": "code",
   "execution_count": 27,
   "metadata": {},
   "outputs": [
    {
     "name": "stdout",
     "output_type": "stream",
     "text": [
      "AUC-ROC\n",
      "Дерево решений 0.703\n",
      "Случайный лес 0.858\n",
      "Логистическая регрессия 0.781\n"
     ]
    }
   ],
   "source": [
    "probabilities_dtc = model_dtc.predict_proba(features_valid)\n",
    "probabilities_one_valid_dtc = probabilities_dtc[:,1]\n",
    "fpr_dtc,tpr_dtc,thresholds = roc_curve(target_valid,probabilities_one_valid_dtc)\n",
    "\n",
    "probabilities_rfc = model_rfc.predict_proba(features_valid)\n",
    "probabilities_one_valid_rfc = probabilities_rfc[:,1]\n",
    "fpr_rfc,tpr_rfc,thresholds = roc_curve(target_valid,probabilities_one_valid_rfc)\n",
    "\n",
    "probabilities_lr = model_lr.predict_proba(features_valid)\n",
    "probabilities_one_valid_lr = probabilities_lr[:,1]\n",
    "fpr_lr,tpr_lr,thresholds = roc_curve(target_valid,probabilities_one_valid_lr)\n",
    "\n",
    "print(\"AUC-ROC\")\n",
    "print(\"Дерево решений\", roc_auc_score(target_valid,probabilities_one_valid_dtc).round(3))\n",
    "print(\"Случайный лес\", roc_auc_score(target_valid,probabilities_one_valid_rfc).round(3))\n",
    "print(\"Логистическая регрессия\", roc_auc_score(target_valid,probabilities_one_valid_lr).round(3))"
   ]
  },
  {
   "cell_type": "code",
   "execution_count": 28,
   "metadata": {},
   "outputs": [
    {
     "data": {
      "image/png": "[encoded data removed]",
      "text/plain": [
       "<Figure size 864x504 with 1 Axes>"
      ]
     },
     "metadata": {
      "needs_background": "light"
     },
     "output_type": "display_data"
    }
   ],
   "source": [
    "plt.figure(figsize = (12,7))\n",
    "plt.plot([0, 1], [0, 1], linestyle='--')\n",
    "plt.xlim([0.0, 1.0])\n",
    "plt.ylim([0.0, 1.0])\n",
    "plt.plot(fpr_dtc,tpr_dtc)\n",
    "plt.plot(fpr_rfc,tpr_rfc)\n",
    "plt.plot(fpr_lr,tpr_lr)\n",
    "plt.xlabel('Доля ложноположительных ответов')\n",
    "plt.ylabel('Доля истинно положительных ответов')\n",
    "plt.title('ROC-кривая')\n",
    "plt.legend(('Случайная модель','Дерево решений','Случайный лес','Логистическая регрессия')) \n",
    "plt.show()"
   ]
  },
  {
   "cell_type": "markdown",
   "metadata": {},
   "source": [
    "<div style=\"border:solid steelblue 2px; padding: 10px; border-radius: 5px\"> \n",
    "При построении гистограмм заметили, что ушедшие клиенты составляют 1/4 от оставшихся, наиболее часто уходят клиенты в возрасте от 35 до 52 лет, чаще женщины.\n",
    "Если говорить о странах, то Германия на первом месте, с небольшой разницей на втором месте Франция и почти вдвое меньше Испания.\n",
    "\n",
    "Исследование моделей при дисбалансе показало \n",
    "\n",
    "F1:\n",
    "- дерево решений 0.509\n",
    "- случайный лес 0.569\n",
    "- логистическая регрессия 0.321\n",
    "\n",
    "AUC-ROC: \n",
    "- дерево решений 0.703\n",
    "- случайный лес 0.858\n",
    "- логистическая регрессия 0.781"
   ]
  },
  {
   "cell_type": "markdown",
   "metadata": {},
   "source": [
    "## Борьба с дисбалансом"
   ]
  },
  {
   "cell_type": "markdown",
   "metadata": {},
   "source": [
    "Придадим редким объектам больший вес, есть 3 способа: взвешивание классов, увеличение и уменьшение выборки. "
   ]
  },
  {
   "cell_type": "markdown",
   "metadata": {},
   "source": [
    "### Взвешивание классов"
   ]
  },
  {
   "cell_type": "markdown",
   "metadata": {},
   "source": [
    "**Дерево решений**"
   ]
  },
  {
   "cell_type": "code",
   "execution_count": 29,
   "metadata": {},
   "outputs": [
    {
     "name": "stdout",
     "output_type": "stream",
     "text": [
      "F1-мера: 0.489\n"
     ]
    }
   ],
   "source": [
    "for depth in range(1, 16):\n",
    "    model_dtc_b = DecisionTreeClassifier(random_state=12345, max_depth=depth, class_weight='balanced')\n",
    "    model_dtc_b.fit(features_train, target_train)\n",
    "    prediction_valid_dtc_b = model_dtc_b.predict(features_valid)\n",
    "print(\"F1-мера:\",f1_score(target_valid, prediction_valid_dtc_b).round(3))"
   ]
  },
  {
   "cell_type": "markdown",
   "metadata": {},
   "source": [
    "**Случайный лес**"
   ]
  },
  {
   "cell_type": "code",
   "execution_count": 30,
   "metadata": {},
   "outputs": [
    {
     "name": "stdout",
     "output_type": "stream",
     "text": [
      "F1-мера: 0.584\n",
      "CPU times: user 1min 55s, sys: 463 ms, total: 1min 56s\n",
      "Wall time: 1min 56s\n"
     ]
    }
   ],
   "source": [
    "%%time\n",
    "for est in range(10, 171, 10):\n",
    "    for depth in range(1, 16):\n",
    "        model_rfc_b = RandomForestClassifier(random_state=12345, n_estimators=est, max_depth=depth, class_weight='balanced')\n",
    "        model_rfc_b.fit(features_train, target_train)\n",
    "        prediction_valid_rfc_b = model_rfc_b.predict(features_valid)\n",
    "print(\"F1-мера:\",f1_score(target_valid, prediction_valid_rfc_b).round(3))"
   ]
  },
  {
   "cell_type": "markdown",
   "metadata": {},
   "source": [
    "**Логистическая регрессия**"
   ]
  },
  {
   "cell_type": "code",
   "execution_count": 31,
   "metadata": {},
   "outputs": [
    {
     "name": "stdout",
     "output_type": "stream",
     "text": [
      "F1: 0.503\n"
     ]
    }
   ],
   "source": [
    "model_lr_b = LogisticRegression(random_state=12345, solver='liblinear', class_weight='balanced')\n",
    "model_lr_b.fit(features_train, target_train)\n",
    "prediction_valid_lr_b = model_lr_b.predict(features_valid)\n",
    "print(\"F1:\", f1_score(target_valid, prediction_valid_lr_b).round(3))"
   ]
  },
  {
   "cell_type": "markdown",
   "metadata": {},
   "source": [
    "### Увеличение выборки"
   ]
  },
  {
   "cell_type": "code",
   "execution_count": 32,
   "metadata": {},
   "outputs": [],
   "source": [
    "def upsample(features, target, repeat): #объявим переменные\n",
    "    features_zeros = features[target == 0]\n",
    "    features_ones = features[target == 1]\n",
    "    target_zeros = target[target == 0]\n",
    "    target_ones = target[target == 1]\n",
    "    \n",
    "    repeat = 4 #количество повторений\n",
    "    \n",
    "    features_upsampled = pd.concat([features_zeros] + [features_ones] * repeat)\n",
    "    target_upsampled = pd.concat([target_zeros] + [target_ones] * repeat)\n",
    "    \n",
    "    features_upsampled, target_upsampled = shuffle(\n",
    "    features_upsampled, target_upsampled, random_state=12345) #перемешаем данные\n",
    "    \n",
    "\n",
    "    return features_upsampled, target_upsampled\n",
    "\n",
    "features_upsampled, target_upsampled = upsample(features_train, target_train, 4)"
   ]
  },
  {
   "cell_type": "markdown",
   "metadata": {},
   "source": [
    "Обучим модели на новых данных"
   ]
  },
  {
   "cell_type": "code",
   "execution_count": 33,
   "metadata": {},
   "outputs": [
    {
     "name": "stdout",
     "output_type": "stream",
     "text": [
      "F1-мера модели дерево решений на увеличенной выборке: 0.487\n"
     ]
    }
   ],
   "source": [
    "for depth in range(1, 16):\n",
    "    model_dtc_up = DecisionTreeClassifier(random_state=12345, max_depth=depth)\n",
    "    model_dtc_up.fit(features_upsampled, target_upsampled)\n",
    "    prediction_valid_dtc_up = model_dtc_up.predict(features_valid)\n",
    "print(\"F1-мера модели дерево решений на увеличенной выборке:\",f1_score(target_valid, prediction_valid_dtc_up).round(3))"
   ]
  },
  {
   "cell_type": "code",
   "execution_count": 34,
   "metadata": {},
   "outputs": [
    {
     "name": "stdout",
     "output_type": "stream",
     "text": [
      "Лучшие показатели модели случайный лес на увеличенной выборке\n",
      "Модель RandomForestClassifier(max_depth=15, n_estimators=130, random_state=12345)\n",
      "Глубина 15\n",
      "Количество деревьев 130\n",
      "F1-мера 0.609\n",
      "CPU times: user 2min 38s, sys: 484 ms, total: 2min 39s\n",
      "Wall time: 2min 39s\n"
     ]
    }
   ],
   "source": [
    "%%time\n",
    "model_b = None\n",
    "best_depth = 0\n",
    "best_est = 0\n",
    "best_f1 = 0\n",
    "for est in range(10, 171, 10):\n",
    "    for depth in range(1, 16):\n",
    "        model_rfc_up = RandomForestClassifier(random_state=12345, n_estimators=est, max_depth=depth)\n",
    "        model_rfc_up.fit(features_upsampled, target_upsampled)\n",
    "        prediction_valid_rfc_up = model_rfc_up.predict(features_valid)\n",
    "        f1 = f1_score(target_valid, prediction_valid_rfc_up)\n",
    "        if f1 > best_f1:\n",
    "            model_b = model_rfc_up\n",
    "            best_depth = depth\n",
    "            best_est = est\n",
    "            best_f1 = f1           \n",
    "print(\"Лучшие показатели модели случайный лес на увеличенной выборке\")\n",
    "print(\"Модель\", model_b)\n",
    "print(\"Глубина\", best_depth)\n",
    "print(\"Количество деревьев\", best_est)\n",
    "print(\"F1-мера\",f1.round(3))"
   ]
  },
  {
   "cell_type": "code",
   "execution_count": 35,
   "metadata": {},
   "outputs": [
    {
     "name": "stdout",
     "output_type": "stream",
     "text": [
      "F1-мера модели логистическая регрессия на увеличенной выборке: 0.498\n"
     ]
    }
   ],
   "source": [
    "model_lr_up = LogisticRegression(random_state=12345, solver='liblinear')\n",
    "model_lr_up.fit(features_upsampled, target_upsampled)\n",
    "prediction_valid_lr_up = model_lr_up.predict(features_valid)\n",
    "print(\"F1-мера модели логистическая регрессия на увеличенной выборке:\", f1_score(target_valid, prediction_valid_lr_up).round(3))"
   ]
  },
  {
   "cell_type": "markdown",
   "metadata": {},
   "source": [
    "### Уменьшение выборки"
   ]
  },
  {
   "cell_type": "code",
   "execution_count": 36,
   "metadata": {},
   "outputs": [],
   "source": [
    "def downsample(features, target, fraction): #объявим переменные\n",
    "    features_zeros = features[target == 0]\n",
    "    features_ones = features[target == 1]\n",
    "    target_zeros = target[target == 0]\n",
    "    target_ones = target[target == 1]\n",
    "    \n",
    "    fraction = 0.25\n",
    "    \n",
    "    features_downsampled = pd.concat(\n",
    "        [features_zeros.sample(frac=fraction, random_state=12345)] + [features_ones])\n",
    "    target_downsampled = pd.concat(\n",
    "        [target_zeros.sample(frac=fraction, random_state=12345)] + [target_ones])\n",
    "\n",
    "    features_downsampled, target_downsampled = shuffle(\n",
    "        features_downsampled, target_downsampled, random_state=12345)\n",
    "\n",
    "    return features_downsampled, target_downsampled\n",
    "features_downsampled, target_downsampled = downsample(features_train, target_train, 0.25)"
   ]
  },
  {
   "cell_type": "markdown",
   "metadata": {},
   "source": [
    "Обучим модели на новых данных"
   ]
  },
  {
   "cell_type": "code",
   "execution_count": 37,
   "metadata": {},
   "outputs": [
    {
     "name": "stdout",
     "output_type": "stream",
     "text": [
      "F1-мера модели дерево решений на уменьшенной выборке: 0.502\n"
     ]
    }
   ],
   "source": [
    "for depth in range(1, 16):\n",
    "    model_dtc_dn = DecisionTreeClassifier(random_state=12345, max_depth=depth)\n",
    "    model_dtc_dn.fit(features_downsampled, target_downsampled)\n",
    "    prediction_valid_dtc_dn = model_dtc_dn.predict(features_valid)\n",
    "print(\"F1-мера модели дерево решений на уменьшенной выборке:\",f1_score(target_valid, prediction_valid_dtc_dn).round(3))"
   ]
  },
  {
   "cell_type": "code",
   "execution_count": 38,
   "metadata": {},
   "outputs": [
    {
     "name": "stdout",
     "output_type": "stream",
     "text": [
      "F1-мера модели cлучайнай лес на уменьшенной выборке: 0.559\n",
      "CPU times: user 1min 10s, sys: 396 ms, total: 1min 10s\n",
      "Wall time: 1min 10s\n"
     ]
    }
   ],
   "source": [
    "%%time\n",
    "for est in range(10, 171, 10):\n",
    "    for depth in range(1, 16):\n",
    "        model_rfc_dn = RandomForestClassifier(random_state=12345, n_estimators=est, max_depth=depth)\n",
    "        model_rfc_dn.fit(features_downsampled, target_downsampled)\n",
    "        prediction_valid_rfc_dn = model_rfc_dn.predict(features_valid)\n",
    "print(\"F1-мера модели cлучайнай лес на уменьшенной выборке:\",f1_score(target_valid, prediction_valid_rfc_dn).round(3))"
   ]
  },
  {
   "cell_type": "code",
   "execution_count": 39,
   "metadata": {},
   "outputs": [
    {
     "name": "stdout",
     "output_type": "stream",
     "text": [
      "F1-мера модели логистическая регрессия на увеличенной выборке: 0.491\n"
     ]
    }
   ],
   "source": [
    "model_lr_dn = LogisticRegression(random_state=12345, solver='liblinear')\n",
    "model_lr_dn.fit(features_downsampled, target_downsampled)\n",
    "prediction_valid_lr_dn = model_lr_dn.predict(features_valid)\n",
    "print(\"F1-мера модели логистическая регрессия на увеличенной выборке:\", f1_score(target_valid, prediction_valid_lr_dn).round(3))"
   ]
  },
  {
   "cell_type": "markdown",
   "metadata": {},
   "source": [
    "**F1 моделей при балансировке классов:**\n",
    "\n",
    "   * дерево решений \n",
    "    - взвешивание классов 0.489\n",
    "    - увеличение выборки 0.487\n",
    "    - уменьшение выборки 0.502\n",
    "    \n",
    "    \n",
    "   * случайный лес \n",
    "    - взвешивание классов 0.584\n",
    "    - увеличение выборки 0.609\n",
    "    - уменьшение выборки 0.559\n",
    "    \n",
    "    \n",
    "   * логистическая регрессия \n",
    "    - взвешивание классов 0.503\n",
    "    - увеличение выборки 0.498\n",
    "    - уменьшение выборки 0.491\n",
    "    \n",
    "    \n",
    "***Лучшие показатели у модели случайный лес на увеличенной выборке: глубина 15, количество деревьев 130, F1-мера 0.609***\n",
    "    \n",
    "    "
   ]
  },
  {
   "cell_type": "markdown",
   "metadata": {},
   "source": [
    "### Обучим модель на объединенных тренировочной и валидационной выборках"
   ]
  },
  {
   "cell_type": "markdown",
   "metadata": {},
   "source": [
    "**Модель случайный лес после балансировки классов методом увеличение выборки**"
   ]
  },
  {
   "cell_type": "code",
   "execution_count": 40,
   "metadata": {},
   "outputs": [
    {
     "data": {
      "text/plain": [
       "((7273, 11), (7273,))"
      ]
     },
     "execution_count": 40,
     "metadata": {},
     "output_type": "execute_result"
    }
   ],
   "source": [
    "features_train_valid = pd.concat((features_train, features_valid), axis=0)\n",
    "target_train_valid = pd.concat((target_train, target_valid), axis=0)\n",
    "features_train_valid.shape, target_train_valid.shape #посмотрим размер объединенной выборки"
   ]
  },
  {
   "cell_type": "code",
   "execution_count": 41,
   "metadata": {},
   "outputs": [],
   "source": [
    "best_model = model_rfc_up.fit(features_train_valid, target_train_valid) #переименуем и обучим модель"
   ]
  },
  {
   "cell_type": "markdown",
   "metadata": {},
   "source": [
    "## Тестирование модели"
   ]
  },
  {
   "cell_type": "markdown",
   "metadata": {},
   "source": [
    "Протестируем модель случайный лес на объединенных тренировочной и валидационной выборках после балансировки методом увеличение выборки"
   ]
  },
  {
   "cell_type": "code",
   "execution_count": 42,
   "metadata": {},
   "outputs": [
    {
     "name": "stdout",
     "output_type": "stream",
     "text": [
      "F1-мера: 0.59\n"
     ]
    }
   ],
   "source": [
    "prediction_best_model = best_model.predict(features_test)\n",
    "print(\"F1-мера:\",f1_score(target_test, prediction_best_model))"
   ]
  },
  {
   "cell_type": "markdown",
   "metadata": {},
   "source": [
    "### AUC-ROC"
   ]
  },
  {
   "cell_type": "markdown",
   "metadata": {},
   "source": [
    "Посмотрим как сильно модель случайный лес отличается от случайной, посчитаем площадь под ROC-кривой — AUC-ROC метрика"
   ]
  },
  {
   "cell_type": "code",
   "execution_count": 43,
   "metadata": {},
   "outputs": [
    {
     "name": "stdout",
     "output_type": "stream",
     "text": [
      "Метрика AUC-ROC 0.8712809959190585\n"
     ]
    },
    {
     "data": {
      "image/png": "[encoded data removed]",
      "text/plain": [
       "<Figure size 1224x360 with 1 Axes>"
      ]
     },
     "metadata": {
      "needs_background": "light"
     },
     "output_type": "display_data"
    }
   ],
   "source": [
    "probabilities = best_model.predict_proba(features_test)\n",
    "probabilities_one_test = probabilities[:, 1]\n",
    "fpr, tpr, thresholds = roc_curve(target_test, probabilities_one_test)\n",
    "auc_roc =  roc_auc_score(target_test, probabilities_one_test)\n",
    "print(\"Метрика AUC-ROC\",auc_roc)\n",
    "\n",
    "plt.figure(figsize = (17,5))\n",
    "plt.plot([0, 1], [0, 1], linestyle='--')\n",
    "plt.ylim([0.0, 1.0])\n",
    "plt.xlim([0.0, 1.0])\n",
    "plt.plot(fpr, tpr) #построим график\n",
    "plt.xlabel('Доля ложноположительных ответов')\n",
    "plt.ylabel('Доля истинно положительных ответов')\n",
    "plt.title('ROC-кривая модели случайного леса на тестовой выборке')\n",
    "plt.legend(('Случайная модель', 'Случайный лес'))\n",
    "plt.show()"
   ]
  },
  {
   "cell_type": "markdown",
   "metadata": {},
   "source": [
    "<div class=\"alert-info\" style=\"padding: 20px; border-radius: 10px\"> \n",
    "<b>Вывод</b>\n",
    "    \n",
    "Была выполнена предобработка данных. Переименовала столбцы, удалила строки с пропусками в столбце о клиентских годах (заполнение средним или медианным значением сомнительно), дубликаты не обнаружены. Удалила столбцы индекса строки в данных, уникального идентификатора клиента, фамилии.\n",
    "    \n",
    "При построении гистограмм заметили, что ушедшие клиенты составляют 1/4 от оставшихся, наиболее часто уходят клиенты в возрасте от 35 до 52 лет, чаще женщины.\n",
    "Если говорить о странах, то Германия на первом месте, с небольшой разницей на втором месте Франция и почти вдвое меньше Испания.\n",
    "\n",
    "Исследование моделей при дисбалансе показало \n",
    "\n",
    "F1:\n",
    "- дерево решений 0.556\n",
    "- случайный лес 0.558\n",
    "- логистическая регрессия 0.321\n",
    "\n",
    "AUC-ROC: \n",
    "- дерево решений 0.703\n",
    "- случайный лес 0.858\n",
    "- логистическая регрессия 0.781\n",
    "\n",
    "При дисбалансе высокие F-1 и AUC-ROC у модели случайный лес.\n",
    "    \n",
    "После балансировки классов лучший показатель у модели случайный лес на увеличенной выборке: глубина 15, количество деревьев 130, F1-мера 0.609.  \n",
    "Эту модель обучили на объединенных тренировочной и валидационной выборках.\n",
    "    \n",
    "Тестирование этой модели показало F1-меру 0.59, метрику AUC-ROC 0.87. \n",
    "\n",
    "Модель успешно прошла проверку на адекватность. <div>"
   ]
  }
 ],
 "metadata": {
  "ExecuteTimeLog": [
   {
    "duration": 421,
    "start_time": "2024-02-21T12:55:26.900Z"
   },
   {
    "duration": 151,
    "start_time": "2024-02-21T12:56:29.925Z"
   },
   {
    "duration": 21,
    "start_time": "2024-02-21T12:57:40.679Z"
   },
   {
    "duration": 14,
    "start_time": "2024-02-21T12:58:00.208Z"
   },
   {
    "duration": 46,
    "start_time": "2024-02-21T12:59:20.804Z"
   },
   {
    "duration": 20,
    "start_time": "2024-02-21T13:00:07.115Z"
   },
   {
    "duration": 4,
    "start_time": "2024-02-21T13:02:31.568Z"
   },
   {
    "duration": 4,
    "start_time": "2024-02-21T13:02:37.718Z"
   },
   {
    "duration": 3,
    "start_time": "2024-02-21T13:08:23.589Z"
   },
   {
    "duration": 3,
    "start_time": "2024-02-21T13:08:51.947Z"
   },
   {
    "duration": 40,
    "start_time": "2024-02-21T13:09:02.384Z"
   },
   {
    "duration": 9,
    "start_time": "2024-02-21T13:09:40.342Z"
   },
   {
    "duration": 40,
    "start_time": "2024-02-21T13:12:22.738Z"
   },
   {
    "duration": 19,
    "start_time": "2024-02-21T13:13:31.705Z"
   },
   {
    "duration": 13,
    "start_time": "2024-02-21T13:13:39.854Z"
   },
   {
    "duration": 67,
    "start_time": "2024-02-21T13:21:27.483Z"
   },
   {
    "duration": 14,
    "start_time": "2024-02-21T13:21:31.741Z"
   },
   {
    "duration": 11,
    "start_time": "2024-02-21T13:21:57.524Z"
   },
   {
    "duration": 8,
    "start_time": "2024-02-21T13:22:02.008Z"
   },
   {
    "duration": 9,
    "start_time": "2024-02-21T13:23:25.698Z"
   },
   {
    "duration": 10,
    "start_time": "2024-02-21T13:23:31.034Z"
   },
   {
    "duration": 12,
    "start_time": "2024-02-21T13:23:51.950Z"
   },
   {
    "duration": 24,
    "start_time": "2024-02-21T13:24:01.528Z"
   },
   {
    "duration": 24,
    "start_time": "2024-02-21T13:24:05.447Z"
   },
   {
    "duration": 24,
    "start_time": "2024-02-21T13:24:54.930Z"
   },
   {
    "duration": 12,
    "start_time": "2024-02-21T13:25:37.225Z"
   },
   {
    "duration": 9,
    "start_time": "2024-02-21T13:26:06.646Z"
   },
   {
    "duration": 1651,
    "start_time": "2024-02-21T13:36:10.734Z"
   },
   {
    "duration": 6,
    "start_time": "2024-02-21T13:36:21.057Z"
   },
   {
    "duration": 4,
    "start_time": "2024-02-21T13:36:41.043Z"
   },
   {
    "duration": 3,
    "start_time": "2024-02-21T13:36:45.817Z"
   },
   {
    "duration": 7,
    "start_time": "2024-02-21T13:36:48.443Z"
   },
   {
    "duration": 7,
    "start_time": "2024-02-21T13:37:22.266Z"
   },
   {
    "duration": 6,
    "start_time": "2024-02-21T13:39:59.488Z"
   },
   {
    "duration": 6,
    "start_time": "2024-02-21T13:40:22.263Z"
   },
   {
    "duration": 6,
    "start_time": "2024-02-21T13:42:30.398Z"
   },
   {
    "duration": 6,
    "start_time": "2024-02-21T13:42:40.980Z"
   },
   {
    "duration": 6,
    "start_time": "2024-02-21T14:02:19.185Z"
   },
   {
    "duration": 8,
    "start_time": "2024-02-21T14:02:50.615Z"
   },
   {
    "duration": 781,
    "start_time": "2024-02-21T14:03:14.842Z"
   },
   {
    "duration": 5,
    "start_time": "2024-02-21T14:03:16.480Z"
   },
   {
    "duration": 8,
    "start_time": "2024-02-21T14:03:17.368Z"
   },
   {
    "duration": 6,
    "start_time": "2024-02-21T14:03:18.292Z"
   },
   {
    "duration": 49,
    "start_time": "2024-02-21T14:05:34.785Z"
   },
   {
    "duration": 4,
    "start_time": "2024-02-21T14:05:44.636Z"
   },
   {
    "duration": 12,
    "start_time": "2024-02-21T14:05:45.224Z"
   },
   {
    "duration": 8,
    "start_time": "2024-02-21T14:05:45.718Z"
   },
   {
    "duration": 3,
    "start_time": "2024-02-21T14:06:05.110Z"
   },
   {
    "duration": 6,
    "start_time": "2024-02-21T14:12:11.639Z"
   },
   {
    "duration": 5,
    "start_time": "2024-02-21T14:12:12.437Z"
   },
   {
    "duration": 4,
    "start_time": "2024-02-21T14:12:46.262Z"
   },
   {
    "duration": 4,
    "start_time": "2024-02-21T14:13:21.108Z"
   },
   {
    "duration": 3,
    "start_time": "2024-02-21T14:13:22.321Z"
   },
   {
    "duration": 3,
    "start_time": "2024-02-21T14:15:29.622Z"
   },
   {
    "duration": 96,
    "start_time": "2024-02-21T14:38:48.809Z"
   },
   {
    "duration": 24,
    "start_time": "2024-02-21T14:39:03.173Z"
   },
   {
    "duration": 4,
    "start_time": "2024-02-21T14:46:33.018Z"
   },
   {
    "duration": 1802,
    "start_time": "2024-02-21T14:46:36.062Z"
   },
   {
    "duration": 8,
    "start_time": "2024-02-21T14:46:44.865Z"
   },
   {
    "duration": 10,
    "start_time": "2024-02-21T14:47:41.900Z"
   },
   {
    "duration": 9,
    "start_time": "2024-02-21T14:49:52.888Z"
   },
   {
    "duration": 7,
    "start_time": "2024-02-21T14:50:12.275Z"
   },
   {
    "duration": 7,
    "start_time": "2024-02-21T14:50:19.714Z"
   },
   {
    "duration": 10,
    "start_time": "2024-02-21T14:52:54.051Z"
   },
   {
    "duration": 6,
    "start_time": "2024-02-21T14:52:55.600Z"
   },
   {
    "duration": 102,
    "start_time": "2024-02-21T14:52:56.539Z"
   },
   {
    "duration": 5,
    "start_time": "2024-02-21T14:53:06.805Z"
   },
   {
    "duration": 4,
    "start_time": "2024-02-21T14:53:07.589Z"
   },
   {
    "duration": 7,
    "start_time": "2024-02-21T14:53:08.273Z"
   },
   {
    "duration": 6,
    "start_time": "2024-02-21T14:53:15.031Z"
   },
   {
    "duration": 6,
    "start_time": "2024-02-21T14:53:22.481Z"
   },
   {
    "duration": 19,
    "start_time": "2024-02-21T14:55:43.051Z"
   },
   {
    "duration": 9,
    "start_time": "2024-02-21T15:12:27.111Z"
   },
   {
    "duration": 6,
    "start_time": "2024-02-21T15:12:39.887Z"
   },
   {
    "duration": 6,
    "start_time": "2024-02-21T15:12:43.300Z"
   },
   {
    "duration": 15,
    "start_time": "2024-02-21T15:12:46.001Z"
   },
   {
    "duration": 10,
    "start_time": "2024-02-21T15:12:56.396Z"
   },
   {
    "duration": 27,
    "start_time": "2024-02-21T15:17:46.909Z"
   },
   {
    "duration": 27,
    "start_time": "2024-02-21T15:17:59.166Z"
   },
   {
    "duration": 3,
    "start_time": "2024-02-21T15:22:18.626Z"
   },
   {
    "duration": 10,
    "start_time": "2024-02-21T15:22:39.089Z"
   },
   {
    "duration": 27,
    "start_time": "2024-02-21T15:22:44.371Z"
   },
   {
    "duration": 3,
    "start_time": "2024-02-21T15:22:46.476Z"
   },
   {
    "duration": 5,
    "start_time": "2024-02-21T15:23:05.717Z"
   },
   {
    "duration": 10,
    "start_time": "2024-02-21T15:23:39.256Z"
   },
   {
    "duration": 31,
    "start_time": "2024-02-21T15:23:47.247Z"
   },
   {
    "duration": 126,
    "start_time": "2024-02-21T15:24:06.339Z"
   },
   {
    "duration": 104,
    "start_time": "2024-02-21T15:24:23.406Z"
   },
   {
    "duration": 102,
    "start_time": "2024-02-21T15:24:31.933Z"
   },
   {
    "duration": 117,
    "start_time": "2024-02-21T15:24:38.861Z"
   },
   {
    "duration": 128,
    "start_time": "2024-02-21T15:25:01.406Z"
   },
   {
    "duration": 12,
    "start_time": "2024-02-21T15:25:07.692Z"
   },
   {
    "duration": 10,
    "start_time": "2024-02-21T15:25:19.193Z"
   },
   {
    "duration": 540,
    "start_time": "2024-02-21T15:25:39.089Z"
   },
   {
    "duration": 9,
    "start_time": "2024-02-21T15:25:43.723Z"
   },
   {
    "duration": 27,
    "start_time": "2024-02-21T15:25:52.697Z"
   },
   {
    "duration": 104,
    "start_time": "2024-02-21T15:26:31.776Z"
   },
   {
    "duration": 104,
    "start_time": "2024-02-21T15:26:37.126Z"
   },
   {
    "duration": 25,
    "start_time": "2024-02-21T15:26:45.434Z"
   },
   {
    "duration": 437,
    "start_time": "2024-02-21T15:26:56.965Z"
   },
   {
    "duration": 10,
    "start_time": "2024-02-21T15:27:22.901Z"
   },
   {
    "duration": 6,
    "start_time": "2024-02-21T15:29:43.213Z"
   },
   {
    "duration": 7,
    "start_time": "2024-02-21T15:29:44.528Z"
   },
   {
    "duration": 5,
    "start_time": "2024-02-21T15:29:45.159Z"
   },
   {
    "duration": 4,
    "start_time": "2024-02-21T15:29:48.150Z"
   },
   {
    "duration": 4,
    "start_time": "2024-02-21T15:29:49.493Z"
   },
   {
    "duration": 3,
    "start_time": "2024-02-21T15:29:50.259Z"
   },
   {
    "duration": 12,
    "start_time": "2024-02-21T16:49:08.843Z"
   },
   {
    "duration": 3,
    "start_time": "2024-02-21T16:49:23.562Z"
   },
   {
    "duration": 14,
    "start_time": "2024-02-21T16:49:33.959Z"
   },
   {
    "duration": 4,
    "start_time": "2024-02-21T16:52:59.850Z"
   },
   {
    "duration": 23,
    "start_time": "2024-02-21T17:01:36.914Z"
   },
   {
    "duration": 10,
    "start_time": "2024-02-21T17:02:28.796Z"
   },
   {
    "duration": 19,
    "start_time": "2024-02-21T17:02:33.470Z"
   },
   {
    "duration": 3,
    "start_time": "2024-02-21T17:04:59.904Z"
   },
   {
    "duration": 2,
    "start_time": "2024-02-21T17:05:04.968Z"
   },
   {
    "duration": 7,
    "start_time": "2024-02-21T17:05:06.568Z"
   },
   {
    "duration": 29,
    "start_time": "2024-02-21T17:12:32.681Z"
   },
   {
    "duration": 2,
    "start_time": "2024-02-21T17:13:06.162Z"
   },
   {
    "duration": 2,
    "start_time": "2024-02-21T17:13:07.882Z"
   },
   {
    "duration": 9,
    "start_time": "2024-02-21T17:13:08.194Z"
   },
   {
    "duration": 18,
    "start_time": "2024-02-21T17:13:15.096Z"
   },
   {
    "duration": 13,
    "start_time": "2024-02-21T17:23:11.178Z"
   },
   {
    "duration": 18,
    "start_time": "2024-02-21T17:23:35.074Z"
   },
   {
    "duration": 18,
    "start_time": "2024-02-21T17:25:39.891Z"
   },
   {
    "duration": 103,
    "start_time": "2024-02-21T17:29:15.666Z"
   },
   {
    "duration": 19,
    "start_time": "2024-02-21T17:30:01.786Z"
   },
   {
    "duration": 6,
    "start_time": "2024-02-21T17:30:09.810Z"
   },
   {
    "duration": 7,
    "start_time": "2024-02-21T17:30:10.671Z"
   },
   {
    "duration": 109,
    "start_time": "2024-02-21T17:30:14.960Z"
   },
   {
    "duration": 31,
    "start_time": "2024-02-21T17:31:05.095Z"
   },
   {
    "duration": 92,
    "start_time": "2024-02-21T17:31:30.876Z"
   },
   {
    "duration": 36,
    "start_time": "2024-02-21T17:32:24.895Z"
   },
   {
    "duration": 67,
    "start_time": "2024-02-21T17:32:38.123Z"
   },
   {
    "duration": 27,
    "start_time": "2024-02-21T17:32:38.661Z"
   },
   {
    "duration": 102,
    "start_time": "2024-02-21T17:42:51.854Z"
   },
   {
    "duration": 6,
    "start_time": "2024-02-21T17:46:18.533Z"
   },
   {
    "duration": 5,
    "start_time": "2024-02-21T17:46:23.860Z"
   },
   {
    "duration": 4,
    "start_time": "2024-02-21T17:46:26.859Z"
   },
   {
    "duration": 3,
    "start_time": "2024-02-21T17:46:40.683Z"
   },
   {
    "duration": 2,
    "start_time": "2024-02-21T17:46:49.420Z"
   },
   {
    "duration": 3,
    "start_time": "2024-02-21T17:46:55.966Z"
   },
   {
    "duration": 8,
    "start_time": "2024-02-21T17:46:56.446Z"
   },
   {
    "duration": 14,
    "start_time": "2024-02-21T17:47:18.562Z"
   },
   {
    "duration": 1089,
    "start_time": "2024-02-21T17:47:36.237Z"
   },
   {
    "duration": 45,
    "start_time": "2024-02-21T17:47:37.328Z"
   },
   {
    "duration": 20,
    "start_time": "2024-02-21T17:47:37.374Z"
   },
   {
    "duration": 13,
    "start_time": "2024-02-21T17:47:37.395Z"
   },
   {
    "duration": 4,
    "start_time": "2024-02-21T17:47:37.410Z"
   },
   {
    "duration": 8,
    "start_time": "2024-02-21T17:47:37.415Z"
   },
   {
    "duration": 9,
    "start_time": "2024-02-21T17:47:37.425Z"
   },
   {
    "duration": 56,
    "start_time": "2024-02-21T17:47:37.435Z"
   },
   {
    "duration": 14,
    "start_time": "2024-02-21T17:47:37.492Z"
   },
   {
    "duration": 21,
    "start_time": "2024-02-21T17:47:37.508Z"
   },
   {
    "duration": 7,
    "start_time": "2024-02-21T17:47:37.531Z"
   },
   {
    "duration": 14,
    "start_time": "2024-02-21T17:47:37.539Z"
   },
   {
    "duration": 107,
    "start_time": "2024-02-21T17:47:37.581Z"
   },
   {
    "duration": 68,
    "start_time": "2024-02-21T17:47:37.691Z"
   },
   {
    "duration": 78,
    "start_time": "2024-02-21T17:47:37.761Z"
   },
   {
    "duration": 40,
    "start_time": "2024-02-21T17:47:37.841Z"
   },
   {
    "duration": 5,
    "start_time": "2024-02-21T17:47:37.883Z"
   },
   {
    "duration": 5,
    "start_time": "2024-02-21T17:47:37.890Z"
   },
   {
    "duration": 5,
    "start_time": "2024-02-21T17:47:37.897Z"
   },
   {
    "duration": 3,
    "start_time": "2024-02-21T17:47:37.904Z"
   },
   {
    "duration": 3,
    "start_time": "2024-02-21T17:47:37.909Z"
   },
   {
    "duration": 9,
    "start_time": "2024-02-21T17:47:37.913Z"
   },
   {
    "duration": 13,
    "start_time": "2024-02-21T17:47:37.923Z"
   },
   {
    "duration": 25,
    "start_time": "2024-02-21T18:01:24.431Z"
   },
   {
    "duration": 13,
    "start_time": "2024-02-21T18:01:34.201Z"
   },
   {
    "duration": 24,
    "start_time": "2024-02-21T18:01:53.394Z"
   },
   {
    "duration": 68,
    "start_time": "2024-02-21T18:04:34.403Z"
   },
   {
    "duration": 53,
    "start_time": "2024-02-21T18:04:37.364Z"
   },
   {
    "duration": 57,
    "start_time": "2024-02-21T18:04:37.984Z"
   },
   {
    "duration": 26,
    "start_time": "2024-02-21T18:04:38.397Z"
   },
   {
    "duration": 4,
    "start_time": "2024-02-21T18:04:39.874Z"
   },
   {
    "duration": 5,
    "start_time": "2024-02-21T18:04:40.529Z"
   },
   {
    "duration": 4,
    "start_time": "2024-02-21T18:04:41.223Z"
   },
   {
    "duration": 23,
    "start_time": "2024-02-21T18:07:06.589Z"
   },
   {
    "duration": 42,
    "start_time": "2024-02-22T07:41:32.679Z"
   },
   {
    "duration": 980,
    "start_time": "2024-02-22T07:41:40.146Z"
   },
   {
    "duration": 85,
    "start_time": "2024-02-22T07:41:41.128Z"
   },
   {
    "duration": 16,
    "start_time": "2024-02-22T07:41:41.214Z"
   },
   {
    "duration": 34,
    "start_time": "2024-02-22T07:41:41.232Z"
   },
   {
    "duration": 10,
    "start_time": "2024-02-22T07:41:41.268Z"
   },
   {
    "duration": 33,
    "start_time": "2024-02-22T07:41:41.280Z"
   },
   {
    "duration": 22,
    "start_time": "2024-02-22T07:41:41.315Z"
   },
   {
    "duration": 26,
    "start_time": "2024-02-22T07:41:41.339Z"
   },
   {
    "duration": 45,
    "start_time": "2024-02-22T07:41:41.367Z"
   },
   {
    "duration": 56,
    "start_time": "2024-02-22T07:41:41.414Z"
   },
   {
    "duration": 56,
    "start_time": "2024-02-22T07:41:41.472Z"
   },
   {
    "duration": 46,
    "start_time": "2024-02-22T07:41:41.530Z"
   },
   {
    "duration": 31,
    "start_time": "2024-02-22T07:41:41.577Z"
   },
   {
    "duration": 3,
    "start_time": "2024-02-22T07:41:41.610Z"
   },
   {
    "duration": 4,
    "start_time": "2024-02-22T07:41:41.614Z"
   },
   {
    "duration": 4,
    "start_time": "2024-02-22T07:41:41.619Z"
   },
   {
    "duration": 16,
    "start_time": "2024-02-22T07:41:41.624Z"
   },
   {
    "duration": 3,
    "start_time": "2024-02-22T07:45:09.483Z"
   },
   {
    "duration": 53,
    "start_time": "2024-02-22T07:45:10.503Z"
   },
   {
    "duration": 14,
    "start_time": "2024-02-22T07:45:29.190Z"
   },
   {
    "duration": 3,
    "start_time": "2024-02-22T07:46:40.557Z"
   },
   {
    "duration": 6,
    "start_time": "2024-02-22T07:46:41.413Z"
   },
   {
    "duration": 5,
    "start_time": "2024-02-22T07:46:41.821Z"
   },
   {
    "duration": 4,
    "start_time": "2024-02-22T07:46:42.725Z"
   },
   {
    "duration": 3,
    "start_time": "2024-02-22T07:46:43.343Z"
   },
   {
    "duration": 3,
    "start_time": "2024-02-22T07:46:44.596Z"
   },
   {
    "duration": 43,
    "start_time": "2024-02-22T07:46:47.949Z"
   },
   {
    "duration": 15,
    "start_time": "2024-02-22T07:46:49.011Z"
   },
   {
    "duration": 88,
    "start_time": "2024-02-22T07:47:53.294Z"
   },
   {
    "duration": 17,
    "start_time": "2024-02-22T07:47:58.461Z"
   },
   {
    "duration": 8,
    "start_time": "2024-02-22T07:51:39.156Z"
   },
   {
    "duration": 17,
    "start_time": "2024-02-22T07:51:44.978Z"
   },
   {
    "duration": 17,
    "start_time": "2024-02-22T07:52:12.612Z"
   },
   {
    "duration": 3,
    "start_time": "2024-02-22T07:52:25.070Z"
   },
   {
    "duration": 5,
    "start_time": "2024-02-22T07:52:25.658Z"
   },
   {
    "duration": 5,
    "start_time": "2024-02-22T07:52:26.980Z"
   },
   {
    "duration": 2,
    "start_time": "2024-02-22T07:52:28.102Z"
   },
   {
    "duration": 3,
    "start_time": "2024-02-22T07:52:28.598Z"
   },
   {
    "duration": 3,
    "start_time": "2024-02-22T07:52:29.008Z"
   },
   {
    "duration": 4,
    "start_time": "2024-02-22T07:52:50.031Z"
   },
   {
    "duration": 4,
    "start_time": "2024-02-22T07:52:51.275Z"
   },
   {
    "duration": 4,
    "start_time": "2024-02-22T07:52:51.743Z"
   },
   {
    "duration": 3,
    "start_time": "2024-02-22T07:52:52.897Z"
   },
   {
    "duration": 3,
    "start_time": "2024-02-22T07:52:53.503Z"
   },
   {
    "duration": 3,
    "start_time": "2024-02-22T07:52:54.027Z"
   },
   {
    "duration": 53,
    "start_time": "2024-02-22T07:52:55.775Z"
   },
   {
    "duration": 8,
    "start_time": "2024-02-22T07:53:01.393Z"
   },
   {
    "duration": 9,
    "start_time": "2024-02-22T07:53:04.484Z"
   },
   {
    "duration": 8,
    "start_time": "2024-02-22T07:53:25.716Z"
   },
   {
    "duration": 10,
    "start_time": "2024-02-22T07:53:27.369Z"
   },
   {
    "duration": 10,
    "start_time": "2024-02-22T07:53:44.040Z"
   },
   {
    "duration": 9,
    "start_time": "2024-02-22T07:53:59.347Z"
   },
   {
    "duration": 11,
    "start_time": "2024-02-22T07:54:23.034Z"
   },
   {
    "duration": 36,
    "start_time": "2024-02-22T08:01:57.950Z"
   },
   {
    "duration": 8,
    "start_time": "2024-02-22T08:04:53.496Z"
   },
   {
    "duration": 518,
    "start_time": "2024-02-22T08:05:02.943Z"
   },
   {
    "duration": 673,
    "start_time": "2024-02-22T08:05:53.496Z"
   },
   {
    "duration": 737,
    "start_time": "2024-02-22T08:06:02.628Z"
   },
   {
    "duration": 682,
    "start_time": "2024-02-22T08:07:54.834Z"
   },
   {
    "duration": 3,
    "start_time": "2024-02-22T08:08:22.398Z"
   },
   {
    "duration": 679,
    "start_time": "2024-02-22T08:08:32.500Z"
   },
   {
    "duration": 10,
    "start_time": "2024-02-22T08:10:15.706Z"
   },
   {
    "duration": 40,
    "start_time": "2024-02-22T08:10:20.138Z"
   },
   {
    "duration": 9,
    "start_time": "2024-02-22T08:19:55.156Z"
   },
   {
    "duration": 9,
    "start_time": "2024-02-22T08:20:00.491Z"
   },
   {
    "duration": 120,
    "start_time": "2024-02-22T08:20:05.225Z"
   },
   {
    "duration": 1247,
    "start_time": "2024-02-22T08:25:33.329Z"
   },
   {
    "duration": 39,
    "start_time": "2024-02-22T08:25:34.578Z"
   },
   {
    "duration": 14,
    "start_time": "2024-02-22T08:25:34.619Z"
   },
   {
    "duration": 22,
    "start_time": "2024-02-22T08:25:34.634Z"
   },
   {
    "duration": 3,
    "start_time": "2024-02-22T08:25:34.658Z"
   },
   {
    "duration": 3,
    "start_time": "2024-02-22T08:25:34.663Z"
   },
   {
    "duration": 22,
    "start_time": "2024-02-22T08:25:34.668Z"
   },
   {
    "duration": 12,
    "start_time": "2024-02-22T08:25:34.691Z"
   },
   {
    "duration": 27,
    "start_time": "2024-02-22T08:25:34.704Z"
   },
   {
    "duration": 706,
    "start_time": "2024-02-22T08:25:34.732Z"
   },
   {
    "duration": 9,
    "start_time": "2024-02-22T08:25:35.439Z"
   },
   {
    "duration": 105,
    "start_time": "2024-02-22T08:25:35.449Z"
   },
   {
    "duration": 0,
    "start_time": "2024-02-22T08:25:35.556Z"
   },
   {
    "duration": 0,
    "start_time": "2024-02-22T08:25:35.557Z"
   },
   {
    "duration": 0,
    "start_time": "2024-02-22T08:25:35.558Z"
   },
   {
    "duration": 0,
    "start_time": "2024-02-22T08:25:35.559Z"
   },
   {
    "duration": 0,
    "start_time": "2024-02-22T08:25:35.561Z"
   },
   {
    "duration": 0,
    "start_time": "2024-02-22T08:25:35.561Z"
   },
   {
    "duration": 0,
    "start_time": "2024-02-22T08:25:35.562Z"
   },
   {
    "duration": 0,
    "start_time": "2024-02-22T08:25:35.563Z"
   },
   {
    "duration": 6,
    "start_time": "2024-02-22T08:26:17.776Z"
   },
   {
    "duration": 7,
    "start_time": "2024-02-22T08:26:25.428Z"
   },
   {
    "duration": 9,
    "start_time": "2024-02-22T08:26:33.577Z"
   },
   {
    "duration": 150,
    "start_time": "2024-02-22T08:26:34.607Z"
   },
   {
    "duration": 8,
    "start_time": "2024-02-22T08:29:02.887Z"
   },
   {
    "duration": 7,
    "start_time": "2024-02-22T08:29:06.190Z"
   },
   {
    "duration": 111,
    "start_time": "2024-02-22T08:29:06.840Z"
   },
   {
    "duration": 8,
    "start_time": "2024-02-22T08:30:06.953Z"
   },
   {
    "duration": 147,
    "start_time": "2024-02-22T08:30:07.575Z"
   },
   {
    "duration": 7,
    "start_time": "2024-02-22T08:40:09.179Z"
   },
   {
    "duration": 3,
    "start_time": "2024-02-22T08:40:12.615Z"
   },
   {
    "duration": 5,
    "start_time": "2024-02-22T08:40:13.407Z"
   },
   {
    "duration": 4,
    "start_time": "2024-02-22T08:40:14.075Z"
   },
   {
    "duration": 4,
    "start_time": "2024-02-22T08:40:15.372Z"
   },
   {
    "duration": 3,
    "start_time": "2024-02-22T08:40:16.049Z"
   },
   {
    "duration": 3,
    "start_time": "2024-02-22T08:40:16.615Z"
   },
   {
    "duration": 10,
    "start_time": "2024-02-22T08:40:17.176Z"
   },
   {
    "duration": 35,
    "start_time": "2024-02-22T08:40:18.261Z"
   },
   {
    "duration": 7,
    "start_time": "2024-02-22T08:42:13.906Z"
   },
   {
    "duration": 40,
    "start_time": "2024-02-22T08:42:14.998Z"
   },
   {
    "duration": 12,
    "start_time": "2024-02-22T08:43:02.119Z"
   },
   {
    "duration": 7,
    "start_time": "2024-02-22T08:43:55.615Z"
   },
   {
    "duration": 10,
    "start_time": "2024-02-22T08:44:07.055Z"
   },
   {
    "duration": 4,
    "start_time": "2024-02-22T08:44:35.436Z"
   },
   {
    "duration": 6,
    "start_time": "2024-02-22T08:44:36.375Z"
   },
   {
    "duration": 4,
    "start_time": "2024-02-22T08:44:37.112Z"
   },
   {
    "duration": 3,
    "start_time": "2024-02-22T08:44:41.824Z"
   },
   {
    "duration": 3,
    "start_time": "2024-02-22T08:44:43.186Z"
   },
   {
    "duration": 4,
    "start_time": "2024-02-22T08:44:45.900Z"
   },
   {
    "duration": 700,
    "start_time": "2024-02-22T08:55:21.019Z"
   },
   {
    "duration": 7,
    "start_time": "2024-02-22T08:55:22.744Z"
   },
   {
    "duration": 104,
    "start_time": "2024-02-22T08:55:25.268Z"
   },
   {
    "duration": 8,
    "start_time": "2024-02-22T08:55:26.824Z"
   },
   {
    "duration": 98,
    "start_time": "2024-02-22T08:55:28.472Z"
   },
   {
    "duration": 8,
    "start_time": "2024-02-22T08:56:38.502Z"
   },
   {
    "duration": 10,
    "start_time": "2024-02-22T08:56:39.733Z"
   },
   {
    "duration": 4,
    "start_time": "2024-02-22T08:56:43.366Z"
   },
   {
    "duration": 5,
    "start_time": "2024-02-22T08:56:43.726Z"
   },
   {
    "duration": 4,
    "start_time": "2024-02-22T08:56:44.166Z"
   },
   {
    "duration": 3,
    "start_time": "2024-02-22T08:56:45.062Z"
   },
   {
    "duration": 5,
    "start_time": "2024-02-22T08:56:45.499Z"
   },
   {
    "duration": 2,
    "start_time": "2024-02-22T09:08:30.053Z"
   },
   {
    "duration": 3,
    "start_time": "2024-02-22T09:10:54.233Z"
   },
   {
    "duration": 7,
    "start_time": "2024-02-22T09:11:49.480Z"
   },
   {
    "duration": 18,
    "start_time": "2024-02-22T09:14:03.924Z"
   },
   {
    "duration": 6,
    "start_time": "2024-02-22T09:14:17.339Z"
   },
   {
    "duration": 2,
    "start_time": "2024-02-22T09:14:23.419Z"
   },
   {
    "duration": 6,
    "start_time": "2024-02-22T09:14:24.509Z"
   },
   {
    "duration": 16,
    "start_time": "2024-02-22T09:14:47.127Z"
   },
   {
    "duration": 3,
    "start_time": "2024-02-22T09:16:53.482Z"
   },
   {
    "duration": 6,
    "start_time": "2024-02-22T09:17:04.386Z"
   },
   {
    "duration": 17,
    "start_time": "2024-02-22T09:17:05.054Z"
   },
   {
    "duration": 15,
    "start_time": "2024-02-22T09:17:21.652Z"
   },
   {
    "duration": 15,
    "start_time": "2024-02-22T09:22:46.392Z"
   },
   {
    "duration": 7,
    "start_time": "2024-02-22T09:23:05.127Z"
   },
   {
    "duration": 3,
    "start_time": "2024-02-22T09:23:11.676Z"
   },
   {
    "duration": 16,
    "start_time": "2024-02-22T09:23:14.821Z"
   },
   {
    "duration": 6,
    "start_time": "2024-02-22T09:24:13.876Z"
   },
   {
    "duration": 5,
    "start_time": "2024-02-22T09:24:18.699Z"
   },
   {
    "duration": 14,
    "start_time": "2024-02-22T09:24:28.477Z"
   },
   {
    "duration": 3,
    "start_time": "2024-02-22T09:25:14.965Z"
   },
   {
    "duration": 9,
    "start_time": "2024-02-22T09:25:52.101Z"
   },
   {
    "duration": 4,
    "start_time": "2024-02-22T09:29:13.687Z"
   },
   {
    "duration": 680,
    "start_time": "2024-02-22T09:33:57.021Z"
   },
   {
    "duration": 677,
    "start_time": "2024-02-22T09:35:37.689Z"
   },
   {
    "duration": 12,
    "start_time": "2024-02-22T09:36:38.537Z"
   },
   {
    "duration": 10,
    "start_time": "2024-02-22T09:37:31.582Z"
   },
   {
    "duration": 110,
    "start_time": "2024-02-22T09:37:50.514Z"
   },
   {
    "duration": 96,
    "start_time": "2024-02-22T09:37:57.599Z"
   },
   {
    "duration": 96,
    "start_time": "2024-02-22T09:38:22.861Z"
   },
   {
    "duration": 112,
    "start_time": "2024-02-22T09:39:40.777Z"
   },
   {
    "duration": 10,
    "start_time": "2024-02-22T09:39:56.789Z"
   },
   {
    "duration": 7,
    "start_time": "2024-02-22T09:40:15.365Z"
   },
   {
    "duration": 1263,
    "start_time": "2024-02-22T09:40:36.365Z"
   },
   {
    "duration": 39,
    "start_time": "2024-02-22T09:40:37.630Z"
   },
   {
    "duration": 13,
    "start_time": "2024-02-22T09:40:37.670Z"
   },
   {
    "duration": 17,
    "start_time": "2024-02-22T09:40:37.685Z"
   },
   {
    "duration": 12,
    "start_time": "2024-02-22T09:40:37.704Z"
   },
   {
    "duration": 12,
    "start_time": "2024-02-22T09:40:37.717Z"
   },
   {
    "duration": 12,
    "start_time": "2024-02-22T09:40:37.730Z"
   },
   {
    "duration": 16,
    "start_time": "2024-02-22T09:40:37.743Z"
   },
   {
    "duration": 18,
    "start_time": "2024-02-22T09:40:37.761Z"
   },
   {
    "duration": 96,
    "start_time": "2024-02-22T09:40:37.781Z"
   },
   {
    "duration": 0,
    "start_time": "2024-02-22T09:40:37.879Z"
   },
   {
    "duration": 0,
    "start_time": "2024-02-22T09:40:37.879Z"
   },
   {
    "duration": 0,
    "start_time": "2024-02-22T09:40:37.880Z"
   },
   {
    "duration": 0,
    "start_time": "2024-02-22T09:40:37.881Z"
   },
   {
    "duration": 0,
    "start_time": "2024-02-22T09:40:37.882Z"
   },
   {
    "duration": 0,
    "start_time": "2024-02-22T09:40:37.883Z"
   },
   {
    "duration": 0,
    "start_time": "2024-02-22T09:40:37.884Z"
   },
   {
    "duration": 0,
    "start_time": "2024-02-22T09:40:37.885Z"
   },
   {
    "duration": 0,
    "start_time": "2024-02-22T09:40:37.886Z"
   },
   {
    "duration": 0,
    "start_time": "2024-02-22T09:40:37.902Z"
   },
   {
    "duration": 0,
    "start_time": "2024-02-22T09:40:37.903Z"
   },
   {
    "duration": 0,
    "start_time": "2024-02-22T09:40:37.904Z"
   },
   {
    "duration": 0,
    "start_time": "2024-02-22T09:40:37.905Z"
   },
   {
    "duration": 0,
    "start_time": "2024-02-22T09:40:37.906Z"
   },
   {
    "duration": 0,
    "start_time": "2024-02-22T09:40:37.907Z"
   },
   {
    "duration": 0,
    "start_time": "2024-02-22T09:40:37.908Z"
   },
   {
    "duration": 0,
    "start_time": "2024-02-22T09:40:37.909Z"
   },
   {
    "duration": 0,
    "start_time": "2024-02-22T09:40:37.910Z"
   },
   {
    "duration": 0,
    "start_time": "2024-02-22T09:40:37.910Z"
   },
   {
    "duration": 0,
    "start_time": "2024-02-22T09:40:37.911Z"
   },
   {
    "duration": 684,
    "start_time": "2024-02-22T09:40:58.861Z"
   },
   {
    "duration": 715,
    "start_time": "2024-02-22T09:41:50.016Z"
   },
   {
    "duration": 184,
    "start_time": "2024-02-22T09:43:14.070Z"
   },
   {
    "duration": 120,
    "start_time": "2024-02-22T09:43:21.198Z"
   },
   {
    "duration": 113,
    "start_time": "2024-02-22T09:43:46.669Z"
   },
   {
    "duration": 104,
    "start_time": "2024-02-22T09:44:27.786Z"
   },
   {
    "duration": 105,
    "start_time": "2024-02-22T09:44:38.458Z"
   },
   {
    "duration": 98,
    "start_time": "2024-02-22T09:44:42.213Z"
   },
   {
    "duration": 8,
    "start_time": "2024-02-22T09:45:14.591Z"
   },
   {
    "duration": 10,
    "start_time": "2024-02-22T09:45:15.505Z"
   },
   {
    "duration": 6,
    "start_time": "2024-02-22T09:45:17.482Z"
   },
   {
    "duration": 6,
    "start_time": "2024-02-22T09:45:18.145Z"
   },
   {
    "duration": 5,
    "start_time": "2024-02-22T09:45:18.669Z"
   },
   {
    "duration": 3,
    "start_time": "2024-02-22T09:45:19.578Z"
   },
   {
    "duration": 4,
    "start_time": "2024-02-22T09:45:20.057Z"
   },
   {
    "duration": 4,
    "start_time": "2024-02-22T09:45:20.598Z"
   },
   {
    "duration": 3,
    "start_time": "2024-02-22T09:45:21.707Z"
   },
   {
    "duration": 2,
    "start_time": "2024-02-22T09:45:22.441Z"
   },
   {
    "duration": 6,
    "start_time": "2024-02-22T09:45:24.026Z"
   },
   {
    "duration": 20,
    "start_time": "2024-02-22T09:45:25.209Z"
   },
   {
    "duration": 10,
    "start_time": "2024-02-22T09:45:26.099Z"
   },
   {
    "duration": 12,
    "start_time": "2024-02-22T09:46:31.153Z"
   },
   {
    "duration": 4,
    "start_time": "2024-02-22T09:46:59.824Z"
   },
   {
    "duration": 32,
    "start_time": "2024-02-22T09:47:07.933Z"
   },
   {
    "duration": 32,
    "start_time": "2024-02-22T09:48:19.488Z"
   },
   {
    "duration": 30,
    "start_time": "2024-02-22T09:48:25.610Z"
   },
   {
    "duration": 31,
    "start_time": "2024-02-22T09:48:31.564Z"
   },
   {
    "duration": 32,
    "start_time": "2024-02-22T09:48:36.374Z"
   },
   {
    "duration": 29,
    "start_time": "2024-02-22T09:48:41.442Z"
   },
   {
    "duration": 30,
    "start_time": "2024-02-22T09:49:59.446Z"
   },
   {
    "duration": 31,
    "start_time": "2024-02-22T09:51:22.294Z"
   },
   {
    "duration": 1138,
    "start_time": "2024-02-22T09:52:03.997Z"
   },
   {
    "duration": 4,
    "start_time": "2024-02-22T09:52:23.328Z"
   },
   {
    "duration": 6,
    "start_time": "2024-02-22T09:52:58.550Z"
   },
   {
    "duration": 3,
    "start_time": "2024-02-22T09:56:29.866Z"
   },
   {
    "duration": 6,
    "start_time": "2024-02-22T09:56:37.218Z"
   },
   {
    "duration": 3,
    "start_time": "2024-02-22T09:59:30.396Z"
   },
   {
    "duration": 7,
    "start_time": "2024-02-22T10:00:36.567Z"
   },
   {
    "duration": 7,
    "start_time": "2024-02-22T10:01:33.199Z"
   },
   {
    "duration": 3,
    "start_time": "2024-02-22T10:02:44.117Z"
   },
   {
    "duration": 3,
    "start_time": "2024-02-22T10:03:12.473Z"
   },
   {
    "duration": 6,
    "start_time": "2024-02-22T10:04:13.100Z"
   },
   {
    "duration": 4,
    "start_time": "2024-02-22T10:04:59.810Z"
   },
   {
    "duration": 7,
    "start_time": "2024-02-22T10:05:21.680Z"
   },
   {
    "duration": 86,
    "start_time": "2024-02-22T10:05:50.424Z"
   },
   {
    "duration": 3,
    "start_time": "2024-02-22T10:05:56.543Z"
   },
   {
    "duration": 6,
    "start_time": "2024-02-22T10:06:03.711Z"
   },
   {
    "duration": 7,
    "start_time": "2024-02-22T10:07:47.315Z"
   },
   {
    "duration": 8,
    "start_time": "2024-02-22T10:09:31.930Z"
   },
   {
    "duration": 3,
    "start_time": "2024-02-22T10:14:40.593Z"
   },
   {
    "duration": 6,
    "start_time": "2024-02-22T10:17:11.536Z"
   },
   {
    "duration": 84,
    "start_time": "2024-02-22T10:19:16.443Z"
   },
   {
    "duration": 8,
    "start_time": "2024-02-22T10:19:55.744Z"
   },
   {
    "duration": 8,
    "start_time": "2024-02-22T10:20:20.507Z"
   },
   {
    "duration": 9,
    "start_time": "2024-02-22T10:20:24.915Z"
   },
   {
    "duration": 3,
    "start_time": "2024-02-22T10:22:11.250Z"
   },
   {
    "duration": 23,
    "start_time": "2024-02-22T10:22:31.804Z"
   },
   {
    "duration": 3,
    "start_time": "2024-02-22T10:38:45.762Z"
   },
   {
    "duration": 9,
    "start_time": "2024-02-22T10:40:06.262Z"
   },
   {
    "duration": 4,
    "start_time": "2024-02-22T10:57:23.981Z"
   },
   {
    "duration": 7,
    "start_time": "2024-02-22T10:58:45.859Z"
   },
   {
    "duration": 9,
    "start_time": "2024-02-22T10:59:16.747Z"
   },
   {
    "duration": 8,
    "start_time": "2024-02-22T10:59:19.858Z"
   },
   {
    "duration": 8,
    "start_time": "2024-02-22T10:59:29.150Z"
   },
   {
    "duration": 4,
    "start_time": "2024-02-22T11:00:31.567Z"
   },
   {
    "duration": 2,
    "start_time": "2024-02-22T11:00:42.223Z"
   },
   {
    "duration": 7,
    "start_time": "2024-02-22T11:08:33.816Z"
   },
   {
    "duration": 3,
    "start_time": "2024-02-22T11:08:43.103Z"
   },
   {
    "duration": 10,
    "start_time": "2024-02-22T11:08:57.095Z"
   },
   {
    "duration": 8,
    "start_time": "2024-02-22T11:13:20.667Z"
   },
   {
    "duration": 3,
    "start_time": "2024-02-22T11:13:52.057Z"
   },
   {
    "duration": 3,
    "start_time": "2024-02-22T11:14:10.608Z"
   },
   {
    "duration": 3,
    "start_time": "2024-02-22T11:14:11.378Z"
   },
   {
    "duration": 10,
    "start_time": "2024-02-22T11:15:37.107Z"
   },
   {
    "duration": 31,
    "start_time": "2024-02-22T11:22:51.965Z"
   },
   {
    "duration": 29,
    "start_time": "2024-02-22T11:23:37.544Z"
   },
   {
    "duration": 30,
    "start_time": "2024-02-22T11:23:43.509Z"
   },
   {
    "duration": 26,
    "start_time": "2024-02-22T11:23:47.975Z"
   },
   {
    "duration": 23,
    "start_time": "2024-02-22T11:23:52.459Z"
   },
   {
    "duration": 22,
    "start_time": "2024-02-22T11:23:58.988Z"
   },
   {
    "duration": 21,
    "start_time": "2024-02-22T11:24:03.633Z"
   },
   {
    "duration": 18,
    "start_time": "2024-02-22T11:24:12.586Z"
   },
   {
    "duration": 17,
    "start_time": "2024-02-22T11:24:22.611Z"
   },
   {
    "duration": 19,
    "start_time": "2024-02-22T11:24:26.398Z"
   },
   {
    "duration": 23,
    "start_time": "2024-02-22T11:24:34.364Z"
   },
   {
    "duration": 23,
    "start_time": "2024-02-22T11:24:38.334Z"
   },
   {
    "duration": 24,
    "start_time": "2024-02-22T11:24:41.620Z"
   },
   {
    "duration": 20,
    "start_time": "2024-02-22T11:24:45.404Z"
   },
   {
    "duration": 24,
    "start_time": "2024-02-22T11:24:49.532Z"
   },
   {
    "duration": 21,
    "start_time": "2024-02-22T11:24:53.386Z"
   },
   {
    "duration": 95,
    "start_time": "2024-02-22T11:28:11.163Z"
   },
   {
    "duration": 19,
    "start_time": "2024-02-22T11:28:18.769Z"
   },
   {
    "duration": 19,
    "start_time": "2024-02-22T11:28:29.315Z"
   },
   {
    "duration": 20,
    "start_time": "2024-02-22T11:28:34.675Z"
   },
   {
    "duration": 6,
    "start_time": "2024-02-22T11:31:48.774Z"
   },
   {
    "duration": 30,
    "start_time": "2024-02-22T11:31:58.327Z"
   },
   {
    "duration": 4,
    "start_time": "2024-02-22T11:32:03.332Z"
   },
   {
    "duration": 93,
    "start_time": "2024-02-22T11:32:10.240Z"
   },
   {
    "duration": 90,
    "start_time": "2024-02-22T11:32:50.115Z"
   },
   {
    "duration": 30,
    "start_time": "2024-02-22T11:33:24.895Z"
   },
   {
    "duration": 5,
    "start_time": "2024-02-22T11:33:26.674Z"
   },
   {
    "duration": 82,
    "start_time": "2024-02-22T11:33:27.082Z"
   },
   {
    "duration": 3,
    "start_time": "2024-02-22T11:35:23.740Z"
   },
   {
    "duration": 5,
    "start_time": "2024-02-22T11:36:49.473Z"
   },
   {
    "duration": 4,
    "start_time": "2024-02-22T11:38:46.076Z"
   },
   {
    "duration": 5,
    "start_time": "2024-02-22T11:38:53.544Z"
   },
   {
    "duration": 3,
    "start_time": "2024-02-22T11:42:05.349Z"
   },
   {
    "duration": 10,
    "start_time": "2024-02-22T11:43:14.258Z"
   },
   {
    "duration": 5,
    "start_time": "2024-02-22T11:43:51.943Z"
   },
   {
    "duration": 29,
    "start_time": "2024-02-22T11:47:36.934Z"
   },
   {
    "duration": 31,
    "start_time": "2024-02-22T11:48:10.088Z"
   },
   {
    "duration": 32,
    "start_time": "2024-02-22T11:48:17.112Z"
   },
   {
    "duration": 31,
    "start_time": "2024-02-22T11:48:47.200Z"
   },
   {
    "duration": 5,
    "start_time": "2024-02-22T11:48:55.346Z"
   },
   {
    "duration": 20,
    "start_time": "2024-02-22T11:58:11.597Z"
   },
   {
    "duration": 18,
    "start_time": "2024-02-22T11:58:49.058Z"
   },
   {
    "duration": 8,
    "start_time": "2024-02-22T12:00:53.573Z"
   },
   {
    "duration": 7,
    "start_time": "2024-02-22T12:01:48.318Z"
   },
   {
    "duration": 31,
    "start_time": "2024-02-22T12:10:07.658Z"
   },
   {
    "duration": 31,
    "start_time": "2024-02-22T12:10:12.982Z"
   },
   {
    "duration": 1270,
    "start_time": "2024-02-22T12:12:03.096Z"
   },
   {
    "duration": 40,
    "start_time": "2024-02-22T12:12:04.367Z"
   },
   {
    "duration": 14,
    "start_time": "2024-02-22T12:12:04.409Z"
   },
   {
    "duration": 13,
    "start_time": "2024-02-22T12:12:04.424Z"
   },
   {
    "duration": 5,
    "start_time": "2024-02-22T12:12:04.439Z"
   },
   {
    "duration": 8,
    "start_time": "2024-02-22T12:12:04.445Z"
   },
   {
    "duration": 15,
    "start_time": "2024-02-22T12:12:04.454Z"
   },
   {
    "duration": 14,
    "start_time": "2024-02-22T12:12:04.471Z"
   },
   {
    "duration": 28,
    "start_time": "2024-02-22T12:12:04.486Z"
   },
   {
    "duration": 8,
    "start_time": "2024-02-22T12:12:04.515Z"
   },
   {
    "duration": 30,
    "start_time": "2024-02-22T12:12:04.524Z"
   },
   {
    "duration": 8,
    "start_time": "2024-02-22T12:12:04.555Z"
   },
   {
    "duration": 5,
    "start_time": "2024-02-22T12:12:04.565Z"
   },
   {
    "duration": 4,
    "start_time": "2024-02-22T12:12:04.572Z"
   },
   {
    "duration": 14,
    "start_time": "2024-02-22T12:12:04.577Z"
   },
   {
    "duration": 4,
    "start_time": "2024-02-22T12:12:04.592Z"
   },
   {
    "duration": 16,
    "start_time": "2024-02-22T12:12:04.597Z"
   },
   {
    "duration": 13,
    "start_time": "2024-02-22T12:12:04.615Z"
   },
   {
    "duration": 18,
    "start_time": "2024-02-22T12:12:04.629Z"
   },
   {
    "duration": 28,
    "start_time": "2024-02-22T12:12:04.648Z"
   },
   {
    "duration": 7,
    "start_time": "2024-02-22T12:12:04.677Z"
   },
   {
    "duration": 36,
    "start_time": "2024-02-22T12:12:04.685Z"
   },
   {
    "duration": 6,
    "start_time": "2024-02-22T12:12:04.722Z"
   },
   {
    "duration": 112,
    "start_time": "2024-02-22T12:12:04.729Z"
   },
   {
    "duration": 115,
    "start_time": "2024-02-22T12:12:04.843Z"
   },
   {
    "duration": 7,
    "start_time": "2024-02-22T12:12:22.944Z"
   },
   {
    "duration": 32,
    "start_time": "2024-02-22T12:17:27.983Z"
   },
   {
    "duration": 4,
    "start_time": "2024-02-22T12:24:16.336Z"
   },
   {
    "duration": 3,
    "start_time": "2024-02-22T12:29:23.798Z"
   },
   {
    "duration": 579,
    "start_time": "2024-02-22T12:30:36.484Z"
   },
   {
    "duration": 70,
    "start_time": "2024-02-22T12:30:45.082Z"
   },
   {
    "duration": 161,
    "start_time": "2024-02-22T12:30:57.304Z"
   },
   {
    "duration": 173,
    "start_time": "2024-02-22T12:31:11.001Z"
   },
   {
    "duration": 394,
    "start_time": "2024-02-22T12:31:17.397Z"
   },
   {
    "duration": 161,
    "start_time": "2024-02-22T12:31:22.576Z"
   },
   {
    "duration": 1949,
    "start_time": "2024-02-22T12:31:32.265Z"
   },
   {
    "duration": 162,
    "start_time": "2024-02-22T12:31:38.800Z"
   },
   {
    "duration": 5,
    "start_time": "2024-02-22T12:31:52.367Z"
   },
   {
    "duration": 707,
    "start_time": "2024-02-22T12:32:58.538Z"
   },
   {
    "duration": 105,
    "start_time": "2024-02-22T12:33:13.487Z"
   },
   {
    "duration": 146,
    "start_time": "2024-02-22T12:33:38.732Z"
   },
   {
    "duration": 4,
    "start_time": "2024-02-22T12:34:01.135Z"
   },
   {
    "duration": 72,
    "start_time": "2024-02-22T12:36:11.699Z"
   },
   {
    "duration": 17,
    "start_time": "2024-02-22T12:37:51.411Z"
   },
   {
    "duration": 21,
    "start_time": "2024-02-22T12:38:02.259Z"
   },
   {
    "duration": 27,
    "start_time": "2024-02-22T12:38:06.760Z"
   },
   {
    "duration": 26,
    "start_time": "2024-02-22T12:38:10.010Z"
   },
   {
    "duration": 22,
    "start_time": "2024-02-22T12:38:13.832Z"
   },
   {
    "duration": 23,
    "start_time": "2024-02-22T12:38:17.768Z"
   },
   {
    "duration": 16,
    "start_time": "2024-02-22T12:38:22.682Z"
   },
   {
    "duration": 15,
    "start_time": "2024-02-22T12:38:25.800Z"
   },
   {
    "duration": 9,
    "start_time": "2024-02-22T12:38:28.942Z"
   },
   {
    "duration": 11,
    "start_time": "2024-02-22T12:38:32.828Z"
   },
   {
    "duration": 12,
    "start_time": "2024-02-22T12:38:35.843Z"
   },
   {
    "duration": 14,
    "start_time": "2024-02-22T12:38:38.597Z"
   },
   {
    "duration": 17,
    "start_time": "2024-02-22T12:38:41.478Z"
   },
   {
    "duration": 18,
    "start_time": "2024-02-22T12:38:44.554Z"
   },
   {
    "duration": 19,
    "start_time": "2024-02-22T12:38:47.201Z"
   },
   {
    "duration": 20,
    "start_time": "2024-02-22T12:38:51.303Z"
   },
   {
    "duration": 22,
    "start_time": "2024-02-22T12:38:55.496Z"
   },
   {
    "duration": 25,
    "start_time": "2024-02-22T12:38:59.257Z"
   },
   {
    "duration": 27,
    "start_time": "2024-02-22T12:39:07.781Z"
   },
   {
    "duration": 16,
    "start_time": "2024-02-22T12:39:27.762Z"
   },
   {
    "duration": 15,
    "start_time": "2024-02-22T12:39:30.536Z"
   },
   {
    "duration": 14,
    "start_time": "2024-02-22T12:39:37.924Z"
   },
   {
    "duration": 13,
    "start_time": "2024-02-22T12:39:41.300Z"
   },
   {
    "duration": 14,
    "start_time": "2024-02-22T12:39:43.886Z"
   },
   {
    "duration": 15,
    "start_time": "2024-02-22T12:40:30.559Z"
   },
   {
    "duration": 102,
    "start_time": "2024-02-22T12:40:55.920Z"
   },
   {
    "duration": 4,
    "start_time": "2024-02-22T12:41:04.561Z"
   },
   {
    "duration": 4,
    "start_time": "2024-02-22T12:42:23.591Z"
   },
   {
    "duration": 12,
    "start_time": "2024-02-22T12:42:56.401Z"
   },
   {
    "duration": 4,
    "start_time": "2024-02-22T12:43:23.554Z"
   },
   {
    "duration": 5,
    "start_time": "2024-02-22T12:43:43.832Z"
   },
   {
    "duration": 6,
    "start_time": "2024-02-22T12:44:39.889Z"
   },
   {
    "duration": 78,
    "start_time": "2024-02-22T12:44:43.204Z"
   },
   {
    "duration": 21,
    "start_time": "2024-02-22T12:45:10.373Z"
   },
   {
    "duration": 24,
    "start_time": "2024-02-22T12:45:15.169Z"
   },
   {
    "duration": 4,
    "start_time": "2024-02-22T12:45:17.207Z"
   },
   {
    "duration": 4,
    "start_time": "2024-02-22T12:45:18.019Z"
   },
   {
    "duration": 4,
    "start_time": "2024-02-22T12:45:18.851Z"
   },
   {
    "duration": 4,
    "start_time": "2024-02-22T12:45:19.707Z"
   },
   {
    "duration": 74,
    "start_time": "2024-02-22T12:46:09.157Z"
   },
   {
    "duration": 3,
    "start_time": "2024-02-22T12:50:32.904Z"
   },
   {
    "duration": 9,
    "start_time": "2024-02-22T14:00:08.406Z"
   },
   {
    "duration": 3,
    "start_time": "2024-02-22T14:00:36.285Z"
   },
   {
    "duration": 106,
    "start_time": "2024-02-22T14:01:44.542Z"
   },
   {
    "duration": 114,
    "start_time": "2024-02-22T14:06:07.135Z"
   },
   {
    "duration": 10,
    "start_time": "2024-02-22T14:11:49.294Z"
   },
   {
    "duration": 7,
    "start_time": "2024-02-22T14:11:51.624Z"
   },
   {
    "duration": 1210,
    "start_time": "2024-02-22T14:12:15.904Z"
   },
   {
    "duration": 39,
    "start_time": "2024-02-22T14:12:17.116Z"
   },
   {
    "duration": 13,
    "start_time": "2024-02-22T14:12:17.156Z"
   },
   {
    "duration": 43,
    "start_time": "2024-02-22T14:12:17.171Z"
   },
   {
    "duration": 16,
    "start_time": "2024-02-22T14:12:17.216Z"
   },
   {
    "duration": 14,
    "start_time": "2024-02-22T14:12:17.233Z"
   },
   {
    "duration": 34,
    "start_time": "2024-02-22T14:12:17.248Z"
   },
   {
    "duration": 33,
    "start_time": "2024-02-22T14:12:17.283Z"
   },
   {
    "duration": 31,
    "start_time": "2024-02-22T14:12:17.317Z"
   },
   {
    "duration": 13,
    "start_time": "2024-02-22T14:12:17.349Z"
   },
   {
    "duration": 742,
    "start_time": "2024-02-22T14:12:17.364Z"
   },
   {
    "duration": 114,
    "start_time": "2024-02-22T14:12:18.108Z"
   },
   {
    "duration": 105,
    "start_time": "2024-02-22T14:12:18.223Z"
   },
   {
    "duration": 9,
    "start_time": "2024-02-22T14:12:18.331Z"
   },
   {
    "duration": 12,
    "start_time": "2024-02-22T14:12:18.342Z"
   },
   {
    "duration": 10,
    "start_time": "2024-02-22T14:12:18.355Z"
   },
   {
    "duration": 8,
    "start_time": "2024-02-22T14:12:18.366Z"
   },
   {
    "duration": 43,
    "start_time": "2024-02-22T14:12:18.375Z"
   },
   {
    "duration": 8,
    "start_time": "2024-02-22T14:12:18.419Z"
   },
   {
    "duration": 5,
    "start_time": "2024-02-22T14:12:18.428Z"
   },
   {
    "duration": 8,
    "start_time": "2024-02-22T14:12:18.434Z"
   },
   {
    "duration": 61,
    "start_time": "2024-02-22T14:12:18.443Z"
   },
   {
    "duration": 9,
    "start_time": "2024-02-22T14:12:18.505Z"
   },
   {
    "duration": 49,
    "start_time": "2024-02-22T14:12:18.515Z"
   },
   {
    "duration": 4,
    "start_time": "2024-02-22T14:12:18.565Z"
   },
   {
    "duration": 4,
    "start_time": "2024-02-22T14:12:18.570Z"
   },
   {
    "duration": 4,
    "start_time": "2024-02-22T14:12:18.575Z"
   },
   {
    "duration": 4,
    "start_time": "2024-02-22T14:12:18.580Z"
   },
   {
    "duration": 101,
    "start_time": "2024-02-22T14:12:18.585Z"
   },
   {
    "duration": 98,
    "start_time": "2024-02-22T14:12:38.016Z"
   },
   {
    "duration": 3,
    "start_time": "2024-02-22T14:12:57.881Z"
   },
   {
    "duration": 29,
    "start_time": "2024-02-22T14:16:00.812Z"
   },
   {
    "duration": 1153,
    "start_time": "2024-02-22T14:17:07.975Z"
   },
   {
    "duration": 1201,
    "start_time": "2024-02-22T14:17:22.320Z"
   },
   {
    "duration": 5,
    "start_time": "2024-02-22T14:17:35.373Z"
   },
   {
    "duration": 5,
    "start_time": "2024-02-22T14:18:01.198Z"
   },
   {
    "duration": 28,
    "start_time": "2024-02-22T14:19:07.627Z"
   },
   {
    "duration": 4,
    "start_time": "2024-02-22T14:20:28.683Z"
   },
   {
    "duration": 16,
    "start_time": "2024-02-22T14:22:38.316Z"
   },
   {
    "duration": 19,
    "start_time": "2024-02-22T14:27:14.566Z"
   },
   {
    "duration": 5,
    "start_time": "2024-02-22T14:28:22.975Z"
   },
   {
    "duration": 4,
    "start_time": "2024-02-22T14:28:36.849Z"
   },
   {
    "duration": 4,
    "start_time": "2024-02-22T14:28:42.464Z"
   },
   {
    "duration": 4,
    "start_time": "2024-02-22T14:28:52.524Z"
   },
   {
    "duration": 25,
    "start_time": "2024-02-22T14:31:41.403Z"
   },
   {
    "duration": 4,
    "start_time": "2024-02-22T14:31:43.536Z"
   },
   {
    "duration": 4,
    "start_time": "2024-02-22T14:31:44.250Z"
   },
   {
    "duration": 4,
    "start_time": "2024-02-22T14:31:44.908Z"
   },
   {
    "duration": 4,
    "start_time": "2024-02-22T14:31:45.490Z"
   },
   {
    "duration": 14,
    "start_time": "2024-02-22T14:31:49.868Z"
   },
   {
    "duration": 4,
    "start_time": "2024-02-22T14:31:51.140Z"
   },
   {
    "duration": 5,
    "start_time": "2024-02-22T14:31:52.027Z"
   },
   {
    "duration": 5,
    "start_time": "2024-02-22T14:31:52.604Z"
   },
   {
    "duration": 5,
    "start_time": "2024-02-22T14:31:53.268Z"
   },
   {
    "duration": 13,
    "start_time": "2024-02-22T14:31:58.680Z"
   },
   {
    "duration": 5,
    "start_time": "2024-02-22T14:31:59.694Z"
   },
   {
    "duration": 4,
    "start_time": "2024-02-22T14:32:00.958Z"
   },
   {
    "duration": 4,
    "start_time": "2024-02-22T14:32:01.901Z"
   },
   {
    "duration": 4,
    "start_time": "2024-02-22T14:32:03.038Z"
   },
   {
    "duration": 15,
    "start_time": "2024-02-22T14:32:07.734Z"
   },
   {
    "duration": 5,
    "start_time": "2024-02-22T14:32:09.778Z"
   },
   {
    "duration": 5,
    "start_time": "2024-02-22T14:32:10.281Z"
   },
   {
    "duration": 5,
    "start_time": "2024-02-22T14:32:10.888Z"
   },
   {
    "duration": 5,
    "start_time": "2024-02-22T14:32:11.380Z"
   },
   {
    "duration": 5,
    "start_time": "2024-02-22T14:32:44.531Z"
   },
   {
    "duration": 67,
    "start_time": "2024-02-22T14:34:57.229Z"
   },
   {
    "duration": 5,
    "start_time": "2024-02-22T14:35:06.086Z"
   },
   {
    "duration": 70,
    "start_time": "2024-02-22T14:35:34.475Z"
   },
   {
    "duration": 5,
    "start_time": "2024-02-22T14:35:43.453Z"
   },
   {
    "duration": 4,
    "start_time": "2024-02-22T14:36:07.998Z"
   },
   {
    "duration": 4,
    "start_time": "2024-02-22T14:36:28.215Z"
   },
   {
    "duration": 5,
    "start_time": "2024-02-22T14:38:07.407Z"
   },
   {
    "duration": 6,
    "start_time": "2024-02-22T14:38:16.221Z"
   },
   {
    "duration": 10,
    "start_time": "2024-02-22T14:38:44.526Z"
   },
   {
    "duration": 123,
    "start_time": "2024-02-22T14:42:53.961Z"
   },
   {
    "duration": 8,
    "start_time": "2024-02-22T14:43:09.335Z"
   },
   {
    "duration": 11,
    "start_time": "2024-02-22T14:43:19.487Z"
   },
   {
    "duration": 8,
    "start_time": "2024-02-22T14:43:21.363Z"
   },
   {
    "duration": 11,
    "start_time": "2024-02-22T14:43:32.142Z"
   },
   {
    "duration": 1253,
    "start_time": "2024-02-22T15:40:42.075Z"
   },
   {
    "duration": 38,
    "start_time": "2024-02-22T15:40:43.330Z"
   },
   {
    "duration": 13,
    "start_time": "2024-02-22T15:40:43.369Z"
   },
   {
    "duration": 9,
    "start_time": "2024-02-22T15:40:43.384Z"
   },
   {
    "duration": 3,
    "start_time": "2024-02-22T15:40:43.395Z"
   },
   {
    "duration": 4,
    "start_time": "2024-02-22T15:40:43.399Z"
   },
   {
    "duration": 24,
    "start_time": "2024-02-22T15:40:43.404Z"
   },
   {
    "duration": 13,
    "start_time": "2024-02-22T15:40:43.429Z"
   },
   {
    "duration": 17,
    "start_time": "2024-02-22T15:40:43.443Z"
   },
   {
    "duration": 8,
    "start_time": "2024-02-22T15:40:43.461Z"
   },
   {
    "duration": 713,
    "start_time": "2024-02-22T15:40:43.470Z"
   },
   {
    "duration": 108,
    "start_time": "2024-02-22T15:40:44.184Z"
   },
   {
    "duration": 103,
    "start_time": "2024-02-22T15:40:44.293Z"
   },
   {
    "duration": 9,
    "start_time": "2024-02-22T15:40:44.403Z"
   },
   {
    "duration": 6,
    "start_time": "2024-02-22T15:40:44.413Z"
   },
   {
    "duration": 4,
    "start_time": "2024-02-22T15:40:44.420Z"
   },
   {
    "duration": 8,
    "start_time": "2024-02-22T15:40:44.425Z"
   },
   {
    "duration": 12,
    "start_time": "2024-02-22T15:40:44.434Z"
   },
   {
    "duration": 8,
    "start_time": "2024-02-22T15:40:44.447Z"
   },
   {
    "duration": 12,
    "start_time": "2024-02-22T15:40:44.456Z"
   },
   {
    "duration": 19,
    "start_time": "2024-02-22T15:40:44.469Z"
   },
   {
    "duration": 63,
    "start_time": "2024-02-22T15:40:44.489Z"
   },
   {
    "duration": 107,
    "start_time": "2024-02-22T15:40:44.553Z"
   },
   {
    "duration": 0,
    "start_time": "2024-02-22T15:40:44.661Z"
   },
   {
    "duration": 0,
    "start_time": "2024-02-22T15:40:44.662Z"
   },
   {
    "duration": 0,
    "start_time": "2024-02-22T15:40:44.663Z"
   },
   {
    "duration": 1,
    "start_time": "2024-02-22T15:40:44.663Z"
   },
   {
    "duration": 0,
    "start_time": "2024-02-22T15:40:44.664Z"
   },
   {
    "duration": 16,
    "start_time": "2024-02-22T15:41:50.764Z"
   },
   {
    "duration": 4,
    "start_time": "2024-02-22T15:41:53.722Z"
   },
   {
    "duration": 5,
    "start_time": "2024-02-22T15:41:54.150Z"
   },
   {
    "duration": 4,
    "start_time": "2024-02-22T15:41:54.506Z"
   },
   {
    "duration": 4,
    "start_time": "2024-02-22T15:41:54.824Z"
   },
   {
    "duration": 5,
    "start_time": "2024-02-22T15:42:32.518Z"
   },
   {
    "duration": 4,
    "start_time": "2024-02-22T15:43:30.757Z"
   },
   {
    "duration": 95,
    "start_time": "2024-02-22T15:43:33.610Z"
   },
   {
    "duration": 91,
    "start_time": "2024-02-22T15:44:09.259Z"
   },
   {
    "duration": 88,
    "start_time": "2024-02-22T15:44:38.869Z"
   },
   {
    "duration": 68,
    "start_time": "2024-02-22T15:47:00.780Z"
   },
   {
    "duration": 68,
    "start_time": "2024-02-22T15:47:13.752Z"
   },
   {
    "duration": 3,
    "start_time": "2024-02-22T15:47:52.083Z"
   },
   {
    "duration": 6,
    "start_time": "2024-02-22T15:48:02.069Z"
   },
   {
    "duration": 7,
    "start_time": "2024-02-22T15:48:30.770Z"
   },
   {
    "duration": 7,
    "start_time": "2024-02-22T15:49:09.956Z"
   },
   {
    "duration": 4,
    "start_time": "2024-02-22T15:49:16.855Z"
   },
   {
    "duration": 88,
    "start_time": "2024-02-22T15:50:17.319Z"
   },
   {
    "duration": 4,
    "start_time": "2024-02-22T15:50:18.389Z"
   },
   {
    "duration": 8,
    "start_time": "2024-02-22T15:50:20.795Z"
   },
   {
    "duration": 88,
    "start_time": "2024-02-22T15:50:25.321Z"
   },
   {
    "duration": 4,
    "start_time": "2024-02-22T15:50:27.293Z"
   },
   {
    "duration": 7,
    "start_time": "2024-02-22T15:50:31.652Z"
   },
   {
    "duration": 66,
    "start_time": "2024-02-22T15:56:39.971Z"
   },
   {
    "duration": 5,
    "start_time": "2024-02-22T15:56:45.188Z"
   },
   {
    "duration": 6,
    "start_time": "2024-02-22T15:56:46.569Z"
   },
   {
    "duration": 15,
    "start_time": "2024-02-22T16:13:19.336Z"
   },
   {
    "duration": 5,
    "start_time": "2024-02-22T16:13:22.070Z"
   },
   {
    "duration": 9,
    "start_time": "2024-02-22T16:13:22.892Z"
   },
   {
    "duration": 66,
    "start_time": "2024-02-22T16:13:29.142Z"
   },
   {
    "duration": 5,
    "start_time": "2024-02-22T16:13:30.107Z"
   },
   {
    "duration": 5,
    "start_time": "2024-02-22T16:16:31.939Z"
   },
   {
    "duration": 7,
    "start_time": "2024-02-22T16:18:27.806Z"
   },
   {
    "duration": 10,
    "start_time": "2024-02-22T16:18:30.247Z"
   },
   {
    "duration": 3,
    "start_time": "2024-02-22T16:39:53.257Z"
   },
   {
    "duration": 1163,
    "start_time": "2024-02-22T16:40:13.565Z"
   },
   {
    "duration": 39,
    "start_time": "2024-02-22T16:40:14.730Z"
   },
   {
    "duration": 13,
    "start_time": "2024-02-22T16:40:14.770Z"
   },
   {
    "duration": 13,
    "start_time": "2024-02-22T16:40:14.785Z"
   },
   {
    "duration": 4,
    "start_time": "2024-02-22T16:40:14.799Z"
   },
   {
    "duration": 5,
    "start_time": "2024-02-22T16:40:14.804Z"
   },
   {
    "duration": 11,
    "start_time": "2024-02-22T16:40:14.810Z"
   },
   {
    "duration": 10,
    "start_time": "2024-02-22T16:40:14.822Z"
   },
   {
    "duration": 28,
    "start_time": "2024-02-22T16:40:14.834Z"
   },
   {
    "duration": 4,
    "start_time": "2024-02-22T16:40:14.864Z"
   },
   {
    "duration": 738,
    "start_time": "2024-02-22T16:40:14.870Z"
   },
   {
    "duration": 117,
    "start_time": "2024-02-22T16:40:15.609Z"
   },
   {
    "duration": 103,
    "start_time": "2024-02-22T16:40:15.727Z"
   },
   {
    "duration": 7,
    "start_time": "2024-02-22T16:40:15.832Z"
   },
   {
    "duration": 32,
    "start_time": "2024-02-22T16:40:15.840Z"
   },
   {
    "duration": 28,
    "start_time": "2024-02-22T16:40:15.873Z"
   },
   {
    "duration": 7,
    "start_time": "2024-02-22T16:40:15.903Z"
   },
   {
    "duration": 13,
    "start_time": "2024-02-22T16:40:15.911Z"
   },
   {
    "duration": 12,
    "start_time": "2024-02-22T16:40:15.925Z"
   },
   {
    "duration": 14,
    "start_time": "2024-02-22T16:40:15.938Z"
   },
   {
    "duration": 5,
    "start_time": "2024-02-22T16:40:15.953Z"
   },
   {
    "duration": 61,
    "start_time": "2024-02-22T16:40:15.959Z"
   },
   {
    "duration": 16,
    "start_time": "2024-02-22T16:40:16.021Z"
   },
   {
    "duration": 14,
    "start_time": "2024-02-22T16:40:16.038Z"
   },
   {
    "duration": 4,
    "start_time": "2024-02-22T16:40:16.053Z"
   },
   {
    "duration": 11,
    "start_time": "2024-02-22T16:40:16.059Z"
   },
   {
    "duration": 173,
    "start_time": "2024-02-22T16:40:16.071Z"
   },
   {
    "duration": 0,
    "start_time": "2024-02-22T16:40:16.246Z"
   },
   {
    "duration": 0,
    "start_time": "2024-02-22T16:40:16.246Z"
   },
   {
    "duration": 63,
    "start_time": "2024-02-22T16:52:38.440Z"
   },
   {
    "duration": 4,
    "start_time": "2024-02-22T16:52:40.888Z"
   },
   {
    "duration": 7,
    "start_time": "2024-02-22T16:52:41.953Z"
   },
   {
    "duration": 76,
    "start_time": "2024-02-22T17:04:04.311Z"
   },
   {
    "duration": 37,
    "start_time": "2024-02-22T17:04:27.400Z"
   },
   {
    "duration": 5,
    "start_time": "2024-02-22T17:04:28.821Z"
   },
   {
    "duration": 7,
    "start_time": "2024-02-22T17:04:30.181Z"
   },
   {
    "duration": 90,
    "start_time": "2024-02-22T17:04:34.976Z"
   },
   {
    "duration": 4,
    "start_time": "2024-02-22T17:04:35.915Z"
   },
   {
    "duration": 7,
    "start_time": "2024-02-22T17:04:36.888Z"
   },
   {
    "duration": 70,
    "start_time": "2024-02-22T17:05:57.054Z"
   },
   {
    "duration": 13,
    "start_time": "2024-02-22T17:18:52.333Z"
   },
   {
    "duration": 4,
    "start_time": "2024-02-22T17:19:39.625Z"
   },
   {
    "duration": 8,
    "start_time": "2024-02-22T17:20:55.470Z"
   },
   {
    "duration": 7,
    "start_time": "2024-02-22T17:21:38.352Z"
   },
   {
    "duration": 7,
    "start_time": "2024-02-22T17:22:30.197Z"
   },
   {
    "duration": 8,
    "start_time": "2024-02-22T17:23:10.490Z"
   },
   {
    "duration": 21,
    "start_time": "2024-02-22T17:35:27.168Z"
   },
   {
    "duration": 5,
    "start_time": "2024-02-22T17:35:28.156Z"
   },
   {
    "duration": 7,
    "start_time": "2024-02-22T17:35:29.334Z"
   },
   {
    "duration": 43,
    "start_time": "2024-02-23T10:23:05.857Z"
   },
   {
    "duration": 1407,
    "start_time": "2024-02-23T10:27:02.603Z"
   },
   {
    "duration": 76,
    "start_time": "2024-02-23T10:27:04.012Z"
   },
   {
    "duration": 16,
    "start_time": "2024-02-23T10:27:06.254Z"
   },
   {
    "duration": 56,
    "start_time": "2024-02-23T10:27:06.271Z"
   },
   {
    "duration": 11,
    "start_time": "2024-02-23T10:27:06.328Z"
   },
   {
    "duration": 42,
    "start_time": "2024-02-23T10:27:06.340Z"
   },
   {
    "duration": 14,
    "start_time": "2024-02-23T10:27:06.383Z"
   },
   {
    "duration": 20,
    "start_time": "2024-02-23T10:27:06.398Z"
   },
   {
    "duration": 19,
    "start_time": "2024-02-23T10:27:06.419Z"
   },
   {
    "duration": 34,
    "start_time": "2024-02-23T10:27:06.440Z"
   },
   {
    "duration": 26,
    "start_time": "2024-02-23T10:27:06.476Z"
   },
   {
    "duration": 7,
    "start_time": "2024-02-23T10:27:06.504Z"
   },
   {
    "duration": 799,
    "start_time": "2024-02-23T10:27:06.513Z"
   },
   {
    "duration": 132,
    "start_time": "2024-02-23T10:27:07.313Z"
   },
   {
    "duration": 119,
    "start_time": "2024-02-23T10:27:07.446Z"
   },
   {
    "duration": 8,
    "start_time": "2024-02-23T10:27:07.566Z"
   },
   {
    "duration": 20,
    "start_time": "2024-02-23T10:27:07.575Z"
   },
   {
    "duration": 9,
    "start_time": "2024-02-23T10:27:07.597Z"
   },
   {
    "duration": 8,
    "start_time": "2024-02-23T10:27:07.607Z"
   },
   {
    "duration": 26,
    "start_time": "2024-02-23T10:27:07.616Z"
   },
   {
    "duration": 31,
    "start_time": "2024-02-23T10:27:07.644Z"
   },
   {
    "duration": 13,
    "start_time": "2024-02-23T10:27:07.677Z"
   },
   {
    "duration": 25,
    "start_time": "2024-02-23T10:27:07.692Z"
   },
   {
    "duration": 21,
    "start_time": "2024-02-23T10:27:07.718Z"
   },
   {
    "duration": 28,
    "start_time": "2024-02-23T10:27:07.740Z"
   },
   {
    "duration": 23,
    "start_time": "2024-02-23T10:27:07.770Z"
   },
   {
    "duration": 64,
    "start_time": "2024-02-23T10:27:07.794Z"
   },
   {
    "duration": 42,
    "start_time": "2024-02-23T10:27:07.860Z"
   },
   {
    "duration": 125,
    "start_time": "2024-02-23T10:27:07.903Z"
   },
   {
    "duration": 4,
    "start_time": "2024-02-23T10:27:08.030Z"
   },
   {
    "duration": 18,
    "start_time": "2024-02-23T10:27:08.036Z"
   },
   {
    "duration": 28,
    "start_time": "2024-02-23T10:27:08.055Z"
   },
   {
    "duration": 69,
    "start_time": "2024-02-23T10:27:08.084Z"
   },
   {
    "duration": 19,
    "start_time": "2024-02-23T10:27:08.246Z"
   },
   {
    "duration": 1251,
    "start_time": "2024-02-23T10:28:22.664Z"
   },
   {
    "duration": 39,
    "start_time": "2024-02-23T10:28:23.916Z"
   },
   {
    "duration": 14,
    "start_time": "2024-02-23T10:28:23.957Z"
   },
   {
    "duration": 11,
    "start_time": "2024-02-23T10:28:23.972Z"
   },
   {
    "duration": 4,
    "start_time": "2024-02-23T10:28:23.984Z"
   },
   {
    "duration": 7,
    "start_time": "2024-02-23T10:28:23.989Z"
   },
   {
    "duration": 9,
    "start_time": "2024-02-23T10:28:23.998Z"
   },
   {
    "duration": 37,
    "start_time": "2024-02-23T10:28:24.008Z"
   },
   {
    "duration": 20,
    "start_time": "2024-02-23T10:28:24.047Z"
   },
   {
    "duration": 4,
    "start_time": "2024-02-23T10:28:24.069Z"
   },
   {
    "duration": 812,
    "start_time": "2024-02-23T10:28:24.074Z"
   },
   {
    "duration": 115,
    "start_time": "2024-02-23T10:28:24.888Z"
   },
   {
    "duration": 106,
    "start_time": "2024-02-23T10:28:25.005Z"
   },
   {
    "duration": 9,
    "start_time": "2024-02-23T10:28:25.113Z"
   },
   {
    "duration": 42,
    "start_time": "2024-02-23T10:28:25.123Z"
   },
   {
    "duration": 16,
    "start_time": "2024-02-23T10:28:25.166Z"
   },
   {
    "duration": 22,
    "start_time": "2024-02-23T10:28:25.183Z"
   },
   {
    "duration": 11,
    "start_time": "2024-02-23T10:28:25.206Z"
   },
   {
    "duration": 20,
    "start_time": "2024-02-23T10:28:25.218Z"
   },
   {
    "duration": 27,
    "start_time": "2024-02-23T10:28:25.239Z"
   },
   {
    "duration": 26,
    "start_time": "2024-02-23T10:28:25.268Z"
   },
   {
    "duration": 71,
    "start_time": "2024-02-23T10:28:25.295Z"
   },
   {
    "duration": 17,
    "start_time": "2024-02-23T10:28:25.367Z"
   },
   {
    "duration": 14,
    "start_time": "2024-02-23T10:28:25.385Z"
   },
   {
    "duration": 7,
    "start_time": "2024-02-23T10:28:25.400Z"
   },
   {
    "duration": 11,
    "start_time": "2024-02-23T10:28:25.409Z"
   },
   {
    "duration": 124,
    "start_time": "2024-02-23T10:28:25.421Z"
   },
   {
    "duration": 5,
    "start_time": "2024-02-23T10:28:25.547Z"
   },
   {
    "duration": 9,
    "start_time": "2024-02-23T10:28:25.554Z"
   },
   {
    "duration": 81,
    "start_time": "2024-02-23T10:28:25.564Z"
   },
   {
    "duration": 8,
    "start_time": "2024-02-23T10:28:25.647Z"
   },
   {
    "duration": 16,
    "start_time": "2024-02-23T10:28:25.746Z"
   },
   {
    "duration": 7,
    "start_time": "2024-02-23T10:29:22.587Z"
   },
   {
    "duration": 5,
    "start_time": "2024-02-23T10:30:11.688Z"
   },
   {
    "duration": 6,
    "start_time": "2024-02-23T10:31:57.695Z"
   },
   {
    "duration": 9,
    "start_time": "2024-02-23T10:31:59.137Z"
   },
   {
    "duration": 45,
    "start_time": "2024-02-23T12:00:10.957Z"
   },
   {
    "duration": 1568,
    "start_time": "2024-02-23T12:00:26.463Z"
   },
   {
    "duration": 79,
    "start_time": "2024-02-23T12:00:28.033Z"
   },
   {
    "duration": 15,
    "start_time": "2024-02-23T12:00:28.114Z"
   },
   {
    "duration": 16,
    "start_time": "2024-02-23T12:00:28.130Z"
   },
   {
    "duration": 9,
    "start_time": "2024-02-23T12:00:28.149Z"
   },
   {
    "duration": 10,
    "start_time": "2024-02-23T12:00:28.160Z"
   },
   {
    "duration": 10,
    "start_time": "2024-02-23T12:00:28.172Z"
   },
   {
    "duration": 11,
    "start_time": "2024-02-23T12:00:28.183Z"
   },
   {
    "duration": 46,
    "start_time": "2024-02-23T12:00:28.196Z"
   },
   {
    "duration": 10,
    "start_time": "2024-02-23T12:00:28.244Z"
   },
   {
    "duration": 1016,
    "start_time": "2024-02-23T12:00:28.256Z"
   },
   {
    "duration": 137,
    "start_time": "2024-02-23T12:00:29.274Z"
   },
   {
    "duration": 148,
    "start_time": "2024-02-23T12:00:29.413Z"
   },
   {
    "duration": 9,
    "start_time": "2024-02-23T12:00:29.564Z"
   },
   {
    "duration": 10,
    "start_time": "2024-02-23T12:00:29.575Z"
   },
   {
    "duration": 5,
    "start_time": "2024-02-23T12:00:29.586Z"
   },
   {
    "duration": 5,
    "start_time": "2024-02-23T12:00:29.593Z"
   },
   {
    "duration": 4,
    "start_time": "2024-02-23T12:00:29.600Z"
   },
   {
    "duration": 7,
    "start_time": "2024-02-23T12:00:29.605Z"
   },
   {
    "duration": 24,
    "start_time": "2024-02-23T12:00:29.613Z"
   },
   {
    "duration": 70,
    "start_time": "2024-02-23T12:00:29.644Z"
   },
   {
    "duration": 45,
    "start_time": "2024-02-23T12:00:29.716Z"
   },
   {
    "duration": 26,
    "start_time": "2024-02-23T12:00:29.763Z"
   },
   {
    "duration": 120,
    "start_time": "2024-02-23T12:00:29.791Z"
   },
   {
    "duration": 0,
    "start_time": "2024-02-23T12:00:29.912Z"
   },
   {
    "duration": 0,
    "start_time": "2024-02-23T12:00:29.914Z"
   },
   {
    "duration": 0,
    "start_time": "2024-02-23T12:00:29.915Z"
   },
   {
    "duration": 0,
    "start_time": "2024-02-23T12:00:29.916Z"
   },
   {
    "duration": 0,
    "start_time": "2024-02-23T12:00:29.917Z"
   },
   {
    "duration": 0,
    "start_time": "2024-02-23T12:00:29.918Z"
   },
   {
    "duration": 0,
    "start_time": "2024-02-23T12:00:29.919Z"
   },
   {
    "duration": 0,
    "start_time": "2024-02-23T12:00:29.920Z"
   },
   {
    "duration": 32,
    "start_time": "2024-02-23T12:00:53.422Z"
   },
   {
    "duration": 5,
    "start_time": "2024-02-23T12:00:56.713Z"
   },
   {
    "duration": 12,
    "start_time": "2024-02-23T12:00:59.624Z"
   },
   {
    "duration": 18,
    "start_time": "2024-02-23T12:01:05.304Z"
   },
   {
    "duration": 7,
    "start_time": "2024-02-23T12:01:06.989Z"
   },
   {
    "duration": 9,
    "start_time": "2024-02-23T12:01:51.469Z"
   },
   {
    "duration": 96,
    "start_time": "2024-02-23T12:02:15.172Z"
   },
   {
    "duration": 6,
    "start_time": "2024-02-23T12:02:15.918Z"
   },
   {
    "duration": 8,
    "start_time": "2024-02-23T12:02:16.489Z"
   },
   {
    "duration": 119,
    "start_time": "2024-02-23T12:02:21.359Z"
   },
   {
    "duration": 5,
    "start_time": "2024-02-23T12:02:21.965Z"
   },
   {
    "duration": 114,
    "start_time": "2024-02-23T12:02:27.332Z"
   },
   {
    "duration": 6,
    "start_time": "2024-02-23T12:02:28.608Z"
   },
   {
    "duration": 11,
    "start_time": "2024-02-23T12:02:32.143Z"
   },
   {
    "duration": 138,
    "start_time": "2024-02-23T12:02:35.711Z"
   },
   {
    "duration": 4,
    "start_time": "2024-02-23T12:02:36.173Z"
   },
   {
    "duration": 8,
    "start_time": "2024-02-23T12:02:37.169Z"
   },
   {
    "duration": 23,
    "start_time": "2024-02-23T12:02:48.856Z"
   },
   {
    "duration": 5,
    "start_time": "2024-02-23T12:02:49.645Z"
   },
   {
    "duration": 9,
    "start_time": "2024-02-23T12:02:51.274Z"
   },
   {
    "duration": 21,
    "start_time": "2024-02-23T12:02:55.404Z"
   },
   {
    "duration": 6,
    "start_time": "2024-02-23T12:02:55.896Z"
   },
   {
    "duration": 12,
    "start_time": "2024-02-23T12:02:56.889Z"
   },
   {
    "duration": 22,
    "start_time": "2024-02-23T12:03:01.755Z"
   },
   {
    "duration": 5,
    "start_time": "2024-02-23T12:03:02.287Z"
   },
   {
    "duration": 13,
    "start_time": "2024-02-23T12:03:03.054Z"
   },
   {
    "duration": 20,
    "start_time": "2024-02-23T12:17:36.548Z"
   },
   {
    "duration": 146,
    "start_time": "2024-02-23T12:17:45.388Z"
   },
   {
    "duration": 32,
    "start_time": "2024-02-23T12:17:52.673Z"
   },
   {
    "duration": 22,
    "start_time": "2024-02-23T12:20:09.067Z"
   },
   {
    "duration": 22,
    "start_time": "2024-02-23T12:20:32.764Z"
   },
   {
    "duration": 127,
    "start_time": "2024-02-23T12:21:29.964Z"
   },
   {
    "duration": 141,
    "start_time": "2024-02-23T12:22:21.856Z"
   },
   {
    "duration": 67,
    "start_time": "2024-02-23T12:22:47.230Z"
   },
   {
    "duration": 76,
    "start_time": "2024-02-23T12:41:20.323Z"
   },
   {
    "duration": 19,
    "start_time": "2024-02-23T12:41:25.112Z"
   },
   {
    "duration": 18,
    "start_time": "2024-02-23T12:42:07.650Z"
   },
   {
    "duration": 9,
    "start_time": "2024-02-23T12:42:27.250Z"
   },
   {
    "duration": 4,
    "start_time": "2024-02-23T12:42:33.969Z"
   },
   {
    "duration": 670,
    "start_time": "2024-02-23T12:42:52.155Z"
   },
   {
    "duration": 18,
    "start_time": "2024-02-23T12:43:04.961Z"
   },
   {
    "duration": 686,
    "start_time": "2024-02-23T12:44:05.492Z"
   },
   {
    "duration": 648,
    "start_time": "2024-02-23T12:44:42.117Z"
   },
   {
    "duration": 274,
    "start_time": "2024-02-23T12:45:17.933Z"
   },
   {
    "duration": 684,
    "start_time": "2024-02-23T12:45:30.083Z"
   },
   {
    "duration": 206,
    "start_time": "2024-02-23T12:45:36.650Z"
   },
   {
    "duration": 85,
    "start_time": "2024-02-23T12:45:40.900Z"
   },
   {
    "duration": 93,
    "start_time": "2024-02-23T12:45:44.877Z"
   },
   {
    "duration": 81,
    "start_time": "2024-02-23T12:45:50.500Z"
   },
   {
    "duration": 136,
    "start_time": "2024-02-23T12:45:55.708Z"
   },
   {
    "duration": 132,
    "start_time": "2024-02-23T12:53:21.686Z"
   },
   {
    "duration": 149,
    "start_time": "2024-02-23T12:53:48.893Z"
   },
   {
    "duration": 68,
    "start_time": "2024-02-23T12:54:56.566Z"
   },
   {
    "duration": 63,
    "start_time": "2024-02-23T12:55:38.282Z"
   },
   {
    "duration": 84,
    "start_time": "2024-02-23T12:55:51.851Z"
   },
   {
    "duration": 159,
    "start_time": "2024-02-23T12:56:01.175Z"
   },
   {
    "duration": 101,
    "start_time": "2024-02-23T12:56:13.532Z"
   },
   {
    "duration": 24,
    "start_time": "2024-02-23T12:56:31.015Z"
   },
   {
    "duration": 116,
    "start_time": "2024-02-23T12:57:01.407Z"
   },
   {
    "duration": 102,
    "start_time": "2024-02-23T12:57:28.067Z"
   },
   {
    "duration": 75,
    "start_time": "2024-02-23T12:57:53.255Z"
   },
   {
    "duration": 13,
    "start_time": "2024-02-23T13:02:26.256Z"
   },
   {
    "duration": 8,
    "start_time": "2024-02-23T13:02:55.036Z"
   },
   {
    "duration": 160563,
    "start_time": "2024-02-23T13:03:06.555Z"
   },
   {
    "duration": 95640,
    "start_time": "2024-02-23T13:08:55.728Z"
   },
   {
    "duration": 85,
    "start_time": "2024-02-23T13:10:54.481Z"
   },
   {
    "duration": 78656,
    "start_time": "2024-02-23T13:11:17.684Z"
   },
   {
    "duration": 30,
    "start_time": "2024-02-23T13:16:05.100Z"
   },
   {
    "duration": 95,
    "start_time": "2024-02-23T13:16:34.132Z"
   },
   {
    "duration": 93,
    "start_time": "2024-02-23T13:17:02.675Z"
   },
   {
    "duration": 119,
    "start_time": "2024-02-23T13:19:27.014Z"
   },
   {
    "duration": 143,
    "start_time": "2024-02-23T13:20:02.678Z"
   },
   {
    "duration": 51,
    "start_time": "2024-02-23T13:20:05.797Z"
   },
   {
    "duration": 82900,
    "start_time": "2024-02-23T13:23:13.648Z"
   },
   {
    "duration": 81235,
    "start_time": "2024-02-23T13:26:16.278Z"
   },
   {
    "duration": 4,
    "start_time": "2024-02-23T13:31:02.986Z"
   },
   {
    "duration": 4,
    "start_time": "2024-02-23T13:31:10.744Z"
   },
   {
    "duration": 153,
    "start_time": "2024-02-23T13:44:37.690Z"
   },
   {
    "duration": 12,
    "start_time": "2024-02-23T13:45:15.128Z"
   },
   {
    "duration": 4,
    "start_time": "2024-02-23T13:47:10.922Z"
   },
   {
    "duration": 17,
    "start_time": "2024-02-23T13:57:53.878Z"
   },
   {
    "duration": 148,
    "start_time": "2024-02-23T14:03:49.341Z"
   },
   {
    "duration": 12,
    "start_time": "2024-02-23T14:06:26.224Z"
   },
   {
    "duration": 82,
    "start_time": "2024-02-23T14:06:41.951Z"
   },
   {
    "duration": 77144,
    "start_time": "2024-02-23T14:06:44.051Z"
   },
   {
    "duration": 40,
    "start_time": "2024-02-23T14:08:01.197Z"
   },
   {
    "duration": 117729,
    "start_time": "2024-02-23T14:08:01.239Z"
   },
   {
    "duration": 73,
    "start_time": "2024-02-23T14:09:58.970Z"
   },
   {
    "duration": 76,
    "start_time": "2024-02-23T14:10:09.271Z"
   },
   {
    "duration": 38,
    "start_time": "2024-02-23T14:10:28.515Z"
   },
   {
    "duration": 45,
    "start_time": "2024-02-23T14:11:11.017Z"
   },
   {
    "duration": 18,
    "start_time": "2024-02-23T14:11:26.779Z"
   },
   {
    "duration": 15,
    "start_time": "2024-02-23T14:33:07.325Z"
   },
   {
    "duration": 47,
    "start_time": "2024-02-23T14:35:49.902Z"
   },
   {
    "duration": 36967,
    "start_time": "2024-02-23T14:37:30.881Z"
   },
   {
    "duration": 48,
    "start_time": "2024-02-23T14:41:01.230Z"
   },
   {
    "duration": 35030,
    "start_time": "2024-02-23T14:41:07.984Z"
   },
   {
    "duration": 32,
    "start_time": "2024-02-23T14:41:48.320Z"
   },
   {
    "duration": 91,
    "start_time": "2024-02-23T15:17:47.984Z"
   },
   {
    "duration": 79403,
    "start_time": "2024-02-23T15:17:58.738Z"
   },
   {
    "duration": 94,
    "start_time": "2024-02-23T15:19:18.143Z"
   },
   {
    "duration": 107,
    "start_time": "2024-02-23T15:23:44.415Z"
   },
   {
    "duration": 77671,
    "start_time": "2024-02-23T15:23:51.063Z"
   },
   {
    "duration": 24,
    "start_time": "2024-02-23T15:25:08.737Z"
   },
   {
    "duration": 78999,
    "start_time": "2024-02-23T15:26:33.477Z"
   },
   {
    "duration": 88,
    "start_time": "2024-02-23T15:29:12.075Z"
   },
   {
    "duration": 99,
    "start_time": "2024-02-23T15:29:32.950Z"
   },
   {
    "duration": 162,
    "start_time": "2024-02-23T15:30:02.941Z"
   },
   {
    "duration": 156,
    "start_time": "2024-02-23T15:30:17.097Z"
   },
   {
    "duration": 116725,
    "start_time": "2024-02-23T15:30:35.552Z"
   },
   {
    "duration": 68,
    "start_time": "2024-02-23T15:32:32.278Z"
   },
   {
    "duration": 57,
    "start_time": "2024-02-23T15:32:32.434Z"
   },
   {
    "duration": 34291,
    "start_time": "2024-02-23T15:32:32.532Z"
   },
   {
    "duration": 22,
    "start_time": "2024-02-23T15:33:06.833Z"
   },
   {
    "duration": 68260,
    "start_time": "2024-02-23T16:13:21.452Z"
   },
   {
    "duration": 14,
    "start_time": "2024-02-23T16:19:53.181Z"
   },
   {
    "duration": 69,
    "start_time": "2024-02-23T16:26:09.845Z"
   },
   {
    "duration": 4,
    "start_time": "2024-02-23T16:42:47.927Z"
   },
   {
    "duration": 5,
    "start_time": "2024-02-23T16:42:54.914Z"
   },
   {
    "duration": 17,
    "start_time": "2024-02-23T17:00:36.045Z"
   },
   {
    "duration": 140,
    "start_time": "2024-02-23T17:08:43.515Z"
   },
   {
    "duration": 155,
    "start_time": "2024-02-23T17:09:31.209Z"
   },
   {
    "duration": 175,
    "start_time": "2024-02-23T17:24:34.701Z"
   },
   {
    "duration": 170,
    "start_time": "2024-02-23T17:25:41.458Z"
   },
   {
    "duration": 1398,
    "start_time": "2024-02-23T17:25:59.585Z"
   },
   {
    "duration": 40,
    "start_time": "2024-02-23T17:26:00.986Z"
   },
   {
    "duration": 29,
    "start_time": "2024-02-23T17:26:01.027Z"
   },
   {
    "duration": 48,
    "start_time": "2024-02-23T17:26:01.057Z"
   },
   {
    "duration": 53,
    "start_time": "2024-02-23T17:26:01.107Z"
   },
   {
    "duration": 42,
    "start_time": "2024-02-23T17:26:01.162Z"
   },
   {
    "duration": 43,
    "start_time": "2024-02-23T17:26:01.205Z"
   },
   {
    "duration": 60,
    "start_time": "2024-02-23T17:26:01.249Z"
   },
   {
    "duration": 48,
    "start_time": "2024-02-23T17:26:01.310Z"
   },
   {
    "duration": 27,
    "start_time": "2024-02-23T17:26:01.359Z"
   },
   {
    "duration": 1000,
    "start_time": "2024-02-23T17:26:01.387Z"
   },
   {
    "duration": 133,
    "start_time": "2024-02-23T17:26:02.389Z"
   },
   {
    "duration": 126,
    "start_time": "2024-02-23T17:26:02.524Z"
   },
   {
    "duration": 10,
    "start_time": "2024-02-23T17:26:02.652Z"
   },
   {
    "duration": 11,
    "start_time": "2024-02-23T17:26:02.663Z"
   },
   {
    "duration": 5,
    "start_time": "2024-02-23T17:26:02.675Z"
   },
   {
    "duration": 94,
    "start_time": "2024-02-23T17:26:02.681Z"
   },
   {
    "duration": 5,
    "start_time": "2024-02-23T17:26:02.776Z"
   },
   {
    "duration": 12,
    "start_time": "2024-02-23T17:26:02.782Z"
   },
   {
    "duration": 8,
    "start_time": "2024-02-23T17:26:02.795Z"
   },
   {
    "duration": 71,
    "start_time": "2024-02-23T17:26:02.804Z"
   },
   {
    "duration": 34,
    "start_time": "2024-02-23T17:26:02.877Z"
   },
   {
    "duration": 26,
    "start_time": "2024-02-23T17:26:02.912Z"
   },
   {
    "duration": 87,
    "start_time": "2024-02-23T17:26:02.940Z"
   },
   {
    "duration": 135,
    "start_time": "2024-02-23T17:26:03.039Z"
   },
   {
    "duration": 0,
    "start_time": "2024-02-23T17:26:03.176Z"
   },
   {
    "duration": 0,
    "start_time": "2024-02-23T17:26:03.177Z"
   },
   {
    "duration": 0,
    "start_time": "2024-02-23T17:26:03.178Z"
   },
   {
    "duration": 0,
    "start_time": "2024-02-23T17:26:03.179Z"
   },
   {
    "duration": 0,
    "start_time": "2024-02-23T17:26:03.180Z"
   },
   {
    "duration": 0,
    "start_time": "2024-02-23T17:26:03.181Z"
   },
   {
    "duration": 0,
    "start_time": "2024-02-23T17:26:03.182Z"
   },
   {
    "duration": 0,
    "start_time": "2024-02-23T17:26:03.183Z"
   },
   {
    "duration": 0,
    "start_time": "2024-02-23T17:26:03.185Z"
   },
   {
    "duration": 0,
    "start_time": "2024-02-23T17:26:03.186Z"
   },
   {
    "duration": 0,
    "start_time": "2024-02-23T17:26:03.187Z"
   },
   {
    "duration": 0,
    "start_time": "2024-02-23T17:26:03.188Z"
   },
   {
    "duration": 0,
    "start_time": "2024-02-23T17:26:03.189Z"
   },
   {
    "duration": 0,
    "start_time": "2024-02-23T17:26:03.190Z"
   },
   {
    "duration": 0,
    "start_time": "2024-02-23T17:26:03.191Z"
   },
   {
    "duration": 66768,
    "start_time": "2024-02-23T17:27:29.744Z"
   },
   {
    "duration": 21,
    "start_time": "2024-02-23T17:31:32.551Z"
   },
   {
    "duration": 106,
    "start_time": "2024-02-23T17:31:54.142Z"
   },
   {
    "duration": 68926,
    "start_time": "2024-02-23T17:31:55.237Z"
   },
   {
    "duration": 85,
    "start_time": "2024-02-23T17:33:04.165Z"
   },
   {
    "duration": 19,
    "start_time": "2024-02-23T17:34:32.787Z"
   },
   {
    "duration": 154,
    "start_time": "2024-02-23T17:34:40.626Z"
   },
   {
    "duration": 120820,
    "start_time": "2024-02-23T17:34:41.176Z"
   },
   {
    "duration": 59,
    "start_time": "2024-02-23T17:36:41.998Z"
   },
   {
    "duration": 11,
    "start_time": "2024-02-23T17:36:53.365Z"
   },
   {
    "duration": 42,
    "start_time": "2024-02-23T17:36:54.178Z"
   },
   {
    "duration": 35068,
    "start_time": "2024-02-23T17:36:54.623Z"
   },
   {
    "duration": 139,
    "start_time": "2024-02-23T17:37:29.693Z"
   },
   {
    "duration": 15,
    "start_time": "2024-02-23T17:37:29.834Z"
   },
   {
    "duration": 0,
    "start_time": "2024-02-23T17:37:29.850Z"
   },
   {
    "duration": 0,
    "start_time": "2024-02-23T17:37:29.851Z"
   },
   {
    "duration": 15,
    "start_time": "2024-02-23T17:38:28.244Z"
   },
   {
    "duration": 167,
    "start_time": "2024-02-23T17:38:29.393Z"
   },
   {
    "duration": 1375,
    "start_time": "2024-02-23T17:52:05.847Z"
   },
   {
    "duration": 46,
    "start_time": "2024-02-23T17:52:07.224Z"
   },
   {
    "duration": 24,
    "start_time": "2024-02-23T17:52:07.272Z"
   },
   {
    "duration": 13,
    "start_time": "2024-02-23T17:52:07.299Z"
   },
   {
    "duration": 5,
    "start_time": "2024-02-23T17:52:07.314Z"
   },
   {
    "duration": 18,
    "start_time": "2024-02-23T17:52:07.321Z"
   },
   {
    "duration": 12,
    "start_time": "2024-02-23T17:52:07.340Z"
   },
   {
    "duration": 13,
    "start_time": "2024-02-23T17:52:07.354Z"
   },
   {
    "duration": 24,
    "start_time": "2024-02-23T17:52:07.369Z"
   },
   {
    "duration": 5,
    "start_time": "2024-02-23T17:52:07.396Z"
   },
   {
    "duration": 1051,
    "start_time": "2024-02-23T17:52:07.403Z"
   },
   {
    "duration": 164,
    "start_time": "2024-02-23T17:52:08.456Z"
   },
   {
    "duration": 136,
    "start_time": "2024-02-23T17:52:08.621Z"
   },
   {
    "duration": 13,
    "start_time": "2024-02-23T17:52:08.759Z"
   },
   {
    "duration": 14,
    "start_time": "2024-02-23T17:52:08.773Z"
   },
   {
    "duration": 11,
    "start_time": "2024-02-23T17:52:08.789Z"
   },
   {
    "duration": 6,
    "start_time": "2024-02-23T17:52:08.802Z"
   },
   {
    "duration": 31,
    "start_time": "2024-02-23T17:52:08.810Z"
   },
   {
    "duration": 9,
    "start_time": "2024-02-23T17:52:08.843Z"
   },
   {
    "duration": 3,
    "start_time": "2024-02-23T17:52:08.854Z"
   },
   {
    "duration": 4,
    "start_time": "2024-02-23T17:52:08.858Z"
   },
   {
    "duration": 98,
    "start_time": "2024-02-23T17:52:08.863Z"
   },
   {
    "duration": 20,
    "start_time": "2024-02-23T17:52:08.962Z"
   },
   {
    "duration": 101,
    "start_time": "2024-02-23T17:52:08.983Z"
   },
   {
    "duration": 67123,
    "start_time": "2024-02-23T17:52:09.086Z"
   },
   {
    "duration": 123,
    "start_time": "2024-02-23T17:53:16.210Z"
   },
   {
    "duration": 226,
    "start_time": "2024-02-23T17:53:16.336Z"
   },
   {
    "duration": 67051,
    "start_time": "2024-02-23T17:53:16.566Z"
   },
   {
    "duration": 42,
    "start_time": "2024-02-23T17:54:23.619Z"
   },
   {
    "duration": 111,
    "start_time": "2024-02-23T17:54:23.733Z"
   },
   {
    "duration": 178,
    "start_time": "2024-02-23T17:54:23.845Z"
   },
   {
    "duration": 121405,
    "start_time": "2024-02-23T17:54:24.024Z"
   },
   {
    "duration": 98,
    "start_time": "2024-02-23T17:56:25.434Z"
   },
   {
    "duration": 21,
    "start_time": "2024-02-23T17:56:25.537Z"
   },
   {
    "duration": 123,
    "start_time": "2024-02-23T17:56:25.559Z"
   },
   {
    "duration": 34563,
    "start_time": "2024-02-23T17:56:25.683Z"
   },
   {
    "duration": 12,
    "start_time": "2024-02-23T17:57:00.249Z"
   },
   {
    "duration": 180,
    "start_time": "2024-02-23T17:57:00.263Z"
   },
   {
    "duration": 176,
    "start_time": "2024-02-23T17:57:00.449Z"
   },
   {
    "duration": 66876,
    "start_time": "2024-02-23T17:58:56.819Z"
   },
   {
    "duration": 1347,
    "start_time": "2024-02-23T18:01:48.092Z"
   },
   {
    "duration": 41,
    "start_time": "2024-02-23T18:01:49.441Z"
   },
   {
    "duration": 17,
    "start_time": "2024-02-23T18:01:49.483Z"
   },
   {
    "duration": 12,
    "start_time": "2024-02-23T18:01:49.502Z"
   },
   {
    "duration": 4,
    "start_time": "2024-02-23T18:01:49.516Z"
   },
   {
    "duration": 4,
    "start_time": "2024-02-23T18:01:49.521Z"
   },
   {
    "duration": 7,
    "start_time": "2024-02-23T18:01:49.533Z"
   },
   {
    "duration": 13,
    "start_time": "2024-02-23T18:01:49.541Z"
   },
   {
    "duration": 24,
    "start_time": "2024-02-23T18:01:49.556Z"
   },
   {
    "duration": 5,
    "start_time": "2024-02-23T18:01:49.583Z"
   },
   {
    "duration": 1015,
    "start_time": "2024-02-23T18:01:49.590Z"
   },
   {
    "duration": 129,
    "start_time": "2024-02-23T18:01:50.606Z"
   },
   {
    "duration": 131,
    "start_time": "2024-02-23T18:01:50.736Z"
   },
   {
    "duration": 9,
    "start_time": "2024-02-23T18:01:50.868Z"
   },
   {
    "duration": 13,
    "start_time": "2024-02-23T18:01:50.879Z"
   },
   {
    "duration": 8,
    "start_time": "2024-02-23T18:01:50.894Z"
   },
   {
    "duration": 31,
    "start_time": "2024-02-23T18:01:50.903Z"
   },
   {
    "duration": 8,
    "start_time": "2024-02-23T18:01:50.935Z"
   },
   {
    "duration": 13,
    "start_time": "2024-02-23T18:01:50.945Z"
   },
   {
    "duration": 8,
    "start_time": "2024-02-23T18:01:50.960Z"
   },
   {
    "duration": 11,
    "start_time": "2024-02-23T18:01:50.970Z"
   },
   {
    "duration": 92,
    "start_time": "2024-02-23T18:01:50.983Z"
   },
   {
    "duration": 22,
    "start_time": "2024-02-23T18:01:51.076Z"
   },
   {
    "duration": 143,
    "start_time": "2024-02-23T18:01:51.100Z"
   },
   {
    "duration": 63544,
    "start_time": "2024-02-23T18:01:51.244Z"
   },
   {
    "duration": 53,
    "start_time": "2024-02-23T18:02:54.790Z"
   },
   {
    "duration": 101,
    "start_time": "2024-02-23T18:02:54.932Z"
   },
   {
    "duration": 63857,
    "start_time": "2024-02-23T18:02:55.036Z"
   },
   {
    "duration": 137,
    "start_time": "2024-02-23T18:03:58.895Z"
   },
   {
    "duration": 16,
    "start_time": "2024-02-23T18:03:59.036Z"
   },
   {
    "duration": 217,
    "start_time": "2024-02-23T18:03:59.053Z"
   },
   {
    "duration": 113892,
    "start_time": "2024-02-23T18:03:59.272Z"
   },
   {
    "duration": 78,
    "start_time": "2024-02-23T18:05:53.166Z"
   },
   {
    "duration": 11,
    "start_time": "2024-02-23T18:05:53.334Z"
   },
   {
    "duration": 43,
    "start_time": "2024-02-23T18:05:53.346Z"
   },
   {
    "duration": 33006,
    "start_time": "2024-02-23T18:05:53.391Z"
   },
   {
    "duration": 135,
    "start_time": "2024-02-23T18:06:26.398Z"
   },
   {
    "duration": 20,
    "start_time": "2024-02-23T18:06:26.535Z"
   },
   {
    "duration": 245,
    "start_time": "2024-02-23T18:06:26.557Z"
   },
   {
    "duration": 1388,
    "start_time": "2024-02-23T18:09:31.558Z"
   },
   {
    "duration": 42,
    "start_time": "2024-02-23T18:09:32.948Z"
   },
   {
    "duration": 16,
    "start_time": "2024-02-23T18:09:32.992Z"
   },
   {
    "duration": 13,
    "start_time": "2024-02-23T18:09:33.010Z"
   },
   {
    "duration": 11,
    "start_time": "2024-02-23T18:09:33.024Z"
   },
   {
    "duration": 5,
    "start_time": "2024-02-23T18:09:33.037Z"
   },
   {
    "duration": 21,
    "start_time": "2024-02-23T18:09:33.043Z"
   },
   {
    "duration": 15,
    "start_time": "2024-02-23T18:09:33.065Z"
   },
   {
    "duration": 60,
    "start_time": "2024-02-23T18:09:33.081Z"
   },
   {
    "duration": 7,
    "start_time": "2024-02-23T18:09:33.144Z"
   },
   {
    "duration": 943,
    "start_time": "2024-02-23T18:09:33.153Z"
   },
   {
    "duration": 128,
    "start_time": "2024-02-23T18:09:34.097Z"
   },
   {
    "duration": 122,
    "start_time": "2024-02-23T18:09:34.227Z"
   },
   {
    "duration": 11,
    "start_time": "2024-02-23T18:09:34.350Z"
   },
   {
    "duration": 17,
    "start_time": "2024-02-23T18:09:34.363Z"
   },
   {
    "duration": 8,
    "start_time": "2024-02-23T18:09:34.381Z"
   },
   {
    "duration": 6,
    "start_time": "2024-02-23T18:09:34.390Z"
   },
   {
    "duration": 7,
    "start_time": "2024-02-23T18:09:34.398Z"
   },
   {
    "duration": 31,
    "start_time": "2024-02-23T18:09:34.406Z"
   },
   {
    "duration": 3,
    "start_time": "2024-02-23T18:09:34.439Z"
   },
   {
    "duration": 4,
    "start_time": "2024-02-23T18:09:34.443Z"
   },
   {
    "duration": 95,
    "start_time": "2024-02-23T18:09:34.449Z"
   },
   {
    "duration": 20,
    "start_time": "2024-02-23T18:09:34.547Z"
   },
   {
    "duration": 100,
    "start_time": "2024-02-23T18:09:34.568Z"
   },
   {
    "duration": 106793,
    "start_time": "2024-02-23T18:09:34.670Z"
   },
   {
    "duration": 27,
    "start_time": "2024-02-23T18:11:21.465Z"
   },
   {
    "duration": 210,
    "start_time": "2024-02-23T18:11:21.537Z"
   },
   {
    "duration": 64281,
    "start_time": "2024-02-23T18:11:21.752Z"
   },
   {
    "duration": 22,
    "start_time": "2024-02-23T18:12:26.035Z"
   },
   {
    "duration": 183,
    "start_time": "2024-02-23T18:12:26.059Z"
   },
   {
    "duration": 187,
    "start_time": "2024-02-23T18:12:26.244Z"
   },
   {
    "duration": 114823,
    "start_time": "2024-02-23T18:12:26.432Z"
   },
   {
    "duration": 81,
    "start_time": "2024-02-23T18:14:21.257Z"
   },
   {
    "duration": 102,
    "start_time": "2024-02-23T18:14:21.340Z"
   },
   {
    "duration": 89,
    "start_time": "2024-02-23T18:14:21.444Z"
   },
   {
    "duration": 33160,
    "start_time": "2024-02-23T18:14:21.535Z"
   },
   {
    "duration": 44,
    "start_time": "2024-02-23T18:14:54.696Z"
   },
   {
    "duration": 102,
    "start_time": "2024-02-23T18:14:54.742Z"
   },
   {
    "duration": 188,
    "start_time": "2024-02-23T18:14:54.846Z"
   },
   {
    "duration": 81028,
    "start_time": "2024-02-23T18:17:09.728Z"
   },
   {
    "duration": 46705,
    "start_time": "2024-02-23T18:18:45.351Z"
   },
   {
    "duration": 80891,
    "start_time": "2024-02-23T18:19:41.399Z"
   },
   {
    "duration": 135615,
    "start_time": "2024-02-23T18:21:10.318Z"
   },
   {
    "duration": 63349,
    "start_time": "2024-02-23T18:23:43.485Z"
   },
   {
    "duration": 54959,
    "start_time": "2024-02-23T18:24:58.143Z"
   },
   {
    "duration": 94809,
    "start_time": "2024-02-23T18:26:15.044Z"
   },
   {
    "duration": 80,
    "start_time": "2024-02-23T18:30:19.870Z"
   },
   {
    "duration": 18,
    "start_time": "2024-02-23T18:30:27.634Z"
   },
   {
    "duration": 1553,
    "start_time": "2024-02-24T11:03:40.506Z"
   },
   {
    "duration": 79,
    "start_time": "2024-02-24T11:03:42.061Z"
   },
   {
    "duration": 15,
    "start_time": "2024-02-24T11:03:42.142Z"
   },
   {
    "duration": 13,
    "start_time": "2024-02-24T11:03:42.158Z"
   },
   {
    "duration": 3,
    "start_time": "2024-02-24T11:03:42.173Z"
   },
   {
    "duration": 2,
    "start_time": "2024-02-24T11:03:42.178Z"
   },
   {
    "duration": 8,
    "start_time": "2024-02-24T11:03:42.182Z"
   },
   {
    "duration": 24,
    "start_time": "2024-02-24T11:03:42.191Z"
   },
   {
    "duration": 23,
    "start_time": "2024-02-24T11:03:42.216Z"
   },
   {
    "duration": 5,
    "start_time": "2024-02-24T11:03:42.240Z"
   },
   {
    "duration": 909,
    "start_time": "2024-02-24T11:03:42.246Z"
   },
   {
    "duration": 129,
    "start_time": "2024-02-24T11:03:43.156Z"
   },
   {
    "duration": 122,
    "start_time": "2024-02-24T11:03:43.287Z"
   },
   {
    "duration": 9,
    "start_time": "2024-02-24T11:03:43.414Z"
   },
   {
    "duration": 11,
    "start_time": "2024-02-24T11:03:43.424Z"
   },
   {
    "duration": 5,
    "start_time": "2024-02-24T11:03:43.437Z"
   },
   {
    "duration": 91,
    "start_time": "2024-02-24T11:03:43.444Z"
   },
   {
    "duration": 5,
    "start_time": "2024-02-24T11:03:43.536Z"
   },
   {
    "duration": 5,
    "start_time": "2024-02-24T11:03:43.542Z"
   },
   {
    "duration": 9,
    "start_time": "2024-02-24T11:03:43.548Z"
   },
   {
    "duration": 4,
    "start_time": "2024-02-24T11:03:43.558Z"
   },
   {
    "duration": 7,
    "start_time": "2024-02-24T11:03:43.564Z"
   },
   {
    "duration": 19,
    "start_time": "2024-02-24T11:03:43.572Z"
   },
   {
    "duration": 106,
    "start_time": "2024-02-24T11:03:43.592Z"
   },
   {
    "duration": 95445,
    "start_time": "2024-02-24T11:03:43.699Z"
   },
   {
    "duration": 20,
    "start_time": "2024-02-24T11:05:19.145Z"
   },
   {
    "duration": 186,
    "start_time": "2024-02-24T11:05:19.216Z"
   },
   {
    "duration": 65790,
    "start_time": "2024-02-24T11:05:19.404Z"
   },
   {
    "duration": 30,
    "start_time": "2024-02-24T11:06:25.195Z"
   },
   {
    "duration": 188,
    "start_time": "2024-02-24T11:06:25.227Z"
   },
   {
    "duration": 163,
    "start_time": "2024-02-24T11:06:25.416Z"
   },
   {
    "duration": 115046,
    "start_time": "2024-02-24T11:06:25.581Z"
   },
   {
    "duration": 35,
    "start_time": "2024-02-24T11:08:20.629Z"
   },
   {
    "duration": 101,
    "start_time": "2024-02-24T11:08:20.719Z"
   },
   {
    "duration": 45,
    "start_time": "2024-02-24T11:08:20.822Z"
   },
   {
    "duration": 33927,
    "start_time": "2024-02-24T11:08:20.868Z"
   },
   {
    "duration": 43,
    "start_time": "2024-02-24T11:08:54.796Z"
   },
   {
    "duration": 176,
    "start_time": "2024-02-24T11:08:54.841Z"
   },
   {
    "duration": 192,
    "start_time": "2024-02-24T11:08:55.019Z"
   },
   {
    "duration": 653,
    "start_time": "2024-02-24T11:14:28.023Z"
   },
   {
    "duration": 364,
    "start_time": "2024-02-24T11:14:32.991Z"
   },
   {
    "duration": 129,
    "start_time": "2024-02-24T11:14:38.419Z"
   },
   {
    "duration": 21,
    "start_time": "2024-02-24T11:14:44.841Z"
   },
   {
    "duration": 28,
    "start_time": "2024-02-24T11:14:48.937Z"
   },
   {
    "duration": 39,
    "start_time": "2024-02-24T11:14:53.025Z"
   },
   {
    "duration": 52,
    "start_time": "2024-02-24T11:14:57.514Z"
   },
   {
    "duration": 71,
    "start_time": "2024-02-24T11:15:01.006Z"
   },
   {
    "duration": 83,
    "start_time": "2024-02-24T11:15:03.764Z"
   },
   {
    "duration": 101,
    "start_time": "2024-02-24T11:15:09.564Z"
   },
   {
    "duration": 123,
    "start_time": "2024-02-24T11:15:13.476Z"
   },
   {
    "duration": 86,
    "start_time": "2024-02-24T11:15:18.354Z"
   },
   {
    "duration": 179,
    "start_time": "2024-02-24T11:15:29.359Z"
   },
   {
    "duration": 186,
    "start_time": "2024-02-24T11:15:34.401Z"
   },
   {
    "duration": 216,
    "start_time": "2024-02-24T11:15:36.665Z"
   },
   {
    "duration": 235,
    "start_time": "2024-02-24T11:15:40.869Z"
   },
   {
    "duration": 267,
    "start_time": "2024-02-24T11:15:45.495Z"
   },
   {
    "duration": 289,
    "start_time": "2024-02-24T11:15:50.563Z"
   },
   {
    "duration": 313,
    "start_time": "2024-02-24T11:15:53.083Z"
   },
   {
    "duration": 336,
    "start_time": "2024-02-24T11:15:56.609Z"
   },
   {
    "duration": 88,
    "start_time": "2024-02-24T11:16:01.195Z"
   },
   {
    "duration": 82010,
    "start_time": "2024-02-24T11:16:10.027Z"
   },
   {
    "duration": 6,
    "start_time": "2024-02-24T11:21:56.656Z"
   },
   {
    "duration": 168,
    "start_time": "2024-02-24T11:30:05.434Z"
   },
   {
    "duration": 90,
    "start_time": "2024-02-24T11:45:29.090Z"
   },
   {
    "duration": 87,
    "start_time": "2024-02-24T11:46:44.295Z"
   },
   {
    "duration": 92,
    "start_time": "2024-02-24T11:46:59.060Z"
   },
   {
    "duration": 83022,
    "start_time": "2024-02-24T11:49:00.456Z"
   },
   {
    "duration": 24,
    "start_time": "2024-02-24T11:50:31.662Z"
   },
   {
    "duration": 68,
    "start_time": "2024-02-24T11:53:59.759Z"
   },
   {
    "duration": 99,
    "start_time": "2024-02-24T11:54:06.519Z"
   },
   {
    "duration": 77,
    "start_time": "2024-02-24T11:54:17.073Z"
   },
   {
    "duration": 105,
    "start_time": "2024-02-24T11:54:25.682Z"
   },
   {
    "duration": 179,
    "start_time": "2024-02-24T11:55:17.954Z"
   },
   {
    "duration": 79,
    "start_time": "2024-02-24T11:55:25.759Z"
   },
   {
    "duration": 77,
    "start_time": "2024-02-24T11:55:58.274Z"
   },
   {
    "duration": 66,
    "start_time": "2024-02-24T11:56:17.758Z"
   },
   {
    "duration": 257,
    "start_time": "2024-02-24T11:56:22.734Z"
   },
   {
    "duration": 159,
    "start_time": "2024-02-24T11:56:30.263Z"
   },
   {
    "duration": 75,
    "start_time": "2024-02-24T11:56:58.879Z"
   },
   {
    "duration": 11,
    "start_time": "2024-02-24T11:57:22.524Z"
   },
   {
    "duration": 4,
    "start_time": "2024-02-24T11:59:15.671Z"
   },
   {
    "duration": 154,
    "start_time": "2024-02-24T11:59:51.050Z"
   },
   {
    "duration": 9,
    "start_time": "2024-02-24T12:07:16.403Z"
   },
   {
    "duration": 9,
    "start_time": "2024-02-24T12:08:33.160Z"
   },
   {
    "duration": 8,
    "start_time": "2024-02-24T12:08:58.653Z"
   },
   {
    "duration": 3,
    "start_time": "2024-02-24T12:09:25.041Z"
   },
   {
    "duration": 176,
    "start_time": "2024-02-24T12:09:39.561Z"
   },
   {
    "duration": 8,
    "start_time": "2024-02-24T12:10:12.927Z"
   },
   {
    "duration": 3,
    "start_time": "2024-02-24T12:10:13.894Z"
   },
   {
    "duration": 173,
    "start_time": "2024-02-24T12:10:14.658Z"
   },
   {
    "duration": 17,
    "start_time": "2024-02-24T12:11:53.988Z"
   },
   {
    "duration": 17,
    "start_time": "2024-02-24T12:14:01.463Z"
   },
   {
    "duration": 193,
    "start_time": "2024-02-24T12:19:30.901Z"
   },
   {
    "duration": 178,
    "start_time": "2024-02-24T12:35:51.946Z"
   },
   {
    "duration": 1417,
    "start_time": "2024-02-24T12:47:36.523Z"
   },
   {
    "duration": 43,
    "start_time": "2024-02-24T12:47:37.942Z"
   },
   {
    "duration": 16,
    "start_time": "2024-02-24T12:47:37.989Z"
   },
   {
    "duration": 18,
    "start_time": "2024-02-24T12:47:38.008Z"
   },
   {
    "duration": 5,
    "start_time": "2024-02-24T12:47:38.028Z"
   },
   {
    "duration": 3,
    "start_time": "2024-02-24T12:47:38.034Z"
   },
   {
    "duration": 25,
    "start_time": "2024-02-24T12:47:38.039Z"
   },
   {
    "duration": 13,
    "start_time": "2024-02-24T12:47:38.066Z"
   },
   {
    "duration": 51,
    "start_time": "2024-02-24T12:47:38.080Z"
   },
   {
    "duration": 7,
    "start_time": "2024-02-24T12:47:38.133Z"
   },
   {
    "duration": 985,
    "start_time": "2024-02-24T12:47:38.141Z"
   },
   {
    "duration": 143,
    "start_time": "2024-02-24T12:47:39.128Z"
   },
   {
    "duration": 147,
    "start_time": "2024-02-24T12:47:39.275Z"
   },
   {
    "duration": 10,
    "start_time": "2024-02-24T12:47:39.423Z"
   },
   {
    "duration": 12,
    "start_time": "2024-02-24T12:47:39.434Z"
   },
   {
    "duration": 7,
    "start_time": "2024-02-24T12:47:39.447Z"
   },
   {
    "duration": 8,
    "start_time": "2024-02-24T12:47:39.455Z"
   },
   {
    "duration": 4,
    "start_time": "2024-02-24T12:47:39.465Z"
   },
   {
    "duration": 9,
    "start_time": "2024-02-24T12:47:39.470Z"
   },
   {
    "duration": 36,
    "start_time": "2024-02-24T12:47:39.481Z"
   },
   {
    "duration": 5,
    "start_time": "2024-02-24T12:47:39.518Z"
   },
   {
    "duration": 97,
    "start_time": "2024-02-24T12:47:39.525Z"
   },
   {
    "duration": 20,
    "start_time": "2024-02-24T12:47:39.623Z"
   },
   {
    "duration": 99,
    "start_time": "2024-02-24T12:47:39.644Z"
   },
   {
    "duration": 84531,
    "start_time": "2024-02-24T12:47:39.745Z"
   },
   {
    "duration": 40,
    "start_time": "2024-02-24T12:49:04.278Z"
   },
   {
    "duration": 228,
    "start_time": "2024-02-24T12:49:04.320Z"
   },
   {
    "duration": 67089,
    "start_time": "2024-02-24T12:49:04.550Z"
   },
   {
    "duration": 83,
    "start_time": "2024-02-24T12:50:11.640Z"
   },
   {
    "duration": 105,
    "start_time": "2024-02-24T12:50:11.725Z"
   },
   {
    "duration": 206,
    "start_time": "2024-02-24T12:50:11.832Z"
   },
   {
    "duration": 119013,
    "start_time": "2024-02-24T12:50:12.040Z"
   },
   {
    "duration": 70,
    "start_time": "2024-02-24T12:52:11.055Z"
   },
   {
    "duration": 97,
    "start_time": "2024-02-24T12:52:11.127Z"
   },
   {
    "duration": 128,
    "start_time": "2024-02-24T12:52:11.226Z"
   },
   {
    "duration": 34728,
    "start_time": "2024-02-24T12:52:11.355Z"
   },
   {
    "duration": 33,
    "start_time": "2024-02-24T12:52:46.084Z"
   },
   {
    "duration": 9,
    "start_time": "2024-02-24T12:52:46.119Z"
   },
   {
    "duration": 3,
    "start_time": "2024-02-24T12:52:46.216Z"
   },
   {
    "duration": 210,
    "start_time": "2024-02-24T12:52:46.223Z"
   },
   {
    "duration": 17,
    "start_time": "2024-02-24T12:52:46.435Z"
   },
   {
    "duration": 205,
    "start_time": "2024-02-24T12:52:46.453Z"
   },
   {
    "duration": 179,
    "start_time": "2024-02-24T12:57:02.038Z"
   },
   {
    "duration": 180,
    "start_time": "2024-02-24T12:57:14.914Z"
   },
   {
    "duration": 8,
    "start_time": "2024-02-24T12:57:24.808Z"
   },
   {
    "duration": 17,
    "start_time": "2024-02-24T12:59:10.082Z"
   },
   {
    "duration": 165,
    "start_time": "2024-02-24T12:59:11.522Z"
   },
   {
    "duration": 161,
    "start_time": "2024-02-24T13:04:20.046Z"
   },
   {
    "duration": 16,
    "start_time": "2024-02-24T13:04:23.974Z"
   },
   {
    "duration": 17,
    "start_time": "2024-02-24T13:06:01.674Z"
   },
   {
    "duration": 189,
    "start_time": "2024-02-24T13:06:14.966Z"
   },
   {
    "duration": 177,
    "start_time": "2024-02-24T13:06:48.890Z"
   },
   {
    "duration": 295,
    "start_time": "2024-02-24T13:08:55.288Z"
   },
   {
    "duration": 11,
    "start_time": "2024-02-24T13:14:49.803Z"
   },
   {
    "duration": 206,
    "start_time": "2024-02-24T13:14:54.957Z"
   },
   {
    "duration": 16,
    "start_time": "2024-02-24T13:17:18.250Z"
   },
   {
    "duration": 118,
    "start_time": "2024-02-24T13:18:42.605Z"
   },
   {
    "duration": 174,
    "start_time": "2024-02-24T13:21:05.729Z"
   },
   {
    "duration": 172,
    "start_time": "2024-02-24T13:24:07.497Z"
   },
   {
    "duration": 164,
    "start_time": "2024-02-24T13:26:33.493Z"
   },
   {
    "duration": 1371,
    "start_time": "2024-02-24T13:27:00.613Z"
   },
   {
    "duration": 42,
    "start_time": "2024-02-24T13:27:01.986Z"
   },
   {
    "duration": 15,
    "start_time": "2024-02-24T13:27:02.029Z"
   },
   {
    "duration": 11,
    "start_time": "2024-02-24T13:27:02.046Z"
   },
   {
    "duration": 4,
    "start_time": "2024-02-24T13:27:02.058Z"
   },
   {
    "duration": 29,
    "start_time": "2024-02-24T13:27:02.063Z"
   },
   {
    "duration": 13,
    "start_time": "2024-02-24T13:27:02.094Z"
   },
   {
    "duration": 18,
    "start_time": "2024-02-24T13:27:02.109Z"
   },
   {
    "duration": 22,
    "start_time": "2024-02-24T13:27:02.129Z"
   },
   {
    "duration": 5,
    "start_time": "2024-02-24T13:27:02.152Z"
   },
   {
    "duration": 932,
    "start_time": "2024-02-24T13:27:02.158Z"
   },
   {
    "duration": 129,
    "start_time": "2024-02-24T13:27:03.092Z"
   },
   {
    "duration": 123,
    "start_time": "2024-02-24T13:27:03.223Z"
   },
   {
    "duration": 9,
    "start_time": "2024-02-24T13:27:03.349Z"
   },
   {
    "duration": 11,
    "start_time": "2024-02-24T13:27:03.359Z"
   },
   {
    "duration": 5,
    "start_time": "2024-02-24T13:27:03.371Z"
   },
   {
    "duration": 86,
    "start_time": "2024-02-24T13:27:03.378Z"
   },
   {
    "duration": 13,
    "start_time": "2024-02-24T13:27:03.465Z"
   },
   {
    "duration": 4,
    "start_time": "2024-02-24T13:27:03.479Z"
   },
   {
    "duration": 4,
    "start_time": "2024-02-24T13:27:03.484Z"
   },
   {
    "duration": 7,
    "start_time": "2024-02-24T13:27:03.489Z"
   },
   {
    "duration": 18,
    "start_time": "2024-02-24T13:27:03.497Z"
   },
   {
    "duration": 19,
    "start_time": "2024-02-24T13:27:03.516Z"
   },
   {
    "duration": 97,
    "start_time": "2024-02-24T13:27:03.536Z"
   },
   {
    "duration": 82731,
    "start_time": "2024-02-24T13:27:03.634Z"
   },
   {
    "duration": 51,
    "start_time": "2024-02-24T13:28:26.366Z"
   },
   {
    "duration": 199,
    "start_time": "2024-02-24T13:28:26.420Z"
   },
   {
    "duration": 65568,
    "start_time": "2024-02-24T13:28:26.621Z"
   },
   {
    "duration": 30,
    "start_time": "2024-02-24T13:29:32.190Z"
   },
   {
    "duration": 192,
    "start_time": "2024-02-24T13:29:32.223Z"
   },
   {
    "duration": 163,
    "start_time": "2024-02-24T13:29:32.417Z"
   },
   {
    "duration": 116377,
    "start_time": "2024-02-24T13:29:32.581Z"
   },
   {
    "duration": 59,
    "start_time": "2024-02-24T13:31:28.959Z"
   },
   {
    "duration": 99,
    "start_time": "2024-02-24T13:31:29.020Z"
   },
   {
    "duration": 42,
    "start_time": "2024-02-24T13:31:29.120Z"
   },
   {
    "duration": 34185,
    "start_time": "2024-02-24T13:31:29.163Z"
   },
   {
    "duration": 69,
    "start_time": "2024-02-24T13:32:03.350Z"
   },
   {
    "duration": 103,
    "start_time": "2024-02-24T13:32:03.421Z"
   },
   {
    "duration": 188,
    "start_time": "2024-02-24T13:32:03.525Z"
   },
   {
    "duration": 19,
    "start_time": "2024-02-24T13:32:03.715Z"
   },
   {
    "duration": 194,
    "start_time": "2024-02-24T13:32:03.739Z"
   },
   {
    "duration": 159,
    "start_time": "2024-02-24T13:35:29.693Z"
   },
   {
    "duration": 170,
    "start_time": "2024-02-24T13:35:45.328Z"
   },
   {
    "duration": 297,
    "start_time": "2024-02-24T13:36:07.947Z"
   },
   {
    "duration": 46,
    "start_time": "2024-02-24T13:45:18.497Z"
   },
   {
    "duration": 201,
    "start_time": "2024-02-24T13:45:27.237Z"
   },
   {
    "duration": 188,
    "start_time": "2024-02-24T13:47:06.889Z"
   },
   {
    "duration": 175,
    "start_time": "2024-02-24T13:48:24.315Z"
   },
   {
    "duration": 180,
    "start_time": "2024-02-24T13:50:24.307Z"
   },
   {
    "duration": 155,
    "start_time": "2024-02-24T13:56:31.351Z"
   },
   {
    "duration": 118,
    "start_time": "2024-02-24T13:58:41.451Z"
   },
   {
    "duration": 10,
    "start_time": "2024-02-24T13:58:49.546Z"
   },
   {
    "duration": 19,
    "start_time": "2024-02-24T14:00:28.433Z"
   },
   {
    "duration": 10,
    "start_time": "2024-02-24T14:03:40.403Z"
   },
   {
    "duration": 49,
    "start_time": "2024-02-24T14:03:44.974Z"
   },
   {
    "duration": 301,
    "start_time": "2024-02-24T14:04:00.762Z"
   },
   {
    "duration": 24,
    "start_time": "2024-02-24T14:12:45.074Z"
   },
   {
    "duration": 22,
    "start_time": "2024-02-24T14:13:32.138Z"
   },
   {
    "duration": 68,
    "start_time": "2024-02-24T14:19:13.441Z"
   },
   {
    "duration": 56,
    "start_time": "2024-02-24T14:19:31.166Z"
   },
   {
    "duration": 216,
    "start_time": "2024-02-24T14:19:52.398Z"
   },
   {
    "duration": 110,
    "start_time": "2024-02-24T14:20:51.506Z"
   },
   {
    "duration": 115,
    "start_time": "2024-02-24T14:21:40.400Z"
   },
   {
    "duration": 67,
    "start_time": "2024-02-24T14:24:29.248Z"
   },
   {
    "duration": 230,
    "start_time": "2024-02-24T14:29:55.099Z"
   },
   {
    "duration": 85,
    "start_time": "2024-02-24T14:30:14.347Z"
   },
   {
    "duration": 305,
    "start_time": "2024-02-24T14:30:40.216Z"
   },
   {
    "duration": 211,
    "start_time": "2024-02-24T14:32:33.491Z"
   },
   {
    "duration": 91,
    "start_time": "2024-02-24T14:33:30.523Z"
   },
   {
    "duration": 203,
    "start_time": "2024-02-24T14:33:31.090Z"
   },
   {
    "duration": 47,
    "start_time": "2024-02-24T14:35:06.588Z"
   },
   {
    "duration": 29,
    "start_time": "2024-02-24T14:35:53.150Z"
   },
   {
    "duration": 200,
    "start_time": "2024-02-24T14:36:25.415Z"
   },
   {
    "duration": 189,
    "start_time": "2024-02-24T14:45:36.413Z"
   },
   {
    "duration": 18,
    "start_time": "2024-02-24T14:47:23.823Z"
   },
   {
    "duration": 179,
    "start_time": "2024-02-24T14:47:26.314Z"
   },
   {
    "duration": 192,
    "start_time": "2024-02-24T14:47:54.647Z"
   },
   {
    "duration": 187,
    "start_time": "2024-02-24T14:48:41.852Z"
   },
   {
    "duration": 207,
    "start_time": "2024-02-24T14:49:10.260Z"
   },
   {
    "duration": 1331,
    "start_time": "2024-02-24T15:03:10.086Z"
   },
   {
    "duration": 42,
    "start_time": "2024-02-24T15:03:11.419Z"
   },
   {
    "duration": 16,
    "start_time": "2024-02-24T15:03:11.463Z"
   },
   {
    "duration": 12,
    "start_time": "2024-02-24T15:03:11.480Z"
   },
   {
    "duration": 4,
    "start_time": "2024-02-24T15:03:11.493Z"
   },
   {
    "duration": 4,
    "start_time": "2024-02-24T15:03:11.498Z"
   },
   {
    "duration": 12,
    "start_time": "2024-02-24T15:03:11.503Z"
   },
   {
    "duration": 11,
    "start_time": "2024-02-24T15:03:11.516Z"
   },
   {
    "duration": 23,
    "start_time": "2024-02-24T15:03:11.528Z"
   },
   {
    "duration": 5,
    "start_time": "2024-02-24T15:03:11.552Z"
   },
   {
    "duration": 922,
    "start_time": "2024-02-24T15:03:11.558Z"
   },
   {
    "duration": 128,
    "start_time": "2024-02-24T15:03:12.482Z"
   },
   {
    "duration": 119,
    "start_time": "2024-02-24T15:03:12.615Z"
   },
   {
    "duration": 9,
    "start_time": "2024-02-24T15:03:12.737Z"
   },
   {
    "duration": 24,
    "start_time": "2024-02-24T15:03:12.747Z"
   },
   {
    "duration": 12,
    "start_time": "2024-02-24T15:03:12.772Z"
   },
   {
    "duration": 91,
    "start_time": "2024-02-24T15:03:12.785Z"
   },
   {
    "duration": 5,
    "start_time": "2024-02-24T15:03:12.878Z"
   },
   {
    "duration": 17,
    "start_time": "2024-02-24T15:03:12.885Z"
   },
   {
    "duration": 10,
    "start_time": "2024-02-24T15:03:12.903Z"
   },
   {
    "duration": 11,
    "start_time": "2024-02-24T15:03:12.915Z"
   },
   {
    "duration": 8,
    "start_time": "2024-02-24T15:03:12.927Z"
   },
   {
    "duration": 26,
    "start_time": "2024-02-24T15:03:12.936Z"
   },
   {
    "duration": 92,
    "start_time": "2024-02-24T15:03:12.963Z"
   },
   {
    "duration": 83906,
    "start_time": "2024-02-24T15:03:13.056Z"
   },
   {
    "duration": 59,
    "start_time": "2024-02-24T15:04:36.964Z"
   },
   {
    "duration": 196,
    "start_time": "2024-02-24T15:04:37.025Z"
   },
   {
    "duration": 282,
    "start_time": "2024-02-24T15:04:37.224Z"
   },
   {
    "duration": 99,
    "start_time": "2024-02-24T15:04:37.507Z"
   },
   {
    "duration": 68138,
    "start_time": "2024-02-24T15:04:37.614Z"
   },
   {
    "duration": 67,
    "start_time": "2024-02-24T15:05:45.753Z"
   },
   {
    "duration": 100,
    "start_time": "2024-02-24T15:05:45.827Z"
   },
   {
    "duration": 178,
    "start_time": "2024-02-24T15:05:45.929Z"
   },
   {
    "duration": 124533,
    "start_time": "2024-02-24T15:05:46.108Z"
   },
   {
    "duration": 88,
    "start_time": "2024-02-24T15:07:50.643Z"
   },
   {
    "duration": 98,
    "start_time": "2024-02-24T15:07:50.734Z"
   },
   {
    "duration": 92,
    "start_time": "2024-02-24T15:07:50.834Z"
   },
   {
    "duration": 36239,
    "start_time": "2024-02-24T15:07:50.928Z"
   },
   {
    "duration": 64,
    "start_time": "2024-02-24T15:08:27.168Z"
   },
   {
    "duration": 82,
    "start_time": "2024-02-24T15:08:27.235Z"
   },
   {
    "duration": 197,
    "start_time": "2024-02-24T15:08:27.323Z"
   },
   {
    "duration": 19,
    "start_time": "2024-02-24T15:08:27.522Z"
   },
   {
    "duration": 216,
    "start_time": "2024-02-24T15:08:27.543Z"
   },
   {
    "duration": 210,
    "start_time": "2024-02-24T15:10:13.841Z"
   },
   {
    "duration": 213,
    "start_time": "2024-02-24T15:10:23.475Z"
   },
   {
    "duration": 250,
    "start_time": "2024-02-24T15:10:32.117Z"
   },
   {
    "duration": 2487,
    "start_time": "2024-02-24T16:11:14.354Z"
   },
   {
    "duration": 79,
    "start_time": "2024-02-24T16:11:16.844Z"
   },
   {
    "duration": 18,
    "start_time": "2024-02-24T16:11:16.924Z"
   },
   {
    "duration": 14,
    "start_time": "2024-02-24T16:11:16.944Z"
   },
   {
    "duration": 4,
    "start_time": "2024-02-24T16:11:16.961Z"
   },
   {
    "duration": 4,
    "start_time": "2024-02-24T16:11:16.967Z"
   },
   {
    "duration": 12,
    "start_time": "2024-02-24T16:11:16.972Z"
   },
   {
    "duration": 19,
    "start_time": "2024-02-24T16:11:16.986Z"
   },
   {
    "duration": 26,
    "start_time": "2024-02-24T16:11:17.007Z"
   },
   {
    "duration": 6,
    "start_time": "2024-02-24T16:11:17.035Z"
   },
   {
    "duration": 1032,
    "start_time": "2024-02-24T16:11:17.043Z"
   },
   {
    "duration": 165,
    "start_time": "2024-02-24T16:11:18.077Z"
   },
   {
    "duration": 146,
    "start_time": "2024-02-24T16:11:18.243Z"
   },
   {
    "duration": 10,
    "start_time": "2024-02-24T16:11:18.391Z"
   },
   {
    "duration": 14,
    "start_time": "2024-02-24T16:11:18.403Z"
   },
   {
    "duration": 6,
    "start_time": "2024-02-24T16:11:18.420Z"
   },
   {
    "duration": 4,
    "start_time": "2024-02-24T17:18:09.942Z"
   },
   {
    "duration": 17,
    "start_time": "2024-02-24T17:21:46.842Z"
   },
   {
    "duration": 116,
    "start_time": "2024-02-24T17:31:07.726Z"
   },
   {
    "duration": 748,
    "start_time": "2024-02-24T17:31:36.112Z"
   },
   {
    "duration": 0,
    "start_time": "2024-02-24T17:31:36.866Z"
   },
   {
    "duration": 0,
    "start_time": "2024-02-24T17:31:36.869Z"
   },
   {
    "duration": 0,
    "start_time": "2024-02-24T17:31:36.870Z"
   },
   {
    "duration": 0,
    "start_time": "2024-02-24T17:31:36.872Z"
   },
   {
    "duration": 0,
    "start_time": "2024-02-24T17:31:36.873Z"
   },
   {
    "duration": 0,
    "start_time": "2024-02-24T17:31:36.874Z"
   },
   {
    "duration": 0,
    "start_time": "2024-02-24T17:31:36.876Z"
   },
   {
    "duration": 0,
    "start_time": "2024-02-24T17:31:36.877Z"
   },
   {
    "duration": 0,
    "start_time": "2024-02-24T17:31:36.878Z"
   },
   {
    "duration": 0,
    "start_time": "2024-02-24T17:31:36.879Z"
   },
   {
    "duration": 0,
    "start_time": "2024-02-24T17:31:36.880Z"
   },
   {
    "duration": 0,
    "start_time": "2024-02-24T17:31:36.881Z"
   },
   {
    "duration": 0,
    "start_time": "2024-02-24T17:31:36.883Z"
   },
   {
    "duration": 0,
    "start_time": "2024-02-24T17:31:36.884Z"
   },
   {
    "duration": 1,
    "start_time": "2024-02-24T17:31:36.884Z"
   },
   {
    "duration": 0,
    "start_time": "2024-02-24T17:31:36.886Z"
   },
   {
    "duration": 0,
    "start_time": "2024-02-24T17:31:36.887Z"
   },
   {
    "duration": 0,
    "start_time": "2024-02-24T17:31:36.887Z"
   },
   {
    "duration": 0,
    "start_time": "2024-02-24T17:31:36.889Z"
   },
   {
    "duration": 0,
    "start_time": "2024-02-24T17:31:36.890Z"
   },
   {
    "duration": 0,
    "start_time": "2024-02-24T17:31:36.916Z"
   },
   {
    "duration": 0,
    "start_time": "2024-02-24T17:31:36.917Z"
   },
   {
    "duration": 0,
    "start_time": "2024-02-24T17:31:36.918Z"
   },
   {
    "duration": 0,
    "start_time": "2024-02-24T17:31:36.919Z"
   },
   {
    "duration": 0,
    "start_time": "2024-02-24T17:31:36.920Z"
   },
   {
    "duration": 0,
    "start_time": "2024-02-24T17:31:36.921Z"
   },
   {
    "duration": 0,
    "start_time": "2024-02-24T17:31:36.922Z"
   },
   {
    "duration": 0,
    "start_time": "2024-02-24T17:31:36.924Z"
   },
   {
    "duration": 0,
    "start_time": "2024-02-24T17:31:36.925Z"
   },
   {
    "duration": 0,
    "start_time": "2024-02-24T17:31:36.926Z"
   },
   {
    "duration": 0,
    "start_time": "2024-02-24T17:31:36.928Z"
   },
   {
    "duration": 0,
    "start_time": "2024-02-24T17:31:36.929Z"
   },
   {
    "duration": 0,
    "start_time": "2024-02-24T17:31:36.930Z"
   },
   {
    "duration": 0,
    "start_time": "2024-02-24T17:31:36.932Z"
   },
   {
    "duration": 0,
    "start_time": "2024-02-24T17:31:36.933Z"
   },
   {
    "duration": 0,
    "start_time": "2024-02-24T17:31:36.934Z"
   },
   {
    "duration": 0,
    "start_time": "2024-02-24T17:31:36.935Z"
   },
   {
    "duration": 0,
    "start_time": "2024-02-24T17:31:36.936Z"
   },
   {
    "duration": 1,
    "start_time": "2024-02-24T17:31:36.937Z"
   },
   {
    "duration": 0,
    "start_time": "2024-02-24T17:31:36.938Z"
   },
   {
    "duration": 0,
    "start_time": "2024-02-24T17:31:36.940Z"
   },
   {
    "duration": 0,
    "start_time": "2024-02-24T17:31:36.940Z"
   },
   {
    "duration": 72,
    "start_time": "2024-02-24T17:33:07.578Z"
   },
   {
    "duration": 71,
    "start_time": "2024-02-24T17:35:31.151Z"
   },
   {
    "duration": 10,
    "start_time": "2024-02-24T17:35:41.173Z"
   },
   {
    "duration": 843,
    "start_time": "2024-02-24T17:35:50.187Z"
   },
   {
    "duration": 4,
    "start_time": "2024-02-24T17:36:17.730Z"
   },
   {
    "duration": 47,
    "start_time": "2024-02-24T17:37:56.807Z"
   },
   {
    "duration": 71,
    "start_time": "2024-02-24T17:38:05.432Z"
   },
   {
    "duration": 5,
    "start_time": "2024-02-24T17:38:57.083Z"
   },
   {
    "duration": 42,
    "start_time": "2024-02-24T17:39:13.628Z"
   },
   {
    "duration": 19,
    "start_time": "2024-02-24T17:39:14.396Z"
   },
   {
    "duration": 12,
    "start_time": "2024-02-24T17:39:18.396Z"
   },
   {
    "duration": 8,
    "start_time": "2024-02-24T17:39:42.195Z"
   },
   {
    "duration": 10,
    "start_time": "2024-02-24T17:45:17.081Z"
   },
   {
    "duration": 10,
    "start_time": "2024-02-24T17:45:24.788Z"
   },
   {
    "duration": 18,
    "start_time": "2024-02-24T17:45:28.677Z"
   },
   {
    "duration": 8,
    "start_time": "2024-02-24T17:52:00.510Z"
   },
   {
    "duration": 10,
    "start_time": "2024-02-24T17:52:15.923Z"
   },
   {
    "duration": 11,
    "start_time": "2024-02-24T17:52:19.788Z"
   },
   {
    "duration": 8,
    "start_time": "2024-02-24T17:52:25.015Z"
   },
   {
    "duration": 8,
    "start_time": "2024-02-24T17:52:33.432Z"
   },
   {
    "duration": 98,
    "start_time": "2024-02-24T17:53:58.120Z"
   },
   {
    "duration": 13,
    "start_time": "2024-02-24T17:58:10.232Z"
   },
   {
    "duration": 10,
    "start_time": "2024-02-24T18:00:55.358Z"
   },
   {
    "duration": 77,
    "start_time": "2024-02-24T18:01:12.480Z"
   },
   {
    "duration": 85,
    "start_time": "2024-02-24T18:01:20.801Z"
   },
   {
    "duration": 80,
    "start_time": "2024-02-24T18:01:48.361Z"
   },
   {
    "duration": 57,
    "start_time": "2024-02-24T18:05:49.864Z"
   },
   {
    "duration": 77,
    "start_time": "2024-02-24T18:06:00.342Z"
   },
   {
    "duration": 6,
    "start_time": "2024-02-24T18:06:09.110Z"
   },
   {
    "duration": 7,
    "start_time": "2024-02-24T18:06:12.831Z"
   },
   {
    "duration": 442,
    "start_time": "2024-02-24T18:06:32.904Z"
   },
   {
    "duration": 1068,
    "start_time": "2024-02-24T18:06:42.045Z"
   },
   {
    "duration": 42,
    "start_time": "2024-02-24T18:06:50.283Z"
   },
   {
    "duration": 17,
    "start_time": "2024-02-24T18:06:51.633Z"
   },
   {
    "duration": 18,
    "start_time": "2024-02-24T18:06:52.945Z"
   },
   {
    "duration": 52,
    "start_time": "2024-02-24T18:08:13.965Z"
   },
   {
    "duration": 9,
    "start_time": "2024-02-24T18:08:53.724Z"
   },
   {
    "duration": 15,
    "start_time": "2024-02-24T18:09:04.168Z"
   },
   {
    "duration": 5,
    "start_time": "2024-02-24T18:10:35.671Z"
   },
   {
    "duration": 3,
    "start_time": "2024-02-24T18:10:36.055Z"
   },
   {
    "duration": 7,
    "start_time": "2024-02-24T18:10:37.415Z"
   },
   {
    "duration": 13,
    "start_time": "2024-02-24T18:10:55.489Z"
   },
   {
    "duration": 24,
    "start_time": "2024-02-24T18:10:56.077Z"
   },
   {
    "duration": 100,
    "start_time": "2024-02-24T18:12:37.598Z"
   },
   {
    "duration": 11,
    "start_time": "2024-02-24T18:12:43.858Z"
   },
   {
    "duration": 22,
    "start_time": "2024-02-24T18:12:44.748Z"
   },
   {
    "duration": 6,
    "start_time": "2024-02-24T18:13:26.671Z"
   },
   {
    "duration": 958,
    "start_time": "2024-02-24T18:13:27.523Z"
   },
   {
    "duration": 143,
    "start_time": "2024-02-24T18:13:29.449Z"
   },
   {
    "duration": 120,
    "start_time": "2024-02-24T18:13:30.163Z"
   },
   {
    "duration": 10,
    "start_time": "2024-02-24T18:13:33.025Z"
   },
   {
    "duration": 12,
    "start_time": "2024-02-24T18:15:28.532Z"
   },
   {
    "duration": 7699,
    "start_time": "2024-02-24T18:17:51.365Z"
   },
   {
    "duration": 3725,
    "start_time": "2024-02-24T18:18:57.065Z"
   },
   {
    "duration": 46,
    "start_time": "2024-02-24T18:19:00.792Z"
   },
   {
    "duration": 113,
    "start_time": "2024-02-24T18:19:00.840Z"
   },
   {
    "duration": 71,
    "start_time": "2024-02-24T18:19:00.955Z"
   },
   {
    "duration": 106,
    "start_time": "2024-02-24T18:19:01.028Z"
   },
   {
    "duration": 120,
    "start_time": "2024-02-24T18:19:01.136Z"
   },
   {
    "duration": 66,
    "start_time": "2024-02-24T18:19:01.257Z"
   },
   {
    "duration": 59,
    "start_time": "2024-02-24T18:19:01.325Z"
   },
   {
    "duration": 47,
    "start_time": "2024-02-24T18:19:01.386Z"
   },
   {
    "duration": 12,
    "start_time": "2024-02-24T18:19:01.436Z"
   },
   {
    "duration": 1025,
    "start_time": "2024-02-24T18:19:01.449Z"
   },
   {
    "duration": 140,
    "start_time": "2024-02-24T18:19:02.476Z"
   },
   {
    "duration": 128,
    "start_time": "2024-02-24T18:19:02.617Z"
   },
   {
    "duration": 9,
    "start_time": "2024-02-24T18:19:02.747Z"
   },
   {
    "duration": 11,
    "start_time": "2024-02-24T18:19:02.758Z"
   },
   {
    "duration": 6,
    "start_time": "2024-02-24T18:19:02.771Z"
   },
   {
    "duration": 5,
    "start_time": "2024-02-24T18:19:02.779Z"
   },
   {
    "duration": 6,
    "start_time": "2024-02-24T18:19:02.814Z"
   },
   {
    "duration": 3,
    "start_time": "2024-02-24T18:19:02.822Z"
   },
   {
    "duration": 5,
    "start_time": "2024-02-24T18:19:02.827Z"
   },
   {
    "duration": 3,
    "start_time": "2024-02-24T18:19:02.833Z"
   },
   {
    "duration": 8,
    "start_time": "2024-02-24T18:19:02.838Z"
   },
   {
    "duration": 21,
    "start_time": "2024-02-24T18:19:02.847Z"
   },
   {
    "duration": 128,
    "start_time": "2024-02-24T18:19:02.870Z"
   },
   {
    "duration": 95532,
    "start_time": "2024-02-24T18:19:03.000Z"
   },
   {
    "duration": 181,
    "start_time": "2024-02-24T18:20:38.534Z"
   },
   {
    "duration": 102,
    "start_time": "2024-02-24T18:20:38.717Z"
   },
   {
    "duration": 282,
    "start_time": "2024-02-24T18:20:38.823Z"
   },
   {
    "duration": 109,
    "start_time": "2024-02-24T18:20:39.106Z"
   },
   {
    "duration": 76811,
    "start_time": "2024-02-24T18:20:39.217Z"
   },
   {
    "duration": 88,
    "start_time": "2024-02-24T18:21:56.029Z"
   },
   {
    "duration": 105,
    "start_time": "2024-02-24T18:21:56.119Z"
   },
   {
    "duration": 177,
    "start_time": "2024-02-24T18:21:56.226Z"
   },
   {
    "duration": 135834,
    "start_time": "2024-02-24T18:21:56.405Z"
   },
   {
    "duration": 175,
    "start_time": "2024-02-24T18:24:12.240Z"
   },
   {
    "duration": 14,
    "start_time": "2024-02-24T18:24:12.418Z"
   },
   {
    "duration": 127,
    "start_time": "2024-02-24T18:24:12.434Z"
   },
   {
    "duration": 37321,
    "start_time": "2024-02-24T18:24:12.563Z"
   },
   {
    "duration": 40,
    "start_time": "2024-02-24T18:24:49.886Z"
   },
   {
    "duration": 96,
    "start_time": "2024-02-24T18:24:49.928Z"
   },
   {
    "duration": 273,
    "start_time": "2024-02-24T18:24:50.026Z"
   },
   {
    "duration": 25,
    "start_time": "2024-02-24T18:24:50.300Z"
   },
   {
    "duration": 206,
    "start_time": "2024-02-24T18:24:50.327Z"
   },
   {
    "duration": 102,
    "start_time": "2024-02-25T09:14:02.705Z"
   },
   {
    "duration": 1665,
    "start_time": "2024-02-25T09:14:42.712Z"
   },
   {
    "duration": 168,
    "start_time": "2024-02-25T09:14:49.969Z"
   },
   {
    "duration": 18,
    "start_time": "2024-02-25T09:14:50.774Z"
   },
   {
    "duration": 16,
    "start_time": "2024-02-25T09:14:52.154Z"
   },
   {
    "duration": 4,
    "start_time": "2024-02-25T09:14:53.047Z"
   },
   {
    "duration": 3,
    "start_time": "2024-02-25T09:14:54.052Z"
   },
   {
    "duration": 8,
    "start_time": "2024-02-25T09:14:55.831Z"
   },
   {
    "duration": 17,
    "start_time": "2024-02-25T09:14:58.150Z"
   },
   {
    "duration": 31,
    "start_time": "2024-02-25T09:15:06.503Z"
   },
   {
    "duration": 14,
    "start_time": "2024-02-25T09:15:23.808Z"
   },
   {
    "duration": 23,
    "start_time": "2024-02-25T09:15:24.583Z"
   },
   {
    "duration": 6,
    "start_time": "2024-02-25T09:15:29.105Z"
   },
   {
    "duration": 999,
    "start_time": "2024-02-25T09:15:29.785Z"
   },
   {
    "duration": 163,
    "start_time": "2024-02-25T09:15:30.786Z"
   },
   {
    "duration": 158,
    "start_time": "2024-02-25T09:15:37.024Z"
   },
   {
    "duration": 10,
    "start_time": "2024-02-25T09:15:41.822Z"
   },
   {
    "duration": 12,
    "start_time": "2024-02-25T09:15:44.395Z"
   },
   {
    "duration": 6,
    "start_time": "2024-02-25T09:16:00.918Z"
   },
   {
    "duration": 6,
    "start_time": "2024-02-25T09:16:01.618Z"
   },
   {
    "duration": 5,
    "start_time": "2024-02-25T09:16:02.368Z"
   },
   {
    "duration": 4,
    "start_time": "2024-02-25T09:16:03.794Z"
   },
   {
    "duration": 3,
    "start_time": "2024-02-25T09:16:53.247Z"
   },
   {
    "duration": 2,
    "start_time": "2024-02-25T09:16:57.000Z"
   },
   {
    "duration": 7,
    "start_time": "2024-02-25T09:16:57.455Z"
   },
   {
    "duration": 22,
    "start_time": "2024-02-25T09:16:57.969Z"
   },
   {
    "duration": 324,
    "start_time": "2024-02-25T09:17:03.074Z"
   },
   {
    "duration": 330,
    "start_time": "2024-02-25T09:20:13.669Z"
   },
   {
    "duration": 100,
    "start_time": "2024-02-25T09:21:11.302Z"
   },
   {
    "duration": 1491,
    "start_time": "2024-02-25T09:22:37.549Z"
   },
   {
    "duration": 47,
    "start_time": "2024-02-25T09:22:39.043Z"
   },
   {
    "duration": 19,
    "start_time": "2024-02-25T09:22:39.092Z"
   },
   {
    "duration": 32,
    "start_time": "2024-02-25T09:22:39.113Z"
   },
   {
    "duration": 5,
    "start_time": "2024-02-25T09:22:39.147Z"
   },
   {
    "duration": 15,
    "start_time": "2024-02-25T09:22:39.153Z"
   },
   {
    "duration": 31,
    "start_time": "2024-02-25T09:22:39.169Z"
   },
   {
    "duration": 15,
    "start_time": "2024-02-25T09:22:39.201Z"
   },
   {
    "duration": 24,
    "start_time": "2024-02-25T09:22:39.218Z"
   },
   {
    "duration": 5,
    "start_time": "2024-02-25T09:22:39.245Z"
   },
   {
    "duration": 1024,
    "start_time": "2024-02-25T09:22:39.251Z"
   },
   {
    "duration": 164,
    "start_time": "2024-02-25T09:22:40.277Z"
   },
   {
    "duration": 140,
    "start_time": "2024-02-25T09:22:40.442Z"
   },
   {
    "duration": 10,
    "start_time": "2024-02-25T09:22:40.583Z"
   },
   {
    "duration": 12,
    "start_time": "2024-02-25T09:22:40.595Z"
   },
   {
    "duration": 5,
    "start_time": "2024-02-25T09:22:40.609Z"
   },
   {
    "duration": 16,
    "start_time": "2024-02-25T09:22:40.615Z"
   },
   {
    "duration": 16,
    "start_time": "2024-02-25T09:22:40.632Z"
   },
   {
    "duration": 6,
    "start_time": "2024-02-25T09:22:40.649Z"
   },
   {
    "duration": 3,
    "start_time": "2024-02-25T09:22:40.657Z"
   },
   {
    "duration": 2,
    "start_time": "2024-02-25T09:22:40.673Z"
   },
   {
    "duration": 81,
    "start_time": "2024-02-25T09:22:40.677Z"
   },
   {
    "duration": 29,
    "start_time": "2024-02-25T09:22:40.760Z"
   },
   {
    "duration": 290,
    "start_time": "2024-02-25T09:22:40.791Z"
   },
   {
    "duration": 1523,
    "start_time": "2024-02-25T09:25:13.257Z"
   },
   {
    "duration": 44,
    "start_time": "2024-02-25T09:25:14.783Z"
   },
   {
    "duration": 19,
    "start_time": "2024-02-25T09:25:14.829Z"
   },
   {
    "duration": 21,
    "start_time": "2024-02-25T09:25:14.850Z"
   },
   {
    "duration": 5,
    "start_time": "2024-02-25T09:25:14.874Z"
   },
   {
    "duration": 8,
    "start_time": "2024-02-25T09:25:14.880Z"
   },
   {
    "duration": 12,
    "start_time": "2024-02-25T09:25:14.889Z"
   },
   {
    "duration": 16,
    "start_time": "2024-02-25T09:25:14.903Z"
   },
   {
    "duration": 25,
    "start_time": "2024-02-25T09:25:14.920Z"
   },
   {
    "duration": 28,
    "start_time": "2024-02-25T09:25:14.946Z"
   },
   {
    "duration": 1075,
    "start_time": "2024-02-25T09:25:14.976Z"
   },
   {
    "duration": 151,
    "start_time": "2024-02-25T09:25:16.052Z"
   },
   {
    "duration": 152,
    "start_time": "2024-02-25T09:25:16.205Z"
   },
   {
    "duration": 18,
    "start_time": "2024-02-25T09:25:16.360Z"
   },
   {
    "duration": 28,
    "start_time": "2024-02-25T09:25:16.379Z"
   },
   {
    "duration": 20,
    "start_time": "2024-02-25T09:25:16.409Z"
   },
   {
    "duration": 105,
    "start_time": "2024-02-25T09:25:16.431Z"
   },
   {
    "duration": 6,
    "start_time": "2024-02-25T09:25:16.538Z"
   },
   {
    "duration": 42,
    "start_time": "2024-02-25T09:25:16.546Z"
   },
   {
    "duration": 60,
    "start_time": "2024-02-25T09:25:16.590Z"
   },
   {
    "duration": 30,
    "start_time": "2024-02-25T09:25:16.652Z"
   },
   {
    "duration": 35,
    "start_time": "2024-02-25T09:25:16.684Z"
   },
   {
    "duration": 57,
    "start_time": "2024-02-25T09:25:16.720Z"
   },
   {
    "duration": 311,
    "start_time": "2024-02-25T09:25:16.779Z"
   },
   {
    "duration": 88180,
    "start_time": "2024-02-25T09:25:17.093Z"
   },
   {
    "duration": 26,
    "start_time": "2024-02-25T09:26:45.274Z"
   },
   {
    "duration": 207,
    "start_time": "2024-02-25T09:26:45.374Z"
   },
   {
    "duration": 214,
    "start_time": "2024-02-25T09:26:45.672Z"
   },
   {
    "duration": 115,
    "start_time": "2024-02-25T09:26:45.887Z"
   },
   {
    "duration": 78973,
    "start_time": "2024-02-25T09:26:46.003Z"
   },
   {
    "duration": 24,
    "start_time": "2024-02-25T09:28:04.978Z"
   },
   {
    "duration": 172,
    "start_time": "2024-02-25T09:28:05.004Z"
   },
   {
    "duration": 189,
    "start_time": "2024-02-25T09:28:05.178Z"
   },
   {
    "duration": 141803,
    "start_time": "2024-02-25T09:28:05.373Z"
   },
   {
    "duration": 103,
    "start_time": "2024-02-25T09:30:27.178Z"
   },
   {
    "duration": 100,
    "start_time": "2024-02-25T09:30:27.284Z"
   },
   {
    "duration": 102,
    "start_time": "2024-02-25T09:30:27.386Z"
   },
   {
    "duration": 38976,
    "start_time": "2024-02-25T09:30:27.490Z"
   },
   {
    "duration": 17,
    "start_time": "2024-02-25T09:31:06.472Z"
   },
   {
    "duration": 87,
    "start_time": "2024-02-25T09:31:06.492Z"
   },
   {
    "duration": 290,
    "start_time": "2024-02-25T09:31:06.585Z"
   },
   {
    "duration": 18,
    "start_time": "2024-02-25T09:31:06.876Z"
   },
   {
    "duration": 230,
    "start_time": "2024-02-25T09:31:06.895Z"
   },
   {
    "duration": 313,
    "start_time": "2024-02-25T09:31:07.127Z"
   },
   {
    "duration": 217,
    "start_time": "2024-02-25T09:31:07.442Z"
   },
   {
    "duration": 1552,
    "start_time": "2024-02-25T09:41:33.936Z"
   },
   {
    "duration": 44,
    "start_time": "2024-02-25T09:41:35.492Z"
   },
   {
    "duration": 17,
    "start_time": "2024-02-25T09:41:35.538Z"
   },
   {
    "duration": 13,
    "start_time": "2024-02-25T09:41:35.558Z"
   },
   {
    "duration": 5,
    "start_time": "2024-02-25T09:41:35.572Z"
   },
   {
    "duration": 14,
    "start_time": "2024-02-25T09:41:35.578Z"
   },
   {
    "duration": 10,
    "start_time": "2024-02-25T09:41:35.594Z"
   },
   {
    "duration": 12,
    "start_time": "2024-02-25T09:41:35.606Z"
   },
   {
    "duration": 25,
    "start_time": "2024-02-25T09:41:35.620Z"
   },
   {
    "duration": 6,
    "start_time": "2024-02-25T09:41:35.672Z"
   },
   {
    "duration": 1040,
    "start_time": "2024-02-25T09:41:35.679Z"
   },
   {
    "duration": 159,
    "start_time": "2024-02-25T09:41:36.721Z"
   },
   {
    "duration": 143,
    "start_time": "2024-02-25T09:41:36.881Z"
   },
   {
    "duration": 11,
    "start_time": "2024-02-25T09:41:37.025Z"
   },
   {
    "duration": 14,
    "start_time": "2024-02-25T09:41:37.038Z"
   },
   {
    "duration": 9,
    "start_time": "2024-02-25T09:41:37.073Z"
   },
   {
    "duration": 6,
    "start_time": "2024-02-25T09:41:37.084Z"
   },
   {
    "duration": 11,
    "start_time": "2024-02-25T09:41:37.092Z"
   },
   {
    "duration": 6,
    "start_time": "2024-02-25T09:41:37.104Z"
   },
   {
    "duration": 5,
    "start_time": "2024-02-25T09:41:37.112Z"
   },
   {
    "duration": 9,
    "start_time": "2024-02-25T09:41:37.119Z"
   },
   {
    "duration": 103,
    "start_time": "2024-02-25T09:41:37.130Z"
   },
   {
    "duration": 22,
    "start_time": "2024-02-25T09:41:37.234Z"
   },
   {
    "duration": 307,
    "start_time": "2024-02-25T09:41:37.258Z"
   },
   {
    "duration": 26,
    "start_time": "2024-02-25T09:43:06.178Z"
   },
   {
    "duration": 204,
    "start_time": "2024-02-25T09:43:06.275Z"
   },
   {
    "duration": 331,
    "start_time": "2024-02-25T09:43:06.484Z"
   },
   {
    "duration": 385,
    "start_time": "2024-02-25T09:43:06.817Z"
   },
   {
    "duration": 89292,
    "start_time": "2024-02-25T09:43:07.204Z"
   },
   {
    "duration": 83,
    "start_time": "2024-02-25T09:44:36.497Z"
   },
   {
    "duration": 100,
    "start_time": "2024-02-25T09:44:36.586Z"
   },
   {
    "duration": 444,
    "start_time": "2024-02-25T09:44:36.688Z"
   },
   {
    "duration": 107,
    "start_time": "2024-02-25T09:44:37.134Z"
   },
   {
    "duration": 0,
    "start_time": "2024-02-25T09:44:37.243Z"
   },
   {
    "duration": 0,
    "start_time": "2024-02-25T09:44:37.245Z"
   },
   {
    "duration": 0,
    "start_time": "2024-02-25T09:44:37.246Z"
   },
   {
    "duration": 0,
    "start_time": "2024-02-25T09:44:37.248Z"
   },
   {
    "duration": 0,
    "start_time": "2024-02-25T09:44:37.249Z"
   },
   {
    "duration": 0,
    "start_time": "2024-02-25T09:44:37.250Z"
   },
   {
    "duration": 0,
    "start_time": "2024-02-25T09:44:37.252Z"
   },
   {
    "duration": 0,
    "start_time": "2024-02-25T09:44:37.253Z"
   },
   {
    "duration": 0,
    "start_time": "2024-02-25T09:44:37.255Z"
   },
   {
    "duration": 0,
    "start_time": "2024-02-25T09:44:37.258Z"
   },
   {
    "duration": 0,
    "start_time": "2024-02-25T09:44:37.259Z"
   },
   {
    "duration": 31015,
    "start_time": "2024-02-25T09:45:54.781Z"
   },
   {
    "duration": 1456,
    "start_time": "2024-02-25T10:02:18.881Z"
   },
   {
    "duration": 48,
    "start_time": "2024-02-25T10:02:20.339Z"
   },
   {
    "duration": 17,
    "start_time": "2024-02-25T10:02:20.389Z"
   },
   {
    "duration": 13,
    "start_time": "2024-02-25T10:02:20.408Z"
   },
   {
    "duration": 7,
    "start_time": "2024-02-25T10:02:20.423Z"
   },
   {
    "duration": 9,
    "start_time": "2024-02-25T10:02:20.432Z"
   },
   {
    "duration": 32,
    "start_time": "2024-02-25T10:02:20.442Z"
   },
   {
    "duration": 13,
    "start_time": "2024-02-25T10:02:20.475Z"
   },
   {
    "duration": 24,
    "start_time": "2024-02-25T10:02:20.489Z"
   },
   {
    "duration": 6,
    "start_time": "2024-02-25T10:02:20.515Z"
   },
   {
    "duration": 1021,
    "start_time": "2024-02-25T10:02:20.523Z"
   },
   {
    "duration": 163,
    "start_time": "2024-02-25T10:02:21.546Z"
   },
   {
    "duration": 132,
    "start_time": "2024-02-25T10:02:21.711Z"
   },
   {
    "duration": 11,
    "start_time": "2024-02-25T10:02:21.844Z"
   },
   {
    "duration": 22,
    "start_time": "2024-02-25T10:02:21.856Z"
   },
   {
    "duration": 12,
    "start_time": "2024-02-25T10:02:21.880Z"
   },
   {
    "duration": 19,
    "start_time": "2024-02-25T10:02:21.894Z"
   },
   {
    "duration": 45,
    "start_time": "2024-02-25T10:02:21.915Z"
   },
   {
    "duration": 15,
    "start_time": "2024-02-25T10:02:21.962Z"
   },
   {
    "duration": 25,
    "start_time": "2024-02-25T10:02:21.979Z"
   },
   {
    "duration": 4,
    "start_time": "2024-02-25T10:02:22.006Z"
   },
   {
    "duration": 18,
    "start_time": "2024-02-25T10:02:22.012Z"
   },
   {
    "duration": 108,
    "start_time": "2024-02-25T10:02:22.031Z"
   },
   {
    "duration": 296,
    "start_time": "2024-02-25T10:02:22.141Z"
   },
   {
    "duration": 87924,
    "start_time": "2024-02-25T10:02:22.439Z"
   },
   {
    "duration": 108,
    "start_time": "2024-02-25T10:03:50.365Z"
   },
   {
    "duration": 201,
    "start_time": "2024-02-25T10:03:50.475Z"
   },
   {
    "duration": 319,
    "start_time": "2024-02-25T10:03:50.682Z"
   },
   {
    "duration": 313,
    "start_time": "2024-02-25T10:03:51.003Z"
   },
   {
    "duration": 90,
    "start_time": "2024-02-25T10:05:19.083Z"
   },
   {
    "duration": 103,
    "start_time": "2024-02-25T10:05:19.175Z"
   },
   {
    "duration": 385,
    "start_time": "2024-02-25T10:05:19.279Z"
   },
   {
    "duration": 118632,
    "start_time": "2024-02-25T10:05:19.665Z"
   },
   {
    "duration": 77,
    "start_time": "2024-02-25T10:07:18.299Z"
   },
   {
    "duration": 101,
    "start_time": "2024-02-25T10:07:18.379Z"
   },
   {
    "duration": 125,
    "start_time": "2024-02-25T10:07:18.481Z"
   },
   {
    "duration": 43679,
    "start_time": "2024-02-25T10:07:18.608Z"
   },
   {
    "duration": 15,
    "start_time": "2024-02-25T10:08:02.289Z"
   },
   {
    "duration": 102,
    "start_time": "2024-02-25T10:08:02.372Z"
   },
   {
    "duration": 1283,
    "start_time": "2024-02-25T10:08:02.476Z"
   },
   {
    "duration": 86,
    "start_time": "2024-02-25T10:08:03.762Z"
   },
   {
    "duration": 295,
    "start_time": "2024-02-25T10:08:03.849Z"
   },
   {
    "duration": 1488,
    "start_time": "2024-02-25T10:12:30.878Z"
   },
   {
    "duration": 43,
    "start_time": "2024-02-25T10:12:32.369Z"
   },
   {
    "duration": 17,
    "start_time": "2024-02-25T10:12:32.414Z"
   },
   {
    "duration": 16,
    "start_time": "2024-02-25T10:12:32.434Z"
   },
   {
    "duration": 4,
    "start_time": "2024-02-25T10:12:32.452Z"
   },
   {
    "duration": 6,
    "start_time": "2024-02-25T10:12:32.458Z"
   },
   {
    "duration": 9,
    "start_time": "2024-02-25T10:12:32.465Z"
   },
   {
    "duration": 12,
    "start_time": "2024-02-25T10:12:32.476Z"
   },
   {
    "duration": 24,
    "start_time": "2024-02-25T10:12:32.489Z"
   },
   {
    "duration": 4,
    "start_time": "2024-02-25T10:12:32.516Z"
   },
   {
    "duration": 1043,
    "start_time": "2024-02-25T10:12:32.522Z"
   },
   {
    "duration": 152,
    "start_time": "2024-02-25T10:12:33.572Z"
   },
   {
    "duration": 139,
    "start_time": "2024-02-25T10:12:33.725Z"
   },
   {
    "duration": 14,
    "start_time": "2024-02-25T10:12:33.866Z"
   },
   {
    "duration": 17,
    "start_time": "2024-02-25T10:12:33.881Z"
   },
   {
    "duration": 16,
    "start_time": "2024-02-25T10:12:33.900Z"
   },
   {
    "duration": 11,
    "start_time": "2024-02-25T10:12:33.918Z"
   },
   {
    "duration": 7,
    "start_time": "2024-02-25T10:12:33.931Z"
   },
   {
    "duration": 6,
    "start_time": "2024-02-25T10:12:33.940Z"
   },
   {
    "duration": 24,
    "start_time": "2024-02-25T10:12:33.948Z"
   },
   {
    "duration": 6,
    "start_time": "2024-02-25T10:12:33.975Z"
   },
   {
    "duration": 97,
    "start_time": "2024-02-25T10:12:33.982Z"
   },
   {
    "duration": 26,
    "start_time": "2024-02-25T10:12:34.081Z"
   },
   {
    "duration": 301,
    "start_time": "2024-02-25T10:12:34.109Z"
   },
   {
    "duration": 1461,
    "start_time": "2024-02-25T10:15:32.316Z"
   },
   {
    "duration": 44,
    "start_time": "2024-02-25T10:15:33.779Z"
   },
   {
    "duration": 17,
    "start_time": "2024-02-25T10:15:33.825Z"
   },
   {
    "duration": 25,
    "start_time": "2024-02-25T10:15:33.843Z"
   },
   {
    "duration": 6,
    "start_time": "2024-02-25T10:15:33.870Z"
   },
   {
    "duration": 18,
    "start_time": "2024-02-25T10:15:33.877Z"
   },
   {
    "duration": 17,
    "start_time": "2024-02-25T10:15:33.897Z"
   },
   {
    "duration": 16,
    "start_time": "2024-02-25T10:15:33.916Z"
   },
   {
    "duration": 34,
    "start_time": "2024-02-25T10:15:33.933Z"
   },
   {
    "duration": 6,
    "start_time": "2024-02-25T10:15:33.969Z"
   },
   {
    "duration": 1005,
    "start_time": "2024-02-25T10:15:33.977Z"
   },
   {
    "duration": 153,
    "start_time": "2024-02-25T10:15:34.983Z"
   },
   {
    "duration": 144,
    "start_time": "2024-02-25T10:15:35.138Z"
   },
   {
    "duration": 11,
    "start_time": "2024-02-25T10:15:35.285Z"
   },
   {
    "duration": 20,
    "start_time": "2024-02-25T10:15:35.298Z"
   },
   {
    "duration": 16,
    "start_time": "2024-02-25T10:15:35.319Z"
   },
   {
    "duration": 80,
    "start_time": "2024-02-25T10:15:35.337Z"
   },
   {
    "duration": 13,
    "start_time": "2024-02-25T10:15:35.419Z"
   },
   {
    "duration": 6,
    "start_time": "2024-02-25T10:15:35.434Z"
   },
   {
    "duration": 5,
    "start_time": "2024-02-25T10:15:35.442Z"
   },
   {
    "duration": 6,
    "start_time": "2024-02-25T10:15:35.448Z"
   },
   {
    "duration": 19,
    "start_time": "2024-02-25T10:15:35.456Z"
   },
   {
    "duration": 49,
    "start_time": "2024-02-25T10:15:35.477Z"
   },
   {
    "duration": 304,
    "start_time": "2024-02-25T10:15:35.528Z"
   },
   {
    "duration": 87751,
    "start_time": "2024-02-25T10:15:35.834Z"
   },
   {
    "duration": 90,
    "start_time": "2024-02-25T10:17:03.586Z"
   },
   {
    "duration": 197,
    "start_time": "2024-02-25T10:17:03.678Z"
   },
   {
    "duration": 356,
    "start_time": "2024-02-25T10:17:03.878Z"
   },
   {
    "duration": 301,
    "start_time": "2024-02-25T10:17:04.236Z"
   },
   {
    "duration": 1466,
    "start_time": "2024-02-25T10:17:15.236Z"
   },
   {
    "duration": 44,
    "start_time": "2024-02-25T10:17:16.704Z"
   },
   {
    "duration": 18,
    "start_time": "2024-02-25T10:17:16.750Z"
   },
   {
    "duration": 13,
    "start_time": "2024-02-25T10:17:16.770Z"
   },
   {
    "duration": 12,
    "start_time": "2024-02-25T10:17:16.785Z"
   },
   {
    "duration": 13,
    "start_time": "2024-02-25T10:17:16.798Z"
   },
   {
    "duration": 10,
    "start_time": "2024-02-25T10:17:16.812Z"
   },
   {
    "duration": 13,
    "start_time": "2024-02-25T10:17:16.824Z"
   },
   {
    "duration": 26,
    "start_time": "2024-02-25T10:17:16.838Z"
   },
   {
    "duration": 6,
    "start_time": "2024-02-25T10:17:16.874Z"
   },
   {
    "duration": 1038,
    "start_time": "2024-02-25T10:17:16.881Z"
   },
   {
    "duration": 145,
    "start_time": "2024-02-25T10:17:17.921Z"
   },
   {
    "duration": 137,
    "start_time": "2024-02-25T10:17:18.073Z"
   },
   {
    "duration": 10,
    "start_time": "2024-02-25T10:17:18.212Z"
   },
   {
    "duration": 12,
    "start_time": "2024-02-25T10:17:18.223Z"
   },
   {
    "duration": 6,
    "start_time": "2024-02-25T10:17:18.236Z"
   },
   {
    "duration": 30,
    "start_time": "2024-02-25T10:17:18.243Z"
   },
   {
    "duration": 6,
    "start_time": "2024-02-25T10:17:18.275Z"
   },
   {
    "duration": 4,
    "start_time": "2024-02-25T10:17:18.282Z"
   },
   {
    "duration": 16,
    "start_time": "2024-02-25T10:17:18.288Z"
   },
   {
    "duration": 11,
    "start_time": "2024-02-25T10:17:18.305Z"
   },
   {
    "duration": 80,
    "start_time": "2024-02-25T10:17:18.317Z"
   },
   {
    "duration": 21,
    "start_time": "2024-02-25T10:17:18.399Z"
   },
   {
    "duration": 309,
    "start_time": "2024-02-25T10:17:18.421Z"
   },
   {
    "duration": 86973,
    "start_time": "2024-02-25T10:17:18.732Z"
   },
   {
    "duration": 71,
    "start_time": "2024-02-25T10:18:45.706Z"
   },
   {
    "duration": 200,
    "start_time": "2024-02-25T10:18:45.782Z"
   },
   {
    "duration": 226,
    "start_time": "2024-02-25T10:18:46.079Z"
   },
   {
    "duration": 308,
    "start_time": "2024-02-25T10:18:46.307Z"
   },
   {
    "duration": 87196,
    "start_time": "2024-02-25T10:18:46.617Z"
   },
   {
    "duration": 60,
    "start_time": "2024-02-25T10:20:13.815Z"
   },
   {
    "duration": 102,
    "start_time": "2024-02-25T10:20:13.877Z"
   },
   {
    "duration": 397,
    "start_time": "2024-02-25T10:20:13.981Z"
   },
   {
    "duration": 120832,
    "start_time": "2024-02-25T10:20:14.379Z"
   },
   {
    "duration": 161,
    "start_time": "2024-02-25T10:22:15.213Z"
   },
   {
    "duration": 17,
    "start_time": "2024-02-25T10:22:15.376Z"
   },
   {
    "duration": 173,
    "start_time": "2024-02-25T10:22:15.395Z"
   },
   {
    "duration": 44854,
    "start_time": "2024-02-25T10:22:15.573Z"
   },
   {
    "duration": 46,
    "start_time": "2024-02-25T10:23:00.429Z"
   },
   {
    "duration": 101,
    "start_time": "2024-02-25T10:23:00.478Z"
   },
   {
    "duration": 1363,
    "start_time": "2024-02-25T10:23:00.581Z"
   },
   {
    "duration": 89,
    "start_time": "2024-02-25T10:23:01.946Z"
   },
   {
    "duration": 280,
    "start_time": "2024-02-25T10:23:02.037Z"
   },
   {
    "duration": 38,
    "start_time": "2024-02-25T10:23:02.343Z"
   },
   {
    "duration": 12,
    "start_time": "2024-02-25T10:23:02.382Z"
   },
   {
    "duration": 44418,
    "start_time": "2024-02-25T10:23:07.321Z"
   },
   {
    "duration": 89059,
    "start_time": "2024-02-25T10:23:51.741Z"
   },
   {
    "duration": 0,
    "start_time": "2024-02-25T10:25:20.807Z"
   },
   {
    "duration": 0,
    "start_time": "2024-02-25T10:25:20.808Z"
   },
   {
    "duration": 121556,
    "start_time": "2024-02-25T10:26:08.287Z"
   },
   {
    "duration": 1211,
    "start_time": "2024-02-25T10:41:24.696Z"
   },
   {
    "duration": 1238,
    "start_time": "2024-02-25T10:41:33.164Z"
   },
   {
    "duration": 90043,
    "start_time": "2024-02-25T10:44:38.501Z"
   },
   {
    "duration": 1195,
    "start_time": "2024-02-25T10:46:08.545Z"
   },
   {
    "duration": 88,
    "start_time": "2024-02-25T10:46:09.742Z"
   },
   {
    "duration": 1492,
    "start_time": "2024-02-25T10:49:19.243Z"
   },
   {
    "duration": 43,
    "start_time": "2024-02-25T10:49:20.737Z"
   },
   {
    "duration": 16,
    "start_time": "2024-02-25T10:49:20.782Z"
   },
   {
    "duration": 21,
    "start_time": "2024-02-25T10:49:20.800Z"
   },
   {
    "duration": 4,
    "start_time": "2024-02-25T10:49:20.823Z"
   },
   {
    "duration": 4,
    "start_time": "2024-02-25T10:49:20.829Z"
   },
   {
    "duration": 12,
    "start_time": "2024-02-25T10:49:20.834Z"
   },
   {
    "duration": 14,
    "start_time": "2024-02-25T10:49:20.848Z"
   },
   {
    "duration": 34,
    "start_time": "2024-02-25T10:49:20.873Z"
   },
   {
    "duration": 6,
    "start_time": "2024-02-25T10:49:20.908Z"
   },
   {
    "duration": 1014,
    "start_time": "2024-02-25T10:49:20.915Z"
   },
   {
    "duration": 151,
    "start_time": "2024-02-25T10:49:21.931Z"
   },
   {
    "duration": 142,
    "start_time": "2024-02-25T10:49:22.083Z"
   },
   {
    "duration": 10,
    "start_time": "2024-02-25T10:49:22.228Z"
   },
   {
    "duration": 27,
    "start_time": "2024-02-25T10:49:22.240Z"
   },
   {
    "duration": 19,
    "start_time": "2024-02-25T10:49:22.268Z"
   },
   {
    "duration": 93,
    "start_time": "2024-02-25T10:49:22.289Z"
   },
   {
    "duration": 5,
    "start_time": "2024-02-25T10:49:22.384Z"
   },
   {
    "duration": 9,
    "start_time": "2024-02-25T10:49:22.391Z"
   },
   {
    "duration": 18,
    "start_time": "2024-02-25T10:49:22.402Z"
   },
   {
    "duration": 8,
    "start_time": "2024-02-25T10:49:22.421Z"
   },
   {
    "duration": 13,
    "start_time": "2024-02-25T10:49:22.430Z"
   },
   {
    "duration": 36,
    "start_time": "2024-02-25T10:49:22.445Z"
   },
   {
    "duration": 302,
    "start_time": "2024-02-25T10:49:22.483Z"
   },
   {
    "duration": 89035,
    "start_time": "2024-02-25T10:49:22.787Z"
   },
   {
    "duration": 150,
    "start_time": "2024-02-25T10:50:51.824Z"
   },
   {
    "duration": 197,
    "start_time": "2024-02-25T10:50:51.976Z"
   },
   {
    "duration": 333,
    "start_time": "2024-02-25T10:50:52.175Z"
   },
   {
    "duration": 329,
    "start_time": "2024-02-25T10:50:52.510Z"
   },
   {
    "duration": 89084,
    "start_time": "2024-02-25T10:50:52.841Z"
   },
   {
    "duration": 146,
    "start_time": "2024-02-25T10:52:21.927Z"
   },
   {
    "duration": 17,
    "start_time": "2024-02-25T10:52:22.076Z"
   },
   {
    "duration": 454,
    "start_time": "2024-02-25T10:52:22.095Z"
   },
   {
    "duration": 121497,
    "start_time": "2024-02-25T10:52:22.550Z"
   },
   {
    "duration": 37,
    "start_time": "2024-02-25T10:54:24.048Z"
   },
   {
    "duration": 88,
    "start_time": "2024-02-25T10:54:24.086Z"
   },
   {
    "duration": 240,
    "start_time": "2024-02-25T10:54:24.176Z"
   },
   {
    "duration": 53071,
    "start_time": "2024-02-25T10:54:24.417Z"
   },
   {
    "duration": 16,
    "start_time": "2024-02-25T10:55:17.490Z"
   },
   {
    "duration": 10,
    "start_time": "2024-02-25T10:55:17.574Z"
   },
   {
    "duration": 1252,
    "start_time": "2024-02-25T10:55:17.675Z"
   },
   {
    "duration": 86,
    "start_time": "2024-02-25T10:55:18.928Z"
   },
   {
    "duration": 201,
    "start_time": "2024-02-25T10:55:19.015Z"
   },
   {
    "duration": 23,
    "start_time": "2024-02-25T11:02:35.134Z"
   },
   {
    "duration": 102,
    "start_time": "2024-02-25T11:08:09.481Z"
   },
   {
    "duration": 102,
    "start_time": "2024-02-25T11:09:31.215Z"
   },
   {
    "duration": 99,
    "start_time": "2024-02-25T11:23:14.588Z"
   },
   {
    "duration": 89064,
    "start_time": "2024-02-25T11:24:51.582Z"
   },
   {
    "duration": 121819,
    "start_time": "2024-02-25T11:35:27.935Z"
   },
   {
    "duration": 1560,
    "start_time": "2024-02-25T11:39:02.628Z"
   },
   {
    "duration": 45,
    "start_time": "2024-02-25T11:39:04.190Z"
   },
   {
    "duration": 17,
    "start_time": "2024-02-25T11:39:04.237Z"
   },
   {
    "duration": 13,
    "start_time": "2024-02-25T11:39:04.256Z"
   },
   {
    "duration": 4,
    "start_time": "2024-02-25T11:39:04.271Z"
   },
   {
    "duration": 5,
    "start_time": "2024-02-25T11:39:04.277Z"
   },
   {
    "duration": 19,
    "start_time": "2024-02-25T11:39:04.284Z"
   },
   {
    "duration": 36,
    "start_time": "2024-02-25T11:39:04.305Z"
   },
   {
    "duration": 25,
    "start_time": "2024-02-25T11:39:04.343Z"
   },
   {
    "duration": 6,
    "start_time": "2024-02-25T11:39:04.371Z"
   },
   {
    "duration": 1041,
    "start_time": "2024-02-25T11:39:04.378Z"
   },
   {
    "duration": 154,
    "start_time": "2024-02-25T11:39:05.421Z"
   },
   {
    "duration": 138,
    "start_time": "2024-02-25T11:39:05.576Z"
   },
   {
    "duration": 10,
    "start_time": "2024-02-25T11:39:05.716Z"
   },
   {
    "duration": 17,
    "start_time": "2024-02-25T11:39:05.727Z"
   },
   {
    "duration": 36,
    "start_time": "2024-02-25T11:39:05.746Z"
   },
   {
    "duration": 18,
    "start_time": "2024-02-25T11:39:05.784Z"
   },
   {
    "duration": 30,
    "start_time": "2024-02-25T11:39:05.804Z"
   },
   {
    "duration": 23,
    "start_time": "2024-02-25T11:39:05.835Z"
   },
   {
    "duration": 27,
    "start_time": "2024-02-25T11:39:05.859Z"
   },
   {
    "duration": 27,
    "start_time": "2024-02-25T11:39:05.888Z"
   },
   {
    "duration": 17,
    "start_time": "2024-02-25T11:39:05.917Z"
   },
   {
    "duration": 89,
    "start_time": "2024-02-25T11:39:05.935Z"
   },
   {
    "duration": 298,
    "start_time": "2024-02-25T11:39:06.026Z"
   },
   {
    "duration": 89262,
    "start_time": "2024-02-25T11:39:06.325Z"
   },
   {
    "duration": 84,
    "start_time": "2024-02-25T11:40:35.589Z"
   },
   {
    "duration": 209,
    "start_time": "2024-02-25T11:40:35.676Z"
   },
   {
    "duration": 353,
    "start_time": "2024-02-25T11:40:35.889Z"
   },
   {
    "duration": 312,
    "start_time": "2024-02-25T11:40:36.243Z"
   },
   {
    "duration": 89286,
    "start_time": "2024-02-25T11:40:36.557Z"
   },
   {
    "duration": 39,
    "start_time": "2024-02-25T11:42:05.844Z"
   },
   {
    "duration": 189,
    "start_time": "2024-02-25T11:42:05.888Z"
   },
   {
    "duration": 395,
    "start_time": "2024-02-25T11:42:06.079Z"
   },
   {
    "duration": 258,
    "start_time": "2024-02-25T11:42:06.476Z"
   },
   {
    "duration": 29,
    "start_time": "2024-02-25T11:42:06.736Z"
   },
   {
    "duration": 199,
    "start_time": "2024-02-25T11:42:06.773Z"
   },
   {
    "duration": 183,
    "start_time": "2024-02-25T11:42:06.975Z"
   },
   {
    "duration": 52896,
    "start_time": "2024-02-25T11:42:07.160Z"
   },
   {
    "duration": 33,
    "start_time": "2024-02-25T11:43:00.058Z"
   },
   {
    "duration": 91,
    "start_time": "2024-02-25T11:43:00.093Z"
   },
   {
    "duration": 1263,
    "start_time": "2024-02-25T11:43:00.274Z"
   },
   {
    "duration": 85,
    "start_time": "2024-02-25T11:43:01.539Z"
   },
   {
    "duration": 100,
    "start_time": "2024-02-25T11:43:01.626Z"
   },
   {
    "duration": 0,
    "start_time": "2024-02-25T11:43:01.729Z"
   },
   {
    "duration": 159,
    "start_time": "2024-02-25T11:43:05.267Z"
   },
   {
    "duration": 120465,
    "start_time": "2024-02-25T11:43:13.109Z"
   },
   {
    "duration": 263,
    "start_time": "2024-02-25T11:47:54.613Z"
   },
   {
    "duration": 1220,
    "start_time": "2024-02-25T11:50:50.870Z"
   },
   {
    "duration": 79,
    "start_time": "2024-02-25T11:51:03.849Z"
   },
   {
    "duration": 79,
    "start_time": "2024-02-25T11:51:13.778Z"
   },
   {
    "duration": 268,
    "start_time": "2024-02-25T11:51:31.953Z"
   },
   {
    "duration": 209,
    "start_time": "2024-02-25T11:53:12.954Z"
   },
   {
    "duration": 45,
    "start_time": "2024-02-25T11:53:23.476Z"
   },
   {
    "duration": 58,
    "start_time": "2024-02-25T11:53:26.967Z"
   },
   {
    "duration": 72,
    "start_time": "2024-02-25T11:53:33.413Z"
   },
   {
    "duration": 79,
    "start_time": "2024-02-25T11:53:36.455Z"
   },
   {
    "duration": 94,
    "start_time": "2024-02-25T11:53:41.641Z"
   },
   {
    "duration": 128,
    "start_time": "2024-02-25T11:53:47.191Z"
   },
   {
    "duration": 138,
    "start_time": "2024-02-25T11:53:51.529Z"
   },
   {
    "duration": 160,
    "start_time": "2024-02-25T11:53:54.681Z"
   },
   {
    "duration": 180,
    "start_time": "2024-02-25T11:53:57.836Z"
   },
   {
    "duration": 208,
    "start_time": "2024-02-25T11:54:01.702Z"
   },
   {
    "duration": 237,
    "start_time": "2024-02-25T11:54:04.808Z"
   },
   {
    "duration": 265,
    "start_time": "2024-02-25T11:54:07.186Z"
   },
   {
    "duration": 301,
    "start_time": "2024-02-25T11:54:09.836Z"
   },
   {
    "duration": 314,
    "start_time": "2024-02-25T11:54:12.355Z"
   },
   {
    "duration": 344,
    "start_time": "2024-02-25T11:54:16.622Z"
   },
   {
    "duration": 373,
    "start_time": "2024-02-25T11:54:19.961Z"
   },
   {
    "duration": 416,
    "start_time": "2024-02-25T11:54:25.563Z"
   },
   {
    "duration": 94,
    "start_time": "2024-02-25T11:54:29.657Z"
   },
   {
    "duration": 65,
    "start_time": "2024-02-25T11:54:33.988Z"
   },
   {
    "duration": 73,
    "start_time": "2024-02-25T11:54:37.273Z"
   },
   {
    "duration": 95,
    "start_time": "2024-02-25T11:54:40.431Z"
   },
   {
    "duration": 117,
    "start_time": "2024-02-25T11:54:43.685Z"
   },
   {
    "duration": 137,
    "start_time": "2024-02-25T11:54:47.273Z"
   },
   {
    "duration": 92,
    "start_time": "2024-02-25T11:54:51.099Z"
   },
   {
    "duration": 7826,
    "start_time": "2024-02-25T11:55:27.210Z"
   },
   {
    "duration": 12125,
    "start_time": "2024-02-25T11:55:45.214Z"
   },
   {
    "duration": 1436,
    "start_time": "2024-02-25T11:57:59.830Z"
   },
   {
    "duration": 44,
    "start_time": "2024-02-25T11:58:01.269Z"
   },
   {
    "duration": 18,
    "start_time": "2024-02-25T11:58:01.315Z"
   },
   {
    "duration": 88,
    "start_time": "2024-02-25T11:58:01.335Z"
   },
   {
    "duration": 26,
    "start_time": "2024-02-25T11:58:01.426Z"
   },
   {
    "duration": 81,
    "start_time": "2024-02-25T11:58:01.455Z"
   },
   {
    "duration": 93,
    "start_time": "2024-02-25T11:58:01.538Z"
   },
   {
    "duration": 59,
    "start_time": "2024-02-25T11:58:01.633Z"
   },
   {
    "duration": 49,
    "start_time": "2024-02-25T11:58:01.694Z"
   },
   {
    "duration": 26,
    "start_time": "2024-02-25T11:58:01.745Z"
   },
   {
    "duration": 1033,
    "start_time": "2024-02-25T11:58:01.773Z"
   },
   {
    "duration": 150,
    "start_time": "2024-02-25T11:58:02.808Z"
   },
   {
    "duration": 140,
    "start_time": "2024-02-25T11:58:02.960Z"
   },
   {
    "duration": 11,
    "start_time": "2024-02-25T11:58:03.103Z"
   },
   {
    "duration": 32,
    "start_time": "2024-02-25T11:58:03.116Z"
   },
   {
    "duration": 6,
    "start_time": "2024-02-25T11:58:03.150Z"
   },
   {
    "duration": 90,
    "start_time": "2024-02-25T11:58:03.157Z"
   },
   {
    "duration": 6,
    "start_time": "2024-02-25T11:58:03.249Z"
   },
   {
    "duration": 13,
    "start_time": "2024-02-25T11:58:03.256Z"
   },
   {
    "duration": 6,
    "start_time": "2024-02-25T11:58:03.270Z"
   },
   {
    "duration": 7,
    "start_time": "2024-02-25T11:58:03.277Z"
   },
   {
    "duration": 9,
    "start_time": "2024-02-25T11:58:03.285Z"
   },
   {
    "duration": 26,
    "start_time": "2024-02-25T11:58:03.295Z"
   },
   {
    "duration": 109,
    "start_time": "2024-02-25T11:58:03.323Z"
   },
   {
    "duration": 12103,
    "start_time": "2024-02-25T11:58:03.433Z"
   },
   {
    "duration": 145,
    "start_time": "2024-02-25T11:58:15.538Z"
   },
   {
    "duration": 191,
    "start_time": "2024-02-25T11:58:15.685Z"
   },
   {
    "duration": 300,
    "start_time": "2024-02-25T11:58:15.878Z"
   },
   {
    "duration": 115,
    "start_time": "2024-02-25T11:58:16.180Z"
   },
   {
    "duration": 12087,
    "start_time": "2024-02-25T11:58:16.297Z"
   },
   {
    "duration": 22,
    "start_time": "2024-02-25T11:58:28.385Z"
   },
   {
    "duration": 100,
    "start_time": "2024-02-25T11:58:28.477Z"
   },
   {
    "duration": 133,
    "start_time": "2024-02-25T11:58:28.579Z"
   },
   {
    "duration": 16195,
    "start_time": "2024-02-25T11:58:28.715Z"
   },
   {
    "duration": 60,
    "start_time": "2024-02-25T11:58:44.912Z"
   },
   {
    "duration": 98,
    "start_time": "2024-02-25T11:58:44.975Z"
   },
   {
    "duration": 60,
    "start_time": "2024-02-25T11:58:45.075Z"
   },
   {
    "duration": 8118,
    "start_time": "2024-02-25T11:58:45.137Z"
   },
   {
    "duration": 23,
    "start_time": "2024-02-25T11:58:53.257Z"
   },
   {
    "duration": 96,
    "start_time": "2024-02-25T11:58:53.282Z"
   },
   {
    "duration": 613,
    "start_time": "2024-02-25T11:58:53.383Z"
   },
   {
    "duration": 38,
    "start_time": "2024-02-25T11:58:53.998Z"
   },
   {
    "duration": 250,
    "start_time": "2024-02-25T11:58:54.038Z"
   },
   {
    "duration": 39,
    "start_time": "2024-02-25T11:59:24.096Z"
   },
   {
    "duration": 259,
    "start_time": "2024-02-25T12:04:34.926Z"
   },
   {
    "duration": 32696,
    "start_time": "2024-02-25T12:05:06.064Z"
   },
   {
    "duration": 295,
    "start_time": "2024-02-25T12:06:11.156Z"
   },
   {
    "duration": 1479,
    "start_time": "2024-02-25T12:07:34.835Z"
   },
   {
    "duration": 45,
    "start_time": "2024-02-25T12:07:36.316Z"
   },
   {
    "duration": 17,
    "start_time": "2024-02-25T12:07:36.362Z"
   },
   {
    "duration": 25,
    "start_time": "2024-02-25T12:07:36.381Z"
   },
   {
    "duration": 24,
    "start_time": "2024-02-25T12:07:36.408Z"
   },
   {
    "duration": 43,
    "start_time": "2024-02-25T12:07:36.434Z"
   },
   {
    "duration": 45,
    "start_time": "2024-02-25T12:07:36.479Z"
   },
   {
    "duration": 26,
    "start_time": "2024-02-25T12:07:36.526Z"
   },
   {
    "duration": 48,
    "start_time": "2024-02-25T12:07:36.554Z"
   },
   {
    "duration": 9,
    "start_time": "2024-02-25T12:07:36.605Z"
   },
   {
    "duration": 1060,
    "start_time": "2024-02-25T12:07:36.615Z"
   },
   {
    "duration": 148,
    "start_time": "2024-02-25T12:07:37.677Z"
   },
   {
    "duration": 141,
    "start_time": "2024-02-25T12:07:37.827Z"
   },
   {
    "duration": 14,
    "start_time": "2024-02-25T12:07:37.969Z"
   },
   {
    "duration": 19,
    "start_time": "2024-02-25T12:07:37.984Z"
   },
   {
    "duration": 18,
    "start_time": "2024-02-25T12:07:38.005Z"
   },
   {
    "duration": 16,
    "start_time": "2024-02-25T12:07:38.025Z"
   },
   {
    "duration": 14,
    "start_time": "2024-02-25T12:07:38.043Z"
   },
   {
    "duration": 11,
    "start_time": "2024-02-25T12:07:38.059Z"
   },
   {
    "duration": 13,
    "start_time": "2024-02-25T12:07:38.072Z"
   },
   {
    "duration": 9,
    "start_time": "2024-02-25T12:07:38.087Z"
   },
   {
    "duration": 23,
    "start_time": "2024-02-25T12:07:38.098Z"
   },
   {
    "duration": 97,
    "start_time": "2024-02-25T12:07:38.123Z"
   },
   {
    "duration": 295,
    "start_time": "2024-02-25T12:07:38.222Z"
   },
   {
    "duration": 88981,
    "start_time": "2024-02-25T12:07:38.519Z"
   },
   {
    "duration": 77,
    "start_time": "2024-02-25T12:09:07.502Z"
   },
   {
    "duration": 194,
    "start_time": "2024-02-25T12:09:07.581Z"
   },
   {
    "duration": 340,
    "start_time": "2024-02-25T12:09:07.781Z"
   },
   {
    "duration": 312,
    "start_time": "2024-02-25T12:09:08.124Z"
   },
   {
    "duration": 88323,
    "start_time": "2024-02-25T12:09:08.437Z"
   },
   {
    "duration": 26,
    "start_time": "2024-02-25T12:10:36.762Z"
   },
   {
    "duration": 183,
    "start_time": "2024-02-25T12:10:36.791Z"
   },
   {
    "duration": 390,
    "start_time": "2024-02-25T12:10:36.976Z"
   },
   {
    "duration": 121976,
    "start_time": "2024-02-25T12:10:37.367Z"
   },
   {
    "duration": 46,
    "start_time": "2024-02-25T12:12:39.345Z"
   },
   {
    "duration": 179,
    "start_time": "2024-02-25T12:12:39.396Z"
   },
   {
    "duration": 168,
    "start_time": "2024-02-25T12:12:39.578Z"
   },
   {
    "duration": 52997,
    "start_time": "2024-02-25T12:12:39.747Z"
   },
   {
    "duration": 35,
    "start_time": "2024-02-25T12:13:32.746Z"
   },
   {
    "duration": 93,
    "start_time": "2024-02-25T12:13:32.784Z"
   },
   {
    "duration": 1341,
    "start_time": "2024-02-25T12:13:32.880Z"
   },
   {
    "duration": 89,
    "start_time": "2024-02-25T12:13:34.223Z"
   },
   {
    "duration": 279,
    "start_time": "2024-02-25T12:13:34.313Z"
   },
   {
    "duration": 90,
    "start_time": "2024-02-25T12:14:00.723Z"
   },
   {
    "duration": 60,
    "start_time": "2024-02-25T12:18:56.261Z"
   },
   {
    "duration": 104,
    "start_time": "2024-02-25T12:18:59.707Z"
   },
   {
    "duration": 16123,
    "start_time": "2024-02-25T12:19:28.191Z"
   },
   {
    "duration": 33553,
    "start_time": "2024-02-25T12:20:02.490Z"
   },
   {
    "duration": 58163,
    "start_time": "2024-02-25T12:22:40.547Z"
   },
   {
    "duration": 105,
    "start_time": "2024-02-25T12:24:09.298Z"
   },
   {
    "duration": 57986,
    "start_time": "2024-02-25T12:24:15.356Z"
   },
   {
    "duration": 86,
    "start_time": "2024-02-25T12:25:55.189Z"
   },
   {
    "duration": 20,
    "start_time": "2024-02-25T12:26:43.637Z"
   },
   {
    "duration": 116,
    "start_time": "2024-02-25T12:26:54.333Z"
   },
   {
    "duration": 78795,
    "start_time": "2024-02-25T12:27:06.098Z"
   },
   {
    "duration": 31,
    "start_time": "2024-02-25T12:28:39.925Z"
   },
   {
    "duration": 13,
    "start_time": "2024-02-25T12:28:43.905Z"
   },
   {
    "duration": 149,
    "start_time": "2024-02-25T12:28:49.700Z"
   },
   {
    "duration": 34519,
    "start_time": "2024-02-25T12:28:59.528Z"
   },
   {
    "duration": 54,
    "start_time": "2024-02-25T12:29:59.237Z"
   },
   {
    "duration": 15,
    "start_time": "2024-02-25T12:30:18.814Z"
   },
   {
    "duration": 969,
    "start_time": "2024-02-25T12:31:58.112Z"
   },
   {
    "duration": 71,
    "start_time": "2024-02-25T12:32:01.318Z"
   },
   {
    "duration": 69,
    "start_time": "2024-02-25T12:32:06.325Z"
   },
   {
    "duration": 63,
    "start_time": "2024-02-25T12:32:15.578Z"
   },
   {
    "duration": 8,
    "start_time": "2024-02-25T12:32:27.956Z"
   },
   {
    "duration": 988,
    "start_time": "2024-02-25T12:32:31.545Z"
   },
   {
    "duration": 66,
    "start_time": "2024-02-25T12:32:35.117Z"
   },
   {
    "duration": 259,
    "start_time": "2024-02-25T12:32:49.228Z"
   },
   {
    "duration": 289,
    "start_time": "2024-02-25T12:36:10.952Z"
   },
   {
    "duration": 89791,
    "start_time": "2024-02-25T12:36:20.482Z"
   },
   {
    "duration": 327,
    "start_time": "2024-02-25T12:37:50.275Z"
   },
   {
    "duration": 1499,
    "start_time": "2024-02-25T12:38:45.171Z"
   },
   {
    "duration": 45,
    "start_time": "2024-02-25T12:38:46.672Z"
   },
   {
    "duration": 18,
    "start_time": "2024-02-25T12:38:46.719Z"
   },
   {
    "duration": 15,
    "start_time": "2024-02-25T12:38:46.739Z"
   },
   {
    "duration": 4,
    "start_time": "2024-02-25T12:38:46.757Z"
   },
   {
    "duration": 11,
    "start_time": "2024-02-25T12:38:46.762Z"
   },
   {
    "duration": 8,
    "start_time": "2024-02-25T12:38:46.774Z"
   },
   {
    "duration": 13,
    "start_time": "2024-02-25T12:38:46.784Z"
   },
   {
    "duration": 28,
    "start_time": "2024-02-25T12:38:46.798Z"
   },
   {
    "duration": 5,
    "start_time": "2024-02-25T12:38:46.828Z"
   },
   {
    "duration": 1062,
    "start_time": "2024-02-25T12:38:46.834Z"
   },
   {
    "duration": 154,
    "start_time": "2024-02-25T12:38:47.898Z"
   },
   {
    "duration": 142,
    "start_time": "2024-02-25T12:38:48.054Z"
   },
   {
    "duration": 10,
    "start_time": "2024-02-25T12:38:48.200Z"
   },
   {
    "duration": 29,
    "start_time": "2024-02-25T12:38:48.212Z"
   },
   {
    "duration": 6,
    "start_time": "2024-02-25T12:38:48.243Z"
   },
   {
    "duration": 88,
    "start_time": "2024-02-25T12:38:48.250Z"
   },
   {
    "duration": 7,
    "start_time": "2024-02-25T12:38:48.340Z"
   },
   {
    "duration": 6,
    "start_time": "2024-02-25T12:38:48.348Z"
   },
   {
    "duration": 4,
    "start_time": "2024-02-25T12:38:48.355Z"
   },
   {
    "duration": 3,
    "start_time": "2024-02-25T12:38:48.373Z"
   },
   {
    "duration": 8,
    "start_time": "2024-02-25T12:38:48.378Z"
   },
   {
    "duration": 22,
    "start_time": "2024-02-25T12:38:48.387Z"
   },
   {
    "duration": 320,
    "start_time": "2024-02-25T12:38:48.410Z"
   },
   {
    "duration": 88921,
    "start_time": "2024-02-25T12:38:48.731Z"
   },
   {
    "duration": 35,
    "start_time": "2024-02-25T12:40:17.653Z"
   },
   {
    "duration": 299,
    "start_time": "2024-02-25T12:40:17.777Z"
   },
   {
    "duration": 273,
    "start_time": "2024-02-25T12:40:18.079Z"
   },
   {
    "duration": 311,
    "start_time": "2024-02-25T12:40:18.354Z"
   },
   {
    "duration": 88819,
    "start_time": "2024-02-25T12:40:18.672Z"
   },
   {
    "duration": 23,
    "start_time": "2024-02-25T12:41:47.493Z"
   },
   {
    "duration": 98,
    "start_time": "2024-02-25T12:41:47.575Z"
   },
   {
    "duration": 387,
    "start_time": "2024-02-25T12:41:47.675Z"
   },
   {
    "duration": 120991,
    "start_time": "2024-02-25T12:41:48.064Z"
   },
   {
    "duration": 117,
    "start_time": "2024-02-25T12:43:49.057Z"
   },
   {
    "duration": 98,
    "start_time": "2024-02-25T12:43:49.176Z"
   },
   {
    "duration": 53,
    "start_time": "2024-02-25T12:43:49.276Z"
   },
   {
    "duration": 34613,
    "start_time": "2024-02-25T12:43:49.331Z"
   },
   {
    "duration": 28,
    "start_time": "2024-02-25T12:44:23.946Z"
   },
   {
    "duration": 10,
    "start_time": "2024-02-25T12:44:23.977Z"
   },
   {
    "duration": 1295,
    "start_time": "2024-02-25T12:44:24.078Z"
   },
   {
    "duration": 76,
    "start_time": "2024-02-25T12:44:25.375Z"
   },
   {
    "duration": 277,
    "start_time": "2024-02-25T12:44:25.453Z"
   },
   {
    "duration": 94,
    "start_time": "2024-02-25T12:45:11.529Z"
   },
   {
    "duration": 213,
    "start_time": "2024-02-25T12:45:27.777Z"
   },
   {
    "duration": 33,
    "start_time": "2024-02-25T12:45:32.270Z"
   },
   {
    "duration": 47,
    "start_time": "2024-02-25T12:45:35.416Z"
   },
   {
    "duration": 68,
    "start_time": "2024-02-25T12:45:40.286Z"
   },
   {
    "duration": 76,
    "start_time": "2024-02-25T12:45:46.206Z"
   },
   {
    "duration": 94,
    "start_time": "2024-02-25T12:45:49.380Z"
   },
   {
    "duration": 124,
    "start_time": "2024-02-25T12:45:54.672Z"
   },
   {
    "duration": 136,
    "start_time": "2024-02-25T12:45:59.352Z"
   },
   {
    "duration": 161,
    "start_time": "2024-02-25T12:46:02.798Z"
   },
   {
    "duration": 188,
    "start_time": "2024-02-25T12:46:06.175Z"
   },
   {
    "duration": 221,
    "start_time": "2024-02-25T12:46:09.371Z"
   },
   {
    "duration": 235,
    "start_time": "2024-02-25T12:46:12.479Z"
   },
   {
    "duration": 261,
    "start_time": "2024-02-25T12:46:15.853Z"
   },
   {
    "duration": 288,
    "start_time": "2024-02-25T12:46:20.573Z"
   },
   {
    "duration": 333,
    "start_time": "2024-02-25T12:46:24.976Z"
   },
   {
    "duration": 341,
    "start_time": "2024-02-25T12:46:28.604Z"
   },
   {
    "duration": 374,
    "start_time": "2024-02-25T12:46:32.099Z"
   },
   {
    "duration": 410,
    "start_time": "2024-02-25T12:46:37.428Z"
   },
   {
    "duration": 95,
    "start_time": "2024-02-25T12:46:41.822Z"
   },
   {
    "duration": 102,
    "start_time": "2024-02-25T12:46:51.640Z"
   },
   {
    "duration": 125,
    "start_time": "2024-02-25T12:47:00.060Z"
   },
   {
    "duration": 27254,
    "start_time": "2024-02-25T12:47:30.419Z"
   },
   {
    "duration": 112114,
    "start_time": "2024-02-25T12:48:04.809Z"
   },
   {
    "duration": 96634,
    "start_time": "2024-02-25T12:50:10.289Z"
   },
   {
    "duration": 96669,
    "start_time": "2024-02-25T12:52:16.113Z"
   },
   {
    "duration": 131860,
    "start_time": "2024-02-25T12:54:18.479Z"
   },
   {
    "duration": 42304,
    "start_time": "2024-02-25T12:57:14.608Z"
   },
   {
    "duration": 79,
    "start_time": "2024-02-25T12:58:40.198Z"
   },
   {
    "duration": 291,
    "start_time": "2024-02-25T12:59:05.455Z"
   },
   {
    "duration": 100120,
    "start_time": "2024-02-25T12:59:25.173Z"
   },
   {
    "duration": 96,
    "start_time": "2024-02-25T13:01:25.084Z"
   },
   {
    "duration": 229,
    "start_time": "2024-02-25T13:01:40.555Z"
   },
   {
    "duration": 98787,
    "start_time": "2024-02-25T13:02:49.989Z"
   },
   {
    "duration": 123,
    "start_time": "2024-02-25T13:04:53.014Z"
   },
   {
    "duration": 134453,
    "start_time": "2024-02-25T13:04:55.921Z"
   },
   {
    "duration": 48,
    "start_time": "2024-02-25T13:07:24.830Z"
   },
   {
    "duration": 57198,
    "start_time": "2024-02-25T13:07:40.312Z"
   },
   {
    "duration": 33611,
    "start_time": "2024-02-25T13:09:25.611Z"
   },
   {
    "duration": 25,
    "start_time": "2024-02-25T13:10:20.584Z"
   },
   {
    "duration": 78,
    "start_time": "2024-02-25T13:10:24.200Z"
   },
   {
    "duration": 210,
    "start_time": "2024-02-25T13:10:26.671Z"
   },
   {
    "duration": 33647,
    "start_time": "2024-02-25T13:10:39.342Z"
   },
   {
    "duration": 45725,
    "start_time": "2024-02-25T13:11:31.216Z"
   },
   {
    "duration": 20148,
    "start_time": "2024-02-25T13:12:37.512Z"
   },
   {
    "duration": 8,
    "start_time": "2024-02-25T13:13:13.227Z"
   },
   {
    "duration": 729,
    "start_time": "2024-02-25T13:13:14.615Z"
   },
   {
    "duration": 50,
    "start_time": "2024-02-25T13:13:17.557Z"
   },
   {
    "duration": 129,
    "start_time": "2024-02-25T13:13:40.065Z"
   },
   {
    "duration": 18,
    "start_time": "2024-02-25T13:13:46.607Z"
   },
   {
    "duration": 302,
    "start_time": "2024-02-25T13:13:53.684Z"
   },
   {
    "duration": 96,
    "start_time": "2024-02-25T13:14:00.502Z"
   },
   {
    "duration": 51651,
    "start_time": "2024-02-25T13:14:18.385Z"
   },
   {
    "duration": 92150,
    "start_time": "2024-02-25T13:15:16.923Z"
   },
   {
    "duration": 64338,
    "start_time": "2024-02-25T13:17:19.124Z"
   },
   {
    "duration": 41437,
    "start_time": "2024-02-25T13:18:56.648Z"
   },
   {
    "duration": 80334,
    "start_time": "2024-02-25T13:19:52.898Z"
   },
   {
    "duration": 80284,
    "start_time": "2024-02-25T13:21:58.992Z"
   },
   {
    "duration": 109652,
    "start_time": "2024-02-25T13:23:30.981Z"
   },
   {
    "duration": 83496,
    "start_time": "2024-02-25T13:28:56.553Z"
   },
   {
    "duration": 174,
    "start_time": "2024-02-25T13:30:33.138Z"
   },
   {
    "duration": 211797,
    "start_time": "2024-02-25T13:30:46.508Z"
   },
   {
    "duration": 300,
    "start_time": "2024-02-25T13:34:18.588Z"
   },
   {
    "duration": 23644,
    "start_time": "2024-02-25T13:49:46.739Z"
   },
   {
    "duration": 288,
    "start_time": "2024-02-25T13:50:29.454Z"
   },
   {
    "duration": 103,
    "start_time": "2024-02-25T13:50:43.926Z"
   },
   {
    "duration": 33749,
    "start_time": "2024-02-25T13:50:49.251Z"
   },
   {
    "duration": 303,
    "start_time": "2024-02-25T13:51:45.164Z"
   },
   {
    "duration": 33471,
    "start_time": "2024-02-25T13:51:59.475Z"
   },
   {
    "duration": 19914,
    "start_time": "2024-02-25T13:52:32.947Z"
   },
   {
    "duration": 371,
    "start_time": "2024-02-25T13:58:13.520Z"
   },
   {
    "duration": 1097,
    "start_time": "2024-02-25T13:59:52.046Z"
   },
   {
    "duration": 71,
    "start_time": "2024-02-25T13:59:57.836Z"
   },
   {
    "duration": 79083,
    "start_time": "2024-02-25T14:00:12.714Z"
   },
   {
    "duration": 126403,
    "start_time": "2024-02-25T14:01:44.025Z"
   },
   {
    "duration": 48889,
    "start_time": "2024-02-25T14:04:07.048Z"
   },
   {
    "duration": 45366,
    "start_time": "2024-02-25T14:05:08.540Z"
   },
   {
    "duration": 83284,
    "start_time": "2024-02-25T14:06:03.637Z"
   },
   {
    "duration": 1410,
    "start_time": "2024-02-25T14:15:07.630Z"
   },
   {
    "duration": 46,
    "start_time": "2024-02-25T14:15:09.042Z"
   },
   {
    "duration": 29,
    "start_time": "2024-02-25T14:15:09.096Z"
   },
   {
    "duration": 16,
    "start_time": "2024-02-25T14:15:09.128Z"
   },
   {
    "duration": 47,
    "start_time": "2024-02-25T14:15:09.146Z"
   },
   {
    "duration": 30,
    "start_time": "2024-02-25T14:15:09.195Z"
   },
   {
    "duration": 13,
    "start_time": "2024-02-25T14:15:09.226Z"
   },
   {
    "duration": 12,
    "start_time": "2024-02-25T14:15:09.241Z"
   },
   {
    "duration": 27,
    "start_time": "2024-02-25T14:15:09.255Z"
   },
   {
    "duration": 5,
    "start_time": "2024-02-25T14:15:09.285Z"
   },
   {
    "duration": 985,
    "start_time": "2024-02-25T14:15:09.292Z"
   },
   {
    "duration": 163,
    "start_time": "2024-02-25T14:15:10.279Z"
   },
   {
    "duration": 134,
    "start_time": "2024-02-25T14:15:10.443Z"
   },
   {
    "duration": 10,
    "start_time": "2024-02-25T14:15:10.579Z"
   },
   {
    "duration": 20,
    "start_time": "2024-02-25T14:15:10.590Z"
   },
   {
    "duration": 5,
    "start_time": "2024-02-25T14:15:10.612Z"
   },
   {
    "duration": 6,
    "start_time": "2024-02-25T14:15:10.619Z"
   },
   {
    "duration": 5,
    "start_time": "2024-02-25T14:15:10.627Z"
   },
   {
    "duration": 6,
    "start_time": "2024-02-25T14:15:10.633Z"
   },
   {
    "duration": 3,
    "start_time": "2024-02-25T14:15:10.640Z"
   },
   {
    "duration": 29,
    "start_time": "2024-02-25T14:15:10.645Z"
   },
   {
    "duration": 84,
    "start_time": "2024-02-25T14:15:10.676Z"
   },
   {
    "duration": 30,
    "start_time": "2024-02-25T14:15:10.762Z"
   },
   {
    "duration": 306,
    "start_time": "2024-02-25T14:15:10.793Z"
   },
   {
    "duration": 1465,
    "start_time": "2024-02-25T14:23:17.070Z"
   },
   {
    "duration": 44,
    "start_time": "2024-02-25T14:23:18.537Z"
   },
   {
    "duration": 18,
    "start_time": "2024-02-25T14:23:18.583Z"
   },
   {
    "duration": 17,
    "start_time": "2024-02-25T14:23:18.602Z"
   },
   {
    "duration": 10,
    "start_time": "2024-02-25T14:23:18.621Z"
   },
   {
    "duration": 7,
    "start_time": "2024-02-25T14:23:18.633Z"
   },
   {
    "duration": 10,
    "start_time": "2024-02-25T14:23:18.641Z"
   },
   {
    "duration": 27,
    "start_time": "2024-02-25T14:23:18.653Z"
   },
   {
    "duration": 37,
    "start_time": "2024-02-25T14:23:18.681Z"
   },
   {
    "duration": 5,
    "start_time": "2024-02-25T14:23:18.721Z"
   },
   {
    "duration": 981,
    "start_time": "2024-02-25T14:23:18.727Z"
   },
   {
    "duration": 176,
    "start_time": "2024-02-25T14:23:19.710Z"
   },
   {
    "duration": 132,
    "start_time": "2024-02-25T14:23:19.887Z"
   },
   {
    "duration": 9,
    "start_time": "2024-02-25T14:23:20.021Z"
   },
   {
    "duration": 13,
    "start_time": "2024-02-25T14:23:20.032Z"
   },
   {
    "duration": 26,
    "start_time": "2024-02-25T14:23:20.047Z"
   },
   {
    "duration": 10,
    "start_time": "2024-02-25T14:23:20.074Z"
   },
   {
    "duration": 5,
    "start_time": "2024-02-25T14:23:20.086Z"
   },
   {
    "duration": 6,
    "start_time": "2024-02-25T14:23:20.093Z"
   },
   {
    "duration": 3,
    "start_time": "2024-02-25T14:23:20.101Z"
   },
   {
    "duration": 7,
    "start_time": "2024-02-25T14:23:20.105Z"
   },
   {
    "duration": 7,
    "start_time": "2024-02-25T14:23:20.114Z"
   },
   {
    "duration": 111,
    "start_time": "2024-02-25T14:23:20.122Z"
   },
   {
    "duration": 300,
    "start_time": "2024-02-25T14:23:20.235Z"
   },
   {
    "duration": 88617,
    "start_time": "2024-02-25T14:23:20.537Z"
   },
   {
    "duration": 28,
    "start_time": "2024-02-25T14:24:49.156Z"
   },
   {
    "duration": 203,
    "start_time": "2024-02-25T14:24:49.272Z"
   },
   {
    "duration": 319,
    "start_time": "2024-02-25T14:24:49.480Z"
   },
   {
    "duration": 325,
    "start_time": "2024-02-25T14:24:49.801Z"
   },
   {
    "duration": 33355,
    "start_time": "2024-02-25T14:24:50.128Z"
   },
   {
    "duration": 28,
    "start_time": "2024-02-25T14:25:23.485Z"
   },
   {
    "duration": 95,
    "start_time": "2024-02-25T14:25:23.582Z"
   },
   {
    "duration": 382,
    "start_time": "2024-02-25T14:25:23.679Z"
   },
   {
    "duration": 45101,
    "start_time": "2024-02-25T14:25:24.063Z"
   },
   {
    "duration": 33,
    "start_time": "2024-02-25T14:26:09.166Z"
   },
   {
    "duration": 75,
    "start_time": "2024-02-25T14:26:09.202Z"
   },
   {
    "duration": 245,
    "start_time": "2024-02-25T14:26:09.279Z"
   },
   {
    "duration": 19812,
    "start_time": "2024-02-25T14:26:09.525Z"
   },
   {
    "duration": 36,
    "start_time": "2024-02-25T14:26:29.338Z"
   },
   {
    "duration": 9,
    "start_time": "2024-02-25T14:26:29.377Z"
   },
   {
    "duration": 780,
    "start_time": "2024-02-25T14:26:29.472Z"
   },
   {
    "duration": 58,
    "start_time": "2024-02-25T14:26:30.254Z"
   },
   {
    "duration": 245,
    "start_time": "2024-02-25T14:26:30.313Z"
   },
   {
    "duration": 47598,
    "start_time": "2024-02-25T14:30:08.166Z"
   },
   {
    "duration": 101,
    "start_time": "2024-02-25T14:30:55.767Z"
   },
   {
    "duration": 44,
    "start_time": "2024-02-25T14:30:55.873Z"
   },
   {
    "duration": 95,
    "start_time": "2024-02-25T14:32:05.792Z"
   },
   {
    "duration": 31623,
    "start_time": "2024-02-25T14:32:31.329Z"
   },
   {
    "duration": 1396,
    "start_time": "2024-02-25T14:39:14.231Z"
   },
   {
    "duration": 44,
    "start_time": "2024-02-25T14:39:15.629Z"
   },
   {
    "duration": 17,
    "start_time": "2024-02-25T14:39:15.675Z"
   },
   {
    "duration": 39,
    "start_time": "2024-02-25T14:39:15.693Z"
   },
   {
    "duration": 5,
    "start_time": "2024-02-25T14:39:15.735Z"
   },
   {
    "duration": 6,
    "start_time": "2024-02-25T14:39:15.742Z"
   },
   {
    "duration": 10,
    "start_time": "2024-02-25T14:39:15.750Z"
   },
   {
    "duration": 15,
    "start_time": "2024-02-25T14:39:15.770Z"
   },
   {
    "duration": 25,
    "start_time": "2024-02-25T14:39:15.787Z"
   },
   {
    "duration": 6,
    "start_time": "2024-02-25T14:39:15.813Z"
   },
   {
    "duration": 1030,
    "start_time": "2024-02-25T14:39:15.820Z"
   },
   {
    "duration": 150,
    "start_time": "2024-02-25T14:39:16.851Z"
   },
   {
    "duration": 147,
    "start_time": "2024-02-25T14:39:17.002Z"
   },
   {
    "duration": 22,
    "start_time": "2024-02-25T14:39:17.153Z"
   },
   {
    "duration": 12,
    "start_time": "2024-02-25T14:39:17.176Z"
   },
   {
    "duration": 8,
    "start_time": "2024-02-25T14:39:17.190Z"
   },
   {
    "duration": 94,
    "start_time": "2024-02-25T14:39:17.200Z"
   },
   {
    "duration": 5,
    "start_time": "2024-02-25T14:39:17.295Z"
   },
   {
    "duration": 5,
    "start_time": "2024-02-25T14:39:17.302Z"
   },
   {
    "duration": 5,
    "start_time": "2024-02-25T14:39:17.308Z"
   },
   {
    "duration": 4,
    "start_time": "2024-02-25T14:39:17.315Z"
   },
   {
    "duration": 7,
    "start_time": "2024-02-25T14:39:17.321Z"
   },
   {
    "duration": 47,
    "start_time": "2024-02-25T14:39:17.329Z"
   },
   {
    "duration": 297,
    "start_time": "2024-02-25T14:39:17.378Z"
   },
   {
    "duration": 72933,
    "start_time": "2024-02-25T14:39:17.676Z"
   },
   {
    "duration": 162,
    "start_time": "2024-02-25T14:40:30.611Z"
   },
   {
    "duration": 200,
    "start_time": "2024-02-25T14:40:30.775Z"
   },
   {
    "duration": 302,
    "start_time": "2024-02-25T14:40:30.977Z"
   },
   {
    "duration": 310,
    "start_time": "2024-02-25T14:40:31.281Z"
   },
   {
    "duration": 33641,
    "start_time": "2024-02-25T14:40:31.593Z"
   },
   {
    "duration": 44,
    "start_time": "2024-02-25T14:41:05.236Z"
   },
   {
    "duration": 101,
    "start_time": "2024-02-25T14:41:05.282Z"
   },
   {
    "duration": 442,
    "start_time": "2024-02-25T14:41:05.385Z"
   },
   {
    "duration": 45325,
    "start_time": "2024-02-25T14:41:05.828Z"
   },
   {
    "duration": 124,
    "start_time": "2024-02-25T14:41:51.155Z"
   },
   {
    "duration": 94,
    "start_time": "2024-02-25T14:41:51.282Z"
   },
   {
    "duration": 169,
    "start_time": "2024-02-25T14:41:51.377Z"
   },
   {
    "duration": 20091,
    "start_time": "2024-02-25T14:41:51.548Z"
   },
   {
    "duration": 33,
    "start_time": "2024-02-25T14:42:11.641Z"
   },
   {
    "duration": 97,
    "start_time": "2024-02-25T14:42:11.676Z"
   },
   {
    "duration": 803,
    "start_time": "2024-02-25T14:42:11.779Z"
   },
   {
    "duration": 52,
    "start_time": "2024-02-25T14:42:12.584Z"
   },
   {
    "duration": 256,
    "start_time": "2024-02-25T14:42:12.638Z"
   },
   {
    "duration": 12534,
    "start_time": "2024-02-25T14:42:12.896Z"
   },
   {
    "duration": 58343,
    "start_time": "2024-02-25T14:42:37.534Z"
   },
   {
    "duration": 103,
    "start_time": "2024-02-25T14:43:35.879Z"
   },
   {
    "duration": 19330,
    "start_time": "2024-02-25T14:43:48.106Z"
   },
   {
    "duration": 49248,
    "start_time": "2024-02-25T14:48:02.696Z"
   },
   {
    "duration": 22653,
    "start_time": "2024-02-25T14:50:36.813Z"
   },
   {
    "duration": 299,
    "start_time": "2024-02-25T14:50:59.467Z"
   },
   {
    "duration": 33498,
    "start_time": "2024-02-25T14:51:09.379Z"
   },
   {
    "duration": 49277,
    "start_time": "2024-02-25T14:51:50.263Z"
   },
   {
    "duration": 41173,
    "start_time": "2024-02-25T14:52:55.281Z"
   },
   {
    "duration": 177,
    "start_time": "2024-02-25T14:53:55.806Z"
   },
   {
    "duration": 208,
    "start_time": "2024-02-25T14:53:57.383Z"
   },
   {
    "duration": 306,
    "start_time": "2024-02-25T14:54:11.803Z"
   },
   {
    "duration": 41412,
    "start_time": "2024-02-25T14:54:13.729Z"
   },
   {
    "duration": 26,
    "start_time": "2024-02-25T14:55:24.979Z"
   },
   {
    "duration": 12,
    "start_time": "2024-02-25T14:55:27.992Z"
   },
   {
    "duration": 370,
    "start_time": "2024-02-25T14:55:32.661Z"
   },
   {
    "duration": 54998,
    "start_time": "2024-02-25T14:55:38.438Z"
   },
   {
    "duration": 14,
    "start_time": "2024-02-25T14:56:50.114Z"
   },
   {
    "duration": 145,
    "start_time": "2024-02-25T14:56:56.733Z"
   },
   {
    "duration": 24448,
    "start_time": "2024-02-25T14:57:02.674Z"
   },
   {
    "duration": 7,
    "start_time": "2024-02-25T14:58:15.357Z"
   },
   {
    "duration": 852,
    "start_time": "2024-02-25T14:58:27.800Z"
   },
   {
    "duration": 57,
    "start_time": "2024-02-25T14:58:32.350Z"
   },
   {
    "duration": 26984,
    "start_time": "2024-02-25T14:59:01.591Z"
   },
   {
    "duration": 27014,
    "start_time": "2024-02-25T15:00:13.643Z"
   },
   {
    "duration": 109,
    "start_time": "2024-02-25T15:01:00.768Z"
   },
   {
    "duration": 205,
    "start_time": "2024-02-25T15:01:01.710Z"
   },
   {
    "duration": 303,
    "start_time": "2024-02-25T15:01:04.670Z"
   },
   {
    "duration": 27092,
    "start_time": "2024-02-25T15:01:09.634Z"
   },
   {
    "duration": 411,
    "start_time": "2024-02-25T15:01:53.123Z"
   },
   {
    "duration": 36492,
    "start_time": "2024-02-25T15:01:54.705Z"
   },
   {
    "duration": 16170,
    "start_time": "2024-02-25T15:02:53.521Z"
   },
   {
    "duration": 9,
    "start_time": "2024-02-25T15:03:17.744Z"
   },
   {
    "duration": 647,
    "start_time": "2024-02-25T15:03:18.235Z"
   },
   {
    "duration": 45,
    "start_time": "2024-02-25T15:03:22.313Z"
   },
   {
    "duration": 1479,
    "start_time": "2024-02-25T15:04:34.033Z"
   },
   {
    "duration": 44,
    "start_time": "2024-02-25T15:04:35.514Z"
   },
   {
    "duration": 18,
    "start_time": "2024-02-25T15:04:35.560Z"
   },
   {
    "duration": 28,
    "start_time": "2024-02-25T15:04:35.579Z"
   },
   {
    "duration": 14,
    "start_time": "2024-02-25T15:04:35.610Z"
   },
   {
    "duration": 22,
    "start_time": "2024-02-25T15:04:35.625Z"
   },
   {
    "duration": 24,
    "start_time": "2024-02-25T15:04:35.648Z"
   },
   {
    "duration": 23,
    "start_time": "2024-02-25T15:04:35.673Z"
   },
   {
    "duration": 26,
    "start_time": "2024-02-25T15:04:35.698Z"
   },
   {
    "duration": 5,
    "start_time": "2024-02-25T15:04:35.726Z"
   },
   {
    "duration": 1021,
    "start_time": "2024-02-25T15:04:35.733Z"
   },
   {
    "duration": 148,
    "start_time": "2024-02-25T15:04:36.756Z"
   },
   {
    "duration": 153,
    "start_time": "2024-02-25T15:04:36.906Z"
   },
   {
    "duration": 17,
    "start_time": "2024-02-25T15:04:37.063Z"
   },
   {
    "duration": 14,
    "start_time": "2024-02-25T15:04:37.081Z"
   },
   {
    "duration": 21,
    "start_time": "2024-02-25T15:04:37.096Z"
   },
   {
    "duration": 90,
    "start_time": "2024-02-25T15:04:37.119Z"
   },
   {
    "duration": 18,
    "start_time": "2024-02-25T15:04:37.211Z"
   },
   {
    "duration": 15,
    "start_time": "2024-02-25T15:04:37.231Z"
   },
   {
    "duration": 22,
    "start_time": "2024-02-25T15:04:37.247Z"
   },
   {
    "duration": 16,
    "start_time": "2024-02-25T15:04:37.270Z"
   },
   {
    "duration": 28,
    "start_time": "2024-02-25T15:04:37.288Z"
   },
   {
    "duration": 35,
    "start_time": "2024-02-25T15:04:37.317Z"
   },
   {
    "duration": 284,
    "start_time": "2024-02-25T15:04:37.353Z"
   },
   {
    "duration": 88337,
    "start_time": "2024-02-25T15:04:37.638Z"
   },
   {
    "duration": 24,
    "start_time": "2024-02-25T15:06:05.977Z"
   },
   {
    "duration": 278,
    "start_time": "2024-02-25T15:06:06.003Z"
   },
   {
    "duration": 247,
    "start_time": "2024-02-25T15:06:06.372Z"
   },
   {
    "duration": 297,
    "start_time": "2024-02-25T15:06:06.620Z"
   },
   {
    "duration": 88456,
    "start_time": "2024-02-25T15:06:06.919Z"
   },
   {
    "duration": 22,
    "start_time": "2024-02-25T15:07:35.377Z"
   },
   {
    "duration": 176,
    "start_time": "2024-02-25T15:07:35.403Z"
   },
   {
    "duration": 392,
    "start_time": "2024-02-25T15:07:35.581Z"
   },
   {
    "duration": 120009,
    "start_time": "2024-02-25T15:07:35.975Z"
   },
   {
    "duration": 90,
    "start_time": "2024-02-25T15:09:35.985Z"
   },
   {
    "duration": 99,
    "start_time": "2024-02-25T15:09:36.077Z"
   },
   {
    "duration": 173,
    "start_time": "2024-02-25T15:09:36.178Z"
   },
   {
    "duration": 52822,
    "start_time": "2024-02-25T15:09:36.353Z"
   },
   {
    "duration": 16,
    "start_time": "2024-02-25T15:10:29.177Z"
   },
   {
    "duration": 80,
    "start_time": "2024-02-25T15:10:29.195Z"
   },
   {
    "duration": 1296,
    "start_time": "2024-02-25T15:10:29.282Z"
   },
   {
    "duration": 79,
    "start_time": "2024-02-25T15:10:30.579Z"
   },
   {
    "duration": 280,
    "start_time": "2024-02-25T15:10:30.659Z"
   },
   {
    "duration": 97,
    "start_time": "2024-02-25T15:10:56.293Z"
   },
   {
    "duration": 16533,
    "start_time": "2024-02-25T15:11:02.869Z"
   },
   {
    "duration": 104,
    "start_time": "2024-02-25T15:12:02.877Z"
   },
   {
    "duration": 16876,
    "start_time": "2024-02-25T15:12:09.101Z"
   },
   {
    "duration": 119,
    "start_time": "2024-02-25T15:13:50.415Z"
   },
   {
    "duration": 22227,
    "start_time": "2024-02-25T15:14:06.332Z"
   },
   {
    "duration": 56,
    "start_time": "2024-02-25T15:15:02.347Z"
   },
   {
    "duration": 10963,
    "start_time": "2024-02-25T15:15:16.622Z"
   },
   {
    "duration": 101,
    "start_time": "2024-02-25T15:15:43.074Z"
   },
   {
    "duration": 8,
    "start_time": "2024-02-25T15:16:02.204Z"
   },
   {
    "duration": 609,
    "start_time": "2024-02-25T15:16:03.968Z"
   },
   {
    "duration": 41,
    "start_time": "2024-02-25T15:16:08.665Z"
   },
   {
    "duration": 290,
    "start_time": "2024-02-25T15:16:31.459Z"
   },
   {
    "duration": 57966,
    "start_time": "2024-02-25T15:16:38.944Z"
   },
   {
    "duration": 19705,
    "start_time": "2024-02-25T15:19:38.288Z"
   },
   {
    "duration": 26024,
    "start_time": "2024-02-25T15:20:55.664Z"
   },
   {
    "duration": 13124,
    "start_time": "2024-02-25T15:21:42.840Z"
   },
   {
    "duration": 8,
    "start_time": "2024-02-25T15:22:12.914Z"
   },
   {
    "duration": 639,
    "start_time": "2024-02-25T15:22:14.282Z"
   },
   {
    "duration": 41,
    "start_time": "2024-02-25T15:22:19.780Z"
   },
   {
    "duration": 359,
    "start_time": "2024-02-25T15:22:43.214Z"
   },
   {
    "duration": 289,
    "start_time": "2024-02-25T15:22:46.547Z"
   },
   {
    "duration": 100098,
    "start_time": "2024-02-25T15:22:52.997Z"
   },
   {
    "duration": 33894,
    "start_time": "2024-02-25T15:24:43.685Z"
   },
   {
    "duration": 30,
    "start_time": "2024-02-25T15:25:31.423Z"
   },
   {
    "duration": 75,
    "start_time": "2024-02-25T15:25:34.122Z"
   },
   {
    "duration": 211,
    "start_time": "2024-02-25T15:25:35.601Z"
   },
   {
    "duration": 310,
    "start_time": "2024-02-25T15:25:47.077Z"
   },
   {
    "duration": 33583,
    "start_time": "2024-02-25T15:25:54.305Z"
   },
   {
    "duration": 385,
    "start_time": "2024-02-25T15:26:41.078Z"
   },
   {
    "duration": 45692,
    "start_time": "2024-02-25T15:26:48.965Z"
   },
   {
    "duration": 149,
    "start_time": "2024-02-25T15:27:50.242Z"
   },
   {
    "duration": 20105,
    "start_time": "2024-02-25T15:27:57.628Z"
   },
   {
    "duration": 40,
    "start_time": "2024-02-25T15:28:49.836Z"
   },
   {
    "duration": 12,
    "start_time": "2024-02-25T15:28:53.576Z"
   },
   {
    "duration": 142,
    "start_time": "2024-02-25T15:28:56.528Z"
   },
   {
    "duration": 20036,
    "start_time": "2024-02-25T15:28:57.440Z"
   },
   {
    "duration": 23,
    "start_time": "2024-02-25T15:29:21.371Z"
   },
   {
    "duration": 10,
    "start_time": "2024-02-25T15:29:29.854Z"
   },
   {
    "duration": 760,
    "start_time": "2024-02-25T15:29:30.351Z"
   },
   {
    "duration": 51,
    "start_time": "2024-02-25T15:29:35.315Z"
   },
   {
    "duration": 11257,
    "start_time": "2024-02-25T15:30:10.212Z"
   },
   {
    "duration": 68372,
    "start_time": "2024-02-25T15:30:45.811Z"
   },
   {
    "duration": 27321,
    "start_time": "2024-02-25T15:32:02.804Z"
   },
   {
    "duration": 27370,
    "start_time": "2024-02-25T15:32:48.116Z"
   },
   {
    "duration": 36651,
    "start_time": "2024-02-25T15:33:56.165Z"
   },
   {
    "duration": 7,
    "start_time": "2024-02-25T15:39:32.151Z"
   },
   {
    "duration": 692,
    "start_time": "2024-02-25T15:39:32.560Z"
   },
   {
    "duration": 48,
    "start_time": "2024-02-25T15:39:37.075Z"
   },
   {
    "duration": 81158,
    "start_time": "2024-02-25T15:39:52.546Z"
   },
   {
    "duration": 100,
    "start_time": "2024-02-25T15:41:25.680Z"
   },
   {
    "duration": 216,
    "start_time": "2024-02-25T15:41:26.984Z"
   },
   {
    "duration": 81651,
    "start_time": "2024-02-25T15:41:34.313Z"
   },
   {
    "duration": 110284,
    "start_time": "2024-02-25T15:43:47.263Z"
   },
   {
    "duration": 126338,
    "start_time": "2024-02-25T15:45:45.167Z"
   },
   {
    "duration": 1500,
    "start_time": "2024-02-25T16:14:46.295Z"
   },
   {
    "duration": 44,
    "start_time": "2024-02-25T16:14:47.798Z"
   },
   {
    "duration": 17,
    "start_time": "2024-02-25T16:14:47.844Z"
   },
   {
    "duration": 19,
    "start_time": "2024-02-25T16:14:47.863Z"
   },
   {
    "duration": 7,
    "start_time": "2024-02-25T16:14:47.885Z"
   },
   {
    "duration": 9,
    "start_time": "2024-02-25T16:14:47.893Z"
   },
   {
    "duration": 13,
    "start_time": "2024-02-25T16:14:47.903Z"
   },
   {
    "duration": 12,
    "start_time": "2024-02-25T16:14:47.917Z"
   },
   {
    "duration": 24,
    "start_time": "2024-02-25T16:14:47.931Z"
   },
   {
    "duration": 7,
    "start_time": "2024-02-25T16:14:47.976Z"
   },
   {
    "duration": 1181,
    "start_time": "2024-02-25T16:14:47.985Z"
   },
   {
    "duration": 206,
    "start_time": "2024-02-25T16:14:49.167Z"
   },
   {
    "duration": 237,
    "start_time": "2024-02-25T16:14:49.378Z"
   },
   {
    "duration": 10,
    "start_time": "2024-02-25T16:14:49.616Z"
   },
   {
    "duration": 58,
    "start_time": "2024-02-25T16:14:49.628Z"
   },
   {
    "duration": 18,
    "start_time": "2024-02-25T16:14:49.688Z"
   },
   {
    "duration": 23,
    "start_time": "2024-02-25T16:14:49.708Z"
   },
   {
    "duration": 19,
    "start_time": "2024-02-25T16:14:49.732Z"
   },
   {
    "duration": 8,
    "start_time": "2024-02-25T16:14:49.752Z"
   },
   {
    "duration": 31,
    "start_time": "2024-02-25T16:14:49.762Z"
   },
   {
    "duration": 7,
    "start_time": "2024-02-25T16:14:49.796Z"
   },
   {
    "duration": 15,
    "start_time": "2024-02-25T16:14:49.805Z"
   },
   {
    "duration": 106,
    "start_time": "2024-02-25T16:14:49.822Z"
   },
   {
    "duration": 321,
    "start_time": "2024-02-25T16:14:49.930Z"
   },
   {
    "duration": 84530,
    "start_time": "2024-02-25T16:14:50.252Z"
   },
   {
    "duration": 98,
    "start_time": "2024-02-25T16:16:14.788Z"
   },
   {
    "duration": 197,
    "start_time": "2024-02-25T16:16:14.890Z"
   },
   {
    "duration": 340,
    "start_time": "2024-02-25T16:16:15.096Z"
   },
   {
    "duration": 350,
    "start_time": "2024-02-25T16:16:15.438Z"
   },
   {
    "duration": 85012,
    "start_time": "2024-02-25T16:16:15.794Z"
   },
   {
    "duration": 68,
    "start_time": "2024-02-25T16:17:40.807Z"
   },
   {
    "duration": 106,
    "start_time": "2024-02-25T16:17:40.879Z"
   },
   {
    "duration": 415,
    "start_time": "2024-02-25T16:17:40.988Z"
   },
   {
    "duration": 135532,
    "start_time": "2024-02-25T16:17:41.405Z"
   },
   {
    "duration": 41,
    "start_time": "2024-02-25T16:19:56.939Z"
   },
   {
    "duration": 98,
    "start_time": "2024-02-25T16:19:56.982Z"
   },
   {
    "duration": 247,
    "start_time": "2024-02-25T16:19:57.090Z"
   },
   {
    "duration": 50933,
    "start_time": "2024-02-25T16:19:57.338Z"
   },
   {
    "duration": 107,
    "start_time": "2024-02-25T16:20:48.274Z"
   },
   {
    "duration": 89,
    "start_time": "2024-02-25T16:20:48.389Z"
   },
   {
    "duration": 1715,
    "start_time": "2024-02-25T16:20:48.481Z"
   },
   {
    "duration": 90,
    "start_time": "2024-02-25T16:20:50.199Z"
   },
   {
    "duration": 294,
    "start_time": "2024-02-25T16:20:50.293Z"
   },
   {
    "duration": 43025,
    "start_time": "2024-02-25T16:22:52.845Z"
   },
   {
    "duration": 59738,
    "start_time": "2024-02-25T16:23:53.726Z"
   },
   {
    "duration": 111502,
    "start_time": "2024-02-25T16:25:07.616Z"
   },
   {
    "duration": 95083,
    "start_time": "2024-02-25T16:27:05.739Z"
   },
   {
    "duration": 1113,
    "start_time": "2024-02-25T16:29:18.922Z"
   },
   {
    "duration": 71,
    "start_time": "2024-02-25T16:29:22.684Z"
   },
   {
    "duration": 69376,
    "start_time": "2024-02-25T16:30:39.693Z"
   },
   {
    "duration": 928,
    "start_time": "2024-02-25T16:32:04.135Z"
   },
   {
    "duration": 60,
    "start_time": "2024-02-25T16:32:07.681Z"
   },
   {
    "duration": 158407,
    "start_time": "2024-02-25T16:32:18.058Z"
   },
   {
    "duration": 30,
    "start_time": "2024-02-25T16:35:18.506Z"
   },
   {
    "duration": 1463,
    "start_time": "2024-02-25T16:35:33.444Z"
   },
   {
    "duration": 95,
    "start_time": "2024-02-25T16:35:36.950Z"
   },
   {
    "duration": 117749,
    "start_time": "2024-02-25T16:36:31.223Z"
   },
   {
    "duration": 1510,
    "start_time": "2024-02-25T16:39:46.076Z"
   },
   {
    "duration": 44,
    "start_time": "2024-02-25T16:39:47.588Z"
   },
   {
    "duration": 17,
    "start_time": "2024-02-25T16:39:47.634Z"
   },
   {
    "duration": 13,
    "start_time": "2024-02-25T16:39:47.652Z"
   },
   {
    "duration": 4,
    "start_time": "2024-02-25T16:39:47.667Z"
   },
   {
    "duration": 17,
    "start_time": "2024-02-25T16:39:47.673Z"
   },
   {
    "duration": 11,
    "start_time": "2024-02-25T16:39:47.692Z"
   },
   {
    "duration": 12,
    "start_time": "2024-02-25T16:39:47.705Z"
   },
   {
    "duration": 24,
    "start_time": "2024-02-25T16:39:47.718Z"
   },
   {
    "duration": 5,
    "start_time": "2024-02-25T16:39:47.743Z"
   },
   {
    "duration": 1051,
    "start_time": "2024-02-25T16:39:47.749Z"
   },
   {
    "duration": 159,
    "start_time": "2024-02-25T16:39:48.802Z"
   },
   {
    "duration": 140,
    "start_time": "2024-02-25T16:39:48.962Z"
   },
   {
    "duration": 10,
    "start_time": "2024-02-25T16:39:49.104Z"
   },
   {
    "duration": 11,
    "start_time": "2024-02-25T16:39:49.116Z"
   },
   {
    "duration": 19,
    "start_time": "2024-02-25T16:39:49.128Z"
   },
   {
    "duration": 91,
    "start_time": "2024-02-25T16:39:49.148Z"
   },
   {
    "duration": 8,
    "start_time": "2024-02-25T16:39:49.241Z"
   },
   {
    "duration": 4,
    "start_time": "2024-02-25T16:39:49.250Z"
   },
   {
    "duration": 6,
    "start_time": "2024-02-25T16:39:49.255Z"
   },
   {
    "duration": 9,
    "start_time": "2024-02-25T16:39:49.273Z"
   },
   {
    "duration": 10,
    "start_time": "2024-02-25T16:39:49.284Z"
   },
   {
    "duration": 31,
    "start_time": "2024-02-25T16:39:49.296Z"
   },
   {
    "duration": 323,
    "start_time": "2024-02-25T16:39:49.328Z"
   },
   {
    "duration": 116300,
    "start_time": "2024-02-25T16:39:49.652Z"
   },
   {
    "duration": 129,
    "start_time": "2024-02-25T16:41:45.954Z"
   },
   {
    "duration": 208,
    "start_time": "2024-02-25T16:41:46.086Z"
   },
   {
    "duration": 388,
    "start_time": "2024-02-25T16:41:46.297Z"
   },
   {
    "duration": 326,
    "start_time": "2024-02-25T16:41:46.687Z"
   },
   {
    "duration": 116764,
    "start_time": "2024-02-25T16:41:47.015Z"
   },
   {
    "duration": 24,
    "start_time": "2024-02-25T16:43:43.782Z"
   },
   {
    "duration": 99,
    "start_time": "2024-02-25T16:43:43.874Z"
   },
   {
    "duration": 410,
    "start_time": "2024-02-25T16:43:43.976Z"
   },
   {
    "duration": 159547,
    "start_time": "2024-02-25T16:43:44.388Z"
   },
   {
    "duration": 49,
    "start_time": "2024-02-25T16:46:23.937Z"
   },
   {
    "duration": 99,
    "start_time": "2024-02-25T16:46:23.989Z"
   },
   {
    "duration": 226,
    "start_time": "2024-02-25T16:46:24.090Z"
   },
   {
    "duration": 70906,
    "start_time": "2024-02-25T16:46:24.317Z"
   },
   {
    "duration": 53,
    "start_time": "2024-02-25T16:47:35.225Z"
   },
   {
    "duration": 93,
    "start_time": "2024-02-25T16:47:35.281Z"
   },
   {
    "duration": 1465,
    "start_time": "2024-02-25T16:47:35.379Z"
   },
   {
    "duration": 94,
    "start_time": "2024-02-25T16:47:36.845Z"
   },
   {
    "duration": 314,
    "start_time": "2024-02-25T16:47:36.941Z"
   },
   {
    "duration": 93,
    "start_time": "2024-02-25T17:03:52.474Z"
   }
  ],
  "kernelspec": {
   "display_name": "Python 3 (ipykernel)",
   "language": "python",
   "name": "python3"
  },
  "language_info": {
   "codemirror_mode": {
    "name": "ipython",
    "version": 3
   },
   "file_extension": ".py",
   "mimetype": "text/x-python",
   "name": "python",
   "nbconvert_exporter": "python",
   "pygments_lexer": "ipython3",
   "version": "3.11.5"
  },
  "toc": {
   "base_numbering": 1,
   "nav_menu": {},
   "number_sections": true,
   "sideBar": true,
   "skip_h1_title": true,
   "title_cell": "Содержание",
   "title_sidebar": "Contents",
   "toc_cell": true,
   "toc_position": {
    "height": "calc(100% - 180px)",
    "left": "10px",
    "top": "150px",
    "width": "209.746px"
   },
   "toc_section_display": true,
   "toc_window_display": true
  }
 },
 "nbformat": 4,
 "nbformat_minor": 2
}
