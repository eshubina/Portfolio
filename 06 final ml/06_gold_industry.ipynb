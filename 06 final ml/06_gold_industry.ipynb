{
 "cells": [
  {
   "cell_type": "markdown",
   "metadata": {},
   "source": [
    "# Восстановление золота из руды"
   ]
  },
  {
   "cell_type": "markdown",
   "metadata": {},
   "source": [
    "# Описание данных\n",
    "\n",
    "Данные находятся в трёх файлах:\n",
    "- gold_industry_train.csv обучающая выборка;\n",
    "- gold_industry_test.csv тестовая выборка;\n",
    "- gold_industry_full.csv исходные данные.\n",
    "\n",
    "Данные индексируются датой и временем получения информации (признак date). Соседние по времени параметры часто похожи.\n",
    "\n",
    "Некоторые параметры недоступны, потому что замеряются и/или рассчитываются значительно позже. Из-за этого в тестовой выборке отсутствуют некоторые признаки, которые могут быть в обучающей. Также в тестовом наборе нет целевых признаков.\n",
    "\n",
    "Исходный датасет содержит обучающую и тестовую выборки со всеми признаками.\n",
    "\n",
    "У нас сырые данные - их просто выгрузили из хранилища. Прежде чем приступить к построению модели, проверим по инструкции их на корректность."
   ]
  },
  {
   "cell_type": "markdown",
   "metadata": {},
   "source": [
    "Подготовьте прототип модели машинного обучения для «Цифры». Компания разрабатывает решения для эффективной работы промышленных предприятий.\n",
    "\n",
    "Модель должна предсказать коэффициент восстановления золота из золотосодержащей руды. Используйте данные с параметрами добычи и очистки. \n",
    "\n",
    "Модель поможет оптимизировать производство, чтобы не запускать предприятие с убыточными характеристиками.\n",
    "\n",
    "Вам нужно:\n",
    "\n",
    "1. Подготовить данные;\n",
    "2. Провести исследовательский анализ данных;\n",
    "3. Построить и обучить модель.\n",
    "\n",
    "Чтобы выполнить проект, обращайтесь к библиотекам *pandas*, *matplotlib* и *sklearn.* Вам поможет их документация."
   ]
  },
  {
   "cell_type": "markdown",
   "metadata": {},
   "source": [
    "**Описание данных:**\n",
    "\n",
    "*Технологический процесс*\n",
    "- Rougher feed — исходное сырье\n",
    "- Rougher additions (или reagent additions) — флотационные реагенты: Xanthate, Sulphate, Depressant \n",
    "    - Xanthate — ксантогенат (промотер, или активатор флотации);\n",
    "    - Sulphate — сульфат (на данном производстве сульфид натрия);\n",
    "    - Depressant — депрессант (силикат натрия).\n",
    "- Rougher process (англ. «грубый процесс») — флотация\n",
    "- Rougher tails — отвальные хвосты\n",
    "- Float banks — флотационная установка\n",
    "- Cleaner process — очистка\n",
    "- Rougher Au — черновой концентрат золота\n",
    "- Final Au — финальный концентрат золота\n",
    "\n",
    "*Параметры этапов*\n",
    "- air amount — объём воздуха\n",
    "- fluid levels — уровень жидкости\n",
    "- feed size — размер гранул сырья\n",
    "- feed rate — скорость подачи\n"
   ]
  },
  {
   "cell_type": "markdown",
   "metadata": {},
   "source": [
    "**Наименование признаков**<br>\n",
    "Наименование признаков должно быть такое: <br>\n",
    "[этап].[тип_параметра].[название_параметра]<br>\n",
    "Пример: rougher.input.feed_ag<br>\n",
    "\n",
    "Возможные значения для блока [этап]:\n",
    "- rougher — флотация\n",
    "- primary_cleaner — первичная очистка\n",
    "- secondary_cleaner — вторичная очистка\n",
    "- final — финальные характеристики\n",
    "\n",
    "Возможные значения для блока [тип_параметра]:\n",
    "- input — параметры сырья\n",
    "- output — параметры продукта\n",
    "- state — параметры, характеризующие текущее состояние этапа\n",
    "- calculation — расчётные характеристики\n"
   ]
  },
  {
   "cell_type": "markdown",
   "metadata": {},
   "source": [
    "## Подготовка данных"
   ]
  },
  {
   "cell_type": "code",
   "execution_count": 1,
   "metadata": {},
   "outputs": [
    {
     "data": {
      "text/html": [
       "<style>.container { width:90% !important; }</style>"
      ],
      "text/plain": [
       "<IPython.core.display.HTML object>"
      ]
     },
     "metadata": {},
     "output_type": "display_data"
    }
   ],
   "source": [
    "import pandas as pd\n",
    "import numpy as np\n",
    "import matplotlib.pyplot as plt\n",
    "import seaborn as sns\n",
    "\n",
    "from sklearn.metrics import mean_absolute_error, make_scorer\n",
    "from sklearn.tree import DecisionTreeRegressor\n",
    "from sklearn.ensemble import RandomForestRegressor\n",
    "from sklearn.linear_model import LinearRegression\n",
    "\n",
    "from sklearn.model_selection import GridSearchCV, cross_val_score\n",
    "from tqdm import tqdm\n",
    "from sklearn.dummy import DummyRegressor\n",
    "\n",
    "import warnings\n",
    "warnings.filterwarnings(\"ignore\")\n",
    "\n",
    "from IPython.core.display import display, HTML\n",
    "display(HTML(\"<style>.container { width:90% !important; }</style>\"))"
   ]
  },
  {
   "cell_type": "code",
   "execution_count": 2,
   "metadata": {},
   "outputs": [],
   "source": [
    "gold_train = pd.read_csv('/datasets/gold_industry_train.csv', index_col='date')\n",
    "gold_test = pd.read_csv('/datasets/gold_industry_test.csv', index_col='date')\n",
    "gold_full = pd.read_csv('/datasets/gold_industry_full.csv', index_col='date') #прочитаем файлы"
   ]
  },
  {
   "cell_type": "code",
   "execution_count": 3,
   "metadata": {},
   "outputs": [],
   "source": [
    "def discover(data):\n",
    "    display(data.describe())\n",
    "    display(f'Количество пропусков:{data.isna().sum()}')\n",
    "    display(f'Количество дубликатов:{data.duplicated().sum()}')"
   ]
  },
  {
   "cell_type": "code",
   "execution_count": 4,
   "metadata": {},
   "outputs": [
    {
     "name": "stdout",
     "output_type": "stream",
     "text": [
      "Тренировочная выборка\n"
     ]
    },
    {
     "data": {
      "text/html": [
       "<div>\n",
       "<style scoped>\n",
       "    .dataframe tbody tr th:only-of-type {\n",
       "        vertical-align: middle;\n",
       "    }\n",
       "\n",
       "    .dataframe tbody tr th {\n",
       "        vertical-align: top;\n",
       "    }\n",
       "\n",
       "    .dataframe thead th {\n",
       "        text-align: right;\n",
       "    }\n",
       "</style>\n",
       "<table border=\"1\" class=\"dataframe\">\n",
       "  <thead>\n",
       "    <tr style=\"text-align: right;\">\n",
       "      <th></th>\n",
       "      <th>rougher.input.feed_au</th>\n",
       "      <th>rougher.input.feed_ag</th>\n",
       "      <th>rougher.input.feed_pb</th>\n",
       "      <th>rougher.input.feed_sol</th>\n",
       "      <th>rougher.input.feed_rate</th>\n",
       "      <th>rougher.input.feed_size</th>\n",
       "      <th>rougher.input.floatbank10_sulfate</th>\n",
       "      <th>rougher.input.floatbank10_xanthate</th>\n",
       "      <th>rougher.state.floatbank10_a_air</th>\n",
       "      <th>rougher.state.floatbank10_a_level</th>\n",
       "      <th>...</th>\n",
       "      <th>secondary_cleaner.output.tail_sol</th>\n",
       "      <th>final.output.concentrate_au</th>\n",
       "      <th>final.output.concentrate_ag</th>\n",
       "      <th>final.output.concentrate_pb</th>\n",
       "      <th>final.output.concentrate_sol</th>\n",
       "      <th>final.output.recovery</th>\n",
       "      <th>final.output.tail_au</th>\n",
       "      <th>final.output.tail_ag</th>\n",
       "      <th>final.output.tail_pb</th>\n",
       "      <th>final.output.tail_sol</th>\n",
       "    </tr>\n",
       "  </thead>\n",
       "  <tbody>\n",
       "    <tr>\n",
       "      <th>count</th>\n",
       "      <td>14579.000000</td>\n",
       "      <td>14579.000000</td>\n",
       "      <td>14507.000000</td>\n",
       "      <td>14502.000000</td>\n",
       "      <td>14572.000000</td>\n",
       "      <td>14478.000000</td>\n",
       "      <td>14548.000000</td>\n",
       "      <td>14572.000000</td>\n",
       "      <td>14579.000000</td>\n",
       "      <td>14579.000000</td>\n",
       "      <td>...</td>\n",
       "      <td>13659.000000</td>\n",
       "      <td>14579.000000</td>\n",
       "      <td>14578.000000</td>\n",
       "      <td>14578.000000</td>\n",
       "      <td>14387.000000</td>\n",
       "      <td>14579.000000</td>\n",
       "      <td>14579.000000</td>\n",
       "      <td>14578.000000</td>\n",
       "      <td>14504.000000</td>\n",
       "      <td>14574.000000</td>\n",
       "    </tr>\n",
       "    <tr>\n",
       "      <th>mean</th>\n",
       "      <td>8.352941</td>\n",
       "      <td>8.877460</td>\n",
       "      <td>3.604221</td>\n",
       "      <td>36.561420</td>\n",
       "      <td>474.332784</td>\n",
       "      <td>58.922712</td>\n",
       "      <td>12.427399</td>\n",
       "      <td>5.994854</td>\n",
       "      <td>1104.208278</td>\n",
       "      <td>-379.367166</td>\n",
       "      <td>...</td>\n",
       "      <td>7.111347</td>\n",
       "      <td>43.979499</td>\n",
       "      <td>5.192145</td>\n",
       "      <td>9.923809</td>\n",
       "      <td>9.566676</td>\n",
       "      <td>66.759066</td>\n",
       "      <td>3.087939</td>\n",
       "      <td>9.731972</td>\n",
       "      <td>2.719985</td>\n",
       "      <td>10.612745</td>\n",
       "    </tr>\n",
       "    <tr>\n",
       "      <th>std</th>\n",
       "      <td>1.934376</td>\n",
       "      <td>1.922536</td>\n",
       "      <td>1.056063</td>\n",
       "      <td>5.209823</td>\n",
       "      <td>108.503552</td>\n",
       "      <td>22.407410</td>\n",
       "      <td>3.428939</td>\n",
       "      <td>1.152873</td>\n",
       "      <td>162.235606</td>\n",
       "      <td>94.652311</td>\n",
       "      <td>...</td>\n",
       "      <td>3.909951</td>\n",
       "      <td>5.471437</td>\n",
       "      <td>1.388014</td>\n",
       "      <td>1.706976</td>\n",
       "      <td>2.805654</td>\n",
       "      <td>10.619709</td>\n",
       "      <td>0.915187</td>\n",
       "      <td>2.358143</td>\n",
       "      <td>0.958929</td>\n",
       "      <td>2.871075</td>\n",
       "    </tr>\n",
       "    <tr>\n",
       "      <th>min</th>\n",
       "      <td>0.010000</td>\n",
       "      <td>0.010000</td>\n",
       "      <td>0.010000</td>\n",
       "      <td>0.010000</td>\n",
       "      <td>0.002986</td>\n",
       "      <td>0.049194</td>\n",
       "      <td>0.001083</td>\n",
       "      <td>0.000568</td>\n",
       "      <td>-0.042069</td>\n",
       "      <td>-657.949759</td>\n",
       "      <td>...</td>\n",
       "      <td>0.000000</td>\n",
       "      <td>0.000000</td>\n",
       "      <td>0.000000</td>\n",
       "      <td>0.000000</td>\n",
       "      <td>0.000000</td>\n",
       "      <td>0.000000</td>\n",
       "      <td>0.000000</td>\n",
       "      <td>0.000000</td>\n",
       "      <td>0.000000</td>\n",
       "      <td>0.000000</td>\n",
       "    </tr>\n",
       "    <tr>\n",
       "      <th>25%</th>\n",
       "      <td>6.932996</td>\n",
       "      <td>7.341922</td>\n",
       "      <td>2.880490</td>\n",
       "      <td>34.093951</td>\n",
       "      <td>411.048483</td>\n",
       "      <td>47.278490</td>\n",
       "      <td>10.002832</td>\n",
       "      <td>5.304167</td>\n",
       "      <td>999.644856</td>\n",
       "      <td>-499.861797</td>\n",
       "      <td>...</td>\n",
       "      <td>3.784897</td>\n",
       "      <td>43.345906</td>\n",
       "      <td>4.283347</td>\n",
       "      <td>9.103183</td>\n",
       "      <td>7.860030</td>\n",
       "      <td>63.114596</td>\n",
       "      <td>2.505287</td>\n",
       "      <td>8.088928</td>\n",
       "      <td>2.036512</td>\n",
       "      <td>9.013412</td>\n",
       "    </tr>\n",
       "    <tr>\n",
       "      <th>50%</th>\n",
       "      <td>8.225284</td>\n",
       "      <td>8.715859</td>\n",
       "      <td>3.532399</td>\n",
       "      <td>37.097511</td>\n",
       "      <td>498.187968</td>\n",
       "      <td>54.361187</td>\n",
       "      <td>12.003320</td>\n",
       "      <td>6.003053</td>\n",
       "      <td>1000.982624</td>\n",
       "      <td>-300.314199</td>\n",
       "      <td>...</td>\n",
       "      <td>7.629968</td>\n",
       "      <td>44.975014</td>\n",
       "      <td>5.118647</td>\n",
       "      <td>10.046455</td>\n",
       "      <td>9.301970</td>\n",
       "      <td>67.962788</td>\n",
       "      <td>3.029238</td>\n",
       "      <td>9.818512</td>\n",
       "      <td>2.774847</td>\n",
       "      <td>10.670515</td>\n",
       "    </tr>\n",
       "    <tr>\n",
       "      <th>75%</th>\n",
       "      <td>9.832210</td>\n",
       "      <td>10.255843</td>\n",
       "      <td>4.257282</td>\n",
       "      <td>39.899799</td>\n",
       "      <td>549.586552</td>\n",
       "      <td>64.464926</td>\n",
       "      <td>14.929903</td>\n",
       "      <td>6.796632</td>\n",
       "      <td>1292.663971</td>\n",
       "      <td>-299.989315</td>\n",
       "      <td>...</td>\n",
       "      <td>10.367050</td>\n",
       "      <td>46.275153</td>\n",
       "      <td>5.925380</td>\n",
       "      <td>10.981203</td>\n",
       "      <td>11.001573</td>\n",
       "      <td>72.598187</td>\n",
       "      <td>3.614098</td>\n",
       "      <td>11.169187</td>\n",
       "      <td>3.353845</td>\n",
       "      <td>12.130827</td>\n",
       "    </tr>\n",
       "    <tr>\n",
       "      <th>max</th>\n",
       "      <td>13.731330</td>\n",
       "      <td>14.596026</td>\n",
       "      <td>7.052325</td>\n",
       "      <td>53.475325</td>\n",
       "      <td>717.508837</td>\n",
       "      <td>484.967466</td>\n",
       "      <td>36.118275</td>\n",
       "      <td>9.703448</td>\n",
       "      <td>1512.299531</td>\n",
       "      <td>-273.776101</td>\n",
       "      <td>...</td>\n",
       "      <td>26.000772</td>\n",
       "      <td>52.756638</td>\n",
       "      <td>16.001945</td>\n",
       "      <td>16.705297</td>\n",
       "      <td>19.423912</td>\n",
       "      <td>100.000000</td>\n",
       "      <td>8.245022</td>\n",
       "      <td>19.552149</td>\n",
       "      <td>5.804178</td>\n",
       "      <td>22.317730</td>\n",
       "    </tr>\n",
       "  </tbody>\n",
       "</table>\n",
       "<p>8 rows × 86 columns</p>\n",
       "</div>"
      ],
      "text/plain": [
       "       rougher.input.feed_au  rougher.input.feed_ag  rougher.input.feed_pb  \\\n",
       "count           14579.000000           14579.000000           14507.000000   \n",
       "mean                8.352941               8.877460               3.604221   \n",
       "std                 1.934376               1.922536               1.056063   \n",
       "min                 0.010000               0.010000               0.010000   \n",
       "25%                 6.932996               7.341922               2.880490   \n",
       "50%                 8.225284               8.715859               3.532399   \n",
       "75%                 9.832210              10.255843               4.257282   \n",
       "max                13.731330              14.596026               7.052325   \n",
       "\n",
       "       rougher.input.feed_sol  rougher.input.feed_rate  \\\n",
       "count            14502.000000             14572.000000   \n",
       "mean                36.561420               474.332784   \n",
       "std                  5.209823               108.503552   \n",
       "min                  0.010000                 0.002986   \n",
       "25%                 34.093951               411.048483   \n",
       "50%                 37.097511               498.187968   \n",
       "75%                 39.899799               549.586552   \n",
       "max                 53.475325               717.508837   \n",
       "\n",
       "       rougher.input.feed_size  rougher.input.floatbank10_sulfate  \\\n",
       "count             14478.000000                       14548.000000   \n",
       "mean                 58.922712                          12.427399   \n",
       "std                  22.407410                           3.428939   \n",
       "min                   0.049194                           0.001083   \n",
       "25%                  47.278490                          10.002832   \n",
       "50%                  54.361187                          12.003320   \n",
       "75%                  64.464926                          14.929903   \n",
       "max                 484.967466                          36.118275   \n",
       "\n",
       "       rougher.input.floatbank10_xanthate  rougher.state.floatbank10_a_air  \\\n",
       "count                        14572.000000                     14579.000000   \n",
       "mean                             5.994854                      1104.208278   \n",
       "std                              1.152873                       162.235606   \n",
       "min                              0.000568                        -0.042069   \n",
       "25%                              5.304167                       999.644856   \n",
       "50%                              6.003053                      1000.982624   \n",
       "75%                              6.796632                      1292.663971   \n",
       "max                              9.703448                      1512.299531   \n",
       "\n",
       "       rougher.state.floatbank10_a_level  ...  \\\n",
       "count                       14579.000000  ...   \n",
       "mean                         -379.367166  ...   \n",
       "std                            94.652311  ...   \n",
       "min                          -657.949759  ...   \n",
       "25%                          -499.861797  ...   \n",
       "50%                          -300.314199  ...   \n",
       "75%                          -299.989315  ...   \n",
       "max                          -273.776101  ...   \n",
       "\n",
       "       secondary_cleaner.output.tail_sol  final.output.concentrate_au  \\\n",
       "count                       13659.000000                 14579.000000   \n",
       "mean                            7.111347                    43.979499   \n",
       "std                             3.909951                     5.471437   \n",
       "min                             0.000000                     0.000000   \n",
       "25%                             3.784897                    43.345906   \n",
       "50%                             7.629968                    44.975014   \n",
       "75%                            10.367050                    46.275153   \n",
       "max                            26.000772                    52.756638   \n",
       "\n",
       "       final.output.concentrate_ag  final.output.concentrate_pb  \\\n",
       "count                 14578.000000                 14578.000000   \n",
       "mean                      5.192145                     9.923809   \n",
       "std                       1.388014                     1.706976   \n",
       "min                       0.000000                     0.000000   \n",
       "25%                       4.283347                     9.103183   \n",
       "50%                       5.118647                    10.046455   \n",
       "75%                       5.925380                    10.981203   \n",
       "max                      16.001945                    16.705297   \n",
       "\n",
       "       final.output.concentrate_sol  final.output.recovery  \\\n",
       "count                  14387.000000           14579.000000   \n",
       "mean                       9.566676              66.759066   \n",
       "std                        2.805654              10.619709   \n",
       "min                        0.000000               0.000000   \n",
       "25%                        7.860030              63.114596   \n",
       "50%                        9.301970              67.962788   \n",
       "75%                       11.001573              72.598187   \n",
       "max                       19.423912             100.000000   \n",
       "\n",
       "       final.output.tail_au  final.output.tail_ag  final.output.tail_pb  \\\n",
       "count          14579.000000          14578.000000          14504.000000   \n",
       "mean               3.087939              9.731972              2.719985   \n",
       "std                0.915187              2.358143              0.958929   \n",
       "min                0.000000              0.000000              0.000000   \n",
       "25%                2.505287              8.088928              2.036512   \n",
       "50%                3.029238              9.818512              2.774847   \n",
       "75%                3.614098             11.169187              3.353845   \n",
       "max                8.245022             19.552149              5.804178   \n",
       "\n",
       "       final.output.tail_sol  \n",
       "count           14574.000000  \n",
       "mean               10.612745  \n",
       "std                 2.871075  \n",
       "min                 0.000000  \n",
       "25%                 9.013412  \n",
       "50%                10.670515  \n",
       "75%                12.130827  \n",
       "max                22.317730  \n",
       "\n",
       "[8 rows x 86 columns]"
      ]
     },
     "metadata": {},
     "output_type": "display_data"
    },
    {
     "data": {
      "text/plain": [
       "'Количество пропусков:rougher.input.feed_au       0\\nrougher.input.feed_ag       0\\nrougher.input.feed_pb      72\\nrougher.input.feed_sol     77\\nrougher.input.feed_rate     7\\n                           ..\\nfinal.output.recovery       0\\nfinal.output.tail_au        0\\nfinal.output.tail_ag        1\\nfinal.output.tail_pb       75\\nfinal.output.tail_sol       5\\nLength: 86, dtype: int64'"
      ]
     },
     "metadata": {},
     "output_type": "display_data"
    },
    {
     "data": {
      "text/plain": [
       "'Количество дубликатов:0'"
      ]
     },
     "metadata": {},
     "output_type": "display_data"
    }
   ],
   "source": [
    "print('Тренировочная выборка')\n",
    "discover(gold_train)"
   ]
  },
  {
   "cell_type": "code",
   "execution_count": 5,
   "metadata": {
    "scrolled": true
   },
   "outputs": [
    {
     "name": "stdout",
     "output_type": "stream",
     "text": [
      "Тестовая выборка\n"
     ]
    },
    {
     "data": {
      "text/html": [
       "<div>\n",
       "<style scoped>\n",
       "    .dataframe tbody tr th:only-of-type {\n",
       "        vertical-align: middle;\n",
       "    }\n",
       "\n",
       "    .dataframe tbody tr th {\n",
       "        vertical-align: top;\n",
       "    }\n",
       "\n",
       "    .dataframe thead th {\n",
       "        text-align: right;\n",
       "    }\n",
       "</style>\n",
       "<table border=\"1\" class=\"dataframe\">\n",
       "  <thead>\n",
       "    <tr style=\"text-align: right;\">\n",
       "      <th></th>\n",
       "      <th>rougher.input.feed_au</th>\n",
       "      <th>rougher.input.feed_ag</th>\n",
       "      <th>rougher.input.feed_pb</th>\n",
       "      <th>rougher.input.feed_sol</th>\n",
       "      <th>rougher.input.feed_rate</th>\n",
       "      <th>rougher.input.feed_size</th>\n",
       "      <th>rougher.input.floatbank10_sulfate</th>\n",
       "      <th>rougher.input.floatbank10_xanthate</th>\n",
       "      <th>rougher.state.floatbank10_a_air</th>\n",
       "      <th>rougher.state.floatbank10_a_level</th>\n",
       "      <th>...</th>\n",
       "      <th>secondary_cleaner.state.floatbank4_a_air</th>\n",
       "      <th>secondary_cleaner.state.floatbank4_a_level</th>\n",
       "      <th>secondary_cleaner.state.floatbank4_b_air</th>\n",
       "      <th>secondary_cleaner.state.floatbank4_b_level</th>\n",
       "      <th>secondary_cleaner.state.floatbank5_a_air</th>\n",
       "      <th>secondary_cleaner.state.floatbank5_a_level</th>\n",
       "      <th>secondary_cleaner.state.floatbank5_b_air</th>\n",
       "      <th>secondary_cleaner.state.floatbank5_b_level</th>\n",
       "      <th>secondary_cleaner.state.floatbank6_a_air</th>\n",
       "      <th>secondary_cleaner.state.floatbank6_a_level</th>\n",
       "    </tr>\n",
       "  </thead>\n",
       "  <tbody>\n",
       "    <tr>\n",
       "      <th>count</th>\n",
       "      <td>4860.000000</td>\n",
       "      <td>4860.000000</td>\n",
       "      <td>4832.000000</td>\n",
       "      <td>4838.000000</td>\n",
       "      <td>4856.000000</td>\n",
       "      <td>4816.000000</td>\n",
       "      <td>4857.000000</td>\n",
       "      <td>4859.000000</td>\n",
       "      <td>4859.000000</td>\n",
       "      <td>4859.000000</td>\n",
       "      <td>...</td>\n",
       "      <td>4.859000e+03</td>\n",
       "      <td>4859.000000</td>\n",
       "      <td>4.859000e+03</td>\n",
       "      <td>4859.000000</td>\n",
       "      <td>4859.000000</td>\n",
       "      <td>4859.000000</td>\n",
       "      <td>4859.000000</td>\n",
       "      <td>4859.000000</td>\n",
       "      <td>4859.000000</td>\n",
       "      <td>4859.000000</td>\n",
       "    </tr>\n",
       "    <tr>\n",
       "      <th>mean</th>\n",
       "      <td>8.005584</td>\n",
       "      <td>8.547348</td>\n",
       "      <td>3.579662</td>\n",
       "      <td>37.095864</td>\n",
       "      <td>490.285103</td>\n",
       "      <td>59.113400</td>\n",
       "      <td>12.055735</td>\n",
       "      <td>6.101308</td>\n",
       "      <td>1108.635895</td>\n",
       "      <td>-368.340127</td>\n",
       "      <td>...</td>\n",
       "      <td>1.985770e+01</td>\n",
       "      <td>-488.665140</td>\n",
       "      <td>1.557025e+01</td>\n",
       "      <td>-464.176507</td>\n",
       "      <td>16.594103</td>\n",
       "      <td>-490.815250</td>\n",
       "      <td>12.945971</td>\n",
       "      <td>-489.583564</td>\n",
       "      <td>19.053888</td>\n",
       "      <td>-504.678924</td>\n",
       "    </tr>\n",
       "    <tr>\n",
       "      <th>std</th>\n",
       "      <td>1.993590</td>\n",
       "      <td>1.958601</td>\n",
       "      <td>1.029377</td>\n",
       "      <td>4.926284</td>\n",
       "      <td>94.371623</td>\n",
       "      <td>19.125122</td>\n",
       "      <td>3.407642</td>\n",
       "      <td>1.042754</td>\n",
       "      <td>156.493143</td>\n",
       "      <td>91.155929</td>\n",
       "      <td>...</td>\n",
       "      <td>5.913105e+00</td>\n",
       "      <td>44.392714</td>\n",
       "      <td>4.927361e+00</td>\n",
       "      <td>65.706994</td>\n",
       "      <td>5.724305</td>\n",
       "      <td>32.258443</td>\n",
       "      <td>5.533176</td>\n",
       "      <td>37.084609</td>\n",
       "      <td>5.548996</td>\n",
       "      <td>38.690186</td>\n",
       "    </tr>\n",
       "    <tr>\n",
       "      <th>min</th>\n",
       "      <td>0.010000</td>\n",
       "      <td>0.010000</td>\n",
       "      <td>0.010000</td>\n",
       "      <td>0.010000</td>\n",
       "      <td>0.012786</td>\n",
       "      <td>0.046369</td>\n",
       "      <td>0.018907</td>\n",
       "      <td>0.015783</td>\n",
       "      <td>300.792494</td>\n",
       "      <td>-600.568138</td>\n",
       "      <td>...</td>\n",
       "      <td>1.079872e-16</td>\n",
       "      <td>-799.704969</td>\n",
       "      <td>2.489718e-17</td>\n",
       "      <td>-799.860767</td>\n",
       "      <td>-0.371498</td>\n",
       "      <td>-797.142475</td>\n",
       "      <td>1.358469</td>\n",
       "      <td>-800.006180</td>\n",
       "      <td>0.160386</td>\n",
       "      <td>-809.734800</td>\n",
       "    </tr>\n",
       "    <tr>\n",
       "      <th>25%</th>\n",
       "      <td>6.574363</td>\n",
       "      <td>6.975898</td>\n",
       "      <td>2.903612</td>\n",
       "      <td>34.510841</td>\n",
       "      <td>434.099695</td>\n",
       "      <td>47.596984</td>\n",
       "      <td>9.890429</td>\n",
       "      <td>5.499808</td>\n",
       "      <td>999.715729</td>\n",
       "      <td>-499.731972</td>\n",
       "      <td>...</td>\n",
       "      <td>1.501123e+01</td>\n",
       "      <td>-500.704004</td>\n",
       "      <td>1.202172e+01</td>\n",
       "      <td>-500.196517</td>\n",
       "      <td>11.073822</td>\n",
       "      <td>-500.483564</td>\n",
       "      <td>9.011890</td>\n",
       "      <td>-500.129913</td>\n",
       "      <td>14.963953</td>\n",
       "      <td>-500.668501</td>\n",
       "    </tr>\n",
       "    <tr>\n",
       "      <th>50%</th>\n",
       "      <td>7.812923</td>\n",
       "      <td>8.179714</td>\n",
       "      <td>3.540772</td>\n",
       "      <td>37.499761</td>\n",
       "      <td>502.118742</td>\n",
       "      <td>55.509481</td>\n",
       "      <td>11.997859</td>\n",
       "      <td>6.099805</td>\n",
       "      <td>1001.414798</td>\n",
       "      <td>-300.181367</td>\n",
       "      <td>...</td>\n",
       "      <td>1.996807e+01</td>\n",
       "      <td>-499.892919</td>\n",
       "      <td>1.501240e+01</td>\n",
       "      <td>-499.540776</td>\n",
       "      <td>16.631195</td>\n",
       "      <td>-499.873136</td>\n",
       "      <td>11.999417</td>\n",
       "      <td>-499.955304</td>\n",
       "      <td>19.960006</td>\n",
       "      <td>-500.033769</td>\n",
       "    </tr>\n",
       "    <tr>\n",
       "      <th>75%</th>\n",
       "      <td>9.556589</td>\n",
       "      <td>10.084339</td>\n",
       "      <td>4.199847</td>\n",
       "      <td>40.461315</td>\n",
       "      <td>555.596563</td>\n",
       "      <td>66.661547</td>\n",
       "      <td>14.496072</td>\n",
       "      <td>6.802101</td>\n",
       "      <td>1202.837565</td>\n",
       "      <td>-299.961547</td>\n",
       "      <td>...</td>\n",
       "      <td>2.498900e+01</td>\n",
       "      <td>-498.652030</td>\n",
       "      <td>1.999949e+01</td>\n",
       "      <td>-400.302329</td>\n",
       "      <td>19.983191</td>\n",
       "      <td>-498.852815</td>\n",
       "      <td>15.004198</td>\n",
       "      <td>-499.643776</td>\n",
       "      <td>24.974583</td>\n",
       "      <td>-499.460134</td>\n",
       "    </tr>\n",
       "    <tr>\n",
       "      <th>max</th>\n",
       "      <td>13.417156</td>\n",
       "      <td>14.533698</td>\n",
       "      <td>7.142594</td>\n",
       "      <td>53.477742</td>\n",
       "      <td>702.523396</td>\n",
       "      <td>363.989699</td>\n",
       "      <td>30.010759</td>\n",
       "      <td>9.396928</td>\n",
       "      <td>1521.980372</td>\n",
       "      <td>-281.039299</td>\n",
       "      <td>...</td>\n",
       "      <td>3.008450e+01</td>\n",
       "      <td>-383.373053</td>\n",
       "      <td>2.398898e+01</td>\n",
       "      <td>-114.250832</td>\n",
       "      <td>33.215996</td>\n",
       "      <td>-288.963521</td>\n",
       "      <td>24.177106</td>\n",
       "      <td>-141.934397</td>\n",
       "      <td>32.028529</td>\n",
       "      <td>-104.427459</td>\n",
       "    </tr>\n",
       "  </tbody>\n",
       "</table>\n",
       "<p>8 rows × 52 columns</p>\n",
       "</div>"
      ],
      "text/plain": [
       "       rougher.input.feed_au  rougher.input.feed_ag  rougher.input.feed_pb  \\\n",
       "count            4860.000000            4860.000000            4832.000000   \n",
       "mean                8.005584               8.547348               3.579662   \n",
       "std                 1.993590               1.958601               1.029377   \n",
       "min                 0.010000               0.010000               0.010000   \n",
       "25%                 6.574363               6.975898               2.903612   \n",
       "50%                 7.812923               8.179714               3.540772   \n",
       "75%                 9.556589              10.084339               4.199847   \n",
       "max                13.417156              14.533698               7.142594   \n",
       "\n",
       "       rougher.input.feed_sol  rougher.input.feed_rate  \\\n",
       "count             4838.000000              4856.000000   \n",
       "mean                37.095864               490.285103   \n",
       "std                  4.926284                94.371623   \n",
       "min                  0.010000                 0.012786   \n",
       "25%                 34.510841               434.099695   \n",
       "50%                 37.499761               502.118742   \n",
       "75%                 40.461315               555.596563   \n",
       "max                 53.477742               702.523396   \n",
       "\n",
       "       rougher.input.feed_size  rougher.input.floatbank10_sulfate  \\\n",
       "count              4816.000000                        4857.000000   \n",
       "mean                 59.113400                          12.055735   \n",
       "std                  19.125122                           3.407642   \n",
       "min                   0.046369                           0.018907   \n",
       "25%                  47.596984                           9.890429   \n",
       "50%                  55.509481                          11.997859   \n",
       "75%                  66.661547                          14.496072   \n",
       "max                 363.989699                          30.010759   \n",
       "\n",
       "       rougher.input.floatbank10_xanthate  rougher.state.floatbank10_a_air  \\\n",
       "count                         4859.000000                      4859.000000   \n",
       "mean                             6.101308                      1108.635895   \n",
       "std                              1.042754                       156.493143   \n",
       "min                              0.015783                       300.792494   \n",
       "25%                              5.499808                       999.715729   \n",
       "50%                              6.099805                      1001.414798   \n",
       "75%                              6.802101                      1202.837565   \n",
       "max                              9.396928                      1521.980372   \n",
       "\n",
       "       rougher.state.floatbank10_a_level  ...  \\\n",
       "count                        4859.000000  ...   \n",
       "mean                         -368.340127  ...   \n",
       "std                            91.155929  ...   \n",
       "min                          -600.568138  ...   \n",
       "25%                          -499.731972  ...   \n",
       "50%                          -300.181367  ...   \n",
       "75%                          -299.961547  ...   \n",
       "max                          -281.039299  ...   \n",
       "\n",
       "       secondary_cleaner.state.floatbank4_a_air  \\\n",
       "count                              4.859000e+03   \n",
       "mean                               1.985770e+01   \n",
       "std                                5.913105e+00   \n",
       "min                                1.079872e-16   \n",
       "25%                                1.501123e+01   \n",
       "50%                                1.996807e+01   \n",
       "75%                                2.498900e+01   \n",
       "max                                3.008450e+01   \n",
       "\n",
       "       secondary_cleaner.state.floatbank4_a_level  \\\n",
       "count                                 4859.000000   \n",
       "mean                                  -488.665140   \n",
       "std                                     44.392714   \n",
       "min                                   -799.704969   \n",
       "25%                                   -500.704004   \n",
       "50%                                   -499.892919   \n",
       "75%                                   -498.652030   \n",
       "max                                   -383.373053   \n",
       "\n",
       "       secondary_cleaner.state.floatbank4_b_air  \\\n",
       "count                              4.859000e+03   \n",
       "mean                               1.557025e+01   \n",
       "std                                4.927361e+00   \n",
       "min                                2.489718e-17   \n",
       "25%                                1.202172e+01   \n",
       "50%                                1.501240e+01   \n",
       "75%                                1.999949e+01   \n",
       "max                                2.398898e+01   \n",
       "\n",
       "       secondary_cleaner.state.floatbank4_b_level  \\\n",
       "count                                 4859.000000   \n",
       "mean                                  -464.176507   \n",
       "std                                     65.706994   \n",
       "min                                   -799.860767   \n",
       "25%                                   -500.196517   \n",
       "50%                                   -499.540776   \n",
       "75%                                   -400.302329   \n",
       "max                                   -114.250832   \n",
       "\n",
       "       secondary_cleaner.state.floatbank5_a_air  \\\n",
       "count                               4859.000000   \n",
       "mean                                  16.594103   \n",
       "std                                    5.724305   \n",
       "min                                   -0.371498   \n",
       "25%                                   11.073822   \n",
       "50%                                   16.631195   \n",
       "75%                                   19.983191   \n",
       "max                                   33.215996   \n",
       "\n",
       "       secondary_cleaner.state.floatbank5_a_level  \\\n",
       "count                                 4859.000000   \n",
       "mean                                  -490.815250   \n",
       "std                                     32.258443   \n",
       "min                                   -797.142475   \n",
       "25%                                   -500.483564   \n",
       "50%                                   -499.873136   \n",
       "75%                                   -498.852815   \n",
       "max                                   -288.963521   \n",
       "\n",
       "       secondary_cleaner.state.floatbank5_b_air  \\\n",
       "count                               4859.000000   \n",
       "mean                                  12.945971   \n",
       "std                                    5.533176   \n",
       "min                                    1.358469   \n",
       "25%                                    9.011890   \n",
       "50%                                   11.999417   \n",
       "75%                                   15.004198   \n",
       "max                                   24.177106   \n",
       "\n",
       "       secondary_cleaner.state.floatbank5_b_level  \\\n",
       "count                                 4859.000000   \n",
       "mean                                  -489.583564   \n",
       "std                                     37.084609   \n",
       "min                                   -800.006180   \n",
       "25%                                   -500.129913   \n",
       "50%                                   -499.955304   \n",
       "75%                                   -499.643776   \n",
       "max                                   -141.934397   \n",
       "\n",
       "       secondary_cleaner.state.floatbank6_a_air  \\\n",
       "count                               4859.000000   \n",
       "mean                                  19.053888   \n",
       "std                                    5.548996   \n",
       "min                                    0.160386   \n",
       "25%                                   14.963953   \n",
       "50%                                   19.960006   \n",
       "75%                                   24.974583   \n",
       "max                                   32.028529   \n",
       "\n",
       "       secondary_cleaner.state.floatbank6_a_level  \n",
       "count                                 4859.000000  \n",
       "mean                                  -504.678924  \n",
       "std                                     38.690186  \n",
       "min                                   -809.734800  \n",
       "25%                                   -500.668501  \n",
       "50%                                   -500.033769  \n",
       "75%                                   -499.460134  \n",
       "max                                   -104.427459  \n",
       "\n",
       "[8 rows x 52 columns]"
      ]
     },
     "metadata": {},
     "output_type": "display_data"
    },
    {
     "data": {
      "text/plain": [
       "'Количество пропусков:rougher.input.feed_au                           0\\nrougher.input.feed_ag                           0\\nrougher.input.feed_pb                          28\\nrougher.input.feed_sol                         22\\nrougher.input.feed_rate                         4\\nrougher.input.feed_size                        44\\nrougher.input.floatbank10_sulfate               3\\nrougher.input.floatbank10_xanthate              1\\nrougher.state.floatbank10_a_air                 1\\nrougher.state.floatbank10_a_level               1\\nrougher.state.floatbank10_b_air                 1\\nrougher.state.floatbank10_b_level               1\\nrougher.state.floatbank10_c_air                 1\\nrougher.state.floatbank10_c_level               1\\nrougher.state.floatbank10_d_air                 0\\nrougher.state.floatbank10_d_level               0\\nrougher.state.floatbank10_e_air                 7\\nrougher.state.floatbank10_e_level               0\\nrougher.state.floatbank10_f_air                 0\\nrougher.state.floatbank10_f_level               0\\nrougher.input.floatbank11_sulfate               8\\nrougher.input.floatbank11_xanthate             46\\nprimary_cleaner.input.sulfate                   1\\nprimary_cleaner.input.depressant                9\\nprimary_cleaner.input.feed_size                 0\\nprimary_cleaner.input.xanthate                 43\\nprimary_cleaner.state.floatbank8_a_air          1\\nprimary_cleaner.state.floatbank8_a_level        1\\nprimary_cleaner.state.floatbank8_b_air          1\\nprimary_cleaner.state.floatbank8_b_level        1\\nprimary_cleaner.state.floatbank8_c_air          2\\nprimary_cleaner.state.floatbank8_c_level        1\\nprimary_cleaner.state.floatbank8_d_air          2\\nprimary_cleaner.state.floatbank8_d_level        1\\nsecondary_cleaner.state.floatbank2_a_air      126\\nsecondary_cleaner.state.floatbank2_a_level      1\\nsecondary_cleaner.state.floatbank2_b_air        1\\nsecondary_cleaner.state.floatbank2_b_level      1\\nsecondary_cleaner.state.floatbank3_a_air        1\\nsecondary_cleaner.state.floatbank3_a_level      1\\nsecondary_cleaner.state.floatbank3_b_air        1\\nsecondary_cleaner.state.floatbank3_b_level      1\\nsecondary_cleaner.state.floatbank4_a_air        1\\nsecondary_cleaner.state.floatbank4_a_level      1\\nsecondary_cleaner.state.floatbank4_b_air        1\\nsecondary_cleaner.state.floatbank4_b_level      1\\nsecondary_cleaner.state.floatbank5_a_air        1\\nsecondary_cleaner.state.floatbank5_a_level      1\\nsecondary_cleaner.state.floatbank5_b_air        1\\nsecondary_cleaner.state.floatbank5_b_level      1\\nsecondary_cleaner.state.floatbank6_a_air        1\\nsecondary_cleaner.state.floatbank6_a_level      1\\ndtype: int64'"
      ]
     },
     "metadata": {},
     "output_type": "display_data"
    },
    {
     "data": {
      "text/plain": [
       "'Количество дубликатов:0'"
      ]
     },
     "metadata": {},
     "output_type": "display_data"
    }
   ],
   "source": [
    "print('Тестовая выборка')\n",
    "discover(gold_test)"
   ]
  },
  {
   "cell_type": "code",
   "execution_count": 6,
   "metadata": {},
   "outputs": [
    {
     "name": "stdout",
     "output_type": "stream",
     "text": [
      "Исходные данные\n"
     ]
    },
    {
     "data": {
      "text/html": [
       "<div>\n",
       "<style scoped>\n",
       "    .dataframe tbody tr th:only-of-type {\n",
       "        vertical-align: middle;\n",
       "    }\n",
       "\n",
       "    .dataframe tbody tr th {\n",
       "        vertical-align: top;\n",
       "    }\n",
       "\n",
       "    .dataframe thead th {\n",
       "        text-align: right;\n",
       "    }\n",
       "</style>\n",
       "<table border=\"1\" class=\"dataframe\">\n",
       "  <thead>\n",
       "    <tr style=\"text-align: right;\">\n",
       "      <th></th>\n",
       "      <th>rougher.input.feed_au</th>\n",
       "      <th>rougher.input.feed_ag</th>\n",
       "      <th>rougher.input.feed_pb</th>\n",
       "      <th>rougher.input.feed_sol</th>\n",
       "      <th>rougher.input.feed_rate</th>\n",
       "      <th>rougher.input.feed_size</th>\n",
       "      <th>rougher.input.floatbank10_sulfate</th>\n",
       "      <th>rougher.input.floatbank10_xanthate</th>\n",
       "      <th>rougher.state.floatbank10_a_air</th>\n",
       "      <th>rougher.state.floatbank10_a_level</th>\n",
       "      <th>...</th>\n",
       "      <th>secondary_cleaner.output.tail_sol</th>\n",
       "      <th>final.output.concentrate_au</th>\n",
       "      <th>final.output.concentrate_ag</th>\n",
       "      <th>final.output.concentrate_pb</th>\n",
       "      <th>final.output.concentrate_sol</th>\n",
       "      <th>final.output.recovery</th>\n",
       "      <th>final.output.tail_au</th>\n",
       "      <th>final.output.tail_ag</th>\n",
       "      <th>final.output.tail_pb</th>\n",
       "      <th>final.output.tail_sol</th>\n",
       "    </tr>\n",
       "  </thead>\n",
       "  <tbody>\n",
       "    <tr>\n",
       "      <th>count</th>\n",
       "      <td>19439.000000</td>\n",
       "      <td>19439.000000</td>\n",
       "      <td>19339.000000</td>\n",
       "      <td>19340.000000</td>\n",
       "      <td>19428.000000</td>\n",
       "      <td>19294.000000</td>\n",
       "      <td>19405.000000</td>\n",
       "      <td>19431.000000</td>\n",
       "      <td>19438.000000</td>\n",
       "      <td>19438.000000</td>\n",
       "      <td>...</td>\n",
       "      <td>17691.000000</td>\n",
       "      <td>19439.000000</td>\n",
       "      <td>19438.000000</td>\n",
       "      <td>19438.000000</td>\n",
       "      <td>19228.000000</td>\n",
       "      <td>19439.000000</td>\n",
       "      <td>19439.000000</td>\n",
       "      <td>19438.000000</td>\n",
       "      <td>19338.000000</td>\n",
       "      <td>19433.000000</td>\n",
       "    </tr>\n",
       "    <tr>\n",
       "      <th>mean</th>\n",
       "      <td>8.266097</td>\n",
       "      <td>8.794927</td>\n",
       "      <td>3.598085</td>\n",
       "      <td>36.695114</td>\n",
       "      <td>478.320042</td>\n",
       "      <td>58.970310</td>\n",
       "      <td>12.334373</td>\n",
       "      <td>6.021474</td>\n",
       "      <td>1105.315068</td>\n",
       "      <td>-376.610690</td>\n",
       "      <td>...</td>\n",
       "      <td>7.167247</td>\n",
       "      <td>44.076513</td>\n",
       "      <td>5.168470</td>\n",
       "      <td>9.978895</td>\n",
       "      <td>9.501224</td>\n",
       "      <td>67.050208</td>\n",
       "      <td>3.042467</td>\n",
       "      <td>9.688589</td>\n",
       "      <td>2.705795</td>\n",
       "      <td>10.583728</td>\n",
       "    </tr>\n",
       "    <tr>\n",
       "      <th>std</th>\n",
       "      <td>1.955092</td>\n",
       "      <td>1.936847</td>\n",
       "      <td>1.049486</td>\n",
       "      <td>5.145445</td>\n",
       "      <td>105.373758</td>\n",
       "      <td>21.634478</td>\n",
       "      <td>3.427317</td>\n",
       "      <td>1.127263</td>\n",
       "      <td>160.826798</td>\n",
       "      <td>93.909667</td>\n",
       "      <td>...</td>\n",
       "      <td>3.916079</td>\n",
       "      <td>5.129784</td>\n",
       "      <td>1.372348</td>\n",
       "      <td>1.669240</td>\n",
       "      <td>2.787537</td>\n",
       "      <td>10.125840</td>\n",
       "      <td>0.922808</td>\n",
       "      <td>2.328642</td>\n",
       "      <td>0.949077</td>\n",
       "      <td>2.868782</td>\n",
       "    </tr>\n",
       "    <tr>\n",
       "      <th>min</th>\n",
       "      <td>0.010000</td>\n",
       "      <td>0.010000</td>\n",
       "      <td>0.010000</td>\n",
       "      <td>0.010000</td>\n",
       "      <td>0.002986</td>\n",
       "      <td>0.046369</td>\n",
       "      <td>0.001083</td>\n",
       "      <td>0.000568</td>\n",
       "      <td>-0.042069</td>\n",
       "      <td>-657.949759</td>\n",
       "      <td>...</td>\n",
       "      <td>0.000000</td>\n",
       "      <td>0.000000</td>\n",
       "      <td>0.000000</td>\n",
       "      <td>0.000000</td>\n",
       "      <td>0.000000</td>\n",
       "      <td>0.000000</td>\n",
       "      <td>0.000000</td>\n",
       "      <td>0.000000</td>\n",
       "      <td>0.000000</td>\n",
       "      <td>0.000000</td>\n",
       "    </tr>\n",
       "    <tr>\n",
       "      <th>25%</th>\n",
       "      <td>6.854384</td>\n",
       "      <td>7.237967</td>\n",
       "      <td>2.887280</td>\n",
       "      <td>34.207799</td>\n",
       "      <td>416.525453</td>\n",
       "      <td>47.435103</td>\n",
       "      <td>10.000362</td>\n",
       "      <td>5.398678</td>\n",
       "      <td>999.661867</td>\n",
       "      <td>-499.835165</td>\n",
       "      <td>...</td>\n",
       "      <td>3.845475</td>\n",
       "      <td>43.402215</td>\n",
       "      <td>4.251240</td>\n",
       "      <td>9.137262</td>\n",
       "      <td>7.722820</td>\n",
       "      <td>63.299712</td>\n",
       "      <td>2.461138</td>\n",
       "      <td>8.062878</td>\n",
       "      <td>2.040119</td>\n",
       "      <td>8.938947</td>\n",
       "    </tr>\n",
       "    <tr>\n",
       "      <th>50%</th>\n",
       "      <td>8.125839</td>\n",
       "      <td>8.593574</td>\n",
       "      <td>3.534895</td>\n",
       "      <td>37.202650</td>\n",
       "      <td>499.416120</td>\n",
       "      <td>54.610197</td>\n",
       "      <td>12.001174</td>\n",
       "      <td>6.008273</td>\n",
       "      <td>1001.072890</td>\n",
       "      <td>-300.263994</td>\n",
       "      <td>...</td>\n",
       "      <td>7.685827</td>\n",
       "      <td>45.011244</td>\n",
       "      <td>5.066094</td>\n",
       "      <td>10.102433</td>\n",
       "      <td>9.218961</td>\n",
       "      <td>68.172738</td>\n",
       "      <td>2.984909</td>\n",
       "      <td>9.743623</td>\n",
       "      <td>2.748730</td>\n",
       "      <td>10.622456</td>\n",
       "    </tr>\n",
       "    <tr>\n",
       "      <th>75%</th>\n",
       "      <td>9.769917</td>\n",
       "      <td>10.213771</td>\n",
       "      <td>4.244161</td>\n",
       "      <td>40.039133</td>\n",
       "      <td>550.172183</td>\n",
       "      <td>65.023044</td>\n",
       "      <td>14.716595</td>\n",
       "      <td>6.798051</td>\n",
       "      <td>1205.620588</td>\n",
       "      <td>-299.981998</td>\n",
       "      <td>...</td>\n",
       "      <td>10.411296</td>\n",
       "      <td>46.275313</td>\n",
       "      <td>5.895527</td>\n",
       "      <td>11.035769</td>\n",
       "      <td>10.947813</td>\n",
       "      <td>72.686642</td>\n",
       "      <td>3.571351</td>\n",
       "      <td>11.134294</td>\n",
       "      <td>3.333216</td>\n",
       "      <td>12.104271</td>\n",
       "    </tr>\n",
       "    <tr>\n",
       "      <th>max</th>\n",
       "      <td>13.731330</td>\n",
       "      <td>14.596026</td>\n",
       "      <td>7.142594</td>\n",
       "      <td>53.477742</td>\n",
       "      <td>717.508837</td>\n",
       "      <td>484.967466</td>\n",
       "      <td>36.118275</td>\n",
       "      <td>9.703448</td>\n",
       "      <td>1521.980372</td>\n",
       "      <td>-273.776101</td>\n",
       "      <td>...</td>\n",
       "      <td>26.000772</td>\n",
       "      <td>52.756638</td>\n",
       "      <td>16.001945</td>\n",
       "      <td>17.031899</td>\n",
       "      <td>19.615720</td>\n",
       "      <td>100.000000</td>\n",
       "      <td>8.245022</td>\n",
       "      <td>19.552149</td>\n",
       "      <td>5.804178</td>\n",
       "      <td>22.317730</td>\n",
       "    </tr>\n",
       "  </tbody>\n",
       "</table>\n",
       "<p>8 rows × 86 columns</p>\n",
       "</div>"
      ],
      "text/plain": [
       "       rougher.input.feed_au  rougher.input.feed_ag  rougher.input.feed_pb  \\\n",
       "count           19439.000000           19439.000000           19339.000000   \n",
       "mean                8.266097               8.794927               3.598085   \n",
       "std                 1.955092               1.936847               1.049486   \n",
       "min                 0.010000               0.010000               0.010000   \n",
       "25%                 6.854384               7.237967               2.887280   \n",
       "50%                 8.125839               8.593574               3.534895   \n",
       "75%                 9.769917              10.213771               4.244161   \n",
       "max                13.731330              14.596026               7.142594   \n",
       "\n",
       "       rougher.input.feed_sol  rougher.input.feed_rate  \\\n",
       "count            19340.000000             19428.000000   \n",
       "mean                36.695114               478.320042   \n",
       "std                  5.145445               105.373758   \n",
       "min                  0.010000                 0.002986   \n",
       "25%                 34.207799               416.525453   \n",
       "50%                 37.202650               499.416120   \n",
       "75%                 40.039133               550.172183   \n",
       "max                 53.477742               717.508837   \n",
       "\n",
       "       rougher.input.feed_size  rougher.input.floatbank10_sulfate  \\\n",
       "count             19294.000000                       19405.000000   \n",
       "mean                 58.970310                          12.334373   \n",
       "std                  21.634478                           3.427317   \n",
       "min                   0.046369                           0.001083   \n",
       "25%                  47.435103                          10.000362   \n",
       "50%                  54.610197                          12.001174   \n",
       "75%                  65.023044                          14.716595   \n",
       "max                 484.967466                          36.118275   \n",
       "\n",
       "       rougher.input.floatbank10_xanthate  rougher.state.floatbank10_a_air  \\\n",
       "count                        19431.000000                     19438.000000   \n",
       "mean                             6.021474                      1105.315068   \n",
       "std                              1.127263                       160.826798   \n",
       "min                              0.000568                        -0.042069   \n",
       "25%                              5.398678                       999.661867   \n",
       "50%                              6.008273                      1001.072890   \n",
       "75%                              6.798051                      1205.620588   \n",
       "max                              9.703448                      1521.980372   \n",
       "\n",
       "       rougher.state.floatbank10_a_level  ...  \\\n",
       "count                       19438.000000  ...   \n",
       "mean                         -376.610690  ...   \n",
       "std                            93.909667  ...   \n",
       "min                          -657.949759  ...   \n",
       "25%                          -499.835165  ...   \n",
       "50%                          -300.263994  ...   \n",
       "75%                          -299.981998  ...   \n",
       "max                          -273.776101  ...   \n",
       "\n",
       "       secondary_cleaner.output.tail_sol  final.output.concentrate_au  \\\n",
       "count                       17691.000000                 19439.000000   \n",
       "mean                            7.167247                    44.076513   \n",
       "std                             3.916079                     5.129784   \n",
       "min                             0.000000                     0.000000   \n",
       "25%                             3.845475                    43.402215   \n",
       "50%                             7.685827                    45.011244   \n",
       "75%                            10.411296                    46.275313   \n",
       "max                            26.000772                    52.756638   \n",
       "\n",
       "       final.output.concentrate_ag  final.output.concentrate_pb  \\\n",
       "count                 19438.000000                 19438.000000   \n",
       "mean                      5.168470                     9.978895   \n",
       "std                       1.372348                     1.669240   \n",
       "min                       0.000000                     0.000000   \n",
       "25%                       4.251240                     9.137262   \n",
       "50%                       5.066094                    10.102433   \n",
       "75%                       5.895527                    11.035769   \n",
       "max                      16.001945                    17.031899   \n",
       "\n",
       "       final.output.concentrate_sol  final.output.recovery  \\\n",
       "count                  19228.000000           19439.000000   \n",
       "mean                       9.501224              67.050208   \n",
       "std                        2.787537              10.125840   \n",
       "min                        0.000000               0.000000   \n",
       "25%                        7.722820              63.299712   \n",
       "50%                        9.218961              68.172738   \n",
       "75%                       10.947813              72.686642   \n",
       "max                       19.615720             100.000000   \n",
       "\n",
       "       final.output.tail_au  final.output.tail_ag  final.output.tail_pb  \\\n",
       "count          19439.000000          19438.000000          19338.000000   \n",
       "mean               3.042467              9.688589              2.705795   \n",
       "std                0.922808              2.328642              0.949077   \n",
       "min                0.000000              0.000000              0.000000   \n",
       "25%                2.461138              8.062878              2.040119   \n",
       "50%                2.984909              9.743623              2.748730   \n",
       "75%                3.571351             11.134294              3.333216   \n",
       "max                8.245022             19.552149              5.804178   \n",
       "\n",
       "       final.output.tail_sol  \n",
       "count           19433.000000  \n",
       "mean               10.583728  \n",
       "std                 2.868782  \n",
       "min                 0.000000  \n",
       "25%                 8.938947  \n",
       "50%                10.622456  \n",
       "75%                12.104271  \n",
       "max                22.317730  \n",
       "\n",
       "[8 rows x 86 columns]"
      ]
     },
     "metadata": {},
     "output_type": "display_data"
    },
    {
     "data": {
      "text/plain": [
       "'Количество пропусков:rougher.input.feed_au        0\\nrougher.input.feed_ag        0\\nrougher.input.feed_pb      100\\nrougher.input.feed_sol      99\\nrougher.input.feed_rate     11\\n                          ... \\nfinal.output.recovery        0\\nfinal.output.tail_au         0\\nfinal.output.tail_ag         1\\nfinal.output.tail_pb       101\\nfinal.output.tail_sol        6\\nLength: 86, dtype: int64'"
      ]
     },
     "metadata": {},
     "output_type": "display_data"
    },
    {
     "data": {
      "text/plain": [
       "'Количество дубликатов:0'"
      ]
     },
     "metadata": {},
     "output_type": "display_data"
    }
   ],
   "source": [
    "print('Исходные данные')\n",
    "discover(gold_full)"
   ]
  },
  {
   "cell_type": "code",
   "execution_count": 7,
   "metadata": {},
   "outputs": [
    {
     "name": "stdout",
     "output_type": "stream",
     "text": [
      "<class 'pandas.core.frame.DataFrame'>\n",
      "Index: 19439 entries, 2016-01-15 00:00:00 to 2018-08-18 10:59:59\n",
      "Data columns (total 86 columns):\n",
      " #   Column                                              Non-Null Count  Dtype  \n",
      "---  ------                                              --------------  -----  \n",
      " 0   rougher.input.feed_au                               19439 non-null  float64\n",
      " 1   rougher.input.feed_ag                               19439 non-null  float64\n",
      " 2   rougher.input.feed_pb                               19339 non-null  float64\n",
      " 3   rougher.input.feed_sol                              19340 non-null  float64\n",
      " 4   rougher.input.feed_rate                             19428 non-null  float64\n",
      " 5   rougher.input.feed_size                             19294 non-null  float64\n",
      " 6   rougher.input.floatbank10_sulfate                   19405 non-null  float64\n",
      " 7   rougher.input.floatbank10_xanthate                  19431 non-null  float64\n",
      " 8   rougher.state.floatbank10_a_air                     19438 non-null  float64\n",
      " 9   rougher.state.floatbank10_a_level                   19438 non-null  float64\n",
      " 10  rougher.state.floatbank10_b_air                     19438 non-null  float64\n",
      " 11  rougher.state.floatbank10_b_level                   19438 non-null  float64\n",
      " 12  rougher.state.floatbank10_c_air                     19438 non-null  float64\n",
      " 13  rougher.state.floatbank10_c_level                   19438 non-null  float64\n",
      " 14  rougher.state.floatbank10_d_air                     19439 non-null  float64\n",
      " 15  rougher.state.floatbank10_d_level                   19439 non-null  float64\n",
      " 16  rougher.state.floatbank10_e_air                     19003 non-null  float64\n",
      " 17  rougher.state.floatbank10_e_level                   19439 non-null  float64\n",
      " 18  rougher.state.floatbank10_f_air                     19439 non-null  float64\n",
      " 19  rougher.state.floatbank10_f_level                   19439 non-null  float64\n",
      " 20  rougher.input.floatbank11_sulfate                   19395 non-null  float64\n",
      " 21  rougher.input.floatbank11_xanthate                  18986 non-null  float64\n",
      " 22  rougher.calculation.sulfate_to_au_concentrate       19437 non-null  float64\n",
      " 23  rougher.calculation.floatbank10_sulfate_to_au_feed  19437 non-null  float64\n",
      " 24  rougher.calculation.floatbank11_sulfate_to_au_feed  19437 non-null  float64\n",
      " 25  rougher.calculation.au_pb_ratio                     19439 non-null  float64\n",
      " 26  rougher.output.concentrate_au                       19439 non-null  float64\n",
      " 27  rougher.output.concentrate_ag                       19439 non-null  float64\n",
      " 28  rougher.output.concentrate_pb                       19439 non-null  float64\n",
      " 29  rougher.output.concentrate_sol                      19416 non-null  float64\n",
      " 30  rougher.output.recovery                             19439 non-null  float64\n",
      " 31  rougher.output.tail_au                              19439 non-null  float64\n",
      " 32  rougher.output.tail_ag                              19438 non-null  float64\n",
      " 33  rougher.output.tail_pb                              19439 non-null  float64\n",
      " 34  rougher.output.tail_sol                             19439 non-null  float64\n",
      " 35  primary_cleaner.input.sulfate                       19415 non-null  float64\n",
      " 36  primary_cleaner.input.depressant                    19402 non-null  float64\n",
      " 37  primary_cleaner.input.feed_size                     19439 non-null  float64\n",
      " 38  primary_cleaner.input.xanthate                      19335 non-null  float64\n",
      " 39  primary_cleaner.state.floatbank8_a_air              19435 non-null  float64\n",
      " 40  primary_cleaner.state.floatbank8_a_level            19438 non-null  float64\n",
      " 41  primary_cleaner.state.floatbank8_b_air              19435 non-null  float64\n",
      " 42  primary_cleaner.state.floatbank8_b_level            19438 non-null  float64\n",
      " 43  primary_cleaner.state.floatbank8_c_air              19437 non-null  float64\n",
      " 44  primary_cleaner.state.floatbank8_c_level            19438 non-null  float64\n",
      " 45  primary_cleaner.state.floatbank8_d_air              19436 non-null  float64\n",
      " 46  primary_cleaner.state.floatbank8_d_level            19438 non-null  float64\n",
      " 47  primary_cleaner.output.concentrate_au               19439 non-null  float64\n",
      " 48  primary_cleaner.output.concentrate_ag               19439 non-null  float64\n",
      " 49  primary_cleaner.output.concentrate_pb               19323 non-null  float64\n",
      " 50  primary_cleaner.output.concentrate_sol              19069 non-null  float64\n",
      " 51  primary_cleaner.output.tail_au                      19439 non-null  float64\n",
      " 52  primary_cleaner.output.tail_ag                      19435 non-null  float64\n",
      " 53  primary_cleaner.output.tail_pb                      19418 non-null  float64\n",
      " 54  primary_cleaner.output.tail_sol                     19377 non-null  float64\n",
      " 55  secondary_cleaner.state.floatbank2_a_air            19219 non-null  float64\n",
      " 56  secondary_cleaner.state.floatbank2_a_level          19438 non-null  float64\n",
      " 57  secondary_cleaner.state.floatbank2_b_air            19416 non-null  float64\n",
      " 58  secondary_cleaner.state.floatbank2_b_level          19438 non-null  float64\n",
      " 59  secondary_cleaner.state.floatbank3_a_air            19426 non-null  float64\n",
      " 60  secondary_cleaner.state.floatbank3_a_level          19438 non-null  float64\n",
      " 61  secondary_cleaner.state.floatbank3_b_air            19438 non-null  float64\n",
      " 62  secondary_cleaner.state.floatbank3_b_level          19438 non-null  float64\n",
      " 63  secondary_cleaner.state.floatbank4_a_air            19433 non-null  float64\n",
      " 64  secondary_cleaner.state.floatbank4_a_level          19438 non-null  float64\n",
      " 65  secondary_cleaner.state.floatbank4_b_air            19438 non-null  float64\n",
      " 66  secondary_cleaner.state.floatbank4_b_level          19438 non-null  float64\n",
      " 67  secondary_cleaner.state.floatbank5_a_air            19438 non-null  float64\n",
      " 68  secondary_cleaner.state.floatbank5_a_level          19438 non-null  float64\n",
      " 69  secondary_cleaner.state.floatbank5_b_air            19438 non-null  float64\n",
      " 70  secondary_cleaner.state.floatbank5_b_level          19438 non-null  float64\n",
      " 71  secondary_cleaner.state.floatbank6_a_air            19437 non-null  float64\n",
      " 72  secondary_cleaner.state.floatbank6_a_level          19438 non-null  float64\n",
      " 73  secondary_cleaner.output.tail_au                    19439 non-null  float64\n",
      " 74  secondary_cleaner.output.tail_ag                    19437 non-null  float64\n",
      " 75  secondary_cleaner.output.tail_pb                    19427 non-null  float64\n",
      " 76  secondary_cleaner.output.tail_sol                   17691 non-null  float64\n",
      " 77  final.output.concentrate_au                         19439 non-null  float64\n",
      " 78  final.output.concentrate_ag                         19438 non-null  float64\n",
      " 79  final.output.concentrate_pb                         19438 non-null  float64\n",
      " 80  final.output.concentrate_sol                        19228 non-null  float64\n",
      " 81  final.output.recovery                               19439 non-null  float64\n",
      " 82  final.output.tail_au                                19439 non-null  float64\n",
      " 83  final.output.tail_ag                                19438 non-null  float64\n",
      " 84  final.output.tail_pb                                19338 non-null  float64\n",
      " 85  final.output.tail_sol                               19433 non-null  float64\n",
      "dtypes: float64(86)\n",
      "memory usage: 12.9+ MB\n"
     ]
    }
   ],
   "source": [
    "gold_full.info() #посмотрим названия всех столбцов для дальнейшей работы"
   ]
  },
  {
   "cell_type": "code",
   "execution_count": 8,
   "metadata": {},
   "outputs": [
    {
     "data": {
      "text/plain": [
       "((14579, 86), (4860, 52), (19439, 86))"
      ]
     },
     "execution_count": 8,
     "metadata": {},
     "output_type": "execute_result"
    }
   ],
   "source": [
    "gold_train.shape, gold_test.shape, gold_full.shape\n",
    "#посмотрим размер датасетов"
   ]
  },
  {
   "cell_type": "markdown",
   "metadata": {},
   "source": [
    "В тестовой выборке 52 признака, в то время как в тренировочной 86. Во всех выборках отсутствуют данные."
   ]
  },
  {
   "cell_type": "markdown",
   "metadata": {},
   "source": [
    "### Расчет эффективности обогащения "
   ]
  },
  {
   "cell_type": "markdown",
   "metadata": {},
   "source": [
    " **Проверим расчет эффективности обогащения на обучающей выборке**"
   ]
  },
  {
   "cell_type": "markdown",
   "metadata": {},
   "source": [
    "- C — доля золота в концентрате после флотации/очистки\n",
    "- F — доля золота в сырье/концентрате до флотации/очистки\n",
    "- T — доля золота в отвальных хвостах после флотации/очистки"
   ]
  },
  {
   "cell_type": "code",
   "execution_count": 9,
   "metadata": {},
   "outputs": [
    {
     "data": {
      "text/plain": [
       "count    14579.000000\n",
       "mean        82.521200\n",
       "std         15.797521\n",
       "min         -0.000000\n",
       "25%         80.558542\n",
       "50%         85.946497\n",
       "75%         89.960375\n",
       "max        100.000000\n",
       "dtype: float64"
      ]
     },
     "execution_count": 9,
     "metadata": {},
     "output_type": "execute_result"
    }
   ],
   "source": [
    "C = gold_train['rougher.output.concentrate_au']\n",
    "F = gold_train['rougher.input.feed_au']\n",
    "T = gold_train['rougher.output.tail_au']\n",
    "\n",
    "recovery = ((C * (F - T)) / (F * (C - T))) * 100\n",
    "recovery.describe()"
   ]
  },
  {
   "cell_type": "markdown",
   "metadata": {},
   "source": [
    "### MAE"
   ]
  },
  {
   "cell_type": "markdown",
   "metadata": {},
   "source": [
    "**Найдем МАЕ между нашим расчетом и значением признака rougher.output.recovery**"
   ]
  },
  {
   "cell_type": "code",
   "execution_count": 10,
   "metadata": {},
   "outputs": [
    {
     "name": "stdout",
     "output_type": "stream",
     "text": [
      "MAE 9.83758577644259e-15\n"
     ]
    }
   ],
   "source": [
    "mae_recovery = mean_absolute_error(gold_train['rougher.output.recovery'], recovery)\n",
    "print('MAE', mae_recovery)"
   ]
  },
  {
   "cell_type": "markdown",
   "metadata": {},
   "source": [
    "Средняя абсолютная ошибка между расчетом и значением признака rougher.output.recovery незначительна, значение верно."
   ]
  },
  {
   "cell_type": "markdown",
   "metadata": {},
   "source": [
    "### Анализ признаков"
   ]
  },
  {
   "cell_type": "markdown",
   "metadata": {},
   "source": [
    "**Проанализируем признаки, недоступные в тестовой выборке**"
   ]
  },
  {
   "cell_type": "code",
   "execution_count": 11,
   "metadata": {},
   "outputs": [
    {
     "name": "stdout",
     "output_type": "stream",
     "text": [
      "<class 'pandas.core.frame.DataFrame'>\n",
      "Index: 14579 entries, 2016-01-15 00:00:00 to 2017-12-09 13:59:59\n",
      "Data columns (total 34 columns):\n",
      " #   Column                                              Non-Null Count  Dtype  \n",
      "---  ------                                              --------------  -----  \n",
      " 0   primary_cleaner.output.tail_sol                     14534 non-null  float64\n",
      " 1   secondary_cleaner.output.tail_pb                    14575 non-null  float64\n",
      " 2   rougher.calculation.floatbank10_sulfate_to_au_feed  14578 non-null  float64\n",
      " 3   final.output.recovery                               14579 non-null  float64\n",
      " 4   primary_cleaner.output.tail_au                      14579 non-null  float64\n",
      " 5   primary_cleaner.output.concentrate_pb               14491 non-null  float64\n",
      " 6   primary_cleaner.output.concentrate_sol              14314 non-null  float64\n",
      " 7   final.output.tail_ag                                14578 non-null  float64\n",
      " 8   rougher.output.concentrate_ag                       14579 non-null  float64\n",
      " 9   rougher.output.tail_au                              14579 non-null  float64\n",
      " 10  final.output.concentrate_ag                         14578 non-null  float64\n",
      " 11  final.output.concentrate_sol                        14387 non-null  float64\n",
      " 12  secondary_cleaner.output.tail_sol                   13659 non-null  float64\n",
      " 13  final.output.concentrate_pb                         14578 non-null  float64\n",
      " 14  rougher.output.concentrate_sol                      14561 non-null  float64\n",
      " 15  primary_cleaner.output.tail_ag                      14575 non-null  float64\n",
      " 16  final.output.tail_pb                                14504 non-null  float64\n",
      " 17  final.output.tail_au                                14579 non-null  float64\n",
      " 18  secondary_cleaner.output.tail_ag                    14578 non-null  float64\n",
      " 19  rougher.output.recovery                             14579 non-null  float64\n",
      " 20  primary_cleaner.output.concentrate_au               14579 non-null  float64\n",
      " 21  rougher.output.tail_ag                              14578 non-null  float64\n",
      " 22  rougher.calculation.floatbank11_sulfate_to_au_feed  14578 non-null  float64\n",
      " 23  primary_cleaner.output.concentrate_ag               14579 non-null  float64\n",
      " 24  primary_cleaner.output.tail_pb                      14573 non-null  float64\n",
      " 25  final.output.tail_sol                               14574 non-null  float64\n",
      " 26  final.output.concentrate_au                         14579 non-null  float64\n",
      " 27  rougher.output.concentrate_au                       14579 non-null  float64\n",
      " 28  rougher.output.concentrate_pb                       14579 non-null  float64\n",
      " 29  rougher.output.tail_pb                              14579 non-null  float64\n",
      " 30  secondary_cleaner.output.tail_au                    14579 non-null  float64\n",
      " 31  rougher.calculation.sulfate_to_au_concentrate       14578 non-null  float64\n",
      " 32  rougher.output.tail_sol                             14579 non-null  float64\n",
      " 33  rougher.calculation.au_pb_ratio                     14579 non-null  float64\n",
      "dtypes: float64(34)\n",
      "memory usage: 4.4+ MB\n"
     ]
    }
   ],
   "source": [
    "def lost(list1, list2):\n",
    "    return set(list1.columns) - set(list2.columns)\n",
    "lost_features = lost(gold_train, gold_test)\n",
    "gold_train[lost_features].info() #посмотрим тип и параметры"
   ]
  },
  {
   "cell_type": "markdown",
   "metadata": {},
   "source": [
    "Недоступные признаки в тестовой выборке типа float.\n",
    "Всего 34 признака, включающие параметры продукта и расчетные. \n",
    "\n",
    "Некоторые параметры недоступны, потому что замеряются и/или рассчитываются значительно позже. \n",
    "Из-за этого в тестовой выборке отсутствуют некоторые признаки, которые могут быть в обучающей."
   ]
  },
  {
   "cell_type": "code",
   "execution_count": 12,
   "metadata": {},
   "outputs": [
    {
     "data": {
      "text/plain": [
       "(4860, 54)"
      ]
     },
     "execution_count": 12,
     "metadata": {},
     "output_type": "execute_result"
    }
   ],
   "source": [
    "gold_test = gold_test.merge(gold_full[['final.output.recovery', 'rougher.output.recovery']], on='date', how='left')\n",
    "gold_test.shape #добавим в тестовую выборку целевые признаки из исходных данных по совпадению даты"
   ]
  },
  {
   "cell_type": "code",
   "execution_count": 13,
   "metadata": {},
   "outputs": [],
   "source": [
    "gold_train = gold_train.fillna(method='bfill')\n",
    "gold_test = gold_test.fillna(method='bfill') #заполним пропуски соседними параметрами, которые часто похожи (из описания задачи)"
   ]
  },
  {
   "cell_type": "code",
   "execution_count": 14,
   "metadata": {},
   "outputs": [
    {
     "data": {
      "text/plain": [
       "(0, 0)"
      ]
     },
     "execution_count": 14,
     "metadata": {},
     "output_type": "execute_result"
    }
   ],
   "source": [
    "gold_train.isna().sum().sum(), gold_test.isna().sum().sum() #проверим пропуски"
   ]
  },
  {
   "cell_type": "markdown",
   "metadata": {},
   "source": [
    "<div style=\"border:solid steelblue 2px; padding: 10px; border-radius: 5px\">\n",
    "В тестовой выборке 52 признака, в то время как в тренировочной 86. Во всех выборках отсутствуют данные.\n",
    "\n",
    "Средняя абсолютная ошибка между расчетом и значением признака rougher.output.recovery незначительна, значение верно.\n",
    "MAE 9.83758577644259e-15\n",
    "\n",
    "Недоступные признаки в тестовой выборке типа float. Всего 34 признака, включающие параметры продукта и расчетные.\n",
    "\n",
    "Удалили строки с пустыми значениями целевых признаков в тренировочной и тестовой выборках. \n",
    "Заполнили пропуски соседними параметрами, которые часто похожи (из описания задачи)"
   ]
  },
  {
   "cell_type": "markdown",
   "metadata": {},
   "source": [
    "## Анализ данных"
   ]
  },
  {
   "cell_type": "markdown",
   "metadata": {},
   "source": [
    "### Концентрация металлов"
   ]
  },
  {
   "cell_type": "markdown",
   "metadata": {},
   "source": [
    "**Посмотрим, как меняется концентрация металлов:**\n",
    "- AU золото\n",
    "- AG серебро\n",
    "- PB свинец\n",
    "\n",
    "на различных этапах: \n",
    "- в сырье rougher.input.feed\n",
    "- в черновом концентрате rougher.output.concentrate\n",
    "- в концентрате после первой очистки primary_cleaner.output.concentrate\n",
    "- в финальном концентрате final.output.concentrate                "
   ]
  },
  {
   "cell_type": "code",
   "execution_count": 15,
   "metadata": {},
   "outputs": [],
   "source": [
    "METALS = ['au', 'ag', 'pb']"
   ]
  },
  {
   "cell_type": "code",
   "execution_count": 16,
   "metadata": {},
   "outputs": [],
   "source": [
    "PHASES = ['rougher.input.feed','rougher.output.concentrate','primary_cleaner.output.concentrate','final.output.concentrate']"
   ]
  },
  {
   "cell_type": "code",
   "execution_count": 17,
   "metadata": {},
   "outputs": [
    {
     "data": {
      "image/png": "[encoded data removed]",
      "text/plain": [
       "<Figure size 864x288 with 1 Axes>"
      ]
     },
     "metadata": {
      "needs_background": "light"
     },
     "output_type": "display_data"
    },
    {
     "data": {
      "image/png": "[encoded data removed]",
      "text/plain": [
       "<Figure size 864x288 with 1 Axes>"
      ]
     },
     "metadata": {
      "needs_background": "light"
     },
     "output_type": "display_data"
    },
    {
     "data": {
      "image/png": "[encoded data removed]",
      "text/plain": [
       "<Figure size 864x288 with 1 Axes>"
      ]
     },
     "metadata": {
      "needs_background": "light"
     },
     "output_type": "display_data"
    }
   ],
   "source": [
    "for metal in METALS:\n",
    "    index = ['{}_{}'.format(x, metal) for x in PHASES]\n",
    "    \n",
    "    gold_train[index].plot(\n",
    "        title = 'Концентрация на различных этапах {}'.format(metal.lower()),\n",
    "        kind = 'hist', \n",
    "        bins = 150, \n",
    "        grid = True, \n",
    "        legend = True,\n",
    "        figsize = (12, 4),\n",
    "        alpha = 0.5,\n",
    "    ).set(xlabel = 'Концентрация', ylabel = 'Результат')\n",
    "    \n",
    "    plt.show()"
   ]
  },
  {
   "cell_type": "markdown",
   "metadata": {},
   "source": [
    "Посмотрим средние значения"
   ]
  },
  {
   "cell_type": "code",
   "execution_count": 18,
   "metadata": {},
   "outputs": [
    {
     "data": {
      "text/plain": [
       "rougher.input.feed_au                     8.35\n",
       "rougher.output.concentrate_au            19.72\n",
       "primary_cleaner.output.concentrate_au    32.01\n",
       "final.output.concentrate_au              43.98\n",
       "dtype: float64"
      ]
     },
     "metadata": {},
     "output_type": "display_data"
    },
    {
     "data": {
      "text/plain": [
       "rougher.input.feed_ag                     8.88\n",
       "rougher.output.concentrate_ag            11.94\n",
       "primary_cleaner.output.concentrate_ag     8.47\n",
       "final.output.concentrate_ag               5.19\n",
       "dtype: float64"
      ]
     },
     "metadata": {},
     "output_type": "display_data"
    },
    {
     "data": {
      "text/plain": [
       "rougher.input.feed_pb                    3.59\n",
       "rougher.output.concentrate_pb            7.50\n",
       "primary_cleaner.output.concentrate_pb    9.73\n",
       "final.output.concentrate_pb              9.92\n",
       "dtype: float64"
      ]
     },
     "metadata": {},
     "output_type": "display_data"
    }
   ],
   "source": [
    "for metal in METALS:\n",
    "    index = ['{}_{}'.format(x, metal) for x in PHASES]\n",
    "    display(gold_train[index].mean().round(2))"
   ]
  },
  {
   "cell_type": "markdown",
   "metadata": {},
   "source": [
    "<div style=\"border:solid steelblue 2px; padding: 10px; border-radius: 5px\"> \n",
    "Наилучший показатель у золота - концентрация растет с каждым этапом, в финальном более 5 раз от сырья. <br>\n",
    "Концентрация серебра начала снижаться после чернового концентрата, уменьшилась на треть.  <br>\n",
    "После первой очистки повысилась концентрация свинца, но почти не изменялись в финальном. <br>\n",
    "У каждого металла свой характер.\n",
    "\n",
    "*Золото*\n",
    "- в сырье 8.35\n",
    "- в черновом концентрате 19.72\n",
    "- в концентрате после первой очистки 32.01\n",
    "- в финальном концентрате 43.98\n",
    "\n",
    "*Серебро*\n",
    "- в сырье 8.88\n",
    "- в черновом концентрате 11.94\n",
    "- в концентрате после первой очистки 8.47\n",
    "- в финальном концентрате 5.19\n",
    "\n",
    "*Свинец*\n",
    "- в сырье 3.59\n",
    "- в черновом концентрате 7.50\n",
    "- в концентрате после первой очистки 9.73\n",
    "- в финальном концентрате 9.92\n"
   ]
  },
  {
   "cell_type": "code",
   "execution_count": 19,
   "metadata": {},
   "outputs": [],
   "source": [
    "def filtered(gold):\n",
    "    \n",
    "    gold = gold.drop(gold[gold['rougher.input.feed_au'] < 1].index, axis = 0)\n",
    "    gold = gold.drop(gold[gold['rougher.input.feed_ag'] < 1].index, axis = 0)\n",
    "    gold = gold.drop(gold[gold['rougher.input.feed_pb'] < 1].index, axis = 0)\n",
    "\n",
    "    gold = gold.drop(gold[gold['rougher.output.concentrate_au'] < 1].index, axis = 0)\n",
    "    gold = gold.drop(gold[gold['rougher.output.concentrate_ag'] < 1].index, axis = 0)\n",
    "    gold = gold.drop(gold[gold['rougher.output.concentrate_pb'] < 1].index, axis = 0)\n",
    "    \n",
    "    gold = gold.drop(gold[gold['primary_cleaner.output.concentrate_au'] < 1].index, axis = 0)\n",
    "    gold = gold.drop(gold[gold['primary_cleaner.output.concentrate_ag'] < 1].index, axis = 0)\n",
    "    gold = gold.drop(gold[gold['primary_cleaner.output.concentrate_pb'] < 1].index, axis = 0)\n",
    "\n",
    "    gold = gold.drop(gold[gold['final.output.concentrate_au'] < 1].index, axis = 0)\n",
    "    gold = gold.drop(gold[gold['final.output.concentrate_ag'] < 1].index, axis = 0)\n",
    "    gold = gold.drop(gold[gold['final.output.concentrate_pb'] < 1].index, axis = 0)\n",
    "    \n",
    "    return gold"
   ]
  },
  {
   "cell_type": "code",
   "execution_count": 20,
   "metadata": {},
   "outputs": [],
   "source": [
    "gold_train_n = filtered(gold_train)"
   ]
  },
  {
   "cell_type": "markdown",
   "metadata": {},
   "source": [
    "### Распределение гранул"
   ]
  },
  {
   "cell_type": "markdown",
   "metadata": {},
   "source": [
    "**Сравним распределения размеров гранул исходного сырья на обучающей и тестовой выборках.**"
   ]
  },
  {
   "cell_type": "code",
   "execution_count": 21,
   "metadata": {
    "scrolled": true
   },
   "outputs": [
    {
     "data": {
      "image/png": "[encoded data removed]",
      "text/plain": [
       "<Figure size 720x288 with 1 Axes>"
      ]
     },
     "metadata": {
      "needs_background": "light"
     },
     "output_type": "display_data"
    },
    {
     "name": "stdout",
     "output_type": "stream",
     "text": [
      "Средний размер гранул на обучающей выборке 58.79\n",
      "Средний размер гранул на тестовой выборке 59.08\n"
     ]
    }
   ],
   "source": [
    "plt.figure(figsize=(10, 4))\n",
    "sns.kdeplot(gold_train_n['rougher.input.feed_size'],label='обучающая', alpha=0.3, shade=True)\n",
    "sns.kdeplot(gold_test['rougher.input.feed_size'],label='тестовая', alpha=0.3, shade=True)\n",
    "plt.title('Распределение размеров гранул исходного сырья на обучающей и тестовой выборках')\n",
    "plt.xlabel('Размер гранул')\n",
    "plt.ylabel('Плотность распределения')\n",
    "plt.legend(loc='upper right')\n",
    "plt.show()\n",
    "\n",
    "g_train = gold_train_n['rougher.input.feed_size']\n",
    "g_test = gold_test['rougher.input.feed_size']\n",
    "\n",
    "print('Средний размер гранул на обучающей выборке', g_train.mean().round(2))\n",
    "print('Средний размер гранул на тестовой выборке', g_test.mean().round(2))"
   ]
  },
  {
   "cell_type": "markdown",
   "metadata": {},
   "source": [
    "Распределения размеров похожи, оценка модели будет правильной."
   ]
  },
  {
   "cell_type": "markdown",
   "metadata": {},
   "source": [
    "### Суммарная концентрация металлов"
   ]
  },
  {
   "cell_type": "markdown",
   "metadata": {},
   "source": [
    "**Исследуем суммарную концентрацию металлов на разных стадиях: в сырье, в черновом концентрате, в концентрате после первой очистки и в финальном концентрате.**"
   ]
  },
  {
   "cell_type": "code",
   "execution_count": 22,
   "metadata": {},
   "outputs": [
    {
     "data": {
      "text/html": [
       "<div>\n",
       "<style scoped>\n",
       "    .dataframe tbody tr th:only-of-type {\n",
       "        vertical-align: middle;\n",
       "    }\n",
       "\n",
       "    .dataframe tbody tr th {\n",
       "        vertical-align: top;\n",
       "    }\n",
       "\n",
       "    .dataframe thead th {\n",
       "        text-align: right;\n",
       "    }\n",
       "</style>\n",
       "<table border=\"1\" class=\"dataframe\">\n",
       "  <thead>\n",
       "    <tr style=\"text-align: right;\">\n",
       "      <th></th>\n",
       "      <th>input.feed.sum</th>\n",
       "      <th>output.concentrate.sum</th>\n",
       "      <th>primary.cleaner.sum</th>\n",
       "      <th>final.sum</th>\n",
       "    </tr>\n",
       "  </thead>\n",
       "  <tbody>\n",
       "    <tr>\n",
       "      <th>count</th>\n",
       "      <td>13752.000000</td>\n",
       "      <td>13752.000000</td>\n",
       "      <td>13752.000000</td>\n",
       "      <td>13752.000000</td>\n",
       "    </tr>\n",
       "    <tr>\n",
       "      <th>mean</th>\n",
       "      <td>20.904595</td>\n",
       "      <td>40.307587</td>\n",
       "      <td>51.039631</td>\n",
       "      <td>59.580222</td>\n",
       "    </tr>\n",
       "    <tr>\n",
       "      <th>std</th>\n",
       "      <td>4.345553</td>\n",
       "      <td>3.776404</td>\n",
       "      <td>4.829354</td>\n",
       "      <td>3.914133</td>\n",
       "    </tr>\n",
       "    <tr>\n",
       "      <th>min</th>\n",
       "      <td>5.394392</td>\n",
       "      <td>6.569552</td>\n",
       "      <td>6.518568</td>\n",
       "      <td>9.231520</td>\n",
       "    </tr>\n",
       "    <tr>\n",
       "      <th>25%</th>\n",
       "      <td>17.475313</td>\n",
       "      <td>38.634997</td>\n",
       "      <td>50.168945</td>\n",
       "      <td>59.289957</td>\n",
       "    </tr>\n",
       "    <tr>\n",
       "      <th>50%</th>\n",
       "      <td>20.450714</td>\n",
       "      <td>40.486299</td>\n",
       "      <td>51.909867</td>\n",
       "      <td>60.279473</td>\n",
       "    </tr>\n",
       "    <tr>\n",
       "      <th>75%</th>\n",
       "      <td>23.980289</td>\n",
       "      <td>42.504450</td>\n",
       "      <td>53.328804</td>\n",
       "      <td>61.055966</td>\n",
       "    </tr>\n",
       "    <tr>\n",
       "      <th>max</th>\n",
       "      <td>33.324268</td>\n",
       "      <td>55.568687</td>\n",
       "      <td>60.106566</td>\n",
       "      <td>64.968881</td>\n",
       "    </tr>\n",
       "  </tbody>\n",
       "</table>\n",
       "</div>"
      ],
      "text/plain": [
       "       input.feed.sum  output.concentrate.sum  primary.cleaner.sum  \\\n",
       "count    13752.000000            13752.000000         13752.000000   \n",
       "mean        20.904595               40.307587            51.039631   \n",
       "std          4.345553                3.776404             4.829354   \n",
       "min          5.394392                6.569552             6.518568   \n",
       "25%         17.475313               38.634997            50.168945   \n",
       "50%         20.450714               40.486299            51.909867   \n",
       "75%         23.980289               42.504450            53.328804   \n",
       "max         33.324268               55.568687            60.106566   \n",
       "\n",
       "          final.sum  \n",
       "count  13752.000000  \n",
       "mean      59.580222  \n",
       "std        3.914133  \n",
       "min        9.231520  \n",
       "25%       59.289957  \n",
       "50%       60.279473  \n",
       "75%       61.055966  \n",
       "max       64.968881  "
      ]
     },
     "execution_count": 22,
     "metadata": {},
     "output_type": "execute_result"
    }
   ],
   "source": [
    "concentration_sum = pd.DataFrame()\n",
    "\n",
    "concentration_sum['input.feed.sum'] = gold_train_n['rougher.input.feed_ag'] + gold_train_n['rougher.input.feed_au'] \\\n",
    "+ gold_train_n['rougher.input.feed_pb']\n",
    "#в сырье\n",
    "\n",
    "concentration_sum['output.concentrate.sum'] = gold_train_n['rougher.output.concentrate_ag'] + gold_train_n['rougher.output.concentrate_au'] \\\n",
    "+ gold_train['rougher.output.concentrate_pb']\n",
    "# в черновом концентрате\n",
    "\n",
    "concentration_sum['primary.cleaner.sum'] = gold_train_n['primary_cleaner.output.concentrate_ag'] + \\\n",
    "gold_train_n['primary_cleaner.output.concentrate_au'] + gold_train_n['primary_cleaner.output.concentrate_pb'] \n",
    "#в концентрате после первой очистки\n",
    "\n",
    "concentration_sum['final.sum'] = gold_train_n['final.output.concentrate_ag'] + gold_train_n['final.output.concentrate_au'] + \\\n",
    "gold_train_n['final.output.concentrate_pb'] \n",
    "#в финальном концентрате\n",
    "\n",
    "concentration_sum.describe()"
   ]
  },
  {
   "cell_type": "code",
   "execution_count": 23,
   "metadata": {},
   "outputs": [
    {
     "data": {
      "image/png": "[encoded data removed]",
      "text/plain": [
       "<Figure size 720x360 with 1 Axes>"
      ]
     },
     "metadata": {
      "needs_background": "light"
     },
     "output_type": "display_data"
    }
   ],
   "source": [
    "plt.figure(figsize = (10, 5))\n",
    "concentration_sum['input.feed.sum'].hist(label='в сырье',bins=50, alpha=0.5)\n",
    "concentration_sum['output.concentrate.sum'].hist(label='в черновом концентрате', bins=50, alpha=0.5)\n",
    "concentration_sum['primary.cleaner.sum'].hist(label='в концентрате после первой очистки', bins=50, alpha=0.5)\n",
    "concentration_sum['final.sum'].hist(label='в финальном концентрате', bins=50, alpha=0.5)\n",
    "plt.title('Распределения суммарной концентрации металлов на разных стадиях')\n",
    "plt.xlabel('Сумарная концентрация')\n",
    "plt.ylabel('Результат')\n",
    "plt.legend(loc='upper left')\n",
    "plt.show() #построим гистограмму"
   ]
  },
  {
   "cell_type": "markdown",
   "metadata": {},
   "source": [
    "Суммарная концентрация металлов растет в черновом концентрате и после первой очистки."
   ]
  },
  {
   "cell_type": "markdown",
   "metadata": {},
   "source": [
    "\n"
   ]
  },
  {
   "cell_type": "markdown",
   "metadata": {},
   "source": [
    "## Модель"
   ]
  },
  {
   "cell_type": "markdown",
   "metadata": {},
   "source": [
    "### sMAPE"
   ]
  },
  {
   "cell_type": "markdown",
   "metadata": {},
   "source": [
    "**Для решения задачи нужна новая метрика качества — sMAPE (англ. Symmetric Mean Absolute Percentage Error, «симметричное среднее абсолютное процентное отклонение»)**"
   ]
  },
  {
   "cell_type": "code",
   "execution_count": 24,
   "metadata": {},
   "outputs": [],
   "source": [
    "def smape(target,predicted):\n",
    "    a = np.abs(target - predicted)\n",
    "    b = (np.abs(target) + np.abs(predicted)) / 2 \n",
    "    return 1 / len(target) * np.sum(a / b) * 100 "
   ]
  },
  {
   "cell_type": "code",
   "execution_count": 25,
   "metadata": {},
   "outputs": [],
   "source": [
    "def final_smape(target, predicted):\n",
    "    target_rougher = target['rougher.output.recovery']\n",
    "    target_final = target['final.output.recovery']\n",
    "    predicted_rougher = predicted[:, 0]\n",
    "    predicted_final = predicted[:, 1]\n",
    "    return 0.25 * smape(target_rougher, predicted_rougher) + 0.75 * smape(target_final , predicted_final)"
   ]
  },
  {
   "cell_type": "markdown",
   "metadata": {},
   "source": [
    "### Обучение моделей"
   ]
  },
  {
   "cell_type": "markdown",
   "metadata": {},
   "source": [
    "Посмотрим признаки из обучающей выборки, которые отсутствуют в тестовой и удалим их."
   ]
  },
  {
   "cell_type": "code",
   "execution_count": 26,
   "metadata": {},
   "outputs": [
    {
     "data": {
      "text/plain": [
       "((13752, 54), (4860, 54))"
      ]
     },
     "execution_count": 26,
     "metadata": {},
     "output_type": "execute_result"
    }
   ],
   "source": [
    "lost_features = lost(gold_train_n, gold_test)\n",
    "gold_train = gold_train_n.drop(lost_features, axis=1) \n",
    "gold_train.shape, gold_test.shape #посмотрим на размер выборок"
   ]
  },
  {
   "cell_type": "code",
   "execution_count": 27,
   "metadata": {},
   "outputs": [],
   "source": [
    "scorer = make_scorer(final_smape, greater_is_better=False) #метрика для кросс-валидации"
   ]
  },
  {
   "cell_type": "markdown",
   "metadata": {},
   "source": [
    "**Признаки и целевые признаки для моделей**"
   ]
  },
  {
   "cell_type": "code",
   "execution_count": 28,
   "metadata": {},
   "outputs": [],
   "source": [
    "TARGETS = ['rougher.output.recovery', 'final.output.recovery'] \n",
    "#эффективность обогащения чернового концентрата и финального концентратов"
   ]
  },
  {
   "cell_type": "code",
   "execution_count": 29,
   "metadata": {},
   "outputs": [],
   "source": [
    "features_train = gold_train.drop(TARGETS, axis='columns')\n",
    "target_train = gold_train[TARGETS]\n",
    "features_test = gold_test.drop(TARGETS, axis='columns')\n",
    "target_test = gold_test[TARGETS]"
   ]
  },
  {
   "cell_type": "markdown",
   "metadata": {},
   "source": [
    "**Случайный лес**"
   ]
  },
  {
   "cell_type": "code",
   "execution_count": 30,
   "metadata": {},
   "outputs": [
    {
     "name": "stdout",
     "output_type": "stream",
     "text": [
      "Лучшее значение sMAPE для модели случайного леса: 8.256347236287287 при гиперпараметре: {'max_depth': 3, 'n_estimators': 2}\n",
      "CPU times: user 1min 31s, sys: 98.2 ms, total: 1min 31s\n",
      "Wall time: 1min 31s\n"
     ]
    }
   ],
   "source": [
    "%%time\n",
    "param_grid = {'max_depth':[i for i in range(2, 7)],'n_estimators':[i for i in range(2, 13, 3)]}\n",
    "model_rfr = RandomForestRegressor(random_state=12345)\n",
    "grid = GridSearchCV(model_rfr, param_grid, cv=5, scoring=scorer)\n",
    "grid.fit(features_train, target_train)\n",
    "print('Лучшее значение sMAPE для модели случайного леса: {} при гиперпараметре: {}'.format(-grid.best_score_, grid.best_params_))"
   ]
  },
  {
   "cell_type": "markdown",
   "metadata": {},
   "source": [
    "**Линейная регрессия**"
   ]
  },
  {
   "cell_type": "code",
   "execution_count": 31,
   "metadata": {},
   "outputs": [
    {
     "name": "stdout",
     "output_type": "stream",
     "text": [
      "Лучшее значение sMAPE для модели линейной регрессии: 10.263344857083196\n"
     ]
    }
   ],
   "source": [
    "model_lr = LinearRegression()\n",
    "cross = cross_val_score(model_lr, features_train, target_train, cv=3, scoring=scorer).mean()\n",
    "model_lr.fit(features_train, target_train)\n",
    "print('Лучшее значение sMAPE для модели линейной регрессии:', -cross)"
   ]
  },
  {
   "cell_type": "markdown",
   "metadata": {},
   "source": [
    "Показатель sMAPE модели случайного леса лучше, лучший результат при количестве деревьев 2 и глубине 3."
   ]
  },
  {
   "cell_type": "markdown",
   "metadata": {},
   "source": [
    "### Тестирование модели"
   ]
  },
  {
   "cell_type": "markdown",
   "metadata": {},
   "source": [
    "**Проверим модель случайного леса на тестовой выборке**"
   ]
  },
  {
   "cell_type": "code",
   "execution_count": 32,
   "metadata": {},
   "outputs": [
    {
     "name": "stdout",
     "output_type": "stream",
     "text": [
      "Значение sMAPE на тестовой выборке: 7.448225118423632\n"
     ]
    }
   ],
   "source": [
    "model = RandomForestRegressor(max_depth=3, n_estimators=11, random_state=12345) \n",
    "model.fit(features_train, target_train)\n",
    "predicted_test = model.predict(features_test)\n",
    "print('Значение sMAPE на тестовой выборке:', final_smape(target_test, predicted_test))"
   ]
  },
  {
   "cell_type": "markdown",
   "metadata": {},
   "source": [
    "**Проверим модель на адекватность**"
   ]
  },
  {
   "cell_type": "code",
   "execution_count": 33,
   "metadata": {},
   "outputs": [
    {
     "name": "stdout",
     "output_type": "stream",
     "text": [
      "Значение sMAPE константной модели 8.454883330567553\n"
     ]
    }
   ],
   "source": [
    "dummy_regr = DummyRegressor(strategy = 'mean')\n",
    "dummy_regr.fit(features_train, target_train)\n",
    "predicted_dummy_test = dummy_regr.predict(features_test)\n",
    "print('Значение sMAPE константной модели', final_smape(target_test,predicted_dummy_test))"
   ]
  },
  {
   "cell_type": "markdown",
   "metadata": {},
   "source": [
    "<div class=\"alert-info\" style=\"padding: 20px; border-radius: 10px\">\n",
    "    Проанализировали <b>концентрацию металлов</b> на различный этапах.\n",
    "Наилучший показатель у золота - концентрация растет с каждым этапом, в финальном более 5 раз от сырья.\n",
    "Концентрация серебра начала снижаться после чернового концентрата, уменьшилась на треть.\n",
    "После первой очистки повысилась концентрация свинца, но почти не изменялись в финальном.<br>\n",
    "    \n",
    "*Золото*\n",
    "- в сырье 8.35\n",
    "- в черновом концентрате 19.72\n",
    "- в концентрате после первой очистки 32.01\n",
    "- в финальном концентрате 43.98\n",
    "\n",
    "*Серебро*\n",
    "- в сырье 8.88\n",
    "- в черновом концентрате 11.94\n",
    "- в концентрате после первой очистки 8.47\n",
    "- в финальном концентрате 5.19\n",
    "\n",
    "*Свинец*\n",
    "- в сырье 3.59\n",
    "- в черновом концентрате 7.50\n",
    "- в концентрате после первой очистки 9.73\n",
    "- в финальном концентрате 9.92\n",
    "\n",
    "    \n",
    "Сравнили <b>распределения размеров гранул</b> исходного сырья на обучающей и тестовой выборках. \n",
    "Распределения размеров похожи, оценка модели будет правильной.<br>\n",
    "Средний размер гранул на обучающей выборке 58.79<br>\n",
    "Средний размер гранул на тестовой выборке 59.08\n",
    "\n",
    "Суммарная концентрация металлов растет в черновом концентрате и после первой очистки.<br>\n",
    "<b>Суммарная концентрация металлов</b> на разных стадиях, средние значения: \n",
    "- в сырье 20.90\n",
    "- в черновом концентрате 40.30\n",
    "- в концентрате после первой очистки 51.03\n",
    "- в финальном концентрате 59.58\n",
    "\n",
    "\n",
    "Обучили модели случайного леса и линейной регриссии.<br>\n",
    "Лучшее значение sMAPE для модели случайного леса: 8.26 при количестве деревьев 2 и глубине 3.<br>\n",
    "Лучшее значение sMAPE для модели линейной регрессии: 10.26<br>\n",
    "Показатель sMAPE модели случайного леса лучше.<br>\n",
    "<br>\n",
    "Протестировав эту модель получили значение sMAPE на тестовой выборке: 7.45<br>\n",
    "Проверка модели на адекватность показала значение sMAPE константной модели 8.45<br>\n",
    "Результат тестирования нашей модели на тестовой выборке лучше, чем результат константной модели."
   ]
  }
 ],
 "metadata": {
  "ExecuteTimeLog": [
   {
    "duration": 418,
    "start_time": "2024-03-09T10:03:45.511Z"
   },
   {
    "duration": 70,
    "start_time": "2024-03-09T10:10:05.150Z"
   },
   {
    "duration": 3187,
    "start_time": "2024-03-09T10:10:28.212Z"
   },
   {
    "duration": 4,
    "start_time": "2024-03-09T10:11:30.012Z"
   },
   {
    "duration": 3,
    "start_time": "2024-03-09T10:16:32.259Z"
   },
   {
    "duration": 397,
    "start_time": "2024-03-09T10:16:33.159Z"
   },
   {
    "duration": 3,
    "start_time": "2024-03-09T10:17:41.640Z"
   },
   {
    "duration": 423,
    "start_time": "2024-03-09T10:17:43.172Z"
   },
   {
    "duration": 4,
    "start_time": "2024-03-09T10:18:03.813Z"
   },
   {
    "duration": 397,
    "start_time": "2024-03-09T10:18:04.176Z"
   },
   {
    "duration": 388,
    "start_time": "2024-03-09T10:18:27.814Z"
   },
   {
    "duration": 187,
    "start_time": "2024-03-09T10:18:40.830Z"
   },
   {
    "duration": 446,
    "start_time": "2024-03-09T10:20:00.591Z"
   },
   {
    "duration": 810,
    "start_time": "2024-03-09T16:09:02.761Z"
   },
   {
    "duration": 71,
    "start_time": "2024-03-09T16:10:10.408Z"
   },
   {
    "duration": 647,
    "start_time": "2024-03-09T16:10:20.160Z"
   },
   {
    "duration": 2213,
    "start_time": "2024-03-09T16:10:20.808Z"
   },
   {
    "duration": 3,
    "start_time": "2024-03-09T16:10:23.022Z"
   },
   {
    "duration": 357,
    "start_time": "2024-03-09T16:10:23.027Z"
   },
   {
    "duration": 159,
    "start_time": "2024-03-09T16:10:23.386Z"
   },
   {
    "duration": 367,
    "start_time": "2024-03-09T16:10:23.546Z"
   },
   {
    "duration": 6976,
    "start_time": "2024-03-09T16:10:23.915Z"
   },
   {
    "duration": 15018,
    "start_time": "2024-03-09T16:12:12.507Z"
   },
   {
    "duration": 16664,
    "start_time": "2024-03-09T16:12:40.004Z"
   },
   {
    "duration": 12038,
    "start_time": "2024-03-09T16:13:12.383Z"
   },
   {
    "duration": 17381,
    "start_time": "2024-03-09T16:18:20.520Z"
   },
   {
    "duration": 153,
    "start_time": "2024-03-09T17:35:21.787Z"
   },
   {
    "duration": 850,
    "start_time": "2024-03-09T17:57:00.235Z"
   },
   {
    "duration": 6,
    "start_time": "2024-03-09T18:03:46.676Z"
   },
   {
    "duration": 363,
    "start_time": "2024-03-09T18:03:47.488Z"
   },
   {
    "duration": 155,
    "start_time": "2024-03-09T18:03:48.857Z"
   },
   {
    "duration": 353,
    "start_time": "2024-03-09T18:03:49.664Z"
   },
   {
    "duration": 69,
    "start_time": "2024-03-09T18:07:37.369Z"
   },
   {
    "duration": 3,
    "start_time": "2024-03-09T18:14:38.862Z"
   },
   {
    "duration": 140,
    "start_time": "2024-03-09T18:15:06.212Z"
   },
   {
    "duration": 3,
    "start_time": "2024-03-09T18:17:24.163Z"
   },
   {
    "duration": 140,
    "start_time": "2024-03-09T18:17:24.731Z"
   },
   {
    "duration": 3,
    "start_time": "2024-03-09T18:18:43.721Z"
   },
   {
    "duration": 32,
    "start_time": "2024-03-09T18:18:49.847Z"
   },
   {
    "duration": 4,
    "start_time": "2024-03-09T19:00:39.841Z"
   },
   {
    "duration": 659,
    "start_time": "2024-03-09T19:00:58.016Z"
   },
   {
    "duration": 828,
    "start_time": "2024-03-09T19:00:58.677Z"
   },
   {
    "duration": 3,
    "start_time": "2024-03-09T19:00:59.507Z"
   },
   {
    "duration": 97,
    "start_time": "2024-03-09T19:00:59.512Z"
   },
   {
    "duration": 0,
    "start_time": "2024-03-09T19:00:59.611Z"
   },
   {
    "duration": 0,
    "start_time": "2024-03-09T19:00:59.612Z"
   },
   {
    "duration": 0,
    "start_time": "2024-03-09T19:00:59.613Z"
   },
   {
    "duration": 3,
    "start_time": "2024-03-09T19:01:31.168Z"
   },
   {
    "duration": 28,
    "start_time": "2024-03-09T19:01:34.396Z"
   },
   {
    "duration": 3,
    "start_time": "2024-03-09T19:01:58.235Z"
   },
   {
    "duration": 150,
    "start_time": "2024-03-09T19:02:00.399Z"
   },
   {
    "duration": 3,
    "start_time": "2024-03-09T19:02:27.848Z"
   },
   {
    "duration": 144,
    "start_time": "2024-03-09T19:02:29.714Z"
   },
   {
    "duration": 48,
    "start_time": "2024-03-09T19:02:34.598Z"
   },
   {
    "duration": 125,
    "start_time": "2024-03-09T19:02:45.371Z"
   },
   {
    "duration": 3,
    "start_time": "2024-03-09T19:04:07.424Z"
   },
   {
    "duration": 8,
    "start_time": "2024-03-09T19:05:21.252Z"
   },
   {
    "duration": 85,
    "start_time": "2024-03-09T19:05:38.735Z"
   },
   {
    "duration": 4,
    "start_time": "2024-03-09T19:06:27.754Z"
   },
   {
    "duration": 4,
    "start_time": "2024-03-09T19:06:52.007Z"
   },
   {
    "duration": 4,
    "start_time": "2024-03-09T19:07:27.207Z"
   },
   {
    "duration": 741,
    "start_time": "2024-03-09T19:08:47.650Z"
   },
   {
    "duration": 3,
    "start_time": "2024-03-09T19:10:20.129Z"
   },
   {
    "duration": 370,
    "start_time": "2024-03-09T19:10:21.184Z"
   },
   {
    "duration": 3,
    "start_time": "2024-03-09T19:10:46.389Z"
   },
   {
    "duration": 389,
    "start_time": "2024-03-09T19:10:47.766Z"
   },
   {
    "duration": 150,
    "start_time": "2024-03-09T19:11:02.054Z"
   },
   {
    "duration": 362,
    "start_time": "2024-03-09T19:11:05.679Z"
   },
   {
    "duration": 882,
    "start_time": "2024-03-09T19:12:28.912Z"
   },
   {
    "duration": 3,
    "start_time": "2024-03-09T19:12:30.550Z"
   },
   {
    "duration": 402,
    "start_time": "2024-03-09T19:12:32.561Z"
   },
   {
    "duration": 171,
    "start_time": "2024-03-09T19:12:38.522Z"
   },
   {
    "duration": 356,
    "start_time": "2024-03-09T19:12:41.776Z"
   },
   {
    "duration": 4,
    "start_time": "2024-03-09T19:12:48.367Z"
   },
   {
    "duration": 78,
    "start_time": "2024-03-09T19:16:05.562Z"
   },
   {
    "duration": 12,
    "start_time": "2024-03-09T19:21:31.677Z"
   },
   {
    "duration": 12,
    "start_time": "2024-03-09T19:22:21.024Z"
   },
   {
    "duration": 85,
    "start_time": "2024-03-09T19:41:37.015Z"
   },
   {
    "duration": 3,
    "start_time": "2024-03-09T19:44:51.302Z"
   },
   {
    "duration": 4,
    "start_time": "2024-03-09T19:45:19.334Z"
   },
   {
    "duration": 6,
    "start_time": "2024-03-09T19:45:43.478Z"
   },
   {
    "duration": 4,
    "start_time": "2024-03-09T19:46:09.848Z"
   },
   {
    "duration": 84,
    "start_time": "2024-03-09T19:50:24.335Z"
   },
   {
    "duration": 5,
    "start_time": "2024-03-09T19:54:06.542Z"
   },
   {
    "duration": 19,
    "start_time": "2024-03-09T19:56:05.938Z"
   },
   {
    "duration": 48,
    "start_time": "2024-03-09T19:56:52.374Z"
   },
   {
    "duration": 9,
    "start_time": "2024-03-09T19:56:55.580Z"
   },
   {
    "duration": 13,
    "start_time": "2024-03-09T19:57:59.810Z"
   },
   {
    "duration": 81,
    "start_time": "2024-03-09T20:10:03.093Z"
   },
   {
    "duration": 15,
    "start_time": "2024-03-09T20:16:14.529Z"
   },
   {
    "duration": 1576,
    "start_time": "2024-03-11T08:15:27.024Z"
   },
   {
    "duration": 2065,
    "start_time": "2024-03-11T08:15:28.602Z"
   },
   {
    "duration": 3,
    "start_time": "2024-03-11T08:15:30.668Z"
   },
   {
    "duration": 377,
    "start_time": "2024-03-11T08:15:30.673Z"
   },
   {
    "duration": 172,
    "start_time": "2024-03-11T08:15:31.052Z"
   },
   {
    "duration": 357,
    "start_time": "2024-03-11T08:15:31.225Z"
   },
   {
    "duration": 4,
    "start_time": "2024-03-11T08:15:31.583Z"
   },
   {
    "duration": 48,
    "start_time": "2024-03-11T08:15:31.588Z"
   },
   {
    "duration": 134,
    "start_time": "2024-03-11T08:15:31.638Z"
   },
   {
    "duration": 73,
    "start_time": "2024-03-11T08:15:31.774Z"
   },
   {
    "duration": 46,
    "start_time": "2024-03-11T08:15:31.849Z"
   },
   {
    "duration": 68,
    "start_time": "2024-03-11T08:15:31.896Z"
   },
   {
    "duration": 1315,
    "start_time": "2024-03-11T08:21:25.242Z"
   },
   {
    "duration": 787,
    "start_time": "2024-03-11T08:21:26.559Z"
   },
   {
    "duration": 3,
    "start_time": "2024-03-11T08:21:27.348Z"
   },
   {
    "duration": 359,
    "start_time": "2024-03-11T08:21:27.353Z"
   },
   {
    "duration": 150,
    "start_time": "2024-03-11T08:21:27.718Z"
   },
   {
    "duration": 362,
    "start_time": "2024-03-11T08:21:27.869Z"
   },
   {
    "duration": 5,
    "start_time": "2024-03-11T08:21:28.232Z"
   },
   {
    "duration": 11,
    "start_time": "2024-03-11T08:21:28.239Z"
   },
   {
    "duration": 6,
    "start_time": "2024-03-11T08:21:28.252Z"
   },
   {
    "duration": 15,
    "start_time": "2024-03-11T08:21:28.259Z"
   },
   {
    "duration": 50,
    "start_time": "2024-03-11T08:21:28.275Z"
   },
   {
    "duration": 1295,
    "start_time": "2024-03-11T08:21:53.760Z"
   },
   {
    "duration": 837,
    "start_time": "2024-03-11T08:21:55.056Z"
   },
   {
    "duration": 3,
    "start_time": "2024-03-11T08:21:55.895Z"
   },
   {
    "duration": 374,
    "start_time": "2024-03-11T08:21:55.900Z"
   },
   {
    "duration": 148,
    "start_time": "2024-03-11T08:21:56.275Z"
   },
   {
    "duration": 344,
    "start_time": "2024-03-11T08:21:56.425Z"
   },
   {
    "duration": 4,
    "start_time": "2024-03-11T08:21:56.771Z"
   },
   {
    "duration": 11,
    "start_time": "2024-03-11T08:21:56.777Z"
   },
   {
    "duration": 6,
    "start_time": "2024-03-11T08:21:56.789Z"
   },
   {
    "duration": 15,
    "start_time": "2024-03-11T08:21:56.817Z"
   },
   {
    "duration": 13,
    "start_time": "2024-03-11T08:21:56.833Z"
   },
   {
    "duration": 4,
    "start_time": "2024-03-11T08:26:17.383Z"
   },
   {
    "duration": 14,
    "start_time": "2024-03-11T08:34:33.834Z"
   },
   {
    "duration": 3,
    "start_time": "2024-03-11T09:08:16.131Z"
   },
   {
    "duration": 2,
    "start_time": "2024-03-11T09:08:21.661Z"
   },
   {
    "duration": 45,
    "start_time": "2024-03-11T09:09:00.266Z"
   },
   {
    "duration": 1442,
    "start_time": "2024-03-11T09:10:05.335Z"
   },
   {
    "duration": 886,
    "start_time": "2024-03-11T09:10:06.779Z"
   },
   {
    "duration": 3,
    "start_time": "2024-03-11T09:10:07.667Z"
   },
   {
    "duration": 360,
    "start_time": "2024-03-11T09:10:07.671Z"
   },
   {
    "duration": 149,
    "start_time": "2024-03-11T09:10:08.033Z"
   },
   {
    "duration": 384,
    "start_time": "2024-03-11T09:10:08.183Z"
   },
   {
    "duration": 14,
    "start_time": "2024-03-11T09:10:08.568Z"
   },
   {
    "duration": 4,
    "start_time": "2024-03-11T09:10:08.584Z"
   },
   {
    "duration": 17,
    "start_time": "2024-03-11T09:10:08.589Z"
   },
   {
    "duration": 5,
    "start_time": "2024-03-11T09:10:08.607Z"
   },
   {
    "duration": 27,
    "start_time": "2024-03-11T09:10:08.614Z"
   },
   {
    "duration": 9,
    "start_time": "2024-03-11T09:10:08.642Z"
   },
   {
    "duration": 12,
    "start_time": "2024-03-11T09:10:08.653Z"
   },
   {
    "duration": 3,
    "start_time": "2024-03-11T09:10:48.752Z"
   },
   {
    "duration": 3,
    "start_time": "2024-03-11T09:10:58.406Z"
   },
   {
    "duration": 72,
    "start_time": "2024-03-11T09:21:31.015Z"
   },
   {
    "duration": 117,
    "start_time": "2024-03-11T09:21:50.711Z"
   },
   {
    "duration": 13,
    "start_time": "2024-03-11T09:23:18.830Z"
   },
   {
    "duration": 20,
    "start_time": "2024-03-11T09:24:03.870Z"
   },
   {
    "duration": 20,
    "start_time": "2024-03-11T09:24:54.413Z"
   },
   {
    "duration": 14,
    "start_time": "2024-03-11T09:24:58.853Z"
   },
   {
    "duration": 28,
    "start_time": "2024-03-11T09:25:25.315Z"
   },
   {
    "duration": 3,
    "start_time": "2024-03-11T09:26:01.154Z"
   },
   {
    "duration": 19,
    "start_time": "2024-03-11T09:26:02.235Z"
   },
   {
    "duration": 53,
    "start_time": "2024-03-11T09:27:08.846Z"
   },
   {
    "duration": 13,
    "start_time": "2024-03-11T09:27:14.560Z"
   },
   {
    "duration": 3,
    "start_time": "2024-03-11T09:28:16.082Z"
   },
   {
    "duration": 13,
    "start_time": "2024-03-11T09:28:17.016Z"
   },
   {
    "duration": 3,
    "start_time": "2024-03-11T09:28:50.674Z"
   },
   {
    "duration": 6,
    "start_time": "2024-03-11T09:28:51.655Z"
   },
   {
    "duration": 13,
    "start_time": "2024-03-11T09:28:52.554Z"
   },
   {
    "duration": 40,
    "start_time": "2024-03-11T09:29:31.103Z"
   },
   {
    "duration": 888,
    "start_time": "2024-03-11T09:29:31.953Z"
   },
   {
    "duration": 3,
    "start_time": "2024-03-11T09:29:33.392Z"
   },
   {
    "duration": 350,
    "start_time": "2024-03-11T09:29:34.187Z"
   },
   {
    "duration": 145,
    "start_time": "2024-03-11T09:29:35.211Z"
   },
   {
    "duration": 341,
    "start_time": "2024-03-11T09:29:35.996Z"
   },
   {
    "duration": 21,
    "start_time": "2024-03-11T09:29:36.515Z"
   },
   {
    "duration": 4,
    "start_time": "2024-03-11T09:29:36.975Z"
   },
   {
    "duration": 10,
    "start_time": "2024-03-11T09:29:38.782Z"
   },
   {
    "duration": 6,
    "start_time": "2024-03-11T09:29:39.945Z"
   },
   {
    "duration": 19,
    "start_time": "2024-03-11T09:29:41.944Z"
   },
   {
    "duration": 3,
    "start_time": "2024-03-11T09:29:45.357Z"
   },
   {
    "duration": 3,
    "start_time": "2024-03-11T09:29:46.134Z"
   },
   {
    "duration": 16,
    "start_time": "2024-03-11T09:29:46.736Z"
   },
   {
    "duration": 12,
    "start_time": "2024-03-11T09:30:42.581Z"
   },
   {
    "duration": 13,
    "start_time": "2024-03-11T09:31:35.258Z"
   },
   {
    "duration": 3,
    "start_time": "2024-03-11T09:31:45.992Z"
   },
   {
    "duration": 1646,
    "start_time": "2024-03-11T09:31:47.034Z"
   },
   {
    "duration": 2820,
    "start_time": "2024-03-11T09:32:06.355Z"
   },
   {
    "duration": 2520,
    "start_time": "2024-03-11T09:32:27.510Z"
   },
   {
    "duration": 257,
    "start_time": "2024-03-11T09:33:04.738Z"
   },
   {
    "duration": 152,
    "start_time": "2024-03-11T09:33:18.200Z"
   },
   {
    "duration": 2447,
    "start_time": "2024-03-11T09:34:08.490Z"
   },
   {
    "duration": 2640,
    "start_time": "2024-03-11T09:34:19.644Z"
   },
   {
    "duration": 2651,
    "start_time": "2024-03-11T10:01:07.523Z"
   },
   {
    "duration": 2546,
    "start_time": "2024-03-11T10:01:16.769Z"
   },
   {
    "duration": 262,
    "start_time": "2024-03-11T10:01:34.437Z"
   },
   {
    "duration": 2674,
    "start_time": "2024-03-11T10:01:43.527Z"
   },
   {
    "duration": 18,
    "start_time": "2024-03-11T10:02:51.820Z"
   },
   {
    "duration": 11,
    "start_time": "2024-03-11T10:04:49.886Z"
   },
   {
    "duration": 2553,
    "start_time": "2024-03-11T10:05:10.020Z"
   },
   {
    "duration": 95,
    "start_time": "2024-03-11T10:07:50.135Z"
   },
   {
    "duration": 4,
    "start_time": "2024-03-11T10:08:45.187Z"
   },
   {
    "duration": 2555,
    "start_time": "2024-03-11T10:09:38.409Z"
   },
   {
    "duration": 2548,
    "start_time": "2024-03-11T10:09:57.765Z"
   },
   {
    "duration": 3,
    "start_time": "2024-03-11T10:10:22.813Z"
   },
   {
    "duration": 3,
    "start_time": "2024-03-11T10:10:23.608Z"
   },
   {
    "duration": 2549,
    "start_time": "2024-03-11T10:10:24.542Z"
   },
   {
    "duration": 3494,
    "start_time": "2024-03-11T10:11:02.395Z"
   },
   {
    "duration": 6497,
    "start_time": "2024-03-11T10:11:22.937Z"
   },
   {
    "duration": 65,
    "start_time": "2024-03-11T10:18:23.025Z"
   },
   {
    "duration": 3,
    "start_time": "2024-03-11T10:54:56.317Z"
   },
   {
    "duration": 3,
    "start_time": "2024-03-11T10:55:09.429Z"
   },
   {
    "duration": 13,
    "start_time": "2024-03-11T11:05:06.369Z"
   },
   {
    "duration": 11,
    "start_time": "2024-03-11T11:05:24.478Z"
   },
   {
    "duration": 8,
    "start_time": "2024-03-11T11:06:14.759Z"
   },
   {
    "duration": 8,
    "start_time": "2024-03-11T11:06:28.773Z"
   },
   {
    "duration": 9,
    "start_time": "2024-03-11T11:06:44.203Z"
   },
   {
    "duration": 14,
    "start_time": "2024-03-11T11:06:52.876Z"
   },
   {
    "duration": 14,
    "start_time": "2024-03-11T11:08:59.079Z"
   },
   {
    "duration": 14,
    "start_time": "2024-03-11T11:10:33.009Z"
   },
   {
    "duration": 14,
    "start_time": "2024-03-11T11:10:50.486Z"
   },
   {
    "duration": 4,
    "start_time": "2024-03-11T11:19:04.716Z"
   },
   {
    "duration": 3,
    "start_time": "2024-03-11T11:19:12.035Z"
   },
   {
    "duration": 15,
    "start_time": "2024-03-11T11:28:39.188Z"
   },
   {
    "duration": 18,
    "start_time": "2024-03-11T11:32:11.189Z"
   },
   {
    "duration": 97,
    "start_time": "2024-03-11T11:32:56.277Z"
   },
   {
    "duration": 419,
    "start_time": "2024-03-11T11:33:04.542Z"
   },
   {
    "duration": 347,
    "start_time": "2024-03-11T11:33:45.606Z"
   },
   {
    "duration": 430,
    "start_time": "2024-03-11T11:34:31.980Z"
   },
   {
    "duration": 428,
    "start_time": "2024-03-11T11:34:52.371Z"
   },
   {
    "duration": 390,
    "start_time": "2024-03-11T11:35:44.764Z"
   },
   {
    "duration": 329,
    "start_time": "2024-03-11T11:37:40.649Z"
   },
   {
    "duration": 353,
    "start_time": "2024-03-11T11:37:54.441Z"
   },
   {
    "duration": 350,
    "start_time": "2024-03-11T11:38:07.550Z"
   },
   {
    "duration": 446,
    "start_time": "2024-03-11T11:42:36.139Z"
   },
   {
    "duration": 392,
    "start_time": "2024-03-11T11:42:54.231Z"
   },
   {
    "duration": 195,
    "start_time": "2024-03-11T11:43:04.304Z"
   },
   {
    "duration": 180,
    "start_time": "2024-03-11T11:45:59.550Z"
   },
   {
    "duration": 251,
    "start_time": "2024-03-11T11:46:10.348Z"
   },
   {
    "duration": 245,
    "start_time": "2024-03-11T11:46:16.556Z"
   },
   {
    "duration": 357,
    "start_time": "2024-03-11T11:46:23.426Z"
   },
   {
    "duration": 291,
    "start_time": "2024-03-11T11:46:48.368Z"
   },
   {
    "duration": 254,
    "start_time": "2024-03-11T11:47:00.630Z"
   },
   {
    "duration": 276,
    "start_time": "2024-03-11T11:48:01.062Z"
   },
   {
    "duration": 269,
    "start_time": "2024-03-11T11:48:09.953Z"
   },
   {
    "duration": 457,
    "start_time": "2024-03-11T11:48:44.107Z"
   },
   {
    "duration": 350,
    "start_time": "2024-03-11T11:48:59.232Z"
   },
   {
    "duration": 314,
    "start_time": "2024-03-11T11:49:35.905Z"
   },
   {
    "duration": 326,
    "start_time": "2024-03-11T11:50:07.686Z"
   },
   {
    "duration": 352,
    "start_time": "2024-03-11T11:51:20.844Z"
   },
   {
    "duration": 357,
    "start_time": "2024-03-11T11:51:41.444Z"
   },
   {
    "duration": 352,
    "start_time": "2024-03-11T11:51:54.068Z"
   },
   {
    "duration": 260,
    "start_time": "2024-03-11T11:52:11.902Z"
   },
   {
    "duration": 72,
    "start_time": "2024-03-11T11:52:26.591Z"
   },
   {
    "duration": 279,
    "start_time": "2024-03-11T11:52:31.475Z"
   },
   {
    "duration": 269,
    "start_time": "2024-03-11T11:52:45.009Z"
   },
   {
    "duration": 253,
    "start_time": "2024-03-11T11:52:56.792Z"
   },
   {
    "duration": 272,
    "start_time": "2024-03-11T11:53:19.619Z"
   },
   {
    "duration": 3,
    "start_time": "2024-03-11T12:48:37.504Z"
   },
   {
    "duration": 6688,
    "start_time": "2024-03-11T12:48:44.581Z"
   },
   {
    "duration": 71,
    "start_time": "2024-03-11T12:49:44.499Z"
   },
   {
    "duration": 480,
    "start_time": "2024-03-11T12:50:18.130Z"
   },
   {
    "duration": 6742,
    "start_time": "2024-03-11T12:50:28.239Z"
   },
   {
    "duration": 17,
    "start_time": "2024-03-11T12:50:49.356Z"
   },
   {
    "duration": 260,
    "start_time": "2024-03-11T12:50:54.548Z"
   },
   {
    "duration": 20,
    "start_time": "2024-03-11T12:54:54.520Z"
   },
   {
    "duration": 16,
    "start_time": "2024-03-11T13:00:20.500Z"
   },
   {
    "duration": 13,
    "start_time": "2024-03-11T13:00:33.532Z"
   },
   {
    "duration": 15,
    "start_time": "2024-03-11T13:04:31.732Z"
   },
   {
    "duration": 6777,
    "start_time": "2024-03-11T13:04:51.775Z"
   },
   {
    "duration": 1748,
    "start_time": "2024-03-11T13:10:04.872Z"
   },
   {
    "duration": 10,
    "start_time": "2024-03-11T13:10:21.975Z"
   },
   {
    "duration": 7,
    "start_time": "2024-03-11T13:10:29.276Z"
   },
   {
    "duration": 20734,
    "start_time": "2024-03-11T13:10:43.728Z"
   },
   {
    "duration": 6904,
    "start_time": "2024-03-11T13:11:22.179Z"
   },
   {
    "duration": 21192,
    "start_time": "2024-03-11T13:12:14.253Z"
   },
   {
    "duration": 11,
    "start_time": "2024-03-11T13:15:18.507Z"
   },
   {
    "duration": 9,
    "start_time": "2024-03-11T13:15:24.446Z"
   },
   {
    "duration": 22,
    "start_time": "2024-03-11T13:25:29.686Z"
   },
   {
    "duration": 28,
    "start_time": "2024-03-11T13:27:46.215Z"
   },
   {
    "duration": 1569,
    "start_time": "2024-03-11T13:28:01.324Z"
   },
   {
    "duration": 881,
    "start_time": "2024-03-11T13:28:02.895Z"
   },
   {
    "duration": 4,
    "start_time": "2024-03-11T13:28:03.777Z"
   },
   {
    "duration": 409,
    "start_time": "2024-03-11T13:28:03.783Z"
   },
   {
    "duration": 162,
    "start_time": "2024-03-11T13:28:04.194Z"
   },
   {
    "duration": 377,
    "start_time": "2024-03-11T13:28:04.358Z"
   },
   {
    "duration": 13,
    "start_time": "2024-03-11T13:28:04.737Z"
   },
   {
    "duration": 4,
    "start_time": "2024-03-11T13:28:04.752Z"
   },
   {
    "duration": 12,
    "start_time": "2024-03-11T13:28:04.757Z"
   },
   {
    "duration": 5,
    "start_time": "2024-03-11T13:28:04.771Z"
   },
   {
    "duration": 49,
    "start_time": "2024-03-11T13:28:04.778Z"
   },
   {
    "duration": 5,
    "start_time": "2024-03-11T13:28:04.830Z"
   },
   {
    "duration": 7,
    "start_time": "2024-03-11T13:28:04.836Z"
   },
   {
    "duration": 7161,
    "start_time": "2024-03-11T13:28:04.846Z"
   },
   {
    "duration": 27,
    "start_time": "2024-03-11T13:28:12.009Z"
   },
   {
    "duration": 315,
    "start_time": "2024-03-11T13:28:12.038Z"
   },
   {
    "duration": 137,
    "start_time": "2024-03-11T13:28:12.354Z"
   },
   {
    "duration": 29,
    "start_time": "2024-03-11T13:32:08.535Z"
   },
   {
    "duration": 22,
    "start_time": "2024-03-11T13:32:58.116Z"
   },
   {
    "duration": 26,
    "start_time": "2024-03-11T13:35:20.835Z"
   },
   {
    "duration": 49,
    "start_time": "2024-03-11T13:35:33.460Z"
   },
   {
    "duration": 70,
    "start_time": "2024-03-11T13:38:30.975Z"
   },
   {
    "duration": 6705,
    "start_time": "2024-03-11T13:38:47.498Z"
   },
   {
    "duration": 41,
    "start_time": "2024-03-11T13:40:17.220Z"
   },
   {
    "duration": 783,
    "start_time": "2024-03-11T13:40:18.373Z"
   },
   {
    "duration": 1447,
    "start_time": "2024-03-11T13:40:29.495Z"
   },
   {
    "duration": 842,
    "start_time": "2024-03-11T13:40:30.944Z"
   },
   {
    "duration": 3,
    "start_time": "2024-03-11T13:40:31.790Z"
   },
   {
    "duration": 404,
    "start_time": "2024-03-11T13:40:31.795Z"
   },
   {
    "duration": 159,
    "start_time": "2024-03-11T13:40:32.200Z"
   },
   {
    "duration": 365,
    "start_time": "2024-03-11T13:40:32.361Z"
   },
   {
    "duration": 12,
    "start_time": "2024-03-11T13:40:32.728Z"
   },
   {
    "duration": 15,
    "start_time": "2024-03-11T13:40:32.742Z"
   },
   {
    "duration": 17,
    "start_time": "2024-03-11T13:40:32.759Z"
   },
   {
    "duration": 6,
    "start_time": "2024-03-11T13:40:32.778Z"
   },
   {
    "duration": 37,
    "start_time": "2024-03-11T13:40:32.785Z"
   },
   {
    "duration": 3,
    "start_time": "2024-03-11T13:40:32.823Z"
   },
   {
    "duration": 3,
    "start_time": "2024-03-11T13:40:32.828Z"
   },
   {
    "duration": 6454,
    "start_time": "2024-03-11T13:40:32.833Z"
   },
   {
    "duration": 30,
    "start_time": "2024-03-11T13:40:39.289Z"
   },
   {
    "duration": 276,
    "start_time": "2024-03-11T13:40:39.321Z"
   },
   {
    "duration": 48,
    "start_time": "2024-03-11T13:40:39.599Z"
   },
   {
    "duration": 126,
    "start_time": "2024-03-11T13:40:39.648Z"
   },
   {
    "duration": 1450,
    "start_time": "2024-03-11T13:41:50.559Z"
   },
   {
    "duration": 847,
    "start_time": "2024-03-11T13:41:52.011Z"
   },
   {
    "duration": 4,
    "start_time": "2024-03-11T13:41:52.860Z"
   },
   {
    "duration": 358,
    "start_time": "2024-03-11T13:41:52.865Z"
   },
   {
    "duration": 153,
    "start_time": "2024-03-11T13:41:53.225Z"
   },
   {
    "duration": 354,
    "start_time": "2024-03-11T13:41:53.379Z"
   },
   {
    "duration": 13,
    "start_time": "2024-03-11T13:41:53.735Z"
   },
   {
    "duration": 4,
    "start_time": "2024-03-11T13:41:53.750Z"
   },
   {
    "duration": 21,
    "start_time": "2024-03-11T13:41:53.755Z"
   },
   {
    "duration": 6,
    "start_time": "2024-03-11T13:41:53.777Z"
   },
   {
    "duration": 38,
    "start_time": "2024-03-11T13:41:53.784Z"
   },
   {
    "duration": 79,
    "start_time": "2024-03-11T13:41:53.824Z"
   },
   {
    "duration": 0,
    "start_time": "2024-03-11T13:41:53.904Z"
   },
   {
    "duration": 0,
    "start_time": "2024-03-11T13:41:53.905Z"
   },
   {
    "duration": 0,
    "start_time": "2024-03-11T13:41:53.906Z"
   },
   {
    "duration": 0,
    "start_time": "2024-03-11T13:41:53.907Z"
   },
   {
    "duration": 0,
    "start_time": "2024-03-11T13:41:53.908Z"
   },
   {
    "duration": 0,
    "start_time": "2024-03-11T13:41:53.909Z"
   },
   {
    "duration": 0,
    "start_time": "2024-03-11T13:41:53.910Z"
   },
   {
    "duration": 72,
    "start_time": "2024-03-11T13:42:39.917Z"
   },
   {
    "duration": 109,
    "start_time": "2024-03-11T13:43:24.472Z"
   },
   {
    "duration": 18,
    "start_time": "2024-03-11T13:46:43.495Z"
   },
   {
    "duration": 9,
    "start_time": "2024-03-11T13:54:49.549Z"
   },
   {
    "duration": 9,
    "start_time": "2024-03-11T13:55:04.778Z"
   },
   {
    "duration": 12,
    "start_time": "2024-03-11T13:55:42.987Z"
   },
   {
    "duration": 14,
    "start_time": "2024-03-11T13:57:02.474Z"
   },
   {
    "duration": 4,
    "start_time": "2024-03-11T13:57:46.283Z"
   },
   {
    "duration": 9,
    "start_time": "2024-03-11T13:58:11.176Z"
   },
   {
    "duration": 14,
    "start_time": "2024-03-11T13:59:26.678Z"
   },
   {
    "duration": 4,
    "start_time": "2024-03-11T13:59:31.420Z"
   },
   {
    "duration": 10,
    "start_time": "2024-03-11T14:01:41.952Z"
   },
   {
    "duration": 1199,
    "start_time": "2024-03-11T14:01:49.327Z"
   },
   {
    "duration": 19,
    "start_time": "2024-03-11T14:02:02.307Z"
   },
   {
    "duration": 24,
    "start_time": "2024-03-11T14:17:38.542Z"
   },
   {
    "duration": 14,
    "start_time": "2024-03-11T14:17:46.088Z"
   },
   {
    "duration": 1233,
    "start_time": "2024-03-11T14:20:42.898Z"
   },
   {
    "duration": 33,
    "start_time": "2024-03-11T14:20:55.900Z"
   },
   {
    "duration": 17,
    "start_time": "2024-03-11T14:21:08.069Z"
   },
   {
    "duration": 17,
    "start_time": "2024-03-11T14:26:10.053Z"
   },
   {
    "duration": 16,
    "start_time": "2024-03-11T14:26:21.299Z"
   },
   {
    "duration": 27,
    "start_time": "2024-03-11T14:27:45.277Z"
   },
   {
    "duration": 34,
    "start_time": "2024-03-11T14:28:48.285Z"
   },
   {
    "duration": 17,
    "start_time": "2024-03-11T14:32:12.618Z"
   },
   {
    "duration": 15,
    "start_time": "2024-03-11T14:33:22.479Z"
   },
   {
    "duration": 26,
    "start_time": "2024-03-11T14:33:36.406Z"
   },
   {
    "duration": 12,
    "start_time": "2024-03-11T14:34:12.697Z"
   },
   {
    "duration": 20,
    "start_time": "2024-03-11T14:34:21.221Z"
   },
   {
    "duration": 20,
    "start_time": "2024-03-11T14:34:29.220Z"
   },
   {
    "duration": 12,
    "start_time": "2024-03-11T14:37:51.055Z"
   },
   {
    "duration": 8,
    "start_time": "2024-03-11T14:37:57.598Z"
   },
   {
    "duration": 19,
    "start_time": "2024-03-11T14:44:09.427Z"
   },
   {
    "duration": 19,
    "start_time": "2024-03-11T14:44:21.543Z"
   },
   {
    "duration": 27,
    "start_time": "2024-03-11T14:45:18.705Z"
   },
   {
    "duration": 18,
    "start_time": "2024-03-11T14:45:28.127Z"
   },
   {
    "duration": 1478,
    "start_time": "2024-03-11T14:46:07.331Z"
   },
   {
    "duration": 851,
    "start_time": "2024-03-11T14:46:08.811Z"
   },
   {
    "duration": 6,
    "start_time": "2024-03-11T14:46:09.663Z"
   },
   {
    "duration": 383,
    "start_time": "2024-03-11T14:46:09.672Z"
   },
   {
    "duration": 145,
    "start_time": "2024-03-11T14:46:10.057Z"
   },
   {
    "duration": 354,
    "start_time": "2024-03-11T14:46:10.203Z"
   },
   {
    "duration": 13,
    "start_time": "2024-03-11T14:46:10.559Z"
   },
   {
    "duration": 3,
    "start_time": "2024-03-11T14:46:10.573Z"
   },
   {
    "duration": 14,
    "start_time": "2024-03-11T14:46:10.578Z"
   },
   {
    "duration": 32,
    "start_time": "2024-03-11T14:46:10.594Z"
   },
   {
    "duration": 22,
    "start_time": "2024-03-11T14:46:10.627Z"
   },
   {
    "duration": 12,
    "start_time": "2024-03-11T14:46:10.651Z"
   },
   {
    "duration": 8,
    "start_time": "2024-03-11T14:46:10.665Z"
   },
   {
    "duration": 4,
    "start_time": "2024-03-11T14:46:10.674Z"
   },
   {
    "duration": 6,
    "start_time": "2024-03-11T14:46:10.679Z"
   },
   {
    "duration": 6679,
    "start_time": "2024-03-11T14:46:10.686Z"
   },
   {
    "duration": 14,
    "start_time": "2024-03-11T14:46:17.366Z"
   },
   {
    "duration": 304,
    "start_time": "2024-03-11T14:46:17.381Z"
   },
   {
    "duration": 60,
    "start_time": "2024-03-11T14:46:17.687Z"
   },
   {
    "duration": 119,
    "start_time": "2024-03-11T14:46:17.749Z"
   },
   {
    "duration": 10,
    "start_time": "2024-03-11T14:48:06.081Z"
   },
   {
    "duration": 9,
    "start_time": "2024-03-11T14:48:16.506Z"
   },
   {
    "duration": 8,
    "start_time": "2024-03-11T14:48:17.955Z"
   },
   {
    "duration": 9,
    "start_time": "2024-03-11T14:49:15.649Z"
   },
   {
    "duration": 2,
    "start_time": "2024-03-11T14:49:33.251Z"
   },
   {
    "duration": 3,
    "start_time": "2024-03-11T14:49:33.767Z"
   },
   {
    "duration": 6853,
    "start_time": "2024-03-11T14:49:38.726Z"
   },
   {
    "duration": 19,
    "start_time": "2024-03-11T14:49:49.644Z"
   },
   {
    "duration": 254,
    "start_time": "2024-03-11T14:49:58.247Z"
   },
   {
    "duration": 55,
    "start_time": "2024-03-11T14:50:09.646Z"
   },
   {
    "duration": 46,
    "start_time": "2024-03-11T14:50:20.266Z"
   },
   {
    "duration": 3686,
    "start_time": "2024-03-11T14:50:59.988Z"
   },
   {
    "duration": 424,
    "start_time": "2024-03-11T14:51:16.689Z"
   },
   {
    "duration": 15274,
    "start_time": "2024-03-11T14:57:28.658Z"
   },
   {
    "duration": 48,
    "start_time": "2024-03-11T14:58:07.390Z"
   },
   {
    "duration": 6313,
    "start_time": "2024-03-11T14:59:33.370Z"
   },
   {
    "duration": 46,
    "start_time": "2024-03-11T15:00:28.989Z"
   },
   {
    "duration": 17,
    "start_time": "2024-03-11T15:07:28.170Z"
   },
   {
    "duration": 11,
    "start_time": "2024-03-11T15:08:43.150Z"
   },
   {
    "duration": 75,
    "start_time": "2024-03-11T15:17:53.581Z"
   },
   {
    "duration": 73,
    "start_time": "2024-03-11T15:20:09.559Z"
   },
   {
    "duration": 94,
    "start_time": "2024-03-11T15:20:39.575Z"
   },
   {
    "duration": 1672,
    "start_time": "2024-03-11T18:11:41.665Z"
   },
   {
    "duration": 3154,
    "start_time": "2024-03-11T18:11:43.339Z"
   },
   {
    "duration": 3,
    "start_time": "2024-03-11T18:11:46.494Z"
   },
   {
    "duration": 385,
    "start_time": "2024-03-11T18:11:46.499Z"
   },
   {
    "duration": 157,
    "start_time": "2024-03-11T18:11:46.887Z"
   },
   {
    "duration": 363,
    "start_time": "2024-03-11T18:11:47.046Z"
   },
   {
    "duration": 13,
    "start_time": "2024-03-11T18:11:47.411Z"
   },
   {
    "duration": 4,
    "start_time": "2024-03-11T18:11:47.426Z"
   },
   {
    "duration": 19,
    "start_time": "2024-03-11T18:11:47.431Z"
   },
   {
    "duration": 6,
    "start_time": "2024-03-11T18:11:47.451Z"
   },
   {
    "duration": 13,
    "start_time": "2024-03-11T18:11:47.482Z"
   },
   {
    "duration": 14,
    "start_time": "2024-03-11T18:11:47.496Z"
   },
   {
    "duration": 57,
    "start_time": "2024-03-11T18:11:47.512Z"
   },
   {
    "duration": 32,
    "start_time": "2024-03-11T18:11:47.572Z"
   },
   {
    "duration": 3,
    "start_time": "2024-03-11T18:11:47.605Z"
   },
   {
    "duration": 11,
    "start_time": "2024-03-11T18:11:47.609Z"
   },
   {
    "duration": 3657,
    "start_time": "2024-03-11T18:11:47.621Z"
   },
   {
    "duration": 14,
    "start_time": "2024-03-11T18:11:51.280Z"
   },
   {
    "duration": 303,
    "start_time": "2024-03-11T18:11:51.295Z"
   },
   {
    "duration": 45,
    "start_time": "2024-03-11T18:11:51.600Z"
   },
   {
    "duration": 108,
    "start_time": "2024-03-11T18:11:51.647Z"
   },
   {
    "duration": 0,
    "start_time": "2024-03-11T18:11:51.756Z"
   },
   {
    "duration": 0,
    "start_time": "2024-03-11T18:11:51.758Z"
   },
   {
    "duration": 33,
    "start_time": "2024-03-11T18:12:34.727Z"
   },
   {
    "duration": 45,
    "start_time": "2024-03-11T18:18:16.138Z"
   },
   {
    "duration": 33,
    "start_time": "2024-03-11T18:19:01.443Z"
   },
   {
    "duration": 14913,
    "start_time": "2024-03-11T19:05:16.313Z"
   },
   {
    "duration": 47,
    "start_time": "2024-03-11T19:05:47.003Z"
   },
   {
    "duration": 99,
    "start_time": "2024-03-11T19:15:20.873Z"
   },
   {
    "duration": 100,
    "start_time": "2024-03-11T19:15:32.484Z"
   },
   {
    "duration": 97,
    "start_time": "2024-03-11T19:15:39.702Z"
   },
   {
    "duration": 109,
    "start_time": "2024-03-11T19:16:09.233Z"
   },
   {
    "duration": 16,
    "start_time": "2024-03-11T19:19:15.528Z"
   },
   {
    "duration": 15,
    "start_time": "2024-03-11T19:27:51.148Z"
   },
   {
    "duration": 33,
    "start_time": "2024-03-11T19:28:32.659Z"
   },
   {
    "duration": 30,
    "start_time": "2024-03-11T19:29:28.365Z"
   },
   {
    "duration": 32,
    "start_time": "2024-03-11T19:30:09.150Z"
   },
   {
    "duration": 884,
    "start_time": "2024-03-11T19:35:48.378Z"
   },
   {
    "duration": 886,
    "start_time": "2024-03-11T19:35:58.480Z"
   },
   {
    "duration": 1012,
    "start_time": "2024-03-11T19:36:26.351Z"
   },
   {
    "duration": 1025,
    "start_time": "2024-03-11T19:39:26.051Z"
   },
   {
    "duration": 915,
    "start_time": "2024-03-11T19:40:52.611Z"
   },
   {
    "duration": 1079,
    "start_time": "2024-03-11T19:40:58.154Z"
   },
   {
    "duration": 35,
    "start_time": "2024-03-11T19:45:11.725Z"
   },
   {
    "duration": 30,
    "start_time": "2024-03-11T19:47:55.633Z"
   },
   {
    "duration": 28,
    "start_time": "2024-03-11T19:48:20.841Z"
   },
   {
    "duration": 30,
    "start_time": "2024-03-11T19:48:43.757Z"
   },
   {
    "duration": 106,
    "start_time": "2024-03-11T19:58:58.663Z"
   },
   {
    "duration": 185,
    "start_time": "2024-03-11T19:59:04.799Z"
   },
   {
    "duration": 190,
    "start_time": "2024-03-11T19:59:11.247Z"
   },
   {
    "duration": 52,
    "start_time": "2024-03-11T19:59:23.341Z"
   },
   {
    "duration": 35,
    "start_time": "2024-03-11T20:00:04.962Z"
   },
   {
    "duration": 1067,
    "start_time": "2024-03-11T20:00:10.841Z"
   },
   {
    "duration": 150,
    "start_time": "2024-03-11T20:03:21.177Z"
   },
   {
    "duration": 136,
    "start_time": "2024-03-11T20:03:43.259Z"
   },
   {
    "duration": 1947,
    "start_time": "2024-03-11T20:03:57.387Z"
   },
   {
    "duration": 1829,
    "start_time": "2024-03-11T20:04:29.012Z"
   },
   {
    "duration": 32,
    "start_time": "2024-03-11T20:05:10.777Z"
   },
   {
    "duration": 30,
    "start_time": "2024-03-11T20:05:37.522Z"
   },
   {
    "duration": 1565,
    "start_time": "2024-03-11T20:07:17.962Z"
   },
   {
    "duration": 1493,
    "start_time": "2024-03-11T20:08:32.647Z"
   },
   {
    "duration": 1487,
    "start_time": "2024-03-11T20:08:37.027Z"
   },
   {
    "duration": 130,
    "start_time": "2024-03-11T20:08:54.697Z"
   },
   {
    "duration": 194,
    "start_time": "2024-03-11T20:10:23.928Z"
   },
   {
    "duration": 182,
    "start_time": "2024-03-11T20:10:33.615Z"
   },
   {
    "duration": 293,
    "start_time": "2024-03-11T20:11:43.554Z"
   },
   {
    "duration": 103,
    "start_time": "2024-03-11T20:13:09.444Z"
   },
   {
    "duration": 410,
    "start_time": "2024-03-11T20:13:16.375Z"
   },
   {
    "duration": 412,
    "start_time": "2024-03-11T20:13:55.040Z"
   },
   {
    "duration": 54,
    "start_time": "2024-03-11T20:18:24.685Z"
   },
   {
    "duration": 266,
    "start_time": "2024-03-11T20:26:38.006Z"
   },
   {
    "duration": 1703,
    "start_time": "2024-03-12T07:28:47.892Z"
   },
   {
    "duration": 3228,
    "start_time": "2024-03-12T07:28:49.597Z"
   },
   {
    "duration": 3,
    "start_time": "2024-03-12T07:28:52.827Z"
   },
   {
    "duration": 395,
    "start_time": "2024-03-12T07:28:52.832Z"
   },
   {
    "duration": 165,
    "start_time": "2024-03-12T07:28:53.229Z"
   },
   {
    "duration": 370,
    "start_time": "2024-03-12T07:28:53.395Z"
   },
   {
    "duration": 14,
    "start_time": "2024-03-12T07:28:53.772Z"
   },
   {
    "duration": 4,
    "start_time": "2024-03-12T07:28:53.787Z"
   },
   {
    "duration": 17,
    "start_time": "2024-03-12T07:28:53.793Z"
   },
   {
    "duration": 6,
    "start_time": "2024-03-12T07:28:53.811Z"
   },
   {
    "duration": 17,
    "start_time": "2024-03-12T07:28:53.819Z"
   },
   {
    "duration": 43,
    "start_time": "2024-03-12T07:28:53.837Z"
   },
   {
    "duration": 10,
    "start_time": "2024-03-12T07:28:53.881Z"
   },
   {
    "duration": 17,
    "start_time": "2024-03-12T07:28:53.894Z"
   },
   {
    "duration": 5,
    "start_time": "2024-03-12T07:28:53.912Z"
   },
   {
    "duration": 9,
    "start_time": "2024-03-12T07:28:53.919Z"
   },
   {
    "duration": 3793,
    "start_time": "2024-03-12T07:28:53.929Z"
   },
   {
    "duration": 15,
    "start_time": "2024-03-12T07:28:57.723Z"
   },
   {
    "duration": 307,
    "start_time": "2024-03-12T07:28:57.740Z"
   },
   {
    "duration": 148,
    "start_time": "2024-03-12T07:28:58.049Z"
   },
   {
    "duration": 0,
    "start_time": "2024-03-12T07:28:58.200Z"
   },
   {
    "duration": 0,
    "start_time": "2024-03-12T07:28:58.201Z"
   },
   {
    "duration": 11,
    "start_time": "2024-03-12T07:30:21.293Z"
   },
   {
    "duration": 17,
    "start_time": "2024-03-12T07:31:18.344Z"
   },
   {
    "duration": 11,
    "start_time": "2024-03-12T07:32:03.065Z"
   },
   {
    "duration": 1723,
    "start_time": "2024-03-12T07:33:30.674Z"
   },
   {
    "duration": 33,
    "start_time": "2024-03-12T07:33:58.488Z"
   },
   {
    "duration": 460,
    "start_time": "2024-03-12T07:34:04.082Z"
   },
   {
    "duration": 4,
    "start_time": "2024-03-12T07:34:24.146Z"
   },
   {
    "duration": 32,
    "start_time": "2024-03-12T07:36:09.754Z"
   },
   {
    "duration": 4,
    "start_time": "2024-03-12T07:54:41.868Z"
   },
   {
    "duration": 4,
    "start_time": "2024-03-12T08:34:31.677Z"
   },
   {
    "duration": 8,
    "start_time": "2024-03-12T08:46:34.167Z"
   },
   {
    "duration": 10,
    "start_time": "2024-03-12T09:03:40.373Z"
   },
   {
    "duration": 1448,
    "start_time": "2024-03-12T09:04:13.261Z"
   },
   {
    "duration": 895,
    "start_time": "2024-03-12T09:04:14.712Z"
   },
   {
    "duration": 3,
    "start_time": "2024-03-12T09:04:15.610Z"
   },
   {
    "duration": 413,
    "start_time": "2024-03-12T09:04:15.615Z"
   },
   {
    "duration": 159,
    "start_time": "2024-03-12T09:04:16.029Z"
   },
   {
    "duration": 372,
    "start_time": "2024-03-12T09:04:16.189Z"
   },
   {
    "duration": 20,
    "start_time": "2024-03-12T09:04:16.563Z"
   },
   {
    "duration": 49,
    "start_time": "2024-03-12T09:04:16.585Z"
   },
   {
    "duration": 43,
    "start_time": "2024-03-12T09:04:16.636Z"
   },
   {
    "duration": 42,
    "start_time": "2024-03-12T09:04:16.680Z"
   },
   {
    "duration": 40,
    "start_time": "2024-03-12T09:04:16.723Z"
   },
   {
    "duration": 41,
    "start_time": "2024-03-12T09:04:16.765Z"
   },
   {
    "duration": 40,
    "start_time": "2024-03-12T09:04:16.809Z"
   },
   {
    "duration": 32,
    "start_time": "2024-03-12T09:04:16.851Z"
   },
   {
    "duration": 120,
    "start_time": "2024-03-12T09:04:16.885Z"
   },
   {
    "duration": 0,
    "start_time": "2024-03-12T09:04:17.006Z"
   },
   {
    "duration": 0,
    "start_time": "2024-03-12T09:04:17.007Z"
   },
   {
    "duration": 0,
    "start_time": "2024-03-12T09:04:17.009Z"
   },
   {
    "duration": 0,
    "start_time": "2024-03-12T09:04:17.010Z"
   },
   {
    "duration": 0,
    "start_time": "2024-03-12T09:04:17.011Z"
   },
   {
    "duration": 0,
    "start_time": "2024-03-12T09:04:17.011Z"
   },
   {
    "duration": 0,
    "start_time": "2024-03-12T09:04:17.013Z"
   },
   {
    "duration": 0,
    "start_time": "2024-03-12T09:04:17.014Z"
   },
   {
    "duration": 4,
    "start_time": "2024-03-12T09:05:24.170Z"
   },
   {
    "duration": 4,
    "start_time": "2024-03-12T09:05:28.608Z"
   },
   {
    "duration": 3,
    "start_time": "2024-03-12T09:07:02.606Z"
   },
   {
    "duration": 3,
    "start_time": "2024-03-12T09:07:03.530Z"
   },
   {
    "duration": 3832,
    "start_time": "2024-03-12T09:07:04.041Z"
   },
   {
    "duration": 14,
    "start_time": "2024-03-12T09:07:10.687Z"
   },
   {
    "duration": 291,
    "start_time": "2024-03-12T09:07:23.862Z"
   },
   {
    "duration": 35,
    "start_time": "2024-03-12T09:07:45.351Z"
   },
   {
    "duration": 447,
    "start_time": "2024-03-12T09:07:49.532Z"
   },
   {
    "duration": 5,
    "start_time": "2024-03-12T09:08:05.367Z"
   },
   {
    "duration": 4,
    "start_time": "2024-03-12T09:08:34.925Z"
   },
   {
    "duration": 5,
    "start_time": "2024-03-12T09:09:04.674Z"
   },
   {
    "duration": 17,
    "start_time": "2024-03-12T09:29:36.235Z"
   },
   {
    "duration": 99,
    "start_time": "2024-03-12T09:30:05.837Z"
   },
   {
    "duration": 103,
    "start_time": "2024-03-12T09:30:26.758Z"
   },
   {
    "duration": 12,
    "start_time": "2024-03-12T09:30:49.308Z"
   },
   {
    "duration": 11,
    "start_time": "2024-03-12T09:31:47.304Z"
   },
   {
    "duration": 20,
    "start_time": "2024-03-12T09:33:35.215Z"
   },
   {
    "duration": 1584,
    "start_time": "2024-03-12T09:33:42.159Z"
   },
   {
    "duration": 16,
    "start_time": "2024-03-12T09:33:53.571Z"
   },
   {
    "duration": 1472,
    "start_time": "2024-03-12T09:34:07.732Z"
   },
   {
    "duration": 903,
    "start_time": "2024-03-12T09:34:09.206Z"
   },
   {
    "duration": 3,
    "start_time": "2024-03-12T09:34:10.111Z"
   },
   {
    "duration": 388,
    "start_time": "2024-03-12T09:34:10.116Z"
   },
   {
    "duration": 168,
    "start_time": "2024-03-12T09:34:10.506Z"
   },
   {
    "duration": 384,
    "start_time": "2024-03-12T09:34:10.676Z"
   },
   {
    "duration": 22,
    "start_time": "2024-03-12T09:34:11.062Z"
   },
   {
    "duration": 4,
    "start_time": "2024-03-12T09:34:11.085Z"
   },
   {
    "duration": 27,
    "start_time": "2024-03-12T09:34:11.091Z"
   },
   {
    "duration": 10,
    "start_time": "2024-03-12T09:34:11.119Z"
   },
   {
    "duration": 18,
    "start_time": "2024-03-12T09:34:11.131Z"
   },
   {
    "duration": 14,
    "start_time": "2024-03-12T09:34:11.150Z"
   },
   {
    "duration": 12,
    "start_time": "2024-03-12T09:34:11.173Z"
   },
   {
    "duration": 10,
    "start_time": "2024-03-12T09:34:11.188Z"
   },
   {
    "duration": 11,
    "start_time": "2024-03-12T09:34:11.200Z"
   },
   {
    "duration": 2,
    "start_time": "2024-03-12T09:34:11.213Z"
   },
   {
    "duration": 8,
    "start_time": "2024-03-12T09:34:11.216Z"
   },
   {
    "duration": 3943,
    "start_time": "2024-03-12T09:34:11.225Z"
   },
   {
    "duration": 14,
    "start_time": "2024-03-12T09:34:15.174Z"
   },
   {
    "duration": 293,
    "start_time": "2024-03-12T09:34:15.190Z"
   },
   {
    "duration": 32,
    "start_time": "2024-03-12T09:34:15.484Z"
   },
   {
    "duration": 483,
    "start_time": "2024-03-12T09:34:15.517Z"
   },
   {
    "duration": 6,
    "start_time": "2024-03-12T09:34:16.002Z"
   },
   {
    "duration": 106,
    "start_time": "2024-03-12T09:34:16.010Z"
   },
   {
    "duration": 81,
    "start_time": "2024-03-12T09:43:08.201Z"
   },
   {
    "duration": 4,
    "start_time": "2024-03-12T09:45:04.109Z"
   },
   {
    "duration": 2,
    "start_time": "2024-03-12T09:49:49.785Z"
   },
   {
    "duration": 6,
    "start_time": "2024-03-12T09:49:57.079Z"
   },
   {
    "duration": 4,
    "start_time": "2024-03-12T09:51:20.273Z"
   },
   {
    "duration": 5,
    "start_time": "2024-03-12T09:53:42.835Z"
   },
   {
    "duration": 123,
    "start_time": "2024-03-12T09:54:01.511Z"
   },
   {
    "duration": 9,
    "start_time": "2024-03-12T09:54:45.465Z"
   },
   {
    "duration": 9,
    "start_time": "2024-03-12T09:54:52.470Z"
   },
   {
    "duration": 9,
    "start_time": "2024-03-12T09:55:10.525Z"
   },
   {
    "duration": 9,
    "start_time": "2024-03-12T09:59:37.795Z"
   },
   {
    "duration": 25,
    "start_time": "2024-03-12T10:01:33.760Z"
   },
   {
    "duration": 1520,
    "start_time": "2024-03-12T10:01:55.986Z"
   },
   {
    "duration": 883,
    "start_time": "2024-03-12T10:01:57.508Z"
   },
   {
    "duration": 3,
    "start_time": "2024-03-12T10:01:58.392Z"
   },
   {
    "duration": 387,
    "start_time": "2024-03-12T10:01:58.397Z"
   },
   {
    "duration": 158,
    "start_time": "2024-03-12T10:01:58.785Z"
   },
   {
    "duration": 370,
    "start_time": "2024-03-12T10:01:58.944Z"
   },
   {
    "duration": 13,
    "start_time": "2024-03-12T10:01:59.315Z"
   },
   {
    "duration": 43,
    "start_time": "2024-03-12T10:01:59.330Z"
   },
   {
    "duration": 35,
    "start_time": "2024-03-12T10:01:59.374Z"
   },
   {
    "duration": 53,
    "start_time": "2024-03-12T10:01:59.411Z"
   },
   {
    "duration": 174,
    "start_time": "2024-03-12T10:01:59.466Z"
   },
   {
    "duration": 0,
    "start_time": "2024-03-12T10:01:59.642Z"
   },
   {
    "duration": 0,
    "start_time": "2024-03-12T10:01:59.643Z"
   },
   {
    "duration": 0,
    "start_time": "2024-03-12T10:01:59.644Z"
   },
   {
    "duration": 0,
    "start_time": "2024-03-12T10:01:59.645Z"
   },
   {
    "duration": 0,
    "start_time": "2024-03-12T10:01:59.646Z"
   },
   {
    "duration": 0,
    "start_time": "2024-03-12T10:01:59.647Z"
   },
   {
    "duration": 0,
    "start_time": "2024-03-12T10:01:59.649Z"
   },
   {
    "duration": 0,
    "start_time": "2024-03-12T10:01:59.649Z"
   },
   {
    "duration": 0,
    "start_time": "2024-03-12T10:01:59.651Z"
   },
   {
    "duration": 0,
    "start_time": "2024-03-12T10:01:59.652Z"
   },
   {
    "duration": 0,
    "start_time": "2024-03-12T10:01:59.653Z"
   },
   {
    "duration": 0,
    "start_time": "2024-03-12T10:01:59.654Z"
   },
   {
    "duration": 0,
    "start_time": "2024-03-12T10:01:59.673Z"
   },
   {
    "duration": 0,
    "start_time": "2024-03-12T10:01:59.674Z"
   },
   {
    "duration": 0,
    "start_time": "2024-03-12T10:01:59.676Z"
   },
   {
    "duration": 10,
    "start_time": "2024-03-12T10:02:30.031Z"
   },
   {
    "duration": 3,
    "start_time": "2024-03-12T10:02:58.608Z"
   },
   {
    "duration": 10,
    "start_time": "2024-03-12T10:03:12.918Z"
   },
   {
    "duration": 9,
    "start_time": "2024-03-12T10:03:55.865Z"
   },
   {
    "duration": 3,
    "start_time": "2024-03-12T10:04:08.422Z"
   },
   {
    "duration": 9,
    "start_time": "2024-03-12T10:04:09.734Z"
   },
   {
    "duration": 8,
    "start_time": "2024-03-12T10:04:41.253Z"
   },
   {
    "duration": 15,
    "start_time": "2024-03-12T10:04:52.327Z"
   },
   {
    "duration": 14,
    "start_time": "2024-03-12T10:05:19.923Z"
   },
   {
    "duration": 14,
    "start_time": "2024-03-12T10:05:25.235Z"
   },
   {
    "duration": 17,
    "start_time": "2024-03-12T10:05:26.129Z"
   },
   {
    "duration": 10,
    "start_time": "2024-03-12T10:05:27.302Z"
   },
   {
    "duration": 9,
    "start_time": "2024-03-12T10:05:28.792Z"
   },
   {
    "duration": 2,
    "start_time": "2024-03-12T10:05:32.720Z"
   },
   {
    "duration": 3,
    "start_time": "2024-03-12T10:05:33.081Z"
   },
   {
    "duration": 3779,
    "start_time": "2024-03-12T10:05:33.533Z"
   },
   {
    "duration": 15,
    "start_time": "2024-03-12T10:05:39.947Z"
   },
   {
    "duration": 15,
    "start_time": "2024-03-12T10:05:54.750Z"
   },
   {
    "duration": 285,
    "start_time": "2024-03-12T10:05:56.477Z"
   },
   {
    "duration": 34,
    "start_time": "2024-03-12T10:06:00.593Z"
   },
   {
    "duration": 439,
    "start_time": "2024-03-12T10:06:01.615Z"
   },
   {
    "duration": 3,
    "start_time": "2024-03-12T10:08:03.714Z"
   },
   {
    "duration": 5,
    "start_time": "2024-03-12T10:08:13.526Z"
   },
   {
    "duration": 3,
    "start_time": "2024-03-12T10:08:15.020Z"
   },
   {
    "duration": 7,
    "start_time": "2024-03-12T10:08:16.966Z"
   },
   {
    "duration": 10,
    "start_time": "2024-03-12T10:09:10.269Z"
   },
   {
    "duration": 7,
    "start_time": "2024-03-12T10:09:28.931Z"
   },
   {
    "duration": 52,
    "start_time": "2024-03-12T10:19:48.501Z"
   },
   {
    "duration": 54,
    "start_time": "2024-03-12T10:19:51.786Z"
   },
   {
    "duration": 13,
    "start_time": "2024-03-12T10:21:48.079Z"
   },
   {
    "duration": 10,
    "start_time": "2024-03-12T10:24:57.952Z"
   },
   {
    "duration": 8,
    "start_time": "2024-03-12T10:25:17.357Z"
   },
   {
    "duration": 7,
    "start_time": "2024-03-12T10:32:47.207Z"
   },
   {
    "duration": 52,
    "start_time": "2024-03-12T10:33:14.127Z"
   },
   {
    "duration": 10,
    "start_time": "2024-03-12T10:35:33.901Z"
   },
   {
    "duration": 3,
    "start_time": "2024-03-12T10:35:52.573Z"
   },
   {
    "duration": 99,
    "start_time": "2024-03-12T10:38:04.353Z"
   },
   {
    "duration": 9,
    "start_time": "2024-03-12T10:38:11.200Z"
   },
   {
    "duration": 2,
    "start_time": "2024-03-12T10:40:13.594Z"
   },
   {
    "duration": 8,
    "start_time": "2024-03-12T10:40:16.936Z"
   },
   {
    "duration": 99,
    "start_time": "2024-03-12T10:43:39.748Z"
   },
   {
    "duration": 5,
    "start_time": "2024-03-12T10:46:00.268Z"
   },
   {
    "duration": 11,
    "start_time": "2024-03-12T11:00:46.921Z"
   },
   {
    "duration": 9,
    "start_time": "2024-03-12T11:01:13.286Z"
   },
   {
    "duration": 54,
    "start_time": "2024-03-12T11:02:21.678Z"
   },
   {
    "duration": 47,
    "start_time": "2024-03-12T11:02:29.881Z"
   },
   {
    "duration": 52,
    "start_time": "2024-03-12T11:05:17.381Z"
   },
   {
    "duration": 2644,
    "start_time": "2024-03-12T11:19:52.269Z"
   },
   {
    "duration": 2630,
    "start_time": "2024-03-12T11:20:13.608Z"
   },
   {
    "duration": 2622,
    "start_time": "2024-03-12T11:20:33.331Z"
   },
   {
    "duration": 2651,
    "start_time": "2024-03-12T11:20:48.082Z"
   },
   {
    "duration": 5,
    "start_time": "2024-03-12T11:24:49.318Z"
   },
   {
    "duration": 2613,
    "start_time": "2024-03-12T11:24:53.455Z"
   },
   {
    "duration": 9,
    "start_time": "2024-03-12T11:26:47.105Z"
   },
   {
    "duration": 83,
    "start_time": "2024-03-12T11:27:09.908Z"
   },
   {
    "duration": 3,
    "start_time": "2024-03-12T11:28:14.329Z"
   },
   {
    "duration": 3,
    "start_time": "2024-03-12T11:29:13.084Z"
   },
   {
    "duration": 2,
    "start_time": "2024-03-12T11:29:14.649Z"
   },
   {
    "duration": 5,
    "start_time": "2024-03-12T11:42:26.104Z"
   },
   {
    "duration": 12,
    "start_time": "2024-03-12T11:42:31.349Z"
   },
   {
    "duration": 1810,
    "start_time": "2024-03-12T11:43:46.039Z"
   },
   {
    "duration": 52,
    "start_time": "2024-03-12T11:45:49.709Z"
   },
   {
    "duration": 56,
    "start_time": "2024-03-12T11:47:28.851Z"
   },
   {
    "duration": 2353,
    "start_time": "2024-03-12T11:57:24.762Z"
   },
   {
    "duration": 27,
    "start_time": "2024-03-12T11:58:18.108Z"
   },
   {
    "duration": 23,
    "start_time": "2024-03-12T11:58:39.855Z"
   },
   {
    "duration": 23,
    "start_time": "2024-03-12T11:59:10.145Z"
   },
   {
    "duration": 122,
    "start_time": "2024-03-12T12:01:04.088Z"
   },
   {
    "duration": 92,
    "start_time": "2024-03-12T12:01:13.191Z"
   },
   {
    "duration": 103,
    "start_time": "2024-03-12T12:01:34.075Z"
   },
   {
    "duration": 102,
    "start_time": "2024-03-12T12:01:40.889Z"
   },
   {
    "duration": 93,
    "start_time": "2024-03-12T12:02:01.629Z"
   },
   {
    "duration": 24,
    "start_time": "2024-03-12T12:02:38.464Z"
   },
   {
    "duration": 56,
    "start_time": "2024-03-12T12:03:40.819Z"
   },
   {
    "duration": 25,
    "start_time": "2024-03-12T12:03:47.487Z"
   },
   {
    "duration": 24,
    "start_time": "2024-03-12T12:07:03.770Z"
   },
   {
    "duration": 22,
    "start_time": "2024-03-12T12:07:08.149Z"
   },
   {
    "duration": 22,
    "start_time": "2024-03-12T12:08:15.240Z"
   },
   {
    "duration": 24,
    "start_time": "2024-03-12T12:10:01.729Z"
   },
   {
    "duration": 23,
    "start_time": "2024-03-12T12:10:14.884Z"
   },
   {
    "duration": 38125,
    "start_time": "2024-03-12T12:13:17.322Z"
   },
   {
    "duration": 63,
    "start_time": "2024-03-12T12:15:42.129Z"
   },
   {
    "duration": 28589,
    "start_time": "2024-03-12T12:16:08.310Z"
   },
   {
    "duration": 28280,
    "start_time": "2024-03-12T12:20:48.926Z"
   },
   {
    "duration": 10,
    "start_time": "2024-03-12T12:27:20.569Z"
   },
   {
    "duration": 10,
    "start_time": "2024-03-12T12:27:29.114Z"
   },
   {
    "duration": 11,
    "start_time": "2024-03-12T12:28:29.529Z"
   },
   {
    "duration": 22,
    "start_time": "2024-03-12T12:28:43.331Z"
   },
   {
    "duration": 31,
    "start_time": "2024-03-12T12:29:17.170Z"
   },
   {
    "duration": 94,
    "start_time": "2024-03-12T12:29:50.503Z"
   },
   {
    "duration": 51432,
    "start_time": "2024-03-12T12:30:16.777Z"
   },
   {
    "duration": 10,
    "start_time": "2024-03-12T12:31:51.624Z"
   },
   {
    "duration": 21,
    "start_time": "2024-03-12T12:31:57.527Z"
   },
   {
    "duration": 22,
    "start_time": "2024-03-12T12:32:14.168Z"
   },
   {
    "duration": 22,
    "start_time": "2024-03-12T12:33:07.803Z"
   },
   {
    "duration": 52,
    "start_time": "2024-03-12T12:35:34.367Z"
   },
   {
    "duration": 17742,
    "start_time": "2024-03-12T12:37:46.709Z"
   },
   {
    "duration": 17509,
    "start_time": "2024-03-12T12:40:29.095Z"
   },
   {
    "duration": 17315,
    "start_time": "2024-03-12T12:41:18.731Z"
   },
   {
    "duration": 1522,
    "start_time": "2024-03-12T12:49:02.392Z"
   },
   {
    "duration": 904,
    "start_time": "2024-03-12T12:49:03.916Z"
   },
   {
    "duration": 3,
    "start_time": "2024-03-12T12:49:04.822Z"
   },
   {
    "duration": 391,
    "start_time": "2024-03-12T12:49:04.827Z"
   },
   {
    "duration": 175,
    "start_time": "2024-03-12T12:49:05.220Z"
   },
   {
    "duration": 386,
    "start_time": "2024-03-12T12:49:05.397Z"
   },
   {
    "duration": 17,
    "start_time": "2024-03-12T12:49:05.784Z"
   },
   {
    "duration": 4,
    "start_time": "2024-03-12T12:49:05.802Z"
   },
   {
    "duration": 17,
    "start_time": "2024-03-12T12:49:05.808Z"
   },
   {
    "duration": 5,
    "start_time": "2024-03-12T12:49:05.828Z"
   },
   {
    "duration": 38,
    "start_time": "2024-03-12T12:49:05.835Z"
   },
   {
    "duration": 14,
    "start_time": "2024-03-12T12:49:05.875Z"
   },
   {
    "duration": 24,
    "start_time": "2024-03-12T12:49:05.890Z"
   },
   {
    "duration": 11,
    "start_time": "2024-03-12T12:49:05.916Z"
   },
   {
    "duration": 16,
    "start_time": "2024-03-12T12:49:05.928Z"
   },
   {
    "duration": 4,
    "start_time": "2024-03-12T12:49:05.946Z"
   },
   {
    "duration": 22,
    "start_time": "2024-03-12T12:49:05.951Z"
   },
   {
    "duration": 3935,
    "start_time": "2024-03-12T12:49:05.975Z"
   },
   {
    "duration": 15,
    "start_time": "2024-03-12T12:49:09.912Z"
   },
   {
    "duration": 303,
    "start_time": "2024-03-12T12:49:09.928Z"
   },
   {
    "duration": 45,
    "start_time": "2024-03-12T12:49:10.233Z"
   },
   {
    "duration": 447,
    "start_time": "2024-03-12T12:49:10.280Z"
   },
   {
    "duration": 5,
    "start_time": "2024-03-12T12:49:10.729Z"
   },
   {
    "duration": 38,
    "start_time": "2024-03-12T12:49:10.736Z"
   },
   {
    "duration": 43,
    "start_time": "2024-03-12T12:49:10.775Z"
   },
   {
    "duration": 18,
    "start_time": "2024-03-12T12:49:10.819Z"
   },
   {
    "duration": 10,
    "start_time": "2024-03-12T12:49:10.839Z"
   },
   {
    "duration": 218,
    "start_time": "2024-03-12T12:49:10.852Z"
   },
   {
    "duration": 10,
    "start_time": "2024-03-12T12:49:11.072Z"
   },
   {
    "duration": 45621,
    "start_time": "2024-03-12T12:49:38.731Z"
   },
   {
    "duration": 1248,
    "start_time": "2024-03-12T12:50:27.783Z"
   },
   {
    "duration": 28599,
    "start_time": "2024-03-12T12:50:40.911Z"
   },
   {
    "duration": 24871,
    "start_time": "2024-03-12T12:51:13.776Z"
   },
   {
    "duration": 9,
    "start_time": "2024-03-12T13:04:00.169Z"
   },
   {
    "duration": 1546,
    "start_time": "2024-03-12T13:19:44.870Z"
   },
   {
    "duration": 888,
    "start_time": "2024-03-12T13:19:46.418Z"
   },
   {
    "duration": 4,
    "start_time": "2024-03-12T13:19:47.307Z"
   },
   {
    "duration": 400,
    "start_time": "2024-03-12T13:19:47.312Z"
   },
   {
    "duration": 172,
    "start_time": "2024-03-12T13:19:47.714Z"
   },
   {
    "duration": 395,
    "start_time": "2024-03-12T13:19:47.888Z"
   },
   {
    "duration": 15,
    "start_time": "2024-03-12T13:19:48.285Z"
   },
   {
    "duration": 9,
    "start_time": "2024-03-12T13:19:48.301Z"
   },
   {
    "duration": 31,
    "start_time": "2024-03-12T13:19:48.311Z"
   },
   {
    "duration": 22,
    "start_time": "2024-03-12T13:19:48.343Z"
   },
   {
    "duration": 18,
    "start_time": "2024-03-12T13:19:48.367Z"
   },
   {
    "duration": 18,
    "start_time": "2024-03-12T13:19:48.387Z"
   },
   {
    "duration": 30,
    "start_time": "2024-03-12T13:19:48.406Z"
   },
   {
    "duration": 15,
    "start_time": "2024-03-12T13:19:48.438Z"
   },
   {
    "duration": 34,
    "start_time": "2024-03-12T13:19:48.455Z"
   },
   {
    "duration": 3,
    "start_time": "2024-03-12T13:19:48.490Z"
   },
   {
    "duration": 4,
    "start_time": "2024-03-12T13:19:48.495Z"
   },
   {
    "duration": 3806,
    "start_time": "2024-03-12T13:19:48.501Z"
   },
   {
    "duration": 17,
    "start_time": "2024-03-12T13:19:52.308Z"
   },
   {
    "duration": 334,
    "start_time": "2024-03-12T13:19:52.326Z"
   },
   {
    "duration": 38,
    "start_time": "2024-03-12T13:19:52.662Z"
   },
   {
    "duration": 462,
    "start_time": "2024-03-12T13:19:52.702Z"
   },
   {
    "duration": 9,
    "start_time": "2024-03-12T13:19:53.166Z"
   },
   {
    "duration": 29,
    "start_time": "2024-03-12T13:19:53.177Z"
   },
   {
    "duration": 23,
    "start_time": "2024-03-12T13:19:53.208Z"
   },
   {
    "duration": 20,
    "start_time": "2024-03-12T13:19:53.233Z"
   },
   {
    "duration": 18,
    "start_time": "2024-03-12T13:19:53.255Z"
   },
   {
    "duration": 24360,
    "start_time": "2024-03-12T13:19:53.275Z"
   },
   {
    "duration": 1045,
    "start_time": "2024-03-12T13:20:17.637Z"
   },
   {
    "duration": 107,
    "start_time": "2024-03-12T13:21:47.468Z"
   },
   {
    "duration": 4,
    "start_time": "2024-03-12T13:24:14.714Z"
   },
   {
    "duration": 6,
    "start_time": "2024-03-12T13:24:17.036Z"
   },
   {
    "duration": 8,
    "start_time": "2024-03-12T13:24:18.024Z"
   },
   {
    "duration": 3,
    "start_time": "2024-03-12T13:24:31.262Z"
   },
   {
    "duration": 3,
    "start_time": "2024-03-12T13:24:37.790Z"
   },
   {
    "duration": 8,
    "start_time": "2024-03-12T13:24:39.252Z"
   },
   {
    "duration": 24316,
    "start_time": "2024-03-12T13:24:41.758Z"
   },
   {
    "duration": 1086,
    "start_time": "2024-03-12T13:25:16.890Z"
   },
   {
    "duration": 9,
    "start_time": "2024-03-12T13:25:44.813Z"
   },
   {
    "duration": 4,
    "start_time": "2024-03-12T13:25:51.294Z"
   },
   {
    "duration": 6,
    "start_time": "2024-03-12T13:25:53.056Z"
   },
   {
    "duration": 9,
    "start_time": "2024-03-12T13:25:53.812Z"
   },
   {
    "duration": 3,
    "start_time": "2024-03-12T13:26:04.394Z"
   },
   {
    "duration": 3,
    "start_time": "2024-03-12T13:26:08.750Z"
   },
   {
    "duration": 8,
    "start_time": "2024-03-12T13:26:09.531Z"
   },
   {
    "duration": 24151,
    "start_time": "2024-03-12T13:26:11.188Z"
   },
   {
    "duration": 20336,
    "start_time": "2024-03-12T13:28:01.191Z"
   },
   {
    "duration": 104,
    "start_time": "2024-03-12T13:41:52.858Z"
   },
   {
    "duration": 5,
    "start_time": "2024-03-12T13:41:56.692Z"
   },
   {
    "duration": 6,
    "start_time": "2024-03-12T13:41:59.807Z"
   },
   {
    "duration": 3,
    "start_time": "2024-03-12T13:42:00.830Z"
   },
   {
    "duration": 3,
    "start_time": "2024-03-12T13:42:02.455Z"
   },
   {
    "duration": 8,
    "start_time": "2024-03-12T13:42:03.273Z"
   },
   {
    "duration": 23463,
    "start_time": "2024-03-12T13:42:05.059Z"
   },
   {
    "duration": 1128,
    "start_time": "2024-03-12T13:42:57.416Z"
   },
   {
    "duration": 97,
    "start_time": "2024-03-12T13:50:43.820Z"
   },
   {
    "duration": 3762,
    "start_time": "2024-03-12T13:59:14.056Z"
   },
   {
    "duration": 93,
    "start_time": "2024-03-12T14:01:53.930Z"
   },
   {
    "duration": 23446,
    "start_time": "2024-03-12T14:31:35.141Z"
   },
   {
    "duration": 1494,
    "start_time": "2024-03-12T14:39:53.520Z"
   },
   {
    "duration": 893,
    "start_time": "2024-03-12T14:39:55.017Z"
   },
   {
    "duration": 3,
    "start_time": "2024-03-12T14:39:55.912Z"
   },
   {
    "duration": 421,
    "start_time": "2024-03-12T14:39:55.916Z"
   },
   {
    "duration": 164,
    "start_time": "2024-03-12T14:39:56.339Z"
   },
   {
    "duration": 393,
    "start_time": "2024-03-12T14:39:56.505Z"
   },
   {
    "duration": 14,
    "start_time": "2024-03-12T14:39:56.899Z"
   },
   {
    "duration": 4,
    "start_time": "2024-03-12T14:39:56.915Z"
   },
   {
    "duration": 28,
    "start_time": "2024-03-12T14:39:56.921Z"
   },
   {
    "duration": 13,
    "start_time": "2024-03-12T14:39:56.951Z"
   },
   {
    "duration": 21,
    "start_time": "2024-03-12T14:39:56.966Z"
   },
   {
    "duration": 15,
    "start_time": "2024-03-12T14:39:56.989Z"
   },
   {
    "duration": 12,
    "start_time": "2024-03-12T14:39:57.006Z"
   },
   {
    "duration": 12,
    "start_time": "2024-03-12T14:39:57.021Z"
   },
   {
    "duration": 40,
    "start_time": "2024-03-12T14:39:57.035Z"
   },
   {
    "duration": 3,
    "start_time": "2024-03-12T14:39:57.077Z"
   },
   {
    "duration": 12,
    "start_time": "2024-03-12T14:39:57.082Z"
   },
   {
    "duration": 3812,
    "start_time": "2024-03-12T14:39:57.096Z"
   },
   {
    "duration": 16,
    "start_time": "2024-03-12T14:40:00.909Z"
   },
   {
    "duration": 370,
    "start_time": "2024-03-12T14:40:00.927Z"
   },
   {
    "duration": 38,
    "start_time": "2024-03-12T14:40:01.298Z"
   },
   {
    "duration": 572,
    "start_time": "2024-03-12T14:40:01.338Z"
   },
   {
    "duration": 6,
    "start_time": "2024-03-12T14:40:01.911Z"
   },
   {
    "duration": 33,
    "start_time": "2024-03-12T14:40:01.918Z"
   },
   {
    "duration": 33,
    "start_time": "2024-03-12T14:40:01.953Z"
   },
   {
    "duration": 63,
    "start_time": "2024-03-12T14:40:01.988Z"
   },
   {
    "duration": 23,
    "start_time": "2024-03-12T14:40:02.053Z"
   },
   {
    "duration": 23351,
    "start_time": "2024-03-12T14:40:02.078Z"
   },
   {
    "duration": 1400,
    "start_time": "2024-03-12T14:40:25.430Z"
   },
   {
    "duration": 3747,
    "start_time": "2024-03-12T14:40:26.832Z"
   },
   {
    "duration": 114,
    "start_time": "2024-03-13T06:24:59.316Z"
   },
   {
    "duration": 67,
    "start_time": "2024-03-13T06:34:45.957Z"
   },
   {
    "duration": 1614,
    "start_time": "2024-03-13T06:35:02.150Z"
   },
   {
    "duration": 900,
    "start_time": "2024-03-13T06:40:32.387Z"
   },
   {
    "duration": 3,
    "start_time": "2024-03-13T06:42:08.093Z"
   },
   {
    "duration": 112,
    "start_time": "2024-03-13T06:42:09.653Z"
   },
   {
    "duration": 353,
    "start_time": "2024-03-13T06:42:55.909Z"
   },
   {
    "duration": 3,
    "start_time": "2024-03-13T06:43:08.766Z"
   },
   {
    "duration": 12,
    "start_time": "2024-03-13T06:43:09.819Z"
   },
   {
    "duration": 335,
    "start_time": "2024-03-13T06:49:14.915Z"
   },
   {
    "duration": 4,
    "start_time": "2024-03-13T06:49:20.622Z"
   },
   {
    "duration": 359,
    "start_time": "2024-03-13T06:49:22.180Z"
   },
   {
    "duration": 14,
    "start_time": "2024-03-13T06:49:28.876Z"
   },
   {
    "duration": 340,
    "start_time": "2024-03-13T06:50:16.062Z"
   },
   {
    "duration": 2,
    "start_time": "2024-03-13T06:50:19.765Z"
   },
   {
    "duration": 334,
    "start_time": "2024-03-13T06:50:23.634Z"
   },
   {
    "duration": 12,
    "start_time": "2024-03-13T06:50:26.908Z"
   },
   {
    "duration": 11,
    "start_time": "2024-03-13T06:50:28.480Z"
   },
   {
    "duration": 8,
    "start_time": "2024-03-13T06:50:31.199Z"
   },
   {
    "duration": 335,
    "start_time": "2024-03-13T06:56:52.670Z"
   },
   {
    "duration": 3,
    "start_time": "2024-03-13T06:56:55.507Z"
   },
   {
    "duration": 12,
    "start_time": "2024-03-13T06:56:56.383Z"
   },
   {
    "duration": 11,
    "start_time": "2024-03-13T06:57:03.184Z"
   },
   {
    "duration": 12,
    "start_time": "2024-03-13T06:57:04.683Z"
   },
   {
    "duration": 7,
    "start_time": "2024-03-13T06:57:07.176Z"
   },
   {
    "duration": 3,
    "start_time": "2024-03-13T07:00:42.515Z"
   },
   {
    "duration": 13,
    "start_time": "2024-03-13T07:00:44.511Z"
   },
   {
    "duration": 45,
    "start_time": "2024-03-13T07:03:39.044Z"
   },
   {
    "duration": 354,
    "start_time": "2024-03-13T07:03:43.336Z"
   },
   {
    "duration": 3,
    "start_time": "2024-03-13T07:03:45.773Z"
   },
   {
    "duration": 12,
    "start_time": "2024-03-13T07:03:46.665Z"
   },
   {
    "duration": 334,
    "start_time": "2024-03-13T07:07:08.716Z"
   },
   {
    "duration": 3,
    "start_time": "2024-03-13T07:07:11.982Z"
   },
   {
    "duration": 15,
    "start_time": "2024-03-13T07:07:14.670Z"
   },
   {
    "duration": 3,
    "start_time": "2024-03-13T07:07:22.668Z"
   },
   {
    "duration": 15,
    "start_time": "2024-03-13T07:07:23.459Z"
   },
   {
    "duration": 18,
    "start_time": "2024-03-13T07:07:24.769Z"
   },
   {
    "duration": 17,
    "start_time": "2024-03-13T07:07:25.816Z"
   },
   {
    "duration": 8,
    "start_time": "2024-03-13T07:07:28.364Z"
   },
   {
    "duration": 41,
    "start_time": "2024-03-13T07:10:55.638Z"
   },
   {
    "duration": 1430,
    "start_time": "2024-03-13T07:12:34.982Z"
   },
   {
    "duration": 1648,
    "start_time": "2024-03-13T07:12:36.414Z"
   },
   {
    "duration": 3,
    "start_time": "2024-03-13T07:12:38.063Z"
   },
   {
    "duration": 366,
    "start_time": "2024-03-13T07:12:38.068Z"
   },
   {
    "duration": 154,
    "start_time": "2024-03-13T07:12:38.436Z"
   },
   {
    "duration": 375,
    "start_time": "2024-03-13T07:12:38.592Z"
   },
   {
    "duration": 14,
    "start_time": "2024-03-13T07:12:38.968Z"
   },
   {
    "duration": 4,
    "start_time": "2024-03-13T07:12:38.984Z"
   },
   {
    "duration": 16,
    "start_time": "2024-03-13T07:12:38.989Z"
   },
   {
    "duration": 6,
    "start_time": "2024-03-13T07:12:39.006Z"
   },
   {
    "duration": 25,
    "start_time": "2024-03-13T07:12:39.014Z"
   },
   {
    "duration": 37,
    "start_time": "2024-03-13T07:12:39.041Z"
   },
   {
    "duration": 17,
    "start_time": "2024-03-13T07:12:39.080Z"
   },
   {
    "duration": 13,
    "start_time": "2024-03-13T07:12:39.099Z"
   },
   {
    "duration": 9,
    "start_time": "2024-03-13T07:12:39.113Z"
   },
   {
    "duration": 14,
    "start_time": "2024-03-13T07:12:39.123Z"
   },
   {
    "duration": 6,
    "start_time": "2024-03-13T07:12:39.139Z"
   },
   {
    "duration": 3728,
    "start_time": "2024-03-13T07:12:39.146Z"
   },
   {
    "duration": 15,
    "start_time": "2024-03-13T07:12:42.875Z"
   },
   {
    "duration": 306,
    "start_time": "2024-03-13T07:12:42.892Z"
   },
   {
    "duration": 30,
    "start_time": "2024-03-13T07:12:43.200Z"
   },
   {
    "duration": 429,
    "start_time": "2024-03-13T07:12:43.232Z"
   },
   {
    "duration": 4,
    "start_time": "2024-03-13T07:12:43.663Z"
   },
   {
    "duration": 25,
    "start_time": "2024-03-13T07:12:43.669Z"
   },
   {
    "duration": 15,
    "start_time": "2024-03-13T07:12:43.696Z"
   },
   {
    "duration": 5,
    "start_time": "2024-03-13T07:12:43.713Z"
   },
   {
    "duration": 24,
    "start_time": "2024-03-13T07:12:43.720Z"
   },
   {
    "duration": 26,
    "start_time": "2024-03-13T07:12:43.747Z"
   },
   {
    "duration": 21122,
    "start_time": "2024-03-13T07:12:43.775Z"
   },
   {
    "duration": 1524,
    "start_time": "2024-03-13T07:13:04.898Z"
   },
   {
    "duration": 3389,
    "start_time": "2024-03-13T07:13:06.424Z"
   },
   {
    "duration": 256,
    "start_time": "2024-03-13T07:27:51.820Z"
   },
   {
    "duration": 150,
    "start_time": "2024-03-13T07:28:06.234Z"
   },
   {
    "duration": 114,
    "start_time": "2024-03-13T07:28:11.303Z"
   },
   {
    "duration": 9,
    "start_time": "2024-03-13T07:31:25.933Z"
   },
   {
    "duration": 10,
    "start_time": "2024-03-13T07:31:29.300Z"
   },
   {
    "duration": 72,
    "start_time": "2024-03-13T07:53:34.299Z"
   },
   {
    "duration": 3,
    "start_time": "2024-03-13T07:53:39.782Z"
   },
   {
    "duration": 114,
    "start_time": "2024-03-13T07:55:00.524Z"
   },
   {
    "duration": 12,
    "start_time": "2024-03-13T07:55:08.258Z"
   },
   {
    "duration": 10,
    "start_time": "2024-03-13T07:56:40.695Z"
   },
   {
    "duration": 15,
    "start_time": "2024-03-13T08:07:28.883Z"
   },
   {
    "duration": 1433,
    "start_time": "2024-03-13T08:09:55.979Z"
   },
   {
    "duration": 1149,
    "start_time": "2024-03-13T08:11:40.698Z"
   },
   {
    "duration": 14,
    "start_time": "2024-03-13T08:20:02.218Z"
   },
   {
    "duration": 99,
    "start_time": "2024-03-13T08:20:23.833Z"
   },
   {
    "duration": 447,
    "start_time": "2024-03-13T08:20:46.441Z"
   },
   {
    "duration": 522,
    "start_time": "2024-03-13T08:21:09.553Z"
   },
   {
    "duration": 445,
    "start_time": "2024-03-13T08:21:19.134Z"
   },
   {
    "duration": 413,
    "start_time": "2024-03-13T08:21:27.468Z"
   },
   {
    "duration": 433,
    "start_time": "2024-03-13T08:21:33.333Z"
   },
   {
    "duration": 1702,
    "start_time": "2024-03-13T09:49:29.242Z"
   },
   {
    "duration": 149,
    "start_time": "2024-03-13T09:52:03.054Z"
   },
   {
    "duration": 1510,
    "start_time": "2024-03-13T09:52:23.284Z"
   },
   {
    "duration": 2180,
    "start_time": "2024-03-13T09:52:24.796Z"
   },
   {
    "duration": 3,
    "start_time": "2024-03-13T09:52:26.977Z"
   },
   {
    "duration": 379,
    "start_time": "2024-03-13T09:52:26.982Z"
   },
   {
    "duration": 171,
    "start_time": "2024-03-13T09:52:27.364Z"
   },
   {
    "duration": 382,
    "start_time": "2024-03-13T09:52:27.537Z"
   },
   {
    "duration": 15,
    "start_time": "2024-03-13T09:52:27.921Z"
   },
   {
    "duration": 4,
    "start_time": "2024-03-13T09:52:27.937Z"
   },
   {
    "duration": 14,
    "start_time": "2024-03-13T09:52:27.943Z"
   },
   {
    "duration": 6,
    "start_time": "2024-03-13T09:52:27.958Z"
   },
   {
    "duration": 15,
    "start_time": "2024-03-13T09:52:27.965Z"
   },
   {
    "duration": 45,
    "start_time": "2024-03-13T09:52:27.981Z"
   },
   {
    "duration": 9,
    "start_time": "2024-03-13T09:52:28.027Z"
   },
   {
    "duration": 12,
    "start_time": "2024-03-13T09:52:28.039Z"
   },
   {
    "duration": 16,
    "start_time": "2024-03-13T09:52:28.052Z"
   },
   {
    "duration": 16,
    "start_time": "2024-03-13T09:52:28.070Z"
   },
   {
    "duration": 3836,
    "start_time": "2024-03-13T09:52:28.089Z"
   },
   {
    "duration": 15,
    "start_time": "2024-03-13T09:52:31.927Z"
   },
   {
    "duration": 1368,
    "start_time": "2024-03-13T09:52:31.944Z"
   },
   {
    "duration": 0,
    "start_time": "2024-03-13T09:52:33.313Z"
   },
   {
    "duration": 0,
    "start_time": "2024-03-13T09:52:33.315Z"
   },
   {
    "duration": 0,
    "start_time": "2024-03-13T09:52:33.316Z"
   },
   {
    "duration": 0,
    "start_time": "2024-03-13T09:52:33.317Z"
   },
   {
    "duration": 0,
    "start_time": "2024-03-13T09:52:33.318Z"
   },
   {
    "duration": 0,
    "start_time": "2024-03-13T09:52:33.319Z"
   },
   {
    "duration": 0,
    "start_time": "2024-03-13T09:52:33.320Z"
   },
   {
    "duration": 0,
    "start_time": "2024-03-13T09:52:33.321Z"
   },
   {
    "duration": 0,
    "start_time": "2024-03-13T09:52:33.322Z"
   },
   {
    "duration": 0,
    "start_time": "2024-03-13T09:52:33.323Z"
   },
   {
    "duration": 0,
    "start_time": "2024-03-13T09:52:33.324Z"
   },
   {
    "duration": 0,
    "start_time": "2024-03-13T09:52:33.325Z"
   },
   {
    "duration": 405,
    "start_time": "2024-03-13T10:00:24.139Z"
   },
   {
    "duration": 436,
    "start_time": "2024-03-13T10:01:30.837Z"
   },
   {
    "duration": 394,
    "start_time": "2024-03-13T10:02:36.347Z"
   },
   {
    "duration": 442,
    "start_time": "2024-03-13T10:09:24.597Z"
   },
   {
    "duration": 479,
    "start_time": "2024-03-13T10:10:20.188Z"
   },
   {
    "duration": 464,
    "start_time": "2024-03-13T10:11:56.575Z"
   },
   {
    "duration": 416,
    "start_time": "2024-03-13T10:19:41.422Z"
   },
   {
    "duration": 398,
    "start_time": "2024-03-13T10:19:59.440Z"
   },
   {
    "duration": 88,
    "start_time": "2024-03-13T10:20:55.899Z"
   },
   {
    "duration": 148,
    "start_time": "2024-03-13T10:21:36.234Z"
   },
   {
    "duration": 451,
    "start_time": "2024-03-13T10:21:36.646Z"
   },
   {
    "duration": 9,
    "start_time": "2024-03-13T10:46:19.613Z"
   },
   {
    "duration": 13,
    "start_time": "2024-03-13T10:46:54.550Z"
   },
   {
    "duration": 73,
    "start_time": "2024-03-13T10:51:57.135Z"
   },
   {
    "duration": 74,
    "start_time": "2024-03-13T10:52:40.416Z"
   },
   {
    "duration": 13,
    "start_time": "2024-03-13T10:52:51.280Z"
   },
   {
    "duration": 12,
    "start_time": "2024-03-13T10:53:25.959Z"
   },
   {
    "duration": 14654,
    "start_time": "2024-03-13T11:03:59.922Z"
   },
   {
    "duration": 1587,
    "start_time": "2024-03-13T11:05:34.610Z"
   },
   {
    "duration": 867,
    "start_time": "2024-03-13T11:05:36.199Z"
   },
   {
    "duration": 3,
    "start_time": "2024-03-13T11:05:37.067Z"
   },
   {
    "duration": 416,
    "start_time": "2024-03-13T11:05:37.072Z"
   },
   {
    "duration": 171,
    "start_time": "2024-03-13T11:05:37.490Z"
   },
   {
    "duration": 381,
    "start_time": "2024-03-13T11:05:37.663Z"
   },
   {
    "duration": 15,
    "start_time": "2024-03-13T11:05:38.046Z"
   },
   {
    "duration": 5,
    "start_time": "2024-03-13T11:05:38.063Z"
   },
   {
    "duration": 14,
    "start_time": "2024-03-13T11:05:38.069Z"
   },
   {
    "duration": 33,
    "start_time": "2024-03-13T11:05:38.085Z"
   },
   {
    "duration": 15,
    "start_time": "2024-03-13T11:05:38.120Z"
   },
   {
    "duration": 19,
    "start_time": "2024-03-13T11:05:38.136Z"
   },
   {
    "duration": 10,
    "start_time": "2024-03-13T11:05:38.157Z"
   },
   {
    "duration": 10,
    "start_time": "2024-03-13T11:05:38.170Z"
   },
   {
    "duration": 3,
    "start_time": "2024-03-13T11:05:38.214Z"
   },
   {
    "duration": 4,
    "start_time": "2024-03-13T11:05:38.219Z"
   },
   {
    "duration": 3820,
    "start_time": "2024-03-13T11:05:38.225Z"
   },
   {
    "duration": 15,
    "start_time": "2024-03-13T11:05:42.047Z"
   },
   {
    "duration": 15423,
    "start_time": "2024-03-13T11:05:42.063Z"
   },
   {
    "duration": 341,
    "start_time": "2024-03-13T11:05:57.488Z"
   },
   {
    "duration": 0,
    "start_time": "2024-03-13T11:05:57.831Z"
   },
   {
    "duration": 0,
    "start_time": "2024-03-13T11:05:57.832Z"
   },
   {
    "duration": 0,
    "start_time": "2024-03-13T11:05:57.834Z"
   },
   {
    "duration": 0,
    "start_time": "2024-03-13T11:05:57.835Z"
   },
   {
    "duration": 0,
    "start_time": "2024-03-13T11:05:57.835Z"
   },
   {
    "duration": 0,
    "start_time": "2024-03-13T11:05:57.837Z"
   },
   {
    "duration": 0,
    "start_time": "2024-03-13T11:05:57.838Z"
   },
   {
    "duration": 0,
    "start_time": "2024-03-13T11:05:57.839Z"
   },
   {
    "duration": 0,
    "start_time": "2024-03-13T11:05:57.841Z"
   },
   {
    "duration": 0,
    "start_time": "2024-03-13T11:05:57.842Z"
   },
   {
    "duration": 0,
    "start_time": "2024-03-13T11:05:57.843Z"
   },
   {
    "duration": 5131,
    "start_time": "2024-03-13T11:06:54.954Z"
   },
   {
    "duration": 81,
    "start_time": "2024-03-13T11:08:56.316Z"
   },
   {
    "duration": 14,
    "start_time": "2024-03-13T11:09:01.989Z"
   },
   {
    "duration": 16,
    "start_time": "2024-03-13T11:09:27.953Z"
   },
   {
    "duration": 84,
    "start_time": "2024-03-13T11:10:28.902Z"
   },
   {
    "duration": 5088,
    "start_time": "2024-03-13T11:10:33.008Z"
   },
   {
    "duration": 227,
    "start_time": "2024-03-13T11:34:48.691Z"
   },
   {
    "duration": 5080,
    "start_time": "2024-03-13T11:36:15.055Z"
   },
   {
    "duration": 4,
    "start_time": "2024-03-13T11:36:31.181Z"
   },
   {
    "duration": 5047,
    "start_time": "2024-03-13T11:36:35.855Z"
   },
   {
    "duration": 4979,
    "start_time": "2024-03-13T11:59:48.075Z"
   },
   {
    "duration": 1525,
    "start_time": "2024-03-13T12:00:12.825Z"
   },
   {
    "duration": 898,
    "start_time": "2024-03-13T12:00:14.352Z"
   },
   {
    "duration": 3,
    "start_time": "2024-03-13T12:00:15.252Z"
   },
   {
    "duration": 396,
    "start_time": "2024-03-13T12:00:15.257Z"
   },
   {
    "duration": 182,
    "start_time": "2024-03-13T12:00:15.656Z"
   },
   {
    "duration": 390,
    "start_time": "2024-03-13T12:00:15.840Z"
   },
   {
    "duration": 15,
    "start_time": "2024-03-13T12:00:16.232Z"
   },
   {
    "duration": 9,
    "start_time": "2024-03-13T12:00:16.248Z"
   },
   {
    "duration": 19,
    "start_time": "2024-03-13T12:00:16.258Z"
   },
   {
    "duration": 7,
    "start_time": "2024-03-13T12:00:16.278Z"
   },
   {
    "duration": 37,
    "start_time": "2024-03-13T12:00:16.286Z"
   },
   {
    "duration": 14,
    "start_time": "2024-03-13T12:00:16.324Z"
   },
   {
    "duration": 17,
    "start_time": "2024-03-13T12:00:16.340Z"
   },
   {
    "duration": 9,
    "start_time": "2024-03-13T12:00:16.360Z"
   },
   {
    "duration": 16,
    "start_time": "2024-03-13T12:00:16.370Z"
   },
   {
    "duration": 26,
    "start_time": "2024-03-13T12:00:16.388Z"
   },
   {
    "duration": 3934,
    "start_time": "2024-03-13T12:00:16.416Z"
   },
   {
    "duration": 15,
    "start_time": "2024-03-13T12:00:20.352Z"
   },
   {
    "duration": 5113,
    "start_time": "2024-03-13T12:00:20.368Z"
   },
   {
    "duration": 0,
    "start_time": "2024-03-13T12:00:25.482Z"
   },
   {
    "duration": 0,
    "start_time": "2024-03-13T12:00:25.484Z"
   },
   {
    "duration": 0,
    "start_time": "2024-03-13T12:00:25.485Z"
   },
   {
    "duration": 0,
    "start_time": "2024-03-13T12:00:25.486Z"
   },
   {
    "duration": 0,
    "start_time": "2024-03-13T12:00:25.487Z"
   },
   {
    "duration": 0,
    "start_time": "2024-03-13T12:00:25.489Z"
   },
   {
    "duration": 0,
    "start_time": "2024-03-13T12:00:25.490Z"
   },
   {
    "duration": 0,
    "start_time": "2024-03-13T12:00:25.491Z"
   },
   {
    "duration": 0,
    "start_time": "2024-03-13T12:00:25.515Z"
   },
   {
    "duration": 0,
    "start_time": "2024-03-13T12:00:25.516Z"
   },
   {
    "duration": 0,
    "start_time": "2024-03-13T12:00:25.517Z"
   },
   {
    "duration": 0,
    "start_time": "2024-03-13T12:00:25.519Z"
   },
   {
    "duration": 10,
    "start_time": "2024-03-13T12:01:11.661Z"
   },
   {
    "duration": 5131,
    "start_time": "2024-03-13T12:02:56.629Z"
   },
   {
    "duration": 34,
    "start_time": "2024-03-13T12:03:54.405Z"
   },
   {
    "duration": 37,
    "start_time": "2024-03-13T12:04:04.911Z"
   },
   {
    "duration": 12,
    "start_time": "2024-03-13T12:04:13.877Z"
   },
   {
    "duration": 11,
    "start_time": "2024-03-13T12:04:44.828Z"
   },
   {
    "duration": 32,
    "start_time": "2024-03-13T12:05:47.225Z"
   },
   {
    "duration": 86,
    "start_time": "2024-03-13T12:06:25.022Z"
   },
   {
    "duration": 233,
    "start_time": "2024-03-13T12:06:59.090Z"
   },
   {
    "duration": 17,
    "start_time": "2024-03-13T12:09:00.424Z"
   },
   {
    "duration": 1546,
    "start_time": "2024-03-13T12:09:13.302Z"
   },
   {
    "duration": 893,
    "start_time": "2024-03-13T12:09:14.850Z"
   },
   {
    "duration": 4,
    "start_time": "2024-03-13T12:09:15.745Z"
   },
   {
    "duration": 399,
    "start_time": "2024-03-13T12:09:15.752Z"
   },
   {
    "duration": 180,
    "start_time": "2024-03-13T12:09:16.152Z"
   },
   {
    "duration": 360,
    "start_time": "2024-03-13T12:09:16.334Z"
   },
   {
    "duration": 22,
    "start_time": "2024-03-13T12:09:16.696Z"
   },
   {
    "duration": 8,
    "start_time": "2024-03-13T12:09:16.719Z"
   },
   {
    "duration": 21,
    "start_time": "2024-03-13T12:09:16.729Z"
   },
   {
    "duration": 23,
    "start_time": "2024-03-13T12:09:16.752Z"
   },
   {
    "duration": 28,
    "start_time": "2024-03-13T12:09:16.776Z"
   },
   {
    "duration": 14,
    "start_time": "2024-03-13T12:09:16.806Z"
   },
   {
    "duration": 9,
    "start_time": "2024-03-13T12:09:16.822Z"
   },
   {
    "duration": 15,
    "start_time": "2024-03-13T12:09:16.832Z"
   },
   {
    "duration": 3,
    "start_time": "2024-03-13T12:09:16.849Z"
   },
   {
    "duration": 24,
    "start_time": "2024-03-13T12:09:16.854Z"
   },
   {
    "duration": 3852,
    "start_time": "2024-03-13T12:09:16.879Z"
   },
   {
    "duration": 16,
    "start_time": "2024-03-13T12:09:20.732Z"
   },
   {
    "duration": 5181,
    "start_time": "2024-03-13T12:09:20.750Z"
   },
   {
    "duration": 0,
    "start_time": "2024-03-13T12:09:25.933Z"
   },
   {
    "duration": 0,
    "start_time": "2024-03-13T12:09:25.934Z"
   },
   {
    "duration": 0,
    "start_time": "2024-03-13T12:09:25.935Z"
   },
   {
    "duration": 0,
    "start_time": "2024-03-13T12:09:25.936Z"
   },
   {
    "duration": 0,
    "start_time": "2024-03-13T12:09:25.937Z"
   },
   {
    "duration": 0,
    "start_time": "2024-03-13T12:09:25.938Z"
   },
   {
    "duration": 0,
    "start_time": "2024-03-13T12:09:25.939Z"
   },
   {
    "duration": 0,
    "start_time": "2024-03-13T12:09:25.940Z"
   },
   {
    "duration": 0,
    "start_time": "2024-03-13T12:09:25.941Z"
   },
   {
    "duration": 0,
    "start_time": "2024-03-13T12:09:25.942Z"
   },
   {
    "duration": 0,
    "start_time": "2024-03-13T12:09:25.944Z"
   },
   {
    "duration": 0,
    "start_time": "2024-03-13T12:09:25.944Z"
   },
   {
    "duration": 5073,
    "start_time": "2024-03-13T12:09:41.974Z"
   },
   {
    "duration": 4995,
    "start_time": "2024-03-13T12:10:09.681Z"
   },
   {
    "duration": 5036,
    "start_time": "2024-03-13T12:10:21.057Z"
   },
   {
    "duration": 34,
    "start_time": "2024-03-13T12:10:48.929Z"
   },
   {
    "duration": 210,
    "start_time": "2024-03-13T12:11:07.167Z"
   },
   {
    "duration": 73,
    "start_time": "2024-03-13T12:13:03.257Z"
   },
   {
    "duration": 3,
    "start_time": "2024-03-13T12:13:21.931Z"
   },
   {
    "duration": 4,
    "start_time": "2024-03-13T12:13:38.165Z"
   },
   {
    "duration": 205,
    "start_time": "2024-03-13T12:13:42.650Z"
   },
   {
    "duration": 73,
    "start_time": "2024-03-13T12:13:55.233Z"
   },
   {
    "duration": 217,
    "start_time": "2024-03-13T12:13:59.213Z"
   },
   {
    "duration": 1531,
    "start_time": "2024-03-13T12:14:11.824Z"
   },
   {
    "duration": 855,
    "start_time": "2024-03-13T12:14:13.357Z"
   },
   {
    "duration": 4,
    "start_time": "2024-03-13T12:14:14.213Z"
   },
   {
    "duration": 394,
    "start_time": "2024-03-13T12:14:14.219Z"
   },
   {
    "duration": 158,
    "start_time": "2024-03-13T12:14:14.615Z"
   },
   {
    "duration": 390,
    "start_time": "2024-03-13T12:14:14.775Z"
   },
   {
    "duration": 15,
    "start_time": "2024-03-13T12:14:15.167Z"
   },
   {
    "duration": 5,
    "start_time": "2024-03-13T12:14:15.184Z"
   },
   {
    "duration": 53,
    "start_time": "2024-03-13T12:14:15.191Z"
   },
   {
    "duration": 32,
    "start_time": "2024-03-13T12:14:15.247Z"
   },
   {
    "duration": 50,
    "start_time": "2024-03-13T12:14:15.281Z"
   },
   {
    "duration": 25,
    "start_time": "2024-03-13T12:14:15.333Z"
   },
   {
    "duration": 25,
    "start_time": "2024-03-13T12:14:15.359Z"
   },
   {
    "duration": 11,
    "start_time": "2024-03-13T12:14:15.385Z"
   },
   {
    "duration": 9,
    "start_time": "2024-03-13T12:14:15.397Z"
   },
   {
    "duration": 12,
    "start_time": "2024-03-13T12:14:15.407Z"
   },
   {
    "duration": 3892,
    "start_time": "2024-03-13T12:14:15.421Z"
   },
   {
    "duration": 15,
    "start_time": "2024-03-13T12:14:19.315Z"
   },
   {
    "duration": 64,
    "start_time": "2024-03-13T12:14:19.331Z"
   },
   {
    "duration": 0,
    "start_time": "2024-03-13T12:14:19.397Z"
   },
   {
    "duration": 0,
    "start_time": "2024-03-13T12:14:19.399Z"
   },
   {
    "duration": 0,
    "start_time": "2024-03-13T12:14:19.400Z"
   },
   {
    "duration": 0,
    "start_time": "2024-03-13T12:14:19.400Z"
   },
   {
    "duration": 0,
    "start_time": "2024-03-13T12:14:19.401Z"
   },
   {
    "duration": 0,
    "start_time": "2024-03-13T12:14:19.402Z"
   },
   {
    "duration": 0,
    "start_time": "2024-03-13T12:14:19.403Z"
   },
   {
    "duration": 0,
    "start_time": "2024-03-13T12:14:19.404Z"
   },
   {
    "duration": 0,
    "start_time": "2024-03-13T12:14:19.405Z"
   },
   {
    "duration": 0,
    "start_time": "2024-03-13T12:14:19.406Z"
   },
   {
    "duration": 0,
    "start_time": "2024-03-13T12:14:19.407Z"
   },
   {
    "duration": 0,
    "start_time": "2024-03-13T12:14:19.408Z"
   },
   {
    "duration": 122,
    "start_time": "2024-03-13T12:14:32.366Z"
   },
   {
    "duration": 14,
    "start_time": "2024-03-13T12:14:40.316Z"
   },
   {
    "duration": 14,
    "start_time": "2024-03-13T12:14:50.508Z"
   },
   {
    "duration": 420,
    "start_time": "2024-03-13T12:14:56.125Z"
   },
   {
    "duration": 4,
    "start_time": "2024-03-13T12:17:07.627Z"
   },
   {
    "duration": 390,
    "start_time": "2024-03-13T12:17:17.048Z"
   },
   {
    "duration": 34,
    "start_time": "2024-03-13T12:17:28.181Z"
   },
   {
    "duration": 441,
    "start_time": "2024-03-13T12:17:35.981Z"
   },
   {
    "duration": 3,
    "start_time": "2024-03-13T12:21:04.654Z"
   },
   {
    "duration": 22,
    "start_time": "2024-03-13T12:21:17.066Z"
   },
   {
    "duration": 602,
    "start_time": "2024-03-13T12:21:42.736Z"
   },
   {
    "duration": 4,
    "start_time": "2024-03-13T12:22:12.155Z"
   },
   {
    "duration": 8,
    "start_time": "2024-03-13T12:22:27.068Z"
   },
   {
    "duration": 4,
    "start_time": "2024-03-13T12:22:41.189Z"
   },
   {
    "duration": 426,
    "start_time": "2024-03-13T12:22:43.762Z"
   },
   {
    "duration": 32,
    "start_time": "2024-03-13T12:22:51.452Z"
   },
   {
    "duration": 4878,
    "start_time": "2024-03-13T12:26:52.861Z"
   },
   {
    "duration": 4809,
    "start_time": "2024-03-13T12:27:15.657Z"
   },
   {
    "duration": 81,
    "start_time": "2024-03-13T12:30:32.772Z"
   },
   {
    "duration": 4873,
    "start_time": "2024-03-13T12:32:33.316Z"
   },
   {
    "duration": 4869,
    "start_time": "2024-03-13T12:32:48.690Z"
   },
   {
    "duration": 13,
    "start_time": "2024-03-13T12:38:18.347Z"
   },
   {
    "duration": 20,
    "start_time": "2024-03-13T12:38:41.962Z"
   },
   {
    "duration": 15,
    "start_time": "2024-03-13T12:38:56.424Z"
   },
   {
    "duration": 15,
    "start_time": "2024-03-13T12:39:06.027Z"
   },
   {
    "duration": 4941,
    "start_time": "2024-03-13T12:39:42.105Z"
   },
   {
    "duration": 436,
    "start_time": "2024-03-13T12:40:45.810Z"
   },
   {
    "duration": 394,
    "start_time": "2024-03-13T12:41:01.047Z"
   },
   {
    "duration": 461,
    "start_time": "2024-03-13T12:41:36.889Z"
   },
   {
    "duration": 45,
    "start_time": "2024-03-13T12:41:48.884Z"
   },
   {
    "duration": 89,
    "start_time": "2024-03-13T12:46:45.435Z"
   },
   {
    "duration": 66,
    "start_time": "2024-03-13T12:46:51.542Z"
   },
   {
    "duration": 14725,
    "start_time": "2024-03-13T12:47:11.090Z"
   },
   {
    "duration": 15026,
    "start_time": "2024-03-13T12:48:18.189Z"
   },
   {
    "duration": 4873,
    "start_time": "2024-03-13T13:08:30.426Z"
   },
   {
    "duration": 4825,
    "start_time": "2024-03-13T13:10:53.476Z"
   },
   {
    "duration": 14409,
    "start_time": "2024-03-13T13:11:23.492Z"
   },
   {
    "duration": 4807,
    "start_time": "2024-03-13T13:12:02.015Z"
   },
   {
    "duration": 14229,
    "start_time": "2024-03-13T13:12:15.290Z"
   },
   {
    "duration": 77,
    "start_time": "2024-03-13T13:12:32.636Z"
   },
   {
    "duration": 209,
    "start_time": "2024-03-13T13:12:47.527Z"
   },
   {
    "duration": 1607,
    "start_time": "2024-03-13T13:13:45.702Z"
   },
   {
    "duration": 915,
    "start_time": "2024-03-13T13:13:47.311Z"
   },
   {
    "duration": 3,
    "start_time": "2024-03-13T13:13:48.229Z"
   },
   {
    "duration": 411,
    "start_time": "2024-03-13T13:13:48.234Z"
   },
   {
    "duration": 169,
    "start_time": "2024-03-13T13:13:48.646Z"
   },
   {
    "duration": 375,
    "start_time": "2024-03-13T13:13:48.817Z"
   },
   {
    "duration": 23,
    "start_time": "2024-03-13T13:13:49.193Z"
   },
   {
    "duration": 4,
    "start_time": "2024-03-13T13:13:49.218Z"
   },
   {
    "duration": 13,
    "start_time": "2024-03-13T13:13:49.223Z"
   },
   {
    "duration": 6,
    "start_time": "2024-03-13T13:13:49.239Z"
   },
   {
    "duration": 36,
    "start_time": "2024-03-13T13:13:49.246Z"
   },
   {
    "duration": 16,
    "start_time": "2024-03-13T13:13:49.283Z"
   },
   {
    "duration": 20,
    "start_time": "2024-03-13T13:13:49.300Z"
   },
   {
    "duration": 9,
    "start_time": "2024-03-13T13:13:49.321Z"
   },
   {
    "duration": 12,
    "start_time": "2024-03-13T13:13:49.332Z"
   },
   {
    "duration": 7,
    "start_time": "2024-03-13T13:13:49.345Z"
   },
   {
    "duration": 3922,
    "start_time": "2024-03-13T13:13:49.353Z"
   },
   {
    "duration": 17,
    "start_time": "2024-03-13T13:13:53.278Z"
   },
   {
    "duration": 444,
    "start_time": "2024-03-13T13:13:53.297Z"
   },
   {
    "duration": 34,
    "start_time": "2024-03-13T13:13:53.743Z"
   },
   {
    "duration": 469,
    "start_time": "2024-03-13T13:13:53.780Z"
   },
   {
    "duration": 5,
    "start_time": "2024-03-13T13:13:54.250Z"
   },
   {
    "duration": 15,
    "start_time": "2024-03-13T13:13:54.257Z"
   },
   {
    "duration": 5,
    "start_time": "2024-03-13T13:13:54.274Z"
   },
   {
    "duration": 4,
    "start_time": "2024-03-13T13:13:54.281Z"
   },
   {
    "duration": 11,
    "start_time": "2024-03-13T13:13:54.286Z"
   },
   {
    "duration": 5,
    "start_time": "2024-03-13T13:13:54.315Z"
   },
   {
    "duration": 23718,
    "start_time": "2024-03-13T13:13:54.323Z"
   },
   {
    "duration": 1482,
    "start_time": "2024-03-13T13:14:18.043Z"
   },
   {
    "duration": 3882,
    "start_time": "2024-03-13T13:14:19.614Z"
   },
   {
    "duration": 127,
    "start_time": "2024-03-13T13:14:23.499Z"
   },
   {
    "duration": 1533,
    "start_time": "2024-03-13T13:14:44.939Z"
   },
   {
    "duration": 885,
    "start_time": "2024-03-13T13:14:46.474Z"
   },
   {
    "duration": 3,
    "start_time": "2024-03-13T13:14:47.361Z"
   },
   {
    "duration": 403,
    "start_time": "2024-03-13T13:14:47.366Z"
   },
   {
    "duration": 183,
    "start_time": "2024-03-13T13:14:47.770Z"
   },
   {
    "duration": 404,
    "start_time": "2024-03-13T13:14:47.955Z"
   },
   {
    "duration": 14,
    "start_time": "2024-03-13T13:14:48.361Z"
   },
   {
    "duration": 5,
    "start_time": "2024-03-13T13:14:48.376Z"
   },
   {
    "duration": 26,
    "start_time": "2024-03-13T13:14:48.382Z"
   },
   {
    "duration": 5,
    "start_time": "2024-03-13T13:14:48.416Z"
   },
   {
    "duration": 35,
    "start_time": "2024-03-13T13:14:48.423Z"
   },
   {
    "duration": 13,
    "start_time": "2024-03-13T13:14:48.460Z"
   },
   {
    "duration": 9,
    "start_time": "2024-03-13T13:14:48.475Z"
   },
   {
    "duration": 19,
    "start_time": "2024-03-13T13:14:48.485Z"
   },
   {
    "duration": 9,
    "start_time": "2024-03-13T13:14:48.506Z"
   },
   {
    "duration": 6,
    "start_time": "2024-03-13T13:14:48.516Z"
   },
   {
    "duration": 3865,
    "start_time": "2024-03-13T13:14:48.523Z"
   },
   {
    "duration": 15,
    "start_time": "2024-03-13T13:14:52.390Z"
   },
   {
    "duration": 464,
    "start_time": "2024-03-13T13:14:52.406Z"
   },
   {
    "duration": 15447,
    "start_time": "2024-03-13T13:14:52.872Z"
   },
   {
    "duration": 32,
    "start_time": "2024-03-13T13:15:08.321Z"
   },
   {
    "duration": 453,
    "start_time": "2024-03-13T13:15:08.355Z"
   },
   {
    "duration": 6,
    "start_time": "2024-03-13T13:15:08.809Z"
   },
   {
    "duration": 18,
    "start_time": "2024-03-13T13:15:08.817Z"
   },
   {
    "duration": 6,
    "start_time": "2024-03-13T13:15:08.837Z"
   },
   {
    "duration": 4,
    "start_time": "2024-03-13T13:15:08.845Z"
   },
   {
    "duration": 12,
    "start_time": "2024-03-13T13:15:08.850Z"
   },
   {
    "duration": 29,
    "start_time": "2024-03-13T13:15:08.865Z"
   },
   {
    "duration": 197,
    "start_time": "2024-03-13T13:15:08.896Z"
   },
   {
    "duration": 0,
    "start_time": "2024-03-13T13:15:09.095Z"
   },
   {
    "duration": 0,
    "start_time": "2024-03-13T13:15:09.096Z"
   },
   {
    "duration": 1373,
    "start_time": "2024-03-13T13:15:22.729Z"
   },
   {
    "duration": 1545,
    "start_time": "2024-03-13T13:15:55.407Z"
   },
   {
    "duration": 873,
    "start_time": "2024-03-13T13:15:56.954Z"
   },
   {
    "duration": 4,
    "start_time": "2024-03-13T13:15:57.829Z"
   },
   {
    "duration": 401,
    "start_time": "2024-03-13T13:15:57.835Z"
   },
   {
    "duration": 175,
    "start_time": "2024-03-13T13:15:58.239Z"
   },
   {
    "duration": 383,
    "start_time": "2024-03-13T13:15:58.416Z"
   },
   {
    "duration": 26,
    "start_time": "2024-03-13T13:15:58.801Z"
   },
   {
    "duration": 4,
    "start_time": "2024-03-13T13:15:58.829Z"
   },
   {
    "duration": 22,
    "start_time": "2024-03-13T13:15:58.835Z"
   },
   {
    "duration": 6,
    "start_time": "2024-03-13T13:15:58.860Z"
   },
   {
    "duration": 14,
    "start_time": "2024-03-13T13:15:58.868Z"
   },
   {
    "duration": 44,
    "start_time": "2024-03-13T13:15:58.883Z"
   },
   {
    "duration": 10,
    "start_time": "2024-03-13T13:15:58.928Z"
   },
   {
    "duration": 9,
    "start_time": "2024-03-13T13:15:58.939Z"
   },
   {
    "duration": 2,
    "start_time": "2024-03-13T13:15:58.949Z"
   },
   {
    "duration": 20,
    "start_time": "2024-03-13T13:15:58.953Z"
   },
   {
    "duration": 3857,
    "start_time": "2024-03-13T13:15:58.974Z"
   },
   {
    "duration": 16,
    "start_time": "2024-03-13T13:16:02.832Z"
   },
   {
    "duration": 487,
    "start_time": "2024-03-13T13:16:02.850Z"
   },
   {
    "duration": 104,
    "start_time": "2024-03-13T13:16:03.339Z"
   },
   {
    "duration": 0,
    "start_time": "2024-03-13T13:16:03.445Z"
   },
   {
    "duration": 0,
    "start_time": "2024-03-13T13:16:03.446Z"
   },
   {
    "duration": 0,
    "start_time": "2024-03-13T13:16:03.448Z"
   },
   {
    "duration": 0,
    "start_time": "2024-03-13T13:16:03.448Z"
   },
   {
    "duration": 0,
    "start_time": "2024-03-13T13:16:03.449Z"
   },
   {
    "duration": 0,
    "start_time": "2024-03-13T13:16:03.450Z"
   },
   {
    "duration": 0,
    "start_time": "2024-03-13T13:16:03.452Z"
   },
   {
    "duration": 0,
    "start_time": "2024-03-13T13:16:03.453Z"
   },
   {
    "duration": 0,
    "start_time": "2024-03-13T13:16:03.454Z"
   },
   {
    "duration": 1,
    "start_time": "2024-03-13T13:16:03.454Z"
   },
   {
    "duration": 0,
    "start_time": "2024-03-13T13:16:03.455Z"
   },
   {
    "duration": 32,
    "start_time": "2024-03-13T13:16:44.738Z"
   },
   {
    "duration": 456,
    "start_time": "2024-03-13T13:17:02.323Z"
   },
   {
    "duration": 5,
    "start_time": "2024-03-13T13:17:56.764Z"
   },
   {
    "duration": 9,
    "start_time": "2024-03-13T13:18:04.104Z"
   },
   {
    "duration": 2,
    "start_time": "2024-03-13T13:18:07.180Z"
   },
   {
    "duration": 10,
    "start_time": "2024-03-13T13:18:07.662Z"
   },
   {
    "duration": 195,
    "start_time": "2024-03-13T13:19:01.876Z"
   },
   {
    "duration": 83,
    "start_time": "2024-03-13T13:19:12.718Z"
   },
   {
    "duration": 122,
    "start_time": "2024-03-13T13:21:21.216Z"
   },
   {
    "duration": 2,
    "start_time": "2024-03-13T13:21:33.321Z"
   },
   {
    "duration": 10950,
    "start_time": "2024-03-13T13:21:40.373Z"
   },
   {
    "duration": 7836,
    "start_time": "2024-03-13T13:21:59.924Z"
   },
   {
    "duration": 1421,
    "start_time": "2024-03-13T13:22:19.397Z"
   },
   {
    "duration": 1401,
    "start_time": "2024-03-13T13:22:29.855Z"
   },
   {
    "duration": 1161,
    "start_time": "2024-03-13T13:22:53.257Z"
   },
   {
    "duration": 1940,
    "start_time": "2024-03-13T13:23:34.600Z"
   },
   {
    "duration": 1440,
    "start_time": "2024-03-13T13:24:06.495Z"
   },
   {
    "duration": 10740,
    "start_time": "2024-03-13T13:24:12.207Z"
   },
   {
    "duration": 5,
    "start_time": "2024-03-13T13:53:19.490Z"
   },
   {
    "duration": 10678,
    "start_time": "2024-03-13T13:53:42.545Z"
   },
   {
    "duration": 1234,
    "start_time": "2024-03-13T13:54:01.987Z"
   },
   {
    "duration": 1408,
    "start_time": "2024-03-13T13:54:15.509Z"
   },
   {
    "duration": 1910,
    "start_time": "2024-03-13T13:54:25.544Z"
   },
   {
    "duration": 15068,
    "start_time": "2024-03-13T13:54:44.647Z"
   },
   {
    "duration": 11778,
    "start_time": "2024-03-13T14:04:21.197Z"
   },
   {
    "duration": 10281,
    "start_time": "2024-03-13T14:04:42.198Z"
   },
   {
    "duration": 16233,
    "start_time": "2024-03-13T14:05:12.047Z"
   },
   {
    "duration": 14845,
    "start_time": "2024-03-13T14:05:45.285Z"
   },
   {
    "duration": 22738,
    "start_time": "2024-03-13T14:06:34.682Z"
   },
   {
    "duration": 17278,
    "start_time": "2024-03-13T14:07:12.905Z"
   },
   {
    "duration": 21900,
    "start_time": "2024-03-13T14:12:30.802Z"
   },
   {
    "duration": 24457,
    "start_time": "2024-03-13T14:12:59.323Z"
   },
   {
    "duration": 84,
    "start_time": "2024-03-13T14:13:35.220Z"
   },
   {
    "duration": 83,
    "start_time": "2024-03-13T14:13:42.926Z"
   },
   {
    "duration": 27651,
    "start_time": "2024-03-13T14:14:38.032Z"
   },
   {
    "duration": 21660,
    "start_time": "2024-03-13T14:15:18.024Z"
   },
   {
    "duration": 15253,
    "start_time": "2024-03-13T14:19:42.162Z"
   },
   {
    "duration": 13346,
    "start_time": "2024-03-13T14:20:05.357Z"
   },
   {
    "duration": 14324,
    "start_time": "2024-03-13T14:20:30.206Z"
   },
   {
    "duration": 21674,
    "start_time": "2024-03-13T14:20:50.227Z"
   },
   {
    "duration": 47,
    "start_time": "2024-03-13T14:23:49.882Z"
   },
   {
    "duration": 18914,
    "start_time": "2024-03-13T14:24:41.363Z"
   },
   {
    "duration": 21445,
    "start_time": "2024-03-13T14:25:05.307Z"
   },
   {
    "duration": 3870,
    "start_time": "2024-03-13T14:45:01.219Z"
   },
   {
    "duration": 4,
    "start_time": "2024-03-13T14:45:38.515Z"
   },
   {
    "duration": 6,
    "start_time": "2024-03-13T14:45:42.812Z"
   },
   {
    "duration": 3,
    "start_time": "2024-03-13T14:45:45.868Z"
   },
   {
    "duration": 2,
    "start_time": "2024-03-13T14:45:48.033Z"
   },
   {
    "duration": 8,
    "start_time": "2024-03-13T14:45:48.623Z"
   },
   {
    "duration": 293,
    "start_time": "2024-03-13T14:45:52.089Z"
   },
   {
    "duration": 3,
    "start_time": "2024-03-13T14:47:07.617Z"
   },
   {
    "duration": 2,
    "start_time": "2024-03-13T14:47:12.750Z"
   },
   {
    "duration": 10,
    "start_time": "2024-03-13T14:47:13.286Z"
   },
   {
    "duration": 19946,
    "start_time": "2024-03-13T14:47:15.886Z"
   },
   {
    "duration": 20002,
    "start_time": "2024-03-13T14:47:53.531Z"
   },
   {
    "duration": 833,
    "start_time": "2024-03-13T14:48:21.192Z"
   },
   {
    "duration": 11,
    "start_time": "2024-03-13T14:48:46.211Z"
   },
   {
    "duration": 8,
    "start_time": "2024-03-13T14:48:51.021Z"
   },
   {
    "duration": 4,
    "start_time": "2024-03-13T14:49:50.203Z"
   },
   {
    "duration": 8,
    "start_time": "2024-03-13T14:49:54.066Z"
   },
   {
    "duration": 8,
    "start_time": "2024-03-13T14:49:55.147Z"
   },
   {
    "duration": 3,
    "start_time": "2024-03-13T14:50:10.815Z"
   },
   {
    "duration": 2,
    "start_time": "2024-03-13T14:50:16.872Z"
   },
   {
    "duration": 8,
    "start_time": "2024-03-13T14:50:17.459Z"
   },
   {
    "duration": 19978,
    "start_time": "2024-03-13T14:50:20.028Z"
   },
   {
    "duration": 1564,
    "start_time": "2024-03-13T14:53:02.007Z"
   },
   {
    "duration": 962,
    "start_time": "2024-03-13T14:53:03.572Z"
   },
   {
    "duration": 3,
    "start_time": "2024-03-13T14:53:04.536Z"
   },
   {
    "duration": 388,
    "start_time": "2024-03-13T14:53:04.541Z"
   },
   {
    "duration": 155,
    "start_time": "2024-03-13T14:53:04.930Z"
   },
   {
    "duration": 397,
    "start_time": "2024-03-13T14:53:05.087Z"
   },
   {
    "duration": 15,
    "start_time": "2024-03-13T14:53:05.486Z"
   },
   {
    "duration": 4,
    "start_time": "2024-03-13T14:53:05.515Z"
   },
   {
    "duration": 12,
    "start_time": "2024-03-13T14:53:05.522Z"
   },
   {
    "duration": 6,
    "start_time": "2024-03-13T14:53:05.536Z"
   },
   {
    "duration": 23,
    "start_time": "2024-03-13T14:53:05.544Z"
   },
   {
    "duration": 15,
    "start_time": "2024-03-13T14:53:05.568Z"
   },
   {
    "duration": 35,
    "start_time": "2024-03-13T14:53:05.584Z"
   },
   {
    "duration": 11,
    "start_time": "2024-03-13T14:53:05.620Z"
   },
   {
    "duration": 7,
    "start_time": "2024-03-13T14:53:05.632Z"
   },
   {
    "duration": 16,
    "start_time": "2024-03-13T14:53:05.641Z"
   },
   {
    "duration": 4034,
    "start_time": "2024-03-13T14:53:05.658Z"
   },
   {
    "duration": 36,
    "start_time": "2024-03-13T14:53:09.694Z"
   },
   {
    "duration": 418,
    "start_time": "2024-03-13T14:53:09.732Z"
   },
   {
    "duration": 76,
    "start_time": "2024-03-13T14:53:10.152Z"
   },
   {
    "duration": 0,
    "start_time": "2024-03-13T14:53:10.230Z"
   },
   {
    "duration": 0,
    "start_time": "2024-03-13T14:53:10.231Z"
   },
   {
    "duration": 0,
    "start_time": "2024-03-13T14:53:10.233Z"
   },
   {
    "duration": 0,
    "start_time": "2024-03-13T14:53:10.234Z"
   },
   {
    "duration": 0,
    "start_time": "2024-03-13T14:53:10.235Z"
   },
   {
    "duration": 1,
    "start_time": "2024-03-13T14:53:10.235Z"
   },
   {
    "duration": 0,
    "start_time": "2024-03-13T14:53:10.236Z"
   },
   {
    "duration": 0,
    "start_time": "2024-03-13T14:53:10.237Z"
   },
   {
    "duration": 0,
    "start_time": "2024-03-13T14:53:10.238Z"
   },
   {
    "duration": 0,
    "start_time": "2024-03-13T14:53:10.238Z"
   },
   {
    "duration": 0,
    "start_time": "2024-03-13T14:53:10.239Z"
   },
   {
    "duration": 34,
    "start_time": "2024-03-13T14:57:31.416Z"
   },
   {
    "duration": 484,
    "start_time": "2024-03-13T14:57:33.939Z"
   },
   {
    "duration": 5,
    "start_time": "2024-03-13T14:57:38.294Z"
   },
   {
    "duration": 9,
    "start_time": "2024-03-13T14:57:46.061Z"
   },
   {
    "duration": 3,
    "start_time": "2024-03-13T14:57:49.315Z"
   },
   {
    "duration": 3,
    "start_time": "2024-03-13T14:57:51.135Z"
   },
   {
    "duration": 10,
    "start_time": "2024-03-13T14:57:52.370Z"
   },
   {
    "duration": 20193,
    "start_time": "2024-03-13T14:57:54.940Z"
   },
   {
    "duration": 3,
    "start_time": "2024-03-13T15:00:51.743Z"
   },
   {
    "duration": 4,
    "start_time": "2024-03-13T15:00:52.718Z"
   },
   {
    "duration": 6,
    "start_time": "2024-03-13T15:01:02.461Z"
   },
   {
    "duration": 3,
    "start_time": "2024-03-13T15:01:03.423Z"
   },
   {
    "duration": 3,
    "start_time": "2024-03-13T15:01:04.833Z"
   },
   {
    "duration": 8,
    "start_time": "2024-03-13T15:01:05.357Z"
   },
   {
    "duration": 20158,
    "start_time": "2024-03-13T15:01:08.413Z"
   },
   {
    "duration": 4,
    "start_time": "2024-03-13T15:04:11.170Z"
   },
   {
    "duration": 3,
    "start_time": "2024-03-13T15:04:40.897Z"
   },
   {
    "duration": 3,
    "start_time": "2024-03-13T15:04:44.189Z"
   },
   {
    "duration": 6,
    "start_time": "2024-03-13T15:04:47.077Z"
   },
   {
    "duration": 2,
    "start_time": "2024-03-13T15:04:48.502Z"
   },
   {
    "duration": 3,
    "start_time": "2024-03-13T15:04:49.877Z"
   },
   {
    "duration": 9,
    "start_time": "2024-03-13T15:04:50.261Z"
   },
   {
    "duration": 20491,
    "start_time": "2024-03-13T15:04:52.327Z"
   },
   {
    "duration": 804,
    "start_time": "2024-03-13T15:05:26.813Z"
   },
   {
    "duration": 3605,
    "start_time": "2024-03-13T15:09:45.706Z"
   },
   {
    "duration": 3663,
    "start_time": "2024-03-13T15:11:09.791Z"
   },
   {
    "duration": 68,
    "start_time": "2024-03-13T15:15:06.350Z"
   },
   {
    "duration": 8,
    "start_time": "2024-03-13T15:15:12.120Z"
   },
   {
    "duration": 82,
    "start_time": "2024-03-13T15:24:44.528Z"
   },
   {
    "duration": 127,
    "start_time": "2024-03-13T15:41:01.248Z"
   },
   {
    "duration": 1111,
    "start_time": "2024-03-13T15:41:05.558Z"
   },
   {
    "duration": 1192,
    "start_time": "2024-03-13T15:41:26.841Z"
   },
   {
    "duration": 4,
    "start_time": "2024-03-13T15:41:57.565Z"
   },
   {
    "duration": 1102,
    "start_time": "2024-03-13T15:42:36.778Z"
   },
   {
    "duration": 91,
    "start_time": "2024-03-13T15:53:29.340Z"
   },
   {
    "duration": 10,
    "start_time": "2024-03-13T15:53:36.507Z"
   },
   {
    "duration": 1588,
    "start_time": "2024-03-13T18:38:12.287Z"
   },
   {
    "duration": 2146,
    "start_time": "2024-03-13T18:38:13.877Z"
   },
   {
    "duration": 8,
    "start_time": "2024-03-13T18:38:16.024Z"
   },
   {
    "duration": 341,
    "start_time": "2024-03-13T18:38:16.033Z"
   },
   {
    "duration": 143,
    "start_time": "2024-03-13T18:38:16.375Z"
   },
   {
    "duration": 343,
    "start_time": "2024-03-13T18:38:16.520Z"
   },
   {
    "duration": 13,
    "start_time": "2024-03-13T18:38:16.864Z"
   },
   {
    "duration": 4,
    "start_time": "2024-03-13T18:38:16.879Z"
   },
   {
    "duration": 13,
    "start_time": "2024-03-13T18:38:16.884Z"
   },
   {
    "duration": 14,
    "start_time": "2024-03-13T18:38:16.919Z"
   },
   {
    "duration": 19,
    "start_time": "2024-03-13T18:38:16.936Z"
   },
   {
    "duration": 30,
    "start_time": "2024-03-13T18:38:16.956Z"
   },
   {
    "duration": 12,
    "start_time": "2024-03-13T18:38:16.987Z"
   },
   {
    "duration": 8,
    "start_time": "2024-03-13T18:38:17.000Z"
   },
   {
    "duration": 12,
    "start_time": "2024-03-13T18:38:17.009Z"
   },
   {
    "duration": 12,
    "start_time": "2024-03-13T18:38:17.023Z"
   },
   {
    "duration": 3604,
    "start_time": "2024-03-13T18:38:17.036Z"
   },
   {
    "duration": 16,
    "start_time": "2024-03-13T18:38:20.642Z"
   },
   {
    "duration": 19649,
    "start_time": "2024-03-13T18:38:20.660Z"
   },
   {
    "duration": 419,
    "start_time": "2024-03-13T18:38:40.311Z"
   },
   {
    "duration": 29,
    "start_time": "2024-03-13T18:38:40.732Z"
   },
   {
    "duration": 418,
    "start_time": "2024-03-13T18:38:40.762Z"
   },
   {
    "duration": 4,
    "start_time": "2024-03-13T18:38:41.182Z"
   },
   {
    "duration": 7,
    "start_time": "2024-03-13T18:38:41.187Z"
   },
   {
    "duration": 24,
    "start_time": "2024-03-13T18:38:41.196Z"
   },
   {
    "duration": 2,
    "start_time": "2024-03-13T18:38:41.231Z"
   },
   {
    "duration": 5,
    "start_time": "2024-03-13T18:38:41.235Z"
   },
   {
    "duration": 14,
    "start_time": "2024-03-13T18:38:41.243Z"
   },
   {
    "duration": 18602,
    "start_time": "2024-03-13T18:38:41.259Z"
   },
   {
    "duration": 1065,
    "start_time": "2024-03-13T18:38:59.862Z"
   },
   {
    "duration": 3517,
    "start_time": "2024-03-13T18:39:00.929Z"
   },
   {
    "duration": 6,
    "start_time": "2024-03-13T18:39:04.448Z"
   },
   {
    "duration": 6752,
    "start_time": "2024-03-13T18:39:36.236Z"
   },
   {
    "duration": 6869,
    "start_time": "2024-03-13T18:40:35.298Z"
   },
   {
    "duration": 3,
    "start_time": "2024-03-13T18:42:13.680Z"
   },
   {
    "duration": 13,
    "start_time": "2024-03-13T18:46:39.129Z"
   },
   {
    "duration": 1109,
    "start_time": "2024-03-13T18:46:50.153Z"
   },
   {
    "duration": 1349,
    "start_time": "2024-03-13T18:47:17.067Z"
   },
   {
    "duration": 849,
    "start_time": "2024-03-13T18:47:18.418Z"
   },
   {
    "duration": 3,
    "start_time": "2024-03-13T18:47:19.268Z"
   },
   {
    "duration": 363,
    "start_time": "2024-03-13T18:47:19.273Z"
   },
   {
    "duration": 154,
    "start_time": "2024-03-13T18:47:19.638Z"
   },
   {
    "duration": 352,
    "start_time": "2024-03-13T18:47:19.793Z"
   },
   {
    "duration": 12,
    "start_time": "2024-03-13T18:47:20.147Z"
   },
   {
    "duration": 3,
    "start_time": "2024-03-13T18:47:20.160Z"
   },
   {
    "duration": 10,
    "start_time": "2024-03-13T18:47:20.165Z"
   },
   {
    "duration": 5,
    "start_time": "2024-03-13T18:47:20.177Z"
   },
   {
    "duration": 48,
    "start_time": "2024-03-13T18:47:20.183Z"
   },
   {
    "duration": 14,
    "start_time": "2024-03-13T18:47:20.232Z"
   },
   {
    "duration": 8,
    "start_time": "2024-03-13T18:47:20.248Z"
   },
   {
    "duration": 11,
    "start_time": "2024-03-13T18:47:20.258Z"
   },
   {
    "duration": 3,
    "start_time": "2024-03-13T18:47:20.271Z"
   },
   {
    "duration": 6,
    "start_time": "2024-03-13T18:47:20.275Z"
   },
   {
    "duration": 3585,
    "start_time": "2024-03-13T18:47:20.282Z"
   },
   {
    "duration": 13,
    "start_time": "2024-03-13T18:47:23.869Z"
   },
   {
    "duration": 35221,
    "start_time": "2024-03-13T18:47:23.884Z"
   },
   {
    "duration": 409,
    "start_time": "2024-03-13T18:47:59.106Z"
   },
   {
    "duration": 42,
    "start_time": "2024-03-13T18:47:59.517Z"
   },
   {
    "duration": 431,
    "start_time": "2024-03-13T18:47:59.560Z"
   },
   {
    "duration": 3,
    "start_time": "2024-03-13T18:47:59.993Z"
   },
   {
    "duration": 59,
    "start_time": "2024-03-13T18:47:59.998Z"
   },
   {
    "duration": 83,
    "start_time": "2024-03-13T18:48:00.058Z"
   },
   {
    "duration": 32,
    "start_time": "2024-03-13T18:48:00.142Z"
   },
   {
    "duration": 40,
    "start_time": "2024-03-13T18:48:00.176Z"
   },
   {
    "duration": 57,
    "start_time": "2024-03-13T18:48:00.219Z"
   },
   {
    "duration": 18618,
    "start_time": "2024-03-13T18:48:00.277Z"
   },
   {
    "duration": 840,
    "start_time": "2024-03-13T18:48:18.896Z"
   },
   {
    "duration": 3377,
    "start_time": "2024-03-13T18:48:19.820Z"
   },
   {
    "duration": 7,
    "start_time": "2024-03-13T18:48:23.198Z"
   },
   {
    "duration": 6668,
    "start_time": "2024-03-13T18:48:23.208Z"
   },
   {
    "duration": 20043,
    "start_time": "2024-03-13T18:49:13.159Z"
   },
   {
    "duration": 23377,
    "start_time": "2024-03-13T18:52:14.161Z"
   },
   {
    "duration": 21061,
    "start_time": "2024-03-13T18:53:10.064Z"
   },
   {
    "duration": 69,
    "start_time": "2024-03-13T18:54:41.503Z"
   },
   {
    "duration": 78,
    "start_time": "2024-03-13T18:54:50.373Z"
   },
   {
    "duration": 1360,
    "start_time": "2024-03-13T19:02:24.572Z"
   },
   {
    "duration": 817,
    "start_time": "2024-03-13T19:02:25.934Z"
   },
   {
    "duration": 3,
    "start_time": "2024-03-13T19:02:26.752Z"
   },
   {
    "duration": 354,
    "start_time": "2024-03-13T19:02:26.756Z"
   },
   {
    "duration": 166,
    "start_time": "2024-03-13T19:02:27.117Z"
   },
   {
    "duration": 353,
    "start_time": "2024-03-13T19:02:27.285Z"
   },
   {
    "duration": 14,
    "start_time": "2024-03-13T19:02:27.640Z"
   },
   {
    "duration": 4,
    "start_time": "2024-03-13T19:02:27.656Z"
   },
   {
    "duration": 14,
    "start_time": "2024-03-13T19:02:27.661Z"
   },
   {
    "duration": 5,
    "start_time": "2024-03-13T19:02:27.677Z"
   },
   {
    "duration": 45,
    "start_time": "2024-03-13T19:02:27.684Z"
   },
   {
    "duration": 14,
    "start_time": "2024-03-13T19:02:27.731Z"
   },
   {
    "duration": 9,
    "start_time": "2024-03-13T19:02:27.747Z"
   },
   {
    "duration": 8,
    "start_time": "2024-03-13T19:02:27.759Z"
   },
   {
    "duration": 6,
    "start_time": "2024-03-13T19:02:27.768Z"
   },
   {
    "duration": 5,
    "start_time": "2024-03-13T19:02:27.775Z"
   },
   {
    "duration": 3667,
    "start_time": "2024-03-13T19:02:27.781Z"
   },
   {
    "duration": 14,
    "start_time": "2024-03-13T19:02:31.450Z"
   },
   {
    "duration": 19714,
    "start_time": "2024-03-13T19:02:31.466Z"
   },
   {
    "duration": 565,
    "start_time": "2024-03-13T19:02:51.181Z"
   },
   {
    "duration": 0,
    "start_time": "2024-03-13T19:02:51.747Z"
   },
   {
    "duration": 0,
    "start_time": "2024-03-13T19:02:51.748Z"
   },
   {
    "duration": 0,
    "start_time": "2024-03-13T19:02:51.749Z"
   },
   {
    "duration": 0,
    "start_time": "2024-03-13T19:02:51.750Z"
   },
   {
    "duration": 0,
    "start_time": "2024-03-13T19:02:51.751Z"
   },
   {
    "duration": 0,
    "start_time": "2024-03-13T19:02:51.752Z"
   },
   {
    "duration": 0,
    "start_time": "2024-03-13T19:02:51.754Z"
   },
   {
    "duration": 0,
    "start_time": "2024-03-13T19:02:51.754Z"
   },
   {
    "duration": 0,
    "start_time": "2024-03-13T19:02:51.755Z"
   },
   {
    "duration": 0,
    "start_time": "2024-03-13T19:02:51.756Z"
   },
   {
    "duration": 0,
    "start_time": "2024-03-13T19:02:51.757Z"
   },
   {
    "duration": 0,
    "start_time": "2024-03-13T19:02:51.758Z"
   },
   {
    "duration": 412,
    "start_time": "2024-03-13T19:04:03.409Z"
   },
   {
    "duration": 384,
    "start_time": "2024-03-13T19:04:16.850Z"
   },
   {
    "duration": 30,
    "start_time": "2024-03-13T19:04:44.360Z"
   },
   {
    "duration": 431,
    "start_time": "2024-03-13T19:06:59.256Z"
   },
   {
    "duration": 3,
    "start_time": "2024-03-13T19:11:04.587Z"
   },
   {
    "duration": 3,
    "start_time": "2024-03-13T19:11:05.579Z"
   },
   {
    "duration": 8,
    "start_time": "2024-03-13T19:11:11.336Z"
   },
   {
    "duration": 2,
    "start_time": "2024-03-13T19:11:12.981Z"
   },
   {
    "duration": 2,
    "start_time": "2024-03-13T19:11:16.071Z"
   },
   {
    "duration": 7,
    "start_time": "2024-03-13T19:11:16.401Z"
   },
   {
    "duration": 21372,
    "start_time": "2024-03-13T19:13:08.723Z"
   },
   {
    "duration": 103675,
    "start_time": "2024-03-13T19:16:45.054Z"
   },
   {
    "duration": 1138,
    "start_time": "2024-03-13T19:18:50.191Z"
   },
   {
    "duration": 1685,
    "start_time": "2024-03-13T19:19:26.127Z"
   },
   {
    "duration": 7,
    "start_time": "2024-03-13T19:19:43.733Z"
   },
   {
    "duration": 39,
    "start_time": "2024-03-13T19:40:22.604Z"
   },
   {
    "duration": 1387,
    "start_time": "2024-03-13T19:40:41.949Z"
   },
   {
    "duration": 1010,
    "start_time": "2024-03-13T19:40:43.338Z"
   },
   {
    "duration": 3,
    "start_time": "2024-03-13T19:40:44.350Z"
   },
   {
    "duration": 360,
    "start_time": "2024-03-13T19:40:44.355Z"
   },
   {
    "duration": 162,
    "start_time": "2024-03-13T19:40:44.719Z"
   },
   {
    "duration": 352,
    "start_time": "2024-03-13T19:40:44.883Z"
   },
   {
    "duration": 14,
    "start_time": "2024-03-13T19:40:45.236Z"
   },
   {
    "duration": 24,
    "start_time": "2024-03-13T19:40:45.252Z"
   },
   {
    "duration": 25,
    "start_time": "2024-03-13T19:40:45.277Z"
   },
   {
    "duration": 29,
    "start_time": "2024-03-13T19:40:45.304Z"
   },
   {
    "duration": 41,
    "start_time": "2024-03-13T19:40:45.335Z"
   },
   {
    "duration": 131,
    "start_time": "2024-03-13T19:40:45.377Z"
   },
   {
    "duration": 0,
    "start_time": "2024-03-13T19:40:45.510Z"
   },
   {
    "duration": 0,
    "start_time": "2024-03-13T19:40:45.511Z"
   },
   {
    "duration": 0,
    "start_time": "2024-03-13T19:40:45.512Z"
   },
   {
    "duration": 0,
    "start_time": "2024-03-13T19:40:45.513Z"
   },
   {
    "duration": 0,
    "start_time": "2024-03-13T19:40:45.514Z"
   },
   {
    "duration": 0,
    "start_time": "2024-03-13T19:40:45.520Z"
   },
   {
    "duration": 0,
    "start_time": "2024-03-13T19:40:45.522Z"
   },
   {
    "duration": 0,
    "start_time": "2024-03-13T19:40:45.523Z"
   },
   {
    "duration": 0,
    "start_time": "2024-03-13T19:40:45.524Z"
   },
   {
    "duration": 0,
    "start_time": "2024-03-13T19:40:45.524Z"
   },
   {
    "duration": 0,
    "start_time": "2024-03-13T19:40:45.525Z"
   },
   {
    "duration": 0,
    "start_time": "2024-03-13T19:40:45.533Z"
   },
   {
    "duration": 0,
    "start_time": "2024-03-13T19:40:45.534Z"
   },
   {
    "duration": 0,
    "start_time": "2024-03-13T19:40:45.535Z"
   },
   {
    "duration": 0,
    "start_time": "2024-03-13T19:40:45.536Z"
   },
   {
    "duration": 0,
    "start_time": "2024-03-13T19:40:45.537Z"
   },
   {
    "duration": 0,
    "start_time": "2024-03-13T19:40:45.538Z"
   },
   {
    "duration": 0,
    "start_time": "2024-03-13T19:40:45.539Z"
   },
   {
    "duration": 0,
    "start_time": "2024-03-13T19:40:45.540Z"
   },
   {
    "duration": 0,
    "start_time": "2024-03-13T19:40:45.541Z"
   },
   {
    "duration": 16,
    "start_time": "2024-03-13T19:47:17.855Z"
   },
   {
    "duration": 11,
    "start_time": "2024-03-13T19:47:28.831Z"
   },
   {
    "duration": 14,
    "start_time": "2024-03-13T19:47:50.516Z"
   },
   {
    "duration": 3,
    "start_time": "2024-03-13T19:48:41.383Z"
   },
   {
    "duration": 3,
    "start_time": "2024-03-13T19:48:42.162Z"
   },
   {
    "duration": 3765,
    "start_time": "2024-03-13T19:48:42.695Z"
   },
   {
    "duration": 14,
    "start_time": "2024-03-13T19:48:50.464Z"
   },
   {
    "duration": 21768,
    "start_time": "2024-03-13T19:49:50.579Z"
   },
   {
    "duration": 36854,
    "start_time": "2024-03-13T19:50:26.904Z"
   },
   {
    "duration": 121,
    "start_time": "2024-03-13T19:51:43.946Z"
   },
   {
    "duration": 219,
    "start_time": "2024-03-13T19:52:34.629Z"
   },
   {
    "duration": 26,
    "start_time": "2024-03-13T19:52:51.219Z"
   },
   {
    "duration": 212,
    "start_time": "2024-03-13T19:52:56.970Z"
   },
   {
    "duration": 1499,
    "start_time": "2024-03-13T19:53:06.412Z"
   },
   {
    "duration": 996,
    "start_time": "2024-03-13T19:53:07.913Z"
   },
   {
    "duration": 11,
    "start_time": "2024-03-13T19:53:08.910Z"
   },
   {
    "duration": 385,
    "start_time": "2024-03-13T19:53:08.923Z"
   },
   {
    "duration": 157,
    "start_time": "2024-03-13T19:53:09.310Z"
   },
   {
    "duration": 442,
    "start_time": "2024-03-13T19:53:09.468Z"
   },
   {
    "duration": 27,
    "start_time": "2024-03-13T19:53:09.911Z"
   },
   {
    "duration": 5,
    "start_time": "2024-03-13T19:53:09.942Z"
   },
   {
    "duration": 11,
    "start_time": "2024-03-13T19:53:09.950Z"
   },
   {
    "duration": 4,
    "start_time": "2024-03-13T19:53:09.963Z"
   },
   {
    "duration": 15,
    "start_time": "2024-03-13T19:53:09.968Z"
   },
   {
    "duration": 13,
    "start_time": "2024-03-13T19:53:09.984Z"
   },
   {
    "duration": 18,
    "start_time": "2024-03-13T19:53:10.020Z"
   },
   {
    "duration": 16,
    "start_time": "2024-03-13T19:53:10.042Z"
   },
   {
    "duration": 13,
    "start_time": "2024-03-13T19:53:10.060Z"
   },
   {
    "duration": 4,
    "start_time": "2024-03-13T19:53:10.075Z"
   },
   {
    "duration": 3871,
    "start_time": "2024-03-13T19:53:10.080Z"
   },
   {
    "duration": 17,
    "start_time": "2024-03-13T19:53:13.954Z"
   },
   {
    "duration": 137,
    "start_time": "2024-03-13T19:53:13.972Z"
   },
   {
    "duration": 0,
    "start_time": "2024-03-13T19:53:14.111Z"
   },
   {
    "duration": 0,
    "start_time": "2024-03-13T19:53:14.111Z"
   },
   {
    "duration": 0,
    "start_time": "2024-03-13T19:53:14.112Z"
   },
   {
    "duration": 0,
    "start_time": "2024-03-13T19:53:14.113Z"
   },
   {
    "duration": 0,
    "start_time": "2024-03-13T19:53:14.119Z"
   },
   {
    "duration": 0,
    "start_time": "2024-03-13T19:53:14.121Z"
   },
   {
    "duration": 0,
    "start_time": "2024-03-13T19:53:14.125Z"
   },
   {
    "duration": 0,
    "start_time": "2024-03-13T19:53:14.126Z"
   },
   {
    "duration": 0,
    "start_time": "2024-03-13T19:53:14.127Z"
   },
   {
    "duration": 0,
    "start_time": "2024-03-13T19:53:14.131Z"
   },
   {
    "duration": 0,
    "start_time": "2024-03-13T19:53:14.131Z"
   },
   {
    "duration": 0,
    "start_time": "2024-03-13T19:53:14.132Z"
   },
   {
    "duration": 408,
    "start_time": "2024-03-13T19:54:27.342Z"
   },
   {
    "duration": 28,
    "start_time": "2024-03-13T19:54:57.743Z"
   },
   {
    "duration": 485,
    "start_time": "2024-03-13T19:55:07.257Z"
   },
   {
    "duration": 3,
    "start_time": "2024-03-13T19:55:32.644Z"
   },
   {
    "duration": 3,
    "start_time": "2024-03-13T19:55:34.889Z"
   },
   {
    "duration": 9,
    "start_time": "2024-03-13T19:55:40.698Z"
   },
   {
    "duration": 3,
    "start_time": "2024-03-13T19:55:45.313Z"
   },
   {
    "duration": 12,
    "start_time": "2024-03-13T19:55:49.632Z"
   },
   {
    "duration": 10,
    "start_time": "2024-03-13T19:55:50.078Z"
   },
   {
    "duration": 3131,
    "start_time": "2024-03-13T19:55:55.074Z"
   },
   {
    "duration": 2560,
    "start_time": "2024-03-13T19:56:20.978Z"
   },
   {
    "duration": 122,
    "start_time": "2024-03-13T19:56:28.164Z"
   },
   {
    "duration": 1031,
    "start_time": "2024-03-13T19:58:00.443Z"
   },
   {
    "duration": 1549,
    "start_time": "2024-03-13T19:58:17.102Z"
   },
   {
    "duration": 1014,
    "start_time": "2024-03-13T19:58:18.653Z"
   },
   {
    "duration": 3,
    "start_time": "2024-03-13T19:58:19.668Z"
   },
   {
    "duration": 364,
    "start_time": "2024-03-13T19:58:19.673Z"
   },
   {
    "duration": 148,
    "start_time": "2024-03-13T19:58:20.039Z"
   },
   {
    "duration": 352,
    "start_time": "2024-03-13T19:58:20.189Z"
   },
   {
    "duration": 14,
    "start_time": "2024-03-13T19:58:20.543Z"
   },
   {
    "duration": 4,
    "start_time": "2024-03-13T19:58:20.558Z"
   },
   {
    "duration": 19,
    "start_time": "2024-03-13T19:58:20.563Z"
   },
   {
    "duration": 4,
    "start_time": "2024-03-13T19:58:20.584Z"
   },
   {
    "duration": 38,
    "start_time": "2024-03-13T19:58:20.590Z"
   },
   {
    "duration": 15,
    "start_time": "2024-03-13T19:58:20.630Z"
   },
   {
    "duration": 12,
    "start_time": "2024-03-13T19:58:20.647Z"
   },
   {
    "duration": 9,
    "start_time": "2024-03-13T19:58:20.660Z"
   },
   {
    "duration": 3,
    "start_time": "2024-03-13T19:58:20.670Z"
   },
   {
    "duration": 28,
    "start_time": "2024-03-13T19:58:20.675Z"
   },
   {
    "duration": 3585,
    "start_time": "2024-03-13T19:58:20.705Z"
   },
   {
    "duration": 30,
    "start_time": "2024-03-13T19:58:24.291Z"
   },
   {
    "duration": 399,
    "start_time": "2024-03-13T19:58:24.332Z"
   },
   {
    "duration": 28,
    "start_time": "2024-03-13T19:58:24.734Z"
   },
   {
    "duration": 444,
    "start_time": "2024-03-13T19:58:24.763Z"
   },
   {
    "duration": 17,
    "start_time": "2024-03-13T19:58:25.208Z"
   },
   {
    "duration": 6,
    "start_time": "2024-03-13T19:58:25.230Z"
   },
   {
    "duration": 13,
    "start_time": "2024-03-13T19:58:25.237Z"
   },
   {
    "duration": 25,
    "start_time": "2024-03-13T19:58:25.251Z"
   },
   {
    "duration": 5,
    "start_time": "2024-03-13T19:58:25.278Z"
   },
   {
    "duration": 11,
    "start_time": "2024-03-13T19:58:25.284Z"
   },
   {
    "duration": 1241,
    "start_time": "2024-03-13T19:58:25.298Z"
   },
   {
    "duration": 132,
    "start_time": "2024-03-13T19:58:26.540Z"
   },
   {
    "duration": 0,
    "start_time": "2024-03-13T19:58:26.674Z"
   },
   {
    "duration": 0,
    "start_time": "2024-03-13T19:58:26.675Z"
   },
   {
    "duration": 59,
    "start_time": "2024-03-13T19:58:49.008Z"
   },
   {
    "duration": 10,
    "start_time": "2024-03-13T19:58:55.825Z"
   },
   {
    "duration": 1461,
    "start_time": "2024-03-13T20:00:52.548Z"
   },
   {
    "duration": 864,
    "start_time": "2024-03-13T20:00:54.010Z"
   },
   {
    "duration": 3,
    "start_time": "2024-03-13T20:00:54.875Z"
   },
   {
    "duration": 371,
    "start_time": "2024-03-13T20:00:54.880Z"
   },
   {
    "duration": 154,
    "start_time": "2024-03-13T20:00:55.253Z"
   },
   {
    "duration": 352,
    "start_time": "2024-03-13T20:00:55.420Z"
   },
   {
    "duration": 14,
    "start_time": "2024-03-13T20:00:55.773Z"
   },
   {
    "duration": 9,
    "start_time": "2024-03-13T20:00:55.788Z"
   },
   {
    "duration": 44,
    "start_time": "2024-03-13T20:00:55.799Z"
   },
   {
    "duration": 27,
    "start_time": "2024-03-13T20:00:55.845Z"
   },
   {
    "duration": 43,
    "start_time": "2024-03-13T20:00:55.873Z"
   },
   {
    "duration": 137,
    "start_time": "2024-03-13T20:00:55.917Z"
   },
   {
    "duration": 0,
    "start_time": "2024-03-13T20:00:56.056Z"
   },
   {
    "duration": 0,
    "start_time": "2024-03-13T20:00:56.057Z"
   },
   {
    "duration": 0,
    "start_time": "2024-03-13T20:00:56.058Z"
   },
   {
    "duration": 0,
    "start_time": "2024-03-13T20:00:56.059Z"
   },
   {
    "duration": 0,
    "start_time": "2024-03-13T20:00:56.060Z"
   },
   {
    "duration": 0,
    "start_time": "2024-03-13T20:00:56.061Z"
   },
   {
    "duration": 0,
    "start_time": "2024-03-13T20:00:56.062Z"
   },
   {
    "duration": 0,
    "start_time": "2024-03-13T20:00:56.063Z"
   },
   {
    "duration": 0,
    "start_time": "2024-03-13T20:00:56.064Z"
   },
   {
    "duration": 0,
    "start_time": "2024-03-13T20:00:56.065Z"
   },
   {
    "duration": 0,
    "start_time": "2024-03-13T20:00:56.066Z"
   },
   {
    "duration": 0,
    "start_time": "2024-03-13T20:00:56.067Z"
   },
   {
    "duration": 0,
    "start_time": "2024-03-13T20:00:56.068Z"
   },
   {
    "duration": 0,
    "start_time": "2024-03-13T20:00:56.069Z"
   },
   {
    "duration": 0,
    "start_time": "2024-03-13T20:00:56.070Z"
   },
   {
    "duration": 0,
    "start_time": "2024-03-13T20:00:56.071Z"
   },
   {
    "duration": 0,
    "start_time": "2024-03-13T20:00:56.072Z"
   },
   {
    "duration": 0,
    "start_time": "2024-03-13T20:00:56.073Z"
   },
   {
    "duration": 0,
    "start_time": "2024-03-13T20:00:56.074Z"
   },
   {
    "duration": 15,
    "start_time": "2024-03-13T20:01:43.244Z"
   },
   {
    "duration": 10,
    "start_time": "2024-03-13T20:01:49.131Z"
   },
   {
    "duration": 9,
    "start_time": "2024-03-13T20:01:53.707Z"
   },
   {
    "duration": 3,
    "start_time": "2024-03-13T20:02:58.236Z"
   },
   {
    "duration": 3,
    "start_time": "2024-03-13T20:02:59.248Z"
   },
   {
    "duration": 3687,
    "start_time": "2024-03-13T20:02:59.753Z"
   },
   {
    "duration": 14,
    "start_time": "2024-03-13T20:03:09.689Z"
   },
   {
    "duration": 544,
    "start_time": "2024-03-13T20:03:19.205Z"
   },
   {
    "duration": 30,
    "start_time": "2024-03-13T20:03:24.174Z"
   },
   {
    "duration": 410,
    "start_time": "2024-03-13T20:03:28.531Z"
   },
   {
    "duration": 3,
    "start_time": "2024-03-13T20:03:40.136Z"
   },
   {
    "duration": 3,
    "start_time": "2024-03-13T20:03:41.506Z"
   },
   {
    "duration": 9,
    "start_time": "2024-03-13T20:03:53.748Z"
   },
   {
    "duration": 3,
    "start_time": "2024-03-13T20:03:57.126Z"
   },
   {
    "duration": 3,
    "start_time": "2024-03-13T20:03:59.830Z"
   },
   {
    "duration": 9,
    "start_time": "2024-03-13T20:04:00.242Z"
   },
   {
    "duration": 31669,
    "start_time": "2024-03-13T20:04:04.606Z"
   },
   {
    "duration": 1486,
    "start_time": "2024-03-13T20:05:30.848Z"
   },
   {
    "duration": 103523,
    "start_time": "2024-03-13T20:07:16.219Z"
   },
   {
    "duration": 1675,
    "start_time": "2024-03-13T20:11:12.175Z"
   },
   {
    "duration": 7,
    "start_time": "2024-03-13T20:11:17.177Z"
   },
   {
    "duration": 1359,
    "start_time": "2024-03-13T20:38:28.056Z"
   },
   {
    "duration": 815,
    "start_time": "2024-03-13T20:38:29.417Z"
   },
   {
    "duration": 3,
    "start_time": "2024-03-13T20:38:30.234Z"
   },
   {
    "duration": 371,
    "start_time": "2024-03-13T20:38:30.239Z"
   },
   {
    "duration": 147,
    "start_time": "2024-03-13T20:38:30.612Z"
   },
   {
    "duration": 327,
    "start_time": "2024-03-13T20:38:30.760Z"
   },
   {
    "duration": 13,
    "start_time": "2024-03-13T20:38:31.088Z"
   },
   {
    "duration": 16,
    "start_time": "2024-03-13T20:38:31.102Z"
   },
   {
    "duration": 28,
    "start_time": "2024-03-13T20:38:31.120Z"
   },
   {
    "duration": 16,
    "start_time": "2024-03-13T20:38:31.151Z"
   },
   {
    "duration": 22,
    "start_time": "2024-03-13T20:38:31.168Z"
   },
   {
    "duration": 48,
    "start_time": "2024-03-13T20:38:31.192Z"
   },
   {
    "duration": 27,
    "start_time": "2024-03-13T20:38:31.241Z"
   },
   {
    "duration": 44,
    "start_time": "2024-03-13T20:38:31.270Z"
   },
   {
    "duration": 21,
    "start_time": "2024-03-13T20:38:31.316Z"
   },
   {
    "duration": 28,
    "start_time": "2024-03-13T20:38:31.339Z"
   },
   {
    "duration": 3401,
    "start_time": "2024-03-13T20:38:31.368Z"
   },
   {
    "duration": 13,
    "start_time": "2024-03-13T20:38:34.771Z"
   },
   {
    "duration": 416,
    "start_time": "2024-03-13T20:38:34.786Z"
   },
   {
    "duration": 38,
    "start_time": "2024-03-13T20:38:35.204Z"
   },
   {
    "duration": 440,
    "start_time": "2024-03-13T20:38:35.243Z"
   },
   {
    "duration": 5,
    "start_time": "2024-03-13T20:38:35.684Z"
   },
   {
    "duration": 8,
    "start_time": "2024-03-13T20:38:35.691Z"
   },
   {
    "duration": 20,
    "start_time": "2024-03-13T20:38:35.700Z"
   },
   {
    "duration": 3,
    "start_time": "2024-03-13T20:38:35.721Z"
   },
   {
    "duration": 9,
    "start_time": "2024-03-13T20:38:35.726Z"
   },
   {
    "duration": 15,
    "start_time": "2024-03-13T20:38:35.736Z"
   },
   {
    "duration": 100582,
    "start_time": "2024-03-13T20:38:35.755Z"
   },
   {
    "duration": 694,
    "start_time": "2024-03-13T20:40:16.338Z"
   },
   {
    "duration": 1714,
    "start_time": "2024-03-13T20:40:17.118Z"
   },
   {
    "duration": 7,
    "start_time": "2024-03-13T20:40:18.834Z"
   },
   {
    "duration": 1305,
    "start_time": "2024-03-13T20:40:57.970Z"
   },
   {
    "duration": 851,
    "start_time": "2024-03-13T20:40:59.277Z"
   },
   {
    "duration": 8,
    "start_time": "2024-03-13T20:41:00.129Z"
   },
   {
    "duration": 353,
    "start_time": "2024-03-13T20:41:00.139Z"
   },
   {
    "duration": 146,
    "start_time": "2024-03-13T20:41:00.494Z"
   },
   {
    "duration": 343,
    "start_time": "2024-03-13T20:41:00.641Z"
   },
   {
    "duration": 14,
    "start_time": "2024-03-13T20:41:00.985Z"
   },
   {
    "duration": 29,
    "start_time": "2024-03-13T20:41:01.000Z"
   },
   {
    "duration": 50,
    "start_time": "2024-03-13T20:41:01.030Z"
   },
   {
    "duration": 44,
    "start_time": "2024-03-13T20:41:01.082Z"
   },
   {
    "duration": 33,
    "start_time": "2024-03-13T20:41:01.128Z"
   },
   {
    "duration": 37,
    "start_time": "2024-03-13T20:41:01.162Z"
   },
   {
    "duration": 35,
    "start_time": "2024-03-13T20:41:01.201Z"
   },
   {
    "duration": 27,
    "start_time": "2024-03-13T20:41:01.239Z"
   },
   {
    "duration": 29,
    "start_time": "2024-03-13T20:41:01.267Z"
   },
   {
    "duration": 36,
    "start_time": "2024-03-13T20:41:01.297Z"
   },
   {
    "duration": 3500,
    "start_time": "2024-03-13T20:41:01.334Z"
   },
   {
    "duration": 13,
    "start_time": "2024-03-13T20:41:04.836Z"
   },
   {
    "duration": 472,
    "start_time": "2024-03-13T20:41:04.850Z"
   },
   {
    "duration": 33,
    "start_time": "2024-03-13T20:41:05.323Z"
   },
   {
    "duration": 469,
    "start_time": "2024-03-13T20:41:05.358Z"
   },
   {
    "duration": 4,
    "start_time": "2024-03-13T20:41:05.829Z"
   },
   {
    "duration": 9,
    "start_time": "2024-03-13T20:41:05.835Z"
   },
   {
    "duration": 16,
    "start_time": "2024-03-13T20:41:05.846Z"
   },
   {
    "duration": 3,
    "start_time": "2024-03-13T20:41:05.864Z"
   },
   {
    "duration": 5,
    "start_time": "2024-03-13T20:41:05.868Z"
   },
   {
    "duration": 11,
    "start_time": "2024-03-13T20:41:05.874Z"
   },
   {
    "duration": 101107,
    "start_time": "2024-03-13T20:41:05.887Z"
   },
   {
    "duration": 927,
    "start_time": "2024-03-13T20:42:46.996Z"
   },
   {
    "duration": 1805,
    "start_time": "2024-03-13T20:42:47.925Z"
   },
   {
    "duration": 7,
    "start_time": "2024-03-13T20:42:49.732Z"
   },
   {
    "duration": 1654,
    "start_time": "2024-03-14T14:48:56.646Z"
   },
   {
    "duration": 2237,
    "start_time": "2024-03-14T14:48:58.302Z"
   },
   {
    "duration": 3,
    "start_time": "2024-03-14T14:49:00.541Z"
   },
   {
    "duration": 434,
    "start_time": "2024-03-14T14:49:00.546Z"
   },
   {
    "duration": 161,
    "start_time": "2024-03-14T14:49:00.982Z"
   },
   {
    "duration": 403,
    "start_time": "2024-03-14T14:49:01.145Z"
   },
   {
    "duration": 31,
    "start_time": "2024-03-14T14:49:01.549Z"
   },
   {
    "duration": 30,
    "start_time": "2024-03-14T14:49:01.582Z"
   },
   {
    "duration": 54,
    "start_time": "2024-03-14T14:49:01.614Z"
   },
   {
    "duration": 31,
    "start_time": "2024-03-14T14:49:01.669Z"
   },
   {
    "duration": 46,
    "start_time": "2024-03-14T14:49:01.702Z"
   },
   {
    "duration": 119,
    "start_time": "2024-03-14T14:49:01.750Z"
   },
   {
    "duration": 56,
    "start_time": "2024-03-14T14:49:01.871Z"
   },
   {
    "duration": 62,
    "start_time": "2024-03-14T14:49:01.930Z"
   },
   {
    "duration": 60,
    "start_time": "2024-03-14T14:49:01.993Z"
   },
   {
    "duration": 89,
    "start_time": "2024-03-14T14:49:02.054Z"
   },
   {
    "duration": 3681,
    "start_time": "2024-03-14T14:49:02.145Z"
   },
   {
    "duration": 18,
    "start_time": "2024-03-14T14:49:05.827Z"
   },
   {
    "duration": 52,
    "start_time": "2024-03-14T14:49:05.847Z"
   },
   {
    "duration": 636,
    "start_time": "2024-03-14T14:49:05.900Z"
   },
   {
    "duration": 40,
    "start_time": "2024-03-14T14:49:06.538Z"
   },
   {
    "duration": 436,
    "start_time": "2024-03-14T14:49:06.580Z"
   },
   {
    "duration": 3,
    "start_time": "2024-03-14T14:49:07.018Z"
   },
   {
    "duration": 31,
    "start_time": "2024-03-14T14:49:07.023Z"
   },
   {
    "duration": 35,
    "start_time": "2024-03-14T14:49:07.056Z"
   },
   {
    "duration": 17,
    "start_time": "2024-03-14T14:49:07.093Z"
   },
   {
    "duration": 20,
    "start_time": "2024-03-14T14:49:07.112Z"
   },
   {
    "duration": 31,
    "start_time": "2024-03-14T14:49:07.134Z"
   },
   {
    "duration": 173622,
    "start_time": "2024-03-14T14:49:07.166Z"
   },
   {
    "duration": 1885,
    "start_time": "2024-03-14T14:52:00.790Z"
   },
   {
    "duration": 2927,
    "start_time": "2024-03-14T14:52:02.678Z"
   },
   {
    "duration": 9,
    "start_time": "2024-03-14T14:52:05.608Z"
   },
   {
    "duration": 136,
    "start_time": "2024-03-14T15:01:29.898Z"
   },
   {
    "duration": 18,
    "start_time": "2024-03-14T15:02:13.285Z"
   },
   {
    "duration": 158,
    "start_time": "2024-03-14T15:02:16.388Z"
   },
   {
    "duration": 141,
    "start_time": "2024-03-14T15:02:28.325Z"
   },
   {
    "duration": 1631,
    "start_time": "2024-03-14T15:02:56.058Z"
   },
   {
    "duration": 834,
    "start_time": "2024-03-14T15:02:57.690Z"
   },
   {
    "duration": 3,
    "start_time": "2024-03-14T15:02:58.526Z"
   },
   {
    "duration": 395,
    "start_time": "2024-03-14T15:02:58.531Z"
   },
   {
    "duration": 158,
    "start_time": "2024-03-14T15:02:58.928Z"
   },
   {
    "duration": 359,
    "start_time": "2024-03-14T15:02:59.087Z"
   },
   {
    "duration": 22,
    "start_time": "2024-03-14T15:02:59.447Z"
   },
   {
    "duration": 4,
    "start_time": "2024-03-14T15:02:59.470Z"
   },
   {
    "duration": 20,
    "start_time": "2024-03-14T15:02:59.475Z"
   },
   {
    "duration": 17,
    "start_time": "2024-03-14T15:02:59.497Z"
   },
   {
    "duration": 23,
    "start_time": "2024-03-14T15:02:59.516Z"
   },
   {
    "duration": 40,
    "start_time": "2024-03-14T15:02:59.540Z"
   },
   {
    "duration": 27,
    "start_time": "2024-03-14T15:02:59.582Z"
   },
   {
    "duration": 17,
    "start_time": "2024-03-14T15:02:59.611Z"
   },
   {
    "duration": 17,
    "start_time": "2024-03-14T15:02:59.630Z"
   },
   {
    "duration": 23,
    "start_time": "2024-03-14T15:02:59.649Z"
   },
   {
    "duration": 3660,
    "start_time": "2024-03-14T15:02:59.674Z"
   },
   {
    "duration": 30,
    "start_time": "2024-03-14T15:03:03.336Z"
   },
   {
    "duration": 409,
    "start_time": "2024-03-14T15:03:03.367Z"
   },
   {
    "duration": 33,
    "start_time": "2024-03-14T15:03:03.778Z"
   },
   {
    "duration": 478,
    "start_time": "2024-03-14T15:03:03.813Z"
   },
   {
    "duration": 3,
    "start_time": "2024-03-14T15:03:04.293Z"
   },
   {
    "duration": 21,
    "start_time": "2024-03-14T15:03:04.298Z"
   },
   {
    "duration": 15,
    "start_time": "2024-03-14T15:03:04.320Z"
   },
   {
    "duration": 17,
    "start_time": "2024-03-14T15:03:04.336Z"
   },
   {
    "duration": 15,
    "start_time": "2024-03-14T15:03:04.355Z"
   },
   {
    "duration": 19,
    "start_time": "2024-03-14T15:03:04.372Z"
   },
   {
    "duration": 104679,
    "start_time": "2024-03-14T15:03:04.394Z"
   },
   {
    "duration": 889,
    "start_time": "2024-03-14T15:04:49.076Z"
   },
   {
    "duration": 1797,
    "start_time": "2024-03-14T15:04:49.969Z"
   },
   {
    "duration": 10,
    "start_time": "2024-03-14T15:04:51.768Z"
   },
   {
    "duration": 12,
    "start_time": "2024-03-14T15:11:30.924Z"
   },
   {
    "duration": 331,
    "start_time": "2024-03-14T15:11:35.357Z"
   },
   {
    "duration": 1443,
    "start_time": "2024-03-14T15:11:55.412Z"
   },
   {
    "duration": 840,
    "start_time": "2024-03-14T15:11:56.857Z"
   },
   {
    "duration": 4,
    "start_time": "2024-03-14T15:11:57.698Z"
   },
   {
    "duration": 381,
    "start_time": "2024-03-14T15:11:57.703Z"
   },
   {
    "duration": 155,
    "start_time": "2024-03-14T15:11:58.087Z"
   },
   {
    "duration": 363,
    "start_time": "2024-03-14T15:11:58.244Z"
   },
   {
    "duration": 14,
    "start_time": "2024-03-14T15:11:58.608Z"
   },
   {
    "duration": 69,
    "start_time": "2024-03-14T15:11:58.623Z"
   },
   {
    "duration": 40,
    "start_time": "2024-03-14T15:11:58.694Z"
   },
   {
    "duration": 38,
    "start_time": "2024-03-14T15:11:58.736Z"
   },
   {
    "duration": 61,
    "start_time": "2024-03-14T15:11:58.776Z"
   },
   {
    "duration": 46,
    "start_time": "2024-03-14T15:11:58.838Z"
   },
   {
    "duration": 47,
    "start_time": "2024-03-14T15:11:58.885Z"
   },
   {
    "duration": 42,
    "start_time": "2024-03-14T15:11:58.935Z"
   },
   {
    "duration": 10,
    "start_time": "2024-03-14T15:11:58.979Z"
   },
   {
    "duration": 29,
    "start_time": "2024-03-14T15:11:58.991Z"
   },
   {
    "duration": 3806,
    "start_time": "2024-03-14T15:11:59.021Z"
   },
   {
    "duration": 16,
    "start_time": "2024-03-14T15:12:02.829Z"
   },
   {
    "duration": 61,
    "start_time": "2024-03-14T15:12:02.846Z"
   },
   {
    "duration": 308,
    "start_time": "2024-03-14T15:12:02.909Z"
   },
   {
    "duration": 0,
    "start_time": "2024-03-14T15:12:03.219Z"
   },
   {
    "duration": 0,
    "start_time": "2024-03-14T15:12:03.220Z"
   },
   {
    "duration": 0,
    "start_time": "2024-03-14T15:12:03.221Z"
   },
   {
    "duration": 0,
    "start_time": "2024-03-14T15:12:03.222Z"
   },
   {
    "duration": 0,
    "start_time": "2024-03-14T15:12:03.223Z"
   },
   {
    "duration": 0,
    "start_time": "2024-03-14T15:12:03.224Z"
   },
   {
    "duration": 0,
    "start_time": "2024-03-14T15:12:03.225Z"
   },
   {
    "duration": 0,
    "start_time": "2024-03-14T15:12:03.226Z"
   },
   {
    "duration": 0,
    "start_time": "2024-03-14T15:12:03.228Z"
   },
   {
    "duration": 0,
    "start_time": "2024-03-14T15:12:03.229Z"
   },
   {
    "duration": 0,
    "start_time": "2024-03-14T15:12:03.230Z"
   },
   {
    "duration": 0,
    "start_time": "2024-03-14T15:12:03.231Z"
   },
   {
    "duration": 1457,
    "start_time": "2024-03-14T15:12:37.407Z"
   },
   {
    "duration": 860,
    "start_time": "2024-03-14T15:12:38.866Z"
   },
   {
    "duration": 4,
    "start_time": "2024-03-14T15:12:39.728Z"
   },
   {
    "duration": 376,
    "start_time": "2024-03-14T15:12:39.733Z"
   },
   {
    "duration": 155,
    "start_time": "2024-03-14T15:12:40.111Z"
   },
   {
    "duration": 363,
    "start_time": "2024-03-14T15:12:40.268Z"
   },
   {
    "duration": 14,
    "start_time": "2024-03-14T15:12:40.633Z"
   },
   {
    "duration": 19,
    "start_time": "2024-03-14T15:12:40.649Z"
   },
   {
    "duration": 27,
    "start_time": "2024-03-14T15:12:40.670Z"
   },
   {
    "duration": 6,
    "start_time": "2024-03-14T15:12:40.699Z"
   },
   {
    "duration": 30,
    "start_time": "2024-03-14T15:12:40.707Z"
   },
   {
    "duration": 42,
    "start_time": "2024-03-14T15:12:40.739Z"
   },
   {
    "duration": 12,
    "start_time": "2024-03-14T15:12:40.783Z"
   },
   {
    "duration": 17,
    "start_time": "2024-03-14T15:12:40.798Z"
   },
   {
    "duration": 3,
    "start_time": "2024-03-14T15:12:40.817Z"
   },
   {
    "duration": 28,
    "start_time": "2024-03-14T15:12:40.821Z"
   },
   {
    "duration": 3611,
    "start_time": "2024-03-14T15:12:40.850Z"
   },
   {
    "duration": 15,
    "start_time": "2024-03-14T15:12:44.463Z"
   },
   {
    "duration": 459,
    "start_time": "2024-03-14T15:12:44.479Z"
   },
   {
    "duration": 50,
    "start_time": "2024-03-14T15:12:44.940Z"
   },
   {
    "duration": 434,
    "start_time": "2024-03-14T15:12:44.992Z"
   },
   {
    "duration": 4,
    "start_time": "2024-03-14T15:12:45.428Z"
   },
   {
    "duration": 77,
    "start_time": "2024-03-14T15:12:45.434Z"
   },
   {
    "duration": 42,
    "start_time": "2024-03-14T15:12:45.514Z"
   },
   {
    "duration": 13,
    "start_time": "2024-03-14T15:12:45.557Z"
   },
   {
    "duration": 18,
    "start_time": "2024-03-14T15:12:45.571Z"
   },
   {
    "duration": 34,
    "start_time": "2024-03-14T15:12:45.591Z"
   },
   {
    "duration": 104545,
    "start_time": "2024-03-14T15:12:45.627Z"
   },
   {
    "duration": 904,
    "start_time": "2024-03-14T15:14:30.173Z"
   },
   {
    "duration": 1850,
    "start_time": "2024-03-14T15:14:31.082Z"
   },
   {
    "duration": 8,
    "start_time": "2024-03-14T15:14:32.933Z"
   },
   {
    "duration": 11,
    "start_time": "2024-03-14T15:16:11.854Z"
   },
   {
    "duration": 286,
    "start_time": "2024-03-14T15:16:23.203Z"
   },
   {
    "duration": 1484,
    "start_time": "2024-03-14T15:16:41.002Z"
   },
   {
    "duration": 837,
    "start_time": "2024-03-14T15:16:42.488Z"
   },
   {
    "duration": 3,
    "start_time": "2024-03-14T15:16:43.326Z"
   },
   {
    "duration": 357,
    "start_time": "2024-03-14T15:16:43.331Z"
   },
   {
    "duration": 157,
    "start_time": "2024-03-14T15:16:43.690Z"
   },
   {
    "duration": 357,
    "start_time": "2024-03-14T15:16:43.849Z"
   },
   {
    "duration": 13,
    "start_time": "2024-03-14T15:16:44.208Z"
   },
   {
    "duration": 5,
    "start_time": "2024-03-14T15:16:44.222Z"
   },
   {
    "duration": 26,
    "start_time": "2024-03-14T15:16:44.228Z"
   },
   {
    "duration": 13,
    "start_time": "2024-03-14T15:16:44.256Z"
   },
   {
    "duration": 15,
    "start_time": "2024-03-14T15:16:44.271Z"
   },
   {
    "duration": 16,
    "start_time": "2024-03-14T15:16:44.288Z"
   },
   {
    "duration": 18,
    "start_time": "2024-03-14T15:16:44.305Z"
   },
   {
    "duration": 22,
    "start_time": "2024-03-14T15:16:44.327Z"
   },
   {
    "duration": 16,
    "start_time": "2024-03-14T15:16:44.350Z"
   },
   {
    "duration": 8,
    "start_time": "2024-03-14T15:16:44.368Z"
   },
   {
    "duration": 3677,
    "start_time": "2024-03-14T15:16:44.378Z"
   },
   {
    "duration": 26,
    "start_time": "2024-03-14T15:16:48.057Z"
   },
   {
    "duration": 410,
    "start_time": "2024-03-14T15:16:48.086Z"
   },
   {
    "duration": 30,
    "start_time": "2024-03-14T15:16:48.497Z"
   },
   {
    "duration": 451,
    "start_time": "2024-03-14T15:16:48.529Z"
   },
   {
    "duration": 3,
    "start_time": "2024-03-14T15:16:48.982Z"
   },
   {
    "duration": 8,
    "start_time": "2024-03-14T15:16:48.986Z"
   },
   {
    "duration": 31,
    "start_time": "2024-03-14T15:16:48.996Z"
   },
   {
    "duration": 6,
    "start_time": "2024-03-14T15:16:49.028Z"
   },
   {
    "duration": 9,
    "start_time": "2024-03-14T15:16:49.036Z"
   },
   {
    "duration": 21,
    "start_time": "2024-03-14T15:16:49.047Z"
   },
   {
    "duration": 104587,
    "start_time": "2024-03-14T15:16:49.070Z"
   },
   {
    "duration": 1207,
    "start_time": "2024-03-14T15:18:33.658Z"
   },
   {
    "duration": 1806,
    "start_time": "2024-03-14T15:18:34.874Z"
   },
   {
    "duration": 8,
    "start_time": "2024-03-14T15:18:36.682Z"
   },
   {
    "duration": 401,
    "start_time": "2024-03-14T15:24:15.778Z"
   },
   {
    "duration": 43,
    "start_time": "2024-03-14T15:27:52.490Z"
   },
   {
    "duration": 33,
    "start_time": "2024-03-14T15:28:09.726Z"
   },
   {
    "duration": 28,
    "start_time": "2024-03-14T15:28:19.760Z"
   },
   {
    "duration": 39,
    "start_time": "2024-03-14T15:28:31.431Z"
   },
   {
    "duration": 1215,
    "start_time": "2024-03-14T15:28:39.733Z"
   },
   {
    "duration": 465,
    "start_time": "2024-03-14T15:29:02.410Z"
   },
   {
    "duration": 1479,
    "start_time": "2024-03-14T15:29:15.809Z"
   },
   {
    "duration": 836,
    "start_time": "2024-03-14T15:29:17.290Z"
   },
   {
    "duration": 4,
    "start_time": "2024-03-14T15:29:18.127Z"
   },
   {
    "duration": 389,
    "start_time": "2024-03-14T15:29:18.133Z"
   },
   {
    "duration": 160,
    "start_time": "2024-03-14T15:29:18.524Z"
   },
   {
    "duration": 361,
    "start_time": "2024-03-14T15:29:18.686Z"
   },
   {
    "duration": 21,
    "start_time": "2024-03-14T15:29:19.048Z"
   },
   {
    "duration": 4,
    "start_time": "2024-03-14T15:29:19.071Z"
   },
   {
    "duration": 40,
    "start_time": "2024-03-14T15:29:19.076Z"
   },
   {
    "duration": 31,
    "start_time": "2024-03-14T15:29:19.119Z"
   },
   {
    "duration": 49,
    "start_time": "2024-03-14T15:29:19.152Z"
   },
   {
    "duration": 20,
    "start_time": "2024-03-14T15:29:19.202Z"
   },
   {
    "duration": 20,
    "start_time": "2024-03-14T15:29:19.224Z"
   },
   {
    "duration": 13,
    "start_time": "2024-03-14T15:29:19.246Z"
   },
   {
    "duration": 3,
    "start_time": "2024-03-14T15:29:19.261Z"
   },
   {
    "duration": 19,
    "start_time": "2024-03-14T15:29:19.265Z"
   },
   {
    "duration": 3659,
    "start_time": "2024-03-14T15:29:19.286Z"
   },
   {
    "duration": 23,
    "start_time": "2024-03-14T15:29:22.947Z"
   },
   {
    "duration": 397,
    "start_time": "2024-03-14T15:29:22.972Z"
   },
   {
    "duration": 36,
    "start_time": "2024-03-14T15:29:23.371Z"
   },
   {
    "duration": 26,
    "start_time": "2024-03-14T15:29:23.408Z"
   },
   {
    "duration": 59,
    "start_time": "2024-03-14T15:29:23.435Z"
   },
   {
    "duration": 31,
    "start_time": "2024-03-14T15:29:23.496Z"
   },
   {
    "duration": 452,
    "start_time": "2024-03-14T15:29:23.528Z"
   },
   {
    "duration": 4,
    "start_time": "2024-03-14T15:29:23.983Z"
   },
   {
    "duration": 24,
    "start_time": "2024-03-14T15:29:23.988Z"
   },
   {
    "duration": 47,
    "start_time": "2024-03-14T15:29:24.014Z"
   },
   {
    "duration": 22,
    "start_time": "2024-03-14T15:29:24.064Z"
   },
   {
    "duration": 25,
    "start_time": "2024-03-14T15:29:24.087Z"
   },
   {
    "duration": 21,
    "start_time": "2024-03-14T15:29:24.114Z"
   },
   {
    "duration": 104079,
    "start_time": "2024-03-14T15:29:24.137Z"
   },
   {
    "duration": 1148,
    "start_time": "2024-03-14T15:31:08.218Z"
   },
   {
    "duration": 1827,
    "start_time": "2024-03-14T15:31:09.369Z"
   },
   {
    "duration": 7,
    "start_time": "2024-03-14T15:31:11.198Z"
   },
   {
    "duration": 235,
    "start_time": "2024-03-14T15:31:11.207Z"
   },
   {
    "duration": 113,
    "start_time": "2024-03-14T15:34:15.939Z"
   },
   {
    "duration": 114,
    "start_time": "2024-03-14T15:34:22.555Z"
   },
   {
    "duration": 11,
    "start_time": "2024-03-14T15:34:31.217Z"
   },
   {
    "duration": 38,
    "start_time": "2024-03-14T15:34:34.975Z"
   },
   {
    "duration": 251,
    "start_time": "2024-03-14T15:34:44.506Z"
   },
   {
    "duration": 66,
    "start_time": "2024-03-14T15:40:07.973Z"
   },
   {
    "duration": 463,
    "start_time": "2024-03-14T15:40:39.708Z"
   },
   {
    "duration": 1476,
    "start_time": "2024-03-14T15:42:17.753Z"
   },
   {
    "duration": 836,
    "start_time": "2024-03-14T15:42:19.231Z"
   },
   {
    "duration": 3,
    "start_time": "2024-03-14T15:42:20.068Z"
   },
   {
    "duration": 403,
    "start_time": "2024-03-14T15:42:20.073Z"
   },
   {
    "duration": 156,
    "start_time": "2024-03-14T15:42:20.478Z"
   },
   {
    "duration": 372,
    "start_time": "2024-03-14T15:42:20.636Z"
   },
   {
    "duration": 14,
    "start_time": "2024-03-14T15:42:21.009Z"
   },
   {
    "duration": 19,
    "start_time": "2024-03-14T15:42:21.024Z"
   },
   {
    "duration": 42,
    "start_time": "2024-03-14T15:42:21.045Z"
   },
   {
    "duration": 22,
    "start_time": "2024-03-14T15:42:21.090Z"
   },
   {
    "duration": 59,
    "start_time": "2024-03-14T15:42:21.113Z"
   },
   {
    "duration": 53,
    "start_time": "2024-03-14T15:42:21.174Z"
   },
   {
    "duration": 30,
    "start_time": "2024-03-14T15:42:21.228Z"
   },
   {
    "duration": 34,
    "start_time": "2024-03-14T15:42:21.260Z"
   },
   {
    "duration": 32,
    "start_time": "2024-03-14T15:42:21.296Z"
   },
   {
    "duration": 28,
    "start_time": "2024-03-14T15:42:21.330Z"
   },
   {
    "duration": 3719,
    "start_time": "2024-03-14T15:42:21.360Z"
   },
   {
    "duration": 17,
    "start_time": "2024-03-14T15:42:25.081Z"
   },
   {
    "duration": 474,
    "start_time": "2024-03-14T15:42:25.100Z"
   },
   {
    "duration": 32,
    "start_time": "2024-03-14T15:42:25.576Z"
   },
   {
    "duration": 471,
    "start_time": "2024-03-14T15:42:25.610Z"
   },
   {
    "duration": 4,
    "start_time": "2024-03-14T15:42:26.083Z"
   },
   {
    "duration": 20,
    "start_time": "2024-03-14T15:42:26.088Z"
   },
   {
    "duration": 32,
    "start_time": "2024-03-14T15:42:26.110Z"
   },
   {
    "duration": 36,
    "start_time": "2024-03-14T15:42:26.144Z"
   },
   {
    "duration": 27,
    "start_time": "2024-03-14T15:42:26.182Z"
   },
   {
    "duration": 39,
    "start_time": "2024-03-14T15:42:26.211Z"
   },
   {
    "duration": 104742,
    "start_time": "2024-03-14T15:42:26.254Z"
   },
   {
    "duration": 1080,
    "start_time": "2024-03-14T15:44:10.998Z"
   },
   {
    "duration": 1779,
    "start_time": "2024-03-14T15:44:12.086Z"
   },
   {
    "duration": 8,
    "start_time": "2024-03-14T15:44:13.867Z"
   },
   {
    "duration": 1516,
    "start_time": "2024-03-14T15:47:41.958Z"
   },
   {
    "duration": 831,
    "start_time": "2024-03-14T15:47:43.476Z"
   },
   {
    "duration": 3,
    "start_time": "2024-03-14T15:47:44.308Z"
   },
   {
    "duration": 395,
    "start_time": "2024-03-14T15:47:44.313Z"
   },
   {
    "duration": 167,
    "start_time": "2024-03-14T15:47:44.711Z"
   },
   {
    "duration": 353,
    "start_time": "2024-03-14T15:47:44.880Z"
   },
   {
    "duration": 14,
    "start_time": "2024-03-14T15:47:45.234Z"
   },
   {
    "duration": 33,
    "start_time": "2024-03-14T15:47:45.250Z"
   },
   {
    "duration": 49,
    "start_time": "2024-03-14T15:47:45.285Z"
   },
   {
    "duration": 60,
    "start_time": "2024-03-14T15:47:45.335Z"
   },
   {
    "duration": 38,
    "start_time": "2024-03-14T15:47:45.396Z"
   },
   {
    "duration": 18,
    "start_time": "2024-03-14T15:47:45.436Z"
   },
   {
    "duration": 45,
    "start_time": "2024-03-14T15:47:45.455Z"
   },
   {
    "duration": 14,
    "start_time": "2024-03-14T15:47:45.503Z"
   },
   {
    "duration": 42,
    "start_time": "2024-03-14T15:47:45.519Z"
   },
   {
    "duration": 34,
    "start_time": "2024-03-14T15:47:45.563Z"
   },
   {
    "duration": 3708,
    "start_time": "2024-03-14T15:47:45.598Z"
   },
   {
    "duration": 14,
    "start_time": "2024-03-14T15:47:49.308Z"
   },
   {
    "duration": 135,
    "start_time": "2024-03-14T15:47:49.323Z"
   },
   {
    "duration": 0,
    "start_time": "2024-03-14T15:47:49.459Z"
   },
   {
    "duration": 0,
    "start_time": "2024-03-14T15:47:49.466Z"
   },
   {
    "duration": 0,
    "start_time": "2024-03-14T15:47:49.467Z"
   },
   {
    "duration": 0,
    "start_time": "2024-03-14T15:47:49.468Z"
   },
   {
    "duration": 0,
    "start_time": "2024-03-14T15:47:49.469Z"
   },
   {
    "duration": 0,
    "start_time": "2024-03-14T15:47:49.470Z"
   },
   {
    "duration": 0,
    "start_time": "2024-03-14T15:47:49.471Z"
   },
   {
    "duration": 0,
    "start_time": "2024-03-14T15:47:49.472Z"
   },
   {
    "duration": 0,
    "start_time": "2024-03-14T15:47:49.473Z"
   },
   {
    "duration": 0,
    "start_time": "2024-03-14T15:47:49.474Z"
   },
   {
    "duration": 0,
    "start_time": "2024-03-14T15:47:49.474Z"
   },
   {
    "duration": 0,
    "start_time": "2024-03-14T15:47:49.475Z"
   },
   {
    "duration": 0,
    "start_time": "2024-03-14T15:47:49.476Z"
   },
   {
    "duration": 23,
    "start_time": "2024-03-14T15:48:18.713Z"
   },
   {
    "duration": 389,
    "start_time": "2024-03-14T15:48:25.382Z"
   },
   {
    "duration": 30,
    "start_time": "2024-03-14T15:48:32.554Z"
   },
   {
    "duration": 425,
    "start_time": "2024-03-14T15:48:43.643Z"
   },
   {
    "duration": 429,
    "start_time": "2024-03-14T15:49:22.988Z"
   },
   {
    "duration": 41,
    "start_time": "2024-03-14T15:50:44.501Z"
   },
   {
    "duration": 36,
    "start_time": "2024-03-14T15:51:52.981Z"
   },
   {
    "duration": 40,
    "start_time": "2024-03-14T15:51:56.763Z"
   },
   {
    "duration": 29,
    "start_time": "2024-03-14T15:51:59.505Z"
   },
   {
    "duration": 30,
    "start_time": "2024-03-14T15:52:11.672Z"
   },
   {
    "duration": 417,
    "start_time": "2024-03-14T15:52:23.474Z"
   },
   {
    "duration": 37,
    "start_time": "2024-03-14T15:57:38.372Z"
   },
   {
    "duration": 1440,
    "start_time": "2024-03-14T15:57:55.899Z"
   },
   {
    "duration": 850,
    "start_time": "2024-03-14T15:57:57.341Z"
   },
   {
    "duration": 3,
    "start_time": "2024-03-14T15:57:58.193Z"
   },
   {
    "duration": 394,
    "start_time": "2024-03-14T15:57:58.198Z"
   },
   {
    "duration": 217,
    "start_time": "2024-03-14T15:57:58.594Z"
   },
   {
    "duration": 406,
    "start_time": "2024-03-14T15:57:58.812Z"
   },
   {
    "duration": 14,
    "start_time": "2024-03-14T15:57:59.219Z"
   },
   {
    "duration": 4,
    "start_time": "2024-03-14T15:57:59.234Z"
   },
   {
    "duration": 31,
    "start_time": "2024-03-14T15:57:59.240Z"
   },
   {
    "duration": 6,
    "start_time": "2024-03-14T15:57:59.273Z"
   },
   {
    "duration": 67,
    "start_time": "2024-03-14T15:57:59.280Z"
   },
   {
    "duration": 35,
    "start_time": "2024-03-14T15:57:59.349Z"
   },
   {
    "duration": 27,
    "start_time": "2024-03-14T15:57:59.386Z"
   },
   {
    "duration": 35,
    "start_time": "2024-03-14T15:57:59.416Z"
   },
   {
    "duration": 20,
    "start_time": "2024-03-14T15:57:59.453Z"
   },
   {
    "duration": 21,
    "start_time": "2024-03-14T15:57:59.475Z"
   },
   {
    "duration": 3822,
    "start_time": "2024-03-14T15:57:59.498Z"
   },
   {
    "duration": 16,
    "start_time": "2024-03-14T15:58:03.322Z"
   },
   {
    "duration": 49,
    "start_time": "2024-03-14T15:58:03.340Z"
   },
   {
    "duration": 380,
    "start_time": "2024-03-14T15:58:03.391Z"
   },
   {
    "duration": 33,
    "start_time": "2024-03-14T15:58:03.773Z"
   },
   {
    "duration": 468,
    "start_time": "2024-03-14T15:58:03.807Z"
   },
   {
    "duration": 4,
    "start_time": "2024-03-14T15:58:04.276Z"
   },
   {
    "duration": 18,
    "start_time": "2024-03-14T15:58:04.281Z"
   },
   {
    "duration": 11,
    "start_time": "2024-03-14T15:58:04.301Z"
   },
   {
    "duration": 13,
    "start_time": "2024-03-14T15:58:04.314Z"
   },
   {
    "duration": 20,
    "start_time": "2024-03-14T15:58:04.329Z"
   },
   {
    "duration": 30,
    "start_time": "2024-03-14T15:58:04.351Z"
   },
   {
    "duration": 842,
    "start_time": "2024-03-14T15:58:04.383Z"
   },
   {
    "duration": 36,
    "start_time": "2024-03-14T15:58:05.226Z"
   },
   {
    "duration": 0,
    "start_time": "2024-03-14T15:58:05.264Z"
   },
   {
    "duration": 0,
    "start_time": "2024-03-14T15:58:05.265Z"
   },
   {
    "duration": 668,
    "start_time": "2024-03-14T16:00:43.962Z"
   },
   {
    "duration": 32,
    "start_time": "2024-03-14T16:01:40.782Z"
   },
   {
    "duration": 500,
    "start_time": "2024-03-14T16:01:42.980Z"
   },
   {
    "duration": 1433,
    "start_time": "2024-03-14T16:02:18.323Z"
   },
   {
    "duration": 885,
    "start_time": "2024-03-14T16:02:19.758Z"
   },
   {
    "duration": 3,
    "start_time": "2024-03-14T16:02:20.644Z"
   },
   {
    "duration": 368,
    "start_time": "2024-03-14T16:02:20.649Z"
   },
   {
    "duration": 157,
    "start_time": "2024-03-14T16:02:21.019Z"
   },
   {
    "duration": 356,
    "start_time": "2024-03-14T16:02:21.178Z"
   },
   {
    "duration": 14,
    "start_time": "2024-03-14T16:02:21.536Z"
   },
   {
    "duration": 28,
    "start_time": "2024-03-14T16:02:21.552Z"
   },
   {
    "duration": 18,
    "start_time": "2024-03-14T16:02:21.581Z"
   },
   {
    "duration": 10,
    "start_time": "2024-03-14T16:02:21.601Z"
   },
   {
    "duration": 16,
    "start_time": "2024-03-14T16:02:21.613Z"
   },
   {
    "duration": 14,
    "start_time": "2024-03-14T16:02:21.631Z"
   },
   {
    "duration": 20,
    "start_time": "2024-03-14T16:02:21.647Z"
   },
   {
    "duration": 9,
    "start_time": "2024-03-14T16:02:21.671Z"
   },
   {
    "duration": 22,
    "start_time": "2024-03-14T16:02:21.682Z"
   },
   {
    "duration": 45,
    "start_time": "2024-03-14T16:02:21.706Z"
   },
   {
    "duration": 3631,
    "start_time": "2024-03-14T16:02:21.753Z"
   },
   {
    "duration": 16,
    "start_time": "2024-03-14T16:02:25.385Z"
   },
   {
    "duration": 33,
    "start_time": "2024-03-14T16:02:25.402Z"
   },
   {
    "duration": 451,
    "start_time": "2024-03-14T16:02:25.436Z"
   },
   {
    "duration": 43,
    "start_time": "2024-03-14T16:02:25.889Z"
   },
   {
    "duration": 484,
    "start_time": "2024-03-14T16:02:25.934Z"
   },
   {
    "duration": 3,
    "start_time": "2024-03-14T16:02:26.420Z"
   },
   {
    "duration": 7,
    "start_time": "2024-03-14T16:02:26.425Z"
   },
   {
    "duration": 26,
    "start_time": "2024-03-14T16:02:26.434Z"
   },
   {
    "duration": 3,
    "start_time": "2024-03-14T16:02:26.465Z"
   },
   {
    "duration": 10,
    "start_time": "2024-03-14T16:02:26.469Z"
   },
   {
    "duration": 14,
    "start_time": "2024-03-14T16:02:26.480Z"
   },
   {
    "duration": 104189,
    "start_time": "2024-03-14T16:02:26.495Z"
   },
   {
    "duration": 1085,
    "start_time": "2024-03-14T16:04:10.686Z"
   },
   {
    "duration": 2038,
    "start_time": "2024-03-14T16:04:11.774Z"
   },
   {
    "duration": 8,
    "start_time": "2024-03-14T16:04:13.814Z"
   },
   {
    "duration": 1466,
    "start_time": "2024-03-14T16:06:28.083Z"
   },
   {
    "duration": 844,
    "start_time": "2024-03-14T16:06:29.551Z"
   },
   {
    "duration": 4,
    "start_time": "2024-03-14T16:06:30.397Z"
   },
   {
    "duration": 450,
    "start_time": "2024-03-14T16:06:30.402Z"
   },
   {
    "duration": 187,
    "start_time": "2024-03-14T16:06:30.854Z"
   },
   {
    "duration": 361,
    "start_time": "2024-03-14T16:06:31.042Z"
   },
   {
    "duration": 13,
    "start_time": "2024-03-14T16:06:31.405Z"
   },
   {
    "duration": 29,
    "start_time": "2024-03-14T16:06:31.420Z"
   },
   {
    "duration": 68,
    "start_time": "2024-03-14T16:06:31.451Z"
   },
   {
    "duration": 22,
    "start_time": "2024-03-14T16:06:31.521Z"
   },
   {
    "duration": 34,
    "start_time": "2024-03-14T16:06:31.544Z"
   },
   {
    "duration": 34,
    "start_time": "2024-03-14T16:06:31.580Z"
   },
   {
    "duration": 24,
    "start_time": "2024-03-14T16:06:31.616Z"
   },
   {
    "duration": 20,
    "start_time": "2024-03-14T16:06:31.643Z"
   },
   {
    "duration": 20,
    "start_time": "2024-03-14T16:06:31.665Z"
   },
   {
    "duration": 17,
    "start_time": "2024-03-14T16:06:31.686Z"
   },
   {
    "duration": 3708,
    "start_time": "2024-03-14T16:06:31.705Z"
   },
   {
    "duration": 15,
    "start_time": "2024-03-14T16:06:35.415Z"
   },
   {
    "duration": 89,
    "start_time": "2024-03-14T16:06:35.431Z"
   },
   {
    "duration": 319,
    "start_time": "2024-03-14T16:06:35.522Z"
   },
   {
    "duration": 274,
    "start_time": "2024-03-14T16:06:35.842Z"
   },
   {
    "duration": 131,
    "start_time": "2024-03-14T16:06:36.118Z"
   },
   {
    "duration": 437,
    "start_time": "2024-03-14T16:06:36.250Z"
   },
   {
    "duration": 35,
    "start_time": "2024-03-14T16:06:36.689Z"
   },
   {
    "duration": 451,
    "start_time": "2024-03-14T16:06:36.726Z"
   },
   {
    "duration": 3,
    "start_time": "2024-03-14T16:06:37.179Z"
   },
   {
    "duration": 18,
    "start_time": "2024-03-14T16:06:37.183Z"
   },
   {
    "duration": 23,
    "start_time": "2024-03-14T16:06:37.202Z"
   },
   {
    "duration": 19,
    "start_time": "2024-03-14T16:06:37.226Z"
   },
   {
    "duration": 33,
    "start_time": "2024-03-14T16:06:37.247Z"
   },
   {
    "duration": 26,
    "start_time": "2024-03-14T16:06:37.281Z"
   },
   {
    "duration": 756,
    "start_time": "2024-03-14T16:06:37.309Z"
   },
   {
    "duration": 46,
    "start_time": "2024-03-14T16:06:38.066Z"
   },
   {
    "duration": 0,
    "start_time": "2024-03-14T16:06:38.114Z"
   },
   {
    "duration": 0,
    "start_time": "2024-03-14T16:06:38.115Z"
   },
   {
    "duration": 20,
    "start_time": "2024-03-14T16:08:57.017Z"
   },
   {
    "duration": 222,
    "start_time": "2024-03-14T16:08:58.473Z"
   },
   {
    "duration": 146,
    "start_time": "2024-03-14T16:09:04.630Z"
   },
   {
    "duration": 140,
    "start_time": "2024-03-14T16:09:08.186Z"
   },
   {
    "duration": 361,
    "start_time": "2024-03-14T16:09:36.005Z"
   },
   {
    "duration": 1980,
    "start_time": "2024-03-14T16:09:42.022Z"
   },
   {
    "duration": 0,
    "start_time": "2024-03-14T16:09:44.004Z"
   },
   {
    "duration": 3,
    "start_time": "2024-03-14T16:10:06.858Z"
   },
   {
    "duration": 4,
    "start_time": "2024-03-14T16:10:07.759Z"
   },
   {
    "duration": 8,
    "start_time": "2024-03-14T16:10:10.530Z"
   },
   {
    "duration": 3,
    "start_time": "2024-03-14T16:10:13.121Z"
   },
   {
    "duration": 2,
    "start_time": "2024-03-14T16:10:14.419Z"
   },
   {
    "duration": 12,
    "start_time": "2024-03-14T16:10:15.142Z"
   },
   {
    "duration": 98726,
    "start_time": "2024-03-14T16:10:17.151Z"
   },
   {
    "duration": 1024,
    "start_time": "2024-03-14T16:12:31.142Z"
   },
   {
    "duration": 1577,
    "start_time": "2024-03-14T16:12:39.738Z"
   },
   {
    "duration": 7,
    "start_time": "2024-03-14T16:12:43.078Z"
   },
   {
    "duration": 1139,
    "start_time": "2024-03-14T16:13:30.770Z"
   },
   {
    "duration": 1506,
    "start_time": "2024-03-14T16:13:34.560Z"
   },
   {
    "duration": 1574,
    "start_time": "2024-03-14T16:14:05.541Z"
   },
   {
    "duration": 822,
    "start_time": "2024-03-14T16:14:07.117Z"
   },
   {
    "duration": 3,
    "start_time": "2024-03-14T16:14:07.941Z"
   },
   {
    "duration": 376,
    "start_time": "2024-03-14T16:14:07.945Z"
   },
   {
    "duration": 172,
    "start_time": "2024-03-14T16:14:08.323Z"
   },
   {
    "duration": 370,
    "start_time": "2024-03-14T16:14:08.497Z"
   },
   {
    "duration": 13,
    "start_time": "2024-03-14T16:14:08.869Z"
   },
   {
    "duration": 4,
    "start_time": "2024-03-14T16:14:08.884Z"
   },
   {
    "duration": 17,
    "start_time": "2024-03-14T16:14:08.890Z"
   },
   {
    "duration": 11,
    "start_time": "2024-03-14T16:14:08.908Z"
   },
   {
    "duration": 15,
    "start_time": "2024-03-14T16:14:08.920Z"
   },
   {
    "duration": 15,
    "start_time": "2024-03-14T16:14:08.966Z"
   },
   {
    "duration": 16,
    "start_time": "2024-03-14T16:14:08.983Z"
   },
   {
    "duration": 10,
    "start_time": "2024-03-14T16:14:09.002Z"
   },
   {
    "duration": 12,
    "start_time": "2024-03-14T16:14:09.014Z"
   },
   {
    "duration": 19,
    "start_time": "2024-03-14T16:14:09.028Z"
   },
   {
    "duration": 3806,
    "start_time": "2024-03-14T16:14:09.049Z"
   },
   {
    "duration": 16,
    "start_time": "2024-03-14T16:14:12.857Z"
   },
   {
    "duration": 37,
    "start_time": "2024-03-14T16:14:12.875Z"
   },
   {
    "duration": 381,
    "start_time": "2024-03-14T16:14:12.914Z"
   },
   {
    "duration": 219,
    "start_time": "2024-03-14T16:14:13.297Z"
   },
   {
    "duration": 135,
    "start_time": "2024-03-14T16:14:13.518Z"
   },
   {
    "duration": 427,
    "start_time": "2024-03-14T16:14:13.655Z"
   },
   {
    "duration": 31,
    "start_time": "2024-03-14T16:14:14.084Z"
   },
   {
    "duration": 442,
    "start_time": "2024-03-14T16:14:14.117Z"
   },
   {
    "duration": 7,
    "start_time": "2024-03-14T16:14:14.561Z"
   },
   {
    "duration": 17,
    "start_time": "2024-03-14T16:14:14.569Z"
   },
   {
    "duration": 24,
    "start_time": "2024-03-14T16:14:14.587Z"
   },
   {
    "duration": 17,
    "start_time": "2024-03-14T16:14:14.613Z"
   },
   {
    "duration": 23,
    "start_time": "2024-03-14T16:14:14.632Z"
   },
   {
    "duration": 20,
    "start_time": "2024-03-14T16:14:14.657Z"
   },
   {
    "duration": 103893,
    "start_time": "2024-03-14T16:14:14.679Z"
   },
   {
    "duration": 1005,
    "start_time": "2024-03-14T16:15:58.574Z"
   },
   {
    "duration": 1795,
    "start_time": "2024-03-14T16:15:59.666Z"
   },
   {
    "duration": 7,
    "start_time": "2024-03-14T16:16:01.466Z"
   },
   {
    "duration": 1678,
    "start_time": "2024-03-15T11:08:35.800Z"
   },
   {
    "duration": 2130,
    "start_time": "2024-03-15T11:08:37.480Z"
   },
   {
    "duration": 4,
    "start_time": "2024-03-15T11:08:39.612Z"
   },
   {
    "duration": 360,
    "start_time": "2024-03-15T11:08:39.617Z"
   },
   {
    "duration": 150,
    "start_time": "2024-03-15T11:08:39.979Z"
   },
   {
    "duration": 342,
    "start_time": "2024-03-15T11:08:40.131Z"
   },
   {
    "duration": 14,
    "start_time": "2024-03-15T11:08:40.475Z"
   },
   {
    "duration": 4,
    "start_time": "2024-03-15T11:08:40.490Z"
   },
   {
    "duration": 18,
    "start_time": "2024-03-15T11:08:40.496Z"
   },
   {
    "duration": 19,
    "start_time": "2024-03-15T11:08:40.515Z"
   },
   {
    "duration": 21,
    "start_time": "2024-03-15T11:08:40.535Z"
   },
   {
    "duration": 42,
    "start_time": "2024-03-15T11:08:40.558Z"
   },
   {
    "duration": 10,
    "start_time": "2024-03-15T11:08:40.601Z"
   },
   {
    "duration": 8,
    "start_time": "2024-03-15T11:08:40.613Z"
   },
   {
    "duration": 5,
    "start_time": "2024-03-15T11:08:40.623Z"
   },
   {
    "duration": 18,
    "start_time": "2024-03-15T11:08:40.630Z"
   },
   {
    "duration": 3576,
    "start_time": "2024-03-15T11:08:40.649Z"
   },
   {
    "duration": 15,
    "start_time": "2024-03-15T11:08:44.226Z"
   },
   {
    "duration": 60,
    "start_time": "2024-03-15T11:08:44.243Z"
   },
   {
    "duration": 2,
    "start_time": "2024-03-15T11:08:44.304Z"
   },
   {
    "duration": 251,
    "start_time": "2024-03-15T11:08:44.308Z"
   },
   {
    "duration": 279,
    "start_time": "2024-03-15T11:08:44.561Z"
   },
   {
    "duration": 143,
    "start_time": "2024-03-15T11:08:44.842Z"
   },
   {
    "duration": 399,
    "start_time": "2024-03-15T11:08:44.986Z"
   },
   {
    "duration": 44,
    "start_time": "2024-03-15T11:08:45.387Z"
   },
   {
    "duration": 438,
    "start_time": "2024-03-15T11:08:45.433Z"
   },
   {
    "duration": 3,
    "start_time": "2024-03-15T11:08:45.873Z"
   },
   {
    "duration": 15,
    "start_time": "2024-03-15T11:08:45.878Z"
   },
   {
    "duration": 28,
    "start_time": "2024-03-15T11:08:45.895Z"
   },
   {
    "duration": 13,
    "start_time": "2024-03-15T11:08:45.924Z"
   },
   {
    "duration": 26,
    "start_time": "2024-03-15T11:08:45.940Z"
   },
   {
    "duration": 27,
    "start_time": "2024-03-15T11:08:45.967Z"
   },
   {
    "duration": 103002,
    "start_time": "2024-03-15T11:08:45.996Z"
   },
   {
    "duration": 1068,
    "start_time": "2024-03-15T11:10:28.999Z"
   },
   {
    "duration": 1797,
    "start_time": "2024-03-15T11:10:30.075Z"
   },
   {
    "duration": 7,
    "start_time": "2024-03-15T11:10:31.874Z"
   },
   {
    "duration": 64,
    "start_time": "2024-03-15T11:10:31.884Z"
   },
   {
    "duration": 227,
    "start_time": "2024-03-15T11:31:42.744Z"
   },
   {
    "duration": 155,
    "start_time": "2024-03-15T11:31:50.426Z"
   },
   {
    "duration": 125,
    "start_time": "2024-03-15T11:31:51.196Z"
   },
   {
    "duration": 356,
    "start_time": "2024-03-15T11:31:55.209Z"
   },
   {
    "duration": 1493,
    "start_time": "2024-03-15T11:32:00.375Z"
   },
   {
    "duration": 1496,
    "start_time": "2024-03-15T11:32:39.357Z"
   },
   {
    "duration": 829,
    "start_time": "2024-03-15T11:32:40.854Z"
   },
   {
    "duration": 3,
    "start_time": "2024-03-15T11:32:41.684Z"
   },
   {
    "duration": 343,
    "start_time": "2024-03-15T11:32:41.688Z"
   },
   {
    "duration": 144,
    "start_time": "2024-03-15T11:32:42.033Z"
   },
   {
    "duration": 339,
    "start_time": "2024-03-15T11:32:42.179Z"
   },
   {
    "duration": 13,
    "start_time": "2024-03-15T11:32:42.520Z"
   },
   {
    "duration": 9,
    "start_time": "2024-03-15T11:32:42.535Z"
   },
   {
    "duration": 21,
    "start_time": "2024-03-15T11:32:42.545Z"
   },
   {
    "duration": 5,
    "start_time": "2024-03-15T11:32:42.568Z"
   },
   {
    "duration": 24,
    "start_time": "2024-03-15T11:32:42.575Z"
   },
   {
    "duration": 17,
    "start_time": "2024-03-15T11:32:42.601Z"
   },
   {
    "duration": 10,
    "start_time": "2024-03-15T11:32:42.620Z"
   },
   {
    "duration": 10,
    "start_time": "2024-03-15T11:32:42.632Z"
   },
   {
    "duration": 24,
    "start_time": "2024-03-15T11:32:42.643Z"
   },
   {
    "duration": 12,
    "start_time": "2024-03-15T11:32:42.669Z"
   },
   {
    "duration": 3693,
    "start_time": "2024-03-15T11:32:42.683Z"
   },
   {
    "duration": 13,
    "start_time": "2024-03-15T11:32:46.378Z"
   },
   {
    "duration": 72,
    "start_time": "2024-03-15T11:32:46.393Z"
   },
   {
    "duration": 85,
    "start_time": "2024-03-15T11:32:46.467Z"
   },
   {
    "duration": 321,
    "start_time": "2024-03-15T11:32:46.554Z"
   },
   {
    "duration": 217,
    "start_time": "2024-03-15T11:32:46.876Z"
   },
   {
    "duration": 148,
    "start_time": "2024-03-15T11:32:47.095Z"
   },
   {
    "duration": 412,
    "start_time": "2024-03-15T11:32:47.244Z"
   },
   {
    "duration": 35,
    "start_time": "2024-03-15T11:32:47.658Z"
   },
   {
    "duration": 416,
    "start_time": "2024-03-15T11:32:47.694Z"
   },
   {
    "duration": 3,
    "start_time": "2024-03-15T11:32:48.112Z"
   },
   {
    "duration": 31,
    "start_time": "2024-03-15T11:32:48.116Z"
   },
   {
    "duration": 44,
    "start_time": "2024-03-15T11:32:48.149Z"
   },
   {
    "duration": 42,
    "start_time": "2024-03-15T11:32:48.195Z"
   },
   {
    "duration": 42,
    "start_time": "2024-03-15T11:32:48.238Z"
   },
   {
    "duration": 48,
    "start_time": "2024-03-15T11:32:48.281Z"
   },
   {
    "duration": 753,
    "start_time": "2024-03-15T11:32:48.331Z"
   },
   {
    "duration": 36,
    "start_time": "2024-03-15T11:32:49.086Z"
   },
   {
    "duration": 0,
    "start_time": "2024-03-15T11:32:49.124Z"
   },
   {
    "duration": 0,
    "start_time": "2024-03-15T11:32:49.125Z"
   },
   {
    "duration": 17,
    "start_time": "2024-03-15T11:35:06.787Z"
   },
   {
    "duration": 30,
    "start_time": "2024-03-15T11:36:04.679Z"
   },
   {
    "duration": 225,
    "start_time": "2024-03-15T11:36:08.393Z"
   },
   {
    "duration": 143,
    "start_time": "2024-03-15T11:36:12.157Z"
   },
   {
    "duration": 125,
    "start_time": "2024-03-15T11:36:14.593Z"
   },
   {
    "duration": 401,
    "start_time": "2024-03-15T11:36:17.084Z"
   },
   {
    "duration": 1274,
    "start_time": "2024-03-15T11:36:24.663Z"
   },
   {
    "duration": 1375,
    "start_time": "2024-03-15T11:36:31.360Z"
   },
   {
    "duration": 1435,
    "start_time": "2024-03-15T11:36:56.088Z"
   },
   {
    "duration": 813,
    "start_time": "2024-03-15T11:36:57.525Z"
   },
   {
    "duration": 2,
    "start_time": "2024-03-15T11:36:58.340Z"
   },
   {
    "duration": 353,
    "start_time": "2024-03-15T11:36:58.344Z"
   },
   {
    "duration": 151,
    "start_time": "2024-03-15T11:36:58.700Z"
   },
   {
    "duration": 386,
    "start_time": "2024-03-15T11:36:58.852Z"
   },
   {
    "duration": 13,
    "start_time": "2024-03-15T11:36:59.240Z"
   },
   {
    "duration": 5,
    "start_time": "2024-03-15T11:36:59.265Z"
   },
   {
    "duration": 27,
    "start_time": "2024-03-15T11:36:59.271Z"
   },
   {
    "duration": 21,
    "start_time": "2024-03-15T11:36:59.299Z"
   },
   {
    "duration": 26,
    "start_time": "2024-03-15T11:36:59.322Z"
   },
   {
    "duration": 23,
    "start_time": "2024-03-15T11:36:59.350Z"
   },
   {
    "duration": 12,
    "start_time": "2024-03-15T11:36:59.375Z"
   },
   {
    "duration": 46,
    "start_time": "2024-03-15T11:36:59.389Z"
   },
   {
    "duration": 2,
    "start_time": "2024-03-15T11:36:59.436Z"
   },
   {
    "duration": 23,
    "start_time": "2024-03-15T11:36:59.440Z"
   },
   {
    "duration": 3616,
    "start_time": "2024-03-15T11:36:59.464Z"
   },
   {
    "duration": 14,
    "start_time": "2024-03-15T11:37:03.082Z"
   },
   {
    "duration": 35,
    "start_time": "2024-03-15T11:37:03.097Z"
   },
   {
    "duration": 2,
    "start_time": "2024-03-15T11:37:03.133Z"
   },
   {
    "duration": 256,
    "start_time": "2024-03-15T11:37:03.137Z"
   },
   {
    "duration": 220,
    "start_time": "2024-03-15T11:37:03.394Z"
   },
   {
    "duration": 131,
    "start_time": "2024-03-15T11:37:03.616Z"
   },
   {
    "duration": 524,
    "start_time": "2024-03-15T11:37:03.748Z"
   },
   {
    "duration": 32,
    "start_time": "2024-03-15T11:37:04.273Z"
   },
   {
    "duration": 426,
    "start_time": "2024-03-15T11:37:04.306Z"
   },
   {
    "duration": 3,
    "start_time": "2024-03-15T11:37:04.734Z"
   },
   {
    "duration": 15,
    "start_time": "2024-03-15T11:37:04.739Z"
   },
   {
    "duration": 20,
    "start_time": "2024-03-15T11:37:04.755Z"
   },
   {
    "duration": 9,
    "start_time": "2024-03-15T11:37:04.776Z"
   },
   {
    "duration": 7,
    "start_time": "2024-03-15T11:37:04.787Z"
   },
   {
    "duration": 10,
    "start_time": "2024-03-15T11:37:04.795Z"
   },
   {
    "duration": 728,
    "start_time": "2024-03-15T11:37:04.807Z"
   },
   {
    "duration": 33,
    "start_time": "2024-03-15T11:37:05.537Z"
   },
   {
    "duration": 0,
    "start_time": "2024-03-15T11:37:05.571Z"
   },
   {
    "duration": 0,
    "start_time": "2024-03-15T11:37:05.573Z"
   },
   {
    "duration": 31,
    "start_time": "2024-03-15T11:41:29.579Z"
   },
   {
    "duration": 2,
    "start_time": "2024-03-15T11:41:31.381Z"
   },
   {
    "duration": 317,
    "start_time": "2024-03-15T11:41:32.188Z"
   },
   {
    "duration": 168,
    "start_time": "2024-03-15T11:41:36.095Z"
   },
   {
    "duration": 140,
    "start_time": "2024-03-15T11:41:37.384Z"
   },
   {
    "duration": 367,
    "start_time": "2024-03-15T11:41:40.809Z"
   },
   {
    "duration": 1077,
    "start_time": "2024-03-15T11:41:45.209Z"
   },
   {
    "duration": 1424,
    "start_time": "2024-03-15T11:41:52.441Z"
   },
   {
    "duration": 3,
    "start_time": "2024-03-15T11:41:58.553Z"
   },
   {
    "duration": 3,
    "start_time": "2024-03-15T11:41:59.317Z"
   },
   {
    "duration": 1403,
    "start_time": "2024-03-15T11:42:17.828Z"
   },
   {
    "duration": 838,
    "start_time": "2024-03-15T11:42:19.232Z"
   },
   {
    "duration": 3,
    "start_time": "2024-03-15T11:42:20.071Z"
   },
   {
    "duration": 367,
    "start_time": "2024-03-15T11:42:20.077Z"
   },
   {
    "duration": 148,
    "start_time": "2024-03-15T11:42:20.445Z"
   },
   {
    "duration": 371,
    "start_time": "2024-03-15T11:42:20.595Z"
   },
   {
    "duration": 13,
    "start_time": "2024-03-15T11:42:20.968Z"
   },
   {
    "duration": 26,
    "start_time": "2024-03-15T11:42:20.983Z"
   },
   {
    "duration": 28,
    "start_time": "2024-03-15T11:42:21.011Z"
   },
   {
    "duration": 14,
    "start_time": "2024-03-15T11:42:21.042Z"
   },
   {
    "duration": 30,
    "start_time": "2024-03-15T11:42:21.058Z"
   },
   {
    "duration": 37,
    "start_time": "2024-03-15T11:42:21.090Z"
   },
   {
    "duration": 26,
    "start_time": "2024-03-15T11:42:21.128Z"
   },
   {
    "duration": 30,
    "start_time": "2024-03-15T11:42:21.156Z"
   },
   {
    "duration": 15,
    "start_time": "2024-03-15T11:42:21.188Z"
   },
   {
    "duration": 16,
    "start_time": "2024-03-15T11:42:21.204Z"
   },
   {
    "duration": 3533,
    "start_time": "2024-03-15T11:42:21.222Z"
   },
   {
    "duration": 19,
    "start_time": "2024-03-15T11:42:24.757Z"
   },
   {
    "duration": 35,
    "start_time": "2024-03-15T11:42:24.777Z"
   },
   {
    "duration": 2,
    "start_time": "2024-03-15T11:42:24.814Z"
   },
   {
    "duration": 251,
    "start_time": "2024-03-15T11:42:24.817Z"
   },
   {
    "duration": 233,
    "start_time": "2024-03-15T11:42:25.069Z"
   },
   {
    "duration": 136,
    "start_time": "2024-03-15T11:42:25.303Z"
   },
   {
    "duration": 430,
    "start_time": "2024-03-15T11:42:25.440Z"
   },
   {
    "duration": 37,
    "start_time": "2024-03-15T11:42:25.872Z"
   },
   {
    "duration": 433,
    "start_time": "2024-03-15T11:42:25.911Z"
   },
   {
    "duration": 3,
    "start_time": "2024-03-15T11:42:26.346Z"
   },
   {
    "duration": 9,
    "start_time": "2024-03-15T11:42:26.351Z"
   },
   {
    "duration": 11,
    "start_time": "2024-03-15T11:42:26.365Z"
   },
   {
    "duration": 8,
    "start_time": "2024-03-15T11:42:26.378Z"
   },
   {
    "duration": 10,
    "start_time": "2024-03-15T11:42:26.387Z"
   },
   {
    "duration": 14,
    "start_time": "2024-03-15T11:42:26.398Z"
   },
   {
    "duration": 736,
    "start_time": "2024-03-15T11:42:26.413Z"
   },
   {
    "duration": 33,
    "start_time": "2024-03-15T11:42:27.150Z"
   },
   {
    "duration": 0,
    "start_time": "2024-03-15T11:42:27.184Z"
   },
   {
    "duration": 0,
    "start_time": "2024-03-15T11:42:27.186Z"
   },
   {
    "duration": 1389,
    "start_time": "2024-03-15T11:59:28.311Z"
   },
   {
    "duration": 830,
    "start_time": "2024-03-15T11:59:29.701Z"
   },
   {
    "duration": 3,
    "start_time": "2024-03-15T11:59:30.532Z"
   },
   {
    "duration": 423,
    "start_time": "2024-03-15T11:59:30.538Z"
   },
   {
    "duration": 155,
    "start_time": "2024-03-15T11:59:30.963Z"
   },
   {
    "duration": 375,
    "start_time": "2024-03-15T11:59:31.120Z"
   },
   {
    "duration": 13,
    "start_time": "2024-03-15T11:59:31.496Z"
   },
   {
    "duration": 63,
    "start_time": "2024-03-15T11:59:31.511Z"
   },
   {
    "duration": 53,
    "start_time": "2024-03-15T11:59:31.575Z"
   },
   {
    "duration": 44,
    "start_time": "2024-03-15T11:59:31.631Z"
   },
   {
    "duration": 32,
    "start_time": "2024-03-15T11:59:31.677Z"
   },
   {
    "duration": 28,
    "start_time": "2024-03-15T11:59:31.710Z"
   },
   {
    "duration": 36,
    "start_time": "2024-03-15T11:59:31.739Z"
   },
   {
    "duration": 41,
    "start_time": "2024-03-15T11:59:31.776Z"
   },
   {
    "duration": 34,
    "start_time": "2024-03-15T11:59:31.818Z"
   },
   {
    "duration": 31,
    "start_time": "2024-03-15T11:59:31.853Z"
   },
   {
    "duration": 3576,
    "start_time": "2024-03-15T11:59:31.886Z"
   },
   {
    "duration": 16,
    "start_time": "2024-03-15T11:59:35.465Z"
   },
   {
    "duration": 32,
    "start_time": "2024-03-15T11:59:35.483Z"
   },
   {
    "duration": 3,
    "start_time": "2024-03-15T11:59:35.516Z"
   },
   {
    "duration": 284,
    "start_time": "2024-03-15T11:59:35.520Z"
   },
   {
    "duration": 242,
    "start_time": "2024-03-15T11:59:35.806Z"
   },
   {
    "duration": 132,
    "start_time": "2024-03-15T11:59:36.050Z"
   },
   {
    "duration": 386,
    "start_time": "2024-03-15T11:59:36.184Z"
   },
   {
    "duration": 32,
    "start_time": "2024-03-15T11:59:36.571Z"
   },
   {
    "duration": 441,
    "start_time": "2024-03-15T11:59:36.604Z"
   },
   {
    "duration": 3,
    "start_time": "2024-03-15T11:59:37.047Z"
   },
   {
    "duration": 3,
    "start_time": "2024-03-15T11:59:37.065Z"
   },
   {
    "duration": 23,
    "start_time": "2024-03-15T11:59:37.070Z"
   },
   {
    "duration": 11,
    "start_time": "2024-03-15T11:59:37.094Z"
   },
   {
    "duration": 7,
    "start_time": "2024-03-15T11:59:37.107Z"
   },
   {
    "duration": 12,
    "start_time": "2024-03-15T11:59:37.116Z"
   },
   {
    "duration": 689,
    "start_time": "2024-03-15T11:59:37.130Z"
   },
   {
    "duration": 34,
    "start_time": "2024-03-15T11:59:37.820Z"
   },
   {
    "duration": 0,
    "start_time": "2024-03-15T11:59:37.855Z"
   },
   {
    "duration": 0,
    "start_time": "2024-03-15T11:59:37.857Z"
   },
   {
    "duration": 1414,
    "start_time": "2024-03-15T12:03:57.783Z"
   },
   {
    "duration": 807,
    "start_time": "2024-03-15T12:03:59.200Z"
   },
   {
    "duration": 4,
    "start_time": "2024-03-15T12:04:00.008Z"
   },
   {
    "duration": 399,
    "start_time": "2024-03-15T12:04:00.013Z"
   },
   {
    "duration": 152,
    "start_time": "2024-03-15T12:04:00.414Z"
   },
   {
    "duration": 353,
    "start_time": "2024-03-15T12:04:00.568Z"
   },
   {
    "duration": 14,
    "start_time": "2024-03-15T12:04:00.922Z"
   },
   {
    "duration": 77,
    "start_time": "2024-03-15T12:04:00.937Z"
   },
   {
    "duration": 155,
    "start_time": "2024-03-15T12:04:01.016Z"
   },
   {
    "duration": 48,
    "start_time": "2024-03-15T12:04:01.172Z"
   },
   {
    "duration": 100,
    "start_time": "2024-03-15T12:04:01.222Z"
   },
   {
    "duration": 112,
    "start_time": "2024-03-15T12:04:01.324Z"
   },
   {
    "duration": 68,
    "start_time": "2024-03-15T12:04:01.438Z"
   },
   {
    "duration": 69,
    "start_time": "2024-03-15T12:04:01.509Z"
   },
   {
    "duration": 88,
    "start_time": "2024-03-15T12:04:01.580Z"
   },
   {
    "duration": 82,
    "start_time": "2024-03-15T12:04:01.671Z"
   },
   {
    "duration": 3673,
    "start_time": "2024-03-15T12:04:01.754Z"
   },
   {
    "duration": 14,
    "start_time": "2024-03-15T12:04:05.429Z"
   },
   {
    "duration": 47,
    "start_time": "2024-03-15T12:04:05.444Z"
   },
   {
    "duration": 17,
    "start_time": "2024-03-15T12:04:05.492Z"
   },
   {
    "duration": 223,
    "start_time": "2024-03-15T12:04:05.510Z"
   },
   {
    "duration": 247,
    "start_time": "2024-03-15T12:04:05.735Z"
   },
   {
    "duration": 131,
    "start_time": "2024-03-15T12:04:05.984Z"
   },
   {
    "duration": 452,
    "start_time": "2024-03-15T12:04:06.117Z"
   },
   {
    "duration": 30,
    "start_time": "2024-03-15T12:04:06.570Z"
   },
   {
    "duration": 456,
    "start_time": "2024-03-15T12:04:06.602Z"
   },
   {
    "duration": 7,
    "start_time": "2024-03-15T12:04:07.060Z"
   },
   {
    "duration": 7,
    "start_time": "2024-03-15T12:04:07.068Z"
   },
   {
    "duration": 32,
    "start_time": "2024-03-15T12:04:07.076Z"
   },
   {
    "duration": 22,
    "start_time": "2024-03-15T12:04:07.110Z"
   },
   {
    "duration": 16,
    "start_time": "2024-03-15T12:04:07.134Z"
   },
   {
    "duration": 18,
    "start_time": "2024-03-15T12:04:07.152Z"
   },
   {
    "duration": 89527,
    "start_time": "2024-03-15T12:04:07.172Z"
   },
   {
    "duration": 766,
    "start_time": "2024-03-15T12:05:36.700Z"
   },
   {
    "duration": 1575,
    "start_time": "2024-03-15T12:05:37.469Z"
   },
   {
    "duration": 8,
    "start_time": "2024-03-15T12:05:39.046Z"
   },
   {
    "duration": 1404,
    "start_time": "2024-03-15T12:15:38.054Z"
   },
   {
    "duration": 834,
    "start_time": "2024-03-15T12:15:39.460Z"
   },
   {
    "duration": 3,
    "start_time": "2024-03-15T12:15:40.295Z"
   },
   {
    "duration": 352,
    "start_time": "2024-03-15T12:15:40.300Z"
   },
   {
    "duration": 178,
    "start_time": "2024-03-15T12:15:40.653Z"
   },
   {
    "duration": 357,
    "start_time": "2024-03-15T12:15:40.833Z"
   },
   {
    "duration": 13,
    "start_time": "2024-03-15T12:15:41.191Z"
   },
   {
    "duration": 4,
    "start_time": "2024-03-15T12:15:41.205Z"
   },
   {
    "duration": 18,
    "start_time": "2024-03-15T12:15:41.211Z"
   },
   {
    "duration": 5,
    "start_time": "2024-03-15T12:15:41.231Z"
   },
   {
    "duration": 35,
    "start_time": "2024-03-15T12:15:41.237Z"
   },
   {
    "duration": 12,
    "start_time": "2024-03-15T12:15:41.273Z"
   },
   {
    "duration": 22,
    "start_time": "2024-03-15T12:15:41.286Z"
   },
   {
    "duration": 42,
    "start_time": "2024-03-15T12:15:41.309Z"
   },
   {
    "duration": 14,
    "start_time": "2024-03-15T12:15:41.352Z"
   },
   {
    "duration": 5,
    "start_time": "2024-03-15T12:15:41.367Z"
   },
   {
    "duration": 7,
    "start_time": "2024-03-15T12:15:41.373Z"
   },
   {
    "duration": 3441,
    "start_time": "2024-03-15T12:15:41.381Z"
   },
   {
    "duration": 13,
    "start_time": "2024-03-15T12:15:44.824Z"
   },
   {
    "duration": 42,
    "start_time": "2024-03-15T12:15:44.838Z"
   },
   {
    "duration": 238,
    "start_time": "2024-03-15T12:15:44.881Z"
   },
   {
    "duration": 246,
    "start_time": "2024-03-15T12:15:45.120Z"
   },
   {
    "duration": 134,
    "start_time": "2024-03-15T12:15:45.368Z"
   },
   {
    "duration": 475,
    "start_time": "2024-03-15T12:15:45.503Z"
   },
   {
    "duration": 30,
    "start_time": "2024-03-15T12:15:45.980Z"
   },
   {
    "duration": 413,
    "start_time": "2024-03-15T12:15:46.011Z"
   },
   {
    "duration": 3,
    "start_time": "2024-03-15T12:15:46.426Z"
   },
   {
    "duration": 15,
    "start_time": "2024-03-15T12:15:46.432Z"
   },
   {
    "duration": 17,
    "start_time": "2024-03-15T12:15:46.449Z"
   },
   {
    "duration": 7,
    "start_time": "2024-03-15T12:15:46.468Z"
   },
   {
    "duration": 9,
    "start_time": "2024-03-15T12:15:46.477Z"
   },
   {
    "duration": 19,
    "start_time": "2024-03-15T12:15:46.488Z"
   },
   {
    "duration": 737,
    "start_time": "2024-03-15T12:15:46.509Z"
   },
   {
    "duration": 32,
    "start_time": "2024-03-15T12:15:47.247Z"
   },
   {
    "duration": 0,
    "start_time": "2024-03-15T12:15:47.281Z"
   },
   {
    "duration": 0,
    "start_time": "2024-03-15T12:15:47.282Z"
   },
   {
    "duration": 41,
    "start_time": "2024-03-15T12:18:48.270Z"
   },
   {
    "duration": 30,
    "start_time": "2024-03-15T12:18:54.046Z"
   },
   {
    "duration": 294,
    "start_time": "2024-03-15T12:18:54.527Z"
   },
   {
    "duration": 176,
    "start_time": "2024-03-15T12:18:56.252Z"
   },
   {
    "duration": 132,
    "start_time": "2024-03-15T12:18:57.638Z"
   },
   {
    "duration": 392,
    "start_time": "2024-03-15T12:19:02.979Z"
   },
   {
    "duration": 1121,
    "start_time": "2024-03-15T12:19:06.453Z"
   },
   {
    "duration": 1421,
    "start_time": "2024-03-15T12:19:19.705Z"
   },
   {
    "duration": 809,
    "start_time": "2024-03-15T12:19:21.128Z"
   },
   {
    "duration": 3,
    "start_time": "2024-03-15T12:19:21.939Z"
   },
   {
    "duration": 361,
    "start_time": "2024-03-15T12:19:21.944Z"
   },
   {
    "duration": 163,
    "start_time": "2024-03-15T12:19:22.307Z"
   },
   {
    "duration": 362,
    "start_time": "2024-03-15T12:19:22.472Z"
   },
   {
    "duration": 13,
    "start_time": "2024-03-15T12:19:22.835Z"
   },
   {
    "duration": 4,
    "start_time": "2024-03-15T12:19:22.849Z"
   },
   {
    "duration": 10,
    "start_time": "2024-03-15T12:19:22.866Z"
   },
   {
    "duration": 5,
    "start_time": "2024-03-15T12:19:22.879Z"
   },
   {
    "duration": 17,
    "start_time": "2024-03-15T12:19:22.885Z"
   },
   {
    "duration": 13,
    "start_time": "2024-03-15T12:19:22.903Z"
   },
   {
    "duration": 9,
    "start_time": "2024-03-15T12:19:22.917Z"
   },
   {
    "duration": 40,
    "start_time": "2024-03-15T12:19:22.928Z"
   },
   {
    "duration": 3,
    "start_time": "2024-03-15T12:19:22.969Z"
   },
   {
    "duration": 28,
    "start_time": "2024-03-15T12:19:22.973Z"
   },
   {
    "duration": 3732,
    "start_time": "2024-03-15T12:19:23.002Z"
   },
   {
    "duration": 15,
    "start_time": "2024-03-15T12:19:26.736Z"
   },
   {
    "duration": 62,
    "start_time": "2024-03-15T12:19:26.765Z"
   },
   {
    "duration": 31,
    "start_time": "2024-03-15T12:19:26.829Z"
   },
   {
    "duration": 253,
    "start_time": "2024-03-15T12:19:26.862Z"
   },
   {
    "duration": 221,
    "start_time": "2024-03-15T12:19:27.116Z"
   },
   {
    "duration": 141,
    "start_time": "2024-03-15T12:19:27.339Z"
   },
   {
    "duration": 381,
    "start_time": "2024-03-15T12:19:27.482Z"
   },
   {
    "duration": 30,
    "start_time": "2024-03-15T12:19:27.864Z"
   },
   {
    "duration": 452,
    "start_time": "2024-03-15T12:19:27.896Z"
   },
   {
    "duration": 3,
    "start_time": "2024-03-15T12:19:28.350Z"
   },
   {
    "duration": 41,
    "start_time": "2024-03-15T12:19:28.367Z"
   },
   {
    "duration": 32,
    "start_time": "2024-03-15T12:19:28.410Z"
   },
   {
    "duration": 47,
    "start_time": "2024-03-15T12:19:28.444Z"
   },
   {
    "duration": 25,
    "start_time": "2024-03-15T12:19:28.493Z"
   },
   {
    "duration": 41,
    "start_time": "2024-03-15T12:19:28.519Z"
   },
   {
    "duration": 799,
    "start_time": "2024-03-15T12:19:28.562Z"
   },
   {
    "duration": 34,
    "start_time": "2024-03-15T12:19:29.363Z"
   },
   {
    "duration": 0,
    "start_time": "2024-03-15T12:19:29.399Z"
   },
   {
    "duration": 0,
    "start_time": "2024-03-15T12:19:29.400Z"
   },
   {
    "duration": 1374,
    "start_time": "2024-03-15T12:23:59.007Z"
   },
   {
    "duration": 900,
    "start_time": "2024-03-15T12:24:00.383Z"
   },
   {
    "duration": 3,
    "start_time": "2024-03-15T12:24:01.285Z"
   },
   {
    "duration": 403,
    "start_time": "2024-03-15T12:24:01.289Z"
   },
   {
    "duration": 155,
    "start_time": "2024-03-15T12:24:01.695Z"
   },
   {
    "duration": 356,
    "start_time": "2024-03-15T12:24:01.852Z"
   },
   {
    "duration": 13,
    "start_time": "2024-03-15T12:24:02.210Z"
   },
   {
    "duration": 19,
    "start_time": "2024-03-15T12:24:02.224Z"
   },
   {
    "duration": 40,
    "start_time": "2024-03-15T12:24:02.245Z"
   },
   {
    "duration": 21,
    "start_time": "2024-03-15T12:24:02.287Z"
   },
   {
    "duration": 46,
    "start_time": "2024-03-15T12:24:02.310Z"
   },
   {
    "duration": 43,
    "start_time": "2024-03-15T12:24:02.358Z"
   },
   {
    "duration": 43,
    "start_time": "2024-03-15T12:24:02.403Z"
   },
   {
    "duration": 65,
    "start_time": "2024-03-15T12:24:02.449Z"
   },
   {
    "duration": 17,
    "start_time": "2024-03-15T12:24:02.516Z"
   },
   {
    "duration": 25,
    "start_time": "2024-03-15T12:24:02.535Z"
   },
   {
    "duration": 31,
    "start_time": "2024-03-15T12:24:02.562Z"
   },
   {
    "duration": 3785,
    "start_time": "2024-03-15T12:24:02.595Z"
   },
   {
    "duration": 13,
    "start_time": "2024-03-15T12:24:06.382Z"
   },
   {
    "duration": 60,
    "start_time": "2024-03-15T12:24:06.396Z"
   },
   {
    "duration": 229,
    "start_time": "2024-03-15T12:24:06.457Z"
   },
   {
    "duration": 240,
    "start_time": "2024-03-15T12:24:06.688Z"
   },
   {
    "duration": 137,
    "start_time": "2024-03-15T12:24:06.929Z"
   },
   {
    "duration": 506,
    "start_time": "2024-03-15T12:24:07.068Z"
   },
   {
    "duration": 30,
    "start_time": "2024-03-15T12:24:07.575Z"
   },
   {
    "duration": 445,
    "start_time": "2024-03-15T12:24:07.607Z"
   },
   {
    "duration": 11,
    "start_time": "2024-03-15T12:24:08.054Z"
   },
   {
    "duration": 4,
    "start_time": "2024-03-15T12:24:08.067Z"
   },
   {
    "duration": 18,
    "start_time": "2024-03-15T12:24:08.072Z"
   },
   {
    "duration": 9,
    "start_time": "2024-03-15T12:24:08.092Z"
   },
   {
    "duration": 10,
    "start_time": "2024-03-15T12:24:08.102Z"
   },
   {
    "duration": 14,
    "start_time": "2024-03-15T12:24:08.113Z"
   },
   {
    "duration": 737,
    "start_time": "2024-03-15T12:24:08.128Z"
   },
   {
    "duration": 37,
    "start_time": "2024-03-15T12:24:08.867Z"
   },
   {
    "duration": 0,
    "start_time": "2024-03-15T12:24:08.906Z"
   },
   {
    "duration": 0,
    "start_time": "2024-03-15T12:24:08.907Z"
   },
   {
    "duration": 8,
    "start_time": "2024-03-15T12:39:28.381Z"
   },
   {
    "duration": 1484,
    "start_time": "2024-03-15T12:39:40.077Z"
   },
   {
    "duration": 869,
    "start_time": "2024-03-15T12:39:41.563Z"
   },
   {
    "duration": 3,
    "start_time": "2024-03-15T12:39:42.434Z"
   },
   {
    "duration": 413,
    "start_time": "2024-03-15T12:39:42.439Z"
   },
   {
    "duration": 163,
    "start_time": "2024-03-15T12:39:42.853Z"
   },
   {
    "duration": 366,
    "start_time": "2024-03-15T12:39:43.017Z"
   },
   {
    "duration": 14,
    "start_time": "2024-03-15T12:39:43.384Z"
   },
   {
    "duration": 4,
    "start_time": "2024-03-15T12:39:43.399Z"
   },
   {
    "duration": 25,
    "start_time": "2024-03-15T12:39:43.404Z"
   },
   {
    "duration": 19,
    "start_time": "2024-03-15T12:39:43.431Z"
   },
   {
    "duration": 29,
    "start_time": "2024-03-15T12:39:43.451Z"
   },
   {
    "duration": 24,
    "start_time": "2024-03-15T12:39:43.482Z"
   },
   {
    "duration": 9,
    "start_time": "2024-03-15T12:39:43.508Z"
   },
   {
    "duration": 9,
    "start_time": "2024-03-15T12:39:43.519Z"
   },
   {
    "duration": 5,
    "start_time": "2024-03-15T12:39:43.530Z"
   },
   {
    "duration": 6,
    "start_time": "2024-03-15T12:39:43.536Z"
   },
   {
    "duration": 3873,
    "start_time": "2024-03-15T12:39:43.543Z"
   },
   {
    "duration": 16,
    "start_time": "2024-03-15T12:39:47.418Z"
   },
   {
    "duration": 56,
    "start_time": "2024-03-15T12:39:47.435Z"
   },
   {
    "duration": 254,
    "start_time": "2024-03-15T12:39:47.492Z"
   },
   {
    "duration": 234,
    "start_time": "2024-03-15T12:39:47.748Z"
   },
   {
    "duration": 137,
    "start_time": "2024-03-15T12:39:47.984Z"
   },
   {
    "duration": 452,
    "start_time": "2024-03-15T12:39:48.122Z"
   },
   {
    "duration": 31,
    "start_time": "2024-03-15T12:39:48.576Z"
   },
   {
    "duration": 485,
    "start_time": "2024-03-15T12:39:48.609Z"
   },
   {
    "duration": 3,
    "start_time": "2024-03-15T12:39:49.096Z"
   },
   {
    "duration": 28,
    "start_time": "2024-03-15T12:39:49.100Z"
   },
   {
    "duration": 22,
    "start_time": "2024-03-15T12:39:49.131Z"
   },
   {
    "duration": 22,
    "start_time": "2024-03-15T12:39:49.154Z"
   },
   {
    "duration": 29,
    "start_time": "2024-03-15T12:39:49.178Z"
   },
   {
    "duration": 24,
    "start_time": "2024-03-15T12:39:49.209Z"
   },
   {
    "duration": 770,
    "start_time": "2024-03-15T12:39:49.235Z"
   },
   {
    "duration": 35,
    "start_time": "2024-03-15T12:39:50.007Z"
   },
   {
    "duration": 0,
    "start_time": "2024-03-15T12:39:50.043Z"
   },
   {
    "duration": 0,
    "start_time": "2024-03-15T12:39:50.045Z"
   },
   {
    "duration": 1486,
    "start_time": "2024-03-15T12:41:45.316Z"
   },
   {
    "duration": 881,
    "start_time": "2024-03-15T12:41:46.804Z"
   },
   {
    "duration": 3,
    "start_time": "2024-03-15T12:41:47.687Z"
   },
   {
    "duration": 389,
    "start_time": "2024-03-15T12:41:47.693Z"
   },
   {
    "duration": 159,
    "start_time": "2024-03-15T12:41:48.084Z"
   },
   {
    "duration": 405,
    "start_time": "2024-03-15T12:41:48.245Z"
   },
   {
    "duration": 32,
    "start_time": "2024-03-15T12:41:48.652Z"
   },
   {
    "duration": 5,
    "start_time": "2024-03-15T12:41:48.686Z"
   },
   {
    "duration": 26,
    "start_time": "2024-03-15T12:41:48.693Z"
   },
   {
    "duration": 5,
    "start_time": "2024-03-15T12:41:48.722Z"
   },
   {
    "duration": 32,
    "start_time": "2024-03-15T12:41:48.729Z"
   },
   {
    "duration": 22,
    "start_time": "2024-03-15T12:41:48.762Z"
   },
   {
    "duration": 10,
    "start_time": "2024-03-15T12:41:48.785Z"
   },
   {
    "duration": 13,
    "start_time": "2024-03-15T12:41:48.796Z"
   },
   {
    "duration": 8,
    "start_time": "2024-03-15T12:41:48.811Z"
   },
   {
    "duration": 22,
    "start_time": "2024-03-15T12:41:48.821Z"
   },
   {
    "duration": 3874,
    "start_time": "2024-03-15T12:41:48.845Z"
   },
   {
    "duration": 16,
    "start_time": "2024-03-15T12:41:52.720Z"
   },
   {
    "duration": 52,
    "start_time": "2024-03-15T12:41:52.737Z"
   },
   {
    "duration": 27,
    "start_time": "2024-03-15T12:41:52.790Z"
   },
   {
    "duration": 255,
    "start_time": "2024-03-15T12:41:52.818Z"
   },
   {
    "duration": 230,
    "start_time": "2024-03-15T12:41:53.075Z"
   },
   {
    "duration": 136,
    "start_time": "2024-03-15T12:41:53.307Z"
   },
   {
    "duration": 447,
    "start_time": "2024-03-15T12:41:53.444Z"
   },
   {
    "duration": 32,
    "start_time": "2024-03-15T12:41:53.893Z"
   },
   {
    "duration": 519,
    "start_time": "2024-03-15T12:41:53.926Z"
   },
   {
    "duration": 3,
    "start_time": "2024-03-15T12:41:54.447Z"
   },
   {
    "duration": 6,
    "start_time": "2024-03-15T12:41:54.452Z"
   },
   {
    "duration": 11,
    "start_time": "2024-03-15T12:41:54.466Z"
   },
   {
    "duration": 7,
    "start_time": "2024-03-15T12:41:54.479Z"
   },
   {
    "duration": 6,
    "start_time": "2024-03-15T12:41:54.488Z"
   },
   {
    "duration": 14,
    "start_time": "2024-03-15T12:41:54.496Z"
   },
   {
    "duration": 815,
    "start_time": "2024-03-15T12:41:54.511Z"
   },
   {
    "duration": 34,
    "start_time": "2024-03-15T12:41:55.327Z"
   },
   {
    "duration": 0,
    "start_time": "2024-03-15T12:41:55.363Z"
   },
   {
    "duration": 0,
    "start_time": "2024-03-15T12:41:55.364Z"
   },
   {
    "duration": 26,
    "start_time": "2024-03-15T12:43:10.994Z"
   },
   {
    "duration": 288,
    "start_time": "2024-03-15T12:43:13.128Z"
   },
   {
    "duration": 164,
    "start_time": "2024-03-15T12:43:14.176Z"
   },
   {
    "duration": 134,
    "start_time": "2024-03-15T12:43:15.114Z"
   },
   {
    "duration": 527,
    "start_time": "2024-03-15T12:43:17.767Z"
   },
   {
    "duration": 1178,
    "start_time": "2024-03-15T12:43:21.578Z"
   },
   {
    "duration": 0,
    "start_time": "2024-03-15T12:43:22.757Z"
   },
   {
    "duration": 1545,
    "start_time": "2024-03-15T12:43:34.067Z"
   },
   {
    "duration": 891,
    "start_time": "2024-03-15T12:43:35.614Z"
   },
   {
    "duration": 3,
    "start_time": "2024-03-15T12:43:36.507Z"
   },
   {
    "duration": 392,
    "start_time": "2024-03-15T12:43:36.512Z"
   },
   {
    "duration": 181,
    "start_time": "2024-03-15T12:43:36.906Z"
   },
   {
    "duration": 355,
    "start_time": "2024-03-15T12:43:37.088Z"
   },
   {
    "duration": 13,
    "start_time": "2024-03-15T12:43:37.444Z"
   },
   {
    "duration": 8,
    "start_time": "2024-03-15T12:43:37.465Z"
   },
   {
    "duration": 18,
    "start_time": "2024-03-15T12:43:37.476Z"
   },
   {
    "duration": 16,
    "start_time": "2024-03-15T12:43:37.496Z"
   },
   {
    "duration": 27,
    "start_time": "2024-03-15T12:43:37.513Z"
   },
   {
    "duration": 23,
    "start_time": "2024-03-15T12:43:37.541Z"
   },
   {
    "duration": 34,
    "start_time": "2024-03-15T12:43:37.565Z"
   },
   {
    "duration": 36,
    "start_time": "2024-03-15T12:43:37.601Z"
   },
   {
    "duration": 13,
    "start_time": "2024-03-15T12:43:37.638Z"
   },
   {
    "duration": 11,
    "start_time": "2024-03-15T12:43:37.652Z"
   },
   {
    "duration": 3953,
    "start_time": "2024-03-15T12:43:37.665Z"
   },
   {
    "duration": 16,
    "start_time": "2024-03-15T12:43:41.620Z"
   },
   {
    "duration": 57,
    "start_time": "2024-03-15T12:43:41.638Z"
   },
   {
    "duration": 251,
    "start_time": "2024-03-15T12:43:41.696Z"
   },
   {
    "duration": 234,
    "start_time": "2024-03-15T12:43:41.949Z"
   },
   {
    "duration": 137,
    "start_time": "2024-03-15T12:43:42.185Z"
   },
   {
    "duration": 498,
    "start_time": "2024-03-15T12:43:42.323Z"
   },
   {
    "duration": 30,
    "start_time": "2024-03-15T12:43:42.822Z"
   },
   {
    "duration": 461,
    "start_time": "2024-03-15T12:43:42.854Z"
   },
   {
    "duration": 3,
    "start_time": "2024-03-15T12:43:43.316Z"
   },
   {
    "duration": 19,
    "start_time": "2024-03-15T12:43:43.321Z"
   },
   {
    "duration": 32,
    "start_time": "2024-03-15T12:43:43.342Z"
   },
   {
    "duration": 16,
    "start_time": "2024-03-15T12:43:43.378Z"
   },
   {
    "duration": 40,
    "start_time": "2024-03-15T12:43:43.395Z"
   },
   {
    "duration": 38,
    "start_time": "2024-03-15T12:43:43.437Z"
   },
   {
    "duration": 843,
    "start_time": "2024-03-15T12:43:43.478Z"
   },
   {
    "duration": 35,
    "start_time": "2024-03-15T12:43:44.322Z"
   },
   {
    "duration": 0,
    "start_time": "2024-03-15T12:43:44.358Z"
   },
   {
    "duration": 0,
    "start_time": "2024-03-15T12:43:44.359Z"
   },
   {
    "duration": 29,
    "start_time": "2024-03-15T12:44:37.502Z"
   },
   {
    "duration": 1426,
    "start_time": "2024-03-15T12:45:37.770Z"
   },
   {
    "duration": 848,
    "start_time": "2024-03-15T12:45:39.197Z"
   },
   {
    "duration": 2,
    "start_time": "2024-03-15T12:45:40.047Z"
   },
   {
    "duration": 365,
    "start_time": "2024-03-15T12:45:40.051Z"
   },
   {
    "duration": 157,
    "start_time": "2024-03-15T12:45:40.417Z"
   },
   {
    "duration": 362,
    "start_time": "2024-03-15T12:45:40.576Z"
   },
   {
    "duration": 13,
    "start_time": "2024-03-15T12:45:40.940Z"
   },
   {
    "duration": 14,
    "start_time": "2024-03-15T12:45:40.955Z"
   },
   {
    "duration": 25,
    "start_time": "2024-03-15T12:45:40.970Z"
   },
   {
    "duration": 20,
    "start_time": "2024-03-15T12:45:40.998Z"
   },
   {
    "duration": 38,
    "start_time": "2024-03-15T12:45:41.019Z"
   },
   {
    "duration": 29,
    "start_time": "2024-03-15T12:45:41.059Z"
   },
   {
    "duration": 32,
    "start_time": "2024-03-15T12:45:41.090Z"
   },
   {
    "duration": 19,
    "start_time": "2024-03-15T12:45:41.123Z"
   },
   {
    "duration": 30,
    "start_time": "2024-03-15T12:45:41.144Z"
   },
   {
    "duration": 21,
    "start_time": "2024-03-15T12:45:41.176Z"
   },
   {
    "duration": 3541,
    "start_time": "2024-03-15T12:45:41.198Z"
   },
   {
    "duration": 27,
    "start_time": "2024-03-15T12:45:44.740Z"
   },
   {
    "duration": 31,
    "start_time": "2024-03-15T12:45:44.768Z"
   },
   {
    "duration": 253,
    "start_time": "2024-03-15T12:45:44.801Z"
   },
   {
    "duration": 225,
    "start_time": "2024-03-15T12:45:45.055Z"
   },
   {
    "duration": 137,
    "start_time": "2024-03-15T12:45:45.282Z"
   },
   {
    "duration": 479,
    "start_time": "2024-03-15T12:45:45.420Z"
   },
   {
    "duration": 35,
    "start_time": "2024-03-15T12:45:45.900Z"
   },
   {
    "duration": 437,
    "start_time": "2024-03-15T12:45:45.937Z"
   },
   {
    "duration": 4,
    "start_time": "2024-03-15T12:45:46.375Z"
   },
   {
    "duration": 8,
    "start_time": "2024-03-15T12:45:46.380Z"
   },
   {
    "duration": 11,
    "start_time": "2024-03-15T12:45:46.390Z"
   },
   {
    "duration": 13,
    "start_time": "2024-03-15T12:45:46.402Z"
   },
   {
    "duration": 9,
    "start_time": "2024-03-15T12:45:46.416Z"
   },
   {
    "duration": 12,
    "start_time": "2024-03-15T12:45:46.427Z"
   },
   {
    "duration": 738,
    "start_time": "2024-03-15T12:45:46.441Z"
   },
   {
    "duration": 34,
    "start_time": "2024-03-15T12:45:47.181Z"
   },
   {
    "duration": 0,
    "start_time": "2024-03-15T12:45:47.217Z"
   },
   {
    "duration": 0,
    "start_time": "2024-03-15T12:45:47.219Z"
   },
   {
    "duration": 44,
    "start_time": "2024-03-15T12:49:45.202Z"
   },
   {
    "duration": 19,
    "start_time": "2024-03-15T12:50:18.525Z"
   },
   {
    "duration": 24,
    "start_time": "2024-03-15T12:50:22.481Z"
   },
   {
    "duration": 244,
    "start_time": "2024-03-15T12:50:24.007Z"
   },
   {
    "duration": 152,
    "start_time": "2024-03-15T12:50:29.287Z"
   },
   {
    "duration": 128,
    "start_time": "2024-03-15T12:50:31.045Z"
   },
   {
    "duration": 372,
    "start_time": "2024-03-15T12:50:34.302Z"
   },
   {
    "duration": 1234,
    "start_time": "2024-03-15T12:50:40.798Z"
   },
   {
    "duration": 0,
    "start_time": "2024-03-15T12:50:42.034Z"
   },
   {
    "duration": 74,
    "start_time": "2024-03-15T12:51:25.406Z"
   },
   {
    "duration": 764,
    "start_time": "2024-03-15T12:51:26.964Z"
   },
   {
    "duration": 3,
    "start_time": "2024-03-15T12:51:29.267Z"
   },
   {
    "duration": 355,
    "start_time": "2024-03-15T12:51:30.611Z"
   },
   {
    "duration": 138,
    "start_time": "2024-03-15T12:51:32.299Z"
   },
   {
    "duration": 444,
    "start_time": "2024-03-15T12:51:33.937Z"
   },
   {
    "duration": 12,
    "start_time": "2024-03-15T12:51:35.419Z"
   },
   {
    "duration": 4,
    "start_time": "2024-03-15T12:51:36.183Z"
   },
   {
    "duration": 10,
    "start_time": "2024-03-15T12:51:41.057Z"
   },
   {
    "duration": 7,
    "start_time": "2024-03-15T12:51:44.781Z"
   },
   {
    "duration": 14,
    "start_time": "2024-03-15T12:51:48.523Z"
   },
   {
    "duration": 15,
    "start_time": "2024-03-15T12:51:51.689Z"
   },
   {
    "duration": 10,
    "start_time": "2024-03-15T12:51:54.579Z"
   },
   {
    "duration": 8,
    "start_time": "2024-03-15T12:51:56.549Z"
   },
   {
    "duration": 2,
    "start_time": "2024-03-15T12:51:59.055Z"
   },
   {
    "duration": 3,
    "start_time": "2024-03-15T12:51:59.727Z"
   },
   {
    "duration": 3417,
    "start_time": "2024-03-15T12:52:00.535Z"
   },
   {
    "duration": 13,
    "start_time": "2024-03-15T12:52:11.112Z"
   },
   {
    "duration": 26,
    "start_time": "2024-03-15T12:52:22.103Z"
   },
   {
    "duration": 232,
    "start_time": "2024-03-15T12:52:23.560Z"
   },
   {
    "duration": 211,
    "start_time": "2024-03-15T12:52:26.427Z"
   },
   {
    "duration": 120,
    "start_time": "2024-03-15T12:52:27.685Z"
   },
   {
    "duration": 413,
    "start_time": "2024-03-15T12:52:31.953Z"
   },
   {
    "duration": 31,
    "start_time": "2024-03-15T12:52:39.205Z"
   },
   {
    "duration": 398,
    "start_time": "2024-03-15T12:52:43.248Z"
   },
   {
    "duration": 3,
    "start_time": "2024-03-15T12:52:48.792Z"
   },
   {
    "duration": 3,
    "start_time": "2024-03-15T12:52:49.496Z"
   },
   {
    "duration": 6,
    "start_time": "2024-03-15T12:52:54.229Z"
   },
   {
    "duration": 2,
    "start_time": "2024-03-15T12:52:55.617Z"
   },
   {
    "duration": 2,
    "start_time": "2024-03-15T12:52:58.017Z"
   },
   {
    "duration": 8,
    "start_time": "2024-03-15T12:52:58.673Z"
   },
   {
    "duration": 649,
    "start_time": "2024-03-15T12:53:02.194Z"
   },
   {
    "duration": 34,
    "start_time": "2024-03-15T12:53:12.205Z"
   },
   {
    "duration": 1392,
    "start_time": "2024-03-15T12:54:02.404Z"
   },
   {
    "duration": 826,
    "start_time": "2024-03-15T12:54:03.798Z"
   },
   {
    "duration": 3,
    "start_time": "2024-03-15T12:54:04.625Z"
   },
   {
    "duration": 367,
    "start_time": "2024-03-15T12:54:04.630Z"
   },
   {
    "duration": 149,
    "start_time": "2024-03-15T12:54:04.999Z"
   },
   {
    "duration": 350,
    "start_time": "2024-03-15T12:54:05.149Z"
   },
   {
    "duration": 13,
    "start_time": "2024-03-15T12:54:05.500Z"
   },
   {
    "duration": 9,
    "start_time": "2024-03-15T12:54:05.515Z"
   },
   {
    "duration": 16,
    "start_time": "2024-03-15T12:54:05.526Z"
   },
   {
    "duration": 14,
    "start_time": "2024-03-15T12:54:05.543Z"
   },
   {
    "duration": 20,
    "start_time": "2024-03-15T12:54:05.559Z"
   },
   {
    "duration": 14,
    "start_time": "2024-03-15T12:54:05.580Z"
   },
   {
    "duration": 20,
    "start_time": "2024-03-15T12:54:05.595Z"
   },
   {
    "duration": 9,
    "start_time": "2024-03-15T12:54:05.618Z"
   },
   {
    "duration": 4,
    "start_time": "2024-03-15T12:54:05.628Z"
   },
   {
    "duration": 22,
    "start_time": "2024-03-15T12:54:05.633Z"
   },
   {
    "duration": 3642,
    "start_time": "2024-03-15T12:54:05.656Z"
   },
   {
    "duration": 13,
    "start_time": "2024-03-15T12:54:09.300Z"
   },
   {
    "duration": 26,
    "start_time": "2024-03-15T12:54:09.314Z"
   },
   {
    "duration": 45,
    "start_time": "2024-03-15T12:54:09.342Z"
   },
   {
    "duration": 227,
    "start_time": "2024-03-15T12:54:09.389Z"
   },
   {
    "duration": 223,
    "start_time": "2024-03-15T12:54:09.618Z"
   },
   {
    "duration": 127,
    "start_time": "2024-03-15T12:54:09.843Z"
   },
   {
    "duration": 491,
    "start_time": "2024-03-15T12:54:09.972Z"
   },
   {
    "duration": 31,
    "start_time": "2024-03-15T12:54:10.466Z"
   },
   {
    "duration": 441,
    "start_time": "2024-03-15T12:54:10.498Z"
   },
   {
    "duration": 3,
    "start_time": "2024-03-15T12:54:10.941Z"
   },
   {
    "duration": 7,
    "start_time": "2024-03-15T12:54:10.945Z"
   },
   {
    "duration": 19,
    "start_time": "2024-03-15T12:54:10.954Z"
   },
   {
    "duration": 7,
    "start_time": "2024-03-15T12:54:10.974Z"
   },
   {
    "duration": 19,
    "start_time": "2024-03-15T12:54:10.982Z"
   },
   {
    "duration": 14,
    "start_time": "2024-03-15T12:54:11.003Z"
   },
   {
    "duration": 696,
    "start_time": "2024-03-15T12:54:11.019Z"
   },
   {
    "duration": 32,
    "start_time": "2024-03-15T12:54:11.717Z"
   },
   {
    "duration": 0,
    "start_time": "2024-03-15T12:54:11.751Z"
   },
   {
    "duration": 0,
    "start_time": "2024-03-15T12:54:11.752Z"
   },
   {
    "duration": 39,
    "start_time": "2024-03-15T12:55:00.124Z"
   },
   {
    "duration": 55,
    "start_time": "2024-03-15T12:55:13.688Z"
   },
   {
    "duration": 29,
    "start_time": "2024-03-15T12:55:19.736Z"
   },
   {
    "duration": 419,
    "start_time": "2024-03-15T12:55:23.107Z"
   },
   {
    "duration": 3,
    "start_time": "2024-03-15T12:55:27.889Z"
   },
   {
    "duration": 3,
    "start_time": "2024-03-15T12:55:28.578Z"
   },
   {
    "duration": 7,
    "start_time": "2024-03-15T12:55:32.419Z"
   },
   {
    "duration": 3,
    "start_time": "2024-03-15T12:55:34.429Z"
   },
   {
    "duration": 3,
    "start_time": "2024-03-15T12:55:36.647Z"
   },
   {
    "duration": 7,
    "start_time": "2024-03-15T12:55:37.459Z"
   },
   {
    "duration": 754,
    "start_time": "2024-03-15T12:55:40.063Z"
   },
   {
    "duration": 34,
    "start_time": "2024-03-15T12:55:52.597Z"
   },
   {
    "duration": 10,
    "start_time": "2024-03-15T12:58:12.575Z"
   },
   {
    "duration": 13,
    "start_time": "2024-03-15T12:58:18.371Z"
   },
   {
    "duration": 18,
    "start_time": "2024-03-15T12:59:02.576Z"
   },
   {
    "duration": 1504,
    "start_time": "2024-03-15T13:00:05.639Z"
   },
   {
    "duration": 839,
    "start_time": "2024-03-15T13:00:07.145Z"
   },
   {
    "duration": 3,
    "start_time": "2024-03-15T13:00:07.986Z"
   },
   {
    "duration": 366,
    "start_time": "2024-03-15T13:00:07.990Z"
   },
   {
    "duration": 142,
    "start_time": "2024-03-15T13:00:08.365Z"
   },
   {
    "duration": 368,
    "start_time": "2024-03-15T13:00:08.509Z"
   },
   {
    "duration": 13,
    "start_time": "2024-03-15T13:00:08.879Z"
   },
   {
    "duration": 24,
    "start_time": "2024-03-15T13:00:08.896Z"
   },
   {
    "duration": 57,
    "start_time": "2024-03-15T13:00:08.922Z"
   },
   {
    "duration": 19,
    "start_time": "2024-03-15T13:00:08.980Z"
   },
   {
    "duration": 39,
    "start_time": "2024-03-15T13:00:09.001Z"
   },
   {
    "duration": 40,
    "start_time": "2024-03-15T13:00:09.041Z"
   },
   {
    "duration": 30,
    "start_time": "2024-03-15T13:00:09.083Z"
   },
   {
    "duration": 20,
    "start_time": "2024-03-15T13:00:09.117Z"
   },
   {
    "duration": 18,
    "start_time": "2024-03-15T13:00:09.139Z"
   },
   {
    "duration": 27,
    "start_time": "2024-03-15T13:00:09.158Z"
   },
   {
    "duration": 3591,
    "start_time": "2024-03-15T13:00:09.187Z"
   },
   {
    "duration": 14,
    "start_time": "2024-03-15T13:00:12.780Z"
   },
   {
    "duration": 31,
    "start_time": "2024-03-15T13:00:12.796Z"
   },
   {
    "duration": 43,
    "start_time": "2024-03-15T13:00:12.829Z"
   },
   {
    "duration": 218,
    "start_time": "2024-03-15T13:00:12.874Z"
   },
   {
    "duration": 220,
    "start_time": "2024-03-15T13:00:13.094Z"
   },
   {
    "duration": 129,
    "start_time": "2024-03-15T13:00:13.316Z"
   },
   {
    "duration": 412,
    "start_time": "2024-03-15T13:00:13.447Z"
   },
   {
    "duration": 31,
    "start_time": "2024-03-15T13:00:13.865Z"
   },
   {
    "duration": 444,
    "start_time": "2024-03-15T13:00:13.898Z"
   },
   {
    "duration": 3,
    "start_time": "2024-03-15T13:00:14.343Z"
   },
   {
    "duration": 23,
    "start_time": "2024-03-15T13:00:14.348Z"
   },
   {
    "duration": 28,
    "start_time": "2024-03-15T13:00:14.373Z"
   },
   {
    "duration": 11,
    "start_time": "2024-03-15T13:00:14.403Z"
   },
   {
    "duration": 12,
    "start_time": "2024-03-15T13:00:14.416Z"
   },
   {
    "duration": 18,
    "start_time": "2024-03-15T13:00:14.429Z"
   },
   {
    "duration": 913,
    "start_time": "2024-03-15T13:00:14.449Z"
   },
   {
    "duration": 36,
    "start_time": "2024-03-15T13:00:15.363Z"
   },
   {
    "duration": 0,
    "start_time": "2024-03-15T13:00:15.400Z"
   },
   {
    "duration": 0,
    "start_time": "2024-03-15T13:00:15.402Z"
   },
   {
    "duration": 24,
    "start_time": "2024-03-15T13:00:56.595Z"
   },
   {
    "duration": 224,
    "start_time": "2024-03-15T13:00:58.248Z"
   },
   {
    "duration": 147,
    "start_time": "2024-03-15T13:01:00.530Z"
   },
   {
    "duration": 130,
    "start_time": "2024-03-15T13:01:01.272Z"
   },
   {
    "duration": 512,
    "start_time": "2024-03-15T13:01:02.953Z"
   },
   {
    "duration": 1311,
    "start_time": "2024-03-15T13:01:07.923Z"
   },
   {
    "duration": 9,
    "start_time": "2024-03-15T13:02:08.282Z"
   },
   {
    "duration": 21,
    "start_time": "2024-03-15T13:02:45.301Z"
   },
   {
    "duration": 36,
    "start_time": "2024-03-15T13:03:28.356Z"
   },
   {
    "duration": 13,
    "start_time": "2024-03-15T13:03:45.956Z"
   },
   {
    "duration": 19,
    "start_time": "2024-03-15T13:05:12.358Z"
   },
   {
    "duration": 19,
    "start_time": "2024-03-15T13:05:27.208Z"
   },
   {
    "duration": 233,
    "start_time": "2024-03-15T13:05:28.926Z"
   },
   {
    "duration": 1455,
    "start_time": "2024-03-15T13:06:06.292Z"
   },
   {
    "duration": 844,
    "start_time": "2024-03-15T13:06:07.748Z"
   },
   {
    "duration": 3,
    "start_time": "2024-03-15T13:06:08.594Z"
   },
   {
    "duration": 358,
    "start_time": "2024-03-15T13:06:08.598Z"
   },
   {
    "duration": 151,
    "start_time": "2024-03-15T13:06:08.958Z"
   },
   {
    "duration": 376,
    "start_time": "2024-03-15T13:06:09.111Z"
   },
   {
    "duration": 15,
    "start_time": "2024-03-15T13:06:09.488Z"
   },
   {
    "duration": 4,
    "start_time": "2024-03-15T13:06:09.505Z"
   },
   {
    "duration": 22,
    "start_time": "2024-03-15T13:06:09.510Z"
   },
   {
    "duration": 5,
    "start_time": "2024-03-15T13:06:09.534Z"
   },
   {
    "duration": 39,
    "start_time": "2024-03-15T13:06:09.541Z"
   },
   {
    "duration": 17,
    "start_time": "2024-03-15T13:06:09.582Z"
   },
   {
    "duration": 23,
    "start_time": "2024-03-15T13:06:09.600Z"
   },
   {
    "duration": 31,
    "start_time": "2024-03-15T13:06:09.626Z"
   },
   {
    "duration": 11,
    "start_time": "2024-03-15T13:06:09.658Z"
   },
   {
    "duration": 13,
    "start_time": "2024-03-15T13:06:09.670Z"
   },
   {
    "duration": 3589,
    "start_time": "2024-03-15T13:06:09.685Z"
   },
   {
    "duration": 14,
    "start_time": "2024-03-15T13:06:13.275Z"
   },
   {
    "duration": 24,
    "start_time": "2024-03-15T13:06:13.291Z"
   },
   {
    "duration": 48,
    "start_time": "2024-03-15T13:06:13.317Z"
   },
   {
    "duration": 222,
    "start_time": "2024-03-15T13:06:13.367Z"
   },
   {
    "duration": 227,
    "start_time": "2024-03-15T13:06:13.591Z"
   },
   {
    "duration": 124,
    "start_time": "2024-03-15T13:06:13.819Z"
   },
   {
    "duration": 422,
    "start_time": "2024-03-15T13:06:13.945Z"
   },
   {
    "duration": 32,
    "start_time": "2024-03-15T13:06:14.369Z"
   },
   {
    "duration": 435,
    "start_time": "2024-03-15T13:06:14.403Z"
   },
   {
    "duration": 4,
    "start_time": "2024-03-15T13:06:14.839Z"
   },
   {
    "duration": 29,
    "start_time": "2024-03-15T13:06:14.845Z"
   },
   {
    "duration": 23,
    "start_time": "2024-03-15T13:06:14.876Z"
   },
   {
    "duration": 16,
    "start_time": "2024-03-15T13:06:14.900Z"
   },
   {
    "duration": 13,
    "start_time": "2024-03-15T13:06:14.917Z"
   },
   {
    "duration": 18,
    "start_time": "2024-03-15T13:06:14.932Z"
   },
   {
    "duration": 767,
    "start_time": "2024-03-15T13:06:14.951Z"
   },
   {
    "duration": 34,
    "start_time": "2024-03-15T13:06:15.720Z"
   },
   {
    "duration": 0,
    "start_time": "2024-03-15T13:06:15.756Z"
   },
   {
    "duration": 0,
    "start_time": "2024-03-15T13:06:15.757Z"
   },
   {
    "duration": 23,
    "start_time": "2024-03-15T13:06:53.055Z"
   },
   {
    "duration": 219,
    "start_time": "2024-03-15T13:06:53.782Z"
   },
   {
    "duration": 155,
    "start_time": "2024-03-15T13:06:54.881Z"
   },
   {
    "duration": 161,
    "start_time": "2024-03-15T13:06:55.797Z"
   },
   {
    "duration": 382,
    "start_time": "2024-03-15T13:06:57.379Z"
   },
   {
    "duration": 1158,
    "start_time": "2024-03-15T13:07:01.124Z"
   },
   {
    "duration": 0,
    "start_time": "2024-03-15T13:07:02.283Z"
   },
   {
    "duration": 72,
    "start_time": "2024-03-15T13:08:08.863Z"
   },
   {
    "duration": 102,
    "start_time": "2024-03-15T13:08:25.993Z"
   },
   {
    "duration": 21,
    "start_time": "2024-03-15T13:08:38.232Z"
   },
   {
    "duration": 18,
    "start_time": "2024-03-15T13:08:57.789Z"
   },
   {
    "duration": 1338,
    "start_time": "2024-03-15T13:09:22.824Z"
   },
   {
    "duration": 814,
    "start_time": "2024-03-15T13:09:26.181Z"
   },
   {
    "duration": 3,
    "start_time": "2024-03-15T13:09:27.851Z"
   },
   {
    "duration": 360,
    "start_time": "2024-03-15T13:09:28.457Z"
   },
   {
    "duration": 140,
    "start_time": "2024-03-15T13:09:29.451Z"
   },
   {
    "duration": 352,
    "start_time": "2024-03-15T13:09:30.675Z"
   },
   {
    "duration": 14,
    "start_time": "2024-03-15T13:09:32.009Z"
   },
   {
    "duration": 4,
    "start_time": "2024-03-15T13:09:36.419Z"
   },
   {
    "duration": 10,
    "start_time": "2024-03-15T13:09:39.953Z"
   },
   {
    "duration": 7,
    "start_time": "2024-03-15T13:09:41.565Z"
   },
   {
    "duration": 12,
    "start_time": "2024-03-15T13:09:43.644Z"
   },
   {
    "duration": 16,
    "start_time": "2024-03-15T13:09:46.097Z"
   },
   {
    "duration": 11,
    "start_time": "2024-03-15T13:09:48.310Z"
   },
   {
    "duration": 9,
    "start_time": "2024-03-15T13:09:49.967Z"
   },
   {
    "duration": 3,
    "start_time": "2024-03-15T13:09:52.884Z"
   },
   {
    "duration": 2,
    "start_time": "2024-03-15T13:09:53.342Z"
   },
   {
    "duration": 3585,
    "start_time": "2024-03-15T13:09:53.958Z"
   },
   {
    "duration": 22,
    "start_time": "2024-03-15T13:09:57.544Z"
   },
   {
    "duration": 24,
    "start_time": "2024-03-15T13:10:00.182Z"
   },
   {
    "duration": 122,
    "start_time": "2024-03-15T13:10:01.771Z"
   },
   {
    "duration": 1373,
    "start_time": "2024-03-15T13:10:22.910Z"
   },
   {
    "duration": 807,
    "start_time": "2024-03-15T13:10:24.284Z"
   },
   {
    "duration": 3,
    "start_time": "2024-03-15T13:10:25.092Z"
   },
   {
    "duration": 361,
    "start_time": "2024-03-15T13:10:25.097Z"
   },
   {
    "duration": 149,
    "start_time": "2024-03-15T13:10:25.459Z"
   },
   {
    "duration": 361,
    "start_time": "2024-03-15T13:10:25.610Z"
   },
   {
    "duration": 12,
    "start_time": "2024-03-15T13:10:25.973Z"
   },
   {
    "duration": 4,
    "start_time": "2024-03-15T13:10:25.986Z"
   },
   {
    "duration": 28,
    "start_time": "2024-03-15T13:10:25.991Z"
   },
   {
    "duration": 6,
    "start_time": "2024-03-15T13:10:26.022Z"
   },
   {
    "duration": 23,
    "start_time": "2024-03-15T13:10:26.029Z"
   },
   {
    "duration": 21,
    "start_time": "2024-03-15T13:10:26.053Z"
   },
   {
    "duration": 23,
    "start_time": "2024-03-15T13:10:26.076Z"
   },
   {
    "duration": 18,
    "start_time": "2024-03-15T13:10:26.100Z"
   },
   {
    "duration": 9,
    "start_time": "2024-03-15T13:10:26.119Z"
   },
   {
    "duration": 5,
    "start_time": "2024-03-15T13:10:26.130Z"
   },
   {
    "duration": 3530,
    "start_time": "2024-03-15T13:10:26.137Z"
   },
   {
    "duration": 15,
    "start_time": "2024-03-15T13:10:29.668Z"
   },
   {
    "duration": 137,
    "start_time": "2024-03-15T13:10:29.684Z"
   },
   {
    "duration": 0,
    "start_time": "2024-03-15T13:10:29.824Z"
   },
   {
    "duration": 0,
    "start_time": "2024-03-15T13:10:29.825Z"
   },
   {
    "duration": 0,
    "start_time": "2024-03-15T13:10:29.826Z"
   },
   {
    "duration": 0,
    "start_time": "2024-03-15T13:10:29.828Z"
   },
   {
    "duration": 0,
    "start_time": "2024-03-15T13:10:29.829Z"
   },
   {
    "duration": 0,
    "start_time": "2024-03-15T13:10:29.830Z"
   },
   {
    "duration": 0,
    "start_time": "2024-03-15T13:10:29.831Z"
   },
   {
    "duration": 0,
    "start_time": "2024-03-15T13:10:29.832Z"
   },
   {
    "duration": 0,
    "start_time": "2024-03-15T13:10:29.834Z"
   },
   {
    "duration": 0,
    "start_time": "2024-03-15T13:10:29.835Z"
   },
   {
    "duration": 0,
    "start_time": "2024-03-15T13:10:29.836Z"
   },
   {
    "duration": 0,
    "start_time": "2024-03-15T13:10:29.837Z"
   },
   {
    "duration": 0,
    "start_time": "2024-03-15T13:10:29.838Z"
   },
   {
    "duration": 0,
    "start_time": "2024-03-15T13:10:29.866Z"
   },
   {
    "duration": 0,
    "start_time": "2024-03-15T13:10:29.867Z"
   },
   {
    "duration": 0,
    "start_time": "2024-03-15T13:10:29.869Z"
   },
   {
    "duration": 230,
    "start_time": "2024-03-15T13:10:53.105Z"
   },
   {
    "duration": 19,
    "start_time": "2024-03-15T13:11:12.003Z"
   },
   {
    "duration": 68,
    "start_time": "2024-03-15T13:11:34.968Z"
   },
   {
    "duration": 13,
    "start_time": "2024-03-15T13:11:54.020Z"
   },
   {
    "duration": 33,
    "start_time": "2024-03-15T13:14:14.600Z"
   },
   {
    "duration": 246,
    "start_time": "2024-03-15T13:14:16.287Z"
   },
   {
    "duration": 220,
    "start_time": "2024-03-15T13:14:18.216Z"
   },
   {
    "duration": 119,
    "start_time": "2024-03-15T13:14:19.653Z"
   },
   {
    "duration": 429,
    "start_time": "2024-03-15T13:14:23.328Z"
   },
   {
    "duration": 31,
    "start_time": "2024-03-15T13:14:30.831Z"
   },
   {
    "duration": 424,
    "start_time": "2024-03-15T13:14:31.793Z"
   },
   {
    "duration": 3,
    "start_time": "2024-03-15T13:14:42.500Z"
   },
   {
    "duration": 5,
    "start_time": "2024-03-15T13:14:43.247Z"
   },
   {
    "duration": 6,
    "start_time": "2024-03-15T13:14:49.012Z"
   },
   {
    "duration": 3,
    "start_time": "2024-03-15T13:14:50.174Z"
   },
   {
    "duration": 2,
    "start_time": "2024-03-15T13:14:53.806Z"
   },
   {
    "duration": 8,
    "start_time": "2024-03-15T13:14:54.428Z"
   },
   {
    "duration": 595,
    "start_time": "2024-03-15T13:14:56.940Z"
   },
   {
    "duration": 34,
    "start_time": "2024-03-15T13:15:34.844Z"
   },
   {
    "duration": 10,
    "start_time": "2024-03-15T13:17:36.504Z"
   },
   {
    "duration": 10,
    "start_time": "2024-03-15T13:17:54.703Z"
   },
   {
    "duration": 8,
    "start_time": "2024-03-15T13:20:27.713Z"
   },
   {
    "duration": 1447,
    "start_time": "2024-03-15T13:20:37.925Z"
   },
   {
    "duration": 814,
    "start_time": "2024-03-15T13:20:39.374Z"
   },
   {
    "duration": 3,
    "start_time": "2024-03-15T13:20:40.189Z"
   },
   {
    "duration": 351,
    "start_time": "2024-03-15T13:20:40.193Z"
   },
   {
    "duration": 159,
    "start_time": "2024-03-15T13:20:40.546Z"
   },
   {
    "duration": 366,
    "start_time": "2024-03-15T13:20:40.707Z"
   },
   {
    "duration": 13,
    "start_time": "2024-03-15T13:20:41.075Z"
   },
   {
    "duration": 16,
    "start_time": "2024-03-15T13:20:41.089Z"
   },
   {
    "duration": 19,
    "start_time": "2024-03-15T13:20:41.107Z"
   },
   {
    "duration": 7,
    "start_time": "2024-03-15T13:20:41.127Z"
   },
   {
    "duration": 20,
    "start_time": "2024-03-15T13:20:41.136Z"
   },
   {
    "duration": 21,
    "start_time": "2024-03-15T13:20:41.166Z"
   },
   {
    "duration": 27,
    "start_time": "2024-03-15T13:20:41.189Z"
   },
   {
    "duration": 12,
    "start_time": "2024-03-15T13:20:41.219Z"
   },
   {
    "duration": 9,
    "start_time": "2024-03-15T13:20:41.233Z"
   },
   {
    "duration": 18,
    "start_time": "2024-03-15T13:20:41.243Z"
   },
   {
    "duration": 3521,
    "start_time": "2024-03-15T13:20:41.263Z"
   },
   {
    "duration": 15,
    "start_time": "2024-03-15T13:20:44.785Z"
   },
   {
    "duration": 39,
    "start_time": "2024-03-15T13:20:44.801Z"
   },
   {
    "duration": 242,
    "start_time": "2024-03-15T13:20:44.842Z"
   },
   {
    "duration": 217,
    "start_time": "2024-03-15T13:20:45.085Z"
   },
   {
    "duration": 121,
    "start_time": "2024-03-15T13:20:45.303Z"
   },
   {
    "duration": 452,
    "start_time": "2024-03-15T13:20:45.425Z"
   },
   {
    "duration": 35,
    "start_time": "2024-03-15T13:20:45.879Z"
   },
   {
    "duration": 429,
    "start_time": "2024-03-15T13:20:45.916Z"
   },
   {
    "duration": 3,
    "start_time": "2024-03-15T13:20:46.346Z"
   },
   {
    "duration": 22,
    "start_time": "2024-03-15T13:20:46.351Z"
   },
   {
    "duration": 17,
    "start_time": "2024-03-15T13:20:46.374Z"
   },
   {
    "duration": 16,
    "start_time": "2024-03-15T13:20:46.393Z"
   },
   {
    "duration": 13,
    "start_time": "2024-03-15T13:20:46.410Z"
   },
   {
    "duration": 16,
    "start_time": "2024-03-15T13:20:46.424Z"
   },
   {
    "duration": 746,
    "start_time": "2024-03-15T13:20:46.441Z"
   },
   {
    "duration": 36,
    "start_time": "2024-03-15T13:20:47.188Z"
   },
   {
    "duration": 0,
    "start_time": "2024-03-15T13:20:47.225Z"
   },
   {
    "duration": 0,
    "start_time": "2024-03-15T13:20:47.226Z"
   },
   {
    "duration": 38,
    "start_time": "2024-03-15T13:23:10.193Z"
   },
   {
    "duration": 290,
    "start_time": "2024-03-15T13:23:11.460Z"
   },
   {
    "duration": 184,
    "start_time": "2024-03-15T13:23:14.638Z"
   },
   {
    "duration": 140,
    "start_time": "2024-03-15T13:23:15.380Z"
   },
   {
    "duration": 497,
    "start_time": "2024-03-15T13:23:19.289Z"
   },
   {
    "duration": 1313,
    "start_time": "2024-03-15T13:23:44.347Z"
   },
   {
    "duration": 32,
    "start_time": "2024-03-15T13:24:06.579Z"
   },
   {
    "duration": 287,
    "start_time": "2024-03-15T13:24:07.338Z"
   },
   {
    "duration": 160,
    "start_time": "2024-03-15T13:24:08.729Z"
   },
   {
    "duration": 124,
    "start_time": "2024-03-15T13:24:09.413Z"
   },
   {
    "duration": 594,
    "start_time": "2024-03-15T13:24:11.070Z"
   },
   {
    "duration": 1186,
    "start_time": "2024-03-15T13:24:14.580Z"
   },
   {
    "duration": 1281,
    "start_time": "2024-03-15T13:24:18.357Z"
   },
   {
    "duration": 13,
    "start_time": "2024-03-15T13:25:32.564Z"
   },
   {
    "duration": 5,
    "start_time": "2024-03-15T13:25:33.852Z"
   },
   {
    "duration": 161,
    "start_time": "2024-03-15T13:25:34.610Z"
   },
   {
    "duration": 97,
    "start_time": "2024-03-15T13:25:35.628Z"
   },
   {
    "duration": 5,
    "start_time": "2024-03-15T13:25:59.351Z"
   },
   {
    "duration": 150,
    "start_time": "2024-03-15T13:26:00.165Z"
   },
   {
    "duration": 16,
    "start_time": "2024-03-15T13:26:48.599Z"
   },
   {
    "duration": 1454,
    "start_time": "2024-03-15T13:27:07.463Z"
   },
   {
    "duration": 835,
    "start_time": "2024-03-15T13:27:08.919Z"
   },
   {
    "duration": 3,
    "start_time": "2024-03-15T13:27:09.755Z"
   },
   {
    "duration": 369,
    "start_time": "2024-03-15T13:27:09.766Z"
   },
   {
    "duration": 149,
    "start_time": "2024-03-15T13:27:10.138Z"
   },
   {
    "duration": 347,
    "start_time": "2024-03-15T13:27:10.289Z"
   },
   {
    "duration": 13,
    "start_time": "2024-03-15T13:27:10.638Z"
   },
   {
    "duration": 4,
    "start_time": "2024-03-15T13:27:10.665Z"
   },
   {
    "duration": 26,
    "start_time": "2024-03-15T13:27:10.671Z"
   },
   {
    "duration": 15,
    "start_time": "2024-03-15T13:27:10.699Z"
   },
   {
    "duration": 21,
    "start_time": "2024-03-15T13:27:10.716Z"
   },
   {
    "duration": 13,
    "start_time": "2024-03-15T13:27:10.739Z"
   },
   {
    "duration": 20,
    "start_time": "2024-03-15T13:27:10.754Z"
   },
   {
    "duration": 8,
    "start_time": "2024-03-15T13:27:10.779Z"
   },
   {
    "duration": 3,
    "start_time": "2024-03-15T13:27:10.789Z"
   },
   {
    "duration": 11,
    "start_time": "2024-03-15T13:27:10.794Z"
   },
   {
    "duration": 3590,
    "start_time": "2024-03-15T13:27:10.806Z"
   },
   {
    "duration": 17,
    "start_time": "2024-03-15T13:27:14.398Z"
   },
   {
    "duration": 261,
    "start_time": "2024-03-15T13:27:14.417Z"
   },
   {
    "duration": 214,
    "start_time": "2024-03-15T13:27:14.680Z"
   },
   {
    "duration": 126,
    "start_time": "2024-03-15T13:27:14.896Z"
   },
   {
    "duration": 461,
    "start_time": "2024-03-15T13:27:15.024Z"
   },
   {
    "duration": 33,
    "start_time": "2024-03-15T13:27:15.487Z"
   },
   {
    "duration": 459,
    "start_time": "2024-03-15T13:27:15.521Z"
   },
   {
    "duration": 4,
    "start_time": "2024-03-15T13:27:15.982Z"
   },
   {
    "duration": 11,
    "start_time": "2024-03-15T13:27:15.988Z"
   },
   {
    "duration": 24,
    "start_time": "2024-03-15T13:27:16.001Z"
   },
   {
    "duration": 7,
    "start_time": "2024-03-15T13:27:16.026Z"
   },
   {
    "duration": 7,
    "start_time": "2024-03-15T13:27:16.034Z"
   },
   {
    "duration": 11,
    "start_time": "2024-03-15T13:27:16.042Z"
   },
   {
    "duration": 102445,
    "start_time": "2024-03-15T13:27:16.054Z"
   },
   {
    "duration": 1073,
    "start_time": "2024-03-15T13:28:58.500Z"
   },
   {
    "duration": 1920,
    "start_time": "2024-03-15T13:28:59.576Z"
   },
   {
    "duration": 8,
    "start_time": "2024-03-15T13:29:01.498Z"
   },
   {
    "duration": 1701,
    "start_time": "2024-03-16T07:12:26.363Z"
   },
   {
    "duration": 2242,
    "start_time": "2024-03-16T07:12:28.066Z"
   },
   {
    "duration": 4,
    "start_time": "2024-03-16T07:12:30.309Z"
   },
   {
    "duration": 477,
    "start_time": "2024-03-16T07:12:30.315Z"
   },
   {
    "duration": 179,
    "start_time": "2024-03-16T07:12:30.794Z"
   },
   {
    "duration": 420,
    "start_time": "2024-03-16T07:12:30.975Z"
   },
   {
    "duration": 24,
    "start_time": "2024-03-16T07:12:31.397Z"
   },
   {
    "duration": 26,
    "start_time": "2024-03-16T07:12:31.423Z"
   },
   {
    "duration": 33,
    "start_time": "2024-03-16T07:12:31.451Z"
   },
   {
    "duration": 21,
    "start_time": "2024-03-16T07:12:31.486Z"
   },
   {
    "duration": 24,
    "start_time": "2024-03-16T07:12:31.508Z"
   },
   {
    "duration": 35,
    "start_time": "2024-03-16T07:12:31.534Z"
   },
   {
    "duration": 32,
    "start_time": "2024-03-16T07:12:31.571Z"
   },
   {
    "duration": 25,
    "start_time": "2024-03-16T07:12:31.604Z"
   },
   {
    "duration": 21,
    "start_time": "2024-03-16T07:12:31.630Z"
   },
   {
    "duration": 20,
    "start_time": "2024-03-16T07:12:31.653Z"
   },
   {
    "duration": 4008,
    "start_time": "2024-03-16T07:12:31.674Z"
   },
   {
    "duration": 17,
    "start_time": "2024-03-16T07:12:35.684Z"
   },
   {
    "duration": 22,
    "start_time": "2024-03-16T07:12:35.715Z"
   },
   {
    "duration": 9,
    "start_time": "2024-03-16T07:12:35.740Z"
   },
   {
    "duration": 27,
    "start_time": "2024-03-16T07:12:35.752Z"
   },
   {
    "duration": 180,
    "start_time": "2024-03-16T07:12:35.781Z"
   },
   {
    "duration": 176,
    "start_time": "2024-03-16T07:12:35.963Z"
   },
   {
    "duration": 110,
    "start_time": "2024-03-16T07:12:36.141Z"
   },
   {
    "duration": 285,
    "start_time": "2024-03-16T07:12:36.253Z"
   },
   {
    "duration": 0,
    "start_time": "2024-03-16T07:12:36.540Z"
   },
   {
    "duration": 0,
    "start_time": "2024-03-16T07:12:36.541Z"
   },
   {
    "duration": 0,
    "start_time": "2024-03-16T07:12:36.542Z"
   },
   {
    "duration": 0,
    "start_time": "2024-03-16T07:12:36.544Z"
   },
   {
    "duration": 0,
    "start_time": "2024-03-16T07:12:36.545Z"
   },
   {
    "duration": 0,
    "start_time": "2024-03-16T07:12:36.547Z"
   },
   {
    "duration": 0,
    "start_time": "2024-03-16T07:12:36.548Z"
   },
   {
    "duration": 0,
    "start_time": "2024-03-16T07:12:36.549Z"
   },
   {
    "duration": 0,
    "start_time": "2024-03-16T07:12:36.550Z"
   },
   {
    "duration": 0,
    "start_time": "2024-03-16T07:12:36.551Z"
   },
   {
    "duration": 0,
    "start_time": "2024-03-16T07:12:36.552Z"
   },
   {
    "duration": 0,
    "start_time": "2024-03-16T07:12:36.554Z"
   },
   {
    "duration": 20,
    "start_time": "2024-03-16T07:15:56.305Z"
   },
   {
    "duration": 1551,
    "start_time": "2024-03-16T07:16:07.312Z"
   },
   {
    "duration": 897,
    "start_time": "2024-03-16T07:16:08.865Z"
   },
   {
    "duration": 3,
    "start_time": "2024-03-16T07:16:09.764Z"
   },
   {
    "duration": 411,
    "start_time": "2024-03-16T07:16:09.770Z"
   },
   {
    "duration": 168,
    "start_time": "2024-03-16T07:16:10.183Z"
   },
   {
    "duration": 372,
    "start_time": "2024-03-16T07:16:10.353Z"
   },
   {
    "duration": 14,
    "start_time": "2024-03-16T07:16:10.726Z"
   },
   {
    "duration": 4,
    "start_time": "2024-03-16T07:16:10.742Z"
   },
   {
    "duration": 12,
    "start_time": "2024-03-16T07:16:10.747Z"
   },
   {
    "duration": 6,
    "start_time": "2024-03-16T07:16:10.761Z"
   },
   {
    "duration": 14,
    "start_time": "2024-03-16T07:16:10.769Z"
   },
   {
    "duration": 19,
    "start_time": "2024-03-16T07:16:10.815Z"
   },
   {
    "duration": 10,
    "start_time": "2024-03-16T07:16:10.836Z"
   },
   {
    "duration": 10,
    "start_time": "2024-03-16T07:16:10.848Z"
   },
   {
    "duration": 3,
    "start_time": "2024-03-16T07:16:10.860Z"
   },
   {
    "duration": 7,
    "start_time": "2024-03-16T07:16:10.864Z"
   },
   {
    "duration": 3844,
    "start_time": "2024-03-16T07:16:10.874Z"
   },
   {
    "duration": 19,
    "start_time": "2024-03-16T07:16:14.719Z"
   },
   {
    "duration": 5172,
    "start_time": "2024-03-16T07:16:14.740Z"
   },
   {
    "duration": 0,
    "start_time": "2024-03-16T07:16:19.914Z"
   },
   {
    "duration": 0,
    "start_time": "2024-03-16T07:16:19.915Z"
   },
   {
    "duration": 0,
    "start_time": "2024-03-16T07:16:19.916Z"
   },
   {
    "duration": 0,
    "start_time": "2024-03-16T07:16:19.917Z"
   },
   {
    "duration": 0,
    "start_time": "2024-03-16T07:16:19.919Z"
   },
   {
    "duration": 0,
    "start_time": "2024-03-16T07:16:19.921Z"
   },
   {
    "duration": 0,
    "start_time": "2024-03-16T07:16:19.922Z"
   },
   {
    "duration": 0,
    "start_time": "2024-03-16T07:16:19.923Z"
   },
   {
    "duration": 0,
    "start_time": "2024-03-16T07:16:19.924Z"
   },
   {
    "duration": 0,
    "start_time": "2024-03-16T07:16:19.925Z"
   },
   {
    "duration": 0,
    "start_time": "2024-03-16T07:16:19.926Z"
   },
   {
    "duration": 0,
    "start_time": "2024-03-16T07:16:19.927Z"
   },
   {
    "duration": 0,
    "start_time": "2024-03-16T07:16:19.928Z"
   },
   {
    "duration": 0,
    "start_time": "2024-03-16T07:16:19.930Z"
   },
   {
    "duration": 0,
    "start_time": "2024-03-16T07:16:19.931Z"
   },
   {
    "duration": 0,
    "start_time": "2024-03-16T07:16:19.932Z"
   },
   {
    "duration": 5224,
    "start_time": "2024-03-16T07:16:54.781Z"
   },
   {
    "duration": 19,
    "start_time": "2024-03-16T07:21:20.105Z"
   },
   {
    "duration": 165,
    "start_time": "2024-03-16T07:21:22.995Z"
   },
   {
    "duration": 4,
    "start_time": "2024-03-16T07:21:54.852Z"
   },
   {
    "duration": 184,
    "start_time": "2024-03-16T07:21:58.116Z"
   },
   {
    "duration": 19,
    "start_time": "2024-03-16T07:22:30.307Z"
   },
   {
    "duration": 10,
    "start_time": "2024-03-16T07:24:51.656Z"
   },
   {
    "duration": 4,
    "start_time": "2024-03-16T07:25:08.945Z"
   },
   {
    "duration": 6,
    "start_time": "2024-03-16T07:25:48.439Z"
   },
   {
    "duration": 15,
    "start_time": "2024-03-16T07:25:49.109Z"
   },
   {
    "duration": 258,
    "start_time": "2024-03-16T07:25:50.911Z"
   },
   {
    "duration": 147,
    "start_time": "2024-03-16T07:25:54.137Z"
   },
   {
    "duration": 144,
    "start_time": "2024-03-16T07:26:08.091Z"
   },
   {
    "duration": 4,
    "start_time": "2024-03-16T07:26:22.188Z"
   },
   {
    "duration": 147,
    "start_time": "2024-03-16T07:26:25.253Z"
   },
   {
    "duration": 1588,
    "start_time": "2024-03-16T07:27:05.507Z"
   },
   {
    "duration": 933,
    "start_time": "2024-03-16T07:27:07.097Z"
   },
   {
    "duration": 3,
    "start_time": "2024-03-16T07:27:08.035Z"
   },
   {
    "duration": 419,
    "start_time": "2024-03-16T07:27:08.039Z"
   },
   {
    "duration": 171,
    "start_time": "2024-03-16T07:27:08.460Z"
   },
   {
    "duration": 431,
    "start_time": "2024-03-16T07:27:08.633Z"
   },
   {
    "duration": 19,
    "start_time": "2024-03-16T07:27:09.066Z"
   },
   {
    "duration": 5,
    "start_time": "2024-03-16T07:27:09.087Z"
   },
   {
    "duration": 15,
    "start_time": "2024-03-16T07:27:09.116Z"
   },
   {
    "duration": 13,
    "start_time": "2024-03-16T07:27:09.132Z"
   },
   {
    "duration": 21,
    "start_time": "2024-03-16T07:27:09.146Z"
   },
   {
    "duration": 15,
    "start_time": "2024-03-16T07:27:09.169Z"
   },
   {
    "duration": 34,
    "start_time": "2024-03-16T07:27:09.185Z"
   },
   {
    "duration": 12,
    "start_time": "2024-03-16T07:27:09.223Z"
   },
   {
    "duration": 2,
    "start_time": "2024-03-16T07:27:09.237Z"
   },
   {
    "duration": 6,
    "start_time": "2024-03-16T07:27:09.241Z"
   },
   {
    "duration": 4035,
    "start_time": "2024-03-16T07:27:09.248Z"
   },
   {
    "duration": 34,
    "start_time": "2024-03-16T07:27:13.284Z"
   },
   {
    "duration": 23,
    "start_time": "2024-03-16T07:27:13.319Z"
   },
   {
    "duration": 7,
    "start_time": "2024-03-16T07:27:13.343Z"
   },
   {
    "duration": 17,
    "start_time": "2024-03-16T07:27:13.351Z"
   },
   {
    "duration": 289,
    "start_time": "2024-03-16T07:27:13.370Z"
   },
   {
    "duration": 250,
    "start_time": "2024-03-16T07:27:13.661Z"
   },
   {
    "duration": 142,
    "start_time": "2024-03-16T07:27:13.912Z"
   },
   {
    "duration": 503,
    "start_time": "2024-03-16T07:27:14.055Z"
   },
   {
    "duration": 35,
    "start_time": "2024-03-16T07:27:14.560Z"
   },
   {
    "duration": 456,
    "start_time": "2024-03-16T07:27:14.617Z"
   },
   {
    "duration": 3,
    "start_time": "2024-03-16T07:27:15.075Z"
   },
   {
    "duration": 18,
    "start_time": "2024-03-16T07:27:15.079Z"
   },
   {
    "duration": 25,
    "start_time": "2024-03-16T07:27:15.099Z"
   },
   {
    "duration": 19,
    "start_time": "2024-03-16T07:27:15.126Z"
   },
   {
    "duration": 17,
    "start_time": "2024-03-16T07:27:15.146Z"
   },
   {
    "duration": 25,
    "start_time": "2024-03-16T07:27:15.164Z"
   },
   {
    "duration": 850,
    "start_time": "2024-03-16T07:27:15.191Z"
   },
   {
    "duration": 35,
    "start_time": "2024-03-16T07:27:16.043Z"
   },
   {
    "duration": 0,
    "start_time": "2024-03-16T07:27:16.079Z"
   },
   {
    "duration": 0,
    "start_time": "2024-03-16T07:27:16.081Z"
   },
   {
    "duration": 9,
    "start_time": "2024-03-16T07:28:07.182Z"
   },
   {
    "duration": 85,
    "start_time": "2024-03-16T07:28:19.946Z"
   },
   {
    "duration": 26,
    "start_time": "2024-03-16T07:28:23.823Z"
   },
   {
    "duration": 9,
    "start_time": "2024-03-16T07:29:44.244Z"
   },
   {
    "duration": 16,
    "start_time": "2024-03-16T07:30:18.526Z"
   },
   {
    "duration": 1530,
    "start_time": "2024-03-16T07:30:56.472Z"
   },
   {
    "duration": 920,
    "start_time": "2024-03-16T07:30:58.004Z"
   },
   {
    "duration": 3,
    "start_time": "2024-03-16T07:30:58.928Z"
   },
   {
    "duration": 405,
    "start_time": "2024-03-16T07:30:58.933Z"
   },
   {
    "duration": 167,
    "start_time": "2024-03-16T07:30:59.340Z"
   },
   {
    "duration": 373,
    "start_time": "2024-03-16T07:30:59.515Z"
   },
   {
    "duration": 14,
    "start_time": "2024-03-16T07:30:59.889Z"
   },
   {
    "duration": 9,
    "start_time": "2024-03-16T07:30:59.914Z"
   },
   {
    "duration": 13,
    "start_time": "2024-03-16T07:30:59.925Z"
   },
   {
    "duration": 6,
    "start_time": "2024-03-16T07:30:59.941Z"
   },
   {
    "duration": 13,
    "start_time": "2024-03-16T07:30:59.948Z"
   },
   {
    "duration": 13,
    "start_time": "2024-03-16T07:30:59.963Z"
   },
   {
    "duration": 40,
    "start_time": "2024-03-16T07:30:59.977Z"
   },
   {
    "duration": 14,
    "start_time": "2024-03-16T07:31:00.019Z"
   },
   {
    "duration": 29,
    "start_time": "2024-03-16T07:31:00.034Z"
   },
   {
    "duration": 25,
    "start_time": "2024-03-16T07:31:00.064Z"
   },
   {
    "duration": 4063,
    "start_time": "2024-03-16T07:31:00.091Z"
   },
   {
    "duration": 17,
    "start_time": "2024-03-16T07:31:04.156Z"
   },
   {
    "duration": 301,
    "start_time": "2024-03-16T07:31:04.175Z"
   },
   {
    "duration": 255,
    "start_time": "2024-03-16T07:31:04.479Z"
   },
   {
    "duration": 145,
    "start_time": "2024-03-16T07:31:04.738Z"
   },
   {
    "duration": 456,
    "start_time": "2024-03-16T07:31:04.885Z"
   },
   {
    "duration": 33,
    "start_time": "2024-03-16T07:31:05.342Z"
   },
   {
    "duration": 496,
    "start_time": "2024-03-16T07:31:05.376Z"
   },
   {
    "duration": 3,
    "start_time": "2024-03-16T07:31:05.874Z"
   },
   {
    "duration": 17,
    "start_time": "2024-03-16T07:31:05.879Z"
   },
   {
    "duration": 9,
    "start_time": "2024-03-16T07:31:05.898Z"
   },
   {
    "duration": 12,
    "start_time": "2024-03-16T07:31:05.910Z"
   },
   {
    "duration": 6,
    "start_time": "2024-03-16T07:31:05.924Z"
   },
   {
    "duration": 8,
    "start_time": "2024-03-16T07:31:05.931Z"
   },
   {
    "duration": 117554,
    "start_time": "2024-03-16T07:31:05.941Z"
   },
   {
    "duration": 1223,
    "start_time": "2024-03-16T07:33:03.497Z"
   },
   {
    "duration": 1950,
    "start_time": "2024-03-16T07:33:04.722Z"
   },
   {
    "duration": 9,
    "start_time": "2024-03-16T07:33:06.674Z"
   },
   {
    "duration": 1516,
    "start_time": "2024-03-16T07:35:49.734Z"
   },
   {
    "duration": 934,
    "start_time": "2024-03-16T07:35:51.252Z"
   },
   {
    "duration": 3,
    "start_time": "2024-03-16T07:35:52.188Z"
   },
   {
    "duration": 396,
    "start_time": "2024-03-16T07:35:52.193Z"
   },
   {
    "duration": 173,
    "start_time": "2024-03-16T07:35:52.591Z"
   },
   {
    "duration": 399,
    "start_time": "2024-03-16T07:35:52.765Z"
   },
   {
    "duration": 14,
    "start_time": "2024-03-16T07:35:53.166Z"
   },
   {
    "duration": 4,
    "start_time": "2024-03-16T07:35:53.181Z"
   },
   {
    "duration": 35,
    "start_time": "2024-03-16T07:35:53.187Z"
   },
   {
    "duration": 6,
    "start_time": "2024-03-16T07:35:53.232Z"
   },
   {
    "duration": 15,
    "start_time": "2024-03-16T07:35:53.240Z"
   },
   {
    "duration": 15,
    "start_time": "2024-03-16T07:35:53.257Z"
   },
   {
    "duration": 10,
    "start_time": "2024-03-16T07:35:53.274Z"
   },
   {
    "duration": 39,
    "start_time": "2024-03-16T07:35:53.286Z"
   },
   {
    "duration": 7,
    "start_time": "2024-03-16T07:35:53.327Z"
   },
   {
    "duration": 4,
    "start_time": "2024-03-16T07:35:53.336Z"
   },
   {
    "duration": 4071,
    "start_time": "2024-03-16T07:35:53.342Z"
   },
   {
    "duration": 23,
    "start_time": "2024-03-16T07:35:57.414Z"
   },
   {
    "duration": 147,
    "start_time": "2024-03-16T07:35:57.439Z"
   },
   {
    "duration": 0,
    "start_time": "2024-03-16T07:35:57.587Z"
   },
   {
    "duration": 0,
    "start_time": "2024-03-16T07:35:57.589Z"
   },
   {
    "duration": 0,
    "start_time": "2024-03-16T07:35:57.590Z"
   },
   {
    "duration": 0,
    "start_time": "2024-03-16T07:35:57.591Z"
   },
   {
    "duration": 0,
    "start_time": "2024-03-16T07:35:57.592Z"
   },
   {
    "duration": 0,
    "start_time": "2024-03-16T07:35:57.593Z"
   },
   {
    "duration": 0,
    "start_time": "2024-03-16T07:35:57.594Z"
   },
   {
    "duration": 0,
    "start_time": "2024-03-16T07:35:57.595Z"
   },
   {
    "duration": 0,
    "start_time": "2024-03-16T07:35:57.596Z"
   },
   {
    "duration": 0,
    "start_time": "2024-03-16T07:35:57.597Z"
   },
   {
    "duration": 0,
    "start_time": "2024-03-16T07:35:57.620Z"
   },
   {
    "duration": 0,
    "start_time": "2024-03-16T07:35:57.623Z"
   },
   {
    "duration": 0,
    "start_time": "2024-03-16T07:35:57.625Z"
   },
   {
    "duration": 0,
    "start_time": "2024-03-16T07:35:57.626Z"
   },
   {
    "duration": 0,
    "start_time": "2024-03-16T07:35:57.627Z"
   },
   {
    "duration": 0,
    "start_time": "2024-03-16T07:35:57.628Z"
   },
   {
    "duration": 16,
    "start_time": "2024-03-16T07:36:44.405Z"
   },
   {
    "duration": 19,
    "start_time": "2024-03-16T07:37:16.930Z"
   },
   {
    "duration": 11,
    "start_time": "2024-03-16T07:42:57.744Z"
   },
   {
    "duration": 16,
    "start_time": "2024-03-16T07:43:11.629Z"
   },
   {
    "duration": 5,
    "start_time": "2024-03-16T07:43:56.932Z"
   },
   {
    "duration": 22,
    "start_time": "2024-03-16T07:43:57.428Z"
   },
   {
    "duration": 284,
    "start_time": "2024-03-16T07:43:57.942Z"
   },
   {
    "duration": 290,
    "start_time": "2024-03-16T07:44:01.903Z"
   },
   {
    "duration": 153,
    "start_time": "2024-03-16T07:44:03.745Z"
   },
   {
    "duration": 460,
    "start_time": "2024-03-16T07:44:08.994Z"
   },
   {
    "duration": 45,
    "start_time": "2024-03-16T07:44:15.508Z"
   },
   {
    "duration": 468,
    "start_time": "2024-03-16T07:44:17.271Z"
   },
   {
    "duration": 5,
    "start_time": "2024-03-16T07:44:23.120Z"
   },
   {
    "duration": 3,
    "start_time": "2024-03-16T07:44:24.703Z"
   },
   {
    "duration": 7,
    "start_time": "2024-03-16T07:44:31.799Z"
   },
   {
    "duration": 3,
    "start_time": "2024-03-16T07:44:35.987Z"
   },
   {
    "duration": 3,
    "start_time": "2024-03-16T07:44:37.607Z"
   },
   {
    "duration": 8,
    "start_time": "2024-03-16T07:44:38.185Z"
   },
   {
    "duration": 707,
    "start_time": "2024-03-16T07:44:40.969Z"
   },
   {
    "duration": 8,
    "start_time": "2024-03-16T07:45:52.645Z"
   },
   {
    "duration": 5,
    "start_time": "2024-03-16T07:45:53.339Z"
   },
   {
    "duration": 19,
    "start_time": "2024-03-16T07:45:53.663Z"
   },
   {
    "duration": 255,
    "start_time": "2024-03-16T07:45:54.081Z"
   },
   {
    "duration": 150,
    "start_time": "2024-03-16T07:45:54.935Z"
   },
   {
    "duration": 127,
    "start_time": "2024-03-16T07:45:56.067Z"
   },
   {
    "duration": 12,
    "start_time": "2024-03-16T07:46:08.085Z"
   },
   {
    "duration": 256,
    "start_time": "2024-03-16T07:46:08.485Z"
   },
   {
    "duration": 156,
    "start_time": "2024-03-16T07:46:09.507Z"
   },
   {
    "duration": 135,
    "start_time": "2024-03-16T07:46:10.316Z"
   },
   {
    "duration": 469,
    "start_time": "2024-03-16T07:46:11.883Z"
   },
   {
    "duration": 1135,
    "start_time": "2024-03-16T07:46:15.758Z"
   },
   {
    "duration": 9,
    "start_time": "2024-03-16T07:46:59.401Z"
   },
   {
    "duration": 8,
    "start_time": "2024-03-16T07:48:13.031Z"
   },
   {
    "duration": 294,
    "start_time": "2024-03-16T07:48:16.986Z"
   },
   {
    "duration": 428,
    "start_time": "2024-03-16T07:48:22.723Z"
   },
   {
    "duration": 1138,
    "start_time": "2024-03-16T07:48:25.919Z"
   },
   {
    "duration": 1277,
    "start_time": "2024-03-16T07:48:27.397Z"
   },
   {
    "duration": 1556,
    "start_time": "2024-03-16T07:49:18.909Z"
   },
   {
    "duration": 905,
    "start_time": "2024-03-16T07:49:20.467Z"
   },
   {
    "duration": 3,
    "start_time": "2024-03-16T07:49:21.374Z"
   },
   {
    "duration": 403,
    "start_time": "2024-03-16T07:49:21.379Z"
   },
   {
    "duration": 173,
    "start_time": "2024-03-16T07:49:21.784Z"
   },
   {
    "duration": 404,
    "start_time": "2024-03-16T07:49:21.959Z"
   },
   {
    "duration": 16,
    "start_time": "2024-03-16T07:49:22.365Z"
   },
   {
    "duration": 4,
    "start_time": "2024-03-16T07:49:22.383Z"
   },
   {
    "duration": 41,
    "start_time": "2024-03-16T07:49:22.389Z"
   },
   {
    "duration": 6,
    "start_time": "2024-03-16T07:49:22.434Z"
   },
   {
    "duration": 17,
    "start_time": "2024-03-16T07:49:22.441Z"
   },
   {
    "duration": 20,
    "start_time": "2024-03-16T07:49:22.460Z"
   },
   {
    "duration": 13,
    "start_time": "2024-03-16T07:49:22.482Z"
   },
   {
    "duration": 20,
    "start_time": "2024-03-16T07:49:22.515Z"
   },
   {
    "duration": 14,
    "start_time": "2024-03-16T07:49:22.537Z"
   },
   {
    "duration": 3,
    "start_time": "2024-03-16T07:49:22.553Z"
   },
   {
    "duration": 4274,
    "start_time": "2024-03-16T07:49:22.558Z"
   },
   {
    "duration": 17,
    "start_time": "2024-03-16T07:49:26.834Z"
   },
   {
    "duration": 489,
    "start_time": "2024-03-16T07:49:26.853Z"
   },
   {
    "duration": 32,
    "start_time": "2024-03-16T07:49:27.343Z"
   },
   {
    "duration": 474,
    "start_time": "2024-03-16T07:49:27.376Z"
   },
   {
    "duration": 3,
    "start_time": "2024-03-16T07:49:27.852Z"
   },
   {
    "duration": 6,
    "start_time": "2024-03-16T07:49:27.857Z"
   },
   {
    "duration": 28,
    "start_time": "2024-03-16T07:49:27.865Z"
   },
   {
    "duration": 3,
    "start_time": "2024-03-16T07:49:27.895Z"
   },
   {
    "duration": 3,
    "start_time": "2024-03-16T07:49:27.899Z"
   },
   {
    "duration": 26,
    "start_time": "2024-03-16T07:49:27.904Z"
   },
   {
    "duration": 115794,
    "start_time": "2024-03-16T07:49:27.933Z"
   },
   {
    "duration": 1186,
    "start_time": "2024-03-16T07:51:23.730Z"
   },
   {
    "duration": 1947,
    "start_time": "2024-03-16T07:51:24.918Z"
   },
   {
    "duration": 8,
    "start_time": "2024-03-16T07:51:26.866Z"
   },
   {
    "duration": 74,
    "start_time": "2024-03-16T07:54:49.609Z"
   },
   {
    "duration": 1534,
    "start_time": "2024-03-16T09:04:28.672Z"
   },
   {
    "duration": 952,
    "start_time": "2024-03-16T09:04:30.208Z"
   },
   {
    "duration": 4,
    "start_time": "2024-03-16T09:04:31.161Z"
   },
   {
    "duration": 465,
    "start_time": "2024-03-16T09:04:31.167Z"
   },
   {
    "duration": 176,
    "start_time": "2024-03-16T09:04:31.634Z"
   },
   {
    "duration": 394,
    "start_time": "2024-03-16T09:04:31.816Z"
   },
   {
    "duration": 17,
    "start_time": "2024-03-16T09:04:32.221Z"
   },
   {
    "duration": 11,
    "start_time": "2024-03-16T09:04:32.240Z"
   },
   {
    "duration": 13,
    "start_time": "2024-03-16T09:04:32.252Z"
   },
   {
    "duration": 6,
    "start_time": "2024-03-16T09:04:32.267Z"
   },
   {
    "duration": 19,
    "start_time": "2024-03-16T09:04:32.274Z"
   },
   {
    "duration": 33,
    "start_time": "2024-03-16T09:04:32.295Z"
   },
   {
    "duration": 9,
    "start_time": "2024-03-16T09:04:32.331Z"
   },
   {
    "duration": 9,
    "start_time": "2024-03-16T09:04:32.342Z"
   },
   {
    "duration": 2,
    "start_time": "2024-03-16T09:04:32.353Z"
   },
   {
    "duration": 5,
    "start_time": "2024-03-16T09:04:32.357Z"
   },
   {
    "duration": 4229,
    "start_time": "2024-03-16T09:04:32.364Z"
   },
   {
    "duration": 36,
    "start_time": "2024-03-16T09:04:36.595Z"
   },
   {
    "duration": 15,
    "start_time": "2024-03-16T09:04:36.633Z"
   },
   {
    "duration": 5,
    "start_time": "2024-03-16T09:04:36.650Z"
   },
   {
    "duration": 20,
    "start_time": "2024-03-16T09:04:36.656Z"
   },
   {
    "duration": 474,
    "start_time": "2024-03-16T09:04:36.678Z"
   },
   {
    "duration": 38,
    "start_time": "2024-03-16T09:04:37.154Z"
   },
   {
    "duration": 510,
    "start_time": "2024-03-16T09:04:37.194Z"
   },
   {
    "duration": 10,
    "start_time": "2024-03-16T09:04:37.706Z"
   },
   {
    "duration": 7,
    "start_time": "2024-03-16T09:04:37.717Z"
   },
   {
    "duration": 14,
    "start_time": "2024-03-16T09:04:37.726Z"
   },
   {
    "duration": 21,
    "start_time": "2024-03-16T09:04:37.744Z"
   },
   {
    "duration": 9,
    "start_time": "2024-03-16T09:04:37.766Z"
   },
   {
    "duration": 11,
    "start_time": "2024-03-16T09:04:37.777Z"
   },
   {
    "duration": 824,
    "start_time": "2024-03-16T09:04:37.790Z"
   },
   {
    "duration": 40,
    "start_time": "2024-03-16T09:04:38.615Z"
   },
   {
    "duration": 0,
    "start_time": "2024-03-16T09:04:38.657Z"
   },
   {
    "duration": 0,
    "start_time": "2024-03-16T09:04:38.658Z"
   },
   {
    "duration": 1526,
    "start_time": "2024-03-16T09:08:21.935Z"
   },
   {
    "duration": 932,
    "start_time": "2024-03-16T09:08:25.021Z"
   },
   {
    "duration": 4,
    "start_time": "2024-03-16T09:08:26.127Z"
   },
   {
    "duration": 399,
    "start_time": "2024-03-16T09:08:26.996Z"
   },
   {
    "duration": 167,
    "start_time": "2024-03-16T09:08:27.887Z"
   },
   {
    "duration": 377,
    "start_time": "2024-03-16T09:08:28.463Z"
   },
   {
    "duration": 15,
    "start_time": "2024-03-16T09:08:29.047Z"
   },
   {
    "duration": 4,
    "start_time": "2024-03-16T09:08:29.799Z"
   },
   {
    "duration": 11,
    "start_time": "2024-03-16T09:08:34.368Z"
   },
   {
    "duration": 6,
    "start_time": "2024-03-16T09:08:36.960Z"
   },
   {
    "duration": 13,
    "start_time": "2024-03-16T09:08:39.838Z"
   },
   {
    "duration": 14,
    "start_time": "2024-03-16T09:08:44.568Z"
   },
   {
    "duration": 14,
    "start_time": "2024-03-16T09:08:47.512Z"
   },
   {
    "duration": 12,
    "start_time": "2024-03-16T09:08:48.927Z"
   },
   {
    "duration": 3,
    "start_time": "2024-03-16T09:08:51.794Z"
   },
   {
    "duration": 3,
    "start_time": "2024-03-16T09:08:52.414Z"
   },
   {
    "duration": 4066,
    "start_time": "2024-03-16T09:08:53.058Z"
   },
   {
    "duration": 16,
    "start_time": "2024-03-16T09:08:57.126Z"
   },
   {
    "duration": 16,
    "start_time": "2024-03-16T09:09:00.058Z"
   },
   {
    "duration": 6,
    "start_time": "2024-03-16T09:09:00.748Z"
   },
   {
    "duration": 24,
    "start_time": "2024-03-16T09:09:01.710Z"
   },
   {
    "duration": 410,
    "start_time": "2024-03-16T09:09:03.539Z"
   },
   {
    "duration": 36,
    "start_time": "2024-03-16T09:09:08.619Z"
   },
   {
    "duration": 460,
    "start_time": "2024-03-16T09:09:11.011Z"
   },
   {
    "duration": 7,
    "start_time": "2024-03-16T09:09:18.920Z"
   },
   {
    "duration": 5,
    "start_time": "2024-03-16T09:09:22.223Z"
   },
   {
    "duration": 14,
    "start_time": "2024-03-16T09:09:27.617Z"
   },
   {
    "duration": 3,
    "start_time": "2024-03-16T09:09:29.159Z"
   },
   {
    "duration": 3,
    "start_time": "2024-03-16T09:09:31.727Z"
   },
   {
    "duration": 7,
    "start_time": "2024-03-16T09:09:32.435Z"
   },
   {
    "duration": 824,
    "start_time": "2024-03-16T09:09:36.313Z"
   },
   {
    "duration": 285,
    "start_time": "2024-03-16T09:56:48.850Z"
   },
   {
    "duration": 774,
    "start_time": "2024-03-16T09:57:11.825Z"
   },
   {
    "duration": 1594,
    "start_time": "2024-03-16T10:01:43.317Z"
   },
   {
    "duration": 1028,
    "start_time": "2024-03-16T10:01:44.913Z"
   },
   {
    "duration": 4,
    "start_time": "2024-03-16T10:01:45.948Z"
   },
   {
    "duration": 430,
    "start_time": "2024-03-16T10:01:45.954Z"
   },
   {
    "duration": 193,
    "start_time": "2024-03-16T10:01:46.386Z"
   },
   {
    "duration": 457,
    "start_time": "2024-03-16T10:01:46.581Z"
   },
   {
    "duration": 21,
    "start_time": "2024-03-16T10:01:47.039Z"
   },
   {
    "duration": 5,
    "start_time": "2024-03-16T10:01:47.061Z"
   },
   {
    "duration": 15,
    "start_time": "2024-03-16T10:01:47.067Z"
   },
   {
    "duration": 5,
    "start_time": "2024-03-16T10:01:47.084Z"
   },
   {
    "duration": 40,
    "start_time": "2024-03-16T10:01:47.091Z"
   },
   {
    "duration": 20,
    "start_time": "2024-03-16T10:01:47.135Z"
   },
   {
    "duration": 12,
    "start_time": "2024-03-16T10:01:47.156Z"
   },
   {
    "duration": 9,
    "start_time": "2024-03-16T10:01:47.172Z"
   },
   {
    "duration": 6,
    "start_time": "2024-03-16T10:01:47.183Z"
   },
   {
    "duration": 31,
    "start_time": "2024-03-16T10:01:47.190Z"
   },
   {
    "duration": 4266,
    "start_time": "2024-03-16T10:01:47.225Z"
   },
   {
    "duration": 41,
    "start_time": "2024-03-16T10:01:51.492Z"
   },
   {
    "duration": 432,
    "start_time": "2024-03-16T10:01:51.538Z"
   },
   {
    "duration": 57,
    "start_time": "2024-03-16T10:01:51.972Z"
   },
   {
    "duration": 478,
    "start_time": "2024-03-16T10:01:52.032Z"
   },
   {
    "duration": 16,
    "start_time": "2024-03-16T10:01:52.512Z"
   },
   {
    "duration": 12,
    "start_time": "2024-03-16T10:01:52.532Z"
   },
   {
    "duration": 10,
    "start_time": "2024-03-16T10:01:52.546Z"
   },
   {
    "duration": 3,
    "start_time": "2024-03-16T10:01:52.558Z"
   },
   {
    "duration": 3,
    "start_time": "2024-03-16T10:01:52.562Z"
   },
   {
    "duration": 11,
    "start_time": "2024-03-16T10:01:52.567Z"
   },
   {
    "duration": 119566,
    "start_time": "2024-03-16T10:01:52.580Z"
   },
   {
    "duration": 1274,
    "start_time": "2024-03-16T10:03:52.148Z"
   },
   {
    "duration": 2073,
    "start_time": "2024-03-16T10:03:53.425Z"
   },
   {
    "duration": 22,
    "start_time": "2024-03-16T10:03:55.500Z"
   },
   {
    "duration": 128,
    "start_time": "2024-03-16T10:23:06.354Z"
   },
   {
    "duration": 10,
    "start_time": "2024-03-16T10:26:52.227Z"
   },
   {
    "duration": 10,
    "start_time": "2024-03-16T10:28:54.903Z"
   },
   {
    "duration": 9,
    "start_time": "2024-03-16T10:32:43.954Z"
   },
   {
    "duration": 15,
    "start_time": "2024-03-16T10:33:09.821Z"
   },
   {
    "duration": 12,
    "start_time": "2024-03-16T10:43:26.151Z"
   },
   {
    "duration": 510,
    "start_time": "2024-03-16T10:43:29.791Z"
   },
   {
    "duration": 1153,
    "start_time": "2024-03-16T10:43:35.320Z"
   },
   {
    "duration": 1367,
    "start_time": "2024-03-16T10:44:00.988Z"
   },
   {
    "duration": 4,
    "start_time": "2024-03-16T10:44:10.197Z"
   },
   {
    "duration": 4,
    "start_time": "2024-03-16T10:44:10.807Z"
   },
   {
    "duration": 14,
    "start_time": "2024-03-16T10:44:14.322Z"
   },
   {
    "duration": 3,
    "start_time": "2024-03-16T10:44:15.507Z"
   },
   {
    "duration": 3,
    "start_time": "2024-03-16T10:44:16.858Z"
   },
   {
    "duration": 10,
    "start_time": "2024-03-16T10:44:17.333Z"
   },
   {
    "duration": 82,
    "start_time": "2024-03-16T10:44:19.423Z"
   },
   {
    "duration": 122427,
    "start_time": "2024-03-16T10:44:30.664Z"
   },
   {
    "duration": 1119,
    "start_time": "2024-03-16T10:50:20.672Z"
   },
   {
    "duration": 1102,
    "start_time": "2024-03-16T10:51:14.976Z"
   },
   {
    "duration": 34,
    "start_time": "2024-03-16T10:52:01.549Z"
   },
   {
    "duration": 252,
    "start_time": "2024-03-16T10:52:30.819Z"
   },
   {
    "duration": 13,
    "start_time": "2024-03-16T10:53:18.137Z"
   },
   {
    "duration": 31,
    "start_time": "2024-03-16T10:53:19.252Z"
   },
   {
    "duration": 4,
    "start_time": "2024-03-16T11:29:46.533Z"
   },
   {
    "duration": 233,
    "start_time": "2024-03-16T11:29:50.197Z"
   },
   {
    "duration": 1564,
    "start_time": "2024-03-16T11:30:17.960Z"
   },
   {
    "duration": 860,
    "start_time": "2024-03-16T11:30:19.527Z"
   },
   {
    "duration": 3,
    "start_time": "2024-03-16T11:30:20.389Z"
   },
   {
    "duration": 388,
    "start_time": "2024-03-16T11:30:20.393Z"
   },
   {
    "duration": 180,
    "start_time": "2024-03-16T11:30:20.783Z"
   },
   {
    "duration": 374,
    "start_time": "2024-03-16T11:30:20.964Z"
   },
   {
    "duration": 15,
    "start_time": "2024-03-16T11:30:21.340Z"
   },
   {
    "duration": 4,
    "start_time": "2024-03-16T11:30:21.357Z"
   },
   {
    "duration": 18,
    "start_time": "2024-03-16T11:30:21.363Z"
   },
   {
    "duration": 30,
    "start_time": "2024-03-16T11:30:21.385Z"
   },
   {
    "duration": 20,
    "start_time": "2024-03-16T11:30:21.417Z"
   },
   {
    "duration": 17,
    "start_time": "2024-03-16T11:30:21.439Z"
   },
   {
    "duration": 19,
    "start_time": "2024-03-16T11:30:21.458Z"
   },
   {
    "duration": 9,
    "start_time": "2024-03-16T11:30:21.478Z"
   },
   {
    "duration": 26,
    "start_time": "2024-03-16T11:30:21.489Z"
   },
   {
    "duration": 4,
    "start_time": "2024-03-16T11:30:21.516Z"
   },
   {
    "duration": 3962,
    "start_time": "2024-03-16T11:30:21.521Z"
   },
   {
    "duration": 16,
    "start_time": "2024-03-16T11:30:25.485Z"
   },
   {
    "duration": 442,
    "start_time": "2024-03-16T11:30:25.515Z"
   },
   {
    "duration": 33,
    "start_time": "2024-03-16T11:30:25.959Z"
   },
   {
    "duration": 463,
    "start_time": "2024-03-16T11:30:25.994Z"
   },
   {
    "duration": 3,
    "start_time": "2024-03-16T11:30:26.459Z"
   },
   {
    "duration": 5,
    "start_time": "2024-03-16T11:30:26.464Z"
   },
   {
    "duration": 12,
    "start_time": "2024-03-16T11:30:26.471Z"
   },
   {
    "duration": 4,
    "start_time": "2024-03-16T11:30:26.484Z"
   },
   {
    "duration": 4,
    "start_time": "2024-03-16T11:30:26.489Z"
   },
   {
    "duration": 10,
    "start_time": "2024-03-16T11:30:26.515Z"
   },
   {
    "duration": 114845,
    "start_time": "2024-03-16T11:30:26.528Z"
   },
   {
    "duration": 1260,
    "start_time": "2024-03-16T11:32:21.375Z"
   },
   {
    "duration": 2085,
    "start_time": "2024-03-16T11:32:22.637Z"
   },
   {
    "duration": 10,
    "start_time": "2024-03-16T11:32:24.724Z"
   },
   {
    "duration": 46,
    "start_time": "2024-03-16T11:50:02.648Z"
   },
   {
    "duration": 55,
    "start_time": "2024-03-16T11:50:37.162Z"
   },
   {
    "duration": 8,
    "start_time": "2024-03-16T11:51:16.615Z"
   },
   {
    "duration": 20,
    "start_time": "2024-03-16T11:51:25.681Z"
   },
   {
    "duration": 416,
    "start_time": "2024-03-16T11:51:28.732Z"
   },
   {
    "duration": 1274,
    "start_time": "2024-03-16T11:51:33.984Z"
   },
   {
    "duration": 1263,
    "start_time": "2024-03-16T11:51:47.783Z"
   },
   {
    "duration": 3,
    "start_time": "2024-03-16T11:51:57.374Z"
   },
   {
    "duration": 4,
    "start_time": "2024-03-16T11:51:57.702Z"
   },
   {
    "duration": 6,
    "start_time": "2024-03-16T11:52:00.331Z"
   },
   {
    "duration": 3,
    "start_time": "2024-03-16T11:52:01.241Z"
   },
   {
    "duration": 3,
    "start_time": "2024-03-16T11:52:02.299Z"
   },
   {
    "duration": 8,
    "start_time": "2024-03-16T11:52:02.678Z"
   },
   {
    "duration": 657,
    "start_time": "2024-03-16T11:52:04.487Z"
   },
   {
    "duration": 36,
    "start_time": "2024-03-16T11:52:08.738Z"
   },
   {
    "duration": 1452,
    "start_time": "2024-03-16T11:52:22.777Z"
   },
   {
    "duration": 863,
    "start_time": "2024-03-16T11:52:24.231Z"
   },
   {
    "duration": 3,
    "start_time": "2024-03-16T11:52:25.096Z"
   },
   {
    "duration": 375,
    "start_time": "2024-03-16T11:52:25.101Z"
   },
   {
    "duration": 167,
    "start_time": "2024-03-16T11:52:25.477Z"
   },
   {
    "duration": 376,
    "start_time": "2024-03-16T11:52:25.646Z"
   },
   {
    "duration": 14,
    "start_time": "2024-03-16T11:52:26.023Z"
   },
   {
    "duration": 3,
    "start_time": "2024-03-16T11:52:26.039Z"
   },
   {
    "duration": 10,
    "start_time": "2024-03-16T11:52:26.043Z"
   },
   {
    "duration": 5,
    "start_time": "2024-03-16T11:52:26.056Z"
   },
   {
    "duration": 14,
    "start_time": "2024-03-16T11:52:26.062Z"
   },
   {
    "duration": 49,
    "start_time": "2024-03-16T11:52:26.077Z"
   },
   {
    "duration": 9,
    "start_time": "2024-03-16T11:52:26.128Z"
   },
   {
    "duration": 8,
    "start_time": "2024-03-16T11:52:26.139Z"
   },
   {
    "duration": 3,
    "start_time": "2024-03-16T11:52:26.148Z"
   },
   {
    "duration": 3,
    "start_time": "2024-03-16T11:52:26.153Z"
   },
   {
    "duration": 3829,
    "start_time": "2024-03-16T11:52:26.158Z"
   },
   {
    "duration": 15,
    "start_time": "2024-03-16T11:52:29.989Z"
   },
   {
    "duration": 32,
    "start_time": "2024-03-16T11:52:30.015Z"
   },
   {
    "duration": 20,
    "start_time": "2024-03-16T11:52:30.050Z"
   },
   {
    "duration": 466,
    "start_time": "2024-03-16T11:52:30.072Z"
   },
   {
    "duration": 48,
    "start_time": "2024-03-16T11:52:30.540Z"
   },
   {
    "duration": 481,
    "start_time": "2024-03-16T11:52:30.589Z"
   },
   {
    "duration": 3,
    "start_time": "2024-03-16T11:52:31.072Z"
   },
   {
    "duration": 70,
    "start_time": "2024-03-16T11:52:31.077Z"
   },
   {
    "duration": 65,
    "start_time": "2024-03-16T11:52:31.149Z"
   },
   {
    "duration": 27,
    "start_time": "2024-03-16T11:52:31.217Z"
   },
   {
    "duration": 37,
    "start_time": "2024-03-16T11:52:31.247Z"
   },
   {
    "duration": 80,
    "start_time": "2024-03-16T11:52:31.286Z"
   },
   {
    "duration": 819,
    "start_time": "2024-03-16T11:52:31.368Z"
   },
   {
    "duration": 37,
    "start_time": "2024-03-16T11:52:32.189Z"
   },
   {
    "duration": 0,
    "start_time": "2024-03-16T11:52:32.227Z"
   },
   {
    "duration": 0,
    "start_time": "2024-03-16T11:52:32.229Z"
   },
   {
    "duration": 1521,
    "start_time": "2024-03-16T11:53:36.915Z"
   },
   {
    "duration": 885,
    "start_time": "2024-03-16T11:53:38.439Z"
   },
   {
    "duration": 4,
    "start_time": "2024-03-16T11:53:39.325Z"
   },
   {
    "duration": 380,
    "start_time": "2024-03-16T11:53:39.330Z"
   },
   {
    "duration": 152,
    "start_time": "2024-03-16T11:53:39.715Z"
   },
   {
    "duration": 381,
    "start_time": "2024-03-16T11:53:39.869Z"
   },
   {
    "duration": 14,
    "start_time": "2024-03-16T11:53:40.252Z"
   },
   {
    "duration": 7,
    "start_time": "2024-03-16T11:53:40.267Z"
   },
   {
    "duration": 11,
    "start_time": "2024-03-16T11:53:40.276Z"
   },
   {
    "duration": 27,
    "start_time": "2024-03-16T11:53:40.288Z"
   },
   {
    "duration": 14,
    "start_time": "2024-03-16T11:53:40.317Z"
   },
   {
    "duration": 13,
    "start_time": "2024-03-16T11:53:40.333Z"
   },
   {
    "duration": 8,
    "start_time": "2024-03-16T11:53:40.348Z"
   },
   {
    "duration": 21,
    "start_time": "2024-03-16T11:53:40.359Z"
   },
   {
    "duration": 2,
    "start_time": "2024-03-16T11:53:40.382Z"
   },
   {
    "duration": 2,
    "start_time": "2024-03-16T11:53:40.416Z"
   },
   {
    "duration": 3795,
    "start_time": "2024-03-16T11:53:40.420Z"
   },
   {
    "duration": 16,
    "start_time": "2024-03-16T11:53:44.217Z"
   },
   {
    "duration": 499,
    "start_time": "2024-03-16T11:53:44.234Z"
   },
   {
    "duration": 32,
    "start_time": "2024-03-16T11:53:44.734Z"
   },
   {
    "duration": 461,
    "start_time": "2024-03-16T11:53:44.767Z"
   },
   {
    "duration": 3,
    "start_time": "2024-03-16T11:53:45.230Z"
   },
   {
    "duration": 32,
    "start_time": "2024-03-16T11:53:45.235Z"
   },
   {
    "duration": 40,
    "start_time": "2024-03-16T11:53:45.268Z"
   },
   {
    "duration": 21,
    "start_time": "2024-03-16T11:53:45.309Z"
   },
   {
    "duration": 11,
    "start_time": "2024-03-16T11:53:45.331Z"
   },
   {
    "duration": 21,
    "start_time": "2024-03-16T11:53:45.343Z"
   },
   {
    "duration": 111807,
    "start_time": "2024-03-16T11:53:45.365Z"
   },
   {
    "duration": 1065,
    "start_time": "2024-03-16T11:55:37.173Z"
   },
   {
    "duration": 1938,
    "start_time": "2024-03-16T11:55:38.316Z"
   },
   {
    "duration": 9,
    "start_time": "2024-03-16T11:55:40.256Z"
   },
   {
    "duration": 131,
    "start_time": "2024-03-16T11:59:06.755Z"
   },
   {
    "duration": 24,
    "start_time": "2024-03-16T11:59:26.023Z"
   },
   {
    "duration": 22,
    "start_time": "2024-03-16T11:59:38.987Z"
   },
   {
    "duration": 13,
    "start_time": "2024-03-16T12:00:18.412Z"
   },
   {
    "duration": 6,
    "start_time": "2024-03-16T12:00:20.268Z"
   },
   {
    "duration": 21,
    "start_time": "2024-03-16T12:00:20.593Z"
   },
   {
    "duration": 508,
    "start_time": "2024-03-16T12:00:23.631Z"
   },
   {
    "duration": 1224,
    "start_time": "2024-03-16T12:00:28.316Z"
   },
   {
    "duration": 8,
    "start_time": "2024-03-16T12:01:09.079Z"
   },
   {
    "duration": 6,
    "start_time": "2024-03-16T12:01:09.400Z"
   },
   {
    "duration": 15,
    "start_time": "2024-03-16T12:01:09.635Z"
   },
   {
    "duration": 545,
    "start_time": "2024-03-16T12:01:12.598Z"
   },
   {
    "duration": 1290,
    "start_time": "2024-03-16T12:01:16.356Z"
   },
   {
    "duration": 4,
    "start_time": "2024-03-16T12:01:40.212Z"
   },
   {
    "duration": 7,
    "start_time": "2024-03-16T12:01:40.626Z"
   },
   {
    "duration": 6,
    "start_time": "2024-03-16T12:01:42.660Z"
   },
   {
    "duration": 3,
    "start_time": "2024-03-16T12:01:43.395Z"
   },
   {
    "duration": 2,
    "start_time": "2024-03-16T12:01:44.320Z"
   },
   {
    "duration": 8,
    "start_time": "2024-03-16T12:01:44.616Z"
   },
   {
    "duration": 694,
    "start_time": "2024-03-16T12:01:46.677Z"
   },
   {
    "duration": 1515,
    "start_time": "2024-03-16T12:02:11.874Z"
   },
   {
    "duration": 932,
    "start_time": "2024-03-16T12:02:13.391Z"
   },
   {
    "duration": 4,
    "start_time": "2024-03-16T12:02:14.329Z"
   },
   {
    "duration": 427,
    "start_time": "2024-03-16T12:02:14.336Z"
   },
   {
    "duration": 197,
    "start_time": "2024-03-16T12:02:14.764Z"
   },
   {
    "duration": 386,
    "start_time": "2024-03-16T12:02:14.963Z"
   },
   {
    "duration": 15,
    "start_time": "2024-03-16T12:02:15.350Z"
   },
   {
    "duration": 18,
    "start_time": "2024-03-16T12:02:15.367Z"
   },
   {
    "duration": 38,
    "start_time": "2024-03-16T12:02:15.387Z"
   },
   {
    "duration": 19,
    "start_time": "2024-03-16T12:02:15.428Z"
   },
   {
    "duration": 27,
    "start_time": "2024-03-16T12:02:15.448Z"
   },
   {
    "duration": 19,
    "start_time": "2024-03-16T12:02:15.477Z"
   },
   {
    "duration": 24,
    "start_time": "2024-03-16T12:02:15.497Z"
   },
   {
    "duration": 14,
    "start_time": "2024-03-16T12:02:15.522Z"
   },
   {
    "duration": 4,
    "start_time": "2024-03-16T12:02:15.537Z"
   },
   {
    "duration": 8,
    "start_time": "2024-03-16T12:02:15.542Z"
   },
   {
    "duration": 4148,
    "start_time": "2024-03-16T12:02:15.551Z"
   },
   {
    "duration": 35,
    "start_time": "2024-03-16T12:02:19.700Z"
   },
   {
    "duration": 434,
    "start_time": "2024-03-16T12:02:19.737Z"
   },
   {
    "duration": 50,
    "start_time": "2024-03-16T12:02:20.174Z"
   },
   {
    "duration": 496,
    "start_time": "2024-03-16T12:02:20.226Z"
   },
   {
    "duration": 4,
    "start_time": "2024-03-16T12:02:20.731Z"
   },
   {
    "duration": 7,
    "start_time": "2024-03-16T12:02:20.737Z"
   },
   {
    "duration": 28,
    "start_time": "2024-03-16T12:02:20.746Z"
   },
   {
    "duration": 5,
    "start_time": "2024-03-16T12:02:20.776Z"
   },
   {
    "duration": 4,
    "start_time": "2024-03-16T12:02:20.782Z"
   },
   {
    "duration": 17,
    "start_time": "2024-03-16T12:02:20.788Z"
   },
   {
    "duration": 116471,
    "start_time": "2024-03-16T12:02:20.809Z"
   },
   {
    "duration": 1157,
    "start_time": "2024-03-16T12:04:17.282Z"
   },
   {
    "duration": 1938,
    "start_time": "2024-03-16T12:04:18.522Z"
   },
   {
    "duration": 7,
    "start_time": "2024-03-16T12:04:20.462Z"
   },
   {
    "duration": 1443,
    "start_time": "2024-03-16T12:19:04.658Z"
   },
   {
    "duration": 963,
    "start_time": "2024-03-16T12:19:06.102Z"
   },
   {
    "duration": 3,
    "start_time": "2024-03-16T12:19:07.066Z"
   },
   {
    "duration": 477,
    "start_time": "2024-03-16T12:19:07.070Z"
   },
   {
    "duration": 210,
    "start_time": "2024-03-16T12:19:07.549Z"
   },
   {
    "duration": 370,
    "start_time": "2024-03-16T12:19:07.761Z"
   },
   {
    "duration": 14,
    "start_time": "2024-03-16T12:19:08.133Z"
   },
   {
    "duration": 6,
    "start_time": "2024-03-16T12:19:08.149Z"
   },
   {
    "duration": 25,
    "start_time": "2024-03-16T12:19:08.156Z"
   },
   {
    "duration": 6,
    "start_time": "2024-03-16T12:19:08.183Z"
   },
   {
    "duration": 31,
    "start_time": "2024-03-16T12:19:08.191Z"
   },
   {
    "duration": 16,
    "start_time": "2024-03-16T12:19:08.224Z"
   },
   {
    "duration": 10,
    "start_time": "2024-03-16T12:19:08.241Z"
   },
   {
    "duration": 8,
    "start_time": "2024-03-16T12:19:08.254Z"
   },
   {
    "duration": 3,
    "start_time": "2024-03-16T12:19:08.264Z"
   },
   {
    "duration": 6,
    "start_time": "2024-03-16T12:19:08.269Z"
   },
   {
    "duration": 3855,
    "start_time": "2024-03-16T12:19:08.277Z"
   },
   {
    "duration": 17,
    "start_time": "2024-03-16T12:19:12.134Z"
   },
   {
    "duration": 21,
    "start_time": "2024-03-16T12:19:12.153Z"
   },
   {
    "duration": 139,
    "start_time": "2024-03-16T12:19:12.176Z"
   },
   {
    "duration": 0,
    "start_time": "2024-03-16T12:19:12.317Z"
   },
   {
    "duration": 0,
    "start_time": "2024-03-16T12:19:12.318Z"
   },
   {
    "duration": 0,
    "start_time": "2024-03-16T12:19:12.319Z"
   },
   {
    "duration": 0,
    "start_time": "2024-03-16T12:19:12.320Z"
   },
   {
    "duration": 0,
    "start_time": "2024-03-16T12:19:12.322Z"
   },
   {
    "duration": 0,
    "start_time": "2024-03-16T12:19:12.323Z"
   },
   {
    "duration": 0,
    "start_time": "2024-03-16T12:19:12.324Z"
   },
   {
    "duration": 0,
    "start_time": "2024-03-16T12:19:12.325Z"
   },
   {
    "duration": 0,
    "start_time": "2024-03-16T12:19:12.325Z"
   },
   {
    "duration": 0,
    "start_time": "2024-03-16T12:19:12.326Z"
   },
   {
    "duration": 0,
    "start_time": "2024-03-16T12:19:12.327Z"
   },
   {
    "duration": 0,
    "start_time": "2024-03-16T12:19:12.328Z"
   },
   {
    "duration": 0,
    "start_time": "2024-03-16T12:19:12.330Z"
   },
   {
    "duration": 0,
    "start_time": "2024-03-16T12:19:12.331Z"
   },
   {
    "duration": 27,
    "start_time": "2024-03-16T12:19:28.578Z"
   },
   {
    "duration": 7,
    "start_time": "2024-03-16T12:19:29.797Z"
   },
   {
    "duration": 153,
    "start_time": "2024-03-16T12:19:31.835Z"
   },
   {
    "duration": 17,
    "start_time": "2024-03-16T12:20:03.485Z"
   },
   {
    "duration": 9,
    "start_time": "2024-03-16T12:20:16.763Z"
   },
   {
    "duration": 12,
    "start_time": "2024-03-16T12:20:22.878Z"
   },
   {
    "duration": 11,
    "start_time": "2024-03-16T12:20:46.268Z"
   },
   {
    "duration": 9,
    "start_time": "2024-03-16T12:21:02.364Z"
   },
   {
    "duration": 14,
    "start_time": "2024-03-16T12:21:39.526Z"
   },
   {
    "duration": 19,
    "start_time": "2024-03-16T12:21:52.309Z"
   },
   {
    "duration": 1611,
    "start_time": "2024-03-16T12:22:10.102Z"
   },
   {
    "duration": 957,
    "start_time": "2024-03-16T12:22:11.715Z"
   },
   {
    "duration": 4,
    "start_time": "2024-03-16T12:22:12.674Z"
   },
   {
    "duration": 480,
    "start_time": "2024-03-16T12:22:12.679Z"
   },
   {
    "duration": 204,
    "start_time": "2024-03-16T12:22:13.162Z"
   },
   {
    "duration": 403,
    "start_time": "2024-03-16T12:22:13.368Z"
   },
   {
    "duration": 14,
    "start_time": "2024-03-16T12:22:13.773Z"
   },
   {
    "duration": 4,
    "start_time": "2024-03-16T12:22:13.789Z"
   },
   {
    "duration": 17,
    "start_time": "2024-03-16T12:22:13.821Z"
   },
   {
    "duration": 6,
    "start_time": "2024-03-16T12:22:13.840Z"
   },
   {
    "duration": 26,
    "start_time": "2024-03-16T12:22:13.847Z"
   },
   {
    "duration": 23,
    "start_time": "2024-03-16T12:22:13.875Z"
   },
   {
    "duration": 24,
    "start_time": "2024-03-16T12:22:13.901Z"
   },
   {
    "duration": 13,
    "start_time": "2024-03-16T12:22:13.928Z"
   },
   {
    "duration": 3,
    "start_time": "2024-03-16T12:22:13.942Z"
   },
   {
    "duration": 5,
    "start_time": "2024-03-16T12:22:13.946Z"
   },
   {
    "duration": 4451,
    "start_time": "2024-03-16T12:22:13.952Z"
   },
   {
    "duration": 22,
    "start_time": "2024-03-16T12:22:18.405Z"
   },
   {
    "duration": 542,
    "start_time": "2024-03-16T12:22:18.433Z"
   },
   {
    "duration": 53,
    "start_time": "2024-03-16T12:22:18.977Z"
   },
   {
    "duration": 488,
    "start_time": "2024-03-16T12:22:19.032Z"
   },
   {
    "duration": 7,
    "start_time": "2024-03-16T12:22:19.522Z"
   },
   {
    "duration": 3,
    "start_time": "2024-03-16T12:22:19.536Z"
   },
   {
    "duration": 10,
    "start_time": "2024-03-16T12:22:19.541Z"
   },
   {
    "duration": 6,
    "start_time": "2024-03-16T12:22:19.553Z"
   },
   {
    "duration": 5,
    "start_time": "2024-03-16T12:22:19.561Z"
   },
   {
    "duration": 28,
    "start_time": "2024-03-16T12:22:19.567Z"
   },
   {
    "duration": 118366,
    "start_time": "2024-03-16T12:22:19.596Z"
   },
   {
    "duration": 1461,
    "start_time": "2024-03-16T12:24:17.963Z"
   },
   {
    "duration": 1969,
    "start_time": "2024-03-16T12:24:19.427Z"
   },
   {
    "duration": 8,
    "start_time": "2024-03-16T12:24:21.398Z"
   },
   {
    "duration": 1613,
    "start_time": "2024-03-16T12:27:21.562Z"
   },
   {
    "duration": 916,
    "start_time": "2024-03-16T12:27:23.177Z"
   },
   {
    "duration": 3,
    "start_time": "2024-03-16T12:27:24.095Z"
   },
   {
    "duration": 431,
    "start_time": "2024-03-16T12:27:24.100Z"
   },
   {
    "duration": 214,
    "start_time": "2024-03-16T12:27:24.533Z"
   },
   {
    "duration": 442,
    "start_time": "2024-03-16T12:27:24.748Z"
   },
   {
    "duration": 26,
    "start_time": "2024-03-16T12:27:25.192Z"
   },
   {
    "duration": 8,
    "start_time": "2024-03-16T12:27:25.223Z"
   },
   {
    "duration": 13,
    "start_time": "2024-03-16T12:27:25.233Z"
   },
   {
    "duration": 7,
    "start_time": "2024-03-16T12:27:25.249Z"
   },
   {
    "duration": 17,
    "start_time": "2024-03-16T12:27:25.257Z"
   },
   {
    "duration": 42,
    "start_time": "2024-03-16T12:27:25.275Z"
   },
   {
    "duration": 16,
    "start_time": "2024-03-16T12:27:25.318Z"
   },
   {
    "duration": 12,
    "start_time": "2024-03-16T12:27:25.336Z"
   },
   {
    "duration": 3,
    "start_time": "2024-03-16T12:27:25.349Z"
   },
   {
    "duration": 15,
    "start_time": "2024-03-16T12:27:25.354Z"
   },
   {
    "duration": 4186,
    "start_time": "2024-03-16T12:27:25.371Z"
   },
   {
    "duration": 14,
    "start_time": "2024-03-16T12:27:29.558Z"
   },
   {
    "duration": 489,
    "start_time": "2024-03-16T12:27:29.573Z"
   },
   {
    "duration": 34,
    "start_time": "2024-03-16T12:27:30.064Z"
   },
   {
    "duration": 527,
    "start_time": "2024-03-16T12:27:30.100Z"
   },
   {
    "duration": 3,
    "start_time": "2024-03-16T12:27:30.631Z"
   },
   {
    "duration": 89,
    "start_time": "2024-03-16T12:27:30.636Z"
   },
   {
    "duration": 61,
    "start_time": "2024-03-16T12:27:30.728Z"
   },
   {
    "duration": 65,
    "start_time": "2024-03-16T12:27:30.791Z"
   },
   {
    "duration": 61,
    "start_time": "2024-03-16T12:27:30.858Z"
   },
   {
    "duration": 37,
    "start_time": "2024-03-16T12:27:30.923Z"
   },
   {
    "duration": 122691,
    "start_time": "2024-03-16T12:27:30.963Z"
   },
   {
    "duration": 3385,
    "start_time": "2024-03-16T12:29:33.663Z"
   },
   {
    "duration": 2362,
    "start_time": "2024-03-16T12:29:37.055Z"
   },
   {
    "duration": 21,
    "start_time": "2024-03-16T12:29:39.424Z"
   },
   {
    "duration": 7,
    "start_time": "2024-03-16T12:32:02.797Z"
   },
   {
    "duration": 580,
    "start_time": "2024-03-16T12:32:05.872Z"
   },
   {
    "duration": 1269,
    "start_time": "2024-03-16T12:32:20.159Z"
   },
   {
    "duration": 1330,
    "start_time": "2024-03-16T12:32:47.578Z"
   },
   {
    "duration": 5,
    "start_time": "2024-03-16T12:33:00.970Z"
   },
   {
    "duration": 5,
    "start_time": "2024-03-16T12:33:04.252Z"
   },
   {
    "duration": 4,
    "start_time": "2024-03-16T12:33:04.683Z"
   },
   {
    "duration": 6,
    "start_time": "2024-03-16T12:33:07.470Z"
   },
   {
    "duration": 5,
    "start_time": "2024-03-16T12:33:08.241Z"
   },
   {
    "duration": 3,
    "start_time": "2024-03-16T12:33:09.462Z"
   },
   {
    "duration": 9,
    "start_time": "2024-03-16T12:33:09.767Z"
   },
   {
    "duration": 124223,
    "start_time": "2024-03-16T12:33:11.263Z"
   },
   {
    "duration": 2084,
    "start_time": "2024-03-16T12:36:02.625Z"
   },
   {
    "duration": 18,
    "start_time": "2024-03-16T12:36:06.146Z"
   },
   {
    "duration": 1139,
    "start_time": "2024-03-16T12:36:55.953Z"
   },
   {
    "duration": 1936,
    "start_time": "2024-03-16T12:37:06.614Z"
   },
   {
    "duration": 1072,
    "start_time": "2024-03-16T12:37:08.552Z"
   },
   {
    "duration": 13,
    "start_time": "2024-03-16T12:37:09.626Z"
   },
   {
    "duration": 437,
    "start_time": "2024-03-16T12:37:09.641Z"
   },
   {
    "duration": 191,
    "start_time": "2024-03-16T12:37:10.079Z"
   },
   {
    "duration": 477,
    "start_time": "2024-03-16T12:37:10.272Z"
   },
   {
    "duration": 23,
    "start_time": "2024-03-16T12:37:10.757Z"
   },
   {
    "duration": 6,
    "start_time": "2024-03-16T12:37:10.782Z"
   },
   {
    "duration": 12,
    "start_time": "2024-03-16T12:37:10.790Z"
   },
   {
    "duration": 5,
    "start_time": "2024-03-16T12:37:10.805Z"
   },
   {
    "duration": 25,
    "start_time": "2024-03-16T12:37:10.818Z"
   },
   {
    "duration": 22,
    "start_time": "2024-03-16T12:37:10.851Z"
   },
   {
    "duration": 14,
    "start_time": "2024-03-16T12:37:10.875Z"
   },
   {
    "duration": 38,
    "start_time": "2024-03-16T12:37:10.891Z"
   },
   {
    "duration": 6,
    "start_time": "2024-03-16T12:37:10.930Z"
   },
   {
    "duration": 21,
    "start_time": "2024-03-16T12:37:10.938Z"
   },
   {
    "duration": 4716,
    "start_time": "2024-03-16T12:37:10.961Z"
   },
   {
    "duration": 15,
    "start_time": "2024-03-16T12:37:15.679Z"
   },
   {
    "duration": 488,
    "start_time": "2024-03-16T12:37:15.695Z"
   },
   {
    "duration": 52,
    "start_time": "2024-03-16T12:37:16.185Z"
   },
   {
    "duration": 650,
    "start_time": "2024-03-16T12:37:16.239Z"
   },
   {
    "duration": 4,
    "start_time": "2024-03-16T12:37:16.891Z"
   },
   {
    "duration": 25,
    "start_time": "2024-03-16T12:37:16.897Z"
   },
   {
    "duration": 16,
    "start_time": "2024-03-16T12:37:16.935Z"
   },
   {
    "duration": 3,
    "start_time": "2024-03-16T12:37:16.954Z"
   },
   {
    "duration": 5,
    "start_time": "2024-03-16T12:37:16.958Z"
   },
   {
    "duration": 17,
    "start_time": "2024-03-16T12:37:16.965Z"
   },
   {
    "duration": 128512,
    "start_time": "2024-03-16T12:37:16.985Z"
   },
   {
    "duration": 2651,
    "start_time": "2024-03-16T12:39:25.498Z"
   },
   {
    "duration": 2214,
    "start_time": "2024-03-16T12:39:28.154Z"
   },
   {
    "duration": 10,
    "start_time": "2024-03-16T12:39:30.371Z"
   },
   {
    "duration": 1441,
    "start_time": "2024-03-16T12:39:30.383Z"
   },
   {
    "duration": 8,
    "start_time": "2024-03-16T12:43:25.891Z"
   },
   {
    "duration": 616,
    "start_time": "2024-03-16T12:43:28.773Z"
   },
   {
    "duration": 1140,
    "start_time": "2024-03-16T12:43:34.111Z"
   },
   {
    "duration": 11,
    "start_time": "2024-03-16T12:43:46.791Z"
   },
   {
    "duration": 560,
    "start_time": "2024-03-16T12:43:49.424Z"
   },
   {
    "duration": 1139,
    "start_time": "2024-03-16T12:43:52.646Z"
   },
   {
    "duration": 1852,
    "start_time": "2024-03-16T12:44:07.506Z"
   },
   {
    "duration": 1034,
    "start_time": "2024-03-16T12:44:09.361Z"
   },
   {
    "duration": 4,
    "start_time": "2024-03-16T12:44:10.396Z"
   },
   {
    "duration": 522,
    "start_time": "2024-03-16T12:44:10.420Z"
   },
   {
    "duration": 200,
    "start_time": "2024-03-16T12:44:10.950Z"
   },
   {
    "duration": 421,
    "start_time": "2024-03-16T12:44:11.153Z"
   },
   {
    "duration": 15,
    "start_time": "2024-03-16T12:44:11.576Z"
   },
   {
    "duration": 25,
    "start_time": "2024-03-16T12:44:11.593Z"
   },
   {
    "duration": 25,
    "start_time": "2024-03-16T12:44:11.620Z"
   },
   {
    "duration": 8,
    "start_time": "2024-03-16T12:44:11.652Z"
   },
   {
    "duration": 15,
    "start_time": "2024-03-16T12:44:11.662Z"
   },
   {
    "duration": 14,
    "start_time": "2024-03-16T12:44:11.678Z"
   },
   {
    "duration": 23,
    "start_time": "2024-03-16T12:44:11.715Z"
   },
   {
    "duration": 11,
    "start_time": "2024-03-16T12:44:11.748Z"
   },
   {
    "duration": 3,
    "start_time": "2024-03-16T12:44:11.760Z"
   },
   {
    "duration": 3,
    "start_time": "2024-03-16T12:44:11.765Z"
   },
   {
    "duration": 4880,
    "start_time": "2024-03-16T12:44:11.769Z"
   },
   {
    "duration": 21,
    "start_time": "2024-03-16T12:44:16.651Z"
   },
   {
    "duration": 27,
    "start_time": "2024-03-16T12:44:16.674Z"
   },
   {
    "duration": 644,
    "start_time": "2024-03-16T12:44:16.703Z"
   },
   {
    "duration": 43,
    "start_time": "2024-03-16T12:44:17.349Z"
   },
   {
    "duration": 522,
    "start_time": "2024-03-16T12:44:17.394Z"
   },
   {
    "duration": 9,
    "start_time": "2024-03-16T12:44:17.917Z"
   },
   {
    "duration": 4,
    "start_time": "2024-03-16T12:44:17.928Z"
   },
   {
    "duration": 8,
    "start_time": "2024-03-16T12:44:17.933Z"
   },
   {
    "duration": 13,
    "start_time": "2024-03-16T12:44:17.946Z"
   },
   {
    "duration": 3,
    "start_time": "2024-03-16T12:44:17.961Z"
   },
   {
    "duration": 11,
    "start_time": "2024-03-16T12:44:17.966Z"
   },
   {
    "duration": 948,
    "start_time": "2024-03-16T12:44:17.978Z"
   },
   {
    "duration": 54,
    "start_time": "2024-03-16T12:44:18.928Z"
   },
   {
    "duration": 0,
    "start_time": "2024-03-16T12:44:18.985Z"
   },
   {
    "duration": 1,
    "start_time": "2024-03-16T12:44:18.986Z"
   },
   {
    "duration": 1657,
    "start_time": "2024-03-16T12:46:05.015Z"
   },
   {
    "duration": 1038,
    "start_time": "2024-03-16T12:46:06.674Z"
   },
   {
    "duration": 10,
    "start_time": "2024-03-16T12:46:07.714Z"
   },
   {
    "duration": 436,
    "start_time": "2024-03-16T12:46:07.727Z"
   },
   {
    "duration": 206,
    "start_time": "2024-03-16T12:46:08.167Z"
   },
   {
    "duration": 512,
    "start_time": "2024-03-16T12:46:08.375Z"
   },
   {
    "duration": 28,
    "start_time": "2024-03-16T12:46:08.889Z"
   },
   {
    "duration": 11,
    "start_time": "2024-03-16T12:46:08.919Z"
   },
   {
    "duration": 33,
    "start_time": "2024-03-16T12:46:08.937Z"
   },
   {
    "duration": 5,
    "start_time": "2024-03-16T12:46:08.972Z"
   },
   {
    "duration": 18,
    "start_time": "2024-03-16T12:46:08.979Z"
   },
   {
    "duration": 32,
    "start_time": "2024-03-16T12:46:08.999Z"
   },
   {
    "duration": 17,
    "start_time": "2024-03-16T12:46:09.033Z"
   },
   {
    "duration": 14,
    "start_time": "2024-03-16T12:46:09.053Z"
   },
   {
    "duration": 3,
    "start_time": "2024-03-16T12:46:09.069Z"
   },
   {
    "duration": 17,
    "start_time": "2024-03-16T12:46:09.073Z"
   },
   {
    "duration": 4767,
    "start_time": "2024-03-16T12:46:09.092Z"
   },
   {
    "duration": 17,
    "start_time": "2024-03-16T12:46:13.861Z"
   },
   {
    "duration": 552,
    "start_time": "2024-03-16T12:46:13.879Z"
   },
   {
    "duration": 74,
    "start_time": "2024-03-16T12:46:14.434Z"
   },
   {
    "duration": 778,
    "start_time": "2024-03-16T12:46:14.512Z"
   },
   {
    "duration": 6,
    "start_time": "2024-03-16T12:46:15.292Z"
   },
   {
    "duration": 53,
    "start_time": "2024-03-16T12:46:15.300Z"
   },
   {
    "duration": 43,
    "start_time": "2024-03-16T12:46:15.356Z"
   },
   {
    "duration": 13,
    "start_time": "2024-03-16T12:46:15.402Z"
   },
   {
    "duration": 54,
    "start_time": "2024-03-16T12:46:15.418Z"
   },
   {
    "duration": 36,
    "start_time": "2024-03-16T12:46:15.475Z"
   },
   {
    "duration": 125041,
    "start_time": "2024-03-16T12:46:15.514Z"
   },
   {
    "duration": 2766,
    "start_time": "2024-03-16T12:48:20.560Z"
   },
   {
    "duration": 2073,
    "start_time": "2024-03-16T12:48:23.329Z"
   },
   {
    "duration": 18,
    "start_time": "2024-03-16T12:48:25.404Z"
   },
   {
    "duration": 5,
    "start_time": "2024-03-16T12:48:25.427Z"
   },
   {
    "duration": 4,
    "start_time": "2024-03-16T12:48:27.707Z"
   },
   {
    "duration": 587,
    "start_time": "2024-03-16T12:48:28.551Z"
   },
   {
    "duration": 123,
    "start_time": "2024-03-16T12:50:05.268Z"
   },
   {
    "duration": 595,
    "start_time": "2024-03-16T12:50:19.197Z"
   },
   {
    "duration": 1562,
    "start_time": "2024-03-16T12:50:30.691Z"
   },
   {
    "duration": 948,
    "start_time": "2024-03-16T12:50:32.255Z"
   },
   {
    "duration": 3,
    "start_time": "2024-03-16T12:50:33.204Z"
   },
   {
    "duration": 435,
    "start_time": "2024-03-16T12:50:33.209Z"
   },
   {
    "duration": 219,
    "start_time": "2024-03-16T12:50:33.646Z"
   },
   {
    "duration": 401,
    "start_time": "2024-03-16T12:50:33.867Z"
   },
   {
    "duration": 14,
    "start_time": "2024-03-16T12:50:34.270Z"
   },
   {
    "duration": 15,
    "start_time": "2024-03-16T12:50:34.285Z"
   },
   {
    "duration": 35,
    "start_time": "2024-03-16T12:50:34.301Z"
   },
   {
    "duration": 9,
    "start_time": "2024-03-16T12:50:34.340Z"
   },
   {
    "duration": 51,
    "start_time": "2024-03-16T12:50:34.351Z"
   },
   {
    "duration": 27,
    "start_time": "2024-03-16T12:50:34.405Z"
   },
   {
    "duration": 9,
    "start_time": "2024-03-16T12:50:34.434Z"
   },
   {
    "duration": 16,
    "start_time": "2024-03-16T12:50:34.445Z"
   },
   {
    "duration": 16,
    "start_time": "2024-03-16T12:50:34.463Z"
   },
   {
    "duration": 14,
    "start_time": "2024-03-16T12:50:34.481Z"
   },
   {
    "duration": 4237,
    "start_time": "2024-03-16T12:50:34.496Z"
   },
   {
    "duration": 14,
    "start_time": "2024-03-16T12:50:38.735Z"
   },
   {
    "duration": 500,
    "start_time": "2024-03-16T12:50:38.751Z"
   },
   {
    "duration": 32,
    "start_time": "2024-03-16T12:50:39.252Z"
   },
   {
    "duration": 494,
    "start_time": "2024-03-16T12:50:39.286Z"
   },
   {
    "duration": 4,
    "start_time": "2024-03-16T12:50:39.782Z"
   },
   {
    "duration": 6,
    "start_time": "2024-03-16T12:50:39.788Z"
   },
   {
    "duration": 28,
    "start_time": "2024-03-16T12:50:39.796Z"
   },
   {
    "duration": 8,
    "start_time": "2024-03-16T12:50:39.827Z"
   },
   {
    "duration": 5,
    "start_time": "2024-03-16T12:50:39.837Z"
   },
   {
    "duration": 12,
    "start_time": "2024-03-16T12:50:39.843Z"
   },
   {
    "duration": 117581,
    "start_time": "2024-03-16T12:50:39.859Z"
   },
   {
    "duration": 1080,
    "start_time": "2024-03-16T12:52:37.442Z"
   },
   {
    "duration": 1565,
    "start_time": "2024-03-16T12:52:40.211Z"
   },
   {
    "duration": 917,
    "start_time": "2024-03-16T12:52:41.779Z"
   },
   {
    "duration": 4,
    "start_time": "2024-03-16T12:52:42.697Z"
   },
   {
    "duration": 427,
    "start_time": "2024-03-16T12:52:42.702Z"
   },
   {
    "duration": 168,
    "start_time": "2024-03-16T12:52:43.132Z"
   },
   {
    "duration": 397,
    "start_time": "2024-03-16T12:52:43.302Z"
   },
   {
    "duration": 24,
    "start_time": "2024-03-16T12:52:43.701Z"
   },
   {
    "duration": 4,
    "start_time": "2024-03-16T12:52:43.727Z"
   },
   {
    "duration": 11,
    "start_time": "2024-03-16T12:52:43.732Z"
   },
   {
    "duration": 6,
    "start_time": "2024-03-16T12:52:43.745Z"
   },
   {
    "duration": 13,
    "start_time": "2024-03-16T12:52:43.752Z"
   },
   {
    "duration": 50,
    "start_time": "2024-03-16T12:52:43.767Z"
   },
   {
    "duration": 13,
    "start_time": "2024-03-16T12:52:43.821Z"
   },
   {
    "duration": 9,
    "start_time": "2024-03-16T12:52:43.836Z"
   },
   {
    "duration": 3,
    "start_time": "2024-03-16T12:52:43.846Z"
   },
   {
    "duration": 5,
    "start_time": "2024-03-16T12:52:43.850Z"
   },
   {
    "duration": 4199,
    "start_time": "2024-03-16T12:52:43.856Z"
   },
   {
    "duration": 14,
    "start_time": "2024-03-16T12:52:48.057Z"
   },
   {
    "duration": 170,
    "start_time": "2024-03-16T12:52:48.073Z"
   },
   {
    "duration": 0,
    "start_time": "2024-03-16T12:52:48.244Z"
   },
   {
    "duration": 0,
    "start_time": "2024-03-16T12:52:48.246Z"
   },
   {
    "duration": 0,
    "start_time": "2024-03-16T12:52:48.247Z"
   },
   {
    "duration": 0,
    "start_time": "2024-03-16T12:52:48.248Z"
   },
   {
    "duration": 0,
    "start_time": "2024-03-16T12:52:48.249Z"
   },
   {
    "duration": 0,
    "start_time": "2024-03-16T12:52:48.250Z"
   },
   {
    "duration": 0,
    "start_time": "2024-03-16T12:52:48.251Z"
   },
   {
    "duration": 0,
    "start_time": "2024-03-16T12:52:48.253Z"
   },
   {
    "duration": 0,
    "start_time": "2024-03-16T12:52:48.254Z"
   },
   {
    "duration": 0,
    "start_time": "2024-03-16T12:52:48.255Z"
   },
   {
    "duration": 0,
    "start_time": "2024-03-16T12:52:48.256Z"
   },
   {
    "duration": 0,
    "start_time": "2024-03-16T12:52:48.257Z"
   },
   {
    "duration": 0,
    "start_time": "2024-03-16T12:52:48.258Z"
   },
   {
    "duration": 13,
    "start_time": "2024-03-16T12:53:18.832Z"
   },
   {
    "duration": 14,
    "start_time": "2024-03-16T12:54:44.923Z"
   },
   {
    "duration": 10,
    "start_time": "2024-03-16T12:54:51.652Z"
   },
   {
    "duration": 43,
    "start_time": "2024-03-16T12:55:01.465Z"
   },
   {
    "duration": 466,
    "start_time": "2024-03-16T12:55:07.896Z"
   },
   {
    "duration": 39,
    "start_time": "2024-03-16T12:55:13.198Z"
   },
   {
    "duration": 553,
    "start_time": "2024-03-16T12:55:21.796Z"
   },
   {
    "duration": 40,
    "start_time": "2024-03-16T12:55:38.027Z"
   },
   {
    "duration": 422,
    "start_time": "2024-03-16T12:55:44.329Z"
   },
   {
    "duration": 44,
    "start_time": "2024-03-16T12:55:53.920Z"
   },
   {
    "duration": 493,
    "start_time": "2024-03-16T12:55:59.185Z"
   },
   {
    "duration": 43,
    "start_time": "2024-03-16T12:56:21.523Z"
   },
   {
    "duration": 647,
    "start_time": "2024-03-16T12:56:27.640Z"
   },
   {
    "duration": 32,
    "start_time": "2024-03-16T12:56:32.234Z"
   },
   {
    "duration": 10,
    "start_time": "2024-03-16T12:56:45.331Z"
   },
   {
    "duration": 572,
    "start_time": "2024-03-16T12:56:49.708Z"
   },
   {
    "duration": 42,
    "start_time": "2024-03-16T12:56:54.569Z"
   },
   {
    "duration": 496,
    "start_time": "2024-03-16T12:56:56.535Z"
   },
   {
    "duration": 3,
    "start_time": "2024-03-16T12:57:07.990Z"
   },
   {
    "duration": 4,
    "start_time": "2024-03-16T12:57:09.202Z"
   },
   {
    "duration": 9,
    "start_time": "2024-03-16T12:57:17.956Z"
   },
   {
    "duration": 3,
    "start_time": "2024-03-16T12:57:19.996Z"
   },
   {
    "duration": 3,
    "start_time": "2024-03-16T12:57:22.260Z"
   },
   {
    "duration": 10,
    "start_time": "2024-03-16T12:57:22.771Z"
   },
   {
    "duration": 811,
    "start_time": "2024-03-16T12:57:25.555Z"
   },
   {
    "duration": 20,
    "start_time": "2024-03-16T12:57:45.324Z"
   },
   {
    "duration": 1555,
    "start_time": "2024-03-16T13:03:10.112Z"
   },
   {
    "duration": 951,
    "start_time": "2024-03-16T13:03:11.669Z"
   },
   {
    "duration": 6,
    "start_time": "2024-03-16T13:03:12.626Z"
   },
   {
    "duration": 409,
    "start_time": "2024-03-16T13:03:12.634Z"
   },
   {
    "duration": 177,
    "start_time": "2024-03-16T13:03:13.046Z"
   },
   {
    "duration": 398,
    "start_time": "2024-03-16T13:03:13.226Z"
   },
   {
    "duration": 18,
    "start_time": "2024-03-16T13:03:13.631Z"
   },
   {
    "duration": 14,
    "start_time": "2024-03-16T13:03:13.651Z"
   },
   {
    "duration": 21,
    "start_time": "2024-03-16T13:03:13.667Z"
   },
   {
    "duration": 7,
    "start_time": "2024-03-16T13:03:13.690Z"
   },
   {
    "duration": 25,
    "start_time": "2024-03-16T13:03:13.699Z"
   },
   {
    "duration": 15,
    "start_time": "2024-03-16T13:03:13.731Z"
   },
   {
    "duration": 10,
    "start_time": "2024-03-16T13:03:13.748Z"
   },
   {
    "duration": 11,
    "start_time": "2024-03-16T13:03:13.761Z"
   },
   {
    "duration": 3,
    "start_time": "2024-03-16T13:03:13.773Z"
   },
   {
    "duration": 23,
    "start_time": "2024-03-16T13:03:13.777Z"
   },
   {
    "duration": 4250,
    "start_time": "2024-03-16T13:03:13.802Z"
   },
   {
    "duration": 15,
    "start_time": "2024-03-16T13:03:18.054Z"
   },
   {
    "duration": 491,
    "start_time": "2024-03-16T13:03:18.071Z"
   },
   {
    "duration": 59,
    "start_time": "2024-03-16T13:03:18.564Z"
   },
   {
    "duration": 510,
    "start_time": "2024-03-16T13:03:18.624Z"
   },
   {
    "duration": 3,
    "start_time": "2024-03-16T13:03:19.136Z"
   },
   {
    "duration": 4,
    "start_time": "2024-03-16T13:03:19.141Z"
   },
   {
    "duration": 14,
    "start_time": "2024-03-16T13:03:19.147Z"
   },
   {
    "duration": 2,
    "start_time": "2024-03-16T13:03:19.163Z"
   },
   {
    "duration": 3,
    "start_time": "2024-03-16T13:03:19.167Z"
   },
   {
    "duration": 9,
    "start_time": "2024-03-16T13:03:19.172Z"
   },
   {
    "duration": 118230,
    "start_time": "2024-03-16T13:03:19.183Z"
   },
   {
    "duration": 1608,
    "start_time": "2024-03-16T13:05:17.423Z"
   },
   {
    "duration": 2048,
    "start_time": "2024-03-16T13:05:19.033Z"
   },
   {
    "duration": 8,
    "start_time": "2024-03-16T13:05:21.083Z"
   },
   {
    "duration": 438,
    "start_time": "2024-03-16T13:06:28.836Z"
   },
   {
    "duration": 14,
    "start_time": "2024-03-16T13:12:39.225Z"
   },
   {
    "duration": 16,
    "start_time": "2024-03-16T13:12:52.238Z"
   },
   {
    "duration": 6,
    "start_time": "2024-03-16T13:22:36.357Z"
   },
   {
    "duration": 492,
    "start_time": "2024-03-16T13:22:39.410Z"
   },
   {
    "duration": 8,
    "start_time": "2024-03-16T13:23:30.835Z"
   },
   {
    "duration": 1562,
    "start_time": "2024-03-16T13:24:23.366Z"
   },
   {
    "duration": 963,
    "start_time": "2024-03-16T13:24:24.930Z"
   },
   {
    "duration": 3,
    "start_time": "2024-03-16T13:24:25.895Z"
   },
   {
    "duration": 401,
    "start_time": "2024-03-16T13:24:25.900Z"
   },
   {
    "duration": 172,
    "start_time": "2024-03-16T13:24:26.303Z"
   },
   {
    "duration": 413,
    "start_time": "2024-03-16T13:24:26.477Z"
   },
   {
    "duration": 28,
    "start_time": "2024-03-16T13:24:26.892Z"
   },
   {
    "duration": 6,
    "start_time": "2024-03-16T13:24:26.926Z"
   },
   {
    "duration": 26,
    "start_time": "2024-03-16T13:24:26.933Z"
   },
   {
    "duration": 6,
    "start_time": "2024-03-16T13:24:26.961Z"
   },
   {
    "duration": 27,
    "start_time": "2024-03-16T13:24:26.969Z"
   },
   {
    "duration": 26,
    "start_time": "2024-03-16T13:24:26.997Z"
   },
   {
    "duration": 11,
    "start_time": "2024-03-16T13:24:27.030Z"
   },
   {
    "duration": 9,
    "start_time": "2024-03-16T13:24:27.044Z"
   },
   {
    "duration": 3,
    "start_time": "2024-03-16T13:24:27.055Z"
   },
   {
    "duration": 14,
    "start_time": "2024-03-16T13:24:27.059Z"
   },
   {
    "duration": 4190,
    "start_time": "2024-03-16T13:24:27.075Z"
   },
   {
    "duration": 15,
    "start_time": "2024-03-16T13:24:31.267Z"
   },
   {
    "duration": 580,
    "start_time": "2024-03-16T13:24:31.284Z"
   },
   {
    "duration": 54,
    "start_time": "2024-03-16T13:24:31.866Z"
   },
   {
    "duration": 7,
    "start_time": "2024-03-16T13:24:31.928Z"
   },
   {
    "duration": 487,
    "start_time": "2024-03-16T13:24:31.937Z"
   },
   {
    "duration": 5,
    "start_time": "2024-03-16T13:24:32.428Z"
   },
   {
    "duration": 5,
    "start_time": "2024-03-16T13:24:32.435Z"
   },
   {
    "duration": 9,
    "start_time": "2024-03-16T13:24:32.442Z"
   },
   {
    "duration": 11,
    "start_time": "2024-03-16T13:24:32.453Z"
   },
   {
    "duration": 4,
    "start_time": "2024-03-16T13:24:32.465Z"
   },
   {
    "duration": 15,
    "start_time": "2024-03-16T13:24:32.471Z"
   },
   {
    "duration": 119532,
    "start_time": "2024-03-16T13:24:32.488Z"
   },
   {
    "duration": 1004,
    "start_time": "2024-03-16T13:26:32.024Z"
   },
   {
    "duration": 2074,
    "start_time": "2024-03-16T13:26:33.031Z"
   },
   {
    "duration": 16,
    "start_time": "2024-03-16T13:26:35.106Z"
   },
   {
    "duration": 1428,
    "start_time": "2024-03-17T09:48:41.140Z"
   },
   {
    "duration": 939,
    "start_time": "2024-03-17T09:48:42.570Z"
   },
   {
    "duration": 5,
    "start_time": "2024-03-17T09:48:43.510Z"
   },
   {
    "duration": 433,
    "start_time": "2024-03-17T09:48:43.517Z"
   },
   {
    "duration": 170,
    "start_time": "2024-03-17T09:48:43.952Z"
   },
   {
    "duration": 402,
    "start_time": "2024-03-17T09:48:44.125Z"
   },
   {
    "duration": 20,
    "start_time": "2024-03-17T09:48:44.529Z"
   },
   {
    "duration": 5,
    "start_time": "2024-03-17T09:48:44.551Z"
   },
   {
    "duration": 11,
    "start_time": "2024-03-17T09:48:44.557Z"
   },
   {
    "duration": 17,
    "start_time": "2024-03-17T09:48:44.570Z"
   },
   {
    "duration": 36,
    "start_time": "2024-03-17T09:48:44.589Z"
   },
   {
    "duration": 20,
    "start_time": "2024-03-17T09:48:44.627Z"
   },
   {
    "duration": 10,
    "start_time": "2024-03-17T09:48:44.649Z"
   },
   {
    "duration": 15,
    "start_time": "2024-03-17T09:48:44.660Z"
   },
   {
    "duration": 2,
    "start_time": "2024-03-17T09:48:44.677Z"
   },
   {
    "duration": 4,
    "start_time": "2024-03-17T09:48:44.681Z"
   },
   {
    "duration": 4378,
    "start_time": "2024-03-17T09:48:44.687Z"
   },
   {
    "duration": 15,
    "start_time": "2024-03-17T09:48:49.067Z"
   },
   {
    "duration": 481,
    "start_time": "2024-03-17T09:48:49.084Z"
   },
   {
    "duration": 32,
    "start_time": "2024-03-17T09:48:49.566Z"
   },
   {
    "duration": 19,
    "start_time": "2024-03-17T09:48:49.600Z"
   },
   {
    "duration": 679,
    "start_time": "2024-03-17T09:48:49.621Z"
   },
   {
    "duration": 31,
    "start_time": "2024-03-17T09:49:07.749Z"
   },
   {
    "duration": 27,
    "start_time": "2024-03-17T09:49:14.925Z"
   },
   {
    "duration": 6,
    "start_time": "2024-03-17T09:49:21.380Z"
   },
   {
    "duration": 22,
    "start_time": "2024-03-17T09:49:24.269Z"
   },
   {
    "duration": 5,
    "start_time": "2024-03-17T09:49:37.979Z"
   },
   {
    "duration": 46,
    "start_time": "2024-03-17T11:11:42.812Z"
   },
   {
    "duration": 1764,
    "start_time": "2024-03-17T11:11:53.270Z"
   },
   {
    "duration": 2181,
    "start_time": "2024-03-17T11:11:55.036Z"
   },
   {
    "duration": 3,
    "start_time": "2024-03-17T11:11:57.219Z"
   },
   {
    "duration": 364,
    "start_time": "2024-03-17T11:11:57.224Z"
   },
   {
    "duration": 163,
    "start_time": "2024-03-17T11:11:57.589Z"
   },
   {
    "duration": 360,
    "start_time": "2024-03-17T11:11:57.753Z"
   },
   {
    "duration": 13,
    "start_time": "2024-03-17T11:11:58.115Z"
   },
   {
    "duration": 4,
    "start_time": "2024-03-17T11:11:58.129Z"
   },
   {
    "duration": 15,
    "start_time": "2024-03-17T11:11:58.135Z"
   },
   {
    "duration": 17,
    "start_time": "2024-03-17T11:11:58.152Z"
   },
   {
    "duration": 13,
    "start_time": "2024-03-17T11:11:58.171Z"
   },
   {
    "duration": 17,
    "start_time": "2024-03-17T11:11:58.186Z"
   },
   {
    "duration": 13,
    "start_time": "2024-03-17T11:11:58.205Z"
   },
   {
    "duration": 8,
    "start_time": "2024-03-17T11:11:58.219Z"
   },
   {
    "duration": 3,
    "start_time": "2024-03-17T11:11:58.228Z"
   },
   {
    "duration": 9,
    "start_time": "2024-03-17T11:11:58.232Z"
   },
   {
    "duration": 3652,
    "start_time": "2024-03-17T11:11:58.266Z"
   },
   {
    "duration": 13,
    "start_time": "2024-03-17T11:12:01.920Z"
   },
   {
    "duration": 48,
    "start_time": "2024-03-17T11:12:01.935Z"
   },
   {
    "duration": 481,
    "start_time": "2024-03-17T11:12:01.985Z"
   },
   {
    "duration": 31,
    "start_time": "2024-03-17T11:12:02.468Z"
   },
   {
    "duration": 6,
    "start_time": "2024-03-17T11:12:02.501Z"
   },
   {
    "duration": 459,
    "start_time": "2024-03-17T11:12:02.509Z"
   },
   {
    "duration": 4,
    "start_time": "2024-03-17T11:12:02.970Z"
   },
   {
    "duration": 22,
    "start_time": "2024-03-17T11:12:02.976Z"
   },
   {
    "duration": 31,
    "start_time": "2024-03-17T11:12:03.000Z"
   },
   {
    "duration": 18,
    "start_time": "2024-03-17T11:12:03.032Z"
   },
   {
    "duration": 10,
    "start_time": "2024-03-17T11:12:03.053Z"
   },
   {
    "duration": 35,
    "start_time": "2024-03-17T11:12:03.064Z"
   },
   {
    "duration": 730,
    "start_time": "2024-03-17T11:12:03.101Z"
   },
   {
    "duration": 33,
    "start_time": "2024-03-17T11:12:03.832Z"
   },
   {
    "duration": 0,
    "start_time": "2024-03-17T11:12:03.866Z"
   },
   {
    "duration": 0,
    "start_time": "2024-03-17T11:12:03.867Z"
   },
   {
    "duration": 1387,
    "start_time": "2024-03-17T11:15:43.659Z"
   },
   {
    "duration": 844,
    "start_time": "2024-03-17T11:15:45.048Z"
   },
   {
    "duration": 3,
    "start_time": "2024-03-17T11:15:45.895Z"
   },
   {
    "duration": 368,
    "start_time": "2024-03-17T11:15:45.900Z"
   },
   {
    "duration": 145,
    "start_time": "2024-03-17T11:15:46.270Z"
   },
   {
    "duration": 354,
    "start_time": "2024-03-17T11:15:46.416Z"
   },
   {
    "duration": 13,
    "start_time": "2024-03-17T11:15:46.772Z"
   },
   {
    "duration": 4,
    "start_time": "2024-03-17T11:15:46.787Z"
   },
   {
    "duration": 11,
    "start_time": "2024-03-17T11:15:46.793Z"
   },
   {
    "duration": 6,
    "start_time": "2024-03-17T11:15:46.806Z"
   },
   {
    "duration": 19,
    "start_time": "2024-03-17T11:15:46.814Z"
   },
   {
    "duration": 13,
    "start_time": "2024-03-17T11:15:46.866Z"
   },
   {
    "duration": 23,
    "start_time": "2024-03-17T11:15:46.881Z"
   },
   {
    "duration": 12,
    "start_time": "2024-03-17T11:15:46.908Z"
   },
   {
    "duration": 4,
    "start_time": "2024-03-17T11:15:46.922Z"
   },
   {
    "duration": 5,
    "start_time": "2024-03-17T11:15:46.927Z"
   },
   {
    "duration": 3528,
    "start_time": "2024-03-17T11:15:46.933Z"
   },
   {
    "duration": 12,
    "start_time": "2024-03-17T11:15:50.465Z"
   },
   {
    "duration": 14,
    "start_time": "2024-03-17T11:15:50.478Z"
   },
   {
    "duration": 4,
    "start_time": "2024-03-17T11:15:50.494Z"
   },
   {
    "duration": 465,
    "start_time": "2024-03-17T11:15:50.500Z"
   },
   {
    "duration": 31,
    "start_time": "2024-03-17T11:15:50.967Z"
   },
   {
    "duration": 6,
    "start_time": "2024-03-17T11:15:51.000Z"
   },
   {
    "duration": 450,
    "start_time": "2024-03-17T11:15:51.007Z"
   },
   {
    "duration": 6,
    "start_time": "2024-03-17T11:15:51.459Z"
   },
   {
    "duration": 31,
    "start_time": "2024-03-17T11:15:51.467Z"
   },
   {
    "duration": 9,
    "start_time": "2024-03-17T11:15:51.499Z"
   },
   {
    "duration": 14,
    "start_time": "2024-03-17T11:15:51.509Z"
   },
   {
    "duration": 10,
    "start_time": "2024-03-17T11:15:51.524Z"
   },
   {
    "duration": 24,
    "start_time": "2024-03-17T11:15:51.536Z"
   },
   {
    "duration": 682,
    "start_time": "2024-03-17T11:15:51.561Z"
   },
   {
    "duration": 33,
    "start_time": "2024-03-17T11:15:52.244Z"
   },
   {
    "duration": 0,
    "start_time": "2024-03-17T11:15:52.279Z"
   },
   {
    "duration": 0,
    "start_time": "2024-03-17T11:15:52.280Z"
   },
   {
    "duration": 1412,
    "start_time": "2024-03-17T11:17:47.052Z"
   },
   {
    "duration": 821,
    "start_time": "2024-03-17T11:17:48.466Z"
   },
   {
    "duration": 3,
    "start_time": "2024-03-17T11:17:49.288Z"
   },
   {
    "duration": 372,
    "start_time": "2024-03-17T11:17:49.292Z"
   },
   {
    "duration": 151,
    "start_time": "2024-03-17T11:17:49.666Z"
   },
   {
    "duration": 349,
    "start_time": "2024-03-17T11:17:49.818Z"
   },
   {
    "duration": 13,
    "start_time": "2024-03-17T11:17:50.169Z"
   },
   {
    "duration": 4,
    "start_time": "2024-03-17T11:17:50.183Z"
   },
   {
    "duration": 14,
    "start_time": "2024-03-17T11:17:50.188Z"
   },
   {
    "duration": 5,
    "start_time": "2024-03-17T11:17:50.203Z"
   },
   {
    "duration": 53,
    "start_time": "2024-03-17T11:17:50.210Z"
   },
   {
    "duration": 14,
    "start_time": "2024-03-17T11:17:50.264Z"
   },
   {
    "duration": 11,
    "start_time": "2024-03-17T11:17:50.279Z"
   },
   {
    "duration": 9,
    "start_time": "2024-03-17T11:17:50.292Z"
   },
   {
    "duration": 9,
    "start_time": "2024-03-17T11:17:50.302Z"
   },
   {
    "duration": 10,
    "start_time": "2024-03-17T11:17:50.313Z"
   },
   {
    "duration": 3626,
    "start_time": "2024-03-17T11:17:50.324Z"
   },
   {
    "duration": 22,
    "start_time": "2024-03-17T11:17:53.952Z"
   },
   {
    "duration": 15,
    "start_time": "2024-03-17T11:17:53.975Z"
   },
   {
    "duration": 4,
    "start_time": "2024-03-17T11:17:53.992Z"
   },
   {
    "duration": 492,
    "start_time": "2024-03-17T11:17:53.997Z"
   },
   {
    "duration": 32,
    "start_time": "2024-03-17T11:17:54.491Z"
   },
   {
    "duration": 550,
    "start_time": "2024-03-17T11:17:54.525Z"
   },
   {
    "duration": 4,
    "start_time": "2024-03-17T11:17:55.077Z"
   },
   {
    "duration": 7,
    "start_time": "2024-03-17T11:17:55.083Z"
   },
   {
    "duration": 17,
    "start_time": "2024-03-17T11:17:55.092Z"
   },
   {
    "duration": 23,
    "start_time": "2024-03-17T11:17:55.111Z"
   },
   {
    "duration": 7,
    "start_time": "2024-03-17T11:17:55.136Z"
   },
   {
    "duration": 53,
    "start_time": "2024-03-17T11:17:55.145Z"
   },
   {
    "duration": 776,
    "start_time": "2024-03-17T11:17:55.200Z"
   },
   {
    "duration": 35,
    "start_time": "2024-03-17T11:17:55.978Z"
   },
   {
    "duration": 0,
    "start_time": "2024-03-17T11:17:56.015Z"
   },
   {
    "duration": 0,
    "start_time": "2024-03-17T11:17:56.016Z"
   },
   {
    "duration": 43,
    "start_time": "2024-03-17T11:37:50.209Z"
   },
   {
    "duration": 38,
    "start_time": "2024-03-17T11:38:07.426Z"
   },
   {
    "duration": 1380,
    "start_time": "2024-03-17T11:38:16.617Z"
   },
   {
    "duration": 816,
    "start_time": "2024-03-17T11:38:20.322Z"
   },
   {
    "duration": 3,
    "start_time": "2024-03-17T11:38:21.745Z"
   },
   {
    "duration": 349,
    "start_time": "2024-03-17T11:38:22.835Z"
   },
   {
    "duration": 151,
    "start_time": "2024-03-17T11:38:23.919Z"
   },
   {
    "duration": 363,
    "start_time": "2024-03-17T11:38:25.153Z"
   },
   {
    "duration": 14,
    "start_time": "2024-03-17T11:38:26.505Z"
   },
   {
    "duration": 4,
    "start_time": "2024-03-17T11:38:27.208Z"
   },
   {
    "duration": 10,
    "start_time": "2024-03-17T11:38:32.971Z"
   },
   {
    "duration": 7,
    "start_time": "2024-03-17T11:38:35.352Z"
   },
   {
    "duration": 13,
    "start_time": "2024-03-17T11:38:43.026Z"
   },
   {
    "duration": 15,
    "start_time": "2024-03-17T11:38:51.892Z"
   },
   {
    "duration": 10,
    "start_time": "2024-03-17T11:38:54.451Z"
   },
   {
    "duration": 10,
    "start_time": "2024-03-17T11:38:55.821Z"
   },
   {
    "duration": 2,
    "start_time": "2024-03-17T11:38:58.675Z"
   },
   {
    "duration": 3,
    "start_time": "2024-03-17T11:38:59.225Z"
   },
   {
    "duration": 3588,
    "start_time": "2024-03-17T11:39:00.355Z"
   },
   {
    "duration": 21,
    "start_time": "2024-03-17T11:39:03.945Z"
   },
   {
    "duration": 15,
    "start_time": "2024-03-17T11:39:29.082Z"
   },
   {
    "duration": 5,
    "start_time": "2024-03-17T11:39:29.576Z"
   },
   {
    "duration": 10,
    "start_time": "2024-03-17T11:39:46.551Z"
   },
   {
    "duration": 4,
    "start_time": "2024-03-17T11:39:47.203Z"
   },
   {
    "duration": 391,
    "start_time": "2024-03-17T11:39:49.084Z"
   },
   {
    "duration": 31,
    "start_time": "2024-03-17T11:41:23.788Z"
   },
   {
    "duration": 407,
    "start_time": "2024-03-17T11:41:24.818Z"
   },
   {
    "duration": 32,
    "start_time": "2024-03-17T11:41:57.099Z"
   },
   {
    "duration": 454,
    "start_time": "2024-03-17T11:42:00.387Z"
   },
   {
    "duration": 3,
    "start_time": "2024-03-17T11:42:06.856Z"
   },
   {
    "duration": 4,
    "start_time": "2024-03-17T11:42:07.918Z"
   },
   {
    "duration": 6,
    "start_time": "2024-03-17T11:42:14.006Z"
   },
   {
    "duration": 3,
    "start_time": "2024-03-17T11:42:15.832Z"
   },
   {
    "duration": 3,
    "start_time": "2024-03-17T11:42:18.280Z"
   },
   {
    "duration": 7,
    "start_time": "2024-03-17T11:42:18.922Z"
   },
   {
    "duration": 753,
    "start_time": "2024-03-17T11:42:30.259Z"
   },
   {
    "duration": 35,
    "start_time": "2024-03-17T11:42:34.694Z"
   },
   {
    "duration": 1378,
    "start_time": "2024-03-17T11:58:33.953Z"
   },
   {
    "duration": 846,
    "start_time": "2024-03-17T11:58:35.333Z"
   },
   {
    "duration": 4,
    "start_time": "2024-03-17T11:58:36.180Z"
   },
   {
    "duration": 355,
    "start_time": "2024-03-17T11:58:36.186Z"
   },
   {
    "duration": 156,
    "start_time": "2024-03-17T11:58:36.542Z"
   },
   {
    "duration": 349,
    "start_time": "2024-03-17T11:58:36.699Z"
   },
   {
    "duration": 26,
    "start_time": "2024-03-17T11:58:37.049Z"
   },
   {
    "duration": 5,
    "start_time": "2024-03-17T11:58:37.077Z"
   },
   {
    "duration": 12,
    "start_time": "2024-03-17T11:58:37.083Z"
   },
   {
    "duration": 6,
    "start_time": "2024-03-17T11:58:37.098Z"
   },
   {
    "duration": 16,
    "start_time": "2024-03-17T11:58:37.106Z"
   },
   {
    "duration": 46,
    "start_time": "2024-03-17T11:58:37.123Z"
   },
   {
    "duration": 9,
    "start_time": "2024-03-17T11:58:37.170Z"
   },
   {
    "duration": 26,
    "start_time": "2024-03-17T11:58:37.181Z"
   },
   {
    "duration": 11,
    "start_time": "2024-03-17T11:58:37.209Z"
   },
   {
    "duration": 9,
    "start_time": "2024-03-17T11:58:37.222Z"
   },
   {
    "duration": 3537,
    "start_time": "2024-03-17T11:58:37.233Z"
   },
   {
    "duration": 14,
    "start_time": "2024-03-17T11:58:40.771Z"
   },
   {
    "duration": 14,
    "start_time": "2024-03-17T11:58:40.787Z"
   },
   {
    "duration": 462,
    "start_time": "2024-03-17T11:58:40.803Z"
   },
   {
    "duration": 30,
    "start_time": "2024-03-17T11:58:41.267Z"
   },
   {
    "duration": 443,
    "start_time": "2024-03-17T11:58:41.299Z"
   },
   {
    "duration": 4,
    "start_time": "2024-03-17T11:58:41.744Z"
   },
   {
    "duration": 15,
    "start_time": "2024-03-17T11:58:41.750Z"
   },
   {
    "duration": 28,
    "start_time": "2024-03-17T11:58:41.767Z"
   },
   {
    "duration": 5,
    "start_time": "2024-03-17T11:58:41.797Z"
   },
   {
    "duration": 6,
    "start_time": "2024-03-17T11:58:41.803Z"
   },
   {
    "duration": 10,
    "start_time": "2024-03-17T11:58:41.812Z"
   },
   {
    "duration": 727,
    "start_time": "2024-03-17T11:58:41.823Z"
   },
   {
    "duration": 34,
    "start_time": "2024-03-17T11:58:42.552Z"
   },
   {
    "duration": 0,
    "start_time": "2024-03-17T11:58:42.587Z"
   },
   {
    "duration": 0,
    "start_time": "2024-03-17T11:58:42.589Z"
   },
   {
    "duration": 1370,
    "start_time": "2024-03-17T12:00:10.002Z"
   },
   {
    "duration": 811,
    "start_time": "2024-03-17T12:00:11.374Z"
   },
   {
    "duration": 3,
    "start_time": "2024-03-17T12:00:12.187Z"
   },
   {
    "duration": 375,
    "start_time": "2024-03-17T12:00:12.191Z"
   },
   {
    "duration": 154,
    "start_time": "2024-03-17T12:00:12.568Z"
   },
   {
    "duration": 350,
    "start_time": "2024-03-17T12:00:12.724Z"
   },
   {
    "duration": 13,
    "start_time": "2024-03-17T12:00:13.075Z"
   },
   {
    "duration": 38,
    "start_time": "2024-03-17T12:00:13.089Z"
   },
   {
    "duration": 35,
    "start_time": "2024-03-17T12:00:13.129Z"
   },
   {
    "duration": 34,
    "start_time": "2024-03-17T12:00:13.165Z"
   },
   {
    "duration": 44,
    "start_time": "2024-03-17T12:00:13.201Z"
   },
   {
    "duration": 40,
    "start_time": "2024-03-17T12:00:13.246Z"
   },
   {
    "duration": 43,
    "start_time": "2024-03-17T12:00:13.288Z"
   },
   {
    "duration": 11,
    "start_time": "2024-03-17T12:00:13.334Z"
   },
   {
    "duration": 28,
    "start_time": "2024-03-17T12:00:13.346Z"
   },
   {
    "duration": 31,
    "start_time": "2024-03-17T12:00:13.376Z"
   },
   {
    "duration": 3604,
    "start_time": "2024-03-17T12:00:13.408Z"
   },
   {
    "duration": 13,
    "start_time": "2024-03-17T12:00:17.014Z"
   },
   {
    "duration": 27,
    "start_time": "2024-03-17T12:00:17.028Z"
   },
   {
    "duration": 401,
    "start_time": "2024-03-17T12:00:17.056Z"
   },
   {
    "duration": 33,
    "start_time": "2024-03-17T12:00:17.458Z"
   },
   {
    "duration": 417,
    "start_time": "2024-03-17T12:00:17.492Z"
   },
   {
    "duration": 3,
    "start_time": "2024-03-17T12:00:17.911Z"
   },
   {
    "duration": 19,
    "start_time": "2024-03-17T12:00:17.915Z"
   },
   {
    "duration": 23,
    "start_time": "2024-03-17T12:00:17.935Z"
   },
   {
    "duration": 4,
    "start_time": "2024-03-17T12:00:17.959Z"
   },
   {
    "duration": 14,
    "start_time": "2024-03-17T12:00:17.964Z"
   },
   {
    "duration": 22,
    "start_time": "2024-03-17T12:00:17.980Z"
   },
   {
    "duration": 752,
    "start_time": "2024-03-17T12:00:18.003Z"
   },
   {
    "duration": 34,
    "start_time": "2024-03-17T12:00:18.757Z"
   },
   {
    "duration": 0,
    "start_time": "2024-03-17T12:00:18.793Z"
   },
   {
    "duration": 0,
    "start_time": "2024-03-17T12:00:18.793Z"
   },
   {
    "duration": 10,
    "start_time": "2024-03-17T12:01:32.206Z"
   },
   {
    "duration": 1418,
    "start_time": "2024-03-17T12:01:43.585Z"
   },
   {
    "duration": 833,
    "start_time": "2024-03-17T12:01:45.005Z"
   },
   {
    "duration": 3,
    "start_time": "2024-03-17T12:01:45.840Z"
   },
   {
    "duration": 392,
    "start_time": "2024-03-17T12:01:45.844Z"
   },
   {
    "duration": 147,
    "start_time": "2024-03-17T12:01:46.238Z"
   },
   {
    "duration": 362,
    "start_time": "2024-03-17T12:01:46.387Z"
   },
   {
    "duration": 25,
    "start_time": "2024-03-17T12:01:46.750Z"
   },
   {
    "duration": 7,
    "start_time": "2024-03-17T12:01:46.777Z"
   },
   {
    "duration": 34,
    "start_time": "2024-03-17T12:01:46.786Z"
   },
   {
    "duration": 17,
    "start_time": "2024-03-17T12:01:46.822Z"
   },
   {
    "duration": 62,
    "start_time": "2024-03-17T12:01:46.841Z"
   },
   {
    "duration": 31,
    "start_time": "2024-03-17T12:01:46.905Z"
   },
   {
    "duration": 40,
    "start_time": "2024-03-17T12:01:46.938Z"
   },
   {
    "duration": 23,
    "start_time": "2024-03-17T12:01:46.982Z"
   },
   {
    "duration": 33,
    "start_time": "2024-03-17T12:01:47.007Z"
   },
   {
    "duration": 57,
    "start_time": "2024-03-17T12:01:47.042Z"
   },
   {
    "duration": 3762,
    "start_time": "2024-03-17T12:01:47.101Z"
   },
   {
    "duration": 14,
    "start_time": "2024-03-17T12:01:50.865Z"
   },
   {
    "duration": 46,
    "start_time": "2024-03-17T12:01:50.880Z"
   },
   {
    "duration": 438,
    "start_time": "2024-03-17T12:01:50.928Z"
   },
   {
    "duration": 31,
    "start_time": "2024-03-17T12:01:51.368Z"
   },
   {
    "duration": 432,
    "start_time": "2024-03-17T12:01:51.401Z"
   },
   {
    "duration": 4,
    "start_time": "2024-03-17T12:01:51.834Z"
   },
   {
    "duration": 29,
    "start_time": "2024-03-17T12:01:51.839Z"
   },
   {
    "duration": 36,
    "start_time": "2024-03-17T12:01:51.870Z"
   },
   {
    "duration": 20,
    "start_time": "2024-03-17T12:01:51.908Z"
   },
   {
    "duration": 44,
    "start_time": "2024-03-17T12:01:51.929Z"
   },
   {
    "duration": 31,
    "start_time": "2024-03-17T12:01:51.975Z"
   },
   {
    "duration": 745,
    "start_time": "2024-03-17T12:01:52.008Z"
   },
   {
    "duration": 37,
    "start_time": "2024-03-17T12:01:52.754Z"
   },
   {
    "duration": 0,
    "start_time": "2024-03-17T12:01:52.793Z"
   },
   {
    "duration": 0,
    "start_time": "2024-03-17T12:01:52.795Z"
   },
   {
    "duration": 3324,
    "start_time": "2024-03-17T15:16:06.744Z"
   },
   {
    "duration": 2233,
    "start_time": "2024-03-17T15:16:10.070Z"
   },
   {
    "duration": 3,
    "start_time": "2024-03-17T15:16:12.305Z"
   },
   {
    "duration": 400,
    "start_time": "2024-03-17T15:16:12.310Z"
   },
   {
    "duration": 159,
    "start_time": "2024-03-17T15:16:12.712Z"
   },
   {
    "duration": 393,
    "start_time": "2024-03-17T15:16:12.873Z"
   },
   {
    "duration": 25,
    "start_time": "2024-03-17T15:16:13.268Z"
   },
   {
    "duration": 5,
    "start_time": "2024-03-17T15:16:13.295Z"
   },
   {
    "duration": 15,
    "start_time": "2024-03-17T15:16:13.301Z"
   },
   {
    "duration": 25,
    "start_time": "2024-03-17T15:16:13.319Z"
   },
   {
    "duration": 40,
    "start_time": "2024-03-17T15:16:13.346Z"
   },
   {
    "duration": 24,
    "start_time": "2024-03-17T15:16:13.387Z"
   },
   {
    "duration": 13,
    "start_time": "2024-03-17T15:16:13.413Z"
   },
   {
    "duration": 22,
    "start_time": "2024-03-17T15:16:13.427Z"
   },
   {
    "duration": 4,
    "start_time": "2024-03-17T15:16:13.452Z"
   },
   {
    "duration": 10,
    "start_time": "2024-03-17T15:16:13.457Z"
   },
   {
    "duration": 3923,
    "start_time": "2024-03-17T15:16:13.469Z"
   },
   {
    "duration": 15,
    "start_time": "2024-03-17T15:16:17.394Z"
   },
   {
    "duration": 15,
    "start_time": "2024-03-17T15:16:17.411Z"
   },
   {
    "duration": 501,
    "start_time": "2024-03-17T15:16:17.428Z"
   },
   {
    "duration": 35,
    "start_time": "2024-03-17T15:16:17.931Z"
   },
   {
    "duration": 462,
    "start_time": "2024-03-17T15:16:17.967Z"
   },
   {
    "duration": 4,
    "start_time": "2024-03-17T15:16:18.430Z"
   },
   {
    "duration": 6,
    "start_time": "2024-03-17T15:16:18.435Z"
   },
   {
    "duration": 8,
    "start_time": "2024-03-17T15:16:18.442Z"
   },
   {
    "duration": 11,
    "start_time": "2024-03-17T15:16:18.451Z"
   },
   {
    "duration": 18,
    "start_time": "2024-03-17T15:16:18.464Z"
   },
   {
    "duration": 33,
    "start_time": "2024-03-17T15:16:18.486Z"
   },
   {
    "duration": 831,
    "start_time": "2024-03-17T15:16:18.520Z"
   },
   {
    "duration": 38,
    "start_time": "2024-03-17T15:16:19.352Z"
   },
   {
    "duration": 0,
    "start_time": "2024-03-17T15:16:19.392Z"
   },
   {
    "duration": 0,
    "start_time": "2024-03-17T15:16:19.393Z"
   },
   {
    "duration": 30,
    "start_time": "2024-03-17T15:16:33.484Z"
   },
   {
    "duration": 8,
    "start_time": "2024-03-17T15:16:40.620Z"
   },
   {
    "duration": 3372,
    "start_time": "2024-03-17T15:17:37.064Z"
   },
   {
    "duration": 861,
    "start_time": "2024-03-17T15:17:40.439Z"
   },
   {
    "duration": 4,
    "start_time": "2024-03-17T15:17:41.302Z"
   },
   {
    "duration": 409,
    "start_time": "2024-03-17T15:17:41.308Z"
   },
   {
    "duration": 189,
    "start_time": "2024-03-17T15:17:41.720Z"
   },
   {
    "duration": 376,
    "start_time": "2024-03-17T15:17:41.911Z"
   },
   {
    "duration": 15,
    "start_time": "2024-03-17T15:17:42.289Z"
   },
   {
    "duration": 5,
    "start_time": "2024-03-17T15:17:42.306Z"
   },
   {
    "duration": 13,
    "start_time": "2024-03-17T15:17:42.312Z"
   },
   {
    "duration": 6,
    "start_time": "2024-03-17T15:17:42.326Z"
   },
   {
    "duration": 52,
    "start_time": "2024-03-17T15:17:42.334Z"
   },
   {
    "duration": 16,
    "start_time": "2024-03-17T15:17:42.388Z"
   },
   {
    "duration": 11,
    "start_time": "2024-03-17T15:17:42.406Z"
   },
   {
    "duration": 9,
    "start_time": "2024-03-17T15:17:42.420Z"
   },
   {
    "duration": 4,
    "start_time": "2024-03-17T15:17:42.431Z"
   },
   {
    "duration": 9,
    "start_time": "2024-03-17T15:17:42.437Z"
   },
   {
    "duration": 3959,
    "start_time": "2024-03-17T15:17:42.481Z"
   },
   {
    "duration": 16,
    "start_time": "2024-03-17T15:17:46.442Z"
   },
   {
    "duration": 35,
    "start_time": "2024-03-17T15:17:46.460Z"
   },
   {
    "duration": 30,
    "start_time": "2024-03-17T15:17:56.048Z"
   },
   {
    "duration": 3155,
    "start_time": "2024-03-17T15:18:31.074Z"
   },
   {
    "duration": 882,
    "start_time": "2024-03-17T15:18:34.231Z"
   },
   {
    "duration": 3,
    "start_time": "2024-03-17T15:18:35.115Z"
   },
   {
    "duration": 408,
    "start_time": "2024-03-17T15:18:35.119Z"
   },
   {
    "duration": 168,
    "start_time": "2024-03-17T15:18:35.529Z"
   },
   {
    "duration": 392,
    "start_time": "2024-03-17T15:18:35.698Z"
   },
   {
    "duration": 15,
    "start_time": "2024-03-17T15:18:36.092Z"
   },
   {
    "duration": 4,
    "start_time": "2024-03-17T15:18:36.109Z"
   },
   {
    "duration": 16,
    "start_time": "2024-03-17T15:18:36.115Z"
   },
   {
    "duration": 7,
    "start_time": "2024-03-17T15:18:36.133Z"
   },
   {
    "duration": 49,
    "start_time": "2024-03-17T15:18:36.142Z"
   },
   {
    "duration": 14,
    "start_time": "2024-03-17T15:18:36.193Z"
   },
   {
    "duration": 13,
    "start_time": "2024-03-17T15:18:36.209Z"
   },
   {
    "duration": 17,
    "start_time": "2024-03-17T15:18:36.225Z"
   },
   {
    "duration": 3,
    "start_time": "2024-03-17T15:18:36.244Z"
   },
   {
    "duration": 5,
    "start_time": "2024-03-17T15:18:36.249Z"
   },
   {
    "duration": 3922,
    "start_time": "2024-03-17T15:18:36.255Z"
   },
   {
    "duration": 15,
    "start_time": "2024-03-17T15:18:40.179Z"
   },
   {
    "duration": 31,
    "start_time": "2024-03-17T15:18:47.989Z"
   },
   {
    "duration": 9,
    "start_time": "2024-03-17T15:19:00.272Z"
   },
   {
    "duration": 42,
    "start_time": "2024-03-17T15:19:07.392Z"
   },
   {
    "duration": 26,
    "start_time": "2024-03-17T15:19:25.177Z"
   },
   {
    "duration": 48,
    "start_time": "2024-03-17T17:26:47.597Z"
   },
   {
    "duration": 1660,
    "start_time": "2024-03-17T17:27:03.591Z"
   },
   {
    "duration": 2156,
    "start_time": "2024-03-17T17:27:05.253Z"
   },
   {
    "duration": 3,
    "start_time": "2024-03-17T17:27:07.411Z"
   },
   {
    "duration": 355,
    "start_time": "2024-03-17T17:27:07.415Z"
   },
   {
    "duration": 163,
    "start_time": "2024-03-17T17:27:07.772Z"
   },
   {
    "duration": 378,
    "start_time": "2024-03-17T17:27:07.936Z"
   },
   {
    "duration": 15,
    "start_time": "2024-03-17T17:27:08.316Z"
   },
   {
    "duration": 5,
    "start_time": "2024-03-17T17:27:08.333Z"
   },
   {
    "duration": 34,
    "start_time": "2024-03-17T17:27:08.340Z"
   },
   {
    "duration": 6,
    "start_time": "2024-03-17T17:27:08.376Z"
   },
   {
    "duration": 15,
    "start_time": "2024-03-17T17:27:08.384Z"
   },
   {
    "duration": 13,
    "start_time": "2024-03-17T17:27:08.401Z"
   },
   {
    "duration": 10,
    "start_time": "2024-03-17T17:27:08.415Z"
   },
   {
    "duration": 43,
    "start_time": "2024-03-17T17:27:08.427Z"
   },
   {
    "duration": 2,
    "start_time": "2024-03-17T17:27:08.472Z"
   },
   {
    "duration": 4,
    "start_time": "2024-03-17T17:27:08.476Z"
   },
   {
    "duration": 3683,
    "start_time": "2024-03-17T17:27:08.482Z"
   },
   {
    "duration": 14,
    "start_time": "2024-03-17T17:27:12.167Z"
   },
   {
    "duration": 35,
    "start_time": "2024-03-17T17:27:12.183Z"
   },
   {
    "duration": 465,
    "start_time": "2024-03-17T17:27:12.220Z"
   },
   {
    "duration": 32,
    "start_time": "2024-03-17T17:27:12.687Z"
   },
   {
    "duration": 444,
    "start_time": "2024-03-17T17:27:12.720Z"
   },
   {
    "duration": 3,
    "start_time": "2024-03-17T17:27:13.165Z"
   },
   {
    "duration": 3,
    "start_time": "2024-03-17T17:27:13.170Z"
   },
   {
    "duration": 9,
    "start_time": "2024-03-17T17:27:13.174Z"
   },
   {
    "duration": 3,
    "start_time": "2024-03-17T17:27:13.185Z"
   },
   {
    "duration": 4,
    "start_time": "2024-03-17T17:27:13.189Z"
   },
   {
    "duration": 10,
    "start_time": "2024-03-17T17:27:13.195Z"
   },
   {
    "duration": 103058,
    "start_time": "2024-03-17T17:27:13.206Z"
   },
   {
    "duration": 1001,
    "start_time": "2024-03-17T17:28:56.266Z"
   },
   {
    "duration": 1803,
    "start_time": "2024-03-17T17:28:57.273Z"
   },
   {
    "duration": 9,
    "start_time": "2024-03-17T17:28:59.078Z"
   },
   {
    "duration": 125,
    "start_time": "2024-03-17T17:28:59.090Z"
   },
   {
    "duration": 29,
    "start_time": "2024-03-17T17:35:39.144Z"
   },
   {
    "duration": 11,
    "start_time": "2024-03-17T17:37:08.877Z"
   },
   {
    "duration": 11,
    "start_time": "2024-03-17T17:37:25.194Z"
   },
   {
    "duration": 13,
    "start_time": "2024-03-17T17:38:55.112Z"
   },
   {
    "duration": 8,
    "start_time": "2024-03-17T17:39:38.793Z"
   },
   {
    "duration": 406,
    "start_time": "2024-03-17T17:39:46.754Z"
   },
   {
    "duration": 9,
    "start_time": "2024-03-17T17:42:22.265Z"
   },
   {
    "duration": 1448,
    "start_time": "2024-03-17T17:45:29.617Z"
   },
   {
    "duration": 878,
    "start_time": "2024-03-17T17:45:31.066Z"
   },
   {
    "duration": 3,
    "start_time": "2024-03-17T17:45:31.946Z"
   },
   {
    "duration": 379,
    "start_time": "2024-03-17T17:45:31.951Z"
   },
   {
    "duration": 157,
    "start_time": "2024-03-17T17:45:32.332Z"
   },
   {
    "duration": 358,
    "start_time": "2024-03-17T17:45:32.491Z"
   },
   {
    "duration": 16,
    "start_time": "2024-03-17T17:45:32.851Z"
   },
   {
    "duration": 3,
    "start_time": "2024-03-17T17:45:32.869Z"
   },
   {
    "duration": 11,
    "start_time": "2024-03-17T17:45:32.873Z"
   },
   {
    "duration": 5,
    "start_time": "2024-03-17T17:45:32.886Z"
   },
   {
    "duration": 12,
    "start_time": "2024-03-17T17:45:32.893Z"
   },
   {
    "duration": 38,
    "start_time": "2024-03-17T17:45:32.907Z"
   },
   {
    "duration": 23,
    "start_time": "2024-03-17T17:45:32.947Z"
   },
   {
    "duration": 20,
    "start_time": "2024-03-17T17:45:32.971Z"
   },
   {
    "duration": 3,
    "start_time": "2024-03-17T17:45:32.992Z"
   },
   {
    "duration": 12,
    "start_time": "2024-03-17T17:45:32.996Z"
   },
   {
    "duration": 3618,
    "start_time": "2024-03-17T17:45:33.009Z"
   },
   {
    "duration": 14,
    "start_time": "2024-03-17T17:45:36.629Z"
   },
   {
    "duration": 122,
    "start_time": "2024-03-17T17:45:36.645Z"
   },
   {
    "duration": 0,
    "start_time": "2024-03-17T17:45:36.769Z"
   },
   {
    "duration": 0,
    "start_time": "2024-03-17T17:45:36.770Z"
   },
   {
    "duration": 0,
    "start_time": "2024-03-17T17:45:36.771Z"
   },
   {
    "duration": 0,
    "start_time": "2024-03-17T17:45:36.773Z"
   },
   {
    "duration": 0,
    "start_time": "2024-03-17T17:45:36.773Z"
   },
   {
    "duration": 0,
    "start_time": "2024-03-17T17:45:36.774Z"
   },
   {
    "duration": 0,
    "start_time": "2024-03-17T17:45:36.776Z"
   },
   {
    "duration": 0,
    "start_time": "2024-03-17T17:45:36.777Z"
   },
   {
    "duration": 0,
    "start_time": "2024-03-17T17:45:36.777Z"
   },
   {
    "duration": 0,
    "start_time": "2024-03-17T17:45:36.778Z"
   },
   {
    "duration": 0,
    "start_time": "2024-03-17T17:45:36.779Z"
   },
   {
    "duration": 0,
    "start_time": "2024-03-17T17:45:36.780Z"
   },
   {
    "duration": 0,
    "start_time": "2024-03-17T17:45:36.782Z"
   },
   {
    "duration": 14620,
    "start_time": "2024-03-17T17:47:44.954Z"
   },
   {
    "duration": 194,
    "start_time": "2024-03-17T17:48:15.285Z"
   },
   {
    "duration": 32,
    "start_time": "2024-03-17T17:48:51.162Z"
   },
   {
    "duration": 1386,
    "start_time": "2024-03-17T17:49:19.875Z"
   },
   {
    "duration": 849,
    "start_time": "2024-03-17T17:49:21.263Z"
   },
   {
    "duration": 3,
    "start_time": "2024-03-17T17:49:22.114Z"
   },
   {
    "duration": 366,
    "start_time": "2024-03-17T17:49:22.118Z"
   },
   {
    "duration": 156,
    "start_time": "2024-03-17T17:49:22.486Z"
   },
   {
    "duration": 350,
    "start_time": "2024-03-17T17:49:22.644Z"
   },
   {
    "duration": 13,
    "start_time": "2024-03-17T17:49:22.996Z"
   },
   {
    "duration": 4,
    "start_time": "2024-03-17T17:49:23.010Z"
   },
   {
    "duration": 9,
    "start_time": "2024-03-17T17:49:23.016Z"
   },
   {
    "duration": 5,
    "start_time": "2024-03-17T17:49:23.027Z"
   },
   {
    "duration": 39,
    "start_time": "2024-03-17T17:49:23.033Z"
   },
   {
    "duration": 13,
    "start_time": "2024-03-17T17:49:23.073Z"
   },
   {
    "duration": 9,
    "start_time": "2024-03-17T17:49:23.087Z"
   },
   {
    "duration": 8,
    "start_time": "2024-03-17T17:49:23.098Z"
   },
   {
    "duration": 3,
    "start_time": "2024-03-17T17:49:23.107Z"
   },
   {
    "duration": 4,
    "start_time": "2024-03-17T17:49:23.111Z"
   },
   {
    "duration": 3557,
    "start_time": "2024-03-17T17:49:23.116Z"
   },
   {
    "duration": 14,
    "start_time": "2024-03-17T17:49:26.675Z"
   },
   {
    "duration": 474,
    "start_time": "2024-03-17T17:49:26.691Z"
   },
   {
    "duration": 30,
    "start_time": "2024-03-17T17:49:27.167Z"
   },
   {
    "duration": 415,
    "start_time": "2024-03-17T17:49:27.198Z"
   },
   {
    "duration": 5,
    "start_time": "2024-03-17T17:49:27.614Z"
   },
   {
    "duration": 7,
    "start_time": "2024-03-17T17:49:27.621Z"
   },
   {
    "duration": 10,
    "start_time": "2024-03-17T17:49:27.630Z"
   },
   {
    "duration": 5,
    "start_time": "2024-03-17T17:49:27.641Z"
   },
   {
    "duration": 3,
    "start_time": "2024-03-17T17:49:27.665Z"
   },
   {
    "duration": 11,
    "start_time": "2024-03-17T17:49:27.670Z"
   },
   {
    "duration": 104729,
    "start_time": "2024-03-17T17:49:27.682Z"
   },
   {
    "duration": 955,
    "start_time": "2024-03-17T17:51:12.413Z"
   },
   {
    "duration": 1807,
    "start_time": "2024-03-17T17:51:13.371Z"
   },
   {
    "duration": 9,
    "start_time": "2024-03-17T17:51:15.180Z"
   },
   {
    "duration": 116,
    "start_time": "2024-03-17T18:15:50.225Z"
   },
   {
    "duration": 17,
    "start_time": "2024-03-17T18:18:05.030Z"
   },
   {
    "duration": 13,
    "start_time": "2024-03-17T18:19:09.902Z"
   },
   {
    "duration": 14,
    "start_time": "2024-03-17T18:19:26.908Z"
   },
   {
    "duration": 1433,
    "start_time": "2024-03-17T18:19:48.835Z"
   },
   {
    "duration": 833,
    "start_time": "2024-03-17T18:19:50.269Z"
   },
   {
    "duration": 3,
    "start_time": "2024-03-17T18:19:51.104Z"
   },
   {
    "duration": 362,
    "start_time": "2024-03-17T18:19:51.108Z"
   },
   {
    "duration": 160,
    "start_time": "2024-03-17T18:19:51.472Z"
   },
   {
    "duration": 356,
    "start_time": "2024-03-17T18:19:51.634Z"
   },
   {
    "duration": 14,
    "start_time": "2024-03-17T18:19:51.992Z"
   },
   {
    "duration": 4,
    "start_time": "2024-03-17T18:19:52.007Z"
   },
   {
    "duration": 18,
    "start_time": "2024-03-17T18:19:52.012Z"
   },
   {
    "duration": 6,
    "start_time": "2024-03-17T18:19:52.031Z"
   },
   {
    "duration": 36,
    "start_time": "2024-03-17T18:19:52.038Z"
   },
   {
    "duration": 41,
    "start_time": "2024-03-17T18:19:52.075Z"
   },
   {
    "duration": 12,
    "start_time": "2024-03-17T18:19:52.117Z"
   },
   {
    "duration": 8,
    "start_time": "2024-03-17T18:19:52.131Z"
   },
   {
    "duration": 13,
    "start_time": "2024-03-17T18:19:52.140Z"
   },
   {
    "duration": 6,
    "start_time": "2024-03-17T18:19:52.154Z"
   },
   {
    "duration": 3620,
    "start_time": "2024-03-17T18:19:52.161Z"
   },
   {
    "duration": 16,
    "start_time": "2024-03-17T18:19:55.783Z"
   },
   {
    "duration": 10,
    "start_time": "2024-03-17T18:19:55.801Z"
   },
   {
    "duration": 453,
    "start_time": "2024-03-17T18:19:55.813Z"
   },
   {
    "duration": 1157,
    "start_time": "2024-03-17T18:19:56.268Z"
   },
   {
    "duration": 0,
    "start_time": "2024-03-17T18:19:57.427Z"
   },
   {
    "duration": 0,
    "start_time": "2024-03-17T18:19:57.429Z"
   },
   {
    "duration": 1,
    "start_time": "2024-03-17T18:19:57.430Z"
   },
   {
    "duration": 0,
    "start_time": "2024-03-17T18:19:57.432Z"
   },
   {
    "duration": 0,
    "start_time": "2024-03-17T18:19:57.433Z"
   },
   {
    "duration": 0,
    "start_time": "2024-03-17T18:19:57.434Z"
   },
   {
    "duration": 0,
    "start_time": "2024-03-17T18:19:57.436Z"
   },
   {
    "duration": 0,
    "start_time": "2024-03-17T18:19:57.437Z"
   },
   {
    "duration": 0,
    "start_time": "2024-03-17T18:19:57.439Z"
   },
   {
    "duration": 0,
    "start_time": "2024-03-17T18:19:57.440Z"
   },
   {
    "duration": 0,
    "start_time": "2024-03-17T18:19:57.441Z"
   },
   {
    "duration": 12,
    "start_time": "2024-03-17T18:21:13.144Z"
   },
   {
    "duration": 13,
    "start_time": "2024-03-17T18:22:39.000Z"
   },
   {
    "duration": 1401,
    "start_time": "2024-03-17T18:23:22.348Z"
   },
   {
    "duration": 835,
    "start_time": "2024-03-17T18:23:23.751Z"
   },
   {
    "duration": 3,
    "start_time": "2024-03-17T18:23:24.587Z"
   },
   {
    "duration": 378,
    "start_time": "2024-03-17T18:23:24.591Z"
   },
   {
    "duration": 146,
    "start_time": "2024-03-17T18:23:24.971Z"
   },
   {
    "duration": 355,
    "start_time": "2024-03-17T18:23:25.119Z"
   },
   {
    "duration": 14,
    "start_time": "2024-03-17T18:23:25.476Z"
   },
   {
    "duration": 5,
    "start_time": "2024-03-17T18:23:25.491Z"
   },
   {
    "duration": 15,
    "start_time": "2024-03-17T18:23:25.498Z"
   },
   {
    "duration": 6,
    "start_time": "2024-03-17T18:23:25.515Z"
   },
   {
    "duration": 46,
    "start_time": "2024-03-17T18:23:25.522Z"
   },
   {
    "duration": 13,
    "start_time": "2024-03-17T18:23:25.569Z"
   },
   {
    "duration": 14,
    "start_time": "2024-03-17T18:23:25.584Z"
   },
   {
    "duration": 8,
    "start_time": "2024-03-17T18:23:25.601Z"
   },
   {
    "duration": 2,
    "start_time": "2024-03-17T18:23:25.610Z"
   },
   {
    "duration": 5,
    "start_time": "2024-03-17T18:23:25.614Z"
   },
   {
    "duration": 3590,
    "start_time": "2024-03-17T18:23:25.620Z"
   },
   {
    "duration": 13,
    "start_time": "2024-03-17T18:23:29.212Z"
   },
   {
    "duration": 139,
    "start_time": "2024-03-17T18:23:29.227Z"
   },
   {
    "duration": 0,
    "start_time": "2024-03-17T18:23:29.367Z"
   },
   {
    "duration": 0,
    "start_time": "2024-03-17T18:23:29.368Z"
   },
   {
    "duration": 0,
    "start_time": "2024-03-17T18:23:29.369Z"
   },
   {
    "duration": 0,
    "start_time": "2024-03-17T18:23:29.370Z"
   },
   {
    "duration": 0,
    "start_time": "2024-03-17T18:23:29.371Z"
   },
   {
    "duration": 0,
    "start_time": "2024-03-17T18:23:29.372Z"
   },
   {
    "duration": 0,
    "start_time": "2024-03-17T18:23:29.373Z"
   },
   {
    "duration": 0,
    "start_time": "2024-03-17T18:23:29.374Z"
   },
   {
    "duration": 0,
    "start_time": "2024-03-17T18:23:29.375Z"
   },
   {
    "duration": 0,
    "start_time": "2024-03-17T18:23:29.376Z"
   },
   {
    "duration": 0,
    "start_time": "2024-03-17T18:23:29.377Z"
   },
   {
    "duration": 0,
    "start_time": "2024-03-17T18:23:29.378Z"
   },
   {
    "duration": 0,
    "start_time": "2024-03-17T18:23:29.379Z"
   },
   {
    "duration": 14935,
    "start_time": "2024-03-17T18:32:24.079Z"
   },
   {
    "duration": 191,
    "start_time": "2024-03-17T18:32:51.305Z"
   },
   {
    "duration": 187,
    "start_time": "2024-03-17T18:33:09.116Z"
   },
   {
    "duration": 393,
    "start_time": "2024-03-17T18:33:26.582Z"
   },
   {
    "duration": 4959,
    "start_time": "2024-03-17T18:33:45.690Z"
   },
   {
    "duration": 200,
    "start_time": "2024-03-17T18:33:52.725Z"
   },
   {
    "duration": 66,
    "start_time": "2024-03-17T18:34:43.326Z"
   },
   {
    "duration": 179,
    "start_time": "2024-03-17T18:35:10.521Z"
   },
   {
    "duration": 11,
    "start_time": "2024-03-17T18:35:35.926Z"
   },
   {
    "duration": 186,
    "start_time": "2024-03-17T18:35:39.224Z"
   },
   {
    "duration": 22,
    "start_time": "2024-03-17T18:35:44.754Z"
   },
   {
    "duration": 548,
    "start_time": "2024-03-17T18:35:48.709Z"
   },
   {
    "duration": 16,
    "start_time": "2024-03-17T18:36:02.286Z"
   },
   {
    "duration": 190,
    "start_time": "2024-03-17T18:36:15.198Z"
   },
   {
    "duration": 1410,
    "start_time": "2024-03-17T18:36:22.647Z"
   },
   {
    "duration": 848,
    "start_time": "2024-03-17T18:36:24.059Z"
   },
   {
    "duration": 3,
    "start_time": "2024-03-17T18:36:24.908Z"
   },
   {
    "duration": 365,
    "start_time": "2024-03-17T18:36:24.912Z"
   },
   {
    "duration": 149,
    "start_time": "2024-03-17T18:36:25.279Z"
   },
   {
    "duration": 378,
    "start_time": "2024-03-17T18:36:25.429Z"
   },
   {
    "duration": 14,
    "start_time": "2024-03-17T18:36:25.808Z"
   },
   {
    "duration": 4,
    "start_time": "2024-03-17T18:36:25.824Z"
   },
   {
    "duration": 11,
    "start_time": "2024-03-17T18:36:25.830Z"
   },
   {
    "duration": 5,
    "start_time": "2024-03-17T18:36:25.866Z"
   },
   {
    "duration": 18,
    "start_time": "2024-03-17T18:36:25.872Z"
   },
   {
    "duration": 16,
    "start_time": "2024-03-17T18:36:25.891Z"
   },
   {
    "duration": 10,
    "start_time": "2024-03-17T18:36:25.908Z"
   },
   {
    "duration": 8,
    "start_time": "2024-03-17T18:36:25.920Z"
   },
   {
    "duration": 2,
    "start_time": "2024-03-17T18:36:25.930Z"
   },
   {
    "duration": 32,
    "start_time": "2024-03-17T18:36:25.933Z"
   },
   {
    "duration": 3591,
    "start_time": "2024-03-17T18:36:25.966Z"
   },
   {
    "duration": 14,
    "start_time": "2024-03-17T18:36:29.558Z"
   },
   {
    "duration": 412,
    "start_time": "2024-03-17T18:36:29.573Z"
   },
   {
    "duration": 31,
    "start_time": "2024-03-17T18:36:29.987Z"
   },
   {
    "duration": 444,
    "start_time": "2024-03-17T18:36:30.019Z"
   },
   {
    "duration": 3,
    "start_time": "2024-03-17T18:36:30.465Z"
   },
   {
    "duration": 50,
    "start_time": "2024-03-17T18:36:30.470Z"
   },
   {
    "duration": 41,
    "start_time": "2024-03-17T18:36:30.522Z"
   },
   {
    "duration": 53,
    "start_time": "2024-03-17T18:36:30.564Z"
   },
   {
    "duration": 44,
    "start_time": "2024-03-17T18:36:30.618Z"
   },
   {
    "duration": 46,
    "start_time": "2024-03-17T18:36:30.663Z"
   },
   {
    "duration": 102789,
    "start_time": "2024-03-17T18:36:30.711Z"
   },
   {
    "duration": 966,
    "start_time": "2024-03-17T18:38:13.502Z"
   },
   {
    "duration": 1758,
    "start_time": "2024-03-17T18:38:14.473Z"
   },
   {
    "duration": 8,
    "start_time": "2024-03-17T18:38:16.233Z"
   },
   {
    "duration": 438,
    "start_time": "2024-03-17T18:38:16.244Z"
   },
   {
    "duration": 111,
    "start_time": "2024-03-17T18:42:02.777Z"
   },
   {
    "duration": 1394,
    "start_time": "2024-03-17T18:43:25.659Z"
   },
   {
    "duration": 844,
    "start_time": "2024-03-17T18:43:27.055Z"
   },
   {
    "duration": 4,
    "start_time": "2024-03-17T18:43:27.900Z"
   },
   {
    "duration": 353,
    "start_time": "2024-03-17T18:43:27.905Z"
   },
   {
    "duration": 144,
    "start_time": "2024-03-17T18:43:28.259Z"
   },
   {
    "duration": 364,
    "start_time": "2024-03-17T18:43:28.405Z"
   },
   {
    "duration": 12,
    "start_time": "2024-03-17T18:43:28.771Z"
   },
   {
    "duration": 3,
    "start_time": "2024-03-17T18:43:28.785Z"
   },
   {
    "duration": 9,
    "start_time": "2024-03-17T18:43:28.789Z"
   },
   {
    "duration": 5,
    "start_time": "2024-03-17T18:43:28.800Z"
   },
   {
    "duration": 12,
    "start_time": "2024-03-17T18:43:28.807Z"
   },
   {
    "duration": 45,
    "start_time": "2024-03-17T18:43:28.821Z"
   },
   {
    "duration": 10,
    "start_time": "2024-03-17T18:43:28.867Z"
   },
   {
    "duration": 9,
    "start_time": "2024-03-17T18:43:28.878Z"
   },
   {
    "duration": 2,
    "start_time": "2024-03-17T18:43:28.889Z"
   },
   {
    "duration": 3,
    "start_time": "2024-03-17T18:43:28.893Z"
   },
   {
    "duration": 3580,
    "start_time": "2024-03-17T18:43:28.898Z"
   },
   {
    "duration": 14,
    "start_time": "2024-03-17T18:43:32.479Z"
   },
   {
    "duration": 135,
    "start_time": "2024-03-17T18:43:32.495Z"
   },
   {
    "duration": 0,
    "start_time": "2024-03-17T18:43:32.631Z"
   },
   {
    "duration": 0,
    "start_time": "2024-03-17T18:43:32.632Z"
   },
   {
    "duration": 0,
    "start_time": "2024-03-17T18:43:32.633Z"
   },
   {
    "duration": 0,
    "start_time": "2024-03-17T18:43:32.634Z"
   },
   {
    "duration": 0,
    "start_time": "2024-03-17T18:43:32.635Z"
   },
   {
    "duration": 0,
    "start_time": "2024-03-17T18:43:32.636Z"
   },
   {
    "duration": 0,
    "start_time": "2024-03-17T18:43:32.638Z"
   },
   {
    "duration": 1,
    "start_time": "2024-03-17T18:43:32.638Z"
   },
   {
    "duration": 0,
    "start_time": "2024-03-17T18:43:32.639Z"
   },
   {
    "duration": 0,
    "start_time": "2024-03-17T18:43:32.640Z"
   },
   {
    "duration": 0,
    "start_time": "2024-03-17T18:43:32.641Z"
   },
   {
    "duration": 0,
    "start_time": "2024-03-17T18:43:32.642Z"
   },
   {
    "duration": 0,
    "start_time": "2024-03-17T18:43:32.665Z"
   },
   {
    "duration": 14,
    "start_time": "2024-03-17T18:44:14.574Z"
   },
   {
    "duration": 14,
    "start_time": "2024-03-17T18:45:28.704Z"
   },
   {
    "duration": 99,
    "start_time": "2024-03-17T18:45:41.193Z"
   },
   {
    "duration": 69,
    "start_time": "2024-03-17T18:45:49.573Z"
   },
   {
    "duration": 405,
    "start_time": "2024-03-17T18:46:07.168Z"
   },
   {
    "duration": 30,
    "start_time": "2024-03-17T18:46:10.152Z"
   },
   {
    "duration": 405,
    "start_time": "2024-03-17T18:46:10.336Z"
   },
   {
    "duration": 3,
    "start_time": "2024-03-17T18:46:11.628Z"
   },
   {
    "duration": 4,
    "start_time": "2024-03-17T18:46:11.790Z"
   },
   {
    "duration": 9,
    "start_time": "2024-03-17T18:46:13.278Z"
   },
   {
    "duration": 3,
    "start_time": "2024-03-17T18:46:13.664Z"
   },
   {
    "duration": 3,
    "start_time": "2024-03-17T18:46:14.156Z"
   },
   {
    "duration": 9,
    "start_time": "2024-03-17T18:46:14.342Z"
   },
   {
    "duration": 101826,
    "start_time": "2024-03-17T18:46:15.378Z"
   },
   {
    "duration": 970,
    "start_time": "2024-03-17T18:47:57.207Z"
   },
   {
    "duration": 13,
    "start_time": "2024-03-17T18:49:54.941Z"
   },
   {
    "duration": 1471,
    "start_time": "2024-03-17T18:50:29.422Z"
   },
   {
    "duration": 849,
    "start_time": "2024-03-17T18:50:30.895Z"
   },
   {
    "duration": 3,
    "start_time": "2024-03-17T18:50:31.745Z"
   },
   {
    "duration": 388,
    "start_time": "2024-03-17T18:50:31.750Z"
   },
   {
    "duration": 162,
    "start_time": "2024-03-17T18:50:32.140Z"
   },
   {
    "duration": 367,
    "start_time": "2024-03-17T18:50:32.304Z"
   },
   {
    "duration": 14,
    "start_time": "2024-03-17T18:50:32.673Z"
   },
   {
    "duration": 4,
    "start_time": "2024-03-17T18:50:32.689Z"
   },
   {
    "duration": 12,
    "start_time": "2024-03-17T18:50:32.695Z"
   },
   {
    "duration": 9,
    "start_time": "2024-03-17T18:50:32.710Z"
   },
   {
    "duration": 20,
    "start_time": "2024-03-17T18:50:32.720Z"
   },
   {
    "duration": 35,
    "start_time": "2024-03-17T18:50:32.742Z"
   },
   {
    "duration": 15,
    "start_time": "2024-03-17T18:50:32.779Z"
   },
   {
    "duration": 21,
    "start_time": "2024-03-17T18:50:32.796Z"
   },
   {
    "duration": 2,
    "start_time": "2024-03-17T18:50:32.819Z"
   },
   {
    "duration": 5,
    "start_time": "2024-03-17T18:50:32.822Z"
   },
   {
    "duration": 3773,
    "start_time": "2024-03-17T18:50:32.829Z"
   },
   {
    "duration": 14,
    "start_time": "2024-03-17T18:50:36.604Z"
   },
   {
    "duration": 5028,
    "start_time": "2024-03-17T18:50:36.620Z"
   },
   {
    "duration": 0,
    "start_time": "2024-03-17T18:50:41.650Z"
   },
   {
    "duration": 0,
    "start_time": "2024-03-17T18:50:41.651Z"
   },
   {
    "duration": 0,
    "start_time": "2024-03-17T18:50:41.652Z"
   },
   {
    "duration": 0,
    "start_time": "2024-03-17T18:50:41.653Z"
   },
   {
    "duration": 0,
    "start_time": "2024-03-17T18:50:41.664Z"
   },
   {
    "duration": 0,
    "start_time": "2024-03-17T18:50:41.666Z"
   },
   {
    "duration": 0,
    "start_time": "2024-03-17T18:50:41.667Z"
   },
   {
    "duration": 0,
    "start_time": "2024-03-17T18:50:41.668Z"
   },
   {
    "duration": 0,
    "start_time": "2024-03-17T18:50:41.669Z"
   },
   {
    "duration": 0,
    "start_time": "2024-03-17T18:50:41.671Z"
   },
   {
    "duration": 0,
    "start_time": "2024-03-17T18:50:41.672Z"
   },
   {
    "duration": 0,
    "start_time": "2024-03-17T18:50:41.673Z"
   },
   {
    "duration": 0,
    "start_time": "2024-03-17T18:50:41.674Z"
   },
   {
    "duration": 15,
    "start_time": "2024-03-17T18:51:12.381Z"
   },
   {
    "duration": 11,
    "start_time": "2024-03-17T18:51:24.475Z"
   },
   {
    "duration": 11,
    "start_time": "2024-03-17T18:51:37.918Z"
   },
   {
    "duration": 13,
    "start_time": "2024-03-17T18:53:40.848Z"
   },
   {
    "duration": 1551,
    "start_time": "2024-03-18T06:27:08.008Z"
   },
   {
    "duration": 2144,
    "start_time": "2024-03-18T06:27:09.561Z"
   },
   {
    "duration": 2,
    "start_time": "2024-03-18T06:27:11.707Z"
   },
   {
    "duration": 372,
    "start_time": "2024-03-18T06:27:11.711Z"
   },
   {
    "duration": 139,
    "start_time": "2024-03-18T06:27:12.084Z"
   },
   {
    "duration": 332,
    "start_time": "2024-03-18T06:27:12.225Z"
   },
   {
    "duration": 13,
    "start_time": "2024-03-18T06:27:12.565Z"
   },
   {
    "duration": 4,
    "start_time": "2024-03-18T06:27:12.579Z"
   },
   {
    "duration": 23,
    "start_time": "2024-03-18T06:27:12.584Z"
   },
   {
    "duration": 6,
    "start_time": "2024-03-18T06:27:12.609Z"
   },
   {
    "duration": 12,
    "start_time": "2024-03-18T06:27:12.616Z"
   },
   {
    "duration": 13,
    "start_time": "2024-03-18T06:27:12.630Z"
   },
   {
    "duration": 27,
    "start_time": "2024-03-18T06:27:12.644Z"
   },
   {
    "duration": 20,
    "start_time": "2024-03-18T06:27:12.672Z"
   },
   {
    "duration": 3,
    "start_time": "2024-03-18T06:27:12.693Z"
   },
   {
    "duration": 5,
    "start_time": "2024-03-18T06:27:12.697Z"
   },
   {
    "duration": 3421,
    "start_time": "2024-03-18T06:27:12.703Z"
   },
   {
    "duration": 14,
    "start_time": "2024-03-18T06:27:16.125Z"
   },
   {
    "duration": 414,
    "start_time": "2024-03-18T06:27:16.140Z"
   },
   {
    "duration": 30,
    "start_time": "2024-03-18T06:27:16.565Z"
   },
   {
    "duration": 414,
    "start_time": "2024-03-18T06:27:16.596Z"
   },
   {
    "duration": 3,
    "start_time": "2024-03-18T06:27:17.011Z"
   },
   {
    "duration": 4,
    "start_time": "2024-03-18T06:27:17.015Z"
   },
   {
    "duration": 9,
    "start_time": "2024-03-18T06:27:17.020Z"
   },
   {
    "duration": 4,
    "start_time": "2024-03-18T06:27:17.031Z"
   },
   {
    "duration": 9,
    "start_time": "2024-03-18T06:27:17.036Z"
   },
   {
    "duration": 17,
    "start_time": "2024-03-18T06:27:17.065Z"
   },
   {
    "duration": 100768,
    "start_time": "2024-03-18T06:27:17.085Z"
   },
   {
    "duration": 912,
    "start_time": "2024-03-18T06:28:57.855Z"
   },
   {
    "duration": 1725,
    "start_time": "2024-03-18T06:28:58.770Z"
   },
   {
    "duration": 7,
    "start_time": "2024-03-18T06:29:00.496Z"
   },
   {
    "duration": 104,
    "start_time": "2024-03-18T06:30:33.285Z"
   },
   {
    "duration": 591,
    "start_time": "2024-03-18T06:31:36.333Z"
   },
   {
    "duration": 4,
    "start_time": "2024-03-18T06:33:45.808Z"
   },
   {
    "duration": 531,
    "start_time": "2024-03-18T06:33:59.033Z"
   },
   {
    "duration": 1341,
    "start_time": "2024-03-18T06:42:05.208Z"
   },
   {
    "duration": 845,
    "start_time": "2024-03-18T06:42:08.078Z"
   },
   {
    "duration": 3,
    "start_time": "2024-03-18T06:42:09.614Z"
   },
   {
    "duration": 339,
    "start_time": "2024-03-18T06:42:10.178Z"
   },
   {
    "duration": 141,
    "start_time": "2024-03-18T06:42:10.680Z"
   },
   {
    "duration": 349,
    "start_time": "2024-03-18T06:42:11.286Z"
   },
   {
    "duration": 15,
    "start_time": "2024-03-18T06:42:12.097Z"
   },
   {
    "duration": 5,
    "start_time": "2024-03-18T06:42:12.623Z"
   },
   {
    "duration": 10,
    "start_time": "2024-03-18T06:42:15.593Z"
   },
   {
    "duration": 6,
    "start_time": "2024-03-18T06:42:17.272Z"
   },
   {
    "duration": 13,
    "start_time": "2024-03-18T06:42:20.995Z"
   },
   {
    "duration": 14,
    "start_time": "2024-03-18T06:42:23.890Z"
   },
   {
    "duration": 9,
    "start_time": "2024-03-18T06:42:26.829Z"
   },
   {
    "duration": 10,
    "start_time": "2024-03-18T06:42:27.741Z"
   },
   {
    "duration": 3,
    "start_time": "2024-03-18T06:42:29.795Z"
   },
   {
    "duration": 2,
    "start_time": "2024-03-18T06:42:30.377Z"
   },
   {
    "duration": 3448,
    "start_time": "2024-03-18T06:42:31.285Z"
   },
   {
    "duration": 14,
    "start_time": "2024-03-18T06:42:37.695Z"
   },
   {
    "duration": 1220,
    "start_time": "2024-03-18T06:42:51.288Z"
   },
   {
    "duration": 1146,
    "start_time": "2024-03-18T06:43:46.995Z"
   },
   {
    "duration": 76,
    "start_time": "2024-03-18T06:46:09.568Z"
   },
   {
    "duration": 1108,
    "start_time": "2024-03-18T06:47:08.519Z"
   },
   {
    "duration": 15,
    "start_time": "2024-03-18T06:55:23.826Z"
   },
   {
    "duration": 1211,
    "start_time": "2024-03-18T07:09:09.604Z"
   },
   {
    "duration": 1165,
    "start_time": "2024-03-18T07:11:30.469Z"
   },
   {
    "duration": 1098,
    "start_time": "2024-03-18T07:17:39.222Z"
   },
   {
    "duration": 1253,
    "start_time": "2024-03-18T07:21:26.964Z"
   },
   {
    "duration": 3865,
    "start_time": "2024-03-18T07:21:47.966Z"
   },
   {
    "duration": 182,
    "start_time": "2024-03-18T07:21:57.775Z"
   },
   {
    "duration": 23,
    "start_time": "2024-03-18T07:22:09.577Z"
   },
   {
    "duration": 1413,
    "start_time": "2024-03-18T07:22:38.813Z"
   },
   {
    "duration": 808,
    "start_time": "2024-03-18T07:22:40.228Z"
   },
   {
    "duration": 3,
    "start_time": "2024-03-18T07:22:41.038Z"
   },
   {
    "duration": 334,
    "start_time": "2024-03-18T07:22:41.042Z"
   },
   {
    "duration": 140,
    "start_time": "2024-03-18T07:22:41.378Z"
   },
   {
    "duration": 352,
    "start_time": "2024-03-18T07:22:41.519Z"
   },
   {
    "duration": 14,
    "start_time": "2024-03-18T07:22:41.872Z"
   },
   {
    "duration": 4,
    "start_time": "2024-03-18T07:22:41.887Z"
   },
   {
    "duration": 17,
    "start_time": "2024-03-18T07:22:41.892Z"
   },
   {
    "duration": 12,
    "start_time": "2024-03-18T07:22:41.910Z"
   },
   {
    "duration": 13,
    "start_time": "2024-03-18T07:22:41.923Z"
   },
   {
    "duration": 39,
    "start_time": "2024-03-18T07:22:41.937Z"
   },
   {
    "duration": 10,
    "start_time": "2024-03-18T07:22:41.977Z"
   },
   {
    "duration": 9,
    "start_time": "2024-03-18T07:22:41.990Z"
   },
   {
    "duration": 8,
    "start_time": "2024-03-18T07:22:42.001Z"
   },
   {
    "duration": 13,
    "start_time": "2024-03-18T07:22:42.011Z"
   },
   {
    "duration": 3407,
    "start_time": "2024-03-18T07:22:42.026Z"
   },
   {
    "duration": 31,
    "start_time": "2024-03-18T07:22:45.435Z"
   },
   {
    "duration": 494,
    "start_time": "2024-03-18T07:22:45.468Z"
   },
   {
    "duration": 31,
    "start_time": "2024-03-18T07:22:45.965Z"
   },
   {
    "duration": 402,
    "start_time": "2024-03-18T07:22:45.998Z"
   },
   {
    "duration": 4,
    "start_time": "2024-03-18T07:22:46.402Z"
   },
   {
    "duration": 4,
    "start_time": "2024-03-18T07:22:46.408Z"
   },
   {
    "duration": 10,
    "start_time": "2024-03-18T07:22:46.413Z"
   },
   {
    "duration": 3,
    "start_time": "2024-03-18T07:22:46.424Z"
   },
   {
    "duration": 3,
    "start_time": "2024-03-18T07:22:46.429Z"
   },
   {
    "duration": 39,
    "start_time": "2024-03-18T07:22:46.434Z"
   },
   {
    "duration": 100083,
    "start_time": "2024-03-18T07:22:46.474Z"
   },
   {
    "duration": 814,
    "start_time": "2024-03-18T07:24:26.558Z"
   },
   {
    "duration": 1805,
    "start_time": "2024-03-18T07:24:27.374Z"
   },
   {
    "duration": 7,
    "start_time": "2024-03-18T07:24:29.180Z"
   },
   {
    "duration": 1315,
    "start_time": "2024-03-18T07:28:40.187Z"
   },
   {
    "duration": 1063,
    "start_time": "2024-03-18T07:29:56.154Z"
   },
   {
    "duration": 1047,
    "start_time": "2024-03-18T07:30:27.673Z"
   },
   {
    "duration": 12,
    "start_time": "2024-03-18T07:32:17.296Z"
   },
   {
    "duration": 14,
    "start_time": "2024-03-18T07:39:38.855Z"
   },
   {
    "duration": 16,
    "start_time": "2024-03-18T07:40:19.786Z"
   },
   {
    "duration": 1380,
    "start_time": "2024-03-18T07:40:42.985Z"
   },
   {
    "duration": 813,
    "start_time": "2024-03-18T07:40:44.367Z"
   },
   {
    "duration": 3,
    "start_time": "2024-03-18T07:40:45.182Z"
   },
   {
    "duration": 370,
    "start_time": "2024-03-18T07:40:45.186Z"
   },
   {
    "duration": 147,
    "start_time": "2024-03-18T07:40:45.558Z"
   },
   {
    "duration": 362,
    "start_time": "2024-03-18T07:40:45.707Z"
   },
   {
    "duration": 14,
    "start_time": "2024-03-18T07:40:46.071Z"
   },
   {
    "duration": 5,
    "start_time": "2024-03-18T07:40:46.086Z"
   },
   {
    "duration": 10,
    "start_time": "2024-03-18T07:40:46.092Z"
   },
   {
    "duration": 5,
    "start_time": "2024-03-18T07:40:46.104Z"
   },
   {
    "duration": 20,
    "start_time": "2024-03-18T07:40:46.111Z"
   },
   {
    "duration": 43,
    "start_time": "2024-03-18T07:40:46.133Z"
   },
   {
    "duration": 9,
    "start_time": "2024-03-18T07:40:46.177Z"
   },
   {
    "duration": 17,
    "start_time": "2024-03-18T07:40:46.189Z"
   },
   {
    "duration": 16,
    "start_time": "2024-03-18T07:40:46.207Z"
   },
   {
    "duration": 5,
    "start_time": "2024-03-18T07:40:46.224Z"
   },
   {
    "duration": 3482,
    "start_time": "2024-03-18T07:40:46.230Z"
   },
   {
    "duration": 14,
    "start_time": "2024-03-18T07:40:49.713Z"
   },
   {
    "duration": 4683,
    "start_time": "2024-03-18T07:40:49.728Z"
   },
   {
    "duration": 287,
    "start_time": "2024-03-18T07:40:54.413Z"
   },
   {
    "duration": 0,
    "start_time": "2024-03-18T07:40:54.702Z"
   },
   {
    "duration": 0,
    "start_time": "2024-03-18T07:40:54.703Z"
   },
   {
    "duration": 0,
    "start_time": "2024-03-18T07:40:54.704Z"
   },
   {
    "duration": 0,
    "start_time": "2024-03-18T07:40:54.705Z"
   },
   {
    "duration": 0,
    "start_time": "2024-03-18T07:40:54.706Z"
   },
   {
    "duration": 0,
    "start_time": "2024-03-18T07:40:54.707Z"
   },
   {
    "duration": 0,
    "start_time": "2024-03-18T07:40:54.709Z"
   },
   {
    "duration": 0,
    "start_time": "2024-03-18T07:40:54.710Z"
   },
   {
    "duration": 0,
    "start_time": "2024-03-18T07:40:54.711Z"
   },
   {
    "duration": 1,
    "start_time": "2024-03-18T07:40:54.711Z"
   },
   {
    "duration": 0,
    "start_time": "2024-03-18T07:40:54.713Z"
   },
   {
    "duration": 0,
    "start_time": "2024-03-18T07:40:54.714Z"
   },
   {
    "duration": 190,
    "start_time": "2024-03-18T07:41:46.980Z"
   },
   {
    "duration": 173,
    "start_time": "2024-03-18T07:41:55.422Z"
   },
   {
    "duration": 1229,
    "start_time": "2024-03-18T07:46:13.920Z"
   },
   {
    "duration": 69,
    "start_time": "2024-03-18T07:46:41.235Z"
   },
   {
    "duration": 77,
    "start_time": "2024-03-18T07:47:00.289Z"
   },
   {
    "duration": 1084,
    "start_time": "2024-03-18T07:47:17.410Z"
   },
   {
    "duration": 1094,
    "start_time": "2024-03-18T07:47:51.365Z"
   },
   {
    "duration": 1402,
    "start_time": "2024-03-18T07:48:15.499Z"
   },
   {
    "duration": 813,
    "start_time": "2024-03-18T07:48:16.903Z"
   },
   {
    "duration": 3,
    "start_time": "2024-03-18T07:48:17.718Z"
   },
   {
    "duration": 376,
    "start_time": "2024-03-18T07:48:17.723Z"
   },
   {
    "duration": 149,
    "start_time": "2024-03-18T07:48:18.102Z"
   },
   {
    "duration": 345,
    "start_time": "2024-03-18T07:48:18.264Z"
   },
   {
    "duration": 14,
    "start_time": "2024-03-18T07:48:18.610Z"
   },
   {
    "duration": 4,
    "start_time": "2024-03-18T07:48:18.625Z"
   },
   {
    "duration": 20,
    "start_time": "2024-03-18T07:48:18.630Z"
   },
   {
    "duration": 15,
    "start_time": "2024-03-18T07:48:18.652Z"
   },
   {
    "duration": 14,
    "start_time": "2024-03-18T07:48:18.669Z"
   },
   {
    "duration": 13,
    "start_time": "2024-03-18T07:48:18.684Z"
   },
   {
    "duration": 10,
    "start_time": "2024-03-18T07:48:18.698Z"
   },
   {
    "duration": 8,
    "start_time": "2024-03-18T07:48:18.711Z"
   },
   {
    "duration": 2,
    "start_time": "2024-03-18T07:48:18.721Z"
   },
   {
    "duration": 4,
    "start_time": "2024-03-18T07:48:18.724Z"
   },
   {
    "duration": 3707,
    "start_time": "2024-03-18T07:48:18.729Z"
   },
   {
    "duration": 13,
    "start_time": "2024-03-18T07:48:22.437Z"
   },
   {
    "duration": 1164,
    "start_time": "2024-03-18T07:48:22.452Z"
   },
   {
    "duration": 0,
    "start_time": "2024-03-18T07:48:23.618Z"
   },
   {
    "duration": 0,
    "start_time": "2024-03-18T07:48:23.619Z"
   },
   {
    "duration": 0,
    "start_time": "2024-03-18T07:48:23.620Z"
   },
   {
    "duration": 0,
    "start_time": "2024-03-18T07:48:23.621Z"
   },
   {
    "duration": 0,
    "start_time": "2024-03-18T07:48:23.622Z"
   },
   {
    "duration": 0,
    "start_time": "2024-03-18T07:48:23.624Z"
   },
   {
    "duration": 0,
    "start_time": "2024-03-18T07:48:23.625Z"
   },
   {
    "duration": 1,
    "start_time": "2024-03-18T07:48:23.625Z"
   },
   {
    "duration": 0,
    "start_time": "2024-03-18T07:48:23.626Z"
   },
   {
    "duration": 0,
    "start_time": "2024-03-18T07:48:23.627Z"
   },
   {
    "duration": 0,
    "start_time": "2024-03-18T07:48:23.628Z"
   },
   {
    "duration": 0,
    "start_time": "2024-03-18T07:48:23.629Z"
   },
   {
    "duration": 0,
    "start_time": "2024-03-18T07:48:23.630Z"
   },
   {
    "duration": 9,
    "start_time": "2024-03-18T07:54:26.796Z"
   },
   {
    "duration": 419,
    "start_time": "2024-03-18T07:54:34.569Z"
   },
   {
    "duration": 39,
    "start_time": "2024-03-18T07:54:42.658Z"
   },
   {
    "duration": 44,
    "start_time": "2024-03-18T07:55:23.268Z"
   },
   {
    "duration": 438,
    "start_time": "2024-03-18T07:55:28.223Z"
   },
   {
    "duration": 31,
    "start_time": "2024-03-18T07:55:31.497Z"
   },
   {
    "duration": 397,
    "start_time": "2024-03-18T07:55:34.745Z"
   },
   {
    "duration": 3,
    "start_time": "2024-03-18T07:55:38.943Z"
   },
   {
    "duration": 3,
    "start_time": "2024-03-18T07:55:39.375Z"
   },
   {
    "duration": 9,
    "start_time": "2024-03-18T07:55:42.000Z"
   },
   {
    "duration": 2,
    "start_time": "2024-03-18T07:55:42.953Z"
   },
   {
    "duration": 2,
    "start_time": "2024-03-18T07:55:46.268Z"
   },
   {
    "duration": 10,
    "start_time": "2024-03-18T07:55:46.682Z"
   },
   {
    "duration": 101524,
    "start_time": "2024-03-18T07:55:48.866Z"
   },
   {
    "duration": 1438,
    "start_time": "2024-03-18T07:58:34.625Z"
   },
   {
    "duration": 820,
    "start_time": "2024-03-18T07:58:36.065Z"
   },
   {
    "duration": 3,
    "start_time": "2024-03-18T07:58:36.887Z"
   },
   {
    "duration": 376,
    "start_time": "2024-03-18T07:58:36.892Z"
   },
   {
    "duration": 144,
    "start_time": "2024-03-18T07:58:37.270Z"
   },
   {
    "duration": 335,
    "start_time": "2024-03-18T07:58:37.415Z"
   },
   {
    "duration": 19,
    "start_time": "2024-03-18T07:58:37.752Z"
   },
   {
    "duration": 3,
    "start_time": "2024-03-18T07:58:37.773Z"
   },
   {
    "duration": 21,
    "start_time": "2024-03-18T07:58:37.777Z"
   },
   {
    "duration": 19,
    "start_time": "2024-03-18T07:58:37.799Z"
   },
   {
    "duration": 15,
    "start_time": "2024-03-18T07:58:37.820Z"
   },
   {
    "duration": 14,
    "start_time": "2024-03-18T07:58:37.837Z"
   },
   {
    "duration": 17,
    "start_time": "2024-03-18T07:58:37.852Z"
   },
   {
    "duration": 9,
    "start_time": "2024-03-18T07:58:37.871Z"
   },
   {
    "duration": 2,
    "start_time": "2024-03-18T07:58:37.881Z"
   },
   {
    "duration": 5,
    "start_time": "2024-03-18T07:58:37.885Z"
   },
   {
    "duration": 3555,
    "start_time": "2024-03-18T07:58:37.891Z"
   },
   {
    "duration": 19,
    "start_time": "2024-03-18T07:58:41.448Z"
   },
   {
    "duration": 6,
    "start_time": "2024-03-18T07:58:41.468Z"
   },
   {
    "duration": 112,
    "start_time": "2024-03-18T07:58:41.475Z"
   },
   {
    "duration": 0,
    "start_time": "2024-03-18T07:58:41.589Z"
   },
   {
    "duration": 0,
    "start_time": "2024-03-18T07:58:41.590Z"
   },
   {
    "duration": 0,
    "start_time": "2024-03-18T07:58:41.591Z"
   },
   {
    "duration": 0,
    "start_time": "2024-03-18T07:58:41.592Z"
   },
   {
    "duration": 0,
    "start_time": "2024-03-18T07:58:41.593Z"
   },
   {
    "duration": 0,
    "start_time": "2024-03-18T07:58:41.594Z"
   },
   {
    "duration": 0,
    "start_time": "2024-03-18T07:58:41.595Z"
   },
   {
    "duration": 0,
    "start_time": "2024-03-18T07:58:41.596Z"
   },
   {
    "duration": 0,
    "start_time": "2024-03-18T07:58:41.596Z"
   },
   {
    "duration": 0,
    "start_time": "2024-03-18T07:58:41.597Z"
   },
   {
    "duration": 0,
    "start_time": "2024-03-18T07:58:41.598Z"
   },
   {
    "duration": 0,
    "start_time": "2024-03-18T07:58:41.599Z"
   },
   {
    "duration": 0,
    "start_time": "2024-03-18T07:58:41.601Z"
   },
   {
    "duration": 0,
    "start_time": "2024-03-18T07:58:41.601Z"
   },
   {
    "duration": 9,
    "start_time": "2024-03-18T08:00:47.782Z"
   },
   {
    "duration": 6,
    "start_time": "2024-03-18T08:00:51.311Z"
   },
   {
    "duration": 11,
    "start_time": "2024-03-18T08:00:52.223Z"
   },
   {
    "duration": 9,
    "start_time": "2024-03-18T08:04:40.772Z"
   },
   {
    "duration": 13,
    "start_time": "2024-03-18T08:04:42.307Z"
   },
   {
    "duration": 6,
    "start_time": "2024-03-18T08:07:04.058Z"
   },
   {
    "duration": 76,
    "start_time": "2024-03-18T08:07:05.467Z"
   },
   {
    "duration": 5,
    "start_time": "2024-03-18T08:07:15.754Z"
   },
   {
    "duration": 65,
    "start_time": "2024-03-18T08:07:16.525Z"
   },
   {
    "duration": 9,
    "start_time": "2024-03-18T08:07:52.145Z"
   },
   {
    "duration": 57,
    "start_time": "2024-03-18T08:07:52.862Z"
   },
   {
    "duration": 30,
    "start_time": "2024-03-18T08:07:57.147Z"
   },
   {
    "duration": 414,
    "start_time": "2024-03-18T08:08:00.557Z"
   },
   {
    "duration": 30,
    "start_time": "2024-03-18T08:08:07.317Z"
   },
   {
    "duration": 431,
    "start_time": "2024-03-18T08:08:14.376Z"
   },
   {
    "duration": 3,
    "start_time": "2024-03-18T08:08:20.499Z"
   },
   {
    "duration": 3,
    "start_time": "2024-03-18T08:08:20.779Z"
   },
   {
    "duration": 6,
    "start_time": "2024-03-18T08:08:22.791Z"
   },
   {
    "duration": 3,
    "start_time": "2024-03-18T08:08:23.611Z"
   },
   {
    "duration": 3,
    "start_time": "2024-03-18T08:08:25.168Z"
   },
   {
    "duration": 11,
    "start_time": "2024-03-18T08:08:25.172Z"
   },
   {
    "duration": 101022,
    "start_time": "2024-03-18T08:08:28.189Z"
   },
   {
    "duration": 1154,
    "start_time": "2024-03-18T08:10:09.213Z"
   },
   {
    "duration": 1718,
    "start_time": "2024-03-18T08:10:10.369Z"
   },
   {
    "duration": 8,
    "start_time": "2024-03-18T08:10:12.089Z"
   },
   {
    "duration": 42,
    "start_time": "2024-03-18T08:10:12.098Z"
   },
   {
    "duration": 6,
    "start_time": "2024-03-18T08:10:27.976Z"
   },
   {
    "duration": 1137,
    "start_time": "2024-03-18T08:10:28.897Z"
   },
   {
    "duration": 5,
    "start_time": "2024-03-18T08:10:52.541Z"
   },
   {
    "duration": 1174,
    "start_time": "2024-03-18T08:10:55.931Z"
   },
   {
    "duration": 1351,
    "start_time": "2024-03-18T08:11:03.899Z"
   },
   {
    "duration": 826,
    "start_time": "2024-03-18T08:11:05.252Z"
   },
   {
    "duration": 4,
    "start_time": "2024-03-18T08:11:06.080Z"
   },
   {
    "duration": 371,
    "start_time": "2024-03-18T08:11:06.085Z"
   },
   {
    "duration": 142,
    "start_time": "2024-03-18T08:11:06.458Z"
   },
   {
    "duration": 343,
    "start_time": "2024-03-18T08:11:06.602Z"
   },
   {
    "duration": 27,
    "start_time": "2024-03-18T08:11:06.947Z"
   },
   {
    "duration": 3,
    "start_time": "2024-03-18T08:11:06.976Z"
   },
   {
    "duration": 11,
    "start_time": "2024-03-18T08:11:06.981Z"
   },
   {
    "duration": 6,
    "start_time": "2024-03-18T08:11:06.993Z"
   },
   {
    "duration": 13,
    "start_time": "2024-03-18T08:11:07.000Z"
   },
   {
    "duration": 12,
    "start_time": "2024-03-18T08:11:07.015Z"
   },
   {
    "duration": 40,
    "start_time": "2024-03-18T08:11:07.028Z"
   },
   {
    "duration": 19,
    "start_time": "2024-03-18T08:11:07.071Z"
   },
   {
    "duration": 3,
    "start_time": "2024-03-18T08:11:07.092Z"
   },
   {
    "duration": 5,
    "start_time": "2024-03-18T08:11:07.096Z"
   },
   {
    "duration": 3524,
    "start_time": "2024-03-18T08:11:07.102Z"
   },
   {
    "duration": 13,
    "start_time": "2024-03-18T08:11:10.627Z"
   },
   {
    "duration": 6,
    "start_time": "2024-03-18T08:11:10.641Z"
   },
   {
    "duration": 66,
    "start_time": "2024-03-18T08:11:10.648Z"
   },
   {
    "duration": 32,
    "start_time": "2024-03-18T08:11:10.715Z"
   },
   {
    "duration": 422,
    "start_time": "2024-03-18T08:11:10.748Z"
   },
   {
    "duration": 29,
    "start_time": "2024-03-18T08:11:11.171Z"
   },
   {
    "duration": 401,
    "start_time": "2024-03-18T08:11:11.201Z"
   },
   {
    "duration": 4,
    "start_time": "2024-03-18T08:11:11.603Z"
   },
   {
    "duration": 13,
    "start_time": "2024-03-18T08:11:11.608Z"
   },
   {
    "duration": 17,
    "start_time": "2024-03-18T08:11:11.623Z"
   },
   {
    "duration": 4,
    "start_time": "2024-03-18T08:11:11.642Z"
   },
   {
    "duration": 5,
    "start_time": "2024-03-18T08:11:11.648Z"
   },
   {
    "duration": 15,
    "start_time": "2024-03-18T08:11:11.655Z"
   },
   {
    "duration": 100938,
    "start_time": "2024-03-18T08:11:11.672Z"
   },
   {
    "duration": 1068,
    "start_time": "2024-03-18T08:12:52.611Z"
   },
   {
    "duration": 1716,
    "start_time": "2024-03-18T08:12:53.768Z"
   },
   {
    "duration": 7,
    "start_time": "2024-03-18T08:12:55.486Z"
   },
   {
    "duration": 485,
    "start_time": "2024-03-18T08:12:55.495Z"
   },
   {
    "duration": 450,
    "start_time": "2024-03-18T08:13:08.800Z"
   },
   {
    "duration": 30,
    "start_time": "2024-03-18T08:13:42.801Z"
   },
   {
    "duration": 508,
    "start_time": "2024-03-18T08:13:48.379Z"
   },
   {
    "duration": 3,
    "start_time": "2024-03-18T08:13:58.353Z"
   },
   {
    "duration": 3,
    "start_time": "2024-03-18T08:13:58.940Z"
   },
   {
    "duration": 7,
    "start_time": "2024-03-18T08:14:17.765Z"
   },
   {
    "duration": 6,
    "start_time": "2024-03-18T08:14:35.958Z"
   },
   {
    "duration": 2,
    "start_time": "2024-03-18T08:14:38.692Z"
   },
   {
    "duration": 7,
    "start_time": "2024-03-18T08:14:52.761Z"
   },
   {
    "duration": 2,
    "start_time": "2024-03-18T08:14:55.397Z"
   },
   {
    "duration": 8,
    "start_time": "2024-03-18T08:14:55.890Z"
   },
   {
    "duration": 90747,
    "start_time": "2024-03-18T08:15:07.951Z"
   },
   {
    "duration": 772,
    "start_time": "2024-03-18T08:17:08.001Z"
   },
   {
    "duration": 1465,
    "start_time": "2024-03-18T08:17:12.952Z"
   },
   {
    "duration": 7,
    "start_time": "2024-03-18T08:17:16.472Z"
   },
   {
    "duration": 139,
    "start_time": "2024-03-18T08:17:42.155Z"
   },
   {
    "duration": 1618,
    "start_time": "2024-03-18T08:24:43.734Z"
   },
   {
    "duration": 1527,
    "start_time": "2024-03-18T08:25:00.631Z"
   },
   {
    "duration": 835,
    "start_time": "2024-03-18T08:25:02.159Z"
   },
   {
    "duration": 3,
    "start_time": "2024-03-18T08:25:02.995Z"
   },
   {
    "duration": 402,
    "start_time": "2024-03-18T08:25:03.000Z"
   },
   {
    "duration": 150,
    "start_time": "2024-03-18T08:25:03.404Z"
   },
   {
    "duration": 366,
    "start_time": "2024-03-18T08:25:03.556Z"
   },
   {
    "duration": 14,
    "start_time": "2024-03-18T08:25:03.923Z"
   },
   {
    "duration": 4,
    "start_time": "2024-03-18T08:25:03.938Z"
   },
   {
    "duration": 29,
    "start_time": "2024-03-18T08:25:03.943Z"
   },
   {
    "duration": 7,
    "start_time": "2024-03-18T08:25:03.974Z"
   },
   {
    "duration": 13,
    "start_time": "2024-03-18T08:25:03.982Z"
   },
   {
    "duration": 13,
    "start_time": "2024-03-18T08:25:03.996Z"
   },
   {
    "duration": 9,
    "start_time": "2024-03-18T08:25:04.010Z"
   },
   {
    "duration": 8,
    "start_time": "2024-03-18T08:25:04.022Z"
   },
   {
    "duration": 3,
    "start_time": "2024-03-18T08:25:04.065Z"
   },
   {
    "duration": 3,
    "start_time": "2024-03-18T08:25:04.070Z"
   },
   {
    "duration": 3611,
    "start_time": "2024-03-18T08:25:04.075Z"
   },
   {
    "duration": 16,
    "start_time": "2024-03-18T08:25:07.687Z"
   },
   {
    "duration": 7,
    "start_time": "2024-03-18T08:25:07.704Z"
   },
   {
    "duration": 85,
    "start_time": "2024-03-18T08:25:07.713Z"
   },
   {
    "duration": 8,
    "start_time": "2024-03-18T08:25:07.799Z"
   },
   {
    "duration": 56,
    "start_time": "2024-03-18T08:25:07.809Z"
   },
   {
    "duration": 394,
    "start_time": "2024-03-18T08:25:07.866Z"
   },
   {
    "duration": 32,
    "start_time": "2024-03-18T08:25:08.261Z"
   },
   {
    "duration": 437,
    "start_time": "2024-03-18T08:25:08.294Z"
   },
   {
    "duration": 4,
    "start_time": "2024-03-18T08:25:08.732Z"
   },
   {
    "duration": 4,
    "start_time": "2024-03-18T08:25:08.737Z"
   },
   {
    "duration": 25,
    "start_time": "2024-03-18T08:25:08.743Z"
   },
   {
    "duration": 4,
    "start_time": "2024-03-18T08:25:08.770Z"
   },
   {
    "duration": 4,
    "start_time": "2024-03-18T08:25:08.776Z"
   },
   {
    "duration": 13,
    "start_time": "2024-03-18T08:25:08.782Z"
   },
   {
    "duration": 92388,
    "start_time": "2024-03-18T08:25:08.797Z"
   },
   {
    "duration": 1291,
    "start_time": "2024-03-18T08:26:41.186Z"
   },
   {
    "duration": 1680,
    "start_time": "2024-03-18T08:26:42.480Z"
   },
   {
    "duration": 8,
    "start_time": "2024-03-18T08:26:44.162Z"
   },
   {
    "duration": 6,
    "start_time": "2024-03-18T08:26:44.173Z"
   },
   {
    "duration": 7,
    "start_time": "2024-03-18T08:28:40.092Z"
   },
   {
    "duration": 52,
    "start_time": "2024-03-18T08:28:42.444Z"
   },
   {
    "duration": 7,
    "start_time": "2024-03-18T08:28:43.160Z"
   },
   {
    "duration": 1419,
    "start_time": "2024-03-18T08:34:17.034Z"
   },
   {
    "duration": 857,
    "start_time": "2024-03-18T08:34:18.455Z"
   },
   {
    "duration": 3,
    "start_time": "2024-03-18T08:34:19.313Z"
   },
   {
    "duration": 348,
    "start_time": "2024-03-18T08:34:19.318Z"
   },
   {
    "duration": 141,
    "start_time": "2024-03-18T08:34:19.668Z"
   },
   {
    "duration": 339,
    "start_time": "2024-03-18T08:34:19.810Z"
   },
   {
    "duration": 19,
    "start_time": "2024-03-18T08:34:20.151Z"
   },
   {
    "duration": 18,
    "start_time": "2024-03-18T08:34:20.172Z"
   },
   {
    "duration": 27,
    "start_time": "2024-03-18T08:34:20.192Z"
   },
   {
    "duration": 6,
    "start_time": "2024-03-18T08:34:20.221Z"
   },
   {
    "duration": 40,
    "start_time": "2024-03-18T08:34:20.229Z"
   },
   {
    "duration": 27,
    "start_time": "2024-03-18T08:34:20.270Z"
   },
   {
    "duration": 10,
    "start_time": "2024-03-18T08:34:20.299Z"
   },
   {
    "duration": 12,
    "start_time": "2024-03-18T08:34:20.311Z"
   },
   {
    "duration": 4,
    "start_time": "2024-03-18T08:34:20.325Z"
   },
   {
    "duration": 12,
    "start_time": "2024-03-18T08:34:20.330Z"
   },
   {
    "duration": 3443,
    "start_time": "2024-03-18T08:34:20.343Z"
   },
   {
    "duration": 13,
    "start_time": "2024-03-18T08:34:23.788Z"
   },
   {
    "duration": 7,
    "start_time": "2024-03-18T08:34:23.802Z"
   },
   {
    "duration": 77,
    "start_time": "2024-03-18T08:34:23.810Z"
   },
   {
    "duration": 390,
    "start_time": "2024-03-18T08:34:23.888Z"
   },
   {
    "duration": 33,
    "start_time": "2024-03-18T08:34:24.280Z"
   },
   {
    "duration": 493,
    "start_time": "2024-03-18T08:34:24.315Z"
   },
   {
    "duration": 3,
    "start_time": "2024-03-18T08:34:24.809Z"
   },
   {
    "duration": 25,
    "start_time": "2024-03-18T08:34:24.814Z"
   },
   {
    "duration": 10,
    "start_time": "2024-03-18T08:34:24.840Z"
   },
   {
    "duration": 5,
    "start_time": "2024-03-18T08:34:24.851Z"
   },
   {
    "duration": 5,
    "start_time": "2024-03-18T08:34:24.859Z"
   },
   {
    "duration": 13,
    "start_time": "2024-03-18T08:34:24.865Z"
   },
   {
    "duration": 92239,
    "start_time": "2024-03-18T08:34:24.879Z"
   },
   {
    "duration": 745,
    "start_time": "2024-03-18T08:35:57.120Z"
   },
   {
    "duration": 1622,
    "start_time": "2024-03-18T08:35:57.868Z"
   },
   {
    "duration": 8,
    "start_time": "2024-03-18T08:35:59.492Z"
   },
   {
    "duration": 1391,
    "start_time": "2024-03-18T08:57:35.381Z"
   },
   {
    "duration": 810,
    "start_time": "2024-03-18T08:57:36.773Z"
   },
   {
    "duration": 3,
    "start_time": "2024-03-18T08:57:37.584Z"
   },
   {
    "duration": 348,
    "start_time": "2024-03-18T08:57:37.589Z"
   },
   {
    "duration": 146,
    "start_time": "2024-03-18T08:57:37.939Z"
   },
   {
    "duration": 349,
    "start_time": "2024-03-18T08:57:38.087Z"
   },
   {
    "duration": 12,
    "start_time": "2024-03-18T08:57:38.437Z"
   },
   {
    "duration": 14,
    "start_time": "2024-03-18T08:57:38.451Z"
   },
   {
    "duration": 10,
    "start_time": "2024-03-18T08:57:38.466Z"
   },
   {
    "duration": 10,
    "start_time": "2024-03-18T08:57:38.479Z"
   },
   {
    "duration": 13,
    "start_time": "2024-03-18T08:57:38.491Z"
   },
   {
    "duration": 14,
    "start_time": "2024-03-18T08:57:38.505Z"
   },
   {
    "duration": 10,
    "start_time": "2024-03-18T08:57:38.521Z"
   },
   {
    "duration": 11,
    "start_time": "2024-03-18T08:57:38.564Z"
   },
   {
    "duration": 3,
    "start_time": "2024-03-18T08:57:38.576Z"
   },
   {
    "duration": 3,
    "start_time": "2024-03-18T08:57:38.581Z"
   },
   {
    "duration": 3570,
    "start_time": "2024-03-18T08:57:38.585Z"
   },
   {
    "duration": 16,
    "start_time": "2024-03-18T08:57:42.156Z"
   },
   {
    "duration": 76,
    "start_time": "2024-03-18T08:57:42.174Z"
   },
   {
    "duration": 0,
    "start_time": "2024-03-18T08:57:42.252Z"
   },
   {
    "duration": 0,
    "start_time": "2024-03-18T08:57:42.253Z"
   },
   {
    "duration": 0,
    "start_time": "2024-03-18T08:57:42.254Z"
   },
   {
    "duration": 0,
    "start_time": "2024-03-18T08:57:42.255Z"
   },
   {
    "duration": 0,
    "start_time": "2024-03-18T08:57:42.256Z"
   },
   {
    "duration": 0,
    "start_time": "2024-03-18T08:57:42.258Z"
   },
   {
    "duration": 0,
    "start_time": "2024-03-18T08:57:42.259Z"
   },
   {
    "duration": 0,
    "start_time": "2024-03-18T08:57:42.260Z"
   },
   {
    "duration": 0,
    "start_time": "2024-03-18T08:57:42.261Z"
   },
   {
    "duration": 0,
    "start_time": "2024-03-18T08:57:42.262Z"
   },
   {
    "duration": 0,
    "start_time": "2024-03-18T08:57:42.263Z"
   },
   {
    "duration": 0,
    "start_time": "2024-03-18T08:57:42.264Z"
   },
   {
    "duration": 0,
    "start_time": "2024-03-18T08:57:42.265Z"
   },
   {
    "duration": 0,
    "start_time": "2024-03-18T08:57:42.266Z"
   },
   {
    "duration": 0,
    "start_time": "2024-03-18T08:57:42.267Z"
   },
   {
    "duration": 4,
    "start_time": "2024-03-18T08:58:18.826Z"
   },
   {
    "duration": 1173,
    "start_time": "2024-03-18T08:58:20.365Z"
   },
   {
    "duration": 3,
    "start_time": "2024-03-18T08:58:33.231Z"
   },
   {
    "duration": 4836,
    "start_time": "2024-03-18T08:58:34.278Z"
   },
   {
    "duration": 191,
    "start_time": "2024-03-18T08:58:45.521Z"
   },
   {
    "duration": 4,
    "start_time": "2024-03-18T09:00:31.331Z"
   },
   {
    "duration": 6,
    "start_time": "2024-03-18T09:00:32.276Z"
   },
   {
    "duration": 199,
    "start_time": "2024-03-18T09:00:43.275Z"
   },
   {
    "duration": 4,
    "start_time": "2024-03-18T09:01:05.160Z"
   },
   {
    "duration": 6,
    "start_time": "2024-03-18T09:01:06.641Z"
   },
   {
    "duration": 186,
    "start_time": "2024-03-18T09:01:12.387Z"
   },
   {
    "duration": 4,
    "start_time": "2024-03-18T09:01:31.512Z"
   },
   {
    "duration": 12,
    "start_time": "2024-03-18T09:01:32.390Z"
   },
   {
    "duration": 189,
    "start_time": "2024-03-18T09:01:35.099Z"
   },
   {
    "duration": 1348,
    "start_time": "2024-03-18T09:04:02.719Z"
   },
   {
    "duration": 819,
    "start_time": "2024-03-18T09:04:04.069Z"
   },
   {
    "duration": 3,
    "start_time": "2024-03-18T09:04:04.890Z"
   },
   {
    "duration": 350,
    "start_time": "2024-03-18T09:04:04.896Z"
   },
   {
    "duration": 151,
    "start_time": "2024-03-18T09:04:05.248Z"
   },
   {
    "duration": 356,
    "start_time": "2024-03-18T09:04:05.401Z"
   },
   {
    "duration": 15,
    "start_time": "2024-03-18T09:04:05.759Z"
   },
   {
    "duration": 4,
    "start_time": "2024-03-18T09:04:05.776Z"
   },
   {
    "duration": 17,
    "start_time": "2024-03-18T09:04:05.782Z"
   },
   {
    "duration": 6,
    "start_time": "2024-03-18T09:04:05.801Z"
   },
   {
    "duration": 15,
    "start_time": "2024-03-18T09:04:05.808Z"
   },
   {
    "duration": 44,
    "start_time": "2024-03-18T09:04:05.824Z"
   },
   {
    "duration": 10,
    "start_time": "2024-03-18T09:04:05.870Z"
   },
   {
    "duration": 9,
    "start_time": "2024-03-18T09:04:05.882Z"
   },
   {
    "duration": 7,
    "start_time": "2024-03-18T09:04:05.893Z"
   },
   {
    "duration": 18,
    "start_time": "2024-03-18T09:04:05.901Z"
   },
   {
    "duration": 3544,
    "start_time": "2024-03-18T09:04:05.921Z"
   },
   {
    "duration": 13,
    "start_time": "2024-03-18T09:04:09.467Z"
   },
   {
    "duration": 7,
    "start_time": "2024-03-18T09:04:09.481Z"
   },
   {
    "duration": 55,
    "start_time": "2024-03-18T09:04:09.489Z"
   },
   {
    "duration": 445,
    "start_time": "2024-03-18T09:04:09.564Z"
   },
   {
    "duration": 34,
    "start_time": "2024-03-18T09:04:10.010Z"
   },
   {
    "duration": 412,
    "start_time": "2024-03-18T09:04:10.046Z"
   },
   {
    "duration": 6,
    "start_time": "2024-03-18T09:04:10.459Z"
   },
   {
    "duration": 5,
    "start_time": "2024-03-18T09:04:10.466Z"
   },
   {
    "duration": 10,
    "start_time": "2024-03-18T09:04:10.472Z"
   },
   {
    "duration": 4,
    "start_time": "2024-03-18T09:04:10.484Z"
   },
   {
    "duration": 3,
    "start_time": "2024-03-18T09:04:10.490Z"
   },
   {
    "duration": 7,
    "start_time": "2024-03-18T09:04:10.494Z"
   },
   {
    "duration": 91551,
    "start_time": "2024-03-18T09:04:10.502Z"
   },
   {
    "duration": 915,
    "start_time": "2024-03-18T09:05:42.055Z"
   },
   {
    "duration": 1696,
    "start_time": "2024-03-18T09:05:42.973Z"
   },
   {
    "duration": 7,
    "start_time": "2024-03-18T09:05:44.670Z"
   },
   {
    "duration": 203,
    "start_time": "2024-03-18T09:09:54.871Z"
   },
   {
    "duration": 7,
    "start_time": "2024-03-18T09:10:25.341Z"
   },
   {
    "duration": 1400,
    "start_time": "2024-03-18T09:10:40.275Z"
   },
   {
    "duration": 805,
    "start_time": "2024-03-18T09:10:41.676Z"
   },
   {
    "duration": 2,
    "start_time": "2024-03-18T09:10:42.483Z"
   },
   {
    "duration": 346,
    "start_time": "2024-03-18T09:10:42.486Z"
   },
   {
    "duration": 152,
    "start_time": "2024-03-18T09:10:42.834Z"
   },
   {
    "duration": 349,
    "start_time": "2024-03-18T09:10:42.988Z"
   },
   {
    "duration": 13,
    "start_time": "2024-03-18T09:10:43.338Z"
   },
   {
    "duration": 15,
    "start_time": "2024-03-18T09:10:43.352Z"
   },
   {
    "duration": 12,
    "start_time": "2024-03-18T09:10:43.368Z"
   },
   {
    "duration": 5,
    "start_time": "2024-03-18T09:10:43.381Z"
   },
   {
    "duration": 12,
    "start_time": "2024-03-18T09:10:43.388Z"
   },
   {
    "duration": 14,
    "start_time": "2024-03-18T09:10:43.401Z"
   },
   {
    "duration": 9,
    "start_time": "2024-03-18T09:10:43.416Z"
   },
   {
    "duration": 37,
    "start_time": "2024-03-18T09:10:43.428Z"
   },
   {
    "duration": 2,
    "start_time": "2024-03-18T09:10:43.467Z"
   },
   {
    "duration": 5,
    "start_time": "2024-03-18T09:10:43.470Z"
   },
   {
    "duration": 3419,
    "start_time": "2024-03-18T09:10:43.476Z"
   },
   {
    "duration": 13,
    "start_time": "2024-03-18T09:10:46.897Z"
   },
   {
    "duration": 5,
    "start_time": "2024-03-18T09:10:46.912Z"
   },
   {
    "duration": 74,
    "start_time": "2024-03-18T09:10:46.918Z"
   },
   {
    "duration": 364,
    "start_time": "2024-03-18T09:10:46.994Z"
   },
   {
    "duration": 36,
    "start_time": "2024-03-18T09:10:47.360Z"
   },
   {
    "duration": 446,
    "start_time": "2024-03-18T09:10:47.397Z"
   },
   {
    "duration": 3,
    "start_time": "2024-03-18T09:10:47.845Z"
   },
   {
    "duration": 5,
    "start_time": "2024-03-18T09:10:47.849Z"
   },
   {
    "duration": 14,
    "start_time": "2024-03-18T09:10:47.855Z"
   },
   {
    "duration": 4,
    "start_time": "2024-03-18T09:10:47.870Z"
   },
   {
    "duration": 4,
    "start_time": "2024-03-18T09:10:47.875Z"
   },
   {
    "duration": 12,
    "start_time": "2024-03-18T09:10:47.880Z"
   },
   {
    "duration": 91380,
    "start_time": "2024-03-18T09:10:47.894Z"
   },
   {
    "duration": 796,
    "start_time": "2024-03-18T09:12:19.276Z"
   },
   {
    "duration": 1679,
    "start_time": "2024-03-18T09:12:20.075Z"
   },
   {
    "duration": 14,
    "start_time": "2024-03-18T09:12:21.756Z"
   },
   {
    "duration": 1323,
    "start_time": "2024-03-18T09:17:57.110Z"
   },
   {
    "duration": 853,
    "start_time": "2024-03-18T09:17:58.435Z"
   },
   {
    "duration": 2,
    "start_time": "2024-03-18T09:17:59.290Z"
   },
   {
    "duration": 361,
    "start_time": "2024-03-18T09:17:59.294Z"
   },
   {
    "duration": 169,
    "start_time": "2024-03-18T09:17:59.657Z"
   },
   {
    "duration": 379,
    "start_time": "2024-03-18T09:17:59.828Z"
   },
   {
    "duration": 13,
    "start_time": "2024-03-18T09:18:00.208Z"
   },
   {
    "duration": 30,
    "start_time": "2024-03-18T09:18:00.223Z"
   },
   {
    "duration": 70,
    "start_time": "2024-03-18T09:18:00.255Z"
   },
   {
    "duration": 63,
    "start_time": "2024-03-18T09:18:00.327Z"
   },
   {
    "duration": 115,
    "start_time": "2024-03-18T09:18:00.391Z"
   },
   {
    "duration": 132,
    "start_time": "2024-03-18T09:18:00.507Z"
   },
   {
    "duration": 53,
    "start_time": "2024-03-18T09:18:00.641Z"
   },
   {
    "duration": 33,
    "start_time": "2024-03-18T09:18:00.697Z"
   },
   {
    "duration": 56,
    "start_time": "2024-03-18T09:18:00.731Z"
   },
   {
    "duration": 46,
    "start_time": "2024-03-18T09:18:00.788Z"
   },
   {
    "duration": 3730,
    "start_time": "2024-03-18T09:18:00.836Z"
   },
   {
    "duration": 14,
    "start_time": "2024-03-18T09:18:04.568Z"
   },
   {
    "duration": 6,
    "start_time": "2024-03-18T09:18:04.583Z"
   },
   {
    "duration": 75,
    "start_time": "2024-03-18T09:18:04.590Z"
   },
   {
    "duration": 408,
    "start_time": "2024-03-18T09:18:04.667Z"
   },
   {
    "duration": 40,
    "start_time": "2024-03-18T09:18:05.077Z"
   },
   {
    "duration": 469,
    "start_time": "2024-03-18T09:18:05.119Z"
   },
   {
    "duration": 3,
    "start_time": "2024-03-18T09:18:05.590Z"
   },
   {
    "duration": 7,
    "start_time": "2024-03-18T09:18:05.594Z"
   },
   {
    "duration": 9,
    "start_time": "2024-03-18T09:18:05.603Z"
   },
   {
    "duration": 4,
    "start_time": "2024-03-18T09:18:05.613Z"
   },
   {
    "duration": 8,
    "start_time": "2024-03-18T09:18:05.619Z"
   },
   {
    "duration": 8,
    "start_time": "2024-03-18T09:18:05.628Z"
   },
   {
    "duration": 91503,
    "start_time": "2024-03-18T09:18:05.638Z"
   },
   {
    "duration": 827,
    "start_time": "2024-03-18T09:19:37.143Z"
   },
   {
    "duration": 1718,
    "start_time": "2024-03-18T09:19:37.972Z"
   },
   {
    "duration": 7,
    "start_time": "2024-03-18T09:19:39.692Z"
   }
  ],
  "kernelspec": {
   "display_name": "Python 3 (ipykernel)",
   "language": "python",
   "name": "python3"
  },
  "language_info": {
   "codemirror_mode": {
    "name": "ipython",
    "version": 3
   },
   "file_extension": ".py",
   "mimetype": "text/x-python",
   "name": "python",
   "nbconvert_exporter": "python",
   "pygments_lexer": "ipython3",
   "version": "3.11.5"
  },
  "toc": {
   "base_numbering": 1,
   "nav_menu": {},
   "number_sections": true,
   "sideBar": true,
   "skip_h1_title": true,
   "title_cell": "Содержание",
   "title_sidebar": "Contents",
   "toc_cell": true,
   "toc_position": {
    "height": "calc(100% - 180px)",
    "left": "10px",
    "top": "150px",
    "width": "165px"
   },
   "toc_section_display": true,
   "toc_window_display": true
  }
 },
 "nbformat": 4,
 "nbformat_minor": 2
}
