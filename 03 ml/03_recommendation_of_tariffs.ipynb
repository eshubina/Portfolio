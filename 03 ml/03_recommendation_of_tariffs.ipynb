{
 "cells": [
  {
   "cell_type": "markdown",
   "metadata": {},
   "source": [
    "# Рекомендация тарифов"
   ]
  },
  {
   "cell_type": "markdown",
   "metadata": {},
   "source": [
    "Оператор мобильной связи «Мегалайн» выяснил: многие клиенты пользуются архивными тарифами. Они хотят построить систему, способную проанализировать поведение клиентов и предложить пользователям новый тариф: «Смарт» или «Ультра».\n",
    "\n",
    "В вашем распоряжении данные о поведении клиентов, которые уже перешли на эти тарифы. Нужно построить модель для задачи классификации, которая выберет подходящий тариф. Предобработка данных не понадобится — вы её уже сделали.\n",
    "Постройте модель с максимально большим значением accuracy. Чтобы сдать проект успешно, нужно довести долю правильных ответов по крайней мере до 0.75. Проверьте accuracy на тестовой выборке самостоятельно.\n"
   ]
  },
  {
   "cell_type": "markdown",
   "metadata": {},
   "source": [
    "**Описание данных**\n",
    "- сalls — количество звонков,\n",
    "- minutes — суммарная длительность звонков в минутах,\n",
    "- messages — количество sms-сообщений,\n",
    "- mb_used — израсходованный интернет-трафик в Мб,\n",
    "- is_ultra — каким тарифом пользовался в течение месяца («Ультра» — 1, «Смарт» — 0)."
   ]
  },
  {
   "cell_type": "markdown",
   "metadata": {},
   "source": [
    "## Откройте и изучите файл"
   ]
  },
  {
   "cell_type": "code",
   "execution_count": 1,
   "metadata": {},
   "outputs": [],
   "source": [
    "import pandas as pd\n",
    "from sklearn.model_selection import train_test_split\n",
    "from sklearn.metrics import accuracy_score\n",
    "\n",
    "from sklearn.tree import DecisionTreeClassifier\n",
    "from sklearn.ensemble import RandomForestClassifier\n",
    "\n",
    "import matplotlib.pyplot as plt\n",
    "from sklearn.tree import plot_tree\n",
    "from tqdm import tqdm\n",
    "from sklearn.dummy import DummyClassifier"
   ]
  },
  {
   "cell_type": "code",
   "execution_count": 2,
   "metadata": {},
   "outputs": [],
   "source": [
    "data = pd.read_csv('/datasets/users_behavior.csv') #прочитаем csv-файл"
   ]
  },
  {
   "cell_type": "code",
   "execution_count": 3,
   "metadata": {},
   "outputs": [
    {
     "data": {
      "text/plain": [
       "(3214, 5)"
      ]
     },
     "execution_count": 3,
     "metadata": {},
     "output_type": "execute_result"
    }
   ],
   "source": [
    "data.shape #посмотрим количество строк и стоблцо"
   ]
  },
  {
   "cell_type": "code",
   "execution_count": 4,
   "metadata": {},
   "outputs": [
    {
     "data": {
      "text/html": [
       "<div>\n",
       "<style scoped>\n",
       "    .dataframe tbody tr th:only-of-type {\n",
       "        vertical-align: middle;\n",
       "    }\n",
       "\n",
       "    .dataframe tbody tr th {\n",
       "        vertical-align: top;\n",
       "    }\n",
       "\n",
       "    .dataframe thead th {\n",
       "        text-align: right;\n",
       "    }\n",
       "</style>\n",
       "<table border=\"1\" class=\"dataframe\">\n",
       "  <thead>\n",
       "    <tr style=\"text-align: right;\">\n",
       "      <th></th>\n",
       "      <th>calls</th>\n",
       "      <th>minutes</th>\n",
       "      <th>messages</th>\n",
       "      <th>mb_used</th>\n",
       "      <th>is_ultra</th>\n",
       "    </tr>\n",
       "  </thead>\n",
       "  <tbody>\n",
       "    <tr>\n",
       "      <th>0</th>\n",
       "      <td>40.0</td>\n",
       "      <td>311.90</td>\n",
       "      <td>83.0</td>\n",
       "      <td>19915.42</td>\n",
       "      <td>0</td>\n",
       "    </tr>\n",
       "    <tr>\n",
       "      <th>1</th>\n",
       "      <td>85.0</td>\n",
       "      <td>516.75</td>\n",
       "      <td>56.0</td>\n",
       "      <td>22696.96</td>\n",
       "      <td>0</td>\n",
       "    </tr>\n",
       "    <tr>\n",
       "      <th>2</th>\n",
       "      <td>77.0</td>\n",
       "      <td>467.66</td>\n",
       "      <td>86.0</td>\n",
       "      <td>21060.45</td>\n",
       "      <td>0</td>\n",
       "    </tr>\n",
       "    <tr>\n",
       "      <th>3</th>\n",
       "      <td>106.0</td>\n",
       "      <td>745.53</td>\n",
       "      <td>81.0</td>\n",
       "      <td>8437.39</td>\n",
       "      <td>1</td>\n",
       "    </tr>\n",
       "    <tr>\n",
       "      <th>4</th>\n",
       "      <td>66.0</td>\n",
       "      <td>418.74</td>\n",
       "      <td>1.0</td>\n",
       "      <td>14502.75</td>\n",
       "      <td>0</td>\n",
       "    </tr>\n",
       "  </tbody>\n",
       "</table>\n",
       "</div>"
      ],
      "text/plain": [
       "   calls  minutes  messages   mb_used  is_ultra\n",
       "0   40.0   311.90      83.0  19915.42         0\n",
       "1   85.0   516.75      56.0  22696.96         0\n",
       "2   77.0   467.66      86.0  21060.45         0\n",
       "3  106.0   745.53      81.0   8437.39         1\n",
       "4   66.0   418.74       1.0  14502.75         0"
      ]
     },
     "execution_count": 4,
     "metadata": {},
     "output_type": "execute_result"
    }
   ],
   "source": [
    "data.head() #посмотрим первые 5 строк"
   ]
  },
  {
   "cell_type": "code",
   "execution_count": 5,
   "metadata": {},
   "outputs": [
    {
     "name": "stdout",
     "output_type": "stream",
     "text": [
      "<class 'pandas.core.frame.DataFrame'>\n",
      "RangeIndex: 3214 entries, 0 to 3213\n",
      "Data columns (total 5 columns):\n",
      " #   Column    Non-Null Count  Dtype  \n",
      "---  ------    --------------  -----  \n",
      " 0   calls     3214 non-null   float64\n",
      " 1   minutes   3214 non-null   float64\n",
      " 2   messages  3214 non-null   float64\n",
      " 3   mb_used   3214 non-null   float64\n",
      " 4   is_ultra  3214 non-null   int64  \n",
      "dtypes: float64(4), int64(1)\n",
      "memory usage: 125.7 KB\n"
     ]
    }
   ],
   "source": [
    "data.info() #посмотрим информацию о датасете"
   ]
  },
  {
   "cell_type": "code",
   "execution_count": 6,
   "metadata": {},
   "outputs": [
    {
     "data": {
      "text/html": [
       "<div>\n",
       "<style scoped>\n",
       "    .dataframe tbody tr th:only-of-type {\n",
       "        vertical-align: middle;\n",
       "    }\n",
       "\n",
       "    .dataframe tbody tr th {\n",
       "        vertical-align: top;\n",
       "    }\n",
       "\n",
       "    .dataframe thead th {\n",
       "        text-align: right;\n",
       "    }\n",
       "</style>\n",
       "<table border=\"1\" class=\"dataframe\">\n",
       "  <thead>\n",
       "    <tr style=\"text-align: right;\">\n",
       "      <th></th>\n",
       "      <th>calls</th>\n",
       "      <th>minutes</th>\n",
       "      <th>messages</th>\n",
       "      <th>mb_used</th>\n",
       "      <th>is_ultra</th>\n",
       "    </tr>\n",
       "  </thead>\n",
       "  <tbody>\n",
       "    <tr>\n",
       "      <th>count</th>\n",
       "      <td>3214.000000</td>\n",
       "      <td>3214.000000</td>\n",
       "      <td>3214.000000</td>\n",
       "      <td>3214.000000</td>\n",
       "      <td>3214.000000</td>\n",
       "    </tr>\n",
       "    <tr>\n",
       "      <th>mean</th>\n",
       "      <td>63.038892</td>\n",
       "      <td>438.208787</td>\n",
       "      <td>38.281269</td>\n",
       "      <td>17207.673836</td>\n",
       "      <td>0.306472</td>\n",
       "    </tr>\n",
       "    <tr>\n",
       "      <th>std</th>\n",
       "      <td>33.236368</td>\n",
       "      <td>234.569872</td>\n",
       "      <td>36.148326</td>\n",
       "      <td>7570.968246</td>\n",
       "      <td>0.461100</td>\n",
       "    </tr>\n",
       "    <tr>\n",
       "      <th>min</th>\n",
       "      <td>0.000000</td>\n",
       "      <td>0.000000</td>\n",
       "      <td>0.000000</td>\n",
       "      <td>0.000000</td>\n",
       "      <td>0.000000</td>\n",
       "    </tr>\n",
       "    <tr>\n",
       "      <th>25%</th>\n",
       "      <td>40.000000</td>\n",
       "      <td>274.575000</td>\n",
       "      <td>9.000000</td>\n",
       "      <td>12491.902500</td>\n",
       "      <td>0.000000</td>\n",
       "    </tr>\n",
       "    <tr>\n",
       "      <th>50%</th>\n",
       "      <td>62.000000</td>\n",
       "      <td>430.600000</td>\n",
       "      <td>30.000000</td>\n",
       "      <td>16943.235000</td>\n",
       "      <td>0.000000</td>\n",
       "    </tr>\n",
       "    <tr>\n",
       "      <th>75%</th>\n",
       "      <td>82.000000</td>\n",
       "      <td>571.927500</td>\n",
       "      <td>57.000000</td>\n",
       "      <td>21424.700000</td>\n",
       "      <td>1.000000</td>\n",
       "    </tr>\n",
       "    <tr>\n",
       "      <th>max</th>\n",
       "      <td>244.000000</td>\n",
       "      <td>1632.060000</td>\n",
       "      <td>224.000000</td>\n",
       "      <td>49745.730000</td>\n",
       "      <td>1.000000</td>\n",
       "    </tr>\n",
       "  </tbody>\n",
       "</table>\n",
       "</div>"
      ],
      "text/plain": [
       "             calls      minutes     messages       mb_used     is_ultra\n",
       "count  3214.000000  3214.000000  3214.000000   3214.000000  3214.000000\n",
       "mean     63.038892   438.208787    38.281269  17207.673836     0.306472\n",
       "std      33.236368   234.569872    36.148326   7570.968246     0.461100\n",
       "min       0.000000     0.000000     0.000000      0.000000     0.000000\n",
       "25%      40.000000   274.575000     9.000000  12491.902500     0.000000\n",
       "50%      62.000000   430.600000    30.000000  16943.235000     0.000000\n",
       "75%      82.000000   571.927500    57.000000  21424.700000     1.000000\n",
       "max     244.000000  1632.060000   224.000000  49745.730000     1.000000"
      ]
     },
     "execution_count": 6,
     "metadata": {},
     "output_type": "execute_result"
    }
   ],
   "source": [
    "data.describe()"
   ]
  },
  {
   "cell_type": "markdown",
   "metadata": {},
   "source": [
    "Пропущенные значения отсутствуют, тип данных менять не требуется."
   ]
  },
  {
   "cell_type": "markdown",
   "metadata": {},
   "source": [
    "## Разбейте данные на выборки"
   ]
  },
  {
   "cell_type": "markdown",
   "metadata": {},
   "source": [
    "Разобъем данные на 3 части: обучающую, валидационную и тестовую (60%, 20% и 20%)."
   ]
  },
  {
   "cell_type": "code",
   "execution_count": 7,
   "metadata": {},
   "outputs": [],
   "source": [
    "features = data.drop(['is_ultra'], axis=1)\n",
    "target = data['is_ultra']"
   ]
  },
  {
   "cell_type": "code",
   "execution_count": 8,
   "metadata": {},
   "outputs": [],
   "source": [
    "features_train, features_test, target_train, target_test = \\\n",
    "train_test_split(features, target, test_size = 0.4, random_state=12345, stratify = target) #тестовая выборка"
   ]
  },
  {
   "cell_type": "code",
   "execution_count": 9,
   "metadata": {},
   "outputs": [],
   "source": [
    "features_test, features_valid, target_test, target_valid = \\\n",
    "train_test_split(features_test, target_test, test_size = 0.5, random_state=12345, stratify = target_test) #валидационная выборка"
   ]
  },
  {
   "cell_type": "markdown",
   "metadata": {},
   "source": [
    "Посмотрим размеры выборок"
   ]
  },
  {
   "cell_type": "code",
   "execution_count": 10,
   "metadata": {},
   "outputs": [
    {
     "data": {
      "text/plain": [
       "((1928, 4), (1928,))"
      ]
     },
     "execution_count": 10,
     "metadata": {},
     "output_type": "execute_result"
    }
   ],
   "source": [
    "features_train.shape, target_train.shape"
   ]
  },
  {
   "cell_type": "code",
   "execution_count": 11,
   "metadata": {},
   "outputs": [
    {
     "data": {
      "text/plain": [
       "((643, 4), (643,))"
      ]
     },
     "execution_count": 11,
     "metadata": {},
     "output_type": "execute_result"
    }
   ],
   "source": [
    "features_test.shape, target_test.shape"
   ]
  },
  {
   "cell_type": "code",
   "execution_count": 12,
   "metadata": {},
   "outputs": [
    {
     "data": {
      "text/plain": [
       "((643, 4), (643,))"
      ]
     },
     "execution_count": 12,
     "metadata": {},
     "output_type": "execute_result"
    }
   ],
   "source": [
    "features_valid.shape, target_valid.shape"
   ]
  },
  {
   "cell_type": "markdown",
   "metadata": {},
   "source": [
    "Поделили данные на 3 части: обучающую, тестовую и валидационную (60%, 20% и 20%).\n",
    "Каждую выборку поделили на признаки и целевые признаки, в нашем случае тариф."
   ]
  },
  {
   "cell_type": "markdown",
   "metadata": {},
   "source": [
    "## Исследуйте модели"
   ]
  },
  {
   "cell_type": "markdown",
   "metadata": {},
   "source": [
    "**Дерево решений**"
   ]
  },
  {
   "cell_type": "code",
   "execution_count": 13,
   "metadata": {},
   "outputs": [
    {
     "name": "stdout",
     "output_type": "stream",
     "text": [
      "Доля правильных ответов модели дерева решений на валидационной выборке: 0.812\n"
     ]
    }
   ],
   "source": [
    "best_model_dtc = None\n",
    "best_result_dtc = 0\n",
    "for depth in range(1, 30):\n",
    "    model = DecisionTreeClassifier(random_state=12345, max_depth=depth)\n",
    "    model.fit(features_train, target_train)\n",
    "    predictions = model.predict(features_valid)\n",
    "    result = accuracy_score(target_valid, predictions)\n",
    "    if result > best_result_dtc:\n",
    "        best_model_dtc = model\n",
    "        best_result_dtc = result\n",
    "print(\"Доля правильных ответов модели дерева решений на валидационной выборке:\", best_result_dtc.round(3))       "
   ]
  },
  {
   "cell_type": "code",
   "execution_count": 14,
   "metadata": {},
   "outputs": [
    {
     "data": {
      "image/png": "[encoded data removed]",
      "text/plain": [
       "<Figure size 1440x720 with 1 Axes>"
      ]
     },
     "metadata": {
      "needs_background": "light"
     },
     "output_type": "display_data"
    }
   ],
   "source": [
    "plt.figure(figsize=(20, 10))\n",
    "plot_tree(best_model_dtc, feature_names=features_train.columns, filled = True, max_depth=2)\n",
    "plt.title('')\n",
    "plt.show() #построим первые ветки"
   ]
  },
  {
   "cell_type": "markdown",
   "metadata": {},
   "source": [
    "**Случайный лес**"
   ]
  },
  {
   "cell_type": "code",
   "execution_count": 15,
   "metadata": {},
   "outputs": [
    {
     "name": "stderr",
     "output_type": "stream",
     "text": [
      "100%|██████████| 55/55 [02:02<00:00,  2.22s/it]"
     ]
    },
    {
     "name": "stdout",
     "output_type": "stream",
     "text": [
      "Доля правильных ответов модели случайный лес на валидационной выборке: 0.821\n"
     ]
    },
    {
     "name": "stderr",
     "output_type": "stream",
     "text": [
      "\n"
     ]
    }
   ],
   "source": [
    "best_model_rfc = None\n",
    "best_result_rfc = 0\n",
    "for n_estimators in tqdm(range(3,58)):\n",
    "    for depth in range(1, 30):\n",
    "        model = RandomForestClassifier(random_state=12345, n_estimators=20, max_depth=depth)\n",
    "        model.fit(features_train, target_train)\n",
    "        result = model.score(features_valid, target_valid)\n",
    "        if result > best_result_rfc:\n",
    "            best_model_rfc = model\n",
    "            best_result_rfc = result\n",
    "print(\"Доля правильных ответов модели случайный лес на валидационной выборке:\", best_result_rfc.round(3))        "
   ]
  },
  {
   "cell_type": "markdown",
   "metadata": {},
   "source": [
    "***Рассмотрели модели дерево решений и случайный лес. <br>\n",
    "Первая показала результат 0,812, вторая показала лучший результат 0,821.***"
   ]
  },
  {
   "cell_type": "markdown",
   "metadata": {},
   "source": [
    "## Проверьте модель на тестовой выборке"
   ]
  },
  {
   "cell_type": "markdown",
   "metadata": {},
   "source": [
    "**Дерево решений**"
   ]
  },
  {
   "cell_type": "code",
   "execution_count": 16,
   "metadata": {},
   "outputs": [
    {
     "name": "stdout",
     "output_type": "stream",
     "text": [
      "Доля правильных ответов модели дерево решений на тестовой выборке: 0.785\n"
     ]
    }
   ],
   "source": [
    "prediction_dtc = best_model_dtc.predict(features_test)\n",
    "accuracy_dtc = accuracy_score(target_test, prediction_dtc).round(3)\n",
    "print(\"Доля правильных ответов модели дерево решений на тестовой выборке:\", accuracy_dtc)"
   ]
  },
  {
   "cell_type": "markdown",
   "metadata": {},
   "source": [
    "**Случайный лес**"
   ]
  },
  {
   "cell_type": "code",
   "execution_count": 17,
   "metadata": {},
   "outputs": [
    {
     "name": "stdout",
     "output_type": "stream",
     "text": [
      "Доля правильных ответов модели случайный лес на тестовой выборке: 0.801\n"
     ]
    }
   ],
   "source": [
    "prediction_rfc = best_model_rfc.predict(features_test)\n",
    "accuracy_rfc = accuracy_score(target_test, prediction_rfc).round(3)\n",
    "print(\"Доля правильных ответов модели случайный лес на тестовой выборке:\", accuracy_rfc)       "
   ]
  },
  {
   "cell_type": "markdown",
   "metadata": {},
   "source": [
    "**На тестовой выборке точность предсказания моделей дерево решений 0,785 и случайный лес 0,801.**"
   ]
  },
  {
   "cell_type": "markdown",
   "metadata": {},
   "source": [
    "----"
   ]
  },
  {
   "cell_type": "markdown",
   "metadata": {},
   "source": [
    "***Обучим модель на объединенных тренировочной и валидационной выборках***"
   ]
  },
  {
   "cell_type": "code",
   "execution_count": 18,
   "metadata": {},
   "outputs": [
    {
     "data": {
      "text/plain": [
       "((2571, 4), (2571,))"
      ]
     },
     "execution_count": 18,
     "metadata": {},
     "output_type": "execute_result"
    }
   ],
   "source": [
    "features_train_valid = pd.concat((features_train, features_valid), axis=0)\n",
    "target_train_valid = pd.concat((target_train, target_valid), axis=0)\n",
    "features_train_valid.shape, target_train_valid.shape #посмотрим размер объединенной выборки"
   ]
  },
  {
   "cell_type": "code",
   "execution_count": 19,
   "metadata": {},
   "outputs": [
    {
     "name": "stdout",
     "output_type": "stream",
     "text": [
      "Доля правильных ответов на объединенной выбоке модели случайный лес на тестовой выборке: 0.83\n"
     ]
    }
   ],
   "source": [
    "best_model_rfc.fit(features_train_valid, target_train_valid)\n",
    "prediction_rfc = best_model_rfc.predict(features_test)\n",
    "accuracy_rfc = accuracy_score(target_test, prediction_rfc).round(3)\n",
    "print(\"Доля правильных ответов на объединенной выбоке модели случайный лес на тестовой выборке:\", accuracy_rfc) "
   ]
  },
  {
   "cell_type": "markdown",
   "metadata": {},
   "source": [
    "## (бонус) Проверьте модели на адекватность"
   ]
  },
  {
   "cell_type": "code",
   "execution_count": 20,
   "metadata": {},
   "outputs": [
    {
     "name": "stdout",
     "output_type": "stream",
     "text": [
      "Адекватность модели 0.694\n"
     ]
    }
   ],
   "source": [
    "dummy_clf = DummyClassifier(strategy = 'most_frequent',random_state = 12345)\n",
    "dummy_clf.fit(features_train, target_train)\n",
    "prediction_dummy_test = dummy_clf.predict(features_test)\n",
    "print('Адекватность модели', accuracy_score(target_test,prediction_dummy_test).round(3))"
   ]
  },
  {
   "cell_type": "markdown",
   "metadata": {},
   "source": [
    "<div class=\"alert-info\" style=\"padding: 20px; border-radius: 10px\"> \n",
    "<b>Вывод</b>\n",
    "    \n",
    "  \n",
    "Предобработка данных была выполнена.\n",
    "    \n",
    "Разбили данные на 3 выборки: обучающую 60%, валидационную и тестовую (по 20% в каждой).\n",
    "Каждую выборку поделили на признаки и целевые признаки, в нашем случае тариф.\n",
    "\n",
    "Рассмотрели модели дерево решений и случайный лес.\n",
    "<br>    \n",
    "Результаты: \n",
    "- валидационная выборка: дерево решений 81%, случайный лес 82%\n",
    "- тестовая выборка: дерево решений 76%, случайный лес 80%    \n",
    "\n",
    "Предсказания модели случайный лес точнее.\n",
    "Объединили обучающую и валидационную выборки, результат тестовой выборки возрос до 83%.  \n",
    "\n",
    "Проверка наивной моедли на адекватность составила 0.694, модель случайный лес адекватна.\n",
    "    \n",
    "Удалось достичь accuracy не менее 0.75. <div>"
   ]
  }
 ],
 "metadata": {
  "ExecuteTimeLog": [
   {
    "duration": 496,
    "start_time": "2024-02-14T13:51:04.471Z"
   },
   {
    "duration": 11,
    "start_time": "2024-02-14T13:52:39.220Z"
   },
   {
    "duration": 2,
    "start_time": "2024-02-14T13:54:40.077Z"
   },
   {
    "duration": 30,
    "start_time": "2024-02-14T13:54:41.317Z"
   },
   {
    "duration": 16,
    "start_time": "2024-02-14T13:54:42.027Z"
   },
   {
    "duration": 10,
    "start_time": "2024-02-14T13:55:17.934Z"
   },
   {
    "duration": 3,
    "start_time": "2024-02-14T13:55:28.318Z"
   },
   {
    "duration": 4,
    "start_time": "2024-02-14T13:55:32.346Z"
   },
   {
    "duration": 10,
    "start_time": "2024-02-14T13:55:44.988Z"
   },
   {
    "duration": 14,
    "start_time": "2024-02-14T13:55:49.459Z"
   },
   {
    "duration": 4,
    "start_time": "2024-02-14T13:55:56.713Z"
   },
   {
    "duration": 10,
    "start_time": "2024-02-14T13:56:04.332Z"
   },
   {
    "duration": 4,
    "start_time": "2024-02-14T13:58:37.685Z"
   },
   {
    "duration": 10,
    "start_time": "2024-02-14T13:59:01.667Z"
   },
   {
    "duration": 3,
    "start_time": "2024-02-14T14:02:49.267Z"
   },
   {
    "duration": 3,
    "start_time": "2024-02-14T14:03:06.899Z"
   },
   {
    "duration": 11,
    "start_time": "2024-02-14T14:10:06.010Z"
   },
   {
    "duration": 30,
    "start_time": "2024-02-14T14:12:24.345Z"
   },
   {
    "duration": 4,
    "start_time": "2024-02-14T14:12:33.223Z"
   },
   {
    "duration": 851,
    "start_time": "2024-02-14T15:30:50.327Z"
   },
   {
    "duration": 2,
    "start_time": "2024-02-14T15:32:35.550Z"
   },
   {
    "duration": 32,
    "start_time": "2024-02-14T15:35:20.191Z"
   },
   {
    "duration": 4,
    "start_time": "2024-02-14T15:35:24.219Z"
   },
   {
    "duration": 11,
    "start_time": "2024-02-14T15:35:29.109Z"
   },
   {
    "duration": 10,
    "start_time": "2024-02-14T15:35:32.515Z"
   },
   {
    "duration": 485,
    "start_time": "2024-02-15T10:38:51.812Z"
   },
   {
    "duration": 111,
    "start_time": "2024-02-15T10:38:52.299Z"
   },
   {
    "duration": 9,
    "start_time": "2024-02-15T10:38:52.412Z"
   },
   {
    "duration": 12,
    "start_time": "2024-02-15T10:38:52.423Z"
   },
   {
    "duration": 15,
    "start_time": "2024-02-15T10:38:52.437Z"
   },
   {
    "duration": 716,
    "start_time": "2024-02-15T10:46:17.521Z"
   },
   {
    "duration": 48,
    "start_time": "2024-02-15T10:52:56.751Z"
   },
   {
    "duration": 117,
    "start_time": "2024-02-15T11:09:14.736Z"
   },
   {
    "duration": 9,
    "start_time": "2024-02-15T11:09:32.222Z"
   },
   {
    "duration": 5,
    "start_time": "2024-02-15T11:09:35.616Z"
   },
   {
    "duration": 5,
    "start_time": "2024-02-15T11:09:36.234Z"
   },
   {
    "duration": 12,
    "start_time": "2024-02-15T11:09:41.228Z"
   },
   {
    "duration": 9,
    "start_time": "2024-02-15T11:09:48.092Z"
   },
   {
    "duration": 4,
    "start_time": "2024-02-15T11:09:59.496Z"
   },
   {
    "duration": 4,
    "start_time": "2024-02-15T11:12:31.628Z"
   },
   {
    "duration": 4,
    "start_time": "2024-02-15T11:12:46.556Z"
   },
   {
    "duration": 4,
    "start_time": "2024-02-15T11:17:00.584Z"
   },
   {
    "duration": 4,
    "start_time": "2024-02-15T11:17:51.656Z"
   },
   {
    "duration": 4,
    "start_time": "2024-02-15T11:17:52.790Z"
   },
   {
    "duration": 3,
    "start_time": "2024-02-15T11:17:53.158Z"
   },
   {
    "duration": 14,
    "start_time": "2024-02-15T13:46:56.236Z"
   },
   {
    "duration": 14,
    "start_time": "2024-02-15T13:47:05.102Z"
   },
   {
    "duration": 14,
    "start_time": "2024-02-15T13:47:22.323Z"
   },
   {
    "duration": 397,
    "start_time": "2024-02-15T13:48:00.820Z"
   },
   {
    "duration": 512,
    "start_time": "2024-02-15T13:48:41.586Z"
   },
   {
    "duration": 5,
    "start_time": "2024-02-15T13:50:40.899Z"
   },
   {
    "duration": 6,
    "start_time": "2024-02-15T13:50:42.347Z"
   },
   {
    "duration": 4,
    "start_time": "2024-02-15T13:50:44.386Z"
   },
   {
    "duration": 4,
    "start_time": "2024-02-15T13:50:44.890Z"
   },
   {
    "duration": 3,
    "start_time": "2024-02-15T13:50:45.390Z"
   },
   {
    "duration": 3,
    "start_time": "2024-02-15T13:50:47.442Z"
   },
   {
    "duration": 4,
    "start_time": "2024-02-15T13:50:48.012Z"
   },
   {
    "duration": 3,
    "start_time": "2024-02-15T13:50:48.462Z"
   },
   {
    "duration": 490,
    "start_time": "2024-02-15T13:50:51.171Z"
   },
   {
    "duration": 694,
    "start_time": "2024-02-15T13:53:22.690Z"
   },
   {
    "duration": 71,
    "start_time": "2024-02-15T13:56:48.424Z"
   },
   {
    "duration": 73,
    "start_time": "2024-02-15T13:57:34.027Z"
   },
   {
    "duration": 79,
    "start_time": "2024-02-15T13:57:58.617Z"
   },
   {
    "duration": 706,
    "start_time": "2024-02-15T13:58:08.505Z"
   },
   {
    "duration": 700,
    "start_time": "2024-02-15T13:58:18.736Z"
   },
   {
    "duration": 708,
    "start_time": "2024-02-15T13:58:31.733Z"
   },
   {
    "duration": 4,
    "start_time": "2024-02-15T14:01:15.342Z"
   },
   {
    "duration": 4,
    "start_time": "2024-02-15T14:01:15.980Z"
   },
   {
    "duration": 4,
    "start_time": "2024-02-15T14:01:18.736Z"
   },
   {
    "duration": 18,
    "start_time": "2024-02-15T14:07:54.326Z"
   },
   {
    "duration": 17,
    "start_time": "2024-02-15T14:07:56.608Z"
   },
   {
    "duration": 82,
    "start_time": "2024-02-15T14:08:36.570Z"
   },
   {
    "duration": 72,
    "start_time": "2024-02-15T14:08:40.788Z"
   },
   {
    "duration": 655,
    "start_time": "2024-02-15T14:09:02.447Z"
   },
   {
    "duration": 134,
    "start_time": "2024-02-15T14:09:03.961Z"
   },
   {
    "duration": 13,
    "start_time": "2024-02-15T14:09:13.483Z"
   },
   {
    "duration": 709,
    "start_time": "2024-02-15T14:09:31.036Z"
   },
   {
    "duration": 17,
    "start_time": "2024-02-15T14:09:45.734Z"
   },
   {
    "duration": 87,
    "start_time": "2024-02-15T14:11:10.906Z"
   },
   {
    "duration": 96,
    "start_time": "2024-02-15T14:11:38.520Z"
   },
   {
    "duration": 19,
    "start_time": "2024-02-15T14:12:04.759Z"
   },
   {
    "duration": 91,
    "start_time": "2024-02-15T14:13:59.895Z"
   },
   {
    "duration": 3,
    "start_time": "2024-02-15T14:14:20.196Z"
   },
   {
    "duration": 17,
    "start_time": "2024-02-15T14:14:30.465Z"
   },
   {
    "duration": 20,
    "start_time": "2024-02-15T14:36:39.756Z"
   },
   {
    "duration": 16,
    "start_time": "2024-02-15T14:46:22.364Z"
   },
   {
    "duration": 68,
    "start_time": "2024-02-15T14:51:29.295Z"
   },
   {
    "duration": 13,
    "start_time": "2024-02-15T14:52:06.359Z"
   },
   {
    "duration": 373,
    "start_time": "2024-02-15T14:52:29.553Z"
   },
   {
    "duration": 16,
    "start_time": "2024-02-15T15:29:25.514Z"
   },
   {
    "duration": 15,
    "start_time": "2024-02-15T15:29:48.369Z"
   },
   {
    "duration": 2,
    "start_time": "2024-02-15T15:30:06.128Z"
   },
   {
    "duration": 57,
    "start_time": "2024-02-15T17:20:06.626Z"
   },
   {
    "duration": 1178,
    "start_time": "2024-02-15T17:20:15.144Z"
   },
   {
    "duration": 121,
    "start_time": "2024-02-15T17:20:16.324Z"
   },
   {
    "duration": 9,
    "start_time": "2024-02-15T17:20:16.447Z"
   },
   {
    "duration": 22,
    "start_time": "2024-02-15T17:20:16.457Z"
   },
   {
    "duration": 11,
    "start_time": "2024-02-15T17:20:16.481Z"
   },
   {
    "duration": 7,
    "start_time": "2024-02-15T17:20:16.493Z"
   },
   {
    "duration": 7,
    "start_time": "2024-02-15T17:20:16.501Z"
   },
   {
    "duration": 7,
    "start_time": "2024-02-15T17:20:16.509Z"
   },
   {
    "duration": 15,
    "start_time": "2024-02-15T17:20:16.518Z"
   },
   {
    "duration": 7,
    "start_time": "2024-02-15T17:20:16.535Z"
   },
   {
    "duration": 11,
    "start_time": "2024-02-15T17:20:16.543Z"
   },
   {
    "duration": 9,
    "start_time": "2024-02-15T17:20:16.556Z"
   },
   {
    "duration": 9,
    "start_time": "2024-02-15T17:20:16.567Z"
   },
   {
    "duration": 105,
    "start_time": "2024-02-15T17:20:16.579Z"
   },
   {
    "duration": 0,
    "start_time": "2024-02-15T17:20:16.686Z"
   },
   {
    "duration": 8,
    "start_time": "2024-02-15T17:29:14.485Z"
   },
   {
    "duration": 23,
    "start_time": "2024-02-15T17:38:13.861Z"
   },
   {
    "duration": 15,
    "start_time": "2024-02-15T17:38:40.875Z"
   },
   {
    "duration": 19,
    "start_time": "2024-02-15T17:42:27.857Z"
   },
   {
    "duration": 12,
    "start_time": "2024-02-15T17:50:36.491Z"
   },
   {
    "duration": 9,
    "start_time": "2024-02-15T17:50:41.611Z"
   },
   {
    "duration": 12,
    "start_time": "2024-02-15T17:51:05.305Z"
   },
   {
    "duration": 70,
    "start_time": "2024-02-15T17:51:14.516Z"
   },
   {
    "duration": 15,
    "start_time": "2024-02-15T17:51:19.678Z"
   },
   {
    "duration": 9,
    "start_time": "2024-02-15T17:51:28.367Z"
   },
   {
    "duration": 9,
    "start_time": "2024-02-15T17:52:57.500Z"
   },
   {
    "duration": 20,
    "start_time": "2024-02-15T18:10:25.767Z"
   },
   {
    "duration": 28,
    "start_time": "2024-02-15T18:11:21.539Z"
   },
   {
    "duration": 15,
    "start_time": "2024-02-15T18:11:48.520Z"
   },
   {
    "duration": 17,
    "start_time": "2024-02-15T18:12:05.833Z"
   },
   {
    "duration": 9,
    "start_time": "2024-02-15T18:12:23.847Z"
   },
   {
    "duration": 22,
    "start_time": "2024-02-15T18:12:56.908Z"
   },
   {
    "duration": 20,
    "start_time": "2024-02-15T18:13:17.852Z"
   },
   {
    "duration": 5,
    "start_time": "2024-02-15T18:13:25.861Z"
   },
   {
    "duration": 4,
    "start_time": "2024-02-15T18:14:31.237Z"
   },
   {
    "duration": 5,
    "start_time": "2024-02-15T18:14:47.120Z"
   },
   {
    "duration": 9,
    "start_time": "2024-02-15T18:15:42.552Z"
   },
   {
    "duration": 10,
    "start_time": "2024-02-15T18:15:46.628Z"
   },
   {
    "duration": 18,
    "start_time": "2024-02-15T18:15:56.477Z"
   },
   {
    "duration": 1209,
    "start_time": "2024-02-16T06:53:39.510Z"
   },
   {
    "duration": 111,
    "start_time": "2024-02-16T06:53:40.722Z"
   },
   {
    "duration": 10,
    "start_time": "2024-02-16T06:53:40.835Z"
   },
   {
    "duration": 26,
    "start_time": "2024-02-16T06:53:40.847Z"
   },
   {
    "duration": 12,
    "start_time": "2024-02-16T06:53:40.876Z"
   },
   {
    "duration": 11,
    "start_time": "2024-02-16T06:53:40.890Z"
   },
   {
    "duration": 11,
    "start_time": "2024-02-16T06:53:40.903Z"
   },
   {
    "duration": 7,
    "start_time": "2024-02-16T06:53:40.915Z"
   },
   {
    "duration": 4,
    "start_time": "2024-02-16T06:53:40.924Z"
   },
   {
    "duration": 5,
    "start_time": "2024-02-16T06:53:40.929Z"
   },
   {
    "duration": 4,
    "start_time": "2024-02-16T06:53:40.936Z"
   },
   {
    "duration": 12,
    "start_time": "2024-02-16T06:53:40.941Z"
   },
   {
    "duration": 4,
    "start_time": "2024-02-16T06:53:40.955Z"
   },
   {
    "duration": 45,
    "start_time": "2024-02-16T06:53:40.961Z"
   },
   {
    "duration": 8,
    "start_time": "2024-02-16T06:53:41.007Z"
   },
   {
    "duration": 329,
    "start_time": "2024-02-16T07:24:44.105Z"
   },
   {
    "duration": 5,
    "start_time": "2024-02-16T07:24:45.226Z"
   },
   {
    "duration": 2,
    "start_time": "2024-02-16T07:28:24.974Z"
   },
   {
    "duration": 265,
    "start_time": "2024-02-16T07:41:24.114Z"
   },
   {
    "duration": 3,
    "start_time": "2024-02-16T07:43:06.262Z"
   },
   {
    "duration": 3,
    "start_time": "2024-02-16T07:44:32.172Z"
   },
   {
    "duration": 73,
    "start_time": "2024-02-16T07:45:53.371Z"
   },
   {
    "duration": 407,
    "start_time": "2024-02-16T07:46:20.403Z"
   },
   {
    "duration": 4,
    "start_time": "2024-02-16T07:46:21.486Z"
   },
   {
    "duration": 44,
    "start_time": "2024-02-16T08:03:02.199Z"
   },
   {
    "duration": 5,
    "start_time": "2024-02-16T08:03:03.759Z"
   },
   {
    "duration": 3,
    "start_time": "2024-02-16T08:04:02.578Z"
   },
   {
    "duration": 3,
    "start_time": "2024-02-16T08:04:04.146Z"
   },
   {
    "duration": 289,
    "start_time": "2024-02-16T08:04:35.659Z"
   },
   {
    "duration": 3,
    "start_time": "2024-02-16T08:04:36.764Z"
   },
   {
    "duration": 4,
    "start_time": "2024-02-16T08:08:18.709Z"
   },
   {
    "duration": 33,
    "start_time": "2024-02-16T08:19:05.824Z"
   },
   {
    "duration": 3,
    "start_time": "2024-02-16T08:19:06.538Z"
   },
   {
    "duration": 49,
    "start_time": "2024-02-16T08:21:02.445Z"
   },
   {
    "duration": 3,
    "start_time": "2024-02-16T08:21:03.919Z"
   },
   {
    "duration": 47,
    "start_time": "2024-02-16T08:21:09.041Z"
   },
   {
    "duration": 3,
    "start_time": "2024-02-16T08:21:09.873Z"
   },
   {
    "duration": 54,
    "start_time": "2024-02-16T08:21:15.251Z"
   },
   {
    "duration": 3,
    "start_time": "2024-02-16T08:21:16.035Z"
   },
   {
    "duration": 76,
    "start_time": "2024-02-16T08:21:20.651Z"
   },
   {
    "duration": 3,
    "start_time": "2024-02-16T08:21:21.267Z"
   },
   {
    "duration": 103,
    "start_time": "2024-02-16T08:21:26.490Z"
   },
   {
    "duration": 3,
    "start_time": "2024-02-16T08:21:28.078Z"
   },
   {
    "duration": 93,
    "start_time": "2024-02-16T08:21:36.228Z"
   },
   {
    "duration": 3,
    "start_time": "2024-02-16T08:21:36.844Z"
   },
   {
    "duration": 120,
    "start_time": "2024-02-16T08:21:41.184Z"
   },
   {
    "duration": 3,
    "start_time": "2024-02-16T08:21:41.776Z"
   },
   {
    "duration": 144,
    "start_time": "2024-02-16T08:21:46.556Z"
   },
   {
    "duration": 4,
    "start_time": "2024-02-16T08:21:47.128Z"
   },
   {
    "duration": 46,
    "start_time": "2024-02-16T08:26:26.708Z"
   },
   {
    "duration": 5,
    "start_time": "2024-02-16T08:26:27.421Z"
   },
   {
    "duration": 40,
    "start_time": "2024-02-16T08:27:57.859Z"
   },
   {
    "duration": 5,
    "start_time": "2024-02-16T08:27:58.675Z"
   },
   {
    "duration": 4,
    "start_time": "2024-02-16T08:28:33.718Z"
   },
   {
    "duration": 47,
    "start_time": "2024-02-16T08:29:05.075Z"
   },
   {
    "duration": 44,
    "start_time": "2024-02-16T08:29:10.803Z"
   },
   {
    "duration": 43,
    "start_time": "2024-02-16T08:29:26.616Z"
   },
   {
    "duration": 65,
    "start_time": "2024-02-16T08:29:46.510Z"
   },
   {
    "duration": 26,
    "start_time": "2024-02-16T08:33:22.350Z"
   },
   {
    "duration": 3,
    "start_time": "2024-02-16T08:33:25.617Z"
   },
   {
    "duration": 27,
    "start_time": "2024-02-16T08:33:39.416Z"
   },
   {
    "duration": 31,
    "start_time": "2024-02-16T08:34:25.221Z"
   },
   {
    "duration": 4,
    "start_time": "2024-02-16T08:34:26.723Z"
   },
   {
    "duration": 38,
    "start_time": "2024-02-16T08:34:40.570Z"
   },
   {
    "duration": 3,
    "start_time": "2024-02-16T08:34:44.312Z"
   },
   {
    "duration": 45,
    "start_time": "2024-02-16T08:34:49.609Z"
   },
   {
    "duration": 3,
    "start_time": "2024-02-16T08:34:56.998Z"
   },
   {
    "duration": 71,
    "start_time": "2024-02-16T08:35:02.303Z"
   },
   {
    "duration": 3,
    "start_time": "2024-02-16T08:35:03.176Z"
   },
   {
    "duration": 100,
    "start_time": "2024-02-16T08:35:59.406Z"
   },
   {
    "duration": 4,
    "start_time": "2024-02-16T08:36:00.045Z"
   },
   {
    "duration": 71,
    "start_time": "2024-02-16T08:36:05.398Z"
   },
   {
    "duration": 3,
    "start_time": "2024-02-16T08:36:05.950Z"
   },
   {
    "duration": 75,
    "start_time": "2024-02-16T08:40:21.291Z"
   },
   {
    "duration": 40,
    "start_time": "2024-02-16T08:40:48.401Z"
   },
   {
    "duration": 34,
    "start_time": "2024-02-16T08:42:28.413Z"
   },
   {
    "duration": 34,
    "start_time": "2024-02-16T08:42:38.895Z"
   },
   {
    "duration": 32,
    "start_time": "2024-02-16T08:44:50.635Z"
   },
   {
    "duration": 3,
    "start_time": "2024-02-16T08:44:51.348Z"
   },
   {
    "duration": 69,
    "start_time": "2024-02-16T08:46:00.246Z"
   },
   {
    "duration": 4,
    "start_time": "2024-02-16T08:47:10.433Z"
   },
   {
    "duration": 43,
    "start_time": "2024-02-16T08:51:23.523Z"
   },
   {
    "duration": 4,
    "start_time": "2024-02-16T08:51:24.209Z"
   },
   {
    "duration": 36,
    "start_time": "2024-02-16T08:52:17.163Z"
   },
   {
    "duration": 72,
    "start_time": "2024-02-16T08:53:37.205Z"
   },
   {
    "duration": 3,
    "start_time": "2024-02-16T08:53:38.067Z"
   },
   {
    "duration": 38,
    "start_time": "2024-02-16T08:53:58.797Z"
   },
   {
    "duration": 3,
    "start_time": "2024-02-16T08:53:59.171Z"
   },
   {
    "duration": 33,
    "start_time": "2024-02-16T08:54:04.056Z"
   },
   {
    "duration": 72,
    "start_time": "2024-02-16T08:54:23.269Z"
   },
   {
    "duration": 3,
    "start_time": "2024-02-16T08:54:23.939Z"
   },
   {
    "duration": 33,
    "start_time": "2024-02-16T08:54:29.392Z"
   },
   {
    "duration": 275,
    "start_time": "2024-02-16T08:55:12.955Z"
   },
   {
    "duration": 3,
    "start_time": "2024-02-16T08:55:13.645Z"
   },
   {
    "duration": 107,
    "start_time": "2024-02-16T08:57:12.812Z"
   },
   {
    "duration": 30,
    "start_time": "2024-02-16T08:57:32.466Z"
   },
   {
    "duration": 152,
    "start_time": "2024-02-16T08:58:21.497Z"
   },
   {
    "duration": 3,
    "start_time": "2024-02-16T08:59:48.417Z"
   },
   {
    "duration": 471,
    "start_time": "2024-02-16T09:15:05.567Z"
   },
   {
    "duration": 3,
    "start_time": "2024-02-16T09:15:07.156Z"
   },
   {
    "duration": 281,
    "start_time": "2024-02-16T09:15:22.528Z"
   },
   {
    "duration": 4,
    "start_time": "2024-02-16T09:15:25.192Z"
   },
   {
    "duration": 3,
    "start_time": "2024-02-16T09:20:08.727Z"
   },
   {
    "duration": 3,
    "start_time": "2024-02-16T09:20:16.901Z"
   },
   {
    "duration": 4,
    "start_time": "2024-02-16T09:20:36.199Z"
   },
   {
    "duration": 4,
    "start_time": "2024-02-16T09:20:44.189Z"
   },
   {
    "duration": 3,
    "start_time": "2024-02-16T09:20:49.360Z"
   },
   {
    "duration": 9,
    "start_time": "2024-02-16T09:22:03.906Z"
   },
   {
    "duration": 3,
    "start_time": "2024-02-16T09:22:12.692Z"
   },
   {
    "duration": 282,
    "start_time": "2024-02-16T09:22:46.834Z"
   },
   {
    "duration": 4,
    "start_time": "2024-02-16T09:22:48.050Z"
   },
   {
    "duration": 35,
    "start_time": "2024-02-16T09:23:13.927Z"
   },
   {
    "duration": 272,
    "start_time": "2024-02-16T09:23:20.364Z"
   },
   {
    "duration": 4,
    "start_time": "2024-02-16T09:23:21.465Z"
   },
   {
    "duration": 390,
    "start_time": "2024-02-16T09:23:43.580Z"
   },
   {
    "duration": 3,
    "start_time": "2024-02-16T09:23:51.397Z"
   },
   {
    "duration": 401,
    "start_time": "2024-02-16T09:24:40.401Z"
   },
   {
    "duration": 3,
    "start_time": "2024-02-16T09:24:41.641Z"
   },
   {
    "duration": 70,
    "start_time": "2024-02-16T09:24:55.980Z"
   },
   {
    "duration": 3,
    "start_time": "2024-02-16T09:24:56.995Z"
   },
   {
    "duration": 39,
    "start_time": "2024-02-16T09:25:05.225Z"
   },
   {
    "duration": 383,
    "start_time": "2024-02-16T09:25:12.174Z"
   },
   {
    "duration": 4,
    "start_time": "2024-02-16T09:25:29.710Z"
   },
   {
    "duration": 68,
    "start_time": "2024-02-16T09:25:34.155Z"
   },
   {
    "duration": 4,
    "start_time": "2024-02-16T09:25:36.870Z"
   },
   {
    "duration": 398,
    "start_time": "2024-02-16T09:25:47.885Z"
   },
   {
    "duration": 4,
    "start_time": "2024-02-16T09:25:53.557Z"
   },
   {
    "duration": 71,
    "start_time": "2024-02-16T09:33:46.843Z"
   },
   {
    "duration": 71,
    "start_time": "2024-02-16T09:35:12.946Z"
   },
   {
    "duration": 4,
    "start_time": "2024-02-16T09:35:47.741Z"
   },
   {
    "duration": 75,
    "start_time": "2024-02-16T09:37:13.497Z"
   },
   {
    "duration": 376,
    "start_time": "2024-02-16T09:37:38.289Z"
   },
   {
    "duration": 4,
    "start_time": "2024-02-16T09:37:46.272Z"
   },
   {
    "duration": 70,
    "start_time": "2024-02-16T09:38:22.997Z"
   },
   {
    "duration": 4,
    "start_time": "2024-02-16T09:38:24.066Z"
   },
   {
    "duration": 392,
    "start_time": "2024-02-16T09:38:26.191Z"
   },
   {
    "duration": 3,
    "start_time": "2024-02-16T09:38:28.001Z"
   },
   {
    "duration": 85,
    "start_time": "2024-02-16T09:42:02.357Z"
   },
   {
    "duration": 3,
    "start_time": "2024-02-16T09:42:03.359Z"
   },
   {
    "duration": 71,
    "start_time": "2024-02-16T09:43:04.113Z"
   },
   {
    "duration": 4,
    "start_time": "2024-02-16T09:43:05.147Z"
   },
   {
    "duration": 397,
    "start_time": "2024-02-16T09:48:37.500Z"
   },
   {
    "duration": 3,
    "start_time": "2024-02-16T09:48:43.186Z"
   },
   {
    "duration": 9,
    "start_time": "2024-02-16T09:49:03.089Z"
   },
   {
    "duration": 401,
    "start_time": "2024-02-16T09:49:06.960Z"
   },
   {
    "duration": 4,
    "start_time": "2024-02-16T09:49:07.702Z"
   },
   {
    "duration": 72,
    "start_time": "2024-02-16T09:49:26.424Z"
   },
   {
    "duration": 4,
    "start_time": "2024-02-16T09:49:27.489Z"
   },
   {
    "duration": 390,
    "start_time": "2024-02-16T09:49:29.465Z"
   },
   {
    "duration": 4,
    "start_time": "2024-02-16T09:50:33.408Z"
   },
   {
    "duration": 3,
    "start_time": "2024-02-16T09:51:17.712Z"
   },
   {
    "duration": 3,
    "start_time": "2024-02-16T09:51:36.222Z"
   },
   {
    "duration": 3,
    "start_time": "2024-02-16T09:51:58.931Z"
   },
   {
    "duration": 70,
    "start_time": "2024-02-16T09:52:06.240Z"
   },
   {
    "duration": 4,
    "start_time": "2024-02-16T09:52:06.977Z"
   },
   {
    "duration": 94,
    "start_time": "2024-02-16T09:52:23.018Z"
   },
   {
    "duration": 4,
    "start_time": "2024-02-16T09:52:24.361Z"
   },
   {
    "duration": 385,
    "start_time": "2024-02-16T09:52:33.128Z"
   },
   {
    "duration": 3,
    "start_time": "2024-02-16T09:52:33.776Z"
   },
   {
    "duration": 92,
    "start_time": "2024-02-16T09:52:39.248Z"
   },
   {
    "duration": 4,
    "start_time": "2024-02-16T09:52:40.186Z"
   },
   {
    "duration": 4,
    "start_time": "2024-02-16T09:54:00.586Z"
   },
   {
    "duration": 383,
    "start_time": "2024-02-16T09:55:20.706Z"
   },
   {
    "duration": 4,
    "start_time": "2024-02-16T09:55:22.894Z"
   },
   {
    "duration": 80,
    "start_time": "2024-02-16T10:15:32.750Z"
   },
   {
    "duration": 3,
    "start_time": "2024-02-16T10:20:07.409Z"
   },
   {
    "duration": 3,
    "start_time": "2024-02-16T10:20:09.805Z"
   },
   {
    "duration": 90,
    "start_time": "2024-02-16T10:20:24.475Z"
   },
   {
    "duration": 456,
    "start_time": "2024-02-16T10:20:42.890Z"
   },
   {
    "duration": 95,
    "start_time": "2024-02-16T10:20:52.557Z"
   },
   {
    "duration": 104,
    "start_time": "2024-02-16T10:21:03.096Z"
   },
   {
    "duration": 92,
    "start_time": "2024-02-16T10:21:18.091Z"
   },
   {
    "duration": 405,
    "start_time": "2024-02-16T10:21:24.753Z"
   },
   {
    "duration": 398,
    "start_time": "2024-02-16T10:21:53.005Z"
   },
   {
    "duration": 387,
    "start_time": "2024-02-16T10:21:59.966Z"
   },
   {
    "duration": 98,
    "start_time": "2024-02-16T10:22:25.065Z"
   },
   {
    "duration": 89,
    "start_time": "2024-02-16T10:22:30.347Z"
   },
   {
    "duration": 105,
    "start_time": "2024-02-16T10:23:54.691Z"
   },
   {
    "duration": 50,
    "start_time": "2024-02-16T10:24:02.949Z"
   },
   {
    "duration": 36,
    "start_time": "2024-02-16T10:24:10.756Z"
   },
   {
    "duration": 92,
    "start_time": "2024-02-16T10:24:15.937Z"
   },
   {
    "duration": 34,
    "start_time": "2024-02-16T10:24:20.353Z"
   },
   {
    "duration": 397,
    "start_time": "2024-02-16T10:24:25.243Z"
   },
   {
    "duration": 92,
    "start_time": "2024-02-16T10:24:32.449Z"
   },
   {
    "duration": 392,
    "start_time": "2024-02-16T10:24:35.361Z"
   },
   {
    "duration": 4,
    "start_time": "2024-02-16T10:45:18.391Z"
   },
   {
    "duration": 1099,
    "start_time": "2024-02-16T10:47:36.179Z"
   },
   {
    "duration": 31,
    "start_time": "2024-02-16T10:47:37.279Z"
   },
   {
    "duration": 10,
    "start_time": "2024-02-16T10:47:37.311Z"
   },
   {
    "duration": 14,
    "start_time": "2024-02-16T10:47:37.323Z"
   },
   {
    "duration": 27,
    "start_time": "2024-02-16T10:47:37.340Z"
   },
   {
    "duration": 8,
    "start_time": "2024-02-16T10:47:37.369Z"
   },
   {
    "duration": 6,
    "start_time": "2024-02-16T10:47:37.378Z"
   },
   {
    "duration": 29,
    "start_time": "2024-02-16T10:47:37.386Z"
   },
   {
    "duration": 15,
    "start_time": "2024-02-16T10:47:37.417Z"
   },
   {
    "duration": 11,
    "start_time": "2024-02-16T10:47:37.434Z"
   },
   {
    "duration": 13,
    "start_time": "2024-02-16T10:47:37.447Z"
   },
   {
    "duration": 12,
    "start_time": "2024-02-16T10:47:37.462Z"
   },
   {
    "duration": 41,
    "start_time": "2024-02-16T10:47:37.476Z"
   },
   {
    "duration": 118,
    "start_time": "2024-02-16T10:47:37.520Z"
   },
   {
    "duration": 36,
    "start_time": "2024-02-16T10:47:37.640Z"
   },
   {
    "duration": 388,
    "start_time": "2024-02-16T10:47:37.678Z"
   },
   {
    "duration": 95,
    "start_time": "2024-02-16T10:47:38.067Z"
   },
   {
    "duration": 392,
    "start_time": "2024-02-16T10:47:38.163Z"
   },
   {
    "duration": 1125,
    "start_time": "2024-02-16T11:09:42.365Z"
   },
   {
    "duration": 31,
    "start_time": "2024-02-16T11:09:43.492Z"
   },
   {
    "duration": 8,
    "start_time": "2024-02-16T11:09:43.525Z"
   },
   {
    "duration": 14,
    "start_time": "2024-02-16T11:09:43.535Z"
   },
   {
    "duration": 12,
    "start_time": "2024-02-16T11:09:43.551Z"
   },
   {
    "duration": 15,
    "start_time": "2024-02-16T11:09:43.565Z"
   },
   {
    "duration": 8,
    "start_time": "2024-02-16T11:09:43.582Z"
   },
   {
    "duration": 10,
    "start_time": "2024-02-16T11:09:43.591Z"
   },
   {
    "duration": 24,
    "start_time": "2024-02-16T11:09:43.603Z"
   },
   {
    "duration": 5,
    "start_time": "2024-02-16T11:09:43.629Z"
   },
   {
    "duration": 8,
    "start_time": "2024-02-16T11:09:43.636Z"
   },
   {
    "duration": 7,
    "start_time": "2024-02-16T11:09:43.646Z"
   },
   {
    "duration": 5,
    "start_time": "2024-02-16T11:09:43.655Z"
   },
   {
    "duration": 118,
    "start_time": "2024-02-16T11:09:43.663Z"
   },
   {
    "duration": 51,
    "start_time": "2024-02-16T11:09:43.783Z"
   },
   {
    "duration": 418,
    "start_time": "2024-02-16T11:09:43.836Z"
   },
   {
    "duration": 99,
    "start_time": "2024-02-16T11:09:44.256Z"
   },
   {
    "duration": 399,
    "start_time": "2024-02-16T11:09:44.357Z"
   },
   {
    "duration": 2911,
    "start_time": "2024-02-16T11:28:40.939Z"
   },
   {
    "duration": 113,
    "start_time": "2024-02-16T11:28:43.851Z"
   },
   {
    "duration": 9,
    "start_time": "2024-02-16T11:28:43.966Z"
   },
   {
    "duration": 22,
    "start_time": "2024-02-16T11:28:43.977Z"
   },
   {
    "duration": 13,
    "start_time": "2024-02-16T11:28:44.001Z"
   },
   {
    "duration": 7,
    "start_time": "2024-02-16T11:28:44.015Z"
   },
   {
    "duration": 7,
    "start_time": "2024-02-16T11:28:44.023Z"
   },
   {
    "duration": 13,
    "start_time": "2024-02-16T11:28:44.032Z"
   },
   {
    "duration": 20,
    "start_time": "2024-02-16T11:28:44.046Z"
   },
   {
    "duration": 4,
    "start_time": "2024-02-16T11:28:44.068Z"
   },
   {
    "duration": 6,
    "start_time": "2024-02-16T11:28:44.073Z"
   },
   {
    "duration": 11,
    "start_time": "2024-02-16T11:28:44.081Z"
   },
   {
    "duration": 8,
    "start_time": "2024-02-16T11:28:44.093Z"
   },
   {
    "duration": 99,
    "start_time": "2024-02-16T11:28:44.102Z"
   },
   {
    "duration": 29,
    "start_time": "2024-02-16T11:28:44.203Z"
   },
   {
    "duration": 350,
    "start_time": "2024-02-16T11:28:44.234Z"
   },
   {
    "duration": 93,
    "start_time": "2024-02-16T11:28:44.585Z"
   },
   {
    "duration": 342,
    "start_time": "2024-02-16T11:28:44.680Z"
   },
   {
    "duration": 304,
    "start_time": "2024-02-16T16:34:34.438Z"
   },
   {
    "duration": 189,
    "start_time": "2024-02-16T16:50:51.193Z"
   },
   {
    "duration": 549,
    "start_time": "2024-02-16T16:59:35.167Z"
   },
   {
    "duration": 159,
    "start_time": "2024-02-16T17:00:19.376Z"
   },
   {
    "duration": 14,
    "start_time": "2024-02-16T17:02:12.876Z"
   },
   {
    "duration": 1726,
    "start_time": "2024-02-16T17:03:02.438Z"
   },
   {
    "duration": 3,
    "start_time": "2024-02-16T17:03:22.974Z"
   },
   {
    "duration": 1673,
    "start_time": "2024-02-16T17:03:32.436Z"
   },
   {
    "duration": 498,
    "start_time": "2024-02-16T17:07:55.650Z"
   },
   {
    "duration": 7,
    "start_time": "2024-02-16T17:12:11.505Z"
   },
   {
    "duration": 90,
    "start_time": "2024-02-16T17:15:51.864Z"
   },
   {
    "duration": 24347,
    "start_time": "2024-02-16T17:17:28.318Z"
   },
   {
    "duration": 84,
    "start_time": "2024-02-16T17:30:15.257Z"
   },
   {
    "duration": 92,
    "start_time": "2024-02-16T18:31:16.575Z"
   },
   {
    "duration": 534,
    "start_time": "2024-02-16T18:31:42.314Z"
   },
   {
    "duration": 12,
    "start_time": "2024-02-16T18:32:21.818Z"
   },
   {
    "duration": 479,
    "start_time": "2024-02-16T18:32:30.035Z"
   },
   {
    "duration": 96,
    "start_time": "2024-02-16T18:36:53.514Z"
   },
   {
    "duration": 90,
    "start_time": "2024-02-16T18:37:12.524Z"
   },
   {
    "duration": 87,
    "start_time": "2024-02-16T18:37:23.994Z"
   },
   {
    "duration": 479,
    "start_time": "2024-02-16T18:37:58.668Z"
   },
   {
    "duration": 24146,
    "start_time": "2024-02-16T18:38:26.207Z"
   },
   {
    "duration": 85,
    "start_time": "2024-02-16T18:39:03.715Z"
   },
   {
    "duration": 24563,
    "start_time": "2024-02-16T18:39:43.726Z"
   },
   {
    "duration": 1442,
    "start_time": "2024-02-16T18:41:32.810Z"
   },
   {
    "duration": 30,
    "start_time": "2024-02-16T18:41:34.254Z"
   },
   {
    "duration": 6,
    "start_time": "2024-02-16T18:41:34.288Z"
   },
   {
    "duration": 13,
    "start_time": "2024-02-16T18:41:34.297Z"
   },
   {
    "duration": 18,
    "start_time": "2024-02-16T18:41:34.311Z"
   },
   {
    "duration": 63,
    "start_time": "2024-02-16T18:41:34.331Z"
   },
   {
    "duration": 0,
    "start_time": "2024-02-16T18:41:34.396Z"
   },
   {
    "duration": 0,
    "start_time": "2024-02-16T18:41:34.397Z"
   },
   {
    "duration": 0,
    "start_time": "2024-02-16T18:41:34.399Z"
   },
   {
    "duration": 0,
    "start_time": "2024-02-16T18:41:34.400Z"
   },
   {
    "duration": 0,
    "start_time": "2024-02-16T18:41:34.401Z"
   },
   {
    "duration": 0,
    "start_time": "2024-02-16T18:41:34.402Z"
   },
   {
    "duration": 0,
    "start_time": "2024-02-16T18:41:34.403Z"
   },
   {
    "duration": 0,
    "start_time": "2024-02-16T18:41:34.404Z"
   },
   {
    "duration": 0,
    "start_time": "2024-02-16T18:41:34.405Z"
   },
   {
    "duration": 0,
    "start_time": "2024-02-16T18:41:34.406Z"
   },
   {
    "duration": 0,
    "start_time": "2024-02-16T18:41:34.407Z"
   },
   {
    "duration": 24,
    "start_time": "2024-02-16T18:43:13.182Z"
   },
   {
    "duration": 121,
    "start_time": "2024-02-16T18:46:41.408Z"
   },
   {
    "duration": 3,
    "start_time": "2024-02-16T18:46:52.027Z"
   },
   {
    "duration": 6,
    "start_time": "2024-02-16T18:47:36.916Z"
   },
   {
    "duration": 16,
    "start_time": "2024-02-16T18:47:44.866Z"
   },
   {
    "duration": 6,
    "start_time": "2024-02-16T18:50:39.499Z"
   },
   {
    "duration": 13,
    "start_time": "2024-02-16T18:52:13.794Z"
   },
   {
    "duration": 20,
    "start_time": "2024-02-16T18:52:30.970Z"
   },
   {
    "duration": 12,
    "start_time": "2024-02-16T18:53:21.847Z"
   },
   {
    "duration": 6,
    "start_time": "2024-02-16T18:53:37.104Z"
   },
   {
    "duration": 4,
    "start_time": "2024-02-16T18:53:54.568Z"
   },
   {
    "duration": 4,
    "start_time": "2024-02-16T18:53:55.640Z"
   },
   {
    "duration": 9,
    "start_time": "2024-02-16T18:53:56.818Z"
   },
   {
    "duration": 6,
    "start_time": "2024-02-16T18:55:33.572Z"
   },
   {
    "duration": 5,
    "start_time": "2024-02-16T18:55:52.906Z"
   },
   {
    "duration": 5,
    "start_time": "2024-02-16T18:56:09.690Z"
   },
   {
    "duration": 4,
    "start_time": "2024-02-16T18:56:26.702Z"
   },
   {
    "duration": 6,
    "start_time": "2024-02-16T18:56:27.893Z"
   },
   {
    "duration": 5,
    "start_time": "2024-02-16T18:56:28.413Z"
   },
   {
    "duration": 4,
    "start_time": "2024-02-16T18:56:29.716Z"
   },
   {
    "duration": 5,
    "start_time": "2024-02-16T18:56:30.298Z"
   },
   {
    "duration": 4,
    "start_time": "2024-02-16T18:56:30.899Z"
   },
   {
    "duration": 69,
    "start_time": "2024-02-16T18:57:07.384Z"
   },
   {
    "duration": 184,
    "start_time": "2024-02-16T18:58:36.190Z"
   },
   {
    "duration": 15,
    "start_time": "2024-02-16T18:58:45.573Z"
   },
   {
    "duration": 13,
    "start_time": "2024-02-16T18:59:01.771Z"
   },
   {
    "duration": 16,
    "start_time": "2024-02-16T18:59:54.582Z"
   },
   {
    "duration": 1454,
    "start_time": "2024-02-16T19:00:24.139Z"
   },
   {
    "duration": 30,
    "start_time": "2024-02-16T19:00:25.595Z"
   },
   {
    "duration": 5,
    "start_time": "2024-02-16T19:00:25.627Z"
   },
   {
    "duration": 22,
    "start_time": "2024-02-16T19:00:25.634Z"
   },
   {
    "duration": 13,
    "start_time": "2024-02-16T19:00:25.658Z"
   },
   {
    "duration": 23,
    "start_time": "2024-02-16T19:00:25.672Z"
   },
   {
    "duration": 3,
    "start_time": "2024-02-16T19:00:25.697Z"
   },
   {
    "duration": 24,
    "start_time": "2024-02-16T19:00:25.702Z"
   },
   {
    "duration": 6,
    "start_time": "2024-02-16T19:00:25.727Z"
   },
   {
    "duration": 22,
    "start_time": "2024-02-16T19:00:25.734Z"
   },
   {
    "duration": 19,
    "start_time": "2024-02-16T19:00:25.758Z"
   },
   {
    "duration": 11,
    "start_time": "2024-02-16T19:00:25.778Z"
   },
   {
    "duration": 136,
    "start_time": "2024-02-16T19:00:25.790Z"
   },
   {
    "duration": 0,
    "start_time": "2024-02-16T19:00:25.928Z"
   },
   {
    "duration": 0,
    "start_time": "2024-02-16T19:00:25.929Z"
   },
   {
    "duration": 0,
    "start_time": "2024-02-16T19:00:25.930Z"
   },
   {
    "duration": 16,
    "start_time": "2024-02-16T19:01:35.292Z"
   },
   {
    "duration": 17,
    "start_time": "2024-02-16T19:01:41.634Z"
   },
   {
    "duration": 15,
    "start_time": "2024-02-16T19:01:55.737Z"
   },
   {
    "duration": 15,
    "start_time": "2024-02-16T19:02:09.805Z"
   },
   {
    "duration": 88,
    "start_time": "2024-02-16T19:02:29.876Z"
   },
   {
    "duration": 182,
    "start_time": "2024-02-16T19:10:35.216Z"
   },
   {
    "duration": 14,
    "start_time": "2024-02-16T19:11:02.209Z"
   },
   {
    "duration": 36,
    "start_time": "2024-02-16T19:11:45.120Z"
   },
   {
    "duration": 20980,
    "start_time": "2024-02-16T19:11:55.098Z"
   },
   {
    "duration": 88,
    "start_time": "2024-02-16T19:12:29.061Z"
   },
   {
    "duration": 20826,
    "start_time": "2024-02-16T19:12:42.461Z"
   },
   {
    "duration": 20455,
    "start_time": "2024-02-16T19:13:20.814Z"
   },
   {
    "duration": 103,
    "start_time": "2024-02-16T19:13:41.375Z"
   },
   {
    "duration": 20505,
    "start_time": "2024-02-16T19:13:50.973Z"
   },
   {
    "duration": 1371,
    "start_time": "2024-02-16T19:23:30.871Z"
   },
   {
    "duration": 30,
    "start_time": "2024-02-16T19:23:32.244Z"
   },
   {
    "duration": 5,
    "start_time": "2024-02-16T19:23:32.275Z"
   },
   {
    "duration": 23,
    "start_time": "2024-02-16T19:23:32.281Z"
   },
   {
    "duration": 11,
    "start_time": "2024-02-16T19:23:32.306Z"
   },
   {
    "duration": 30,
    "start_time": "2024-02-16T19:23:32.318Z"
   },
   {
    "duration": 3,
    "start_time": "2024-02-16T19:23:32.350Z"
   },
   {
    "duration": 10,
    "start_time": "2024-02-16T19:23:32.355Z"
   },
   {
    "duration": 9,
    "start_time": "2024-02-16T19:23:32.366Z"
   },
   {
    "duration": 5,
    "start_time": "2024-02-16T19:23:32.377Z"
   },
   {
    "duration": 6,
    "start_time": "2024-02-16T19:23:32.383Z"
   },
   {
    "duration": 5,
    "start_time": "2024-02-16T19:23:32.390Z"
   },
   {
    "duration": 103,
    "start_time": "2024-02-16T19:23:32.397Z"
   },
   {
    "duration": 200,
    "start_time": "2024-02-16T19:23:32.502Z"
   },
   {
    "duration": 20273,
    "start_time": "2024-02-16T19:23:32.704Z"
   },
   {
    "duration": 122,
    "start_time": "2024-02-16T19:23:52.979Z"
   },
   {
    "duration": 38968,
    "start_time": "2024-02-16T19:24:03.392Z"
   },
   {
    "duration": 7,
    "start_time": "2024-02-16T19:34:56.411Z"
   },
   {
    "duration": 5,
    "start_time": "2024-02-16T19:35:07.022Z"
   },
   {
    "duration": 6,
    "start_time": "2024-02-16T19:35:28.157Z"
   },
   {
    "duration": 6,
    "start_time": "2024-02-16T19:35:51.779Z"
   },
   {
    "duration": 6,
    "start_time": "2024-02-16T19:36:52.594Z"
   },
   {
    "duration": 12,
    "start_time": "2024-02-16T19:37:30.697Z"
   },
   {
    "duration": 75,
    "start_time": "2024-02-16T19:49:09.819Z"
   },
   {
    "duration": 6,
    "start_time": "2024-02-16T19:51:58.330Z"
   },
   {
    "duration": 10,
    "start_time": "2024-02-16T19:52:54.802Z"
   },
   {
    "duration": 71,
    "start_time": "2024-02-16T19:57:51.510Z"
   },
   {
    "duration": 12,
    "start_time": "2024-02-16T19:59:45.397Z"
   },
   {
    "duration": 8,
    "start_time": "2024-02-16T20:00:42.918Z"
   },
   {
    "duration": 7,
    "start_time": "2024-02-16T20:00:56.890Z"
   },
   {
    "duration": 45639,
    "start_time": "2024-02-16T20:06:04.390Z"
   },
   {
    "duration": 11,
    "start_time": "2024-02-16T20:08:35.763Z"
   },
   {
    "duration": 13,
    "start_time": "2024-02-16T20:08:43.132Z"
   },
   {
    "duration": 17,
    "start_time": "2024-02-16T20:11:58.103Z"
   },
   {
    "duration": 11,
    "start_time": "2024-02-16T20:12:04.982Z"
   },
   {
    "duration": 11,
    "start_time": "2024-02-16T20:12:12.016Z"
   },
   {
    "duration": 11,
    "start_time": "2024-02-16T20:12:17.504Z"
   },
   {
    "duration": 11,
    "start_time": "2024-02-16T20:16:35.524Z"
   },
   {
    "duration": 8,
    "start_time": "2024-02-16T20:17:31.234Z"
   },
   {
    "duration": 13,
    "start_time": "2024-02-16T20:17:40.827Z"
   },
   {
    "duration": 12,
    "start_time": "2024-02-16T20:19:44.756Z"
   },
   {
    "duration": 7,
    "start_time": "2024-02-16T20:28:39.193Z"
   },
   {
    "duration": 11,
    "start_time": "2024-02-16T20:36:17.233Z"
   },
   {
    "duration": 161,
    "start_time": "2024-02-16T20:39:21.279Z"
   },
   {
    "duration": 159,
    "start_time": "2024-02-16T20:40:08.814Z"
   },
   {
    "duration": 154,
    "start_time": "2024-02-16T20:41:08.827Z"
   },
   {
    "duration": 125229,
    "start_time": "2024-02-16T20:44:30.705Z"
   },
   {
    "duration": 304,
    "start_time": "2024-02-16T20:47:06.688Z"
   },
   {
    "duration": 9,
    "start_time": "2024-02-16T20:52:35.365Z"
   },
   {
    "duration": 115,
    "start_time": "2024-02-16T20:58:19.697Z"
   },
   {
    "duration": 10,
    "start_time": "2024-02-16T21:02:04.411Z"
   },
   {
    "duration": 501,
    "start_time": "2024-02-16T21:07:31.891Z"
   },
   {
    "duration": 1707,
    "start_time": "2024-02-16T21:08:13.781Z"
   },
   {
    "duration": 938,
    "start_time": "2024-02-16T21:08:19.606Z"
   },
   {
    "duration": 993,
    "start_time": "2024-02-16T21:08:33.843Z"
   },
   {
    "duration": 1112,
    "start_time": "2024-02-16T21:08:49.702Z"
   },
   {
    "duration": 1315,
    "start_time": "2024-02-16T21:09:03.633Z"
   },
   {
    "duration": 1073,
    "start_time": "2024-02-16T21:09:24.535Z"
   },
   {
    "duration": 542,
    "start_time": "2024-02-16T21:09:31.223Z"
   },
   {
    "duration": 13,
    "start_time": "2024-02-16T21:11:42.810Z"
   },
   {
    "duration": 587,
    "start_time": "2024-02-16T21:11:50.328Z"
   },
   {
    "duration": 555,
    "start_time": "2024-02-16T21:12:27.758Z"
   },
   {
    "duration": 96,
    "start_time": "2024-02-16T21:13:11.603Z"
   },
   {
    "duration": 275,
    "start_time": "2024-02-16T21:16:30.631Z"
   },
   {
    "duration": 1379,
    "start_time": "2024-02-16T21:17:58.259Z"
   },
   {
    "duration": 30,
    "start_time": "2024-02-16T21:17:59.641Z"
   },
   {
    "duration": 6,
    "start_time": "2024-02-16T21:17:59.672Z"
   },
   {
    "duration": 16,
    "start_time": "2024-02-16T21:17:59.680Z"
   },
   {
    "duration": 32,
    "start_time": "2024-02-16T21:17:59.699Z"
   },
   {
    "duration": 33,
    "start_time": "2024-02-16T21:17:59.733Z"
   },
   {
    "duration": 4,
    "start_time": "2024-02-16T21:17:59.768Z"
   },
   {
    "duration": 12,
    "start_time": "2024-02-16T21:17:59.773Z"
   },
   {
    "duration": 32,
    "start_time": "2024-02-16T21:17:59.787Z"
   },
   {
    "duration": 19,
    "start_time": "2024-02-16T21:17:59.821Z"
   },
   {
    "duration": 7,
    "start_time": "2024-02-16T21:17:59.842Z"
   },
   {
    "duration": 17,
    "start_time": "2024-02-16T21:17:59.851Z"
   },
   {
    "duration": 302,
    "start_time": "2024-02-16T21:17:59.870Z"
   },
   {
    "duration": 567,
    "start_time": "2024-02-16T21:18:00.175Z"
   },
   {
    "duration": 190,
    "start_time": "2024-02-16T21:18:00.744Z"
   },
   {
    "duration": 117737,
    "start_time": "2024-02-16T21:18:00.936Z"
   },
   {
    "duration": 6,
    "start_time": "2024-02-16T21:19:58.675Z"
   },
   {
    "duration": 10,
    "start_time": "2024-02-16T21:19:58.683Z"
   },
   {
    "duration": 32,
    "start_time": "2024-02-16T21:19:58.694Z"
   },
   {
    "duration": 42253,
    "start_time": "2024-02-16T21:19:58.727Z"
   },
   {
    "duration": 12,
    "start_time": "2024-02-16T21:20:40.982Z"
   },
   {
    "duration": 4,
    "start_time": "2024-02-16T21:34:26.023Z"
   },
   {
    "duration": 111,
    "start_time": "2024-02-16T21:40:57.298Z"
   },
   {
    "duration": 7,
    "start_time": "2024-02-16T21:41:59.459Z"
   },
   {
    "duration": 72,
    "start_time": "2024-02-16T21:42:39.825Z"
   },
   {
    "duration": 6,
    "start_time": "2024-02-16T21:48:08.237Z"
   },
   {
    "duration": 7,
    "start_time": "2024-02-16T21:52:31.315Z"
   },
   {
    "duration": 8,
    "start_time": "2024-02-16T22:10:05.228Z"
   },
   {
    "duration": 12,
    "start_time": "2024-02-16T22:10:36.957Z"
   },
   {
    "duration": 6,
    "start_time": "2024-02-16T22:10:41.460Z"
   },
   {
    "duration": 6,
    "start_time": "2024-02-16T22:14:20.914Z"
   },
   {
    "duration": 6,
    "start_time": "2024-02-16T22:19:03.210Z"
   },
   {
    "duration": 75,
    "start_time": "2024-02-16T22:21:07.081Z"
   },
   {
    "duration": 1492,
    "start_time": "2024-02-16T22:22:03.997Z"
   },
   {
    "duration": 31,
    "start_time": "2024-02-16T22:22:05.491Z"
   },
   {
    "duration": 8,
    "start_time": "2024-02-16T22:22:05.532Z"
   },
   {
    "duration": 20,
    "start_time": "2024-02-16T22:22:05.542Z"
   },
   {
    "duration": 11,
    "start_time": "2024-02-16T22:22:05.565Z"
   },
   {
    "duration": 27,
    "start_time": "2024-02-16T22:22:05.578Z"
   },
   {
    "duration": 3,
    "start_time": "2024-02-16T22:22:05.607Z"
   },
   {
    "duration": 16,
    "start_time": "2024-02-16T22:22:05.612Z"
   },
   {
    "duration": 31,
    "start_time": "2024-02-16T22:22:05.630Z"
   },
   {
    "duration": 22,
    "start_time": "2024-02-16T22:22:05.663Z"
   },
   {
    "duration": 16,
    "start_time": "2024-02-16T22:22:05.687Z"
   },
   {
    "duration": 5,
    "start_time": "2024-02-16T22:22:05.705Z"
   },
   {
    "duration": 300,
    "start_time": "2024-02-16T22:22:05.711Z"
   },
   {
    "duration": 601,
    "start_time": "2024-02-16T22:22:06.013Z"
   },
   {
    "duration": 194,
    "start_time": "2024-02-16T22:22:06.616Z"
   },
   {
    "duration": 120832,
    "start_time": "2024-02-16T22:22:06.811Z"
   },
   {
    "duration": 6,
    "start_time": "2024-02-16T22:24:07.645Z"
   },
   {
    "duration": 12,
    "start_time": "2024-02-16T22:24:07.653Z"
   },
   {
    "duration": 6,
    "start_time": "2024-02-16T22:24:07.667Z"
   },
   {
    "duration": 43987,
    "start_time": "2024-02-16T22:24:07.675Z"
   },
   {
    "duration": 11,
    "start_time": "2024-02-16T22:24:51.663Z"
   },
   {
    "duration": 0,
    "start_time": "2024-02-16T22:24:51.808Z"
   },
   {
    "duration": 10,
    "start_time": "2024-02-16T22:25:01.722Z"
   },
   {
    "duration": 53,
    "start_time": "2024-02-17T09:54:18.782Z"
   },
   {
    "duration": 1743,
    "start_time": "2024-02-17T09:54:59.457Z"
   },
   {
    "duration": 117,
    "start_time": "2024-02-17T09:55:01.202Z"
   },
   {
    "duration": 5,
    "start_time": "2024-02-17T09:55:01.321Z"
   },
   {
    "duration": 41,
    "start_time": "2024-02-17T09:55:01.327Z"
   },
   {
    "duration": 38,
    "start_time": "2024-02-17T09:55:01.371Z"
   },
   {
    "duration": 31,
    "start_time": "2024-02-17T09:55:01.411Z"
   },
   {
    "duration": 24,
    "start_time": "2024-02-17T09:55:01.444Z"
   },
   {
    "duration": 44,
    "start_time": "2024-02-17T09:55:01.470Z"
   },
   {
    "duration": 38,
    "start_time": "2024-02-17T09:55:01.515Z"
   },
   {
    "duration": 12,
    "start_time": "2024-02-17T09:55:01.555Z"
   },
   {
    "duration": 23,
    "start_time": "2024-02-17T09:55:01.568Z"
   },
   {
    "duration": 33,
    "start_time": "2024-02-17T09:55:01.592Z"
   },
   {
    "duration": 338,
    "start_time": "2024-02-17T09:55:01.627Z"
   },
   {
    "duration": 605,
    "start_time": "2024-02-17T09:55:01.967Z"
   },
   {
    "duration": 559,
    "start_time": "2024-02-17T09:55:02.573Z"
   },
   {
    "duration": 119956,
    "start_time": "2024-02-17T09:55:03.135Z"
   },
   {
    "duration": 7,
    "start_time": "2024-02-17T09:57:03.093Z"
   },
   {
    "duration": 14,
    "start_time": "2024-02-17T09:57:03.102Z"
   },
   {
    "duration": 8,
    "start_time": "2024-02-17T09:57:03.118Z"
   },
   {
    "duration": 42972,
    "start_time": "2024-02-17T09:57:03.127Z"
   },
   {
    "duration": 11,
    "start_time": "2024-02-17T09:57:46.100Z"
   },
   {
    "duration": 24,
    "start_time": "2024-02-17T09:57:46.113Z"
   },
   {
    "duration": 16,
    "start_time": "2024-02-17T09:58:12.694Z"
   },
   {
    "duration": 15,
    "start_time": "2024-02-17T09:58:33.542Z"
   },
   {
    "duration": 16,
    "start_time": "2024-02-17T09:58:53.567Z"
   },
   {
    "duration": 75,
    "start_time": "2024-02-17T09:59:40.928Z"
   },
   {
    "duration": 73,
    "start_time": "2024-02-17T10:58:38.976Z"
   },
   {
    "duration": 73,
    "start_time": "2024-02-17T11:10:30.208Z"
   },
   {
    "duration": 74,
    "start_time": "2024-02-17T11:11:54.691Z"
   },
   {
    "duration": 75,
    "start_time": "2024-02-17T11:14:07.351Z"
   },
   {
    "duration": 66,
    "start_time": "2024-02-17T11:33:24.782Z"
   },
   {
    "duration": 1527,
    "start_time": "2024-02-17T11:37:13.653Z"
   },
   {
    "duration": 38,
    "start_time": "2024-02-17T11:37:15.183Z"
   },
   {
    "duration": 6,
    "start_time": "2024-02-17T11:37:15.225Z"
   },
   {
    "duration": 18,
    "start_time": "2024-02-17T11:37:15.234Z"
   },
   {
    "duration": 32,
    "start_time": "2024-02-17T11:37:15.254Z"
   },
   {
    "duration": 57,
    "start_time": "2024-02-17T11:37:15.288Z"
   },
   {
    "duration": 13,
    "start_time": "2024-02-17T11:37:15.347Z"
   },
   {
    "duration": 17,
    "start_time": "2024-02-17T11:37:15.362Z"
   },
   {
    "duration": 18,
    "start_time": "2024-02-17T11:37:15.380Z"
   },
   {
    "duration": 28,
    "start_time": "2024-02-17T11:37:15.400Z"
   },
   {
    "duration": 22,
    "start_time": "2024-02-17T11:37:15.430Z"
   },
   {
    "duration": 9,
    "start_time": "2024-02-17T11:37:15.454Z"
   },
   {
    "duration": 325,
    "start_time": "2024-02-17T11:37:15.466Z"
   },
   {
    "duration": 583,
    "start_time": "2024-02-17T11:37:15.793Z"
   },
   {
    "duration": 119620,
    "start_time": "2024-02-17T11:37:16.378Z"
   },
   {
    "duration": 6,
    "start_time": "2024-02-17T11:39:15.999Z"
   },
   {
    "duration": 18,
    "start_time": "2024-02-17T11:39:16.007Z"
   },
   {
    "duration": 11,
    "start_time": "2024-02-17T11:39:16.027Z"
   },
   {
    "duration": 81,
    "start_time": "2024-02-17T11:39:16.059Z"
   },
   {
    "duration": 18,
    "start_time": "2024-02-17T11:39:16.142Z"
   },
   {
    "duration": 1510,
    "start_time": "2024-02-17T11:47:30.724Z"
   },
   {
    "duration": 32,
    "start_time": "2024-02-17T11:47:32.236Z"
   },
   {
    "duration": 5,
    "start_time": "2024-02-17T11:47:32.270Z"
   },
   {
    "duration": 41,
    "start_time": "2024-02-17T11:47:32.278Z"
   },
   {
    "duration": 47,
    "start_time": "2024-02-17T11:47:32.321Z"
   },
   {
    "duration": 49,
    "start_time": "2024-02-17T11:47:32.370Z"
   },
   {
    "duration": 26,
    "start_time": "2024-02-17T11:47:32.420Z"
   },
   {
    "duration": 32,
    "start_time": "2024-02-17T11:47:32.448Z"
   },
   {
    "duration": 26,
    "start_time": "2024-02-17T11:47:32.481Z"
   },
   {
    "duration": 28,
    "start_time": "2024-02-17T11:47:32.510Z"
   },
   {
    "duration": 40,
    "start_time": "2024-02-17T11:47:32.539Z"
   },
   {
    "duration": 22,
    "start_time": "2024-02-17T11:47:32.581Z"
   },
   {
    "duration": 316,
    "start_time": "2024-02-17T11:47:32.604Z"
   },
   {
    "duration": 647,
    "start_time": "2024-02-17T11:47:32.921Z"
   },
   {
    "duration": 122492,
    "start_time": "2024-02-17T11:47:33.569Z"
   },
   {
    "duration": 7,
    "start_time": "2024-02-17T11:49:36.063Z"
   },
   {
    "duration": 12,
    "start_time": "2024-02-17T11:49:36.071Z"
   },
   {
    "duration": 8,
    "start_time": "2024-02-17T11:49:36.085Z"
   },
   {
    "duration": 138,
    "start_time": "2024-02-17T11:49:36.095Z"
   },
   {
    "duration": 6,
    "start_time": "2024-02-17T11:49:36.236Z"
   },
   {
    "duration": 1456,
    "start_time": "2024-02-17T11:55:24.438Z"
   },
   {
    "duration": 31,
    "start_time": "2024-02-17T11:55:25.896Z"
   },
   {
    "duration": 5,
    "start_time": "2024-02-17T11:55:25.929Z"
   },
   {
    "duration": 35,
    "start_time": "2024-02-17T11:55:25.937Z"
   },
   {
    "duration": 17,
    "start_time": "2024-02-17T11:55:25.974Z"
   },
   {
    "duration": 38,
    "start_time": "2024-02-17T11:55:25.993Z"
   },
   {
    "duration": 4,
    "start_time": "2024-02-17T11:55:26.033Z"
   },
   {
    "duration": 13,
    "start_time": "2024-02-17T11:55:26.038Z"
   },
   {
    "duration": 8,
    "start_time": "2024-02-17T11:55:26.053Z"
   },
   {
    "duration": 21,
    "start_time": "2024-02-17T11:55:26.063Z"
   },
   {
    "duration": 16,
    "start_time": "2024-02-17T11:55:26.086Z"
   },
   {
    "duration": 12,
    "start_time": "2024-02-17T11:55:26.104Z"
   },
   {
    "duration": 295,
    "start_time": "2024-02-17T11:55:26.118Z"
   },
   {
    "duration": 593,
    "start_time": "2024-02-17T11:55:26.415Z"
   },
   {
    "duration": 122194,
    "start_time": "2024-02-17T11:55:27.010Z"
   },
   {
    "duration": 6,
    "start_time": "2024-02-17T11:57:29.207Z"
   },
   {
    "duration": 23,
    "start_time": "2024-02-17T11:57:29.214Z"
   },
   {
    "duration": 20,
    "start_time": "2024-02-17T11:57:29.239Z"
   },
   {
    "duration": 77,
    "start_time": "2024-02-17T11:57:29.261Z"
   },
   {
    "duration": 20,
    "start_time": "2024-02-17T11:57:29.340Z"
   }
  ],
  "kernelspec": {
   "display_name": "Python 3 (ipykernel)",
   "language": "python",
   "name": "python3"
  },
  "language_info": {
   "codemirror_mode": {
    "name": "ipython",
    "version": 3
   },
   "file_extension": ".py",
   "mimetype": "text/x-python",
   "name": "python",
   "nbconvert_exporter": "python",
   "pygments_lexer": "ipython3",
   "version": "3.11.5"
  },
  "toc": {
   "base_numbering": 1,
   "nav_menu": {},
   "number_sections": true,
   "sideBar": true,
   "skip_h1_title": true,
   "title_cell": "Table of Contents",
   "title_sidebar": "Contents",
   "toc_cell": false,
   "toc_position": {},
   "toc_section_display": true,
   "toc_window_display": false
  }
 },
 "nbformat": 4,
 "nbformat_minor": 2
}
