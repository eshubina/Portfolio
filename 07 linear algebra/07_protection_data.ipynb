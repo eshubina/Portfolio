{
 "cells": [
  {
   "cell_type": "markdown",
   "metadata": {},
   "source": [
    "# Защита персональных данных клиентов"
   ]
  },
  {
   "cell_type": "markdown",
   "metadata": {},
   "source": [
    "Необходимо защитить данные клиентов страховой компании «Хоть потоп». Разработайте такой метод преобразования данных, чтобы по ним было сложно восстановить персональную информацию. Обоснуйте корректность его работы.\n",
    "\n",
    "Нужно защитить данные, чтобы при преобразовании качество моделей машинного обучения не ухудшилось. Подбирать наилучшую модель не требуется."
   ]
  },
  {
   "cell_type": "markdown",
   "metadata": {},
   "source": [
    "## Загрузка данных"
   ]
  },
  {
   "cell_type": "code",
   "execution_count": 1,
   "metadata": {},
   "outputs": [],
   "source": [
    "import pandas as pd\n",
    "import numpy as np\n",
    "import matplotlib.pyplot as plt\n",
    "import seaborn as sns\n",
    "\n",
    "from sklearn.linear_model import LinearRegression\n",
    "from sklearn.model_selection import train_test_split\n",
    "from sklearn.metrics import r2_score"
   ]
  },
  {
   "cell_type": "code",
   "execution_count": 2,
   "metadata": {},
   "outputs": [],
   "source": [
    "data = pd.read_csv('/datasets/insurance.csv') #прочитаем файл"
   ]
  },
  {
   "cell_type": "code",
   "execution_count": 3,
   "metadata": {},
   "outputs": [],
   "source": [
    "def discover(data):\n",
    "    display(data.describe())\n",
    "    display(data.info())\n",
    "    display(f'Количество пропусков:{data.isna().sum()}')\n",
    "    display(f'Количество дубликатов:{data.duplicated().sum()}')"
   ]
  },
  {
   "cell_type": "code",
   "execution_count": 4,
   "metadata": {},
   "outputs": [
    {
     "data": {
      "text/html": [
       "<div>\n",
       "<style scoped>\n",
       "    .dataframe tbody tr th:only-of-type {\n",
       "        vertical-align: middle;\n",
       "    }\n",
       "\n",
       "    .dataframe tbody tr th {\n",
       "        vertical-align: top;\n",
       "    }\n",
       "\n",
       "    .dataframe thead th {\n",
       "        text-align: right;\n",
       "    }\n",
       "</style>\n",
       "<table border=\"1\" class=\"dataframe\">\n",
       "  <thead>\n",
       "    <tr style=\"text-align: right;\">\n",
       "      <th></th>\n",
       "      <th>Пол</th>\n",
       "      <th>Возраст</th>\n",
       "      <th>Зарплата</th>\n",
       "      <th>Члены семьи</th>\n",
       "      <th>Страховые выплаты</th>\n",
       "    </tr>\n",
       "  </thead>\n",
       "  <tbody>\n",
       "    <tr>\n",
       "      <th>count</th>\n",
       "      <td>5000.000000</td>\n",
       "      <td>5000.000000</td>\n",
       "      <td>5000.000000</td>\n",
       "      <td>5000.000000</td>\n",
       "      <td>5000.000000</td>\n",
       "    </tr>\n",
       "    <tr>\n",
       "      <th>mean</th>\n",
       "      <td>0.499000</td>\n",
       "      <td>30.952800</td>\n",
       "      <td>39916.360000</td>\n",
       "      <td>1.194200</td>\n",
       "      <td>0.148000</td>\n",
       "    </tr>\n",
       "    <tr>\n",
       "      <th>std</th>\n",
       "      <td>0.500049</td>\n",
       "      <td>8.440807</td>\n",
       "      <td>9900.083569</td>\n",
       "      <td>1.091387</td>\n",
       "      <td>0.463183</td>\n",
       "    </tr>\n",
       "    <tr>\n",
       "      <th>min</th>\n",
       "      <td>0.000000</td>\n",
       "      <td>18.000000</td>\n",
       "      <td>5300.000000</td>\n",
       "      <td>0.000000</td>\n",
       "      <td>0.000000</td>\n",
       "    </tr>\n",
       "    <tr>\n",
       "      <th>25%</th>\n",
       "      <td>0.000000</td>\n",
       "      <td>24.000000</td>\n",
       "      <td>33300.000000</td>\n",
       "      <td>0.000000</td>\n",
       "      <td>0.000000</td>\n",
       "    </tr>\n",
       "    <tr>\n",
       "      <th>50%</th>\n",
       "      <td>0.000000</td>\n",
       "      <td>30.000000</td>\n",
       "      <td>40200.000000</td>\n",
       "      <td>1.000000</td>\n",
       "      <td>0.000000</td>\n",
       "    </tr>\n",
       "    <tr>\n",
       "      <th>75%</th>\n",
       "      <td>1.000000</td>\n",
       "      <td>37.000000</td>\n",
       "      <td>46600.000000</td>\n",
       "      <td>2.000000</td>\n",
       "      <td>0.000000</td>\n",
       "    </tr>\n",
       "    <tr>\n",
       "      <th>max</th>\n",
       "      <td>1.000000</td>\n",
       "      <td>65.000000</td>\n",
       "      <td>79000.000000</td>\n",
       "      <td>6.000000</td>\n",
       "      <td>5.000000</td>\n",
       "    </tr>\n",
       "  </tbody>\n",
       "</table>\n",
       "</div>"
      ],
      "text/plain": [
       "               Пол      Возраст      Зарплата  Члены семьи  Страховые выплаты\n",
       "count  5000.000000  5000.000000   5000.000000  5000.000000        5000.000000\n",
       "mean      0.499000    30.952800  39916.360000     1.194200           0.148000\n",
       "std       0.500049     8.440807   9900.083569     1.091387           0.463183\n",
       "min       0.000000    18.000000   5300.000000     0.000000           0.000000\n",
       "25%       0.000000    24.000000  33300.000000     0.000000           0.000000\n",
       "50%       0.000000    30.000000  40200.000000     1.000000           0.000000\n",
       "75%       1.000000    37.000000  46600.000000     2.000000           0.000000\n",
       "max       1.000000    65.000000  79000.000000     6.000000           5.000000"
      ]
     },
     "metadata": {},
     "output_type": "display_data"
    },
    {
     "name": "stdout",
     "output_type": "stream",
     "text": [
      "<class 'pandas.core.frame.DataFrame'>\n",
      "RangeIndex: 5000 entries, 0 to 4999\n",
      "Data columns (total 5 columns):\n",
      " #   Column             Non-Null Count  Dtype  \n",
      "---  ------             --------------  -----  \n",
      " 0   Пол                5000 non-null   int64  \n",
      " 1   Возраст            5000 non-null   float64\n",
      " 2   Зарплата           5000 non-null   float64\n",
      " 3   Члены семьи        5000 non-null   int64  \n",
      " 4   Страховые выплаты  5000 non-null   int64  \n",
      "dtypes: float64(2), int64(3)\n",
      "memory usage: 195.4 KB\n"
     ]
    },
    {
     "data": {
      "text/plain": [
       "None"
      ]
     },
     "metadata": {},
     "output_type": "display_data"
    },
    {
     "data": {
      "text/plain": [
       "'Количество пропусков:Пол                  0\\nВозраст              0\\nЗарплата             0\\nЧлены семьи          0\\nСтраховые выплаты    0\\ndtype: int64'"
      ]
     },
     "metadata": {},
     "output_type": "display_data"
    },
    {
     "data": {
      "text/plain": [
       "'Количество дубликатов:153'"
      ]
     },
     "metadata": {},
     "output_type": "display_data"
    }
   ],
   "source": [
    "discover(data)"
   ]
  },
  {
   "cell_type": "markdown",
   "metadata": {},
   "source": [
    "Удалим дубликаты"
   ]
  },
  {
   "cell_type": "code",
   "execution_count": 5,
   "metadata": {},
   "outputs": [],
   "source": [
    "data = data.drop_duplicates()"
   ]
  },
  {
   "cell_type": "markdown",
   "metadata": {},
   "source": [
    "Переименуем столбцы и заменим тип данных для удобства"
   ]
  },
  {
   "cell_type": "code",
   "execution_count": 6,
   "metadata": {},
   "outputs": [],
   "source": [
    "data.columns = ['gender', 'age', 'salary', 'family_members', 'insurance_payments']"
   ]
  },
  {
   "cell_type": "code",
   "execution_count": 7,
   "metadata": {},
   "outputs": [],
   "source": [
    "data = data.astype('int')"
   ]
  },
  {
   "cell_type": "code",
   "execution_count": 8,
   "metadata": {
    "scrolled": true
   },
   "outputs": [
    {
     "data": {
      "text/html": [
       "<div>\n",
       "<style scoped>\n",
       "    .dataframe tbody tr th:only-of-type {\n",
       "        vertical-align: middle;\n",
       "    }\n",
       "\n",
       "    .dataframe tbody tr th {\n",
       "        vertical-align: top;\n",
       "    }\n",
       "\n",
       "    .dataframe thead th {\n",
       "        text-align: right;\n",
       "    }\n",
       "</style>\n",
       "<table border=\"1\" class=\"dataframe\">\n",
       "  <thead>\n",
       "    <tr style=\"text-align: right;\">\n",
       "      <th></th>\n",
       "      <th>gender</th>\n",
       "      <th>age</th>\n",
       "      <th>salary</th>\n",
       "      <th>family_members</th>\n",
       "      <th>insurance_payments</th>\n",
       "    </tr>\n",
       "  </thead>\n",
       "  <tbody>\n",
       "    <tr>\n",
       "      <th>0</th>\n",
       "      <td>1</td>\n",
       "      <td>41</td>\n",
       "      <td>49600</td>\n",
       "      <td>1</td>\n",
       "      <td>0</td>\n",
       "    </tr>\n",
       "    <tr>\n",
       "      <th>1</th>\n",
       "      <td>0</td>\n",
       "      <td>46</td>\n",
       "      <td>38000</td>\n",
       "      <td>1</td>\n",
       "      <td>1</td>\n",
       "    </tr>\n",
       "    <tr>\n",
       "      <th>2</th>\n",
       "      <td>0</td>\n",
       "      <td>29</td>\n",
       "      <td>21000</td>\n",
       "      <td>0</td>\n",
       "      <td>0</td>\n",
       "    </tr>\n",
       "    <tr>\n",
       "      <th>3</th>\n",
       "      <td>0</td>\n",
       "      <td>21</td>\n",
       "      <td>41700</td>\n",
       "      <td>2</td>\n",
       "      <td>0</td>\n",
       "    </tr>\n",
       "    <tr>\n",
       "      <th>4</th>\n",
       "      <td>1</td>\n",
       "      <td>28</td>\n",
       "      <td>26100</td>\n",
       "      <td>0</td>\n",
       "      <td>0</td>\n",
       "    </tr>\n",
       "  </tbody>\n",
       "</table>\n",
       "</div>"
      ],
      "text/plain": [
       "   gender  age  salary  family_members  insurance_payments\n",
       "0       1   41   49600               1                   0\n",
       "1       0   46   38000               1                   1\n",
       "2       0   29   21000               0                   0\n",
       "3       0   21   41700               2                   0\n",
       "4       1   28   26100               0                   0"
      ]
     },
     "execution_count": 8,
     "metadata": {},
     "output_type": "execute_result"
    }
   ],
   "source": [
    "data.head(5) #проверим изменения"
   ]
  },
  {
   "cell_type": "markdown",
   "metadata": {},
   "source": [
    "**Соотношение клиентов по гендерному признаку**"
   ]
  },
  {
   "cell_type": "code",
   "execution_count": 9,
   "metadata": {},
   "outputs": [
    {
     "data": {
      "image/png": "[encoded data removed]",
      "text/plain": [
       "<Figure size 360x360 with 1 Axes>"
      ]
     },
     "metadata": {},
     "output_type": "display_data"
    }
   ],
   "source": [
    "data['gender'].value_counts().plot(\n",
    "    kind = 'pie',\n",
    "    y = data, \n",
    "    autopct='%1.0f%%',\n",
    "    figsize=(5,5),\n",
    "    title = 'Соотношение клиентов по гендерному признаку');"
   ]
  },
  {
   "cell_type": "markdown",
   "metadata": {},
   "source": [
    "**Возраст клиентов**"
   ]
  },
  {
   "cell_type": "code",
   "execution_count": 10,
   "metadata": {},
   "outputs": [
    {
     "data": {
      "image/png": "[encoded data removed]",
      "text/plain": [
       "<Figure size 1296x648 with 1 Axes>"
      ]
     },
     "metadata": {
      "needs_background": "light"
     },
     "output_type": "display_data"
    }
   ],
   "source": [
    "data['age'].value_counts(ascending=True).plot(\n",
    "    kind = 'bar',\n",
    "    xlabel = 'Возраст',\n",
    "    ylabel = 'Распределение',\n",
    "    figsize=(18,9),\n",
    "    title = 'Распределение клиентов по возрасту');"
   ]
  },
  {
   "cell_type": "markdown",
   "metadata": {},
   "source": [
    "**Заработная плата**"
   ]
  },
  {
   "cell_type": "code",
   "execution_count": 11,
   "metadata": {},
   "outputs": [
    {
     "name": "stdout",
     "output_type": "stream",
     "text": [
      "Заработная плата\n"
     ]
    },
    {
     "data": {
      "image/png": "[encoded data removed]",
      "text/plain": [
       "<Figure size 1296x504 with 1 Axes>"
      ]
     },
     "metadata": {
      "needs_background": "light"
     },
     "output_type": "display_data"
    }
   ],
   "source": [
    "data['salary'].hist(figsize=(18, 7), bins=100)\n",
    "print('Заработная плата')"
   ]
  },
  {
   "cell_type": "markdown",
   "metadata": {},
   "source": [
    "**Количество членов семьи**"
   ]
  },
  {
   "cell_type": "code",
   "execution_count": 12,
   "metadata": {},
   "outputs": [
    {
     "data": {
      "image/png": "[encoded data removed]",
      "text/plain": [
       "<Figure size 864x360 with 1 Axes>"
      ]
     },
     "metadata": {
      "needs_background": "light"
     },
     "output_type": "display_data"
    }
   ],
   "source": [
    "data['family_members'].value_counts(ascending=True).plot(\n",
    "    kind = 'barh',\n",
    "    x = 'user_id',\n",
    "    xlabel = 'Члены семьи',\n",
    "    figsize=(12,5),\n",
    "    title = 'Количество членов семьи'); #посмотрим диаграмму"
   ]
  },
  {
   "cell_type": "markdown",
   "metadata": {},
   "source": [
    "**Количество страховых выплат**"
   ]
  },
  {
   "cell_type": "code",
   "execution_count": 13,
   "metadata": {},
   "outputs": [
    {
     "data": {
      "image/png": "[encoded data removed]",
      "text/plain": [
       "<Figure size 648x288 with 1 Axes>"
      ]
     },
     "metadata": {
      "needs_background": "light"
     },
     "output_type": "display_data"
    }
   ],
   "source": [
    "data['insurance_payments'].value_counts(ascending=True).plot(\n",
    "    kind = 'barh',\n",
    "    x = 'user_id',\n",
    "    xlabel = 'Выплаты',\n",
    "    figsize=(9,4),\n",
    "    title = 'Количество страховых выплат');"
   ]
  },
  {
   "cell_type": "markdown",
   "metadata": {},
   "source": [
    "<div style=\"border:solid steelblue 2px; padding: 10px; border-radius: 5px\"> \n",
    "Пропуски в данных отсутствуют, удалила дубликаты, переименовала столбцы и заменила тип данных на целочисленный.<br>\n",
    "    \n",
    "    Соотношение клиентов по гендерному признаку практически одинаково.\n",
    "    Возраст застрахованных лиц от 18 до 65 лет, средний возраст составляет 31 год. \n",
    "    Средний доход около 40 тысяч рублей. \n",
    "    Наибольшее число застрахованных не получали страховые выплаты."
   ]
  },
  {
   "cell_type": "markdown",
   "metadata": {},
   "source": [
    "## Умножение матриц"
   ]
  },
  {
   "cell_type": "markdown",
   "metadata": {},
   "source": [
    "Обозначения:\n",
    "\n",
    "- $X$ — матрица признаков (нулевой столбец состоит из единиц)\n",
    "\n",
    "- $y$ — вектор целевого признака\n",
    "\n",
    "- $P$ — матрица, на которую умножаются признаки\n",
    "\n",
    "- $w$ — вектор весов линейной регрессии (нулевой элемент равен сдвигу)"
   ]
  },
  {
   "cell_type": "markdown",
   "metadata": {},
   "source": [
    "Предсказания:\n",
    "\n",
    "$$\n",
    "a = Xw\n",
    "$$\n",
    "\n",
    "Задача обучения:\n",
    "\n",
    "$$\n",
    "w = \\arg\\min_w MSE(Xw, y)\n",
    "$$\n",
    "\n",
    "Формула обучения:\n",
    "\n",
    "$$\n",
    "w = (X^T X)^{-1} X^T y\n",
    "$$"
   ]
  },
  {
   "cell_type": "markdown",
   "metadata": {},
   "source": [
    "Ответьте на вопрос и обоснуйте решение. \\\n",
    "Признаки умножают на обратимую матрицу. Изменится ли качество линейной регрессии? (Её можно обучить заново.)"
   ]
  },
  {
   "cell_type": "markdown",
   "metadata": {},
   "source": [
    "<div style=\"border:solid steelblue 2px; padding: 10px; border-radius: 5px\">\n",
    "    \n",
    "**Ответ:** Не изменится\n",
    "\n",
    "**Обоснование:** \n",
    "    \n",
    "Используем свойства обратной матрицы \n",
    "$$\n",
    "(𝐴𝐵)^{−1}=𝐵^{−1}𝐴^{−1}\n",
    "$$\n",
    " \n",
    "\n",
    "    \n",
    "Предсказания: $𝑎=𝑋𝑤$\n",
    " \n",
    "Формула обучения: $𝑤=(𝑋^𝑇𝑋)^{−1}𝑋^𝑇𝑦$\n",
    "\n",
    "    \n",
    "Вот какие математические операции содержит эта формула: \n",
    "- Транспонированная матрица признаков умножается на себя;\n",
    "- Вычисляется обратная к результату матрица;\n",
    "- Обратная умножается на транспонированную матрицу признаков;\n",
    "- Результат умножается на вектор значений целевого признака.\n",
    "<br>    \n",
    "\n",
    "    \n",
    "Заменим $w$ в формуле предсказания\n",
    "$$\n",
    "a = Xw = X(X^T X)^{-1} X^Ty\n",
    "$$\n",
    "$$\n",
    "a = X(X^T X)^{-1} X^Ty\n",
    "$$\n",
    "\n",
    "\n",
    "    \n",
    "Умножим $w$ вектор весов линейной регрессии на $P$ — матрица, на которую умножаются признаки\n",
    "    \n",
    "$$\n",
    "w = (X^T X)^{-1} X^Ty\n",
    "$$\n",
    "    \n",
    "$$\n",
    "w_P = ((XP)^T(XP))^{-1}(XP)^Ty\n",
    "$$\n",
    "    \n",
    "Применим к формуле предсказания и сократим\n",
    "    $$\n",
    "    a_P = XPw_P = XP((XP)^T(XP))^{-1}(XP)^Ty = XP(P^TX^TXP)^{-1}P^TX^Ty = XPP^{-1}(X^TX)^{-1}P^TX^Ty\n",
    "    $$\n",
    "\n",
    "здесь применим $AA^{-1} = A^{-1}A = E$\n",
    "    $$\n",
    "    a_P = XPP^{-1}(X^TX)^{-1}P^TX^Ty = XE(X^TX)^{-1}EX^Ty = X(X^TX)^{-1}X^Ty\n",
    "    $$\n",
    "    \n",
    "$$\n",
    "a_P = X(X^TX)^{-1}X^Ty\n",
    "$$\n",
    "\n",
    "Таким образом $a = a_P$"
   ]
  },
  {
   "cell_type": "markdown",
   "metadata": {},
   "source": [
    "<div style=\"border:solid steelblue 2px; padding: 10px; border-radius: 5px\"> \n",
    "$$\n",
    "w = (X^T X)^{-1} X^Ty\n",
    "$$\n",
    "    \n",
    "$$\n",
    "w_P = ((XP)^T(XP))^{-1}(XP)^Ty\n",
    "$$\n",
    "    \n",
    "    \n",
    "    "
   ]
  },
  {
   "cell_type": "markdown",
   "metadata": {},
   "source": [
    "<div style=\"border:solid steelblue 2px; padding: 10px; border-radius: 5px\"> \n",
    "\n",
    "Через свойства умножения матриц,транспонирования и обратных матриц\n",
    "  \n",
    "$$\n",
    "w_P = ((XP)^T(XP))^{-1}(XP)^Ty = ((P^T(X^TX)P)^{-1})P^TX^Ty = P^{-1}(X^TX)^{-1}(P^T)^{-1}P^TX^Ty = P^{-1}(X^TX)^{-1}X^Ty = P^{-1}w\n",
    "$$\n",
    "\n",
    "подставим результат $w_P$ в предсказание $a_P$ \n",
    "    \n",
    "    \n",
    "$$\n",
    "a_P = XPP^{-1}w = Xw = a\n",
    "$$\n",
    "    \n",
    "Таким образом $w_p = w$\n",
    "    "
   ]
  },
  {
   "cell_type": "markdown",
   "metadata": {},
   "source": [
    "<div class=\"alert-info\" style=\"padding: 20px; border-radius: 10px\"> \n",
    "$$\n",
    "w = \\arg\\min_w MSE(Xw, y)\n",
    "$$   \n",
    "формула задачи обучения линейной регрессии для функции потерь MSE, функция argmin() находит минимум и возвращает, при каком аргументе он был достигнут\n",
    "\n",
    "    \n",
    "здесь умножаем вектор весов линейной регрессии (нулевой элемент равен сдвигу) на матрицу, на которую умножаются признаки\n",
    "    \n",
    "$$\n",
    "w_P = \\arg\\min_w MSE(XPw_p, y)\n",
    "$$    "
   ]
  },
  {
   "cell_type": "markdown",
   "metadata": {},
   "source": [
    "## Алгоритм преобразования"
   ]
  },
  {
   "cell_type": "markdown",
   "metadata": {},
   "source": [
    "**Алгоритм**\n",
    "1. Создадим квадратную матрицу, равную количеству строк в матрице признаков.\n",
    "2. Проверим матрицу на обратимость.\n",
    "3. Зашифруем данные, умножив признаки на матрицу.\n"
   ]
  },
  {
   "cell_type": "markdown",
   "metadata": {},
   "source": [
    "**Обоснование**\n",
    "\n",
    "В пункте 2 пришли к выводу, что умножение матриц не повлиет на качество линейной регрессии.\n",
    "Преобразование матрицы признаков обеспечивает дополнительную безопасность."
   ]
  },
  {
   "cell_type": "markdown",
   "metadata": {},
   "source": [
    "## Проверка алгоритма"
   ]
  },
  {
   "cell_type": "markdown",
   "metadata": {},
   "source": [
    "Обозначим признаки и целевой признак"
   ]
  },
  {
   "cell_type": "code",
   "execution_count": 14,
   "metadata": {
    "scrolled": true
   },
   "outputs": [],
   "source": [
    "features = data.drop('insurance_payments', axis=1)\n",
    "target = data['insurance_payments']"
   ]
  },
  {
   "cell_type": "code",
   "execution_count": 15,
   "metadata": {},
   "outputs": [],
   "source": [
    "features_train, features_test, target_train, target_test = train_test_split(features, target, test_size=0.25, random_state=12345) \n",
    "#разделение на тестовую и тренировочную выборки"
   ]
  },
  {
   "cell_type": "code",
   "execution_count": 16,
   "metadata": {},
   "outputs": [
    {
     "name": "stdout",
     "output_type": "stream",
     "text": [
      "Значение метрики R2 на исходных данных 0.423077276158367\n"
     ]
    }
   ],
   "source": [
    "class LinearRegression:\n",
    "    def fit(self, train_features, train_target):\n",
    "        X = np.concatenate((np.ones((train_features.shape[0], 1)), train_features), axis=1)\n",
    "        y = train_target\n",
    "        w =  np.linalg.inv(X.T.dot(X)).dot(X.T).dot(y)\n",
    "        self.w = w[1:]\n",
    "        self.w0 = w[0]\n",
    "\n",
    "    def predict(self, test_features):\n",
    "        return test_features.dot(self.w) + self.w0\n",
    "    \n",
    "model = LinearRegression()\n",
    "model.fit(features_train, target_train)\n",
    "predictions = model.predict(features_test)\n",
    "print('Значение метрики R2 на исходных данных',r2_score(target_test, predictions))"
   ]
  },
  {
   "cell_type": "code",
   "execution_count": 17,
   "metadata": {},
   "outputs": [
    {
     "data": {
      "text/plain": [
       "array([[75, 61,  5, 20],\n",
       "       [11, 35, 12,  7],\n",
       "       [22, 78, 69, 71],\n",
       "       [67, 33, 18, 43]])"
      ]
     },
     "execution_count": 17,
     "metadata": {},
     "output_type": "execute_result"
    }
   ],
   "source": [
    "matrix = np.random.randint(80, size=(4, 4))\n",
    "matrix #квадратная матрица"
   ]
  },
  {
   "cell_type": "code",
   "execution_count": 18,
   "metadata": {},
   "outputs": [
    {
     "data": {
      "text/plain": [
       "array([[-0.23428794,  0.46152523, -0.12668241,  0.2430124 ],\n",
       "       [ 0.19903469, -0.35075551,  0.09807855, -0.1974182 ],\n",
       "       [-0.64777704,  1.25132415, -0.31909064,  0.6244583 ],\n",
       "       [ 0.48346823, -0.97374636,  0.25569211, -0.46528558]])"
      ]
     },
     "execution_count": 18,
     "metadata": {},
     "output_type": "execute_result"
    }
   ],
   "source": [
    "matrix_inv = np.linalg.inv(matrix)\n",
    "matrix_inv #обратная матрица"
   ]
  },
  {
   "cell_type": "markdown",
   "metadata": {},
   "source": [
    "Создадим новый датасет с зашифрованными данными, умножим данные на матрицу"
   ]
  },
  {
   "cell_type": "code",
   "execution_count": 19,
   "metadata": {},
   "outputs": [
    {
     "data": {
      "text/html": [
       "<div>\n",
       "<style scoped>\n",
       "    .dataframe tbody tr th:only-of-type {\n",
       "        vertical-align: middle;\n",
       "    }\n",
       "\n",
       "    .dataframe tbody tr th {\n",
       "        vertical-align: top;\n",
       "    }\n",
       "\n",
       "    .dataframe thead th {\n",
       "        text-align: right;\n",
       "    }\n",
       "</style>\n",
       "<table border=\"1\" class=\"dataframe\">\n",
       "  <thead>\n",
       "    <tr style=\"text-align: right;\">\n",
       "      <th></th>\n",
       "      <th>0</th>\n",
       "      <th>1</th>\n",
       "      <th>2</th>\n",
       "      <th>3</th>\n",
       "    </tr>\n",
       "  </thead>\n",
       "  <tbody>\n",
       "    <tr>\n",
       "      <th>0</th>\n",
       "      <td>1091793</td>\n",
       "      <td>3870329</td>\n",
       "      <td>3422915</td>\n",
       "      <td>3521950</td>\n",
       "    </tr>\n",
       "    <tr>\n",
       "      <th>1</th>\n",
       "      <td>836573</td>\n",
       "      <td>2965643</td>\n",
       "      <td>2622570</td>\n",
       "      <td>2698365</td>\n",
       "    </tr>\n",
       "    <tr>\n",
       "      <th>2</th>\n",
       "      <td>462319</td>\n",
       "      <td>1639015</td>\n",
       "      <td>1449348</td>\n",
       "      <td>1491203</td>\n",
       "    </tr>\n",
       "    <tr>\n",
       "      <th>3</th>\n",
       "      <td>917765</td>\n",
       "      <td>3253401</td>\n",
       "      <td>2877588</td>\n",
       "      <td>2960933</td>\n",
       "    </tr>\n",
       "    <tr>\n",
       "      <th>4</th>\n",
       "      <td>574583</td>\n",
       "      <td>2036841</td>\n",
       "      <td>1801241</td>\n",
       "      <td>1853316</td>\n",
       "    </tr>\n",
       "    <tr>\n",
       "      <th>...</th>\n",
       "      <td>...</td>\n",
       "      <td>...</td>\n",
       "      <td>...</td>\n",
       "      <td>...</td>\n",
       "    </tr>\n",
       "    <tr>\n",
       "      <th>4995</th>\n",
       "      <td>785842</td>\n",
       "      <td>2785646</td>\n",
       "      <td>2463672</td>\n",
       "      <td>2534982</td>\n",
       "    </tr>\n",
       "    <tr>\n",
       "      <th>4996</th>\n",
       "      <td>1153241</td>\n",
       "      <td>4088423</td>\n",
       "      <td>3616026</td>\n",
       "      <td>3720681</td>\n",
       "    </tr>\n",
       "    <tr>\n",
       "      <th>4997</th>\n",
       "      <td>746154</td>\n",
       "      <td>2644966</td>\n",
       "      <td>2339376</td>\n",
       "      <td>2407126</td>\n",
       "    </tr>\n",
       "    <tr>\n",
       "      <th>4998</th>\n",
       "      <td>719918</td>\n",
       "      <td>2551530</td>\n",
       "      <td>2256623</td>\n",
       "      <td>2322003</td>\n",
       "    </tr>\n",
       "    <tr>\n",
       "      <th>4999</th>\n",
       "      <td>893650</td>\n",
       "      <td>3167874</td>\n",
       "      <td>2801759</td>\n",
       "      <td>2882859</td>\n",
       "    </tr>\n",
       "  </tbody>\n",
       "</table>\n",
       "<p>4847 rows × 4 columns</p>\n",
       "</div>"
      ],
      "text/plain": [
       "            0        1        2        3\n",
       "0     1091793  3870329  3422915  3521950\n",
       "1      836573  2965643  2622570  2698365\n",
       "2      462319  1639015  1449348  1491203\n",
       "3      917765  3253401  2877588  2960933\n",
       "4      574583  2036841  1801241  1853316\n",
       "...       ...      ...      ...      ...\n",
       "4995   785842  2785646  2463672  2534982\n",
       "4996  1153241  4088423  3616026  3720681\n",
       "4997   746154  2644966  2339376  2407126\n",
       "4998   719918  2551530  2256623  2322003\n",
       "4999   893650  3167874  2801759  2882859\n",
       "\n",
       "[4847 rows x 4 columns]"
      ]
     },
     "metadata": {},
     "output_type": "display_data"
    }
   ],
   "source": [
    "data_new = features @ matrix\n",
    "display(data_new)"
   ]
  },
  {
   "cell_type": "code",
   "execution_count": 20,
   "metadata": {},
   "outputs": [
    {
     "name": "stdout",
     "output_type": "stream",
     "text": [
      "Значение метрики R2 на преобразованных данных 0.4230985904976028\n"
     ]
    }
   ],
   "source": [
    "features_train = features_train.dot(matrix)\n",
    "features_test = features_test.dot(matrix)\n",
    "    \n",
    "model = LinearRegression()\n",
    "model.fit(features_train, target_train)\n",
    "predictions = model.predict(features_test)\n",
    "print('Значение метрики R2 на преобразованных данных',r2_score(target_test, predictions))"
   ]
  },
  {
   "cell_type": "markdown",
   "metadata": {},
   "source": [
    "<div class=\"alert-info\" style=\"padding: 20px; border-radius: 10px\">  \n",
    "Качество линейной регрессии до и после преобразования не отличается:<br/>  \n",
    "\n",
    "Значение метрики R2 на исходных данных 0.423077276158367<br/> \n",
    "Значение метрики R2 на преобразованных данных 0.4230772761583761"
   ]
  },
  {
   "cell_type": "markdown",
   "metadata": {},
   "source": [
    "<div class=\"alert-info\" style=\"padding: 20px; border-radius: 10px\">\n",
    "При загрузке и предобработке данных:<br/>\n",
    "Пропуски в данных отсутствуют, удалила дубликаты, переименовала столбцы и заменила тип данных на целочисленный.\n",
    "Соотношение клиентов по гендерному признаку практически одинаково.\n",
    "Возраст застрахованных лиц от 18 до 65 лет, средний возраст составляет 31 год. \n",
    "Средний доход около 40 тысяч рублей. \n",
    "Наибольшее число застрахованных не получали страховые выплаты.<br/>\n",
    "    \n",
    "    \n",
    "При умножении признаков на обратимую матрицу качество линейной регрессии не изменится.\n",
    "\n",
    "    \n",
    "Преобразование матрицы признаков обеспечивает дополнительную безопасность.\n",
    "    \n",
    "Качество линейной регрессии до и после преобразования не отличается:\n",
    "- Значение метрики R2 на исходных данных 0.423077276158367\n",
    "- Значение метрики R2 на преобразованных данных 0.4230772761583761"
   ]
  }
 ],
 "metadata": {
  "ExecuteTimeLog": [
   {
    "duration": 1441,
    "start_time": "2024-04-12T10:03:06.104Z"
   },
   {
    "duration": 74,
    "start_time": "2024-04-12T10:04:29.331Z"
   },
   {
    "duration": 4,
    "start_time": "2024-04-12T10:05:58.451Z"
   },
   {
    "duration": 3,
    "start_time": "2024-04-12T10:10:13.345Z"
   },
   {
    "duration": 44,
    "start_time": "2024-04-12T10:10:22.886Z"
   },
   {
    "duration": 5,
    "start_time": "2024-04-12T10:22:40.799Z"
   },
   {
    "duration": 3,
    "start_time": "2024-04-12T10:27:09.423Z"
   },
   {
    "duration": 3,
    "start_time": "2024-04-12T10:28:53.257Z"
   },
   {
    "duration": 7,
    "start_time": "2024-04-12T10:29:05.354Z"
   },
   {
    "duration": 8,
    "start_time": "2024-04-12T10:29:23.422Z"
   },
   {
    "duration": 3,
    "start_time": "2024-04-12T10:29:42.676Z"
   },
   {
    "duration": 2,
    "start_time": "2024-04-12T10:29:44.253Z"
   },
   {
    "duration": 3,
    "start_time": "2024-04-12T10:30:40.949Z"
   },
   {
    "duration": 3,
    "start_time": "2024-04-12T10:30:41.665Z"
   },
   {
    "duration": 7,
    "start_time": "2024-04-12T10:30:42.242Z"
   },
   {
    "duration": 27,
    "start_time": "2024-04-12T10:36:41.152Z"
   },
   {
    "duration": 52,
    "start_time": "2024-04-12T10:55:40.534Z"
   },
   {
    "duration": 5,
    "start_time": "2024-04-12T10:55:44.922Z"
   },
   {
    "duration": 104,
    "start_time": "2024-04-12T11:00:57.578Z"
   },
   {
    "duration": 3,
    "start_time": "2024-04-12T11:01:26.472Z"
   },
   {
    "duration": 10,
    "start_time": "2024-04-12T11:02:59.574Z"
   },
   {
    "duration": 6,
    "start_time": "2024-04-12T11:03:04.985Z"
   },
   {
    "duration": 86,
    "start_time": "2024-04-12T11:04:45.595Z"
   },
   {
    "duration": 20,
    "start_time": "2024-04-12T11:07:42.121Z"
   },
   {
    "duration": 9,
    "start_time": "2024-04-12T12:30:44.188Z"
   },
   {
    "duration": 952,
    "start_time": "2024-04-12T12:30:55.221Z"
   },
   {
    "duration": 879,
    "start_time": "2024-04-12T12:31:07.861Z"
   },
   {
    "duration": 1043,
    "start_time": "2024-04-12T12:31:16.218Z"
   },
   {
    "duration": 6,
    "start_time": "2024-04-12T15:06:41.132Z"
   },
   {
    "duration": 12,
    "start_time": "2024-04-12T15:15:51.385Z"
   },
   {
    "duration": 5,
    "start_time": "2024-04-12T15:15:57.443Z"
   },
   {
    "duration": 8,
    "start_time": "2024-04-12T15:18:24.230Z"
   },
   {
    "duration": 10,
    "start_time": "2024-04-12T15:18:30.908Z"
   },
   {
    "duration": 7,
    "start_time": "2024-04-12T15:18:38.758Z"
   },
   {
    "duration": 5,
    "start_time": "2024-04-12T15:19:24.358Z"
   },
   {
    "duration": 46,
    "start_time": "2024-04-12T15:42:56.780Z"
   },
   {
    "duration": 10,
    "start_time": "2024-04-12T15:43:02.009Z"
   },
   {
    "duration": 11,
    "start_time": "2024-04-12T15:44:11.523Z"
   },
   {
    "duration": 3,
    "start_time": "2024-04-12T15:46:28.435Z"
   },
   {
    "duration": 3,
    "start_time": "2024-04-12T15:47:21.108Z"
   },
   {
    "duration": 3,
    "start_time": "2024-04-12T16:04:40.336Z"
   },
   {
    "duration": 60,
    "start_time": "2024-04-12T16:12:39.887Z"
   },
   {
    "duration": 6,
    "start_time": "2024-04-12T16:12:44.362Z"
   },
   {
    "duration": 49,
    "start_time": "2024-04-12T16:13:25.082Z"
   },
   {
    "duration": 9,
    "start_time": "2024-04-12T16:39:35.692Z"
   },
   {
    "duration": 11,
    "start_time": "2024-04-12T16:39:39.238Z"
   },
   {
    "duration": 3,
    "start_time": "2024-04-12T16:57:35.116Z"
   },
   {
    "duration": 4,
    "start_time": "2024-04-12T17:00:03.668Z"
   },
   {
    "duration": 46,
    "start_time": "2024-04-12T17:00:23.501Z"
   },
   {
    "duration": 3,
    "start_time": "2024-04-12T17:02:56.433Z"
   },
   {
    "duration": 6,
    "start_time": "2024-04-12T18:02:28.999Z"
   },
   {
    "duration": 5,
    "start_time": "2024-04-12T18:02:57.895Z"
   },
   {
    "duration": 5,
    "start_time": "2024-04-12T18:03:02.765Z"
   },
   {
    "duration": 10,
    "start_time": "2024-04-12T18:04:01.481Z"
   },
   {
    "duration": 4,
    "start_time": "2024-04-12T18:04:42.888Z"
   },
   {
    "duration": 4,
    "start_time": "2024-04-12T18:05:36.389Z"
   },
   {
    "duration": 4,
    "start_time": "2024-04-12T18:06:03.290Z"
   },
   {
    "duration": 4,
    "start_time": "2024-04-12T18:06:07.672Z"
   },
   {
    "duration": 5,
    "start_time": "2024-04-12T18:06:11.066Z"
   },
   {
    "duration": 5,
    "start_time": "2024-04-12T18:06:29.530Z"
   },
   {
    "duration": 5,
    "start_time": "2024-04-12T18:06:49.262Z"
   },
   {
    "duration": 8,
    "start_time": "2024-04-12T18:07:30.544Z"
   },
   {
    "duration": 9,
    "start_time": "2024-04-12T18:10:33.098Z"
   },
   {
    "duration": 9,
    "start_time": "2024-04-12T18:10:39.612Z"
   },
   {
    "duration": 187,
    "start_time": "2024-04-12T18:12:06.860Z"
   },
   {
    "duration": 8,
    "start_time": "2024-04-12T18:13:58.205Z"
   },
   {
    "duration": 8,
    "start_time": "2024-04-12T18:15:52.348Z"
   },
   {
    "duration": 8,
    "start_time": "2024-04-12T18:15:56.780Z"
   },
   {
    "duration": 8,
    "start_time": "2024-04-12T18:23:44.045Z"
   },
   {
    "duration": 11,
    "start_time": "2024-04-12T18:29:16.798Z"
   },
   {
    "duration": 9,
    "start_time": "2024-04-12T18:29:40.223Z"
   },
   {
    "duration": 2,
    "start_time": "2024-04-12T18:30:16.352Z"
   },
   {
    "duration": 8,
    "start_time": "2024-04-12T18:30:26.065Z"
   },
   {
    "duration": 8,
    "start_time": "2024-04-12T18:30:58.476Z"
   },
   {
    "duration": 9,
    "start_time": "2024-04-12T18:31:09.247Z"
   },
   {
    "duration": 7,
    "start_time": "2024-04-12T18:32:16.388Z"
   },
   {
    "duration": 8,
    "start_time": "2024-04-12T18:32:30.396Z"
   },
   {
    "duration": 7,
    "start_time": "2024-04-12T18:34:41.728Z"
   },
   {
    "duration": 9,
    "start_time": "2024-04-12T18:34:50.086Z"
   },
   {
    "duration": 8,
    "start_time": "2024-04-12T18:35:43.439Z"
   },
   {
    "duration": 7,
    "start_time": "2024-04-12T18:39:36.023Z"
   },
   {
    "duration": 3,
    "start_time": "2024-04-12T18:42:21.110Z"
   },
   {
    "duration": 7,
    "start_time": "2024-04-12T18:42:22.239Z"
   },
   {
    "duration": 5,
    "start_time": "2024-04-12T18:42:27.593Z"
   },
   {
    "duration": 4,
    "start_time": "2024-04-12T18:42:28.383Z"
   },
   {
    "duration": 8,
    "start_time": "2024-04-12T18:42:31.914Z"
   },
   {
    "duration": 8,
    "start_time": "2024-04-12T18:42:35.589Z"
   },
   {
    "duration": 6,
    "start_time": "2024-04-12T18:42:45.250Z"
   },
   {
    "duration": 8,
    "start_time": "2024-04-12T18:42:46.138Z"
   },
   {
    "duration": 6,
    "start_time": "2024-04-12T18:42:46.747Z"
   },
   {
    "duration": 5,
    "start_time": "2024-04-12T18:42:47.019Z"
   },
   {
    "duration": 8,
    "start_time": "2024-04-12T18:42:47.481Z"
   },
   {
    "duration": 8,
    "start_time": "2024-04-12T18:42:47.714Z"
   },
   {
    "duration": 7,
    "start_time": "2024-04-12T18:46:57.893Z"
   },
   {
    "duration": 1070,
    "start_time": "2024-04-12T19:02:06.126Z"
   },
   {
    "duration": 875,
    "start_time": "2024-04-12T19:02:12.515Z"
   },
   {
    "duration": 1069,
    "start_time": "2024-04-12T19:03:42.546Z"
   },
   {
    "duration": 29,
    "start_time": "2024-04-12T19:03:43.617Z"
   },
   {
    "duration": 3,
    "start_time": "2024-04-12T19:03:43.647Z"
   },
   {
    "duration": 36,
    "start_time": "2024-04-12T19:03:43.652Z"
   },
   {
    "duration": 4,
    "start_time": "2024-04-12T19:03:43.690Z"
   },
   {
    "duration": 3,
    "start_time": "2024-04-12T19:03:43.696Z"
   },
   {
    "duration": 4,
    "start_time": "2024-04-12T19:03:43.701Z"
   },
   {
    "duration": 6,
    "start_time": "2024-04-12T19:03:43.707Z"
   },
   {
    "duration": 1003,
    "start_time": "2024-04-12T19:03:43.715Z"
   },
   {
    "duration": 4,
    "start_time": "2024-04-12T19:03:44.719Z"
   },
   {
    "duration": 5,
    "start_time": "2024-04-12T19:03:44.724Z"
   },
   {
    "duration": 82,
    "start_time": "2024-04-12T19:03:44.730Z"
   },
   {
    "duration": 5,
    "start_time": "2024-04-12T19:03:44.845Z"
   },
   {
    "duration": 94,
    "start_time": "2024-04-12T19:03:44.852Z"
   },
   {
    "duration": 9,
    "start_time": "2024-04-12T19:03:44.948Z"
   },
   {
    "duration": 7,
    "start_time": "2024-04-12T19:03:44.958Z"
   },
   {
    "duration": 2836,
    "start_time": "2024-04-12T19:18:14.327Z"
   },
   {
    "duration": 99,
    "start_time": "2024-04-12T19:18:17.165Z"
   },
   {
    "duration": 4,
    "start_time": "2024-04-12T19:18:17.265Z"
   },
   {
    "duration": 43,
    "start_time": "2024-04-12T19:18:17.270Z"
   },
   {
    "duration": 5,
    "start_time": "2024-04-12T19:18:17.315Z"
   },
   {
    "duration": 9,
    "start_time": "2024-04-12T19:18:17.322Z"
   },
   {
    "duration": 28,
    "start_time": "2024-04-12T19:18:17.332Z"
   },
   {
    "duration": 29,
    "start_time": "2024-04-12T19:18:17.362Z"
   },
   {
    "duration": 1494,
    "start_time": "2024-04-12T19:18:17.393Z"
   },
   {
    "duration": 3,
    "start_time": "2024-04-12T19:18:18.891Z"
   },
   {
    "duration": 18,
    "start_time": "2024-04-12T19:18:18.896Z"
   },
   {
    "duration": 14,
    "start_time": "2024-04-12T19:18:18.916Z"
   },
   {
    "duration": 6,
    "start_time": "2024-04-12T19:18:18.993Z"
   },
   {
    "duration": 104,
    "start_time": "2024-04-12T19:18:19.002Z"
   },
   {
    "duration": 84,
    "start_time": "2024-04-12T19:18:19.108Z"
   },
   {
    "duration": 8,
    "start_time": "2024-04-12T19:18:19.194Z"
   },
   {
    "duration": 1122,
    "start_time": "2024-04-13T12:56:42.856Z"
   },
   {
    "duration": 73,
    "start_time": "2024-04-13T12:56:43.980Z"
   },
   {
    "duration": 3,
    "start_time": "2024-04-13T12:56:44.054Z"
   },
   {
    "duration": 36,
    "start_time": "2024-04-13T12:56:44.059Z"
   },
   {
    "duration": 4,
    "start_time": "2024-04-13T12:56:44.097Z"
   },
   {
    "duration": 10,
    "start_time": "2024-04-13T12:56:44.103Z"
   },
   {
    "duration": 4,
    "start_time": "2024-04-13T12:56:44.115Z"
   },
   {
    "duration": 10,
    "start_time": "2024-04-13T12:56:44.121Z"
   },
   {
    "duration": 1303,
    "start_time": "2024-04-13T12:56:44.132Z"
   },
   {
    "duration": 3,
    "start_time": "2024-04-13T12:56:45.437Z"
   },
   {
    "duration": 22,
    "start_time": "2024-04-13T12:56:45.442Z"
   },
   {
    "duration": 12,
    "start_time": "2024-04-13T12:56:45.466Z"
   },
   {
    "duration": 84,
    "start_time": "2024-04-13T12:56:45.482Z"
   },
   {
    "duration": 95,
    "start_time": "2024-04-13T12:56:45.570Z"
   },
   {
    "duration": 102,
    "start_time": "2024-04-13T12:56:45.667Z"
   },
   {
    "duration": 8,
    "start_time": "2024-04-13T12:56:45.771Z"
   },
   {
    "duration": 2,
    "start_time": "2024-04-13T13:12:50.610Z"
   },
   {
    "duration": 33,
    "start_time": "2024-04-13T14:00:14.737Z"
   },
   {
    "duration": 103,
    "start_time": "2024-04-13T14:00:19.837Z"
   },
   {
    "duration": 139,
    "start_time": "2024-04-13T14:00:29.712Z"
   },
   {
    "duration": 124,
    "start_time": "2024-04-13T14:00:46.447Z"
   },
   {
    "duration": 5,
    "start_time": "2024-04-13T14:02:33.927Z"
   },
   {
    "duration": 4,
    "start_time": "2024-04-13T14:03:32.158Z"
   },
   {
    "duration": 4,
    "start_time": "2024-04-13T14:03:43.359Z"
   },
   {
    "duration": 5,
    "start_time": "2024-04-13T14:03:54.774Z"
   },
   {
    "duration": 732,
    "start_time": "2024-04-13T14:04:28.547Z"
   },
   {
    "duration": 134,
    "start_time": "2024-04-13T14:04:32.796Z"
   },
   {
    "duration": 139,
    "start_time": "2024-04-13T14:04:56.496Z"
   },
   {
    "duration": 196,
    "start_time": "2024-04-13T14:05:21.731Z"
   },
   {
    "duration": 6,
    "start_time": "2024-04-13T14:06:19.464Z"
   },
   {
    "duration": 108,
    "start_time": "2024-04-13T14:07:54.780Z"
   },
   {
    "duration": 81,
    "start_time": "2024-04-13T14:08:02.085Z"
   },
   {
    "duration": 132,
    "start_time": "2024-04-13T14:13:04.848Z"
   },
   {
    "duration": 128,
    "start_time": "2024-04-13T14:17:11.318Z"
   },
   {
    "duration": 123,
    "start_time": "2024-04-13T14:18:04.355Z"
   },
   {
    "duration": 122,
    "start_time": "2024-04-13T14:18:13.339Z"
   },
   {
    "duration": 123,
    "start_time": "2024-04-13T14:18:16.693Z"
   },
   {
    "duration": 130,
    "start_time": "2024-04-13T14:19:17.301Z"
   },
   {
    "duration": 78,
    "start_time": "2024-04-13T14:20:35.659Z"
   },
   {
    "duration": 336,
    "start_time": "2024-04-13T14:25:34.007Z"
   },
   {
    "duration": 180,
    "start_time": "2024-04-13T14:25:43.894Z"
   },
   {
    "duration": 167,
    "start_time": "2024-04-13T14:26:41.353Z"
   },
   {
    "duration": 131,
    "start_time": "2024-04-13T14:36:00.585Z"
   },
   {
    "duration": 127,
    "start_time": "2024-04-13T14:36:14.111Z"
   },
   {
    "duration": 123,
    "start_time": "2024-04-13T14:37:20.135Z"
   },
   {
    "duration": 134,
    "start_time": "2024-04-13T14:37:28.947Z"
   },
   {
    "duration": 221,
    "start_time": "2024-04-13T14:39:01.835Z"
   },
   {
    "duration": 188,
    "start_time": "2024-04-13T14:39:26.332Z"
   },
   {
    "duration": 214,
    "start_time": "2024-04-13T14:39:34.564Z"
   },
   {
    "duration": 82,
    "start_time": "2024-04-13T14:41:48.499Z"
   },
   {
    "duration": 307,
    "start_time": "2024-04-13T14:43:27.384Z"
   },
   {
    "duration": 162,
    "start_time": "2024-04-13T14:43:37.742Z"
   },
   {
    "duration": 276,
    "start_time": "2024-04-13T14:43:41.764Z"
   },
   {
    "duration": 213,
    "start_time": "2024-04-13T14:43:58.659Z"
   },
   {
    "duration": 266,
    "start_time": "2024-04-13T14:44:12.209Z"
   },
   {
    "duration": 1458,
    "start_time": "2024-04-13T14:44:20.883Z"
   },
   {
    "duration": 258,
    "start_time": "2024-04-13T14:44:27.219Z"
   },
   {
    "duration": 494,
    "start_time": "2024-04-13T14:44:34.401Z"
   },
   {
    "duration": 279,
    "start_time": "2024-04-13T14:44:39.648Z"
   },
   {
    "duration": 141,
    "start_time": "2024-04-13T14:45:22.978Z"
   },
   {
    "duration": 259,
    "start_time": "2024-04-13T14:47:49.060Z"
   },
   {
    "duration": 9,
    "start_time": "2024-04-13T14:50:20.390Z"
   },
   {
    "duration": 120,
    "start_time": "2024-04-13T14:50:26.501Z"
   },
   {
    "duration": 238,
    "start_time": "2024-04-13T14:50:31.896Z"
   },
   {
    "duration": 369,
    "start_time": "2024-04-13T14:52:15.139Z"
   },
   {
    "duration": 252,
    "start_time": "2024-04-13T14:53:43.786Z"
   },
   {
    "duration": 250,
    "start_time": "2024-04-13T14:54:19.098Z"
   },
   {
    "duration": 479,
    "start_time": "2024-04-13T14:54:29.723Z"
   },
   {
    "duration": 51,
    "start_time": "2024-04-13T14:54:36.482Z"
   },
   {
    "duration": 596,
    "start_time": "2024-04-13T14:54:40.714Z"
   },
   {
    "duration": 257,
    "start_time": "2024-04-13T14:54:46.822Z"
   },
   {
    "duration": 9,
    "start_time": "2024-04-13T14:56:42.741Z"
   },
   {
    "duration": 9,
    "start_time": "2024-04-13T14:56:52.829Z"
   },
   {
    "duration": 9,
    "start_time": "2024-04-13T14:59:01.322Z"
   },
   {
    "duration": 9,
    "start_time": "2024-04-13T14:59:07.503Z"
   },
   {
    "duration": 82,
    "start_time": "2024-04-13T15:01:56.460Z"
   },
   {
    "duration": 133,
    "start_time": "2024-04-13T15:03:07.726Z"
   },
   {
    "duration": 140,
    "start_time": "2024-04-13T15:06:27.933Z"
   },
   {
    "duration": 87,
    "start_time": "2024-04-13T15:40:12.800Z"
   },
   {
    "duration": 15,
    "start_time": "2024-04-13T15:40:17.447Z"
   },
   {
    "duration": 172,
    "start_time": "2024-04-13T15:40:26.342Z"
   },
   {
    "duration": 288,
    "start_time": "2024-04-13T15:41:36.430Z"
   },
   {
    "duration": 11,
    "start_time": "2024-04-13T15:48:46.234Z"
   },
   {
    "duration": 206,
    "start_time": "2024-04-13T15:48:51.498Z"
   },
   {
    "duration": 176,
    "start_time": "2024-04-13T15:56:15.262Z"
   },
   {
    "duration": 439,
    "start_time": "2024-04-13T15:56:56.051Z"
   },
   {
    "duration": 560,
    "start_time": "2024-04-13T15:57:11.497Z"
   },
   {
    "duration": 526,
    "start_time": "2024-04-13T15:57:54.679Z"
   },
   {
    "duration": 486,
    "start_time": "2024-04-13T15:58:10.589Z"
   },
   {
    "duration": 610,
    "start_time": "2024-04-13T15:59:17.912Z"
   },
   {
    "duration": 521,
    "start_time": "2024-04-13T15:59:30.349Z"
   },
   {
    "duration": 269,
    "start_time": "2024-04-13T16:00:45.353Z"
   },
   {
    "duration": 385,
    "start_time": "2024-04-13T16:02:39.151Z"
   },
   {
    "duration": 271,
    "start_time": "2024-04-13T16:03:01.682Z"
   },
   {
    "duration": 532,
    "start_time": "2024-04-13T16:03:09.022Z"
   },
   {
    "duration": 296,
    "start_time": "2024-04-13T16:03:43.501Z"
   },
   {
    "duration": 41,
    "start_time": "2024-04-13T16:06:51.359Z"
   },
   {
    "duration": 43,
    "start_time": "2024-04-13T16:09:05.076Z"
   },
   {
    "duration": 518,
    "start_time": "2024-04-13T17:20:18.425Z"
   },
   {
    "duration": 265,
    "start_time": "2024-04-13T17:20:30.853Z"
   },
   {
    "duration": 44,
    "start_time": "2024-04-14T19:47:54.726Z"
   },
   {
    "duration": 1520,
    "start_time": "2024-04-14T19:48:04.644Z"
   },
   {
    "duration": 78,
    "start_time": "2024-04-14T19:48:06.167Z"
   },
   {
    "duration": 3,
    "start_time": "2024-04-14T19:48:06.248Z"
   },
   {
    "duration": 43,
    "start_time": "2024-04-14T19:48:06.253Z"
   },
   {
    "duration": 5,
    "start_time": "2024-04-14T19:48:06.299Z"
   },
   {
    "duration": 8,
    "start_time": "2024-04-14T19:48:06.305Z"
   },
   {
    "duration": 10,
    "start_time": "2024-04-14T19:48:06.315Z"
   },
   {
    "duration": 15,
    "start_time": "2024-04-14T19:48:06.346Z"
   },
   {
    "duration": 102,
    "start_time": "2024-04-14T19:48:06.363Z"
   },
   {
    "duration": 488,
    "start_time": "2024-04-14T19:48:06.466Z"
   },
   {
    "duration": 363,
    "start_time": "2024-04-14T19:48:06.956Z"
   },
   {
    "duration": 155,
    "start_time": "2024-04-14T19:48:07.321Z"
   },
   {
    "duration": 131,
    "start_time": "2024-04-14T19:48:07.477Z"
   },
   {
    "duration": 4,
    "start_time": "2024-04-14T19:48:07.611Z"
   },
   {
    "duration": 13,
    "start_time": "2024-04-14T19:48:07.617Z"
   },
   {
    "duration": 21,
    "start_time": "2024-04-14T19:48:07.631Z"
   },
   {
    "duration": 7,
    "start_time": "2024-04-14T19:48:07.654Z"
   },
   {
    "duration": 11,
    "start_time": "2024-04-14T19:48:07.746Z"
   },
   {
    "duration": 91,
    "start_time": "2024-04-14T19:48:07.759Z"
   },
   {
    "duration": 10,
    "start_time": "2024-04-14T19:48:07.853Z"
   },
   {
    "duration": 137,
    "start_time": "2024-04-14T19:50:05.467Z"
   },
   {
    "duration": 126,
    "start_time": "2024-04-14T19:51:13.110Z"
   },
   {
    "duration": 131,
    "start_time": "2024-04-14T19:51:27.223Z"
   },
   {
    "duration": 135,
    "start_time": "2024-04-14T19:51:51.925Z"
   },
   {
    "duration": 434,
    "start_time": "2024-04-14T19:52:13.622Z"
   },
   {
    "duration": 1299,
    "start_time": "2024-04-14T20:03:49.362Z"
   },
   {
    "duration": 29,
    "start_time": "2024-04-14T20:03:50.663Z"
   },
   {
    "duration": 3,
    "start_time": "2024-04-14T20:03:50.693Z"
   },
   {
    "duration": 40,
    "start_time": "2024-04-14T20:03:50.697Z"
   },
   {
    "duration": 4,
    "start_time": "2024-04-14T20:03:50.740Z"
   },
   {
    "duration": 7,
    "start_time": "2024-04-14T20:03:50.746Z"
   },
   {
    "duration": 5,
    "start_time": "2024-04-14T20:03:50.754Z"
   },
   {
    "duration": 30,
    "start_time": "2024-04-14T20:03:50.761Z"
   },
   {
    "duration": 125,
    "start_time": "2024-04-14T20:03:50.792Z"
   },
   {
    "duration": 476,
    "start_time": "2024-04-14T20:03:50.919Z"
   },
   {
    "duration": 328,
    "start_time": "2024-04-14T20:03:51.397Z"
   },
   {
    "duration": 135,
    "start_time": "2024-04-14T20:03:51.727Z"
   },
   {
    "duration": 130,
    "start_time": "2024-04-14T20:03:51.863Z"
   },
   {
    "duration": 4,
    "start_time": "2024-04-14T20:03:51.996Z"
   },
   {
    "duration": 9,
    "start_time": "2024-04-14T20:03:52.001Z"
   },
   {
    "duration": 35,
    "start_time": "2024-04-14T20:03:52.011Z"
   },
   {
    "duration": 5,
    "start_time": "2024-04-14T20:03:52.048Z"
   },
   {
    "duration": 92,
    "start_time": "2024-04-14T20:03:52.054Z"
   },
   {
    "duration": 9,
    "start_time": "2024-04-14T20:03:52.148Z"
   },
   {
    "duration": 86,
    "start_time": "2024-04-14T20:03:52.159Z"
   },
   {
    "duration": 71,
    "start_time": "2024-04-16T16:46:29.256Z"
   },
   {
    "duration": 46,
    "start_time": "2024-04-16T16:46:55.535Z"
   },
   {
    "duration": 67,
    "start_time": "2024-04-16T16:47:15.300Z"
   },
   {
    "duration": 1612,
    "start_time": "2024-04-17T11:30:14.188Z"
   },
   {
    "duration": 76,
    "start_time": "2024-04-17T11:30:15.802Z"
   },
   {
    "duration": 4,
    "start_time": "2024-04-17T11:30:15.880Z"
   },
   {
    "duration": 50,
    "start_time": "2024-04-17T11:30:15.886Z"
   },
   {
    "duration": 4,
    "start_time": "2024-04-17T11:30:15.938Z"
   },
   {
    "duration": 4,
    "start_time": "2024-04-17T11:30:15.943Z"
   },
   {
    "duration": 5,
    "start_time": "2024-04-17T11:30:15.948Z"
   },
   {
    "duration": 13,
    "start_time": "2024-04-17T11:30:15.954Z"
   },
   {
    "duration": 112,
    "start_time": "2024-04-17T11:30:15.969Z"
   },
   {
    "duration": 519,
    "start_time": "2024-04-17T11:30:16.083Z"
   },
   {
    "duration": 385,
    "start_time": "2024-04-17T11:30:16.603Z"
   },
   {
    "duration": 150,
    "start_time": "2024-04-17T11:30:16.990Z"
   },
   {
    "duration": 150,
    "start_time": "2024-04-17T11:30:17.141Z"
   },
   {
    "duration": 5,
    "start_time": "2024-04-17T11:30:17.293Z"
   },
   {
    "duration": 37,
    "start_time": "2024-04-17T11:30:17.299Z"
   },
   {
    "duration": 26,
    "start_time": "2024-04-17T11:30:17.337Z"
   },
   {
    "duration": 57,
    "start_time": "2024-04-17T11:30:17.365Z"
   },
   {
    "duration": 97,
    "start_time": "2024-04-17T11:30:17.425Z"
   },
   {
    "duration": 10,
    "start_time": "2024-04-17T11:30:17.524Z"
   },
   {
    "duration": 85,
    "start_time": "2024-04-17T11:30:17.536Z"
   },
   {
    "duration": 1461,
    "start_time": "2024-06-13T09:46:34.407Z"
   },
   {
    "duration": 79,
    "start_time": "2024-06-13T09:46:35.870Z"
   },
   {
    "duration": 4,
    "start_time": "2024-06-13T09:46:35.951Z"
   },
   {
    "duration": 57,
    "start_time": "2024-06-13T09:46:35.957Z"
   },
   {
    "duration": 5,
    "start_time": "2024-06-13T09:46:36.017Z"
   },
   {
    "duration": 17,
    "start_time": "2024-06-13T09:46:36.024Z"
   },
   {
    "duration": 21,
    "start_time": "2024-06-13T09:46:36.043Z"
   },
   {
    "duration": 12,
    "start_time": "2024-06-13T09:46:36.066Z"
   },
   {
    "duration": 138,
    "start_time": "2024-06-13T09:46:36.080Z"
   },
   {
    "duration": 549,
    "start_time": "2024-06-13T09:46:36.220Z"
   },
   {
    "duration": 397,
    "start_time": "2024-06-13T09:46:36.771Z"
   },
   {
    "duration": 163,
    "start_time": "2024-06-13T09:46:37.170Z"
   },
   {
    "duration": 158,
    "start_time": "2024-06-13T09:46:37.335Z"
   },
   {
    "duration": 4,
    "start_time": "2024-06-13T09:46:37.495Z"
   },
   {
    "duration": 30,
    "start_time": "2024-06-13T09:46:37.500Z"
   },
   {
    "duration": 14,
    "start_time": "2024-06-13T09:46:37.531Z"
   },
   {
    "duration": 36,
    "start_time": "2024-06-13T09:46:37.548Z"
   },
   {
    "duration": 99,
    "start_time": "2024-06-13T09:46:37.586Z"
   },
   {
    "duration": 96,
    "start_time": "2024-06-13T09:46:37.687Z"
   },
   {
    "duration": 10,
    "start_time": "2024-06-13T09:46:37.785Z"
   }
  ],
  "kernelspec": {
   "display_name": "Python 3 (ipykernel)",
   "language": "python",
   "name": "python3"
  },
  "language_info": {
   "codemirror_mode": {
    "name": "ipython",
    "version": 3
   },
   "file_extension": ".py",
   "mimetype": "text/x-python",
   "name": "python",
   "nbconvert_exporter": "python",
   "pygments_lexer": "ipython3",
   "version": "3.11.5"
  },
  "toc": {
   "base_numbering": 1,
   "nav_menu": {},
   "number_sections": true,
   "sideBar": true,
   "skip_h1_title": true,
   "title_cell": "Содержание",
   "title_sidebar": "Contents",
   "toc_cell": true,
   "toc_position": {},
   "toc_section_display": true,
   "toc_window_display": true
  }
 },
 "nbformat": 4,
 "nbformat_minor": 2
}
