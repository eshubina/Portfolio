{
 "cells": [
  {
   "cell_type": "markdown",
   "metadata": {},
   "source": [
    "#  Прогнозирование заказов такси"
   ]
  },
  {
   "cell_type": "markdown",
   "metadata": {},
   "source": [
    "Компания «Чётенькое такси» собрала исторические данные о заказах такси в аэропортах. Чтобы привлекать больше водителей в период пиковой нагрузки, нужно спрогнозировать количество заказов такси на следующий час. Постройте модель для такого предсказания.\n",
    "\n",
    "Значение метрики *RMSE* на тестовой выборке должно быть не больше 48.\n",
    "\n",
    "Вам нужно:\n",
    "\n",
    "1. Загрузить данные и выполнить их ресемплирование по одному часу.\n",
    "2. Проанализировать данные.\n",
    "3. Обучить разные модели с различными гиперпараметрами. Сделать тестовую выборку размером 10% от исходных данных.\n",
    "4. Проверить данные на тестовой выборке и сделать выводы.\n",
    "\n",
    "\n",
    "Данные лежат в файле `taxi.csv`. Количество заказов находится в столбце `num_orders` (от англ. *number of orders*, «число заказов»)."
   ]
  },
  {
   "cell_type": "markdown",
   "metadata": {},
   "source": [
    "## Подготовка"
   ]
  },
  {
   "cell_type": "code",
   "execution_count": 1,
   "metadata": {},
   "outputs": [],
   "source": [
    "import pandas as pd\n",
    "import matplotlib.pyplot as plt\n",
    "from statsmodels.tsa.seasonal import seasonal_decompose\n",
    "\n",
    "import numpy as np\n",
    "from sklearn.model_selection import train_test_split\n",
    "from numpy.random import RandomState\n",
    "from sklearn.preprocessing import OneHotEncoder\n",
    "\n",
    "from sklearn.metrics import mean_squared_error\n",
    "\n",
    "from sklearn.linear_model import LinearRegression\n",
    "from lightgbm import LGBMRegressor \n",
    "from sklearn.ensemble import RandomForestRegressor\n",
    "from catboost import CatBoostRegressor\n",
    "\n",
    "import time\n",
    "import warnings\n",
    "warnings.filterwarnings(\"ignore\")"
   ]
  },
  {
   "cell_type": "code",
   "execution_count": 2,
   "metadata": {},
   "outputs": [],
   "source": [
    "data = pd.read_csv('/datasets/taxi.csv', parse_dates=[0])"
   ]
  },
  {
   "cell_type": "code",
   "execution_count": 3,
   "metadata": {},
   "outputs": [
    {
     "data": {
      "text/html": [
       "<div>\n",
       "<style scoped>\n",
       "    .dataframe tbody tr th:only-of-type {\n",
       "        vertical-align: middle;\n",
       "    }\n",
       "\n",
       "    .dataframe tbody tr th {\n",
       "        vertical-align: top;\n",
       "    }\n",
       "\n",
       "    .dataframe thead th {\n",
       "        text-align: right;\n",
       "    }\n",
       "</style>\n",
       "<table border=\"1\" class=\"dataframe\">\n",
       "  <thead>\n",
       "    <tr style=\"text-align: right;\">\n",
       "      <th></th>\n",
       "      <th>datetime</th>\n",
       "      <th>num_orders</th>\n",
       "    </tr>\n",
       "  </thead>\n",
       "  <tbody>\n",
       "    <tr>\n",
       "      <th>0</th>\n",
       "      <td>2018-03-01 00:00:00</td>\n",
       "      <td>9</td>\n",
       "    </tr>\n",
       "    <tr>\n",
       "      <th>1</th>\n",
       "      <td>2018-03-01 00:10:00</td>\n",
       "      <td>14</td>\n",
       "    </tr>\n",
       "    <tr>\n",
       "      <th>2</th>\n",
       "      <td>2018-03-01 00:20:00</td>\n",
       "      <td>28</td>\n",
       "    </tr>\n",
       "    <tr>\n",
       "      <th>3</th>\n",
       "      <td>2018-03-01 00:30:00</td>\n",
       "      <td>20</td>\n",
       "    </tr>\n",
       "    <tr>\n",
       "      <th>4</th>\n",
       "      <td>2018-03-01 00:40:00</td>\n",
       "      <td>32</td>\n",
       "    </tr>\n",
       "  </tbody>\n",
       "</table>\n",
       "</div>"
      ],
      "text/plain": [
       "             datetime  num_orders\n",
       "0 2018-03-01 00:00:00           9\n",
       "1 2018-03-01 00:10:00          14\n",
       "2 2018-03-01 00:20:00          28\n",
       "3 2018-03-01 00:30:00          20\n",
       "4 2018-03-01 00:40:00          32"
      ]
     },
     "execution_count": 3,
     "metadata": {},
     "output_type": "execute_result"
    }
   ],
   "source": [
    "data.head() #посмотрим первые строки"
   ]
  },
  {
   "cell_type": "code",
   "execution_count": 4,
   "metadata": {},
   "outputs": [
    {
     "name": "stdout",
     "output_type": "stream",
     "text": [
      "<class 'pandas.core.frame.DataFrame'>\n",
      "RangeIndex: 26496 entries, 0 to 26495\n",
      "Data columns (total 2 columns):\n",
      " #   Column      Non-Null Count  Dtype         \n",
      "---  ------      --------------  -----         \n",
      " 0   datetime    26496 non-null  datetime64[ns]\n",
      " 1   num_orders  26496 non-null  int64         \n",
      "dtypes: datetime64[ns](1), int64(1)\n",
      "memory usage: 414.1 KB\n"
     ]
    }
   ],
   "source": [
    "data.info() #посмотрим тип данных и количество строк"
   ]
  },
  {
   "cell_type": "markdown",
   "metadata": {},
   "source": [
    "Количество строк одинаковое, пропуски отсутствуют"
   ]
  },
  {
   "cell_type": "code",
   "execution_count": 5,
   "metadata": {},
   "outputs": [],
   "source": [
    "data = data.set_index('datetime')"
   ]
  },
  {
   "cell_type": "code",
   "execution_count": 6,
   "metadata": {},
   "outputs": [],
   "source": [
    "data.sort_index(inplace=True) #посмотрим на хронологию"
   ]
  },
  {
   "cell_type": "code",
   "execution_count": 7,
   "metadata": {},
   "outputs": [
    {
     "data": {
      "text/plain": [
       "True"
      ]
     },
     "execution_count": 7,
     "metadata": {},
     "output_type": "execute_result"
    }
   ],
   "source": [
    "data.index.is_monotonic"
   ]
  },
  {
   "cell_type": "code",
   "execution_count": 8,
   "metadata": {},
   "outputs": [],
   "source": [
    "data = data.resample('1H').sum() #ресемплируем данные по одному часу"
   ]
  },
  {
   "cell_type": "code",
   "execution_count": 9,
   "metadata": {},
   "outputs": [
    {
     "data": {
      "text/html": [
       "<div>\n",
       "<style scoped>\n",
       "    .dataframe tbody tr th:only-of-type {\n",
       "        vertical-align: middle;\n",
       "    }\n",
       "\n",
       "    .dataframe tbody tr th {\n",
       "        vertical-align: top;\n",
       "    }\n",
       "\n",
       "    .dataframe thead th {\n",
       "        text-align: right;\n",
       "    }\n",
       "</style>\n",
       "<table border=\"1\" class=\"dataframe\">\n",
       "  <thead>\n",
       "    <tr style=\"text-align: right;\">\n",
       "      <th></th>\n",
       "      <th>num_orders</th>\n",
       "    </tr>\n",
       "    <tr>\n",
       "      <th>datetime</th>\n",
       "      <th></th>\n",
       "    </tr>\n",
       "  </thead>\n",
       "  <tbody>\n",
       "    <tr>\n",
       "      <th>2018-03-01 00:00:00</th>\n",
       "      <td>124</td>\n",
       "    </tr>\n",
       "    <tr>\n",
       "      <th>2018-03-01 01:00:00</th>\n",
       "      <td>85</td>\n",
       "    </tr>\n",
       "    <tr>\n",
       "      <th>2018-03-01 02:00:00</th>\n",
       "      <td>71</td>\n",
       "    </tr>\n",
       "    <tr>\n",
       "      <th>2018-03-01 03:00:00</th>\n",
       "      <td>66</td>\n",
       "    </tr>\n",
       "    <tr>\n",
       "      <th>2018-03-01 04:00:00</th>\n",
       "      <td>43</td>\n",
       "    </tr>\n",
       "  </tbody>\n",
       "</table>\n",
       "</div>"
      ],
      "text/plain": [
       "                     num_orders\n",
       "datetime                       \n",
       "2018-03-01 00:00:00         124\n",
       "2018-03-01 01:00:00          85\n",
       "2018-03-01 02:00:00          71\n",
       "2018-03-01 03:00:00          66\n",
       "2018-03-01 04:00:00          43"
      ]
     },
     "execution_count": 9,
     "metadata": {},
     "output_type": "execute_result"
    }
   ],
   "source": [
    "data.head() #проверим"
   ]
  },
  {
   "cell_type": "code",
   "execution_count": 10,
   "metadata": {},
   "outputs": [
    {
     "data": {
      "text/plain": [
       "2018    4416\n",
       "Name: datetime, dtype: int64"
      ]
     },
     "execution_count": 10,
     "metadata": {},
     "output_type": "execute_result"
    }
   ],
   "source": [
    "data.index.year.value_counts()"
   ]
  },
  {
   "cell_type": "markdown",
   "metadata": {},
   "source": [
    "<div style=\"border:solid steelblue 2px; padding: 10px; border-radius: 5px\">\n",
    "Наши данные за 2018 год, пропуски отсутствуют, установлен индекс таблицы равным столбцу даты и времени, выполнена замена интервала временного ряда."
   ]
  },
  {
   "cell_type": "markdown",
   "metadata": {},
   "source": [
    "## Анализ"
   ]
  },
  {
   "cell_type": "code",
   "execution_count": 11,
   "metadata": {},
   "outputs": [
    {
     "data": {
      "image/png": "[encoded data removed]",
      "text/plain": [
       "<Figure size 1080x360 with 1 Axes>"
      ]
     },
     "metadata": {
      "needs_background": "light"
     },
     "output_type": "display_data"
    }
   ],
   "source": [
    "data.plot(ax=plt.gca(),figsize=(15,5), color='#6d9bc3', )\n",
    "plt.legend(['Количество заказов'])\n",
    "plt.title('Распределение заказов в час за весь период')\n",
    "plt.xlabel('Дата')\n",
    "plt.ylabel('Количество')\n",
    "plt.tight_layout()\n",
    "plt.show()"
   ]
  },
  {
   "cell_type": "markdown",
   "metadata": {},
   "source": [
    "Среднее количество заказов расчет, особенно в летний период, преимущественно в августе.  Посмотрим тренды и сезонность."
   ]
  },
  {
   "cell_type": "markdown",
   "metadata": {},
   "source": [
    "**Тренды и сезонность**"
   ]
  },
  {
   "cell_type": "code",
   "execution_count": 12,
   "metadata": {},
   "outputs": [
    {
     "data": {
      "image/png": "[encoded data removed]",
      "text/plain": [
       "<Figure size 1080x360 with 1 Axes>"
      ]
     },
     "metadata": {
      "needs_background": "light"
     },
     "output_type": "display_data"
    }
   ],
   "source": [
    "decomposed = seasonal_decompose(data)\n",
    "decomposed.trend.plot(ax=plt.gca(), figsize=(12,4), color='#6d9bc3')\n",
    "decomposed.trend.resample('1D').mean().rolling(7).mean().plot(ax=plt.gca(),figsize=(15,5), color='#e87e6b')\n",
    "plt.legend(['Количество заказов', 'Скользящее среднее'])\n",
    "plt.title('График тренда')\n",
    "plt.xlabel('Дата')\n",
    "plt.ylabel('Количество')\n",
    "plt.tight_layout()\n",
    "\n"
   ]
  },
  {
   "cell_type": "markdown",
   "metadata": {},
   "source": [
    "Заметно явное увеличение заказов такси с июня по июль, существенный рост в августе - пора отпусков."
   ]
  },
  {
   "cell_type": "markdown",
   "metadata": {},
   "source": [
    "Посмотрим сезонность в будний и выходные дни, за неделю в августе"
   ]
  },
  {
   "cell_type": "code",
   "execution_count": 13,
   "metadata": {},
   "outputs": [],
   "source": [
    "def plot_time(data, title, xlabel, ylabel):\n",
    "    data.plot(grid=True, legend=False, figsize=(13, 4), title=title, color='#6d9bc3').set(xlabel=xlabel, ylabel=ylabel)\n",
    "    plt.show()\n",
    "    "
   ]
  },
  {
   "cell_type": "code",
   "execution_count": 14,
   "metadata": {},
   "outputs": [
    {
     "data": {
      "image/png": "[encoded data removed]",
      "text/plain": [
       "<Figure size 936x288 with 1 Axes>"
      ]
     },
     "metadata": {
      "needs_background": "light"
     },
     "output_type": "display_data"
    },
    {
     "data": {
      "image/png": "[encoded data removed]",
      "text/plain": [
       "<Figure size 936x288 with 1 Axes>"
      ]
     },
     "metadata": {
      "needs_background": "light"
     },
     "output_type": "display_data"
    },
    {
     "data": {
      "image/png": "[encoded data removed]",
      "text/plain": [
       "<Figure size 936x288 with 1 Axes>"
      ]
     },
     "metadata": {
      "needs_background": "light"
     },
     "output_type": "display_data"
    },
    {
     "data": {
      "image/png": "[encoded data removed]",
      "text/plain": [
       "<Figure size 936x288 with 1 Axes>"
      ]
     },
     "metadata": {
      "needs_background": "light"
     },
     "output_type": "display_data"
    }
   ],
   "source": [
    "plot_time(\n",
    "    data['2018-07-31 00:00:00':'2018-08-31 00:00:00'], \n",
    "    'Сезонность за месяц', \n",
    "    'В час', \n",
    "    'Количество заказов',\n",
    ")    \n",
    "plot_time(\n",
    "    data['2018-08-20 00:00:00':'2018-08-27 00:00:00'], \n",
    "    'Сезонность за неделю', \n",
    "    'В час', \n",
    "    'Количество заказов',\n",
    ")\n",
    "plot_time(\n",
    "    data['2018-08-01 00:00:00':'2018-08-02 00:00:00'], \n",
    "    'Сезонность в будний день', \n",
    "    'В час', \n",
    "    'Количество заказов',\n",
    ")\n",
    "plot_time(\n",
    "    data['2018-08-18 00:00:00':'2018-08-19 00:00:00'], \n",
    "    'Сезонность в выходной день', \n",
    "    'В час', \n",
    "    'Количество заказов',\n",
    ")"
   ]
  },
  {
   "cell_type": "markdown",
   "metadata": {},
   "source": [
    "<div style=\"border:solid steelblue 2px; padding: 10px; border-radius: 5px\"> \n",
    "Рассмотрев сезонность августа, видим пики заказов в воскресенье, возможно, из-за прилетов ночных рейсов.<br/>\n",
    "В будние дни видим пики заказов в утренние часы, во второй половине дня и после 18:00.<br/>\n",
    "В выходные дни в ночное время больше заказов, также видим пик заказов в ночь на понедельник."
   ]
  },
  {
   "cell_type": "markdown",
   "metadata": {},
   "source": [
    "## Обучение"
   ]
  },
  {
   "cell_type": "markdown",
   "metadata": {},
   "source": [
    "### Подготовка данных"
   ]
  },
  {
   "cell_type": "markdown",
   "metadata": {},
   "source": [
    "Добавим новые признаки, разделим данные на тренировочную и тестовую выборки"
   ]
  },
  {
   "cell_type": "code",
   "execution_count": 15,
   "metadata": {},
   "outputs": [],
   "source": [
    "def make_features(data, max_lag, rolling_mean_size):\n",
    "    taxi = data.copy()\n",
    "    taxi['month'] = taxi.index.month\n",
    "    taxi['day'] = taxi.index.day\n",
    "    taxi['day_of_week'] = taxi.index.dayofweek.astype('category')\n",
    "    \n",
    "    taxi.loc[(taxi.index.hour >= 0) & (taxi.index.hour < 6), 'time_of_day'] = 'night'\n",
    "    taxi.loc[(taxi.index.hour >= 6) & (taxi.index.hour < 12), 'time_of_day'] = 'morning'\n",
    "    taxi.loc[(taxi.index.hour >= 12) & (taxi.index.hour < 18), 'time_of_day'] = 'day'\n",
    "    taxi.loc[(taxi.index.hour >= 18) & (taxi.index.hour < 24), 'time_of_day'] = 'evening'\n",
    "    taxi['time_of_day'] = taxi['time_of_day'].astype('category') #признаки календарные и времени дня\n",
    "    \n",
    "    for lag in range(1, max_lag + 1):\n",
    "        taxi['lag_{}'.format(lag)] = taxi['num_orders'].shift(lag)\n",
    "        taxi['lag_week'] = taxi['num_orders'].shift(24 * 7) #сдвиги\n",
    "    \n",
    "    taxi['rolling_mean_{}'.format(rolling_mean_size)] = taxi['num_orders'].shift().rolling(rolling_mean_size).mean()\n",
    "    return taxi #скользящее среднее"
   ]
  },
  {
   "cell_type": "code",
   "execution_count": 16,
   "metadata": {},
   "outputs": [],
   "source": [
    "taxi = make_features(data, 24, 24)\n",
    "taxi.dropna(inplace=True)"
   ]
  },
  {
   "cell_type": "code",
   "execution_count": 17,
   "metadata": {},
   "outputs": [],
   "source": [
    "state = np.random.RandomState(12345) #зафиксируем random_state"
   ]
  },
  {
   "cell_type": "code",
   "execution_count": 18,
   "metadata": {},
   "outputs": [],
   "source": [
    "features = taxi.drop(['num_orders'], axis=1)\n",
    "target = taxi['num_orders'] #признаки и целевой признак"
   ]
  },
  {
   "cell_type": "code",
   "execution_count": 19,
   "metadata": {},
   "outputs": [],
   "source": [
    "features_train, features_valid, target_train, target_valid = train_test_split(features,\n",
    "                                                                            target,\n",
    "                                                                            shuffle=False,\n",
    "                                                                            test_size = 0.2,\n",
    "                                                                            random_state=state)"
   ]
  },
  {
   "cell_type": "code",
   "execution_count": 20,
   "metadata": {},
   "outputs": [],
   "source": [
    "features_valid, features_test, target_valid, target_test = train_test_split(features_valid,\n",
    "                                                                            target_valid,\n",
    "                                                                            test_size = 0.5,\n",
    "                                                                            shuffle=False,\n",
    "                                                                            random_state=state)"
   ]
  },
  {
   "cell_type": "code",
   "execution_count": 21,
   "metadata": {},
   "outputs": [
    {
     "data": {
      "text/plain": [
       "((3398, 30), (425, 30), (425, 30))"
      ]
     },
     "execution_count": 21,
     "metadata": {},
     "output_type": "execute_result"
    }
   ],
   "source": [
    "features_train.shape, features_valid.shape, features_test.shape #посмотрим размеры выборок"
   ]
  },
  {
   "cell_type": "code",
   "execution_count": 22,
   "metadata": {},
   "outputs": [],
   "source": [
    "cat = ['day_of_week', 'time_of_day'] #категориальные признаки"
   ]
  },
  {
   "cell_type": "code",
   "execution_count": 23,
   "metadata": {},
   "outputs": [],
   "source": [
    "ohe = OneHotEncoder(sparse=False, drop='first')\n",
    "ohe.fit(features_train[cat])\n",
    "\n",
    "def features_ohe(ohe_variable, taxi_features, cat):\n",
    "    taxi_features_ohe = pd.DataFrame(data=ohe_variable.transform(taxi_features[cat]),\n",
    "                                     index=taxi_features.index, columns=ohe_variable.get_feature_names())\n",
    "\n",
    "    taxi_features = taxi_features.drop(cat, axis=1)\n",
    "    taxi_features = taxi_features.join(taxi_features_ohe)\n",
    "    return taxi_features"
   ]
  },
  {
   "cell_type": "code",
   "execution_count": 24,
   "metadata": {},
   "outputs": [],
   "source": [
    "features_train_ohe = features_ohe(ohe, features_train, cat)\n",
    "features_valid_ohe = features_ohe(ohe, features_valid, cat)\n",
    "features_test_ohe = features_ohe(ohe, features_test, cat)"
   ]
  },
  {
   "cell_type": "markdown",
   "metadata": {},
   "source": [
    "----"
   ]
  },
  {
   "cell_type": "markdown",
   "metadata": {},
   "source": [
    "Напишем функции для времени обучения и предсказания, RMSE"
   ]
  },
  {
   "cell_type": "code",
   "execution_count": 25,
   "metadata": {},
   "outputs": [],
   "source": [
    "def learning_time(model,features_train,target_train):\n",
    "    start = time.time()\n",
    "    model.fit(features_train,target_train)\n",
    "    end = time.time()\n",
    "    time_fit = end - start\n",
    "    return time_fit,model #время обучения"
   ]
  },
  {
   "cell_type": "code",
   "execution_count": 26,
   "metadata": {},
   "outputs": [],
   "source": [
    "def predicted_time(model,features_valid):\n",
    "    start = time.time()\n",
    "    predict = model.predict(features_valid)\n",
    "    end = time.time()\n",
    "    time_predict= end - start\n",
    "    return time_predict,predict #время предсказания"
   ]
  },
  {
   "cell_type": "code",
   "execution_count": 27,
   "metadata": {},
   "outputs": [],
   "source": [
    "results = pd.DataFrame(columns=['Время обучения', 'Время предсказания', 'RMSE', 'Модель']) \n",
    "#результаты работы моделей"
   ]
  },
  {
   "cell_type": "code",
   "execution_count": 28,
   "metadata": {},
   "outputs": [],
   "source": [
    "def table_results(learn_time, pred_time, rmse, model, df):\n",
    "    df.loc[model,'Время обучения'] = learn_time\n",
    "    df.loc[model,'Время предсказания'] = pred_time\n",
    "    df.loc[model,'RMSE'] = rmse\n",
    "    df.loc[model,'Модель'] = model\n",
    "    return df"
   ]
  },
  {
   "cell_type": "markdown",
   "metadata": {},
   "source": [
    "### Модели"
   ]
  },
  {
   "cell_type": "markdown",
   "metadata": {},
   "source": [
    "Обучим разные модели, попробуем разные гиперпараметры"
   ]
  },
  {
   "cell_type": "markdown",
   "metadata": {},
   "source": [
    "**LightGBM Regressor**"
   ]
  },
  {
   "cell_type": "markdown",
   "metadata": {},
   "source": [
    "*LightGBM - 1*"
   ]
  },
  {
   "cell_type": "code",
   "execution_count": 29,
   "metadata": {},
   "outputs": [
    {
     "data": {
      "text/html": [
       "<div>\n",
       "<style scoped>\n",
       "    .dataframe tbody tr th:only-of-type {\n",
       "        vertical-align: middle;\n",
       "    }\n",
       "\n",
       "    .dataframe tbody tr th {\n",
       "        vertical-align: top;\n",
       "    }\n",
       "\n",
       "    .dataframe thead th {\n",
       "        text-align: right;\n",
       "    }\n",
       "</style>\n",
       "<table border=\"1\" class=\"dataframe\">\n",
       "  <thead>\n",
       "    <tr style=\"text-align: right;\">\n",
       "      <th></th>\n",
       "      <th>Время обучения</th>\n",
       "      <th>Время предсказания</th>\n",
       "      <th>RMSE</th>\n",
       "      <th>Модель</th>\n",
       "    </tr>\n",
       "  </thead>\n",
       "  <tbody>\n",
       "    <tr>\n",
       "      <th>LightGBM - 1</th>\n",
       "      <td>3.909118</td>\n",
       "      <td>0.007384</td>\n",
       "      <td>30.379066</td>\n",
       "      <td>LightGBM - 1</td>\n",
       "    </tr>\n",
       "  </tbody>\n",
       "</table>\n",
       "</div>"
      ],
      "text/plain": [
       "             Время обучения Время предсказания       RMSE        Модель\n",
       "LightGBM - 1       3.909118           0.007384  30.379066  LightGBM - 1"
      ]
     },
     "execution_count": 29,
     "metadata": {},
     "output_type": "execute_result"
    }
   ],
   "source": [
    "lgbm1_learn_time,lgbm1 = learning_time(LGBMRegressor(learning_rate=0.1, num_leaves=90, \n",
    "                                                     n_estimators=110,random_state=state),\n",
    "                                       features_train, target_train)\n",
    "lgbm1_pred_time,lgbm1_predict = predicted_time(lgbm1,features_valid)\n",
    "lgbm1_rmse = np.sqrt(mean_squared_error(target_valid, lgbm1_predict))\n",
    "table_results(lgbm1_learn_time,lgbm1_pred_time, lgbm1_rmse, 'LightGBM - 1',results)"
   ]
  },
  {
   "cell_type": "markdown",
   "metadata": {},
   "source": [
    "*LightGBM - 2*"
   ]
  },
  {
   "cell_type": "code",
   "execution_count": 30,
   "metadata": {},
   "outputs": [
    {
     "data": {
      "text/html": [
       "<div>\n",
       "<style scoped>\n",
       "    .dataframe tbody tr th:only-of-type {\n",
       "        vertical-align: middle;\n",
       "    }\n",
       "\n",
       "    .dataframe tbody tr th {\n",
       "        vertical-align: top;\n",
       "    }\n",
       "\n",
       "    .dataframe thead th {\n",
       "        text-align: right;\n",
       "    }\n",
       "</style>\n",
       "<table border=\"1\" class=\"dataframe\">\n",
       "  <thead>\n",
       "    <tr style=\"text-align: right;\">\n",
       "      <th></th>\n",
       "      <th>Время обучения</th>\n",
       "      <th>Время предсказания</th>\n",
       "      <th>RMSE</th>\n",
       "      <th>Модель</th>\n",
       "    </tr>\n",
       "  </thead>\n",
       "  <tbody>\n",
       "    <tr>\n",
       "      <th>LightGBM - 1</th>\n",
       "      <td>3.909118</td>\n",
       "      <td>0.007384</td>\n",
       "      <td>30.379066</td>\n",
       "      <td>LightGBM - 1</td>\n",
       "    </tr>\n",
       "    <tr>\n",
       "      <th>LightGBM - 2</th>\n",
       "      <td>6.304222</td>\n",
       "      <td>0.003581</td>\n",
       "      <td>31.139973</td>\n",
       "      <td>LightGBM - 2</td>\n",
       "    </tr>\n",
       "  </tbody>\n",
       "</table>\n",
       "</div>"
      ],
      "text/plain": [
       "             Время обучения Время предсказания       RMSE        Модель\n",
       "LightGBM - 1       3.909118           0.007384  30.379066  LightGBM - 1\n",
       "LightGBM - 2       6.304222           0.003581  31.139973  LightGBM - 2"
      ]
     },
     "execution_count": 30,
     "metadata": {},
     "output_type": "execute_result"
    }
   ],
   "source": [
    "lgbm2_learn_time,lgbm2 = learning_time(LGBMRegressor(learning_rate=0.1, num_leaves=190, \n",
    "                                                     n_estimators=130,random_state=state),\n",
    "                                       features_train_ohe, target_train)\n",
    "lgbm2_pred_time,lgbm2_predict = predicted_time(lgbm2,features_valid_ohe)\n",
    "lgbm2_rmse = np.sqrt(mean_squared_error(target_valid, lgbm2_predict))\n",
    "table_results(lgbm2_learn_time,lgbm2_pred_time, lgbm2_rmse, 'LightGBM - 2',results)"
   ]
  },
  {
   "cell_type": "markdown",
   "metadata": {},
   "source": [
    "----"
   ]
  },
  {
   "cell_type": "markdown",
   "metadata": {},
   "source": [
    "**Random Forest Regressor**"
   ]
  },
  {
   "cell_type": "markdown",
   "metadata": {},
   "source": [
    "*Random Forest - 1*"
   ]
  },
  {
   "cell_type": "code",
   "execution_count": 31,
   "metadata": {},
   "outputs": [
    {
     "data": {
      "text/html": [
       "<div>\n",
       "<style scoped>\n",
       "    .dataframe tbody tr th:only-of-type {\n",
       "        vertical-align: middle;\n",
       "    }\n",
       "\n",
       "    .dataframe tbody tr th {\n",
       "        vertical-align: top;\n",
       "    }\n",
       "\n",
       "    .dataframe thead th {\n",
       "        text-align: right;\n",
       "    }\n",
       "</style>\n",
       "<table border=\"1\" class=\"dataframe\">\n",
       "  <thead>\n",
       "    <tr style=\"text-align: right;\">\n",
       "      <th></th>\n",
       "      <th>Время обучения</th>\n",
       "      <th>Время предсказания</th>\n",
       "      <th>RMSE</th>\n",
       "      <th>Модель</th>\n",
       "    </tr>\n",
       "  </thead>\n",
       "  <tbody>\n",
       "    <tr>\n",
       "      <th>LightGBM - 1</th>\n",
       "      <td>3.909118</td>\n",
       "      <td>0.007384</td>\n",
       "      <td>30.379066</td>\n",
       "      <td>LightGBM - 1</td>\n",
       "    </tr>\n",
       "    <tr>\n",
       "      <th>LightGBM - 2</th>\n",
       "      <td>6.304222</td>\n",
       "      <td>0.003581</td>\n",
       "      <td>31.139973</td>\n",
       "      <td>LightGBM - 2</td>\n",
       "    </tr>\n",
       "    <tr>\n",
       "      <th>RandomForest - 1</th>\n",
       "      <td>0.678428</td>\n",
       "      <td>0.003796</td>\n",
       "      <td>32.915087</td>\n",
       "      <td>RandomForest - 1</td>\n",
       "    </tr>\n",
       "  </tbody>\n",
       "</table>\n",
       "</div>"
      ],
      "text/plain": [
       "                 Время обучения Время предсказания       RMSE  \\\n",
       "LightGBM - 1           3.909118           0.007384  30.379066   \n",
       "LightGBM - 2           6.304222           0.003581  31.139973   \n",
       "RandomForest - 1       0.678428           0.003796  32.915087   \n",
       "\n",
       "                            Модель  \n",
       "LightGBM - 1          LightGBM - 1  \n",
       "LightGBM - 2          LightGBM - 2  \n",
       "RandomForest - 1  RandomForest - 1  "
      ]
     },
     "execution_count": 31,
     "metadata": {},
     "output_type": "execute_result"
    }
   ],
   "source": [
    "rf1_learn_time,rf1 = learning_time(RandomForestRegressor(n_estimators=13, max_depth=15, random_state=state),\n",
    "                                   features_train_ohe, target_train)\n",
    "rf1_pred_time,rf1_predict = predicted_time(rf1,features_valid_ohe)\n",
    "rf1_rmse = np.sqrt(mean_squared_error(target_valid, rf1_predict))\n",
    "table_results(rf1_learn_time,rf1_pred_time, rf1_rmse, 'RandomForest - 1',results)"
   ]
  },
  {
   "cell_type": "markdown",
   "metadata": {},
   "source": [
    "*Random Forest - 2*"
   ]
  },
  {
   "cell_type": "code",
   "execution_count": 32,
   "metadata": {},
   "outputs": [
    {
     "data": {
      "text/html": [
       "<div>\n",
       "<style scoped>\n",
       "    .dataframe tbody tr th:only-of-type {\n",
       "        vertical-align: middle;\n",
       "    }\n",
       "\n",
       "    .dataframe tbody tr th {\n",
       "        vertical-align: top;\n",
       "    }\n",
       "\n",
       "    .dataframe thead th {\n",
       "        text-align: right;\n",
       "    }\n",
       "</style>\n",
       "<table border=\"1\" class=\"dataframe\">\n",
       "  <thead>\n",
       "    <tr style=\"text-align: right;\">\n",
       "      <th></th>\n",
       "      <th>Время обучения</th>\n",
       "      <th>Время предсказания</th>\n",
       "      <th>RMSE</th>\n",
       "      <th>Модель</th>\n",
       "    </tr>\n",
       "  </thead>\n",
       "  <tbody>\n",
       "    <tr>\n",
       "      <th>LightGBM - 1</th>\n",
       "      <td>3.909118</td>\n",
       "      <td>0.007384</td>\n",
       "      <td>30.379066</td>\n",
       "      <td>LightGBM - 1</td>\n",
       "    </tr>\n",
       "    <tr>\n",
       "      <th>LightGBM - 2</th>\n",
       "      <td>6.304222</td>\n",
       "      <td>0.003581</td>\n",
       "      <td>31.139973</td>\n",
       "      <td>LightGBM - 2</td>\n",
       "    </tr>\n",
       "    <tr>\n",
       "      <th>RandomForest - 1</th>\n",
       "      <td>0.678428</td>\n",
       "      <td>0.003796</td>\n",
       "      <td>32.915087</td>\n",
       "      <td>RandomForest - 1</td>\n",
       "    </tr>\n",
       "    <tr>\n",
       "      <th>RandomForest - 2</th>\n",
       "      <td>1.217267</td>\n",
       "      <td>0.005189</td>\n",
       "      <td>31.283024</td>\n",
       "      <td>RandomForest - 2</td>\n",
       "    </tr>\n",
       "  </tbody>\n",
       "</table>\n",
       "</div>"
      ],
      "text/plain": [
       "                 Время обучения Время предсказания       RMSE  \\\n",
       "LightGBM - 1           3.909118           0.007384  30.379066   \n",
       "LightGBM - 2           6.304222           0.003581  31.139973   \n",
       "RandomForest - 1       0.678428           0.003796  32.915087   \n",
       "RandomForest - 2       1.217267           0.005189  31.283024   \n",
       "\n",
       "                            Модель  \n",
       "LightGBM - 1          LightGBM - 1  \n",
       "LightGBM - 2          LightGBM - 2  \n",
       "RandomForest - 1  RandomForest - 1  \n",
       "RandomForest - 2  RandomForest - 2  "
      ]
     },
     "execution_count": 32,
     "metadata": {},
     "output_type": "execute_result"
    }
   ],
   "source": [
    "rf2_learn_time,rf2 = learning_time(RandomForestRegressor(n_estimators=25, max_depth=19, random_state=state),\n",
    "                                   features_train_ohe, target_train)\n",
    "rf2_pred_time,rf2_predict = predicted_time(rf2,features_valid_ohe)\n",
    "rf2_rmse = np.sqrt(mean_squared_error(target_valid, rf2_predict))\n",
    "table_results(rf2_learn_time,rf2_pred_time, rf2_rmse, 'RandomForest - 2',results)"
   ]
  },
  {
   "cell_type": "markdown",
   "metadata": {},
   "source": [
    "----"
   ]
  },
  {
   "cell_type": "markdown",
   "metadata": {},
   "source": [
    "**CatBoostRegressor**"
   ]
  },
  {
   "cell_type": "markdown",
   "metadata": {},
   "source": [
    "*CatBoostRegressor - 1*"
   ]
  },
  {
   "cell_type": "code",
   "execution_count": 33,
   "metadata": {},
   "outputs": [
    {
     "name": "stdout",
     "output_type": "stream",
     "text": [
      "0:\tlearn: 35.6588009\ttotal: 56.9ms\tremaining: 15.3s\n",
      "20:\tlearn: 32.2071472\ttotal: 194ms\tremaining: 2.3s\n",
      "40:\tlearn: 29.4724739\ttotal: 325ms\tremaining: 1.81s\n",
      "60:\tlearn: 27.3414040\ttotal: 470ms\tremaining: 1.61s\n",
      "80:\tlearn: 25.6700710\ttotal: 605ms\tremaining: 1.41s\n",
      "100:\tlearn: 24.3807894\ttotal: 738ms\tremaining: 1.24s\n",
      "120:\tlearn: 23.4013517\ttotal: 868ms\tremaining: 1.07s\n",
      "140:\tlearn: 22.6302571\ttotal: 1000ms\tremaining: 915ms\n",
      "160:\tlearn: 22.0135560\ttotal: 1.13s\tremaining: 766ms\n",
      "180:\tlearn: 21.5130412\ttotal: 1.28s\tremaining: 629ms\n",
      "200:\tlearn: 21.1252165\ttotal: 1.41s\tremaining: 484ms\n",
      "220:\tlearn: 20.8113932\ttotal: 1.54s\tremaining: 342ms\n",
      "240:\tlearn: 20.5486283\ttotal: 1.68s\tremaining: 202ms\n",
      "260:\tlearn: 20.3165410\ttotal: 1.81s\tremaining: 62.4ms\n",
      "269:\tlearn: 20.2326396\ttotal: 1.87s\tremaining: 0us\n"
     ]
    },
    {
     "data": {
      "text/html": [
       "<div>\n",
       "<style scoped>\n",
       "    .dataframe tbody tr th:only-of-type {\n",
       "        vertical-align: middle;\n",
       "    }\n",
       "\n",
       "    .dataframe tbody tr th {\n",
       "        vertical-align: top;\n",
       "    }\n",
       "\n",
       "    .dataframe thead th {\n",
       "        text-align: right;\n",
       "    }\n",
       "</style>\n",
       "<table border=\"1\" class=\"dataframe\">\n",
       "  <thead>\n",
       "    <tr style=\"text-align: right;\">\n",
       "      <th></th>\n",
       "      <th>Время обучения</th>\n",
       "      <th>Время предсказания</th>\n",
       "      <th>RMSE</th>\n",
       "      <th>Модель</th>\n",
       "    </tr>\n",
       "  </thead>\n",
       "  <tbody>\n",
       "    <tr>\n",
       "      <th>LightGBM - 1</th>\n",
       "      <td>3.909118</td>\n",
       "      <td>0.007384</td>\n",
       "      <td>30.379066</td>\n",
       "      <td>LightGBM - 1</td>\n",
       "    </tr>\n",
       "    <tr>\n",
       "      <th>LightGBM - 2</th>\n",
       "      <td>6.304222</td>\n",
       "      <td>0.003581</td>\n",
       "      <td>31.139973</td>\n",
       "      <td>LightGBM - 2</td>\n",
       "    </tr>\n",
       "    <tr>\n",
       "      <th>RandomForest - 1</th>\n",
       "      <td>0.678428</td>\n",
       "      <td>0.003796</td>\n",
       "      <td>32.915087</td>\n",
       "      <td>RandomForest - 1</td>\n",
       "    </tr>\n",
       "    <tr>\n",
       "      <th>RandomForest - 2</th>\n",
       "      <td>1.217267</td>\n",
       "      <td>0.005189</td>\n",
       "      <td>31.283024</td>\n",
       "      <td>RandomForest - 2</td>\n",
       "    </tr>\n",
       "    <tr>\n",
       "      <th>CatBoost - 1</th>\n",
       "      <td>2.417268</td>\n",
       "      <td>0.002319</td>\n",
       "      <td>33.994316</td>\n",
       "      <td>CatBoost - 1</td>\n",
       "    </tr>\n",
       "  </tbody>\n",
       "</table>\n",
       "</div>"
      ],
      "text/plain": [
       "                 Время обучения Время предсказания       RMSE  \\\n",
       "LightGBM - 1           3.909118           0.007384  30.379066   \n",
       "LightGBM - 2           6.304222           0.003581  31.139973   \n",
       "RandomForest - 1       0.678428           0.003796  32.915087   \n",
       "RandomForest - 2       1.217267           0.005189  31.283024   \n",
       "CatBoost - 1           2.417268           0.002319  33.994316   \n",
       "\n",
       "                            Модель  \n",
       "LightGBM - 1          LightGBM - 1  \n",
       "LightGBM - 2          LightGBM - 2  \n",
       "RandomForest - 1  RandomForest - 1  \n",
       "RandomForest - 2  RandomForest - 2  \n",
       "CatBoost - 1          CatBoost - 1  "
      ]
     },
     "execution_count": 33,
     "metadata": {},
     "output_type": "execute_result"
    }
   ],
   "source": [
    "cat1_learn_time,cat1 = learning_time(CatBoostRegressor(loss_function = 'RMSE', learning_rate=0.01, \n",
    "                                                       iterations = 270, cat_features = cat, verbose=20), \n",
    "                                     features_train, target_train)\n",
    "cat1_pred_time,cat1_predict = predicted_time(cat1,features_valid)\n",
    "cat1_rmse = np.sqrt(mean_squared_error(target_valid, cat1_predict))\n",
    "table_results(cat1_learn_time,cat1_pred_time, cat1_rmse, 'CatBoost - 1',results)"
   ]
  },
  {
   "cell_type": "markdown",
   "metadata": {},
   "source": [
    "*CatBoostRegressor - 2*"
   ]
  },
  {
   "cell_type": "code",
   "execution_count": 34,
   "metadata": {},
   "outputs": [
    {
     "name": "stdout",
     "output_type": "stream",
     "text": [
      "0:\tlearn: 33.8712107\ttotal: 6.34ms\tremaining: 691ms\n",
      "13:\tlearn: 22.5607642\ttotal: 78.6ms\tremaining: 539ms\n",
      "26:\tlearn: 20.3274600\ttotal: 150ms\tremaining: 461ms\n",
      "39:\tlearn: 19.4774550\ttotal: 223ms\tremaining: 390ms\n",
      "52:\tlearn: 18.9301292\ttotal: 307ms\tremaining: 330ms\n",
      "65:\tlearn: 18.4753034\ttotal: 376ms\tremaining: 251ms\n",
      "78:\tlearn: 18.1097454\ttotal: 446ms\tremaining: 175ms\n",
      "91:\tlearn: 17.8132226\ttotal: 516ms\tremaining: 101ms\n",
      "104:\tlearn: 17.5171999\ttotal: 585ms\tremaining: 27.8ms\n",
      "109:\tlearn: 17.3864489\ttotal: 611ms\tremaining: 0us\n"
     ]
    },
    {
     "data": {
      "text/html": [
       "<div>\n",
       "<style scoped>\n",
       "    .dataframe tbody tr th:only-of-type {\n",
       "        vertical-align: middle;\n",
       "    }\n",
       "\n",
       "    .dataframe tbody tr th {\n",
       "        vertical-align: top;\n",
       "    }\n",
       "\n",
       "    .dataframe thead th {\n",
       "        text-align: right;\n",
       "    }\n",
       "</style>\n",
       "<table border=\"1\" class=\"dataframe\">\n",
       "  <thead>\n",
       "    <tr style=\"text-align: right;\">\n",
       "      <th></th>\n",
       "      <th>Время обучения</th>\n",
       "      <th>Время предсказания</th>\n",
       "      <th>RMSE</th>\n",
       "      <th>Модель</th>\n",
       "    </tr>\n",
       "  </thead>\n",
       "  <tbody>\n",
       "    <tr>\n",
       "      <th>LightGBM - 1</th>\n",
       "      <td>3.909118</td>\n",
       "      <td>0.007384</td>\n",
       "      <td>30.379066</td>\n",
       "      <td>LightGBM - 1</td>\n",
       "    </tr>\n",
       "    <tr>\n",
       "      <th>LightGBM - 2</th>\n",
       "      <td>6.304222</td>\n",
       "      <td>0.003581</td>\n",
       "      <td>31.139973</td>\n",
       "      <td>LightGBM - 2</td>\n",
       "    </tr>\n",
       "    <tr>\n",
       "      <th>RandomForest - 1</th>\n",
       "      <td>0.678428</td>\n",
       "      <td>0.003796</td>\n",
       "      <td>32.915087</td>\n",
       "      <td>RandomForest - 1</td>\n",
       "    </tr>\n",
       "    <tr>\n",
       "      <th>RandomForest - 2</th>\n",
       "      <td>1.217267</td>\n",
       "      <td>0.005189</td>\n",
       "      <td>31.283024</td>\n",
       "      <td>RandomForest - 2</td>\n",
       "    </tr>\n",
       "    <tr>\n",
       "      <th>CatBoost - 1</th>\n",
       "      <td>2.417268</td>\n",
       "      <td>0.002319</td>\n",
       "      <td>33.994316</td>\n",
       "      <td>CatBoost - 1</td>\n",
       "    </tr>\n",
       "    <tr>\n",
       "      <th>CatBoost - 2</th>\n",
       "      <td>1.104857</td>\n",
       "      <td>0.002319</td>\n",
       "      <td>30.682992</td>\n",
       "      <td>CatBoost - 2</td>\n",
       "    </tr>\n",
       "  </tbody>\n",
       "</table>\n",
       "</div>"
      ],
      "text/plain": [
       "                 Время обучения Время предсказания       RMSE  \\\n",
       "LightGBM - 1           3.909118           0.007384  30.379066   \n",
       "LightGBM - 2           6.304222           0.003581  31.139973   \n",
       "RandomForest - 1       0.678428           0.003796  32.915087   \n",
       "RandomForest - 2       1.217267           0.005189  31.283024   \n",
       "CatBoost - 1           2.417268           0.002319  33.994316   \n",
       "CatBoost - 2           1.104857           0.002319  30.682992   \n",
       "\n",
       "                            Модель  \n",
       "LightGBM - 1          LightGBM - 1  \n",
       "LightGBM - 2          LightGBM - 2  \n",
       "RandomForest - 1  RandomForest - 1  \n",
       "RandomForest - 2  RandomForest - 2  \n",
       "CatBoost - 1          CatBoost - 1  \n",
       "CatBoost - 2          CatBoost - 2  "
      ]
     },
     "execution_count": 34,
     "metadata": {},
     "output_type": "execute_result"
    }
   ],
   "source": [
    "cat2_learn_time,cat2 = learning_time(CatBoostRegressor(loss_function = 'RMSE', learning_rate=0.1, \n",
    "                                                       iterations = 110, cat_features = cat, verbose=13), \n",
    "                                     features_train, target_train)\n",
    "cat2_pred_time,cat2_predict = predicted_time(cat2,features_valid)\n",
    "cat2_rmse = np.sqrt(mean_squared_error(target_valid, cat2_predict))\n",
    "table_results(cat2_learn_time,cat1_pred_time, cat2_rmse, 'CatBoost - 2',results)"
   ]
  },
  {
   "cell_type": "markdown",
   "metadata": {},
   "source": [
    "<div style=\"border:solid steelblue 2px; padding: 10px; border-radius: 5px\"> \n",
    "Все модели прошли критерий значения метрики RMSE меньше 48.<br/>\n",
    "Наилучший показатель RMSE 30.38 у модели LightGBM - 1, протестируем."
   ]
  },
  {
   "cell_type": "markdown",
   "metadata": {},
   "source": [
    "## Тестирование"
   ]
  },
  {
   "cell_type": "code",
   "execution_count": 35,
   "metadata": {},
   "outputs": [
    {
     "name": "stdout",
     "output_type": "stream",
     "text": [
      "Значение RMSE модели LightGBM-1 на тестовой выборке: 44.04406617730845\n"
     ]
    }
   ],
   "source": [
    "model_lgbm = LGBMRegressor(learning_rate=0.1, num_leaves=90, n_estimators=110, random_state=state)\n",
    "model_lgbm.fit(features_train_ohe, target_train)\n",
    "predicted_lgbm = model_lgbm.predict(features_test_ohe)\n",
    "print('Значение RMSE модели LightGBM-1 на тестовой выборке:', np.sqrt(mean_squared_error(target_test, predicted_lgbm)))"
   ]
  },
  {
   "cell_type": "markdown",
   "metadata": {},
   "source": [
    "Посмотрим на графике предсказанные значения лучшей модели и реальные тестовые"
   ]
  },
  {
   "cell_type": "code",
   "execution_count": 36,
   "metadata": {},
   "outputs": [
    {
     "data": {
      "image/png": "[encoded data removed]",
      "text/plain": [
       "<Figure size 936x360 with 1 Axes>"
      ]
     },
     "metadata": {
      "needs_background": "light"
     },
     "output_type": "display_data"
    }
   ],
   "source": [
    "plt.figure(figsize=(13, 5))\n",
    "\n",
    "plt.plot(target_test, label='Реальность', color='#6d9bc3')\n",
    "plt.plot(target_test.index, predicted_lgbm, label='Предсказание', color='#e87e6b')\n",
    "\n",
    "plt.title('Предсказанные значения лучшей модели и реальные тестовые')\n",
    "plt.legend()\n",
    "plt.show()"
   ]
  },
  {
   "cell_type": "markdown",
   "metadata": {},
   "source": [
    "## Вывод"
   ]
  },
  {
   "cell_type": "markdown",
   "metadata": {},
   "source": [
    "<div class=\"alert-info\" style=\"padding: 20px; border-radius: 10px\"> \n",
    "Наши данные за 2018 год, пропуски отсутствуют, установлен индекс таблицы равным столбцу даты и времени, выполнена замена интервала временного ряда. <br/>\n",
    "Заметно явное увеличение заказов такси с июня по июль, существенный рост в августе - пора отпусков. Рассмотрев сезонность августа, видим пики заказов в воскресенье, возможно, из-за прилетов ночных рейсов.\n",
    "В будние дни видим пики заказов в утренние часы, во второй половине дня и после 18:00.\n",
    "В выходные дни в ночное время больше заказов, также видим пик заказов в ночь на понедельник. <br/>\n",
    "    \n",
    "Обучили модели с разными гиперпараметрами LightGBM Regressor, Random Forest Regressor и CatBoostRegressor. <br/>\n",
    "Все модели прошли критерий значения метрики RMSE меньше 48. <br/>\n",
    "\n",
    "    \n",
    "Наилучший показатель RMSE 30.38 у модели LightGBM - 1, протестируем. <br/>\n",
    "        \n",
    "Значение метрики RMSE на тестовой выборке 44.04, цель достигнута. <br/>"
   ]
  }
 ],
 "metadata": {
  "ExecuteTimeLog": [
   {
    "duration": 487,
    "start_time": "2024-04-26T12:16:34.673Z"
   },
   {
    "duration": 67,
    "start_time": "2024-04-26T12:17:23.751Z"
   },
   {
    "duration": 8,
    "start_time": "2024-04-26T12:17:32.181Z"
   },
   {
    "duration": 65,
    "start_time": "2024-04-26T12:18:01.959Z"
   },
   {
    "duration": 159,
    "start_time": "2024-04-26T12:18:14.469Z"
   },
   {
    "duration": 15,
    "start_time": "2024-04-26T12:18:23.238Z"
   },
   {
    "duration": 13,
    "start_time": "2024-04-26T12:18:37.405Z"
   },
   {
    "duration": 14,
    "start_time": "2024-04-26T12:19:05.813Z"
   },
   {
    "duration": 14,
    "start_time": "2024-04-26T12:19:38.424Z"
   },
   {
    "duration": 25,
    "start_time": "2024-04-26T12:21:46.282Z"
   },
   {
    "duration": 14,
    "start_time": "2024-04-26T12:21:55.057Z"
   },
   {
    "duration": 52,
    "start_time": "2024-04-26T12:23:32.185Z"
   },
   {
    "duration": 13,
    "start_time": "2024-04-26T12:23:32.996Z"
   },
   {
    "duration": 13,
    "start_time": "2024-04-26T12:23:33.810Z"
   },
   {
    "duration": 3,
    "start_time": "2024-04-26T12:24:53.584Z"
   },
   {
    "duration": 14,
    "start_time": "2024-04-26T12:25:20.590Z"
   },
   {
    "duration": 7,
    "start_time": "2024-04-26T12:26:22.456Z"
   },
   {
    "duration": 11,
    "start_time": "2024-04-26T12:27:10.254Z"
   },
   {
    "duration": 13,
    "start_time": "2024-04-26T12:27:14.080Z"
   },
   {
    "duration": 420,
    "start_time": "2024-04-26T12:28:51.398Z"
   },
   {
    "duration": 48,
    "start_time": "2024-04-26T12:28:51.819Z"
   },
   {
    "duration": 14,
    "start_time": "2024-04-26T12:28:51.869Z"
   },
   {
    "duration": 28,
    "start_time": "2024-04-26T12:28:51.884Z"
   },
   {
    "duration": 146,
    "start_time": "2024-04-26T12:28:51.915Z"
   },
   {
    "duration": 0,
    "start_time": "2024-04-26T12:28:52.062Z"
   },
   {
    "duration": 5,
    "start_time": "2024-04-26T12:29:11.427Z"
   },
   {
    "duration": 11,
    "start_time": "2024-04-26T12:29:24.297Z"
   },
   {
    "duration": 438,
    "start_time": "2024-04-26T12:29:59.834Z"
   },
   {
    "duration": 54,
    "start_time": "2024-04-26T12:30:00.274Z"
   },
   {
    "duration": 191,
    "start_time": "2024-04-26T12:30:00.329Z"
   },
   {
    "duration": 243,
    "start_time": "2024-04-26T12:30:00.523Z"
   },
   {
    "duration": 213,
    "start_time": "2024-04-26T12:30:00.767Z"
   },
   {
    "duration": 1332,
    "start_time": "2024-04-26T12:30:00.982Z"
   },
   {
    "duration": 0,
    "start_time": "2024-04-26T12:30:02.316Z"
   },
   {
    "duration": 452,
    "start_time": "2024-04-26T12:30:19.373Z"
   },
   {
    "duration": 48,
    "start_time": "2024-04-26T12:30:19.828Z"
   },
   {
    "duration": 15,
    "start_time": "2024-04-26T12:30:19.878Z"
   },
   {
    "duration": 24,
    "start_time": "2024-04-26T12:30:19.895Z"
   },
   {
    "duration": 75,
    "start_time": "2024-04-26T12:30:19.921Z"
   },
   {
    "duration": 7,
    "start_time": "2024-04-26T12:30:20.003Z"
   },
   {
    "duration": 459,
    "start_time": "2024-04-26T12:31:12.452Z"
   },
   {
    "duration": 50,
    "start_time": "2024-04-26T12:31:12.914Z"
   },
   {
    "duration": 15,
    "start_time": "2024-04-26T12:31:12.967Z"
   },
   {
    "duration": 20,
    "start_time": "2024-04-26T12:31:12.984Z"
   },
   {
    "duration": 1248,
    "start_time": "2024-04-26T12:31:13.006Z"
   },
   {
    "duration": 0,
    "start_time": "2024-04-26T12:31:14.256Z"
   },
   {
    "duration": 47,
    "start_time": "2024-04-26T12:31:37.018Z"
   },
   {
    "duration": 7,
    "start_time": "2024-04-26T12:31:40.650Z"
   },
   {
    "duration": 410,
    "start_time": "2024-04-26T12:31:51.909Z"
   },
   {
    "duration": 48,
    "start_time": "2024-04-26T12:31:52.321Z"
   },
   {
    "duration": 13,
    "start_time": "2024-04-26T12:31:52.371Z"
   },
   {
    "duration": 32,
    "start_time": "2024-04-26T12:31:52.386Z"
   },
   {
    "duration": 53,
    "start_time": "2024-04-26T12:31:52.420Z"
   },
   {
    "duration": 9,
    "start_time": "2024-04-26T12:31:52.474Z"
   },
   {
    "duration": 9,
    "start_time": "2024-04-26T12:32:19.194Z"
   },
   {
    "duration": 2,
    "start_time": "2024-04-26T12:33:04.574Z"
   },
   {
    "duration": 10,
    "start_time": "2024-04-26T12:33:28.092Z"
   },
   {
    "duration": 10,
    "start_time": "2024-04-26T12:33:51.469Z"
   },
   {
    "duration": 7,
    "start_time": "2024-04-26T12:34:17.548Z"
   },
   {
    "duration": 6,
    "start_time": "2024-04-26T12:36:27.339Z"
   },
   {
    "duration": 75,
    "start_time": "2024-04-26T12:38:17.529Z"
   },
   {
    "duration": 1158,
    "start_time": "2024-04-26T12:38:21.026Z"
   },
   {
    "duration": 3,
    "start_time": "2024-04-26T12:39:44.726Z"
   },
   {
    "duration": 398,
    "start_time": "2024-04-26T12:47:26.441Z"
   },
   {
    "duration": 57,
    "start_time": "2024-04-26T12:47:26.841Z"
   },
   {
    "duration": 18,
    "start_time": "2024-04-26T12:47:26.903Z"
   },
   {
    "duration": 56,
    "start_time": "2024-04-26T12:47:26.923Z"
   },
   {
    "duration": 73,
    "start_time": "2024-04-26T12:47:26.981Z"
   },
   {
    "duration": 41,
    "start_time": "2024-04-26T12:47:27.056Z"
   },
   {
    "duration": 16,
    "start_time": "2024-04-26T12:47:27.101Z"
   },
   {
    "duration": 6,
    "start_time": "2024-04-26T12:47:27.120Z"
   },
   {
    "duration": 19,
    "start_time": "2024-04-26T12:47:27.128Z"
   },
   {
    "duration": 9,
    "start_time": "2024-04-26T12:47:27.150Z"
   },
   {
    "duration": 8,
    "start_time": "2024-04-26T12:48:02.826Z"
   },
   {
    "duration": 66,
    "start_time": "2024-04-26T12:48:46.481Z"
   },
   {
    "duration": 13,
    "start_time": "2024-04-26T12:57:50.913Z"
   },
   {
    "duration": 429,
    "start_time": "2024-04-26T12:59:07.134Z"
   },
   {
    "duration": 55,
    "start_time": "2024-04-26T12:59:07.565Z"
   },
   {
    "duration": 14,
    "start_time": "2024-04-26T12:59:07.623Z"
   },
   {
    "duration": 12,
    "start_time": "2024-04-26T12:59:07.639Z"
   },
   {
    "duration": 3,
    "start_time": "2024-04-26T12:59:07.653Z"
   },
   {
    "duration": 11,
    "start_time": "2024-04-26T12:59:07.657Z"
   },
   {
    "duration": 103,
    "start_time": "2024-04-26T12:59:07.670Z"
   },
   {
    "duration": 0,
    "start_time": "2024-04-26T12:59:07.774Z"
   },
   {
    "duration": 0,
    "start_time": "2024-04-26T12:59:07.776Z"
   },
   {
    "duration": 4,
    "start_time": "2024-04-26T13:00:39.082Z"
   },
   {
    "duration": 5,
    "start_time": "2024-04-26T13:00:39.903Z"
   },
   {
    "duration": 4,
    "start_time": "2024-04-26T13:00:40.226Z"
   },
   {
    "duration": 10,
    "start_time": "2024-04-26T13:00:40.472Z"
   },
   {
    "duration": 6,
    "start_time": "2024-04-26T13:00:40.862Z"
   },
   {
    "duration": 5,
    "start_time": "2024-04-26T13:00:41.284Z"
   },
   {
    "duration": 944,
    "start_time": "2024-04-26T13:08:37.831Z"
   },
   {
    "duration": 357,
    "start_time": "2024-04-26T13:09:53.960Z"
   },
   {
    "duration": 42,
    "start_time": "2024-04-27T10:08:25.846Z"
   },
   {
    "duration": 6,
    "start_time": "2024-04-27T10:08:31.024Z"
   },
   {
    "duration": 1188,
    "start_time": "2024-04-27T10:08:53.774Z"
   },
   {
    "duration": 94,
    "start_time": "2024-04-27T10:08:54.964Z"
   },
   {
    "duration": 10,
    "start_time": "2024-04-27T10:08:55.059Z"
   },
   {
    "duration": 30,
    "start_time": "2024-04-27T10:08:55.070Z"
   },
   {
    "duration": 18,
    "start_time": "2024-04-27T10:08:55.102Z"
   },
   {
    "duration": 48,
    "start_time": "2024-04-27T10:08:55.122Z"
   },
   {
    "duration": 46,
    "start_time": "2024-04-27T10:08:55.172Z"
   },
   {
    "duration": 48,
    "start_time": "2024-04-27T10:08:55.219Z"
   },
   {
    "duration": 23,
    "start_time": "2024-04-27T10:08:55.268Z"
   },
   {
    "duration": 19,
    "start_time": "2024-04-27T10:08:55.292Z"
   },
   {
    "duration": 460,
    "start_time": "2024-04-27T10:08:55.312Z"
   },
   {
    "duration": 48,
    "start_time": "2024-04-27T10:08:55.774Z"
   },
   {
    "duration": 394,
    "start_time": "2024-04-27T10:09:11.821Z"
   },
   {
    "duration": 358,
    "start_time": "2024-04-27T10:09:29.860Z"
   },
   {
    "duration": 380,
    "start_time": "2024-04-27T10:09:48.716Z"
   },
   {
    "duration": 431,
    "start_time": "2024-04-27T10:10:01.180Z"
   },
   {
    "duration": 391,
    "start_time": "2024-04-27T10:11:28.416Z"
   },
   {
    "duration": 342,
    "start_time": "2024-04-27T10:12:36.654Z"
   },
   {
    "duration": 1116,
    "start_time": "2024-04-27T10:13:34.486Z"
   },
   {
    "duration": 282,
    "start_time": "2024-04-27T10:13:39.848Z"
   },
   {
    "duration": 370,
    "start_time": "2024-04-27T10:13:55.836Z"
   },
   {
    "duration": 7,
    "start_time": "2024-04-27T10:14:05.517Z"
   },
   {
    "duration": 90,
    "start_time": "2024-04-27T10:14:45.945Z"
   },
   {
    "duration": 49,
    "start_time": "2024-04-27T10:16:56.373Z"
   },
   {
    "duration": 35,
    "start_time": "2024-04-27T10:30:21.199Z"
   },
   {
    "duration": 41,
    "start_time": "2024-04-27T10:37:26.102Z"
   },
   {
    "duration": 47,
    "start_time": "2024-04-27T10:37:29.980Z"
   },
   {
    "duration": 42,
    "start_time": "2024-04-27T10:38:01.322Z"
   },
   {
    "duration": 93,
    "start_time": "2024-04-27T10:38:08.932Z"
   },
   {
    "duration": 96,
    "start_time": "2024-04-27T10:39:12.324Z"
   },
   {
    "duration": 14,
    "start_time": "2024-04-27T10:39:21.360Z"
   },
   {
    "duration": 418,
    "start_time": "2024-04-27T10:40:03.741Z"
   },
   {
    "duration": 166,
    "start_time": "2024-04-27T10:41:09.070Z"
   },
   {
    "duration": 215,
    "start_time": "2024-04-27T10:44:18.175Z"
   },
   {
    "duration": 332,
    "start_time": "2024-04-27T10:44:28.273Z"
   },
   {
    "duration": 62,
    "start_time": "2024-04-27T10:47:55.711Z"
   },
   {
    "duration": 43,
    "start_time": "2024-04-27T10:48:59.581Z"
   },
   {
    "duration": 63,
    "start_time": "2024-04-27T10:49:05.020Z"
   },
   {
    "duration": 55,
    "start_time": "2024-04-27T10:49:13.697Z"
   },
   {
    "duration": 62,
    "start_time": "2024-04-27T10:50:23.647Z"
   },
   {
    "duration": 43,
    "start_time": "2024-04-27T10:51:04.944Z"
   },
   {
    "duration": 38,
    "start_time": "2024-04-27T10:51:11.282Z"
   },
   {
    "duration": 369,
    "start_time": "2024-04-27T10:51:34.444Z"
   },
   {
    "duration": 429,
    "start_time": "2024-04-27T10:52:08.681Z"
   },
   {
    "duration": 374,
    "start_time": "2024-04-27T11:21:47.217Z"
   },
   {
    "duration": 371,
    "start_time": "2024-04-27T11:22:05.530Z"
   },
   {
    "duration": 355,
    "start_time": "2024-04-27T11:22:14.656Z"
   },
   {
    "duration": 43,
    "start_time": "2024-04-27T11:31:57.688Z"
   },
   {
    "duration": 47,
    "start_time": "2024-04-27T11:32:12.480Z"
   },
   {
    "duration": 114,
    "start_time": "2024-04-27T11:32:16.999Z"
   },
   {
    "duration": 7,
    "start_time": "2024-04-27T11:34:17.455Z"
   },
   {
    "duration": 2,
    "start_time": "2024-04-27T11:36:13.532Z"
   },
   {
    "duration": 8,
    "start_time": "2024-04-27T11:36:14.707Z"
   },
   {
    "duration": 8,
    "start_time": "2024-04-27T11:37:19.045Z"
   },
   {
    "duration": 50,
    "start_time": "2024-04-27T11:38:43.945Z"
   },
   {
    "duration": 88,
    "start_time": "2024-04-27T11:39:00.840Z"
   },
   {
    "duration": 44,
    "start_time": "2024-04-27T11:39:46.825Z"
   },
   {
    "duration": 52,
    "start_time": "2024-04-27T11:40:03.719Z"
   },
   {
    "duration": 43,
    "start_time": "2024-04-27T11:40:13.913Z"
   },
   {
    "duration": 3,
    "start_time": "2024-04-27T11:43:35.344Z"
   },
   {
    "duration": 49,
    "start_time": "2024-04-27T11:43:36.121Z"
   },
   {
    "duration": 3,
    "start_time": "2024-04-27T11:43:52.695Z"
   },
   {
    "duration": 3,
    "start_time": "2024-04-27T11:44:25.986Z"
   },
   {
    "duration": 8,
    "start_time": "2024-04-27T11:47:46.030Z"
   },
   {
    "duration": 7,
    "start_time": "2024-04-27T11:48:27.744Z"
   },
   {
    "duration": 3,
    "start_time": "2024-04-27T11:48:50.884Z"
   },
   {
    "duration": 9,
    "start_time": "2024-04-27T11:49:02.268Z"
   },
   {
    "duration": 8,
    "start_time": "2024-04-27T11:54:30.117Z"
   },
   {
    "duration": 7,
    "start_time": "2024-04-27T11:55:17.838Z"
   },
   {
    "duration": 7,
    "start_time": "2024-04-27T11:59:47.423Z"
   },
   {
    "duration": 7,
    "start_time": "2024-04-27T12:07:31.382Z"
   },
   {
    "duration": 2,
    "start_time": "2024-04-27T12:10:03.814Z"
   },
   {
    "duration": 386,
    "start_time": "2024-04-27T12:11:10.194Z"
   },
   {
    "duration": 425,
    "start_time": "2024-04-27T12:11:28.670Z"
   },
   {
    "duration": 2,
    "start_time": "2024-04-27T12:20:51.385Z"
   },
   {
    "duration": 7,
    "start_time": "2024-04-27T12:20:52.118Z"
   },
   {
    "duration": 8,
    "start_time": "2024-04-27T12:21:13.358Z"
   },
   {
    "duration": 138,
    "start_time": "2024-04-27T12:22:29.179Z"
   },
   {
    "duration": 137,
    "start_time": "2024-04-27T12:23:18.710Z"
   },
   {
    "duration": 438,
    "start_time": "2024-04-27T12:23:42.075Z"
   },
   {
    "duration": 412,
    "start_time": "2024-04-27T12:25:13.057Z"
   },
   {
    "duration": 10,
    "start_time": "2024-04-27T12:27:05.864Z"
   },
   {
    "duration": 3,
    "start_time": "2024-04-27T12:27:14.724Z"
   },
   {
    "duration": 9,
    "start_time": "2024-04-27T12:27:16.066Z"
   },
   {
    "duration": 3,
    "start_time": "2024-04-27T12:27:23.597Z"
   },
   {
    "duration": 134,
    "start_time": "2024-04-27T12:27:24.341Z"
   },
   {
    "duration": 3,
    "start_time": "2024-04-27T12:27:45.717Z"
   },
   {
    "duration": 140,
    "start_time": "2024-04-27T12:27:47.349Z"
   },
   {
    "duration": 9,
    "start_time": "2024-04-27T12:28:34.984Z"
   },
   {
    "duration": 3,
    "start_time": "2024-04-27T12:28:52.091Z"
   },
   {
    "duration": 471,
    "start_time": "2024-04-27T12:28:53.873Z"
   },
   {
    "duration": 3,
    "start_time": "2024-04-27T12:29:07.339Z"
   },
   {
    "duration": 403,
    "start_time": "2024-04-27T12:29:08.139Z"
   },
   {
    "duration": 363,
    "start_time": "2024-04-27T12:29:27.341Z"
   },
   {
    "duration": 314,
    "start_time": "2024-04-27T12:29:38.382Z"
   },
   {
    "duration": 330,
    "start_time": "2024-04-27T12:29:45.890Z"
   },
   {
    "duration": 420,
    "start_time": "2024-04-27T12:30:19.695Z"
   },
   {
    "duration": 2,
    "start_time": "2024-04-27T12:30:34.150Z"
   },
   {
    "duration": 382,
    "start_time": "2024-04-27T12:30:35.240Z"
   },
   {
    "duration": 8,
    "start_time": "2024-04-27T12:32:48.465Z"
   },
   {
    "duration": 8,
    "start_time": "2024-04-27T12:32:54.913Z"
   },
   {
    "duration": 376,
    "start_time": "2024-04-27T12:33:06.994Z"
   },
   {
    "duration": 8,
    "start_time": "2024-04-27T12:33:43.633Z"
   },
   {
    "duration": 8,
    "start_time": "2024-04-27T12:34:13.049Z"
   },
   {
    "duration": 342,
    "start_time": "2024-04-27T12:36:05.669Z"
   },
   {
    "duration": 7,
    "start_time": "2024-04-27T12:36:15.733Z"
   },
   {
    "duration": 9,
    "start_time": "2024-04-27T12:38:02.251Z"
   },
   {
    "duration": 384,
    "start_time": "2024-04-27T12:38:45.796Z"
   },
   {
    "duration": 8,
    "start_time": "2024-04-27T12:38:53.072Z"
   },
   {
    "duration": 397,
    "start_time": "2024-04-27T12:39:33.843Z"
   },
   {
    "duration": 345,
    "start_time": "2024-04-27T12:39:41.694Z"
   },
   {
    "duration": 8,
    "start_time": "2024-04-27T12:40:02.638Z"
   },
   {
    "duration": 884,
    "start_time": "2024-04-27T12:42:16.143Z"
   },
   {
    "duration": 45,
    "start_time": "2024-04-27T12:42:17.028Z"
   },
   {
    "duration": 9,
    "start_time": "2024-04-27T12:42:17.074Z"
   },
   {
    "duration": 12,
    "start_time": "2024-04-27T12:42:17.084Z"
   },
   {
    "duration": 10,
    "start_time": "2024-04-27T12:42:17.098Z"
   },
   {
    "duration": 14,
    "start_time": "2024-04-27T12:42:17.109Z"
   },
   {
    "duration": 5,
    "start_time": "2024-04-27T12:42:17.124Z"
   },
   {
    "duration": 14,
    "start_time": "2024-04-27T12:42:17.130Z"
   },
   {
    "duration": 19,
    "start_time": "2024-04-27T12:42:17.145Z"
   },
   {
    "duration": 41,
    "start_time": "2024-04-27T12:42:17.165Z"
   },
   {
    "duration": 420,
    "start_time": "2024-04-27T12:42:17.208Z"
   },
   {
    "duration": 100,
    "start_time": "2024-04-27T12:42:17.629Z"
   },
   {
    "duration": 0,
    "start_time": "2024-04-27T12:42:17.730Z"
   },
   {
    "duration": 0,
    "start_time": "2024-04-27T12:42:17.732Z"
   },
   {
    "duration": 9,
    "start_time": "2024-04-27T12:42:35.187Z"
   },
   {
    "duration": 11,
    "start_time": "2024-04-27T12:42:58.306Z"
   },
   {
    "duration": 363,
    "start_time": "2024-04-27T12:43:13.955Z"
   },
   {
    "duration": 2,
    "start_time": "2024-04-27T12:43:16.895Z"
   },
   {
    "duration": 385,
    "start_time": "2024-04-27T12:43:17.797Z"
   },
   {
    "duration": 42,
    "start_time": "2024-04-27T12:45:10.306Z"
   },
   {
    "duration": 583,
    "start_time": "2024-04-27T12:45:46.601Z"
   },
   {
    "duration": 2,
    "start_time": "2024-04-27T12:46:07.361Z"
   },
   {
    "duration": 542,
    "start_time": "2024-04-27T12:49:43.574Z"
   },
   {
    "duration": 2,
    "start_time": "2024-04-27T12:49:56.388Z"
   },
   {
    "duration": 637,
    "start_time": "2024-04-27T12:49:57.708Z"
   },
   {
    "duration": 713,
    "start_time": "2024-04-27T12:50:49.265Z"
   },
   {
    "duration": 3,
    "start_time": "2024-04-27T12:50:56.931Z"
   },
   {
    "duration": 590,
    "start_time": "2024-04-27T12:50:58.034Z"
   },
   {
    "duration": 636,
    "start_time": "2024-04-27T12:54:26.608Z"
   },
   {
    "duration": 2,
    "start_time": "2024-04-27T12:55:09.671Z"
   },
   {
    "duration": 3,
    "start_time": "2024-04-27T12:55:25.509Z"
   },
   {
    "duration": 1420,
    "start_time": "2024-04-27T15:41:56.845Z"
   },
   {
    "duration": 102,
    "start_time": "2024-04-27T15:41:58.267Z"
   },
   {
    "duration": 11,
    "start_time": "2024-04-27T15:41:58.372Z"
   },
   {
    "duration": 10,
    "start_time": "2024-04-27T15:41:58.386Z"
   },
   {
    "duration": 4,
    "start_time": "2024-04-27T15:41:58.398Z"
   },
   {
    "duration": 13,
    "start_time": "2024-04-27T15:41:58.403Z"
   },
   {
    "duration": 4,
    "start_time": "2024-04-27T15:41:58.418Z"
   },
   {
    "duration": 24,
    "start_time": "2024-04-27T15:41:58.429Z"
   },
   {
    "duration": 7,
    "start_time": "2024-04-27T15:41:58.455Z"
   },
   {
    "duration": 17,
    "start_time": "2024-04-27T15:41:58.463Z"
   },
   {
    "duration": 526,
    "start_time": "2024-04-27T15:41:58.482Z"
   },
   {
    "duration": 465,
    "start_time": "2024-04-27T15:41:59.010Z"
   },
   {
    "duration": 4,
    "start_time": "2024-04-27T15:41:59.479Z"
   },
   {
    "duration": 892,
    "start_time": "2024-04-27T15:41:59.485Z"
   },
   {
    "duration": 1013,
    "start_time": "2024-04-27T15:42:47.969Z"
   },
   {
    "duration": 929,
    "start_time": "2024-04-27T15:43:09.692Z"
   },
   {
    "duration": 3,
    "start_time": "2024-04-27T15:43:17.704Z"
   },
   {
    "duration": 4,
    "start_time": "2024-04-27T15:44:14.586Z"
   },
   {
    "duration": 510,
    "start_time": "2024-04-27T15:44:33.846Z"
   },
   {
    "duration": 518,
    "start_time": "2024-04-27T15:45:06.829Z"
   },
   {
    "duration": 3,
    "start_time": "2024-04-27T15:45:25.609Z"
   },
   {
    "duration": 490,
    "start_time": "2024-04-27T15:45:27.035Z"
   },
   {
    "duration": 10,
    "start_time": "2024-04-27T15:46:48.474Z"
   },
   {
    "duration": 8,
    "start_time": "2024-04-27T15:46:55.573Z"
   },
   {
    "duration": 8,
    "start_time": "2024-04-27T15:47:08.751Z"
   },
   {
    "duration": 6,
    "start_time": "2024-04-27T15:47:46.108Z"
   },
   {
    "duration": 7,
    "start_time": "2024-04-27T15:47:48.491Z"
   },
   {
    "duration": 7,
    "start_time": "2024-04-27T15:48:09.206Z"
   },
   {
    "duration": 6,
    "start_time": "2024-04-27T15:48:24.931Z"
   },
   {
    "duration": 1270,
    "start_time": "2024-04-27T17:42:29.502Z"
   },
   {
    "duration": 98,
    "start_time": "2024-04-27T17:42:30.773Z"
   },
   {
    "duration": 10,
    "start_time": "2024-04-27T17:42:30.873Z"
   },
   {
    "duration": 54,
    "start_time": "2024-04-27T17:42:30.885Z"
   },
   {
    "duration": 72,
    "start_time": "2024-04-27T17:42:30.941Z"
   },
   {
    "duration": 51,
    "start_time": "2024-04-27T17:42:31.014Z"
   },
   {
    "duration": 52,
    "start_time": "2024-04-27T17:42:31.066Z"
   },
   {
    "duration": 43,
    "start_time": "2024-04-27T17:42:31.119Z"
   },
   {
    "duration": 50,
    "start_time": "2024-04-27T17:42:31.163Z"
   },
   {
    "duration": 21,
    "start_time": "2024-04-27T17:42:31.214Z"
   },
   {
    "duration": 536,
    "start_time": "2024-04-27T17:42:31.236Z"
   },
   {
    "duration": 412,
    "start_time": "2024-04-27T17:42:31.774Z"
   },
   {
    "duration": 4,
    "start_time": "2024-04-27T17:42:32.187Z"
   },
   {
    "duration": 444,
    "start_time": "2024-04-27T17:42:32.193Z"
   },
   {
    "duration": 6,
    "start_time": "2024-04-27T17:42:32.638Z"
   },
   {
    "duration": 36,
    "start_time": "2024-04-27T17:42:32.645Z"
   },
   {
    "duration": 8,
    "start_time": "2024-04-27T17:42:32.683Z"
   },
   {
    "duration": 6,
    "start_time": "2024-04-27T17:43:37.076Z"
   },
   {
    "duration": 5,
    "start_time": "2024-04-27T17:46:35.511Z"
   },
   {
    "duration": 6,
    "start_time": "2024-04-27T17:48:11.617Z"
   },
   {
    "duration": 477,
    "start_time": "2024-04-27T17:49:58.172Z"
   },
   {
    "duration": 6,
    "start_time": "2024-04-27T17:51:02.459Z"
   },
   {
    "duration": 6,
    "start_time": "2024-04-27T17:51:04.851Z"
   },
   {
    "duration": 416,
    "start_time": "2024-04-27T17:52:05.791Z"
   },
   {
    "duration": 6,
    "start_time": "2024-04-27T17:52:34.939Z"
   },
   {
    "duration": 7,
    "start_time": "2024-04-27T17:52:35.407Z"
   },
   {
    "duration": 6,
    "start_time": "2024-04-27T17:52:35.859Z"
   },
   {
    "duration": 6,
    "start_time": "2024-04-27T17:52:44.135Z"
   },
   {
    "duration": 6,
    "start_time": "2024-04-27T17:53:41.593Z"
   },
   {
    "duration": 282,
    "start_time": "2024-04-27T18:07:12.936Z"
   },
   {
    "duration": 4,
    "start_time": "2024-04-27T18:07:35.133Z"
   },
   {
    "duration": 5,
    "start_time": "2024-04-27T18:28:42.748Z"
   },
   {
    "duration": 3,
    "start_time": "2024-04-27T18:29:38.643Z"
   },
   {
    "duration": 3,
    "start_time": "2024-04-27T18:45:22.024Z"
   },
   {
    "duration": 4,
    "start_time": "2024-04-27T18:48:00.141Z"
   },
   {
    "duration": 12,
    "start_time": "2024-04-27T18:49:34.053Z"
   },
   {
    "duration": 14,
    "start_time": "2024-04-27T18:49:48.633Z"
   },
   {
    "duration": 5,
    "start_time": "2024-04-27T18:50:23.528Z"
   },
   {
    "duration": 5,
    "start_time": "2024-04-27T18:50:37.451Z"
   },
   {
    "duration": 6,
    "start_time": "2024-04-27T18:50:57.815Z"
   },
   {
    "duration": 6,
    "start_time": "2024-04-27T18:51:09.895Z"
   },
   {
    "duration": 5,
    "start_time": "2024-04-27T18:51:10.191Z"
   },
   {
    "duration": 3,
    "start_time": "2024-04-27T18:51:10.912Z"
   },
   {
    "duration": 120,
    "start_time": "2024-04-27T20:51:36.470Z"
   },
   {
    "duration": 1241,
    "start_time": "2024-04-27T20:51:48.392Z"
   },
   {
    "duration": 48,
    "start_time": "2024-04-27T20:51:49.634Z"
   },
   {
    "duration": 11,
    "start_time": "2024-04-27T20:51:49.684Z"
   },
   {
    "duration": 10,
    "start_time": "2024-04-27T20:51:49.696Z"
   },
   {
    "duration": 3,
    "start_time": "2024-04-27T20:51:49.708Z"
   },
   {
    "duration": 3,
    "start_time": "2024-04-27T20:51:49.713Z"
   },
   {
    "duration": 5,
    "start_time": "2024-04-27T20:51:49.717Z"
   },
   {
    "duration": 9,
    "start_time": "2024-04-27T20:51:49.723Z"
   },
   {
    "duration": 33,
    "start_time": "2024-04-27T20:51:49.733Z"
   },
   {
    "duration": 8,
    "start_time": "2024-04-27T20:51:49.768Z"
   },
   {
    "duration": 451,
    "start_time": "2024-04-27T20:51:49.777Z"
   },
   {
    "duration": 374,
    "start_time": "2024-04-27T20:51:50.229Z"
   },
   {
    "duration": 7,
    "start_time": "2024-04-27T20:51:50.604Z"
   },
   {
    "duration": 4,
    "start_time": "2024-04-27T20:51:50.613Z"
   },
   {
    "duration": 10,
    "start_time": "2024-04-27T20:51:50.618Z"
   },
   {
    "duration": 27,
    "start_time": "2024-04-27T20:51:50.629Z"
   },
   {
    "duration": 5,
    "start_time": "2024-04-27T20:51:50.657Z"
   },
   {
    "duration": 5,
    "start_time": "2024-04-27T21:00:16.393Z"
   },
   {
    "duration": 43,
    "start_time": "2024-04-27T21:06:17.017Z"
   },
   {
    "duration": 6,
    "start_time": "2024-04-27T21:06:49.590Z"
   },
   {
    "duration": 6,
    "start_time": "2024-04-27T21:06:49.968Z"
   },
   {
    "duration": 4,
    "start_time": "2024-04-27T21:06:50.602Z"
   },
   {
    "duration": 6,
    "start_time": "2024-04-27T21:07:37.691Z"
   },
   {
    "duration": 5,
    "start_time": "2024-04-27T21:07:38.331Z"
   },
   {
    "duration": 4,
    "start_time": "2024-04-27T21:08:14.132Z"
   },
   {
    "duration": 4,
    "start_time": "2024-04-27T21:12:37.667Z"
   },
   {
    "duration": 3,
    "start_time": "2024-04-27T21:12:52.795Z"
   },
   {
    "duration": 101,
    "start_time": "2024-04-27T21:16:50.985Z"
   },
   {
    "duration": 4,
    "start_time": "2024-04-27T21:17:22.171Z"
   },
   {
    "duration": 3,
    "start_time": "2024-04-27T21:17:28.416Z"
   },
   {
    "duration": 7,
    "start_time": "2024-04-27T21:22:21.794Z"
   },
   {
    "duration": 8,
    "start_time": "2024-04-27T21:24:04.966Z"
   },
   {
    "duration": 4,
    "start_time": "2024-04-27T21:24:09.515Z"
   },
   {
    "duration": 4,
    "start_time": "2024-04-27T21:25:20.888Z"
   },
   {
    "duration": 3,
    "start_time": "2024-04-27T21:25:34.166Z"
   },
   {
    "duration": 6,
    "start_time": "2024-04-27T21:25:53.306Z"
   },
   {
    "duration": 5,
    "start_time": "2024-04-27T21:25:57.191Z"
   },
   {
    "duration": 4,
    "start_time": "2024-04-27T21:26:20.284Z"
   },
   {
    "duration": 5,
    "start_time": "2024-04-27T21:27:33.579Z"
   },
   {
    "duration": 3,
    "start_time": "2024-04-27T21:29:48.872Z"
   },
   {
    "duration": 4,
    "start_time": "2024-04-27T21:29:49.523Z"
   },
   {
    "duration": 7,
    "start_time": "2024-04-27T21:29:50.074Z"
   },
   {
    "duration": 6,
    "start_time": "2024-04-27T21:29:50.528Z"
   },
   {
    "duration": 4,
    "start_time": "2024-04-27T21:29:51.138Z"
   },
   {
    "duration": 1339,
    "start_time": "2024-04-27T21:30:04.601Z"
   },
   {
    "duration": 47,
    "start_time": "2024-04-27T21:30:05.942Z"
   },
   {
    "duration": 11,
    "start_time": "2024-04-27T21:30:05.991Z"
   },
   {
    "duration": 13,
    "start_time": "2024-04-27T21:30:06.004Z"
   },
   {
    "duration": 11,
    "start_time": "2024-04-27T21:30:06.019Z"
   },
   {
    "duration": 21,
    "start_time": "2024-04-27T21:30:06.031Z"
   },
   {
    "duration": 30,
    "start_time": "2024-04-27T21:30:06.054Z"
   },
   {
    "duration": 23,
    "start_time": "2024-04-27T21:30:06.086Z"
   },
   {
    "duration": 6,
    "start_time": "2024-04-27T21:30:06.111Z"
   },
   {
    "duration": 27,
    "start_time": "2024-04-27T21:30:06.118Z"
   },
   {
    "duration": 454,
    "start_time": "2024-04-27T21:30:06.146Z"
   },
   {
    "duration": 391,
    "start_time": "2024-04-27T21:30:06.601Z"
   },
   {
    "duration": 42,
    "start_time": "2024-04-27T21:30:06.994Z"
   },
   {
    "duration": 3,
    "start_time": "2024-04-27T21:30:07.039Z"
   },
   {
    "duration": 22,
    "start_time": "2024-04-27T21:30:07.043Z"
   },
   {
    "duration": 5,
    "start_time": "2024-04-27T21:30:07.067Z"
   },
   {
    "duration": 6,
    "start_time": "2024-04-27T21:30:07.074Z"
   },
   {
    "duration": 4,
    "start_time": "2024-04-27T21:30:07.082Z"
   },
   {
    "duration": 3,
    "start_time": "2024-04-27T21:30:07.087Z"
   },
   {
    "duration": 4,
    "start_time": "2024-04-27T21:30:07.092Z"
   },
   {
    "duration": 22,
    "start_time": "2024-04-27T21:30:07.097Z"
   },
   {
    "duration": 5,
    "start_time": "2024-04-27T21:30:07.121Z"
   },
   {
    "duration": 4,
    "start_time": "2024-04-27T21:30:40.070Z"
   },
   {
    "duration": 7,
    "start_time": "2024-04-27T21:31:04.462Z"
   },
   {
    "duration": 5,
    "start_time": "2024-04-27T21:31:05.232Z"
   },
   {
    "duration": 4,
    "start_time": "2024-04-27T21:31:05.794Z"
   },
   {
    "duration": 6,
    "start_time": "2024-04-27T21:31:12.822Z"
   },
   {
    "duration": 6,
    "start_time": "2024-04-27T21:31:14.058Z"
   },
   {
    "duration": 4,
    "start_time": "2024-04-27T21:31:14.668Z"
   },
   {
    "duration": 5,
    "start_time": "2024-04-27T21:31:20.128Z"
   },
   {
    "duration": 4,
    "start_time": "2024-04-27T21:31:21.090Z"
   },
   {
    "duration": 6,
    "start_time": "2024-04-27T21:31:25.244Z"
   },
   {
    "duration": 5,
    "start_time": "2024-04-27T21:31:25.776Z"
   },
   {
    "duration": 4,
    "start_time": "2024-04-27T21:31:26.294Z"
   },
   {
    "duration": 5,
    "start_time": "2024-04-27T21:31:44.209Z"
   },
   {
    "duration": 6,
    "start_time": "2024-04-27T21:31:44.970Z"
   },
   {
    "duration": 6,
    "start_time": "2024-04-27T21:31:45.343Z"
   },
   {
    "duration": 5,
    "start_time": "2024-04-27T21:31:50.241Z"
   },
   {
    "duration": 6,
    "start_time": "2024-04-27T21:31:50.629Z"
   },
   {
    "duration": 4,
    "start_time": "2024-04-27T21:31:51.489Z"
   },
   {
    "duration": 6,
    "start_time": "2024-04-27T21:31:55.827Z"
   },
   {
    "duration": 4,
    "start_time": "2024-04-27T21:31:56.199Z"
   },
   {
    "duration": 5,
    "start_time": "2024-04-27T21:32:10.954Z"
   },
   {
    "duration": 6,
    "start_time": "2024-04-27T21:32:12.169Z"
   },
   {
    "duration": 5,
    "start_time": "2024-04-27T21:32:29.873Z"
   },
   {
    "duration": 4,
    "start_time": "2024-04-27T21:32:30.168Z"
   },
   {
    "duration": 5,
    "start_time": "2024-04-27T21:32:43.675Z"
   },
   {
    "duration": 6,
    "start_time": "2024-04-27T21:32:44.156Z"
   },
   {
    "duration": 4,
    "start_time": "2024-04-27T21:32:44.796Z"
   },
   {
    "duration": 5,
    "start_time": "2024-04-27T21:32:49.875Z"
   },
   {
    "duration": 5,
    "start_time": "2024-04-27T21:32:50.431Z"
   },
   {
    "duration": 4,
    "start_time": "2024-04-27T21:32:51.024Z"
   },
   {
    "duration": 5,
    "start_time": "2024-04-27T21:35:09.154Z"
   },
   {
    "duration": 206,
    "start_time": "2024-04-27T21:36:35.570Z"
   },
   {
    "duration": 3,
    "start_time": "2024-04-27T21:36:45.706Z"
   },
   {
    "duration": 6605,
    "start_time": "2024-04-27T21:37:42.084Z"
   },
   {
    "duration": 54,
    "start_time": "2024-04-28T09:52:26.878Z"
   },
   {
    "duration": 47,
    "start_time": "2024-04-28T09:52:46.589Z"
   },
   {
    "duration": 7,
    "start_time": "2024-04-28T09:53:06.780Z"
   },
   {
    "duration": 40,
    "start_time": "2024-04-28T09:53:19.762Z"
   },
   {
    "duration": 1804,
    "start_time": "2024-04-28T09:53:29.824Z"
   },
   {
    "duration": 103,
    "start_time": "2024-04-28T09:53:31.630Z"
   },
   {
    "duration": 11,
    "start_time": "2024-04-28T09:53:31.735Z"
   },
   {
    "duration": 12,
    "start_time": "2024-04-28T09:53:31.747Z"
   },
   {
    "duration": 4,
    "start_time": "2024-04-28T09:53:31.761Z"
   },
   {
    "duration": 5,
    "start_time": "2024-04-28T09:53:31.766Z"
   },
   {
    "duration": 11,
    "start_time": "2024-04-28T09:53:31.772Z"
   },
   {
    "duration": 11,
    "start_time": "2024-04-28T09:53:31.785Z"
   },
   {
    "duration": 7,
    "start_time": "2024-04-28T09:53:31.798Z"
   },
   {
    "duration": 6,
    "start_time": "2024-04-28T09:53:31.806Z"
   },
   {
    "duration": 553,
    "start_time": "2024-04-28T09:53:31.813Z"
   },
   {
    "duration": 527,
    "start_time": "2024-04-28T09:53:32.368Z"
   },
   {
    "duration": 47,
    "start_time": "2024-04-28T09:53:32.897Z"
   },
   {
    "duration": 15,
    "start_time": "2024-04-28T09:53:32.947Z"
   },
   {
    "duration": 6,
    "start_time": "2024-04-28T09:53:32.965Z"
   },
   {
    "duration": 8,
    "start_time": "2024-04-28T09:53:32.973Z"
   },
   {
    "duration": 15,
    "start_time": "2024-04-28T09:53:32.983Z"
   },
   {
    "duration": 6,
    "start_time": "2024-04-28T09:53:33.000Z"
   },
   {
    "duration": 3,
    "start_time": "2024-04-28T09:53:33.008Z"
   },
   {
    "duration": 4,
    "start_time": "2024-04-28T09:53:33.013Z"
   },
   {
    "duration": 13,
    "start_time": "2024-04-28T09:53:33.018Z"
   },
   {
    "duration": 38,
    "start_time": "2024-04-28T09:53:33.033Z"
   },
   {
    "duration": 23,
    "start_time": "2024-04-28T09:53:33.072Z"
   },
   {
    "duration": 5387,
    "start_time": "2024-04-28T09:53:33.097Z"
   },
   {
    "duration": 75,
    "start_time": "2024-04-28T09:53:38.486Z"
   },
   {
    "duration": 0,
    "start_time": "2024-04-28T09:53:38.563Z"
   },
   {
    "duration": 8802,
    "start_time": "2024-04-28T09:53:51.468Z"
   },
   {
    "duration": 14361,
    "start_time": "2024-04-28T09:57:17.321Z"
   },
   {
    "duration": 8126,
    "start_time": "2024-04-28T09:57:53.338Z"
   },
   {
    "duration": 6944,
    "start_time": "2024-04-28T09:58:12.434Z"
   },
   {
    "duration": 41080,
    "start_time": "2024-04-28T09:58:25.388Z"
   },
   {
    "duration": 3911,
    "start_time": "2024-04-28T09:59:22.957Z"
   },
   {
    "duration": 9415,
    "start_time": "2024-04-28T09:59:42.558Z"
   },
   {
    "duration": 0,
    "start_time": "2024-04-28T10:00:14.763Z"
   },
   {
    "duration": 9492,
    "start_time": "2024-04-28T10:00:16.473Z"
   },
   {
    "duration": 39,
    "start_time": "2024-04-28T10:00:40.405Z"
   },
   {
    "duration": 26,
    "start_time": "2024-04-28T10:03:24.982Z"
   },
   {
    "duration": 20,
    "start_time": "2024-04-28T10:03:45.956Z"
   },
   {
    "duration": 3,
    "start_time": "2024-04-28T10:04:52.009Z"
   },
   {
    "duration": 13,
    "start_time": "2024-04-28T10:05:04.109Z"
   },
   {
    "duration": 4,
    "start_time": "2024-04-28T10:05:45.596Z"
   },
   {
    "duration": 18,
    "start_time": "2024-04-28T10:05:52.228Z"
   },
   {
    "duration": 7,
    "start_time": "2024-04-28T11:25:44.344Z"
   },
   {
    "duration": 16,
    "start_time": "2024-04-28T11:27:14.565Z"
   },
   {
    "duration": 1549,
    "start_time": "2024-04-28T11:28:43.105Z"
   },
   {
    "duration": 56,
    "start_time": "2024-04-28T11:28:44.656Z"
   },
   {
    "duration": 13,
    "start_time": "2024-04-28T11:28:44.714Z"
   },
   {
    "duration": 12,
    "start_time": "2024-04-28T11:28:44.729Z"
   },
   {
    "duration": 4,
    "start_time": "2024-04-28T11:28:44.744Z"
   },
   {
    "duration": 11,
    "start_time": "2024-04-28T11:28:44.749Z"
   },
   {
    "duration": 3,
    "start_time": "2024-04-28T11:28:44.762Z"
   },
   {
    "duration": 10,
    "start_time": "2024-04-28T11:28:44.766Z"
   },
   {
    "duration": 9,
    "start_time": "2024-04-28T11:28:44.778Z"
   },
   {
    "duration": 13,
    "start_time": "2024-04-28T11:28:44.790Z"
   },
   {
    "duration": 501,
    "start_time": "2024-04-28T11:28:44.805Z"
   },
   {
    "duration": 498,
    "start_time": "2024-04-28T11:28:45.309Z"
   },
   {
    "duration": 55,
    "start_time": "2024-04-28T11:28:45.809Z"
   },
   {
    "duration": 3,
    "start_time": "2024-04-28T11:28:45.868Z"
   },
   {
    "duration": 13,
    "start_time": "2024-04-28T11:28:45.873Z"
   },
   {
    "duration": 15,
    "start_time": "2024-04-28T11:28:45.889Z"
   },
   {
    "duration": 23,
    "start_time": "2024-04-28T11:28:45.906Z"
   },
   {
    "duration": 7,
    "start_time": "2024-04-28T11:28:45.932Z"
   },
   {
    "duration": 23,
    "start_time": "2024-04-28T11:28:45.942Z"
   },
   {
    "duration": 3,
    "start_time": "2024-04-28T11:28:45.967Z"
   },
   {
    "duration": 22,
    "start_time": "2024-04-28T11:28:45.972Z"
   },
   {
    "duration": 150,
    "start_time": "2024-04-28T11:28:45.995Z"
   },
   {
    "duration": 0,
    "start_time": "2024-04-28T11:28:46.147Z"
   },
   {
    "duration": 0,
    "start_time": "2024-04-28T11:28:46.148Z"
   },
   {
    "duration": 0,
    "start_time": "2024-04-28T11:28:46.161Z"
   },
   {
    "duration": 0,
    "start_time": "2024-04-28T11:28:46.162Z"
   },
   {
    "duration": 0,
    "start_time": "2024-04-28T11:28:46.163Z"
   },
   {
    "duration": 0,
    "start_time": "2024-04-28T11:28:46.164Z"
   },
   {
    "duration": 0,
    "start_time": "2024-04-28T11:28:46.166Z"
   },
   {
    "duration": 0,
    "start_time": "2024-04-28T11:28:46.167Z"
   },
   {
    "duration": 30,
    "start_time": "2024-04-28T11:40:44.694Z"
   },
   {
    "duration": 1699,
    "start_time": "2024-04-28T11:40:53.450Z"
   },
   {
    "duration": 52,
    "start_time": "2024-04-28T11:40:55.151Z"
   },
   {
    "duration": 11,
    "start_time": "2024-04-28T11:40:55.205Z"
   },
   {
    "duration": 12,
    "start_time": "2024-04-28T11:40:55.217Z"
   },
   {
    "duration": 3,
    "start_time": "2024-04-28T11:40:55.232Z"
   },
   {
    "duration": 13,
    "start_time": "2024-04-28T11:40:55.237Z"
   },
   {
    "duration": 5,
    "start_time": "2024-04-28T11:40:55.252Z"
   },
   {
    "duration": 24,
    "start_time": "2024-04-28T11:40:55.261Z"
   },
   {
    "duration": 10,
    "start_time": "2024-04-28T11:40:55.287Z"
   },
   {
    "duration": 11,
    "start_time": "2024-04-28T11:40:55.299Z"
   },
   {
    "duration": 495,
    "start_time": "2024-04-28T11:40:55.312Z"
   },
   {
    "duration": 526,
    "start_time": "2024-04-28T11:40:55.809Z"
   },
   {
    "duration": 3,
    "start_time": "2024-04-28T11:40:56.337Z"
   },
   {
    "duration": 157,
    "start_time": "2024-04-28T11:40:56.343Z"
   },
   {
    "duration": 0,
    "start_time": "2024-04-28T11:40:56.502Z"
   },
   {
    "duration": 0,
    "start_time": "2024-04-28T11:40:56.505Z"
   },
   {
    "duration": 0,
    "start_time": "2024-04-28T11:40:56.507Z"
   },
   {
    "duration": 0,
    "start_time": "2024-04-28T11:40:56.508Z"
   },
   {
    "duration": 0,
    "start_time": "2024-04-28T11:40:56.510Z"
   },
   {
    "duration": 0,
    "start_time": "2024-04-28T11:40:56.512Z"
   },
   {
    "duration": 0,
    "start_time": "2024-04-28T11:40:56.514Z"
   },
   {
    "duration": 0,
    "start_time": "2024-04-28T11:40:56.515Z"
   },
   {
    "duration": 0,
    "start_time": "2024-04-28T11:40:56.517Z"
   },
   {
    "duration": 0,
    "start_time": "2024-04-28T11:40:56.518Z"
   },
   {
    "duration": 0,
    "start_time": "2024-04-28T11:40:56.520Z"
   },
   {
    "duration": 0,
    "start_time": "2024-04-28T11:40:56.522Z"
   },
   {
    "duration": 0,
    "start_time": "2024-04-28T11:40:56.523Z"
   },
   {
    "duration": 0,
    "start_time": "2024-04-28T11:40:56.525Z"
   },
   {
    "duration": 0,
    "start_time": "2024-04-28T11:40:56.561Z"
   },
   {
    "duration": 0,
    "start_time": "2024-04-28T11:40:56.562Z"
   },
   {
    "duration": 0,
    "start_time": "2024-04-28T11:40:56.563Z"
   },
   {
    "duration": 0,
    "start_time": "2024-04-28T11:40:56.564Z"
   },
   {
    "duration": 10,
    "start_time": "2024-04-28T11:41:51.431Z"
   },
   {
    "duration": 3,
    "start_time": "2024-04-28T11:42:16.387Z"
   },
   {
    "duration": 11,
    "start_time": "2024-04-28T11:42:17.241Z"
   },
   {
    "duration": 198,
    "start_time": "2024-04-28T11:42:23.573Z"
   },
   {
    "duration": 538,
    "start_time": "2024-04-28T11:42:37.742Z"
   },
   {
    "duration": 511,
    "start_time": "2024-04-28T11:44:14.973Z"
   },
   {
    "duration": 3,
    "start_time": "2024-04-28T11:50:29.430Z"
   },
   {
    "duration": 509,
    "start_time": "2024-04-28T11:50:30.416Z"
   },
   {
    "duration": 5,
    "start_time": "2024-04-28T11:50:36.593Z"
   },
   {
    "duration": 3,
    "start_time": "2024-04-28T11:51:05.819Z"
   },
   {
    "duration": 531,
    "start_time": "2024-04-28T11:51:06.699Z"
   },
   {
    "duration": 45,
    "start_time": "2024-04-28T11:52:57.521Z"
   },
   {
    "duration": 3,
    "start_time": "2024-04-28T11:52:58.624Z"
   },
   {
    "duration": 4,
    "start_time": "2024-04-28T11:52:59.266Z"
   },
   {
    "duration": 7,
    "start_time": "2024-04-28T11:52:59.951Z"
   },
   {
    "duration": 5,
    "start_time": "2024-04-28T11:53:02.246Z"
   },
   {
    "duration": 3,
    "start_time": "2024-04-28T11:53:03.284Z"
   },
   {
    "duration": 2,
    "start_time": "2024-04-28T11:53:21.238Z"
   },
   {
    "duration": 19,
    "start_time": "2024-04-28T11:53:31.083Z"
   },
   {
    "duration": 17,
    "start_time": "2024-04-28T11:53:31.838Z"
   },
   {
    "duration": 4,
    "start_time": "2024-04-28T12:01:52.628Z"
   },
   {
    "duration": 17,
    "start_time": "2024-04-28T12:02:06.811Z"
   },
   {
    "duration": 4,
    "start_time": "2024-04-28T12:02:20.544Z"
   },
   {
    "duration": 3,
    "start_time": "2024-04-28T12:02:20.950Z"
   },
   {
    "duration": 5,
    "start_time": "2024-04-28T12:02:21.422Z"
   },
   {
    "duration": 4,
    "start_time": "2024-04-28T12:02:21.888Z"
   },
   {
    "duration": 4,
    "start_time": "2024-04-28T12:02:22.803Z"
   },
   {
    "duration": 29,
    "start_time": "2024-04-28T12:04:56.730Z"
   },
   {
    "duration": 29,
    "start_time": "2024-04-28T12:05:14.170Z"
   },
   {
    "duration": 1591,
    "start_time": "2024-04-28T12:06:18.041Z"
   },
   {
    "duration": 51,
    "start_time": "2024-04-28T12:06:19.634Z"
   },
   {
    "duration": 12,
    "start_time": "2024-04-28T12:06:19.687Z"
   },
   {
    "duration": 15,
    "start_time": "2024-04-28T12:06:19.701Z"
   },
   {
    "duration": 17,
    "start_time": "2024-04-28T12:06:19.719Z"
   },
   {
    "duration": 20,
    "start_time": "2024-04-28T12:06:19.737Z"
   },
   {
    "duration": 31,
    "start_time": "2024-04-28T12:06:19.758Z"
   },
   {
    "duration": 43,
    "start_time": "2024-04-28T12:06:19.791Z"
   },
   {
    "duration": 18,
    "start_time": "2024-04-28T12:06:19.835Z"
   },
   {
    "duration": 30,
    "start_time": "2024-04-28T12:06:19.855Z"
   },
   {
    "duration": 455,
    "start_time": "2024-04-28T12:06:19.887Z"
   },
   {
    "duration": 529,
    "start_time": "2024-04-28T12:06:20.344Z"
   },
   {
    "duration": 4,
    "start_time": "2024-04-28T12:06:20.875Z"
   },
   {
    "duration": 521,
    "start_time": "2024-04-28T12:06:20.881Z"
   },
   {
    "duration": 45,
    "start_time": "2024-04-28T12:06:21.403Z"
   },
   {
    "duration": 13,
    "start_time": "2024-04-28T12:06:21.449Z"
   },
   {
    "duration": 5,
    "start_time": "2024-04-28T12:06:21.464Z"
   },
   {
    "duration": 6,
    "start_time": "2024-04-28T12:06:21.471Z"
   },
   {
    "duration": 8,
    "start_time": "2024-04-28T12:06:21.479Z"
   },
   {
    "duration": 6,
    "start_time": "2024-04-28T12:06:21.489Z"
   },
   {
    "duration": 4,
    "start_time": "2024-04-28T12:06:21.497Z"
   },
   {
    "duration": 35,
    "start_time": "2024-04-28T12:06:21.503Z"
   },
   {
    "duration": 5,
    "start_time": "2024-04-28T12:06:21.539Z"
   },
   {
    "duration": 3,
    "start_time": "2024-04-28T12:06:21.560Z"
   },
   {
    "duration": 8,
    "start_time": "2024-04-28T12:06:21.565Z"
   },
   {
    "duration": 8,
    "start_time": "2024-04-28T12:06:21.574Z"
   },
   {
    "duration": 27,
    "start_time": "2024-04-28T12:06:21.584Z"
   },
   {
    "duration": 156,
    "start_time": "2024-04-28T12:06:21.613Z"
   },
   {
    "duration": 0,
    "start_time": "2024-04-28T12:06:21.771Z"
   },
   {
    "duration": 0,
    "start_time": "2024-04-28T12:06:21.772Z"
   },
   {
    "duration": 0,
    "start_time": "2024-04-28T12:06:21.773Z"
   },
   {
    "duration": 5420,
    "start_time": "2024-04-28T12:07:12.648Z"
   },
   {
    "duration": 10844,
    "start_time": "2024-04-28T12:08:34.034Z"
   },
   {
    "duration": 8002,
    "start_time": "2024-04-28T12:08:44.880Z"
   },
   {
    "duration": 6578,
    "start_time": "2024-04-28T12:08:52.884Z"
   },
   {
    "duration": 1581,
    "start_time": "2024-04-28T12:10:08.433Z"
   },
   {
    "duration": 51,
    "start_time": "2024-04-28T12:10:10.016Z"
   },
   {
    "duration": 12,
    "start_time": "2024-04-28T12:10:10.068Z"
   },
   {
    "duration": 12,
    "start_time": "2024-04-28T12:10:10.081Z"
   },
   {
    "duration": 4,
    "start_time": "2024-04-28T12:10:10.095Z"
   },
   {
    "duration": 12,
    "start_time": "2024-04-28T12:10:10.100Z"
   },
   {
    "duration": 26,
    "start_time": "2024-04-28T12:10:10.114Z"
   },
   {
    "duration": 17,
    "start_time": "2024-04-28T12:10:10.141Z"
   },
   {
    "duration": 15,
    "start_time": "2024-04-28T12:10:10.159Z"
   },
   {
    "duration": 15,
    "start_time": "2024-04-28T12:10:10.176Z"
   },
   {
    "duration": 441,
    "start_time": "2024-04-28T12:10:10.193Z"
   },
   {
    "duration": 519,
    "start_time": "2024-04-28T12:10:10.636Z"
   },
   {
    "duration": 4,
    "start_time": "2024-04-28T12:10:11.160Z"
   },
   {
    "duration": 502,
    "start_time": "2024-04-28T12:10:11.167Z"
   },
   {
    "duration": 46,
    "start_time": "2024-04-28T12:10:11.671Z"
   },
   {
    "duration": 3,
    "start_time": "2024-04-28T12:10:11.719Z"
   },
   {
    "duration": 9,
    "start_time": "2024-04-28T12:10:11.724Z"
   },
   {
    "duration": 12,
    "start_time": "2024-04-28T12:10:11.734Z"
   },
   {
    "duration": 15,
    "start_time": "2024-04-28T12:10:11.748Z"
   },
   {
    "duration": 7,
    "start_time": "2024-04-28T12:10:11.765Z"
   },
   {
    "duration": 4,
    "start_time": "2024-04-28T12:10:11.773Z"
   },
   {
    "duration": 26,
    "start_time": "2024-04-28T12:10:11.778Z"
   },
   {
    "duration": 3,
    "start_time": "2024-04-28T12:10:11.806Z"
   },
   {
    "duration": 7,
    "start_time": "2024-04-28T12:10:11.811Z"
   },
   {
    "duration": 9,
    "start_time": "2024-04-28T12:10:11.819Z"
   },
   {
    "duration": 5,
    "start_time": "2024-04-28T12:10:11.830Z"
   },
   {
    "duration": 5,
    "start_time": "2024-04-28T12:10:11.860Z"
   },
   {
    "duration": 5397,
    "start_time": "2024-04-28T12:10:11.867Z"
   },
   {
    "duration": 9001,
    "start_time": "2024-04-28T12:10:17.265Z"
   },
   {
    "duration": 5705,
    "start_time": "2024-04-28T12:10:26.267Z"
   },
   {
    "duration": 5601,
    "start_time": "2024-04-28T12:10:31.974Z"
   },
   {
    "duration": 186,
    "start_time": "2024-04-28T12:10:37.576Z"
   },
   {
    "duration": 9801,
    "start_time": "2024-04-28T12:11:07.863Z"
   },
   {
    "duration": 10,
    "start_time": "2024-04-28T12:18:37.647Z"
   },
   {
    "duration": 51,
    "start_time": "2024-04-28T12:18:45.846Z"
   },
   {
    "duration": 2,
    "start_time": "2024-04-28T12:18:49.556Z"
   },
   {
    "duration": 1520,
    "start_time": "2024-04-28T12:34:35.736Z"
   },
   {
    "duration": 50,
    "start_time": "2024-04-28T12:34:37.260Z"
   },
   {
    "duration": 10,
    "start_time": "2024-04-28T12:34:37.312Z"
   },
   {
    "duration": 10,
    "start_time": "2024-04-28T12:34:37.324Z"
   },
   {
    "duration": 4,
    "start_time": "2024-04-28T12:34:37.335Z"
   },
   {
    "duration": 13,
    "start_time": "2024-04-28T12:34:37.341Z"
   },
   {
    "duration": 12,
    "start_time": "2024-04-28T12:34:37.356Z"
   },
   {
    "duration": 9,
    "start_time": "2024-04-28T12:34:37.370Z"
   },
   {
    "duration": 6,
    "start_time": "2024-04-28T12:34:37.381Z"
   },
   {
    "duration": 6,
    "start_time": "2024-04-28T12:34:37.389Z"
   },
   {
    "duration": 429,
    "start_time": "2024-04-28T12:34:37.397Z"
   },
   {
    "duration": 514,
    "start_time": "2024-04-28T12:34:37.828Z"
   },
   {
    "duration": 4,
    "start_time": "2024-04-28T12:34:38.343Z"
   },
   {
    "duration": 535,
    "start_time": "2024-04-28T12:34:38.360Z"
   },
   {
    "duration": 46,
    "start_time": "2024-04-28T12:34:38.897Z"
   },
   {
    "duration": 3,
    "start_time": "2024-04-28T12:34:38.945Z"
   },
   {
    "duration": 6,
    "start_time": "2024-04-28T12:34:38.961Z"
   },
   {
    "duration": 17,
    "start_time": "2024-04-28T12:34:38.968Z"
   },
   {
    "duration": 18,
    "start_time": "2024-04-28T12:34:38.987Z"
   },
   {
    "duration": 15,
    "start_time": "2024-04-28T12:34:39.006Z"
   },
   {
    "duration": 9,
    "start_time": "2024-04-28T12:34:39.023Z"
   },
   {
    "duration": 21,
    "start_time": "2024-04-28T12:34:39.033Z"
   },
   {
    "duration": 3,
    "start_time": "2024-04-28T12:34:39.056Z"
   },
   {
    "duration": 9,
    "start_time": "2024-04-28T12:34:39.061Z"
   },
   {
    "duration": 6,
    "start_time": "2024-04-28T12:34:39.071Z"
   },
   {
    "duration": 4,
    "start_time": "2024-04-28T12:34:39.079Z"
   },
   {
    "duration": 4,
    "start_time": "2024-04-28T12:34:39.085Z"
   },
   {
    "duration": 5471,
    "start_time": "2024-04-28T12:34:39.091Z"
   },
   {
    "duration": 9512,
    "start_time": "2024-04-28T12:34:44.563Z"
   },
   {
    "duration": 5290,
    "start_time": "2024-04-28T12:34:54.076Z"
   },
   {
    "duration": 10794,
    "start_time": "2024-04-28T12:34:59.368Z"
   },
   {
    "duration": 146,
    "start_time": "2024-04-28T12:35:10.163Z"
   },
   {
    "duration": 5021,
    "start_time": "2024-04-28T12:38:09.653Z"
   },
   {
    "duration": 8001,
    "start_time": "2024-04-28T12:38:14.676Z"
   },
   {
    "duration": 33,
    "start_time": "2024-04-28T12:44:43.243Z"
   },
   {
    "duration": 1549,
    "start_time": "2024-04-28T12:45:34.889Z"
   },
   {
    "duration": 51,
    "start_time": "2024-04-28T12:45:36.441Z"
   },
   {
    "duration": 11,
    "start_time": "2024-04-28T12:45:36.494Z"
   },
   {
    "duration": 10,
    "start_time": "2024-04-28T12:45:36.507Z"
   },
   {
    "duration": 3,
    "start_time": "2024-04-28T12:45:36.519Z"
   },
   {
    "duration": 5,
    "start_time": "2024-04-28T12:45:36.523Z"
   },
   {
    "duration": 5,
    "start_time": "2024-04-28T12:45:36.530Z"
   },
   {
    "duration": 30,
    "start_time": "2024-04-28T12:45:36.536Z"
   },
   {
    "duration": 7,
    "start_time": "2024-04-28T12:45:36.567Z"
   },
   {
    "duration": 5,
    "start_time": "2024-04-28T12:45:36.577Z"
   },
   {
    "duration": 458,
    "start_time": "2024-04-28T12:45:36.584Z"
   },
   {
    "duration": 550,
    "start_time": "2024-04-28T12:45:37.044Z"
   },
   {
    "duration": 5,
    "start_time": "2024-04-28T12:45:37.596Z"
   },
   {
    "duration": 516,
    "start_time": "2024-04-28T12:45:37.603Z"
   },
   {
    "duration": 56,
    "start_time": "2024-04-28T12:45:38.120Z"
   },
   {
    "duration": 4,
    "start_time": "2024-04-28T12:45:38.178Z"
   },
   {
    "duration": 6,
    "start_time": "2024-04-28T12:45:38.184Z"
   },
   {
    "duration": 18,
    "start_time": "2024-04-28T12:45:38.192Z"
   },
   {
    "duration": 10,
    "start_time": "2024-04-28T12:45:38.212Z"
   },
   {
    "duration": 17,
    "start_time": "2024-04-28T12:45:38.224Z"
   },
   {
    "duration": 9,
    "start_time": "2024-04-28T12:45:38.242Z"
   },
   {
    "duration": 37,
    "start_time": "2024-04-28T12:45:38.252Z"
   },
   {
    "duration": 3,
    "start_time": "2024-04-28T12:45:38.291Z"
   },
   {
    "duration": 31,
    "start_time": "2024-04-28T12:45:38.295Z"
   },
   {
    "duration": 19,
    "start_time": "2024-04-28T12:45:38.327Z"
   },
   {
    "duration": 14,
    "start_time": "2024-04-28T12:45:38.347Z"
   },
   {
    "duration": 14,
    "start_time": "2024-04-28T12:45:38.363Z"
   },
   {
    "duration": 5088,
    "start_time": "2024-04-28T12:45:38.380Z"
   },
   {
    "duration": 12295,
    "start_time": "2024-04-28T12:45:43.470Z"
   },
   {
    "duration": 150,
    "start_time": "2024-04-28T12:45:55.766Z"
   },
   {
    "duration": 625,
    "start_time": "2024-04-28T12:47:21.533Z"
   },
   {
    "duration": 1206,
    "start_time": "2024-04-28T12:47:39.910Z"
   },
   {
    "duration": 2767,
    "start_time": "2024-04-28T12:49:04.024Z"
   },
   {
    "duration": 45,
    "start_time": "2024-04-28T12:49:34.401Z"
   },
   {
    "duration": 1026,
    "start_time": "2024-04-28T12:49:55.241Z"
   },
   {
    "duration": 45,
    "start_time": "2024-04-28T12:52:28.862Z"
   },
   {
    "duration": 13,
    "start_time": "2024-04-28T12:52:40.570Z"
   },
   {
    "duration": 605,
    "start_time": "2024-04-28T12:52:47.674Z"
   },
   {
    "duration": 1132,
    "start_time": "2024-04-28T12:57:19.626Z"
   },
   {
    "duration": 1332,
    "start_time": "2024-04-28T12:57:55.626Z"
   },
   {
    "duration": 1830,
    "start_time": "2024-04-28T12:58:07.085Z"
   },
   {
    "duration": 1027,
    "start_time": "2024-04-28T12:58:40.446Z"
   },
   {
    "duration": 1695,
    "start_time": "2024-04-28T12:58:53.218Z"
   },
   {
    "duration": 59,
    "start_time": "2024-04-28T13:01:36.441Z"
   },
   {
    "duration": 1759,
    "start_time": "2024-04-28T13:08:24.061Z"
   },
   {
    "duration": 1703,
    "start_time": "2024-04-28T13:09:25.706Z"
   },
   {
    "duration": 1870,
    "start_time": "2024-04-28T13:15:58.954Z"
   },
   {
    "duration": 1654,
    "start_time": "2024-04-28T13:16:41.614Z"
   },
   {
    "duration": 1659,
    "start_time": "2024-04-28T13:17:09.693Z"
   },
   {
    "duration": 1300,
    "start_time": "2024-04-28T13:17:28.675Z"
   },
   {
    "duration": 1259,
    "start_time": "2024-04-28T13:17:39.178Z"
   },
   {
    "duration": 6291,
    "start_time": "2024-04-28T13:18:47.575Z"
   },
   {
    "duration": 6596,
    "start_time": "2024-04-28T13:18:53.868Z"
   },
   {
    "duration": 1555,
    "start_time": "2024-04-28T13:20:27.617Z"
   },
   {
    "duration": 52,
    "start_time": "2024-04-28T13:20:29.174Z"
   },
   {
    "duration": 11,
    "start_time": "2024-04-28T13:20:29.228Z"
   },
   {
    "duration": 20,
    "start_time": "2024-04-28T13:20:29.241Z"
   },
   {
    "duration": 8,
    "start_time": "2024-04-28T13:20:29.262Z"
   },
   {
    "duration": 6,
    "start_time": "2024-04-28T13:20:29.271Z"
   },
   {
    "duration": 14,
    "start_time": "2024-04-28T13:20:29.278Z"
   },
   {
    "duration": 11,
    "start_time": "2024-04-28T13:20:29.294Z"
   },
   {
    "duration": 7,
    "start_time": "2024-04-28T13:20:29.307Z"
   },
   {
    "duration": 7,
    "start_time": "2024-04-28T13:20:29.317Z"
   },
   {
    "duration": 492,
    "start_time": "2024-04-28T13:20:29.326Z"
   },
   {
    "duration": 590,
    "start_time": "2024-04-28T13:20:29.820Z"
   },
   {
    "duration": 4,
    "start_time": "2024-04-28T13:20:30.412Z"
   },
   {
    "duration": 560,
    "start_time": "2024-04-28T13:20:30.417Z"
   },
   {
    "duration": 44,
    "start_time": "2024-04-28T13:20:30.979Z"
   },
   {
    "duration": 3,
    "start_time": "2024-04-28T13:20:31.025Z"
   },
   {
    "duration": 16,
    "start_time": "2024-04-28T13:20:31.030Z"
   },
   {
    "duration": 19,
    "start_time": "2024-04-28T13:20:31.048Z"
   },
   {
    "duration": 6,
    "start_time": "2024-04-28T13:20:31.069Z"
   },
   {
    "duration": 16,
    "start_time": "2024-04-28T13:20:31.076Z"
   },
   {
    "duration": 47,
    "start_time": "2024-04-28T13:20:31.093Z"
   },
   {
    "duration": 49,
    "start_time": "2024-04-28T13:20:31.142Z"
   },
   {
    "duration": 4,
    "start_time": "2024-04-28T13:20:31.192Z"
   },
   {
    "duration": 39,
    "start_time": "2024-04-28T13:20:31.197Z"
   },
   {
    "duration": 32,
    "start_time": "2024-04-28T13:20:31.238Z"
   },
   {
    "duration": 20,
    "start_time": "2024-04-28T13:20:31.272Z"
   },
   {
    "duration": 5172,
    "start_time": "2024-04-28T13:20:31.294Z"
   },
   {
    "duration": 11301,
    "start_time": "2024-04-28T13:20:36.469Z"
   },
   {
    "duration": 657,
    "start_time": "2024-04-28T13:20:47.771Z"
   },
   {
    "duration": 1244,
    "start_time": "2024-04-28T13:20:48.430Z"
   },
   {
    "duration": 2773,
    "start_time": "2024-04-28T13:20:49.677Z"
   },
   {
    "duration": 1212,
    "start_time": "2024-04-28T13:20:52.452Z"
   },
   {
    "duration": 7300,
    "start_time": "2024-04-28T13:20:53.666Z"
   },
   {
    "duration": 6402,
    "start_time": "2024-04-28T13:21:45.464Z"
   },
   {
    "duration": 5435,
    "start_time": "2024-04-28T13:22:17.327Z"
   },
   {
    "duration": 5474,
    "start_time": "2024-04-28T13:27:12.703Z"
   },
   {
    "duration": 4,
    "start_time": "2024-04-28T13:29:12.042Z"
   },
   {
    "duration": 149,
    "start_time": "2024-04-28T13:52:25.641Z"
   },
   {
    "duration": 1663,
    "start_time": "2024-04-28T13:53:05.098Z"
   },
   {
    "duration": 53,
    "start_time": "2024-04-28T13:53:06.766Z"
   },
   {
    "duration": 11,
    "start_time": "2024-04-28T13:53:06.820Z"
   },
   {
    "duration": 11,
    "start_time": "2024-04-28T13:53:06.833Z"
   },
   {
    "duration": 4,
    "start_time": "2024-04-28T13:53:06.847Z"
   },
   {
    "duration": 25,
    "start_time": "2024-04-28T13:53:06.853Z"
   },
   {
    "duration": 18,
    "start_time": "2024-04-28T13:53:06.880Z"
   },
   {
    "duration": 21,
    "start_time": "2024-04-28T13:53:06.899Z"
   },
   {
    "duration": 25,
    "start_time": "2024-04-28T13:53:06.922Z"
   },
   {
    "duration": 18,
    "start_time": "2024-04-28T13:53:06.949Z"
   },
   {
    "duration": 507,
    "start_time": "2024-04-28T13:53:06.968Z"
   },
   {
    "duration": 546,
    "start_time": "2024-04-28T13:53:07.477Z"
   },
   {
    "duration": 3,
    "start_time": "2024-04-28T13:53:08.024Z"
   },
   {
    "duration": 550,
    "start_time": "2024-04-28T13:53:08.030Z"
   },
   {
    "duration": 48,
    "start_time": "2024-04-28T13:53:08.583Z"
   },
   {
    "duration": 4,
    "start_time": "2024-04-28T13:53:08.633Z"
   },
   {
    "duration": 6,
    "start_time": "2024-04-28T13:53:08.661Z"
   },
   {
    "duration": 8,
    "start_time": "2024-04-28T13:53:08.669Z"
   },
   {
    "duration": 10,
    "start_time": "2024-04-28T13:53:08.679Z"
   },
   {
    "duration": 8,
    "start_time": "2024-04-28T13:53:08.691Z"
   },
   {
    "duration": 9,
    "start_time": "2024-04-28T13:53:08.702Z"
   },
   {
    "duration": 48,
    "start_time": "2024-04-28T13:53:08.713Z"
   },
   {
    "duration": 4,
    "start_time": "2024-04-28T13:53:08.764Z"
   },
   {
    "duration": 18,
    "start_time": "2024-04-28T13:53:08.771Z"
   },
   {
    "duration": 12,
    "start_time": "2024-04-28T13:53:08.790Z"
   },
   {
    "duration": 11,
    "start_time": "2024-04-28T13:53:08.804Z"
   },
   {
    "duration": 88746,
    "start_time": "2024-04-28T13:53:08.816Z"
   },
   {
    "duration": 22023,
    "start_time": "2024-04-28T13:54:37.563Z"
   },
   {
    "duration": 705,
    "start_time": "2024-04-28T13:54:59.588Z"
   },
   {
    "duration": 1241,
    "start_time": "2024-04-28T13:55:00.295Z"
   },
   {
    "duration": 3031,
    "start_time": "2024-04-28T13:55:01.538Z"
   },
   {
    "duration": 1204,
    "start_time": "2024-04-28T13:55:04.577Z"
   },
   {
    "duration": 59709,
    "start_time": "2024-04-28T13:55:05.783Z"
   },
   {
    "duration": 1627,
    "start_time": "2024-04-28T13:57:01.754Z"
   },
   {
    "duration": 52,
    "start_time": "2024-04-28T13:57:03.383Z"
   },
   {
    "duration": 10,
    "start_time": "2024-04-28T13:57:03.437Z"
   },
   {
    "duration": 11,
    "start_time": "2024-04-28T13:57:03.449Z"
   },
   {
    "duration": 4,
    "start_time": "2024-04-28T13:57:03.462Z"
   },
   {
    "duration": 5,
    "start_time": "2024-04-28T13:57:03.468Z"
   },
   {
    "duration": 7,
    "start_time": "2024-04-28T13:57:03.474Z"
   },
   {
    "duration": 17,
    "start_time": "2024-04-28T13:57:03.482Z"
   },
   {
    "duration": 8,
    "start_time": "2024-04-28T13:57:03.500Z"
   },
   {
    "duration": 7,
    "start_time": "2024-04-28T13:57:03.509Z"
   },
   {
    "duration": 521,
    "start_time": "2024-04-28T13:57:03.517Z"
   },
   {
    "duration": 503,
    "start_time": "2024-04-28T13:57:04.040Z"
   },
   {
    "duration": 4,
    "start_time": "2024-04-28T13:57:04.545Z"
   },
   {
    "duration": 521,
    "start_time": "2024-04-28T13:57:04.564Z"
   },
   {
    "duration": 45,
    "start_time": "2024-04-28T13:57:05.087Z"
   },
   {
    "duration": 3,
    "start_time": "2024-04-28T13:57:05.134Z"
   },
   {
    "duration": 22,
    "start_time": "2024-04-28T13:57:05.139Z"
   },
   {
    "duration": 10,
    "start_time": "2024-04-28T13:57:05.163Z"
   },
   {
    "duration": 11,
    "start_time": "2024-04-28T13:57:05.174Z"
   },
   {
    "duration": 27,
    "start_time": "2024-04-28T13:57:05.187Z"
   },
   {
    "duration": 6,
    "start_time": "2024-04-28T13:57:05.216Z"
   },
   {
    "duration": 22,
    "start_time": "2024-04-28T13:57:05.224Z"
   },
   {
    "duration": 4,
    "start_time": "2024-04-28T13:57:05.248Z"
   },
   {
    "duration": 4,
    "start_time": "2024-04-28T13:57:05.260Z"
   },
   {
    "duration": 18,
    "start_time": "2024-04-28T13:57:05.266Z"
   },
   {
    "duration": 17,
    "start_time": "2024-04-28T13:57:05.286Z"
   },
   {
    "duration": 198482,
    "start_time": "2024-04-28T13:57:05.305Z"
   },
   {
    "duration": 89487,
    "start_time": "2024-04-28T14:00:23.789Z"
   },
   {
    "duration": 658,
    "start_time": "2024-04-28T14:01:53.277Z"
   },
   {
    "duration": 1214,
    "start_time": "2024-04-28T14:01:53.937Z"
   },
   {
    "duration": 3133,
    "start_time": "2024-04-28T14:01:55.153Z"
   },
   {
    "duration": 1221,
    "start_time": "2024-04-28T14:01:58.288Z"
   },
   {
    "duration": 5652,
    "start_time": "2024-04-28T14:01:59.511Z"
   },
   {
    "duration": 1578,
    "start_time": "2024-04-28T14:03:23.416Z"
   },
   {
    "duration": 52,
    "start_time": "2024-04-28T14:03:24.996Z"
   },
   {
    "duration": 17,
    "start_time": "2024-04-28T14:03:25.050Z"
   },
   {
    "duration": 34,
    "start_time": "2024-04-28T14:03:25.069Z"
   },
   {
    "duration": 13,
    "start_time": "2024-04-28T14:03:25.105Z"
   },
   {
    "duration": 18,
    "start_time": "2024-04-28T14:03:25.120Z"
   },
   {
    "duration": 12,
    "start_time": "2024-04-28T14:03:25.140Z"
   },
   {
    "duration": 25,
    "start_time": "2024-04-28T14:03:25.154Z"
   },
   {
    "duration": 14,
    "start_time": "2024-04-28T14:03:25.181Z"
   },
   {
    "duration": 23,
    "start_time": "2024-04-28T14:03:25.196Z"
   },
   {
    "duration": 501,
    "start_time": "2024-04-28T14:03:25.221Z"
   },
   {
    "duration": 568,
    "start_time": "2024-04-28T14:03:25.724Z"
   },
   {
    "duration": 3,
    "start_time": "2024-04-28T14:03:26.294Z"
   },
   {
    "duration": 490,
    "start_time": "2024-04-28T14:03:26.299Z"
   },
   {
    "duration": 44,
    "start_time": "2024-04-28T14:03:26.791Z"
   },
   {
    "duration": 3,
    "start_time": "2024-04-28T14:03:26.836Z"
   },
   {
    "duration": 22,
    "start_time": "2024-04-28T14:03:26.840Z"
   },
   {
    "duration": 12,
    "start_time": "2024-04-28T14:03:26.864Z"
   },
   {
    "duration": 13,
    "start_time": "2024-04-28T14:03:26.878Z"
   },
   {
    "duration": 23,
    "start_time": "2024-04-28T14:03:26.893Z"
   },
   {
    "duration": 8,
    "start_time": "2024-04-28T14:03:26.918Z"
   },
   {
    "duration": 22,
    "start_time": "2024-04-28T14:03:26.928Z"
   },
   {
    "duration": 3,
    "start_time": "2024-04-28T14:03:26.952Z"
   },
   {
    "duration": 5,
    "start_time": "2024-04-28T14:03:26.957Z"
   },
   {
    "duration": 10,
    "start_time": "2024-04-28T14:03:26.963Z"
   },
   {
    "duration": 25,
    "start_time": "2024-04-28T14:03:26.974Z"
   },
   {
    "duration": 7761,
    "start_time": "2024-04-28T14:03:27.001Z"
   },
   {
    "duration": 9917,
    "start_time": "2024-04-28T14:03:34.763Z"
   },
   {
    "duration": 683,
    "start_time": "2024-04-28T14:03:44.681Z"
   },
   {
    "duration": 1277,
    "start_time": "2024-04-28T14:03:45.365Z"
   },
   {
    "duration": 2784,
    "start_time": "2024-04-28T14:03:46.643Z"
   },
   {
    "duration": 1107,
    "start_time": "2024-04-28T14:03:49.429Z"
   },
   {
    "duration": 5122,
    "start_time": "2024-04-28T14:03:50.539Z"
   },
   {
    "duration": 1412,
    "start_time": "2024-04-29T08:22:24.997Z"
   },
   {
    "duration": 88,
    "start_time": "2024-04-29T08:22:26.410Z"
   },
   {
    "duration": 8,
    "start_time": "2024-04-29T08:22:26.500Z"
   },
   {
    "duration": 8,
    "start_time": "2024-04-29T08:22:26.509Z"
   },
   {
    "duration": 22,
    "start_time": "2024-04-29T08:22:26.519Z"
   },
   {
    "duration": 11,
    "start_time": "2024-04-29T08:22:26.542Z"
   },
   {
    "duration": 11,
    "start_time": "2024-04-29T08:22:26.554Z"
   },
   {
    "duration": 10,
    "start_time": "2024-04-29T08:22:26.566Z"
   },
   {
    "duration": 9,
    "start_time": "2024-04-29T08:22:26.577Z"
   },
   {
    "duration": 12,
    "start_time": "2024-04-29T08:22:26.587Z"
   },
   {
    "duration": 456,
    "start_time": "2024-04-29T08:22:26.600Z"
   },
   {
    "duration": 444,
    "start_time": "2024-04-29T08:22:27.057Z"
   },
   {
    "duration": 11,
    "start_time": "2024-04-29T08:22:27.503Z"
   },
   {
    "duration": 3,
    "start_time": "2024-04-29T08:22:27.516Z"
   },
   {
    "duration": 391,
    "start_time": "2024-04-29T08:22:27.520Z"
   },
   {
    "duration": 33,
    "start_time": "2024-04-29T08:22:27.912Z"
   },
   {
    "duration": 3,
    "start_time": "2024-04-29T08:22:27.946Z"
   },
   {
    "duration": 4,
    "start_time": "2024-04-29T08:22:27.950Z"
   },
   {
    "duration": 5,
    "start_time": "2024-04-29T08:22:27.955Z"
   },
   {
    "duration": 4,
    "start_time": "2024-04-29T08:22:27.961Z"
   },
   {
    "duration": 16,
    "start_time": "2024-04-29T08:22:27.966Z"
   },
   {
    "duration": 9,
    "start_time": "2024-04-29T08:22:27.983Z"
   },
   {
    "duration": 16,
    "start_time": "2024-04-29T08:22:28.001Z"
   },
   {
    "duration": 3,
    "start_time": "2024-04-29T08:22:28.018Z"
   },
   {
    "duration": 5,
    "start_time": "2024-04-29T08:22:28.022Z"
   },
   {
    "duration": 6,
    "start_time": "2024-04-29T08:22:28.028Z"
   },
   {
    "duration": 9,
    "start_time": "2024-04-29T08:22:28.035Z"
   },
   {
    "duration": 4356,
    "start_time": "2024-04-29T08:22:28.046Z"
   },
   {
    "duration": 6603,
    "start_time": "2024-04-29T08:22:32.404Z"
   },
   {
    "duration": 591,
    "start_time": "2024-04-29T08:22:39.008Z"
   },
   {
    "duration": 1113,
    "start_time": "2024-04-29T08:22:39.601Z"
   },
   {
    "duration": 2255,
    "start_time": "2024-04-29T08:22:40.716Z"
   },
   {
    "duration": 976,
    "start_time": "2024-04-29T08:22:42.972Z"
   },
   {
    "duration": 3662,
    "start_time": "2024-04-29T08:22:43.949Z"
   },
   {
    "duration": 1031,
    "start_time": "2024-04-29T08:57:41.165Z"
   },
   {
    "duration": 1231,
    "start_time": "2024-04-29T08:57:54.771Z"
   },
   {
    "duration": 42,
    "start_time": "2024-04-29T08:57:56.004Z"
   },
   {
    "duration": 10,
    "start_time": "2024-04-29T08:57:56.048Z"
   },
   {
    "duration": 28,
    "start_time": "2024-04-29T08:57:56.059Z"
   },
   {
    "duration": 6,
    "start_time": "2024-04-29T08:57:56.089Z"
   },
   {
    "duration": 7,
    "start_time": "2024-04-29T08:57:56.096Z"
   },
   {
    "duration": 4,
    "start_time": "2024-04-29T08:57:56.104Z"
   },
   {
    "duration": 15,
    "start_time": "2024-04-29T08:57:56.109Z"
   },
   {
    "duration": 7,
    "start_time": "2024-04-29T08:57:56.125Z"
   },
   {
    "duration": 4,
    "start_time": "2024-04-29T08:57:56.134Z"
   },
   {
    "duration": 385,
    "start_time": "2024-04-29T08:57:56.139Z"
   },
   {
    "duration": 379,
    "start_time": "2024-04-29T08:57:56.525Z"
   },
   {
    "duration": 2,
    "start_time": "2024-04-29T08:57:56.905Z"
   },
   {
    "duration": 6,
    "start_time": "2024-04-29T08:57:56.908Z"
   },
   {
    "duration": 572,
    "start_time": "2024-04-29T08:57:56.915Z"
   },
   {
    "duration": 39,
    "start_time": "2024-04-29T08:57:57.489Z"
   },
   {
    "duration": 2,
    "start_time": "2024-04-29T08:57:57.529Z"
   },
   {
    "duration": 6,
    "start_time": "2024-04-29T08:57:57.532Z"
   },
   {
    "duration": 5,
    "start_time": "2024-04-29T08:57:57.539Z"
   },
   {
    "duration": 4,
    "start_time": "2024-04-29T08:57:57.546Z"
   },
   {
    "duration": 12,
    "start_time": "2024-04-29T08:57:57.551Z"
   },
   {
    "duration": 2,
    "start_time": "2024-04-29T08:57:57.564Z"
   },
   {
    "duration": 15,
    "start_time": "2024-04-29T08:57:57.567Z"
   },
   {
    "duration": 2,
    "start_time": "2024-04-29T08:57:57.583Z"
   },
   {
    "duration": 16,
    "start_time": "2024-04-29T08:57:57.586Z"
   },
   {
    "duration": 5,
    "start_time": "2024-04-29T08:57:57.603Z"
   },
   {
    "duration": 13,
    "start_time": "2024-04-29T08:57:57.609Z"
   },
   {
    "duration": 3982,
    "start_time": "2024-04-29T08:57:57.625Z"
   },
   {
    "duration": 6197,
    "start_time": "2024-04-29T08:58:01.609Z"
   },
   {
    "duration": 580,
    "start_time": "2024-04-29T08:58:07.807Z"
   },
   {
    "duration": 1127,
    "start_time": "2024-04-29T08:58:08.389Z"
   },
   {
    "duration": 2224,
    "start_time": "2024-04-29T08:58:09.518Z"
   },
   {
    "duration": 988,
    "start_time": "2024-04-29T08:58:11.744Z"
   },
   {
    "duration": 3472,
    "start_time": "2024-04-29T08:58:12.733Z"
   },
   {
    "duration": 3,
    "start_time": "2024-04-29T09:05:41.900Z"
   },
   {
    "duration": 1073,
    "start_time": "2024-04-29T09:05:43.217Z"
   },
   {
    "duration": 4,
    "start_time": "2024-04-29T09:05:58.268Z"
   },
   {
    "duration": 45,
    "start_time": "2024-04-29T09:05:58.273Z"
   },
   {
    "duration": 6,
    "start_time": "2024-04-29T09:05:58.320Z"
   },
   {
    "duration": 11,
    "start_time": "2024-04-29T09:05:58.327Z"
   },
   {
    "duration": 3,
    "start_time": "2024-04-29T09:05:58.340Z"
   },
   {
    "duration": 4,
    "start_time": "2024-04-29T09:05:58.344Z"
   },
   {
    "duration": 6,
    "start_time": "2024-04-29T09:05:58.349Z"
   },
   {
    "duration": 9,
    "start_time": "2024-04-29T09:05:58.356Z"
   },
   {
    "duration": 21,
    "start_time": "2024-04-29T09:05:58.366Z"
   },
   {
    "duration": 9,
    "start_time": "2024-04-29T09:05:58.388Z"
   },
   {
    "duration": 351,
    "start_time": "2024-04-29T09:05:58.398Z"
   },
   {
    "duration": 360,
    "start_time": "2024-04-29T09:05:58.751Z"
   },
   {
    "duration": 2,
    "start_time": "2024-04-29T09:05:59.113Z"
   },
   {
    "duration": 22,
    "start_time": "2024-04-29T09:05:59.117Z"
   },
   {
    "duration": 579,
    "start_time": "2024-04-29T09:05:59.140Z"
   },
   {
    "duration": 117,
    "start_time": "2024-04-29T09:31:59.547Z"
   },
   {
    "duration": 5,
    "start_time": "2024-04-29T09:35:27.413Z"
   },
   {
    "duration": 8,
    "start_time": "2024-04-29T09:35:34.732Z"
   },
   {
    "duration": 5,
    "start_time": "2024-04-29T09:35:59.546Z"
   },
   {
    "duration": 27,
    "start_time": "2024-04-29T09:36:08.853Z"
   },
   {
    "duration": 5,
    "start_time": "2024-04-29T09:45:34.221Z"
   },
   {
    "duration": 26,
    "start_time": "2024-04-29T09:45:34.476Z"
   },
   {
    "duration": 26,
    "start_time": "2024-04-29T09:47:31.436Z"
   },
   {
    "duration": 3,
    "start_time": "2024-04-29T09:49:43.033Z"
   },
   {
    "duration": 4,
    "start_time": "2024-04-29T09:49:43.765Z"
   },
   {
    "duration": 4,
    "start_time": "2024-04-29T09:49:44.358Z"
   },
   {
    "duration": 4,
    "start_time": "2024-04-29T09:49:44.899Z"
   },
   {
    "duration": 5,
    "start_time": "2024-04-29T09:50:58.162Z"
   },
   {
    "duration": 8,
    "start_time": "2024-04-29T09:53:09.275Z"
   },
   {
    "duration": 32,
    "start_time": "2024-04-29T09:53:16.994Z"
   },
   {
    "duration": 4,
    "start_time": "2024-04-29T09:54:00.419Z"
   },
   {
    "duration": 4,
    "start_time": "2024-04-29T09:54:08.594Z"
   },
   {
    "duration": 4,
    "start_time": "2024-04-29T09:54:09.212Z"
   },
   {
    "duration": 4,
    "start_time": "2024-04-29T09:54:11.110Z"
   },
   {
    "duration": 3,
    "start_time": "2024-04-29T09:54:16.745Z"
   },
   {
    "duration": 14,
    "start_time": "2024-04-29T09:56:47.439Z"
   },
   {
    "duration": 15,
    "start_time": "2024-04-29T09:57:00.876Z"
   },
   {
    "duration": 1270,
    "start_time": "2024-04-29T09:58:58.923Z"
   },
   {
    "duration": 43,
    "start_time": "2024-04-29T09:59:00.195Z"
   },
   {
    "duration": 14,
    "start_time": "2024-04-29T09:59:00.239Z"
   },
   {
    "duration": 110,
    "start_time": "2024-04-29T09:59:00.254Z"
   },
   {
    "duration": 66,
    "start_time": "2024-04-29T09:59:00.366Z"
   },
   {
    "duration": 22,
    "start_time": "2024-04-29T09:59:00.434Z"
   },
   {
    "duration": 21,
    "start_time": "2024-04-29T09:59:00.458Z"
   },
   {
    "duration": 38,
    "start_time": "2024-04-29T09:59:00.480Z"
   },
   {
    "duration": 27,
    "start_time": "2024-04-29T09:59:00.520Z"
   },
   {
    "duration": 52,
    "start_time": "2024-04-29T09:59:00.549Z"
   },
   {
    "duration": 434,
    "start_time": "2024-04-29T09:59:00.602Z"
   },
   {
    "duration": 441,
    "start_time": "2024-04-29T09:59:01.038Z"
   },
   {
    "duration": 2,
    "start_time": "2024-04-29T09:59:01.480Z"
   },
   {
    "duration": 45,
    "start_time": "2024-04-29T09:59:01.484Z"
   },
   {
    "duration": 612,
    "start_time": "2024-04-29T09:59:01.530Z"
   },
   {
    "duration": 5,
    "start_time": "2024-04-29T09:59:02.143Z"
   },
   {
    "duration": 64,
    "start_time": "2024-04-29T09:59:02.150Z"
   },
   {
    "duration": 3,
    "start_time": "2024-04-29T09:59:02.215Z"
   },
   {
    "duration": 23,
    "start_time": "2024-04-29T09:59:02.219Z"
   },
   {
    "duration": 7,
    "start_time": "2024-04-29T09:59:02.244Z"
   },
   {
    "duration": 6,
    "start_time": "2024-04-29T09:59:02.253Z"
   },
   {
    "duration": 18,
    "start_time": "2024-04-29T09:59:02.260Z"
   },
   {
    "duration": 26,
    "start_time": "2024-04-29T09:59:02.279Z"
   },
   {
    "duration": 125,
    "start_time": "2024-04-29T09:59:17.134Z"
   },
   {
    "duration": 16,
    "start_time": "2024-04-29T10:01:30.937Z"
   },
   {
    "duration": 6,
    "start_time": "2024-04-29T10:01:56.274Z"
   },
   {
    "duration": 14,
    "start_time": "2024-04-29T10:02:00.908Z"
   },
   {
    "duration": 6,
    "start_time": "2024-04-29T10:06:28.934Z"
   },
   {
    "duration": 15,
    "start_time": "2024-04-29T10:06:30.372Z"
   },
   {
    "duration": 5,
    "start_time": "2024-04-29T10:08:00.864Z"
   },
   {
    "duration": 13,
    "start_time": "2024-04-29T10:08:01.804Z"
   },
   {
    "duration": 3,
    "start_time": "2024-04-29T10:08:20.449Z"
   },
   {
    "duration": 3,
    "start_time": "2024-04-29T10:08:21.275Z"
   },
   {
    "duration": 4,
    "start_time": "2024-04-29T10:08:22.177Z"
   },
   {
    "duration": 3,
    "start_time": "2024-04-29T10:08:24.941Z"
   },
   {
    "duration": 4178,
    "start_time": "2024-04-29T10:08:31.332Z"
   },
   {
    "duration": 7892,
    "start_time": "2024-04-29T10:08:44.918Z"
   },
   {
    "duration": 566,
    "start_time": "2024-04-29T10:08:55.876Z"
   },
   {
    "duration": 1127,
    "start_time": "2024-04-29T10:09:02.227Z"
   },
   {
    "duration": 2229,
    "start_time": "2024-04-29T10:09:08.573Z"
   },
   {
    "duration": 1110,
    "start_time": "2024-04-29T10:09:10.803Z"
   },
   {
    "duration": 3612,
    "start_time": "2024-04-29T10:09:34.198Z"
   },
   {
    "duration": 264,
    "start_time": "2024-04-29T10:20:02.849Z"
   },
   {
    "duration": 55,
    "start_time": "2024-04-29T10:21:56.181Z"
   },
   {
    "duration": 167,
    "start_time": "2024-04-29T10:22:04.153Z"
   },
   {
    "duration": 2987,
    "start_time": "2024-04-29T10:25:00.816Z"
   },
   {
    "duration": 3100,
    "start_time": "2024-04-29T10:25:11.103Z"
   },
   {
    "duration": 4529,
    "start_time": "2024-04-29T10:25:21.085Z"
   },
   {
    "duration": 5042,
    "start_time": "2024-04-29T10:25:31.565Z"
   },
   {
    "duration": 5073,
    "start_time": "2024-04-29T10:25:42.736Z"
   },
   {
    "duration": 7473,
    "start_time": "2024-04-29T10:25:55.135Z"
   },
   {
    "duration": 5667,
    "start_time": "2024-04-29T10:26:06.536Z"
   },
   {
    "duration": 5914,
    "start_time": "2024-04-29T10:26:16.889Z"
   },
   {
    "duration": 5273,
    "start_time": "2024-04-29T10:26:28.637Z"
   },
   {
    "duration": 4039,
    "start_time": "2024-04-29T10:26:40.170Z"
   },
   {
    "duration": 5460,
    "start_time": "2024-04-29T10:26:54.652Z"
   },
   {
    "duration": 6193,
    "start_time": "2024-04-29T10:27:07.913Z"
   },
   {
    "duration": 6012,
    "start_time": "2024-04-29T10:27:18.695Z"
   },
   {
    "duration": 5552,
    "start_time": "2024-04-29T10:27:29.361Z"
   },
   {
    "duration": 6777,
    "start_time": "2024-04-29T10:27:42.225Z"
   },
   {
    "duration": 4293,
    "start_time": "2024-04-29T10:27:51.710Z"
   },
   {
    "duration": 1195,
    "start_time": "2024-04-29T10:28:12.152Z"
   },
   {
    "duration": 44,
    "start_time": "2024-04-29T10:28:13.348Z"
   },
   {
    "duration": 9,
    "start_time": "2024-04-29T10:28:13.393Z"
   },
   {
    "duration": 11,
    "start_time": "2024-04-29T10:28:13.403Z"
   },
   {
    "duration": 3,
    "start_time": "2024-04-29T10:28:13.416Z"
   },
   {
    "duration": 3,
    "start_time": "2024-04-29T10:28:13.420Z"
   },
   {
    "duration": 11,
    "start_time": "2024-04-29T10:28:13.424Z"
   },
   {
    "duration": 17,
    "start_time": "2024-04-29T10:28:13.436Z"
   },
   {
    "duration": 21,
    "start_time": "2024-04-29T10:28:13.454Z"
   },
   {
    "duration": 9,
    "start_time": "2024-04-29T10:28:13.477Z"
   },
   {
    "duration": 397,
    "start_time": "2024-04-29T10:28:13.487Z"
   },
   {
    "duration": 424,
    "start_time": "2024-04-29T10:28:13.885Z"
   },
   {
    "duration": 3,
    "start_time": "2024-04-29T10:28:14.310Z"
   },
   {
    "duration": 598,
    "start_time": "2024-04-29T10:28:14.316Z"
   },
   {
    "duration": 5,
    "start_time": "2024-04-29T10:28:14.916Z"
   },
   {
    "duration": 41,
    "start_time": "2024-04-29T10:28:14.922Z"
   },
   {
    "duration": 2,
    "start_time": "2024-04-29T10:28:14.964Z"
   },
   {
    "duration": 5,
    "start_time": "2024-04-29T10:28:14.967Z"
   },
   {
    "duration": 22,
    "start_time": "2024-04-29T10:28:14.974Z"
   },
   {
    "duration": 22,
    "start_time": "2024-04-29T10:28:14.997Z"
   },
   {
    "duration": 55,
    "start_time": "2024-04-29T10:28:15.021Z"
   },
   {
    "duration": 40,
    "start_time": "2024-04-29T10:28:15.077Z"
   },
   {
    "duration": 63,
    "start_time": "2024-04-29T10:28:15.118Z"
   },
   {
    "duration": 42,
    "start_time": "2024-04-29T10:28:15.183Z"
   },
   {
    "duration": 6,
    "start_time": "2024-04-29T10:28:15.226Z"
   },
   {
    "duration": 20,
    "start_time": "2024-04-29T10:28:15.233Z"
   },
   {
    "duration": 7,
    "start_time": "2024-04-29T10:28:15.254Z"
   },
   {
    "duration": 33,
    "start_time": "2024-04-29T10:28:15.262Z"
   },
   {
    "duration": 3909,
    "start_time": "2024-04-29T10:28:15.296Z"
   },
   {
    "duration": 7496,
    "start_time": "2024-04-29T10:28:19.206Z"
   },
   {
    "duration": 571,
    "start_time": "2024-04-29T10:28:26.704Z"
   },
   {
    "duration": 1130,
    "start_time": "2024-04-29T10:28:27.277Z"
   },
   {
    "duration": 2521,
    "start_time": "2024-04-29T10:28:28.408Z"
   },
   {
    "duration": 1157,
    "start_time": "2024-04-29T10:28:30.930Z"
   },
   {
    "duration": 3713,
    "start_time": "2024-04-29T10:28:32.089Z"
   },
   {
    "duration": 277,
    "start_time": "2024-04-29T10:28:35.804Z"
   },
   {
    "duration": 4492,
    "start_time": "2024-04-29T10:32:12.816Z"
   },
   {
    "duration": 190,
    "start_time": "2024-04-29T10:32:23.108Z"
   },
   {
    "duration": 4618,
    "start_time": "2024-04-29T10:32:55.990Z"
   },
   {
    "duration": 175,
    "start_time": "2024-04-29T10:33:06.070Z"
   },
   {
    "duration": 1235,
    "start_time": "2024-04-29T10:33:48.373Z"
   },
   {
    "duration": 45,
    "start_time": "2024-04-29T10:33:49.610Z"
   },
   {
    "duration": 8,
    "start_time": "2024-04-29T10:33:49.657Z"
   },
   {
    "duration": 8,
    "start_time": "2024-04-29T10:33:49.666Z"
   },
   {
    "duration": 3,
    "start_time": "2024-04-29T10:33:49.676Z"
   },
   {
    "duration": 8,
    "start_time": "2024-04-29T10:33:49.680Z"
   },
   {
    "duration": 12,
    "start_time": "2024-04-29T10:33:49.689Z"
   },
   {
    "duration": 7,
    "start_time": "2024-04-29T10:33:49.702Z"
   },
   {
    "duration": 5,
    "start_time": "2024-04-29T10:33:49.710Z"
   },
   {
    "duration": 9,
    "start_time": "2024-04-29T10:33:49.716Z"
   },
   {
    "duration": 418,
    "start_time": "2024-04-29T10:33:49.726Z"
   },
   {
    "duration": 440,
    "start_time": "2024-04-29T10:33:50.145Z"
   },
   {
    "duration": 3,
    "start_time": "2024-04-29T10:33:50.586Z"
   },
   {
    "duration": 588,
    "start_time": "2024-04-29T10:33:50.591Z"
   },
   {
    "duration": 5,
    "start_time": "2024-04-29T10:33:51.181Z"
   },
   {
    "duration": 44,
    "start_time": "2024-04-29T10:33:51.187Z"
   },
   {
    "duration": 2,
    "start_time": "2024-04-29T10:33:51.233Z"
   },
   {
    "duration": 7,
    "start_time": "2024-04-29T10:33:51.237Z"
   },
   {
    "duration": 12,
    "start_time": "2024-04-29T10:33:51.245Z"
   },
   {
    "duration": 9,
    "start_time": "2024-04-29T10:33:51.258Z"
   },
   {
    "duration": 6,
    "start_time": "2024-04-29T10:33:51.269Z"
   },
   {
    "duration": 3,
    "start_time": "2024-04-29T10:33:51.277Z"
   },
   {
    "duration": 7,
    "start_time": "2024-04-29T10:33:51.281Z"
   },
   {
    "duration": 22,
    "start_time": "2024-04-29T10:33:51.289Z"
   },
   {
    "duration": 2,
    "start_time": "2024-04-29T10:33:51.313Z"
   },
   {
    "duration": 7,
    "start_time": "2024-04-29T10:33:51.316Z"
   },
   {
    "duration": 4,
    "start_time": "2024-04-29T10:33:51.324Z"
   },
   {
    "duration": 9,
    "start_time": "2024-04-29T10:33:51.329Z"
   },
   {
    "duration": 4063,
    "start_time": "2024-04-29T10:33:51.339Z"
   },
   {
    "duration": 7203,
    "start_time": "2024-04-29T10:33:55.403Z"
   },
   {
    "duration": 591,
    "start_time": "2024-04-29T10:34:02.607Z"
   },
   {
    "duration": 1112,
    "start_time": "2024-04-29T10:34:03.201Z"
   },
   {
    "duration": 2400,
    "start_time": "2024-04-29T10:34:04.314Z"
   },
   {
    "duration": 945,
    "start_time": "2024-04-29T10:34:06.715Z"
   },
   {
    "duration": 4349,
    "start_time": "2024-04-29T10:34:07.662Z"
   },
   {
    "duration": 323,
    "start_time": "2024-04-29T10:34:12.019Z"
   },
   {
    "duration": 129,
    "start_time": "2024-04-29T10:35:34.045Z"
   },
   {
    "duration": 185,
    "start_time": "2024-04-29T10:35:40.331Z"
   },
   {
    "duration": 1220,
    "start_time": "2024-04-29T10:38:51.904Z"
   },
   {
    "duration": 44,
    "start_time": "2024-04-29T10:38:53.126Z"
   },
   {
    "duration": 8,
    "start_time": "2024-04-29T10:38:53.172Z"
   },
   {
    "duration": 8,
    "start_time": "2024-04-29T10:38:53.181Z"
   },
   {
    "duration": 7,
    "start_time": "2024-04-29T10:38:53.191Z"
   },
   {
    "duration": 4,
    "start_time": "2024-04-29T10:38:53.199Z"
   },
   {
    "duration": 14,
    "start_time": "2024-04-29T10:38:53.204Z"
   },
   {
    "duration": 14,
    "start_time": "2024-04-29T10:38:53.219Z"
   },
   {
    "duration": 12,
    "start_time": "2024-04-29T10:38:53.234Z"
   },
   {
    "duration": 8,
    "start_time": "2024-04-29T10:38:53.247Z"
   },
   {
    "duration": 372,
    "start_time": "2024-04-29T10:38:53.256Z"
   },
   {
    "duration": 421,
    "start_time": "2024-04-29T10:38:53.629Z"
   },
   {
    "duration": 2,
    "start_time": "2024-04-29T10:38:54.052Z"
   },
   {
    "duration": 575,
    "start_time": "2024-04-29T10:38:54.057Z"
   },
   {
    "duration": 5,
    "start_time": "2024-04-29T10:38:54.633Z"
   },
   {
    "duration": 33,
    "start_time": "2024-04-29T10:38:54.640Z"
   },
   {
    "duration": 2,
    "start_time": "2024-04-29T10:38:54.674Z"
   },
   {
    "duration": 18,
    "start_time": "2024-04-29T10:38:54.677Z"
   },
   {
    "duration": 12,
    "start_time": "2024-04-29T10:38:54.697Z"
   },
   {
    "duration": 10,
    "start_time": "2024-04-29T10:38:54.710Z"
   },
   {
    "duration": 8,
    "start_time": "2024-04-29T10:38:54.721Z"
   },
   {
    "duration": 9,
    "start_time": "2024-04-29T10:38:54.730Z"
   },
   {
    "duration": 6,
    "start_time": "2024-04-29T10:38:54.740Z"
   },
   {
    "duration": 13,
    "start_time": "2024-04-29T10:38:54.747Z"
   },
   {
    "duration": 3,
    "start_time": "2024-04-29T10:38:54.761Z"
   },
   {
    "duration": 6,
    "start_time": "2024-04-29T10:38:54.765Z"
   },
   {
    "duration": 18,
    "start_time": "2024-04-29T10:38:54.773Z"
   },
   {
    "duration": 7,
    "start_time": "2024-04-29T10:38:54.792Z"
   },
   {
    "duration": 4312,
    "start_time": "2024-04-29T10:38:54.801Z"
   },
   {
    "duration": 7496,
    "start_time": "2024-04-29T10:38:59.115Z"
   },
   {
    "duration": 617,
    "start_time": "2024-04-29T10:39:06.613Z"
   },
   {
    "duration": 46,
    "start_time": "2024-06-03T13:25:20.787Z"
   },
   {
    "duration": 7,
    "start_time": "2024-06-03T13:25:25.934Z"
   },
   {
    "duration": 1372,
    "start_time": "2024-06-03T13:25:34.206Z"
   },
   {
    "duration": 92,
    "start_time": "2024-06-03T13:25:35.580Z"
   },
   {
    "duration": 10,
    "start_time": "2024-06-03T13:25:35.673Z"
   },
   {
    "duration": 60,
    "start_time": "2024-06-03T13:25:35.685Z"
   },
   {
    "duration": 4,
    "start_time": "2024-06-03T13:25:35.747Z"
   },
   {
    "duration": 4,
    "start_time": "2024-06-03T13:25:35.752Z"
   },
   {
    "duration": 7,
    "start_time": "2024-06-03T13:25:35.757Z"
   },
   {
    "duration": 22,
    "start_time": "2024-06-03T13:25:35.766Z"
   },
   {
    "duration": 8,
    "start_time": "2024-06-03T13:25:35.790Z"
   },
   {
    "duration": 10,
    "start_time": "2024-06-03T13:25:35.801Z"
   },
   {
    "duration": 419,
    "start_time": "2024-06-03T13:25:35.813Z"
   },
   {
    "duration": 465,
    "start_time": "2024-06-03T13:25:36.233Z"
   },
   {
    "duration": 4,
    "start_time": "2024-06-03T13:25:36.699Z"
   },
   {
    "duration": 678,
    "start_time": "2024-06-03T13:25:36.704Z"
   },
   {
    "duration": 5,
    "start_time": "2024-06-03T13:25:37.384Z"
   },
   {
    "duration": 44,
    "start_time": "2024-06-03T13:25:37.391Z"
   },
   {
    "duration": 3,
    "start_time": "2024-06-03T13:25:37.437Z"
   },
   {
    "duration": 12,
    "start_time": "2024-06-03T13:25:37.441Z"
   },
   {
    "duration": 12,
    "start_time": "2024-06-03T13:25:37.464Z"
   },
   {
    "duration": 10,
    "start_time": "2024-06-03T13:25:37.477Z"
   },
   {
    "duration": 16,
    "start_time": "2024-06-03T13:25:37.489Z"
   },
   {
    "duration": 3,
    "start_time": "2024-06-03T13:25:37.507Z"
   },
   {
    "duration": 10,
    "start_time": "2024-06-03T13:25:37.511Z"
   },
   {
    "duration": 42,
    "start_time": "2024-06-03T13:25:37.523Z"
   },
   {
    "duration": 6,
    "start_time": "2024-06-03T13:25:37.566Z"
   },
   {
    "duration": 14,
    "start_time": "2024-06-03T13:25:37.574Z"
   },
   {
    "duration": 7,
    "start_time": "2024-06-03T13:25:37.589Z"
   },
   {
    "duration": 4,
    "start_time": "2024-06-03T13:25:37.599Z"
   },
   {
    "duration": 5269,
    "start_time": "2024-06-03T13:25:37.605Z"
   },
   {
    "duration": 8899,
    "start_time": "2024-06-03T13:25:42.875Z"
   },
   {
    "duration": 614,
    "start_time": "2024-06-03T13:25:51.777Z"
   },
   {
    "duration": 1132,
    "start_time": "2024-06-03T13:25:52.393Z"
   },
   {
    "duration": 2510,
    "start_time": "2024-06-03T13:25:53.526Z"
   },
   {
    "duration": 1466,
    "start_time": "2024-06-07T15:12:51.846Z"
   },
   {
    "duration": 94,
    "start_time": "2024-06-07T15:12:53.314Z"
   },
   {
    "duration": 10,
    "start_time": "2024-06-07T15:12:53.410Z"
   },
   {
    "duration": 10,
    "start_time": "2024-06-07T15:12:53.422Z"
   },
   {
    "duration": 4,
    "start_time": "2024-06-07T15:12:53.433Z"
   },
   {
    "duration": 3,
    "start_time": "2024-06-07T15:12:53.438Z"
   },
   {
    "duration": 6,
    "start_time": "2024-06-07T15:12:53.442Z"
   },
   {
    "duration": 8,
    "start_time": "2024-06-07T15:12:53.449Z"
   },
   {
    "duration": 5,
    "start_time": "2024-06-07T15:12:53.458Z"
   },
   {
    "duration": 6,
    "start_time": "2024-06-07T15:12:53.465Z"
   },
   {
    "duration": 500,
    "start_time": "2024-06-07T15:12:53.472Z"
   },
   {
    "duration": 461,
    "start_time": "2024-06-07T15:12:53.974Z"
   },
   {
    "duration": 4,
    "start_time": "2024-06-07T15:12:54.436Z"
   },
   {
    "duration": 634,
    "start_time": "2024-06-07T15:12:54.442Z"
   },
   {
    "duration": 6,
    "start_time": "2024-06-07T15:12:55.078Z"
   },
   {
    "duration": 47,
    "start_time": "2024-06-07T15:12:55.086Z"
   },
   {
    "duration": 3,
    "start_time": "2024-06-07T15:12:55.135Z"
   },
   {
    "duration": 33,
    "start_time": "2024-06-07T15:12:55.140Z"
   },
   {
    "duration": 10,
    "start_time": "2024-06-07T15:12:55.175Z"
   },
   {
    "duration": 7,
    "start_time": "2024-06-07T15:12:55.186Z"
   },
   {
    "duration": 5,
    "start_time": "2024-06-07T15:12:55.195Z"
   },
   {
    "duration": 3,
    "start_time": "2024-06-07T15:12:55.201Z"
   },
   {
    "duration": 13,
    "start_time": "2024-06-07T15:12:55.206Z"
   },
   {
    "duration": 16,
    "start_time": "2024-06-07T15:12:55.221Z"
   },
   {
    "duration": 3,
    "start_time": "2024-06-07T15:12:55.238Z"
   },
   {
    "duration": 33,
    "start_time": "2024-06-07T15:12:55.242Z"
   },
   {
    "duration": 7,
    "start_time": "2024-06-07T15:12:55.276Z"
   },
   {
    "duration": 15,
    "start_time": "2024-06-07T15:12:55.286Z"
   },
   {
    "duration": 4010,
    "start_time": "2024-06-07T15:12:55.303Z"
   },
   {
    "duration": 6400,
    "start_time": "2024-06-07T15:12:59.315Z"
   },
   {
    "duration": 690,
    "start_time": "2024-06-07T15:13:05.717Z"
   },
   {
    "duration": 1232,
    "start_time": "2024-06-07T15:13:06.408Z"
   },
   {
    "duration": 2428,
    "start_time": "2024-06-07T15:13:07.641Z"
   },
   {
    "duration": 1115,
    "start_time": "2024-06-07T15:13:10.070Z"
   },
   {
    "duration": 5033,
    "start_time": "2024-06-07T15:13:11.187Z"
   },
   {
    "duration": 277,
    "start_time": "2024-06-07T15:13:16.312Z"
   }
  ],
  "kernelspec": {
   "display_name": "Python 3 (ipykernel)",
   "language": "python",
   "name": "python3"
  },
  "language_info": {
   "codemirror_mode": {
    "name": "ipython",
    "version": 3
   },
   "file_extension": ".py",
   "mimetype": "text/x-python",
   "name": "python",
   "nbconvert_exporter": "python",
   "pygments_lexer": "ipython3",
   "version": "3.11.5"
  },
  "toc": {
   "base_numbering": 1,
   "nav_menu": {},
   "number_sections": true,
   "sideBar": true,
   "skip_h1_title": true,
   "title_cell": "Содержание",
   "title_sidebar": "Contents",
   "toc_cell": true,
   "toc_position": {},
   "toc_section_display": true,
   "toc_window_display": true
  }
 },
 "nbformat": 4,
 "nbformat_minor": 2
}
